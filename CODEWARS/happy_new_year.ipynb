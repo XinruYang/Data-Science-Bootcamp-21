{
 "metadata": {
  "language_info": {
   "codemirror_mode": {
    "name": "ipython",
    "version": 3
   },
   "file_extension": ".py",
   "mimetype": "text/x-python",
   "name": "python",
   "nbconvert_exporter": "python",
   "pygments_lexer": "ipython3",
   "version": "3.7.4"
  },
  "orig_nbformat": 2,
  "kernelspec": {
   "name": "python374jvsc74a57bd0fc2c00f0e2c44cb4028bd693f18a1b5d93d1de4cd12db71fca36ff691a163044",
   "display_name": "Python 3.7.4 64-bit"
  },
  "metadata": {
   "interpreter": {
    "hash": "fc2c00f0e2c44cb4028bd693f18a1b5d93d1de4cd12db71fca36ff691a163044"
   }
  }
 },
 "nbformat": 4,
 "nbformat_minor": 2,
 "cells": [
  {
   "cell_type": "code",
   "execution_count": 1,
   "metadata": {},
   "outputs": [
    {
     "output_type": "stream",
     "name": "stdout",
     "text": [
      "Año: 2021\nLen: 3\nConjunto: {'0', '1', '2'}\nlista: ['2', '0', '2', '1']\n----------------------------\nAño: 2022\nLen: 2\nConjunto: {'0', '2'}\nlista: ['2', '0', '2', '2']\n----------------------------\nAño: 2023\nLen: 3\nConjunto: {'0', '3', '2'}\nlista: ['2', '0', '2', '3']\n----------------------------\nAño: 2024\nLen: 3\nConjunto: {'0', '4', '2'}\nlista: ['2', '0', '2', '4']\n----------------------------\nAño: 2025\nLen: 3\nConjunto: {'0', '2', '5'}\nlista: ['2', '0', '2', '5']\n----------------------------\nAño: 2026\nLen: 3\nConjunto: {'0', '6', '2'}\nlista: ['2', '0', '2', '6']\n----------------------------\nAño: 2027\nLen: 3\nConjunto: {'0', '7', '2'}\nlista: ['2', '0', '2', '7']\n----------------------------\nAño: 2028\nLen: 3\nConjunto: {'0', '2', '8'}\nlista: ['2', '0', '2', '8']\n----------------------------\nAño: 2029\nLen: 3\nConjunto: {'0', '2', '9'}\nlista: ['2', '0', '2', '9']\n----------------------------\nAño: 2030\nLen: 3\nConjunto: {'0', '3', '2'}\nlista: ['2', '0', '3', '0']\n----------------------------\nAño: 2031\nLen: 4\nConjunto: {'0', '3', '1', '2'}\nlista: ['2', '0', '3', '1']\n----------------------------\nOUTPUT\n4\n{'0', '3', '1', '2'}\n['2', '0', '3', '1']\n"
     ]
    },
    {
     "output_type": "execute_result",
     "data": {
      "text/plain": [
       "2031"
      ]
     },
     "metadata": {},
     "execution_count": 1
    }
   ],
   "source": [
    "def next_happy_year(year):\n",
    "    happy_year = True\n",
    "    while happy_year == True:\n",
    "        year += 1\n",
    "        print(\"Año:\",year)\n",
    "        print(\"Len:\", len(set(list(str(year)))))\n",
    "        print(\"Conjunto:\",set(list(str(year))))\n",
    "        print(\"lista:\",list(str(year)))\n",
    "        print(\"----------------------------\")\n",
    "        if len(set(list(str(year)))) == 4:\n",
    "            happy_year = False\n",
    "            print(\"OUTPUT\")\n",
    "            print(len(set(list(str(year)))))\n",
    "            print(set(list(str(year))))\n",
    "            print(list(str(year)))\n",
    "    return year\n",
    "\n",
    "next_happy_year(2020)\n"
   ]
  },
  {
   "cell_type": "code",
   "execution_count": 2,
   "metadata": {},
   "outputs": [
    {
     "output_type": "stream",
     "name": "stdout",
     "text": [
      "2021\n\n2022\n2023\n2024\n2025\n2026\n2027\n2028\n2029\n2030\n2031\n"
     ]
    },
    {
     "output_type": "execute_result",
     "data": {
      "text/plain": [
       "('next happy year:', 2031)"
      ]
     },
     "metadata": {},
     "execution_count": 2
    }
   ],
   "source": [
    "def next_happy_year(year):\n",
    "    year += 1\n",
    "    print(year)\n",
    "    print()\n",
    "    while len(set(str(year))) != 4:\n",
    "        year += 1\n",
    "        print(year)\n",
    "    \n",
    "    return \"next happy year:\",year\n",
    "\n",
    "next_happy_year(2020)"
   ]
  },
  {
   "cell_type": "code",
   "execution_count": null,
   "metadata": {},
   "outputs": [],
   "source": []
  }
 ]
}