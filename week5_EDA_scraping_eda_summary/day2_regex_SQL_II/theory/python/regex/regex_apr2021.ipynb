{
 "cells": [
  {
   "cell_type": "markdown",
   "metadata": {},
   "source": [
    "# Regular Expressions (RegEx)"
   ]
  },
  {
   "cell_type": "markdown",
   "metadata": {},
   "source": [
    "A regular expression, regex or regexp is a sequence of characters that define a search pattern."
   ]
  },
  {
   "cell_type": "markdown",
   "metadata": {},
   "source": [
    "![regex](https://miro.medium.com/max/1200/1*ZVlIZ1ZYC6rASz-dYPzhZQ.jpeg)"
   ]
  },
  {
   "cell_type": "markdown",
   "metadata": {},
   "source": [
    "**references**\n",
    "\n",
    "- https://docs.python.org/3/howto/regex.html\n",
    "- https://www.datacamp.com/community/tutorials/python-regular-expression-tutorial\n",
    "- https://www.dataquest.io/blog/regular-expressions-data-scientists/\n",
    "- https://www.kaggle.com/rtatman/fraudulent-email-corpus\n",
    "\n",
    "**may save your life**\n",
    "\n",
    "- https://regex101.com/"
   ]
  },
  {
   "cell_type": "markdown",
   "metadata": {},
   "source": [
    "### First things first"
   ]
  },
  {
   "cell_type": "markdown",
   "metadata": {},
   "source": [
    "For the standard case **import re** should be enough. For the later case **pip3 install regex** should install it."
   ]
  },
  {
   "cell_type": "code",
   "execution_count": 2,
   "metadata": {},
   "outputs": [],
   "source": [
    "import re\n",
    "import numpy as np\n",
    "import pandas as pd"
   ]
  },
  {
   "cell_type": "markdown",
   "metadata": {},
   "source": [
    "## Sintax\n",
    "### Special Characters:\n",
    "- `.` Matches any character except a newline.\n",
    "- `^` Matches the start of the string.\n",
    "- `$` Matches the end of the string or just before the newline at the end of the string.\n",
    "- `*` Matches 0 or more repetitions of the preceding RE.\n",
    "- `+` Matches 1 or more repetitions of the preceding RE.\n",
    "- `?` Matches 0 or 1 repetitions of the preceding RE.\n",
    "- NOTA: re.M -> modo multilinea\n",
    "\n",
    "https://docs.python.org/3/library/re.html#re-syntax\n",
    "\n"
   ]
  },
  {
   "source": [
    "Con el . buscamos lo que pongamos\n",
    "Con ^ buscamos lo que empiece por eso: ^m que empiece por m\n",
    "$ para encontrar al final del string\n",
    "* busca entre 0 y muchas repeticiones, por ejemplo, buscame la b que puede estar 0 veces o estar muchas veces\n",
    "+ busca algo que mínimo aparezca una vez o muchas veces\n",
    "? busca algo que busca una o cero veces"
   ],
   "cell_type": "markdown",
   "metadata": {}
  },
  {
   "cell_type": "markdown",
   "metadata": {},
   "source": [
    "### Special Sequences:\n",
    "\n",
    "- **Literals** `a` (busca el valor)\n",
    "- **Alternation** `a|b` (buscame una a o una b)\n",
    "- **Character sets** `[ab]`, `[^ab]` (buscame a o una b)(el gorrito signigica que no esté ni a ni b)\n",
    "- **Wildcards** `.` \n",
    "- **Escape special characters** `\\` (.,?,*,+,^,&) (Para buscar estos signos hay que poner la barra delante)\n",
    "- **Ranges** `[a-d]`, `[1-9]` (Estarmos dando un rango)\n",
    "\n",
    "- **Quantifiers** `{2}`, `{2,}`, `{2,4}`, `?`, `*`, `+` \n",
    "\n",
    "    Ejemplo: [0-9]{2} (salvo que pongamos un cuantificador nos va seleccionano uno por uno, si pongo {2} me busca números del 0 al 9 que vayan seguidos)\n",
    "\n",
    "- **Grouping** `()` (Podemos iterar por este grupo)\n",
    "\n",
    "\n",
    "- **Anchors** `^`, `$`\n",
    "- **Character classes** `\\w`, `\\d`, `\\s`, `\\n`, `\\W`, `\\D`, `\\S`\n",
    "\n",
    "\n",
    "**\\w** - Matches any alphanumeric character (digits and alphabets). Equivalent to `[a-zA-Z0-9_]`. By the way, underscore _ is also considered an alphanumeric character. Busca todos los caracteres alphanumericos. \n",
    "\n",
    "**\\d** - Matches any digit. Equivalent to `[0-9]` . Busca todos los caracteres que sean dígitos. \n",
    "\n",
    "**\\s** - Matches where a string contains any whitespace character. Equivalent to `[ \\t\\n\\r\\f\\v]` .Busca los espacios, como tabulador o salto de linea.\n",
    "\n",
    "**\\W** - Matches any non-alphanumeric character. Equivalent to `[^a-zA-Z0-9_]`\n",
    "\n",
    "**\\D** - Matches any non digit. Equivalent to `[^0-9]` \n",
    "\n",
    "**\\S** - Matches where a string contains any non-whitespace character. Equivalent to `[^ \\t\\n\\r\\f\\v]`\n",
    "\n"
   ]
  },
  {
   "cell_type": "markdown",
   "metadata": {},
   "source": [
    "### Methods"
   ]
  },
  {
   "cell_type": "markdown",
   "metadata": {},
   "source": [
    "### re.sub(pattern, repl, string, count=0)\n",
    "Replaces one or many matches with a string"
   ]
  },
  {
   "cell_type": "code",
   "execution_count": 3,
   "metadata": {},
   "outputs": [],
   "source": [
    "txt = \"gabriel, Mónica, Borja and Clara are TA's??\""
   ]
  },
  {
   "cell_type": "code",
   "execution_count": 6,
   "metadata": {},
   "outputs": [
    {
     "output_type": "execute_result",
     "data": {
      "text/plain": [
       "\"Gabriel, Mónica, Borja and Clara are TA's??\""
      ]
     },
     "metadata": {},
     "execution_count": 6
    }
   ],
   "source": [
    "#re.sub\n",
    "#Literals\n",
    "re.sub('g','G',txt) # Estoy buscando la letra g y la estoy sustituyendo por la G, regex va en la primera posición que escribamos. La \"G\" mayuscula no es un regex, es un string"
   ]
  },
  {
   "cell_type": "code",
   "execution_count": 7,
   "metadata": {},
   "outputs": [
    {
     "output_type": "execute_result",
     "data": {
      "text/plain": [
       "\"gabriel, ónica, orja and lara are 's??\""
      ]
     },
     "metadata": {},
     "execution_count": 7
    }
   ],
   "source": [
    "#Ranges\n",
    "re.sub(r'[A-Z]','',txt) # la r significa regex no hace nada por si misma, es sinónimo de : re.sub('[A-Z]','',txt)"
   ]
  },
  {
   "cell_type": "code",
   "execution_count": 5,
   "metadata": {},
   "outputs": [
    {
     "data": {
      "text/plain": [
       "\"gabriel, Mónica, Borja and Clara are TA's.\""
      ]
     },
     "execution_count": 5,
     "metadata": {},
     "output_type": "execute_result"
    }
   ],
   "source": [
    "#Escape special character, quantifiers\n",
    "re.sub('\\?{2}','.',txt) # Queremos buscar la interrogación literalmente"
   ]
  },
  {
   "cell_type": "code",
   "execution_count": 8,
   "metadata": {},
   "outputs": [
    {
     "output_type": "execute_result",
     "data": {
      "text/plain": [
       "\"gabriel, Mónica, Borja and Clara are TA's..\""
      ]
     },
     "metadata": {},
     "execution_count": 8
    }
   ],
   "source": [
    "re.sub('\\?','.',txt) # Queremos buscar la interrogación literalmente"
   ]
  },
  {
   "cell_type": "code",
   "execution_count": 9,
   "metadata": {},
   "outputs": [
    {
     "output_type": "execute_result",
     "data": {
      "text/plain": [
       "\"gabriel, Mónica, Borja and Clara are TA's?\""
      ]
     },
     "metadata": {},
     "execution_count": 9
    }
   ],
   "source": [
    "txt = \"gabriel, Mónica, Borja and Clara are TA's?\"\n",
    "re.sub('\\?{2}','.',txt) #Aquí no lo encuentra porque no pone dos interrogaciones seguidas"
   ]
  },
  {
   "cell_type": "markdown",
   "metadata": {},
   "source": [
    "### re.search(pattern, string, flags=0)\n",
    "Scan through a string, looking for any location where this RE matches. If the search is succesful, `re.search()` returns a match object. Otherwise, it returns `None`."
   ]
  },
  {
   "cell_type": "code",
   "execution_count": 10,
   "metadata": {},
   "outputs": [
    {
     "output_type": "execute_result",
     "data": {
      "text/plain": [
       "<re.Match object; span=(0, 17), match='The rain in Spain'>"
      ]
     },
     "metadata": {},
     "execution_count": 10
    }
   ],
   "source": [
    "#re.search\n",
    "txt = \"The rain in Spain\"\n",
    "x = re.search(\"^The.*Spain$\", txt) # Que en el principio ponga The, .* es todo lo que ponga en medio y que al final ponga Spain, para que haga match. \n",
    "x"
   ]
  },
  {
   "cell_type": "code",
   "execution_count": 7,
   "metadata": {},
   "outputs": [
    {
     "name": "stdout",
     "output_type": "stream",
     "text": [
      "None\n"
     ]
    }
   ],
   "source": [
    "y = re.search(\"^Hola.*\", txt) # Empueza por Hola y .* Cualquier cosa que venga detrás\n",
    "print(y)"
   ]
  },
  {
   "cell_type": "code",
   "execution_count": 8,
   "metadata": {},
   "outputs": [
    {
     "name": "stdout",
     "output_type": "stream",
     "text": [
      "<re.Match object; span=(12, 17), match='Spain'>\n",
      "(12, 17)\n",
      "12\n",
      "17\n",
      "The rain in Spain\n",
      "Spain\n"
     ]
    }
   ],
   "source": [
    "txt = \"The rain in Spain\"\n",
    "#\\b whole words only\n",
    "x = re.search(r\"\\bS\\w+\", txt) # la \\b busca lo que venga justo seguido. Busca lo que empiece por S y luego venga seguido de caracteres alphanumericos\n",
    "print(x)\n",
    "print(x.span())\n",
    "#returns a tuple containing the start-, and end positions of the match\n",
    "print(x.start())\n",
    "#contains the start position of the match\n",
    "print(x.end())\n",
    "#contains the end position of the match\n",
    "print(x.string)\n",
    "#print the string passed into the function (variable 'txt')\n",
    "print(x.group())\n",
    "#Print the part of the string where there was a match"
   ]
  },
  {
   "cell_type": "code",
   "execution_count": 9,
   "metadata": {},
   "outputs": [
    {
     "name": "stdout",
     "output_type": "stream",
     "text": [
      "<re.Match object; span=(4, 8), match='rain'>\n",
      "None\n",
      "<re.Match object; span=(0, 3), match='The'>\n",
      "None\n"
     ]
    }
   ],
   "source": [
    "print(re.search(r'r\\w*', txt))\n",
    "print(re.search(r'R\\w*', txt))\n",
    "print(re.search(r'^T\\w*', txt))\n",
    "print(re.search(r'^t\\w*', txt))"
   ]
  },
  {
   "cell_type": "markdown",
   "metadata": {},
   "source": [
    "### re.match(pattern, string)\n",
    "Determine if the RE matches at the **beginning** of the string."
   ]
  },
  {
   "cell_type": "code",
   "execution_count": 12,
   "metadata": {},
   "outputs": [
    {
     "output_type": "stream",
     "name": "stdout",
     "text": [
      "Not a match!\n"
     ]
    }
   ],
   "source": [
    "#re.match\n",
    "pattern = r\"Cookie\"\n",
    "sequence = \"I want a Cookie\"\n",
    "sequence2= \"Cookie, I want you!\"\n",
    "if re.match(pattern, sequence): # tiene que buscar coincidencia y además tiene que estar al principio\n",
    "    print(\"Match!\")\n",
    "else: \n",
    "    print(\"Not a match!\")"
   ]
  },
  {
   "cell_type": "code",
   "execution_count": 66,
   "metadata": {},
   "outputs": [
    {
     "output_type": "stream",
     "name": "stdout",
     "text": [
      "None\nNone\n<re.Match object; span=(0, 3), match='The'>\n<re.Match object; span=(0, 3), match='The'>\n"
     ]
    }
   ],
   "source": [
    "txt = \"The rain in Madrid\"\n",
    "#matches at the beginning of the string\n",
    "print(re.match(r'r\\w*', txt))\n",
    "print(re.match(r'^r\\w*', txt))\n",
    "print(re.match(r'^T\\w*', txt))\n",
    "print(re.match(r'T\\w*', txt))"
   ]
  },
  {
   "cell_type": "code",
   "execution_count": 12,
   "metadata": {},
   "outputs": [
    {
     "name": "stdout",
     "output_type": "stream",
     "text": [
      "support@thebridge.com\n",
      "support\n",
      "thebridge.com\n"
     ]
    }
   ],
   "source": [
    "email_address = 'Please contact us at: support@thebridge.com'\n",
    "match = re.search(r'(\\w+)@([\\w\\.]+)', email_address) # Minimo tiene que haber algo delante del @ (primer +) , los corchetes son una lista de opciones, por lo que \\w son todos los alphanumericos y \\. cuenta el punto, el + final nos dice que tiene que haber algo detrás del @\n",
    "if match:\n",
    "    print(match.group()) # The whole matched text\n",
    "    print(match.group(1)) # The username (group 1)\n",
    "    print(match.group(2)) # The host (group 2)"
   ]
  },
  {
   "cell_type": "markdown",
   "metadata": {},
   "source": [
    "### re.fullmatch(pattern, string)"
   ]
  },
  {
   "cell_type": "code",
   "execution_count": 13,
   "metadata": {},
   "outputs": [
    {
     "name": "stdout",
     "output_type": "stream",
     "text": [
      "Karina is not desired name\n",
      "Marina is not desired name\n",
      "Isabel is desired name\n",
      "Gina is not desired name\n",
      "Xinru is not desired name\n",
      "Sonia is not desired name\n",
      "Marycruz is not desired name\n"
     ]
    }
   ],
   "source": [
    "class_names = [\"Karina\", \"Marina\", \"Isabel\", \"Gina\", \"Xinru\", \"Sonia\", \"Marycruz\"]\n",
    "for name in class_names:\n",
    "    if re.fullmatch(\"Isabel\", name):\n",
    "        print(f\"{name} is desired name\")\n",
    "    else:\n",
    "        print(f\"{name} is not desired name\")"
   ]
  },
  {
   "cell_type": "markdown",
   "metadata": {},
   "source": [
    "### re.findall (pattern, string)\n",
    "Find all substrings where the RE matches, and returns them as a list."
   ]
  },
  {
   "cell_type": "code",
   "execution_count": 14,
   "metadata": {},
   "outputs": [
    {
     "output_type": "execute_result",
     "data": {
      "text/plain": [
       "['support.data@data-science.com', 'xyz@thebridge.com']"
      ]
     },
     "metadata": {},
     "execution_count": 14
    }
   ],
   "source": [
    "#re.findall\n",
    "email_address = \"Please contact us at: support.data@data-science.com, xyz@thebridge.com\"\n",
    "\n",
    "#'addresses' is a list that stores all the possible match\n",
    "addresses = re.findall(r'[\\w\\.]+@[\\w\\.-]+', email_address) #\n",
    "addresses"
   ]
  },
  {
   "cell_type": "code",
   "execution_count": 20,
   "metadata": {},
   "outputs": [
    {
     "output_type": "execute_result",
     "data": {
      "text/plain": [
       "[('support.data', 'data-science.com'), ('xyz', 'thebridge.com')]"
      ]
     },
     "metadata": {},
     "execution_count": 20
    }
   ],
   "source": [
    "#re.findall\n",
    "email_address = \"Please contact us at: support.data@data-science.com, xyz@thebridge.com\"\n",
    "\n",
    "#'addresses' is a list that stores all the possible match\n",
    "addresses = re.findall(r'([\\w\\.]+)@([\\w\\.-]+)', email_address) #\n",
    "addresses"
   ]
  },
  {
   "cell_type": "code",
   "execution_count": 15,
   "metadata": {},
   "outputs": [
    {
     "name": "stdout",
     "output_type": "stream",
     "text": [
      "['P', 'l', 's', 'c', 'n', 't', 'c', 't', 's', 't', ':', 's', 'p', 'p', 'r', 't', '.', 'd', 't', '@', 'd', 't', '-', 's', 'c', 'n', 'c', '.', 'c', 'm', ',', 'x', 'y', 'z', '@', 't', 'h', 'b', 'r', 'd', 'g', '.', 'c', 'm']\n"
     ]
    }
   ],
   "source": [
    "print(re.findall('[^aeiou\\s]',email_address))"
   ]
  },
  {
   "cell_type": "code",
   "execution_count": 17,
   "metadata": {},
   "outputs": [
    {
     "output_type": "execute_result",
     "data": {
      "text/plain": [
       "['support.data', 'xyz']"
      ]
     },
     "metadata": {},
     "execution_count": 17
    }
   ],
   "source": [
    "lista = []\n",
    "for a in addresses:\n",
    "    lista.append(re.search(r\"[\\w\\.-]+\", a).group())\n",
    "lista\n"
   ]
  },
  {
   "cell_type": "markdown",
   "metadata": {},
   "source": [
    "**¿Qué me van a devolver las siguientes dos líneas de código?**\n",
    "\n"
   ]
  },
  {
   "cell_type": "code",
   "execution_count": 21,
   "metadata": {},
   "outputs": [
    {
     "output_type": "stream",
     "name": "stdout",
     "text": [
      "[' contact']\n['Please']\n"
     ]
    }
   ],
   "source": [
    "print(re.findall('\\sc\\w*', email_address))\n",
    "print(re.findall('^P\\w*', email_address))"
   ]
  },
  {
   "cell_type": "code",
   "execution_count": 22,
   "metadata": {},
   "outputs": [
    {
     "output_type": "stream",
     "name": "stdout",
     "text": [
      "['contact', 'cience', 'com', 'com']\n"
     ]
    }
   ],
   "source": [
    "print(re.findall('c\\w*', email_address))"
   ]
  },
  {
   "cell_type": "markdown",
   "metadata": {},
   "source": [
    "------------------------------------------------------------------------------"
   ]
  },
  {
   "cell_type": "code",
   "execution_count": 23,
   "metadata": {},
   "outputs": [],
   "source": [
    "with open('info.txt', 'r') as file:\n",
    "    client_info = file.read()"
   ]
  },
  {
   "cell_type": "code",
   "execution_count": 25,
   "metadata": {},
   "outputs": [
    {
     "output_type": "stream",
     "name": "stdout",
     "text": [
      "<class 'str'>\n"
     ]
    },
    {
     "output_type": "execute_result",
     "data": {
      "text/plain": [
       "'Wyoming Dudley sit.amet.metus@egestasnunc.ca 2518 Nulla Road 34-739-941-941 Aristotle Grant arcu.Aliquam.ultrices@vestibulumneceuismod.co.uk 8453 Nostra, St. 34-278-870-242 Zephania Copeland Nulla.eu.neque@Fuscealiquetmagna.com P.O. Box 733, 3179 Ligula. Av. 34-999-876-292 Scarlett Ortiz Nullam.velit@non.ca 6082 Massa Road 34-345-887-949 Ocean Bell In@gravidamolestiearcu.co.uk P.O. Box 370, 440 Suspendisse Rd. 34-905-089-682 Meghan Henson non.bibendum@ipsumdolorsit.edu Ap #393-8999 Maecenas Rd. 34-773-463-479 Cole Cantrell rutrum.Fusce.dolor@purusNullamscelerisque.ca Ap #897-8561 Vitae, Rd. 34-017-915-525 Leandra Shaw quam.quis@ac.net P.O. Box 345, 1982 Ipsum Road 34-274-204-840 Michelle Rollins Nulla.eu.neque@idmollis.com 2891 Eget St. 34-575-459-881 Pamela Webster lacus.Cras@quisaccumsan.net 1418 Non Avenue 34-249-358-256 Kieran Aguilar commodo.at@sit.org 393-8798 Phasellus Rd. 34-299-478-659 Harrison Bartlett libero.et.tristique@sodaleseliterat.com Ap #803-4228 Accumsan Rd. 34-094-099-748 Skyler Lancaster porttitor@Integervitaenibh.net P.O. Box 728, 7203 Sed, Av. 34-236-498-114 Xenos Foley Nam.tempor@inmagna.com Ap #400-1688 Libero. Rd. 34-541-455-803 Sebastian Blanchard ac@augueeu.co.uk Ap #453-9113 Nisi Street 34-274-768-546 Herman Key sagittis.lobortis.mauris@atvelitCras.com Ap #270-5853 Risus. Rd. 34-850-484-655 Ulric Harvey Curae.Donec.tincidunt@est.edu Ap #445-6354 Quam. Avenue 34-193-830-599 Deacon Morris senectus.et.netus@ullamcorper.com P.O. Box 524, 5640 Gravida Rd. 34-768-704-320 Raven Hendricks Cras.interdum.Nunc@eratsemper.org Ap #921-9419 In Av. 34-960-058-312 Ferris Norman nascetur@tortoratrisus.com 6318 Aliquam Rd. 34-835-461-291 Reece Burks aliquam@doloregestas.com 995-1345 Sed St. 34-524-499-405 Keegan Simmons ornare@vitae.net P.O. Box 425, 1287 Pellentesque. Street 34-553-655-405 Ava Huber ultricies.ligula.Nullam@malesuada.com Ap #476-3742 Eget, Street 34-193-752-726 Clinton Odom ut.aliquam@imperdietnonvestibulum.ca 5215 Dictum Avenue 34-165-726-657 Amanda Meyer felis.purus@idsapienCras.com 557-4354 Parturient Ave 34-172-146-895 Kadeem Kennedy Integer.urna@non.edu 6159 Elementum, St. 34-309-707-078 Dylan Mcintosh ligula@consequatlectus.co.uk 6191 Tempus St. 34-289-368-945 Lavinia Knox lectus@lacus.com Ap #355-6742 Donec Road 34-432-424-781 Breanna Horton Integer@facilisismagnatellus.com 685-129 Mauris St. 34-880-153-396 Zelenia Simmons egestas.ligula@pedeSuspendisse.co.uk 284-9669 Et St. 34-876-903-767 Tarik Keith est.mollis.non@Donectincidunt.edu 1514 Nulla Street 34-508-574-378 Garrett Orr euismod.ac.fermentum@gravida.ca Ap #301-3913 Libero. Avenue 34-219-498-365 Quynn Hart Nam.interdum.enim@egetmassa.co.uk 4552 Erat Rd. 34-413-279-781 Marvin Everett non.egestas.a@ipsum.edu Ap #332-4113 Felis Ave 34-789-736-506 Bernard Murray malesuada.fames.ac@laciniaorciconsectetuer.net 9212 Tempus Avenue 34-701-997-370 Abraham Trujillo mollis.dui.in@arcu.com 754-3604 Amet, Av. 34-912-146-256 Tanner English taciti@consequat.co.uk Ap #415-5232 Facilisis, Av. 34-550-871-297 Flavia Ramos tellus.faucibus.leo@Pellentesqueultricies.net Ap #340-7466 Donec Avenue 34-818-230-259 Jescie Rice massa.Vestibulum.accumsan@Namnulla.com 3221 Quisque Avenue 34-707-183-700 Quincy Morin justo@fermentumfermentumarcu.org 313-9676 Neque. Rd. 34-006-975-807 Russell Stevens nulla@odioNam.ca 6870 Vulputate, Ave 34-975-336-347 Joel Madden magna@dolornonummy.org P.O. Box 297, 7863 Pede, Road 34-208-023-425 Brady Reed litora.torquent@ipsum.com P.O. Box 285, 4196 Turpis St. 34-810-185-675 Tyrone Juarez parturient@massa.org 6028 Pharetra Street 34-318-817-026 Jescie Short auctor@euerosNam.edu Ap #295-8545 Egestas Rd. 34-229-857-982 Wyoming Gill egestas.Duis.ac@dictumeleifendnunc.edu P.O. Box 590, 9155 Arcu Rd. 34-415-168-417 Conan Schmidt augue.scelerisque@dictum.co.uk Ap #718-6336 Fermentum St. 34-595-803-021 Brody Vega arcu.Vestibulum@turpisegestasFusce.ca 1187 Malesuada St. 34-620-827-404 Sade Morgan lorem.eget.mollis@parturientmontesnascetur.org P.O. Box 104, 7033 Lectus. St. 34-711-768-527 Mary Madden iaculis@Nullamsuscipitest.ca P.O. Box 438, 166 Turpis Avenue 34-159-329-878 Micah Weeks vestibulum@Etiamvestibulummassa.com P.O. Box 504, 3384 Eget Street 34-619-616-824 Zena Reed rutrum.lorem.ac@fringillaporttitorvulputate.org 5351 Justo. Road 34-865-861-872 Eaton Ortiz ac@urnaUt.net P.O. Box 110, 4145 Varius. St. 34-294-644-638 Keith Trujillo magna.Praesent.interdum@Suspendisse.co.uk 553-5099 Lacus, Road 34-439-853-222 Dylan Walls tincidunt@metusAeneansed.edu 197-1551 Vivamus Street 34-215-852-041 Buckminster Huber et@maurisidsapien.org P.O. Box 663, 9678 Diam Av. 34-425-519-500 Wynne Welch velit.egestas.lacinia@nonummyFusce.com Ap #798-3605 Sed St. 34-152-386-570 Beverly Mccormick Proin@luctusvulputate.org 953-395 Egestas St. 34-114-918-271 Quinlan Morrow eget.magna@cursus.edu Ap #839-6857 Ut, Av. 34-578-430-713 Ira Hampton et.risus.Quisque@mollisduiin.edu 878-4520 Sapien, St. 34-198-215-014 Abel Fuller In.at.pede@porttitor.ca Ap #862-5882 Etiam Rd. 34-081-000-664 Kaseem Thornton id@non.co.uk 408-1137 Ut, Street 34-215-712-522 Nathan Lowery dui.Cras.pellentesque@Morbinonsapien.com Ap #814-4168 Nec, Road 34-247-057-497 Ora Massey Vivamus@nullaatsem.ca 102-2852 Nam Road 34-091-856-589 Lunea Medina faucibus@arcuiaculisenim.co.uk P.O. Box 815, 9937 Natoque Ave 34-972-416-447 Imani Knapp dapibus@nonummyipsum.com 7935 Fringilla Avenue 34-371-921-059 George Melendez purus@velit.net 249-1083 Feugiat. Road 34-103-486-092 Arsenio Leach ipsum.leo@ornareelitelit.co.uk P.O. Box 378, 125 Blandit Road 34-093-803-387 Chelsea Lopez nec.eleifend@augue.net 4663 Malesuada. Avenue 34-887-264-237 Jordan Fernandez magnis.dis@nuncest.ca P.O. Box 487, 1132 Diam Avenue 34-396-708-852 Mason Beard vulputate@noncursusnon.co.uk P.O. Box 418, 5259 Lacus. St. 34-935-106-187 Cynthia Cline enim.commodo.hendrerit@tempor.com Ap #830-3526 Ultricies Rd. 34-719-648-197 Kylynn Berger dictum.placerat.augue@sed.co.uk 686-6237 Ut, Av. 34-287-491-518 Raphael Bright massa.rutrum.magna@enim.ca Ap #142-8892 Eget Street 34-190-000-222 Aurora Hensley tristique.neque@Donecegestas.co.uk 244-6510 Augue. Ave 34-632-106-215 Lionel Branch Fusce.aliquet.magna@vel.edu 879-5517 Enim. Ave 34-236-373-612 Chancellor Faulkner et@vulputateposuere.net Ap #494-8635 Nonummy Street 34-103-834-289 Chelsea Oliver risus.Donec@eu.com P.O. Box 852, 7236 Non, Ave 34-247-496-116 Rhonda Tran Aliquam.auctor@Integer.edu 917-6654 Aptent Rd. 34-685-891-953 Merrill Kirby ac@sapien.co.uk Ap #515-8375 Sed, Avenue 34-382-619-851 Nayda Mccall dictum.cursus.Nunc@semmollisdui.edu P.O. Box 954, 2668 Gravida Ave 34-988-032-549 Katell Gross lacus.Aliquam.rutrum@sedhendrerita.co.uk 210-1289 Urna Avenue 34-827-702-441 Grace Rosa venenatis@odioNaminterdum.com Ap #126-662 Nisl. Avenue 34-962-483-735 Dorian Skinner ac@interdumNunc.org Ap #108-4751 Luctus. Rd. 34-045-897-696 Tatiana Charles lorem.auctor.quis@convallis.edu 9598 Nunc Road 34-536-831-838 Britanni Deleon Aenean@magna.edu 5681 Diam. St. 34-008-550-220 Nyssa Rivera arcu@Quisqueimperdiet.ca 568-8885 Aliquam Ave 34-502-109-187 Gloria Copeland habitant.morbi.tristique@nectempusmauris.co.uk P.O. Box 321, 2754 Vel Avenue 34-259-454-764 Zahir Arnold dui.augue.eu@Cras.ca Ap #447-4118 Tempus, St. 34-648-926-885 Basil Shaw ligula.tortor.dictum@velsapien.ca Ap #387-2486 Rhoncus. Road 34-131-055-768 Otto Dawson urna.Nunc@purusmauris.co.uk P.O. Box 486, 8468 Mi Rd. 34-824-680-101 Stone Whitaker Nullam.vitae@necenim.ca P.O. Box 247, 2644 Nascetur Street 34-390-299-105 Elton Lynch sagittis.placerat@ProinultricesDuis.ca 204-9070 Ullamcorper St. 34-022-795-481 Micah Copeland dignissim@lacus.co.uk 8710 Eleifend. Avenue 34-033-595-405 Colton Compton ac@euismodest.co.uk 5334 Turpis. St. 34-058-465-887 Shelby Oconnor Nunc.ut@vitaeerat.edu Ap #891-5687 Nonummy Street 34-857-529-653 Libby Noble at@velit.co.uk 3369 Sem Street 34-621-918-403 Myra Lowe arcu.vel@elita.ca Ap #201-9675 Vivamus Av. 34-715-306-812 Jasmine Peterson et@Intincidunt.org P.O. Box 551, 2211 Lacus. Rd. 34-680-520-067 Zahir Goodwin Aliquam@congueInscelerisque.org Ap #588-4151 Proin St. 34-870-684-275'"
      ]
     },
     "metadata": {},
     "execution_count": 25
    }
   ],
   "source": [
    "print(type(client_info))\n",
    "client_info"
   ]
  },
  {
   "cell_type": "code",
   "execution_count": 18,
   "metadata": {},
   "outputs": [
    {
     "name": "stdout",
     "output_type": "stream",
     "text": [
      "['sit.amet.metus@egestasnunc.ca', 'arcu.Aliquam.ultrices@vestibulumneceuismod.co.uk', 'Nulla.eu.neque@Fuscealiquetmagna.com', 'Nullam.velit@non.ca', 'In@gravidamolestiearcu.co.uk']\n"
     ]
    }
   ],
   "source": [
    "emails_clients=re.findall(r\"[\\w.]+@+[\\w.]+\", client_info)\n",
    "print(emails_clients[:5])"
   ]
  },
  {
   "cell_type": "code",
   "execution_count": 26,
   "metadata": {},
   "outputs": [],
   "source": [
    "client_numbers = re.findall(r\"[0-9]{2}-\\d{3}-\\d{3}-\\d{3}\", client_info)"
   ]
  },
  {
   "cell_type": "code",
   "execution_count": 28,
   "metadata": {},
   "outputs": [
    {
     "output_type": "stream",
     "name": "stdout",
     "text": [
      "['34-739-941-941', '34-278-870-242', '34-999-876-292', '34-345-887-949', '34-905-089-682']\n"
     ]
    }
   ],
   "source": [
    "print(client_numbers[:5])"
   ]
  },
  {
   "cell_type": "code",
   "execution_count": 31,
   "metadata": {},
   "outputs": [
    {
     "output_type": "execute_result",
     "data": {
      "text/plain": [
       "['34-739-941-941',\n",
       " '34-278-870-242',\n",
       " '34-999-876-292',\n",
       " '34-345-887-949',\n",
       " '34-905-089-682']"
      ]
     },
     "metadata": {},
     "execution_count": 31
    }
   ],
   "source": [
    "client_numbers = re.findall(r\"\\+?\\d{2}-\\d{3}-\\d{3}-\\d{3}\", client_info) # Puede o no puede haber un + delante de los primeros dígitos\n",
    "client_numbers[:5]"
   ]
  },
  {
   "cell_type": "code",
   "execution_count": null,
   "metadata": {},
   "outputs": [],
   "source": [
    "client_numbers = re.findall(r\"\\+?\\d{2}-\\d{3}-\\d{3}-\\d{3}\", client_info) # Puede o no puede haber un + delante de los primeros dígitos\n",
    "client_numbers[:5]"
   ]
  },
  {
   "cell_type": "code",
   "execution_count": 32,
   "metadata": {},
   "outputs": [
    {
     "output_type": "execute_result",
     "data": {
      "text/plain": [
       "[('34-739-941-941', ''),\n",
       " ('34-278-870-242', ''),\n",
       " ('34-999-876-292', ''),\n",
       " ('34-345-887-949', ''),\n",
       " ('34-905-089-682', '')]"
      ]
     },
     "metadata": {},
     "execution_count": 32
    }
   ],
   "source": [
    "client_numbers = re.findall(r\"((00)?\\+?\\d{2}-\\d{3}-\\d{3}-\\d{3})\", client_info) # Findall\n",
    "client_numbers[:5]"
   ]
  },
  {
   "cell_type": "markdown",
   "metadata": {},
   "source": [
    "### re.split(pattern, string, maxsplit=0)\n",
    "Returns a list where the string has been split at each match"
   ]
  },
  {
   "cell_type": "code",
   "execution_count": 35,
   "metadata": {},
   "outputs": [
    {
     "output_type": "execute_result",
     "data": {
      "text/plain": [
       "'Hello,(a)\\n Please, contact me the sooner.\\n Thank you,\\n Me'"
      ]
     },
     "metadata": {},
     "execution_count": 35
    }
   ],
   "source": [
    "#re.split\n",
    "sente = \"Hello,(a)\\n Please, contact me the sooner.\\n Thank you,\\n Me\"\n",
    "sente"
   ]
  },
  {
   "cell_type": "code",
   "execution_count": 36,
   "metadata": {},
   "outputs": [
    {
     "output_type": "execute_result",
     "data": {
      "text/plain": [
       "['Hello,(a)', 'Please, contact me the sooner.', 'Thank you,', 'Me']"
      ]
     },
     "metadata": {},
     "execution_count": 36
    }
   ],
   "source": [
    "reg = re.split(\"\\n \", sente)\n",
    "reg"
   ]
  },
  {
   "cell_type": "code",
   "execution_count": 37,
   "metadata": {},
   "outputs": [
    {
     "output_type": "execute_result",
     "data": {
      "text/plain": [
       "'Hello,(a)Please, contact me the sooner.Thank you,Me'"
      ]
     },
     "metadata": {},
     "execution_count": 37
    }
   ],
   "source": [
    "\"\".join(reg)"
   ]
  },
  {
   "cell_type": "markdown",
   "metadata": {},
   "source": [
    "### re.compile(pattern\n",
    "Compiles a RE into a regular expression object."
   ]
  },
  {
   "cell_type": "code",
   "execution_count": 42,
   "metadata": {},
   "outputs": [],
   "source": [
    "name_check = re.compile(r\"[^A-Za-z ]\")"
   ]
  },
  {
   "cell_type": "code",
   "execution_count": 43,
   "metadata": {},
   "outputs": [
    {
     "output_type": "stream",
     "name": "stdout",
     "text": [
      "Please enter your name correctly!\n",
      "Finally mate, I thought you'd never do it\n"
     ]
    }
   ],
   "source": [
    "name = input(\"Please insert your name:\")\n",
    "while name_check.search(name):\n",
    "    # it loops while if finds a match\n",
    "    print(\"Please enter your name correctly!\")\n",
    "    name = input(\"Please insert your name:\")\n",
    "print(\"Finally mate, I thought you'd never do it\")"
   ]
  },
  {
   "cell_type": "markdown",
   "metadata": {},
   "source": [
    "-----------------------------------------------------------------------------------------------------------\n"
   ]
  },
  {
   "cell_type": "markdown",
   "metadata": {},
   "source": [
    "## Some practice \n",
    "Now is your turn."
   ]
  },
  {
   "cell_type": "markdown",
   "metadata": {},
   "source": [
    "#### Simple validation of a username\n",
    "https://www.codewars.com/kata/56a3f08aa9a6cc9b75000023\n",
    "    \n",
    "Write a simple regex to validate a username. Allowed characters are:\n",
    "\n",
    "- lowercase letters,\n",
    "- numbers,\n",
    "- underscore\n",
    "\n",
    "Length should be between 4 and 16 characters (both included).\n"
   ]
  },
  {
   "cell_type": "code",
   "execution_count": 51,
   "metadata": {},
   "outputs": [],
   "source": [
    "# your solution\n",
    "username_check = re.compile(r\"[^a-z\\d+\\_+]\")"
   ]
  },
  {
   "cell_type": "code",
   "execution_count": 57,
   "metadata": {},
   "outputs": [
    {
     "output_type": "stream",
     "name": "stdout",
     "text": [
      "Finally mate, I thought you'd never do it\n"
     ]
    }
   ],
   "source": [
    "def validate_usr(username):\n",
    "    while username_check.search(username) and (len(username)< 4 or len(username)>16):\n",
    "        print(\"Please enter your username correctly!\")\n",
    "        username = input(\"Please insert your username:\")\n",
    "    print(\"Finally mate, I thought you'd never do it\")\n",
    "\n",
    "validate_usr(input(\"Please enter your user name\"))"
   ]
  },
  {
   "cell_type": "code",
   "execution_count": 62,
   "metadata": {},
   "outputs": [
    {
     "output_type": "execute_result",
     "data": {
      "text/plain": [
       "True"
      ]
     },
     "metadata": {},
     "execution_count": 62
    }
   ],
   "source": [
    "def function_validateUsr(username):\n",
    "  res = re.compile(r\"[^a-z\\d\\_]\")\n",
    "  if res.search(username) or (len(username) < 4 or len(username) > 16):\n",
    "    return False\n",
    "  else:\n",
    "    return True\n",
    "\n",
    "function_validateUsr(\"azz999z___\")\n",
    "\n"
   ]
  },
  {
   "cell_type": "code",
   "execution_count": null,
   "metadata": {},
   "outputs": [],
   "source": [
    "def function_validateUsr(username):\n",
    "  res = re.compile(r\"[^a-z0-9_]{4,16}\")\n",
    "  "
   ]
  },
  {
   "cell_type": "markdown",
   "metadata": {},
   "source": [
    "#### Regex validate PIN code \n",
    "\n",
    "https://www.codewars.com/kata/55f8a9c06c018a0d6e000132\n",
    "\n",
    "ATM machines allow 4 or 6 digit PIN codes and PIN codes cannot contain anything but exactly 4 digits or exactly 6 digits.\n",
    "\n",
    "If the function is passed a valid PIN string, return true, else return false.\n",
    "\n",
    "Examples:\n",
    "```python\n",
    "\"1234\"   -->  True\n",
    "\"12345\"  -->  False\n",
    "\"a234\"   -->  False\n",
    "```"
   ]
  },
  {
   "cell_type": "code",
   "execution_count": null,
   "metadata": {},
   "outputs": [],
   "source": [
    "# your solution\n",
    "import re\n",
    "def validate_pin(pin):\n",
    "    return bool(re.fullmatch(\"(\\d{4}|\\d{6})\",pin))"
   ]
  },
  {
   "cell_type": "code",
   "execution_count": null,
   "metadata": {},
   "outputs": [],
   "source": [
    "def validate_pin(pin):\n",
    "    #return true or false\n",
    "    regex = re.compile(r'^\\d{4}$|^\\d{6}$')\n",
    "    if regex.fullmatch(str(pin)):\n",
    "        return True\n",
    "    else:\n",
    "        return False"
   ]
  },
  {
   "cell_type": "markdown",
   "metadata": {},
   "source": [
    "-----------------------------------------------------------------------------------------------------------"
   ]
  },
  {
   "cell_type": "markdown",
   "metadata": {},
   "source": [
    "# The FBI challenge"
   ]
  },
  {
   "cell_type": "markdown",
   "metadata": {},
   "source": [
    "- https://www.fbi.gov/scams-and-safety/common-fraud-schemes/nigerian-letter-or-419-fraud\n",
    "- https://www.kaggle.com/rtatman/fraudulent-email-corpus"
   ]
  },
  {
   "cell_type": "markdown",
   "metadata": {},
   "source": [
    "It's your first day at the FBI office and your boss has just send you an `txt` file: `emails.txt`, she asked you to make some analysis but first of all, you need to get a dataframe like the following. You'll need some python knowledge and some regex for that goal. "
   ]
  },
  {
   "cell_type": "markdown",
   "metadata": {},
   "source": [
    "---------------------------------------------------------------------------------------------------------------------------"
   ]
  },
  {
   "cell_type": "markdown",
   "metadata": {},
   "source": [
    "#### Since we are good people, here you have a proposed solution"
   ]
  },
  {
   "cell_type": "code",
   "execution_count": 1,
   "metadata": {},
   "outputs": [],
   "source": [
    "emails_info={}"
   ]
  },
  {
   "cell_type": "code",
   "execution_count": 2,
   "metadata": {},
   "outputs": [
    {
     "output_type": "execute_result",
     "data": {
      "text/plain": [
       "f kin or relation that knows about the account=\\n information died alongside with him at the plane crash leaving nobody behi=\\nnd for the claim.</DIV>\\n<DIV>&nbsp;</DIV>\\n<DIV>It is therefore upon this discovery that I now decided to make this bu=\\nsiness proposal to you and for the money to be release to you as the next o=\\nf kin or relation to the deceased, since nobody will ever come for it, we d=\\no not want this money to go into the treasury of the bank as unclaimed bill=\\n or fund.</DIV>\\n<DIV>&nbsp;</DIV>\\n<DIV>the bank law and guideline here stipulates that if such money remained=\\n unclaimed after six years, the money will be transferred into the bank tre=\\nasury account as unclaimed fund. The request of foreigner as next of kin in=\\n this transaction is occasioned by the fact that the customer was a foreign=\\ner and a citizen cannot stand as next of kin to a foreigner.</DIV>\\n<DIV>In subsequent disbursement of the money, I agree that 40% of this mone=\\ny will be for you in respect of the provision you made by standing in the c=\\nlaim as next of kin,10% will be set aside for expenses in cure during&nbsp;=\\n the transaction on taxes that will arise and 50% would be for me.</DIV>\\n<DIV><BR>As soon as the money hit into your account I will come over to you=\\nr country for disbursement according to the percentages indicated above.</D=\\nIV>\\n<DIV>To make the claim, you will first of all apply to the bank by sending =\\na text of application which I will send to you for you to fill and send to =\\nthe bank. In the application you will indicate your bank account, your priv=\\nate fax and your private telephone number for easy and effective communicat=\\nion.</DIV>\\n<DIV>&nbsp;</DIV>\\n<DIV>Upon receipt of your reply, I will send to you by email the text of ap=\\nplication which you will send to the bank. I will not fail to bring to your=\\n notice that this transaction is hitch free and you do not entertain any at=\\nom of fear as all required arrangements have been made for the success of t=\\nhe transfer. </DIV>\\n<DIV>&nbsp;</DIV>\\n<DIV>You should contact me immediately as soon as you receive this letter.<=\\n/DIV>\\n<DIV>Hoping to hear from you immediately.&nbsp;&nbsp;&nbsp;&nbsp;&nbsp;&nbs=\\np;&nbsp;&nbsp;&nbsp;&nbsp; PLANE CRASH WEB SITE... <A href=3D\"http://news.b=\\nbc.co.uk/1/hi/world/europe/859479.stm\"><U><FONT color=3D#0000ff>http://news=\\n.bbc.co.uk/1/hi/world/europe/859479.stm</FONT></U></A> </DIV>\\n<DIV>Thanks.</DIV><br /><hr />Get news, entertainment and everything you ca=\\nre about at Live.com. <a href=3D\\'http://www.live.com/getstarted.aspx \\' targ=\\net=3D\\'_new\\'>Check it out!</a></body>\\n</html>=\\n\\n--_da3387a4-a5eb-4300-897c-7d8feb76f459_--\\n\\n\\nFrom r  Tue Sep 18 06:55:05 2007\\nReturn-Path: <drusmanibrahimtg08@hotmail.fr>\\nX-Sieve: CMU Sieve 2.3\\nContent-Type: multipart/alternative;\\n\\tboundary=\"_9d639d6f-3ffc-4c88-9446-fdf6a79b93c8_\"\\nX-Originating-IP: [41.207.162.4]\\nReply-To: <drusmanibrahim.tg@homs.cc>\\nFrom: Dr Usman Ibrahim Danko <drusmanibrahimtg08@hotmail.fr>\\nSubject: From Dr Usman Ibrahim / Mr Wahid Yoffe property.\\nDate: Tue, 18 Sep 2007 10:54:53 +0000\\nImportance: Normal\\nMIME-Version: 1.0\\nBcc:\\nX-OriginalArrivalTime: 18 Sep 2007 10:54:57.0283 (UTC) FILETIME=[5A188530:01C7F9E2]\\nStatus: O\\n\\n--_9d639d6f-3ffc-4c88-9446-fdf6a79b93c8_\\nContent-Type: text/plain; charset=\"iso-8859-1\"\\nContent-Transfer-Encoding: quoted-printable\\n\\n\\nFROM DR USMAN IBRAHIM DANKO.AUDITING AND ACCOUNTING UNIT.FOREIGN OPERATIONS=\\n DEPARTMENT.BANQUE TOGOLAISE POUR LE COMMERCE ET L\\'INDUSTRIE,LOME- TOGO.=20\\n=20\\nDear Friend,             I do not intend to cause any grief to you. The rea=\\nson for sending this mail is very fundamental to the doctrine of human priv=\\nileges and right. My name is Dr Usman Ibrahim Danko  I am quite convicned o=\\nf the fact that this will come to you as a surprise.however I am writing ba=\\nsed on the privlage information I garthered about you in internet during my=\\n extensive search for a repose foreign partner who is compitent of assistin=\\ng me in below business proposal. I am the principal manager controlling the=\\n auditing and accounting section of Banque Togolaise Pour Le Commerce Et L\\'=\\nInustrie Lome Togo. in West Africa with due respect and regard.=20\\n=20\\nI have decided to contact you on a business transaction that will be very b=\\neneficial to both of us at the end of the transaction. During our investiga=\\ntion and auditing in this bank, my department came across a very huge sum o=\\nf money belonging to a deceased person Mr Wahid Yoffe who died in the horri=\\nfic Asian tsunamis of Dec. 26, 2004, that has killed more than all 20th- ce=\\nntury tsunamis combined that happened in Sumatra island, Indonesia.=20\\n=20\\n>From the information that our bank have gotten so far, the Tsunami killed h=\\nim with his entire family and no none relation have been identified. The pe=\\nrson that he used as his next of kin was his first son of 25 years old who =\\ndied along side with the entire family. Although personally, I keep this in=\\nformation secret within myself and partner to enable the whole plans and id=\\nea be Profitable and successful during the time of execution. The said amou=\\nnt was (US$11.4M).=20\\n=20\\nMeanwhile all the whole arrangement to put claim over this fund as the bona=\\nfide next of kin to the deceased, get the required approval and transfer th=\\nis money to a foreign account has been put in place and directives and need=\\ned information will be relayed to you as soon as you indicate your interest=\\n and willingness to assist us and also benefit your self to this great busi=\\nness opportunity that comes once in life. In fact I could have done this de=\\nal alone but because of my position in this country as a civil servant, we =\\nare not allowed to perate a foreign account and would eventually raise an e=\\nye brow on my side during the time of transfer because I work in this bank.=\\n=20\\n=20\\nThis is the actual reason why it will require a second party or fellow who =\\nwill forward claims as the next of kin with affidavit of trust of oath to t=\\nhe Bank and also resent a foreign account where he will need the money to b=\\ne re-transferred in to on his request as it may be after due verification a=\\nnd clarification by the correspondent branch of the bank where the whole mo=\\nney will be remitted from to your own designation bank account.=20\\n=20\\nMay I at this point emphasize that this transaction is 100% risk free as I =\\nhave made arrangements for a successful deal before contacting you. On smoo=\\nth conclusion of this transaction, you will be entitled to 30% of the total=\\n sum as gratification, while 5% will be set aside to take care of expenses =\\nthat may arise during the time of transfer processing and also telephone bi=\\nlls, while 65% will be for me and my partner.=20\\n=20\\nPlease, you have been adviced to keep top secret as we are still in service=\\n and intend to retire from service after we conclude this deal with you. I =\\nwill be monitoring the whole situation here in this bank until you confirm =\\nthe money in your account and ask us to come down to your country for subse=\\nquent sharing of the fund according to percentages previously indicated and=\\n further investment, either in your country or any country you advice us to=\\n invest in.=20\\n=20\\nAll other necessary information will be sent to you when I hear from you. I=\\n suggest you get back to me as soon as possible stating your wish in this d=\\neal.\\n Yours Sincerely, Dr Usman Ibrahim Danko.\\n_________________________________________________________________\\nInvite your mail contacts to join your friends list with Windows Live Space=\\ns. It\\'s easy!\\nhttp://spaces.live.com/spacesapi.aspx?wx_action=3Dcreate&wx_url=3D/friends.=\\naspx&mkt=3Den-us=\\n\\n--_9d639d6f-3ffc-4c88-9446-fdf6a79b93c8_\\nContent-Type: text/html; charset=\"iso-8859-1\"\\nContent-Transfer-Encoding: quoted-printable\\n\\n<html>\\n<head>\\n<style>\\n.hmmessage P\\n{\\nmargin:0px;\\npadding:0px\\n}\\nbody.hmmessage\\n{\\nFONT-SIZE: 10pt;\\nFONT-FAMILY:Tahoma\\n}\\n</style>\\n</head>\\n<body class=3D\\'hmmessage\\'>\\n<DIV><SPAN style=3D\"FONT-WEIGHT: bold\">FROM DR USMAN IBRAHIM DANKO.</SPAN><=\\nBR style=3D\"FONT-WEIGHT: bold\"><SPAN style=3D\"FONT-WEIGHT: bold\">AUDITING A=\\nND ACCOUNTING UNIT.</SPAN><BR style=3D\"FONT-WEIGHT: bold\"><SPAN style=3D\"FO=\\nNT-WEIGHT: bold\">FOREIGN OPERATIONS DEPARTMENT.</SPAN><BR style=3D\"FONT-WEI=\\nGHT: bold\"><SPAN style=3D\"FONT-WEIGHT: bold\">BANQUE TOGOLAISE POUR LE COMME=\\nRCE ET L\\'INDUSTRIE,</SPAN><BR style=3D\"FONT-WEIGHT: bold\"><SPAN style=3D\"FO=\\nNT-WEIGHT: bold\">LOME- TOGO.</SPAN> </DIV>\\n<DIV>&nbsp;</DIV>\\n<DIV style=3D\"FONT-WEIGHT: bold\">Dear Friend,&nbsp;&nbsp;&nbsp;&nbsp;&nbsp;=\\n&nbsp;&nbsp;&nbsp;&nbsp;&nbsp;&nbsp; <BR>&nbsp;<BR>I do not intend to cause=\\n any grief to you. The reason for sending this mail is very fundamental to =\\nthe doctrine of human privileges and right. My name is Dr Usman Ibrahim Dan=\\nko&nbsp; I am quite convicned of the fact that this will come to you as a s=\\nurprise.however I am writing based on the privlage information I garthered =\\nabout you in internet during my extensive search for a repose foreign partn=\\ner who is compitent of assisting me in below business proposal. I am the pr=\\nincipal manager controlling the auditing and accounting section of Banque T=\\nogolaise Pour Le Commerce Et L\\'Inustrie Lome Togo. in West Africa with due =\\nrespect and regard. </DIV>\\n<DIV style=3D\"FONT-WEIGHT: bold\">&nbsp;</DIV>\\n<DIV style=3D\"FONT-WEIGHT: bold\">I have decided to contact you on a busines=\\ns transaction that will be very beneficial to both of us at the end of the =\\ntransaction. During our investigation and auditing in this bank, my departm=\\nent came across a very huge sum of money belonging to a deceased person Mr =\\nWahid Yoffe who died in the horrific Asian tsunamis of Dec. 26, 2004, that =\\nhas killed more than all 20th- century tsunamis combined that happened in S=\\numatra island, Indonesia. </DIV>\\n<DIV style=3D\"FONT-WEIGHT: bold\">&nbsp;</DIV>\\n<DIV style=3D\"FONT-WEIGHT: bold\">From the information that our bank have go=\\ntten so far, the Tsunami killed him with his entire family and no none rela=\\ntion have been identified. The person that he used as his next of kin was h=\\nis first son of 25 years old who died along side with the entire family. Al=\\nthough personally, I keep this information secret within myself and partner=\\n to enable the whole plans and idea be Profitable and successful during the=\\n time of execution. The said amount was (US$11.4M). </DIV>\\n<DIV style=3D\"FONT-WEIGHT: bold\">&nbsp;</DIV>\\n<DIV style=3D\"FONT-WEIGHT: bold\">Meanwhile all the whole arrangement to put=\\n claim over this fund as the bonafide next of kin to the deceased, get the =\\nrequired approval and transfer this money to a foreign account has been put=\\n in place and directives and needed information will be relayed to you as s=\\noon as you indicate your interest and willingness to assist us and also ben=\\nefit your self to this great business opportunity that comes once in life. =\\nIn fact I could have done this deal alone but because of my position in thi=\\ns country as a civil servant, we are not allowed to perate a foreign accoun=\\nt and would eventually raise an eye brow on my side during the time of tran=\\nsfer because I work in this bank. </DIV>\\n<DIV style=3D\"FONT-WEIGHT: bold\">&nbsp;</DIV>\\n<DIV style=3D\"FONT-WEIGHT: bold\">This is the actual reason why it will requ=\\nire a second party or fellow who will forward claims as the next of kin wit=\\nh affidavit of trust of oath to the Bank and also resent a foreign account =\\nwhere he will need the money to be re-transferred in to on his request as i=\\nt may be after due verification and clarification by the correspondent bran=\\nch of the bank where the whole money will be remitted from to your own desi=\\ngnation bank account. </DIV>\\n<DIV style=3D\"FONT-WEIGHT: bold\">&nbsp;</DIV>\\n<DIV style=3D\"FONT-WEIGHT: bold\">May I at this point emphasize that this tr=\\nansaction is 100% risk free as I have made arrangements for a successful de=\\nal before contacting you. On smooth conclusion of this transaction, you wil=\\nl be entitled to 30% of the total sum as gratification, while 5% will be se=\\nt aside to take care of expenses that may arise during the time of transfer=\\n processing and also telephone bills, while 65% will be for me and my partn=\\ner. </DIV>\\n<DIV style=3D\"FONT-WEIGHT: bold\">&nbsp;</DIV>\\n<DIV style=3D\"FONT-WEIGHT: bold\">Please, you have been adviced to keep top =\\nsecret as we are still in service and intend to retire from service after w=\\ne conclude this deal with you. I will be monitoring the whole situation her=\\ne in this bank until you confirm the money in your account and ask us to co=\\nme down to your country for subsequent sharing of the fund according to per=\\ncentages previously indicated and further investment, either in your countr=\\ny or any country you advice us to invest in. </DIV>\\n<DIV style=3D\"FONT-WEIGHT: bold\">&nbsp;</DIV>\\n<DIV style=3D\"FONT-WEIGHT: bold\">All other necessary information will be se=\\nnt to you when I hear from you. I suggest you get back to me as soon as pos=\\nsible stating your wish in this deal.</DIV>\\n<DIV style=3D\"FONT-WEIGHT: bold\">&nbsp;<BR>Yours Sincerely, <BR>Dr Usman Ib=\\nrahim Danko.</DIV><br /><hr />Invite your mail contacts to join your friend=\\ns list with Windows Live Spaces. It\\'s easy! <a href=3D\\'http://spaces.live.c=\\nom/spacesapi.aspx?wx_action=3Dcreate&wx_url=3D/friends.aspx&mkt=3Den-us\\' ta=\\nrget=3D\\'_new\\'>Try it!</a></body>\\n</html>=\\n\\n--_9d639d6f-3ffc-4c88-9446-fdf6a79b93c8_--\\n\\n\\nFrom r  Tue Sep 18 19:52:38 2007\\nReturn-Path: <motherdorisk61@hotmail.com>\\nX-Sieve: CMU Sieve 2.3\\nX-Originating-IP: [83.229.101.69]\\nReply-To: <motherdorisk9@yahoo.com.hk>\\nFrom: Mother Doris Killam <motherdorisk61@hotmail.com>\\nSubject: My Beloved In Christ.  \\nDate: Wed, 19 Sep 2007 00:52:16 +0100\\nImportance: Normal\\nContent-Type: text/plain; charset=\"iso-8859-1\"\\nContent-Transfer-Encoding: quoted-printable\\nMIME-Version: 1.0\\nBcc:\\nX-OriginalArrivalTime: 18 Sep 2007 23:52:16.0268 (UTC) FILETIME=[F118DCC0:01C7FA4E]\\nX-Spam-Score: 3.11 (***) ADVANCE_FEE_2 CU_TAGGED_LINK\\nX-Scanned-By: MIMEDefang 2.48 on 128.59.28.169\\nStatus: RO\\n\\n\\nBeloved in the Lord Jesus Christ, PLEASE ENDEAVOUR TO USE IT FOR THE\\nCHILDREN OF GOD.\\n\\nMy name is Mother Doris Killam 63years old woman from United States of\\nAmerica. I am married to Engineer Pitt Killam who till his death Worked\\nwith Willbros, a U.S oil Engineering firm here in Nigeria, we were\\nmarried for Thirteen (13) years without a child.\\n\\nHe died on Saturday, 18 February 2006 after my late husband Eng. Pitt\\nand Eight (8) other foreign oil workers were abducted by militia groups\\nactive in the Niger Delta Region of Nigeria, on the process of\\nnegotiation by the Nigerian Government and the Militant Group\\nunfortunately, my\\nhusband Eng. Pitt Killam died, before his death, we deposit a sum of\\n$2.5 Million Dollars which was proceed of a contract work he just\\nconcluded with the Nigerian Ports authority.\\n\\nPLEASE FIND FACT ON THE INFORMATION FROM THE WEBSITE BELOW.\\n\\nhttp://news.bbc.co.uk/2/hi/africa/4726680.stm\\n\\nAfter his painful death I decided not to re-marry or get a child\\noutside my matrimonial home. My Doctor told me that I would not last\\nfor the\\nnext three months due to cancer problem. Though what disturbs me most\\nis my partial stroke as a result of high blood pressure.\\n\\nHaving known my condition I decided to donate this funds to church or\\nbetter still a Christian individual that will utilize this money the\\nway\\nI am going to instruct herein. I want a church or individual that will\\nuse this money to fund churches, orphanages and widows propagating the\\nword of God and to ensure that the house of God is maintained.\\n\\nThe Bible made us to understand that blessed is the hand that grivet. I\\ntook this decision because I dont have any child that will\\ninherit\\nthis money and my husband\\'s relatives are not Christians and I\\ndont\\nwant my husband\\'s hard earned money to be misused by unbelievers. I\\ndont want a situation where this money will be used in an\\nungodly\\nmanner, hence the reason for taking this bold decision.\\n\\nI am not afraid of death hence I know where I am going. I know that I\\nam going to be in the bosom of the Lord. Exodus 14 VS 14 says that the\\nlord will fight my case and I shall hold my peace. With God all things\\nare possible. As soon as I receive your reply I will want you to give\\nme\\nyour\\n\\nName:...........................\\nAddress:........................\\nSex/age:........................\\nPhone:..........................\\nOccupation:.....................\\n\\nI will send a copy to the bank. For identification when you will\\ncontact them. I want you and the church to always pray for me because\\nthe\\nlord is my shepherd and I shall not want.\\n\\nMy happiness is that I lived a life of a worthy Christian. Please\\nassure me that you will act accordingly as I stated herein.\\n\\nNote: this must be kept confidentially from eyes and ears of my\\nhusband\\'s family. Hoping to hear from you.\\n\\nReply me and Remain blessed in the name of the Lord.\\n\\nRegards,\\nMrs. Doris Killam.\\n\\nPrivate email Reply me here:(motherdorisk9@yahoo.com.hk)\\n_________________________________________________________________\\nConnect to the next generation of MSN Messenger=A0\\nhttp://imagine-msn.com/messenger/launch80/default.aspx?locale=3Den-us&sourc=\\ne=3Dwlmailtagline=\\n\\n\\nFrom r  Wed Sep 19 09:43:07 2007\\nReturn-Path: <chi006@comcast.net>\\nX-Sieve: CMU Sieve 2.3\\nSubject: ATTENTION\\nDate: Wed, 19 Sep 2007 13:41:32 +0000\\nMessage-Id: <091920071341.12932.46F1270B00038687000032842215575114C0CFCF07080C@comcast.net>\\nX-Mailer: AT&T Message Center Version 1 (Oct  4 2006)\\nX-Authenticated-Sender: Y2hpMDA2QGNvbWNhc3QubmV0\\nMIME-Version: 1.0\\nContent-Type: multipart/alternative; boundary=\"NextPart_Webmail_9m3u9jl4l_12932_1190209292_0\"\\nTo: undisclosed-recipients:;\\nX-Spam-Score: 7.001 (*******) ADVANCE_FEE_2 CU_SUBJ_ALL_CAPS MILLION_USD\\nX-Scanned-By: MIMEDefang 2.48 on 128.59.28.165\\nStatus: RO\\n\\n\\n--NextPart_Webmail_9m3u9jl4l_12932_1190209292_0\\nContent-Type: text/plain\\nContent-Transfer-Encoding: 8bit\\n\\nMr.Huang Chi-Lin\\nBank SinoPac\\nExecutive Vice President/\\nand General Manager\\nNorthern Region Branches\\nGeneral Manager Office\\nTaipei City Taiwan (R.O.C.)\\nEMAIL:houagchilin@yahoo.com.tw\\n\\nI am Mr.Huang Chi-Lin.I work with Bank Sino Pac,International Bank of Taipei as General Manager. I have an obscured business proposal of Seventeen million three Hundred thousand United State dollars.If you are interested do get back to me with your Full Name,Age phone/fax number,contact address,and I will give you more details\\n\\nI prefer you to reach me with the below email address.\\nEmail:houagchilin@yahoo.com.tw\\n\\nYour earliest response to this letter will be appreciated.\\nBest Regard, \\nMr.Chi-Lin.\\n--NextPart_Webmail_9m3u9jl4l_12932_1190209292_0\\nContent-Type: text/html\\nContent-Transfer-Encoding: 8bit\\n\\n<html><body>\\n<DIV>Mr.Huang Chi-Lin<BR>Bank SinoPac<BR>Executive Vice President/<BR>and General Manager<BR>Northern Region Branches<BR>General Manager Office<BR>Taipei City Taiwan (R.O.C.)<BR>EMAIL:houagchilin@yahoo.com.tw</DIV>\\n<DIV><BR>I am Mr.Huang Chi-Lin.I work with Bank Sino Pac,International Bank of Taipei as General Manager. I have an obscured business proposal of Seventeen million three Hundred thousand United State dollars.If you are interested do get back to me with your Full Name,Age phone/fax number,contact address,and I will give you more details</DIV>\\n<DIV><BR>I prefer you to reach me with the below email address.<BR>Email:houagchilin@yahoo.com.tw</DIV>\\n<DIV><BR>Your earliest response to this letter will be appreciated.</DIV>\\n<DIV>Best Regard, <BR>Mr.Chi-Lin.</DIV></body></html>\\n\\n--NextPart_Webmail_9m3u9jl4l_12932_1190209292_0--\\n\\n\\n'"
      ]
     },
     "metadata": {},
     "execution_count": 2
    }
   ],
   "source": [
    "fh = open(\"emails.txt\", \"r\").read()\n",
    "fh"
   ]
  },
  {
   "cell_type": "code",
   "execution_count": 3,
   "metadata": {},
   "outputs": [
    {
     "output_type": "execute_result",
     "data": {
      "text/plain": [
       "3977"
      ]
     },
     "metadata": {},
     "execution_count": 3
    }
   ],
   "source": [
    "fh.count(\"From r\")"
   ]
  },
  {
   "cell_type": "code",
   "execution_count": 5,
   "metadata": {},
   "outputs": [
    {
     "output_type": "execute_result",
     "data": {
      "text/plain": [
       "one connecting \\nVery good connecting with the famous stone companies as for growth up toge=\\nther. \\n\\n\\n\\n\\n\\n\\n\\n------=_NextPart_001_0007_2C040077.840C0165\\nContent-Type: text/html; charset=\"gb2312\"\\nContent-Transfer-Encoding: quoted-printable\\n\\n\\n<!DOCTYPE HTML PUBLIC \"-//W3C//DTD HTML 4.0 Transitional//EN\">\\n<HTML>\\n<HEAD>\\n<META http-equiv=3DContent-Type content=3D\"text/html; charset=3Dgb2312\">\\n<META content=3D\"MSHTML 6.00.2600.0\" name=3DGENERATOR>\\n<STYLE></STYLE>\\n</HEAD>\\n<BODY bgColor=3D#ffffff leftMargin=3D10 bottomMargin=3D15 topMargin=3D15 r=\\nightMargin=3D10>\\n<DIV align=3Dleft><FONT size=3D2 face=3DArial color=3D#000000>Kind&nbsp;At=\\ntn:&nbsp;CEO/&nbsp;Manager&nbsp;Director&nbsp;<BR></FONT></DIV>\\n<DIV align=3Dleft><FONT size=3D2 face=3DArial color=3D#000000><BR></FONT><=\\n/DIV>\\n<DIV align=3Dleft><FONT size=3D2 face=3DArial color=3D#0000ff><STRONG><U>S=\\nupply&nbsp;Quality&nbsp;China\\'s&nbsp;EXCLUSIVE&nbsp;dimensions&nbsp;at&nbsp=\\n;Unbeatable&nbsp;Price.<BR></U></STRONG></FONT></DIV>\\n<DIV align=3Dleft><FONT size=3D2 face=3D=BA=DA=CC=E5 color=3D#000000><BR><=\\n/FONT></DIV>\\n<DIV align=3Dleft><FONT size=3D2 face=3DArial color=3D#000000>Dear&nbsp;Si=\\nr,&nbsp;</FONT><FONT size=3D2 face=3D=BA=DA=CC=E5 color=3D#000000><BR></FON=\\nT></DIV>\\n<DIV align=3Dleft><FONT size=3D2 face=3DArial color=3D#000000>We&nbsp;are&=\\nnbsp;pleased&nbsp;to&nbsp;inform&nbsp;you&nbsp;as&nbsp;one&nbsp;of&nbsp;Chi=\\nna\\'s&nbsp;largest&nbsp;</FONT><FONT size=3D2 face=3DArial color=3D#000000>e=\\nxport&nbsp;&&nbsp;import&nbsp;stone&nbsp;company-</FONT><FONT size=3D2 face=\\n=3DArial color=3D#000000>Wanlistone&nbsp;Group,&nbsp;The&nbsp;Group&nbsp;it=\\ns&nbsp;subsidiaries&nbsp;specialize&nbsp;in&nbsp;the&nbsp;quarrying,&nbsp;p=\\nrocessing&nbsp;and&nbsp;Sales&nbsp;of&nbsp;dimension&nbsp;stone,&nbsp;slab&=\\nnbsp;and&nbsp;tiles&nbsp;and&nbsp;dimension&nbsp;stone&nbsp;products&nbsp;f=\\nor&nbsp;the&nbsp;building&nbsp;materials&nbsp;sector&nbsp;and&nbsp;specialt=\\ny&nbsp;markets.&nbsp;<BR></FONT></DIV>\\n<DIV align=3Dleft><FONT size=3D2 face=3DArial color=3D#000000><BR></FONT><=\\n/DIV>\\n<DIV align=3Dleft><FONT size=3D2 face=3DArial color=3D#000000>The&nbsp;Gro=\\nup&nbsp;operations&nbsp;are&nbsp;based&nbsp;in&nbsp;Xiamen,&nbsp;South&nbsp=\\n;of&nbsp;China,&nbsp;which&nbsp;is&nbsp;the&nbsp;largest&nbsp;export&nbsp;a=\\nnd&nbsp;import&nbsp;business&nbsp;portals&nbsp;in&nbsp;China&nbsp;where&nbs=\\np;Wanlistone&nbsp;owns&nbsp;and&nbsp;operates&nbsp;various&nbsp;natural&nbs=\\np;stone&nbsp;deposits&nbsp;with&nbsp;6,000&nbsp;square&nbsp;meters&nbsp;thr=\\nough&nbsp;the&nbsp;country.&nbsp;In&nbsp;addition&nbsp;to&nbsp;the&nbsp;qua=\\nrries&nbsp;Wanlistone&nbsp;has&nbsp;a&nbsp;fully&nbsp;automated&nbsp;proces=\\nsing&nbsp;plant&nbsp;for&nbsp;the&nbsp;processing&nbsp;of&nbsp;the&nbsp;gra=\\nnite&nbsp;and&nbsp;marble&nbsp;and&nbsp;granite&nbsp;products.&nbsp;</FONT>=\\n<FONT size=3D2 face=3D=BA=DA=CC=E5 color=3D#000000><BR></FONT></DIV>\\n<DIV align=3Dleft><FONT size=3D2 face=3D=BA=DA=CC=E5 color=3D#000000><BR><=\\n/FONT></DIV>\\n<DIV align=3Dleft><FONT size=3D2 face=3DArial color=3D#000000>Wanlistone&n=\\nbsp;supplies&nbsp;granite&nbsp;in&nbsp;raw&nbsp;block&nbsp;form,&nbsp;grani=\\nte&nbsp;and&nbsp;marble&nbsp;tile&nbsp;and&nbsp;strips&nbsp;of&nbsp;varying=\\n&nbsp;dimension,&nbsp;memorial&nbsp;materials&nbsp;and&nbsp;specialty&nbsp;=\\nproducts&nbsp;to&nbsp;both&nbsp;the&nbsp;local&nbsp;but&nbsp;more&nbsp;spec=\\nifically&nbsp;the&nbsp;export&nbsp;markets.&nbsp;<BR></FONT></DIV>\\n<DIV align=3Dleft><FONT size=3D2 face=3DArial color=3D#000000><BR></FONT><=\\n/DIV>\\n<DIV align=3Dleft><FONT size=3D2 face=3DArial color=3D#000000>The&nbsp;Gro=\\nup&nbsp;has&nbsp;a&nbsp;full&nbsp;rang&nbsp;of&nbsp;the&nbsp;China&nbsp;nat=\\nural&nbsp;stone&nbsp;products&nbsp;including&nbsp;<BR></FONT></DIV>\\n<DIV align=3Dleft><FONT size=3D2 face=3DArial color=3D#000000>Pink&nbsp;co=\\nlor&nbsp;G636,&nbsp;G617,&nbsp;G635,&nbsp;G663,&nbsp;Yellow&nbsp;color,&nbs=\\np;G682,Dark&nbsp;G654,&nbsp;Black&nbsp;G684.&nbsp;<BR></FONT></DIV>\\n<DIV align=3Dleft><FONT size=3D2 face=3DArial color=3D#000000>Light&nbsp;G=\\nrey:&nbsp;Imperial&nbsp;Grey,&nbsp;Huaan&nbsp;Grey.&nbsp;<BR></FONT></DIV>\\n<DIV align=3Dleft><FONT size=3D2 face=3DArial color=3D#000000><BR></FONT><=\\n/DIV>\\n<DIV align=3Dleft><FONT size=3D2 face=3DArial color=3D#000000>Wanlistone&n=\\nbsp;owns&nbsp;and&nbsp;operates&nbsp;all&nbsp;its&nbsp;own&nbsp;quarries,&n=\\nbsp;including&nbsp;North&nbsp;Black,&nbsp;Huana&nbsp;White,&nbsp;Butterfly&=\\nnbsp;Blue,&nbsp;and&nbsp;Golden&nbsp;Beige.&nbsp;All&nbsp;block&nbsp;produc=\\ntion&nbsp;is&nbsp;sold&nbsp;to&nbsp;both&nbsp;the&nbsp;local&nbsp;and&nbsp;=\\ninternational&nbsp;markets.&nbsp;The&nbsp;Group&nbsp;is&nbsp;very&nbsp;pric=\\ne&nbsp;competitive&nbsp;on&nbsp;all&nbsp;its&nbsp;products&nbsp;due&nbsp;to=\\n&nbsp;its&nbsp;low&nbsp;overhead&nbsp;structure.&nbsp;All&nbsp;blocks&nbsp;=\\nare&nbsp;ideally&nbsp;produced&nbsp;for&nbsp;gang&nbsp;saw&nbsp;processing&=\\nnbsp;and&nbsp;dimension&nbsp;of&nbsp;240&nbsp;x&nbsp;120&nbsp;are&nbsp;stan=\\ndard.&nbsp;Smaller&nbsp;blocks&nbsp;are&nbsp;also&nbsp;available&nbsp;for&n=\\nbsp;selection&nbsp;<BR></FONT></DIV>\\n<DIV align=3Dleft><FONT size=3D2 face=3DArial color=3D#000000>We&nbsp;will=\\n&nbsp;feel&nbsp;it&nbsp;an&nbsp;honour&nbsp;if&nbsp;we&nbsp;could&nbsp;serv=\\ne&nbsp;you&nbsp;and&nbsp;welcome&nbsp;your&nbsp;inquiry&nbsp;in&nbsp;our&nb=\\nsp;products.<BR></FONT></DIV>\\n<DIV align=3Dleft><FONT size=3D2 face=3D=CB=CE=CC=E5 color=3D#000000><BR><=\\n/FONT></DIV>\\n<DIV align=3Dleft><FONT size=3D2 face=3DArial color=3D#000000>Looking&nbsp=\\n;forward&nbsp;to&nbsp;hearing&nbsp;from&nbsp;you&nbsp;soonest.&nbsp;</FONT>=\\n<FONT size=3D2 face=3DArial color=3D#000000><BR></FONT></DIV>\\n<DIV align=3Dleft><FONT size=3D2 face=3DArial color=3D#000000><BR></FONT><=\\n/DIV>\\n<DIV align=3Dleft><FONT size=3D2 face=3DArial color=3D#000000>Sincerely&nb=\\nsp;yours,<BR></FONT></DIV>\\n<DIV align=3Dleft><FONT size=3D2 face=3DArial color=3D#000000>Sales&nbsp;D=\\nepartment&nbsp;</FONT><FONT size=3D2 face=3DArial color=3D#000000><STRONG><=\\nBR></STRONG></FONT></DIV>\\n<DIV align=3Dleft><FONT size=3D2 face=3DArial color=3D#000000>XIAMEN&nbsp;=\\nWANLI&nbsp;STONE&nbsp;GROUP,</FONT><FONT size=3D2 face=3D=BA=DA=CC=E5 color=\\n=3D#000000><BR></FONT></DIV>\\n<DIV align=3Dleft><FONT size=3D2 face=3DArial color=3D#000000>8&nbsp;F&nbs=\\np;Fortune&nbsp;Building&nbsp;,&nbsp;201&nbsp;North&nbsp;Hubin&nbsp;Rd,&nbsp=\\n;Xiamen&nbsp;361012,&nbsp;P.R.China.&nbsp;<BR></FONT></DIV>\\n<DIV align=3Dleft><FONT size=3D2 face=3DArial color=3D#000000>Tel:+86-592&=\\nnbsp;-5081199&nbsp;&nbsp;Fax:+86-592-5620&nbsp;971<BR></FONT></DIV>\\n<DIV align=3Dleft><FONT size=3D2 face=3DArial color=3D#000000>Web&nbsp;sit=\\ne:&nbsp;</FONT><FONT size=3D2 face=3DArial color=3D#0000ff><STRONG><U>www.w=\\nanli.com&nbsp;&lt;http://www.wanli.com&gt;</U></STRONG></FONT><FONT size=3D=\\n2 face=3DArial color=3D#000000>&nbsp;<BR></FONT></DIV>\\n<DIV align=3Dleft><FONT size=3D2 face=3DArial color=3D#000000>------------=\\n---------------------------------------------------------------------------=\\n---------------</FONT><FONT size=3D2 face=3D=BA=DA=CC=E5 color=3D#0000ff><S=\\nTRONG><BR></STRONG></FONT></DIV>\\n<DIV align=3Dleft><FONT size=3D2 face=3D=BA=DA=CC=E5 color=3D#0000ff><BR><=\\n/FONT></DIV>\\n<DIV align=3Dleft><FONT size=3D2 face=3DArial color=3D#0000ff><STRONG>Comp=\\nany&nbsp;profile:&nbsp;<BR></STRONG></FONT></DIV>\\n<DIV align=3Dleft><FONT size=3D2 face=3DArial color=3D#000000>Established&=\\nnbsp;in&nbsp;1985&nbsp;<BR></FONT></DIV>\\n<DIV align=3Dleft><FONT size=3D2 face=3DArial color=3D#000000>Located&nbsp=\\n;in&nbsp;Xiamen&nbsp;as&nbsp;No.1&nbsp;port&nbsp;of&nbsp;stone&nbsp;Exp.&&n=\\nbsp;Imp.<BR></FONT></DIV>\\n<DIV align=3Dleft><FONT size=3D2 face=3DArial color=3D#000000>Total&nbsp;a=\\nssets:&nbsp;US$10Million&nbsp;<BR></FONT></DIV>\\n<DIV align=3Dleft><FONT size=3D2 face=3DArial color=3D#000000>Turnover&nbs=\\np;of&nbsp;export&nbsp;in&nbsp;2003:&nbsp;US$0.28&nbsp;billion&nbsp;<BR></FO=\\nNT></DIV>\\n<DIV align=3Dleft><FONT size=3D2 face=3DArial color=3D#000000><BR></FONT><=\\n/DIV>\\n<DIV align=3Dleft><FONT size=3D2 face=3DArial color=3D#0000ff><STRONG>Adva=\\nntages&nbsp;in&nbsp;China:&nbsp;</STRONG></FONT><FONT size=3D2 face=3DArial=\\n color=3D#000000><STRONG><BR></STRONG></FONT></DIV>\\n<DIV align=3Dleft><FONT size=3D2 face=3DArial color=3D#000000>The&nbsp;No.=\\n1&nbsp;professional&nbsp;&&nbsp;over-sized&nbsp;stone&nbsp;group&nbsp;at&nb=\\nsp;present,&nbsp;its&nbsp;business&nbsp;are&nbsp;associated&nbsp;with&nbsp;=\\nimport&nbsp;&&nbsp;export&nbsp;t,&nbsp;processing&nbsp;and&nbsp;manufacturi=\\nng,&nbsp;and&nbsp;quarrying.&nbsp;<BR></FONT></DIV>\\n<DIV align=3Dleft><FONT size=3D2 face=3DArial color=3D#000000>One&nbsp;of&=\\nnbsp;the&nbsp;largest&nbsp;exporters&nbsp;of&nbsp;stone&nbsp;products&nbsp;=\\n<BR></FONT></DIV>\\n<DIV align=3Dleft><FONT size=3D2 face=3DArial color=3D#000000>One&nbsp;of&=\\nnbsp;the&nbsp;leading&nbsp;importers&nbsp;of&nbsp;stone&nbsp;blocks&nbsp;fr=\\nom&nbsp;the&nbsp;world&nbsp;<BR></FONT></DIV>\\n<DIV align=3Dleft><FONT size=3D2 face=3DArial color=3D#000000><BR></FONT><=\\n/DIV>\\n<DIV align=3Dleft><FONT size=3D2 face=3DArial color=3D#0000ff><STRONG>Grou=\\np&nbsp;structure:&nbsp;<BR></STRONG></FONT></DIV>\\n<DIV align=3Dleft><FONT size=3D2 face=3DArial color=3D#000000>XIAMEN&nbsp;=\\nWANISTONE&nbsp;as&nbsp;headquarter&nbsp;of&nbsp;operation&nbsp;and&nbsp;man=\\nagement,&nbsp;total&nbsp;9&nbsp;business&nbsp;departments,&nbsp;1&nbsp;desi=\\ngn&nbsp;department,&nbsp;1&nbsp;resource&nbsp;development&nbsp;section&nbsp=\\n;of&nbsp;which,&nbsp;<BR></FONT></DIV>\\n<DIV align=3Dleft><FONT size=3D2 face=3DArial color=3D#0000ff><BR></FONT><=\\n/DIV>\\n<DIV align=3Dleft><FONT size=3D2 face=3DArial color=3D#0000ff><STRONG>Subs=\\nidiary&nbsp;company&nbsp;list:&nbsp;</STRONG></FONT><FONT size=3D2 face=3DA=\\nrial color=3D#000000><STRONG><BR></STRONG></FONT></DIV>\\n<DIV align=3Dleft><FONT size=3D2 face=3DArial color=3D#000000>1.</FONT><FO=\\nNT size=3D2 face=3DArial color=3D#000000>XIAMEN&nbsp;ORITENT&nbsp;WANLISTON=\\nE&nbsp;COMPANY,&nbsp;a&nbsp;joint&nbsp;venture&nbsp;with&nbsp;MARLING&nbsp;=\\nand&nbsp;DORKING&nbsp;in&nbsp;South&nbsp;African,&nbsp;specializes&nbsp;in&=\\nnbsp;all&nbsp;types&nbsp;of&nbsp;stone&nbsp;blocks&nbsp;worldwide.&nbsp;And=\\n&nbsp;two&nbsp;blocks&nbsp;depots&nbsp;of&nbsp;6,000&nbsp;square&nbsp;meter=\\n=2E&nbsp;<BR></FONT></DIV>\\n<DIV align=3Dleft><FONT size=3D2 face=3DArial color=3D#000000>2.</FONT><FO=\\nNT size=3D2 face=3DArial color=3D#000000>AMERICA&nbsp;SINASTONE&nbsp;CO.,LT=\\nD,&nbsp;a&nbsp;professional&nbsp;supplier&nbsp;of&nbsp;all&nbsp;kinds&nbsp;=\\nof&nbsp;&nbsp;monuments&nbsp;business&nbsp;in&nbsp;USA&nbsp;market&nbsp;pla=\\nce&nbsp;</FONT><FONT size=3D2 face=3DArial color=3D#000000><STRONG><BR></ST=\\nRONG></FONT></DIV>\\n<DIV align=3Dleft><FONT size=3D2 face=3DArial color=3D#000000>3.</FONT><FO=\\nNT size=3D2 face=3DArial color=3D#000000>SOUTH&nbsp;AFRICA&nbsp;WANLINSTONE=\\n&nbsp;CO.,&nbsp;LTD,&nbsp;a&nbsp;factory&nbsp;invested&nbsp;with&nbsp;MARLI=\\nNG&nbsp;and&nbsp;DORKING,&nbsp;is&nbsp;to&nbsp;process&nbsp;special&nbsp;mo=\\nnuments,&nbsp;slab&nbsp;and&nbsp;tiles&nbsp;</FONT><FONT size=3D2 face=3DAr=\\nial color=3D#000000><STRONG><BR></STRONG></FONT></DIV>\\n<DIV align=3Dleft><FONT size=3D2 face=3DArial color=3D#000000><STRONG><BR>=\\n</STRONG></FONT></DIV>\\n<DIV align=3Dleft><FONT size=3D2 face=3DArial color=3D#0000ff><STRONG>Own&=\\nnbsp;Factories&nbsp;list&nbsp;<BR></STRONG></FONT></DIV>\\n<DIV align=3Dleft><FONT size=3D2 face=3DArial color=3D#000000>1.</FONT><FO=\\nNT size=3D2 face=3DArial color=3D#000000>XIAMEN&nbsp;WANLISTONE&nbsp;CO,&nb=\\nsp;LTD,&nbsp;with&nbsp;8&nbsp;modern&nbsp;high&nbsp;speed&nbsp;granite&nbsp=\\n;gang&nbsp;saws,&nbsp;Gaspari&nbsp;Menotti,&nbsp;,&nbsp;2&nbsp;sets&nbsp;ma=\\nrble&nbsp;gang&nbsp;saws,&nbsp;30&nbsp;sets&nbsp;circular&nbsp;saws,&nbsp;f=\\nor&nbsp;slab,&nbsp;tile&nbsp;and&nbsp;all&nbsp;profile&nbsp;stone&nbsp;fini=\\nsh&nbsp;<BR></FONT></DIV>\\n<DIV align=3Dleft><FONT size=3D2 face=3DArial color=3D#000000>2.</FONT><FO=\\nNT size=3D2 face=3DArial color=3D#000000>XIAMEN&nbsp;WANLISTONE&nbsp;CRAFT&=\\nnbsp;CO,&nbsp;LTD,&nbsp;Monuments&nbsp;is&nbsp;key.&nbsp;<BR></FONT></DIV>\\n<DIV align=3Dleft><FONT size=3D2 face=3DArial color=3D#000000>3.</FONT><FO=\\nNT size=3D2 face=3DArial color=3D#000000>LINGFONG&nbsp;WANLISTONE&nbsp;FACT=\\nORY&nbsp;IN&nbsp;QUANZHOU&nbsp;CITY,&nbsp;Monuments&nbsp;is&nbsp;key.</FONT=\\n><FONT size=3D2 face=3DArial color=3D#0000ff><BR></FONT></DIV>\\n<DIV align=3Dleft><FONT size=3D2 face=3DArial color=3D#000000>4.</FONT><FO=\\nNT size=3D2 face=3DArial color=3D#000000>TIANJING&nbsp;WANLISTONE&nbsp;FACT=\\nORY&nbsp;in&nbsp;north&nbsp;of&nbsp;China,&nbsp;Slab&nbsp;+&nbsp;Monuments&=\\nnbsp;produced&nbsp;</FONT><FONT size=3D2 face=3DArial color=3D#0000ff><BR><=\\n/FONT></DIV>\\n<DIV align=3Dleft><FONT size=3D2 face=3DArial color=3D#000000>5.</FONT><FO=\\nNT size=3D2 face=3DArial color=3D#000000>HUNAN&nbsp;HUAJIAN&nbsp;FACTORY&nb=\\nsp;in&nbsp;Hunan,&nbsp;Granite&nbsp;slab&nbsp;+&nbsp;tile&nbsp;available&nb=\\nsp;</FONT><FONT size=3D2 face=3DArial color=3D#0000ff><BR></FONT></DIV>\\n<DIV align=3Dleft><FONT size=3D2 face=3DArial color=3D#0000ff><BR></FONT><=\\n/DIV>\\n<DIV align=3Dleft><FONT size=3D2 face=3DArial color=3D#0000ff><STRONG>Own&=\\nnbsp;quarries&nbsp;list&nbsp;</STRONG></FONT><FONT size=3D2 face=3D=BA=DA=CC=\\n=E5 color=3D#000000><STRONG><BR></STRONG></FONT></DIV>\\n<DIV align=3Dleft><FONT size=3D2 face=3DArial color=3D#000000>1</FONT><FON=\\nT size=3D2 face=3D=BA=DA=CC=E5 color=3D#000000>=A3=AE</FONT><FONT size=3D2 =\\nface=3DArial color=3D#000000>IMPERIAL&nbsp;GREY</FONT><FONT size=3D2 face=3D=\\n=BA=DA=CC=E5 color=3D#000000>=A3=AC</FONT><FONT size=3D2 face=3DArial color=\\n=3D#000000>located&nbsp;in&nbsp;HUNAN&nbsp;province&nbsp;<BR></FONT></DIV>\\n<DIV align=3Dleft><FONT size=3D2 face=3DArial color=3D#000000>2</FONT><FON=\\nT size=3D2 face=3D=BA=DA=CC=E5 color=3D#000000>=A3=AE</FONT><FONT size=3D2 =\\nface=3DArial color=3D#000000>NORTH&nbsp;BLACK</FONT><FONT size=3D2 face=3D=BA=\\n=DA=CC=E5 color=3D#000000>=A3=AC</FONT><FONT size=3D2 face=3DArial color=3D=\\n#000000>Located&nbsp;in&nbsp;SHANXI&nbsp;province<BR></FONT></DIV>\\n<DIV align=3Dleft><FONT size=3D2 face=3DArial color=3D#000000>3</FONT><FON=\\nT size=3D2 face=3D=BA=DA=CC=E5 color=3D#000000>=A3=AE</FONT><FONT size=3D2 =\\nface=3DArial color=3D#000000>HUNAN&nbsp;WHITE&nbsp;</FONT><FONT size=3D2 fa=\\nce=3D=BA=DA=CC=E5 color=3D#000000>=A3=AC</FONT><FONT size=3D2 face=3DArial =\\ncolor=3D#000000>&nbsp;located&nbsp;in&nbsp;HUNAN&nbsp;province<BR></FONT></=\\nDIV>\\n<DIV align=3Dleft><FONT size=3D2 face=3DArial color=3D#000000>4</FONT><FON=\\nT size=3D2 face=3D=BA=DA=CC=E5 color=3D#000000>=A3=AE</FONT><FONT size=3D2 =\\nface=3DArial color=3D#000000>BUTTERFLY&nbsp;BLUE&nbsp;</FONT><FONT size=3D2=\\n face=3D=BA=DA=CC=E5 color=3D#000000>=A3=AC</FONT><FONT size=3D2 face=3DAri=\\nal color=3D#000000>Located&nbsp;in&nbsp;LEMONGGU&nbsp;province&nbsp;<BR></F=\\nONT></DIV>\\n<DIV align=3Dleft><FONT size=3D2 face=3DArial color=3D#000000>5</FONT><FON=\\nT size=3D2 face=3D=BA=DA=CC=E5 color=3D#000000>=A3=AE</FONT><FONT size=3D2 =\\nface=3DArial color=3D#000000>GOLDEN&nbsp;BEIGE&nbsp;</FONT><FONT size=3D2 f=\\nace=3D=BA=DA=CC=E5 color=3D#000000>=A3=AC</FONT><FONT size=3D2 face=3DArial=\\n color=3D#000000>Located&nbsp;in&nbsp;SHANXI&nbsp;province</FONT><FONT size=\\n=3D2 face=3DArial color=3D#000000><STRONG><BR></STRONG></FONT></DIV>\\n<DIV align=3Dleft><FONT size=3D2 face=3DArial color=3D#0000ff><STRONG><BR>=\\n</STRONG></FONT></DIV>\\n<DIV align=3Dleft><FONT size=3D2 face=3DArial color=3D#0000ff><STRONG>Key&=\\nnbsp;market:&nbsp;</STRONG></FONT><FONT size=3D2 face=3DArial color=3D#0000=\\n00><BR></FONT></DIV>\\n<DIV align=3Dleft><FONT size=3D2 face=3DArial color=3D#000000>Japan&nbsp;&=\\nnbsp;&nbsp;50%<BR></FONT></DIV>\\n<DIV align=3Dleft><FONT size=3D2 face=3DArial color=3D#000000>USA&nbsp;&nb=\\nsp;&nbsp;&nbsp;15%<BR></FONT></DIV>\\n<DIV align=3Dleft><FONT size=3D2 face=3DArial color=3D#000000>EU&nbsp;&nbs=\\np;&nbsp;&nbsp;&nbsp;20%<BR></FONT></DIV>\\n<DIV align=3Dleft><FONT size=3D2 face=3DArial color=3D#000000>China&nbsp;&=\\nnbsp;&nbsp;15%<BR></FONT></DIV>\\n<DIV align=3Dleft><FONT size=3D2 face=3DArial color=3D#000000>Products&nbs=\\np;involve&nbsp;construction&nbsp;materials,&nbsp;monuments&nbsp;and&nbsp;st=\\none&nbsp;finishes.&nbsp;<BR></FONT></DIV>\\n<DIV align=3Dleft><FONT size=3D2 face=3DArial color=3D#0000ff><STRONG><BR>=\\n</STRONG></FONT></DIV>\\n<DIV align=3Dleft><FONT size=3D2 face=3DArial color=3D#0000ff><STRONG>Worl=\\nd&nbsp;stone&nbsp;connecting&nbsp;</STRONG></FONT><FONT size=3D2 face=3D=BA=\\n=DA=CC=E5 color=3D#000000><STRONG><BR></STRONG></FONT></DIV>\\n<DIV align=3Dleft><FONT size=3D2 face=3DArial color=3D#000000>Very&nbsp;go=\\nod&nbsp;connecting&nbsp;with&nbsp;the&nbsp;famous&nbsp;stone&nbsp;companies=\\n&nbsp;as&nbsp;for&nbsp;growth&nbsp;up&nbsp;together.&nbsp;<BR></FONT></DIV>=\\n\\n<DIV align=3Dleft><FONT size=3D2 face=3DArial color=3D#000000><BR></FONT><=\\n/DIV>\\n<DIV align=3Dleft><FONT size=3D2 face=3DArial color=3D#000000><BR></FONT><=\\n/DIV>\\n<DIV align=3Dleft><FONT size=3D3 face=3DSystem color=3D#000000><BR></FONT>=\\n</DIV>\\n</A></BODY></HTML>\\n\\n\\n\\n------=_NextPart_001_0007_2C040077.840C0165--\\n\\n\\n\\n------=_NextPart_000_0006_2C040077.840C0165--\\n\\n\\n',\n",
       " '  Thu Jul 15 06:45:08 2004\\nReturn-Path: <jamestshabalala@netscape.net>\\nMessage-Id: <200407151045.i6FAj2A9023230@granny.mr.itd.UM>\\nDate: Thu, 15 Jul 2004 12:45:04 +0200\\nFrom: jamestshabalala@netscape.net\\nTo: jamestshabalala@netscape.net\\nSubject:  URGENT RESPONSE \\nMIME-Version: 1.0\\nContent-Type: text/plain; charset=US-ASCII\\nContent-Transfer-Encoding: 7BIT\\nStatus: O\\n\\nFROM:MR JAMES TSHABALALA\\nTEL:+ 27-83-424-7661\\nSOUTH AFRICA \\n\\nGOOD DAY , \\n                            URGENT RESPONSE \\n\\nLet me start by introducing myself. I am MR JAMES TSHABALALA a bank manager with a commercial bank here in South Africa. I came to know about you in my private search for a reliable person/company to handle a confidential Portfolio that is under my supervision. During my visit to Pretoria, one of my associates there, in confidence gave me your contact address. With srong hope that you are my search, I decided to put before you this proposal. \\n\\nThe Portfolio: \\nA German man called Mr. Wolfgang Schiniter, 66 years of age and a prosperous farmer had deposited with us a sum of TWENTY MILLION DOLLARS(U.S.$20Million). His wife Mrs. Helga Schiniter is the legitimate beneficiary to this account. Unfortunately they were both killed in the air crash involving Concord AF4590 in Gonesse, France. \\n\\nOur serch through the german embassy to find any of the next of kin, have all proved fruitless. \\n\\nAccording to the embassy, the couple had no offspring. The Firm is still unrelenting in its effort to contact any of the relatives for possible claim of this money, or the fund will be transfared to the government cofferes. In order to avoid this development, my colleagues and I now seek your permission to have you stand as a distant relative to Mr. Wolfgang Schiniter so that the funds would be released to you. \\n\\nAll the documents and proofs of identity to further enable you get these funds will be worked out. \\n\\nWe \"the Firm\", have secured the order of mandamus fom the court to serch and locate any of the deceased relatives. This is why I am asking you to present yourself as the possible closest next of kin.\\n\\nI have also decided that you will generously be entitled to 30% of the total amount, I has also map out 10% for any expenses that might come during the process of the transaction, why 60% will be for me.  Upon my receipt of your reply confirming your willingness to assist me If your good self accsept to this request, I will then commence with the procuement of the necessary documents to back your claim as the next of kin. \\n\\nThanks, we wait to hear from you. \\n\\nYours sincerely \\n\\nMR JAMES TSHABALALA. \\n\\n\\n\\n\\n',\n",
       " ...]"
      ]
     },
     "metadata": {},
     "execution_count": 5
    }
   ],
   "source": [
    "import re\n",
    "contents = re.split(r\"From r\", fh)\n",
    "contents"
   ]
  },
  {
   "cell_type": "code",
   "execution_count": 71,
   "metadata": {
    "scrolled": true
   },
   "outputs": [
    {
     "output_type": "execute_result",
     "data": {
      "text/plain": [
       "''"
      ]
     },
     "metadata": {},
     "execution_count": 71
    }
   ],
   "source": [
    "contents[0]"
   ]
  },
  {
   "cell_type": "code",
   "execution_count": 72,
   "metadata": {},
   "outputs": [
    {
     "output_type": "execute_result",
     "data": {
      "text/plain": [
       "''"
      ]
     },
     "metadata": {},
     "execution_count": 72
    }
   ],
   "source": [
    "contents.pop(0)"
   ]
  },
  {
   "cell_type": "markdown",
   "metadata": {},
   "source": [
    "- sender_email\n",
    "- sender_name\n",
    "- date_sent\n",
    "- time_sent\n",
    "- subject"
   ]
  },
  {
   "cell_type": "markdown",
   "metadata": {},
   "source": [
    "### Info Sender"
   ]
  },
  {
   "cell_type": "code",
   "execution_count": 73,
   "metadata": {},
   "outputs": [],
   "source": [
    "info_sender=[]\n",
    "for i,e in enumerate(contents):\n",
    "    try:\n",
    "        info_sender.append(re.search(\"From:.*\", e).group())\n",
    "    except: \n",
    "        info_sender.append(\"not found\")"
   ]
  },
  {
   "cell_type": "code",
   "execution_count": 74,
   "metadata": {},
   "outputs": [
    {
     "output_type": "execute_result",
     "data": {
      "text/plain": [
       "3977"
      ]
     },
     "metadata": {},
     "execution_count": 74
    }
   ],
   "source": [
    "len(info_sender)"
   ]
  },
  {
   "cell_type": "code",
   "execution_count": 75,
   "metadata": {},
   "outputs": [
    {
     "output_type": "execute_result",
     "data": {
      "text/plain": [
       "3977"
      ]
     },
     "metadata": {},
     "execution_count": 75
    }
   ],
   "source": [
    "#sender_email\n",
    "emails_info['sender_email']=[]\n",
    "for line in info_sender:\n",
    "    res=re.findall(r'[\\w\\.]+@[\\w\\.-]+', line)\n",
    "    if res:\n",
    "        emails_info['sender_email'].append(res[0])\n",
    "    else:\n",
    "        emails_info['sender_email'].append(np.nan)\n",
    "        \n",
    "len(emails_info['sender_email'])"
   ]
  },
  {
   "cell_type": "code",
   "execution_count": 76,
   "metadata": {},
   "outputs": [
    {
     "output_type": "execute_result",
     "data": {
      "text/plain": [
       "3977"
      ]
     },
     "metadata": {},
     "execution_count": 76
    }
   ],
   "source": [
    "#sender name\n",
    "emails_info['sender_name']=[]\n",
    "for line in info_sender:\n",
    "    res=re.findall(r':.*<', line)\n",
    "    if res:\n",
    "        emails_info['sender_name'].append(res[0][1:-1])\n",
    "    else:\n",
    "        emails_info['sender_name'].append(np.nan)\n",
    "len(emails_info['sender_name'])"
   ]
  },
  {
   "cell_type": "markdown",
   "metadata": {},
   "source": [
    "### Info Dates"
   ]
  },
  {
   "cell_type": "code",
   "execution_count": 77,
   "metadata": {},
   "outputs": [
    {
     "output_type": "execute_result",
     "data": {
      "text/plain": [
       "3977"
      ]
     },
     "metadata": {},
     "execution_count": 77
    }
   ],
   "source": [
    "#DATES\n",
    "dates=[]\n",
    "for i,e in enumerate(contents):\n",
    "    try:\n",
    "        dates.append(re.search(\"Date:.*\", e).group())\n",
    "    except: \n",
    "        dates.append(\"not found\")\n",
    "len(dates)"
   ]
  },
  {
   "cell_type": "code",
   "execution_count": 78,
   "metadata": {},
   "outputs": [
    {
     "output_type": "execute_result",
     "data": {
      "text/plain": [
       "3977"
      ]
     },
     "metadata": {},
     "execution_count": 78
    }
   ],
   "source": [
    "#email date\n",
    "emails_info['date_sent']=[]\n",
    "for dat in dates:\n",
    "    res=re.findall(r\"\\d+\\s\\w{3}\\s\\d+\", dat)\n",
    "    if res:\n",
    "        emails_info['date_sent'].append(res[0])\n",
    "    else:\n",
    "        emails_info['date_sent'].append(np.nan)\n",
    "\n",
    "len(emails_info['date_sent'])"
   ]
  },
  {
   "cell_type": "code",
   "execution_count": 79,
   "metadata": {},
   "outputs": [
    {
     "output_type": "execute_result",
     "data": {
      "text/plain": [
       "3977"
      ]
     },
     "metadata": {},
     "execution_count": 79
    }
   ],
   "source": [
    "emails_info['time_sent']=[]\n",
    "for dat in dates:\n",
    "    res=re.findall(r\"\\d{2}:\\d{2}:\\d{2}\", dat)\n",
    "    if res:\n",
    "        emails_info['time_sent'].append(res[0])\n",
    "    else:\n",
    "        emails_info['time_sent'].append(np.nan)\n",
    "\n",
    "len(emails_info['time_sent'])"
   ]
  },
  {
   "cell_type": "markdown",
   "metadata": {},
   "source": [
    "### Subject"
   ]
  },
  {
   "cell_type": "code",
   "execution_count": 80,
   "metadata": {},
   "outputs": [
    {
     "output_type": "execute_result",
     "data": {
      "text/plain": [
       "3977"
      ]
     },
     "metadata": {},
     "execution_count": 80
    }
   ],
   "source": [
    "subject=[]\n",
    "for i,e in enumerate(contents):\n",
    "    try:\n",
    "        subject.append(re.search(\"Subject:.*\", e).group())\n",
    "    except: \n",
    "        subject.append(\"not found\")\n",
    "len(subject)"
   ]
  },
  {
   "cell_type": "code",
   "execution_count": 81,
   "metadata": {},
   "outputs": [
    {
     "output_type": "execute_result",
     "data": {
      "text/plain": [
       "3977"
      ]
     },
     "metadata": {},
     "execution_count": 81
    }
   ],
   "source": [
    "emails_info['subject']=[]\n",
    "for sub in subject:\n",
    "    res=re.findall(r\":.*\", sub)\n",
    "    if res:\n",
    "        emails_info['subject'].append(res[0][2:])\n",
    "    else:\n",
    "        emails_info['subject'].append(np.nan)\n",
    "\n",
    "len(emails_info['subject'])"
   ]
  },
  {
   "cell_type": "markdown",
   "metadata": {},
   "source": [
    "### Creating DataFrame"
   ]
  },
  {
   "cell_type": "code",
   "execution_count": 82,
   "metadata": {},
   "outputs": [
    {
     "output_type": "execute_result",
     "data": {
      "text/plain": [
       "sender_email    476\n",
       "sender_name     837\n",
       "date_sent       614\n",
       "time_sent       618\n",
       "subject          27\n",
       "dtype: int64"
      ]
     },
     "metadata": {},
     "execution_count": 82
    }
   ],
   "source": [
    "df=pd.DataFrame(emails_info)\n",
    "df.isnull().sum()"
   ]
  },
  {
   "cell_type": "code",
   "execution_count": 83,
   "metadata": {},
   "outputs": [
    {
     "output_type": "execute_result",
     "data": {
      "text/plain": [
       "                   sender_email             sender_name    date_sent  \\\n",
       "0   james_ngola2002@maktoob.com     \"MR. JAMES NGOLA.\"   31 Oct 2002   \n",
       "1  bensul2004nng@spinfinder.com      \"Mr. Ben Suleman\"   31 Oct 2002   \n",
       "2          obong_715@epatra.com   \"PRINCE OBONG ELEME\"   31 Oct 2002   \n",
       "3          obong_715@epatra.com   \"PRINCE OBONG ELEME\"   31 Oct 2002   \n",
       "4            m_abacha03@www.com        \"Maryam Abacha\"    1 Nov 2002   \n",
       "\n",
       "  time_sent                                     subject  \n",
       "0  02:38:20  URGENT BUSINESS ASSISTANCE AND PARTNERSHIP  \n",
       "1  05:10:00         URGENT ASSISTANCE /RELATIONSHIP (P)  \n",
       "2  22:17:55                             GOOD DAY TO YOU  \n",
       "3  22:44:20                             GOOD DAY TO YOU  \n",
       "4  01:45:04                     I Need Your Assistance.  "
      ],
      "text/html": "<div>\n<style scoped>\n    .dataframe tbody tr th:only-of-type {\n        vertical-align: middle;\n    }\n\n    .dataframe tbody tr th {\n        vertical-align: top;\n    }\n\n    .dataframe thead th {\n        text-align: right;\n    }\n</style>\n<table border=\"1\" class=\"dataframe\">\n  <thead>\n    <tr style=\"text-align: right;\">\n      <th></th>\n      <th>sender_email</th>\n      <th>sender_name</th>\n      <th>date_sent</th>\n      <th>time_sent</th>\n      <th>subject</th>\n    </tr>\n  </thead>\n  <tbody>\n    <tr>\n      <th>0</th>\n      <td>james_ngola2002@maktoob.com</td>\n      <td>\"MR. JAMES NGOLA.\"</td>\n      <td>31 Oct 2002</td>\n      <td>02:38:20</td>\n      <td>URGENT BUSINESS ASSISTANCE AND PARTNERSHIP</td>\n    </tr>\n    <tr>\n      <th>1</th>\n      <td>bensul2004nng@spinfinder.com</td>\n      <td>\"Mr. Ben Suleman\"</td>\n      <td>31 Oct 2002</td>\n      <td>05:10:00</td>\n      <td>URGENT ASSISTANCE /RELATIONSHIP (P)</td>\n    </tr>\n    <tr>\n      <th>2</th>\n      <td>obong_715@epatra.com</td>\n      <td>\"PRINCE OBONG ELEME\"</td>\n      <td>31 Oct 2002</td>\n      <td>22:17:55</td>\n      <td>GOOD DAY TO YOU</td>\n    </tr>\n    <tr>\n      <th>3</th>\n      <td>obong_715@epatra.com</td>\n      <td>\"PRINCE OBONG ELEME\"</td>\n      <td>31 Oct 2002</td>\n      <td>22:44:20</td>\n      <td>GOOD DAY TO YOU</td>\n    </tr>\n    <tr>\n      <th>4</th>\n      <td>m_abacha03@www.com</td>\n      <td>\"Maryam Abacha\"</td>\n      <td>1 Nov 2002</td>\n      <td>01:45:04</td>\n      <td>I Need Your Assistance.</td>\n    </tr>\n  </tbody>\n</table>\n</div>"
     },
     "metadata": {},
     "execution_count": 83
    }
   ],
   "source": [
    "df.head()"
   ]
  },
  {
   "cell_type": "markdown",
   "metadata": {},
   "source": [
    "### ¡Now you can start your analysis!"
   ]
  }
 ],
 "metadata": {
  "kernelspec": {
   "name": "python374jvsc74a57bd0fc2c00f0e2c44cb4028bd693f18a1b5d93d1de4cd12db71fca36ff691a163044",
   "display_name": "Python 3.7.4 64-bit"
  },
  "language_info": {
   "codemirror_mode": {
    "name": "ipython",
    "version": 3
   },
   "file_extension": ".py",
   "mimetype": "text/x-python",
   "name": "python",
   "nbconvert_exporter": "python",
   "pygments_lexer": "ipython3",
   "version": "3.7.4"
  },
  "metadata": {
   "interpreter": {
    "hash": "fc2c00f0e2c44cb4028bd693f18a1b5d93d1de4cd12db71fca36ff691a163044"
   }
  }
 },
 "nbformat": 4,
 "nbformat_minor": 2
}