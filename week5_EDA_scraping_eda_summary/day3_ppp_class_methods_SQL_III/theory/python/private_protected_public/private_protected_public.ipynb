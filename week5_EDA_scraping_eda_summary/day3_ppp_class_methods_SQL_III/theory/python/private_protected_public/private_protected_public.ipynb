{
 "cells": [
  {
   "cell_type": "markdown",
   "metadata": {},
   "source": [
    "![](ppp.png)"
   ]
  },
  {
   "source": [
    "#### Modifiers"
   ],
   "cell_type": "markdown",
   "metadata": {}
  },
  {
   "cell_type": "code",
   "execution_count": 1,
   "metadata": {},
   "outputs": [
    {
     "output_type": "stream",
     "name": "stdout",
     "text": [
      "<class 'pandas.core.frame.DataFrame'>\nIndex: 0 entries\nEmpty DataFrame"
     ]
    }
   ],
   "source": [
    "import pandas as pd\n",
    "\n",
    "df = pd.DataFrame()\n",
    "df.info()\n"
   ]
  },
  {
   "cell_type": "code",
   "execution_count": 2,
   "metadata": {},
   "outputs": [],
   "source": [
    "x = 2  # Public -- Everywhere\n",
    "_x = 2  # Protected -- Inside class or sub-class\n",
    "__x = 2  # Private  -- Inside class or file\n"
   ]
  },
  {
   "cell_type": "code",
   "execution_count": 3,
   "metadata": {},
   "outputs": [
    {
     "output_type": "error",
     "ename": "SyntaxError",
     "evalue": "invalid syntax (<ipython-input-3-40b5624ebc19>, line 2)",
     "traceback": [
      "\u001b[1;36m  File \u001b[1;32m\"<ipython-input-3-40b5624ebc19>\"\u001b[1;36m, line \u001b[1;32m2\u001b[0m\n\u001b[1;33m    private Integer variable = 2;\u001b[0m\n\u001b[1;37m                  ^\u001b[0m\n\u001b[1;31mSyntaxError\u001b[0m\u001b[1;31m:\u001b[0m invalid syntax\n"
     ]
    }
   ],
   "source": [
    "# Ejemplo en Java\n",
    "private Integer variable = 2;"
   ]
  },
  {
   "cell_type": "code",
   "execution_count": null,
   "metadata": {},
   "outputs": [],
   "source": [
    "class Humano:\n",
    "\n",
    "    def __init__(self):\n",
    "        pass\n",
    "\n",
    "    def __str__(self):\n",
    "        pass\n",
    "\n",
    "#c++\n",
    "# built-in"
   ]
  },
  {
   "cell_type": "code",
   "execution_count": null,
   "metadata": {
    "tags": []
   },
   "outputs": [],
   "source": [
    "# Public \n",
    "\n",
    "def public_function():\n",
    "    print(\"public\")\n",
    "\n",
    "# Protected\n",
    "\n",
    "def _protected_function(): # Si creo esto en otro fichero fuera de la carpeta e importo la clase Humano no podré ejecutar esta funcion\n",
    "    print(\"Protected\")\n",
    "\n",
    "# Private: como está en mi propio archivo puedo utilizarla, pero si quiero usarla de otro archivo no puedo acceder a ella\n",
    "\n",
    "def __private_function():\n",
    "    print(\"Private\")\n",
    "\n",
    "if __name__ == \"__main__\":\n",
    "    print(\"We are going to test the functions: \\n\\n\\n\\n\")\n",
    "    print(\"--------------------------\")\n",
    "    print(\"Testing public...\")\n",
    "    public_function()\n",
    "    print(\"--------------------------\")\n",
    "    print(\"Testing protected...\")\n",
    "    _protected_function()\n",
    "    print(\"--------------------------\")\n",
    "    print(\"Testing private...\")\n",
    "    __private_function()\n",
    "    print(\"--------------------------\")"
   ]
  },
  {
   "cell_type": "code",
   "execution_count": 12,
   "metadata": {},
   "outputs": [],
   "source": [
    "def __f_priv():\n",
    "    print(\"Soy priv\")"
   ]
  },
  {
   "cell_type": "code",
   "execution_count": 13,
   "metadata": {},
   "outputs": [
    {
     "output_type": "stream",
     "name": "stdout",
     "text": [
      "Soy priv\n"
     ]
    }
   ],
   "source": [
    "__f_priv()"
   ]
  },
  {
   "cell_type": "code",
   "execution_count": 14,
   "metadata": {
    "tags": []
   },
   "outputs": [
    {
     "output_type": "stream",
     "name": "stdout",
     "text": [
      "Hola\nWe are going to test the functions: \n\n\n\n\n--------------------------\nTesting public...\npublic\n--------------------------\nTesting protected...\nProtected\n--------------------------\nTesting private...\n"
     ]
    },
    {
     "output_type": "error",
     "ename": "AttributeError",
     "evalue": "'Human' object has no attribute '__private_function'",
     "traceback": [
      "\u001b[1;31m---------------------------------------------------------------------------\u001b[0m",
      "\u001b[1;31mAttributeError\u001b[0m                            Traceback (most recent call last)",
      "\u001b[1;32m<ipython-input-14-3e780d83982b>\u001b[0m in \u001b[0;36m<module>\u001b[1;34m\u001b[0m\n\u001b[0;32m     30\u001b[0m     \u001b[0mprint\u001b[0m\u001b[1;33m(\u001b[0m\u001b[1;34m\"--------------------------\"\u001b[0m\u001b[1;33m)\u001b[0m\u001b[1;33m\u001b[0m\u001b[1;33m\u001b[0m\u001b[0m\n\u001b[0;32m     31\u001b[0m     \u001b[0mprint\u001b[0m\u001b[1;33m(\u001b[0m\u001b[1;34m\"Testing private...\"\u001b[0m\u001b[1;33m)\u001b[0m\u001b[1;33m\u001b[0m\u001b[1;33m\u001b[0m\u001b[0m\n\u001b[1;32m---> 32\u001b[1;33m     \u001b[0mp\u001b[0m\u001b[1;33m.\u001b[0m\u001b[0m__private_function\u001b[0m\u001b[1;33m(\u001b[0m\u001b[1;33m)\u001b[0m\u001b[1;33m\u001b[0m\u001b[1;33m\u001b[0m\u001b[0m\n\u001b[0m\u001b[0;32m     33\u001b[0m     \u001b[0mprint\u001b[0m\u001b[1;33m(\u001b[0m\u001b[1;34m\"--------------------------\"\u001b[0m\u001b[1;33m)\u001b[0m\u001b[1;33m\u001b[0m\u001b[1;33m\u001b[0m\u001b[0m\n",
      "\u001b[1;31mAttributeError\u001b[0m: 'Human' object has no attribute '__private_function'"
     ]
    }
   ],
   "source": [
    "class Human:\n",
    "\n",
    "    def __init__(self):\n",
    "        print(\"Hola\")\n",
    "\n",
    "    # Public \n",
    "    def public_function(self):\n",
    "        print(\"public\")\n",
    "\n",
    "    # Protected\n",
    "    def _protected_function(self):\n",
    "        print(\"Protected\")\n",
    "\n",
    "    # Private: yo no puedo llamar a una función de una clase desde fuera de la clase\n",
    "    def __private_function(self):\n",
    "        print(\"Private\")\n",
    "\n",
    "    def mi_funcion(self):\n",
    "        self.__private_function()\n",
    "\n",
    "if __name__ == \"__main__\":\n",
    "    p = Human()\n",
    "    print(\"We are going to test the functions: \\n\\n\\n\\n\")\n",
    "    print(\"--------------------------\")\n",
    "    print(\"Testing public...\")\n",
    "    p.public_function()\n",
    "    print(\"--------------------------\")\n",
    "    print(\"Testing protected...\")\n",
    "    p._protected_function()\n",
    "    print(\"--------------------------\")\n",
    "    print(\"Testing private...\")\n",
    "    p.__private_function()\n",
    "    print(\"--------------------------\")"
   ]
  },
  {
   "cell_type": "code",
   "execution_count": 15,
   "metadata": {
    "tags": []
   },
   "outputs": [
    {
     "output_type": "stream",
     "name": "stdout",
     "text": [
      "Soy priv\n"
     ]
    }
   ],
   "source": [
    "__f_priv()"
   ]
  },
  {
   "cell_type": "code",
   "execution_count": null,
   "metadata": {},
   "outputs": [],
   "source": []
  },
  {
   "cell_type": "code",
   "execution_count": 6,
   "metadata": {
    "tags": []
   },
   "outputs": [
    {
     "output_type": "stream",
     "name": "stdout",
     "text": [
      "Private\n"
     ]
    }
   ],
   "source": [
    "p.mi_funcion()"
   ]
  },
  {
   "cell_type": "code",
   "execution_count": null,
   "metadata": {
    "tags": []
   },
   "outputs": [],
   "source": [
    "p.__init__()\n",
    "# Built-in"
   ]
  }
 ],
 "metadata": {
  "language_info": {
   "name": "python",
   "codemirror_mode": {
    "name": "ipython",
    "version": 3
   },
   "version": "3.7.4"
  },
  "orig_nbformat": 2,
  "file_extension": ".py",
  "mimetype": "text/x-python",
  "name": "python",
  "npconvert_exporter": "python",
  "pygments_lexer": "ipython3",
  "version": 3,
  "kernelspec": {
   "name": "python374jvsc74a57bd0fc2c00f0e2c44cb4028bd693f18a1b5d93d1de4cd12db71fca36ff691a163044",
   "display_name": "Python 3.7.4 64-bit"
  },
  "metadata": {
   "interpreter": {
    "hash": "fc2c00f0e2c44cb4028bd693f18a1b5d93d1de4cd12db71fca36ff691a163044"
   }
  }
 },
 "nbformat": 4,
 "nbformat_minor": 2
}