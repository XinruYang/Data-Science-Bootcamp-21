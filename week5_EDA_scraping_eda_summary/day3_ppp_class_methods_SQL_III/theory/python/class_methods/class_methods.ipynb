{
 "cells": [
  {
   "cell_type": "code",
   "execution_count": 3,
   "metadata": {},
   "outputs": [
    {
     "output_type": "stream",
     "name": "stdout",
     "text": [
      "29\n"
     ]
    }
   ],
   "source": [
    "from datetime import date \n",
    "birthdate = 1992\n",
    "print(date.today().year - birthdate)"
   ]
  },
  {
   "cell_type": "code",
   "execution_count": 11,
   "metadata": {},
   "outputs": [],
   "source": [
    "from datetime import date \n",
    "  \n",
    "class Person: \n",
    "    def __init__(self, name, age, is_alive): \n",
    "        self.__name = name \n",
    "        self.__age = age \n",
    "    \n",
    "    # @ --> decorador de la función\n",
    "    @classmethod #Es una función que lo que hace es poder construir una nueva instancia \n",
    "    def from_birth_year(cls, name, birthyear): #Estamos creando una instancia, estamos llamando al constructor\n",
    "        #Estamos llamando a la propia clase, pasando un nombre y la edad\n",
    "        return cls(name=name, age=(date.today().year - birthyear), is_alive=True) \n",
    "      \n",
    "    @classmethod\n",
    "    def create_pepito(cls): \n",
    "        return cls(name=\"Pepito\", age=34, is_alive=True) \n",
    "\n",
    "    @classmethod # Sirve para crear instancias de la clase de una manera diferente\n",
    "    def create_alive_person(cls, name, age): \n",
    "        return cls(name=name, age=age, is_alive=True) \n",
    "\n",
    "    # @ --> decorador de la función\n",
    "    @staticmethod # Es una funcion que vamos a poder utilizar con algun concepto de la clase, por ejemplo aquí siempre que tenga más de 18 años será adult. \n",
    "    def is_adult(age):\n",
    "        return age > 18\n",
    "  \n",
    "    @property # Llamamos a name sin que tengamos que poner el ()\n",
    "    def name(self):\n",
    "        return self.__name\n",
    "\n",
    "    def funcion_normal(self):\n",
    "        return 2\n",
    "\n",
    "    @name.setter # Podemos reasignar un valor al atributo name, para limitar la forma en la que se acutaliza un nombre, entonces lo podemos chequear dentro de la función\n",
    "    def name(self, x):\n",
    "        if x == \"\" or x == None:\n",
    "            print(\"Por favor, escriba un nombre\")\n",
    "        else:\n",
    "            self.__name = x\n",
    "    \n",
    "    @property\n",
    "    def age(self):\n",
    "        return self.__age\n",
    "\n",
    "    @age.setter\n",
    "    def age(self, age):\n",
    "        self.__age = age\n",
    "\n",
    "    @property\n",
    "    def x(self):\n",
    "        return self.__x\n",
    "\n",
    "    def name_and_age(self):\n",
    "        print(self.age, self.name) \n",
    "\n",
    "    def __private_function(self):\n",
    "        print(\"I am private\")\n",
    "\n",
    "    def _protected_function(self):\n",
    "        print(\"I am protected\")\n",
    "        self.__private_function()\n",
    "\n",
    "    def public_function(self):\n",
    "        print(\"I am public and I will call my sisters private and protected functions\")\n",
    "        print(\"Calling protected...\")\n",
    "        self._protected_function()\n",
    "        print(\"Calling private...\")\n",
    "        self.__private_function()\n",
    "        print(\"They are safe!\")\n"
   ]
  },
  {
   "cell_type": "code",
   "execution_count": 14,
   "metadata": {},
   "outputs": [
    {
     "output_type": "stream",
     "name": "stdout",
     "text": [
      "Por favor, escriba un nombre\n"
     ]
    },
    {
     "output_type": "execute_result",
     "data": {
      "text/plain": [
       "'Pepito'"
      ]
     },
     "metadata": {},
     "execution_count": 14
    }
   ],
   "source": [
    "pepito = Person.create_pepito()\n",
    "pepito.name = None\n",
    "pepito.name"
   ]
  },
  {
   "cell_type": "code",
   "execution_count": 15,
   "metadata": {},
   "outputs": [
    {
     "output_type": "execute_result",
     "data": {
      "text/plain": [
       "'jkdjs'"
      ]
     },
     "metadata": {},
     "execution_count": 15
    }
   ],
   "source": [
    "pepito.name = \"jkdjs\"\n",
    "pepito.name"
   ]
  },
  {
   "cell_type": "code",
   "execution_count": null,
   "metadata": {},
   "outputs": [],
   "source": [
    "p = Person(name=\"Gregorio\", age=92)\n",
    "p.name_and_age()\n",
    "p.is_adult(age=43)"
   ]
  },
  {
   "cell_type": "code",
   "execution_count": null,
   "metadata": {},
   "outputs": [],
   "source": [
    "pepito = Person.create_pepito()\n",
    "print(pepito.age)\n",
    "print(pepito.is_adult(86))\n",
    "pepito.name"
   ]
  },
  {
   "cell_type": "code",
   "execution_count": null,
   "metadata": {},
   "outputs": [],
   "source": [
    "pepito.x"
   ]
  },
  {
   "cell_type": "code",
   "execution_count": null,
   "metadata": {},
   "outputs": [],
   "source": [
    "pepito.name = \"Zidane\"\n",
    "pepito.name"
   ]
  },
  {
   "cell_type": "code",
   "execution_count": null,
   "metadata": {},
   "outputs": [],
   "source": [
    "pepito.x"
   ]
  },
  {
   "cell_type": "code",
   "execution_count": null,
   "metadata": {},
   "outputs": [],
   "source": [
    "Person.is_adult(86)"
   ]
  },
  {
   "cell_type": "code",
   "execution_count": null,
   "metadata": {},
   "outputs": [],
   "source": [
    "Person.name_and_age()"
   ]
  },
  {
   "cell_type": "code",
   "execution_count": null,
   "metadata": {},
   "outputs": [],
   "source": [
    "p = Person(name=\"\", age=56)"
   ]
  },
  {
   "cell_type": "code",
   "execution_count": null,
   "metadata": {},
   "outputs": [],
   "source": [
    "p = Person(name=\"Gregorio\", age=92)\n",
    "p.name "
   ]
  },
  {
   "cell_type": "code",
   "execution_count": null,
   "metadata": {},
   "outputs": [],
   "source": [
    "p.age"
   ]
  },
  {
   "cell_type": "code",
   "execution_count": null,
   "metadata": {},
   "outputs": [],
   "source": [
    "p.__age"
   ]
  },
  {
   "cell_type": "code",
   "execution_count": 4,
   "metadata": {},
   "outputs": [
    {
     "output_type": "error",
     "ename": "NameError",
     "evalue": "name 'Person' is not defined",
     "traceback": [
      "\u001b[1;31m---------------------------------------------------------------------------\u001b[0m",
      "\u001b[1;31mNameError\u001b[0m                                 Traceback (most recent call last)",
      "\u001b[1;32m<ipython-input-4-4bf145968b6c>\u001b[0m in \u001b[0;36m<module>\u001b[1;34m\u001b[0m\n\u001b[1;32m----> 1\u001b[1;33m \u001b[0mlucia\u001b[0m \u001b[1;33m=\u001b[0m \u001b[0mPerson\u001b[0m\u001b[1;33m.\u001b[0m\u001b[0mfrom_birth_year\u001b[0m\u001b[1;33m(\u001b[0m\u001b[0mname\u001b[0m\u001b[1;33m=\u001b[0m\u001b[1;34m\"Lucía\"\u001b[0m\u001b[1;33m,\u001b[0m \u001b[0mbirthyear\u001b[0m\u001b[1;33m=\u001b[0m\u001b[1;36m1992\u001b[0m\u001b[1;33m)\u001b[0m\u001b[1;33m\u001b[0m\u001b[1;33m\u001b[0m\u001b[0m\n\u001b[0m\u001b[0;32m      2\u001b[0m \u001b[0mprint\u001b[0m\u001b[1;33m(\u001b[0m\u001b[0mlucia\u001b[0m\u001b[1;33m.\u001b[0m\u001b[0mname\u001b[0m\u001b[1;33m)\u001b[0m\u001b[1;33m\u001b[0m\u001b[1;33m\u001b[0m\u001b[0m\n\u001b[0;32m      3\u001b[0m \u001b[0mlucia\u001b[0m\u001b[1;33m.\u001b[0m\u001b[0mage\u001b[0m\u001b[1;33m\u001b[0m\u001b[1;33m\u001b[0m\u001b[0m\n",
      "\u001b[1;31mNameError\u001b[0m: name 'Person' is not defined"
     ]
    }
   ],
   "source": [
    "lucia = Person.from_birth_year(name=\"Lucía\", birthyear=1992)\n",
    "print(lucia.name)\n",
    "lucia.age"
   ]
  },
  {
   "cell_type": "code",
   "execution_count": null,
   "metadata": {},
   "outputs": [],
   "source": [
    "lucia.age"
   ]
  },
  {
   "cell_type": "code",
   "execution_count": null,
   "metadata": {},
   "outputs": [],
   "source": []
  }
 ],
 "metadata": {
  "language_info": {
   "name": "python",
   "codemirror_mode": {
    "name": "ipython",
    "version": 3
   },
   "version": "3.7.4"
  },
  "orig_nbformat": 2,
  "file_extension": ".py",
  "mimetype": "text/x-python",
  "name": "python",
  "npconvert_exporter": "python",
  "pygments_lexer": "ipython3",
  "version": 3,
  "kernelspec": {
   "name": "python374jvsc74a57bd0fc2c00f0e2c44cb4028bd693f18a1b5d93d1de4cd12db71fca36ff691a163044",
   "display_name": "Python 3.7.4 64-bit"
  },
  "metadata": {
   "interpreter": {
    "hash": "fc2c00f0e2c44cb4028bd693f18a1b5d93d1de4cd12db71fca36ff691a163044"
   }
  }
 },
 "nbformat": 4,
 "nbformat_minor": 2
}