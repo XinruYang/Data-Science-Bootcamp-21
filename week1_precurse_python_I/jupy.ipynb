{
 "metadata": {
  "language_info": {
   "codemirror_mode": {
    "name": "ipython",
    "version": 3
   },
   "file_extension": ".py",
   "mimetype": "text/x-python",
   "name": "python",
   "nbconvert_exporter": "python",
   "pygments_lexer": "ipython3",
   "version": "3.7.4"
  },
  "orig_nbformat": 2,
  "kernelspec": {
   "name": "python374jvsc74a57bd0fc2c00f0e2c44cb4028bd693f18a1b5d93d1de4cd12db71fca36ff691a163044",
   "display_name": "Python 3.7.4 64-bit"
  },
  "metadata": {
   "interpreter": {
    "hash": "fc2c00f0e2c44cb4028bd693f18a1b5d93d1de4cd12db71fca36ff691a163044"
   }
  }
 },
 "nbformat": 4,
 "nbformat_minor": 2,
 "cells": [
  {
   "cell_type": "code",
   "execution_count": 1,
   "metadata": {},
   "outputs": [
    {
     "output_type": "stream",
     "name": "stdout",
     "text": [
      "['banana', 'orange', 'mango', 'lemon', 'apple']\n"
     ]
    }
   ],
   "source": [
    "fruits = ['banana', 'orange', 'mango', 'lemon']\n",
    "fruit = input()\n",
    "if fruit in fruits: \n",
    "    print(\"that fruit already exist in the list\")\n",
    "else: \n",
    "    fruits.append(fruit)\n",
    "    print(fruits)"
   ]
  },
  {
   "cell_type": "code",
   "execution_count": 2,
   "metadata": {},
   "outputs": [
    {
     "output_type": "stream",
     "name": "stdout",
     "text": [
      "spam\nspam\nspam\nNone\n"
     ]
    }
   ],
   "source": [
    "def my_func():\n",
    "    print(\"spam\")\n",
    "    print(\"spam\")\n",
    "    print(\"spam\")\n",
    "print(my_func())"
   ]
  },
  {
   "cell_type": "code",
   "execution_count": 11,
   "metadata": {},
   "outputs": [
    {
     "output_type": "stream",
     "name": "stdout",
     "text": [
      "sam!\nanni!\nrut!\n"
     ]
    }
   ],
   "source": [
    "def hello(word): \n",
    "    print(word + \"!\")\n",
    "\n",
    "hello(\"sam\")\n",
    "hello(\"anni\")\n",
    "hello(\"rut\")"
   ]
  },
  {
   "cell_type": "code",
   "execution_count": 4,
   "metadata": {},
   "outputs": [],
   "source": [
    "dog = {}"
   ]
  },
  {
   "cell_type": "code",
   "execution_count": 5,
   "metadata": {},
   "outputs": [],
   "source": [
    "lista_claves = [\"name\", \"color\", \"breed\", \"age\"]\n",
    "lista_valores = []\n",
    "\n",
    "for i in range(len(lista_claves)):\n",
    "        lista_valores.append([])\n"
   ]
  },
  {
   "cell_type": "code",
   "execution_count": 6,
   "metadata": {},
   "outputs": [
    {
     "output_type": "stream",
     "name": "stdout",
     "text": [
      "{'name': [], 'color': [], 'breed': [], 'age': []}\n"
     ]
    }
   ],
   "source": [
    "for i in range(len(lista_claves)):\n",
    "    dog[lista_claves[i]] = lista_valores[i]\n",
    "     \n",
    "print(dog)"
   ]
  },
  {
   "cell_type": "code",
   "execution_count": 1,
   "metadata": {},
   "outputs": [],
   "source": [
    "arg1 = [0, 2, 4, 6, 8, 10, 12, 14, 16, 18]"
   ]
  },
  {
   "cell_type": "code",
   "execution_count": 5,
   "metadata": {},
   "outputs": [],
   "source": [
    "arg1.remove(4)"
   ]
  },
  {
   "cell_type": "code",
   "execution_count": 3,
   "metadata": {},
   "outputs": [],
   "source": [
    "arg1.append(True)"
   ]
  },
  {
   "cell_type": "code",
   "execution_count": 6,
   "metadata": {},
   "outputs": [
    {
     "output_type": "stream",
     "name": "stdout",
     "text": [
      "[0, 2, 6, 8, 10, 12, 14, 16, True]\n"
     ]
    }
   ],
   "source": [
    "print(arg1)"
   ]
  },
  {
   "cell_type": "code",
   "execution_count": null,
   "metadata": {},
   "outputs": [],
   "source": []
  },
  {
   "cell_type": "code",
   "execution_count": 1,
   "metadata": {},
   "outputs": [],
   "source": [
    "diccionario = {'Madrid': 'Templo de Debod', 'Barcelona': 'Sagrada Familia', 'Bilbao': 'Estadio San Mamés', 'Malaga': 'Gibralfaro'}"
   ]
  },
  {
   "cell_type": "code",
   "execution_count": 4,
   "metadata": {},
   "outputs": [
    {
     "output_type": "stream",
     "name": "stdout",
     "text": [
      "{('Bilbao', 'Estadio San Mamés'), ('Barcelona', 'Sagrada Familia'), ('Malaga', 'Gibralfaro'), ('Madrid', 'Templo de Debod')}\n"
     ]
    }
   ],
   "source": [
    "print(set(diccionario.items()))"
   ]
  },
  {
   "cell_type": "code",
   "execution_count": 2,
   "metadata": {},
   "outputs": [],
   "source": [
    "words = ['8a', '2y', '27z', '10x']"
   ]
  },
  {
   "cell_type": "code",
   "execution_count": 4,
   "metadata": {},
   "outputs": [
    {
     "output_type": "stream",
     "name": "stdout",
     "text": [
      "{'a': '8', 'y': '2', 'z': '27', 'x': '10'}\n"
     ]
    }
   ],
   "source": [
    "dictionary = {}\n",
    "\n",
    "for v_elem in words:\n",
    "    for pos, elem in enumerate(v_elem):\n",
    "        if not elem.isdigit():\n",
    "            key = v_elem[pos:]\n",
    "            value = v_elem[:pos]\n",
    "            dictionary[key] = value\n",
    "\n",
    "print(dictionary)"
   ]
  },
  {
   "cell_type": "code",
   "execution_count": 5,
   "metadata": {},
   "outputs": [
    {
     "output_type": "stream",
     "name": "stdout",
     "text": [
      "['8', '2', '27', '10']\n[8, 2, 27, 10]\n[8, 2, 27, 10]\n47\n"
     ]
    }
   ],
   "source": [
    "lista_valores = list(dictionary.values())\n",
    "print(lista_valores)\n",
    "valores_int = list(map(int, lista_valores))\n",
    "print(valores_int)\n",
    "lista_int = list(valores_int)\n",
    "print(lista_int)\n",
    "print(sum(lista_int))"
   ]
  },
  {
   "cell_type": "code",
   "execution_count": 1,
   "metadata": {},
   "outputs": [
    {
     "output_type": "stream",
     "name": "stdout",
     "text": [
      "s\nt\nr\ni\nn\ng\n"
     ]
    }
   ],
   "source": [
    "a = \"string\"\n",
    "for i in a:\n",
    "    print(i)"
   ]
  },
  {
   "cell_type": "code",
   "execution_count": 2,
   "metadata": {},
   "outputs": [
    {
     "output_type": "execute_result",
     "data": {
      "text/plain": [
       "22"
      ]
     },
     "metadata": {},
     "execution_count": 2
    }
   ],
   "source": [
    "a = [1,2,3] \n",
    "b=[6,2,8]\n",
    "sum(a+b)"
   ]
  },
  {
   "cell_type": "code",
   "execution_count": 4,
   "metadata": {},
   "outputs": [
    {
     "output_type": "stream",
     "name": "stdout",
     "text": [
      "{(2, 3, (4, 'a', 1)): 3}\n"
     ]
    }
   ],
   "source": [
    "diccionario = {(2,3,(4,\"a\",1)): 3}\n",
    "print(diccionario)"
   ]
  },
  {
   "cell_type": "code",
   "execution_count": 5,
   "metadata": {},
   "outputs": [
    {
     "output_type": "execute_result",
     "data": {
      "text/plain": [
       "False"
      ]
     },
     "metadata": {},
     "execution_count": 5
    }
   ],
   "source": [
    "a = \"Soraya\"\n",
    "\"s\" in a"
   ]
  },
  {
   "cell_type": "code",
   "execution_count": 14,
   "metadata": {},
   "outputs": [],
   "source": [
    "a = {3,3}\n",
    "b = {1:2}"
   ]
  },
  {
   "cell_type": "code",
   "execution_count": 15,
   "metadata": {},
   "outputs": [
    {
     "output_type": "error",
     "ename": "SyntaxError",
     "evalue": "can't assign to function call (<ipython-input-15-cd1fcea55651>, line 1)",
     "traceback": [
      "\u001b[1;36m  File \u001b[1;32m\"<ipython-input-15-cd1fcea55651>\"\u001b[1;36m, line \u001b[1;32m1\u001b[0m\n\u001b[1;33m    list(a) = b[list(a)]\u001b[0m\n\u001b[1;37m                         ^\u001b[0m\n\u001b[1;31mSyntaxError\u001b[0m\u001b[1;31m:\u001b[0m can't assign to function call\n"
     ]
    }
   ],
   "source": [
    "list(a) = b[list(a)] "
   ]
  },
  {
   "cell_type": "code",
   "execution_count": 17,
   "metadata": {},
   "outputs": [],
   "source": [
    "x = \"hola\""
   ]
  },
  {
   "cell_type": "code",
   "execution_count": 23,
   "metadata": {},
   "outputs": [
    {
     "output_type": "stream",
     "name": "stdout",
     "text": [
      "ho\n"
     ]
    }
   ],
   "source": [
    "x = x[:-1]\n",
    "print(x)"
   ]
  },
  {
   "cell_type": "code",
   "execution_count": 54,
   "metadata": {},
   "outputs": [
    {
     "output_type": "stream",
     "name": "stdout",
     "text": [
      "h3o3l3a3"
     ]
    }
   ],
   "source": [
    "a = \"hola\"\n",
    "n = 3\n",
    "for letra in a:\n",
    "    print(letra[:] + str(n), end=\"\")"
   ]
  },
  {
   "cell_type": "code",
   "execution_count": 56,
   "metadata": {},
   "outputs": [
    {
     "output_type": "stream",
     "name": "stdout",
     "text": [
      "a3l3o3h3\n"
     ]
    }
   ],
   "source": [
    "a = \"hola\"\n",
    "b = \"\"\n",
    "n = 3\n",
    "for letra in a:\n",
    "    letra = letra + str(n)\n",
    "    b = letra + b \n",
    "    \n",
    "print(b)"
   ]
  },
  {
   "cell_type": "code",
   "execution_count": null,
   "metadata": {},
   "outputs": [],
   "source": [
    "a = \"hola\"\n",
    "b = \"\"\n",
    "n = 3\n",
    "for pos,letra in a:\n",
    "    b = letra + b \n",
    "    print(b + str(n))"
   ]
  },
  {
   "cell_type": "code",
   "execution_count": 1,
   "metadata": {},
   "outputs": [],
   "source": [
    "lista = [(\"hola\", 3), (\"adios\", 2), (\"buenos dias\",1)]"
   ]
  },
  {
   "cell_type": "code",
   "execution_count": 65,
   "metadata": {},
   "outputs": [
    {
     "output_type": "execute_result",
     "data": {
      "text/plain": [
       "3"
      ]
     },
     "metadata": {},
     "execution_count": 65
    }
   ],
   "source": [
    "len(lista)"
   ]
  },
  {
   "cell_type": "code",
   "execution_count": 6,
   "metadata": {},
   "outputs": [
    {
     "output_type": "error",
     "ename": "IndentationError",
     "evalue": "expected an indented block (<ipython-input-6-02eb532fd6f3>, line 11)",
     "traceback": [
      "\u001b[1;36m  File \u001b[1;32m\"<ipython-input-6-02eb532fd6f3>\"\u001b[1;36m, line \u001b[1;32m11\u001b[0m\n\u001b[1;33m    print(elem, \"no esta en la lista\")\u001b[0m\n\u001b[1;37m        ^\u001b[0m\n\u001b[1;31mIndentationError\u001b[0m\u001b[1;31m:\u001b[0m expected an indented block\n"
     ]
    }
   ],
   "source": [
    "def prueba(arg1, arg2):\n",
    "    while len(arg1) > 0:\n",
    "        print(len(arg1))\n",
    "        for tupla in arg1:\n",
    "            for elem in tupla:\n",
    "                if elem == arg2:\n",
    "                    arg1.remove(tupla)\n",
    "                    return arg1\n",
    "                elif elem != arg2:\n",
    "                    if True:\n",
    "                        print(elem, \"no esta en la lista\")\n",
    "\n",
    "prueba(lista, \"buenos dias\")\n"
   ]
  },
  {
   "cell_type": "code",
   "execution_count": null,
   "metadata": {},
   "outputs": [],
   "source": [
    "def next_happy_year(this_year):\n",
    "    next_year = this_year\n",
    "    \n",
    "    for i, x in enumerate(next_year):\n",
    "        while i!=3 and x == str(next_year)[i + 1]: \n",
    "            next_year = int(next_year) + 1\n",
    "        while i == 3:\n",
    "            if x == str(next_year)[0] or x == str(next_year)[1] or x == str(next_year)[2]:\n",
    "                next_year = int(next_year) + 1\n",
    "            if x != this_year[0] and x!= this_year[1] and x != this_year[2]:\n",
    "                return next_year\n",
    "\n",
    "print(next_happy_year(\"2020\"))"
   ]
  }
 ]
}