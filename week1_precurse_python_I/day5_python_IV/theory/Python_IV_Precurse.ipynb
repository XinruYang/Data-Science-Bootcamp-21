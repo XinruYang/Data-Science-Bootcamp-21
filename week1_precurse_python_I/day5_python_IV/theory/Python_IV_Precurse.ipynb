{
 "cells": [
  {
   "cell_type": "markdown",
   "metadata": {},
   "source": [
    "# Data Science Bootcamp - The Bridge \n",
    "## Precurso\n",
    "En este notebook vamos a ver, uno a uno, los conceptos básicos de Python. Constarán de ejercicios prácticos acompañados de una explicación teórica dada por el profesor.\n",
    "\n",
    "Los siguientes enlaces están recomendados para el alumno para profundizar y reforzar conceptos a partir de  ejercicios y ejemplos:\n",
    "\n",
    "- https://www.kaggle.com/learn/python\n",
    "\n",
    "- https://facundoq.github.io/courses/aa2018/res/02_python.html\n",
    "\n",
    "- https://www.w3resource.com/python-exercises/\n",
    "\n",
    "- https://www.practicepython.org/\n",
    "\n",
    "- https://es.slideshare.net/egutierrezru/python-paraprincipiantes\n",
    "\n",
    "- https://www.sololearn.com/Play/Python#\n",
    "\n",
    "- https://github.com/mhkmcp/Python-Bootcamp-from-Basic-to-Advanced\n",
    "\n",
    "Ejercicios avanzados:\n",
    "\n",
    "- https://github.com/darkprinx/100-plus-Python-programming-exercises-extended/tree/master/Status (++)\n",
    "\n",
    "- https://github.com/mahtab04/Python-Programming-Practice (++)\n",
    "\n",
    "- https://github.com/whojayantkumar/Python_Programs (+++)\n",
    "\n",
    "- https://www.w3resource.com/python-exercises/ (++++)\n",
    "\n",
    "- https://github.com/fupus/notebooks-ejercicios (+++++)\n",
    "\n",
    "Tutor de ayuda PythonTutor:\n",
    "\n",
    "- http://pythontutor.com/\n"
   ]
  },
  {
   "cell_type": "markdown",
   "metadata": {},
   "source": [
    "## 1. Variables y tipos\n",
    "\n",
    "### Cadenas"
   ]
  },
  {
   "cell_type": "code",
   "execution_count": null,
   "metadata": {},
   "outputs": [],
   "source": [
    "# Entero - Integer - int\n",
    "x = 7\n",
    "# Cadena - String - Lista de caracteres - str\n",
    "x = \"lorena\"\n",
    "print(x)\n",
    "\n",
    "x = 7\n",
    "print(x)"
   ]
  },
  {
   "cell_type": "code",
   "execution_count": null,
   "metadata": {},
   "outputs": [],
   "source": [
    "# built-in\n",
    "type(x)"
   ]
  },
  {
   "cell_type": "code",
   "execution_count": null,
   "metadata": {},
   "outputs": [],
   "source": [
    "# built-in\n",
    "type"
   ]
  },
  {
   "cell_type": "code",
   "execution_count": null,
   "metadata": {},
   "outputs": [],
   "source": [
    "x = 5\n",
    "y = 7\n",
    "\n",
    "z = x + y\n",
    "print(z)"
   ]
  },
  {
   "cell_type": "code",
   "execution_count": null,
   "metadata": {},
   "outputs": [],
   "source": [
    "x = \"'lorena' \\\"\"\n",
    "l = 'silvia----'\n",
    "\n",
    "g = x + l\n",
    "# Las cadenas se concatenan\n",
    "print(g)"
   ]
  },
  {
   "cell_type": "code",
   "execution_count": null,
   "metadata": {},
   "outputs": [],
   "source": [
    "# type muestra el tipo de la variable\n",
    "type(g)"
   ]
  },
  {
   "cell_type": "code",
   "execution_count": null,
   "metadata": {},
   "outputs": [],
   "source": [
    "type(5)"
   ]
  },
  {
   "cell_type": "code",
   "execution_count": null,
   "metadata": {},
   "outputs": [],
   "source": [
    "print(x)"
   ]
  },
  {
   "cell_type": "code",
   "execution_count": null,
   "metadata": {},
   "outputs": [],
   "source": [
    "# print es una función que recibe varios argumentos y cada argumento está diferenciado por la coma. Después de cada coma, la función 'print' añade un espacio.\n",
    "\n",
    "# mala praxis\n",
    "print(    g,z  ,    6,     \"cadena\")\n",
    "\n",
    "# buena praxis - PEP8\n",
    "print(g, z, 6, \"cadena\")"
   ]
  },
  {
   "cell_type": "code",
   "execution_count": null,
   "metadata": {},
   "outputs": [],
   "source": [
    "x = 5\n",
    "s = \"6\"\n",
    "\n",
    "print(x + s)"
   ]
  },
  {
   "cell_type": "code",
   "execution_count": null,
   "metadata": {},
   "outputs": [],
   "source": [
    "# Cambiar de int a str\n",
    "\n",
    "#built-in\n",
    "\n",
    "x = 6\n",
    "print(type(x))\n",
    "x = str(6)\n",
    "print(type(x))"
   ]
  },
  {
   "cell_type": "code",
   "execution_count": null,
   "metadata": {},
   "outputs": [],
   "source": [
    "x = 5\n",
    "z = \"558\" + str(x)\n",
    "print(z)"
   ]
  },
  {
   "cell_type": "code",
   "execution_count": null,
   "metadata": {},
   "outputs": [],
   "source": [
    "# Cambiar de str a int\n",
    "s = \"56\"\n",
    "print(s)\n",
    "print(type(s))\n",
    "s = int(s)\n",
    "print(s)\n",
    "print(type(s))\n",
    "\n",
    "z = 7 + s\n",
    "print(z)"
   ]
  },
  {
   "cell_type": "code",
   "execution_count": null,
   "metadata": {},
   "outputs": [],
   "source": [
    "s = \"56a\"\n",
    "s = int(s)\n",
    "print(s)"
   ]
  },
  {
   "cell_type": "code",
   "execution_count": null,
   "metadata": {},
   "outputs": [],
   "source": [
    "# Para ver la longitud de una lista de caracteres (lista)\n",
    "\n",
    "p = \"lista caracteres\"\n",
    "print(len(p))"
   ]
  },
  {
   "cell_type": "code",
   "execution_count": null,
   "metadata": {},
   "outputs": [],
   "source": [
    "# String, Integer, Float, List, None (NaN), bool\n",
    "# str, int, float, list, bool"
   ]
  },
  {
   "cell_type": "code",
   "execution_count": null,
   "metadata": {},
   "outputs": [],
   "source": [
    "x = 5.875\n",
    "print(type(x))"
   ]
  },
  {
   "cell_type": "code",
   "execution_count": null,
   "metadata": {},
   "outputs": [],
   "source": [
    "o = x + 2\n",
    "print(o)"
   ]
  },
  {
   "cell_type": "code",
   "execution_count": null,
   "metadata": {},
   "outputs": [],
   "source": [
    "x = int(x)\n",
    "print(x)\n",
    "print(type(x))"
   ]
  },
  {
   "cell_type": "code",
   "execution_count": null,
   "metadata": {},
   "outputs": [],
   "source": [
    "x = float(x)\n",
    "print(x)\n",
    "print(type(x))"
   ]
  },
  {
   "cell_type": "code",
   "execution_count": null,
   "metadata": {},
   "outputs": [],
   "source": [
    "l = (2 + 5) * 3\n",
    "print(l)"
   ]
  },
  {
   "cell_type": "code",
   "execution_count": null,
   "metadata": {},
   "outputs": [],
   "source": [
    "l = ((2 + 5) * 3)\n",
    "print(l)"
   ]
  },
  {
   "cell_type": "code",
   "execution_count": null,
   "metadata": {},
   "outputs": [],
   "source": [
    "m = ((((65 + int(\"22\")) * 2)))\n",
    "m"
   ]
  },
  {
   "cell_type": "code",
   "execution_count": null,
   "metadata": {},
   "outputs": [],
   "source": [
    "s = \"89\""
   ]
  },
  {
   "cell_type": "code",
   "execution_count": null,
   "metadata": {},
   "outputs": [],
   "source": [
    "print(type(int(s)))"
   ]
  },
  {
   "cell_type": "code",
   "execution_count": null,
   "metadata": {},
   "outputs": [],
   "source": [
    "# los decimales son float. Python permite las operaciones entre int y float\n",
    "x = 4\n",
    "y = 4.2\n",
    "\n",
    "print(x + y)"
   ]
  },
  {
   "cell_type": "code",
   "execution_count": null,
   "metadata": {},
   "outputs": [],
   "source": [
    "t = 5 \n",
    "g = 2\n",
    "print(t / g)"
   ]
  },
  {
   "cell_type": "code",
   "execution_count": null,
   "metadata": {},
   "outputs": [],
   "source": [
    "t = 4\n",
    "g = 2\n",
    "print(t / g)\n",
    "print(type(t / g))"
   ]
  },
  {
   "cell_type": "code",
   "execution_count": null,
   "metadata": {},
   "outputs": [],
   "source": [
    "d = t / g\n",
    "print(d)\n",
    "print(type(d))\n",
    "d = int(d * 6.1 + 1.1 / 6.2)\n",
    "print(d)"
   ]
  },
  {
   "cell_type": "code",
   "execution_count": null,
   "metadata": {},
   "outputs": [],
   "source": [
    "# La división normal (/) es siempre float\n",
    "# La división absoluta (//) puede ser: \n",
    "# - float si uno de los dos números (o los dos) son float\n",
    "# - int si los dos son int \n",
    "j = 15\n",
    "k = 4\n",
    "division = j // k\n",
    "print(division)\n",
    "division = j / k\n",
    "print(division)\n",
    "print(type(division))"
   ]
  },
  {
   "cell_type": "code",
   "execution_count": null,
   "metadata": {},
   "outputs": [],
   "source": [
    "num1 = 12\n",
    "num2 = 3\n",
    "\n",
    "suma = num1 + num2\n",
    "resta = num1 - num2\n",
    "multiplicacion = num1 * num2 \n",
    "division = num1 / num2\n",
    "division_absoluta = num1 // num2\n",
    "\n",
    "print(\"suma:\", suma)\n",
    "print(\"resta:\", resta)\n",
    "print(\"multiplicación:\", multiplicacion)\n",
    "print(\"division:\", division)\n",
    "print(\"division_absoluta:\", division_absoluta)\n",
    "print(type(division))\n",
    "print(type(division_absoluta))"
   ]
  },
  {
   "cell_type": "code",
   "execution_count": null,
   "metadata": {},
   "outputs": [],
   "source": [
    "# Jupyter notebook permite que la última línea se imprima por pantalla ( la variable )\n",
    "\n",
    "x = 2\n",
    "k = 4\n",
    "k\n",
    "x\n",
    "k"
   ]
  },
  {
   "cell_type": "code",
   "execution_count": null,
   "metadata": {},
   "outputs": [],
   "source": [
    "# Soy un comentario\n",
    "# print(\"Hello Python world!\")\n",
    "# Estoy creando una variable que vale 2\n",
    "\"\"\"\n",
    "Esto es otro comentario\n",
    "\"\"\""
   ]
  },
  {
   "cell_type": "markdown",
   "metadata": {},
   "source": [
    "## Ejercicio: \n",
    "### Crear una nueva celda.\n",
    "### Declarar tres variables: \n",
    "- Una con el nombre \"edad\" con valor vuestra edad\n",
    "- Otra \"edad_compañero_der\" que contengan la edad de tipo entero de vuestro compañero de la derecha\n",
    "- Otra \"suma_anterior\" que contenga la suma de las dos variables anteriormente declaradas\n",
    "\n",
    " Mostrar por pantalla la variable \"suma_anterior\"\n",
    "\n"
   ]
  },
  {
   "cell_type": "code",
   "execution_count": null,
   "metadata": {},
   "outputs": [],
   "source": [
    "edad = 18\n",
    "edad_companero_der = 27\n",
    "suma_anterior = edad + edad_companero_der\n",
    "print(suma_anterior)"
   ]
  },
  {
   "cell_type": "code",
   "execution_count": null,
   "metadata": {},
   "outputs": [],
   "source": [
    "# funciones built-in de string\n",
    "\n",
    "string1 = \"Hola\"\n",
    "print(string1.upper())"
   ]
  },
  {
   "cell_type": "markdown",
   "metadata": {},
   "source": [
    "## 2. Números y operadores"
   ]
  },
  {
   "cell_type": "code",
   "execution_count": null,
   "metadata": {},
   "outputs": [],
   "source": [
    "x = 2\n",
    "\n",
    "print(x**)"
   ]
  },
  {
   "cell_type": "code",
   "execution_count": null,
   "metadata": {},
   "outputs": [],
   "source": [
    "x = 4 \n",
    "x = x + 1\n",
    "print(x)"
   ]
  },
  {
   "cell_type": "code",
   "execution_count": null,
   "metadata": {},
   "outputs": [],
   "source": [
    "x = 4\n",
    "x += 1"
   ]
  },
  {
   "cell_type": "code",
   "execution_count": null,
   "metadata": {},
   "outputs": [],
   "source": [
    "### Enteros ###\n",
    "\n",
    "x = 3\n",
    "\n",
    "print(\"- Tipo de x:\")\n",
    "print(type(x)) # Imprime el tipo (o `clase`) de x\n",
    "print(\"- Valor de x:\")\n",
    "print(x)       # Imprimir un valor\n",
    "print(\"- x+1:\")\n",
    "print(x + 1)   # Suma: imprime \"4\"\n",
    "print(\"- x-1:\")\n",
    "print(x - 1)   # Resta; imprime \"2\"\n",
    "print(\"- x*2:\")\n",
    "print(x * 2)   # Multiplicación; imprime \"6\"\n",
    "print(\"- x^2:\")\n",
    "print(x ** 2)  # Exponenciación; imprime \"9\"\n",
    "# Modificación de x\n",
    "x += 1 \n",
    "print(\"- x modificado:\")\n",
    "print(x)  # Imprime \"4\"\n",
    "\n",
    "x *= 2\n",
    "print(\"- x modificado:\")\n",
    "print(x)  # Imprime \"8\"\n",
    "\n",
    "#print(\"- El módulo de x con 40\")\n",
    "#print(40 % x)\n",
    "\n",
    "print(\"- Varias cosas en una línea:\")\n",
    "print(1, 2, x, 5*2) # imprime varias cosas a la vez"
   ]
  },
  {
   "cell_type": "code",
   "execution_count": null,
   "metadata": {},
   "outputs": [],
   "source": [
    "# El módulo muestra el resto de la división entre dos números\n",
    "x = 4 % 2\n",
    "print(x)"
   ]
  },
  {
   "cell_type": "code",
   "execution_count": null,
   "metadata": {},
   "outputs": [],
   "source": [
    "numero = 99\n",
    "\n",
    "numero % 2  # Si el resto es 0, el número es par. Sino, impar."
   ]
  },
  {
   "cell_type": "code",
   "execution_count": null,
   "metadata": {},
   "outputs": [],
   "source": [
    "numero = 99\n",
    "\n",
    "numero % 3  # El 3 es divisor de 'numero' si el resultado del módulo da 0 "
   ]
  },
  {
   "cell_type": "code",
   "execution_count": null,
   "metadata": {},
   "outputs": [],
   "source": [
    "4%5"
   ]
  },
  {
   "source": [
    "Actualizar variable en cada ejecución"
   ],
   "cell_type": "markdown",
   "metadata": {}
  },
  {
   "cell_type": "code",
   "execution_count": null,
   "metadata": {},
   "outputs": [],
   "source": [
    "x = 5"
   ]
  },
  {
   "cell_type": "code",
   "execution_count": null,
   "metadata": {},
   "outputs": [],
   "source": [
    "x += 2 \n",
    "j = 7 + x\n",
    "print(j)"
   ]
  },
  {
   "source": [
    "## Título markdown\n",
    "\n",
    "#### otro título"
   ],
   "cell_type": "markdown",
   "metadata": {}
  },
  {
   "source": [
    "# INPUT"
   ],
   "cell_type": "markdown",
   "metadata": {}
  },
  {
   "cell_type": "code",
   "execution_count": null,
   "metadata": {},
   "outputs": [],
   "source": [
    "x = input()\n",
    "print(type(x))\n",
    "print(x)"
   ]
  },
  {
   "cell_type": "code",
   "execution_count": null,
   "metadata": {},
   "outputs": [],
   "source": [
    "x = int(input())\n",
    "print(type(x))\n",
    "l = 4 + x\n",
    "print(x)"
   ]
  },
  {
   "cell_type": "code",
   "execution_count": null,
   "metadata": {},
   "outputs": [],
   "source": [
    "x = int(input(\"Escribe un número:\"))\n",
    "print(type(x))\n",
    "l = 4 + x\n",
    "print(l)"
   ]
  },
  {
   "cell_type": "code",
   "execution_count": null,
   "metadata": {},
   "outputs": [],
   "source": [
    "x = float(input(\"Escribe un número:\"))\n",
    "print(type(x))\n",
    "l = 4 + x\n",
    "print(l)"
   ]
  },
  {
   "cell_type": "code",
   "execution_count": null,
   "metadata": {},
   "outputs": [],
   "source": [
    "x = int(float(\"57.9\"))\n",
    "x"
   ]
  },
  {
   "cell_type": "code",
   "execution_count": null,
   "metadata": {},
   "outputs": [],
   "source": [
    "edad = input(\"Escribe tu edad\")\n",
    "print(edad)"
   ]
  },
  {
   "cell_type": "code",
   "execution_count": null,
   "metadata": {},
   "outputs": [],
   "source": [
    "edad = float(edad)\n",
    "print(edad)"
   ]
  },
  {
   "cell_type": "markdown",
   "metadata": {},
   "source": [
    "## 3. Tipo None"
   ]
  },
  {
   "cell_type": "code",
   "execution_count": null,
   "metadata": {},
   "outputs": [],
   "source": [
    "# str int float none\n",
    "\n",
    "x = None\n",
    "\n",
    "p = 5 + x\n",
    "print(p)"
   ]
  },
  {
   "cell_type": "code",
   "execution_count": null,
   "metadata": {},
   "outputs": [],
   "source": [
    "x = None \n",
    "x = str(x)\n",
    "print(x)"
   ]
  },
  {
   "cell_type": "code",
   "execution_count": null,
   "metadata": {},
   "outputs": [],
   "source": [
    "x = None \n",
    "print(type(x))"
   ]
  },
  {
   "source": [
    "### Booleans"
   ],
   "cell_type": "markdown",
   "metadata": {}
  },
  {
   "cell_type": "code",
   "execution_count": null,
   "metadata": {},
   "outputs": [],
   "source": [
    "cierto = True\n",
    "falso = False \n",
    "print(type(cierto))"
   ]
  },
  {
   "cell_type": "markdown",
   "metadata": {},
   "source": [
    "## 4. Listas y colecciones "
   ]
  },
  {
   "cell_type": "code",
   "execution_count": null,
   "metadata": {},
   "outputs": [],
   "source": [
    "# Una colección:\n",
    "# lista, conjunto (set), tupla, array, string, diccionarios"
   ]
  },
  {
   "cell_type": "code",
   "execution_count": null,
   "metadata": {},
   "outputs": [],
   "source": [
    "# Lista de elementos:\n",
    "\n",
    "# Las posiciones se empiezan a contar desde 0\n",
    "s = \"Cadena\""
   ]
  },
  {
   "cell_type": "code",
   "execution_count": null,
   "metadata": {},
   "outputs": [],
   "source": [
    "print(s[0])"
   ]
  },
  {
   "cell_type": "code",
   "execution_count": null,
   "metadata": {},
   "outputs": [],
   "source": [
    "s = \"\"\n",
    "print(type(s))"
   ]
  },
  {
   "cell_type": "code",
   "execution_count": null,
   "metadata": {},
   "outputs": [],
   "source": [
    "s[0]"
   ]
  },
  {
   "cell_type": "code",
   "execution_count": null,
   "metadata": {},
   "outputs": [],
   "source": [
    "print(len(s))"
   ]
  },
  {
   "cell_type": "code",
   "execution_count": null,
   "metadata": {},
   "outputs": [],
   "source": [
    "lista = []\n",
    "print(type(lista))"
   ]
  },
  {
   "cell_type": "code",
   "execution_count": null,
   "metadata": {},
   "outputs": [],
   "source": [
    "# La última posición de una colección coincide con el (número de elementos - 1)"
   ]
  },
  {
   "cell_type": "code",
   "execution_count": null,
   "metadata": {},
   "outputs": [],
   "source": [
    "lista = [3, 7.2, \"hola\"]\n",
    "print(lista[2])  # último \n",
    "print(lista[1])  # penúltimo \n",
    "print(lista[0])  # antepenúltimo"
   ]
  },
  {
   "cell_type": "code",
   "execution_count": null,
   "metadata": {},
   "outputs": [],
   "source": [
    "print(str(lista[0]) + \"\\n\" + str(lista[1]) + \"\\n\" + lista[2])"
   ]
  },
  {
   "cell_type": "code",
   "execution_count": null,
   "metadata": {},
   "outputs": [],
   "source": [
    "print(str(lista[0]), str(lista[1]), lista[2], sep=\"\\n\")"
   ]
  },
  {
   "cell_type": "code",
   "execution_count": null,
   "metadata": {},
   "outputs": [],
   "source": [
    "# Salto de línea \\n\n",
    "print(\"Hol\\n me llamo G\\nbriel\")"
   ]
  },
  {
   "cell_type": "code",
   "execution_count": null,
   "metadata": {},
   "outputs": [],
   "source": [
    "lista = [3, 7.2, \"hola\"]\n",
    "print(\"Primer elemento:\\n\", lista[0], \"\\nSegundo elemento:\\n\", \n",
    "lista[1], \"\\nÚltimo elemento:\\n\", lista[-1]) "
   ]
  },
  {
   "cell_type": "code",
   "execution_count": null,
   "metadata": {},
   "outputs": [],
   "source": [
    "# No pasamos el último elemento a String porque ya es String\n",
    "print(\"Primer elemento:\\n\" + str(lista[0]) + \"\\nSegundo elemento:\\n\" + str(lista[1]) + \"\\nÚltimo elemento:\\n\" + lista[-1]) "
   ]
  },
  {
   "cell_type": "code",
   "execution_count": null,
   "metadata": {},
   "outputs": [],
   "source": [
    "lista = [3, 7.2, \"hola\"]\n",
    "tamano_lista = len(lista)\n",
    "elemento_que_esta_en_la_mitad = len(lista) // 2\n",
    "lista[elemento_que_esta_en_la_mitad]"
   ]
  },
  {
   "cell_type": "code",
   "execution_count": null,
   "metadata": {},
   "outputs": [],
   "source": [
    "print(lista[-1])  # último \n",
    "print(lista[-2])  # penúltimo \n",
    "print(lista[-3])  # antepenúltimo"
   ]
  },
  {
   "cell_type": "code",
   "execution_count": null,
   "metadata": {},
   "outputs": [],
   "source": [
    "print(lista[0:2])"
   ]
  },
  {
   "cell_type": "code",
   "execution_count": null,
   "metadata": {},
   "outputs": [],
   "source": [
    "print(lista)"
   ]
  },
  {
   "cell_type": "code",
   "execution_count": null,
   "metadata": {},
   "outputs": [],
   "source": [
    "lista2 = [\"hola\", 2, [7.2, \"x\"]]\n",
    "print(len(lista2))"
   ]
  },
  {
   "cell_type": "code",
   "execution_count": null,
   "metadata": {},
   "outputs": [],
   "source": [
    "print(lista2[-1])"
   ]
  },
  {
   "cell_type": "code",
   "execution_count": null,
   "metadata": {},
   "outputs": [],
   "source": [
    "print(lista2[-1][-1])"
   ]
  },
  {
   "cell_type": "code",
   "execution_count": null,
   "metadata": {},
   "outputs": [],
   "source": [
    "lista3 = [\"hola\", 2, [7.2, \"xa\"]]\n",
    "print(lista3[-1][-1][0])"
   ]
  },
  {
   "cell_type": "code",
   "execution_count": null,
   "metadata": {},
   "outputs": [],
   "source": [
    "lista4 = [\"hola\", 2, [[7.2, \"xa\"],]]\n",
    "print(type(lista4))\n",
    "print(type(lista4[-1]))\n",
    "print(type(lista4[-1][1]))"
   ]
  },
  {
   "cell_type": "code",
   "execution_count": null,
   "metadata": {},
   "outputs": [],
   "source": [
    "lista4 = [\"hola\", 2, [[7.2, \"xa\"]]]\n",
    "print(lista4)\n",
    "print(type(lista4))\n",
    "print(lista4[-1])\n",
    "print(type(lista4[-1]))\n",
    "print(lista4[-1][0])\n",
    "print(type(lista4[-1][0]))\n",
    "print(lista4[-1][0][-1])\n",
    "print(type(lista4[-1][0][-1]))\n",
    "print(lista4[-1][0][-1][-1])\n",
    "print(type(lista4[-1][0][-1][-1]))"
   ]
  },
  {
   "cell_type": "code",
   "execution_count": null,
   "metadata": {},
   "outputs": [],
   "source": [
    "lista5 = [4,]\n",
    "print(lista5)"
   ]
  },
  {
   "cell_type": "code",
   "execution_count": null,
   "metadata": {},
   "outputs": [],
   "source": [
    "s = \"hola\"\n",
    "\n",
    "lenght = 4\n",
    "s[1:4]"
   ]
  },
  {
   "cell_type": "code",
   "execution_count": null,
   "metadata": {},
   "outputs": [],
   "source": [
    "s = \"Hola soy Clara\"\n",
    "\n",
    "print(s[::-1])"
   ]
  },
  {
   "cell_type": "code",
   "execution_count": null,
   "metadata": {},
   "outputs": [],
   "source": [
    "# Para acceder a varios elementos, se especifica con la nomenclatura \"[N:M]\". N es el primer elemento a obtener, M es el último elemento a obtener pero no incluido. Ejemplo: \n",
    "\n",
    "# Queremos mostrar desde las posiciones 3 a la 7. Debemos especificar: [3:8]\n",
    "\n",
    "# Si M no tiene ningún valor, se obtiene desde N hasta el final. \n",
    "# Si N no tiene ningún valor, es desde el principio de la colección hasta M\n",
    "s[3:len(s)]"
   ]
  },
  {
   "cell_type": "code",
   "execution_count": null,
   "metadata": {},
   "outputs": [],
   "source": [
    "# Coge desde el elemento en la posición 3 (incluido) hasta el final\n",
    "s[3:]"
   ]
  },
  {
   "cell_type": "code",
   "execution_count": null,
   "metadata": {},
   "outputs": [],
   "source": [
    "# Coge todos los elementos hasta la posición 3 (sin incluir)\n",
    "s[:3]"
   ]
  },
  {
   "cell_type": "code",
   "execution_count": null,
   "metadata": {},
   "outputs": [],
   "source": [
    "# Agrega un valor a la última posición de la lista\n",
    "s = \"hola\"\n",
    "s = s.upper()\n",
    "print(s)"
   ]
  },
  {
   "cell_type": "code",
   "execution_count": null,
   "metadata": {},
   "outputs": [],
   "source": [
    "lista = [4, \"x\"]\n",
    "print(lista)"
   ]
  },
  {
   "cell_type": "code",
   "execution_count": null,
   "metadata": {},
   "outputs": [],
   "source": [
    "lista.append(7)"
   ]
  },
  {
   "cell_type": "code",
   "execution_count": null,
   "metadata": {},
   "outputs": [],
   "source": [
    "print(lista)\n",
    "print(len(lista))"
   ]
  },
  {
   "cell_type": "code",
   "execution_count": null,
   "metadata": {},
   "outputs": [],
   "source": [
    "lista = [4, \"x\"]\n",
    "print(lista)\n",
    "lista.append(7)\n",
    "print(lista)\n",
    "print(len(lista))"
   ]
  },
  {
   "cell_type": "code",
   "execution_count": null,
   "metadata": {},
   "outputs": [],
   "source": [
    "# remove elimina el primer elemento que se encuentra que coincide con el valor del argumento\n",
    "lista = [4, 'y', 7]\n",
    "lista.remove(7)\n",
    "lista.remove(7)\n",
    "print(lista)"
   ]
  },
  {
   "cell_type": "code",
   "execution_count": null,
   "metadata": {},
   "outputs": [],
   "source": [
    "# remove elimina el primer elemento que se encuentra que coincide con el valor del argumento\n",
    "lista = [4, 'y', 7, 'y']\n",
    "lista.remove('y')\n",
    "print(lista)"
   ]
  },
  {
   "cell_type": "code",
   "execution_count": null,
   "metadata": {},
   "outputs": [],
   "source": [
    "lista = [4, 'y', 7, 'y']\n",
    "lista.append('y')  # append siempre añade el elemento al final de la lista\n",
    "print(lista)\n",
    "lista.remove('y')  # elimina la primera coincidencia\n",
    "print(lista)"
   ]
  },
  {
   "cell_type": "code",
   "execution_count": null,
   "metadata": {},
   "outputs": [],
   "source": [
    "lista = [4, 'x', 'y', ['z']]\n",
    "lista[-1].append(4)  # añade un entero 4 a la lista ['z']\n",
    "print(lista)"
   ]
  },
  {
   "cell_type": "code",
   "execution_count": null,
   "metadata": {},
   "outputs": [],
   "source": [
    "lista = [4, 'x', 'y', ['z']]\n",
    "lista[-1].append([4]) # añade una lista [4] a la lista ['z']\n",
    "print(lista)"
   ]
  },
  {
   "cell_type": "code",
   "execution_count": null,
   "metadata": {},
   "outputs": [],
   "source": [
    "h = 4\n",
    "l = [4]\n",
    "print(\"tipo de h:\", type(h))\n",
    "print(\"tipo de l:\", type(l))"
   ]
  },
  {
   "cell_type": "code",
   "execution_count": null,
   "metadata": {},
   "outputs": [],
   "source": [
    "l.append(3)\n",
    "print(l)"
   ]
  },
  {
   "cell_type": "code",
   "execution_count": null,
   "metadata": {},
   "outputs": [],
   "source": [
    "# Accedemos a la posición 1 del elemento que está en la posición 2 de lista\n",
    "\n",
    "lista = ['l', 9.4, [8.1, 'xs']]\n",
    "print(lista[2][1])"
   ]
  },
  {
   "cell_type": "code",
   "execution_count": null,
   "metadata": {},
   "outputs": [],
   "source": [
    "lista2 = ['l', 9.4, [8.1, 'xs']]\n",
    "lista2.reverse()\n",
    "print(lista2)"
   ]
  },
  {
   "cell_type": "code",
   "execution_count": null,
   "metadata": {},
   "outputs": [],
   "source": [
    "lista3 = [2, 4, 6, 8, 'o']\n",
    "print(len(lista3))"
   ]
  },
  {
   "cell_type": "code",
   "execution_count": null,
   "metadata": {},
   "outputs": [],
   "source": [
    "lista_1 = [2, 4]\n",
    "lista_2 = [8, 9]\n",
    "lista_3 = lista_1 + lista_2  # concatenamos\n",
    "print(lista_3)"
   ]
  },
  {
   "cell_type": "code",
   "execution_count": null,
   "metadata": {},
   "outputs": [],
   "source": [
    "lista3 = [2, 4, 6, 8, 'o']\n",
    "lista3.append(lista2)  # añadir al final de la lista\n",
    "print(lista3)"
   ]
  },
  {
   "cell_type": "code",
   "execution_count": null,
   "metadata": {},
   "outputs": [],
   "source": [
    "lista3[5][0].append(lista2)"
   ]
  },
  {
   "cell_type": "code",
   "execution_count": null,
   "metadata": {},
   "outputs": [],
   "source": [
    "print(lista3)"
   ]
  },
  {
   "cell_type": "code",
   "execution_count": null,
   "metadata": {},
   "outputs": [],
   "source": [
    "print(lista3[5][0][2])"
   ]
  },
  {
   "cell_type": "code",
   "execution_count": null,
   "metadata": {},
   "outputs": [],
   "source": [
    "lista = [\"a\", \"b\"]\n",
    "lista.reverse()\n",
    "print(lista)"
   ]
  },
  {
   "cell_type": "code",
   "execution_count": null,
   "metadata": {},
   "outputs": [],
   "source": [
    "lista = [\"a\", \"b\"]\n",
    "lista = lista.reverse()\n",
    "print(lista)"
   ]
  },
  {
   "cell_type": "code",
   "execution_count": null,
   "metadata": {},
   "outputs": [],
   "source": [
    "lista = [\"a\", \"b\"]\n",
    "lista = lista[::-1]\n",
    "print(lista)"
   ]
  },
  {
   "cell_type": "code",
   "execution_count": null,
   "metadata": {},
   "outputs": [],
   "source": []
  },
  {
   "cell_type": "code",
   "execution_count": null,
   "metadata": {},
   "outputs": [],
   "source": [
    "# Ejemplo práctico\n",
    "\n",
    "lista_pacientes = [[\"Gabriel..\", \"algo\"], [\"Lorena\", \"inflamación\"]]\n",
    "lista_pacientes[0]"
   ]
  },
  {
   "source": [
    "### Colecciones\n",
    "\n",
    "1. Listas\n",
    "2. String (colección de caracteres)\n",
    "3. Tuplas\n",
    "4. Conjuntos (Set)\n",
    "5. Diccionarios"
   ],
   "cell_type": "markdown",
   "metadata": {}
  },
  {
   "cell_type": "code",
   "execution_count": null,
   "metadata": {},
   "outputs": [],
   "source": [
    "s = \"j\"\n",
    "s[0][0]"
   ]
  },
  {
   "cell_type": "code",
   "execution_count": null,
   "metadata": {},
   "outputs": [],
   "source": [
    "n = 2\n",
    "n[0]"
   ]
  },
  {
   "cell_type": "code",
   "execution_count": null,
   "metadata": {},
   "outputs": [],
   "source": [
    "# Listas --> Mutables\n",
    "lista = [2, 5, \"caract\", [9, \"g\", [\"j\"]]]\n",
    "print(lista[-1][-1][-1])\n",
    "lista[3][2][0]"
   ]
  },
  {
   "cell_type": "code",
   "execution_count": null,
   "metadata": {},
   "outputs": [],
   "source": [
    "x = ((2 + 2))\n",
    "x"
   ]
  },
  {
   "cell_type": "code",
   "execution_count": null,
   "metadata": {},
   "outputs": [],
   "source": [
    "x = 2\n",
    "print(type(x))"
   ]
  },
  {
   "cell_type": "code",
   "execution_count": null,
   "metadata": {},
   "outputs": [],
   "source": [
    "lista = [2, 5]\n",
    "tupla = (2, 4)\n",
    "print(len(tupla))"
   ]
  },
  {
   "cell_type": "code",
   "execution_count": null,
   "metadata": {},
   "outputs": [],
   "source": [
    "tupla[1]"
   ]
  },
  {
   "cell_type": "code",
   "execution_count": null,
   "metadata": {},
   "outputs": [],
   "source": [
    "# Tuplas --> Inmutables\n",
    "\n",
    "tupla = (2, 5, \"caract\", [9, \"g\", [\"j\"]])\n",
    "print(type(tupla))\n",
    "tupla"
   ]
  },
  {
   "cell_type": "code",
   "execution_count": null,
   "metadata": {},
   "outputs": [],
   "source": [
    "# Update listas\n",
    "lista = [2, \"6\", [\"k\", \"m\"]]\n",
    "lista[1] = 1\n",
    "lista"
   ]
  },
  {
   "cell_type": "code",
   "execution_count": null,
   "metadata": {},
   "outputs": [],
   "source": [
    "tupla = (2, \"b\", [\"k\", \"m\"])\n",
    "tupla[1] = 1\n",
    "tupla"
   ]
  },
  {
   "cell_type": "code",
   "execution_count": null,
   "metadata": {},
   "outputs": [],
   "source": [
    "tupla[2].append(\"Otro\")\n",
    "tupla"
   ]
  },
  {
   "cell_type": "code",
   "execution_count": null,
   "metadata": {},
   "outputs": [],
   "source": [
    "# La tupla es inmutable pero sí se puede modificar las colecciones mutables dentro de ella\n",
    "\n",
    "tupla[2].remove(\"k\")\n",
    "tupla[2].remove(\"m\")\n",
    "tupla[2].remove(\"Otro\")\n",
    "tupla"
   ]
  },
  {
   "cell_type": "code",
   "execution_count": null,
   "metadata": {},
   "outputs": [],
   "source": [
    "tupla[2] = [2]"
   ]
  },
  {
   "cell_type": "code",
   "execution_count": null,
   "metadata": {},
   "outputs": [],
   "source": [
    "tupla = (2, 'b', [])"
   ]
  },
  {
   "cell_type": "code",
   "execution_count": null,
   "metadata": {},
   "outputs": [],
   "source": [
    "# Cambiar una tupla a lista (mutable) y volver a tupla una vez modificada\n",
    "print(tupla)\n",
    "tupla = list(tupla)\n",
    "print(tupla)\n",
    "tupla[1] = \"5\"\n",
    "print(tupla)\n",
    "tupla = tuple(tupla)\n",
    "tupla"
   ]
  },
  {
   "cell_type": "code",
   "execution_count": null,
   "metadata": {},
   "outputs": [],
   "source": [
    "# Conjuntos\n",
    "\n",
    "conjunto = [2, 4, 6, \"a\", \"z\", \"h\", 2]\n",
    "conjunto = set(conjunto)\n",
    "conjunto"
   ]
  },
  {
   "cell_type": "code",
   "execution_count": null,
   "metadata": {},
   "outputs": [],
   "source": [
    "conjunto = [\"a\", \"z\", \"h\", 2, 2, 4, 6, True, True, False]\n",
    "conjunto = set(conjunto)\n",
    "conjunto"
   ]
  },
  {
   "cell_type": "code",
   "execution_count": null,
   "metadata": {},
   "outputs": [],
   "source": [
    "conjunto = [\"a\", \"z\", \"h\", 2, 2, 4, 6, 2.1, 2.4, 2.3, True, True, False]\n",
    "conjunto = set(conjunto)\n",
    "conjunto"
   ]
  },
  {
   "cell_type": "code",
   "execution_count": null,
   "metadata": {},
   "outputs": [],
   "source": [
    "conjunto_tupla = (\"a\", \"z\", \"h\", 2, 2, 4, 6, 2.1, 2.4, 2.3, True, True, False)\n",
    "conjunto = set(conjunto_tupla)\n",
    "conjunto"
   ]
  },
  {
   "cell_type": "code",
   "execution_count": null,
   "metadata": {},
   "outputs": [],
   "source": [
    "conjunto = {\"a\", \"z\", \"h\", 2, 2, 4, 6, 2.1, 2.4, 2.3, True, True, False}\n",
    "conjunto"
   ]
  },
  {
   "cell_type": "code",
   "execution_count": null,
   "metadata": {},
   "outputs": [],
   "source": [
    "conjunto = {\"a\", \"z\", \"h\", 2, 2, 4, 6, 2.1, 2.4, 2.3, True, True, False, None, (24, 2)}\n",
    "conjunto"
   ]
  },
  {
   "cell_type": "code",
   "execution_count": null,
   "metadata": {},
   "outputs": [],
   "source": [
    "conjunto = list(conjunto)\n",
    "conjunto"
   ]
  },
  {
   "cell_type": "code",
   "execution_count": null,
   "metadata": {},
   "outputs": [],
   "source": [
    "# Si quiero que mi conjunto no tenga datos repetidos:\n",
    "# 1. Lo paso a conjunto\n",
    "# 2. Lo vuelvo a pasar al tipo del conjunto original\n",
    "lista = [2, 2, \"perro\", \"gato\"]\n",
    "lista = set(lista)\n",
    "lista = list(lista)\n",
    "lista"
   ]
  },
  {
   "cell_type": "code",
   "execution_count": null,
   "metadata": {},
   "outputs": [],
   "source": [
    "# Si quiero que mi conjunto no tenga datos repetidos:\n",
    "# 1. Lo paso a conjunto\n",
    "# 2. Lo vuelvo a pasar al tipo del conjunto original\n",
    "lista = [2, 2, \"perro\", \"gato\"]\n",
    "lista = list(set(lista))\n",
    "lista"
   ]
  },
  {
   "cell_type": "code",
   "execution_count": null,
   "metadata": {},
   "outputs": [],
   "source": [
    "# Creación de tupla vacía\n",
    "tupla_vacia = ()\n",
    "type(tupla_vacia)"
   ]
  },
  {
   "cell_type": "code",
   "execution_count": null,
   "metadata": {},
   "outputs": [],
   "source": [
    "# Creación de tupla vacía\n",
    "tupla_vacia = (2,)\n",
    "type(tupla_vacia)"
   ]
  },
  {
   "cell_type": "code",
   "execution_count": null,
   "metadata": {},
   "outputs": [],
   "source": [
    "# Lista vacía\n",
    "type([])"
   ]
  },
  {
   "cell_type": "code",
   "execution_count": null,
   "metadata": {},
   "outputs": [],
   "source": [
    "# Conjunto vacío necesita un elemento. Si no añades un elemento, es un diccionario\n",
    "conjunto_vacio = {0,}\n",
    "type(conjunto_vacio)"
   ]
  },
  {
   "cell_type": "code",
   "execution_count": null,
   "metadata": {},
   "outputs": [],
   "source": [
    "c = {0,}\n",
    "type(c)"
   ]
  },
  {
   "cell_type": "code",
   "execution_count": null,
   "metadata": {},
   "outputs": [],
   "source": [
    "# String vacío\n",
    "s = \"\"\n",
    "# Lista vacía\n",
    "[]\n",
    "# Tupla vacía\n",
    "()\n",
    "# Conjunto vacío\n",
    "{0,}"
   ]
  },
  {
   "cell_type": "code",
   "execution_count": null,
   "metadata": {},
   "outputs": [],
   "source": [
    "y = (2)\n",
    "y"
   ]
  },
  {
   "cell_type": "code",
   "execution_count": null,
   "metadata": {},
   "outputs": [],
   "source": [
    "y = {2,}\n",
    "print(type(y))\n",
    "y"
   ]
  },
  {
   "cell_type": "code",
   "execution_count": null,
   "metadata": {},
   "outputs": [],
   "source": [
    "s = \"String\"\n",
    "lista_s = list(s)\n",
    "lista_s"
   ]
  },
  {
   "cell_type": "code",
   "execution_count": null,
   "metadata": {},
   "outputs": [],
   "source": [
    "s = \"String\"\n",
    "conj = set(s)\n",
    "conj"
   ]
  },
  {
   "cell_type": "code",
   "execution_count": null,
   "metadata": {},
   "outputs": [],
   "source": [
    "# Cambiar de tupla a lista, remover elemento y convertir en tupla\n",
    "tupla = (2, 6, [\"x\"], True)\n",
    "tupla = list(tupla)\n",
    "tupla.remove([\"x\"])\n",
    "tupla = tuple(tupla)\n",
    "tupla"
   ]
  },
  {
   "cell_type": "code",
   "execution_count": null,
   "metadata": {},
   "outputs": [],
   "source": [
    "# Eliminar por posición en una lista\n",
    "lista = [2, 6, [\"x\"], True] \n",
    "lista.pop()  # pop elimina el último elemento por defecto\n",
    "lista"
   ]
  },
  {
   "cell_type": "code",
   "execution_count": null,
   "metadata": {},
   "outputs": [],
   "source": [
    "lista = [2, 6, [\"x\"], True] \n",
    "lista.pop(2) \n",
    "lista"
   ]
  },
  {
   "cell_type": "code",
   "execution_count": null,
   "metadata": {},
   "outputs": [],
   "source": [
    "# pop retorna el valor eliminado\n",
    "lista = [2, 6, [\"x\"], True] \n",
    "valor_eliminado = lista.pop(1)\n",
    "print(lista)\n",
    "valor_eliminado"
   ]
  },
  {
   "cell_type": "code",
   "execution_count": null,
   "metadata": {},
   "outputs": [],
   "source": [
    "conjunto = {2, 5, \"h\"}\n",
    "lista_con_conjunto = [conjunto]\n",
    "lista_con_conjunto[0]"
   ]
  },
  {
   "cell_type": "code",
   "execution_count": null,
   "metadata": {},
   "outputs": [],
   "source": [
    "# No podemos acceder a elementos de un conjunto\n",
    "lista_con_conjunto[0][0]"
   ]
  },
  {
   "cell_type": "markdown",
   "metadata": {},
   "source": [
    "## 5. Condiciones: if, elif, else"
   ]
  },
  {
   "cell_type": "code",
   "execution_count": null,
   "metadata": {},
   "outputs": [],
   "source": [
    "x = 5\n",
    "if x > 3:\n",
    "print(\"Es mayor a 3\")"
   ]
  },
  {
   "cell_type": "code",
   "execution_count": null,
   "metadata": {},
   "outputs": [],
   "source": [
    "x = 5\n",
    "if x > 3:  # siempre que hay dos puntos, hay indentación\n",
    "    print(\"Es mayor a 3\")  "
   ]
  },
  {
   "cell_type": "code",
   "execution_count": null,
   "metadata": {},
   "outputs": [],
   "source": [
    "x = 5\n",
    "if x > 3:  # siempre que hay dos puntos, hay indentación\n",
    "    print(\"Es mayor a 3\")\n",
    "    x = 2\n",
    "print(x)"
   ]
  },
  {
   "cell_type": "code",
   "execution_count": null,
   "metadata": {},
   "outputs": [],
   "source": [
    "# dos bloques de condiciones diferentes\n",
    "x = 5\n",
    "if x > 3:  # siempre que hay dos puntos, hay indentación\n",
    "    print(\"Es mayor a 3\")\n",
    "\n",
    "if x < 4:\n",
    "    x = 2\n",
    "print(x)"
   ]
  },
  {
   "cell_type": "code",
   "execution_count": null,
   "metadata": {},
   "outputs": [],
   "source": [
    "x = 5\n",
    "if x < 4:  # inicio de un bloque de condiciones\n",
    "    print(\"1\")\n",
    "elif x >:\n",
    "    print(\"2\")\n",
    "else:\n",
    "    print(\"3\")\n",
    "\n",
    "print(\"Fuera del bloque\")"
   ]
  },
  {
   "cell_type": "code",
   "execution_count": null,
   "metadata": {},
   "outputs": [],
   "source": [
    "x = 5\n",
    "if x < 4:  # inicio de un bloque de condiciones\n",
    "    print(\"1\")\n",
    "elif x > 30:\n",
    "    print(\"2\")\n",
    "elif x == 5:\n",
    "    print(\"x es 5\")\n",
    "else:\n",
    "    print(\"3\")\n",
    "\n",
    "print(\"Fuera del bloque\")"
   ]
  },
  {
   "cell_type": "code",
   "execution_count": null,
   "metadata": {},
   "outputs": [],
   "source": [
    "x = 5\n",
    "if x < 4:  # inicio de un bloque de condiciones\n",
    "    print(\"1\")\n",
    "elif x > 30:\n",
    "    print(\"2\")\n",
    "elif x == 6:\n",
    "    print(\"x es 5\")\n",
    "else:\n",
    "    print(\"3\")\n",
    "\n",
    "print(\"Fuera del bloque\")"
   ]
  },
  {
   "cell_type": "code",
   "execution_count": null,
   "metadata": {},
   "outputs": [],
   "source": [
    "x = 5\n",
    "if x < 4:  # inicio de un bloque de condiciones\n",
    "    print(\"1\")\n",
    "elif x > 30:\n",
    "    print(\"2\")\n",
    "elif x == 6:\n",
    "    print(\"x es 5\")\n",
    "\n",
    "print(\"Fuera del bloque\")"
   ]
  },
  {
   "source": [
    "\n",
    "- if inicia bloque de condiciones\n",
    "- pueden existir todos los elif que se necesiten\n",
    "- solo puede existir un else\n",
    "- no son necesarios ni los elif ni el else\n"
   ],
   "cell_type": "markdown",
   "metadata": {}
  },
  {
   "cell_type": "code",
   "execution_count": null,
   "metadata": {},
   "outputs": [],
   "source": [
    "x = 5\n",
    "if x < 4:  # inicio de un bloque de condiciones\n",
    "    print(\"1\")\n",
    "elif x > 30:\n",
    "    print(\"2\")\n",
    "elif x == 6:\n",
    "    print(\"x es 5\")\n",
    "else:\n",
    "    print(\"primer else\")\n",
    "\n",
    "if x < 4:  # inicio de un bloque de condiciones\n",
    "    print(\"1\")\n",
    "elif x > 3:\n",
    "    print(\"2\")\n",
    "elif x == 5:\n",
    "    print(\"x es 5\")\n",
    "else:\n",
    "    print(\"primer else\")\n",
    "\n",
    "print(\"Fuera del bloque\")"
   ]
  },
  {
   "cell_type": "code",
   "execution_count": null,
   "metadata": {},
   "outputs": [],
   "source": [
    "x = 5\n",
    "if x < 4:  # inicio de un bloque de condiciones\n",
    "    print(\"1\")\n",
    "elif x > 3:\n",
    "    print(\"2\")\n",
    "    x = 6\n",
    "elif x == 6:\n",
    "    print(\"x es 5\")\n",
    "else:\n",
    "    print(\"primer else\")\n",
    "\n",
    "if x < 4:  # inicio de un bloque de condiciones\n",
    "    print(\"1\")\n",
    "elif x > 9:\n",
    "    print(\"2\")\n",
    "    x = 6\n",
    "elif x == 6:\n",
    "    print(\"x es 6\")\n",
    "else:\n",
    "    print(\"primer else\")\n",
    "\n",
    "print(\"Fuera del bloque\")"
   ]
  },
  {
   "cell_type": "code",
   "execution_count": null,
   "metadata": {},
   "outputs": [],
   "source": [
    "x = 5\n",
    "if x < 4:  # inicio de un bloque de condiciones\n",
    "    print(\"1\")\n",
    "elif x > 3:\n",
    "    print(\"2\")\n",
    "    x = 10\n",
    "    if x < 4:  # inicio de un bloque de condiciones\n",
    "        print(\"1\")\n",
    "    elif x == 6:\n",
    "        print(\"x es 5\")\n",
    "    else:\n",
    "        print(\"else interno\")\n",
    "elif x == 5:\n",
    "    print(\"x es 5\")\n",
    "else:\n",
    "    print(\"primer else\")\n",
    "\n",
    "print(\"Fuera del bloque\")"
   ]
  },
  {
   "cell_type": "code",
   "execution_count": null,
   "metadata": {},
   "outputs": [],
   "source": [
    "\"\"\"\n",
    "==  -> Igualdad\n",
    "!= -> Diferecia\n",
    "< -> Menor que\n",
    "> -> Mayor que\n",
    "<= -> Menor o igual\n",
    ">= -> Mayor o igual\n",
    "\"\"\"\n",
    "\n",
    "print(2 == 2)"
   ]
  },
  {
   "cell_type": "code",
   "execution_count": null,
   "metadata": {},
   "outputs": [],
   "source": [
    "if True:\n",
    "    print(\"hola\")\n",
    "else:\n",
    "    print(\"adios\")"
   ]
  },
  {
   "cell_type": "code",
   "execution_count": null,
   "metadata": {},
   "outputs": [],
   "source": [
    "if (2 == 2 and 2 == 3): # and necesita que ambas condiciones sean True\n",
    "    print(\"hola\")\n",
    "else:\n",
    "    print(\"adios\")\n",
    "\n",
    "if True and False:\n",
    "    print(\"hola\")\n",
    "else:\n",
    "    print(\"adios\")"
   ]
  },
  {
   "cell_type": "code",
   "execution_count": null,
   "metadata": {},
   "outputs": [],
   "source": [
    "# and | or\n",
    "\n",
    "if 1 == 1 or 2 == 3:  # or necesita que solo una condición sea True\n",
    "    print(\"hola\")\n",
    "else:\n",
    "    print(\"adios\")"
   ]
  },
  {
   "cell_type": "code",
   "execution_count": null,
   "metadata": {},
   "outputs": [],
   "source": [
    "if False or False and True:\n",
    "    print(\"hola\")\n",
    "else:\n",
    "    print(\"adios\")"
   ]
  },
  {
   "cell_type": "code",
   "execution_count": null,
   "metadata": {},
   "outputs": [],
   "source": [
    "if ((1 == 2) or (2 == 2)) and (2 == 2):\n",
    "    print(\"hola\")\n",
    "else:\n",
    "    print(\"adios\")"
   ]
  },
  {
   "cell_type": "code",
   "execution_count": null,
   "metadata": {},
   "outputs": [],
   "source": [
    "if 1==2 or 1==2 or (2==2 and 2==2):\n",
    "    print(\"hola\")\n",
    "else:\n",
    "    print(\"adios\")"
   ]
  },
  {
   "cell_type": "code",
   "execution_count": null,
   "metadata": {},
   "outputs": [],
   "source": [
    "if 1==2 or 1==2 or 2==2 and 2==3:\n",
    "    print(\"hola\")\n",
    "else:\n",
    "    print(\"adios\")"
   ]
  },
  {
   "cell_type": "code",
   "execution_count": null,
   "metadata": {},
   "outputs": [],
   "source": [
    "if 1==2 or 1==2 or (2==2 and 2==3):\n",
    "    print(\"hola\")\n",
    "else:\n",
    "    print(\"adios\")"
   ]
  },
  {
   "cell_type": "code",
   "execution_count": null,
   "metadata": {},
   "outputs": [],
   "source": [
    "type(False)"
   ]
  },
  {
   "cell_type": "code",
   "execution_count": null,
   "metadata": {},
   "outputs": [],
   "source": [
    "not(False)"
   ]
  },
  {
   "cell_type": "code",
   "execution_count": null,
   "metadata": {},
   "outputs": [],
   "source": [
    "if False or True and not(False):\n",
    "    print(\"hola\")\n",
    "else:\n",
    "    print(\"adios\")"
   ]
  },
  {
   "cell_type": "code",
   "execution_count": null,
   "metadata": {},
   "outputs": [],
   "source": [
    "if False or False or True and False:\n",
    "    print(\"hola\")\n",
    "else:\n",
    "    print(\"adios\")"
   ]
  },
  {
   "cell_type": "code",
   "execution_count": null,
   "metadata": {},
   "outputs": [],
   "source": [
    "if 1==2 or 2==2 or 2==1 and 2==1:\n",
    "    print(\"hola\")\n",
    "else:\n",
    "    print(\"adios\")"
   ]
  },
  {
   "cell_type": "code",
   "execution_count": null,
   "metadata": {},
   "outputs": [],
   "source": [
    "if 1==2 or 2==1 or 2==2 and 2==2:\n",
    "    print(\"hola\")\n",
    "else:\n",
    "    print(\"adios\")"
   ]
  },
  {
   "cell_type": "code",
   "execution_count": null,
   "metadata": {},
   "outputs": [],
   "source": [
    "if 1==2 or 2==1 or (True):\n",
    "    print(2)"
   ]
  },
  {
   "source": [
    "if 1==2 or (2==1 and 7==7 and 2>1 and 4>4):\n",
    "    print(2)\n",
    "else:\n",
    "    print(False)"
   ],
   "cell_type": "code",
   "metadata": {},
   "execution_count": null,
   "outputs": []
  },
  {
   "cell_type": "code",
   "execution_count": null,
   "metadata": {},
   "outputs": [],
   "source": [
    "if 1==2 or (2==2 and 7==7 and 2>1) or (2==2 and 4>4):\n",
    "    print(2)\n",
    "else:\n",
    "    print(False)"
   ]
  },
  {
   "cell_type": "code",
   "execution_count": null,
   "metadata": {},
   "outputs": [],
   "source": [
    "if 1==2 or (2==2 and 7==7 and 2>1) or (2==2 and 4>4):\n",
    "    print(2)\n",
    "else:\n",
    "    print(False)"
   ]
  },
  {
   "cell_type": "code",
   "execution_count": null,
   "metadata": {},
   "outputs": [],
   "source": [
    "if 1!=2 or (2>=2 and 7<=7 and 2>1) or (2==2 and 4<5):\n",
    "    print(2)\n",
    "else:\n",
    "    print(False)"
   ]
  },
  {
   "cell_type": "code",
   "execution_count": null,
   "metadata": {},
   "outputs": [],
   "source": [
    "if 2:\n",
    "    print(\"hola\")"
   ]
  },
  {
   "cell_type": "code",
   "execution_count": null,
   "metadata": {},
   "outputs": [],
   "source": [
    "\"\"\" Los elementos en python que son False:\n",
    "\n",
    "- 0 (cero)\n",
    "- Conjuntos vacíos ([], (), {}, \"\", set())\n",
    "- False\n",
    "- None\n",
    "\n",
    "\"\"\"\n",
    "if 0:\n",
    "    print(\"hola\")\n",
    "elif [] or ():\n",
    "    print(\"adios\")\n",
    "elif False:\n",
    "    print(\"difente\")\n",
    "elif None:\n",
    "    print(None)\n"
   ]
  },
  {
   "cell_type": "code",
   "execution_count": null,
   "metadata": {},
   "outputs": [],
   "source": [
    "if -5815:\n",
    "    print(True)"
   ]
  },
  {
   "cell_type": "code",
   "execution_count": null,
   "metadata": {},
   "outputs": [],
   "source": [
    "lista = [0, False, \"Hola\"]\n",
    "if lista[0]:\n",
    "    print(\"1\")\n",
    "elif lista[1]:\n",
    "    print(2)\n",
    "elif lista[2]:\n",
    "    print(3)"
   ]
  },
  {
   "cell_type": "code",
   "execution_count": null,
   "metadata": {},
   "outputs": [],
   "source": [
    "lista = [0, False, \"Hola\"]\n",
    "if lista[0]:\n",
    "    print(\"1\")\n",
    "if lista[1]:\n",
    "    print(2)\n",
    "if lista[2]:\n",
    "    print(lista[2])"
   ]
  },
  {
   "cell_type": "code",
   "execution_count": null,
   "metadata": {},
   "outputs": [],
   "source": [
    "lista = [1, True, \"Hola\"]\n",
    "if lista[0]:\n",
    "    print(\"1\")\n",
    "if lista[1]:\n",
    "    print(2)\n",
    "if lista[2]:\n",
    "    print(3)"
   ]
  },
  {
   "cell_type": "code",
   "execution_count": null,
   "metadata": {},
   "outputs": [],
   "source": [
    "lista = [1, True, \"Hola\"]\n",
    "if lista[0]:\n",
    "    print(\"1\")\n",
    "elif lista[1]:\n",
    "    print(2)\n",
    "elif lista[2]:\n",
    "    print(3)"
   ]
  },
  {
   "source": [
    "### Boolean"
   ],
   "cell_type": "markdown",
   "metadata": {}
  },
  {
   "cell_type": "code",
   "execution_count": null,
   "metadata": {},
   "outputs": [],
   "source": [
    "# and solo devolverá True si TODOS son True\n",
    "True and False"
   ]
  },
  {
   "cell_type": "code",
   "execution_count": null,
   "metadata": {},
   "outputs": [],
   "source": [
    "# or devolverá True si UNO es True"
   ]
  },
  {
   "cell_type": "code",
   "execution_count": null,
   "metadata": {},
   "outputs": [],
   "source": [
    "# Sinónimos de False para las condiciones:\n",
    "# None\n",
    "# False\n",
    "# 0 (int or float)\n",
    "# Cualquier colección vacía --> [], \"\", (), {}\n",
    "\n",
    "# El None no actúa como un número al compararlo con otro número\n",
    "\"\"\"\n",
    "El True lo toma como un numérico 1\n",
    "\"\"\""
   ]
  },
  {
   "cell_type": "code",
   "execution_count": null,
   "metadata": {},
   "outputs": [],
   "source": [
    "if (0 and 1) or 2 or (1 and ()):\n",
    "    print(\"hola\")\n",
    "if [] or () and None and 1 or 2:\n",
    "    print(\"adios\")\n",
    "if False and True or True:\n",
    "    print(\"difente\")\n",
    "if None or False or 0 or 1 and 1:\n",
    "    print(None)"
   ]
  },
  {
   "cell_type": "code",
   "execution_count": null,
   "metadata": {},
   "outputs": [],
   "source": [
    "if False or True or False:\n",
    "    print(\"hola\")\n",
    "if False or False or True:\n",
    "    print(\"adios\")\n",
    "if False or True:\n",
    "    print(\"difente\")\n",
    "if False or False or False or True:\n",
    "    print(None)"
   ]
  },
  {
   "cell_type": "code",
   "execution_count": null,
   "metadata": {},
   "outputs": [],
   "source": [
    "if True:\n",
    "    print(\"hola\")\n",
    "if [] or () and None and 1 or 2:\n",
    "    print(\"adios\")\n",
    "if False and True or True:\n",
    "    print(\"difente\")\n",
    "if None or False or 0 or 1 and 1:\n",
    "    print(None)"
   ]
  },
  {
   "cell_type": "code",
   "execution_count": null,
   "metadata": {},
   "outputs": [],
   "source": [
    "if (0 and 1) or (False) or (1 and ()):\n",
    "    print(\"hola\")\n",
    "if [] or () and None and 1 or 2:\n",
    "    print(\"adios\")\n",
    "if False and True or True:\n",
    "    print(\"difente\")\n",
    "if None or False or 0 or 1 and 1:\n",
    "    print(None)"
   ]
  },
  {
   "cell_type": "code",
   "execution_count": null,
   "metadata": {},
   "outputs": [],
   "source": [
    "if 2==2 and not 3==3 or 1==1:\n",
    "    print(1)"
   ]
  },
  {
   "cell_type": "code",
   "execution_count": null,
   "metadata": {},
   "outputs": [],
   "source": [
    "if True and False or True:\n",
    "    print(1)"
   ]
  },
  {
   "cell_type": "code",
   "execution_count": null,
   "metadata": {},
   "outputs": [],
   "source": [
    "if not 2==2 and 3==3 or not 1==1:\n",
    "    print(1)\n",
    "    "
   ]
  },
  {
   "cell_type": "code",
   "execution_count": null,
   "metadata": {},
   "outputs": [],
   "source": [
    "if False and True or False:\n",
    "    print(1)\n",
    "    "
   ]
  },
  {
   "cell_type": "markdown",
   "metadata": {},
   "source": [
    "# Bucles For, While"
   ]
  },
  {
   "source": [
    "# Lista alturas\n"
   ],
   "cell_type": "code",
   "metadata": {},
   "execution_count": null,
   "outputs": []
  },
  {
   "cell_type": "code",
   "execution_count": null,
   "metadata": {},
   "outputs": [],
   "source": [
    "lista = [2, \"x\", [6]]\n",
    "print(lista[0])\n",
    "print(lista[1])\n",
    "print(lista[2])"
   ]
  },
  {
   "cell_type": "code",
   "execution_count": null,
   "metadata": {},
   "outputs": [],
   "source": [
    "lista = [2, \"x\", [6]]\n",
    "\n",
    "for x in lista:\n",
    "    print(x)\n",
    "\n",
    "print(\"fin\")"
   ]
  },
  {
   "cell_type": "code",
   "execution_count": null,
   "metadata": {},
   "outputs": [],
   "source": [
    "lista = [2, 1, 7]\n",
    "\n",
    "# Mostrar todos los elementos de la lista restándoles 1\n",
    "for elem in lista:\n",
    "    print(\"--------\")\n",
    "    print(elem - 1)"
   ]
  },
  {
   "cell_type": "code",
   "execution_count": null,
   "metadata": {},
   "outputs": [],
   "source": [
    "lista = [\"x\", \"y\", \"z\"]\n",
    "\n",
    "# Mostrar todos los elementos de la lista concatenándoles \"F\"\n",
    "for elem in lista:\n",
    "    print(elem + \"F\")\n",
    "\n",
    "print(lista)"
   ]
  },
  {
   "cell_type": "code",
   "execution_count": null,
   "metadata": {},
   "outputs": [],
   "source": [
    "tupla = (\"X\", 1, \"G\")\n",
    "\n",
    "# Mostrar todos los elementos de la lista concatenándoles \"F\"\n",
    "for valor_del_elemento in tupla:\n",
    "    print(valor_del_elemento + \"F\")"
   ]
  },
  {
   "cell_type": "code",
   "execution_count": null,
   "metadata": {},
   "outputs": [],
   "source": [
    "tupla = (\"X\", 1, \"G\")\n",
    "\n",
    "# Mostrar todos los elementos de la lista concatenándoles \"F\"\n",
    "for valor_del_elemento in tupla:\n",
    "    print(str(valor_del_elemento) + \"F\")"
   ]
  },
  {
   "cell_type": "code",
   "execution_count": null,
   "metadata": {},
   "outputs": [],
   "source": [
    "tupla = (\"X\", 1, \"G\")\n",
    "tupla_set = set(tupla)\n",
    "print(tupla_set)\n",
    "\n",
    "# Mostrar todos los elementos de la lista concatenándoles \"F\"\n",
    "for valor_del_elemento in tupla_set:\n",
    "    print(str(valor_del_elemento) + \"F\")"
   ]
  },
  {
   "cell_type": "code",
   "execution_count": null,
   "metadata": {},
   "outputs": [],
   "source": [
    "tupla = (\"X\", 1, \"G\")\n",
    "\n",
    "# Mostrar todos los elementos de la lista concatenándoles \"F\"\n",
    "for valor_del_elemento in tupla[1:2]:\n",
    "    if valor_del_elemento == 1:\n",
    "        print(str(valor_del_elemento) + \"F\")"
   ]
  },
  {
   "cell_type": "code",
   "execution_count": null,
   "metadata": {},
   "outputs": [],
   "source": [
    "lista = [2, 4, 5, 8]\n",
    "x = lista[2]  # esto es un escalar Entero\n",
    "y = lista[2:3]  # esto sigue siendo lista\n",
    "print(\"x:\", x)\n",
    "print(\"y:\", y)  "
   ]
  },
  {
   "cell_type": "code",
   "execution_count": null,
   "metadata": {},
   "outputs": [],
   "source": [
    "lista = [[2, 4], [6, \"8\"]]\n",
    "\n",
    "for x in lista:\n",
    "    print(x)"
   ]
  },
  {
   "cell_type": "code",
   "execution_count": null,
   "metadata": {},
   "outputs": [],
   "source": [
    "lista = [[2, 4], \"x\", 2, [6, \"8\"]]\n",
    "\n",
    "for x in lista:\n",
    "    print(x)\n",
    "    if len(x) >= 3:\n",
    "        print(x)\n",
    "\n",
    "print(\"fuera del for\")"
   ]
  },
  {
   "cell_type": "code",
   "execution_count": null,
   "metadata": {},
   "outputs": [],
   "source": [
    "lista = [[2, 4], \"xyz\", 2, [6, \"8\"]]\n",
    "\n",
    "for x in lista:\n",
    "    print(\"primer print\", x)\n",
    "    if len(x) >= 3:  # el error para la ejecución de python\n",
    "        print(\"segundo print\", x)\n",
    "    print(\"-------------\")\n",
    "\n",
    "print(\"fuera del for\")"
   ]
  },
  {
   "cell_type": "code",
   "execution_count": null,
   "metadata": {},
   "outputs": [],
   "source": [
    "x = 2\n",
    "\n",
    "print(type(x))"
   ]
  },
  {
   "cell_type": "code",
   "execution_count": null,
   "metadata": {},
   "outputs": [],
   "source": [
    "x = 2\n",
    "if type(x) == int or type(x) == float:\n",
    "    print(\"x es Entero o Float\")"
   ]
  },
  {
   "cell_type": "code",
   "execution_count": null,
   "metadata": {},
   "outputs": [],
   "source": [
    "x = 2\n",
    "if isinstance(x, int):  # built-in\n",
    "    print(\"x es Entero\")"
   ]
  },
  {
   "cell_type": "code",
   "execution_count": null,
   "metadata": {},
   "outputs": [],
   "source": [
    "x = 2\n",
    "if isinstance(x,(int, float)):\n",
    "    print(\"x es Entero\")"
   ]
  },
  {
   "cell_type": "code",
   "execution_count": null,
   "metadata": {},
   "outputs": [],
   "source": [
    "lista = [[2, 4], \"xyz\", 2, [6, \"8\"]]\n",
    "\n",
    "# Mostrar solo los que sean Listas\n",
    "\n",
    "for x in lista:\n",
    "    if isinstance(x, list):  # ¿es x de tipo lista? \n",
    "        print(x)\n",
    "\n",
    "print(\"fuera del for\")"
   ]
  },
  {
   "cell_type": "code",
   "execution_count": null,
   "metadata": {},
   "outputs": [],
   "source": [
    "lista_alturas = [1.66,1.82,1.73,1.75,1.54,1.70,1.70,1.80,1.81,1.87, 1.86, 1.52, 1.70, 1.78, 1.73, 1.78, 1.60, 1.77,1.80, 1.64, 1.79]\n",
    "\n",
    "# mostrar solo las alturas menores a 1.7\n",
    "\n",
    "for altura in lista_alturas:\n",
    "    if altura < 1.7:\n",
    "        print(altura)\n"
   ]
  },
  {
   "cell_type": "code",
   "execution_count": null,
   "metadata": {},
   "outputs": [],
   "source": [
    "lista_alturas = [1.66,1.82,1.73,1.75,1.54,1.70,1.70,1.80,1.81,1.87, 1.86, 1.52, 1.70, 1.78, 1.73, 1.78, 1.60, 1.77,1.80, 1.64, 1.79]\n",
    "\n",
    "# mostrar solo las alturas menores a 1.7 \n",
    "# & guardar en una variable 'alturas_menores' aquellas\n",
    "\n",
    "alturas_menores = []\n",
    "\n",
    "for altura in lista_alturas:\n",
    "    if altura < 1.7:\n",
    "        alturas_menores.append(altura)\n",
    "        print(altura)\n",
    "\n",
    "alturas_menores"
   ]
  },
  {
   "cell_type": "code",
   "execution_count": null,
   "metadata": {},
   "outputs": [],
   "source": [
    "lista_alturas = [1.66,1.82,1.73,1.75,1.54,1.70,1.70,1.80,1.81,1.87, 1.86, \"x\", None, 200, 1.52, 1.70, 1.78, 1.73, 1.78, 1.60, 1.77,1.80, 1.64, 1.79, 164]\n",
    "\n",
    "# mostrar solo las alturas menores a 1.7 \n",
    "# & guardar en una variable 'alturas_menores' aquellas\n",
    "\n",
    "alturas_menores = []\n",
    "\n",
    "# si isinstance se pone en primer lugar, la condición del for solo se va a hacer para aquellos que sea True el isintance\n",
    "for altura in lista_alturas:\n",
    "    if isinstance(altura, float) and altura < 1.7:  \n",
    "        alturas_menores.append(altura)\n",
    "        print(altura)\n",
    "\n",
    "alturas_menores"
   ]
  },
  {
   "cell_type": "code",
   "execution_count": null,
   "metadata": {},
   "outputs": [],
   "source": [
    "lista_alturas = [1.66,1.82,1.73,1.75,1.54,1.70,1.70,1.80,1.81,1.87, 1.86, 1.52, 1.70, 1.78, 1.73, \"x\", None, 200, 1.78, 1.60, 1.77,1.80, 1.64,1.85, 1.79, 1.63, 164]\n",
    "\n",
    "# mostrar solo las alturas menores a 1.7 \n",
    "# & guardar en una variable 'alturas_menores' aquellas\n",
    "# & mostrar los valores que sean enteros\n",
    "alturas_menores = []\n",
    "\n",
    "# si isinstance se pone en primer lugar, la condición del for solo se va a hacer para aquellos que sea True el isintance\n",
    "for altura in lista_alturas:\n",
    "    if isinstance(altura, (float,int)):\n",
    "        if isinstance(altura, int):  # Es de tipo int\n",
    "            print(\"Este valor es Entero:\", altura)\n",
    "        elif altura < 1.7:  # Es de tipo float\n",
    "            alturas_menores.append(altura)\n",
    "            print(altura)\n",
    "\n",
    "alturas_menores"
   ]
  },
  {
   "cell_type": "code",
   "execution_count": null,
   "metadata": {},
   "outputs": [],
   "source": [
    "lista_listas = [[\"Pepe\", 200], [\"Juan\", 300], [\"Lorena\", 150], [\"Rocío\", 500]]\n",
    "\n",
    "# Mostrar sólo los nombres:\n",
    "\n",
    "for x in lista_listas:\n",
    "    print(x[0])\n",
    "\n",
    "print(\"END\")"
   ]
  },
  {
   "cell_type": "code",
   "execution_count": null,
   "metadata": {},
   "outputs": [],
   "source": [
    "lista_listas = [[\"Pepe\", 200], [\"Juan\", 300], [\"Lorena\", 150], [\"Rocío\", 500]]\n",
    "\n",
    "# Mostrar sólo los nombres : dinero:\n",
    "\n",
    "for x in lista_listas:\n",
    "    print(x[0], \":\", x[1])\n",
    "\n",
    "print(\"END\")"
   ]
  },
  {
   "source": [
    "range en for"
   ],
   "cell_type": "markdown",
   "metadata": {}
  },
  {
   "cell_type": "code",
   "execution_count": null,
   "metadata": {},
   "outputs": [],
   "source": [
    "print(list(range(2)))"
   ]
  },
  {
   "cell_type": "code",
   "execution_count": null,
   "metadata": {},
   "outputs": [],
   "source": [
    "print(list(range(20)))"
   ]
  },
  {
   "cell_type": "code",
   "execution_count": null,
   "metadata": {},
   "outputs": [],
   "source": [
    "lista = [\"x\", \"y\", \"z\"]\n",
    "rango_de_lista = range(len(lista))\n",
    "print(list(rango_de_lista))\n",
    "rango_de_lista"
   ]
  },
  {
   "cell_type": "code",
   "execution_count": null,
   "metadata": {},
   "outputs": [],
   "source": [
    "# [start:stop:step]\n",
    "\n",
    "list(range(0, 4, 1))"
   ]
  },
  {
   "cell_type": "code",
   "execution_count": null,
   "metadata": {},
   "outputs": [],
   "source": [
    "list(range(0, 4, 2))"
   ]
  },
  {
   "cell_type": "code",
   "execution_count": null,
   "metadata": {},
   "outputs": [],
   "source": [
    "list(range(1, 4, 2))"
   ]
  },
  {
   "cell_type": "code",
   "execution_count": null,
   "metadata": {},
   "outputs": [],
   "source": [
    "lista_listas = [[\"Pepe\", 200], [\"Juan\", 300], [\"Lorena\", 150], [\"Rocío\", 500]]\n",
    "\n",
    "print(list(range(len(lista_listas))))"
   ]
  },
  {
   "cell_type": "code",
   "execution_count": null,
   "metadata": {},
   "outputs": [],
   "source": [
    "lista = [\"x\", \"y\", \"z\"]\n",
    "\n",
    "rango = list(range(len(lista)))\n",
    "\n",
    "# Mostrar cada uno de los elementos\n",
    "for i in rango:\n",
    "    print(lista[i])\n",
    "\n",
    "print(\"END\")"
   ]
  },
  {
   "cell_type": "code",
   "execution_count": null,
   "metadata": {},
   "outputs": [],
   "source": [
    "range(3)"
   ]
  },
  {
   "cell_type": "code",
   "execution_count": null,
   "metadata": {},
   "outputs": [],
   "source": [
    "lista_listas = [[\"Pepe\", 200], [\"Juan\", 300], [\"Lorena\", 150], [\"Rocío\", 500]]\n",
    "\n",
    "# Mostrar sólo los nombres:\n",
    "\n",
    "for i in range(len(lista_listas)):\n",
    "    print(lista_listas[i][0])\n",
    "\n",
    "print(\"END\")"
   ]
  },
  {
   "cell_type": "code",
   "execution_count": null,
   "metadata": {},
   "outputs": [],
   "source": [
    "list(range(4))"
   ]
  },
  {
   "cell_type": "code",
   "execution_count": null,
   "metadata": {},
   "outputs": [],
   "source": [
    "#En el único for que hay que añadir un número, normalmente el tamaño de la lista es el for con range. \n",
    "\n",
    "#for normal:\n",
    "\n",
    "for v_elem in nombre_lista:\n",
    "\n",
    "#for con range: \n",
    "\n",
    "for posicion in range(len(nombre_lista)):\n",
    "    \n",
    "#for con enumerate:\n",
    "\n",
    "for posicion, v_elem in enumerate(nombre_lista):"
   ]
  },
  {
   "cell_type": "code",
   "execution_count": null,
   "metadata": {},
   "outputs": [],
   "source": [
    "nombres = [\"Pepe\", \"Juan\", \"Lorena\", \"Rocío\"]\n",
    "dineros = [200, 300, 150, 500]\n",
    "\n",
    "for i in range(len(nombres)):\n",
    "    print(\"Iteración:\", i + 1)\n",
    "    print(\"valor de i:\", i)\n",
    "    print(nombres[i], \":\", dineros[i])\n",
    "    print(\"----------\")"
   ]
  },
  {
   "cell_type": "code",
   "execution_count": null,
   "metadata": {},
   "outputs": [],
   "source": [
    "# for anidado\n",
    "\n",
    "lista_listas = [[\"Pepe\", 200], [\"Juan\", 300], [\"Lorena\", 150], [\"Rocío\", 500]]\n",
    "\n",
    "for _ in lista_listas:\n",
    "    for elem in _:\n",
    "        print(elem)"
   ]
  },
  {
   "cell_type": "code",
   "execution_count": null,
   "metadata": {},
   "outputs": [],
   "source": [
    "# for anidado para mostrar --> nombre : dinero\n",
    "\n",
    "lista_listas = [[\"Pepe\", 200], [\"Juan\", 300], [\"Lorena\", 150], [\"Rocío\", 500]]\n",
    "\n",
    "for elemento_lista in lista_listas:\n",
    "    for elem in elemento_lista:\n",
    "        print(elem, \":\", elemento_lista[1])\n",
    "        break"
   ]
  },
  {
   "cell_type": "code",
   "execution_count": null,
   "metadata": {},
   "outputs": [],
   "source": [
    "lista_nombre_altura = [[\"Gabriel Vázquez Torres\", 1.75], ]"
   ]
  },
  {
   "cell_type": "code",
   "execution_count": null,
   "metadata": {},
   "outputs": [],
   "source": [
    "a = [1, 2]\n",
    "b = [4, 5]\n",
    "\n",
    "c = []\n",
    "contador = 0 # al ser el 0 el primer valor del contador, coincie con la primera posición del elemento que estoy recorriendo\n",
    "\n",
    "for num in a:\n",
    "    c.append(num + b[contador])\n",
    "    contador += 1\n",
    "c"
   ]
  },
  {
   "cell_type": "code",
   "execution_count": null,
   "metadata": {},
   "outputs": [],
   "source": [
    "list(range(len(a)))"
   ]
  },
  {
   "cell_type": "code",
   "execution_count": null,
   "metadata": {},
   "outputs": [],
   "source": [
    "a = [1, 2]\n",
    "b = [4, 5]\n",
    "\n",
    "c = []\n",
    "for i in range(len(a)):\n",
    "    c.append(a[i] + b[i])\n",
    "c"
   ]
  },
  {
   "cell_type": "code",
   "execution_count": null,
   "metadata": {},
   "outputs": [],
   "source": [
    "# for normal\n",
    "lista = [2, 4, 6]\n",
    "for elem in lista:  # elem representa el VALOR del elemento\n",
    "    print(elem)"
   ]
  },
  {
   "cell_type": "code",
   "execution_count": null,
   "metadata": {},
   "outputs": [],
   "source": [
    "# for normal con contador\n",
    "\n",
    "# num representa el VALOR del elemento\n",
    "# contador representa la POSICIÓN del elemento\n",
    "c = []\n",
    "contador = 0\n",
    "for num in a:\n",
    "    c.append(num + b[contador])\n",
    "    contador += 1\n",
    "c"
   ]
  },
  {
   "cell_type": "code",
   "execution_count": null,
   "metadata": {},
   "outputs": [],
   "source": [
    "# for range\n",
    "\n",
    "lista = [2, 4, 6]\n",
    "for i in range(len(lista)):  # i representa la POSICIÓN \n",
    "    print(lista[i])"
   ]
  },
  {
   "cell_type": "code",
   "execution_count": null,
   "metadata": {},
   "outputs": [],
   "source": [
    "# Enumerate\n",
    "\n",
    "# i representa la POSICIÓN del elemento y  elem es el VALOR del elemento\n",
    "\n",
    "lista = [2, 4, 6]\n",
    "for i, elem in enumerate(lista): \n",
    "    print(\"-------\")\n",
    "    print(\"i:\", i)\n",
    "    print(\"elem:\", elem) # es igual a: print(\"elem\", lista[i])\n",
    "\n",
    "    # lista[i] y elem, representan el valor en la posición i"
   ]
  },
  {
   "cell_type": "code",
   "execution_count": null,
   "metadata": {},
   "outputs": [],
   "source": [
    "a = [1, 2]\n",
    "b = [4, 5]\n",
    "\n",
    "c = []\n",
    "for i, elem in enumerate(a):\n",
    "    c.append(elem + b[i])\n",
    "c"
   ]
  },
  {
   "cell_type": "code",
   "execution_count": null,
   "metadata": {},
   "outputs": [],
   "source": [
    "a = [1, 2, \"x\", \"f\", 9]\n",
    "b = [4, 5, \"s\", \"h\", 3]\n",
    "\n",
    "for i, elem in enumerate(b):\n",
    "    if type(elem) == str:  # isinstance(elem, str)\n",
    "        print(elem, a[i])"
   ]
  },
  {
   "cell_type": "code",
   "execution_count": null,
   "metadata": {},
   "outputs": [],
   "source": [
    "list(range(5, 10))"
   ]
  },
  {
   "cell_type": "code",
   "execution_count": null,
   "metadata": {},
   "outputs": [],
   "source": [
    "# el anterior con un for range\n",
    "a = [1, 2, \"x\", \"f\", 9]\n",
    "b = [4, 5, \"s\", \"h\", 3]\n",
    "\n",
    "for pos in range(5):  # range(len(b))\n",
    "    if type(b[pos]) == str:  # isinstance(elem, str)\n",
    "        print(b[pos] + a[pos])\n",
    "        print(b[pos], a[pos])"
   ]
  },
  {
   "cell_type": "code",
   "execution_count": null,
   "metadata": {},
   "outputs": [],
   "source": [
    "b = [4, 5, \"s\", \"h\", 3]\n",
    "\n",
    "# mostrar los elementos de dos en dos si su tipo es int\n",
    "\n",
    "for pos, v_elem in enumerate(b):\n",
    "    if (pos % 2) == 0 and isinstance(v_elem, int):\n",
    "        print(v_elem)"
   ]
  },
  {
   "cell_type": "code",
   "execution_count": null,
   "metadata": {},
   "outputs": [],
   "source": [
    "b = [4, 5, \"s\", \"h\", 3]\n",
    "\n",
    "# mostrar los elementos int que sean pares\n",
    "\n",
    "for pos, v_elem in enumerate(b):\n",
    "    if  isinstance(v_elem, int) and (v_elem % 2) == 0:  # el orden al ser el tipo un posible problema se pone primero en la condición\n",
    "        print(v_elem)"
   ]
  },
  {
   "cell_type": "code",
   "execution_count": null,
   "metadata": {},
   "outputs": [],
   "source": [
    "list(range(8))"
   ]
  },
  {
   "cell_type": "code",
   "execution_count": null,
   "metadata": {},
   "outputs": [],
   "source": [
    "lista = [4, 5, \"s2\", \"h1\", 3, [\"xs\"], \"3\", []]\n",
    "\n",
    "# 1. mostrar los elementos en posiciones pares (posiciones: 0, 2, 4)\n",
    "# 2. si es string mostrar también el segundo caracter si tiene\n",
    "# 3. si es lista mostrar también el primer elemento si tiene\n",
    "# 4. mostrar sí o sí el quinto elemento (una vez)\n",
    "\n",
    "for i, v_elem in enumerate(lista):\n",
    "    if i % 2 == 0:  # es una posición par (1.)\n",
    "        print(v_elem)\n",
    "        if isinstance(v_elem, str) and len(v_elem) > 1:  # >= 2\n",
    "            print(v_elem[1])  # (2.)\n",
    "        elif isinstance(v_elem, list) and len(v_elem) > 0:  # >= 1\n",
    "            print(v_elem[0])  # (3.)\n",
    "print(lista[4])  # fuera del for para que se ejecute una vez(4.0)\n",
    "\n",
    "lista "
   ]
  },
  {
   "cell_type": "code",
   "execution_count": null,
   "metadata": {},
   "outputs": [],
   "source": [
    "# ** Esto NO muestra un elemento si cumple cualquiera de las 2 condiciones después de comprobar que está en una posición par\n",
    "lista = [[2, 4], 5, \"s2\", \"h1\", 3, [\"xs\"], \"3\", []]\n",
    "\n",
    "# 1. mostrar los elementos en posiciones pares (posiciones: 0, 2, 4)\n",
    "# 2. si es string mostrar también el segundo caracter si tiene\n",
    "# 3. si es lista mostrar también el primer elemento si tiene\n",
    "# 4. mostrar sí o sí el quinto elemento (una vez)\n",
    "# 5. Sin mostrar el string 's2' pero sí '2'\n",
    "\n",
    "for i, v_elem in enumerate(lista):\n",
    "    if i % 2 == 0:  # es una posición par (1.)\n",
    "        if isinstance(v_elem, str) and len(v_elem) > 1:  # >= 2\n",
    "            print(v_elem[1])  # (2.)\n",
    "        elif isinstance(v_elem, list) and len(v_elem) > 0:  # >= 1\n",
    "            print(v_elem[0])  # (3.)\n",
    "        else:\n",
    "            print(v_elem)\n",
    "print(lista[4])  # fuera del for para que se ejecute una vez(4.0)\n",
    "\n",
    "lista "
   ]
  },
  {
   "cell_type": "code",
   "execution_count": null,
   "metadata": {},
   "outputs": [],
   "source": [
    "lista = [[2, 4], 5, \"s2\", \"h1\", 3, [\"xs\"], \"3\", []]\n",
    "\n",
    "# 1. mostrar los elementos en posiciones pares (posiciones: 0, 2, 4)\n",
    "# 2. si es string mostrar también el segundo caracter si tiene\n",
    "# 3. si es lista mostrar también el primer elemento si tiene\n",
    "# 4. mostrar sí o sí el quinto elemento (una vez)\n",
    "# 5. Sin mostrar el string 's2' pero sí '2'\n",
    "\n",
    "for i, v_elem in enumerate(lista):\n",
    "    if i % 2 == 0:  # es una posición par (1.)\n",
    "        if i != 2:  # v_elem != \"s2\"\n",
    "            print(v_elem)\n",
    "        if isinstance(v_elem, str) and len(v_elem) > 1:  # >= 2\n",
    "            print(v_elem[1])  # (2.)\n",
    "        elif isinstance(v_elem, list) and len(v_elem) > 0:  # >= 1\n",
    "            print(v_elem[0])  # (3.)\n",
    "print(lista[4])  # fuera del for para que se ejecute una vez(4.0)\n",
    "\n",
    "lista "
   ]
  },
  {
   "source": [
    "## Funciones"
   ],
   "cell_type": "markdown",
   "metadata": {}
  },
  {
   "cell_type": "code",
   "execution_count": null,
   "metadata": {},
   "outputs": [],
   "source": [
    "x = 2\n",
    "y = 3\n",
    "\n",
    "suma = x + y"
   ]
  },
  {
   "cell_type": "code",
   "execution_count": null,
   "metadata": {},
   "outputs": [],
   "source": [
    "s = \"s\"\n",
    "s.upper()"
   ]
  },
  {
   "cell_type": "code",
   "execution_count": null,
   "metadata": {},
   "outputs": [],
   "source": [
    "# def nombre_de_la_funcion():\n",
    "\n",
    "def nombre_de_la_funcion():\n",
    "    print(\"Me ejecuto desde dentro de una función\")\n",
    "\n",
    "nombre_de_la_funcion()"
   ]
  },
  {
   "cell_type": "code",
   "execution_count": null,
   "metadata": {},
   "outputs": [],
   "source": [
    "nombre_de_la_funcion"
   ]
  },
  {
   "cell_type": "code",
   "execution_count": null,
   "metadata": {},
   "outputs": [],
   "source": [
    "def suma():\n",
    "    x = 5\n",
    "    y = 7\n",
    "    print(x + y)"
   ]
  },
  {
   "cell_type": "code",
   "execution_count": null,
   "metadata": {},
   "outputs": [],
   "source": [
    "suma()"
   ]
  },
  {
   "cell_type": "code",
   "execution_count": null,
   "metadata": {},
   "outputs": [],
   "source": [
    "def suma_con_parametro(nombre_parametro): \n",
    "    print(5 + int(nombre_parametro))"
   ]
  },
  {
   "cell_type": "code",
   "execution_count": null,
   "metadata": {},
   "outputs": [],
   "source": [
    "def suma_con_parametro(nombre_parametro): \n",
    "    nombre_parametro = 2\n",
    "    print(5 + int(nombre_parametro))\n",
    "\n",
    "\n",
    "#Aquí estamos dando valor a nombre_parámetro de forma local, únicamente dentro de la función, no de forma global"
   ]
  },
  {
   "cell_type": "code",
   "execution_count": null,
   "metadata": {},
   "outputs": [],
   "source": [
    "nombre_parametro"
   ]
  },
  {
   "cell_type": "code",
   "execution_count": null,
   "metadata": {},
   "outputs": [],
   "source": [
    "x = input(\"un número:\")\n",
    "suma_con_parametro(nombre_parametro=x)"
   ]
  },
  {
   "cell_type": "code",
   "execution_count": null,
   "metadata": {},
   "outputs": [],
   "source": [
    "# Las funciones pueden usar variables preexistentes o predefinidas. \n",
    "param = 2\n",
    "def nf(param1):\n",
    "    print(2)\n",
    "    print(param)\n",
    "    if param == 2:\n",
    "        print(param + 2)"
   ]
  },
  {
   "cell_type": "code",
   "execution_count": null,
   "metadata": {},
   "outputs": [],
   "source": [
    "nf(param1=65)"
   ]
  },
  {
   "cell_type": "code",
   "execution_count": null,
   "metadata": {},
   "outputs": [],
   "source": [
    "def f_con_return():\n",
    "    print(2)\n",
    "    return 3\n",
    "\n",
    "#lo que retorna la función\n",
    "\n",
    "x = f_con_return()\n",
    "print(x)"
   ]
  },
  {
   "cell_type": "code",
   "execution_count": null,
   "metadata": {},
   "outputs": [],
   "source": []
  },
  {
   "cell_type": "code",
   "execution_count": null,
   "metadata": {},
   "outputs": [],
   "source": [
    "def f(): \n",
    "    print(\"hola\")\n",
    "\n",
    "#primero devuelve lo que hay en la función y luego lo que retorna \n",
    "print(f())"
   ]
  },
  {
   "source": [
    "\n",
    "Jupyter Notebooks no muestra None como output por defecto cuando el None está en la última línea"
   ],
   "cell_type": "markdown",
   "metadata": {}
  },
  {
   "cell_type": "code",
   "execution_count": null,
   "metadata": {},
   "outputs": [],
   "source": [
    "#Si no pones return dentro de la función, la función retorna None por defecto. "
   ]
  },
  {
   "cell_type": "code",
   "execution_count": null,
   "metadata": {},
   "outputs": [],
   "source": [
    "def f(): \n",
    "    print(\"hola\")\n",
    "x = f()\n",
    "x"
   ]
  },
  {
   "cell_type": "code",
   "execution_count": null,
   "metadata": {},
   "outputs": [],
   "source": [
    "def f(): \n",
    "    print(\"hola\")\n",
    "x = f()\n",
    "print(x)"
   ]
  },
  {
   "cell_type": "code",
   "execution_count": null,
   "metadata": {},
   "outputs": [],
   "source": [
    "#Las funciones tienen por defecto un \"return None\"\n",
    "\n",
    "def f(): \n",
    "    print(\"hola\")\n",
    "    return None"
   ]
  },
  {
   "cell_type": "code",
   "execution_count": null,
   "metadata": {},
   "outputs": [],
   "source": [
    "# Suma sin retrono\n",
    "def suma_sin_return(a,b):\n",
    "    print(a + b)\n",
    "\n",
    "def suma_con_return(a, b): \n",
    "    return a + b\n"
   ]
  },
  {
   "cell_type": "code",
   "execution_count": null,
   "metadata": {},
   "outputs": [],
   "source": [
    "print(suma_sin_return(a=2, b=4))"
   ]
  },
  {
   "cell_type": "code",
   "execution_count": null,
   "metadata": {},
   "outputs": [],
   "source": [
    "print(suma_con_return(a=2, b=4))"
   ]
  },
  {
   "cell_type": "code",
   "execution_count": null,
   "metadata": {},
   "outputs": [],
   "source": [
    "lo_que_retorna_la_funcion = suma_sin_return(a=2, b=4)\n",
    "print(lo_que_retorna_la_funcion)"
   ]
  },
  {
   "cell_type": "code",
   "execution_count": null,
   "metadata": {},
   "outputs": [],
   "source": [
    "lo_que_retorna_la_funcion = suma_con_return(a=2, b=4)\n",
    "print(lo_que_retorna_la_funcion)"
   ]
  },
  {
   "cell_type": "code",
   "execution_count": null,
   "metadata": {},
   "outputs": [],
   "source": [
    "x = suma_con_return(a=2, b=4)"
   ]
  },
  {
   "cell_type": "code",
   "execution_count": null,
   "metadata": {},
   "outputs": [],
   "source": [
    "def f():\n",
    "    print(\"hola\")\n",
    "    c = 2 + 7\n",
    "    print(c)\n",
    "    l = (2,4,6)\n",
    "x = f()\n",
    "print(x)\n"
   ]
  },
  {
   "cell_type": "code",
   "execution_count": null,
   "metadata": {},
   "outputs": [],
   "source": [
    "#Lo último que ocurre en una función durante su ejecución es el \"return\"\n",
    "\n",
    "def f():\n",
    "    return 1\n",
    "    print(\"hola\")\n",
    "    c = 2 + 7\n",
    "    print(c)\n",
    "    l = (2,4,6)\n",
    "\n",
    "x = f()\n",
    "print(x)"
   ]
  },
  {
   "cell_type": "code",
   "execution_count": null,
   "metadata": {},
   "outputs": [],
   "source": [
    "def f():\n",
    "    return 1\n",
    "    print(\"hola\")\n",
    "    c = 2 + 7\n",
    "    print(c)\n",
    "    l = (2,4,6)\n",
    "    return l\n",
    "x = f()\n",
    "print(x)"
   ]
  },
  {
   "cell_type": "code",
   "execution_count": null,
   "metadata": {},
   "outputs": [],
   "source": [
    "def f():\n",
    "    print(\"hola\")\n",
    "    c = 2 + 7\n",
    "    print(c)\n",
    "    h = (2,4,6)\n",
    "    return  h\n",
    "    return 1\n",
    "\n",
    "x = f()\n",
    "print(x)"
   ]
  },
  {
   "cell_type": "code",
   "execution_count": 12,
   "metadata": {},
   "outputs": [
    {
     "output_type": "stream",
     "name": "stdout",
     "text": [
      "hola\n9\n(2, 4, 6)\n"
     ]
    }
   ],
   "source": [
    "def f():\n",
    "    print(\"hola\")\n",
    "    c = 2 + 7\n",
    "    print(c)\n",
    "    h = (2,4,6)\n",
    "    return  h\n",
    "    return 1\n",
    "\n",
    "x = f()\n",
    "print(x)"
   ]
  },
  {
   "cell_type": "code",
   "execution_count": null,
   "metadata": {},
   "outputs": [],
   "source": [
    "y = print(x)\n",
    "print(x[2])"
   ]
  },
  {
   "cell_type": "code",
   "execution_count": null,
   "metadata": {},
   "outputs": [],
   "source": [
    "k = \"s\"\n",
    "k = type(k)\n",
    "print(k)"
   ]
  },
  {
   "cell_type": "code",
   "execution_count": null,
   "metadata": {},
   "outputs": [],
   "source": [
    "lista = [2, 4, 6]\n",
    "lista.append(2)\n",
    "print(lista)"
   ]
  },
  {
   "cell_type": "code",
   "execution_count": null,
   "metadata": {},
   "outputs": [],
   "source": [
    "\n",
    "# .append como muchas otras funciones en el mundo python retornan None y no es necesario asignar el retorno de la función a la misma variable a la que quiero efectuar la función\n",
    "lista = [2, 4, 6]\n",
    "lista = lista.append(2) # Me he cargado lista y va a devolver none\n",
    "print(lista)"
   ]
  },
  {
   "cell_type": "code",
   "execution_count": null,
   "metadata": {},
   "outputs": [],
   "source": [
    "# .pop retorna el elemento que elimina\n",
    "\n",
    "lista = [2, 4, 6]\n",
    "p = lista.pop()\n",
    "print(lista)\n",
    "print(p)"
   ]
  },
  {
   "cell_type": "code",
   "execution_count": 79,
   "metadata": {},
   "outputs": [],
   "source": [
    "lista = [2, 4, 6]\n"
   ]
  },
  {
   "cell_type": "code",
   "execution_count": 80,
   "metadata": {},
   "outputs": [
    {
     "output_type": "stream",
     "name": "stdout",
     "text": [
      "[2, 4]\n"
     ]
    }
   ],
   "source": [
    "lista.pop()\n",
    "print(lista)"
   ]
  },
  {
   "cell_type": "code",
   "execution_count": null,
   "metadata": {},
   "outputs": [],
   "source": [
    "type(lista.pop())"
   ]
  },
  {
   "cell_type": "code",
   "execution_count": 14,
   "metadata": {},
   "outputs": [
    {
     "output_type": "stream",
     "name": "stdout",
     "text": [
      "4\n2\n"
     ]
    }
   ],
   "source": [
    "def jk(a):\n",
    "    \"\"\" Esto es la documentación\n",
    "\n",
    "    Esta función lo que hace es crear una variable suma que alberga la suma del parámetro \"a\" + 2\n",
    "\n",
    "    Params : \n",
    "        \"a\" : Una variable que será sumada con 2\n",
    "\n",
    "    Return: variable \"suma\" \"\"\"\n",
    "\n",
    "    suma = a + a\n",
    "    print(suma)\n",
    "    return 2\n",
    "\n",
    "print(jk(a=2))\n"
   ]
  },
  {
   "cell_type": "code",
   "execution_count": null,
   "metadata": {},
   "outputs": [],
   "source": [
    "help(lista.pop())"
   ]
  },
  {
   "cell_type": "code",
   "execution_count": 82,
   "metadata": {},
   "outputs": [
    {
     "output_type": "stream",
     "name": "stdout",
     "text": [
      "parametro1: -2\nparametro2: 3\nsolo se admiten números mayores a 0\n"
     ]
    }
   ],
   "source": [
    "def multiplicacion_con_parametros(parametro1, parametro2):\n",
    "\n",
    "    print(\"parametro1:\", parametro1)\n",
    "    print(\"parametro2:\", parametro2)\n",
    "    if parametro1 > 0 and parametro2 > 0:\n",
    "        print(parametro1 * parametro2)\n",
    "    else:\n",
    "        print(\"solo se admiten números mayores a 0\")\n",
    "\n",
    "multiplicacion_con_parametros(parametro1=-2, parametro2=3)"
   ]
  },
  {
   "cell_type": "code",
   "execution_count": 15,
   "metadata": {},
   "outputs": [
    {
     "output_type": "stream",
     "name": "stdout",
     "text": [
      "parametro1: 4\nparametro2: 5\n<class 'str'>\n20\nNone\n"
     ]
    }
   ],
   "source": [
    "def multiplicacion_con_parametros(parametro1, parametro2):\n",
    "\n",
    "    print(\"parametro1:\", parametro1)\n",
    "    print(\"parametro2:\", parametro2)\n",
    "    print(type(parametro1))\n",
    "    if int(parametro1) >= 0 and int(parametro2) >= 0:\n",
    "        print(int(parametro1) * int(parametro2))\n",
    "    else:\n",
    "        print(\"solo se admiten números mayores a 0\")\n",
    "\n",
    "param1 = input()\n",
    "param2 = input()\n",
    "\n",
    "print(multiplicacion_con_parametros(parametro1=param1, parametro2=param2))"
   ]
  },
  {
   "cell_type": "code",
   "execution_count": 83,
   "metadata": {},
   "outputs": [
    {
     "output_type": "execute_result",
     "data": {
      "text/plain": [
       "<function __main__.multiplicacion()>"
      ]
     },
     "metadata": {},
     "execution_count": 83
    }
   ],
   "source": [
    "def suma(): \n",
    "    pass\n",
    "def resta():\n",
    "    pass\n",
    "def multiplicacion():\n",
    "    pass\n",
    "\n",
    "x = multiplicacion\n",
    "x\n"
   ]
  },
  {
   "cell_type": "code",
   "execution_count": 90,
   "metadata": {},
   "outputs": [
    {
     "output_type": "stream",
     "name": "stdout",
     "text": [
      "2\n"
     ]
    },
    {
     "output_type": "execute_result",
     "data": {
      "text/plain": [
       "4"
      ]
     },
     "metadata": {},
     "execution_count": 90
    }
   ],
   "source": [
    "def resta_dos(x):\n",
    "    x = x - 2\n",
    "    return x\n",
    "\n",
    "x = 4\n",
    "print(resta_dos(x=x))\n",
    "x"
   ]
  },
  {
   "cell_type": "code",
   "execution_count": null,
   "metadata": {},
   "outputs": [],
   "source": []
  },
  {
   "cell_type": "code",
   "execution_count": null,
   "metadata": {},
   "outputs": [],
   "source": [
    "# ¿ Qué hacer para que mi x que está fuera de la función?"
   ]
  },
  {
   "cell_type": "code",
   "execution_count": 103,
   "metadata": {},
   "outputs": [
    {
     "output_type": "execute_result",
     "data": {
      "text/plain": [
       "27"
      ]
     },
     "metadata": {},
     "execution_count": 103
    }
   ],
   "source": [
    "\"\"\" Una variable x que tenga todos los nombres concatenados de la lista nombres_altura utilizando una función para ello: \n",
    "\n",
    "    x = nombre_funcion(lista = lista_nombres_altura)\"\"\"\n",
    "\n",
    "lista_nombres_alturas = [(\"Gabriel Vázquez\", 1.75),(\"Jonathan Abbondanza\",  1.70),(\"Nacho Fontal\", 1.82),(\"Javier Araiz\", 1.80),('Jonathan Suarez', 1.86),('Sonia Cobo', 1.73), ('Jorge García', 1.79), (\"Mary Meza\", 1.52), ('Leonardo Frazzetto', 1.75), (\"Nacho Astorga\",1.78),(\"José Carlos Batista\",1.70), (\"Isabel Palomares\", 1.78),(\"Marina Serrano\", 1.54), (\"Daniel Walker\", 1.87), (\"Clara Piniella\", 1.66), (\"Gina Garrido\", 1.63), (\"Adrià Gallardo\", 1.70), (\"María García-Maroto\", 1.64), (\"Susana Vázquez\",1.80), (\"Mauro Garcia-Oliva\", 1.77), (\"Juan Bayon\", 1.64), (\"Miguel Barquero\", 1.85), (\"Borja Puig\", 1.82), (\"Pablo Martínez\", 1.81), (\"Xinru Yang\", 1.60),(\"Pablo Díez\", 1.84),(\"Karina Inche\",1.61)]\n",
    "\n",
    "len(lista_nombres_alturas)\n"
   ]
  },
  {
   "cell_type": "code",
   "execution_count": 111,
   "metadata": {},
   "outputs": [
    {
     "output_type": "stream",
     "name": "stdout",
     "text": [
      "Gabriel VázquezJonathan AbbondanzaNacho FontalJavier AraizJonathan SuarezSonia CoboJorge GarcíaMary MezaLeonardo FrazzettoNacho AstorgaJosé Carlos BatistaIsabel PalomaresMarina SerranoDaniel WalkerClara PiniellaGina GarridoAdrià GallardoMaría García-MarotoSusana VázquezMauro Garcia-OlivaJuan BayonMiguel BarqueroBorja PuigPablo MartínezXinru YangPablo DíezKarina Inche\n"
     ]
    }
   ],
   "source": [
    "def nombre_funcion(lista):\n",
    "    nombres = \"\"\n",
    "    for tupla in lista: \n",
    "        # tupla = (\"Gabriel Vázquez\", 1,71)\n",
    "        nombres = nombres + tupla[0]\n",
    "\n",
    "    return nombres\n",
    "        \n",
    "\n",
    "x = nombre_funcion(lista = lista_nombres_alturas)\n",
    "print(x)"
   ]
  },
  {
   "cell_type": "code",
   "execution_count": 121,
   "metadata": {},
   "outputs": [
    {
     "output_type": "stream",
     "name": "stdout",
     "text": [
      "46.76\n"
     ]
    }
   ],
   "source": [
    "def nombre_funcion(lista):\n",
    "    alturas = 0\n",
    "    for tupla in lista: \n",
    "        # tupla = (\"Gabriel Vázquez\", 1,71)\n",
    "        alturas = alturas + tupla[1]\n",
    "\n",
    "    return alturas\n",
    "        \n",
    "\n",
    "x = nombre_funcion(lista = lista_nombres_alturas)\n",
    "print(round(x,3))"
   ]
  },
  {
   "cell_type": "code",
   "execution_count": 123,
   "metadata": {},
   "outputs": [
    {
     "output_type": "stream",
     "name": "stdout",
     "text": [
      "Gabriel VázquezJonathan AbbondanzaNacho FontalJavier AraizJonathan SuarezSonia CoboJorge GarcíaMary MezaLeonardo FrazzettoNacho AstorgaJosé Carlos BatistaIsabel PalomaresMarina SerranoDaniel WalkerClara PiniellaGina GarridoAdrià GallardoMaría García-MarotoSusana VázquezMauro Garcia-OlivaJuan BayonMiguel BarqueroBorja PuigPablo MartínezXinru YangPablo DíezKarina Inche\n"
     ]
    }
   ],
   "source": [
    "def nombre_funcion(lista):\n",
    "    nombres = \"\"\n",
    "    for tupla in lista: \n",
    "        # tupla = (\"Gabriel Vázquez\", 1,71)\n",
    "        nombres = nombres + tupla[0]\n",
    "\n",
    "    return nombres\n",
    "        \n",
    "\n",
    "x = nombre_funcion(lista = lista_nombres_alturas)\n",
    "print(x)"
   ]
  },
  {
   "cell_type": "code",
   "execution_count": null,
   "metadata": {},
   "outputs": [],
   "source": []
  }
 ],
 "metadata": {
  "language_info": {
   "name": "python",
   "codemirror_mode": {
    "name": "ipython",
    "version": 3
   },
   "version": "3.7.4"
  },
  "orig_nbformat": 2,
  "file_extension": ".py",
  "mimetype": "text/x-python",
  "name": "python",
  "npconvert_exporter": "python",
  "pygments_lexer": "ipython3",
  "version": 3,
  "kernelspec": {
   "name": "python374jvsc74a57bd0fc2c00f0e2c44cb4028bd693f18a1b5d93d1de4cd12db71fca36ff691a163044",
   "display_name": "Python 3.7.4 64-bit"
  },
  "metadata": {
   "interpreter": {
    "hash": "fc2c00f0e2c44cb4028bd693f18a1b5d93d1de4cd12db71fca36ff691a163044"
   }
  }
 },
 "nbformat": 4,
 "nbformat_minor": 2
}