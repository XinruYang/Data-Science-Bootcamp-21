{
 "metadata": {
  "language_info": {
   "codemirror_mode": {
    "name": "ipython",
    "version": 3
   },
   "file_extension": ".py",
   "mimetype": "text/x-python",
   "name": "python",
   "nbconvert_exporter": "python",
   "pygments_lexer": "ipython3",
   "version": "3.7.4"
  },
  "orig_nbformat": 2,
  "kernelspec": {
   "name": "python374jvsc74a57bd0fc2c00f0e2c44cb4028bd693f18a1b5d93d1de4cd12db71fca36ff691a163044",
   "display_name": "Python 3.7.4 64-bit"
  },
  "metadata": {
   "interpreter": {
    "hash": "fc2c00f0e2c44cb4028bd693f18a1b5d93d1de4cd12db71fca36ff691a163044"
   }
  }
 },
 "nbformat": 4,
 "nbformat_minor": 2,
 "cells": [
  {
   "cell_type": "markdown",
   "metadata": {},
   "source": [
    "### 1. \n",
    "\n",
    "Crear una función que reciba cuatro parámetros: una lista 'L', un número 'T', un número 'V' y un booleano 'S'. La función debe devolver otras dos listas: \"lista_train_val\" y \"lista_test\".\n",
    "\n",
    "- \"lista_train_val\" es una lista con dos elementos. Cada elemento es una lista: \"list_train\", que representa el conjunto de entrenamiento y \"list_val\", que representa el conjunto de validación. \n",
    "- \"list_test\" es el conjunto de test. Como mínimo ha de tener 1 elemento (si 'L' > 1).\n",
    "- \"L\" es cualquier lista de elementos. Al principio, entra con un tamaño completo (100%). Esta es la lista que se partirá y se generarán los conjuntos entrenamiento, de validación y de test.\n",
    "- \"T\" es un número entre 1 y 100 que va a representar el tamaño, en porcentaje, del conjunto de test \"list_test\". \n",
    "- \"V\" es un número entre 0 y 100 que va a representar el tamaño, en porcentaje, del conjunto de validación \"list_val\". Su valor por defecto es 0.\n",
    "- \"S\", que por defecto es False, determinará si los conjuntos \"list_train\", \"list_test\" y \"list_val\" están aleatoriamente ordenados. ¿Encuentras alguna posible incoherencia si se reordenan aleatoriamente?\n",
    "\n",
    "Prueba la función con una lista de 100 números aleatorios del 0 al 100. \n",
    "\n",
    "### 2. \n",
    "\n",
    "Rehacer el ejercicio anterior en otra función para que no devuelva dos listas, sino los tres conjuntos: \n",
    "\n",
    "--> return list_train, list_val, list_test "
   ]
  },
  {
   "cell_type": "code",
   "execution_count": 16,
   "metadata": {},
   "outputs": [],
   "source": [
    "import numpy as np\n",
    "import matplotlib.pyplot as plt\n",
    "from sklearn.metrics import mean_squared_error, mean_absolute_error\n",
    "from sklearn.model_selection import train_test_split\n",
    "import random"
   ]
  },
  {
   "cell_type": "code",
   "execution_count": 15,
   "metadata": {},
   "outputs": [
    {
     "output_type": "execute_result",
     "data": {
      "text/plain": [
       "array([ 0,  1,  2,  3,  4,  5,  6,  7,  8,  9, 10, 11, 12, 13, 14, 15, 16,\n",
       "       17, 18, 19, 20, 21, 22, 23, 24, 25, 26, 27, 28, 29, 30, 31, 32, 33,\n",
       "       34, 35, 36, 37, 38, 39, 40, 41, 42, 43, 44, 45, 46, 47, 48, 49, 50,\n",
       "       51, 52, 53, 54, 55, 56, 57, 58, 59, 60, 61, 62, 63, 64, 65, 66, 67,\n",
       "       68, 69, 70, 71, 72, 73, 74, 75, 76, 77, 78, 79, 80, 81, 82, 83, 84,\n",
       "       85, 86, 87, 88, 89, 90, 91, 92, 93, 94, 95, 96, 97, 98, 99])"
      ]
     },
     "metadata": {},
     "execution_count": 15
    }
   ],
   "source": [
    "lista = np.arange(100)\n",
    "lista"
   ]
  },
  {
   "cell_type": "code",
   "execution_count": 32,
   "metadata": {},
   "outputs": [],
   "source": [
    "def f1(L=lista, T=0, V=0, S=False):\n",
    "    \n",
    "    if len(L)>1:\n",
    "        if S == False:\n",
    "                list_train = L[T:]\n",
    "                list_test = L[:T]\n",
    "                list_val = list_train[:V]\n",
    "\n",
    "        else:\n",
    "            random.shuffle(L)\n",
    "            list_train = L[T:]\n",
    "            list_test = L[:T]\n",
    "            list_val = list_train[:V]\n",
    "\n",
    "    lista_train_val = [[list_train], [list_val]]\n",
    "    print(\"-------------lista test-----------------\", list_test)\n",
    "    print()\n",
    "    print(\"-------------lista val------------------\", list_val)\n",
    "    print()\n",
    "    print(\"-------------lista train----------------\", list_train)\n",
    "    return lista_train_val, list_test\n"
   ]
  },
  {
   "cell_type": "code",
   "execution_count": 33,
   "metadata": {},
   "outputs": [
    {
     "output_type": "stream",
     "name": "stdout",
     "text": [
      "-------------lista test----------------- [92 20 75 36 83 44 87 88 59 12 35 85 11 61 25  5  0 64 97 55]\n\n-------------lista val------------------ [56 57 49 14 18 54  8  3 93 77]\n\n-------------lista train---------------- [56 57 49 14 18 54  8  3 93 77 60 62  2 70 91  1 43 17 39 38 76 34 84 46\n 53 13 74 58 81 40 99 95 86 26 67 69 30 71 27 80 23 10 24 66  4 79 50 21\n 82 68 98 94 45 37 48 78 65 29 47 89  6 15 41 19 96  7 52 16 28 33 22 72\n 31 73 32  9 63 90 51 42]\n"
     ]
    },
    {
     "output_type": "execute_result",
     "data": {
      "text/plain": [
       "([[array([56, 57, 49, 14, 18, 54,  8,  3, 93, 77, 60, 62,  2, 70, 91,  1, 43,\n",
       "          17, 39, 38, 76, 34, 84, 46, 53, 13, 74, 58, 81, 40, 99, 95, 86, 26,\n",
       "          67, 69, 30, 71, 27, 80, 23, 10, 24, 66,  4, 79, 50, 21, 82, 68, 98,\n",
       "          94, 45, 37, 48, 78, 65, 29, 47, 89,  6, 15, 41, 19, 96,  7, 52, 16,\n",
       "          28, 33, 22, 72, 31, 73, 32,  9, 63, 90, 51, 42])],\n",
       "  [array([56, 57, 49, 14, 18, 54,  8,  3, 93, 77])]],\n",
       " array([92, 20, 75, 36, 83, 44, 87, 88, 59, 12, 35, 85, 11, 61, 25,  5,  0,\n",
       "        64, 97, 55]))"
      ]
     },
     "metadata": {},
     "execution_count": 33
    }
   ],
   "source": [
    "f1(lista, 20, 10, True)"
   ]
  },
  {
   "cell_type": "code",
   "execution_count": 34,
   "metadata": {},
   "outputs": [],
   "source": [
    "def f1(L=lista, T=0, V=0, S=False):\n",
    "    \n",
    "    if len(L)>1:\n",
    "        if S == False:\n",
    "                list_train = L[T:]\n",
    "                list_test = L[:T]\n",
    "                list_val = list_train[:V]\n",
    "\n",
    "        else:\n",
    "            random.shuffle(L)\n",
    "            list_train = L[T:]\n",
    "            list_test = L[:T]\n",
    "            list_val = list_train[:V]\n",
    "\n",
    "    lista_train_val = [[list_train], [list_val]]\n",
    "    print(\"-------------lista test-----------------\", list_test)\n",
    "    print()\n",
    "    print(\"-------------lista val------------------\", list_val)\n",
    "    print()\n",
    "    print(\"-------------lista train----------------\", list_train)\n",
    "    return list_train, list_test, list_val"
   ]
  },
  {
   "source": [
    "¿Encuentras alguna posible incoherencia si se reordenan aleatoriamente?\n",
    "\n",
    "Que se encuentran totalmente desordenados, ya que al no tener \"y\" no mantiene ningún tipo de orden simétrico entre la X y la y."
   ],
   "cell_type": "markdown",
   "metadata": {}
  },
  {
   "cell_type": "code",
   "execution_count": null,
   "metadata": {},
   "outputs": [],
   "source": []
  }
 ]
}