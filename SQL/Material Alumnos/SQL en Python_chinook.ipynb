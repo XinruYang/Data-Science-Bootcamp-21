{
 "metadata": {
  "language_info": {
   "codemirror_mode": {
    "name": "ipython",
    "version": 3
   },
   "file_extension": ".py",
   "mimetype": "text/x-python",
   "name": "python",
   "nbconvert_exporter": "python",
   "pygments_lexer": "ipython3",
   "version": "3.7.4"
  },
  "orig_nbformat": 2,
  "kernelspec": {
   "name": "python3",
   "display_name": "Python 3.7.4 64-bit"
  },
  "metadata": {
   "interpreter": {
    "hash": "fc2c00f0e2c44cb4028bd693f18a1b5d93d1de4cd12db71fca36ff691a163044"
   }
  },
  "interpreter": {
   "hash": "fc2c00f0e2c44cb4028bd693f18a1b5d93d1de4cd12db71fca36ff691a163044"
  }
 },
 "nbformat": 4,
 "nbformat_minor": 2,
 "cells": [
  {
   "source": [
    "# SQL en Python\n",
    "<img src=\".\\img\\image-4.png\" alt=\"EDA Path\"\n",
    "    title=\"A typical EDA path\" width=\"600\" height=\"300\" />\n",
    "## Conectamos con la base de datos\n",
    "\n",
    "### Documentación de la librería SQLite3 que vamos a utilizar:\n",
    "https://docs.python.org/3/library/sqlite3.html\n"
   ],
   "cell_type": "markdown",
   "metadata": {}
  },
  {
   "cell_type": "code",
   "execution_count": 1,
   "metadata": {},
   "outputs": [],
   "source": [
    "import pymysql"
   ]
  },
  {
   "cell_type": "code",
   "execution_count": 21,
   "metadata": {},
   "outputs": [],
   "source": [
    "# Importamos librerias\n",
    "import pandas as pd \n",
    "import sqlite3\n"
   ]
  },
  {
   "cell_type": "code",
   "execution_count": 22,
   "metadata": {},
   "outputs": [],
   "source": [
    "# Conectamos con la base de datos chinook.db\n",
    "path = \"chinook.db\"\n",
    "connection = sqlite3.connect(path)\n",
    "\n",
    "# Obtenemos un cursor que utilizaremos para hacer las queries\n",
    "curs = connection.cursor()\n"
   ]
  },
  {
   "cell_type": "code",
   "execution_count": 23,
   "metadata": {},
   "outputs": [],
   "source": [
    "curs.description"
   ]
  },
  {
   "cell_type": "code",
   "execution_count": 24,
   "metadata": {},
   "outputs": [],
   "source": [
    "# Creamos una Query sencilla\n",
    "query = \"\"\"\n",
    "SELECT *\n",
    "FROM genres\n",
    "\"\"\""
   ]
  },
  {
   "cell_type": "code",
   "execution_count": 25,
   "metadata": {},
   "outputs": [
    {
     "output_type": "execute_result",
     "data": {
      "text/plain": [
       "<sqlite3.Cursor at 0x219e6129ab0>"
      ]
     },
     "metadata": {},
     "execution_count": 25
    }
   ],
   "source": [
    "# Con esta función leemos los datos y lo pasamos a un DataFrame de Pandas\n",
    "my_query = curs.execute(query)\n",
    "my_query"
   ]
  },
  {
   "cell_type": "code",
   "execution_count": 26,
   "metadata": {},
   "outputs": [
    {
     "output_type": "execute_result",
     "data": {
      "text/plain": [
       "[(1, 'Rock'),\n",
       " (2, 'Jazz'),\n",
       " (3, 'Metal'),\n",
       " (4, 'Alternative & Punk'),\n",
       " (5, 'Rock And Roll'),\n",
       " (6, 'Blues'),\n",
       " (7, 'Latin'),\n",
       " (8, 'Reggae'),\n",
       " (9, 'Pop'),\n",
       " (10, 'Soundtrack'),\n",
       " (11, 'Bossa Nova'),\n",
       " (12, 'Easy Listening'),\n",
       " (13, 'Heavy Metal'),\n",
       " (14, 'R&B/Soul'),\n",
       " (15, 'Electronica/Dance'),\n",
       " (16, 'World'),\n",
       " (17, 'Hip Hop/Rap'),\n",
       " (18, 'Science Fiction'),\n",
       " (19, 'TV Shows'),\n",
       " (20, 'Sci Fi & Fantasy'),\n",
       " (21, 'Drama'),\n",
       " (22, 'Comedy'),\n",
       " (23, 'Alternative'),\n",
       " (24, 'Classical'),\n",
       " (25, 'Opera')]"
      ]
     },
     "metadata": {},
     "execution_count": 26
    }
   ],
   "source": [
    "# Para visualizarlo\n",
    "my_query.fetchall()"
   ]
  },
  {
   "cell_type": "code",
   "execution_count": 27,
   "metadata": {},
   "outputs": [],
   "source": [
    "# Con esta función leemos los datos y lo pasamos a un DataFrame de Pandas\n",
    "def sql_query(query):\n",
    "\n",
    "    curs.execute(query)\n",
    "\n",
    "    datos_query = curs.fetchall()\n",
    "\n",
    "    col_names = [description[0] for description in curs.description]\n",
    "\n",
    "    return pd.DataFrame(datos_query, columns=col_names)"
   ]
  },
  {
   "cell_type": "code",
   "execution_count": 28,
   "metadata": {},
   "outputs": [
    {
     "output_type": "execute_result",
     "data": {
      "text/plain": [
       "    GenreId                Name\n",
       "0         1                Rock\n",
       "1         2                Jazz\n",
       "2         3               Metal\n",
       "3         4  Alternative & Punk\n",
       "4         5       Rock And Roll\n",
       "5         6               Blues\n",
       "6         7               Latin\n",
       "7         8              Reggae\n",
       "8         9                 Pop\n",
       "9        10          Soundtrack\n",
       "10       11          Bossa Nova\n",
       "11       12      Easy Listening\n",
       "12       13         Heavy Metal\n",
       "13       14            R&B/Soul\n",
       "14       15   Electronica/Dance\n",
       "15       16               World\n",
       "16       17         Hip Hop/Rap\n",
       "17       18     Science Fiction\n",
       "18       19            TV Shows\n",
       "19       20    Sci Fi & Fantasy\n",
       "20       21               Drama\n",
       "21       22              Comedy\n",
       "22       23         Alternative\n",
       "23       24           Classical\n",
       "24       25               Opera"
      ],
      "text/html": "<div>\n<style scoped>\n    .dataframe tbody tr th:only-of-type {\n        vertical-align: middle;\n    }\n\n    .dataframe tbody tr th {\n        vertical-align: top;\n    }\n\n    .dataframe thead th {\n        text-align: right;\n    }\n</style>\n<table border=\"1\" class=\"dataframe\">\n  <thead>\n    <tr style=\"text-align: right;\">\n      <th></th>\n      <th>GenreId</th>\n      <th>Name</th>\n    </tr>\n  </thead>\n  <tbody>\n    <tr>\n      <th>0</th>\n      <td>1</td>\n      <td>Rock</td>\n    </tr>\n    <tr>\n      <th>1</th>\n      <td>2</td>\n      <td>Jazz</td>\n    </tr>\n    <tr>\n      <th>2</th>\n      <td>3</td>\n      <td>Metal</td>\n    </tr>\n    <tr>\n      <th>3</th>\n      <td>4</td>\n      <td>Alternative &amp; Punk</td>\n    </tr>\n    <tr>\n      <th>4</th>\n      <td>5</td>\n      <td>Rock And Roll</td>\n    </tr>\n    <tr>\n      <th>5</th>\n      <td>6</td>\n      <td>Blues</td>\n    </tr>\n    <tr>\n      <th>6</th>\n      <td>7</td>\n      <td>Latin</td>\n    </tr>\n    <tr>\n      <th>7</th>\n      <td>8</td>\n      <td>Reggae</td>\n    </tr>\n    <tr>\n      <th>8</th>\n      <td>9</td>\n      <td>Pop</td>\n    </tr>\n    <tr>\n      <th>9</th>\n      <td>10</td>\n      <td>Soundtrack</td>\n    </tr>\n    <tr>\n      <th>10</th>\n      <td>11</td>\n      <td>Bossa Nova</td>\n    </tr>\n    <tr>\n      <th>11</th>\n      <td>12</td>\n      <td>Easy Listening</td>\n    </tr>\n    <tr>\n      <th>12</th>\n      <td>13</td>\n      <td>Heavy Metal</td>\n    </tr>\n    <tr>\n      <th>13</th>\n      <td>14</td>\n      <td>R&amp;B/Soul</td>\n    </tr>\n    <tr>\n      <th>14</th>\n      <td>15</td>\n      <td>Electronica/Dance</td>\n    </tr>\n    <tr>\n      <th>15</th>\n      <td>16</td>\n      <td>World</td>\n    </tr>\n    <tr>\n      <th>16</th>\n      <td>17</td>\n      <td>Hip Hop/Rap</td>\n    </tr>\n    <tr>\n      <th>17</th>\n      <td>18</td>\n      <td>Science Fiction</td>\n    </tr>\n    <tr>\n      <th>18</th>\n      <td>19</td>\n      <td>TV Shows</td>\n    </tr>\n    <tr>\n      <th>19</th>\n      <td>20</td>\n      <td>Sci Fi &amp; Fantasy</td>\n    </tr>\n    <tr>\n      <th>20</th>\n      <td>21</td>\n      <td>Drama</td>\n    </tr>\n    <tr>\n      <th>21</th>\n      <td>22</td>\n      <td>Comedy</td>\n    </tr>\n    <tr>\n      <th>22</th>\n      <td>23</td>\n      <td>Alternative</td>\n    </tr>\n    <tr>\n      <th>23</th>\n      <td>24</td>\n      <td>Classical</td>\n    </tr>\n    <tr>\n      <th>24</th>\n      <td>25</td>\n      <td>Opera</td>\n    </tr>\n  </tbody>\n</table>\n</div>"
     },
     "metadata": {},
     "execution_count": 28
    }
   ],
   "source": [
    "sql_query(query)"
   ]
  },
  {
   "cell_type": "code",
   "execution_count": 29,
   "metadata": {},
   "outputs": [
    {
     "output_type": "execute_result",
     "data": {
      "text/plain": [
       "    GenreId                Name\n",
       "0         1                Rock\n",
       "1         2                Jazz\n",
       "2         3               Metal\n",
       "3         4  Alternative & Punk\n",
       "4         5       Rock And Roll\n",
       "5         6               Blues\n",
       "6         7               Latin\n",
       "7         8              Reggae\n",
       "8         9                 Pop\n",
       "9        10          Soundtrack\n",
       "10       11          Bossa Nova\n",
       "11       12      Easy Listening\n",
       "12       13         Heavy Metal\n",
       "13       14            R&B/Soul\n",
       "14       15   Electronica/Dance\n",
       "15       16               World\n",
       "16       17         Hip Hop/Rap\n",
       "17       18     Science Fiction\n",
       "18       19            TV Shows\n",
       "19       20    Sci Fi & Fantasy\n",
       "20       21               Drama\n",
       "21       22              Comedy\n",
       "22       23         Alternative\n",
       "23       24           Classical\n",
       "24       25               Opera"
      ],
      "text/html": "<div>\n<style scoped>\n    .dataframe tbody tr th:only-of-type {\n        vertical-align: middle;\n    }\n\n    .dataframe tbody tr th {\n        vertical-align: top;\n    }\n\n    .dataframe thead th {\n        text-align: right;\n    }\n</style>\n<table border=\"1\" class=\"dataframe\">\n  <thead>\n    <tr style=\"text-align: right;\">\n      <th></th>\n      <th>GenreId</th>\n      <th>Name</th>\n    </tr>\n  </thead>\n  <tbody>\n    <tr>\n      <th>0</th>\n      <td>1</td>\n      <td>Rock</td>\n    </tr>\n    <tr>\n      <th>1</th>\n      <td>2</td>\n      <td>Jazz</td>\n    </tr>\n    <tr>\n      <th>2</th>\n      <td>3</td>\n      <td>Metal</td>\n    </tr>\n    <tr>\n      <th>3</th>\n      <td>4</td>\n      <td>Alternative &amp; Punk</td>\n    </tr>\n    <tr>\n      <th>4</th>\n      <td>5</td>\n      <td>Rock And Roll</td>\n    </tr>\n    <tr>\n      <th>5</th>\n      <td>6</td>\n      <td>Blues</td>\n    </tr>\n    <tr>\n      <th>6</th>\n      <td>7</td>\n      <td>Latin</td>\n    </tr>\n    <tr>\n      <th>7</th>\n      <td>8</td>\n      <td>Reggae</td>\n    </tr>\n    <tr>\n      <th>8</th>\n      <td>9</td>\n      <td>Pop</td>\n    </tr>\n    <tr>\n      <th>9</th>\n      <td>10</td>\n      <td>Soundtrack</td>\n    </tr>\n    <tr>\n      <th>10</th>\n      <td>11</td>\n      <td>Bossa Nova</td>\n    </tr>\n    <tr>\n      <th>11</th>\n      <td>12</td>\n      <td>Easy Listening</td>\n    </tr>\n    <tr>\n      <th>12</th>\n      <td>13</td>\n      <td>Heavy Metal</td>\n    </tr>\n    <tr>\n      <th>13</th>\n      <td>14</td>\n      <td>R&amp;B/Soul</td>\n    </tr>\n    <tr>\n      <th>14</th>\n      <td>15</td>\n      <td>Electronica/Dance</td>\n    </tr>\n    <tr>\n      <th>15</th>\n      <td>16</td>\n      <td>World</td>\n    </tr>\n    <tr>\n      <th>16</th>\n      <td>17</td>\n      <td>Hip Hop/Rap</td>\n    </tr>\n    <tr>\n      <th>17</th>\n      <td>18</td>\n      <td>Science Fiction</td>\n    </tr>\n    <tr>\n      <th>18</th>\n      <td>19</td>\n      <td>TV Shows</td>\n    </tr>\n    <tr>\n      <th>19</th>\n      <td>20</td>\n      <td>Sci Fi &amp; Fantasy</td>\n    </tr>\n    <tr>\n      <th>20</th>\n      <td>21</td>\n      <td>Drama</td>\n    </tr>\n    <tr>\n      <th>21</th>\n      <td>22</td>\n      <td>Comedy</td>\n    </tr>\n    <tr>\n      <th>22</th>\n      <td>23</td>\n      <td>Alternative</td>\n    </tr>\n    <tr>\n      <th>23</th>\n      <td>24</td>\n      <td>Classical</td>\n    </tr>\n    <tr>\n      <th>24</th>\n      <td>25</td>\n      <td>Opera</td>\n    </tr>\n  </tbody>\n</table>\n</div>"
     },
     "metadata": {},
     "execution_count": 29
    }
   ],
   "source": [
    "# Tambien podemos obtener el mismo resultado directamente con pandas\n",
    "# query = \"\"\"\n",
    "# SELECT *\n",
    "# FROM genres\n",
    "# \"\"\"\n",
    "\n",
    "\n",
    "\n",
    "pd.read_sql_query(query, connection)  # Esta función directamente te lo ejecuta y te lo muestra\n",
    "\n"
   ]
  },
  {
   "source": [
    "## Ya podemos comenzar con la práctica de chinook:\n",
    "Antes de empezar a atacar una base de datos, tendremos que saber qué hay dentro, y para ello lo mejor es ver cómo es su **modelo de datos**\n",
    "\n",
    "![imagen](./img/chinook_data_model.png)"
   ],
   "cell_type": "markdown",
   "metadata": {}
  },
  {
   "source": [
    "### 1.\tFacturas de Clientes de Brasil, Nombre del cliente, Id de factura, fecha de la factura y el país de la factura"
   ],
   "cell_type": "markdown",
   "metadata": {}
  },
  {
   "cell_type": "code",
   "execution_count": 30,
   "metadata": {},
   "outputs": [],
   "source": [
    "path = \"chinook.db\"\n",
    "connection = sqlite3.connect(path)"
   ]
  },
  {
   "cell_type": "code",
   "execution_count": 31,
   "metadata": {},
   "outputs": [
    {
     "output_type": "execute_result",
     "data": {
      "text/plain": [
       "     CustomerId FirstName    LastName  \\\n",
       "0             1      Luís   Gonçalves   \n",
       "1             1      Luís   Gonçalves   \n",
       "2             1      Luís   Gonçalves   \n",
       "3             1      Luís   Gonçalves   \n",
       "4             1      Luís   Gonçalves   \n",
       "..          ...       ...         ...   \n",
       "407          59      Puja  Srivastava   \n",
       "408          59      Puja  Srivastava   \n",
       "409          59      Puja  Srivastava   \n",
       "410          59      Puja  Srivastava   \n",
       "411          59      Puja  Srivastava   \n",
       "\n",
       "                                              Company  \\\n",
       "0    Embraer - Empresa Brasileira de Aeronáutica S.A.   \n",
       "1    Embraer - Empresa Brasileira de Aeronáutica S.A.   \n",
       "2    Embraer - Empresa Brasileira de Aeronáutica S.A.   \n",
       "3    Embraer - Empresa Brasileira de Aeronáutica S.A.   \n",
       "4    Embraer - Empresa Brasileira de Aeronáutica S.A.   \n",
       "..                                                ...   \n",
       "407                                              None   \n",
       "408                                              None   \n",
       "409                                              None   \n",
       "410                                              None   \n",
       "411                                              None   \n",
       "\n",
       "                             Address                 City State Country  \\\n",
       "0    Av. Brigadeiro Faria Lima, 2170  São José dos Campos    SP  Brazil   \n",
       "1    Av. Brigadeiro Faria Lima, 2170  São José dos Campos    SP  Brazil   \n",
       "2    Av. Brigadeiro Faria Lima, 2170  São José dos Campos    SP  Brazil   \n",
       "3    Av. Brigadeiro Faria Lima, 2170  São José dos Campos    SP  Brazil   \n",
       "4    Av. Brigadeiro Faria Lima, 2170  São José dos Campos    SP  Brazil   \n",
       "..                               ...                  ...   ...     ...   \n",
       "407                3,Raj Bhavan Road            Bangalore  None   India   \n",
       "408                3,Raj Bhavan Road            Bangalore  None   India   \n",
       "409                3,Raj Bhavan Road            Bangalore  None   India   \n",
       "410                3,Raj Bhavan Road            Bangalore  None   India   \n",
       "411                3,Raj Bhavan Road            Bangalore  None   India   \n",
       "\n",
       "    PostalCode               Phone  ... SupportRepId InvoiceId  CustomerId  \\\n",
       "0    12227-000  +55 (12) 3923-5555  ...            3        98           1   \n",
       "1    12227-000  +55 (12) 3923-5555  ...            3       121           1   \n",
       "2    12227-000  +55 (12) 3923-5555  ...            3       143           1   \n",
       "3    12227-000  +55 (12) 3923-5555  ...            3       195           1   \n",
       "4    12227-000  +55 (12) 3923-5555  ...            3       316           1   \n",
       "..         ...                 ...  ...          ...       ...         ...   \n",
       "407     560001    +91 080 22289999  ...            3        45          59   \n",
       "408     560001    +91 080 22289999  ...            3        97          59   \n",
       "409     560001    +91 080 22289999  ...            3       218          59   \n",
       "410     560001    +91 080 22289999  ...            3       229          59   \n",
       "411     560001    +91 080 22289999  ...            3       284          59   \n",
       "\n",
       "             InvoiceDate                   BillingAddress  \\\n",
       "0    2010-03-11 00:00:00  Av. Brigadeiro Faria Lima, 2170   \n",
       "1    2010-06-13 00:00:00  Av. Brigadeiro Faria Lima, 2170   \n",
       "2    2010-09-15 00:00:00  Av. Brigadeiro Faria Lima, 2170   \n",
       "3    2011-05-06 00:00:00  Av. Brigadeiro Faria Lima, 2170   \n",
       "4    2012-10-27 00:00:00  Av. Brigadeiro Faria Lima, 2170   \n",
       "..                   ...                              ...   \n",
       "407  2009-07-08 00:00:00                3,Raj Bhavan Road   \n",
       "408  2010-02-26 00:00:00                3,Raj Bhavan Road   \n",
       "409  2011-08-20 00:00:00                3,Raj Bhavan Road   \n",
       "410  2011-09-30 00:00:00                3,Raj Bhavan Road   \n",
       "411  2012-05-30 00:00:00                3,Raj Bhavan Road   \n",
       "\n",
       "             BillingCity BillingState BillingCountry BillingPostalCode  Total  \n",
       "0    São José dos Campos           SP         Brazil         12227-000   3.98  \n",
       "1    São José dos Campos           SP         Brazil         12227-000   3.96  \n",
       "2    São José dos Campos           SP         Brazil         12227-000   5.94  \n",
       "3    São José dos Campos           SP         Brazil         12227-000   0.99  \n",
       "4    São José dos Campos           SP         Brazil         12227-000   1.98  \n",
       "..                   ...          ...            ...               ...    ...  \n",
       "407            Bangalore         None          India            560001   5.94  \n",
       "408            Bangalore         None          India            560001   1.99  \n",
       "409            Bangalore         None          India            560001   1.98  \n",
       "410            Bangalore         None          India            560001  13.86  \n",
       "411            Bangalore         None          India            560001   8.91  \n",
       "\n",
       "[412 rows x 22 columns]"
      ],
      "text/html": "<div>\n<style scoped>\n    .dataframe tbody tr th:only-of-type {\n        vertical-align: middle;\n    }\n\n    .dataframe tbody tr th {\n        vertical-align: top;\n    }\n\n    .dataframe thead th {\n        text-align: right;\n    }\n</style>\n<table border=\"1\" class=\"dataframe\">\n  <thead>\n    <tr style=\"text-align: right;\">\n      <th></th>\n      <th>CustomerId</th>\n      <th>FirstName</th>\n      <th>LastName</th>\n      <th>Company</th>\n      <th>Address</th>\n      <th>City</th>\n      <th>State</th>\n      <th>Country</th>\n      <th>PostalCode</th>\n      <th>Phone</th>\n      <th>...</th>\n      <th>SupportRepId</th>\n      <th>InvoiceId</th>\n      <th>CustomerId</th>\n      <th>InvoiceDate</th>\n      <th>BillingAddress</th>\n      <th>BillingCity</th>\n      <th>BillingState</th>\n      <th>BillingCountry</th>\n      <th>BillingPostalCode</th>\n      <th>Total</th>\n    </tr>\n  </thead>\n  <tbody>\n    <tr>\n      <th>0</th>\n      <td>1</td>\n      <td>Luís</td>\n      <td>Gonçalves</td>\n      <td>Embraer - Empresa Brasileira de Aeronáutica S.A.</td>\n      <td>Av. Brigadeiro Faria Lima, 2170</td>\n      <td>São José dos Campos</td>\n      <td>SP</td>\n      <td>Brazil</td>\n      <td>12227-000</td>\n      <td>+55 (12) 3923-5555</td>\n      <td>...</td>\n      <td>3</td>\n      <td>98</td>\n      <td>1</td>\n      <td>2010-03-11 00:00:00</td>\n      <td>Av. Brigadeiro Faria Lima, 2170</td>\n      <td>São José dos Campos</td>\n      <td>SP</td>\n      <td>Brazil</td>\n      <td>12227-000</td>\n      <td>3.98</td>\n    </tr>\n    <tr>\n      <th>1</th>\n      <td>1</td>\n      <td>Luís</td>\n      <td>Gonçalves</td>\n      <td>Embraer - Empresa Brasileira de Aeronáutica S.A.</td>\n      <td>Av. Brigadeiro Faria Lima, 2170</td>\n      <td>São José dos Campos</td>\n      <td>SP</td>\n      <td>Brazil</td>\n      <td>12227-000</td>\n      <td>+55 (12) 3923-5555</td>\n      <td>...</td>\n      <td>3</td>\n      <td>121</td>\n      <td>1</td>\n      <td>2010-06-13 00:00:00</td>\n      <td>Av. Brigadeiro Faria Lima, 2170</td>\n      <td>São José dos Campos</td>\n      <td>SP</td>\n      <td>Brazil</td>\n      <td>12227-000</td>\n      <td>3.96</td>\n    </tr>\n    <tr>\n      <th>2</th>\n      <td>1</td>\n      <td>Luís</td>\n      <td>Gonçalves</td>\n      <td>Embraer - Empresa Brasileira de Aeronáutica S.A.</td>\n      <td>Av. Brigadeiro Faria Lima, 2170</td>\n      <td>São José dos Campos</td>\n      <td>SP</td>\n      <td>Brazil</td>\n      <td>12227-000</td>\n      <td>+55 (12) 3923-5555</td>\n      <td>...</td>\n      <td>3</td>\n      <td>143</td>\n      <td>1</td>\n      <td>2010-09-15 00:00:00</td>\n      <td>Av. Brigadeiro Faria Lima, 2170</td>\n      <td>São José dos Campos</td>\n      <td>SP</td>\n      <td>Brazil</td>\n      <td>12227-000</td>\n      <td>5.94</td>\n    </tr>\n    <tr>\n      <th>3</th>\n      <td>1</td>\n      <td>Luís</td>\n      <td>Gonçalves</td>\n      <td>Embraer - Empresa Brasileira de Aeronáutica S.A.</td>\n      <td>Av. Brigadeiro Faria Lima, 2170</td>\n      <td>São José dos Campos</td>\n      <td>SP</td>\n      <td>Brazil</td>\n      <td>12227-000</td>\n      <td>+55 (12) 3923-5555</td>\n      <td>...</td>\n      <td>3</td>\n      <td>195</td>\n      <td>1</td>\n      <td>2011-05-06 00:00:00</td>\n      <td>Av. Brigadeiro Faria Lima, 2170</td>\n      <td>São José dos Campos</td>\n      <td>SP</td>\n      <td>Brazil</td>\n      <td>12227-000</td>\n      <td>0.99</td>\n    </tr>\n    <tr>\n      <th>4</th>\n      <td>1</td>\n      <td>Luís</td>\n      <td>Gonçalves</td>\n      <td>Embraer - Empresa Brasileira de Aeronáutica S.A.</td>\n      <td>Av. Brigadeiro Faria Lima, 2170</td>\n      <td>São José dos Campos</td>\n      <td>SP</td>\n      <td>Brazil</td>\n      <td>12227-000</td>\n      <td>+55 (12) 3923-5555</td>\n      <td>...</td>\n      <td>3</td>\n      <td>316</td>\n      <td>1</td>\n      <td>2012-10-27 00:00:00</td>\n      <td>Av. Brigadeiro Faria Lima, 2170</td>\n      <td>São José dos Campos</td>\n      <td>SP</td>\n      <td>Brazil</td>\n      <td>12227-000</td>\n      <td>1.98</td>\n    </tr>\n    <tr>\n      <th>...</th>\n      <td>...</td>\n      <td>...</td>\n      <td>...</td>\n      <td>...</td>\n      <td>...</td>\n      <td>...</td>\n      <td>...</td>\n      <td>...</td>\n      <td>...</td>\n      <td>...</td>\n      <td>...</td>\n      <td>...</td>\n      <td>...</td>\n      <td>...</td>\n      <td>...</td>\n      <td>...</td>\n      <td>...</td>\n      <td>...</td>\n      <td>...</td>\n      <td>...</td>\n      <td>...</td>\n    </tr>\n    <tr>\n      <th>407</th>\n      <td>59</td>\n      <td>Puja</td>\n      <td>Srivastava</td>\n      <td>None</td>\n      <td>3,Raj Bhavan Road</td>\n      <td>Bangalore</td>\n      <td>None</td>\n      <td>India</td>\n      <td>560001</td>\n      <td>+91 080 22289999</td>\n      <td>...</td>\n      <td>3</td>\n      <td>45</td>\n      <td>59</td>\n      <td>2009-07-08 00:00:00</td>\n      <td>3,Raj Bhavan Road</td>\n      <td>Bangalore</td>\n      <td>None</td>\n      <td>India</td>\n      <td>560001</td>\n      <td>5.94</td>\n    </tr>\n    <tr>\n      <th>408</th>\n      <td>59</td>\n      <td>Puja</td>\n      <td>Srivastava</td>\n      <td>None</td>\n      <td>3,Raj Bhavan Road</td>\n      <td>Bangalore</td>\n      <td>None</td>\n      <td>India</td>\n      <td>560001</td>\n      <td>+91 080 22289999</td>\n      <td>...</td>\n      <td>3</td>\n      <td>97</td>\n      <td>59</td>\n      <td>2010-02-26 00:00:00</td>\n      <td>3,Raj Bhavan Road</td>\n      <td>Bangalore</td>\n      <td>None</td>\n      <td>India</td>\n      <td>560001</td>\n      <td>1.99</td>\n    </tr>\n    <tr>\n      <th>409</th>\n      <td>59</td>\n      <td>Puja</td>\n      <td>Srivastava</td>\n      <td>None</td>\n      <td>3,Raj Bhavan Road</td>\n      <td>Bangalore</td>\n      <td>None</td>\n      <td>India</td>\n      <td>560001</td>\n      <td>+91 080 22289999</td>\n      <td>...</td>\n      <td>3</td>\n      <td>218</td>\n      <td>59</td>\n      <td>2011-08-20 00:00:00</td>\n      <td>3,Raj Bhavan Road</td>\n      <td>Bangalore</td>\n      <td>None</td>\n      <td>India</td>\n      <td>560001</td>\n      <td>1.98</td>\n    </tr>\n    <tr>\n      <th>410</th>\n      <td>59</td>\n      <td>Puja</td>\n      <td>Srivastava</td>\n      <td>None</td>\n      <td>3,Raj Bhavan Road</td>\n      <td>Bangalore</td>\n      <td>None</td>\n      <td>India</td>\n      <td>560001</td>\n      <td>+91 080 22289999</td>\n      <td>...</td>\n      <td>3</td>\n      <td>229</td>\n      <td>59</td>\n      <td>2011-09-30 00:00:00</td>\n      <td>3,Raj Bhavan Road</td>\n      <td>Bangalore</td>\n      <td>None</td>\n      <td>India</td>\n      <td>560001</td>\n      <td>13.86</td>\n    </tr>\n    <tr>\n      <th>411</th>\n      <td>59</td>\n      <td>Puja</td>\n      <td>Srivastava</td>\n      <td>None</td>\n      <td>3,Raj Bhavan Road</td>\n      <td>Bangalore</td>\n      <td>None</td>\n      <td>India</td>\n      <td>560001</td>\n      <td>+91 080 22289999</td>\n      <td>...</td>\n      <td>3</td>\n      <td>284</td>\n      <td>59</td>\n      <td>2012-05-30 00:00:00</td>\n      <td>3,Raj Bhavan Road</td>\n      <td>Bangalore</td>\n      <td>None</td>\n      <td>India</td>\n      <td>560001</td>\n      <td>8.91</td>\n    </tr>\n  </tbody>\n</table>\n<p>412 rows × 22 columns</p>\n</div>"
     },
     "metadata": {},
     "execution_count": 31
    }
   ],
   "source": [
    "query = \"\"\"\n",
    "SELECT * \n",
    "FROM customers, invoices\n",
    "WHERE customers.CustomerId = invoices.CustomerId\n",
    "\"\"\"\n",
    "# Donde no haya equivalencia entre CustomerId de customers y invoices, no nos va a dar el output\n",
    "pd.read_sql_query(query, connection)"
   ]
  },
  {
   "cell_type": "code",
   "execution_count": 32,
   "metadata": {},
   "outputs": [
    {
     "output_type": "execute_result",
     "data": {
      "text/plain": [
       "           FullName  InvoiceId          InvoiceDate BillingCountry\n",
       "0    Luís Gonçalves         98  2010-03-11 00:00:00         Brazil\n",
       "1    Luís Gonçalves        121  2010-06-13 00:00:00         Brazil\n",
       "2    Luís Gonçalves        143  2010-09-15 00:00:00         Brazil\n",
       "3    Luís Gonçalves        195  2011-05-06 00:00:00         Brazil\n",
       "4    Luís Gonçalves        316  2012-10-27 00:00:00         Brazil\n",
       "5    Luís Gonçalves        327  2012-12-07 00:00:00         Brazil\n",
       "6    Luís Gonçalves        382  2013-08-07 00:00:00         Brazil\n",
       "7   Eduardo Martins         25  2009-04-09 00:00:00         Brazil\n",
       "8   Eduardo Martins        154  2010-11-14 00:00:00         Brazil\n",
       "9   Eduardo Martins        177  2011-02-16 00:00:00         Brazil\n",
       "10  Eduardo Martins        199  2011-05-21 00:00:00         Brazil\n",
       "11  Eduardo Martins        251  2012-01-09 00:00:00         Brazil\n",
       "12  Eduardo Martins        372  2013-07-02 00:00:00         Brazil\n",
       "13  Eduardo Martins        383  2013-08-12 00:00:00         Brazil\n",
       "14  Alexandre Rocha         57  2009-09-06 00:00:00         Brazil\n",
       "15  Alexandre Rocha         68  2009-10-17 00:00:00         Brazil\n",
       "16  Alexandre Rocha        123  2010-06-17 00:00:00         Brazil\n",
       "17  Alexandre Rocha        252  2012-01-22 00:00:00         Brazil\n",
       "18  Alexandre Rocha        275  2012-04-25 00:00:00         Brazil\n",
       "19  Alexandre Rocha        297  2012-07-28 00:00:00         Brazil\n",
       "20  Alexandre Rocha        349  2013-03-18 00:00:00         Brazil\n",
       "21  Roberto Almeida         34  2009-05-23 00:00:00         Brazil\n",
       "22  Roberto Almeida        155  2010-11-14 00:00:00         Brazil\n",
       "23  Roberto Almeida        166  2010-12-25 00:00:00         Brazil\n",
       "24  Roberto Almeida        221  2011-08-25 00:00:00         Brazil\n",
       "25  Roberto Almeida        350  2013-03-31 00:00:00         Brazil\n",
       "26  Roberto Almeida        373  2013-07-03 00:00:00         Brazil\n",
       "27  Roberto Almeida        395  2013-10-05 00:00:00         Brazil\n",
       "28   Fernanda Ramos         35  2009-06-05 00:00:00         Brazil\n",
       "29   Fernanda Ramos         58  2009-09-07 00:00:00         Brazil\n",
       "30   Fernanda Ramos         80  2009-12-10 00:00:00         Brazil\n",
       "31   Fernanda Ramos        132  2010-07-31 00:00:00         Brazil\n",
       "32   Fernanda Ramos        253  2012-01-22 00:00:00         Brazil\n",
       "33   Fernanda Ramos        264  2012-03-03 00:00:00         Brazil\n",
       "34   Fernanda Ramos        319  2012-11-01 00:00:00         Brazil"
      ],
      "text/html": "<div>\n<style scoped>\n    .dataframe tbody tr th:only-of-type {\n        vertical-align: middle;\n    }\n\n    .dataframe tbody tr th {\n        vertical-align: top;\n    }\n\n    .dataframe thead th {\n        text-align: right;\n    }\n</style>\n<table border=\"1\" class=\"dataframe\">\n  <thead>\n    <tr style=\"text-align: right;\">\n      <th></th>\n      <th>FullName</th>\n      <th>InvoiceId</th>\n      <th>InvoiceDate</th>\n      <th>BillingCountry</th>\n    </tr>\n  </thead>\n  <tbody>\n    <tr>\n      <th>0</th>\n      <td>Luís Gonçalves</td>\n      <td>98</td>\n      <td>2010-03-11 00:00:00</td>\n      <td>Brazil</td>\n    </tr>\n    <tr>\n      <th>1</th>\n      <td>Luís Gonçalves</td>\n      <td>121</td>\n      <td>2010-06-13 00:00:00</td>\n      <td>Brazil</td>\n    </tr>\n    <tr>\n      <th>2</th>\n      <td>Luís Gonçalves</td>\n      <td>143</td>\n      <td>2010-09-15 00:00:00</td>\n      <td>Brazil</td>\n    </tr>\n    <tr>\n      <th>3</th>\n      <td>Luís Gonçalves</td>\n      <td>195</td>\n      <td>2011-05-06 00:00:00</td>\n      <td>Brazil</td>\n    </tr>\n    <tr>\n      <th>4</th>\n      <td>Luís Gonçalves</td>\n      <td>316</td>\n      <td>2012-10-27 00:00:00</td>\n      <td>Brazil</td>\n    </tr>\n    <tr>\n      <th>5</th>\n      <td>Luís Gonçalves</td>\n      <td>327</td>\n      <td>2012-12-07 00:00:00</td>\n      <td>Brazil</td>\n    </tr>\n    <tr>\n      <th>6</th>\n      <td>Luís Gonçalves</td>\n      <td>382</td>\n      <td>2013-08-07 00:00:00</td>\n      <td>Brazil</td>\n    </tr>\n    <tr>\n      <th>7</th>\n      <td>Eduardo Martins</td>\n      <td>25</td>\n      <td>2009-04-09 00:00:00</td>\n      <td>Brazil</td>\n    </tr>\n    <tr>\n      <th>8</th>\n      <td>Eduardo Martins</td>\n      <td>154</td>\n      <td>2010-11-14 00:00:00</td>\n      <td>Brazil</td>\n    </tr>\n    <tr>\n      <th>9</th>\n      <td>Eduardo Martins</td>\n      <td>177</td>\n      <td>2011-02-16 00:00:00</td>\n      <td>Brazil</td>\n    </tr>\n    <tr>\n      <th>10</th>\n      <td>Eduardo Martins</td>\n      <td>199</td>\n      <td>2011-05-21 00:00:00</td>\n      <td>Brazil</td>\n    </tr>\n    <tr>\n      <th>11</th>\n      <td>Eduardo Martins</td>\n      <td>251</td>\n      <td>2012-01-09 00:00:00</td>\n      <td>Brazil</td>\n    </tr>\n    <tr>\n      <th>12</th>\n      <td>Eduardo Martins</td>\n      <td>372</td>\n      <td>2013-07-02 00:00:00</td>\n      <td>Brazil</td>\n    </tr>\n    <tr>\n      <th>13</th>\n      <td>Eduardo Martins</td>\n      <td>383</td>\n      <td>2013-08-12 00:00:00</td>\n      <td>Brazil</td>\n    </tr>\n    <tr>\n      <th>14</th>\n      <td>Alexandre Rocha</td>\n      <td>57</td>\n      <td>2009-09-06 00:00:00</td>\n      <td>Brazil</td>\n    </tr>\n    <tr>\n      <th>15</th>\n      <td>Alexandre Rocha</td>\n      <td>68</td>\n      <td>2009-10-17 00:00:00</td>\n      <td>Brazil</td>\n    </tr>\n    <tr>\n      <th>16</th>\n      <td>Alexandre Rocha</td>\n      <td>123</td>\n      <td>2010-06-17 00:00:00</td>\n      <td>Brazil</td>\n    </tr>\n    <tr>\n      <th>17</th>\n      <td>Alexandre Rocha</td>\n      <td>252</td>\n      <td>2012-01-22 00:00:00</td>\n      <td>Brazil</td>\n    </tr>\n    <tr>\n      <th>18</th>\n      <td>Alexandre Rocha</td>\n      <td>275</td>\n      <td>2012-04-25 00:00:00</td>\n      <td>Brazil</td>\n    </tr>\n    <tr>\n      <th>19</th>\n      <td>Alexandre Rocha</td>\n      <td>297</td>\n      <td>2012-07-28 00:00:00</td>\n      <td>Brazil</td>\n    </tr>\n    <tr>\n      <th>20</th>\n      <td>Alexandre Rocha</td>\n      <td>349</td>\n      <td>2013-03-18 00:00:00</td>\n      <td>Brazil</td>\n    </tr>\n    <tr>\n      <th>21</th>\n      <td>Roberto Almeida</td>\n      <td>34</td>\n      <td>2009-05-23 00:00:00</td>\n      <td>Brazil</td>\n    </tr>\n    <tr>\n      <th>22</th>\n      <td>Roberto Almeida</td>\n      <td>155</td>\n      <td>2010-11-14 00:00:00</td>\n      <td>Brazil</td>\n    </tr>\n    <tr>\n      <th>23</th>\n      <td>Roberto Almeida</td>\n      <td>166</td>\n      <td>2010-12-25 00:00:00</td>\n      <td>Brazil</td>\n    </tr>\n    <tr>\n      <th>24</th>\n      <td>Roberto Almeida</td>\n      <td>221</td>\n      <td>2011-08-25 00:00:00</td>\n      <td>Brazil</td>\n    </tr>\n    <tr>\n      <th>25</th>\n      <td>Roberto Almeida</td>\n      <td>350</td>\n      <td>2013-03-31 00:00:00</td>\n      <td>Brazil</td>\n    </tr>\n    <tr>\n      <th>26</th>\n      <td>Roberto Almeida</td>\n      <td>373</td>\n      <td>2013-07-03 00:00:00</td>\n      <td>Brazil</td>\n    </tr>\n    <tr>\n      <th>27</th>\n      <td>Roberto Almeida</td>\n      <td>395</td>\n      <td>2013-10-05 00:00:00</td>\n      <td>Brazil</td>\n    </tr>\n    <tr>\n      <th>28</th>\n      <td>Fernanda Ramos</td>\n      <td>35</td>\n      <td>2009-06-05 00:00:00</td>\n      <td>Brazil</td>\n    </tr>\n    <tr>\n      <th>29</th>\n      <td>Fernanda Ramos</td>\n      <td>58</td>\n      <td>2009-09-07 00:00:00</td>\n      <td>Brazil</td>\n    </tr>\n    <tr>\n      <th>30</th>\n      <td>Fernanda Ramos</td>\n      <td>80</td>\n      <td>2009-12-10 00:00:00</td>\n      <td>Brazil</td>\n    </tr>\n    <tr>\n      <th>31</th>\n      <td>Fernanda Ramos</td>\n      <td>132</td>\n      <td>2010-07-31 00:00:00</td>\n      <td>Brazil</td>\n    </tr>\n    <tr>\n      <th>32</th>\n      <td>Fernanda Ramos</td>\n      <td>253</td>\n      <td>2012-01-22 00:00:00</td>\n      <td>Brazil</td>\n    </tr>\n    <tr>\n      <th>33</th>\n      <td>Fernanda Ramos</td>\n      <td>264</td>\n      <td>2012-03-03 00:00:00</td>\n      <td>Brazil</td>\n    </tr>\n    <tr>\n      <th>34</th>\n      <td>Fernanda Ramos</td>\n      <td>319</td>\n      <td>2012-11-01 00:00:00</td>\n      <td>Brazil</td>\n    </tr>\n  </tbody>\n</table>\n</div>"
     },
     "metadata": {},
     "execution_count": 32
    }
   ],
   "source": [
    "query = \"\"\"\n",
    "SELECT c.Firstname||\" \"||c.Lastname as FullName, i.invoiceid, i.invoiceDate, i.BillingCountry\n",
    "FROM customers c\n",
    "JOIN invoices i ON c.CustomerId = i.CustomerId\n",
    "WHERE c.Country == \"Brazil\"\n",
    "\"\"\"\n",
    "pd.read_sql_query(query, connection)"
   ]
  },
  {
   "source": [
    "### 2.\tFacturas de Clientes de Brasil"
   ],
   "cell_type": "markdown",
   "metadata": {}
  },
  {
   "cell_type": "code",
   "execution_count": 33,
   "metadata": {},
   "outputs": [
    {
     "output_type": "execute_result",
     "data": {
      "text/plain": [
       "    InvoiceId  CustomerId          InvoiceDate  \\\n",
       "0          98           1  2010-03-11 00:00:00   \n",
       "1         121           1  2010-06-13 00:00:00   \n",
       "2         143           1  2010-09-15 00:00:00   \n",
       "3         195           1  2011-05-06 00:00:00   \n",
       "4         316           1  2012-10-27 00:00:00   \n",
       "5         327           1  2012-12-07 00:00:00   \n",
       "6         382           1  2013-08-07 00:00:00   \n",
       "7          25          10  2009-04-09 00:00:00   \n",
       "8         154          10  2010-11-14 00:00:00   \n",
       "9         177          10  2011-02-16 00:00:00   \n",
       "10        199          10  2011-05-21 00:00:00   \n",
       "11        251          10  2012-01-09 00:00:00   \n",
       "12        372          10  2013-07-02 00:00:00   \n",
       "13        383          10  2013-08-12 00:00:00   \n",
       "14         57          11  2009-09-06 00:00:00   \n",
       "15         68          11  2009-10-17 00:00:00   \n",
       "16        123          11  2010-06-17 00:00:00   \n",
       "17        252          11  2012-01-22 00:00:00   \n",
       "18        275          11  2012-04-25 00:00:00   \n",
       "19        297          11  2012-07-28 00:00:00   \n",
       "20        349          11  2013-03-18 00:00:00   \n",
       "21         34          12  2009-05-23 00:00:00   \n",
       "22        155          12  2010-11-14 00:00:00   \n",
       "23        166          12  2010-12-25 00:00:00   \n",
       "24        221          12  2011-08-25 00:00:00   \n",
       "25        350          12  2013-03-31 00:00:00   \n",
       "26        373          12  2013-07-03 00:00:00   \n",
       "27        395          12  2013-10-05 00:00:00   \n",
       "28         35          13  2009-06-05 00:00:00   \n",
       "29         58          13  2009-09-07 00:00:00   \n",
       "30         80          13  2009-12-10 00:00:00   \n",
       "31        132          13  2010-07-31 00:00:00   \n",
       "32        253          13  2012-01-22 00:00:00   \n",
       "33        264          13  2012-03-03 00:00:00   \n",
       "34        319          13  2012-11-01 00:00:00   \n",
       "\n",
       "                     BillingAddress          BillingCity BillingState  \\\n",
       "0   Av. Brigadeiro Faria Lima, 2170  São José dos Campos           SP   \n",
       "1   Av. Brigadeiro Faria Lima, 2170  São José dos Campos           SP   \n",
       "2   Av. Brigadeiro Faria Lima, 2170  São José dos Campos           SP   \n",
       "3   Av. Brigadeiro Faria Lima, 2170  São José dos Campos           SP   \n",
       "4   Av. Brigadeiro Faria Lima, 2170  São José dos Campos           SP   \n",
       "5   Av. Brigadeiro Faria Lima, 2170  São José dos Campos           SP   \n",
       "6   Av. Brigadeiro Faria Lima, 2170  São José dos Campos           SP   \n",
       "7         Rua Dr. Falcão Filho, 155            São Paulo           SP   \n",
       "8         Rua Dr. Falcão Filho, 155            São Paulo           SP   \n",
       "9         Rua Dr. Falcão Filho, 155            São Paulo           SP   \n",
       "10        Rua Dr. Falcão Filho, 155            São Paulo           SP   \n",
       "11        Rua Dr. Falcão Filho, 155            São Paulo           SP   \n",
       "12        Rua Dr. Falcão Filho, 155            São Paulo           SP   \n",
       "13        Rua Dr. Falcão Filho, 155            São Paulo           SP   \n",
       "14               Av. Paulista, 2022            São Paulo           SP   \n",
       "15               Av. Paulista, 2022            São Paulo           SP   \n",
       "16               Av. Paulista, 2022            São Paulo           SP   \n",
       "17               Av. Paulista, 2022            São Paulo           SP   \n",
       "18               Av. Paulista, 2022            São Paulo           SP   \n",
       "19               Av. Paulista, 2022            São Paulo           SP   \n",
       "20               Av. Paulista, 2022            São Paulo           SP   \n",
       "21                 Praça Pio X, 119       Rio de Janeiro           RJ   \n",
       "22                 Praça Pio X, 119       Rio de Janeiro           RJ   \n",
       "23                 Praça Pio X, 119       Rio de Janeiro           RJ   \n",
       "24                 Praça Pio X, 119       Rio de Janeiro           RJ   \n",
       "25                 Praça Pio X, 119       Rio de Janeiro           RJ   \n",
       "26                 Praça Pio X, 119       Rio de Janeiro           RJ   \n",
       "27                 Praça Pio X, 119       Rio de Janeiro           RJ   \n",
       "28                     Qe 7 Bloco G             Brasília           DF   \n",
       "29                     Qe 7 Bloco G             Brasília           DF   \n",
       "30                     Qe 7 Bloco G             Brasília           DF   \n",
       "31                     Qe 7 Bloco G             Brasília           DF   \n",
       "32                     Qe 7 Bloco G             Brasília           DF   \n",
       "33                     Qe 7 Bloco G             Brasília           DF   \n",
       "34                     Qe 7 Bloco G             Brasília           DF   \n",
       "\n",
       "   BillingCountry BillingPostalCode  Total  \n",
       "0          Brazil         12227-000   3.98  \n",
       "1          Brazil         12227-000   3.96  \n",
       "2          Brazil         12227-000   5.94  \n",
       "3          Brazil         12227-000   0.99  \n",
       "4          Brazil         12227-000   1.98  \n",
       "5          Brazil         12227-000  13.86  \n",
       "6          Brazil         12227-000   8.91  \n",
       "7          Brazil         01007-010   8.91  \n",
       "8          Brazil         01007-010   1.98  \n",
       "9          Brazil         01007-010   3.96  \n",
       "10         Brazil         01007-010   5.94  \n",
       "11         Brazil         01007-010   0.99  \n",
       "12         Brazil         01007-010   1.98  \n",
       "13         Brazil         01007-010  13.86  \n",
       "14         Brazil         01310-200   1.98  \n",
       "15         Brazil         01310-200  13.86  \n",
       "16         Brazil         01310-200   8.91  \n",
       "17         Brazil         01310-200   1.98  \n",
       "18         Brazil         01310-200   3.96  \n",
       "19         Brazil         01310-200   5.94  \n",
       "20         Brazil         01310-200   0.99  \n",
       "21         Brazil         20040-020   0.99  \n",
       "22         Brazil         20040-020   1.98  \n",
       "23         Brazil         20040-020  13.86  \n",
       "24         Brazil         20040-020   8.91  \n",
       "25         Brazil         20040-020   1.98  \n",
       "26         Brazil         20040-020   3.96  \n",
       "27         Brazil         20040-020   5.94  \n",
       "28         Brazil         71020-677   1.98  \n",
       "29         Brazil         71020-677   3.96  \n",
       "30         Brazil         71020-677   5.94  \n",
       "31         Brazil         71020-677   0.99  \n",
       "32         Brazil         71020-677   1.98  \n",
       "33         Brazil         71020-677  13.86  \n",
       "34         Brazil         71020-677   8.91  "
      ],
      "text/html": "<div>\n<style scoped>\n    .dataframe tbody tr th:only-of-type {\n        vertical-align: middle;\n    }\n\n    .dataframe tbody tr th {\n        vertical-align: top;\n    }\n\n    .dataframe thead th {\n        text-align: right;\n    }\n</style>\n<table border=\"1\" class=\"dataframe\">\n  <thead>\n    <tr style=\"text-align: right;\">\n      <th></th>\n      <th>InvoiceId</th>\n      <th>CustomerId</th>\n      <th>InvoiceDate</th>\n      <th>BillingAddress</th>\n      <th>BillingCity</th>\n      <th>BillingState</th>\n      <th>BillingCountry</th>\n      <th>BillingPostalCode</th>\n      <th>Total</th>\n    </tr>\n  </thead>\n  <tbody>\n    <tr>\n      <th>0</th>\n      <td>98</td>\n      <td>1</td>\n      <td>2010-03-11 00:00:00</td>\n      <td>Av. Brigadeiro Faria Lima, 2170</td>\n      <td>São José dos Campos</td>\n      <td>SP</td>\n      <td>Brazil</td>\n      <td>12227-000</td>\n      <td>3.98</td>\n    </tr>\n    <tr>\n      <th>1</th>\n      <td>121</td>\n      <td>1</td>\n      <td>2010-06-13 00:00:00</td>\n      <td>Av. Brigadeiro Faria Lima, 2170</td>\n      <td>São José dos Campos</td>\n      <td>SP</td>\n      <td>Brazil</td>\n      <td>12227-000</td>\n      <td>3.96</td>\n    </tr>\n    <tr>\n      <th>2</th>\n      <td>143</td>\n      <td>1</td>\n      <td>2010-09-15 00:00:00</td>\n      <td>Av. Brigadeiro Faria Lima, 2170</td>\n      <td>São José dos Campos</td>\n      <td>SP</td>\n      <td>Brazil</td>\n      <td>12227-000</td>\n      <td>5.94</td>\n    </tr>\n    <tr>\n      <th>3</th>\n      <td>195</td>\n      <td>1</td>\n      <td>2011-05-06 00:00:00</td>\n      <td>Av. Brigadeiro Faria Lima, 2170</td>\n      <td>São José dos Campos</td>\n      <td>SP</td>\n      <td>Brazil</td>\n      <td>12227-000</td>\n      <td>0.99</td>\n    </tr>\n    <tr>\n      <th>4</th>\n      <td>316</td>\n      <td>1</td>\n      <td>2012-10-27 00:00:00</td>\n      <td>Av. Brigadeiro Faria Lima, 2170</td>\n      <td>São José dos Campos</td>\n      <td>SP</td>\n      <td>Brazil</td>\n      <td>12227-000</td>\n      <td>1.98</td>\n    </tr>\n    <tr>\n      <th>5</th>\n      <td>327</td>\n      <td>1</td>\n      <td>2012-12-07 00:00:00</td>\n      <td>Av. Brigadeiro Faria Lima, 2170</td>\n      <td>São José dos Campos</td>\n      <td>SP</td>\n      <td>Brazil</td>\n      <td>12227-000</td>\n      <td>13.86</td>\n    </tr>\n    <tr>\n      <th>6</th>\n      <td>382</td>\n      <td>1</td>\n      <td>2013-08-07 00:00:00</td>\n      <td>Av. Brigadeiro Faria Lima, 2170</td>\n      <td>São José dos Campos</td>\n      <td>SP</td>\n      <td>Brazil</td>\n      <td>12227-000</td>\n      <td>8.91</td>\n    </tr>\n    <tr>\n      <th>7</th>\n      <td>25</td>\n      <td>10</td>\n      <td>2009-04-09 00:00:00</td>\n      <td>Rua Dr. Falcão Filho, 155</td>\n      <td>São Paulo</td>\n      <td>SP</td>\n      <td>Brazil</td>\n      <td>01007-010</td>\n      <td>8.91</td>\n    </tr>\n    <tr>\n      <th>8</th>\n      <td>154</td>\n      <td>10</td>\n      <td>2010-11-14 00:00:00</td>\n      <td>Rua Dr. Falcão Filho, 155</td>\n      <td>São Paulo</td>\n      <td>SP</td>\n      <td>Brazil</td>\n      <td>01007-010</td>\n      <td>1.98</td>\n    </tr>\n    <tr>\n      <th>9</th>\n      <td>177</td>\n      <td>10</td>\n      <td>2011-02-16 00:00:00</td>\n      <td>Rua Dr. Falcão Filho, 155</td>\n      <td>São Paulo</td>\n      <td>SP</td>\n      <td>Brazil</td>\n      <td>01007-010</td>\n      <td>3.96</td>\n    </tr>\n    <tr>\n      <th>10</th>\n      <td>199</td>\n      <td>10</td>\n      <td>2011-05-21 00:00:00</td>\n      <td>Rua Dr. Falcão Filho, 155</td>\n      <td>São Paulo</td>\n      <td>SP</td>\n      <td>Brazil</td>\n      <td>01007-010</td>\n      <td>5.94</td>\n    </tr>\n    <tr>\n      <th>11</th>\n      <td>251</td>\n      <td>10</td>\n      <td>2012-01-09 00:00:00</td>\n      <td>Rua Dr. Falcão Filho, 155</td>\n      <td>São Paulo</td>\n      <td>SP</td>\n      <td>Brazil</td>\n      <td>01007-010</td>\n      <td>0.99</td>\n    </tr>\n    <tr>\n      <th>12</th>\n      <td>372</td>\n      <td>10</td>\n      <td>2013-07-02 00:00:00</td>\n      <td>Rua Dr. Falcão Filho, 155</td>\n      <td>São Paulo</td>\n      <td>SP</td>\n      <td>Brazil</td>\n      <td>01007-010</td>\n      <td>1.98</td>\n    </tr>\n    <tr>\n      <th>13</th>\n      <td>383</td>\n      <td>10</td>\n      <td>2013-08-12 00:00:00</td>\n      <td>Rua Dr. Falcão Filho, 155</td>\n      <td>São Paulo</td>\n      <td>SP</td>\n      <td>Brazil</td>\n      <td>01007-010</td>\n      <td>13.86</td>\n    </tr>\n    <tr>\n      <th>14</th>\n      <td>57</td>\n      <td>11</td>\n      <td>2009-09-06 00:00:00</td>\n      <td>Av. Paulista, 2022</td>\n      <td>São Paulo</td>\n      <td>SP</td>\n      <td>Brazil</td>\n      <td>01310-200</td>\n      <td>1.98</td>\n    </tr>\n    <tr>\n      <th>15</th>\n      <td>68</td>\n      <td>11</td>\n      <td>2009-10-17 00:00:00</td>\n      <td>Av. Paulista, 2022</td>\n      <td>São Paulo</td>\n      <td>SP</td>\n      <td>Brazil</td>\n      <td>01310-200</td>\n      <td>13.86</td>\n    </tr>\n    <tr>\n      <th>16</th>\n      <td>123</td>\n      <td>11</td>\n      <td>2010-06-17 00:00:00</td>\n      <td>Av. Paulista, 2022</td>\n      <td>São Paulo</td>\n      <td>SP</td>\n      <td>Brazil</td>\n      <td>01310-200</td>\n      <td>8.91</td>\n    </tr>\n    <tr>\n      <th>17</th>\n      <td>252</td>\n      <td>11</td>\n      <td>2012-01-22 00:00:00</td>\n      <td>Av. Paulista, 2022</td>\n      <td>São Paulo</td>\n      <td>SP</td>\n      <td>Brazil</td>\n      <td>01310-200</td>\n      <td>1.98</td>\n    </tr>\n    <tr>\n      <th>18</th>\n      <td>275</td>\n      <td>11</td>\n      <td>2012-04-25 00:00:00</td>\n      <td>Av. Paulista, 2022</td>\n      <td>São Paulo</td>\n      <td>SP</td>\n      <td>Brazil</td>\n      <td>01310-200</td>\n      <td>3.96</td>\n    </tr>\n    <tr>\n      <th>19</th>\n      <td>297</td>\n      <td>11</td>\n      <td>2012-07-28 00:00:00</td>\n      <td>Av. Paulista, 2022</td>\n      <td>São Paulo</td>\n      <td>SP</td>\n      <td>Brazil</td>\n      <td>01310-200</td>\n      <td>5.94</td>\n    </tr>\n    <tr>\n      <th>20</th>\n      <td>349</td>\n      <td>11</td>\n      <td>2013-03-18 00:00:00</td>\n      <td>Av. Paulista, 2022</td>\n      <td>São Paulo</td>\n      <td>SP</td>\n      <td>Brazil</td>\n      <td>01310-200</td>\n      <td>0.99</td>\n    </tr>\n    <tr>\n      <th>21</th>\n      <td>34</td>\n      <td>12</td>\n      <td>2009-05-23 00:00:00</td>\n      <td>Praça Pio X, 119</td>\n      <td>Rio de Janeiro</td>\n      <td>RJ</td>\n      <td>Brazil</td>\n      <td>20040-020</td>\n      <td>0.99</td>\n    </tr>\n    <tr>\n      <th>22</th>\n      <td>155</td>\n      <td>12</td>\n      <td>2010-11-14 00:00:00</td>\n      <td>Praça Pio X, 119</td>\n      <td>Rio de Janeiro</td>\n      <td>RJ</td>\n      <td>Brazil</td>\n      <td>20040-020</td>\n      <td>1.98</td>\n    </tr>\n    <tr>\n      <th>23</th>\n      <td>166</td>\n      <td>12</td>\n      <td>2010-12-25 00:00:00</td>\n      <td>Praça Pio X, 119</td>\n      <td>Rio de Janeiro</td>\n      <td>RJ</td>\n      <td>Brazil</td>\n      <td>20040-020</td>\n      <td>13.86</td>\n    </tr>\n    <tr>\n      <th>24</th>\n      <td>221</td>\n      <td>12</td>\n      <td>2011-08-25 00:00:00</td>\n      <td>Praça Pio X, 119</td>\n      <td>Rio de Janeiro</td>\n      <td>RJ</td>\n      <td>Brazil</td>\n      <td>20040-020</td>\n      <td>8.91</td>\n    </tr>\n    <tr>\n      <th>25</th>\n      <td>350</td>\n      <td>12</td>\n      <td>2013-03-31 00:00:00</td>\n      <td>Praça Pio X, 119</td>\n      <td>Rio de Janeiro</td>\n      <td>RJ</td>\n      <td>Brazil</td>\n      <td>20040-020</td>\n      <td>1.98</td>\n    </tr>\n    <tr>\n      <th>26</th>\n      <td>373</td>\n      <td>12</td>\n      <td>2013-07-03 00:00:00</td>\n      <td>Praça Pio X, 119</td>\n      <td>Rio de Janeiro</td>\n      <td>RJ</td>\n      <td>Brazil</td>\n      <td>20040-020</td>\n      <td>3.96</td>\n    </tr>\n    <tr>\n      <th>27</th>\n      <td>395</td>\n      <td>12</td>\n      <td>2013-10-05 00:00:00</td>\n      <td>Praça Pio X, 119</td>\n      <td>Rio de Janeiro</td>\n      <td>RJ</td>\n      <td>Brazil</td>\n      <td>20040-020</td>\n      <td>5.94</td>\n    </tr>\n    <tr>\n      <th>28</th>\n      <td>35</td>\n      <td>13</td>\n      <td>2009-06-05 00:00:00</td>\n      <td>Qe 7 Bloco G</td>\n      <td>Brasília</td>\n      <td>DF</td>\n      <td>Brazil</td>\n      <td>71020-677</td>\n      <td>1.98</td>\n    </tr>\n    <tr>\n      <th>29</th>\n      <td>58</td>\n      <td>13</td>\n      <td>2009-09-07 00:00:00</td>\n      <td>Qe 7 Bloco G</td>\n      <td>Brasília</td>\n      <td>DF</td>\n      <td>Brazil</td>\n      <td>71020-677</td>\n      <td>3.96</td>\n    </tr>\n    <tr>\n      <th>30</th>\n      <td>80</td>\n      <td>13</td>\n      <td>2009-12-10 00:00:00</td>\n      <td>Qe 7 Bloco G</td>\n      <td>Brasília</td>\n      <td>DF</td>\n      <td>Brazil</td>\n      <td>71020-677</td>\n      <td>5.94</td>\n    </tr>\n    <tr>\n      <th>31</th>\n      <td>132</td>\n      <td>13</td>\n      <td>2010-07-31 00:00:00</td>\n      <td>Qe 7 Bloco G</td>\n      <td>Brasília</td>\n      <td>DF</td>\n      <td>Brazil</td>\n      <td>71020-677</td>\n      <td>0.99</td>\n    </tr>\n    <tr>\n      <th>32</th>\n      <td>253</td>\n      <td>13</td>\n      <td>2012-01-22 00:00:00</td>\n      <td>Qe 7 Bloco G</td>\n      <td>Brasília</td>\n      <td>DF</td>\n      <td>Brazil</td>\n      <td>71020-677</td>\n      <td>1.98</td>\n    </tr>\n    <tr>\n      <th>33</th>\n      <td>264</td>\n      <td>13</td>\n      <td>2012-03-03 00:00:00</td>\n      <td>Qe 7 Bloco G</td>\n      <td>Brasília</td>\n      <td>DF</td>\n      <td>Brazil</td>\n      <td>71020-677</td>\n      <td>13.86</td>\n    </tr>\n    <tr>\n      <th>34</th>\n      <td>319</td>\n      <td>13</td>\n      <td>2012-11-01 00:00:00</td>\n      <td>Qe 7 Bloco G</td>\n      <td>Brasília</td>\n      <td>DF</td>\n      <td>Brazil</td>\n      <td>71020-677</td>\n      <td>8.91</td>\n    </tr>\n  </tbody>\n</table>\n</div>"
     },
     "metadata": {},
     "execution_count": 33
    }
   ],
   "source": [
    "query = \"\"\"\n",
    "SELECT i.*\n",
    "FROM customers c\n",
    "JOIN invoices i ON c.CustomerId = i.CustomerId\n",
    "WHERE c.Country == \"Brazil\"\n",
    "\"\"\"\n",
    "pd.read_sql_query(query, connection)\n"
   ]
  },
  {
   "source": [
    "### 3.\tMuestra cada factura asociada a cada agente de ventas con su nombre completo."
   ],
   "cell_type": "markdown",
   "metadata": {}
  },
  {
   "cell_type": "code",
   "execution_count": 34,
   "metadata": {},
   "outputs": [
    {
     "output_type": "execute_result",
     "data": {
      "text/plain": [
       "          FullName  InvoiceId  CustomerId          InvoiceDate  \\\n",
       "0     Jane Peacock         98           1  2010-03-11 00:00:00   \n",
       "1     Jane Peacock        121           1  2010-06-13 00:00:00   \n",
       "2     Jane Peacock        143           1  2010-09-15 00:00:00   \n",
       "3     Jane Peacock        195           1  2011-05-06 00:00:00   \n",
       "4     Jane Peacock        316           1  2012-10-27 00:00:00   \n",
       "..             ...        ...         ...                  ...   \n",
       "407  Steve Johnson         88          57  2010-01-13 00:00:00   \n",
       "408  Steve Johnson        217          57  2011-08-20 00:00:00   \n",
       "409  Steve Johnson        240          57  2011-11-22 00:00:00   \n",
       "410  Steve Johnson        262          57  2012-02-24 00:00:00   \n",
       "411  Steve Johnson        314          57  2012-10-14 00:00:00   \n",
       "\n",
       "                      BillingAddress          BillingCity BillingState  \\\n",
       "0    Av. Brigadeiro Faria Lima, 2170  São José dos Campos           SP   \n",
       "1    Av. Brigadeiro Faria Lima, 2170  São José dos Campos           SP   \n",
       "2    Av. Brigadeiro Faria Lima, 2170  São José dos Campos           SP   \n",
       "3    Av. Brigadeiro Faria Lima, 2170  São José dos Campos           SP   \n",
       "4    Av. Brigadeiro Faria Lima, 2170  São José dos Campos           SP   \n",
       "..                               ...                  ...          ...   \n",
       "407                  Calle Lira, 198             Santiago         None   \n",
       "408                  Calle Lira, 198             Santiago         None   \n",
       "409                  Calle Lira, 198             Santiago         None   \n",
       "410                  Calle Lira, 198             Santiago         None   \n",
       "411                  Calle Lira, 198             Santiago         None   \n",
       "\n",
       "    BillingCountry BillingPostalCode  Total  \n",
       "0           Brazil         12227-000   3.98  \n",
       "1           Brazil         12227-000   3.96  \n",
       "2           Brazil         12227-000   5.94  \n",
       "3           Brazil         12227-000   0.99  \n",
       "4           Brazil         12227-000   1.98  \n",
       "..             ...               ...    ...  \n",
       "407          Chile              None  17.91  \n",
       "408          Chile              None   1.98  \n",
       "409          Chile              None   3.96  \n",
       "410          Chile              None   5.94  \n",
       "411          Chile              None   0.99  \n",
       "\n",
       "[412 rows x 10 columns]"
      ],
      "text/html": "<div>\n<style scoped>\n    .dataframe tbody tr th:only-of-type {\n        vertical-align: middle;\n    }\n\n    .dataframe tbody tr th {\n        vertical-align: top;\n    }\n\n    .dataframe thead th {\n        text-align: right;\n    }\n</style>\n<table border=\"1\" class=\"dataframe\">\n  <thead>\n    <tr style=\"text-align: right;\">\n      <th></th>\n      <th>FullName</th>\n      <th>InvoiceId</th>\n      <th>CustomerId</th>\n      <th>InvoiceDate</th>\n      <th>BillingAddress</th>\n      <th>BillingCity</th>\n      <th>BillingState</th>\n      <th>BillingCountry</th>\n      <th>BillingPostalCode</th>\n      <th>Total</th>\n    </tr>\n  </thead>\n  <tbody>\n    <tr>\n      <th>0</th>\n      <td>Jane Peacock</td>\n      <td>98</td>\n      <td>1</td>\n      <td>2010-03-11 00:00:00</td>\n      <td>Av. Brigadeiro Faria Lima, 2170</td>\n      <td>São José dos Campos</td>\n      <td>SP</td>\n      <td>Brazil</td>\n      <td>12227-000</td>\n      <td>3.98</td>\n    </tr>\n    <tr>\n      <th>1</th>\n      <td>Jane Peacock</td>\n      <td>121</td>\n      <td>1</td>\n      <td>2010-06-13 00:00:00</td>\n      <td>Av. Brigadeiro Faria Lima, 2170</td>\n      <td>São José dos Campos</td>\n      <td>SP</td>\n      <td>Brazil</td>\n      <td>12227-000</td>\n      <td>3.96</td>\n    </tr>\n    <tr>\n      <th>2</th>\n      <td>Jane Peacock</td>\n      <td>143</td>\n      <td>1</td>\n      <td>2010-09-15 00:00:00</td>\n      <td>Av. Brigadeiro Faria Lima, 2170</td>\n      <td>São José dos Campos</td>\n      <td>SP</td>\n      <td>Brazil</td>\n      <td>12227-000</td>\n      <td>5.94</td>\n    </tr>\n    <tr>\n      <th>3</th>\n      <td>Jane Peacock</td>\n      <td>195</td>\n      <td>1</td>\n      <td>2011-05-06 00:00:00</td>\n      <td>Av. Brigadeiro Faria Lima, 2170</td>\n      <td>São José dos Campos</td>\n      <td>SP</td>\n      <td>Brazil</td>\n      <td>12227-000</td>\n      <td>0.99</td>\n    </tr>\n    <tr>\n      <th>4</th>\n      <td>Jane Peacock</td>\n      <td>316</td>\n      <td>1</td>\n      <td>2012-10-27 00:00:00</td>\n      <td>Av. Brigadeiro Faria Lima, 2170</td>\n      <td>São José dos Campos</td>\n      <td>SP</td>\n      <td>Brazil</td>\n      <td>12227-000</td>\n      <td>1.98</td>\n    </tr>\n    <tr>\n      <th>...</th>\n      <td>...</td>\n      <td>...</td>\n      <td>...</td>\n      <td>...</td>\n      <td>...</td>\n      <td>...</td>\n      <td>...</td>\n      <td>...</td>\n      <td>...</td>\n      <td>...</td>\n    </tr>\n    <tr>\n      <th>407</th>\n      <td>Steve Johnson</td>\n      <td>88</td>\n      <td>57</td>\n      <td>2010-01-13 00:00:00</td>\n      <td>Calle Lira, 198</td>\n      <td>Santiago</td>\n      <td>None</td>\n      <td>Chile</td>\n      <td>None</td>\n      <td>17.91</td>\n    </tr>\n    <tr>\n      <th>408</th>\n      <td>Steve Johnson</td>\n      <td>217</td>\n      <td>57</td>\n      <td>2011-08-20 00:00:00</td>\n      <td>Calle Lira, 198</td>\n      <td>Santiago</td>\n      <td>None</td>\n      <td>Chile</td>\n      <td>None</td>\n      <td>1.98</td>\n    </tr>\n    <tr>\n      <th>409</th>\n      <td>Steve Johnson</td>\n      <td>240</td>\n      <td>57</td>\n      <td>2011-11-22 00:00:00</td>\n      <td>Calle Lira, 198</td>\n      <td>Santiago</td>\n      <td>None</td>\n      <td>Chile</td>\n      <td>None</td>\n      <td>3.96</td>\n    </tr>\n    <tr>\n      <th>410</th>\n      <td>Steve Johnson</td>\n      <td>262</td>\n      <td>57</td>\n      <td>2012-02-24 00:00:00</td>\n      <td>Calle Lira, 198</td>\n      <td>Santiago</td>\n      <td>None</td>\n      <td>Chile</td>\n      <td>None</td>\n      <td>5.94</td>\n    </tr>\n    <tr>\n      <th>411</th>\n      <td>Steve Johnson</td>\n      <td>314</td>\n      <td>57</td>\n      <td>2012-10-14 00:00:00</td>\n      <td>Calle Lira, 198</td>\n      <td>Santiago</td>\n      <td>None</td>\n      <td>Chile</td>\n      <td>None</td>\n      <td>0.99</td>\n    </tr>\n  </tbody>\n</table>\n<p>412 rows × 10 columns</p>\n</div>"
     },
     "metadata": {},
     "execution_count": 34
    }
   ],
   "source": [
    "query = \"\"\" \n",
    "SELECT e.Firstname||\" \"||e.Lastname as FullName, i.*\n",
    "FROM employees e\n",
    "JOIN customers c, invoices i ON e.EmployeeId = c.SupportRepId AND c.CustomerId = i.CustomerId\n",
    "\"\"\"\n",
    "# SINONIMO DE:\n",
    "# JOIN customers c ON e.EmployeeId = c.SupportRepId\n",
    "# JOIN invoices i ON c.CustomerId = i.CustomerId\n",
    "\n",
    "pd.read_sql_query(query, connection)\n"
   ]
  },
  {
   "source": [
    "### 4.\tPara cada factura muestra el nombre del cliente, el país, el nombre del agente y el total"
   ],
   "cell_type": "markdown",
   "metadata": {}
  },
  {
   "cell_type": "code",
   "execution_count": 35,
   "metadata": {},
   "outputs": [
    {
     "output_type": "execute_result",
     "data": {
      "text/plain": [
       "    FullNameCustomer Country FullNameAgent  Total\n",
       "0     Luís Gonçalves  Brazil  Jane Peacock   3.98\n",
       "1     Luís Gonçalves  Brazil  Jane Peacock   3.96\n",
       "2     Luís Gonçalves  Brazil  Jane Peacock   5.94\n",
       "3     Luís Gonçalves  Brazil  Jane Peacock   0.99\n",
       "4     Luís Gonçalves  Brazil  Jane Peacock   1.98\n",
       "..               ...     ...           ...    ...\n",
       "407  Puja Srivastava   India  Jane Peacock   5.94\n",
       "408  Puja Srivastava   India  Jane Peacock   1.99\n",
       "409  Puja Srivastava   India  Jane Peacock   1.98\n",
       "410  Puja Srivastava   India  Jane Peacock  13.86\n",
       "411  Puja Srivastava   India  Jane Peacock   8.91\n",
       "\n",
       "[412 rows x 4 columns]"
      ],
      "text/html": "<div>\n<style scoped>\n    .dataframe tbody tr th:only-of-type {\n        vertical-align: middle;\n    }\n\n    .dataframe tbody tr th {\n        vertical-align: top;\n    }\n\n    .dataframe thead th {\n        text-align: right;\n    }\n</style>\n<table border=\"1\" class=\"dataframe\">\n  <thead>\n    <tr style=\"text-align: right;\">\n      <th></th>\n      <th>FullNameCustomer</th>\n      <th>Country</th>\n      <th>FullNameAgent</th>\n      <th>Total</th>\n    </tr>\n  </thead>\n  <tbody>\n    <tr>\n      <th>0</th>\n      <td>Luís Gonçalves</td>\n      <td>Brazil</td>\n      <td>Jane Peacock</td>\n      <td>3.98</td>\n    </tr>\n    <tr>\n      <th>1</th>\n      <td>Luís Gonçalves</td>\n      <td>Brazil</td>\n      <td>Jane Peacock</td>\n      <td>3.96</td>\n    </tr>\n    <tr>\n      <th>2</th>\n      <td>Luís Gonçalves</td>\n      <td>Brazil</td>\n      <td>Jane Peacock</td>\n      <td>5.94</td>\n    </tr>\n    <tr>\n      <th>3</th>\n      <td>Luís Gonçalves</td>\n      <td>Brazil</td>\n      <td>Jane Peacock</td>\n      <td>0.99</td>\n    </tr>\n    <tr>\n      <th>4</th>\n      <td>Luís Gonçalves</td>\n      <td>Brazil</td>\n      <td>Jane Peacock</td>\n      <td>1.98</td>\n    </tr>\n    <tr>\n      <th>...</th>\n      <td>...</td>\n      <td>...</td>\n      <td>...</td>\n      <td>...</td>\n    </tr>\n    <tr>\n      <th>407</th>\n      <td>Puja Srivastava</td>\n      <td>India</td>\n      <td>Jane Peacock</td>\n      <td>5.94</td>\n    </tr>\n    <tr>\n      <th>408</th>\n      <td>Puja Srivastava</td>\n      <td>India</td>\n      <td>Jane Peacock</td>\n      <td>1.99</td>\n    </tr>\n    <tr>\n      <th>409</th>\n      <td>Puja Srivastava</td>\n      <td>India</td>\n      <td>Jane Peacock</td>\n      <td>1.98</td>\n    </tr>\n    <tr>\n      <th>410</th>\n      <td>Puja Srivastava</td>\n      <td>India</td>\n      <td>Jane Peacock</td>\n      <td>13.86</td>\n    </tr>\n    <tr>\n      <th>411</th>\n      <td>Puja Srivastava</td>\n      <td>India</td>\n      <td>Jane Peacock</td>\n      <td>8.91</td>\n    </tr>\n  </tbody>\n</table>\n<p>412 rows × 4 columns</p>\n</div>"
     },
     "metadata": {},
     "execution_count": 35
    }
   ],
   "source": [
    "query = \"\"\" \n",
    "SELECT c.Firstname||\" \"||c.Lastname as FullNameCustomer, c.Country, e.Firstname||\" \"||e.Lastname as FullNameAgent, i.Total\n",
    "FROM employees e\n",
    "JOIN customers c ON e.EmployeeId = c.SupportRepId\n",
    "JOIN invoices i ON c.CustomerId = i.CustomerId\n",
    "\"\"\"\n",
    "pd.read_sql_query(query, connection)"
   ]
  },
  {
   "source": [
    "### 5.\tMuestra cada artículo de la factura con el nombre de la canción."
   ],
   "cell_type": "markdown",
   "metadata": {}
  },
  {
   "cell_type": "code",
   "execution_count": 36,
   "metadata": {},
   "outputs": [
    {
     "output_type": "execute_result",
     "data": {
      "text/plain": [
       "      InvoiceId                                               Name\n",
       "0             1                                  Balls to the Wall\n",
       "1             1                                  Restless and Wild\n",
       "2             2                              Put The Finger On You\n",
       "3             2                                   Inject The Venom\n",
       "4             2                                         Evil Walks\n",
       "...         ...                                                ...\n",
       "2235        411                                   Looking For Love\n",
       "2236        411                                    Sweet Lady Luck\n",
       "2237        411  Feirinha da Pavuna/Luz do Repente/Bagaço da La...\n",
       "2238        411                                   Samba pras moças\n",
       "2239        412                                           Hot Girl\n",
       "\n",
       "[2240 rows x 2 columns]"
      ],
      "text/html": "<div>\n<style scoped>\n    .dataframe tbody tr th:only-of-type {\n        vertical-align: middle;\n    }\n\n    .dataframe tbody tr th {\n        vertical-align: top;\n    }\n\n    .dataframe thead th {\n        text-align: right;\n    }\n</style>\n<table border=\"1\" class=\"dataframe\">\n  <thead>\n    <tr style=\"text-align: right;\">\n      <th></th>\n      <th>InvoiceId</th>\n      <th>Name</th>\n    </tr>\n  </thead>\n  <tbody>\n    <tr>\n      <th>0</th>\n      <td>1</td>\n      <td>Balls to the Wall</td>\n    </tr>\n    <tr>\n      <th>1</th>\n      <td>1</td>\n      <td>Restless and Wild</td>\n    </tr>\n    <tr>\n      <th>2</th>\n      <td>2</td>\n      <td>Put The Finger On You</td>\n    </tr>\n    <tr>\n      <th>3</th>\n      <td>2</td>\n      <td>Inject The Venom</td>\n    </tr>\n    <tr>\n      <th>4</th>\n      <td>2</td>\n      <td>Evil Walks</td>\n    </tr>\n    <tr>\n      <th>...</th>\n      <td>...</td>\n      <td>...</td>\n    </tr>\n    <tr>\n      <th>2235</th>\n      <td>411</td>\n      <td>Looking For Love</td>\n    </tr>\n    <tr>\n      <th>2236</th>\n      <td>411</td>\n      <td>Sweet Lady Luck</td>\n    </tr>\n    <tr>\n      <th>2237</th>\n      <td>411</td>\n      <td>Feirinha da Pavuna/Luz do Repente/Bagaço da La...</td>\n    </tr>\n    <tr>\n      <th>2238</th>\n      <td>411</td>\n      <td>Samba pras moças</td>\n    </tr>\n    <tr>\n      <th>2239</th>\n      <td>412</td>\n      <td>Hot Girl</td>\n    </tr>\n  </tbody>\n</table>\n<p>2240 rows × 2 columns</p>\n</div>"
     },
     "metadata": {},
     "execution_count": 36
    }
   ],
   "source": [
    "query = \"\"\"\n",
    "SELECT it.InvoiceId, t.Name\n",
    "FROM tracks t\n",
    "JOIN invoice_items it ON t.TrackId = it.TrackId\n",
    "\"\"\"\n",
    "\n",
    "pd.read_sql_query(query, connection)"
   ]
  },
  {
   "source": [
    "### 6.\tMuestra todas las canciones con su nombre, formato, álbum y género."
   ],
   "cell_type": "markdown",
   "metadata": {}
  },
  {
   "cell_type": "code",
   "execution_count": 37,
   "metadata": {},
   "outputs": [
    {
     "output_type": "execute_result",
     "data": {
      "text/plain": [
       "                                              Song Name  \\\n",
       "0               For Those About To Rock (We Salute You)   \n",
       "1                                     Balls to the Wall   \n",
       "2                                       Fast As a Shark   \n",
       "3                                     Restless and Wild   \n",
       "4                                  Princess of the Dawn   \n",
       "...                                                 ...   \n",
       "3498  Pini Di Roma (Pinien Von Rom) \\ I Pini Della V...   \n",
       "3499  String Quartet No. 12 in C Minor, D. 703 \"Quar...   \n",
       "3500               L'orfeo, Act 3, Sinfonia (Orchestra)   \n",
       "3501  Quintet for Horn, Violin, 2 Violas, and Cello ...   \n",
       "3502  Die Zauberflöte, K.620: \"Der Hölle Rache Kocht...   \n",
       "\n",
       "                        Format  \\\n",
       "0              MPEG audio file   \n",
       "1     Protected AAC audio file   \n",
       "2     Protected AAC audio file   \n",
       "3     Protected AAC audio file   \n",
       "4     Protected AAC audio file   \n",
       "...                        ...   \n",
       "3498  Protected AAC audio file   \n",
       "3499  Protected AAC audio file   \n",
       "3500  Protected AAC audio file   \n",
       "3501  Protected AAC audio file   \n",
       "3502  Protected AAC audio file   \n",
       "\n",
       "                                                  Album      Genre  \n",
       "0                 For Those About To Rock We Salute You       Rock  \n",
       "1                                     Balls to the Wall       Rock  \n",
       "2                                     Restless and Wild       Rock  \n",
       "3                                     Restless and Wild       Rock  \n",
       "4                                     Restless and Wild       Rock  \n",
       "...                                                 ...        ...  \n",
       "3498                             Respighi:Pines of Rome  Classical  \n",
       "3499  Schubert: The Late String Quartets & String Qu...  Classical  \n",
       "3500                                Monteverdi: L'Orfeo  Classical  \n",
       "3501                              Mozart: Chamber Music  Classical  \n",
       "3502                          Mozart Gala: Famous Arias      Opera  \n",
       "\n",
       "[3503 rows x 4 columns]"
      ],
      "text/html": "<div>\n<style scoped>\n    .dataframe tbody tr th:only-of-type {\n        vertical-align: middle;\n    }\n\n    .dataframe tbody tr th {\n        vertical-align: top;\n    }\n\n    .dataframe thead th {\n        text-align: right;\n    }\n</style>\n<table border=\"1\" class=\"dataframe\">\n  <thead>\n    <tr style=\"text-align: right;\">\n      <th></th>\n      <th>Song Name</th>\n      <th>Format</th>\n      <th>Album</th>\n      <th>Genre</th>\n    </tr>\n  </thead>\n  <tbody>\n    <tr>\n      <th>0</th>\n      <td>For Those About To Rock (We Salute You)</td>\n      <td>MPEG audio file</td>\n      <td>For Those About To Rock We Salute You</td>\n      <td>Rock</td>\n    </tr>\n    <tr>\n      <th>1</th>\n      <td>Balls to the Wall</td>\n      <td>Protected AAC audio file</td>\n      <td>Balls to the Wall</td>\n      <td>Rock</td>\n    </tr>\n    <tr>\n      <th>2</th>\n      <td>Fast As a Shark</td>\n      <td>Protected AAC audio file</td>\n      <td>Restless and Wild</td>\n      <td>Rock</td>\n    </tr>\n    <tr>\n      <th>3</th>\n      <td>Restless and Wild</td>\n      <td>Protected AAC audio file</td>\n      <td>Restless and Wild</td>\n      <td>Rock</td>\n    </tr>\n    <tr>\n      <th>4</th>\n      <td>Princess of the Dawn</td>\n      <td>Protected AAC audio file</td>\n      <td>Restless and Wild</td>\n      <td>Rock</td>\n    </tr>\n    <tr>\n      <th>...</th>\n      <td>...</td>\n      <td>...</td>\n      <td>...</td>\n      <td>...</td>\n    </tr>\n    <tr>\n      <th>3498</th>\n      <td>Pini Di Roma (Pinien Von Rom) \\ I Pini Della V...</td>\n      <td>Protected AAC audio file</td>\n      <td>Respighi:Pines of Rome</td>\n      <td>Classical</td>\n    </tr>\n    <tr>\n      <th>3499</th>\n      <td>String Quartet No. 12 in C Minor, D. 703 \"Quar...</td>\n      <td>Protected AAC audio file</td>\n      <td>Schubert: The Late String Quartets &amp; String Qu...</td>\n      <td>Classical</td>\n    </tr>\n    <tr>\n      <th>3500</th>\n      <td>L'orfeo, Act 3, Sinfonia (Orchestra)</td>\n      <td>Protected AAC audio file</td>\n      <td>Monteverdi: L'Orfeo</td>\n      <td>Classical</td>\n    </tr>\n    <tr>\n      <th>3501</th>\n      <td>Quintet for Horn, Violin, 2 Violas, and Cello ...</td>\n      <td>Protected AAC audio file</td>\n      <td>Mozart: Chamber Music</td>\n      <td>Classical</td>\n    </tr>\n    <tr>\n      <th>3502</th>\n      <td>Die Zauberflöte, K.620: \"Der Hölle Rache Kocht...</td>\n      <td>Protected AAC audio file</td>\n      <td>Mozart Gala: Famous Arias</td>\n      <td>Opera</td>\n    </tr>\n  </tbody>\n</table>\n<p>3503 rows × 4 columns</p>\n</div>"
     },
     "metadata": {},
     "execution_count": 37
    }
   ],
   "source": [
    "query = \"\"\"\n",
    "SELECT t.Name as \"Song Name\" , mt.Name as \"Format\", a.Title as \"Album\", g.Name as \"Genre\"\n",
    "FROM tracks t\n",
    "JOIN genres g ON t.GenreId = g.GenreId \n",
    "JOIN media_types mt ON t.MediaTypeId = mt.MediaTypeId\n",
    "JOIN albums a ON t.AlbumId = a.AlbumId\n",
    "\"\"\"\n",
    "\n",
    "pd.read_sql_query(query, connection)"
   ]
  },
  {
   "source": [
    "### 7.\tMuestra cuántas canciones hay en cada playlist y el nombre de cada playlist."
   ],
   "cell_type": "markdown",
   "metadata": {}
  },
  {
   "cell_type": "code",
   "execution_count": 39,
   "metadata": {},
   "outputs": [
    {
     "output_type": "execute_result",
     "data": {
      "text/plain": [
       "                      Playlist    Nº\n",
       "0                        Music  3290\n",
       "1                     TV Shows   213\n",
       "2                   90’s Music  1477\n",
       "3                        Music  3290\n",
       "4                 Music Videos     1\n",
       "5                     TV Shows   213\n",
       "6              Brazilian Music    39\n",
       "7                    Classical    75\n",
       "8    Classical 101 - Deep Cuts    25\n",
       "9   Classical 101 - Next Steps    25\n",
       "10  Classical 101 - The Basics    25\n",
       "11                      Grunge    15\n",
       "12         Heavy Metal Classic    26\n",
       "13                 On-The-Go 1     1"
      ],
      "text/html": "<div>\n<style scoped>\n    .dataframe tbody tr th:only-of-type {\n        vertical-align: middle;\n    }\n\n    .dataframe tbody tr th {\n        vertical-align: top;\n    }\n\n    .dataframe thead th {\n        text-align: right;\n    }\n</style>\n<table border=\"1\" class=\"dataframe\">\n  <thead>\n    <tr style=\"text-align: right;\">\n      <th></th>\n      <th>Playlist</th>\n      <th>Nº</th>\n    </tr>\n  </thead>\n  <tbody>\n    <tr>\n      <th>0</th>\n      <td>Music</td>\n      <td>3290</td>\n    </tr>\n    <tr>\n      <th>1</th>\n      <td>TV Shows</td>\n      <td>213</td>\n    </tr>\n    <tr>\n      <th>2</th>\n      <td>90’s Music</td>\n      <td>1477</td>\n    </tr>\n    <tr>\n      <th>3</th>\n      <td>Music</td>\n      <td>3290</td>\n    </tr>\n    <tr>\n      <th>4</th>\n      <td>Music Videos</td>\n      <td>1</td>\n    </tr>\n    <tr>\n      <th>5</th>\n      <td>TV Shows</td>\n      <td>213</td>\n    </tr>\n    <tr>\n      <th>6</th>\n      <td>Brazilian Music</td>\n      <td>39</td>\n    </tr>\n    <tr>\n      <th>7</th>\n      <td>Classical</td>\n      <td>75</td>\n    </tr>\n    <tr>\n      <th>8</th>\n      <td>Classical 101 - Deep Cuts</td>\n      <td>25</td>\n    </tr>\n    <tr>\n      <th>9</th>\n      <td>Classical 101 - Next Steps</td>\n      <td>25</td>\n    </tr>\n    <tr>\n      <th>10</th>\n      <td>Classical 101 - The Basics</td>\n      <td>25</td>\n    </tr>\n    <tr>\n      <th>11</th>\n      <td>Grunge</td>\n      <td>15</td>\n    </tr>\n    <tr>\n      <th>12</th>\n      <td>Heavy Metal Classic</td>\n      <td>26</td>\n    </tr>\n    <tr>\n      <th>13</th>\n      <td>On-The-Go 1</td>\n      <td>1</td>\n    </tr>\n  </tbody>\n</table>\n</div>"
     },
     "metadata": {},
     "execution_count": 39
    }
   ],
   "source": [
    "query = \"\"\"\n",
    "SELECT p.Name as \"Playlist\", COUNT(*) as \"Nº\" \n",
    "--también puedes poner COUNT(pt.PlaylistId) para que sea más visual--\n",
    "FROM playlist_track pt \n",
    "JOIN playlistS p ON Pt.PlaylistId = p.PlaylistId\n",
    "GROUP BY pt.PlaylistId\n",
    "\"\"\"\n",
    "\n",
    "\n",
    "pd.read_sql_query(query, connection)"
   ]
  },
  {
   "cell_type": "code",
   "execution_count": 19,
   "metadata": {},
   "outputs": [
    {
     "output_type": "execute_result",
     "data": {
      "text/plain": [
       "                      Playlist    Nº\n",
       "0                   90’s Music  1477\n",
       "1              Brazilian Music    39\n",
       "2                    Classical    75\n",
       "3    Classical 101 - Deep Cuts    25\n",
       "4   Classical 101 - Next Steps    25\n",
       "5   Classical 101 - The Basics    25\n",
       "6                       Grunge    15\n",
       "7          Heavy Metal Classic    26\n",
       "8                        Music  6580\n",
       "9                 Music Videos     1\n",
       "10                 On-The-Go 1     1\n",
       "11                    TV Shows   426"
      ],
      "text/html": "<div>\n<style scoped>\n    .dataframe tbody tr th:only-of-type {\n        vertical-align: middle;\n    }\n\n    .dataframe tbody tr th {\n        vertical-align: top;\n    }\n\n    .dataframe thead th {\n        text-align: right;\n    }\n</style>\n<table border=\"1\" class=\"dataframe\">\n  <thead>\n    <tr style=\"text-align: right;\">\n      <th></th>\n      <th>Playlist</th>\n      <th>Nº</th>\n    </tr>\n  </thead>\n  <tbody>\n    <tr>\n      <th>0</th>\n      <td>90’s Music</td>\n      <td>1477</td>\n    </tr>\n    <tr>\n      <th>1</th>\n      <td>Brazilian Music</td>\n      <td>39</td>\n    </tr>\n    <tr>\n      <th>2</th>\n      <td>Classical</td>\n      <td>75</td>\n    </tr>\n    <tr>\n      <th>3</th>\n      <td>Classical 101 - Deep Cuts</td>\n      <td>25</td>\n    </tr>\n    <tr>\n      <th>4</th>\n      <td>Classical 101 - Next Steps</td>\n      <td>25</td>\n    </tr>\n    <tr>\n      <th>5</th>\n      <td>Classical 101 - The Basics</td>\n      <td>25</td>\n    </tr>\n    <tr>\n      <th>6</th>\n      <td>Grunge</td>\n      <td>15</td>\n    </tr>\n    <tr>\n      <th>7</th>\n      <td>Heavy Metal Classic</td>\n      <td>26</td>\n    </tr>\n    <tr>\n      <th>8</th>\n      <td>Music</td>\n      <td>6580</td>\n    </tr>\n    <tr>\n      <th>9</th>\n      <td>Music Videos</td>\n      <td>1</td>\n    </tr>\n    <tr>\n      <th>10</th>\n      <td>On-The-Go 1</td>\n      <td>1</td>\n    </tr>\n    <tr>\n      <th>11</th>\n      <td>TV Shows</td>\n      <td>426</td>\n    </tr>\n  </tbody>\n</table>\n</div>"
     },
     "metadata": {},
     "execution_count": 19
    }
   ],
   "source": [
    "#Aquí al agrupar por nombre no estamos teniendo en cuenta el Id, que es lo que asegura que sean diferentes\n",
    "query = \"\"\"\n",
    "SELECT p.Name as \"Playlist\", COUNT(*) as \"Nº\"\n",
    "FROM playlist_track pt \n",
    "JOIN playlistS p ON Pt.PlaylistId = p.PlaylistId\n",
    "GROUP BY p.Name\n",
    "\"\"\"\n",
    "\n",
    "pd.read_sql_query(query, connection)"
   ]
  },
  {
   "source": [
    "### 8.\tMuestra cuánto ha vendido cada empleado."
   ],
   "cell_type": "markdown",
   "metadata": {}
  },
  {
   "source": [
    "query = \"\"\"\n",
    "SELECT e.LastName||\"\"||e.FirstName as FullName, SUM(Quantity)\n",
    "FROM employees e \n",
    "JOIN customers c ON e.EmployeeId = c.SupportRepId\n",
    "JOIN invoices i ON c.CustomerId = i.CustomerId \n",
    "JOIN invoice_items it ON i.InvoiceId = it.InvoiceId\n",
    "GROUP BY e.EmployeeId\n",
    "\"\"\"\n",
    "\n",
    "pd.read_sql_query(query, connection)"
   ],
   "cell_type": "code",
   "metadata": {},
   "execution_count": 43,
   "outputs": [
    {
     "output_type": "execute_result",
     "data": {
      "text/plain": [
       "       FullName  SUM(Quantity)\n",
       "0   PeacockJane            796\n",
       "1  ParkMargaret            760\n",
       "2  JohnsonSteve            684"
      ],
      "text/html": "<div>\n<style scoped>\n    .dataframe tbody tr th:only-of-type {\n        vertical-align: middle;\n    }\n\n    .dataframe tbody tr th {\n        vertical-align: top;\n    }\n\n    .dataframe thead th {\n        text-align: right;\n    }\n</style>\n<table border=\"1\" class=\"dataframe\">\n  <thead>\n    <tr style=\"text-align: right;\">\n      <th></th>\n      <th>FullName</th>\n      <th>SUM(Quantity)</th>\n    </tr>\n  </thead>\n  <tbody>\n    <tr>\n      <th>0</th>\n      <td>PeacockJane</td>\n      <td>796</td>\n    </tr>\n    <tr>\n      <th>1</th>\n      <td>ParkMargaret</td>\n      <td>760</td>\n    </tr>\n    <tr>\n      <th>2</th>\n      <td>JohnsonSteve</td>\n      <td>684</td>\n    </tr>\n  </tbody>\n</table>\n</div>"
     },
     "metadata": {},
     "execution_count": 43
    }
   ]
  },
  {
   "cell_type": "code",
   "execution_count": 45,
   "metadata": {},
   "outputs": [
    {
     "output_type": "execute_result",
     "data": {
      "text/plain": [
       "          FullName  EmployeeId\n",
       "0      AdamsAndrew           1\n",
       "1     EdwardsNancy           2\n",
       "2      PeacockJane           3\n",
       "3     ParkMargaret           4\n",
       "4     JohnsonSteve           5\n",
       "5  MitchellMichael           6\n",
       "6       KingRobert           7\n",
       "7    CallahanLaura           8"
      ],
      "text/html": "<div>\n<style scoped>\n    .dataframe tbody tr th:only-of-type {\n        vertical-align: middle;\n    }\n\n    .dataframe tbody tr th {\n        vertical-align: top;\n    }\n\n    .dataframe thead th {\n        text-align: right;\n    }\n</style>\n<table border=\"1\" class=\"dataframe\">\n  <thead>\n    <tr style=\"text-align: right;\">\n      <th></th>\n      <th>FullName</th>\n      <th>EmployeeId</th>\n    </tr>\n  </thead>\n  <tbody>\n    <tr>\n      <th>0</th>\n      <td>AdamsAndrew</td>\n      <td>1</td>\n    </tr>\n    <tr>\n      <th>1</th>\n      <td>EdwardsNancy</td>\n      <td>2</td>\n    </tr>\n    <tr>\n      <th>2</th>\n      <td>PeacockJane</td>\n      <td>3</td>\n    </tr>\n    <tr>\n      <th>3</th>\n      <td>ParkMargaret</td>\n      <td>4</td>\n    </tr>\n    <tr>\n      <th>4</th>\n      <td>JohnsonSteve</td>\n      <td>5</td>\n    </tr>\n    <tr>\n      <th>5</th>\n      <td>MitchellMichael</td>\n      <td>6</td>\n    </tr>\n    <tr>\n      <th>6</th>\n      <td>KingRobert</td>\n      <td>7</td>\n    </tr>\n    <tr>\n      <th>7</th>\n      <td>CallahanLaura</td>\n      <td>8</td>\n    </tr>\n  </tbody>\n</table>\n</div>"
     },
     "metadata": {},
     "execution_count": 45
    }
   ],
   "source": [
    "query = \"\"\"\n",
    "SELECT LastName||\"\"||FirstName as FullName, EmployeeId\n",
    "FROM employees \n",
    "GROUP BY EmployeeId\n",
    "\"\"\"\n",
    "\n",
    "pd.read_sql_query(query, connection)"
   ]
  },
  {
   "source": [
    "### 9.\t¿Quién ha sido el agente de ventas que más ha vendido en 2009?"
   ],
   "cell_type": "markdown",
   "metadata": {}
  },
  {
   "cell_type": "code",
   "execution_count": 49,
   "metadata": {},
   "outputs": [
    {
     "output_type": "execute_result",
     "data": {
      "text/plain": [
       "       FullName   Sales\n",
       "0  JohnsonSteve  164.34"
      ],
      "text/html": "<div>\n<style scoped>\n    .dataframe tbody tr th:only-of-type {\n        vertical-align: middle;\n    }\n\n    .dataframe tbody tr th {\n        vertical-align: top;\n    }\n\n    .dataframe thead th {\n        text-align: right;\n    }\n</style>\n<table border=\"1\" class=\"dataframe\">\n  <thead>\n    <tr style=\"text-align: right;\">\n      <th></th>\n      <th>FullName</th>\n      <th>Sales</th>\n    </tr>\n  </thead>\n  <tbody>\n    <tr>\n      <th>0</th>\n      <td>JohnsonSteve</td>\n      <td>164.34</td>\n    </tr>\n  </tbody>\n</table>\n</div>"
     },
     "metadata": {},
     "execution_count": 49
    }
   ],
   "source": [
    "query = \"\"\"\n",
    "SELECT e.LastName||\"\"||e.FirstName as FullName, SUM(Total) as \"Sales\"\n",
    "FROM employees e \n",
    "JOIN customers c ON e.EmployeeId = c.SupportRepId\n",
    "JOIN invoices i ON c.CustomerId = i.CustomerId \n",
    "\n",
    "WHERE i.InvoiceDate LIKE \"2009%\"\n",
    "GROUP BY e.EmployeeId\n",
    "ORDER BY Sales DESC\n",
    "LIMIT 1\n",
    "\"\"\"\n",
    "pd.read_sql_query(query, connection)"
   ]
  },
  {
   "source": [
    "### 10.\t¿Cuáles son los 3 grupos que más han vendido?"
   ],
   "cell_type": "markdown",
   "metadata": {}
  },
  {
   "cell_type": "code",
   "execution_count": 55,
   "metadata": {},
   "outputs": [
    {
     "output_type": "execute_result",
     "data": {
      "text/plain": [
       "       Composer  Sales\n",
       "0          None    596\n",
       "1  Steve Harris     58\n",
       "2            U2     33"
      ],
      "text/html": "<div>\n<style scoped>\n    .dataframe tbody tr th:only-of-type {\n        vertical-align: middle;\n    }\n\n    .dataframe tbody tr th {\n        vertical-align: top;\n    }\n\n    .dataframe thead th {\n        text-align: right;\n    }\n</style>\n<table border=\"1\" class=\"dataframe\">\n  <thead>\n    <tr style=\"text-align: right;\">\n      <th></th>\n      <th>Composer</th>\n      <th>Sales</th>\n    </tr>\n  </thead>\n  <tbody>\n    <tr>\n      <th>0</th>\n      <td>None</td>\n      <td>596</td>\n    </tr>\n    <tr>\n      <th>1</th>\n      <td>Steve Harris</td>\n      <td>58</td>\n    </tr>\n    <tr>\n      <th>2</th>\n      <td>U2</td>\n      <td>33</td>\n    </tr>\n  </tbody>\n</table>\n</div>"
     },
     "metadata": {},
     "execution_count": 55
    }
   ],
   "source": [
    "query = \"\"\"\n",
    "SELECT t.Composer, SUM(Quantity) as \"Sales\"\n",
    "FROM tracks t \n",
    "JOIN invoice_items it ON t.TrackId = it.TrackId\n",
    "\n",
    "GROUP BY t.Composer\n",
    "ORDER BY Sales DESC\n",
    "LIMIT 3\n",
    "\"\"\"\n",
    "pd.read_sql_query(query, connection)"
   ]
  },
  {
   "cell_type": "code",
   "execution_count": 53,
   "metadata": {},
   "outputs": [
    {
     "output_type": "execute_result",
     "data": {
      "text/plain": [
       "                                               Composer\n",
       "0             Angus Young, Malcolm Young, Brian Johnson\n",
       "1                                                  None\n",
       "2     F. Baltes, S. Kaufman, U. Dirkscneider & W. Ho...\n",
       "3     F. Baltes, R.A. Smith-Diesel, S. Kaufman, U. D...\n",
       "4                            Deaffy & R.A. Smith-Diesel\n",
       "...                                                 ...\n",
       "3498                                               None\n",
       "3499                                     Franz Schubert\n",
       "3500                                 Claudio Monteverdi\n",
       "3501                            Wolfgang Amadeus Mozart\n",
       "3502                                       Philip Glass\n",
       "\n",
       "[3503 rows x 1 columns]"
      ],
      "text/html": "<div>\n<style scoped>\n    .dataframe tbody tr th:only-of-type {\n        vertical-align: middle;\n    }\n\n    .dataframe tbody tr th {\n        vertical-align: top;\n    }\n\n    .dataframe thead th {\n        text-align: right;\n    }\n</style>\n<table border=\"1\" class=\"dataframe\">\n  <thead>\n    <tr style=\"text-align: right;\">\n      <th></th>\n      <th>Composer</th>\n    </tr>\n  </thead>\n  <tbody>\n    <tr>\n      <th>0</th>\n      <td>Angus Young, Malcolm Young, Brian Johnson</td>\n    </tr>\n    <tr>\n      <th>1</th>\n      <td>None</td>\n    </tr>\n    <tr>\n      <th>2</th>\n      <td>F. Baltes, S. Kaufman, U. Dirkscneider &amp; W. Ho...</td>\n    </tr>\n    <tr>\n      <th>3</th>\n      <td>F. Baltes, R.A. Smith-Diesel, S. Kaufman, U. D...</td>\n    </tr>\n    <tr>\n      <th>4</th>\n      <td>Deaffy &amp; R.A. Smith-Diesel</td>\n    </tr>\n    <tr>\n      <th>...</th>\n      <td>...</td>\n    </tr>\n    <tr>\n      <th>3498</th>\n      <td>None</td>\n    </tr>\n    <tr>\n      <th>3499</th>\n      <td>Franz Schubert</td>\n    </tr>\n    <tr>\n      <th>3500</th>\n      <td>Claudio Monteverdi</td>\n    </tr>\n    <tr>\n      <th>3501</th>\n      <td>Wolfgang Amadeus Mozart</td>\n    </tr>\n    <tr>\n      <th>3502</th>\n      <td>Philip Glass</td>\n    </tr>\n  </tbody>\n</table>\n<p>3503 rows × 1 columns</p>\n</div>"
     },
     "metadata": {},
     "execution_count": 53
    }
   ],
   "source": [
    "query = \"\"\"\n",
    "SELECT t.Composer\n",
    "FROM tracks t \n",
    "\n",
    "\"\"\"\n",
    "pd.read_sql_query(query, connection)"
   ]
  },
  {
   "source": [
    "### 11. Muestra cuántas canciones de Rock hay en cada playlist"
   ],
   "cell_type": "markdown",
   "metadata": {}
  },
  {
   "cell_type": "code",
   "execution_count": 72,
   "metadata": {},
   "outputs": [
    {
     "output_type": "execute_result",
     "data": {
      "text/plain": [
       "   Name                 Name  COUNT(t.Name)\n",
       "0  Rock                Music           1297\n",
       "1  Rock           90’s Music            621\n",
       "2  Rock                Music           1297\n",
       "3  Rock               Grunge             14\n",
       "4  Rock  Heavy Metal Classic              9"
      ],
      "text/html": "<div>\n<style scoped>\n    .dataframe tbody tr th:only-of-type {\n        vertical-align: middle;\n    }\n\n    .dataframe tbody tr th {\n        vertical-align: top;\n    }\n\n    .dataframe thead th {\n        text-align: right;\n    }\n</style>\n<table border=\"1\" class=\"dataframe\">\n  <thead>\n    <tr style=\"text-align: right;\">\n      <th></th>\n      <th>Name</th>\n      <th>Name</th>\n      <th>COUNT(t.Name)</th>\n    </tr>\n  </thead>\n  <tbody>\n    <tr>\n      <th>0</th>\n      <td>Rock</td>\n      <td>Music</td>\n      <td>1297</td>\n    </tr>\n    <tr>\n      <th>1</th>\n      <td>Rock</td>\n      <td>90’s Music</td>\n      <td>621</td>\n    </tr>\n    <tr>\n      <th>2</th>\n      <td>Rock</td>\n      <td>Music</td>\n      <td>1297</td>\n    </tr>\n    <tr>\n      <th>3</th>\n      <td>Rock</td>\n      <td>Grunge</td>\n      <td>14</td>\n    </tr>\n    <tr>\n      <th>4</th>\n      <td>Rock</td>\n      <td>Heavy Metal Classic</td>\n      <td>9</td>\n    </tr>\n  </tbody>\n</table>\n</div>"
     },
     "metadata": {},
     "execution_count": 72
    }
   ],
   "source": [
    "query = \"\"\"\n",
    "SELECT g.Name,p.Name,COUNT(t.Name)\n",
    "FROM genres g\n",
    "JOIN tracks t ON g.GenreId = t.GenreId\n",
    "JOIN playlist_track pt ON t.TrackId = pt.TrackId\n",
    "JOIN playlists p ON pt.PlaylistId = p.PlaylistId\n",
    "WHERE g.Name = \"Rock\"\n",
    "GROUP BY p.PlaylistId\n",
    "\n",
    "\"\"\"\n",
    "pd.read_sql_query(query, connection)"
   ]
  },
  {
   "source": [
    "### 12. Muestra una tabla con todas canciones y su(s) Id de factura, hayan sido vendidas alguna vez o no."
   ],
   "cell_type": "markdown",
   "metadata": {}
  },
  {
   "cell_type": "code",
   "execution_count": 75,
   "metadata": {},
   "outputs": [
    {
     "output_type": "execute_result",
     "data": {
      "text/plain": [
       "                                                   song  InvoiceId\n",
       "0               For Those About To Rock (We Salute You)      108.0\n",
       "1                                     Balls to the Wall        1.0\n",
       "2                                     Balls to the Wall      214.0\n",
       "3                                       Fast As a Shark      319.0\n",
       "4                                     Restless and Wild        1.0\n",
       "...                                                 ...        ...\n",
       "3754  String Quartet No. 12 in C Minor, D. 703 \"Quar...      108.0\n",
       "3755  String Quartet No. 12 in C Minor, D. 703 \"Quar...      319.0\n",
       "3756               L'orfeo, Act 3, Sinfonia (Orchestra)        NaN\n",
       "3757  Quintet for Horn, Violin, 2 Violas, and Cello ...        NaN\n",
       "3758                                      Koyaanisqatsi        NaN\n",
       "\n",
       "[3759 rows x 2 columns]"
      ],
      "text/html": "<div>\n<style scoped>\n    .dataframe tbody tr th:only-of-type {\n        vertical-align: middle;\n    }\n\n    .dataframe tbody tr th {\n        vertical-align: top;\n    }\n\n    .dataframe thead th {\n        text-align: right;\n    }\n</style>\n<table border=\"1\" class=\"dataframe\">\n  <thead>\n    <tr style=\"text-align: right;\">\n      <th></th>\n      <th>song</th>\n      <th>InvoiceId</th>\n    </tr>\n  </thead>\n  <tbody>\n    <tr>\n      <th>0</th>\n      <td>For Those About To Rock (We Salute You)</td>\n      <td>108.0</td>\n    </tr>\n    <tr>\n      <th>1</th>\n      <td>Balls to the Wall</td>\n      <td>1.0</td>\n    </tr>\n    <tr>\n      <th>2</th>\n      <td>Balls to the Wall</td>\n      <td>214.0</td>\n    </tr>\n    <tr>\n      <th>3</th>\n      <td>Fast As a Shark</td>\n      <td>319.0</td>\n    </tr>\n    <tr>\n      <th>4</th>\n      <td>Restless and Wild</td>\n      <td>1.0</td>\n    </tr>\n    <tr>\n      <th>...</th>\n      <td>...</td>\n      <td>...</td>\n    </tr>\n    <tr>\n      <th>3754</th>\n      <td>String Quartet No. 12 in C Minor, D. 703 \"Quar...</td>\n      <td>108.0</td>\n    </tr>\n    <tr>\n      <th>3755</th>\n      <td>String Quartet No. 12 in C Minor, D. 703 \"Quar...</td>\n      <td>319.0</td>\n    </tr>\n    <tr>\n      <th>3756</th>\n      <td>L'orfeo, Act 3, Sinfonia (Orchestra)</td>\n      <td>NaN</td>\n    </tr>\n    <tr>\n      <th>3757</th>\n      <td>Quintet for Horn, Violin, 2 Violas, and Cello ...</td>\n      <td>NaN</td>\n    </tr>\n    <tr>\n      <th>3758</th>\n      <td>Koyaanisqatsi</td>\n      <td>NaN</td>\n    </tr>\n  </tbody>\n</table>\n<p>3759 rows × 2 columns</p>\n</div>"
     },
     "metadata": {},
     "execution_count": 75
    }
   ],
   "source": [
    "query = \"\"\"\n",
    "SELECT t.Name as \"song\", it.InvoiceId \n",
    "FROM tracks t\n",
    "LEFT JOIN invoice_items it ON t.TrackId = it.TrackId\n",
    "\n",
    "\"\"\"\n",
    "pd.read_sql_query(query, connection)"
   ]
  },
  {
   "source": [
    "### 13. ¿Cuántos artistas no tienen ningún album?"
   ],
   "cell_type": "markdown",
   "metadata": {}
  },
  {
   "cell_type": "code",
   "execution_count": 74,
   "metadata": {},
   "outputs": [
    {
     "output_type": "execute_result",
     "data": {
      "text/plain": [
       "   Artists without Album\n",
       "0                     71"
      ],
      "text/html": "<div>\n<style scoped>\n    .dataframe tbody tr th:only-of-type {\n        vertical-align: middle;\n    }\n\n    .dataframe tbody tr th {\n        vertical-align: top;\n    }\n\n    .dataframe thead th {\n        text-align: right;\n    }\n</style>\n<table border=\"1\" class=\"dataframe\">\n  <thead>\n    <tr style=\"text-align: right;\">\n      <th></th>\n      <th>Artists without Album</th>\n    </tr>\n  </thead>\n  <tbody>\n    <tr>\n      <th>0</th>\n      <td>71</td>\n    </tr>\n  </tbody>\n</table>\n</div>"
     },
     "metadata": {},
     "execution_count": 74
    }
   ],
   "source": [
    "query = \"\"\"\n",
    "SELECT COUNT(*) \"Artists without Album\"\n",
    "FROM artists a\n",
    "LEFT JOIN albums b ON a.ArtistId = b.ArtistId\n",
    "WHERE Title IS NULL\n",
    "\"\"\"\n",
    "# con NULL no podemos ponerlo con =, ponemos IS, si fuese otro valor, se puede poner con =\n",
    "pd.read_sql_query(query, connection)"
   ]
  },
  {
   "cell_type": "code",
   "execution_count": null,
   "metadata": {},
   "outputs": [],
   "source": []
  }
 ]
}