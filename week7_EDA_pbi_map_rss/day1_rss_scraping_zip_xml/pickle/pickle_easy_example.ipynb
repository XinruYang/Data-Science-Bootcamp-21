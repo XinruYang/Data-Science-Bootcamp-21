{
 "metadata": {
  "language_info": {
   "codemirror_mode": {
    "name": "ipython",
    "version": 3
   },
   "file_extension": ".py",
   "mimetype": "text/x-python",
   "name": "python",
   "nbconvert_exporter": "python",
   "pygments_lexer": "ipython3",
   "version": "3.7.4"
  },
  "orig_nbformat": 2,
  "kernelspec": {
   "name": "python374jvsc74a57bd0fc2c00f0e2c44cb4028bd693f18a1b5d93d1de4cd12db71fca36ff691a163044",
   "display_name": "Python 3.7.4 64-bit"
  },
  "metadata": {
   "interpreter": {
    "hash": "fc2c00f0e2c44cb4028bd693f18a1b5d93d1de4cd12db71fca36ff691a163044"
   }
  }
 },
 "nbformat": 4,
 "nbformat_minor": 2,
 "cells": [
  {
   "source": [
    "!pip3 install pickle"
   ],
   "cell_type": "code",
   "metadata": {},
   "execution_count": null,
   "outputs": []
  },
  {
   "cell_type": "code",
   "execution_count": 1,
   "metadata": {},
   "outputs": [
    {
     "output_type": "execute_result",
     "data": {
      "text/plain": [
       "array([[0.42196153, 0.47119955, 0.82791165, 0.91954061, 0.91688967,\n",
       "        0.45078791, 0.78457239, 0.48580404, 0.59604994, 0.62888733,\n",
       "        0.70305971, 0.08018528, 0.65332872, 0.42016179, 0.5497526 ,\n",
       "        0.89451933, 0.97600153, 0.34793206, 0.67942292, 0.51155595,\n",
       "        0.42555986, 0.16226014, 0.26609241, 0.2467104 , 0.38304187,\n",
       "        0.37286389, 0.85734315, 0.32802454, 0.77430842, 0.03698228,\n",
       "        0.36177822, 0.06593757, 0.76140833, 0.58218484, 0.70529775,\n",
       "        0.07923362, 0.44305415, 0.37200132, 0.82517823, 0.28273757,\n",
       "        0.96268617, 0.85371445, 0.44658249, 0.51450628, 0.86438324,\n",
       "        0.12756507, 0.9455662 , 0.36202053, 0.4883563 , 0.70865715,\n",
       "        0.01324843, 0.11169546, 0.59802213, 0.33731384, 0.8330754 ,\n",
       "        0.26583572, 0.66957646, 0.71248515, 0.44291703, 0.72589212]])"
      ]
     },
     "metadata": {},
     "execution_count": 1
    }
   ],
   "source": [
    "import pickle\n",
    "import numpy as np \n",
    "\n",
    "long_array = np.random.rand(1,60)\n",
    "long_array"
   ]
  },
  {
   "source": [
    "### Guardamos la variable en un fichero"
   ],
   "cell_type": "markdown",
   "metadata": {}
  },
  {
   "cell_type": "code",
   "execution_count": 6,
   "metadata": {},
   "outputs": [],
   "source": [
    "pickle.dump( long_array, open(\"long_array.pepita\", \"wb\" ))"
   ]
  },
  {
   "source": [
    "### Cargamos la variable a partir de un fichero"
   ],
   "cell_type": "markdown",
   "metadata": {}
  },
  {
   "cell_type": "code",
   "execution_count": 4,
   "metadata": {},
   "outputs": [
    {
     "output_type": "execute_result",
     "data": {
      "text/plain": [
       "array([[0.1568862 , 0.29415187, 0.82543136, 0.61948421, 0.67047468,\n",
       "        0.27294081, 0.03479161, 0.36855172, 0.922173  , 0.71733008,\n",
       "        0.07488525, 0.27827534, 0.63461545, 0.82391936, 0.13677972,\n",
       "        0.04159077, 0.40062557, 0.6413302 , 0.87319117, 0.81382776,\n",
       "        0.05635696, 0.58330692, 0.78050168, 0.16527468, 0.75574963,\n",
       "        0.65055388, 0.07384414, 0.72235283, 0.37958457, 0.04414547,\n",
       "        0.77532925, 0.97921744, 0.4378943 , 0.87835118, 0.80679294,\n",
       "        0.56327895, 0.15464994, 0.09801182, 0.59302378, 0.73731345,\n",
       "        0.14984317, 0.52169793, 0.82499471, 0.80667152, 0.77390005,\n",
       "        0.34945011, 0.60206001, 0.97854075, 0.0351598 , 0.13285276,\n",
       "        0.39394127, 0.66218134, 0.85545927, 0.38717323, 0.26826533,\n",
       "        0.2556096 , 0.90183481, 0.34747431, 0.01283061, 0.50610326]])"
      ]
     },
     "metadata": {},
     "execution_count": 4
    }
   ],
   "source": [
    "long_array_loaded = pickle.load(open(\"long_array.pepita\", \"rb\" ))\n",
    "long_array_loaded"
   ]
  },
  {
   "cell_type": "code",
   "execution_count": null,
   "metadata": {},
   "outputs": [],
   "source": []
  }
 ]
}