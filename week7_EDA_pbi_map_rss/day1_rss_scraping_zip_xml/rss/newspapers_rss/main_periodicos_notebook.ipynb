{
 "metadata": {
  "language_info": {
   "codemirror_mode": {
    "name": "ipython",
    "version": 3
   },
   "file_extension": ".py",
   "mimetype": "text/x-python",
   "name": "python",
   "nbconvert_exporter": "python",
   "pygments_lexer": "ipython3",
   "version": "3.7.4"
  },
  "orig_nbformat": 2,
  "kernelspec": {
   "name": "python374jvsc74a57bd0fc2c00f0e2c44cb4028bd693f18a1b5d93d1de4cd12db71fca36ff691a163044",
   "display_name": "Python 3.7.4 64-bit"
  },
  "metadata": {
   "interpreter": {
    "hash": "fc2c00f0e2c44cb4028bd693f18a1b5d93d1de4cd12db71fca36ff691a163044"
   }
  }
 },
 "nbformat": 4,
 "nbformat_minor": 2,
 "cells": [
  {
   "cell_type": "code",
   "execution_count": 1,
   "metadata": {},
   "outputs": [
    {
     "output_type": "stream",
     "name": "stdout",
     "text": [
      "company_df.shape: (1, 5)\n",
      "\n",
      " FINISH \n",
      "\n"
     ]
    },
    {
     "output_type": "execute_result",
     "data": {
      "text/plain": [
       "   Periodico   Empresa                                            Noticia  \\\n",
       "0  Expansion  gobierno  El Gobierno impulsa una segunda ola de cambios...   \n",
       "\n",
       "                     Fecha noticia  \\\n",
       "0  Tue, 25 May 2021 01:15:56 +0200   \n",
       "\n",
       "                                        Link Noticia  \n",
       "0  https://www.expansion.com/empresas/2021/05/24/...  "
      ],
      "text/html": "<div>\n<style scoped>\n    .dataframe tbody tr th:only-of-type {\n        vertical-align: middle;\n    }\n\n    .dataframe tbody tr th {\n        vertical-align: top;\n    }\n\n    .dataframe thead th {\n        text-align: right;\n    }\n</style>\n<table border=\"1\" class=\"dataframe\">\n  <thead>\n    <tr style=\"text-align: right;\">\n      <th></th>\n      <th>Periodico</th>\n      <th>Empresa</th>\n      <th>Noticia</th>\n      <th>Fecha noticia</th>\n      <th>Link Noticia</th>\n    </tr>\n  </thead>\n  <tbody>\n    <tr>\n      <th>0</th>\n      <td>Expansion</td>\n      <td>gobierno</td>\n      <td>El Gobierno impulsa una segunda ola de cambios...</td>\n      <td>Tue, 25 May 2021 01:15:56 +0200</td>\n      <td>https://www.expansion.com/empresas/2021/05/24/...</td>\n    </tr>\n  </tbody>\n</table>\n</div>"
     },
     "metadata": {},
     "execution_count": 1
    }
   ],
   "source": [
    "from urllib.request import urlopen\n",
    "from xml.etree.ElementTree import parse\n",
    "import pandas as pd\n",
    "import json \n",
    "company = 'gobierno'\n",
    "\n",
    "newspapers = {\n",
    "    'Expansion': 'https://e00-expansion.uecdn.es/rss/empresas.xml',\n",
    "    'El economista': 'https://www.eleconomista.es/rss/rss-empresas.php',\n",
    "    'Cinco dias': 'https://cincodias.elpais.com/seccion/rss/companias/',\n",
    "    'El confidencial': 'https://rss.elconfidencial.com/empresas/'\n",
    "}\n",
    "\n",
    "tot_data = {\n",
    "    'Periodico': [],\n",
    "    'Empresa': [],\n",
    "    'Noticia': [],\n",
    "    'Fecha noticia': [],\n",
    "    'Link Noticia': []\n",
    "}\n",
    "\n",
    "for i in newspapers:\n",
    "    url_str = newspapers[i]\n",
    "    var_url = urlopen(url_str)\n",
    "    xmldoc = parse(var_url)\n",
    "\n",
    "    for item in xmldoc.iterfind('channel/item'):\n",
    "\n",
    "        if company in item.findtext('title').lower():\n",
    "            tot_data['Periodico'].append(i)\n",
    "            tot_data['Empresa'].append(company)\n",
    "            tot_data['Noticia'].append(item.findtext('title'))\n",
    "            tot_data['Fecha noticia'].append(item.findtext('pubDate'))\n",
    "            tot_data['Link Noticia'].append(item.findtext('link'))\n",
    "\n",
    "company_df = pd.DataFrame(tot_data)\n",
    "print(\"company_df.shape:\", company_df.shape)\n",
    "company_df.to_excel('./company_data.xlsx')\n",
    "company_df.to_csv('./company_data.csv')\n",
    "company_df.to_json(\"company_data.json\")\n",
    "print(\"\\n FINISH \\n\")\n",
    "company_df"
   ]
  },
  {
   "cell_type": "code",
   "execution_count": null,
   "metadata": {},
   "outputs": [],
   "source": []
  }
 ]
}