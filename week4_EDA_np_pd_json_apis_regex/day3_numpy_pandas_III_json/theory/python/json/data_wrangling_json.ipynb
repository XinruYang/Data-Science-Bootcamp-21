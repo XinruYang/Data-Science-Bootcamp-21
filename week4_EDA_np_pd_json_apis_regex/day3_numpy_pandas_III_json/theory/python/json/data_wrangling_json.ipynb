{
 "cells": [
  {
   "source": [
    "### GOAL \n",
    "\n",
    "![](json_df_goal.png)\n",
    "\n",
    "To save it as a json file in local"
   ],
   "cell_type": "markdown",
   "metadata": {}
  },
  {
   "cell_type": "markdown",
   "metadata": {},
   "source": [
    "## Working on Jsons"
   ]
  },
  {
   "cell_type": "code",
   "execution_count": 4,
   "metadata": {},
   "outputs": [],
   "source": [
    "import requests # Traer el fichero de internet o acceder a algún lugar de internet\n",
    "import json # Trabajar con json\n",
    "import pandas as pd # Librería para data mining/data wrangling"
   ]
  },
  {
   "source": [
    "## 1. \n",
    "\n",
    "Read an online json  (not always needed). \n",
    "\n",
    "If it is a local json --> 'with open()'\n"
   ],
   "cell_type": "markdown",
   "metadata": {}
  },
  {
   "cell_type": "code",
   "execution_count": 5,
   "metadata": {
    "tags": []
   },
   "outputs": [
    {
     "output_type": "execute_result",
     "data": {
      "text/plain": [
       "{'squadName': 'Super Hero Squad',\n",
       " 'homeTown': 'Metro City',\n",
       " 'formed': 2016,\n",
       " 'secretBase': 'Super tower',\n",
       " 'active': True,\n",
       " 'members': [{'name': 'Molecule Man',\n",
       "   'age': 29,\n",
       "   'secretIdentity': 'Dan Jukes',\n",
       "   'powers': ['Radiation resistance', 'Turning tiny', 'Radiation blast']},\n",
       "  {'name': 'Madame Uppercut',\n",
       "   'age': 39,\n",
       "   'secretIdentity': 'Jane Wilson',\n",
       "   'powers': ['Million tonne punch',\n",
       "    'Damage resistance',\n",
       "    'Superhuman reflexes']},\n",
       "  {'name': 'Eternal Flame',\n",
       "   'age': 1000000,\n",
       "   'secretIdentity': 'Unknown',\n",
       "   'powers': ['Immortality',\n",
       "    'Heat Immunity',\n",
       "    'Inferno',\n",
       "    'Teleportation',\n",
       "    'Interdimensional travel']}]}"
      ]
     },
     "metadata": {},
     "execution_count": 5
    }
   ],
   "source": [
    "r = requests.get(url='https://mdn.github.io/learning-area/javascript/oojs/json/superheroes.json')\n",
    "\n",
    "json_readed = r.json()\n",
    "json_readed"
   ]
  },
  {
   "cell_type": "code",
   "execution_count": 39,
   "metadata": {
    "tags": []
   },
   "outputs": [
    {
     "output_type": "stream",
     "name": "stdout",
     "text": [
      "{'squadName': 'Super Hero Squad', 'homeTown': 'Metro City', 'formed': 2016, 'secretBase': 'Super tower', 'active': True, 'members': [{'name': 'Molecule Man', 'age': 29, 'secretIdentity': 'Dan Jukes', 'powers': ['Radiation resistance', 'Turning tiny', 'Radiation blast']}, {'name': 'Madame Uppercut', 'age': 39, 'secretIdentity': 'Jane Wilson', 'powers': ['Million tonne punch', 'Damage resistance', 'Superhuman reflexes']}, {'name': 'Eternal Flame', 'age': 1000000, 'secretIdentity': 'Unknown', 'powers': ['Immortality', 'Heat Immunity', 'Inferno', 'Teleportation', 'Interdimensional travel']}]}\n"
     ]
    }
   ],
   "source": [
    "print(json_readed)"
   ]
  },
  {
   "cell_type": "markdown",
   "metadata": {},
   "source": [
    "------------------"
   ]
  },
  {
   "cell_type": "markdown",
   "metadata": {},
   "source": [
    "## 2. \n",
    "\n",
    "Save json in a local file called \"data.json\""
   ]
  },
  {
   "cell_type": "code",
   "execution_count": 9,
   "metadata": {},
   "outputs": [],
   "source": [
    "with open('data.json', 'w+') as vr:\n",
    "    json.dump(json_readed, vr) # Con esto lo guardamos en la carpeta en la que estamos con el nombre de 'data.jason'"
   ]
  },
  {
   "cell_type": "markdown",
   "metadata": {},
   "source": [
    "------------------"
   ]
  },
  {
   "cell_type": "markdown",
   "metadata": {},
   "source": [
    "## 3. \n",
    "\n",
    "Save with indent"
   ]
  },
  {
   "cell_type": "code",
   "execution_count": 10,
   "metadata": {},
   "outputs": [],
   "source": [
    "with open('data_indented.json', 'w+') as outfile:\n",
    "    json.dump(json_readed, outfile, indent=4) # Lo guardamos de una forma más legible en nuestra carpeta"
   ]
  },
  {
   "cell_type": "markdown",
   "metadata": {},
   "source": [
    "------------------"
   ]
  },
  {
   "cell_type": "markdown",
   "metadata": {},
   "source": [
    "## 4.\n",
    "\n",
    "Read local json\n"
   ]
  },
  {
   "cell_type": "code",
   "execution_count": 11,
   "metadata": {
    "tags": []
   },
   "outputs": [
    {
     "output_type": "stream",
     "name": "stdout",
     "text": [
      "<class 'dict'>\n"
     ]
    },
    {
     "output_type": "execute_result",
     "data": {
      "text/plain": [
       "{'squadName': 'Super Hero Squad',\n",
       " 'homeTown': 'Metro City',\n",
       " 'formed': 2016,\n",
       " 'secretBase': 'Super tower',\n",
       " 'active': True,\n",
       " 'members': [{'name': 'Molecule Man',\n",
       "   'age': 29,\n",
       "   'secretIdentity': 'Dan Jukes',\n",
       "   'powers': ['Radiation resistance', 'Turning tiny', 'Radiation blast']},\n",
       "  {'name': 'Madame Uppercut',\n",
       "   'age': 39,\n",
       "   'secretIdentity': 'Jane Wilson',\n",
       "   'powers': ['Million tonne punch',\n",
       "    'Damage resistance',\n",
       "    'Superhuman reflexes']},\n",
       "  {'name': 'Eternal Flame',\n",
       "   'age': 1000000,\n",
       "   'secretIdentity': 'Unknown',\n",
       "   'powers': ['Immortality',\n",
       "    'Heat Immunity',\n",
       "    'Inferno',\n",
       "    'Teleportation',\n",
       "    'Interdimensional travel']}]}"
      ]
     },
     "metadata": {},
     "execution_count": 11
    }
   ],
   "source": [
    "with open('data_indented.json', 'r+') as outfile:\n",
    "    json_readed = json.load(outfile)\n",
    "print(type(json_readed))\n",
    "json_readed"
   ]
  },
  {
   "source": [
    "## 5. \n",
    "\n",
    "Transform to pandas DataFrame. Two ways:"
   ],
   "cell_type": "markdown",
   "metadata": {}
  },
  {
   "cell_type": "code",
   "execution_count": 12,
   "metadata": {},
   "outputs": [
    {
     "output_type": "execute_result",
     "data": {
      "text/plain": [
       "          squadName    homeTown  formed   secretBase  active  \\\n",
       "0  Super Hero Squad  Metro City    2016  Super tower    True   \n",
       "1  Super Hero Squad  Metro City    2016  Super tower    True   \n",
       "2  Super Hero Squad  Metro City    2016  Super tower    True   \n",
       "\n",
       "                                             members  \n",
       "0  {'name': 'Molecule Man', 'age': 29, 'secretIde...  \n",
       "1  {'name': 'Madame Uppercut', 'age': 39, 'secret...  \n",
       "2  {'name': 'Eternal Flame', 'age': 1000000, 'sec...  "
      ],
      "text/html": "<div>\n<style scoped>\n    .dataframe tbody tr th:only-of-type {\n        vertical-align: middle;\n    }\n\n    .dataframe tbody tr th {\n        vertical-align: top;\n    }\n\n    .dataframe thead th {\n        text-align: right;\n    }\n</style>\n<table border=\"1\" class=\"dataframe\">\n  <thead>\n    <tr style=\"text-align: right;\">\n      <th></th>\n      <th>squadName</th>\n      <th>homeTown</th>\n      <th>formed</th>\n      <th>secretBase</th>\n      <th>active</th>\n      <th>members</th>\n    </tr>\n  </thead>\n  <tbody>\n    <tr>\n      <th>0</th>\n      <td>Super Hero Squad</td>\n      <td>Metro City</td>\n      <td>2016</td>\n      <td>Super tower</td>\n      <td>True</td>\n      <td>{'name': 'Molecule Man', 'age': 29, 'secretIde...</td>\n    </tr>\n    <tr>\n      <th>1</th>\n      <td>Super Hero Squad</td>\n      <td>Metro City</td>\n      <td>2016</td>\n      <td>Super tower</td>\n      <td>True</td>\n      <td>{'name': 'Madame Uppercut', 'age': 39, 'secret...</td>\n    </tr>\n    <tr>\n      <th>2</th>\n      <td>Super Hero Squad</td>\n      <td>Metro City</td>\n      <td>2016</td>\n      <td>Super tower</td>\n      <td>True</td>\n      <td>{'name': 'Eternal Flame', 'age': 1000000, 'sec...</td>\n    </tr>\n  </tbody>\n</table>\n</div>"
     },
     "metadata": {},
     "execution_count": 12
    }
   ],
   "source": [
    "df = pd.DataFrame(json_readed)  # From dict\n",
    "df"
   ]
  },
  {
   "cell_type": "code",
   "execution_count": 13,
   "metadata": {},
   "outputs": [
    {
     "output_type": "execute_result",
     "data": {
      "text/plain": [
       "          squadName    homeTown  formed   secretBase  active  \\\n",
       "0  Super Hero Squad  Metro City    2016  Super tower    True   \n",
       "1  Super Hero Squad  Metro City    2016  Super tower    True   \n",
       "2  Super Hero Squad  Metro City    2016  Super tower    True   \n",
       "\n",
       "                                             members  \n",
       "0  {'name': 'Molecule Man', 'age': 29, 'secretIde...  \n",
       "1  {'name': 'Madame Uppercut', 'age': 39, 'secret...  \n",
       "2  {'name': 'Eternal Flame', 'age': 1000000, 'sec...  "
      ],
      "text/html": "<div>\n<style scoped>\n    .dataframe tbody tr th:only-of-type {\n        vertical-align: middle;\n    }\n\n    .dataframe tbody tr th {\n        vertical-align: top;\n    }\n\n    .dataframe thead th {\n        text-align: right;\n    }\n</style>\n<table border=\"1\" class=\"dataframe\">\n  <thead>\n    <tr style=\"text-align: right;\">\n      <th></th>\n      <th>squadName</th>\n      <th>homeTown</th>\n      <th>formed</th>\n      <th>secretBase</th>\n      <th>active</th>\n      <th>members</th>\n    </tr>\n  </thead>\n  <tbody>\n    <tr>\n      <th>0</th>\n      <td>Super Hero Squad</td>\n      <td>Metro City</td>\n      <td>2016</td>\n      <td>Super tower</td>\n      <td>True</td>\n      <td>{'name': 'Molecule Man', 'age': 29, 'secretIde...</td>\n    </tr>\n    <tr>\n      <th>1</th>\n      <td>Super Hero Squad</td>\n      <td>Metro City</td>\n      <td>2016</td>\n      <td>Super tower</td>\n      <td>True</td>\n      <td>{'name': 'Madame Uppercut', 'age': 39, 'secret...</td>\n    </tr>\n    <tr>\n      <th>2</th>\n      <td>Super Hero Squad</td>\n      <td>Metro City</td>\n      <td>2016</td>\n      <td>Super tower</td>\n      <td>True</td>\n      <td>{'name': 'Eternal Flame', 'age': 1000000, 'sec...</td>\n    </tr>\n  </tbody>\n</table>\n</div>"
     },
     "metadata": {},
     "execution_count": 13
    }
   ],
   "source": [
    "df_json = pd.read_json(\"data_indented.json\")\n",
    "df_json"
   ]
  },
  {
   "cell_type": "markdown",
   "metadata": {},
   "source": [
    "------------------"
   ]
  },
  {
   "cell_type": "markdown",
   "metadata": {},
   "source": [
    "## 6.\n",
    "\n",
    "### Data Mining & Data Wrangling\n",
    "As you can see, there are jsons inside the original json. For that, we have to modify the data to be able to use it correctly (data wrangling). \n",
    "\n",
    "How do you solve this issue? Research about this and try a solution. "
   ]
  },
  {
   "cell_type": "code",
   "execution_count": 14,
   "metadata": {},
   "outputs": [
    {
     "output_type": "execute_result",
     "data": {
      "text/plain": [
       "list"
      ]
     },
     "metadata": {},
     "execution_count": 14
    }
   ],
   "source": [
    "type(json_readed[\"members\"])"
   ]
  },
  {
   "cell_type": "code",
   "execution_count": 15,
   "metadata": {},
   "outputs": [
    {
     "output_type": "execute_result",
     "data": {
      "text/plain": [
       "pandas.core.series.Series"
      ]
     },
     "metadata": {},
     "execution_count": 15
    }
   ],
   "source": [
    "# Accedemos a la columna member del data frame\n",
    "type(df_json[\"members\"])"
   ]
  },
  {
   "cell_type": "code",
   "execution_count": 16,
   "metadata": {},
   "outputs": [
    {
     "output_type": "execute_result",
     "data": {
      "text/plain": [
       "              name      age secretIdentity  \\\n",
       "0     Molecule Man       29      Dan Jukes   \n",
       "1  Madame Uppercut       39    Jane Wilson   \n",
       "2    Eternal Flame  1000000        Unknown   \n",
       "\n",
       "                                              powers  \n",
       "0  [Radiation resistance, Turning tiny, Radiation...  \n",
       "1  [Million tonne punch, Damage resistance, Super...  \n",
       "2  [Immortality, Heat Immunity, Inferno, Teleport...  "
      ],
      "text/html": "<div>\n<style scoped>\n    .dataframe tbody tr th:only-of-type {\n        vertical-align: middle;\n    }\n\n    .dataframe tbody tr th {\n        vertical-align: top;\n    }\n\n    .dataframe thead th {\n        text-align: right;\n    }\n</style>\n<table border=\"1\" class=\"dataframe\">\n  <thead>\n    <tr style=\"text-align: right;\">\n      <th></th>\n      <th>name</th>\n      <th>age</th>\n      <th>secretIdentity</th>\n      <th>powers</th>\n    </tr>\n  </thead>\n  <tbody>\n    <tr>\n      <th>0</th>\n      <td>Molecule Man</td>\n      <td>29</td>\n      <td>Dan Jukes</td>\n      <td>[Radiation resistance, Turning tiny, Radiation...</td>\n    </tr>\n    <tr>\n      <th>1</th>\n      <td>Madame Uppercut</td>\n      <td>39</td>\n      <td>Jane Wilson</td>\n      <td>[Million tonne punch, Damage resistance, Super...</td>\n    </tr>\n    <tr>\n      <th>2</th>\n      <td>Eternal Flame</td>\n      <td>1000000</td>\n      <td>Unknown</td>\n      <td>[Immortality, Heat Immunity, Inferno, Teleport...</td>\n    </tr>\n  </tbody>\n</table>\n</div>"
     },
     "metadata": {},
     "execution_count": 16
    }
   ],
   "source": [
    "df_members_json = pd.DataFrame(json_readed[\"members\"])\n",
    "df_members_json"
   ]
  },
  {
   "cell_type": "markdown",
   "metadata": {},
   "source": [
    "--------------------------------------"
   ]
  },
  {
   "cell_type": "markdown",
   "metadata": {},
   "source": [
    "**Concatenamos por columnas los dataframes**"
   ]
  },
  {
   "cell_type": "code",
   "execution_count": 20,
   "metadata": {},
   "outputs": [
    {
     "output_type": "execute_result",
     "data": {
      "text/plain": [
       "          squadName    homeTown  formed   secretBase  active  \\\n",
       "0  Super Hero Squad  Metro City    2016  Super tower    True   \n",
       "1  Super Hero Squad  Metro City    2016  Super tower    True   \n",
       "2  Super Hero Squad  Metro City    2016  Super tower    True   \n",
       "\n",
       "                                             members             name  \\\n",
       "0  {'name': 'Molecule Man', 'age': 29, 'secretIde...     Molecule Man   \n",
       "1  {'name': 'Madame Uppercut', 'age': 39, 'secret...  Madame Uppercut   \n",
       "2  {'name': 'Eternal Flame', 'age': 1000000, 'sec...    Eternal Flame   \n",
       "\n",
       "       age secretIdentity                                             powers  \n",
       "0       29      Dan Jukes  [Radiation resistance, Turning tiny, Radiation...  \n",
       "1       39    Jane Wilson  [Million tonne punch, Damage resistance, Super...  \n",
       "2  1000000        Unknown  [Immortality, Heat Immunity, Inferno, Teleport...  "
      ],
      "text/html": "<div>\n<style scoped>\n    .dataframe tbody tr th:only-of-type {\n        vertical-align: middle;\n    }\n\n    .dataframe tbody tr th {\n        vertical-align: top;\n    }\n\n    .dataframe thead th {\n        text-align: right;\n    }\n</style>\n<table border=\"1\" class=\"dataframe\">\n  <thead>\n    <tr style=\"text-align: right;\">\n      <th></th>\n      <th>squadName</th>\n      <th>homeTown</th>\n      <th>formed</th>\n      <th>secretBase</th>\n      <th>active</th>\n      <th>members</th>\n      <th>name</th>\n      <th>age</th>\n      <th>secretIdentity</th>\n      <th>powers</th>\n    </tr>\n  </thead>\n  <tbody>\n    <tr>\n      <th>0</th>\n      <td>Super Hero Squad</td>\n      <td>Metro City</td>\n      <td>2016</td>\n      <td>Super tower</td>\n      <td>True</td>\n      <td>{'name': 'Molecule Man', 'age': 29, 'secretIde...</td>\n      <td>Molecule Man</td>\n      <td>29</td>\n      <td>Dan Jukes</td>\n      <td>[Radiation resistance, Turning tiny, Radiation...</td>\n    </tr>\n    <tr>\n      <th>1</th>\n      <td>Super Hero Squad</td>\n      <td>Metro City</td>\n      <td>2016</td>\n      <td>Super tower</td>\n      <td>True</td>\n      <td>{'name': 'Madame Uppercut', 'age': 39, 'secret...</td>\n      <td>Madame Uppercut</td>\n      <td>39</td>\n      <td>Jane Wilson</td>\n      <td>[Million tonne punch, Damage resistance, Super...</td>\n    </tr>\n    <tr>\n      <th>2</th>\n      <td>Super Hero Squad</td>\n      <td>Metro City</td>\n      <td>2016</td>\n      <td>Super tower</td>\n      <td>True</td>\n      <td>{'name': 'Eternal Flame', 'age': 1000000, 'sec...</td>\n      <td>Eternal Flame</td>\n      <td>1000000</td>\n      <td>Unknown</td>\n      <td>[Immortality, Heat Immunity, Inferno, Teleport...</td>\n    </tr>\n  </tbody>\n</table>\n</div>"
     },
     "metadata": {},
     "execution_count": 20
    }
   ],
   "source": [
    "final_df = pd.concat([df_json, df_members_json], axis=1)\n",
    "final_df"
   ]
  },
  {
   "source": [
    "#### Borramos la columna members"
   ],
   "cell_type": "markdown",
   "metadata": {}
  },
  {
   "cell_type": "code",
   "execution_count": 21,
   "metadata": {},
   "outputs": [
    {
     "output_type": "execute_result",
     "data": {
      "text/plain": [
       "          squadName    homeTown  formed   secretBase  active             name  \\\n",
       "0  Super Hero Squad  Metro City    2016  Super tower    True     Molecule Man   \n",
       "1  Super Hero Squad  Metro City    2016  Super tower    True  Madame Uppercut   \n",
       "2  Super Hero Squad  Metro City    2016  Super tower    True    Eternal Flame   \n",
       "\n",
       "       age secretIdentity                                             powers  \n",
       "0       29      Dan Jukes  [Radiation resistance, Turning tiny, Radiation...  \n",
       "1       39    Jane Wilson  [Million tonne punch, Damage resistance, Super...  \n",
       "2  1000000        Unknown  [Immortality, Heat Immunity, Inferno, Teleport...  "
      ],
      "text/html": "<div>\n<style scoped>\n    .dataframe tbody tr th:only-of-type {\n        vertical-align: middle;\n    }\n\n    .dataframe tbody tr th {\n        vertical-align: top;\n    }\n\n    .dataframe thead th {\n        text-align: right;\n    }\n</style>\n<table border=\"1\" class=\"dataframe\">\n  <thead>\n    <tr style=\"text-align: right;\">\n      <th></th>\n      <th>squadName</th>\n      <th>homeTown</th>\n      <th>formed</th>\n      <th>secretBase</th>\n      <th>active</th>\n      <th>name</th>\n      <th>age</th>\n      <th>secretIdentity</th>\n      <th>powers</th>\n    </tr>\n  </thead>\n  <tbody>\n    <tr>\n      <th>0</th>\n      <td>Super Hero Squad</td>\n      <td>Metro City</td>\n      <td>2016</td>\n      <td>Super tower</td>\n      <td>True</td>\n      <td>Molecule Man</td>\n      <td>29</td>\n      <td>Dan Jukes</td>\n      <td>[Radiation resistance, Turning tiny, Radiation...</td>\n    </tr>\n    <tr>\n      <th>1</th>\n      <td>Super Hero Squad</td>\n      <td>Metro City</td>\n      <td>2016</td>\n      <td>Super tower</td>\n      <td>True</td>\n      <td>Madame Uppercut</td>\n      <td>39</td>\n      <td>Jane Wilson</td>\n      <td>[Million tonne punch, Damage resistance, Super...</td>\n    </tr>\n    <tr>\n      <th>2</th>\n      <td>Super Hero Squad</td>\n      <td>Metro City</td>\n      <td>2016</td>\n      <td>Super tower</td>\n      <td>True</td>\n      <td>Eternal Flame</td>\n      <td>1000000</td>\n      <td>Unknown</td>\n      <td>[Immortality, Heat Immunity, Inferno, Teleport...</td>\n    </tr>\n  </tbody>\n</table>\n</div>"
     },
     "metadata": {},
     "execution_count": 21
    }
   ],
   "source": [
    "final_df = final_df.drop([\"members\"], axis=1)\n",
    "final_df"
   ]
  },
  {
   "source": [
    "--------------------\n",
    "\n",
    "# EXTRA\n",
    "\n",
    "--------------------\n"
   ],
   "cell_type": "markdown",
   "metadata": {}
  },
  {
   "cell_type": "code",
   "execution_count": 22,
   "metadata": {},
   "outputs": [],
   "source": [
    "# Para guardar en un archivo local\n",
    "final_df.to_json(\"json_name.json\")"
   ]
  },
  {
   "source": [
    "Nota:\n",
    "\n",
    "1. Con dumps, cargamos el contenido de un diccionario a formato string\n",
    "2. Con loads, cargamos el contenido de un string a formato json formal."
   ],
   "cell_type": "markdown",
   "metadata": {}
  },
  {
   "source": [
    "https://pandas.pydata.org/docs/reference/api/pandas.DataFrame.to_json.html"
   ],
   "cell_type": "markdown",
   "metadata": {}
  },
  {
   "cell_type": "code",
   "execution_count": 23,
   "metadata": {},
   "outputs": [],
   "source": [
    "# Para guardar en un archivo local con indentación\n",
    "import json\n",
    "json_result = final_df.to_json(orient=\"records\") # Primero lo paso a json\n",
    "parsed = json.loads(json_result)\n",
    "with open(\"final_json.json\", 'w+') as outfile:\n",
    "    json.dump(parsed, outfile, indent=4)"
   ]
  },
  {
   "cell_type": "code",
   "execution_count": 26,
   "metadata": {},
   "outputs": [
    {
     "output_type": "execute_result",
     "data": {
      "text/plain": [
       "          squadName    homeTown  formed   secretBase  active             name  \\\n",
       "0  Super Hero Squad  Metro City    2016  Super tower    True     Molecule Man   \n",
       "1  Super Hero Squad  Metro City    2016  Super tower    True  Madame Uppercut   \n",
       "2  Super Hero Squad  Metro City    2016  Super tower    True    Eternal Flame   \n",
       "\n",
       "       age secretIdentity                                             powers  \n",
       "0       29      Dan Jukes  [Radiation resistance, Turning tiny, Radiation...  \n",
       "1       39    Jane Wilson  [Million tonne punch, Damage resistance, Super...  \n",
       "2  1000000        Unknown  [Immortality, Heat Immunity, Inferno, Teleport...  "
      ],
      "text/html": "<div>\n<style scoped>\n    .dataframe tbody tr th:only-of-type {\n        vertical-align: middle;\n    }\n\n    .dataframe tbody tr th {\n        vertical-align: top;\n    }\n\n    .dataframe thead th {\n        text-align: right;\n    }\n</style>\n<table border=\"1\" class=\"dataframe\">\n  <thead>\n    <tr style=\"text-align: right;\">\n      <th></th>\n      <th>squadName</th>\n      <th>homeTown</th>\n      <th>formed</th>\n      <th>secretBase</th>\n      <th>active</th>\n      <th>name</th>\n      <th>age</th>\n      <th>secretIdentity</th>\n      <th>powers</th>\n    </tr>\n  </thead>\n  <tbody>\n    <tr>\n      <th>0</th>\n      <td>Super Hero Squad</td>\n      <td>Metro City</td>\n      <td>2016</td>\n      <td>Super tower</td>\n      <td>True</td>\n      <td>Molecule Man</td>\n      <td>29</td>\n      <td>Dan Jukes</td>\n      <td>[Radiation resistance, Turning tiny, Radiation...</td>\n    </tr>\n    <tr>\n      <th>1</th>\n      <td>Super Hero Squad</td>\n      <td>Metro City</td>\n      <td>2016</td>\n      <td>Super tower</td>\n      <td>True</td>\n      <td>Madame Uppercut</td>\n      <td>39</td>\n      <td>Jane Wilson</td>\n      <td>[Million tonne punch, Damage resistance, Super...</td>\n    </tr>\n    <tr>\n      <th>2</th>\n      <td>Super Hero Squad</td>\n      <td>Metro City</td>\n      <td>2016</td>\n      <td>Super tower</td>\n      <td>True</td>\n      <td>Eternal Flame</td>\n      <td>1000000</td>\n      <td>Unknown</td>\n      <td>[Immortality, Heat Immunity, Inferno, Teleport...</td>\n    </tr>\n  </tbody>\n</table>\n</div>"
     },
     "metadata": {},
     "execution_count": 26
    }
   ],
   "source": [
    "df_f = pd.read_json(\"final_json.json\")\n",
    "df_f"
   ]
  },
  {
   "cell_type": "code",
   "execution_count": 27,
   "metadata": {},
   "outputs": [],
   "source": [
    "df_f.to_csv(\"datos_finales.csv\")"
   ]
  },
  {
   "cell_type": "code",
   "execution_count": 28,
   "metadata": {},
   "outputs": [
    {
     "output_type": "error",
     "ename": "ModuleNotFoundError",
     "evalue": "No module named 'openpyxl'",
     "traceback": [
      "\u001b[1;31m---------------------------------------------------------------------------\u001b[0m",
      "\u001b[1;31mModuleNotFoundError\u001b[0m                       Traceback (most recent call last)",
      "\u001b[1;32m<ipython-input-28-7d0021c64777>\u001b[0m in \u001b[0;36m<module>\u001b[1;34m\u001b[0m\n\u001b[1;32m----> 1\u001b[1;33m \u001b[0mdf_f\u001b[0m\u001b[1;33m.\u001b[0m\u001b[0mto_excel\u001b[0m\u001b[1;33m(\u001b[0m\u001b[1;34m\"datos_finales.xlsx\"\u001b[0m\u001b[1;33m)\u001b[0m\u001b[1;33m\u001b[0m\u001b[1;33m\u001b[0m\u001b[0m\n\u001b[0m",
      "\u001b[1;32m~\\AppData\\Local\\Programs\\Python\\Python37\\lib\\site-packages\\pandas\\core\\generic.py\u001b[0m in \u001b[0;36mto_excel\u001b[1;34m(self, excel_writer, sheet_name, na_rep, float_format, columns, header, index, index_label, startrow, startcol, engine, merge_cells, encoding, inf_rep, verbose, freeze_panes, storage_options)\u001b[0m\n\u001b[0;32m   2194\u001b[0m             \u001b[0mfreeze_panes\u001b[0m\u001b[1;33m=\u001b[0m\u001b[0mfreeze_panes\u001b[0m\u001b[1;33m,\u001b[0m\u001b[1;33m\u001b[0m\u001b[1;33m\u001b[0m\u001b[0m\n\u001b[0;32m   2195\u001b[0m             \u001b[0mengine\u001b[0m\u001b[1;33m=\u001b[0m\u001b[0mengine\u001b[0m\u001b[1;33m,\u001b[0m\u001b[1;33m\u001b[0m\u001b[1;33m\u001b[0m\u001b[0m\n\u001b[1;32m-> 2196\u001b[1;33m             \u001b[0mstorage_options\u001b[0m\u001b[1;33m=\u001b[0m\u001b[0mstorage_options\u001b[0m\u001b[1;33m,\u001b[0m\u001b[1;33m\u001b[0m\u001b[1;33m\u001b[0m\u001b[0m\n\u001b[0m\u001b[0;32m   2197\u001b[0m         )\n\u001b[0;32m   2198\u001b[0m \u001b[1;33m\u001b[0m\u001b[0m\n",
      "\u001b[1;32m~\\AppData\\Local\\Programs\\Python\\Python37\\lib\\site-packages\\pandas\\io\\formats\\excel.py\u001b[0m in \u001b[0;36mwrite\u001b[1;34m(self, writer, sheet_name, startrow, startcol, freeze_panes, engine, storage_options)\u001b[0m\n\u001b[0;32m    814\u001b[0m             \u001b[1;31m# 'save', 'supported_extensions' and 'write_cells'  [abstract]\u001b[0m\u001b[1;33m\u001b[0m\u001b[1;33m\u001b[0m\u001b[1;33m\u001b[0m\u001b[0m\n\u001b[0;32m    815\u001b[0m             writer = ExcelWriter(  # type: ignore[abstract]\n\u001b[1;32m--> 816\u001b[1;33m                 \u001b[0mwriter\u001b[0m\u001b[1;33m,\u001b[0m \u001b[0mengine\u001b[0m\u001b[1;33m=\u001b[0m\u001b[0mengine\u001b[0m\u001b[1;33m,\u001b[0m \u001b[0mstorage_options\u001b[0m\u001b[1;33m=\u001b[0m\u001b[0mstorage_options\u001b[0m\u001b[1;33m\u001b[0m\u001b[1;33m\u001b[0m\u001b[0m\n\u001b[0m\u001b[0;32m    817\u001b[0m             )\n\u001b[0;32m    818\u001b[0m             \u001b[0mneed_save\u001b[0m \u001b[1;33m=\u001b[0m \u001b[1;32mTrue\u001b[0m\u001b[1;33m\u001b[0m\u001b[1;33m\u001b[0m\u001b[0m\n",
      "\u001b[1;32m~\\AppData\\Local\\Programs\\Python\\Python37\\lib\\site-packages\\pandas\\io\\excel\\_openpyxl.py\u001b[0m in \u001b[0;36m__init__\u001b[1;34m(self, path, engine, mode, storage_options, **engine_kwargs)\u001b[0m\n\u001b[0;32m     28\u001b[0m     ):\n\u001b[0;32m     29\u001b[0m         \u001b[1;31m# Use the openpyxl module as the Excel writer.\u001b[0m\u001b[1;33m\u001b[0m\u001b[1;33m\u001b[0m\u001b[1;33m\u001b[0m\u001b[0m\n\u001b[1;32m---> 30\u001b[1;33m         \u001b[1;32mfrom\u001b[0m \u001b[0mopenpyxl\u001b[0m\u001b[1;33m.\u001b[0m\u001b[0mworkbook\u001b[0m \u001b[1;32mimport\u001b[0m \u001b[0mWorkbook\u001b[0m\u001b[1;33m\u001b[0m\u001b[1;33m\u001b[0m\u001b[0m\n\u001b[0m\u001b[0;32m     31\u001b[0m \u001b[1;33m\u001b[0m\u001b[0m\n\u001b[0;32m     32\u001b[0m         super().__init__(\n",
      "\u001b[1;31mModuleNotFoundError\u001b[0m: No module named 'openpyxl'"
     ]
    }
   ],
   "source": [
    "df_f.to_excel(\"datos_finales.xlsx\")"
   ]
  },
  {
   "cell_type": "code",
   "execution_count": null,
   "metadata": {},
   "outputs": [],
   "source": []
  }
 ],
 "metadata": {
  "language_info": {
   "name": "python",
   "codemirror_mode": {
    "name": "ipython",
    "version": 3
   },
   "version": "3.7.4"
  },
  "orig_nbformat": 2,
  "file_extension": ".py",
  "mimetype": "text/x-python",
  "name": "python",
  "npconvert_exporter": "python",
  "pygments_lexer": "ipython3",
  "version": 3,
  "kernelspec": {
   "name": "python374jvsc74a57bd0fc2c00f0e2c44cb4028bd693f18a1b5d93d1de4cd12db71fca36ff691a163044",
   "display_name": "Python 3.7.4 64-bit"
  },
  "metadata": {
   "interpreter": {
    "hash": "fc2c00f0e2c44cb4028bd693f18a1b5d93d1de4cd12db71fca36ff691a163044"
   }
  }
 },
 "nbformat": 4,
 "nbformat_minor": 2
}