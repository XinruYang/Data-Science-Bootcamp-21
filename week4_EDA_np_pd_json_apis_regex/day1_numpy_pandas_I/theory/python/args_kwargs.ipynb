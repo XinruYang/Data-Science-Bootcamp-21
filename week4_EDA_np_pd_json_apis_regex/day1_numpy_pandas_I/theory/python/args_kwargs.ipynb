{
 "cells": [
  {
   "cell_type": "markdown",
   "metadata": {},
   "source": [
    "Parámetros *args y *kwargs en Python"
   ]
  },
  {
   "source": [
    "## args"
   ],
   "cell_type": "markdown",
   "metadata": {}
  },
  {
   "cell_type": "code",
   "execution_count": null,
   "metadata": {},
   "outputs": [],
   "source": [
    "def nombre_f():\n",
    "    return 2"
   ]
  },
  {
   "cell_type": "code",
   "execution_count": null,
   "metadata": {},
   "outputs": [],
   "source": [
    "def nombre_f_1(arg1, arg2, arg3=5):\n",
    "    return arg3"
   ]
  },
  {
   "cell_type": "code",
   "execution_count": 1,
   "metadata": {},
   "outputs": [
    {
     "output_type": "stream",
     "name": "stdout",
     "text": [
      "<class 'tuple'>\n(2, ['g', 'h'], 9, 'j')\n"
     ]
    }
   ],
   "source": [
    "def nombre_args(*args): # el * significa que estamos haciendo al mismo tipo de objeto\n",
    "    print(type(args))\n",
    "    print(args)\n",
    "\n",
    "x = 2 \n",
    "y = [\"g\", \"h\"]\n",
    "\n",
    "nombre_args(x, y, 9, \"j\")"
   ]
  },
  {
   "cell_type": "code",
   "execution_count": 2,
   "metadata": {},
   "outputs": [
    {
     "output_type": "execute_result",
     "data": {
      "text/plain": [
       "22"
      ]
     },
     "metadata": {},
     "execution_count": 2
    }
   ],
   "source": [
    "t = (9, 6, 7)\n",
    "sum(t)"
   ]
  },
  {
   "cell_type": "code",
   "execution_count": 5,
   "metadata": {},
   "outputs": [
    {
     "output_type": "stream",
     "name": "stdout",
     "text": [
      "6804\n"
     ]
    }
   ],
   "source": [
    "def realiza_suma_numeros(*args): \n",
    "    print(sum(args))\n",
    "\n",
    "realiza_suma_numeros(7, 222, 9999, -3424)"
   ]
  },
  {
   "cell_type": "code",
   "execution_count": 7,
   "metadata": {},
   "outputs": [
    {
     "output_type": "stream",
     "name": "stdout",
     "text": [
      "x: 7\nargs (222, 9999, -4873)\n"
     ]
    }
   ],
   "source": [
    "def realiza_suma_numeros(x, *args): #Tengo x obligatorio y args que son opcionales\n",
    "    print(\"x:\", x)\n",
    "    print(\"args\",args)\n",
    "\n",
    "realiza_suma_numeros(7, 222, 9999, -4873) #Esta es la única forma de pasar los números"
   ]
  },
  {
   "cell_type": "code",
   "execution_count": 8,
   "metadata": {},
   "outputs": [
    {
     "output_type": "stream",
     "name": "stdout",
     "text": [
      "x: 7\nargs ()\n"
     ]
    }
   ],
   "source": [
    "realiza_suma_numeros(7)"
   ]
  },
  {
   "cell_type": "code",
   "execution_count": 9,
   "metadata": {},
   "outputs": [
    {
     "output_type": "error",
     "ename": "SyntaxError",
     "evalue": "positional argument follows keyword argument (<ipython-input-9-69e69c88c45e>, line 1)",
     "traceback": [
      "\u001b[1;36m  File \u001b[1;32m\"<ipython-input-9-69e69c88c45e>\"\u001b[1;36m, line \u001b[1;32m1\u001b[0m\n\u001b[1;33m    realiza_suma_numeros(x=2, 7, 4)\u001b[0m\n\u001b[1;37m                             ^\u001b[0m\n\u001b[1;31mSyntaxError\u001b[0m\u001b[1;31m:\u001b[0m positional argument follows keyword argument\n"
     ]
    }
   ],
   "source": [
    "realiza_suma_numeros(x=2, 7, 4) # No se puede hacer así porque si asigno una variable todos a la derecha tienen que tenerla "
   ]
  },
  {
   "cell_type": "code",
   "execution_count": null,
   "metadata": {},
   "outputs": [],
   "source": [
    "# Cuando utilizamos args no podemos asignar ningún nombre de variable\n",
    "# *args es una tupla de todos los valores que no estén asociados a ningún argumento"
   ]
  },
  {
   "cell_type": "code",
   "execution_count": null,
   "metadata": {},
   "outputs": [],
   "source": []
  },
  {
   "source": [
    "## kwargs"
   ],
   "cell_type": "markdown",
   "metadata": {}
  },
  {
   "cell_type": "code",
   "execution_count": 11,
   "metadata": {},
   "outputs": [
    {
     "output_type": "stream",
     "name": "stdout",
     "text": [
      "<class 'dict'>\n{'x': 2, 'y': 3}\n"
     ]
    }
   ],
   "source": [
    "def funcion_kwargs(**kwargs): # kwargs guarda un diccionario con las variables y los valores que se les asigna\n",
    "    print(type(kwargs))\n",
    "    print(kwargs)\n",
    "\n",
    "funcion_kwargs(x=2, y=3)"
   ]
  },
  {
   "cell_type": "code",
   "execution_count": 13,
   "metadata": {},
   "outputs": [
    {
     "output_type": "stream",
     "name": "stdout",
     "text": [
      "x: 2\n<class 'dict'>\n{'y': 3}\n"
     ]
    }
   ],
   "source": [
    "def funcion_kwargs(x, **kwargs):\n",
    "    print(\"x:\", x)\n",
    "    print(type(kwargs))\n",
    "    print(kwargs)\n",
    "\n",
    "funcion_kwargs(x=2, y=3)"
   ]
  },
  {
   "cell_type": "code",
   "execution_count": 16,
   "metadata": {},
   "outputs": [
    {
     "output_type": "stream",
     "name": "stdout",
     "text": [
      "x: 2\nb: 4\n<class 'dict'>\n{'y': 3, 's': [-8, -9]}\n"
     ]
    }
   ],
   "source": [
    "def funcion_kwargs(x, b=4, **kwargs):\n",
    "    print(\"x:\", x)\n",
    "    print(\"b:\", b)\n",
    "    print(type(kwargs))\n",
    "    print(kwargs)\n",
    "\n",
    "funcion_kwargs(x=2, y=3, s=[-8,-9])"
   ]
  },
  {
   "cell_type": "code",
   "execution_count": 17,
   "metadata": {},
   "outputs": [
    {
     "output_type": "stream",
     "name": "stdout",
     "text": [
      "x: 2\nb: 4\n<class 'dict'>\n{'y': 3, 's': [-8, -9]}\n"
     ]
    }
   ],
   "source": [
    "def funcion_kwargs(x, b=4, **kwargs):\n",
    "    print(\"x:\", x)\n",
    "    print(\"b:\", b)\n",
    "    print(type(kwargs))\n",
    "    print(kwargs)\n",
    "\n",
    "funcion_kwargs(y=3, s=[-8,-9], x=2)"
   ]
  },
  {
   "cell_type": "code",
   "execution_count": 18,
   "metadata": {},
   "outputs": [
    {
     "output_type": "stream",
     "name": "stdout",
     "text": [
      "x: 2\nb: -1\n<class 'dict'>\n{'y': 3, 's': [-8, -9]}\n"
     ]
    }
   ],
   "source": [
    "def funcion_kwargs(x, b=4, **kwargs):\n",
    "    print(\"x:\", x)\n",
    "    print(\"b:\", b)\n",
    "    print(type(kwargs))\n",
    "    print(kwargs)\n",
    "\n",
    "funcion_kwargs(2, -1, y=3, s=[-8,-9])"
   ]
  },
  {
   "cell_type": "code",
   "execution_count": null,
   "metadata": {},
   "outputs": [],
   "source": []
  },
  {
   "source": [
    "# *args & **kwargs"
   ],
   "cell_type": "markdown",
   "metadata": {}
  },
  {
   "cell_type": "code",
   "execution_count": 20,
   "metadata": {},
   "outputs": [
    {
     "output_type": "stream",
     "name": "stdout",
     "text": [
      "x: 1\nb: 4\n<class 'tuple'>\n*args: ()\n<class 'dict'>\n**kwargs: {}\n"
     ]
    }
   ],
   "source": [
    "# si se utilizan args y kwargs se pone primero *args y luego **kwargs \n",
    "def funcion_args_kwargs(x, b=4, *args, **kwargs):\n",
    "    print(\"x:\",x)\n",
    "    print(\"b:\", b)\n",
    "    print(type(args))\n",
    "    print(\"*args:\", args)\n",
    "    print(type(kwargs))\n",
    "    print(\"**kwargs:\", kwargs)\n",
    "\n",
    "funcion_args_kwargs(1)"
   ]
  },
  {
   "cell_type": "code",
   "execution_count": 22,
   "metadata": {},
   "outputs": [
    {
     "output_type": "stream",
     "name": "stdout",
     "text": [
      "x: 1\nb: 4\n<class 'tuple'>\n*args: ()\n<class 'dict'>\n**kwargs: {'k': 2}\n"
     ]
    }
   ],
   "source": [
    "funcion_args_kwargs(1, k=2)"
   ]
  },
  {
   "cell_type": "code",
   "execution_count": 23,
   "metadata": {},
   "outputs": [
    {
     "output_type": "stream",
     "name": "stdout",
     "text": [
      "x: 1\nb: 3\n<class 'tuple'>\n*args: (4, 5, 6)\n<class 'dict'>\n**kwargs: {'k': 2}\n"
     ]
    }
   ],
   "source": [
    "funcion_args_kwargs(1, 3, 4, 5, 6, k=2) #args no admite un nombre de varuable, kwargs sí "
   ]
  },
  {
   "cell_type": "code",
   "execution_count": 24,
   "metadata": {},
   "outputs": [
    {
     "output_type": "stream",
     "name": "stdout",
     "text": [
      "x: 1\nb: 4\n<class 'tuple'>\n*args: ()\n<class 'dict'>\n**kwargs: {'k': 2}\n"
     ]
    }
   ],
   "source": [
    "funcion_args_kwargs(1, k=2)"
   ]
  },
  {
   "cell_type": "code",
   "execution_count": 26,
   "metadata": {},
   "outputs": [
    {
     "output_type": "error",
     "ename": "TypeError",
     "evalue": "funcion_args_kwargs() got multiple values for argument 'b'",
     "traceback": [
      "\u001b[1;31m---------------------------------------------------------------------------\u001b[0m",
      "\u001b[1;31mTypeError\u001b[0m                                 Traceback (most recent call last)",
      "\u001b[1;32m<ipython-input-26-6b700c30d683>\u001b[0m in \u001b[0;36m<module>\u001b[1;34m\u001b[0m\n\u001b[1;32m----> 1\u001b[1;33m \u001b[0mfuncion_args_kwargs\u001b[0m\u001b[1;33m(\u001b[0m\u001b[1;36m1\u001b[0m\u001b[1;33m,\u001b[0m \u001b[1;36m3\u001b[0m\u001b[1;33m,\u001b[0m \u001b[0mk\u001b[0m\u001b[1;33m=\u001b[0m\u001b[1;36m2\u001b[0m\u001b[1;33m,\u001b[0m \u001b[0mb\u001b[0m\u001b[1;33m=\u001b[0m\u001b[1;36m5\u001b[0m\u001b[1;33m)\u001b[0m\u001b[1;33m\u001b[0m\u001b[1;33m\u001b[0m\u001b[0m\n\u001b[0m",
      "\u001b[1;31mTypeError\u001b[0m: funcion_args_kwargs() got multiple values for argument 'b'"
     ]
    }
   ],
   "source": [
    "funcion_args_kwargs(1, 3, k=2, b=5) #Estamos dando varios valores a la b"
   ]
  },
  {
   "cell_type": "code",
   "execution_count": 27,
   "metadata": {},
   "outputs": [
    {
     "output_type": "stream",
     "name": "stdout",
     "text": [
      "x: 1\nb: 5\n<class 'tuple'>\n*args: ()\n<class 'dict'>\n**kwargs: {'k': 2}\n"
     ]
    }
   ],
   "source": [
    "funcion_args_kwargs(1, k=2, b=5)"
   ]
  },
  {
   "cell_type": "code",
   "execution_count": 32,
   "metadata": {},
   "outputs": [
    {
     "output_type": "stream",
     "name": "stdout",
     "text": [
      "x: 1\nb: 2\n<class 'tuple'>\n*args: (3, 999, {5: 'po'})\n<class 'dict'>\n**kwargs: {'d': {5: 'po'}, 'j': 3}\n"
     ]
    }
   ],
   "source": [
    "def funcion_args_kwargs(x, b=4, *args, **kwargs):\n",
    "    print(\"x:\",x)\n",
    "    print(\"b:\", b)\n",
    "    print(type(args))\n",
    "    print(\"*args:\", args)\n",
    "    print(type(kwargs))\n",
    "    print(\"**kwargs:\", kwargs)\n",
    "\n",
    "d = {5: \"po\"}\n",
    "funcion_args_kwargs(1, 2, 3, 999, d, d=d, j=3)"
   ]
  },
  {
   "cell_type": "code",
   "execution_count": 35,
   "metadata": {},
   "outputs": [
    {
     "output_type": "stream",
     "name": "stdout",
     "text": [
      "x: 1\nb: 2\n<class 'tuple'>\n*args: (3, 999, {5: 'po'})\n<class 'dict'>\n**kwargs: {'d': {5: 'po'}, 'j': 3}\nkwargs['d'] {5: 'po'}\n"
     ]
    }
   ],
   "source": [
    "def funcion_args_kwargs(x, b=4, *args, **kwargs):\n",
    "    print(\"x:\",x)\n",
    "    print(\"b:\", b)\n",
    "    print(type(args))\n",
    "    print(\"*args:\", args)\n",
    "    print(type(kwargs))\n",
    "    print(\"**kwargs:\", kwargs)\n",
    "    print(\"kwargs['d']\", kwargs[\"d\"]) # para acceder a lo que hay dentro de la clave de un kwarg tengo que usar [\"clave\"]\n",
    "\n",
    "d = {5: \"po\"}\n",
    "funcion_args_kwargs(1, 2, 3, 999, d, d=d, j=3)"
   ]
  },
  {
   "cell_type": "code",
   "execution_count": null,
   "metadata": {},
   "outputs": [],
   "source": []
  },
  {
   "source": [
    "### Variable global"
   ],
   "cell_type": "markdown",
   "metadata": {}
  },
  {
   "cell_type": "code",
   "execution_count": 37,
   "metadata": {},
   "outputs": [
    {
     "output_type": "error",
     "ename": "SyntaxError",
     "evalue": "name 'x' is assigned to before global declaration (<ipython-input-37-c61dd6f7ea45>, line 8)",
     "traceback": [
      "\u001b[1;36m  File \u001b[1;32m\"<ipython-input-37-c61dd6f7ea45>\"\u001b[1;36m, line \u001b[1;32m8\u001b[0m\n\u001b[1;33m    funcion()\u001b[0m\n\u001b[1;37m             \n^\u001b[0m\n\u001b[1;31mSyntaxError\u001b[0m\u001b[1;31m:\u001b[0m name 'x' is assigned to before global declaration\n"
     ]
    }
   ],
   "source": [
    "x = 99 \n",
    "def funcion():\n",
    "    # variable global\n",
    "    x = 7\n",
    "    global x\n",
    "    x = 2\n",
    "\n",
    "funcion()\n",
    "print(x)"
   ]
  },
  {
   "cell_type": "code",
   "execution_count": 38,
   "metadata": {},
   "outputs": [
    {
     "output_type": "stream",
     "name": "stdout",
     "text": [
      "2\n"
     ]
    }
   ],
   "source": [
    "x = 99 \n",
    "def funcion():\n",
    "    # variable global\n",
    "    global x\n",
    "    x = 2\n",
    "\n",
    "funcion()\n",
    "print(x)"
   ]
  },
  {
   "cell_type": "code",
   "execution_count": 42,
   "metadata": {},
   "outputs": [
    {
     "output_type": "stream",
     "name": "stdout",
     "text": [
      "l1: [0, 1, 2, 'AS']\nx: 2\n"
     ]
    }
   ],
   "source": [
    "x = 99 \n",
    "l1 = [0, 1, 2]\n",
    "def funcion(lista):\n",
    "    # variable global\n",
    "    global x\n",
    "    x = 2\n",
    "    lista.append(\"AS\")\n",
    "\n",
    "funcion(lista=l1)\n",
    "print(\"l1:\", l1)\n",
    "print(\"x:\", x)"
   ]
  },
  {
   "cell_type": "code",
   "execution_count": 46,
   "metadata": {},
   "outputs": [
    {
     "output_type": "stream",
     "name": "stdout",
     "text": [
      "l1: [0, 1, 2, 'AS']\nx: 2\n"
     ]
    }
   ],
   "source": [
    "x = 99 \n",
    "l1 = [0, 1, 2]\n",
    "def funcion(lista):\n",
    "    # variable global\n",
    "    global x\n",
    "    x = 2\n",
    "    lista.append(\"AS\") # Si se modifica l1 porque lista es la variable\n",
    "\n",
    "funcion(lista=l1)\n",
    "print(\"l1:\", l1)\n",
    "print(\"x:\", x)"
   ]
  },
  {
   "cell_type": "code",
   "execution_count": 47,
   "metadata": {},
   "outputs": [
    {
     "output_type": "stream",
     "name": "stdout",
     "text": [
      "l1: [0, 1, 2, 'AS']\nx: 2\n"
     ]
    }
   ],
   "source": [
    "x = 99 \n",
    "l1 = [0, 1, 2]\n",
    "def funcion(lista):\n",
    "    # variable global\n",
    "    global x\n",
    "    x = 2\n",
    "    lista.append(\"AS\") # l1 no se modifica porque no tengo global l1\n",
    "    l1 = 3 # Esto python lo va a considerar una variable local\n",
    "\n",
    "funcion(lista=l1)\n",
    "print(\"l1:\", l1)\n",
    "print(\"x:\", x)"
   ]
  },
  {
   "cell_type": "code",
   "execution_count": null,
   "metadata": {},
   "outputs": [],
   "source": [
    "x = 99 \n",
    "l1 = [0, 1, 2]\n",
    "def funcion(lista):\n",
    "    # variable global\n",
    "    global x\n",
    "    global l1\n",
    "    x = 2\n",
    "    lista.append(\"AS\") #Estamos asignando un nuevo valor a l1\n",
    "    l1 = 3\n",
    "\n",
    "funcion(lista=l1)\n",
    "print(\"l1:\", l1)\n",
    "print(\"x:\", x)"
   ]
  },
  {
   "cell_type": "code",
   "execution_count": 48,
   "metadata": {},
   "outputs": [
    {
     "output_type": "stream",
     "name": "stdout",
     "text": [
      "l1: None\nx: 2\n"
     ]
    }
   ],
   "source": [
    "x = 99 \n",
    "l1 = [0, 1, 2]\n",
    "def funcion(lista):\n",
    "    # variable global\n",
    "    global x\n",
    "    global l1\n",
    "    x = 2\n",
    "    l1 = lista.append(\"AS\") # lo que está a la izquierda es igual a lo que retorna lo que está en la derecha\n",
    "    \n",
    "\n",
    "funcion(lista=l1)\n",
    "print(\"l1:\", l1)\n",
    "print(\"x:\", x)"
   ]
  },
  {
   "cell_type": "code",
   "execution_count": 52,
   "metadata": {},
   "outputs": [
    {
     "output_type": "error",
     "ename": "UnboundLocalError",
     "evalue": "local variable 'l1' referenced before assignment",
     "traceback": [
      "\u001b[1;31m---------------------------------------------------------------------------\u001b[0m",
      "\u001b[1;31mUnboundLocalError\u001b[0m                         Traceback (most recent call last)",
      "\u001b[1;32m<ipython-input-52-63207496db71>\u001b[0m in \u001b[0;36m<module>\u001b[1;34m\u001b[0m\n\u001b[0;32m     10\u001b[0m \u001b[1;33m\u001b[0m\u001b[0m\n\u001b[0;32m     11\u001b[0m \u001b[1;33m\u001b[0m\u001b[0m\n\u001b[1;32m---> 12\u001b[1;33m \u001b[0mfuncion\u001b[0m\u001b[1;33m(\u001b[0m\u001b[0mlista\u001b[0m\u001b[1;33m=\u001b[0m\u001b[0ml1\u001b[0m\u001b[1;33m)\u001b[0m\u001b[1;33m\u001b[0m\u001b[1;33m\u001b[0m\u001b[0m\n\u001b[0m\u001b[0;32m     13\u001b[0m \u001b[0mprint\u001b[0m\u001b[1;33m(\u001b[0m\u001b[1;34m\"l1:\"\u001b[0m\u001b[1;33m,\u001b[0m \u001b[0ml1\u001b[0m\u001b[1;33m)\u001b[0m\u001b[1;33m\u001b[0m\u001b[1;33m\u001b[0m\u001b[0m\n\u001b[0;32m     14\u001b[0m \u001b[0mprint\u001b[0m\u001b[1;33m(\u001b[0m\u001b[1;34m\"x:\"\u001b[0m\u001b[1;33m,\u001b[0m \u001b[0mx\u001b[0m\u001b[1;33m)\u001b[0m\u001b[1;33m\u001b[0m\u001b[1;33m\u001b[0m\u001b[0m\n",
      "\u001b[1;32m<ipython-input-52-63207496db71>\u001b[0m in \u001b[0;36mfuncion\u001b[1;34m(lista)\u001b[0m\n\u001b[0;32m      5\u001b[0m     \u001b[1;32mglobal\u001b[0m \u001b[0mx\u001b[0m\u001b[1;33m\u001b[0m\u001b[1;33m\u001b[0m\u001b[0m\n\u001b[0;32m      6\u001b[0m     \u001b[0mx\u001b[0m \u001b[1;33m=\u001b[0m \u001b[1;36m2\u001b[0m\u001b[1;33m\u001b[0m\u001b[1;33m\u001b[0m\u001b[0m\n\u001b[1;32m----> 7\u001b[1;33m     \u001b[0mprint\u001b[0m\u001b[1;33m(\u001b[0m\u001b[1;34m\"l1 dentro de funcion 1:\"\u001b[0m\u001b[1;33m,\u001b[0m \u001b[0ml1\u001b[0m\u001b[1;33m)\u001b[0m\u001b[1;33m\u001b[0m\u001b[1;33m\u001b[0m\u001b[0m\n\u001b[0m\u001b[0;32m      8\u001b[0m     \u001b[0ml1\u001b[0m \u001b[1;33m=\u001b[0m \u001b[0mlista\u001b[0m\u001b[1;33m.\u001b[0m\u001b[0mappend\u001b[0m\u001b[1;33m(\u001b[0m\u001b[1;34m\"AS\"\u001b[0m\u001b[1;33m)\u001b[0m \u001b[1;31m# l1 va a tener AS porque estoy utilizando lista que está dentro\u001b[0m\u001b[1;33m\u001b[0m\u001b[1;33m\u001b[0m\u001b[0m\n\u001b[0;32m      9\u001b[0m     \u001b[0mprint\u001b[0m\u001b[1;33m(\u001b[0m\u001b[1;34m\"l1 dentro de funcion 1:\"\u001b[0m\u001b[1;33m,\u001b[0m \u001b[0ml1\u001b[0m\u001b[1;33m)\u001b[0m\u001b[1;33m\u001b[0m\u001b[1;33m\u001b[0m\u001b[0m\n",
      "\u001b[1;31mUnboundLocalError\u001b[0m: local variable 'l1' referenced before assignment"
     ]
    }
   ],
   "source": [
    "x = 99 \n",
    "l1 = [0, 1, 2]\n",
    "def funcion(lista):\n",
    "    # variable global\n",
    "    global x\n",
    "    x = 2\n",
    "    print(\"l1 dentro de funcion 1:\", l1)\n",
    "    l1 = lista.append(\"AS\") # l1 va a tener AS porque estoy utilizando lista que está dentro\n",
    "    print(\"l1 dentro de funcion 1:\", l1)\n",
    "    \n",
    "\n",
    "funcion(lista=l1)\n",
    "print(\"l1:\", l1)\n",
    "print(\"x:\", x)"
   ]
  },
  {
   "cell_type": "code",
   "execution_count": 53,
   "metadata": {},
   "outputs": [
    {
     "output_type": "stream",
     "name": "stdout",
     "text": [
      "l1 dentro de funcion 1: None\nl1: [0, 1, 2, 'AS']\nx: 2\n"
     ]
    }
   ],
   "source": [
    "x = 99 \n",
    "l1 = [0, 1, 2]\n",
    "def funcion(lista):\n",
    "    # variable global\n",
    "    global x\n",
    "    x = 2\n",
    "\n",
    "    l1 = lista.append(\"AS\") # l1 va a tener AS porque estoy utilizando lista que está dentro\n",
    "    # Append puede modificar la lista de fuera, estamos añadiendo \"AS\"\n",
    "    print(\"l1 dentro de funcion 1:\", l1)\n",
    "    \n",
    "\n",
    "funcion(lista=l1)\n",
    "print(\"l1:\", l1)\n",
    "print(\"x:\", x)"
   ]
  },
  {
   "cell_type": "code",
   "execution_count": 54,
   "metadata": {},
   "outputs": [
    {
     "output_type": "stream",
     "name": "stdout",
     "text": [
      "l1 dentro de funcion 1: None\nl1: None\nx: 2\n"
     ]
    }
   ],
   "source": [
    "x = 99 \n",
    "l1 = [0, 1, 2]\n",
    "def funcion(lista):\n",
    "    # variable global\n",
    "    global x,l1\n",
    "    x = 2\n",
    "\n",
    "    l1 = lista.append(\"AS\") # Aquí estamos modiciando el valor de l1 con el valor que está devolviendo append (return), que es None\n",
    "    print(\"l1 dentro de funcion 1:\", l1)\n",
    "    \n",
    "\n",
    "funcion(lista=l1)\n",
    "print(\"l1:\", l1)\n",
    "print(\"x:\", x)"
   ]
  },
  {
   "cell_type": "code",
   "execution_count": 55,
   "metadata": {},
   "outputs": [
    {
     "output_type": "stream",
     "name": "stdout",
     "text": [
      "l1 dentro de funcion 1: [0, 1, 2, 'AS']\nlista dentro de funcion 1: [0, 1, 2, 'AS']\nl1 dentro de funcion 2: None\nlista dentro de funcion 2: [0, 1, 2, 'AS', 'AS']\nl1: None\nx: 2\n"
     ]
    }
   ],
   "source": [
    "x = 99 \n",
    "l1 = [0, 1, 2]\n",
    "def funcion(lista):\n",
    "    # variable global\n",
    "    global x,l1\n",
    "    x = 2\n",
    "\n",
    "    lista.append(\"AS\") \n",
    "    print(\"l1 dentro de funcion 1:\", l1)\n",
    "    print(\"lista dentro de funcion 1:\", lista)\n",
    "    l1 = lista.append(\"AS\")\n",
    "    print(\"l1 dentro de funcion 2:\", l1) #Estoy modificando la variable l1 por lo que retorna lista.append, pero en ningún momento estoy modificando lo que tiene lista\n",
    "    print(\"lista dentro de funcion 2:\", lista)\n",
    "    \n",
    "\n",
    "funcion(lista=l1)\n",
    "print(\"l1:\", l1)\n",
    "print(\"x:\", x)"
   ]
  },
  {
   "cell_type": "code",
   "execution_count": 57,
   "metadata": {},
   "outputs": [
    {
     "output_type": "stream",
     "name": "stdout",
     "text": [
      "l1 dentro de funcion 2: None\nlista dentro de funcion 2: [0, 1, 2, 'AS', 'AS']\nl1: [0, 1, 2, 'AS', 'AS']\nx: 2\n"
     ]
    }
   ],
   "source": [
    "# Podemos cambiar variables fuera de la funcion sin utilizar la palabra global mediante el return\n",
    "\n",
    "x = 99 \n",
    "l1 = [0, 1, 2]\n",
    "def funcion(lista):\n",
    "    x = 2\n",
    "    lista.append(\"AS\") \n",
    "    l1 = lista.append(\"AS\")\n",
    "    print(\"l1 dentro de funcion 2:\", l1) \n",
    "    print(\"lista dentro de funcion 2:\", lista)\n",
    "    return x \n",
    "\n",
    "x = funcion(lista=l1)\n",
    "print(\"l1 final:\", l1)\n",
    "print(\"x:\", x)"
   ]
  },
  {
   "cell_type": "code",
   "execution_count": null,
   "metadata": {},
   "outputs": [],
   "source": []
  }
 ],
 "metadata": {
  "language_info": {
   "name": "python",
   "codemirror_mode": {
    "name": "ipython",
    "version": 3
   },
   "version": "3.7.4"
  },
  "orig_nbformat": 2,
  "file_extension": ".py",
  "mimetype": "text/x-python",
  "name": "python",
  "npconvert_exporter": "python",
  "pygments_lexer": "ipython3",
  "version": 3,
  "kernelspec": {
   "name": "python374jvsc74a57bd0fc2c00f0e2c44cb4028bd693f18a1b5d93d1de4cd12db71fca36ff691a163044",
   "display_name": "Python 3.7.4 64-bit"
  },
  "metadata": {
   "interpreter": {
    "hash": "fc2c00f0e2c44cb4028bd693f18a1b5d93d1de4cd12db71fca36ff691a163044"
   }
  }
 },
 "nbformat": 4,
 "nbformat_minor": 2
}