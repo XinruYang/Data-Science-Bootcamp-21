{
 "metadata": {
  "language_info": {
   "codemirror_mode": {
    "name": "ipython",
    "version": 3
   },
   "file_extension": ".py",
   "mimetype": "text/x-python",
   "name": "python",
   "nbconvert_exporter": "python",
   "pygments_lexer": "ipython3",
   "version": "3.7.4"
  },
  "orig_nbformat": 2,
  "kernelspec": {
   "name": "python374jvsc74a57bd0fc2c00f0e2c44cb4028bd693f18a1b5d93d1de4cd12db71fca36ff691a163044",
   "display_name": "Python 3.7.4 64-bit"
  },
  "metadata": {
   "interpreter": {
    "hash": "fc2c00f0e2c44cb4028bd693f18a1b5d93d1de4cd12db71fca36ff691a163044"
   }
  }
 },
 "nbformat": 4,
 "nbformat_minor": 2,
 "cells": [
  {
   "cell_type": "markdown",
   "metadata": {},
   "source": [
    "## API con "
   ]
  },
  {
   "cell_type": "markdown",
   "metadata": {},
   "source": [
    "_El maravilloso mundo de las_ **APIs**\n",
    "### o EL RETORNO DE JSON\n"
   ]
  },
  {
   "cell_type": "markdown",
   "metadata": {},
   "source": [
    "Listado de **APIs** for free: \n",
    "https://github.com/public-apis/public-apis"
   ]
  },
  {
   "cell_type": "code",
   "execution_count": 1,
   "metadata": {},
   "outputs": [],
   "source": [
    "import json\n",
    "import requests"
   ]
  },
  {
   "cell_type": "code",
   "execution_count": 2,
   "metadata": {},
   "outputs": [],
   "source": [
    "json_fullpath = \"settings_passwords.json\"\n",
    "# settings.json estará en el .gitignore  "
   ]
  },
  {
   "cell_type": "code",
   "execution_count": 3,
   "metadata": {},
   "outputs": [
    {
     "output_type": "stream",
     "name": "stdout",
     "text": [
      "\n"
     ]
    }
   ],
   "source": [
    "with open(json_fullpath, \"r+\") as outfile:\n",
    "    json_readed = json.load(outfile)\n",
    "json_readed\n",
    "print()"
   ]
  },
  {
   "cell_type": "markdown",
   "metadata": {},
   "source": [
    "**DOCUMENTACIÓN DE LA API**\n",
    "\n",
    "\n",
    "--> https://developer.foursquare.com/docs/places-api/ <--\n",
    "\n",
    "** Cómo crear una cuenta de desarrollo **\n",
    "\n",
    "--> https://developer.foursquare.com/docs/places-api/getting-started/ <--\n",
    "\n",
    "** Diferentes Endpoints **\n",
    "\n",
    "--> https://developer.foursquare.com/docs/places-api/endpoints/ <--"
   ]
  },
  {
   "source": [
    "### Objetivo: \n",
    "\n",
    "#### Descubrir los restaurantes que están cerca de The Bridge a través de la API de foursquare"
   ],
   "cell_type": "markdown",
   "metadata": {}
  },
  {
   "cell_type": "code",
   "execution_count": 4,
   "metadata": {},
   "outputs": [],
   "source": [
    "url = 'https://api.foursquare.com/v2/venues/explore'\n",
    "\n",
    "# más códigos de categorías\n",
    "# https://developer.foursquare.com/docs/build-with-foursquare/categories/\n",
    "\n",
    "# irish pub\n",
    "irish_rest = \"52e81612bcbc57f1066b7a06\"\n",
    "\n",
    "# para sacar las coordenadas podrías usar una API pero también...\n",
    "# https://www.123coordenadas.com/coordinates/\n",
    "\n",
    "lat = 40.4226767\n",
    "lon = -3.6922754"
   ]
  },
  {
   "cell_type": "code",
   "execution_count": 5,
   "metadata": {},
   "outputs": [],
   "source": [
    "# Lo importante, todas las APIs con  tienen una forma de acceder a ellas. La información pertinente a cada una de ellas viene (o debería venir) en su documentación\n",
    "\n",
    "params = {\"client_id\": json_readed[\"CLIENT\"],\n",
    "  \"client_secret\": json_readed[\"API_KEY\"],\n",
    "  \"v\":\"20180323\",\n",
    "  \"ll\": f'{lat},{lon}',\n",
    "  \"section\": \"food\",\n",
    "  # options --> food, drinks, coffee, shops, arts, outdoors, sights, trending\n",
    "  \"limit\":100\n",
    "}  "
   ]
  },
  {
   "cell_type": "code",
   "execution_count": 6,
   "metadata": {},
   "outputs": [
    {
     "output_type": "execute_result",
     "data": {
      "text/plain": [
       "{'client_id': 'KZWZYG43Q4LLZQ2RS5JNN1Q3YRCYEZHMKH0ILOZNNBNPM25Y',\n",
       " 'client_secret': 'CBUQ5B10L4CNHGLXXM2TUV0AVH341ADAJ3DWTZSUJB0NAD5M',\n",
       " 'v': '20180323',\n",
       " 'll': '40.4226767,-3.6922754',\n",
       " 'section': 'food',\n",
       " 'limit': 100}"
      ]
     },
     "metadata": {},
     "execution_count": 6
    }
   ],
   "source": [
    "params"
   ]
  },
  {
   "cell_type": "code",
   "execution_count": 7,
   "metadata": {},
   "outputs": [],
   "source": [
    "resp = requests.get(url=url, params=params)\n",
    "data = json.loads(resp.text)"
   ]
  },
  {
   "cell_type": "code",
   "execution_count": 8,
   "metadata": {},
   "outputs": [
    {
     "output_type": "execute_result",
     "data": {
      "text/plain": [
       "gories_v2/food/gastropub_',\n",
       "          'suffix': '.png'},\n",
       "         'primary': True}],\n",
       "       'verified': True,\n",
       "       'stats': {'tipCount': 0,\n",
       "        'usersCount': 0,\n",
       "        'checkinsCount': 0,\n",
       "        'visitsCount': 0},\n",
       "       'beenHere': {'count': 0,\n",
       "        'lastCheckinExpiredAt': 0,\n",
       "        'marked': False,\n",
       "        'unconfirmedCount': 0},\n",
       "       'photos': {'count': 0, 'groups': []},\n",
       "       'venuePage': {'id': '405854341'},\n",
       "       'hereNow': {'count': 0, 'summary': 'Nobody here', 'groups': []}},\n",
       "      'referralId': 'e-3-4e8dad502c5b1c1d2121d657-86'},\n",
       "     {'reasons': {'count': 0,\n",
       "       'items': [{'summary': 'This spot is popular',\n",
       "         'type': 'general',\n",
       "         'reasonName': 'globalInteractionReason'}]},\n",
       "      'venue': {'id': '538ce5df498eb2165bface85',\n",
       "       'name': 'Yakitoro',\n",
       "       'contact': {},\n",
       "       'location': {'address': 'C. de la Reina, 41',\n",
       "        'lat': 40.419647701387746,\n",
       "        'lng': -3.697201837743589,\n",
       "        'labeledLatLngs': [{'label': 'display',\n",
       "          'lat': 40.419647701387746,\n",
       "          'lng': -3.697201837743589}],\n",
       "        'distance': 536,\n",
       "        'postalCode': '28001',\n",
       "        'cc': 'ES',\n",
       "        'city': 'Madrid',\n",
       "        'state': 'Madrid',\n",
       "        'country': 'España',\n",
       "        'formattedAddress': ['C. de la Reina, 41',\n",
       "         '28001 Madrid Madrid',\n",
       "         'España']},\n",
       "       'categories': [{'id': '4bf58dd8d48988d111941735',\n",
       "         'name': 'Japanese Restaurant',\n",
       "         'pluralName': 'Japanese Restaurants',\n",
       "         'shortName': 'Japanese',\n",
       "         'icon': {'prefix': 'https://ss3.4sqi.net/img/categories_v2/food/japanese_',\n",
       "          'suffix': '.png'},\n",
       "         'primary': True}],\n",
       "       'verified': False,\n",
       "       'stats': {'tipCount': 0,\n",
       "        'usersCount': 0,\n",
       "        'checkinsCount': 0,\n",
       "        'visitsCount': 0},\n",
       "       'beenHere': {'count': 0,\n",
       "        'lastCheckinExpiredAt': 0,\n",
       "        'marked': False,\n",
       "        'unconfirmedCount': 0},\n",
       "       'photos': {'count': 0, 'groups': []},\n",
       "       'hereNow': {'count': 0, 'summary': 'Nobody here', 'groups': []}},\n",
       "      'referralId': 'e-3-538ce5df498eb2165bface85-87'},\n",
       "     {'reasons': {'count': 0,\n",
       "       'items': [{'summary': 'This spot is popular',\n",
       "         'type': 'general',\n",
       "         'reasonName': 'globalInteractionReason'}]},\n",
       "      'venue': {'id': '5650e689498e59806e43a30f',\n",
       "       'name': 'Ôven Mozzarella Bar',\n",
       "       'contact': {},\n",
       "       'location': {'address': 'Calle Gran Via, 6',\n",
       "        'lat': 40.41924524133954,\n",
       "        'lng': -3.6978500877927485,\n",
       "        'labeledLatLngs': [{'label': 'display',\n",
       "          'lat': 40.41924524133954,\n",
       "          'lng': -3.6978500877927485}],\n",
       "        'distance': 607,\n",
       "        'postalCode': '28013',\n",
       "        'cc': 'ES',\n",
       "        'city': 'Madrid',\n",
       "        'state': 'Madrid',\n",
       "        'country': 'España',\n",
       "        'formattedAddress': ['Calle Gran Via, 6',\n",
       "         '28013 Madrid Madrid',\n",
       "         'España']},\n",
       "       'categories': [{'id': '4bf58dd8d48988d110941735',\n",
       "         'name': 'Italian Restaurant',\n",
       "         'pluralName': 'Italian Restaurants',\n",
       "         'shortName': 'Italian',\n",
       "         'icon': {'prefix': 'https://ss3.4sqi.net/img/categories_v2/food/italian_',\n",
       "          'suffix': '.png'},\n",
       "         'primary': True}],\n",
       "       'verified': False,\n",
       "       'stats': {'tipCount': 0,\n",
       "        'usersCount': 0,\n",
       "        'checkinsCount': 0,\n",
       "        'visitsCount': 0},\n",
       "       'beenHere': {'count': 0,\n",
       "        'lastCheckinExpiredAt': 0,\n",
       "        'marked': False,\n",
       "        'unconfirmedCount': 0},\n",
       "       'photos': {'count': 0, 'groups': []},\n",
       "       'hereNow': {'count': 0, 'summary': 'Nobody here', 'groups': []}},\n",
       "      'referralId': 'e-3-5650e689498e59806e43a30f-88'},\n",
       "     {'reasons': {'count': 0,\n",
       "       'items': [{'summary': 'This spot is popular',\n",
       "         'type': 'general',\n",
       "         'reasonName': 'globalInteractionReason'}]},\n",
       "      'venue': {'id': '52ac5d20498e11753a8cde9d',\n",
       "       'name': 'Izakaya Han',\n",
       "       'contact': {},\n",
       "       'location': {'address': 'San Bartolome 10',\n",
       "        'crossStreet': 'Augusto Figueroa',\n",
       "        'lat': 40.421818886748916,\n",
       "        'lng': -3.698475072010201,\n",
       "        'labeledLatLngs': [{'label': 'display',\n",
       "          'lat': 40.421818886748916,\n",
       "          'lng': -3.698475072010201}],\n",
       "        'distance': 534,\n",
       "        'postalCode': '28004',\n",
       "        'cc': 'ES',\n",
       "        'city': 'Madrid',\n",
       "        'state': 'Madrid',\n",
       "        'country': 'España',\n",
       "        'formattedAddress': ['San Bartolome 10 (Augusto Figueroa)',\n",
       "         '28004 Madrid Madrid',\n",
       "         'España']},\n",
       "       'categories': [{'id': '4bf58dd8d48988d111941735',\n",
       "         'name': 'Japanese Restaurant',\n",
       "         'pluralName': 'Japanese Restaurants',\n",
       "         'shortName': 'Japanese',\n",
       "         'icon': {'prefix': 'https://ss3.4sqi.net/img/categories_v2/food/japanese_',\n",
       "          'suffix': '.png'},\n",
       "         'primary': True}],\n",
       "       'verified': False,\n",
       "       'stats': {'tipCount': 0,\n",
       "        'usersCount': 0,\n",
       "        'checkinsCount': 0,\n",
       "        'visitsCount': 0},\n",
       "       'beenHere': {'count': 0,\n",
       "        'lastCheckinExpiredAt': 0,\n",
       "        'marked': False,\n",
       "        'unconfirmedCount': 0},\n",
       "       'photos': {'count': 0, 'groups': []},\n",
       "       'hereNow': {'count': 0, 'summary': 'Nobody here', 'groups': []}},\n",
       "      'referralId': 'e-3-52ac5d20498e11753a8cde9d-89'},\n",
       "     {'reasons': {'count': 0,\n",
       "       'items': [{'summary': 'This spot is popular',\n",
       "         'type': 'general',\n",
       "         'reasonName': 'globalInteractionReason'}]},\n",
       "      'venue': {'id': '4b82aafcf964a5206add30e3',\n",
       "       'name': 'Diurno Restaurant & Bar',\n",
       "       'contact': {},\n",
       "       'location': {'address': 'C. San Marcos, 37',\n",
       "        'crossStreet': 'C. Libertad',\n",
       "        'lat': 40.421299901405845,\n",
       "        'lng': -3.6973373782873447,\n",
       "        'labeledLatLngs': [{'label': 'display',\n",
       "          'lat': 40.421299901405845,\n",
       "          'lng': -3.6973373782873447}],\n",
       "        'distance': 455,\n",
       "        'postalCode': '28004',\n",
       "        'cc': 'ES',\n",
       "        'city': 'Madrid',\n",
       "        'state': 'Madrid',\n",
       "        'country': 'España',\n",
       "        'formattedAddress': ['C. San Marcos, 37 (C. Libertad)',\n",
       "         '28004 Madrid Madrid',\n",
       "         'España']},\n",
       "       'categories': [{'id': '4bf58dd8d48988d1c0941735',\n",
       "         'name': 'Mediterranean Restaurant',\n",
       "         'pluralName': 'Mediterranean Restaurants',\n",
       "         'shortName': 'Mediterranean',\n",
       "         'icon': {'prefix': 'https://ss3.4sqi.net/img/categories_v2/food/mediterranean_',\n",
       "          'suffix': '.png'},\n",
       "         'primary': True}],\n",
       "       'verified': True,\n",
       "       'stats': {'tipCount': 0,\n",
       "        'usersCount': 0,\n",
       "        'checkinsCount': 0,\n",
       "        'visitsCount': 0},\n",
       "       'beenHere': {'count': 0,\n",
       "        'lastCheckinExpiredAt': 0,\n",
       "        'marked': False,\n",
       "        'unconfirmedCount': 0},\n",
       "       'photos': {'count': 0, 'groups': []},\n",
       "       'venuePage': {'id': '76245254'},\n",
       "       'hereNow': {'count': 0, 'summary': 'Nobody here', 'groups': []}},\n",
       "      'referralId': 'e-3-4b82aafcf964a5206add30e3-90'},\n",
       "     {'reasons': {'count': 0,\n",
       "       'items': [{'summary': 'This spot is popular',\n",
       "         'type': 'general',\n",
       "         'reasonName': 'globalInteractionReason'}]},\n",
       "      'venue': {'id': '4adcda3af964a5205b3d21e3',\n",
       "       'name': 'Arabia',\n",
       "       'contact': {},\n",
       "       'location': {'address': 'c/ Piamonte, 12',\n",
       "        'lat': 40.42305,\n",
       "        'lng': -3.6950688,\n",
       "        'labeledLatLngs': [{'label': 'display',\n",
       "          'lat': 40.42305,\n",
       "          'lng': -3.6950688}],\n",
       "        'distance': 240,\n",
       "        'postalCode': '28004',\n",
       "        'cc': 'ES',\n",
       "        'neighborhood': 'Chueca',\n",
       "        'city': 'Madrid',\n",
       "        'state': 'Madrid',\n",
       "        'country': 'España',\n",
       "        'formattedAddress': ['c/ Piamonte, 12',\n",
       "         '28004 Madrid Madrid',\n",
       "         'España']},\n",
       "       'categories': [{'id': '4bf58dd8d48988d1c3941735',\n",
       "         'name': 'Moroccan Restaurant',\n",
       "         'pluralName': 'Moroccan Restaurants',\n",
       "         'shortName': 'Moroccan',\n",
       "         'icon': {'prefix': 'https://ss3.4sqi.net/img/categories_v2/food/moroccan_',\n",
       "          'suffix': '.png'},\n",
       "         'primary': True}],\n",
       "       'verified': False,\n",
       "       'stats': {'tipCount': 0,\n",
       "        'usersCount': 0,\n",
       "        'checkinsCount': 0,\n",
       "        'visitsCount': 0},\n",
       "       'beenHere': {'count': 0,\n",
       "        'lastCheckinExpiredAt': 0,\n",
       "        'marked': False,\n",
       "        'unconfirmedCount': 0},\n",
       "       'photos': {'count': 0, 'groups': []},\n",
       "       'hereNow': {'count': 0, 'summary': 'Nobody here', 'groups': []}},\n",
       "      'referralId': 'e-3-4adcda3af964a5205b3d21e3-91'},\n",
       "     {'reasons': {'count': 0,\n",
       "       'items': [{'summary': 'This spot is popular',\n",
       "         'type': 'general',\n",
       "         'reasonName': 'globalInteractionReason'}]},\n",
       "      'venue': {'id': '4b842bf2f964a5205b2531e3',\n",
       "       'name': 'La Castafiore',\n",
       "       'contact': {},\n",
       "       'location': {'address': 'C. Marqués de Monasterio, 5',\n",
       "        'lat': 40.4231948184309,\n",
       "        'lng': -3.6934970747678526,\n",
       "        'labeledLatLngs': [{'label': 'display',\n",
       "          'lat': 40.4231948184309,\n",
       "          'lng': -3.6934970747678526}],\n",
       "        'distance': 118,\n",
       "        'postalCode': '28004',\n",
       "        'cc': 'ES',\n",
       "        'city': 'Madrid',\n",
       "        'state': 'Madrid',\n",
       "        'country': 'España',\n",
       "        'formattedAddress': ['C. Marqués de Monasterio, 5',\n",
       "         '28004 Madrid Madrid',\n",
       "         'España']},\n",
       "       'categories': [{'id': '4bf58dd8d48988d1c4941735',\n",
       "         'name': 'Restaurant',\n",
       "         'pluralName': 'Restaurants',\n",
       "         'shortName': 'Restaurant',\n",
       "         'icon': {'prefix': 'https://ss3.4sqi.net/img/categories_v2/food/default_',\n",
       "          'suffix': '.png'},\n",
       "         'primary': True}],\n",
       "       'verified': False,\n",
       "       'stats': {'tipCount': 0,\n",
       "        'usersCount': 0,\n",
       "        'checkinsCount': 0,\n",
       "        'visitsCount': 0},\n",
       "       'beenHere': {'count': 0,\n",
       "        'lastCheckinExpiredAt': 0,\n",
       "        'marked': False,\n",
       "        'unconfirmedCount': 0},\n",
       "       'photos': {'count': 0, 'groups': []},\n",
       "       'hereNow': {'count': 0, 'summary': 'Nobody here', 'groups': []}},\n",
       "      'referralId': 'e-3-4b842bf2f964a5205b2531e3-92'},\n",
       "     {'reasons': {'count': 0,\n",
       "       'items': [{'summary': 'This spot is popular',\n",
       "         'type': 'general',\n",
       "         'reasonName': 'globalInteractionReason'}]},\n",
       "      'venue': {'id': '5ada41ee5455b261bb050df1',\n",
       "       'name': 'Lara Grill',\n",
       "       'contact': {},\n",
       "       'location': {'address': 'Horteleza 96',\n",
       "        'lat': 40.424652,\n",
       "        'lng': -3.697945,\n",
       "        'labeledLatLngs': [{'label': 'display',\n",
       "          'lat': 40.424652,\n",
       "          'lng': -3.697945}],\n",
       "        'distance': 528,\n",
       "        'postalCode': '28004',\n",
       "        'cc': 'ES',\n",
       "        'city': 'Madrid',\n",
       "        'state': 'Madrid',\n",
       "        'country': 'España',\n",
       "        'formattedAddress': ['Horteleza 96', '28004 Madrid Madrid', 'España']},\n",
       "       'categories': [{'id': '4bf58dd8d48988d14e941735',\n",
       "         'name': 'American Restaurant',\n",
       "         'pluralName': 'American Restaurants',\n",
       "         'shortName': 'American',\n",
       "         'icon': {'prefix': 'https://ss3.4sqi.net/img/categories_v2/food/default_',\n",
       "          'suffix': '.png'},\n",
       "         'primary': True}],\n",
       "       'verified': False,\n",
       "       'stats': {'tipCount': 0,\n",
       "        'usersCount': 0,\n",
       "        'checkinsCount': 0,\n",
       "        'visitsCount': 0},\n",
       "       'beenHere': {'count': 0,\n",
       "        'lastCheckinExpiredAt': 0,\n",
       "        'marked': False,\n",
       "        'unconfirmedCount': 0},\n",
       "       'photos': {'count': 0, 'groups': []},\n",
       "       'hereNow': {'count': 0, 'summary': 'Nobody here', 'groups': []}},\n",
       "      'referralId': 'e-3-5ada41ee5455b261bb050df1-93'},\n",
       "     {'reasons': {'count': 0,\n",
       "       'items': [{'summary': 'This spot is popular',\n",
       "         'type': 'general',\n",
       "         'reasonName': 'globalInteractionReason'}]},\n",
       "      'venue': {'id': '4ca2261ee44d6dcbdb7d0475',\n",
       "       'name': 'Cafés Arrivederci',\n",
       "       'contact': {},\n",
       "       'location': {'address': 'Calle Augusto Figueroa',\n",
       "        'lat': 40.42239983850301,\n",
       "        'lng': -3.6984653209661364,\n",
       "        'labeledLatLngs': [{'label': 'display',\n",
       "          'lat': 40.42239983850301,\n",
       "          'lng': -3.6984653209661364}],\n",
       "        'distance': 525,\n",
       "        'cc': 'ES',\n",
       "        'city': 'Madrid',\n",
       "        'state': 'Madrid',\n",
       "        'country': 'España',\n",
       "        'formattedAddress': ['Calle Augusto Figueroa',\n",
       "         'Madrid Madrid',\n",
       "         'España']},\n",
       "       'categories': [{'id': '4bf58dd8d48988d16d941735',\n",
       "         'name': 'Café',\n",
       "         'pluralName': 'Cafés',\n",
       "         'shortName': 'Café',\n",
       "         'icon': {'prefix': 'https://ss3.4sqi.net/img/categories_v2/food/cafe_',\n",
       "          'suffix': '.png'},\n",
       "         'primary': True}],\n",
       "       'verified': False,\n",
       "       'stats': {'tipCount': 0,\n",
       "        'usersCount': 0,\n",
       "        'checkinsCount': 0,\n",
       "        'visitsCount': 0},\n",
       "       'beenHere': {'count': 0,\n",
       "        'lastCheckinExpiredAt': 0,\n",
       "        'marked': False,\n",
       "        'unconfirmedCount': 0},\n",
       "       'photos': {'count': 0, 'groups': []},\n",
       "       'hereNow': {'count': 0, 'summary': 'Nobody here', 'groups': []}},\n",
       "      'referralId': 'e-3-4ca2261ee44d6dcbdb7d0475-94'},\n",
       "     {'reasons': {'count': 0,\n",
       "       'items': [{'summary': 'This spot is popular',\n",
       "         'type': 'general',\n",
       "         'reasonName': 'globalInteractionReason'}]},\n",
       "      'venue': {'id': '5517e16d498e2dd5c05cf021',\n",
       "       'name': 'La Santa',\n",
       "       'contact': {},\n",
       "       'location': {'address': 'C. Hortaleza, 67',\n",
       "        'lat': 40.42480797440039,\n",
       "        'lng': -3.6978882909184025,\n",
       "        'labeledLatLngs': [{'label': 'display',\n",
       "          'lat': 40.42480797440039,\n",
       "          'lng': -3.6978882909184025}],\n",
       "        'distance': 531,\n",
       "        'postalCode': '28004',\n",
       "        'cc': 'ES',\n",
       "        'city': 'Madrid',\n",
       "        'state': 'Madrid',\n",
       "        'country': 'España',\n",
       "        'formattedAddress': ['C. Hortaleza, 67',\n",
       "         '28004 Madrid Madrid',\n",
       "         'España']},\n",
       "       'categories': [{'id': '4bf58dd8d48988d155941735',\n",
       "         'name': 'Gastropub',\n",
       "         'pluralName': 'Gastropubs',\n",
       "         'shortName': 'Gastropub',\n",
       "         'icon': {'prefix': 'https://ss3.4sqi.net/img/categories_v2/food/gastropub_',\n",
       "          'suffix': '.png'},\n",
       "         'primary': True}],\n",
       "       'verified': False,\n",
       "       'stats': {'tipCount': 0,\n",
       "        'usersCount': 0,\n",
       "        'checkinsCount': 0,\n",
       "        'visitsCount': 0},\n",
       "       'beenHere': {'count': 0,\n",
       "        'lastCheckinExpiredAt': 0,\n",
       "        'marked': False,\n",
       "        'unconfirmedCount': 0},\n",
       "       'photos': {'count': 0, 'groups': []},\n",
       "       'hereNow': {'count': 0, 'summary': 'Nobody here', 'groups': []}},\n",
       "      'referralId': 'e-3-5517e16d498e2dd5c05cf021-95'},\n",
       "     {'reasons': {'count': 0,\n",
       "       'items': [{'summary': 'This spot is popular',\n",
       "         'type': 'general',\n",
       "         'reasonName': 'globalInteractionReason'}]},\n",
       "      'venue': {'id': '5c44a7dd57a537002c8bf697',\n",
       "       'name': 'Aüakt',\n",
       "       'contact': {},\n",
       "       'location': {'lat': 40.424315,\n",
       "        'lng': -3.695449,\n",
       "        'labeledLatLngs': [{'label': 'display',\n",
       "          'lat': 40.424315,\n",
       "          'lng': -3.695449}],\n",
       "        'distance': 324,\n",
       "        'postalCode': '28004',\n",
       "        'cc': 'ES',\n",
       "        'city': 'Madrid',\n",
       "        'state': 'Madrid',\n",
       "        'country': 'España',\n",
       "        'formattedAddress': ['28004 Madrid Madrid', 'España']},\n",
       "       'categories': [{'id': '4bf58dd8d48988d16d941735',\n",
       "         'name': 'Café',\n",
       "         'pluralName': 'Cafés',\n",
       "         'shortName': 'Café',\n",
       "         'icon': {'prefix': 'https://ss3.4sqi.net/img/categories_v2/food/cafe_',\n",
       "          'suffix': '.png'},\n",
       "         'primary': True}],\n",
       "       'verified': False,\n",
       "       'stats': {'tipCount': 0,\n",
       "        'usersCount': 0,\n",
       "        'checkinsCount': 0,\n",
       "        'visitsCount': 0},\n",
       "       'beenHere': {'count': 0,\n",
       "        'lastCheckinExpiredAt': 0,\n",
       "        'marked': False,\n",
       "        'unconfirmedCount': 0},\n",
       "       'photos': {'count': 0, 'groups': []},\n",
       "       'hereNow': {'count': 0, 'summary': 'Nobody here', 'groups': []}},\n",
       "      'referralId': 'e-3-5c44a7dd57a537002c8bf697-96'},\n",
       "     {'reasons': {'count': 0,\n",
       "       'items': [{'summary': 'This spot is popular',\n",
       "         'type': 'general',\n",
       "         'reasonName': 'globalInteractionReason'}]},\n",
       "      'venue': {'id': '5ce59502fb8e59002c4fded5',\n",
       "       'name': 'Patio De Leones',\n",
       "       'contact': {},\n",
       "       'location': {'address': 'Serrano, 1',\n",
       "        'lat': 40.420482,\n",
       "        'lng': -3.688783,\n",
       "        'labeledLatLngs': [{'label': 'display',\n",
       "          'lat': 40.420482,\n",
       "          'lng': -3.688783}],\n",
       "        'distance': 383,\n",
       "        'postalCode': '28001',\n",
       "        'cc': 'ES',\n",
       "        'city': 'Madrid',\n",
       "        'state': 'Madrid',\n",
       "        'country': 'España',\n",
       "        'formattedAddress': ['Serrano, 1', '28001 Madrid Madrid', 'España']},\n",
       "       'categories': [{'id': '4bf58dd8d48988d1c4941735',\n",
       "         'name': 'Restaurant',\n",
       "         'pluralName': 'Restaurants',\n",
       "         'shortName': 'Restaurant',\n",
       "         'icon': {'prefix': 'https://ss3.4sqi.net/img/categories_v2/food/default_',\n",
       "          'suffix': '.png'},\n",
       "         'primary': True}],\n",
       "       'verified': False,\n",
       "       'stats': {'tipCount': 0,\n",
       "        'usersCount': 0,\n",
       "        'checkinsCount': 0,\n",
       "        'visitsCount': 0},\n",
       "       'beenHere': {'count': 0,\n",
       "        'lastCheckinExpiredAt': 0,\n",
       "        'marked': False,\n",
       "        'unconfirmedCount': 0},\n",
       "       'photos': {'count': 0, 'groups': []},\n",
       "       'hereNow': {'count': 0, 'summary': 'Nobody here', 'groups': []}},\n",
       "      'referralId': 'e-3-5ce59502fb8e59002c4fded5-97'},\n",
       "     {'reasons': {'count': 0,\n",
       "       'items': [{'summary': 'This spot is popular',\n",
       "         'type': 'general',\n",
       "         'reasonName': 'globalInteractionReason'}]},\n",
       "      'venue': {'id': '5710f195498e1bdf3422620a',\n",
       "       'name': 'cripeka',\n",
       "       'contact': {},\n",
       "       'location': {'lat': 40.42633069472612,\n",
       "        'lng': -3.696475115325826,\n",
       "        'labeledLatLngs': [{'label': 'display',\n",
       "          'lat': 40.42633069472612,\n",
       "          'lng': -3.696475115325826}],\n",
       "        'distance': 540,\n",
       "        'cc': 'ES',\n",
       "        'country': 'España',\n",
       "        'formattedAddress': ['España']},\n",
       "       'categories': [{'id': '4bf58dd8d48988d16a941735',\n",
       "         'name': 'Bakery',\n",
       "         'pluralName': 'Bakeries',\n",
       "         'shortName': 'Bakery',\n",
       "         'icon': {'prefix': 'https://ss3.4sqi.net/img/categories_v2/food/bakery_',\n",
       "          'suffix': '.png'},\n",
       "         'primary': True}],\n",
       "       'verified': False,\n",
       "       'stats': {'tipCount': 0,\n",
       "        'usersCount': 0,\n",
       "        'checkinsCount': 0,\n",
       "        'visitsCount': 0},\n",
       "       'beenHere': {'count': 0,\n",
       "        'lastCheckinExpiredAt': 0,\n",
       "        'marked': False,\n",
       "        'unconfirmedCount': 0},\n",
       "       'photos': {'count': 0, 'groups': []},\n",
       "       'hereNow': {'count': 0, 'summary': 'Nobody here', 'groups': []}},\n",
       "      'referralId': 'e-3-5710f195498e1bdf3422620a-98'},\n",
       "     {'reasons': {'count': 0,\n",
       "       'items': [{'summary': 'This spot is popular',\n",
       "         'type': 'general',\n",
       "         'reasonName': 'globalInteractionReason'}]},\n",
       "      'venue': {'id': '5645c76d498e2d351101430f',\n",
       "       'name': 'Pink Monkey',\n",
       "       'contact': {},\n",
       "       'location': {'address': 'Monte Esquinza 15',\n",
       "        'lat': 40.427121153395476,\n",
       "        'lng': -3.692236307897579,\n",
       "        'labeledLatLngs': [{'label': 'display',\n",
       "          'lat': 40.427121153395476,\n",
       "          'lng': -3.692236307897579}],\n",
       "        'distance': 494,\n",
       "        'postalCode': '28010',\n",
       "        'cc': 'ES',\n",
       "        'city': 'Madrid',\n",
       "        'state': 'Madrid',\n",
       "        'country': 'España',\n",
       "        'formattedAddress': ['Monte Esquinza 15',\n",
       "         '28010 Madrid Madrid',\n",
       "         'España']},\n",
       "       'categories': [{'id': '4bf58dd8d48988d142941735',\n",
       "         'name': 'Asian Restaurant',\n",
       "         'pluralName': 'Asian Restaurants',\n",
       "         'shortName': 'Asian',\n",
       "         'icon': {'prefix': 'https://ss3.4sqi.net/img/categories_v2/food/asian_',\n",
       "          'suffix': '.png'},\n",
       "         'primary': True}],\n",
       "       'verified': False,\n",
       "       'stats': {'tipCount': 0,\n",
       "        'usersCount': 0,\n",
       "        'checkinsCount': 0,\n",
       "        'visitsCount': 0},\n",
       "       'beenHere': {'count': 0,\n",
       "        'lastCheckinExpiredAt': 0,\n",
       "        'marked': False,\n",
       "        'unconfirmedCount': 0},\n",
       "       'photos': {'count': 0, 'groups': []},\n",
       "       'hereNow': {'count': 0, 'summary': 'Nobody here', 'groups': []}},\n",
       "      'referralId': 'e-3-5645c76d498e2d351101430f-99'}]}]}}"
      ]
     },
     "metadata": {},
     "execution_count": 8
    }
   ],
   "source": [
    "# Muestra cantidad ilegible de datos\n",
    "\n",
    "data"
   ]
  },
  {
   "cell_type": "code",
   "execution_count": 9,
   "metadata": {},
   "outputs": [],
   "source": [
    "# Para guardar en un archivo local\n",
    "import pandas as pd\n",
    "df = pd.DataFrame(data)\n",
    "df.to_csv(\"toda_informacion.csv\")"
   ]
  },
  {
   "cell_type": "code",
   "execution_count": 10,
   "metadata": {},
   "outputs": [
    {
     "output_type": "execute_result",
     "data": {
      "text/plain": [
       "                                               meta  \\\n",
       "code                                            200   \n",
       "requestId                  609908ab1d1a5131ee8dc827   \n",
       "suggestedFilters                                NaN   \n",
       "suggestedRadius                                 NaN   \n",
       "headerLocation                                  NaN   \n",
       "headerFullLocation                              NaN   \n",
       "headerLocationGranularity                       NaN   \n",
       "query                                           NaN   \n",
       "totalResults                                    NaN   \n",
       "suggestedBounds                                 NaN   \n",
       "groups                                          NaN   \n",
       "\n",
       "                                                                    response  \n",
       "code                                                                     NaN  \n",
       "requestId                                                                NaN  \n",
       "suggestedFilters           {'header': 'Tap to show:', 'filters': [{'name'...  \n",
       "suggestedRadius                                                          642  \n",
       "headerLocation                                                        Chueca  \n",
       "headerFullLocation                                            Chueca, Madrid  \n",
       "headerLocationGranularity                                       neighborhood  \n",
       "query                                                                   food  \n",
       "totalResults                                                             204  \n",
       "suggestedBounds            {'ne': {'lat': 40.42757324545612, 'lng': -3.68...  \n",
       "groups                     [{'type': 'Recommended Places', 'name': 'recom...  "
      ],
      "text/html": "<div>\n<style scoped>\n    .dataframe tbody tr th:only-of-type {\n        vertical-align: middle;\n    }\n\n    .dataframe tbody tr th {\n        vertical-align: top;\n    }\n\n    .dataframe thead th {\n        text-align: right;\n    }\n</style>\n<table border=\"1\" class=\"dataframe\">\n  <thead>\n    <tr style=\"text-align: right;\">\n      <th></th>\n      <th>meta</th>\n      <th>response</th>\n    </tr>\n  </thead>\n  <tbody>\n    <tr>\n      <th>code</th>\n      <td>200</td>\n      <td>NaN</td>\n    </tr>\n    <tr>\n      <th>requestId</th>\n      <td>609908ab1d1a5131ee8dc827</td>\n      <td>NaN</td>\n    </tr>\n    <tr>\n      <th>suggestedFilters</th>\n      <td>NaN</td>\n      <td>{'header': 'Tap to show:', 'filters': [{'name'...</td>\n    </tr>\n    <tr>\n      <th>suggestedRadius</th>\n      <td>NaN</td>\n      <td>642</td>\n    </tr>\n    <tr>\n      <th>headerLocation</th>\n      <td>NaN</td>\n      <td>Chueca</td>\n    </tr>\n    <tr>\n      <th>headerFullLocation</th>\n      <td>NaN</td>\n      <td>Chueca, Madrid</td>\n    </tr>\n    <tr>\n      <th>headerLocationGranularity</th>\n      <td>NaN</td>\n      <td>neighborhood</td>\n    </tr>\n    <tr>\n      <th>query</th>\n      <td>NaN</td>\n      <td>food</td>\n    </tr>\n    <tr>\n      <th>totalResults</th>\n      <td>NaN</td>\n      <td>204</td>\n    </tr>\n    <tr>\n      <th>suggestedBounds</th>\n      <td>NaN</td>\n      <td>{'ne': {'lat': 40.42757324545612, 'lng': -3.68...</td>\n    </tr>\n    <tr>\n      <th>groups</th>\n      <td>NaN</td>\n      <td>[{'type': 'Recommended Places', 'name': 'recom...</td>\n    </tr>\n  </tbody>\n</table>\n</div>"
     },
     "metadata": {},
     "execution_count": 10
    }
   ],
   "source": [
    "df"
   ]
  },
  {
   "cell_type": "code",
   "execution_count": 84,
   "metadata": {},
   "outputs": [
    {
     "output_type": "execute_result",
     "data": {
      "text/plain": [
       "dict_keys(['code', 'requestId'])"
      ]
     },
     "metadata": {},
     "execution_count": 84
    }
   ],
   "source": [
    "data[\"meta\"].keys()"
   ]
  },
  {
   "cell_type": "code",
   "execution_count": 80,
   "metadata": {},
   "outputs": [
    {
     "output_type": "execute_result",
     "data": {
      "text/plain": [
       "RangeIndex(start=0, stop=11, step=1)"
      ]
     },
     "metadata": {},
     "execution_count": 80
    }
   ],
   "source": [
    "df[\"meta\"].keys()"
   ]
  },
  {
   "cell_type": "code",
   "execution_count": 85,
   "metadata": {},
   "outputs": [
    {
     "output_type": "execute_result",
     "data": {
      "text/plain": [
       "Index(['Unnamed: 0', 'meta', 'response'], dtype='object')"
      ]
     },
     "metadata": {},
     "execution_count": 85
    }
   ],
   "source": [
    "df.keys() # El .keys() de un diccionario te devuelve las columnas del DataFrame"
   ]
  },
  {
   "cell_type": "code",
   "execution_count": 86,
   "metadata": {},
   "outputs": [
    {
     "output_type": "execute_result",
     "data": {
      "text/plain": [
       "RangeIndex(start=0, stop=11, step=1)"
      ]
     },
     "metadata": {},
     "execution_count": 86
    }
   ],
   "source": [
    "# Las .keys() de una serie te devuelve el indice de esa serie\n",
    "df[\"meta\"].keys()"
   ]
  },
  {
   "cell_type": "code",
   "execution_count": null,
   "metadata": {},
   "outputs": [],
   "source": []
  },
  {
   "cell_type": "code",
   "execution_count": 11,
   "metadata": {},
   "outputs": [
    {
     "output_type": "execute_result",
     "data": {
      "text/plain": [
       "                   Unnamed: 0                      meta  \\\n",
       "0                        code                       200   \n",
       "1                   requestId  609908ab1d1a5131ee8dc827   \n",
       "2            suggestedFilters                       NaN   \n",
       "3             suggestedRadius                       NaN   \n",
       "4              headerLocation                       NaN   \n",
       "5          headerFullLocation                       NaN   \n",
       "6   headerLocationGranularity                       NaN   \n",
       "7                       query                       NaN   \n",
       "8                totalResults                       NaN   \n",
       "9             suggestedBounds                       NaN   \n",
       "10                     groups                       NaN   \n",
       "\n",
       "                                             response  \n",
       "0                                                 NaN  \n",
       "1                                                 NaN  \n",
       "2   {'header': 'Tap to show:', 'filters': [{'name'...  \n",
       "3                                                 642  \n",
       "4                                              Chueca  \n",
       "5                                      Chueca, Madrid  \n",
       "6                                        neighborhood  \n",
       "7                                                food  \n",
       "8                                                 204  \n",
       "9   {'ne': {'lat': 40.42757324545612, 'lng': -3.68...  \n",
       "10  [{'type': 'Recommended Places', 'name': 'recom...  "
      ],
      "text/html": "<div>\n<style scoped>\n    .dataframe tbody tr th:only-of-type {\n        vertical-align: middle;\n    }\n\n    .dataframe tbody tr th {\n        vertical-align: top;\n    }\n\n    .dataframe thead th {\n        text-align: right;\n    }\n</style>\n<table border=\"1\" class=\"dataframe\">\n  <thead>\n    <tr style=\"text-align: right;\">\n      <th></th>\n      <th>Unnamed: 0</th>\n      <th>meta</th>\n      <th>response</th>\n    </tr>\n  </thead>\n  <tbody>\n    <tr>\n      <th>0</th>\n      <td>code</td>\n      <td>200</td>\n      <td>NaN</td>\n    </tr>\n    <tr>\n      <th>1</th>\n      <td>requestId</td>\n      <td>609908ab1d1a5131ee8dc827</td>\n      <td>NaN</td>\n    </tr>\n    <tr>\n      <th>2</th>\n      <td>suggestedFilters</td>\n      <td>NaN</td>\n      <td>{'header': 'Tap to show:', 'filters': [{'name'...</td>\n    </tr>\n    <tr>\n      <th>3</th>\n      <td>suggestedRadius</td>\n      <td>NaN</td>\n      <td>642</td>\n    </tr>\n    <tr>\n      <th>4</th>\n      <td>headerLocation</td>\n      <td>NaN</td>\n      <td>Chueca</td>\n    </tr>\n    <tr>\n      <th>5</th>\n      <td>headerFullLocation</td>\n      <td>NaN</td>\n      <td>Chueca, Madrid</td>\n    </tr>\n    <tr>\n      <th>6</th>\n      <td>headerLocationGranularity</td>\n      <td>NaN</td>\n      <td>neighborhood</td>\n    </tr>\n    <tr>\n      <th>7</th>\n      <td>query</td>\n      <td>NaN</td>\n      <td>food</td>\n    </tr>\n    <tr>\n      <th>8</th>\n      <td>totalResults</td>\n      <td>NaN</td>\n      <td>204</td>\n    </tr>\n    <tr>\n      <th>9</th>\n      <td>suggestedBounds</td>\n      <td>NaN</td>\n      <td>{'ne': {'lat': 40.42757324545612, 'lng': -3.68...</td>\n    </tr>\n    <tr>\n      <th>10</th>\n      <td>groups</td>\n      <td>NaN</td>\n      <td>[{'type': 'Recommended Places', 'name': 'recom...</td>\n    </tr>\n  </tbody>\n</table>\n</div>"
     },
     "metadata": {},
     "execution_count": 11
    }
   ],
   "source": [
    "# Esto sería para trabajar con un fichero local\n",
    "\n",
    "df = pd.read_csv(\"toda_informacion.csv\")\n",
    "df"
   ]
  },
  {
   "cell_type": "code",
   "execution_count": 12,
   "metadata": {},
   "outputs": [],
   "source": [
    "df.to_json(\"toda_informacion.json\")"
   ]
  },
  {
   "cell_type": "code",
   "execution_count": null,
   "metadata": {},
   "outputs": [],
   "source": [
    "import json\n"
   ]
  },
  {
   "cell_type": "code",
   "execution_count": 13,
   "metadata": {
    "tags": []
   },
   "outputs": [
    {
     "output_type": "execute_result",
     "data": {
      "text/plain": [
       "dict_keys(['suggestedFilters', 'suggestedRadius', 'headerLocation', 'headerFullLocation', 'headerLocationGranularity', 'query', 'totalResults', 'suggestedBounds', 'groups'])"
      ]
     },
     "metadata": {},
     "execution_count": 13
    }
   ],
   "source": [
    "data[\"response\"].keys()"
   ]
  },
  {
   "cell_type": "code",
   "execution_count": 81,
   "metadata": {},
   "outputs": [
    {
     "output_type": "execute_result",
     "data": {
      "text/plain": [
       "200"
      ]
     },
     "metadata": {},
     "execution_count": 81
    }
   ],
   "source": [
    "data[\"meta\"][\"code\"]"
   ]
  },
  {
   "cell_type": "code",
   "execution_count": 48,
   "metadata": {},
   "outputs": [
    {
     "output_type": "stream",
     "name": "stdout",
     "text": [
      "\n"
     ]
    }
   ],
   "source": [
    "# Cantidad ilegible de datos\n",
    "\n",
    "data[\"response\"] \n",
    "print()"
   ]
  },
  {
   "cell_type": "code",
   "execution_count": 49,
   "metadata": {},
   "outputs": [
    {
     "output_type": "stream",
     "name": "stdout",
     "text": [
      "\n"
     ]
    }
   ],
   "source": [
    "import json\n",
    "df[\"response\"].values[-1]\n",
    "print()"
   ]
  },
  {
   "cell_type": "code",
   "execution_count": 21,
   "metadata": {},
   "outputs": [
    {
     "output_type": "error",
     "ename": "JSONDecodeError",
     "evalue": "Expecting property name enclosed in double quotes: line 1 column 3 (char 2)",
     "traceback": [
      "\u001b[1;31m---------------------------------------------------------------------------\u001b[0m",
      "\u001b[1;31mJSONDecodeError\u001b[0m                           Traceback (most recent call last)",
      "\u001b[1;32m<ipython-input-21-8f3e180cb9c5>\u001b[0m in \u001b[0;36m<module>\u001b[1;34m\u001b[0m\n\u001b[0;32m      1\u001b[0m \u001b[1;32mimport\u001b[0m \u001b[0mjson\u001b[0m\u001b[1;33m\u001b[0m\u001b[1;33m\u001b[0m\u001b[0m\n\u001b[0;32m      2\u001b[0m \u001b[0mstring_json\u001b[0m \u001b[1;33m=\u001b[0m \u001b[0mdf\u001b[0m\u001b[1;33m[\u001b[0m\u001b[1;34m\"response\"\u001b[0m\u001b[1;33m]\u001b[0m\u001b[1;33m.\u001b[0m\u001b[0mvalues\u001b[0m\u001b[1;33m[\u001b[0m\u001b[1;33m-\u001b[0m\u001b[1;36m1\u001b[0m\u001b[1;33m]\u001b[0m\u001b[1;33m\u001b[0m\u001b[1;33m\u001b[0m\u001b[0m\n\u001b[1;32m----> 3\u001b[1;33m \u001b[0mjson\u001b[0m\u001b[1;33m.\u001b[0m\u001b[0mloads\u001b[0m\u001b[1;33m(\u001b[0m\u001b[0mstring_json\u001b[0m\u001b[1;33m)\u001b[0m \u001b[1;31m# Error\u001b[0m\u001b[1;33m\u001b[0m\u001b[1;33m\u001b[0m\u001b[0m\n\u001b[0m",
      "\u001b[1;32m~\\AppData\\Local\\Programs\\Python\\Python37\\lib\\json\\__init__.py\u001b[0m in \u001b[0;36mloads\u001b[1;34m(s, encoding, cls, object_hook, parse_float, parse_int, parse_constant, object_pairs_hook, **kw)\u001b[0m\n\u001b[0;32m    346\u001b[0m             \u001b[0mparse_int\u001b[0m \u001b[1;32mis\u001b[0m \u001b[1;32mNone\u001b[0m \u001b[1;32mand\u001b[0m \u001b[0mparse_float\u001b[0m \u001b[1;32mis\u001b[0m \u001b[1;32mNone\u001b[0m \u001b[1;32mand\u001b[0m\u001b[1;33m\u001b[0m\u001b[1;33m\u001b[0m\u001b[0m\n\u001b[0;32m    347\u001b[0m             parse_constant is None and object_pairs_hook is None and not kw):\n\u001b[1;32m--> 348\u001b[1;33m         \u001b[1;32mreturn\u001b[0m \u001b[0m_default_decoder\u001b[0m\u001b[1;33m.\u001b[0m\u001b[0mdecode\u001b[0m\u001b[1;33m(\u001b[0m\u001b[0ms\u001b[0m\u001b[1;33m)\u001b[0m\u001b[1;33m\u001b[0m\u001b[1;33m\u001b[0m\u001b[0m\n\u001b[0m\u001b[0;32m    349\u001b[0m     \u001b[1;32mif\u001b[0m \u001b[0mcls\u001b[0m \u001b[1;32mis\u001b[0m \u001b[1;32mNone\u001b[0m\u001b[1;33m:\u001b[0m\u001b[1;33m\u001b[0m\u001b[1;33m\u001b[0m\u001b[0m\n\u001b[0;32m    350\u001b[0m         \u001b[0mcls\u001b[0m \u001b[1;33m=\u001b[0m \u001b[0mJSONDecoder\u001b[0m\u001b[1;33m\u001b[0m\u001b[1;33m\u001b[0m\u001b[0m\n",
      "\u001b[1;32m~\\AppData\\Local\\Programs\\Python\\Python37\\lib\\json\\decoder.py\u001b[0m in \u001b[0;36mdecode\u001b[1;34m(self, s, _w)\u001b[0m\n\u001b[0;32m    335\u001b[0m \u001b[1;33m\u001b[0m\u001b[0m\n\u001b[0;32m    336\u001b[0m         \"\"\"\n\u001b[1;32m--> 337\u001b[1;33m         \u001b[0mobj\u001b[0m\u001b[1;33m,\u001b[0m \u001b[0mend\u001b[0m \u001b[1;33m=\u001b[0m \u001b[0mself\u001b[0m\u001b[1;33m.\u001b[0m\u001b[0mraw_decode\u001b[0m\u001b[1;33m(\u001b[0m\u001b[0ms\u001b[0m\u001b[1;33m,\u001b[0m \u001b[0midx\u001b[0m\u001b[1;33m=\u001b[0m\u001b[0m_w\u001b[0m\u001b[1;33m(\u001b[0m\u001b[0ms\u001b[0m\u001b[1;33m,\u001b[0m \u001b[1;36m0\u001b[0m\u001b[1;33m)\u001b[0m\u001b[1;33m.\u001b[0m\u001b[0mend\u001b[0m\u001b[1;33m(\u001b[0m\u001b[1;33m)\u001b[0m\u001b[1;33m)\u001b[0m\u001b[1;33m\u001b[0m\u001b[1;33m\u001b[0m\u001b[0m\n\u001b[0m\u001b[0;32m    338\u001b[0m         \u001b[0mend\u001b[0m \u001b[1;33m=\u001b[0m \u001b[0m_w\u001b[0m\u001b[1;33m(\u001b[0m\u001b[0ms\u001b[0m\u001b[1;33m,\u001b[0m \u001b[0mend\u001b[0m\u001b[1;33m)\u001b[0m\u001b[1;33m.\u001b[0m\u001b[0mend\u001b[0m\u001b[1;33m(\u001b[0m\u001b[1;33m)\u001b[0m\u001b[1;33m\u001b[0m\u001b[1;33m\u001b[0m\u001b[0m\n\u001b[0;32m    339\u001b[0m         \u001b[1;32mif\u001b[0m \u001b[0mend\u001b[0m \u001b[1;33m!=\u001b[0m \u001b[0mlen\u001b[0m\u001b[1;33m(\u001b[0m\u001b[0ms\u001b[0m\u001b[1;33m)\u001b[0m\u001b[1;33m:\u001b[0m\u001b[1;33m\u001b[0m\u001b[1;33m\u001b[0m\u001b[0m\n",
      "\u001b[1;32m~\\AppData\\Local\\Programs\\Python\\Python37\\lib\\json\\decoder.py\u001b[0m in \u001b[0;36mraw_decode\u001b[1;34m(self, s, idx)\u001b[0m\n\u001b[0;32m    351\u001b[0m         \"\"\"\n\u001b[0;32m    352\u001b[0m         \u001b[1;32mtry\u001b[0m\u001b[1;33m:\u001b[0m\u001b[1;33m\u001b[0m\u001b[1;33m\u001b[0m\u001b[0m\n\u001b[1;32m--> 353\u001b[1;33m             \u001b[0mobj\u001b[0m\u001b[1;33m,\u001b[0m \u001b[0mend\u001b[0m \u001b[1;33m=\u001b[0m \u001b[0mself\u001b[0m\u001b[1;33m.\u001b[0m\u001b[0mscan_once\u001b[0m\u001b[1;33m(\u001b[0m\u001b[0ms\u001b[0m\u001b[1;33m,\u001b[0m \u001b[0midx\u001b[0m\u001b[1;33m)\u001b[0m\u001b[1;33m\u001b[0m\u001b[1;33m\u001b[0m\u001b[0m\n\u001b[0m\u001b[0;32m    354\u001b[0m         \u001b[1;32mexcept\u001b[0m \u001b[0mStopIteration\u001b[0m \u001b[1;32mas\u001b[0m \u001b[0merr\u001b[0m\u001b[1;33m:\u001b[0m\u001b[1;33m\u001b[0m\u001b[1;33m\u001b[0m\u001b[0m\n\u001b[0;32m    355\u001b[0m             \u001b[1;32mraise\u001b[0m \u001b[0mJSONDecodeError\u001b[0m\u001b[1;33m(\u001b[0m\u001b[1;34m\"Expecting value\"\u001b[0m\u001b[1;33m,\u001b[0m \u001b[0ms\u001b[0m\u001b[1;33m,\u001b[0m \u001b[0merr\u001b[0m\u001b[1;33m.\u001b[0m\u001b[0mvalue\u001b[0m\u001b[1;33m)\u001b[0m \u001b[1;32mfrom\u001b[0m \u001b[1;32mNone\u001b[0m\u001b[1;33m\u001b[0m\u001b[1;33m\u001b[0m\u001b[0m\n",
      "\u001b[1;31mJSONDecodeError\u001b[0m: Expecting property name enclosed in double quotes: line 1 column 3 (char 2)"
     ]
    }
   ],
   "source": [
    "import json\n",
    "string_json = df[\"response\"].values[-1]\n",
    "json.loads(string_json) # Error por poner el .values"
   ]
  },
  {
   "cell_type": "code",
   "execution_count": 94,
   "metadata": {},
   "outputs": [
    {
     "output_type": "execute_result",
     "data": {
      "text/plain": [
       "                                             response\n",
       "2   {'header': 'Tap to show:', 'filters': [{'name'...\n",
       "3                                                 642\n",
       "4                                              Chueca\n",
       "5                                      Chueca, Madrid\n",
       "6                                        neighborhood\n",
       "7                                                food\n",
       "8                                                 204\n",
       "9   {'ne': {'lat': 40.42757324545612, 'lng': -3.68...\n",
       "10  [{'type': 'Recommended Places', 'name': 'recom..."
      ],
      "text/html": "<div>\n<style scoped>\n    .dataframe tbody tr th:only-of-type {\n        vertical-align: middle;\n    }\n\n    .dataframe tbody tr th {\n        vertical-align: top;\n    }\n\n    .dataframe thead th {\n        text-align: right;\n    }\n</style>\n<table border=\"1\" class=\"dataframe\">\n  <thead>\n    <tr style=\"text-align: right;\">\n      <th></th>\n      <th>response</th>\n    </tr>\n  </thead>\n  <tbody>\n    <tr>\n      <th>2</th>\n      <td>{'header': 'Tap to show:', 'filters': [{'name'...</td>\n    </tr>\n    <tr>\n      <th>3</th>\n      <td>642</td>\n    </tr>\n    <tr>\n      <th>4</th>\n      <td>Chueca</td>\n    </tr>\n    <tr>\n      <th>5</th>\n      <td>Chueca, Madrid</td>\n    </tr>\n    <tr>\n      <th>6</th>\n      <td>neighborhood</td>\n    </tr>\n    <tr>\n      <th>7</th>\n      <td>food</td>\n    </tr>\n    <tr>\n      <th>8</th>\n      <td>204</td>\n    </tr>\n    <tr>\n      <th>9</th>\n      <td>{'ne': {'lat': 40.42757324545612, 'lng': -3.68...</td>\n    </tr>\n    <tr>\n      <th>10</th>\n      <td>[{'type': 'Recommended Places', 'name': 'recom...</td>\n    </tr>\n  </tbody>\n</table>\n</div>"
     },
     "metadata": {},
     "execution_count": 94
    }
   ],
   "source": [
    "df.loc[2:10,[\"response\"]]"
   ]
  },
  {
   "cell_type": "code",
   "execution_count": 96,
   "metadata": {},
   "outputs": [
    {
     "output_type": "execute_result",
     "data": {
      "text/plain": [
       "                                             response\n",
       "2   {'header': 'Tap to show:', 'filters': [{'name'...\n",
       "3                                                 642\n",
       "4                                              Chueca\n",
       "5                                      Chueca, Madrid\n",
       "6                                        neighborhood\n",
       "7                                                food\n",
       "8                                                 204\n",
       "9   {'ne': {'lat': 40.42757324545612, 'lng': -3.68...\n",
       "10  [{'type': 'Recommended Places', 'name': 'recom..."
      ],
      "text/html": "<div>\n<style scoped>\n    .dataframe tbody tr th:only-of-type {\n        vertical-align: middle;\n    }\n\n    .dataframe tbody tr th {\n        vertical-align: top;\n    }\n\n    .dataframe thead th {\n        text-align: right;\n    }\n</style>\n<table border=\"1\" class=\"dataframe\">\n  <thead>\n    <tr style=\"text-align: right;\">\n      <th></th>\n      <th>response</th>\n    </tr>\n  </thead>\n  <tbody>\n    <tr>\n      <th>2</th>\n      <td>{'header': 'Tap to show:', 'filters': [{'name'...</td>\n    </tr>\n    <tr>\n      <th>3</th>\n      <td>642</td>\n    </tr>\n    <tr>\n      <th>4</th>\n      <td>Chueca</td>\n    </tr>\n    <tr>\n      <th>5</th>\n      <td>Chueca, Madrid</td>\n    </tr>\n    <tr>\n      <th>6</th>\n      <td>neighborhood</td>\n    </tr>\n    <tr>\n      <th>7</th>\n      <td>food</td>\n    </tr>\n    <tr>\n      <th>8</th>\n      <td>204</td>\n    </tr>\n    <tr>\n      <th>9</th>\n      <td>{'ne': {'lat': 40.42757324545612, 'lng': -3.68...</td>\n    </tr>\n    <tr>\n      <th>10</th>\n      <td>[{'type': 'Recommended Places', 'name': 'recom...</td>\n    </tr>\n  </tbody>\n</table>\n</div>"
     },
     "metadata": {},
     "execution_count": 96
    }
   ],
   "source": [
    "pd.DataFrame(df.loc[2:10,\"response\"])"
   ]
  },
  {
   "cell_type": "code",
   "execution_count": 24,
   "metadata": {},
   "outputs": [
    {
     "output_type": "execute_result",
     "data": {
      "text/plain": [
       "0                                                   NaN\n",
       "1                                                   NaN\n",
       "2     {'header': 'Tap to show:', 'filters': [{'name'...\n",
       "3                                                   642\n",
       "4                                                Chueca\n",
       "5                                        Chueca, Madrid\n",
       "6                                          neighborhood\n",
       "7                                                  food\n",
       "8                                                   204\n",
       "9     {'ne': {'lat': 40.42757324545612, 'lng': -3.68...\n",
       "10    [{'type': 'Recommended Places', 'name': 'recom...\n",
       "Name: response, dtype: object"
      ]
     },
     "metadata": {},
     "execution_count": 24
    }
   ],
   "source": [
    "import json # Para recogerlo como una lista de cosas\n",
    "\n",
    "string_json = df[\"response\"]\n",
    "string_json"
   ]
  },
  {
   "cell_type": "code",
   "execution_count": 43,
   "metadata": {},
   "outputs": [
    {
     "output_type": "execute_result",
     "data": {
      "text/plain": [
       "                                             response\n",
       "10  [{'type': 'Recommended Places', 'name': 'recom..."
      ],
      "text/html": "<div>\n<style scoped>\n    .dataframe tbody tr th:only-of-type {\n        vertical-align: middle;\n    }\n\n    .dataframe tbody tr th {\n        vertical-align: top;\n    }\n\n    .dataframe thead th {\n        text-align: right;\n    }\n</style>\n<table border=\"1\" class=\"dataframe\">\n  <thead>\n    <tr style=\"text-align: right;\">\n      <th></th>\n      <th>response</th>\n    </tr>\n  </thead>\n  <tbody>\n    <tr>\n      <th>10</th>\n      <td>[{'type': 'Recommended Places', 'name': 'recom...</td>\n    </tr>\n  </tbody>\n</table>\n</div>"
     },
     "metadata": {},
     "execution_count": 43
    }
   ],
   "source": [
    "df.iloc[-1:,-1:]"
   ]
  },
  {
   "cell_type": "code",
   "execution_count": 44,
   "metadata": {},
   "outputs": [
    {
     "output_type": "execute_result",
     "data": {
      "text/plain": [
       "10    [{'type': 'Recommended Places', 'name': 'recom...\n",
       "Name: response, dtype: object"
      ]
     },
     "metadata": {},
     "execution_count": 44
    }
   ],
   "source": [
    "df.iloc[-1:][\"response\"]"
   ]
  },
  {
   "cell_type": "code",
   "execution_count": 51,
   "metadata": {},
   "outputs": [
    {
     "output_type": "execute_result",
     "data": {
      "text/plain": [
       "                                             response\n",
       "10  [{'type': 'Recommended Places', 'name': 'recom..."
      ],
      "text/html": "<div>\n<style scoped>\n    .dataframe tbody tr th:only-of-type {\n        vertical-align: middle;\n    }\n\n    .dataframe tbody tr th {\n        vertical-align: top;\n    }\n\n    .dataframe thead th {\n        text-align: right;\n    }\n</style>\n<table border=\"1\" class=\"dataframe\">\n  <thead>\n    <tr style=\"text-align: right;\">\n      <th></th>\n      <th>response</th>\n    </tr>\n  </thead>\n  <tbody>\n    <tr>\n      <th>10</th>\n      <td>[{'type': 'Recommended Places', 'name': 'recom...</td>\n    </tr>\n  </tbody>\n</table>\n</div>"
     },
     "metadata": {},
     "execution_count": 51
    }
   ],
   "source": [
    "df.iloc[-1:][[\"response\"]]"
   ]
  },
  {
   "cell_type": "code",
   "execution_count": 46,
   "metadata": {},
   "outputs": [],
   "source": [
    "json_string = df.iloc[-1:][\"response\"].values[0]\n",
    "#json_leido = json.loads(json_string)\n",
    "#json_leido"
   ]
  },
  {
   "cell_type": "code",
   "execution_count": 47,
   "metadata": {},
   "outputs": [
    {
     "output_type": "error",
     "ename": "ValueError",
     "evalue": "Mixing dicts with non-Series may lead to ambiguous ordering.",
     "traceback": [
      "\u001b[1;31m---------------------------------------------------------------------------\u001b[0m",
      "\u001b[1;31mValueError\u001b[0m                                Traceback (most recent call last)",
      "\u001b[1;32m<ipython-input-47-33f0e6101bb9>\u001b[0m in \u001b[0;36m<module>\u001b[1;34m\u001b[0m\n\u001b[1;32m----> 1\u001b[1;33m \u001b[0mdf2\u001b[0m \u001b[1;33m=\u001b[0m \u001b[0mpd\u001b[0m\u001b[1;33m.\u001b[0m\u001b[0mDataFrame\u001b[0m\u001b[1;33m(\u001b[0m\u001b[0mdata\u001b[0m\u001b[1;33m[\u001b[0m\u001b[1;34m\"response\"\u001b[0m\u001b[1;33m]\u001b[0m\u001b[1;33m)\u001b[0m\u001b[1;33m\u001b[0m\u001b[1;33m\u001b[0m\u001b[0m\n\u001b[0m\u001b[0;32m      2\u001b[0m \u001b[0mdf2\u001b[0m\u001b[1;33m\u001b[0m\u001b[1;33m\u001b[0m\u001b[0m\n",
      "\u001b[1;32m~\\AppData\\Local\\Programs\\Python\\Python37\\lib\\site-packages\\pandas\\core\\frame.py\u001b[0m in \u001b[0;36m__init__\u001b[1;34m(self, data, index, columns, dtype, copy)\u001b[0m\n\u001b[0;32m    527\u001b[0m \u001b[1;33m\u001b[0m\u001b[0m\n\u001b[0;32m    528\u001b[0m         \u001b[1;32melif\u001b[0m \u001b[0misinstance\u001b[0m\u001b[1;33m(\u001b[0m\u001b[0mdata\u001b[0m\u001b[1;33m,\u001b[0m \u001b[0mdict\u001b[0m\u001b[1;33m)\u001b[0m\u001b[1;33m:\u001b[0m\u001b[1;33m\u001b[0m\u001b[1;33m\u001b[0m\u001b[0m\n\u001b[1;32m--> 529\u001b[1;33m             \u001b[0mmgr\u001b[0m \u001b[1;33m=\u001b[0m \u001b[0minit_dict\u001b[0m\u001b[1;33m(\u001b[0m\u001b[0mdata\u001b[0m\u001b[1;33m,\u001b[0m \u001b[0mindex\u001b[0m\u001b[1;33m,\u001b[0m \u001b[0mcolumns\u001b[0m\u001b[1;33m,\u001b[0m \u001b[0mdtype\u001b[0m\u001b[1;33m=\u001b[0m\u001b[0mdtype\u001b[0m\u001b[1;33m)\u001b[0m\u001b[1;33m\u001b[0m\u001b[1;33m\u001b[0m\u001b[0m\n\u001b[0m\u001b[0;32m    530\u001b[0m         \u001b[1;32melif\u001b[0m \u001b[0misinstance\u001b[0m\u001b[1;33m(\u001b[0m\u001b[0mdata\u001b[0m\u001b[1;33m,\u001b[0m \u001b[0mma\u001b[0m\u001b[1;33m.\u001b[0m\u001b[0mMaskedArray\u001b[0m\u001b[1;33m)\u001b[0m\u001b[1;33m:\u001b[0m\u001b[1;33m\u001b[0m\u001b[1;33m\u001b[0m\u001b[0m\n\u001b[0;32m    531\u001b[0m             \u001b[1;32mimport\u001b[0m \u001b[0mnumpy\u001b[0m\u001b[1;33m.\u001b[0m\u001b[0mma\u001b[0m\u001b[1;33m.\u001b[0m\u001b[0mmrecords\u001b[0m \u001b[1;32mas\u001b[0m \u001b[0mmrecords\u001b[0m\u001b[1;33m\u001b[0m\u001b[1;33m\u001b[0m\u001b[0m\n",
      "\u001b[1;32m~\\AppData\\Local\\Programs\\Python\\Python37\\lib\\site-packages\\pandas\\core\\internals\\construction.py\u001b[0m in \u001b[0;36minit_dict\u001b[1;34m(data, index, columns, dtype)\u001b[0m\n\u001b[0;32m    285\u001b[0m             \u001b[0marr\u001b[0m \u001b[1;32mif\u001b[0m \u001b[1;32mnot\u001b[0m \u001b[0mis_datetime64tz_dtype\u001b[0m\u001b[1;33m(\u001b[0m\u001b[0marr\u001b[0m\u001b[1;33m)\u001b[0m \u001b[1;32melse\u001b[0m \u001b[0marr\u001b[0m\u001b[1;33m.\u001b[0m\u001b[0mcopy\u001b[0m\u001b[1;33m(\u001b[0m\u001b[1;33m)\u001b[0m \u001b[1;32mfor\u001b[0m \u001b[0marr\u001b[0m \u001b[1;32min\u001b[0m \u001b[0marrays\u001b[0m\u001b[1;33m\u001b[0m\u001b[1;33m\u001b[0m\u001b[0m\n\u001b[0;32m    286\u001b[0m         ]\n\u001b[1;32m--> 287\u001b[1;33m     \u001b[1;32mreturn\u001b[0m \u001b[0marrays_to_mgr\u001b[0m\u001b[1;33m(\u001b[0m\u001b[0marrays\u001b[0m\u001b[1;33m,\u001b[0m \u001b[0mdata_names\u001b[0m\u001b[1;33m,\u001b[0m \u001b[0mindex\u001b[0m\u001b[1;33m,\u001b[0m \u001b[0mcolumns\u001b[0m\u001b[1;33m,\u001b[0m \u001b[0mdtype\u001b[0m\u001b[1;33m=\u001b[0m\u001b[0mdtype\u001b[0m\u001b[1;33m)\u001b[0m\u001b[1;33m\u001b[0m\u001b[1;33m\u001b[0m\u001b[0m\n\u001b[0m\u001b[0;32m    288\u001b[0m \u001b[1;33m\u001b[0m\u001b[0m\n\u001b[0;32m    289\u001b[0m \u001b[1;33m\u001b[0m\u001b[0m\n",
      "\u001b[1;32m~\\AppData\\Local\\Programs\\Python\\Python37\\lib\\site-packages\\pandas\\core\\internals\\construction.py\u001b[0m in \u001b[0;36marrays_to_mgr\u001b[1;34m(arrays, arr_names, index, columns, dtype, verify_integrity)\u001b[0m\n\u001b[0;32m     78\u001b[0m         \u001b[1;31m# figure out the index, if necessary\u001b[0m\u001b[1;33m\u001b[0m\u001b[1;33m\u001b[0m\u001b[1;33m\u001b[0m\u001b[0m\n\u001b[0;32m     79\u001b[0m         \u001b[1;32mif\u001b[0m \u001b[0mindex\u001b[0m \u001b[1;32mis\u001b[0m \u001b[1;32mNone\u001b[0m\u001b[1;33m:\u001b[0m\u001b[1;33m\u001b[0m\u001b[1;33m\u001b[0m\u001b[0m\n\u001b[1;32m---> 80\u001b[1;33m             \u001b[0mindex\u001b[0m \u001b[1;33m=\u001b[0m \u001b[0mextract_index\u001b[0m\u001b[1;33m(\u001b[0m\u001b[0marrays\u001b[0m\u001b[1;33m)\u001b[0m\u001b[1;33m\u001b[0m\u001b[1;33m\u001b[0m\u001b[0m\n\u001b[0m\u001b[0;32m     81\u001b[0m         \u001b[1;32melse\u001b[0m\u001b[1;33m:\u001b[0m\u001b[1;33m\u001b[0m\u001b[1;33m\u001b[0m\u001b[0m\n\u001b[0;32m     82\u001b[0m             \u001b[0mindex\u001b[0m \u001b[1;33m=\u001b[0m \u001b[0mensure_index\u001b[0m\u001b[1;33m(\u001b[0m\u001b[0mindex\u001b[0m\u001b[1;33m)\u001b[0m\u001b[1;33m\u001b[0m\u001b[1;33m\u001b[0m\u001b[0m\n",
      "\u001b[1;32m~\\AppData\\Local\\Programs\\Python\\Python37\\lib\\site-packages\\pandas\\core\\internals\\construction.py\u001b[0m in \u001b[0;36mextract_index\u001b[1;34m(data)\u001b[0m\n\u001b[0;32m    403\u001b[0m             \u001b[1;32mif\u001b[0m \u001b[0mhave_dicts\u001b[0m\u001b[1;33m:\u001b[0m\u001b[1;33m\u001b[0m\u001b[1;33m\u001b[0m\u001b[0m\n\u001b[0;32m    404\u001b[0m                 raise ValueError(\n\u001b[1;32m--> 405\u001b[1;33m                     \u001b[1;34m\"Mixing dicts with non-Series may lead to ambiguous ordering.\"\u001b[0m\u001b[1;33m\u001b[0m\u001b[1;33m\u001b[0m\u001b[0m\n\u001b[0m\u001b[0;32m    406\u001b[0m                 )\n\u001b[0;32m    407\u001b[0m \u001b[1;33m\u001b[0m\u001b[0m\n",
      "\u001b[1;31mValueError\u001b[0m: Mixing dicts with non-Series may lead to ambiguous ordering."
     ]
    }
   ],
   "source": [
    "df2 = pd.DataFrame(data[\"response\"])\n",
    "df2"
   ]
  },
  {
   "cell_type": "code",
   "execution_count": 61,
   "metadata": {},
   "outputs": [
    {
     "output_type": "stream",
     "name": "stdout",
     "text": [
      "\n"
     ]
    }
   ],
   "source": [
    "data[\"response\"][\"groups\"]\n",
    "print()"
   ]
  },
  {
   "cell_type": "code",
   "execution_count": 90,
   "metadata": {},
   "outputs": [
    {
     "output_type": "execute_result",
     "data": {
      "text/plain": [
       "list"
      ]
     },
     "metadata": {},
     "execution_count": 90
    }
   ],
   "source": [
    "type(data[\"response\"]['groups'])"
   ]
  },
  {
   "cell_type": "code",
   "execution_count": 91,
   "metadata": {},
   "outputs": [
    {
     "output_type": "execute_result",
     "data": {
      "text/plain": [
       "dict"
      ]
     },
     "metadata": {},
     "execution_count": 91
    }
   ],
   "source": [
    "type(data[\"response\"]['groups'][0])\n"
   ]
  },
  {
   "cell_type": "code",
   "execution_count": 93,
   "metadata": {},
   "outputs": [
    {
     "output_type": "execute_result",
     "data": {
      "text/plain": [
       "dict_keys(['type', 'name', 'items'])"
      ]
     },
     "metadata": {},
     "execution_count": 93
    }
   ],
   "source": [
    "data[\"response\"]['groups'][0].keys()"
   ]
  },
  {
   "cell_type": "code",
   "execution_count": 52,
   "metadata": {},
   "outputs": [
    {
     "output_type": "execute_result",
     "data": {
      "text/plain": [
       "dict_keys(['type', 'name', 'items'])"
      ]
     },
     "metadata": {},
     "execution_count": 52
    }
   ],
   "source": [
    "data[\"response\"]['groups'][0].keys()"
   ]
  },
  {
   "cell_type": "code",
   "execution_count": 58,
   "metadata": {},
   "outputs": [
    {
     "output_type": "execute_result",
     "data": {
      "text/plain": [
       "dict_keys(['reasons', 'venue', 'referralId'])"
      ]
     },
     "metadata": {},
     "execution_count": 58
    }
   ],
   "source": [
    "data[\"response\"]['groups'][0][\"items\"][0].keys()"
   ]
  },
  {
   "cell_type": "code",
   "execution_count": 63,
   "metadata": {},
   "outputs": [
    {
     "output_type": "execute_result",
     "data": {
      "text/plain": [
       "{'id': '5ac924f0a22db76045072b51',\n",
       " 'name': 'Charrua',\n",
       " 'contact': {},\n",
       " 'location': {'lat': 40.422416,\n",
       "  'lng': -3.693999,\n",
       "  'labeledLatLngs': [{'label': 'display', 'lat': 40.422416, 'lng': -3.693999}],\n",
       "  'distance': 148,\n",
       "  'postalCode': '28004',\n",
       "  'cc': 'ES',\n",
       "  'city': 'Madrid',\n",
       "  'state': 'Madrid',\n",
       "  'country': 'España',\n",
       "  'formattedAddress': ['28004 Madrid Madrid', 'España']},\n",
       " 'categories': [{'id': '4bf58dd8d48988d1df931735',\n",
       "   'name': 'BBQ Joint',\n",
       "   'pluralName': 'BBQ Joints',\n",
       "   'shortName': 'BBQ',\n",
       "   'icon': {'prefix': 'https://ss3.4sqi.net/img/categories_v2/food/bbqalt_',\n",
       "    'suffix': '.png'},\n",
       "   'primary': True}],\n",
       " 'verified': False,\n",
       " 'stats': {'tipCount': 0,\n",
       "  'usersCount': 0,\n",
       "  'checkinsCount': 0,\n",
       "  'visitsCount': 0},\n",
       " 'beenHere': {'count': 0,\n",
       "  'lastCheckinExpiredAt': 0,\n",
       "  'marked': False,\n",
       "  'unconfirmedCount': 0},\n",
       " 'photos': {'count': 0, 'groups': []},\n",
       " 'hereNow': {'count': 0, 'summary': 'Nobody here', 'groups': []}}"
      ]
     },
     "metadata": {},
     "execution_count": 63
    }
   ],
   "source": [
    "data[\"response\"]['groups'][0][\"items\"][0][\"venue\"]"
   ]
  },
  {
   "cell_type": "code",
   "execution_count": 65,
   "metadata": {},
   "outputs": [
    {
     "output_type": "execute_result",
     "data": {
      "text/plain": [
       "dict_keys(['id', 'name', 'contact', 'location', 'categories', 'verified', 'stats', 'beenHere', 'photos', 'hereNow'])"
      ]
     },
     "metadata": {},
     "execution_count": 65
    }
   ],
   "source": [
    "data[\"response\"]['groups'][0][\"items\"][0][\"venue\"].keys()"
   ]
  },
  {
   "cell_type": "code",
   "execution_count": 57,
   "metadata": {},
   "outputs": [
    {
     "output_type": "execute_result",
     "data": {
      "text/plain": [
       "{'reasons': {'count': 0,\n",
       "  'items': [{'summary': 'This spot is popular',\n",
       "    'type': 'general',\n",
       "    'reasonName': 'globalInteractionReason'}]},\n",
       " 'venue': {'id': '5ac924f0a22db76045072b51',\n",
       "  'name': 'Charrua',\n",
       "  'contact': {},\n",
       "  'location': {'lat': 40.422416,\n",
       "   'lng': -3.693999,\n",
       "   'labeledLatLngs': [{'label': 'display',\n",
       "     'lat': 40.422416,\n",
       "     'lng': -3.693999}],\n",
       "   'distance': 148,\n",
       "   'postalCode': '28004',\n",
       "   'cc': 'ES',\n",
       "   'city': 'Madrid',\n",
       "   'state': 'Madrid',\n",
       "   'country': 'España',\n",
       "   'formattedAddress': ['28004 Madrid Madrid', 'España']},\n",
       "  'categories': [{'id': '4bf58dd8d48988d1df931735',\n",
       "    'name': 'BBQ Joint',\n",
       "    'pluralName': 'BBQ Joints',\n",
       "    'shortName': 'BBQ',\n",
       "    'icon': {'prefix': 'https://ss3.4sqi.net/img/categories_v2/food/bbqalt_',\n",
       "     'suffix': '.png'},\n",
       "    'primary': True}],\n",
       "  'verified': False,\n",
       "  'stats': {'tipCount': 0,\n",
       "   'usersCount': 0,\n",
       "   'checkinsCount': 0,\n",
       "   'visitsCount': 0},\n",
       "  'beenHere': {'count': 0,\n",
       "   'lastCheckinExpiredAt': 0,\n",
       "   'marked': False,\n",
       "   'unconfirmedCount': 0},\n",
       "  'photos': {'count': 0, 'groups': []},\n",
       "  'hereNow': {'count': 0, 'summary': 'Nobody here', 'groups': []}},\n",
       " 'referralId': 'e-3-5ac924f0a22db76045072b51-0'}"
      ]
     },
     "metadata": {},
     "execution_count": 57
    }
   ],
   "source": [
    "data[\"response\"]['groups'][0][\"items\"][0]"
   ]
  },
  {
   "cell_type": "code",
   "execution_count": 62,
   "metadata": {},
   "outputs": [
    {
     "output_type": "execute_result",
     "data": {
      "text/plain": [
       "'Charrua'"
      ]
     },
     "metadata": {},
     "execution_count": 62
    }
   ],
   "source": [
    "data[\"response\"]['groups'][0][\"items\"][0][\"venue\"]['name']"
   ]
  },
  {
   "cell_type": "code",
   "execution_count": 75,
   "metadata": {
    "tags": []
   },
   "outputs": [
    {
     "output_type": "stream",
     "name": "stdout",
     "text": [
      "Charrua\n--------------------------\nPelotari\n--------------------------\nCannibal Raw Bar\n--------------------------\nDoki Doki\n--------------------------\nla vaca y la huerta\n--------------------------\nPanod\n--------------------------\ncelicioso\n--------------------------\nFlavia Restaurante & Bar\n--------------------------\nNew York Burger\n--------------------------\nRaimunda\n--------------------------\nMamá Chicó\n--------------------------\nBanzai\n--------------------------\nEl Cafetin De Fernando VI\n--------------------------\nDSTAgE\n--------------------------\nHabanera\n--------------------------\nFood Truck\n--------------------------\nShuwa Shuwa\n--------------------------\nFaborit\n--------------------------\nAl-Mounia\n--------------------------\nLa Tavernetta\n--------------------------\nMagasand Columela\n--------------------------\na.n.E.l. Tapas & Lounge Bar\n--------------------------\nil Tavolo Verde\n--------------------------\nAdolfo Dominguez Lounge Cafe\n--------------------------\nEl Supremo\n--------------------------\nAarde\n--------------------------\nBarrutia\n--------------------------\nVides\n--------------------------\nLa Lupita\n--------------------------\nKrachai\n--------------------------\nBunny's Deli\n--------------------------\nRamsés\n--------------------------\nPrep' La Crêpe\n--------------------------\nMal de Amores\n--------------------------\nLa Candelita\n--------------------------\nLa Giralda IV\n--------------------------\nRoostiq\n--------------------------\nHonest Greens\n--------------------------\nMad Grill\n--------------------------\nThai Garden 2112\n--------------------------\n99 Sushi Bar\n--------------------------\nRoots\n--------------------------\nLa Panaderia de Chueca\n--------------------------\nTrattoria Pulcinella\n--------------------------\nLa Maquina Jorge Juan\n--------------------------\nMorgana\n--------------------------\nAlabaster\n--------------------------\nEl Paraguas\n--------------------------\nLa Magdalena De Proust\n--------------------------\nniMÚ Barquillo\n--------------------------\nKuoco 360\n--------------------------\nLa Bien Aparecida\n--------------------------\nHot Now\n--------------------------\nTaj Mahal\n--------------------------\nGarcía de La Navarra\n--------------------------\nTienda de Vinos (El Comunista)\n--------------------------\nSr. Ito\n--------------------------\nMerci\n--------------------------\nLa Garriga\n--------------------------\nLa alacena de Victor Montes (mercado de San Anton)\n--------------------------\nLa Mafia se sienta a la mesa\n--------------------------\nCafé de París, L' Entrecot\n--------------------------\nLa Primera\n--------------------------\nLa Galette 2 - Casa Escondida\n--------------------------\nCapperi Mercato Italiano\n--------------------------\nEl Perro y La Galleta\n--------------------------\nAloha Poké\n--------------------------\nPlatea Madrid\n--------------------------\nPizzaiolo\n--------------------------\nLa Carmencita\n--------------------------\nPeyote San\n--------------------------\nUltramarinos Quintin\n--------------------------\nLa Buha\n--------------------------\nThai Orchid\n--------------------------\nQuispe\n--------------------------\nPropaganda\n--------------------------\nEl Cisne Azul\n--------------------------\nAmazónico\n--------------------------\nMallorca Market\n--------------------------\nBocadillo de Jamón y Champán\n--------------------------\nShikku\n--------------------------\nMagasand\n--------------------------\nRESTAURANTE KRITIKOS\n--------------------------\nMestizo\n--------------------------\nTampu\n--------------------------\nFit Food\n--------------------------\nLa Senda De Xiquena\n--------------------------\nYakitoro\n--------------------------\nÔven Mozzarella Bar\n--------------------------\nIzakaya Han\n--------------------------\nDiurno Restaurant & Bar\n--------------------------\nArabia\n--------------------------\nLa Castafiore\n--------------------------\nLara Grill\n--------------------------\nCafés Arrivederci\n--------------------------\nLa Santa\n--------------------------\nAüakt\n--------------------------\nPatio De Leones\n--------------------------\ncripeka\n--------------------------\nPink Monkey\n--------------------------\n\n"
     ]
    }
   ],
   "source": [
    "for rest in data[\"response\"]['groups'][0][\"items\"]:\n",
    "    print(rest[\"venue\"][\"name\"])\n",
    "    print(\"--------------------------\")\n"
   ]
  },
  {
   "cell_type": "code",
   "execution_count": 70,
   "metadata": {},
   "outputs": [
    {
     "output_type": "execute_result",
     "data": {
      "text/plain": [
       "['Charrua', 'Pelotari', 'Cannibal Raw Bar', 'Doki Doki', 'la vaca y la huerta']"
      ]
     },
     "metadata": {},
     "execution_count": 70
    }
   ],
   "source": [
    "opciones = [rest[\"venue\"][\"name\"] for rest in data[\"response\"]['groups'][0][\"items\"]]\n",
    "opciones[:5]"
   ]
  },
  {
   "cell_type": "code",
   "execution_count": 71,
   "metadata": {},
   "outputs": [
    {
     "output_type": "stream",
     "name": "stdout",
     "text": [
      "148\n--------------------------\n140\n--------------------------\n168\n--------------------------\n268\n--------------------------\n245\n--------------------------\n282\n--------------------------\n299\n--------------------------\n228\n--------------------------\n146\n--------------------------\n275\n--------------------------\n233\n--------------------------\n191\n--------------------------\n381\n--------------------------\n410\n--------------------------\n322\n--------------------------\n346\n--------------------------\n167\n--------------------------\n344\n--------------------------\n146\n--------------------------\n410\n--------------------------\n404\n--------------------------\n288\n--------------------------\n263\n--------------------------\n340\n--------------------------\n137\n--------------------------\n425\n--------------------------\n411\n--------------------------\n468\n--------------------------\n160\n--------------------------\n451\n--------------------------\n436\n--------------------------\n375\n--------------------------\n394\n--------------------------\n372\n--------------------------\n280\n--------------------------\n473\n--------------------------\n341\n--------------------------\n535\n--------------------------\n488\n--------------------------\n132\n--------------------------\n525\n--------------------------\n351\n--------------------------\n443\n--------------------------\n418\n--------------------------\n533\n--------------------------\n472\n--------------------------\n553\n--------------------------\n563\n--------------------------\n412\n--------------------------\n301\n--------------------------\n531\n--------------------------\n468\n--------------------------\n510\n--------------------------\n384\n--------------------------\n510\n--------------------------\n445\n--------------------------\n471\n--------------------------\n170\n--------------------------\n409\n--------------------------\n455\n--------------------------\n439\n--------------------------\n478\n--------------------------\n608\n--------------------------\n88\n--------------------------\n545\n--------------------------\n486\n--------------------------\n465\n--------------------------\n487\n--------------------------\n550\n--------------------------\n453\n--------------------------\n319\n--------------------------\n597\n--------------------------\n500\n--------------------------\n453\n--------------------------\n524\n--------------------------\n470\n--------------------------\n377\n--------------------------\n627\n--------------------------\n507\n--------------------------\n373\n--------------------------\n566\n--------------------------\n506\n--------------------------\n442\n--------------------------\n217\n--------------------------\n131\n--------------------------\n401\n--------------------------\n173\n--------------------------\n536\n--------------------------\n607\n--------------------------\n534\n--------------------------\n455\n--------------------------\n240\n--------------------------\n118\n--------------------------\n528\n--------------------------\n525\n--------------------------\n531\n--------------------------\n324\n--------------------------\n383\n--------------------------\n540\n--------------------------\n494\n--------------------------\n"
     ]
    }
   ],
   "source": [
    "for rest in data[\"response\"]['groups'][0][\"items\"]:\n",
    "    print(rest[\"venue\"][\"location\"][\"distance\"])\n",
    "    print(\"--------------------------\")"
   ]
  },
  {
   "cell_type": "code",
   "execution_count": 72,
   "metadata": {},
   "outputs": [],
   "source": [
    "for rest in data[\"response\"]['groups'][0][\"items\"]:\n",
    "    x = rest[\"venue\"][\"location\"][\"distance\"]\n"
   ]
  },
  {
   "cell_type": "markdown",
   "metadata": {},
   "source": [
    "Comprobamos que efectivamente están cerca de **The Bridge**"
   ]
  },
  {
   "cell_type": "markdown",
   "metadata": {},
   "source": [
    "- **Charrua**"
   ]
  },
  {
   "cell_type": "markdown",
   "metadata": {},
   "source": [
    "https://www.google.com/maps/place/Charr%C3%BAa+Madrid/@40.4213206,-3.6974034,15z/data=!4m5!3m4!1s0x0:0x8673b16903da6e51!8m2!3d40.4223987!4d-3.6940989"
   ]
  },
  {
   "cell_type": "markdown",
   "metadata": {},
   "source": [
    "- **Pelotari**"
   ]
  },
  {
   "cell_type": "markdown",
   "metadata": {},
   "source": [
    "https://www.google.com/maps/place/Pelotari/@40.4210322,-3.7011421,15.06z/data=!4m8!1m2!2m1!1spelotari!3m4!1s0xd42289a8d2d74cb:0x2b6420709612ce53!8m2!3d40.4222232!4d-3.6906525"
   ]
  },
  {
   "cell_type": "markdown",
   "metadata": {},
   "source": [
    "- **Doki doki**"
   ]
  },
  {
   "cell_type": "markdown",
   "metadata": {},
   "source": [
    "https://www.google.com/maps/place/Restaurante+Doki+Doki/@40.421046,-3.6919977,17z/data=!3m1!4b1!4m5!3m4!1s0xd42289a5313ac17:0x27cfb02077407a64!8m2!3d40.421046!4d-3.689809"
   ]
  }
 ]
}