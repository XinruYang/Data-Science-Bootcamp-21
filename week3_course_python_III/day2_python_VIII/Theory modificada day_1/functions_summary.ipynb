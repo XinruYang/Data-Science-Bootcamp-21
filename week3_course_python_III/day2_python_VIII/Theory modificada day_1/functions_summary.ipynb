{
 "metadata": {
  "language_info": {
   "codemirror_mode": {
    "name": "ipython",
    "version": 3
   },
   "file_extension": ".py",
   "mimetype": "text/x-python",
   "name": "python",
   "nbconvert_exporter": "python",
   "pygments_lexer": "ipython3",
   "version": "3.6.4"
  },
  "orig_nbformat": 2,
  "kernelspec": {
   "name": "python36464bitc2077ed07ea84d23aa5b518d224882ab",
   "display_name": "Python 3.6.4 64-bit"
  },
  "metadata": {
   "interpreter": {
    "hash": "5c4d2f1fdcd3716c7a5eea90ad07be30193490dd4e63617705244f5fd89ea793"
   }
  }
 },
 "nbformat": 4,
 "nbformat_minor": 2,
 "cells": [
  {
   "cell_type": "code",
   "execution_count": 2,
   "metadata": {},
   "outputs": [
    {
     "output_type": "stream",
     "name": "stdout",
     "text": [
      "1\nNone\n"
     ]
    }
   ],
   "source": [
    "def f():\n",
    "    print(1)\n",
    "\n",
    "print(f())"
   ]
  },
  {
   "cell_type": "code",
   "execution_count": 5,
   "metadata": {},
   "outputs": [
    {
     "output_type": "stream",
     "name": "stdout",
     "text": [
      "2\n"
     ]
    }
   ],
   "source": [
    "def f2(x):\n",
    "    print(x)\n",
    "\n",
    "f2(x=2)"
   ]
  },
  {
   "cell_type": "code",
   "execution_count": 7,
   "metadata": {},
   "outputs": [
    {
     "output_type": "stream",
     "name": "stdout",
     "text": [
      "5\n"
     ]
    }
   ],
   "source": [
    "def f3(x, y=2):\n",
    "    print(x + y)\n",
    "\n",
    "f3(x=1, y=4)"
   ]
  },
  {
   "cell_type": "code",
   "execution_count": 8,
   "metadata": {},
   "outputs": [
    {
     "output_type": "stream",
     "name": "stdout",
     "text": [
      "3\n"
     ]
    }
   ],
   "source": [
    "f3(x=1)"
   ]
  },
  {
   "cell_type": "code",
   "execution_count": 10,
   "metadata": {},
   "outputs": [],
   "source": [
    "def f4(x, y=2):\n",
    "    print(x, y)\n",
    "    return x, y"
   ]
  },
  {
   "cell_type": "code",
   "execution_count": 11,
   "metadata": {},
   "outputs": [
    {
     "output_type": "error",
     "ename": "TypeError",
     "evalue": "f4() missing 1 required positional argument: 'x'",
     "traceback": [
      "\u001b[1;31m---------------------------------------------------------------------------\u001b[0m",
      "\u001b[1;31mTypeError\u001b[0m                                 Traceback (most recent call last)",
      "\u001b[1;32m<ipython-input-11-8fd2b7e7fa74>\u001b[0m in \u001b[0;36m<module>\u001b[1;34m\u001b[0m\n\u001b[1;32m----> 1\u001b[1;33m \u001b[0mf4\u001b[0m\u001b[1;33m(\u001b[0m\u001b[0my\u001b[0m\u001b[1;33m=\u001b[0m\u001b[1;36m1\u001b[0m\u001b[1;33m)\u001b[0m\u001b[1;33m\u001b[0m\u001b[0m\n\u001b[0m",
      "\u001b[1;31mTypeError\u001b[0m: f4() missing 1 required positional argument: 'x'"
     ]
    }
   ],
   "source": [
    "f4(y=1)"
   ]
  },
  {
   "cell_type": "code",
   "execution_count": 12,
   "metadata": {},
   "outputs": [
    {
     "output_type": "stream",
     "name": "stdout",
     "text": [
      "2 2\n"
     ]
    },
    {
     "output_type": "execute_result",
     "data": {
      "text/plain": [
       "(2, 2)"
      ]
     },
     "metadata": {},
     "execution_count": 12
    }
   ],
   "source": [
    "f4(x=2)"
   ]
  },
  {
   "cell_type": "code",
   "execution_count": 14,
   "metadata": {},
   "outputs": [
    {
     "output_type": "stream",
     "name": "stdout",
     "text": [
      "<class 'tuple'>\n"
     ]
    },
    {
     "output_type": "execute_result",
     "data": {
      "text/plain": [
       "(2, 6)"
      ]
     },
     "metadata": {},
     "execution_count": 14
    }
   ],
   "source": [
    "x = 2, 6\n",
    "\n",
    "print(type(x))\n",
    "x"
   ]
  },
  {
   "cell_type": "code",
   "execution_count": 15,
   "metadata": {},
   "outputs": [],
   "source": [
    "def f5(x=1, y=2):\n",
    "    print(x, y)\n",
    "    return x, y"
   ]
  },
  {
   "cell_type": "code",
   "execution_count": 16,
   "metadata": {},
   "outputs": [
    {
     "output_type": "stream",
     "name": "stdout",
     "text": [
      "7\n"
     ]
    },
    {
     "output_type": "execute_result",
     "data": {
      "text/plain": [
       "7"
      ]
     },
     "metadata": {},
     "execution_count": 16
    }
   ],
   "source": [
    "def f5(x=1, y=2, z=4):\n",
    "    print(x + y + z)\n",
    "    return x + y + z\n",
    "\n",
    "f5()"
   ]
  },
  {
   "cell_type": "code",
   "execution_count": 18,
   "metadata": {},
   "outputs": [
    {
     "output_type": "stream",
     "name": "stdout",
     "text": [
      "8\n"
     ]
    },
    {
     "output_type": "execute_result",
     "data": {
      "text/plain": [
       "8"
      ]
     },
     "metadata": {},
     "execution_count": 18
    }
   ],
   "source": [
    "def f5(x, y, z=2):\n",
    "    print(x + y + z)\n",
    "    return x + y + z\n",
    "\n",
    "f5(2, 4)"
   ]
  },
  {
   "cell_type": "code",
   "execution_count": 19,
   "metadata": {},
   "outputs": [
    {
     "output_type": "stream",
     "name": "stdout",
     "text": [
      "9\n"
     ]
    },
    {
     "output_type": "execute_result",
     "data": {
      "text/plain": [
       "9"
      ]
     },
     "metadata": {},
     "execution_count": 19
    }
   ],
   "source": [
    "def f5(x, y=5, z=2):\n",
    "    print(x + y + z)\n",
    "    return x + y + z\n",
    "\n",
    "f5(2)"
   ]
  },
  {
   "cell_type": "code",
   "execution_count": 20,
   "metadata": {},
   "outputs": [
    {
     "output_type": "error",
     "ename": "SyntaxError",
     "evalue": "non-default argument follows default argument (<ipython-input-20-44126847458a>, line 1)",
     "traceback": [
      "\u001b[1;36m  File \u001b[1;32m\"<ipython-input-20-44126847458a>\"\u001b[1;36m, line \u001b[1;32m1\u001b[0m\n\u001b[1;33m    def f5(x, y=5, z):\u001b[0m\n\u001b[1;37m          ^\u001b[0m\n\u001b[1;31mSyntaxError\u001b[0m\u001b[1;31m:\u001b[0m non-default argument follows default argument\n"
     ]
    }
   ],
   "source": [
    "def f5(x, y=5, z):\n",
    "    print(x + y + z)\n",
    "    return x + y + z\n",
    "\n",
    "f5(x=2, z=5)"
   ]
  },
  {
   "cell_type": "code",
   "execution_count": 22,
   "metadata": {},
   "outputs": [
    {
     "output_type": "error",
     "ename": "SyntaxError",
     "evalue": "non-default argument follows default argument (<ipython-input-22-694df23ad037>, line 3)",
     "traceback": [
      "\u001b[1;36m  File \u001b[1;32m\"<ipython-input-22-694df23ad037>\"\u001b[1;36m, line \u001b[1;32m3\u001b[0m\n\u001b[1;33m    def f5(x, y=5, z):\u001b[0m\n\u001b[1;37m          ^\u001b[0m\n\u001b[1;31mSyntaxError\u001b[0m\u001b[1;31m:\u001b[0m non-default argument follows default argument\n"
     ]
    }
   ],
   "source": [
    "# En cuanto un parámetro tenga un valor por defecto y sea opciona --> todos los que estén a su derecha deben tener un valor por defecto también.\n",
    "\n",
    "def f5(x, y=5, z):\n",
    "    print(x + y + z)\n",
    "    return x + y + z\n",
    "\n",
    "f5(5, 1)"
   ]
  },
  {
   "cell_type": "code",
   "execution_count": 4,
   "metadata": {},
   "outputs": [],
   "source": [
    "x = lambda r: print(2)"
   ]
  },
  {
   "cell_type": "code",
   "execution_count": 1,
   "metadata": {},
   "outputs": [
    {
     "output_type": "execute_result",
     "data": {
      "text/plain": [
       "['z:\\\\Data_Science\\\\TheBridge\\\\Content\\\\Contenido_Curso\\\\data_science_apr_2021\\\\week3_course_python_III\\\\day1_python_vii\\\\theory',\n",
       " 'c:\\\\Users\\\\gvazquez\\\\.vscode\\\\extensions\\\\ms-toolsai.jupyter-2021.5.745244803\\\\pythonFiles',\n",
       " 'c:\\\\Users\\\\gvazquez\\\\.vscode\\\\extensions\\\\ms-toolsai.jupyter-2021.5.745244803\\\\pythonFiles',\n",
       " 'c:\\\\Users\\\\gvazquez\\\\.vscode\\\\extensions\\\\ms-toolsai.jupyter-2021.5.745244803\\\\pythonFiles\\\\lib\\\\python',\n",
       " 'Z:\\\\Data_Science\\\\Software\\\\Python\\\\Python_3.6.4\\\\python36.zip',\n",
       " 'Z:\\\\Data_Science\\\\Software\\\\Python\\\\Python_3.6.4\\\\DLLs',\n",
       " 'Z:\\\\Data_Science\\\\Software\\\\Python\\\\Python_3.6.4\\\\lib',\n",
       " 'Z:\\\\Data_Science\\\\Software\\\\Python\\\\Python_3.6.4',\n",
       " '',\n",
       " 'C:\\\\Users\\\\gvazquez\\\\AppData\\\\Roaming\\\\Python\\\\Python36\\\\site-packages',\n",
       " 'C:\\\\Users\\\\gvazquez\\\\AppData\\\\Roaming\\\\Python\\\\Python36\\\\site-packages\\\\win32',\n",
       " 'C:\\\\Users\\\\gvazquez\\\\AppData\\\\Roaming\\\\Python\\\\Python36\\\\site-packages\\\\win32\\\\lib',\n",
       " 'C:\\\\Users\\\\gvazquez\\\\AppData\\\\Roaming\\\\Python\\\\Python36\\\\site-packages\\\\Pythonwin',\n",
       " 'Z:\\\\Data_Science\\\\Software\\\\Python\\\\Python_3.6.4\\\\lib\\\\site-packages',\n",
       " 'C:\\\\Users\\\\gvazquez\\\\AppData\\\\Roaming\\\\Python\\\\Python36\\\\site-packages\\\\IPython\\\\extensions',\n",
       " 'C:\\\\Users\\\\gvazquez\\\\.ipython']"
      ]
     },
     "metadata": {},
     "execution_count": 1
    }
   ],
   "source": [
    "import sys\n",
    "\n",
    "sys.path"
   ]
  },
  {
   "cell_type": "code",
   "execution_count": 2,
   "metadata": {},
   "outputs": [],
   "source": [
    "import fuera_modulo as fm"
   ]
  },
  {
   "cell_type": "code",
   "execution_count": null,
   "metadata": {},
   "outputs": [],
   "source": []
  }
 ]
}