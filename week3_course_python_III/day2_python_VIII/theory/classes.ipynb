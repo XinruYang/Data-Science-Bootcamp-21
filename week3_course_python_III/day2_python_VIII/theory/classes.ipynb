{
 "metadata": {
  "language_info": {
   "codemirror_mode": {
    "name": "ipython",
    "version": 3
   },
   "file_extension": ".py",
   "mimetype": "text/x-python",
   "name": "python",
   "nbconvert_exporter": "python",
   "pygments_lexer": "ipython3",
   "version": "3.7.4"
  },
  "orig_nbformat": 2,
  "kernelspec": {
   "name": "python374jvsc74a57bd0fc2c00f0e2c44cb4028bd693f18a1b5d93d1de4cd12db71fca36ff691a163044",
   "display_name": "Python 3.7.4 64-bit"
  },
  "metadata": {
   "interpreter": {
    "hash": "fc2c00f0e2c44cb4028bd693f18a1b5d93d1de4cd12db71fca36ff691a163044"
   }
  }
 },
 "nbformat": 4,
 "nbformat_minor": 2,
 "cells": [
  {
   "source": [
    "## OPP --> Programación orientada a objetos/Clase\n"
   ],
   "cell_type": "markdown",
   "metadata": {}
  },
  {
   "cell_type": "code",
   "execution_count": null,
   "metadata": {},
   "outputs": [],
   "source": [
    "# No es una buena práctica. Es una mala praxis para representar objetos de la vida real.\n",
    "\n",
    "ojos = 2\n",
    "piernas = 2\n",
    "nombre = \"Ataulfo\"\n"
   ]
  },
  {
   "cell_type": "code",
   "execution_count": 13,
   "metadata": {},
   "outputs": [
    {
     "output_type": "stream",
     "name": "stdout",
     "text": [
      "<__main__.Humano object at 0x00000145FDEAE308>\nAtaulfo\n"
     ]
    }
   ],
   "source": [
    "class Humano: \n",
    "    #función constructor\n",
    "    def __init__(self, n, edad, sexo, altura, color_pelo, ojos=2, piernas=2, especie=\"Homo Sapiens\"):\n",
    "        # nombre del atributo de la clase Humana = valor\n",
    "        self.nombre = n\n",
    "        self.edad = edad\n",
    "        self.sexo = sexo #Hasta que no pongo self. algo no existe el parámetro\n",
    "        self.altura = altura\n",
    "        self.color_pelo = color_pelo\n",
    "        self.ojos = ojos\n",
    "        self.piernas = piernas\n",
    "        self.especie = especie\n",
    "    \n",
    "    def mostrar_piernas(self,piernas=19):\n",
    "        print(\"Este es el valor de una variable piernas\", piernas)\n",
    "        print(\"Este es el atributo piernas humano\", self.piernas) #Si no pongo self.piernas y sólo pongo piernas no accedo al atributo, sino que piernas sería un parámetro no definidio dentro de la función\n",
    "\n",
    "    def mostrar_atributos(self):\n",
    "        print(\"El nombre del humano es:\", self.nombre)\n",
    "        print(\"La edad del humano es:\", self.edad)\n",
    "        print(\"El sexo del humano es:\", self.sexo)\n",
    "        print(\"La altura del humano es:\", self.altura)\n",
    "        print(\"El pelo del humano es:\", self.color_pelo)\n",
    "        print(\"El nº de ojos del humano es:\", self.ojos)\n",
    "        print(\"El nº de piernas del humano es:\", self.piernas)\n",
    "        print(\"La especie del humano es:\", self.especie)\n",
    "\n",
    "    def muestra_jkl(self, jkl):\n",
    "        self.jkl = jkl\n",
    "\n",
    "\n",
    "ataulfo = Humano(n=\"Ataulfo\", edad=25, sexo=\"H\", altura=2.20, ojos=3, color_pelo=\"pelirrojo\") #Lo primero que estamos haciendo es llamar a constructor, que sería la primera función que hay. \n",
    "\n",
    "print(ataulfo)\n",
    "print(ataulfo.nombre)"
   ]
  },
  {
   "cell_type": "code",
   "execution_count": 11,
   "metadata": {},
   "outputs": [
    {
     "output_type": "stream",
     "name": "stdout",
     "text": [
      "Este es el valor de una variable piernas 19\nEste es el atributo piernas humano 2\n"
     ]
    }
   ],
   "source": [
    "ataulfo.mostrar_piernas()"
   ]
  },
  {
   "cell_type": "code",
   "execution_count": 17,
   "metadata": {},
   "outputs": [],
   "source": [
    "elvis = Humano(n=\"Elvis\", edad=25, sexo=\"H\", altura=2.20, ojos=3, color_pelo=\"pelirrojo\")"
   ]
  },
  {
   "cell_type": "code",
   "execution_count": 15,
   "metadata": {},
   "outputs": [
    {
     "output_type": "stream",
     "name": "stdout",
     "text": [
      "El nombre del humano es: Ataulfo\nLa edad del humano es: 25\nEl sexo del humano es: H\nLa altura del humano es: 2.2\nEl pelo del humano es: pelirrojo\nEl nº de ojos del humano es: 3\nEl nº de piernas del humano es: 2\nLa especie del humano es: Homo Sapiens\n"
     ]
    }
   ],
   "source": [
    "ataulfo.mostrar_atributos()"
   ]
  },
  {
   "cell_type": "code",
   "execution_count": 18,
   "metadata": {},
   "outputs": [
    {
     "output_type": "stream",
     "name": "stdout",
     "text": [
      "El nombre del humano es: Elvis\nLa edad del humano es: 25\nEl sexo del humano es: H\nLa altura del humano es: 2.2\nEl pelo del humano es: pelirrojo\nEl nº de ojos del humano es: 3\nEl nº de piernas del humano es: 2\nLa especie del humano es: Homo Sapiens\n"
     ]
    }
   ],
   "source": [
    "elvis.mostrar_atributos()"
   ]
  },
  {
   "cell_type": "code",
   "execution_count": null,
   "metadata": {},
   "outputs": [],
   "source": []
  }
 ]
}