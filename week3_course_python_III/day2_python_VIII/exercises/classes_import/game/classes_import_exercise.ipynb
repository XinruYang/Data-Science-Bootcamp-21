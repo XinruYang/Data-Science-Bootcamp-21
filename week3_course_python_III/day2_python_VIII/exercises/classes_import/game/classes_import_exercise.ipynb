{
 "metadata": {
  "language_info": {
   "codemirror_mode": {
    "name": "ipython",
    "version": 3
   },
   "file_extension": ".py",
   "mimetype": "text/x-python",
   "name": "python",
   "nbconvert_exporter": "python",
   "pygments_lexer": "ipython3",
   "version": "3.7.4"
  },
  "orig_nbformat": 2,
  "kernelspec": {
   "name": "python374jvsc74a57bd0fc2c00f0e2c44cb4028bd693f18a1b5d93d1de4cd12db71fca36ff691a163044",
   "display_name": "Python 3.7.4 64-bit"
  },
  "metadata": {
   "interpreter": {
    "hash": "fc2c00f0e2c44cb4028bd693f18a1b5d93d1de4cd12db71fca36ff691a163044"
   }
  }
 },
 "nbformat": 4,
 "nbformat_minor": 2,
 "cells": [
  {
   "source": [
    "## 1\n",
    "\n",
    "Crea un archivo 'ClaseHumano.py' en la carpeta 'objects' que contenga una clase:\n",
    "\n",
    "* 'Humano' que tiene:\n",
    "    - Un atributo 'ojos' que por defecto es 2\n",
    "    - Un atributo 'piernas' que por defecto es 2\n",
    "    - Un atributo 'dientes' que por defecto es 32\n",
    "    - Un atributo 'nombre'\n",
    "    - Un atributo 'armadura' \n",
    "    - Un atributo 'nivel' \n",
    "    - Un atributo 'ataque'\n",
    "    - Un atributo 'salud' que por defecto es 100\n",
    "    - Una función  llamada 'atacar' que recibe un argumento 'orco' que representa otra clase ('Orco'). Esta función resta a la vida del 'Orco' el ataque de 'Humano' menos la armadura de 'Orco'. Al final, muestra por pantalla la vida del 'Orco'\n",
    "    - Una función no_vivo que retorna True si la vida del 'Humano' es igual o inferior a 0, False en otro caso.\n",
    "    - Una función que muestre por pantalla todos los atributos actuales de 'Humano' concatenados con un String representando el nombre del atributo que se muestra. Ejemplo: \"Nombre: Ataulfo | dientes: 32 | salud: 100 | ...\"\n",
    "\n",
    "Crea un archivo 'ClaseOrco.py' en la carpeta 'objects' que contenga una clase:\n",
    "\n",
    "* 'Orco' que tiene:\n",
    "    - Un atributo 'ojos' que por defecto es 2\n",
    "    - Un atributo 'piernas' que por defecto es 2\n",
    "    - Un atributo 'dientes' que por defecto es 56\n",
    "    - Un atributo 'nombre'\n",
    "    - Un atributo 'armadura' \n",
    "    - Un atributo 'nivel' \n",
    "    - Un atributo 'ataque'\n",
    "    - Un atributo 'salud' que por defecto es 100\n",
    "    - Una función  llamada 'atacar' que recibe un argumento 'humano' que representa otra clase ('Humano'). Esta función resta a la vida del 'Humano' el ataque de 'Orco' menos la armadura de 'Humano'. Al final, muestra por pantalla la vida del 'Humano'\n",
    "    - Una función no_vivo que retorna True si la vida del 'Humano' es igual o inferior a 0, False en otro caso.\n",
    "    - Una función que muestre por pantalla todos los atributos actuales de 'Orco' concatenados con un String representando el nombre del atributo que se muestra. Ejemplo: \"Nombre: Graug | dientes: 56 | salud: 100 | ...\"   "
   ],
   "cell_type": "markdown",
   "metadata": {}
  },
  {
   "source": [
    "## 2\n",
    "\n",
    "Desde aquí, importa las clases del ejercicio 1 (tendrás que utilizar sys.path para poder importar los archivos/módulos/librerías/ficheros). Crea una instancia de Humano/a y otra de Orco/a:\n",
    "\n",
    "* La clase Humano/a ha de inicializarse con los siguientes valores:\n",
    "    - nombre: tu nombre\n",
    "    - nivel: tu edad\n",
    "    - armadura: un número Entero que sea un décimo de tu nivel redondeado hacia abajo\n",
    "    - ataque: un número Entero que sea un quinto de tu nivel redondeado hacia abajo\n",
    "    - Todo lo demás por defecto.\n",
    "\n",
    "* La clase Orco/a ha de inicializarse con los siguientes valores:\n",
    "    - nombre: el nombre de tu compañero/a\n",
    "    - nivel: su edad\n",
    "    - armadura: un número Entero que sea un quinceavo de su nivel redondeado hacia arriba\n",
    "    - ataque: un número Entero que sea un sexto de su nivel redondeado hacia arriba\n",
    "    - Todo lo demás por defecto.\n"
   ],
   "cell_type": "markdown",
   "metadata": {}
  },
  {
   "cell_type": "code",
   "execution_count": 1,
   "metadata": {},
   "outputs": [
    {
     "output_type": "execute_result",
     "data": {
      "text/plain": [
       "['c:\\\\Users\\\\xyang\\\\Desktop\\\\ARCHIVOS\\\\THEBRIDGE\\\\Data-Science-Bootcamp-21\\\\week3_course_python_III\\\\day2_python_VIII\\\\exercises\\\\classes_import\\\\game',\n",
       " 'c:\\\\Users\\\\xyang\\\\.vscode\\\\extensions\\\\ms-toolsai.jupyter-2021.5.745244803\\\\pythonFiles',\n",
       " 'c:\\\\Users\\\\xyang\\\\.vscode\\\\extensions\\\\ms-toolsai.jupyter-2021.5.745244803\\\\pythonFiles',\n",
       " 'c:\\\\Users\\\\xyang\\\\.vscode\\\\extensions\\\\ms-toolsai.jupyter-2021.5.745244803\\\\pythonFiles\\\\lib\\\\python',\n",
       " 'C:\\\\Users\\\\xyang\\\\AppData\\\\Local\\\\Programs\\\\Python\\\\Python37\\\\python37.zip',\n",
       " 'C:\\\\Users\\\\xyang\\\\AppData\\\\Local\\\\Programs\\\\Python\\\\Python37\\\\DLLs',\n",
       " 'C:\\\\Users\\\\xyang\\\\AppData\\\\Local\\\\Programs\\\\Python\\\\Python37\\\\lib',\n",
       " 'C:\\\\Users\\\\xyang\\\\AppData\\\\Local\\\\Programs\\\\Python\\\\Python37',\n",
       " '',\n",
       " 'C:\\\\Users\\\\xyang\\\\AppData\\\\Roaming\\\\Python\\\\Python37\\\\site-packages',\n",
       " 'C:\\\\Users\\\\xyang\\\\AppData\\\\Roaming\\\\Python\\\\Python37\\\\site-packages\\\\win32',\n",
       " 'C:\\\\Users\\\\xyang\\\\AppData\\\\Roaming\\\\Python\\\\Python37\\\\site-packages\\\\win32\\\\lib',\n",
       " 'C:\\\\Users\\\\xyang\\\\AppData\\\\Roaming\\\\Python\\\\Python37\\\\site-packages\\\\Pythonwin',\n",
       " 'C:\\\\Users\\\\xyang\\\\AppData\\\\Local\\\\Programs\\\\Python\\\\Python37\\\\lib\\\\site-packages',\n",
       " 'C:\\\\Users\\\\xyang\\\\AppData\\\\Roaming\\\\Python\\\\Python37\\\\site-packages\\\\IPython\\\\extensions',\n",
       " 'C:\\\\Users\\\\xyang\\\\.ipython']"
      ]
     },
     "metadata": {},
     "execution_count": 1
    }
   ],
   "source": [
    "# Tu código aquí\n",
    "import sys\n",
    "sys.path"
   ]
  },
  {
   "cell_type": "code",
   "execution_count": 2,
   "metadata": {},
   "outputs": [],
   "source": [
    "ruta_a_objects = \"C:\\\\Users\\\\xyang\\\\Desktop\\\\ARCHIVOS\\\\THEBRIDGE\\\\Data-Science-Bootcamp-21\\\\week3_course_python_III\\\\day2_python_VIII\\\\exercises\\\\classes_import\\\\objects\""
   ]
  },
  {
   "cell_type": "code",
   "execution_count": 3,
   "metadata": {},
   "outputs": [
    {
     "output_type": "execute_result",
     "data": {
      "text/plain": [
       "['c:\\\\Users\\\\xyang\\\\Desktop\\\\ARCHIVOS\\\\THEBRIDGE\\\\Data-Science-Bootcamp-21\\\\week3_course_python_III\\\\day2_python_VIII\\\\exercises\\\\classes_import\\\\game',\n",
       " 'c:\\\\Users\\\\xyang\\\\.vscode\\\\extensions\\\\ms-toolsai.jupyter-2021.5.745244803\\\\pythonFiles',\n",
       " 'c:\\\\Users\\\\xyang\\\\.vscode\\\\extensions\\\\ms-toolsai.jupyter-2021.5.745244803\\\\pythonFiles',\n",
       " 'c:\\\\Users\\\\xyang\\\\.vscode\\\\extensions\\\\ms-toolsai.jupyter-2021.5.745244803\\\\pythonFiles\\\\lib\\\\python',\n",
       " 'C:\\\\Users\\\\xyang\\\\AppData\\\\Local\\\\Programs\\\\Python\\\\Python37\\\\python37.zip',\n",
       " 'C:\\\\Users\\\\xyang\\\\AppData\\\\Local\\\\Programs\\\\Python\\\\Python37\\\\DLLs',\n",
       " 'C:\\\\Users\\\\xyang\\\\AppData\\\\Local\\\\Programs\\\\Python\\\\Python37\\\\lib',\n",
       " 'C:\\\\Users\\\\xyang\\\\AppData\\\\Local\\\\Programs\\\\Python\\\\Python37',\n",
       " '',\n",
       " 'C:\\\\Users\\\\xyang\\\\AppData\\\\Roaming\\\\Python\\\\Python37\\\\site-packages',\n",
       " 'C:\\\\Users\\\\xyang\\\\AppData\\\\Roaming\\\\Python\\\\Python37\\\\site-packages\\\\win32',\n",
       " 'C:\\\\Users\\\\xyang\\\\AppData\\\\Roaming\\\\Python\\\\Python37\\\\site-packages\\\\win32\\\\lib',\n",
       " 'C:\\\\Users\\\\xyang\\\\AppData\\\\Roaming\\\\Python\\\\Python37\\\\site-packages\\\\Pythonwin',\n",
       " 'C:\\\\Users\\\\xyang\\\\AppData\\\\Local\\\\Programs\\\\Python\\\\Python37\\\\lib\\\\site-packages',\n",
       " 'C:\\\\Users\\\\xyang\\\\AppData\\\\Roaming\\\\Python\\\\Python37\\\\site-packages\\\\IPython\\\\extensions',\n",
       " 'C:\\\\Users\\\\xyang\\\\.ipython',\n",
       " 'C:\\\\Users\\\\xyang\\\\Desktop\\\\ARCHIVOS\\\\THEBRIDGE\\\\Data-Science-Bootcamp-21\\\\week3_course_python_III\\\\day2_python_VIII\\\\exercises\\\\classes_import\\\\objects']"
      ]
     },
     "metadata": {},
     "execution_count": 3
    }
   ],
   "source": [
    "sys.path.append(ruta_a_objects)\n",
    "sys.path"
   ]
  },
  {
   "cell_type": "code",
   "execution_count": 4,
   "metadata": {},
   "outputs": [],
   "source": [
    "import ClaseHumano \n",
    "from ClaseHumano import Humano"
   ]
  },
  {
   "cell_type": "code",
   "execution_count": 5,
   "metadata": {},
   "outputs": [],
   "source": [
    "import ClaseOrco\n",
    "from ClaseOrco import Orco\n"
   ]
  },
  {
   "cell_type": "code",
   "execution_count": 10,
   "metadata": {},
   "outputs": [],
   "source": [
    "import math"
   ]
  },
  {
   "cell_type": "code",
   "execution_count": 28,
   "metadata": {},
   "outputs": [],
   "source": [
    "Xinru = Humano(\"Xinru\", math.floor(1/10 * 24), 24, math.ceil(1/5 * 24))"
   ]
  },
  {
   "cell_type": "code",
   "execution_count": 29,
   "metadata": {},
   "outputs": [],
   "source": [
    "Pablis = Orco(\"Pablis\", math.ceil(1/15 * 28), 28, math.ceil( 1/6 * 28))"
   ]
  },
  {
   "cell_type": "code",
   "execution_count": 16,
   "metadata": {},
   "outputs": [
    {
     "output_type": "execute_result",
     "data": {
      "text/plain": [
       "2"
      ]
     },
     "metadata": {},
     "execution_count": 16
    }
   ],
   "source": [
    "math.floor(1/10 * 24)"
   ]
  },
  {
   "cell_type": "code",
   "execution_count": 19,
   "metadata": {},
   "outputs": [
    {
     "output_type": "execute_result",
     "data": {
      "text/plain": [
       "2"
      ]
     },
     "metadata": {},
     "execution_count": 19
    }
   ],
   "source": [
    "int(round(1/15 * 28,0))"
   ]
  },
  {
   "cell_type": "code",
   "execution_count": 14,
   "metadata": {},
   "outputs": [
    {
     "output_type": "execute_result",
     "data": {
      "text/plain": [
       "4"
      ]
     },
     "metadata": {},
     "execution_count": 14
    }
   ],
   "source": [
    "int(1/5 * 24)"
   ]
  },
  {
   "cell_type": "code",
   "execution_count": 15,
   "metadata": {},
   "outputs": [
    {
     "output_type": "execute_result",
     "data": {
      "text/plain": [
       "4"
      ]
     },
     "metadata": {},
     "execution_count": 15
    }
   ],
   "source": [
    "int(1/6 * 28)"
   ]
  },
  {
   "source": [
    "## 3\n",
    "\n",
    "Crea un bucle infinito que espere en cada turno(Iteración) 1 segundo. Para ello has de utilizar la función 'sleep(1)' de la librería time. En cada uno de los turnos debe ocurrir lo siguiente:\n",
    "\n",
    "- Que se muestre por pantalla el número del turno que se lleva empezando desde 1.  \n",
    "- Que se ataquen las instancias. Para ello, has de llamar a la función 'atacar' de cada una de las instancias.\n",
    "- Comprobar si una instancia no está viva con la función correspondiente. Si una instancia no está viva, mostrar por pantalla que una de ellas ha perdido y la otra ha ganado. Terminar el juego aquí.\n",
    "- Mostrar al finalizar el turno una barra divisoria para diferenciar un turno del siguiente.\n",
    "\n",
    "Hay que tener en cuenta: \n",
    "\n",
    "- Una instancia no puede atacar a la otra si no está viva.\n",
    "- Empieza primero la instancia que tiene menos nivel."
   ],
   "cell_type": "markdown",
   "metadata": {}
  },
  {
   "cell_type": "code",
   "execution_count": 8,
   "metadata": {},
   "outputs": [],
   "source": [
    "# Tu código aquí\n",
    "import time\n"
   ]
  },
  {
   "cell_type": "code",
   "execution_count": 30,
   "metadata": {},
   "outputs": [
    {
     "output_type": "stream",
     "name": "stdout",
     "text": [
      "Turno: 1\n",
      "97\n",
      "97\n",
      "--------------------\n",
      "Turno: 2\n",
      "94\n",
      "94\n",
      "--------------------\n",
      "Turno: 3\n",
      "91\n",
      "91\n",
      "--------------------\n",
      "Turno: 4\n",
      "88\n",
      "88\n",
      "--------------------\n",
      "Turno: 5\n",
      "85\n",
      "85\n",
      "--------------------\n",
      "Turno: 6\n",
      "82\n",
      "82\n",
      "--------------------\n",
      "Turno: 7\n",
      "79\n",
      "79\n",
      "--------------------\n",
      "Turno: 8\n",
      "76\n",
      "76\n",
      "--------------------\n",
      "Turno: 9\n",
      "73\n",
      "73\n",
      "--------------------\n",
      "Turno: 10\n",
      "70\n",
      "70\n",
      "--------------------\n",
      "Turno: 11\n",
      "67\n",
      "67\n",
      "--------------------\n",
      "Turno: 12\n",
      "64\n",
      "64\n",
      "--------------------\n",
      "Turno: 13\n",
      "61\n",
      "61\n",
      "--------------------\n",
      "Turno: 14\n",
      "58\n",
      "58\n",
      "--------------------\n",
      "Turno: 15\n",
      "55\n",
      "55\n",
      "--------------------\n",
      "Turno: 16\n",
      "52\n",
      "52\n",
      "--------------------\n",
      "Turno: 17\n",
      "49\n",
      "49\n",
      "--------------------\n",
      "Turno: 18\n",
      "46\n",
      "46\n",
      "--------------------\n",
      "Turno: 19\n",
      "43\n",
      "43\n",
      "--------------------\n",
      "Turno: 20\n",
      "40\n",
      "40\n",
      "--------------------\n",
      "Turno: 21\n",
      "37\n",
      "37\n",
      "--------------------\n",
      "Turno: 22\n",
      "34\n",
      "34\n",
      "--------------------\n",
      "Turno: 23\n",
      "31\n",
      "31\n",
      "--------------------\n",
      "Turno: 24\n",
      "28\n",
      "28\n",
      "--------------------\n",
      "Turno: 25\n",
      "25\n",
      "25\n",
      "--------------------\n",
      "Turno: 26\n",
      "22\n",
      "22\n",
      "--------------------\n",
      "Turno: 27\n",
      "19\n",
      "19\n",
      "--------------------\n",
      "Turno: 28\n",
      "16\n",
      "16\n",
      "--------------------\n",
      "Turno: 29\n",
      "13\n",
      "13\n",
      "--------------------\n",
      "Turno: 30\n",
      "10\n",
      "10\n",
      "--------------------\n",
      "Turno: 31\n",
      "7\n",
      "7\n",
      "--------------------\n",
      "Turno: 32\n",
      "4\n",
      "4\n",
      "--------------------\n",
      "Turno: 33\n",
      "1\n",
      "1\n",
      "--------------------\n",
      "Turno: 34\n",
      "-2\n",
      "-2\n",
      "Xinru Gana\n"
     ]
    }
   ],
   "source": [
    "turno = 1\n",
    "\n",
    "while True: \n",
    "    \n",
    "    print(\"Turno:\",turno)\n",
    "    time.sleep(1)\n",
    "    Xinru.atacaque_a_orco(Pablis)\n",
    "    Pablis.ataque_a_humano(Xinru)\n",
    "    \n",
    "\n",
    "    if Pablis.no_vvie_orco(Pablis.salud):\n",
    "        print(\"Xinru Gana\")\n",
    "        break\n",
    "    if Xinru.no_vive_humano(Xinru.salud):\n",
    "        print(\"Pablo Gana\")\n",
    "        break\n",
    "    turno += 1\n",
    "    print(\"--------------------\")"
   ]
  },
  {
   "cell_type": "code",
   "execution_count": null,
   "metadata": {},
   "outputs": [],
   "source": []
  }
 ]
}