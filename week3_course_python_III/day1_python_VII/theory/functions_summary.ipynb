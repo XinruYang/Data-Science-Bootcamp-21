{
 "metadata": {
  "language_info": {
   "codemirror_mode": {
    "name": "ipython",
    "version": 3
   },
   "file_extension": ".py",
   "mimetype": "text/x-python",
   "name": "python",
   "nbconvert_exporter": "python",
   "pygments_lexer": "ipython3",
   "version": "3.7.4"
  },
  "orig_nbformat": 2,
  "kernelspec": {
   "name": "python374jvsc74a57bd0fc2c00f0e2c44cb4028bd693f18a1b5d93d1de4cd12db71fca36ff691a163044",
   "display_name": "Python 3.7.4 64-bit"
  },
  "metadata": {
   "interpreter": {
    "hash": "fc2c00f0e2c44cb4028bd693f18a1b5d93d1de4cd12db71fca36ff691a163044"
   }
  }
 },
 "nbformat": 4,
 "nbformat_minor": 2,
 "cells": [
  {
   "cell_type": "code",
   "execution_count": null,
   "metadata": {},
   "outputs": [],
   "source": [
    "def f():\n",
    "    print(1)"
   ]
  },
  {
   "cell_type": "code",
   "execution_count": 1,
   "metadata": {},
   "outputs": [
    {
     "output_type": "stream",
     "name": "stdout",
     "text": [
      "2\n"
     ]
    }
   ],
   "source": [
    "def f2(x):\n",
    "    print(x)\n",
    "f2(2)"
   ]
  },
  {
   "cell_type": "code",
   "execution_count": 3,
   "metadata": {},
   "outputs": [
    {
     "output_type": "stream",
     "name": "stdout",
     "text": [
      "1 2\n1 4\n"
     ]
    }
   ],
   "source": [
    "def f3(x, y=2): \n",
    "    #El parámetro por defecto tiene un valor asignado, pero si ponemos un valor al llamar a la función tiene preferencia. \n",
    "    print(x, y)\n",
    "\n",
    "f3(1)\n",
    "f3(1,4)"
   ]
  },
  {
   "cell_type": "code",
   "execution_count": null,
   "metadata": {},
   "outputs": [],
   "source": [
    "def f4(x, y=2):\n",
    "    print(x, y)\n",
    "    return x, y #Python por defecto siempre lo retorna como tupla"
   ]
  },
  {
   "cell_type": "code",
   "execution_count": 5,
   "metadata": {},
   "outputs": [],
   "source": [
    "def f5(x=1, y=2, z=4):\n",
    "    print(x + y + z)\n",
    "    return x + y + z"
   ]
  },
  {
   "cell_type": "code",
   "execution_count": 6,
   "metadata": {},
   "outputs": [
    {
     "output_type": "stream",
     "name": "stdout",
     "text": [
      "7\n"
     ]
    },
    {
     "output_type": "execute_result",
     "data": {
      "text/plain": [
       "7"
      ]
     },
     "metadata": {},
     "execution_count": 6
    }
   ],
   "source": [
    "f5()"
   ]
  },
  {
   "cell_type": "code",
   "execution_count": 11,
   "metadata": {},
   "outputs": [
    {
     "output_type": "error",
     "ename": "SyntaxError",
     "evalue": "non-default argument follows default argument (<ipython-input-11-8df744d1440b>, line 1)",
     "traceback": [
      "\u001b[1;36m  File \u001b[1;32m\"<ipython-input-11-8df744d1440b>\"\u001b[1;36m, line \u001b[1;32m1\u001b[0m\n\u001b[1;33m    def f5(x=1, y=2, z): #Si adjudico un valor por defecto, todos los parámetros que estén a su derecha tienen que tener asignado un parámetro\u001b[0m\n\u001b[1;37m          ^\u001b[0m\n\u001b[1;31mSyntaxError\u001b[0m\u001b[1;31m:\u001b[0m non-default argument follows default argument\n"
     ]
    }
   ],
   "source": [
    "def f5(x=1, y=2, z): #Si adjudico un valor por defecto a un parámetro, todos los parámetros que estén a su derecha tienen que tener asignado un valor por defecto\n",
    "    print(x + y + z)\n",
    "    return x + y + z\n",
    "f5(1)"
   ]
  },
  {
   "cell_type": "code",
   "execution_count": 8,
   "metadata": {},
   "outputs": [
    {
     "output_type": "stream",
     "name": "stdout",
     "text": [
      "8\n"
     ]
    },
    {
     "output_type": "execute_result",
     "data": {
      "text/plain": [
       "8"
      ]
     },
     "metadata": {},
     "execution_count": 8
    }
   ],
   "source": [
    "def f5(x, y=2, z=4): #Si adjudico un valor por defecto, todos los parámetros que estén a su derecha tienen que tener asignado un parámetro\n",
    "    print(x + y + z)\n",
    "    return x + y + z\n",
    "f5(2)"
   ]
  },
  {
   "cell_type": "code",
   "execution_count": 4,
   "metadata": {},
   "outputs": [],
   "source": [
    "x = lambda r: print(2)"
   ]
  }
 ]
}