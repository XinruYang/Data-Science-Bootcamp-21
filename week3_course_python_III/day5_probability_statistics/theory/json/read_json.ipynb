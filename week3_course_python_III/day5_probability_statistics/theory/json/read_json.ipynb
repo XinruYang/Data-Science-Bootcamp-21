{
 "metadata": {
  "language_info": {
   "codemirror_mode": {
    "name": "ipython",
    "version": 3
   },
   "file_extension": ".py",
   "mimetype": "text/x-python",
   "name": "python",
   "nbconvert_exporter": "python",
   "pygments_lexer": "ipython3",
   "version": "3.7.4"
  },
  "orig_nbformat": 2,
  "kernelspec": {
   "name": "python374jvsc74a57bd0fc2c00f0e2c44cb4028bd693f18a1b5d93d1de4cd12db71fca36ff691a163044",
   "display_name": "Python 3.7.4 64-bit"
  },
  "metadata": {
   "interpreter": {
    "hash": "fc2c00f0e2c44cb4028bd693f18a1b5d93d1de4cd12db71fca36ff691a163044"
   }
  }
 },
 "nbformat": 4,
 "nbformat_minor": 2,
 "cells": [
  {
   "source": [
    "#### Para escribir a un archivo un json"
   ],
   "cell_type": "markdown",
   "metadata": {}
  },
  {
   "cell_type": "code",
   "execution_count": 3,
   "metadata": {},
   "outputs": [],
   "source": [
    "# Estamos creando en un archvio jason. \n",
    "import json\n",
    "nombre_archivo = \"pepito_ataulfo.json\"\n",
    "# yaml\n",
    "mi_diccionario = {\"clave\": 2, \n",
    "                  \"otra_clave\": 3, \n",
    "                  515:[1,3,4,5,6,7,8,2], \n",
    "                  \"DICT\":{\"clave_pequena\": \"valor_pequeño\"}}\n",
    "\n",
    "with open(nombre_archivo, 'w+') as outfile:\n",
    "    json.dump(mi_diccionario, outfile, indent=4)"
   ]
  },
  {
   "source": [
    "#### Para sobreescribir un archivo  (si se requiere)"
   ],
   "cell_type": "markdown",
   "metadata": {}
  },
  {
   "cell_type": "code",
   "execution_count": 4,
   "metadata": {},
   "outputs": [],
   "source": [
    "# Aquí añadimos información \n",
    "with open(nombre_archivo, 'a+') as outfile:\n",
    "    json.dump(mi_diccionario, outfile, indent=4)"
   ]
  },
  {
   "source": [
    "#### Para leer un archivo json\n"
   ],
   "cell_type": "markdown",
   "metadata": {}
  },
  {
   "cell_type": "code",
   "execution_count": 5,
   "metadata": {},
   "outputs": [
    {
     "output_type": "stream",
     "name": "stdout",
     "text": [
      "<class 'dict'>\n"
     ]
    },
    {
     "output_type": "execute_result",
     "data": {
      "text/plain": [
       "{'squadName': 'Super Hero Squad',\n",
       " 'homeTown': 'Metro City',\n",
       " 'formed': 2016,\n",
       " 'secretBase': 'Super tower',\n",
       " 'active': True,\n",
       " 'members': [{'name': 'Molecule Man',\n",
       "   'age': 29,\n",
       "   'secretIdentity': 'Dan Jukes',\n",
       "   'powers': ['Radiation resistance', 'Turning tiny', 'Radiation blast']},\n",
       "  {'name': 'Madame Uppercut',\n",
       "   'age': 39,\n",
       "   'secretIdentity': 'Jane Wilson',\n",
       "   'powers': ['Million tonne punch',\n",
       "    'Damage resistance',\n",
       "    'Superhuman reflexes']},\n",
       "  {'name': 'Eternal Flame',\n",
       "   'age': 1000000,\n",
       "   'secretIdentity': 'Unknown',\n",
       "   'powers': ['Immortality',\n",
       "    'Heat Immunity',\n",
       "    'Inferno',\n",
       "    'Teleportation',\n",
       "    'Interdimensional travel']}]}"
      ]
     },
     "metadata": {},
     "execution_count": 5
    }
   ],
   "source": [
    "import json\n",
    "with open('data_indented.json', 'r+') as outfile:\n",
    "    json_data_indented_readed = json.load(outfile) #json.load para cargar el archivo\n",
    "\n",
    "print(type(json_data_indented_readed))\n",
    "json_data_indented_readed"
   ]
  },
  {
   "cell_type": "code",
   "execution_count": 6,
   "metadata": {},
   "outputs": [
    {
     "output_type": "execute_result",
     "data": {
      "text/plain": [
       "[{'name': 'Molecule Man',\n",
       "  'age': 29,\n",
       "  'secretIdentity': 'Dan Jukes',\n",
       "  'powers': ['Radiation resistance', 'Turning tiny', 'Radiation blast']},\n",
       " {'name': 'Madame Uppercut',\n",
       "  'age': 39,\n",
       "  'secretIdentity': 'Jane Wilson',\n",
       "  'powers': ['Million tonne punch',\n",
       "   'Damage resistance',\n",
       "   'Superhuman reflexes']},\n",
       " {'name': 'Eternal Flame',\n",
       "  'age': 1000000,\n",
       "  'secretIdentity': 'Unknown',\n",
       "  'powers': ['Immortality',\n",
       "   'Heat Immunity',\n",
       "   'Inferno',\n",
       "   'Teleportation',\n",
       "   'Interdimensional travel']}]"
      ]
     },
     "metadata": {},
     "execution_count": 6
    }
   ],
   "source": [
    "json_data_indented_readed[\"members\"]"
   ]
  },
  {
   "cell_type": "code",
   "execution_count": 11,
   "metadata": {},
   "outputs": [
    {
     "output_type": "stream",
     "name": "stdout",
     "text": [
      "{\"name\": \"Molecule Man\", \"age\": 29, \"secretIdentity\": \"Dan Jukes\", \"powers\": [\"Radiation resistance\", \"Turning tiny\", \"Radiation blast\"]}\n-----------\n{'name': 'Molecule Man', 'age': 29, 'secretIdentity': 'Dan Jukes', 'powers': ['Radiation resistance', 'Turning tiny', 'Radiation blast']}\n\n##############################\n\n{\"name\": \"Madame Uppercut\", \"age\": 39, \"secretIdentity\": \"Jane Wilson\", \"powers\": [\"Million tonne punch\", \"Damage resistance\", \"Superhuman reflexes\"]}\n-----------\n{'name': 'Madame Uppercut', 'age': 39, 'secretIdentity': 'Jane Wilson', 'powers': ['Million tonne punch', 'Damage resistance', 'Superhuman reflexes']}\n\n##############################\n\n{\"name\": \"Eternal Flame\", \"age\": 1000000, \"secretIdentity\": \"Unknown\", \"powers\": [\"Immortality\", \"Heat Immunity\", \"Inferno\", \"Teleportation\", \"Interdimensional travel\"]}\n-----------\n{'name': 'Eternal Flame', 'age': 1000000, 'secretIdentity': 'Unknown', 'powers': ['Immortality', 'Heat Immunity', 'Inferno', 'Teleportation', 'Interdimensional travel']}\n\n##############################\n\n<class 'str'>\n<class 'dict'>\n\n[{'name': 'Molecule Man', 'age': 29, 'secretIdentity': 'Dan Jukes', 'powers': ['Radiation resistance', 'Turning tiny', 'Radiation blast']}, {'name': 'Madame Uppercut', 'age': 39, 'secretIdentity': 'Jane Wilson', 'powers': ['Million tonne punch', 'Damage resistance', 'Superhuman reflexes']}, {'name': 'Eternal Flame', 'age': 1000000, 'secretIdentity': 'Unknown', 'powers': ['Immortality', 'Heat Immunity', 'Inferno', 'Teleportation', 'Interdimensional travel']}]\n"
     ]
    }
   ],
   "source": [
    "#Data wragling: leer la información de tal forma que yo pueda trabajar con él\n",
    "\n",
    "jsons_dicts = []\n",
    "\n",
    "for mini_json in json_data_indented_readed[\"members\"]:\n",
    "    # 1. Primero lo leemos como string con .dumps\n",
    "    mini_json_readed_string = json.dumps(mini_json)\n",
    "    # 2. Después convertimos en diccionario el String\n",
    "    string_to_json = json.loads(mini_json_readed_string)\n",
    "    print(mini_json_readed_string)\n",
    "    print(\"-----------\")\n",
    "    print(string_to_json)\n",
    "    jsons_dicts.append(string_to_json)\n",
    "    print(\"\\n##############################\\n\")\n",
    "\n",
    "print(type(mini_json_readed_string))\n",
    "print(type(string_to_json))\n",
    "print()\n",
    "print(jsons_dicts)"
   ]
  },
  {
   "cell_type": "code",
   "execution_count": 12,
   "metadata": {},
   "outputs": [],
   "source": [
    "# escribimos cada mini_json en archivos diferentes\n",
    "for i, jsn in enumerate(jsons_dicts):\n",
    "    nombre_archivo = str(i) + '_final_data.json'\n",
    "    with open(nombre_archivo, 'w+') as outfile:\n",
    "        json.dump(jsn, outfile, indent=4) "
   ]
  },
  {
   "cell_type": "code",
   "execution_count": 14,
   "metadata": {},
   "outputs": [
    {
     "output_type": "stream",
     "name": "stdout",
     "text": [
      "<class 'dict'>\n"
     ]
    },
    {
     "output_type": "execute_result",
     "data": {
      "text/plain": [
       "{'name': 'Eternal Flame',\n",
       " 'age': 1000000,\n",
       " 'secretIdentity': 'Unknown',\n",
       " 'powers': ['Immortality',\n",
       "  'Heat Immunity',\n",
       "  'Inferno',\n",
       "  'Teleportation',\n",
       "  'Interdimensional travel']}"
      ]
     },
     "metadata": {},
     "execution_count": 14
    }
   ],
   "source": [
    "#leer uno de esos archivos\n",
    "with open('2_final_data.json', 'r+') as outfile:\n",
    "    json_readed = json.load(outfile) #json.load para cargar el archivo\n",
    "\n",
    "print(type(json_readed))\n",
    "json_readed\n"
   ]
  },
  {
   "cell_type": "code",
   "execution_count": null,
   "metadata": {},
   "outputs": [],
   "source": [
    "json_readed[\"powers\"]"
   ]
  },
  {
   "source": [
    "1. Volcar información de un diccionario a un json, w+ (creando el archivo desde 0): \n",
    "json.dump(mi_diccionario, outfile, indent=4)\n",
    "2. Volcar información de un diccionario a un json, a+ (añadiendo información sin borrar)\n",
    "3. Dos opciones:\n",
    "    3.1. Yo tengo un archivo .json en local y lo abro usando .load()\n",
    "    3.2. Tengo ya sea un fichero local con el formato cualquiera o en la web:\n",
    "     --> 1º lo leemos como String \n",
    "     --> 2º transfromamos la variable string a un diccionario\n",
    "\n",
    "    Si existiera algún error, habría que trabajar sobre el string para poder convertirlo a diccionario."
   ],
   "cell_type": "markdown",
   "metadata": {}
  }
 ]
}