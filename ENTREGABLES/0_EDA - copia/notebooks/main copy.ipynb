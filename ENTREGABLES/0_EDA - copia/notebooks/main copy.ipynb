{
 "metadata": {
  "language_info": {
   "codemirror_mode": {
    "name": "ipython",
    "version": 3
   },
   "file_extension": ".py",
   "mimetype": "text/x-python",
   "name": "python",
   "nbconvert_exporter": "python",
   "pygments_lexer": "ipython3",
   "version": "3.7.4"
  },
  "orig_nbformat": 2,
  "kernelspec": {
   "name": "python374jvsc74a57bd0fc2c00f0e2c44cb4028bd693f18a1b5d93d1de4cd12db71fca36ff691a163044",
   "display_name": "Python 3.7.4 64-bit"
  },
  "metadata": {
   "interpreter": {
    "hash": "fc2c00f0e2c44cb4028bd693f18a1b5d93d1de4cd12db71fca36ff691a163044"
   }
  }
 },
 "nbformat": 4,
 "nbformat_minor": 2,
 "cells": [
  {
   "source": [
    "# EDA PROJECT\n"
   ],
   "cell_type": "markdown",
   "metadata": {}
  },
  {
   "source": [
    "TODO documentation"
   ],
   "cell_type": "markdown",
   "metadata": {}
  },
  {
   "cell_type": "code",
   "execution_count": 1,
   "metadata": {},
   "outputs": [],
   "source": [
    "# Import necessary libraries\n",
    "import os, sys"
   ]
  },
  {
   "cell_type": "code",
   "execution_count": 2,
   "metadata": {},
   "outputs": [],
   "source": [
    "# Access to the path of the folder\n",
    "path = os.path.dirname(os.getcwd())\n",
    "sys.path.append(path)"
   ]
  },
  {
   "source": [
    "## Data Mining and Data Wrangling"
   ],
   "cell_type": "markdown",
   "metadata": {}
  },
  {
   "cell_type": "code",
   "execution_count": 3,
   "metadata": {},
   "outputs": [],
   "source": [
    "# Import .py file with the cleaned df\n",
    "from utils_.mining_data_tb import *"
   ]
  },
  {
   "cell_type": "code",
   "execution_count": 4,
   "metadata": {},
   "outputs": [
    {
     "output_type": "stream",
     "name": "stdout",
     "text": [
      "<class 'pandas.core.frame.DataFrame'>\nRangeIndex: 61950 entries, 0 to 61949\nData columns (total 15 columns):\n #   Column                      Non-Null Count  Dtype         \n---  ------                      --------------  -----         \n 0   date                        61950 non-null  datetime64[ns]\n 1   continent                   61950 non-null  object        \n 2   country                     61950 non-null  object        \n 3   median_age                  61950 non-null  float64       \n 4   aged_65_older               61950 non-null  float64       \n 5   aged_70_older               61950 non-null  float64       \n 6   total_cases                 61950 non-null  float64       \n 7   total_deaths                61950 non-null  float64       \n 8   hospital_beds_per_thousand  61950 non-null  float64       \n 9   gdp_per_capita              61950 non-null  float64       \n 10  HDI                         61950 non-null  float64       \n 11  deaths_ratio                61950 non-null  float64       \n 12  non_risky_age               61950 non-null  float64       \n 13  risky_age                   61950 non-null  float64       \n 14  Poverty %                   61950 non-null  float64       \ndtypes: datetime64[ns](1), float64(12), object(2)\nmemory usage: 7.1+ MB\n"
     ]
    }
   ],
   "source": [
    "# Show the information of each column (Non-Null, dtype, shape)\n",
    "covid_data.info()"
   ]
  },
  {
   "cell_type": "code",
   "execution_count": 5,
   "metadata": {},
   "outputs": [],
   "source": [
    "covid_data.date = covid_data[\"date\"].apply(lambda covid_data: covid_data.replace(day=1))"
   ]
  },
  {
   "cell_type": "code",
   "execution_count": 6,
   "metadata": {},
   "outputs": [],
   "source": [
    "covid_data = covid_data.groupby([\"continent\", \"country\", \"date\"]).max()"
   ]
  },
  {
   "cell_type": "code",
   "execution_count": 7,
   "metadata": {},
   "outputs": [
    {
     "output_type": "execute_result",
     "data": {
      "text/plain": [
       "          continent    country       date  median_age  aged_65_older  \\\n",
       "0            Africa    Algeria 2020-03-01        29.1          6.211   \n",
       "1            Africa    Algeria 2020-04-01        29.1          6.211   \n",
       "2            Africa    Algeria 2020-05-01        29.1          6.211   \n",
       "3            Africa    Algeria 2020-06-01        29.1          6.211   \n",
       "4            Africa    Algeria 2020-07-01        29.1          6.211   \n",
       "...             ...        ...        ...         ...            ...   \n",
       "2174  South America  Venezuela 2021-01-01        29.0          6.614   \n",
       "2175  South America  Venezuela 2021-02-01        29.0          6.614   \n",
       "2176  South America  Venezuela 2021-03-01        29.0          6.614   \n",
       "2177  South America  Venezuela 2021-04-01        29.0          6.614   \n",
       "2178  South America  Venezuela 2021-05-01        29.0          6.614   \n",
       "\n",
       "      aged_70_older  total_cases  total_deaths  hospital_beds_per_thousand  \\\n",
       "0             3.857        716.0          44.0                         1.9   \n",
       "1             3.857       4006.0         450.0                         1.9   \n",
       "2             3.857       9394.0         653.0                         1.9   \n",
       "3             3.857      13907.0         912.0                         1.9   \n",
       "4             3.857      30394.0        1210.0                         1.9   \n",
       "...             ...          ...           ...                         ...   \n",
       "2174          3.915     126927.0        1189.0                         0.8   \n",
       "2175          3.915     139116.0        1344.0                         0.8   \n",
       "2176          3.915     160497.0        1602.0                         0.8   \n",
       "2177          3.915     197683.0        2136.0                         0.8   \n",
       "2178          3.915     217603.0        2428.0                         0.8   \n",
       "\n",
       "      gdp_per_capita    HDI  deaths_ratio  non_risky_age  risky_age  Poverty %  \n",
       "0          13913.839  0.748     12.222222         89.932     10.068        0.8  \n",
       "1          13913.839  0.748     15.784165         89.932     10.068        0.8  \n",
       "2          13913.839  0.748     10.905152         89.932     10.068        0.8  \n",
       "3          13913.839  0.748      7.196286         89.932     10.068        0.8  \n",
       "4          13913.839  0.748      6.446188         89.932     10.068        0.8  \n",
       "...              ...    ...           ...            ...        ...        ...  \n",
       "2174       16745.022  0.711      0.936759         89.471     10.529        0.0  \n",
       "2175       16745.022  0.711      0.968387         89.471     10.529        0.0  \n",
       "2176       16745.022  0.711      0.999011         89.471     10.529        0.0  \n",
       "2177       16745.022  0.711      1.080518         89.471     10.529        0.0  \n",
       "2178       16745.022  0.711      1.115793         89.471     10.529        0.0  \n",
       "\n",
       "[2179 rows x 15 columns]"
      ],
      "text/html": "<div>\n<style scoped>\n    .dataframe tbody tr th:only-of-type {\n        vertical-align: middle;\n    }\n\n    .dataframe tbody tr th {\n        vertical-align: top;\n    }\n\n    .dataframe thead th {\n        text-align: right;\n    }\n</style>\n<table border=\"1\" class=\"dataframe\">\n  <thead>\n    <tr style=\"text-align: right;\">\n      <th></th>\n      <th>continent</th>\n      <th>country</th>\n      <th>date</th>\n      <th>median_age</th>\n      <th>aged_65_older</th>\n      <th>aged_70_older</th>\n      <th>total_cases</th>\n      <th>total_deaths</th>\n      <th>hospital_beds_per_thousand</th>\n      <th>gdp_per_capita</th>\n      <th>HDI</th>\n      <th>deaths_ratio</th>\n      <th>non_risky_age</th>\n      <th>risky_age</th>\n      <th>Poverty %</th>\n    </tr>\n  </thead>\n  <tbody>\n    <tr>\n      <th>0</th>\n      <td>Africa</td>\n      <td>Algeria</td>\n      <td>2020-03-01</td>\n      <td>29.1</td>\n      <td>6.211</td>\n      <td>3.857</td>\n      <td>716.0</td>\n      <td>44.0</td>\n      <td>1.9</td>\n      <td>13913.839</td>\n      <td>0.748</td>\n      <td>12.222222</td>\n      <td>89.932</td>\n      <td>10.068</td>\n      <td>0.8</td>\n    </tr>\n    <tr>\n      <th>1</th>\n      <td>Africa</td>\n      <td>Algeria</td>\n      <td>2020-04-01</td>\n      <td>29.1</td>\n      <td>6.211</td>\n      <td>3.857</td>\n      <td>4006.0</td>\n      <td>450.0</td>\n      <td>1.9</td>\n      <td>13913.839</td>\n      <td>0.748</td>\n      <td>15.784165</td>\n      <td>89.932</td>\n      <td>10.068</td>\n      <td>0.8</td>\n    </tr>\n    <tr>\n      <th>2</th>\n      <td>Africa</td>\n      <td>Algeria</td>\n      <td>2020-05-01</td>\n      <td>29.1</td>\n      <td>6.211</td>\n      <td>3.857</td>\n      <td>9394.0</td>\n      <td>653.0</td>\n      <td>1.9</td>\n      <td>13913.839</td>\n      <td>0.748</td>\n      <td>10.905152</td>\n      <td>89.932</td>\n      <td>10.068</td>\n      <td>0.8</td>\n    </tr>\n    <tr>\n      <th>3</th>\n      <td>Africa</td>\n      <td>Algeria</td>\n      <td>2020-06-01</td>\n      <td>29.1</td>\n      <td>6.211</td>\n      <td>3.857</td>\n      <td>13907.0</td>\n      <td>912.0</td>\n      <td>1.9</td>\n      <td>13913.839</td>\n      <td>0.748</td>\n      <td>7.196286</td>\n      <td>89.932</td>\n      <td>10.068</td>\n      <td>0.8</td>\n    </tr>\n    <tr>\n      <th>4</th>\n      <td>Africa</td>\n      <td>Algeria</td>\n      <td>2020-07-01</td>\n      <td>29.1</td>\n      <td>6.211</td>\n      <td>3.857</td>\n      <td>30394.0</td>\n      <td>1210.0</td>\n      <td>1.9</td>\n      <td>13913.839</td>\n      <td>0.748</td>\n      <td>6.446188</td>\n      <td>89.932</td>\n      <td>10.068</td>\n      <td>0.8</td>\n    </tr>\n    <tr>\n      <th>...</th>\n      <td>...</td>\n      <td>...</td>\n      <td>...</td>\n      <td>...</td>\n      <td>...</td>\n      <td>...</td>\n      <td>...</td>\n      <td>...</td>\n      <td>...</td>\n      <td>...</td>\n      <td>...</td>\n      <td>...</td>\n      <td>...</td>\n      <td>...</td>\n      <td>...</td>\n    </tr>\n    <tr>\n      <th>2174</th>\n      <td>South America</td>\n      <td>Venezuela</td>\n      <td>2021-01-01</td>\n      <td>29.0</td>\n      <td>6.614</td>\n      <td>3.915</td>\n      <td>126927.0</td>\n      <td>1189.0</td>\n      <td>0.8</td>\n      <td>16745.022</td>\n      <td>0.711</td>\n      <td>0.936759</td>\n      <td>89.471</td>\n      <td>10.529</td>\n      <td>0.0</td>\n    </tr>\n    <tr>\n      <th>2175</th>\n      <td>South America</td>\n      <td>Venezuela</td>\n      <td>2021-02-01</td>\n      <td>29.0</td>\n      <td>6.614</td>\n      <td>3.915</td>\n      <td>139116.0</td>\n      <td>1344.0</td>\n      <td>0.8</td>\n      <td>16745.022</td>\n      <td>0.711</td>\n      <td>0.968387</td>\n      <td>89.471</td>\n      <td>10.529</td>\n      <td>0.0</td>\n    </tr>\n    <tr>\n      <th>2176</th>\n      <td>South America</td>\n      <td>Venezuela</td>\n      <td>2021-03-01</td>\n      <td>29.0</td>\n      <td>6.614</td>\n      <td>3.915</td>\n      <td>160497.0</td>\n      <td>1602.0</td>\n      <td>0.8</td>\n      <td>16745.022</td>\n      <td>0.711</td>\n      <td>0.999011</td>\n      <td>89.471</td>\n      <td>10.529</td>\n      <td>0.0</td>\n    </tr>\n    <tr>\n      <th>2177</th>\n      <td>South America</td>\n      <td>Venezuela</td>\n      <td>2021-04-01</td>\n      <td>29.0</td>\n      <td>6.614</td>\n      <td>3.915</td>\n      <td>197683.0</td>\n      <td>2136.0</td>\n      <td>0.8</td>\n      <td>16745.022</td>\n      <td>0.711</td>\n      <td>1.080518</td>\n      <td>89.471</td>\n      <td>10.529</td>\n      <td>0.0</td>\n    </tr>\n    <tr>\n      <th>2178</th>\n      <td>South America</td>\n      <td>Venezuela</td>\n      <td>2021-05-01</td>\n      <td>29.0</td>\n      <td>6.614</td>\n      <td>3.915</td>\n      <td>217603.0</td>\n      <td>2428.0</td>\n      <td>0.8</td>\n      <td>16745.022</td>\n      <td>0.711</td>\n      <td>1.115793</td>\n      <td>89.471</td>\n      <td>10.529</td>\n      <td>0.0</td>\n    </tr>\n  </tbody>\n</table>\n<p>2179 rows × 15 columns</p>\n</div>"
     },
     "metadata": {},
     "execution_count": 7
    }
   ],
   "source": [
    "covid_data.reset_index(inplace=True)\n",
    "covid_data"
   ]
  },
  {
   "cell_type": "code",
   "execution_count": null,
   "metadata": {},
   "outputs": [],
   "source": []
  },
  {
   "cell_type": "code",
   "execution_count": 8,
   "metadata": {},
   "outputs": [],
   "source": [
    "import plotly.express as px"
   ]
  },
  {
   "cell_type": "code",
   "execution_count": 9,
   "metadata": {},
   "outputs": [],
   "source": [
    "def scatter_geo(df, size, name, color, size_max=None): \n",
    "    fig = px.scatter_geo(df, locations=\"country\", locationmode=\"country names\", color=color, \n",
    "    size=size, # size of markers (one of the columns)\n",
    "    title=(f'Map of {name}'), size_max=size_max, animation_frame=\"date\")\n",
    "    \n",
    "    return fig"
   ]
  },
  {
   "cell_type": "code",
   "execution_count": 10,
   "metadata": {},
   "outputs": [
    {
     "output_type": "error",
     "ename": "ValueError",
     "evalue": "\n    Invalid value of type 'pandas._libs.tslibs.timestamps.Timestamp' received for the 'name' property of frame\n        Received value: Timestamp('2020-03-01 00:00:00')\n\n    The 'name' property is a string and must be specified as:\n      - A string\n      - A number that will be converted to a string",
     "traceback": [
      "\u001b[1;31m---------------------------------------------------------------------------\u001b[0m",
      "\u001b[1;31mValueError\u001b[0m                                Traceback (most recent call last)",
      "\u001b[1;32m<ipython-input-10-70efb64c98d0>\u001b[0m in \u001b[0;36m<module>\u001b[1;34m\u001b[0m\n\u001b[1;32m----> 1\u001b[1;33m \u001b[0mscatter_geo\u001b[0m\u001b[1;33m(\u001b[0m\u001b[0mcovid_data\u001b[0m\u001b[1;33m,\u001b[0m \u001b[1;34m\"deaths_ratio\"\u001b[0m\u001b[1;33m,\u001b[0m \u001b[1;34m\"deaths rate\"\u001b[0m\u001b[1;33m,\u001b[0m \u001b[1;34m\"deaths_ratio\"\u001b[0m\u001b[1;33m,\u001b[0m \u001b[0msize_max\u001b[0m\u001b[1;33m=\u001b[0m\u001b[1;32mNone\u001b[0m\u001b[1;33m)\u001b[0m\u001b[1;33m\u001b[0m\u001b[1;33m\u001b[0m\u001b[0m\n\u001b[0m",
      "\u001b[1;32m<ipython-input-9-e0fc52a2436f>\u001b[0m in \u001b[0;36mscatter_geo\u001b[1;34m(df, size, name, color, size_max)\u001b[0m\n\u001b[0;32m      2\u001b[0m     fig = px.scatter_geo(df, locations=\"country\", locationmode=\"country names\", color=color, \n\u001b[0;32m      3\u001b[0m     \u001b[0msize\u001b[0m\u001b[1;33m=\u001b[0m\u001b[0msize\u001b[0m\u001b[1;33m,\u001b[0m \u001b[1;31m# size of markers (one of the columns)\u001b[0m\u001b[1;33m\u001b[0m\u001b[1;33m\u001b[0m\u001b[0m\n\u001b[1;32m----> 4\u001b[1;33m     title=(f'Map of {name}'), size_max=size_max, animation_frame=\"date\")\n\u001b[0m\u001b[0;32m      5\u001b[0m \u001b[1;33m\u001b[0m\u001b[0m\n\u001b[0;32m      6\u001b[0m     \u001b[1;32mreturn\u001b[0m \u001b[0mfig\u001b[0m\u001b[1;33m\u001b[0m\u001b[1;33m\u001b[0m\u001b[0m\n",
      "\u001b[1;32m~\\AppData\\Local\\Programs\\Python\\Python37\\lib\\site-packages\\plotly\\express\\_chart_types.py\u001b[0m in \u001b[0;36mscatter_geo\u001b[1;34m(data_frame, lat, lon, locations, locationmode, geojson, featureidkey, color, text, symbol, facet_row, facet_col, facet_col_wrap, facet_row_spacing, facet_col_spacing, hover_name, hover_data, custom_data, size, animation_frame, animation_group, category_orders, labels, color_discrete_sequence, color_discrete_map, color_continuous_scale, range_color, color_continuous_midpoint, symbol_sequence, symbol_map, opacity, size_max, projection, scope, center, fitbounds, basemap_visible, title, template, width, height)\u001b[0m\n\u001b[0;32m   1032\u001b[0m         \u001b[0margs\u001b[0m\u001b[1;33m=\u001b[0m\u001b[0mlocals\u001b[0m\u001b[1;33m(\u001b[0m\u001b[1;33m)\u001b[0m\u001b[1;33m,\u001b[0m\u001b[1;33m\u001b[0m\u001b[1;33m\u001b[0m\u001b[0m\n\u001b[0;32m   1033\u001b[0m         \u001b[0mconstructor\u001b[0m\u001b[1;33m=\u001b[0m\u001b[0mgo\u001b[0m\u001b[1;33m.\u001b[0m\u001b[0mScattergeo\u001b[0m\u001b[1;33m,\u001b[0m\u001b[1;33m\u001b[0m\u001b[1;33m\u001b[0m\u001b[0m\n\u001b[1;32m-> 1034\u001b[1;33m         \u001b[0mtrace_patch\u001b[0m\u001b[1;33m=\u001b[0m\u001b[0mdict\u001b[0m\u001b[1;33m(\u001b[0m\u001b[0mlocationmode\u001b[0m\u001b[1;33m=\u001b[0m\u001b[0mlocationmode\u001b[0m\u001b[1;33m)\u001b[0m\u001b[1;33m,\u001b[0m\u001b[1;33m\u001b[0m\u001b[1;33m\u001b[0m\u001b[0m\n\u001b[0m\u001b[0;32m   1035\u001b[0m     )\n\u001b[0;32m   1036\u001b[0m \u001b[1;33m\u001b[0m\u001b[0m\n",
      "\u001b[1;32m~\\AppData\\Local\\Programs\\Python\\Python37\\lib\\site-packages\\plotly\\express\\_core.py\u001b[0m in \u001b[0;36mmake_figure\u001b[1;34m(args, constructor, trace_patch, layout_patch)\u001b[0m\n\u001b[0;32m   2087\u001b[0m     \u001b[1;32mif\u001b[0m \u001b[1;34m\"template\"\u001b[0m \u001b[1;32min\u001b[0m \u001b[0margs\u001b[0m \u001b[1;32mand\u001b[0m \u001b[0margs\u001b[0m\u001b[1;33m[\u001b[0m\u001b[1;34m\"template\"\u001b[0m\u001b[1;33m]\u001b[0m \u001b[1;32mis\u001b[0m \u001b[1;32mnot\u001b[0m \u001b[1;32mNone\u001b[0m\u001b[1;33m:\u001b[0m\u001b[1;33m\u001b[0m\u001b[1;33m\u001b[0m\u001b[0m\n\u001b[0;32m   2088\u001b[0m         \u001b[0mfig\u001b[0m\u001b[1;33m.\u001b[0m\u001b[0mupdate_layout\u001b[0m\u001b[1;33m(\u001b[0m\u001b[0mtemplate\u001b[0m\u001b[1;33m=\u001b[0m\u001b[0margs\u001b[0m\u001b[1;33m[\u001b[0m\u001b[1;34m\"template\"\u001b[0m\u001b[1;33m]\u001b[0m\u001b[1;33m,\u001b[0m \u001b[0moverwrite\u001b[0m\u001b[1;33m=\u001b[0m\u001b[1;32mTrue\u001b[0m\u001b[1;33m)\u001b[0m\u001b[1;33m\u001b[0m\u001b[1;33m\u001b[0m\u001b[0m\n\u001b[1;32m-> 2089\u001b[1;33m     \u001b[0mfig\u001b[0m\u001b[1;33m.\u001b[0m\u001b[0mframes\u001b[0m \u001b[1;33m=\u001b[0m \u001b[0mframe_list\u001b[0m \u001b[1;32mif\u001b[0m \u001b[0mlen\u001b[0m\u001b[1;33m(\u001b[0m\u001b[0mframes\u001b[0m\u001b[1;33m)\u001b[0m \u001b[1;33m>\u001b[0m \u001b[1;36m1\u001b[0m \u001b[1;32melse\u001b[0m \u001b[1;33m[\u001b[0m\u001b[1;33m]\u001b[0m\u001b[1;33m\u001b[0m\u001b[1;33m\u001b[0m\u001b[0m\n\u001b[0m\u001b[0;32m   2090\u001b[0m \u001b[1;33m\u001b[0m\u001b[0m\n\u001b[0;32m   2091\u001b[0m     \u001b[0mfig\u001b[0m\u001b[1;33m.\u001b[0m\u001b[0m_px_trendlines\u001b[0m \u001b[1;33m=\u001b[0m \u001b[0mpd\u001b[0m\u001b[1;33m.\u001b[0m\u001b[0mDataFrame\u001b[0m\u001b[1;33m(\u001b[0m\u001b[0mtrendline_rows\u001b[0m\u001b[1;33m)\u001b[0m\u001b[1;33m\u001b[0m\u001b[1;33m\u001b[0m\u001b[0m\n",
      "\u001b[1;32m~\\AppData\\Local\\Programs\\Python\\Python37\\lib\\site-packages\\plotly\\basedatatypes.py\u001b[0m in \u001b[0;36m__setattr__\u001b[1;34m(self, prop, value)\u001b[0m\n\u001b[0;32m    719\u001b[0m         \u001b[1;32mif\u001b[0m \u001b[0mprop\u001b[0m\u001b[1;33m.\u001b[0m\u001b[0mstartswith\u001b[0m\u001b[1;33m(\u001b[0m\u001b[1;34m\"_\"\u001b[0m\u001b[1;33m)\u001b[0m \u001b[1;32mor\u001b[0m \u001b[0mhasattr\u001b[0m\u001b[1;33m(\u001b[0m\u001b[0mself\u001b[0m\u001b[1;33m,\u001b[0m \u001b[0mprop\u001b[0m\u001b[1;33m)\u001b[0m\u001b[1;33m:\u001b[0m\u001b[1;33m\u001b[0m\u001b[1;33m\u001b[0m\u001b[0m\n\u001b[0;32m    720\u001b[0m             \u001b[1;31m# Let known properties and private properties through\u001b[0m\u001b[1;33m\u001b[0m\u001b[1;33m\u001b[0m\u001b[1;33m\u001b[0m\u001b[0m\n\u001b[1;32m--> 721\u001b[1;33m             \u001b[0msuper\u001b[0m\u001b[1;33m(\u001b[0m\u001b[0mBaseFigure\u001b[0m\u001b[1;33m,\u001b[0m \u001b[0mself\u001b[0m\u001b[1;33m)\u001b[0m\u001b[1;33m.\u001b[0m\u001b[0m__setattr__\u001b[0m\u001b[1;33m(\u001b[0m\u001b[0mprop\u001b[0m\u001b[1;33m,\u001b[0m \u001b[0mvalue\u001b[0m\u001b[1;33m)\u001b[0m\u001b[1;33m\u001b[0m\u001b[1;33m\u001b[0m\u001b[0m\n\u001b[0m\u001b[0;32m    722\u001b[0m         \u001b[1;32melse\u001b[0m\u001b[1;33m:\u001b[0m\u001b[1;33m\u001b[0m\u001b[1;33m\u001b[0m\u001b[0m\n\u001b[0;32m    723\u001b[0m             \u001b[1;31m# Raise error on unknown public properties\u001b[0m\u001b[1;33m\u001b[0m\u001b[1;33m\u001b[0m\u001b[1;33m\u001b[0m\u001b[0m\n",
      "\u001b[1;32m~\\AppData\\Local\\Programs\\Python\\Python37\\lib\\site-packages\\plotly\\basedatatypes.py\u001b[0m in \u001b[0;36mframes\u001b[1;34m(self, new_frames)\u001b[0m\n\u001b[0;32m   2853\u001b[0m \u001b[1;33m\u001b[0m\u001b[0m\n\u001b[0;32m   2854\u001b[0m         \u001b[1;31m# Validate frames\u001b[0m\u001b[1;33m\u001b[0m\u001b[1;33m\u001b[0m\u001b[1;33m\u001b[0m\u001b[0m\n\u001b[1;32m-> 2855\u001b[1;33m         \u001b[0mself\u001b[0m\u001b[1;33m.\u001b[0m\u001b[0m_frame_objs\u001b[0m \u001b[1;33m=\u001b[0m \u001b[0mself\u001b[0m\u001b[1;33m.\u001b[0m\u001b[0m_frames_validator\u001b[0m\u001b[1;33m.\u001b[0m\u001b[0mvalidate_coerce\u001b[0m\u001b[1;33m(\u001b[0m\u001b[0mnew_frames\u001b[0m\u001b[1;33m)\u001b[0m\u001b[1;33m\u001b[0m\u001b[1;33m\u001b[0m\u001b[0m\n\u001b[0m\u001b[0;32m   2856\u001b[0m \u001b[1;33m\u001b[0m\u001b[0m\n\u001b[0;32m   2857\u001b[0m     \u001b[1;31m# Update\u001b[0m\u001b[1;33m\u001b[0m\u001b[1;33m\u001b[0m\u001b[1;33m\u001b[0m\u001b[0m\n",
      "\u001b[1;32m~\\AppData\\Local\\Programs\\Python\\Python37\\lib\\site-packages\\_plotly_utils\\basevalidators.py\u001b[0m in \u001b[0;36mvalidate_coerce\u001b[1;34m(self, v, skip_invalid)\u001b[0m\n\u001b[0;32m   2540\u001b[0m                     \u001b[0mres\u001b[0m\u001b[1;33m.\u001b[0m\u001b[0mappend\u001b[0m\u001b[1;33m(\u001b[0m\u001b[0mself\u001b[0m\u001b[1;33m.\u001b[0m\u001b[0mdata_class\u001b[0m\u001b[1;33m(\u001b[0m\u001b[0mv_el\u001b[0m\u001b[1;33m)\u001b[0m\u001b[1;33m)\u001b[0m\u001b[1;33m\u001b[0m\u001b[1;33m\u001b[0m\u001b[0m\n\u001b[0;32m   2541\u001b[0m                 \u001b[1;32melif\u001b[0m \u001b[0misinstance\u001b[0m\u001b[1;33m(\u001b[0m\u001b[0mv_el\u001b[0m\u001b[1;33m,\u001b[0m \u001b[0mdict\u001b[0m\u001b[1;33m)\u001b[0m\u001b[1;33m:\u001b[0m\u001b[1;33m\u001b[0m\u001b[1;33m\u001b[0m\u001b[0m\n\u001b[1;32m-> 2542\u001b[1;33m                     \u001b[0mres\u001b[0m\u001b[1;33m.\u001b[0m\u001b[0mappend\u001b[0m\u001b[1;33m(\u001b[0m\u001b[0mself\u001b[0m\u001b[1;33m.\u001b[0m\u001b[0mdata_class\u001b[0m\u001b[1;33m(\u001b[0m\u001b[0mv_el\u001b[0m\u001b[1;33m,\u001b[0m \u001b[0mskip_invalid\u001b[0m\u001b[1;33m=\u001b[0m\u001b[0mskip_invalid\u001b[0m\u001b[1;33m)\u001b[0m\u001b[1;33m)\u001b[0m\u001b[1;33m\u001b[0m\u001b[1;33m\u001b[0m\u001b[0m\n\u001b[0m\u001b[0;32m   2543\u001b[0m                 \u001b[1;32melse\u001b[0m\u001b[1;33m:\u001b[0m\u001b[1;33m\u001b[0m\u001b[1;33m\u001b[0m\u001b[0m\n\u001b[0;32m   2544\u001b[0m                     \u001b[1;32mif\u001b[0m \u001b[0mskip_invalid\u001b[0m\u001b[1;33m:\u001b[0m\u001b[1;33m\u001b[0m\u001b[1;33m\u001b[0m\u001b[0m\n",
      "\u001b[1;32m~\\AppData\\Local\\Programs\\Python\\Python37\\lib\\site-packages\\plotly\\graph_objs\\_frame.py\u001b[0m in \u001b[0;36m__init__\u001b[1;34m(self, arg, baseframe, data, group, layout, name, traces, **kwargs)\u001b[0m\n\u001b[0;32m    253\u001b[0m         \u001b[0m_v\u001b[0m \u001b[1;33m=\u001b[0m \u001b[0mname\u001b[0m \u001b[1;32mif\u001b[0m \u001b[0mname\u001b[0m \u001b[1;32mis\u001b[0m \u001b[1;32mnot\u001b[0m \u001b[1;32mNone\u001b[0m \u001b[1;32melse\u001b[0m \u001b[0m_v\u001b[0m\u001b[1;33m\u001b[0m\u001b[1;33m\u001b[0m\u001b[0m\n\u001b[0;32m    254\u001b[0m         \u001b[1;32mif\u001b[0m \u001b[0m_v\u001b[0m \u001b[1;32mis\u001b[0m \u001b[1;32mnot\u001b[0m \u001b[1;32mNone\u001b[0m\u001b[1;33m:\u001b[0m\u001b[1;33m\u001b[0m\u001b[1;33m\u001b[0m\u001b[0m\n\u001b[1;32m--> 255\u001b[1;33m             \u001b[0mself\u001b[0m\u001b[1;33m[\u001b[0m\u001b[1;34m\"name\"\u001b[0m\u001b[1;33m]\u001b[0m \u001b[1;33m=\u001b[0m \u001b[0m_v\u001b[0m\u001b[1;33m\u001b[0m\u001b[1;33m\u001b[0m\u001b[0m\n\u001b[0m\u001b[0;32m    256\u001b[0m         \u001b[0m_v\u001b[0m \u001b[1;33m=\u001b[0m \u001b[0marg\u001b[0m\u001b[1;33m.\u001b[0m\u001b[0mpop\u001b[0m\u001b[1;33m(\u001b[0m\u001b[1;34m\"traces\"\u001b[0m\u001b[1;33m,\u001b[0m \u001b[1;32mNone\u001b[0m\u001b[1;33m)\u001b[0m\u001b[1;33m\u001b[0m\u001b[1;33m\u001b[0m\u001b[0m\n\u001b[0;32m    257\u001b[0m         \u001b[0m_v\u001b[0m \u001b[1;33m=\u001b[0m \u001b[0mtraces\u001b[0m \u001b[1;32mif\u001b[0m \u001b[0mtraces\u001b[0m \u001b[1;32mis\u001b[0m \u001b[1;32mnot\u001b[0m \u001b[1;32mNone\u001b[0m \u001b[1;32melse\u001b[0m \u001b[0m_v\u001b[0m\u001b[1;33m\u001b[0m\u001b[1;33m\u001b[0m\u001b[0m\n",
      "\u001b[1;32m~\\AppData\\Local\\Programs\\Python\\Python37\\lib\\site-packages\\plotly\\basedatatypes.py\u001b[0m in \u001b[0;36m__setitem__\u001b[1;34m(self, prop, value)\u001b[0m\n\u001b[0;32m   4802\u001b[0m                 \u001b[1;31m# ### Handle simple property ###\u001b[0m\u001b[1;33m\u001b[0m\u001b[1;33m\u001b[0m\u001b[1;33m\u001b[0m\u001b[0m\n\u001b[0;32m   4803\u001b[0m                 \u001b[1;32melse\u001b[0m\u001b[1;33m:\u001b[0m\u001b[1;33m\u001b[0m\u001b[1;33m\u001b[0m\u001b[0m\n\u001b[1;32m-> 4804\u001b[1;33m                     \u001b[0mself\u001b[0m\u001b[1;33m.\u001b[0m\u001b[0m_set_prop\u001b[0m\u001b[1;33m(\u001b[0m\u001b[0mprop\u001b[0m\u001b[1;33m,\u001b[0m \u001b[0mvalue\u001b[0m\u001b[1;33m)\u001b[0m\u001b[1;33m\u001b[0m\u001b[1;33m\u001b[0m\u001b[0m\n\u001b[0m\u001b[0;32m   4805\u001b[0m             \u001b[1;32melse\u001b[0m\u001b[1;33m:\u001b[0m\u001b[1;33m\u001b[0m\u001b[1;33m\u001b[0m\u001b[0m\n\u001b[0;32m   4806\u001b[0m                 \u001b[1;31m# Make sure properties dict is initialized\u001b[0m\u001b[1;33m\u001b[0m\u001b[1;33m\u001b[0m\u001b[1;33m\u001b[0m\u001b[0m\n",
      "\u001b[1;32m~\\AppData\\Local\\Programs\\Python\\Python37\\lib\\site-packages\\plotly\\basedatatypes.py\u001b[0m in \u001b[0;36m_set_prop\u001b[1;34m(self, prop, val)\u001b[0m\n\u001b[0;32m   5146\u001b[0m                 \u001b[1;32mreturn\u001b[0m\u001b[1;33m\u001b[0m\u001b[1;33m\u001b[0m\u001b[0m\n\u001b[0;32m   5147\u001b[0m             \u001b[1;32melse\u001b[0m\u001b[1;33m:\u001b[0m\u001b[1;33m\u001b[0m\u001b[1;33m\u001b[0m\u001b[0m\n\u001b[1;32m-> 5148\u001b[1;33m                 \u001b[1;32mraise\u001b[0m \u001b[0merr\u001b[0m\u001b[1;33m\u001b[0m\u001b[1;33m\u001b[0m\u001b[0m\n\u001b[0m\u001b[0;32m   5149\u001b[0m \u001b[1;33m\u001b[0m\u001b[0m\n\u001b[0;32m   5150\u001b[0m         \u001b[1;31m# val is None\u001b[0m\u001b[1;33m\u001b[0m\u001b[1;33m\u001b[0m\u001b[1;33m\u001b[0m\u001b[0m\n",
      "\u001b[1;32m~\\AppData\\Local\\Programs\\Python\\Python37\\lib\\site-packages\\plotly\\basedatatypes.py\u001b[0m in \u001b[0;36m_set_prop\u001b[1;34m(self, prop, val)\u001b[0m\n\u001b[0;32m   5141\u001b[0m \u001b[1;33m\u001b[0m\u001b[0m\n\u001b[0;32m   5142\u001b[0m         \u001b[1;32mtry\u001b[0m\u001b[1;33m:\u001b[0m\u001b[1;33m\u001b[0m\u001b[1;33m\u001b[0m\u001b[0m\n\u001b[1;32m-> 5143\u001b[1;33m             \u001b[0mval\u001b[0m \u001b[1;33m=\u001b[0m \u001b[0mvalidator\u001b[0m\u001b[1;33m.\u001b[0m\u001b[0mvalidate_coerce\u001b[0m\u001b[1;33m(\u001b[0m\u001b[0mval\u001b[0m\u001b[1;33m)\u001b[0m\u001b[1;33m\u001b[0m\u001b[1;33m\u001b[0m\u001b[0m\n\u001b[0m\u001b[0;32m   5144\u001b[0m         \u001b[1;32mexcept\u001b[0m \u001b[0mValueError\u001b[0m \u001b[1;32mas\u001b[0m \u001b[0merr\u001b[0m\u001b[1;33m:\u001b[0m\u001b[1;33m\u001b[0m\u001b[1;33m\u001b[0m\u001b[0m\n\u001b[0;32m   5145\u001b[0m             \u001b[1;32mif\u001b[0m \u001b[0mself\u001b[0m\u001b[1;33m.\u001b[0m\u001b[0m_skip_invalid\u001b[0m\u001b[1;33m:\u001b[0m\u001b[1;33m\u001b[0m\u001b[1;33m\u001b[0m\u001b[0m\n",
      "\u001b[1;32m~\\AppData\\Local\\Programs\\Python\\Python37\\lib\\site-packages\\_plotly_utils\\basevalidators.py\u001b[0m in \u001b[0;36mvalidate_coerce\u001b[1;34m(self, v)\u001b[0m\n\u001b[0;32m   1084\u001b[0m                     \u001b[0mv\u001b[0m \u001b[1;33m=\u001b[0m \u001b[0mstr\u001b[0m\u001b[1;33m(\u001b[0m\u001b[0mv\u001b[0m\u001b[1;33m)\u001b[0m\u001b[1;33m\u001b[0m\u001b[1;33m\u001b[0m\u001b[0m\n\u001b[0;32m   1085\u001b[0m                 \u001b[1;32melse\u001b[0m\u001b[1;33m:\u001b[0m\u001b[1;33m\u001b[0m\u001b[1;33m\u001b[0m\u001b[0m\n\u001b[1;32m-> 1086\u001b[1;33m                     \u001b[0mself\u001b[0m\u001b[1;33m.\u001b[0m\u001b[0mraise_invalid_val\u001b[0m\u001b[1;33m(\u001b[0m\u001b[0mv\u001b[0m\u001b[1;33m)\u001b[0m\u001b[1;33m\u001b[0m\u001b[1;33m\u001b[0m\u001b[0m\n\u001b[0m\u001b[0;32m   1087\u001b[0m \u001b[1;33m\u001b[0m\u001b[0m\n\u001b[0;32m   1088\u001b[0m             \u001b[1;32mif\u001b[0m \u001b[0mself\u001b[0m\u001b[1;33m.\u001b[0m\u001b[0mno_blank\u001b[0m \u001b[1;32mand\u001b[0m \u001b[0mlen\u001b[0m\u001b[1;33m(\u001b[0m\u001b[0mv\u001b[0m\u001b[1;33m)\u001b[0m \u001b[1;33m==\u001b[0m \u001b[1;36m0\u001b[0m\u001b[1;33m:\u001b[0m\u001b[1;33m\u001b[0m\u001b[1;33m\u001b[0m\u001b[0m\n",
      "\u001b[1;32m~\\AppData\\Local\\Programs\\Python\\Python37\\lib\\site-packages\\_plotly_utils\\basevalidators.py\u001b[0m in \u001b[0;36mraise_invalid_val\u001b[1;34m(self, v, inds)\u001b[0m\n\u001b[0;32m    285\u001b[0m                 \u001b[0mtyp\u001b[0m\u001b[1;33m=\u001b[0m\u001b[0mtype_str\u001b[0m\u001b[1;33m(\u001b[0m\u001b[0mv\u001b[0m\u001b[1;33m)\u001b[0m\u001b[1;33m,\u001b[0m\u001b[1;33m\u001b[0m\u001b[1;33m\u001b[0m\u001b[0m\n\u001b[0;32m    286\u001b[0m                 \u001b[0mv\u001b[0m\u001b[1;33m=\u001b[0m\u001b[0mrepr\u001b[0m\u001b[1;33m(\u001b[0m\u001b[0mv\u001b[0m\u001b[1;33m)\u001b[0m\u001b[1;33m,\u001b[0m\u001b[1;33m\u001b[0m\u001b[1;33m\u001b[0m\u001b[0m\n\u001b[1;32m--> 287\u001b[1;33m                 \u001b[0mvalid_clr_desc\u001b[0m\u001b[1;33m=\u001b[0m\u001b[0mself\u001b[0m\u001b[1;33m.\u001b[0m\u001b[0mdescription\u001b[0m\u001b[1;33m(\u001b[0m\u001b[1;33m)\u001b[0m\u001b[1;33m,\u001b[0m\u001b[1;33m\u001b[0m\u001b[1;33m\u001b[0m\u001b[0m\n\u001b[0m\u001b[0;32m    288\u001b[0m             )\n\u001b[0;32m    289\u001b[0m         )\n",
      "\u001b[1;31mValueError\u001b[0m: \n    Invalid value of type 'pandas._libs.tslibs.timestamps.Timestamp' received for the 'name' property of frame\n        Received value: Timestamp('2020-03-01 00:00:00')\n\n    The 'name' property is a string and must be specified as:\n      - A string\n      - A number that will be converted to a string"
     ]
    }
   ],
   "source": [
    "scatter_geo(covid_data, \"deaths_ratio\", \"deaths rate\", \"deaths_ratio\", size_max=None)"
   ]
  },
  {
   "cell_type": "code",
   "execution_count": 5,
   "metadata": {},
   "outputs": [
    {
     "output_type": "display_data",
     "data": {
      "text/plain": "<IPython.lib.display.IFrame at 0x27d691e36c8>",
      "text/html": "\n        <iframe\n            width=\"100%\"\n            height=\"475\"\n            src=\"http://DESKTOP-UJPC5BH:40001/dtale/iframe/1\"\n            frameborder=\"0\"\n            allowfullscreen\n        ></iframe>\n        "
     },
     "metadata": {}
    },
    {
     "output_type": "execute_result",
     "data": {
      "text/plain": []
     },
     "metadata": {},
     "execution_count": 5
    }
   ],
   "source": [
    "# Show the cleaned data\n",
    "dtale.show(covid_data)"
   ]
  },
  {
   "cell_type": "code",
   "execution_count": 6,
   "metadata": {},
   "outputs": [],
   "source": [
    "# Import functions of read, create and write\n",
    "from utils_.folders_tb import *"
   ]
  },
  {
   "cell_type": "code",
   "execution_count": 7,
   "metadata": {},
   "outputs": [],
   "source": [
    "# Store csv with the cleaned data\n",
    "create_csv(covid_data,'../data/cleaned.csv')\n",
    "create_csv(covid_data, '../src/api/static/cleaned.csv')"
   ]
  },
  {
   "source": [
    "### DataFrame Groupby Countries"
   ],
   "cell_type": "markdown",
   "metadata": {}
  },
  {
   "cell_type": "code",
   "execution_count": 8,
   "metadata": {},
   "outputs": [],
   "source": [
    "# Import functions to create subdf\n",
    "from utils_.create_df import *"
   ]
  },
  {
   "cell_type": "code",
   "execution_count": 9,
   "metadata": {},
   "outputs": [],
   "source": [
    "# Gruop df by \"country\" --> Assign it to \"covid_groupby\"\n",
    "covid_groupby = groupby_country(covid_data, \"country\")"
   ]
  },
  {
   "cell_type": "code",
   "execution_count": 10,
   "metadata": {},
   "outputs": [
    {
     "output_type": "display_data",
     "data": {
      "text/plain": "<IPython.lib.display.IFrame at 0x27d6aff84c8>",
      "text/html": "\n        <iframe\n            width=\"100%\"\n            height=\"475\"\n            src=\"http://DESKTOP-UJPC5BH:40001/dtale/iframe/2\"\n            frameborder=\"0\"\n            allowfullscreen\n        ></iframe>\n        "
     },
     "metadata": {}
    },
    {
     "output_type": "execute_result",
     "data": {
      "text/plain": []
     },
     "metadata": {},
     "execution_count": 10
    }
   ],
   "source": [
    "# Show df grouped\n",
    "dtale.show(covid_groupby)"
   ]
  },
  {
   "source": [
    "### DATAFRAME SORTED BY GDP\n",
    "\n"
   ],
   "cell_type": "markdown",
   "metadata": {}
  },
  {
   "cell_type": "code",
   "execution_count": 11,
   "metadata": {},
   "outputs": [],
   "source": [
    "# Creating df for each continent\n",
    "africa = cases_continent(covid_groupby, \"continent\", \"Africa\")\n",
    "asia = cases_continent(covid_groupby, \"continent\", \"Asia\")\n",
    "europe = cases_continent(covid_groupby, \"continent\", \"Europe\")\n",
    "north_america = cases_continent(covid_groupby, \"continent\", \"North America\")\n",
    "oceania = cases_continent(covid_groupby, \"continent\", \"Oceania\")\n",
    "south_america = cases_continent(covid_groupby, \"continent\", \"South America\")"
   ]
  },
  {
   "cell_type": "code",
   "execution_count": 12,
   "metadata": {},
   "outputs": [],
   "source": [
    "# Take first and  last 5 values of each country\n",
    "s_gdp_africa = sort_value(africa, \"gdp_per_capita\")\n",
    "s_gdp_asia = sort_value(asia, \"gdp_per_capita\")\n",
    "s_gdp_europe = sort_value(europe, \"gdp_per_capita\")\n",
    "s_gdp_north_america = sort_value(north_america, \"gdp_per_capita\")\n",
    "s_gdp_south_america = sort_value(south_america, \"gdp_per_capita\")\n",
    "s_gdp_oceania = sort_value(oceania, \"gdp_per_capita\")"
   ]
  },
  {
   "cell_type": "code",
   "execution_count": 13,
   "metadata": {},
   "outputs": [],
   "source": [
    "# Join DataFrame of each country in a df of world\n",
    "s_gdp_world = concatenate_df(s_gdp_africa, s_gdp_asia, s_gdp_europe, s_gdp_north_america, s_gdp_south_america, s_gdp_oceania, \"gdp_per_capita\")"
   ]
  },
  {
   "cell_type": "code",
   "execution_count": 14,
   "metadata": {},
   "outputs": [
    {
     "output_type": "display_data",
     "data": {
      "text/plain": "<IPython.lib.display.IFrame at 0x27d693837c8>",
      "text/html": "\n        <iframe\n            width=\"100%\"\n            height=\"475\"\n            src=\"http://DESKTOP-UJPC5BH:40001/dtale/iframe/3\"\n            frameborder=\"0\"\n            allowfullscreen\n        ></iframe>\n        "
     },
     "metadata": {}
    },
    {
     "output_type": "execute_result",
     "data": {
      "text/plain": []
     },
     "metadata": {},
     "execution_count": 14
    }
   ],
   "source": [
    "dtale.show(s_gdp_world)"
   ]
  },
  {
   "source": [
    "### DATAFRAME SORTED BY HDI RANK"
   ],
   "cell_type": "markdown",
   "metadata": {}
  },
  {
   "cell_type": "code",
   "execution_count": 15,
   "metadata": {},
   "outputs": [],
   "source": [
    "s_hdi_africa = sort_value(africa, \"HDI\")\n",
    "s_hdi_asia = sort_value(asia, \"HDI\")\n",
    "s_hdi_europe = sort_value(europe, \"HDI\")\n",
    "s_hdi_north_america = sort_value(north_america, \"HDI\")\n",
    "s_hdi_south_america = sort_value(south_america, \"HDI\")\n",
    "s_hdi_oceania = sort_value(oceania, \"HDI\")"
   ]
  },
  {
   "cell_type": "code",
   "execution_count": 16,
   "metadata": {},
   "outputs": [],
   "source": [
    "s_hdi_world = concatenate_df(s_hdi_africa, s_hdi_asia, s_hdi_europe, s_hdi_north_america, s_hdi_south_america, s_hdi_oceania, \"HDI\")"
   ]
  },
  {
   "cell_type": "code",
   "execution_count": 17,
   "metadata": {},
   "outputs": [
    {
     "output_type": "display_data",
     "data": {
      "text/plain": "<IPython.lib.display.IFrame at 0x27d6a636088>",
      "text/html": "\n        <iframe\n            width=\"100%\"\n            height=\"475\"\n            src=\"http://DESKTOP-UJPC5BH:40001/dtale/iframe/4\"\n            frameborder=\"0\"\n            allowfullscreen\n        ></iframe>\n        "
     },
     "metadata": {}
    },
    {
     "output_type": "execute_result",
     "data": {
      "text/plain": []
     },
     "metadata": {},
     "execution_count": 17
    }
   ],
   "source": [
    "dtale.show(s_hdi_world)"
   ]
  },
  {
   "source": [
    "### DATAFRAME SORTED BY POVERTY RATIO"
   ],
   "cell_type": "markdown",
   "metadata": {}
  },
  {
   "cell_type": "code",
   "execution_count": 18,
   "metadata": {},
   "outputs": [],
   "source": [
    "s_poverty_africa = sort_value(africa, \"Poverty %\")\n",
    "s_poverty_asia = sort_value(asia, \"Poverty %\")\n",
    "s_poverty_europe = sort_value(europe, \"Poverty %\")\n",
    "s_poverty_north_america = sort_value(north_america, \"Poverty %\")\n",
    "s_poverty_south_america = sort_value(south_america, \"Poverty %\")\n",
    "s_poverty_oceania = sort_value(oceania, \"Poverty %\")"
   ]
  },
  {
   "cell_type": "code",
   "execution_count": 19,
   "metadata": {},
   "outputs": [],
   "source": [
    "s_poverty_world = concatenate_df(s_poverty_africa, s_poverty_asia, s_poverty_europe, s_poverty_north_america, s_poverty_south_america, s_poverty_oceania, \"HDI\")"
   ]
  },
  {
   "cell_type": "code",
   "execution_count": 20,
   "metadata": {},
   "outputs": [
    {
     "output_type": "display_data",
     "data": {
      "text/plain": "<IPython.lib.display.IFrame at 0x27d6a6bb388>",
      "text/html": "\n        <iframe\n            width=\"100%\"\n            height=\"475\"\n            src=\"http://DESKTOP-UJPC5BH:40001/dtale/iframe/5\"\n            frameborder=\"0\"\n            allowfullscreen\n        ></iframe>\n        "
     },
     "metadata": {}
    },
    {
     "output_type": "execute_result",
     "data": {
      "text/plain": []
     },
     "metadata": {},
     "execution_count": 20
    }
   ],
   "source": [
    "dtale.show(s_hdi_world)"
   ]
  },
  {
   "source": [
    "### DATAFRAME SORTED BY DEATHS RATIO"
   ],
   "cell_type": "markdown",
   "metadata": {}
  },
  {
   "cell_type": "code",
   "execution_count": 21,
   "metadata": {},
   "outputs": [],
   "source": [
    "s_deaths_africa = sort_value(africa, \"deaths_ratio\")\n",
    "s_deaths_asia = sort_value(asia, \"deaths_ratio\")\n",
    "s_deaths_europe = sort_value(europe, \"deaths_ratio\")\n",
    "s_deaths_north_america = sort_value(north_america, \"deaths_ratio\")\n",
    "s_deaths_south_america = sort_value(south_america, \"deaths_ratio\")\n",
    "s_deaths_oceania = sort_value(oceania, \"deaths_ratio\")"
   ]
  },
  {
   "cell_type": "code",
   "execution_count": 22,
   "metadata": {},
   "outputs": [],
   "source": [
    "s_deaths_world = concatenate_df(s_deaths_africa, s_deaths_asia, s_deaths_europe, s_deaths_north_america, s_deaths_south_america, s_deaths_oceania, \"deaths_ratio\")"
   ]
  },
  {
   "cell_type": "code",
   "execution_count": 23,
   "metadata": {},
   "outputs": [
    {
     "output_type": "display_data",
     "data": {
      "text/plain": "<IPython.lib.display.IFrame at 0x27d6afe6888>",
      "text/html": "\n        <iframe\n            width=\"100%\"\n            height=\"475\"\n            src=\"http://DESKTOP-UJPC5BH:40001/dtale/iframe/6\"\n            frameborder=\"0\"\n            allowfullscreen\n        ></iframe>\n        "
     },
     "metadata": {}
    },
    {
     "output_type": "execute_result",
     "data": {
      "text/plain": []
     },
     "metadata": {},
     "execution_count": 23
    }
   ],
   "source": [
    "dtale.show(s_deaths_world)"
   ]
  },
  {
   "cell_type": "code",
   "execution_count": 24,
   "metadata": {},
   "outputs": [],
   "source": [
    "import plotly.figure_factory as ff "
   ]
  },
  {
   "cell_type": "code",
   "execution_count": 25,
   "metadata": {},
   "outputs": [
    {
     "output_type": "error",
     "ename": "SyntaxError",
     "evalue": "invalid syntax (<ipython-input-25-fb68bf99189a>, line 5)",
     "traceback": [
      "\u001b[1;36m  File \u001b[1;32m\"<ipython-input-25-fb68bf99189a>\"\u001b[1;36m, line \u001b[1;32m5\u001b[0m\n\u001b[1;33m    fig.show()\u001b[0m\n\u001b[1;37m      ^\u001b[0m\n\u001b[1;31mSyntaxError\u001b[0m\u001b[1;31m:\u001b[0m invalid syntax\n"
     ]
    }
   ],
   "source": [
    "def scatter_geo(df, size, name, size_max=None): \n",
    "    fig = px.scatter_geo(df, locations=\"country\", locationmode=\"country names\", color=\"continent\", \n",
    "    size=size, # size of markers (one of the columns)\n",
    "    size_max=size_max, title=(f'Map of {name}')\n",
    "    fig.show()"
   ]
  },
  {
   "cell_type": "code",
   "execution_count": 48,
   "metadata": {},
   "outputs": [
    {
     "output_type": "display_data",
     "data": {
      "application/vnd.plotly.v1+json": {
       "config": {
        "plotlyServerURL": "https://plot.ly"
       },
       "data": [
        {
         "geo": "geo",
         "hovertemplate": "continent=Asia<br>deaths_ratio=%{marker.size}<br>country=%{location}<extra></extra>",
         "legendgroup": "Asia",
         "locationmode": "country names",
         "locations": [
          "Afghanistan",
          "Armenia",
          "Azerbaijan",
          "Bahrain",
          "Bangladesh",
          "Bhutan",
          "Brunei",
          "Cambodia",
          "China",
          "Georgia",
          "India",
          "Indonesia",
          "Iran",
          "Iraq",
          "Israel",
          "Japan",
          "Jordan",
          "Kazakhstan",
          "Kuwait",
          "Kyrgyzstan",
          "Laos",
          "Lebanon",
          "Malaysia",
          "Mongolia",
          "Myanmar",
          "Nepal",
          "Oman",
          "Pakistan",
          "Philippines",
          "Qatar",
          "Saudi Arabia",
          "Singapore",
          "South Korea",
          "Sri Lanka",
          "Tajikistan",
          "Thailand",
          "Timor",
          "Turkey",
          "United Arab Emirates",
          "Uzbekistan",
          "Vietnam",
          "Yemen"
         ],
         "marker": {
          "color": "#636efa",
          "size": [
           4.310628496215861,
           1.9652797561714577,
           1.4520669728848719,
           0.374039232559504,
           1.5612514048194095,
           0.07639419404125286,
           1.293103448275862,
           0.6815500895626719,
           4.714741594022416,
           1.3533228452567523,
           1.110936358291566,
           2.7729188951110553,
           2.78950786406492,
           1.3975350233837978,
           0.7617077411290005,
           1.7005317853782793,
           1.2795416501475705,
           0.8137235444200277,
           0.5794109832614605,
           1.701562902363172,
           0.11855364552459988,
           1.424087789858989,
           0.4159183681983059,
           0.453102856344438,
           2.2447967246787908,
           1.1455391507217045,
           1.0714165004900802,
           2.2406182011862095,
           1.6781186221616995,
           0.25063711393233734,
           1.6523112358543264,
           0.050283044881672644,
           1.4325209221478823,
           0.6871107500676956,
           0.6762849413886384,
           0.5715292149178812,
           0.2098635886673662,
           0.8791931487298824,
           0.29835186565600047,
           0.6922981827172704,
           0.8200354609929078,
           19.69328879441239
          ],
          "sizemode": "area",
          "sizeref": 0.04923322198603097,
          "symbol": "circle"
         },
         "mode": "markers",
         "name": "Asia",
         "showlegend": true,
         "type": "scattergeo"
        },
        {
         "geo": "geo",
         "hovertemplate": "continent=Europe<br>deaths_ratio=%{marker.size}<br>country=%{location}<extra></extra>",
         "legendgroup": "Europe",
         "locationmode": "country names",
         "locations": [
          "Albania",
          "Austria",
          "Belarus",
          "Belgium",
          "Bosnia and Herzegovina",
          "Bulgaria",
          "Croatia",
          "Cyprus",
          "Czechia",
          "Denmark",
          "Estonia",
          "Finland",
          "France",
          "Germany",
          "Greece",
          "Hungary",
          "Iceland",
          "Ireland",
          "Italy",
          "Latvia",
          "Lithuania",
          "Luxembourg",
          "Malta",
          "Moldova",
          "Montenegro",
          "Netherlands",
          "North Macedonia",
          "Norway",
          "Poland",
          "Portugal",
          "Romania",
          "Russia",
          "Slovakia",
          "Slovenia",
          "Spain",
          "Sweden",
          "Switzerland",
          "Ukraine",
          "United Kingdom"
         ],
         "marker": {
          "color": "#EF553B",
          "size": [
           1.8444624482286045,
           1.6452115865267842,
           0.7184898246948201,
           2.391868670956419,
           4.475144936474652,
           4.184423802025397,
           2.212269620538067,
           0.487408610885459,
           1.8094943897996578,
           0.9310073023096714,
           0.9639215686274509,
           1.032102480143366,
           1.8155770033289185,
           2.3969439386531026,
           3.025184516846506,
           3.6644116377017477,
           0.4428156970529852,
           1.938635382744144,
           2.987671060288815,
           1.7717269675494216,
           1.546505744110647,
           1.1669723710625515,
           1.3678409761857901,
           2.378431565482633,
           1.5802608845015207,
           1.0862298237493846,
           3.3797576290018347,
           0.6460013020181281,
           2.5173928322909536,
           2.0184701109559344,
           2.7644710206790113,
           2.3386883683823387,
           3.1575799449331257,
           1.7337478643251267,
           2.1962800647983007,
           1.3657160483334176,
           1.5733099209833186,
           2.2746177469352995,
           2.8633915635877334
          ],
          "sizemode": "area",
          "sizeref": 0.04923322198603097,
          "symbol": "circle"
         },
         "mode": "markers",
         "name": "Europe",
         "showlegend": true,
         "type": "scattergeo"
        },
        {
         "geo": "geo",
         "hovertemplate": "continent=Africa<br>deaths_ratio=%{marker.size}<br>country=%{location}<extra></extra>",
         "legendgroup": "Africa",
         "locationmode": "country names",
         "locations": [
          "Algeria",
          "Benin",
          "Botswana",
          "Burkina Faso",
          "Burundi",
          "Cameroon",
          "Cape Verde",
          "Central African Republic",
          "Comoros",
          "Djibouti",
          "Egypt",
          "Equatorial Guinea",
          "Eritrea",
          "Eswatini",
          "Ethiopia",
          "Gabon",
          "Gambia",
          "Ghana",
          "Guinea",
          "Kenya",
          "Liberia",
          "Libya",
          "Madagascar",
          "Malawi",
          "Mali",
          "Mauritius",
          "Morocco",
          "Mozambique",
          "Niger",
          "Sao Tome and Principe",
          "Seychelles",
          "South Africa",
          "Sudan",
          "Tanzania",
          "Togo",
          "Tunisia",
          "Uganda",
          "Zambia",
          "Zimbabwe"
         ],
         "marker": {
          "color": "#00cc96",
          "size": [
           2.695456389775087,
           1.2585669781931466,
           1.5236220472440947,
           1.2309758281110117,
           0.13783597518952445,
           1.5356003564555916,
           0.8870116156283,
           1.369472182596291,
           3.7784679089026914,
           1.3182016586643388,
           5.821153024451987,
           1.4556797504549,
           0.3609177623098737,
           3.6275303643724692,
           1.5054286783976039,
           0.6064661842820696,
           2.937720329024677,
           0.8384195309990363,
           0.6694963462127511,
           1.8198137416719877,
           3.988737681839512,
           1.7015361624508274,
           1.9193572385061746,
           3.3682918991557362,
           3.5968184697684236,
           1.3198757763975155,
           1.766520507547243,
           1.1747180251117257,
           3.590127150336574,
           1.5008576329331047,
           0.35845964768537486,
           3.420610196311131,
           7.010805698071025,
           4.12573673870334,
           0.9408399819358723,
           3.6438294452832025,
           0.8129513160959702,
           1.3651102464332037,
           4.10156756056484
          ],
          "sizemode": "area",
          "sizeref": 0.04923322198603097,
          "symbol": "circle"
         },
         "mode": "markers",
         "name": "Africa",
         "showlegend": true,
         "type": "scattergeo"
        },
        {
         "geo": "geo",
         "hovertemplate": "continent=North America<br>deaths_ratio=%{marker.size}<br>country=%{location}<extra></extra>",
         "legendgroup": "North America",
         "locationmode": "country names",
         "locations": [
          "Antigua and Barbuda",
          "Bahamas",
          "Barbados",
          "Belize",
          "Canada",
          "Costa Rica",
          "Dominican Republic",
          "El Salvador",
          "Grenada",
          "Guatemala",
          "Haiti",
          "Honduras",
          "Jamaica",
          "Mexico",
          "Nicaragua",
          "Panama",
          "Saint Lucia",
          "Saint Vincent and the Grenadines",
          "Trinidad and Tobago",
          "United States"
         ],
         "marker": {
          "color": "#ab63fa",
          "size": [
           3.357314148681055,
           1.959567299166519,
           1.1832829808660623,
           2.5343271871322086,
           1.8571663114384476,
           1.262546404509831,
           1.2913347382327705,
           3.0708319926132153,
           0.6211180124223602,
           3.2592757348095427,
           2.026627218934911,
           2.636593410925721,
           1.849238610754228,
           9.253610964857858,
           2.5719449464757407,
           1.694988215796214,
           1.5807842332169986,
           0.6185567010309279,
           1.8483965014577262,
           1.7795954466741568
          ],
          "sizemode": "area",
          "sizeref": 0.04923322198603097,
          "symbol": "circle"
         },
         "mode": "markers",
         "name": "North America",
         "showlegend": true,
         "type": "scattergeo"
        },
        {
         "geo": "geo",
         "hovertemplate": "continent=South America<br>deaths_ratio=%{marker.size}<br>country=%{location}<extra></extra>",
         "legendgroup": "South America",
         "locationmode": "country names",
         "locations": [
          "Argentina",
          "Bolivia",
          "Brazil",
          "Chile",
          "Colombia",
          "Ecuador",
          "Guyana",
          "Paraguay",
          "Peru",
          "Suriname",
          "Uruguay",
          "Venezuela"
         ],
         "marker": {
          "color": "#FFA15A",
          "size": [
           2.128750695534461,
           4.0516808830908175,
           2.7906602471417106,
           2.1580229993625863,
           2.616942917374108,
           4.830775811367161,
           2.23243173288469,
           2.451524111471763,
           3.510791017327106,
           1.942698555219982,
           1.454317836326242,
           1.1157934403477894
          ],
          "sizemode": "area",
          "sizeref": 0.04923322198603097,
          "symbol": "circle"
         },
         "mode": "markers",
         "name": "South America",
         "showlegend": true,
         "type": "scattergeo"
        },
        {
         "geo": "geo",
         "hovertemplate": "continent=Oceania<br>deaths_ratio=%{marker.size}<br>country=%{location}<extra></extra>",
         "legendgroup": "Oceania",
         "locationmode": "country names",
         "locations": [
          "Australia",
          "Fiji",
          "New Zealand"
         ],
         "marker": {
          "color": "#19d3f3",
          "size": [
           3.034142437983462,
           2.247191011235955,
           0.9781790820165538
          ],
          "sizemode": "area",
          "sizeref": 0.04923322198603097,
          "symbol": "circle"
         },
         "mode": "markers",
         "name": "Oceania",
         "showlegend": true,
         "type": "scattergeo"
        }
       ],
       "layout": {
        "geo": {
         "center": {},
         "domain": {
          "x": [
           0,
           1
          ],
          "y": [
           0,
           1
          ]
         }
        },
        "legend": {
         "itemsizing": "constant",
         "title": {
          "text": "continent"
         },
         "tracegroupgap": 0
        },
        "template": {
         "data": {
          "bar": [
           {
            "error_x": {
             "color": "#2a3f5f"
            },
            "error_y": {
             "color": "#2a3f5f"
            },
            "marker": {
             "line": {
              "color": "#E5ECF6",
              "width": 0.5
             }
            },
            "type": "bar"
           }
          ],
          "barpolar": [
           {
            "marker": {
             "line": {
              "color": "#E5ECF6",
              "width": 0.5
             }
            },
            "type": "barpolar"
           }
          ],
          "carpet": [
           {
            "aaxis": {
             "endlinecolor": "#2a3f5f",
             "gridcolor": "white",
             "linecolor": "white",
             "minorgridcolor": "white",
             "startlinecolor": "#2a3f5f"
            },
            "baxis": {
             "endlinecolor": "#2a3f5f",
             "gridcolor": "white",
             "linecolor": "white",
             "minorgridcolor": "white",
             "startlinecolor": "#2a3f5f"
            },
            "type": "carpet"
           }
          ],
          "choropleth": [
           {
            "colorbar": {
             "outlinewidth": 0,
             "ticks": ""
            },
            "type": "choropleth"
           }
          ],
          "contour": [
           {
            "colorbar": {
             "outlinewidth": 0,
             "ticks": ""
            },
            "colorscale": [
             [
              0,
              "#0d0887"
             ],
             [
              0.1111111111111111,
              "#46039f"
             ],
             [
              0.2222222222222222,
              "#7201a8"
             ],
             [
              0.3333333333333333,
              "#9c179e"
             ],
             [
              0.4444444444444444,
              "#bd3786"
             ],
             [
              0.5555555555555556,
              "#d8576b"
             ],
             [
              0.6666666666666666,
              "#ed7953"
             ],
             [
              0.7777777777777778,
              "#fb9f3a"
             ],
             [
              0.8888888888888888,
              "#fdca26"
             ],
             [
              1,
              "#f0f921"
             ]
            ],
            "type": "contour"
           }
          ],
          "contourcarpet": [
           {
            "colorbar": {
             "outlinewidth": 0,
             "ticks": ""
            },
            "type": "contourcarpet"
           }
          ],
          "heatmap": [
           {
            "colorbar": {
             "outlinewidth": 0,
             "ticks": ""
            },
            "colorscale": [
             [
              0,
              "#0d0887"
             ],
             [
              0.1111111111111111,
              "#46039f"
             ],
             [
              0.2222222222222222,
              "#7201a8"
             ],
             [
              0.3333333333333333,
              "#9c179e"
             ],
             [
              0.4444444444444444,
              "#bd3786"
             ],
             [
              0.5555555555555556,
              "#d8576b"
             ],
             [
              0.6666666666666666,
              "#ed7953"
             ],
             [
              0.7777777777777778,
              "#fb9f3a"
             ],
             [
              0.8888888888888888,
              "#fdca26"
             ],
             [
              1,
              "#f0f921"
             ]
            ],
            "type": "heatmap"
           }
          ],
          "heatmapgl": [
           {
            "colorbar": {
             "outlinewidth": 0,
             "ticks": ""
            },
            "colorscale": [
             [
              0,
              "#0d0887"
             ],
             [
              0.1111111111111111,
              "#46039f"
             ],
             [
              0.2222222222222222,
              "#7201a8"
             ],
             [
              0.3333333333333333,
              "#9c179e"
             ],
             [
              0.4444444444444444,
              "#bd3786"
             ],
             [
              0.5555555555555556,
              "#d8576b"
             ],
             [
              0.6666666666666666,
              "#ed7953"
             ],
             [
              0.7777777777777778,
              "#fb9f3a"
             ],
             [
              0.8888888888888888,
              "#fdca26"
             ],
             [
              1,
              "#f0f921"
             ]
            ],
            "type": "heatmapgl"
           }
          ],
          "histogram": [
           {
            "marker": {
             "colorbar": {
              "outlinewidth": 0,
              "ticks": ""
             }
            },
            "type": "histogram"
           }
          ],
          "histogram2d": [
           {
            "colorbar": {
             "outlinewidth": 0,
             "ticks": ""
            },
            "colorscale": [
             [
              0,
              "#0d0887"
             ],
             [
              0.1111111111111111,
              "#46039f"
             ],
             [
              0.2222222222222222,
              "#7201a8"
             ],
             [
              0.3333333333333333,
              "#9c179e"
             ],
             [
              0.4444444444444444,
              "#bd3786"
             ],
             [
              0.5555555555555556,
              "#d8576b"
             ],
             [
              0.6666666666666666,
              "#ed7953"
             ],
             [
              0.7777777777777778,
              "#fb9f3a"
             ],
             [
              0.8888888888888888,
              "#fdca26"
             ],
             [
              1,
              "#f0f921"
             ]
            ],
            "type": "histogram2d"
           }
          ],
          "histogram2dcontour": [
           {
            "colorbar": {
             "outlinewidth": 0,
             "ticks": ""
            },
            "colorscale": [
             [
              0,
              "#0d0887"
             ],
             [
              0.1111111111111111,
              "#46039f"
             ],
             [
              0.2222222222222222,
              "#7201a8"
             ],
             [
              0.3333333333333333,
              "#9c179e"
             ],
             [
              0.4444444444444444,
              "#bd3786"
             ],
             [
              0.5555555555555556,
              "#d8576b"
             ],
             [
              0.6666666666666666,
              "#ed7953"
             ],
             [
              0.7777777777777778,
              "#fb9f3a"
             ],
             [
              0.8888888888888888,
              "#fdca26"
             ],
             [
              1,
              "#f0f921"
             ]
            ],
            "type": "histogram2dcontour"
           }
          ],
          "mesh3d": [
           {
            "colorbar": {
             "outlinewidth": 0,
             "ticks": ""
            },
            "type": "mesh3d"
           }
          ],
          "parcoords": [
           {
            "line": {
             "colorbar": {
              "outlinewidth": 0,
              "ticks": ""
             }
            },
            "type": "parcoords"
           }
          ],
          "pie": [
           {
            "automargin": true,
            "type": "pie"
           }
          ],
          "scatter": [
           {
            "marker": {
             "colorbar": {
              "outlinewidth": 0,
              "ticks": ""
             }
            },
            "type": "scatter"
           }
          ],
          "scatter3d": [
           {
            "line": {
             "colorbar": {
              "outlinewidth": 0,
              "ticks": ""
             }
            },
            "marker": {
             "colorbar": {
              "outlinewidth": 0,
              "ticks": ""
             }
            },
            "type": "scatter3d"
           }
          ],
          "scattercarpet": [
           {
            "marker": {
             "colorbar": {
              "outlinewidth": 0,
              "ticks": ""
             }
            },
            "type": "scattercarpet"
           }
          ],
          "scattergeo": [
           {
            "marker": {
             "colorbar": {
              "outlinewidth": 0,
              "ticks": ""
             }
            },
            "type": "scattergeo"
           }
          ],
          "scattergl": [
           {
            "marker": {
             "colorbar": {
              "outlinewidth": 0,
              "ticks": ""
             }
            },
            "type": "scattergl"
           }
          ],
          "scattermapbox": [
           {
            "marker": {
             "colorbar": {
              "outlinewidth": 0,
              "ticks": ""
             }
            },
            "type": "scattermapbox"
           }
          ],
          "scatterpolar": [
           {
            "marker": {
             "colorbar": {
              "outlinewidth": 0,
              "ticks": ""
             }
            },
            "type": "scatterpolar"
           }
          ],
          "scatterpolargl": [
           {
            "marker": {
             "colorbar": {
              "outlinewidth": 0,
              "ticks": ""
             }
            },
            "type": "scatterpolargl"
           }
          ],
          "scatterternary": [
           {
            "marker": {
             "colorbar": {
              "outlinewidth": 0,
              "ticks": ""
             }
            },
            "type": "scatterternary"
           }
          ],
          "surface": [
           {
            "colorbar": {
             "outlinewidth": 0,
             "ticks": ""
            },
            "colorscale": [
             [
              0,
              "#0d0887"
             ],
             [
              0.1111111111111111,
              "#46039f"
             ],
             [
              0.2222222222222222,
              "#7201a8"
             ],
             [
              0.3333333333333333,
              "#9c179e"
             ],
             [
              0.4444444444444444,
              "#bd3786"
             ],
             [
              0.5555555555555556,
              "#d8576b"
             ],
             [
              0.6666666666666666,
              "#ed7953"
             ],
             [
              0.7777777777777778,
              "#fb9f3a"
             ],
             [
              0.8888888888888888,
              "#fdca26"
             ],
             [
              1,
              "#f0f921"
             ]
            ],
            "type": "surface"
           }
          ],
          "table": [
           {
            "cells": {
             "fill": {
              "color": "#EBF0F8"
             },
             "line": {
              "color": "white"
             }
            },
            "header": {
             "fill": {
              "color": "#C8D4E3"
             },
             "line": {
              "color": "white"
             }
            },
            "type": "table"
           }
          ]
         },
         "layout": {
          "annotationdefaults": {
           "arrowcolor": "#2a3f5f",
           "arrowhead": 0,
           "arrowwidth": 1
          },
          "autotypenumbers": "strict",
          "coloraxis": {
           "colorbar": {
            "outlinewidth": 0,
            "ticks": ""
           }
          },
          "colorscale": {
           "diverging": [
            [
             0,
             "#8e0152"
            ],
            [
             0.1,
             "#c51b7d"
            ],
            [
             0.2,
             "#de77ae"
            ],
            [
             0.3,
             "#f1b6da"
            ],
            [
             0.4,
             "#fde0ef"
            ],
            [
             0.5,
             "#f7f7f7"
            ],
            [
             0.6,
             "#e6f5d0"
            ],
            [
             0.7,
             "#b8e186"
            ],
            [
             0.8,
             "#7fbc41"
            ],
            [
             0.9,
             "#4d9221"
            ],
            [
             1,
             "#276419"
            ]
           ],
           "sequential": [
            [
             0,
             "#0d0887"
            ],
            [
             0.1111111111111111,
             "#46039f"
            ],
            [
             0.2222222222222222,
             "#7201a8"
            ],
            [
             0.3333333333333333,
             "#9c179e"
            ],
            [
             0.4444444444444444,
             "#bd3786"
            ],
            [
             0.5555555555555556,
             "#d8576b"
            ],
            [
             0.6666666666666666,
             "#ed7953"
            ],
            [
             0.7777777777777778,
             "#fb9f3a"
            ],
            [
             0.8888888888888888,
             "#fdca26"
            ],
            [
             1,
             "#f0f921"
            ]
           ],
           "sequentialminus": [
            [
             0,
             "#0d0887"
            ],
            [
             0.1111111111111111,
             "#46039f"
            ],
            [
             0.2222222222222222,
             "#7201a8"
            ],
            [
             0.3333333333333333,
             "#9c179e"
            ],
            [
             0.4444444444444444,
             "#bd3786"
            ],
            [
             0.5555555555555556,
             "#d8576b"
            ],
            [
             0.6666666666666666,
             "#ed7953"
            ],
            [
             0.7777777777777778,
             "#fb9f3a"
            ],
            [
             0.8888888888888888,
             "#fdca26"
            ],
            [
             1,
             "#f0f921"
            ]
           ]
          },
          "colorway": [
           "#636efa",
           "#EF553B",
           "#00cc96",
           "#ab63fa",
           "#FFA15A",
           "#19d3f3",
           "#FF6692",
           "#B6E880",
           "#FF97FF",
           "#FECB52"
          ],
          "font": {
           "color": "#2a3f5f"
          },
          "geo": {
           "bgcolor": "white",
           "lakecolor": "white",
           "landcolor": "#E5ECF6",
           "showlakes": true,
           "showland": true,
           "subunitcolor": "white"
          },
          "hoverlabel": {
           "align": "left"
          },
          "hovermode": "closest",
          "mapbox": {
           "style": "light"
          },
          "paper_bgcolor": "white",
          "plot_bgcolor": "#E5ECF6",
          "polar": {
           "angularaxis": {
            "gridcolor": "white",
            "linecolor": "white",
            "ticks": ""
           },
           "bgcolor": "#E5ECF6",
           "radialaxis": {
            "gridcolor": "white",
            "linecolor": "white",
            "ticks": ""
           }
          },
          "scene": {
           "xaxis": {
            "backgroundcolor": "#E5ECF6",
            "gridcolor": "white",
            "gridwidth": 2,
            "linecolor": "white",
            "showbackground": true,
            "ticks": "",
            "zerolinecolor": "white"
           },
           "yaxis": {
            "backgroundcolor": "#E5ECF6",
            "gridcolor": "white",
            "gridwidth": 2,
            "linecolor": "white",
            "showbackground": true,
            "ticks": "",
            "zerolinecolor": "white"
           },
           "zaxis": {
            "backgroundcolor": "#E5ECF6",
            "gridcolor": "white",
            "gridwidth": 2,
            "linecolor": "white",
            "showbackground": true,
            "ticks": "",
            "zerolinecolor": "white"
           }
          },
          "shapedefaults": {
           "line": {
            "color": "#2a3f5f"
           }
          },
          "ternary": {
           "aaxis": {
            "gridcolor": "white",
            "linecolor": "white",
            "ticks": ""
           },
           "baxis": {
            "gridcolor": "white",
            "linecolor": "white",
            "ticks": ""
           },
           "bgcolor": "#E5ECF6",
           "caxis": {
            "gridcolor": "white",
            "linecolor": "white",
            "ticks": ""
           }
          },
          "title": {
           "x": 0.05
          },
          "xaxis": {
           "automargin": true,
           "gridcolor": "white",
           "linecolor": "white",
           "ticks": "",
           "title": {
            "standoff": 15
           },
           "zerolinecolor": "white",
           "zerolinewidth": 2
          },
          "yaxis": {
           "automargin": true,
           "gridcolor": "white",
           "linecolor": "white",
           "ticks": "",
           "title": {
            "standoff": 15
           },
           "zerolinecolor": "white",
           "zerolinewidth": 2
          }
         }
        },
        "title": {
         "text": "Map of ratio_deaths"
        }
       }
      }
     },
     "metadata": {}
    }
   ],
   "source": [
    "import plotly.express as px\n",
    "fig = px.scatter_geo(covid_groupby, locations=\"country\", locationmode=\"country names\", color=\"continent\", \n",
    "size=\"deaths_ratio\", # size of markers, \"pop\" is one of the columns of gapminder\n",
    "title=\"Map of ratio_deaths\")\n",
    "fig.show()\n"
   ]
  },
  {
   "cell_type": "code",
   "execution_count": 79,
   "metadata": {},
   "outputs": [
    {
     "output_type": "display_data",
     "data": {
      "application/vnd.plotly.v1+json": {
       "config": {
        "plotlyServerURL": "https://plot.ly"
       },
       "data": [
        {
         "geo": "geo",
         "hovertemplate": "continent=Asia<br>HDI=%{marker.size}<br>country=%{location}<extra></extra>",
         "legendgroup": "Asia",
         "locationmode": "country names",
         "locations": [
          "Afghanistan",
          "Armenia",
          "Azerbaijan",
          "Bahrain",
          "Bangladesh",
          "Bhutan",
          "Brunei",
          "Cambodia",
          "China",
          "Georgia",
          "India",
          "Indonesia",
          "Iran",
          "Iraq",
          "Israel",
          "Japan",
          "Jordan",
          "Kazakhstan",
          "Kuwait",
          "Kyrgyzstan",
          "Laos",
          "Lebanon",
          "Malaysia",
          "Mongolia",
          "Myanmar",
          "Nepal",
          "Oman",
          "Pakistan",
          "Philippines",
          "Qatar",
          "Saudi Arabia",
          "Singapore",
          "South Korea",
          "Sri Lanka",
          "Tajikistan",
          "Thailand",
          "Timor",
          "Turkey",
          "United Arab Emirates",
          "Uzbekistan",
          "Vietnam",
          "Yemen"
         ],
         "marker": {
          "color": "#636efa",
          "size": [
           0.511,
           0.776,
           0.756,
           0.852,
           0.632,
           0.654,
           0.838,
           0.594,
           0.761,
           0.812,
           0.645,
           0.718,
           0.783,
           0.674,
           0.919,
           0.919,
           0.729,
           0.825,
           0.806,
           0.697,
           0.613,
           0.744,
           0.81,
           0.737,
           0.583,
           0.602,
           0.813,
           0.557,
           0.718,
           0.848,
           0.854,
           0.938,
           0.916,
           0.782,
           0.668,
           0.777,
           0.606,
           0.82,
           0.89,
           0.72,
           0.704,
           0.47
          ],
          "sizemode": "area",
          "sizeref": 0.00957,
          "symbol": "circle"
         },
         "mode": "markers",
         "name": "Asia",
         "showlegend": true,
         "type": "scattergeo"
        },
        {
         "geo": "geo",
         "hovertemplate": "continent=Europe<br>HDI=%{marker.size}<br>country=%{location}<extra></extra>",
         "legendgroup": "Europe",
         "locationmode": "country names",
         "locations": [
          "Albania",
          "Austria",
          "Belarus",
          "Belgium",
          "Bosnia and Herzegovina",
          "Bulgaria",
          "Croatia",
          "Cyprus",
          "Czechia",
          "Denmark",
          "Estonia",
          "Finland",
          "France",
          "Germany",
          "Greece",
          "Hungary",
          "Iceland",
          "Ireland",
          "Italy",
          "Latvia",
          "Lithuania",
          "Luxembourg",
          "Malta",
          "Moldova",
          "Montenegro",
          "Netherlands",
          "North Macedonia",
          "Norway",
          "Poland",
          "Portugal",
          "Romania",
          "Russia",
          "Slovakia",
          "Slovenia",
          "Spain",
          "Sweden",
          "Switzerland",
          "Ukraine",
          "United Kingdom"
         ],
         "marker": {
          "color": "#EF553B",
          "size": [
           0.795,
           0.922,
           0.823,
           0.931,
           0.78,
           0.816,
           0.851,
           0.887,
           0.9,
           0.94,
           0.892,
           0.938,
           0.901,
           0.947,
           0.888,
           0.854,
           0.949,
           0.955,
           0.892,
           0.866,
           0.882,
           0.916,
           0.895,
           0.75,
           0.829,
           0.944,
           0.774,
           0.957,
           0.88,
           0.864,
           0.828,
           0.824,
           0.86,
           0.917,
           0.904,
           0.945,
           0.955,
           0.779,
           0.932
          ],
          "sizemode": "area",
          "sizeref": 0.00957,
          "symbol": "circle"
         },
         "mode": "markers",
         "name": "Europe",
         "showlegend": true,
         "type": "scattergeo"
        },
        {
         "geo": "geo",
         "hovertemplate": "continent=Africa<br>HDI=%{marker.size}<br>country=%{location}<extra></extra>",
         "legendgroup": "Africa",
         "locationmode": "country names",
         "locations": [
          "Algeria",
          "Benin",
          "Botswana",
          "Burkina Faso",
          "Burundi",
          "Cameroon",
          "Cape Verde",
          "Central African Republic",
          "Comoros",
          "Djibouti",
          "Egypt",
          "Equatorial Guinea",
          "Eritrea",
          "Eswatini",
          "Ethiopia",
          "Gabon",
          "Gambia",
          "Ghana",
          "Guinea",
          "Kenya",
          "Liberia",
          "Libya",
          "Madagascar",
          "Malawi",
          "Mali",
          "Mauritius",
          "Morocco",
          "Mozambique",
          "Niger",
          "Sao Tome and Principe",
          "Seychelles",
          "South Africa",
          "Sudan",
          "Tanzania",
          "Togo",
          "Tunisia",
          "Uganda",
          "Zambia",
          "Zimbabwe"
         ],
         "marker": {
          "color": "#00cc96",
          "size": [
           0.748,
           0.545,
           0.735,
           0.452,
           0.433,
           0.563,
           0.665,
           0.397,
           0.554,
           0.524,
           0.707,
           0.592,
           0.459,
           0.611,
           0.485,
           0.703,
           0.496,
           0.611,
           0.477,
           0.601,
           0.48,
           0.724,
           0.528,
           0.483,
           0.434,
           0.804,
           0.686,
           0.456,
           0.394,
           0.625,
           0.796,
           0.709,
           0.51,
           0.529,
           0.515,
           0.74,
           0.544,
           0.584,
           0.571
          ],
          "sizemode": "area",
          "sizeref": 0.00957,
          "symbol": "circle"
         },
         "mode": "markers",
         "name": "Africa",
         "showlegend": true,
         "type": "scattergeo"
        },
        {
         "geo": "geo",
         "hovertemplate": "continent=North America<br>HDI=%{marker.size}<br>country=%{location}<extra></extra>",
         "legendgroup": "North America",
         "locationmode": "country names",
         "locations": [
          "Antigua and Barbuda",
          "Bahamas",
          "Barbados",
          "Belize",
          "Canada",
          "Costa Rica",
          "Dominican Republic",
          "El Salvador",
          "Grenada",
          "Guatemala",
          "Haiti",
          "Honduras",
          "Jamaica",
          "Mexico",
          "Nicaragua",
          "Panama",
          "Saint Lucia",
          "Saint Vincent and the Grenadines",
          "Trinidad and Tobago",
          "United States"
         ],
         "marker": {
          "color": "#ab63fa",
          "size": [
           0.778,
           0.814,
           0.814,
           0.716,
           0.929,
           0.81,
           0.756,
           0.673,
           0.779,
           0.663,
           0.51,
           0.634,
           0.734,
           0.779,
           0.66,
           0.815,
           0.759,
           0.738,
           0.796,
           0.926
          ],
          "sizemode": "area",
          "sizeref": 0.00957,
          "symbol": "circle"
         },
         "mode": "markers",
         "name": "North America",
         "showlegend": true,
         "type": "scattergeo"
        },
        {
         "geo": "geo",
         "hovertemplate": "continent=South America<br>HDI=%{marker.size}<br>country=%{location}<extra></extra>",
         "legendgroup": "South America",
         "locationmode": "country names",
         "locations": [
          "Argentina",
          "Bolivia",
          "Brazil",
          "Chile",
          "Colombia",
          "Ecuador",
          "Guyana",
          "Paraguay",
          "Peru",
          "Suriname",
          "Uruguay",
          "Venezuela"
         ],
         "marker": {
          "color": "#FFA15A",
          "size": [
           0.845,
           0.718,
           0.765,
           0.851,
           0.767,
           0.759,
           0.682,
           0.728,
           0.777,
           0.738,
           0.817,
           0.711
          ],
          "sizemode": "area",
          "sizeref": 0.00957,
          "symbol": "circle"
         },
         "mode": "markers",
         "name": "South America",
         "showlegend": true,
         "type": "scattergeo"
        },
        {
         "geo": "geo",
         "hovertemplate": "continent=Oceania<br>HDI=%{marker.size}<br>country=%{location}<extra></extra>",
         "legendgroup": "Oceania",
         "locationmode": "country names",
         "locations": [
          "Australia",
          "Fiji",
          "New Zealand"
         ],
         "marker": {
          "color": "#19d3f3",
          "size": [
           0.944,
           0.743,
           0.931
          ],
          "sizemode": "area",
          "sizeref": 0.00957,
          "symbol": "circle"
         },
         "mode": "markers",
         "name": "Oceania",
         "showlegend": true,
         "type": "scattergeo"
        }
       ],
       "layout": {
        "geo": {
         "center": {},
         "domain": {
          "x": [
           0,
           1
          ],
          "y": [
           0,
           1
          ]
         }
        },
        "legend": {
         "itemsizing": "constant",
         "title": {
          "text": "continent"
         },
         "tracegroupgap": 0
        },
        "template": {
         "data": {
          "bar": [
           {
            "error_x": {
             "color": "#2a3f5f"
            },
            "error_y": {
             "color": "#2a3f5f"
            },
            "marker": {
             "line": {
              "color": "#E5ECF6",
              "width": 0.5
             }
            },
            "type": "bar"
           }
          ],
          "barpolar": [
           {
            "marker": {
             "line": {
              "color": "#E5ECF6",
              "width": 0.5
             }
            },
            "type": "barpolar"
           }
          ],
          "carpet": [
           {
            "aaxis": {
             "endlinecolor": "#2a3f5f",
             "gridcolor": "white",
             "linecolor": "white",
             "minorgridcolor": "white",
             "startlinecolor": "#2a3f5f"
            },
            "baxis": {
             "endlinecolor": "#2a3f5f",
             "gridcolor": "white",
             "linecolor": "white",
             "minorgridcolor": "white",
             "startlinecolor": "#2a3f5f"
            },
            "type": "carpet"
           }
          ],
          "choropleth": [
           {
            "colorbar": {
             "outlinewidth": 0,
             "ticks": ""
            },
            "type": "choropleth"
           }
          ],
          "contour": [
           {
            "colorbar": {
             "outlinewidth": 0,
             "ticks": ""
            },
            "colorscale": [
             [
              0,
              "#0d0887"
             ],
             [
              0.1111111111111111,
              "#46039f"
             ],
             [
              0.2222222222222222,
              "#7201a8"
             ],
             [
              0.3333333333333333,
              "#9c179e"
             ],
             [
              0.4444444444444444,
              "#bd3786"
             ],
             [
              0.5555555555555556,
              "#d8576b"
             ],
             [
              0.6666666666666666,
              "#ed7953"
             ],
             [
              0.7777777777777778,
              "#fb9f3a"
             ],
             [
              0.8888888888888888,
              "#fdca26"
             ],
             [
              1,
              "#f0f921"
             ]
            ],
            "type": "contour"
           }
          ],
          "contourcarpet": [
           {
            "colorbar": {
             "outlinewidth": 0,
             "ticks": ""
            },
            "type": "contourcarpet"
           }
          ],
          "heatmap": [
           {
            "colorbar": {
             "outlinewidth": 0,
             "ticks": ""
            },
            "colorscale": [
             [
              0,
              "#0d0887"
             ],
             [
              0.1111111111111111,
              "#46039f"
             ],
             [
              0.2222222222222222,
              "#7201a8"
             ],
             [
              0.3333333333333333,
              "#9c179e"
             ],
             [
              0.4444444444444444,
              "#bd3786"
             ],
             [
              0.5555555555555556,
              "#d8576b"
             ],
             [
              0.6666666666666666,
              "#ed7953"
             ],
             [
              0.7777777777777778,
              "#fb9f3a"
             ],
             [
              0.8888888888888888,
              "#fdca26"
             ],
             [
              1,
              "#f0f921"
             ]
            ],
            "type": "heatmap"
           }
          ],
          "heatmapgl": [
           {
            "colorbar": {
             "outlinewidth": 0,
             "ticks": ""
            },
            "colorscale": [
             [
              0,
              "#0d0887"
             ],
             [
              0.1111111111111111,
              "#46039f"
             ],
             [
              0.2222222222222222,
              "#7201a8"
             ],
             [
              0.3333333333333333,
              "#9c179e"
             ],
             [
              0.4444444444444444,
              "#bd3786"
             ],
             [
              0.5555555555555556,
              "#d8576b"
             ],
             [
              0.6666666666666666,
              "#ed7953"
             ],
             [
              0.7777777777777778,
              "#fb9f3a"
             ],
             [
              0.8888888888888888,
              "#fdca26"
             ],
             [
              1,
              "#f0f921"
             ]
            ],
            "type": "heatmapgl"
           }
          ],
          "histogram": [
           {
            "marker": {
             "colorbar": {
              "outlinewidth": 0,
              "ticks": ""
             }
            },
            "type": "histogram"
           }
          ],
          "histogram2d": [
           {
            "colorbar": {
             "outlinewidth": 0,
             "ticks": ""
            },
            "colorscale": [
             [
              0,
              "#0d0887"
             ],
             [
              0.1111111111111111,
              "#46039f"
             ],
             [
              0.2222222222222222,
              "#7201a8"
             ],
             [
              0.3333333333333333,
              "#9c179e"
             ],
             [
              0.4444444444444444,
              "#bd3786"
             ],
             [
              0.5555555555555556,
              "#d8576b"
             ],
             [
              0.6666666666666666,
              "#ed7953"
             ],
             [
              0.7777777777777778,
              "#fb9f3a"
             ],
             [
              0.8888888888888888,
              "#fdca26"
             ],
             [
              1,
              "#f0f921"
             ]
            ],
            "type": "histogram2d"
           }
          ],
          "histogram2dcontour": [
           {
            "colorbar": {
             "outlinewidth": 0,
             "ticks": ""
            },
            "colorscale": [
             [
              0,
              "#0d0887"
             ],
             [
              0.1111111111111111,
              "#46039f"
             ],
             [
              0.2222222222222222,
              "#7201a8"
             ],
             [
              0.3333333333333333,
              "#9c179e"
             ],
             [
              0.4444444444444444,
              "#bd3786"
             ],
             [
              0.5555555555555556,
              "#d8576b"
             ],
             [
              0.6666666666666666,
              "#ed7953"
             ],
             [
              0.7777777777777778,
              "#fb9f3a"
             ],
             [
              0.8888888888888888,
              "#fdca26"
             ],
             [
              1,
              "#f0f921"
             ]
            ],
            "type": "histogram2dcontour"
           }
          ],
          "mesh3d": [
           {
            "colorbar": {
             "outlinewidth": 0,
             "ticks": ""
            },
            "type": "mesh3d"
           }
          ],
          "parcoords": [
           {
            "line": {
             "colorbar": {
              "outlinewidth": 0,
              "ticks": ""
             }
            },
            "type": "parcoords"
           }
          ],
          "pie": [
           {
            "automargin": true,
            "type": "pie"
           }
          ],
          "scatter": [
           {
            "marker": {
             "colorbar": {
              "outlinewidth": 0,
              "ticks": ""
             }
            },
            "type": "scatter"
           }
          ],
          "scatter3d": [
           {
            "line": {
             "colorbar": {
              "outlinewidth": 0,
              "ticks": ""
             }
            },
            "marker": {
             "colorbar": {
              "outlinewidth": 0,
              "ticks": ""
             }
            },
            "type": "scatter3d"
           }
          ],
          "scattercarpet": [
           {
            "marker": {
             "colorbar": {
              "outlinewidth": 0,
              "ticks": ""
             }
            },
            "type": "scattercarpet"
           }
          ],
          "scattergeo": [
           {
            "marker": {
             "colorbar": {
              "outlinewidth": 0,
              "ticks": ""
             }
            },
            "type": "scattergeo"
           }
          ],
          "scattergl": [
           {
            "marker": {
             "colorbar": {
              "outlinewidth": 0,
              "ticks": ""
             }
            },
            "type": "scattergl"
           }
          ],
          "scattermapbox": [
           {
            "marker": {
             "colorbar": {
              "outlinewidth": 0,
              "ticks": ""
             }
            },
            "type": "scattermapbox"
           }
          ],
          "scatterpolar": [
           {
            "marker": {
             "colorbar": {
              "outlinewidth": 0,
              "ticks": ""
             }
            },
            "type": "scatterpolar"
           }
          ],
          "scatterpolargl": [
           {
            "marker": {
             "colorbar": {
              "outlinewidth": 0,
              "ticks": ""
             }
            },
            "type": "scatterpolargl"
           }
          ],
          "scatterternary": [
           {
            "marker": {
             "colorbar": {
              "outlinewidth": 0,
              "ticks": ""
             }
            },
            "type": "scatterternary"
           }
          ],
          "surface": [
           {
            "colorbar": {
             "outlinewidth": 0,
             "ticks": ""
            },
            "colorscale": [
             [
              0,
              "#0d0887"
             ],
             [
              0.1111111111111111,
              "#46039f"
             ],
             [
              0.2222222222222222,
              "#7201a8"
             ],
             [
              0.3333333333333333,
              "#9c179e"
             ],
             [
              0.4444444444444444,
              "#bd3786"
             ],
             [
              0.5555555555555556,
              "#d8576b"
             ],
             [
              0.6666666666666666,
              "#ed7953"
             ],
             [
              0.7777777777777778,
              "#fb9f3a"
             ],
             [
              0.8888888888888888,
              "#fdca26"
             ],
             [
              1,
              "#f0f921"
             ]
            ],
            "type": "surface"
           }
          ],
          "table": [
           {
            "cells": {
             "fill": {
              "color": "#EBF0F8"
             },
             "line": {
              "color": "white"
             }
            },
            "header": {
             "fill": {
              "color": "#C8D4E3"
             },
             "line": {
              "color": "white"
             }
            },
            "type": "table"
           }
          ]
         },
         "layout": {
          "annotationdefaults": {
           "arrowcolor": "#2a3f5f",
           "arrowhead": 0,
           "arrowwidth": 1
          },
          "autotypenumbers": "strict",
          "coloraxis": {
           "colorbar": {
            "outlinewidth": 0,
            "ticks": ""
           }
          },
          "colorscale": {
           "diverging": [
            [
             0,
             "#8e0152"
            ],
            [
             0.1,
             "#c51b7d"
            ],
            [
             0.2,
             "#de77ae"
            ],
            [
             0.3,
             "#f1b6da"
            ],
            [
             0.4,
             "#fde0ef"
            ],
            [
             0.5,
             "#f7f7f7"
            ],
            [
             0.6,
             "#e6f5d0"
            ],
            [
             0.7,
             "#b8e186"
            ],
            [
             0.8,
             "#7fbc41"
            ],
            [
             0.9,
             "#4d9221"
            ],
            [
             1,
             "#276419"
            ]
           ],
           "sequential": [
            [
             0,
             "#0d0887"
            ],
            [
             0.1111111111111111,
             "#46039f"
            ],
            [
             0.2222222222222222,
             "#7201a8"
            ],
            [
             0.3333333333333333,
             "#9c179e"
            ],
            [
             0.4444444444444444,
             "#bd3786"
            ],
            [
             0.5555555555555556,
             "#d8576b"
            ],
            [
             0.6666666666666666,
             "#ed7953"
            ],
            [
             0.7777777777777778,
             "#fb9f3a"
            ],
            [
             0.8888888888888888,
             "#fdca26"
            ],
            [
             1,
             "#f0f921"
            ]
           ],
           "sequentialminus": [
            [
             0,
             "#0d0887"
            ],
            [
             0.1111111111111111,
             "#46039f"
            ],
            [
             0.2222222222222222,
             "#7201a8"
            ],
            [
             0.3333333333333333,
             "#9c179e"
            ],
            [
             0.4444444444444444,
             "#bd3786"
            ],
            [
             0.5555555555555556,
             "#d8576b"
            ],
            [
             0.6666666666666666,
             "#ed7953"
            ],
            [
             0.7777777777777778,
             "#fb9f3a"
            ],
            [
             0.8888888888888888,
             "#fdca26"
            ],
            [
             1,
             "#f0f921"
            ]
           ]
          },
          "colorway": [
           "#636efa",
           "#EF553B",
           "#00cc96",
           "#ab63fa",
           "#FFA15A",
           "#19d3f3",
           "#FF6692",
           "#B6E880",
           "#FF97FF",
           "#FECB52"
          ],
          "font": {
           "color": "#2a3f5f"
          },
          "geo": {
           "bgcolor": "white",
           "lakecolor": "white",
           "landcolor": "#E5ECF6",
           "showlakes": true,
           "showland": true,
           "subunitcolor": "white"
          },
          "hoverlabel": {
           "align": "left"
          },
          "hovermode": "closest",
          "mapbox": {
           "style": "light"
          },
          "paper_bgcolor": "white",
          "plot_bgcolor": "#E5ECF6",
          "polar": {
           "angularaxis": {
            "gridcolor": "white",
            "linecolor": "white",
            "ticks": ""
           },
           "bgcolor": "#E5ECF6",
           "radialaxis": {
            "gridcolor": "white",
            "linecolor": "white",
            "ticks": ""
           }
          },
          "scene": {
           "xaxis": {
            "backgroundcolor": "#E5ECF6",
            "gridcolor": "white",
            "gridwidth": 2,
            "linecolor": "white",
            "showbackground": true,
            "ticks": "",
            "zerolinecolor": "white"
           },
           "yaxis": {
            "backgroundcolor": "#E5ECF6",
            "gridcolor": "white",
            "gridwidth": 2,
            "linecolor": "white",
            "showbackground": true,
            "ticks": "",
            "zerolinecolor": "white"
           },
           "zaxis": {
            "backgroundcolor": "#E5ECF6",
            "gridcolor": "white",
            "gridwidth": 2,
            "linecolor": "white",
            "showbackground": true,
            "ticks": "",
            "zerolinecolor": "white"
           }
          },
          "shapedefaults": {
           "line": {
            "color": "#2a3f5f"
           }
          },
          "ternary": {
           "aaxis": {
            "gridcolor": "white",
            "linecolor": "white",
            "ticks": ""
           },
           "baxis": {
            "gridcolor": "white",
            "linecolor": "white",
            "ticks": ""
           },
           "bgcolor": "#E5ECF6",
           "caxis": {
            "gridcolor": "white",
            "linecolor": "white",
            "ticks": ""
           }
          },
          "title": {
           "x": 0.05
          },
          "xaxis": {
           "automargin": true,
           "gridcolor": "white",
           "linecolor": "white",
           "ticks": "",
           "title": {
            "standoff": 15
           },
           "zerolinecolor": "white",
           "zerolinewidth": 2
          },
          "yaxis": {
           "automargin": true,
           "gridcolor": "white",
           "linecolor": "white",
           "ticks": "",
           "title": {
            "standoff": 15
           },
           "zerolinecolor": "white",
           "zerolinewidth": 2
          }
         }
        },
        "title": {
         "text": "Map of HDI"
        }
       }
      }
     },
     "metadata": {}
    }
   ],
   "source": [
    "fig = px.scatter_geo(covid_groupby, locations=\"country\", locationmode=\"country names\", color=\"continent\", \n",
    "size=\"HDI\", # size of markers, \"pop\" is one of the columns of gapminder\n",
    "title=\"Map of HDI\", size_max=10)\n",
    "fig.show()\n"
   ]
  },
  {
   "cell_type": "code",
   "execution_count": 75,
   "metadata": {},
   "outputs": [
    {
     "output_type": "display_data",
     "data": {
      "application/vnd.plotly.v1+json": {
       "config": {
        "plotlyServerURL": "https://plot.ly"
       },
       "data": [
        {
         "geo": "geo",
         "hovertemplate": "continent=Asia<br>total_cases=%{marker.size}<br>country=%{location}<extra></extra>",
         "legendgroup": "Asia",
         "locationmode": "country names",
         "locations": [
          "Afghanistan",
          "Armenia",
          "Azerbaijan",
          "Bahrain",
          "Bangladesh",
          "Bhutan",
          "Brunei",
          "Cambodia",
          "China",
          "Georgia",
          "India",
          "Indonesia",
          "Iran",
          "Iraq",
          "Israel",
          "Japan",
          "Jordan",
          "Kazakhstan",
          "Kuwait",
          "Kyrgyzstan",
          "Laos",
          "Lebanon",
          "Malaysia",
          "Mongolia",
          "Myanmar",
          "Nepal",
          "Oman",
          "Pakistan",
          "Philippines",
          "Qatar",
          "Saudi Arabia",
          "Singapore",
          "South Korea",
          "Sri Lanka",
          "Tajikistan",
          "Thailand",
          "Timor",
          "Turkey",
          "United Arab Emirates",
          "Uzbekistan",
          "Vietnam",
          "Yemen"
         ],
         "marker": {
          "color": "#636efa",
          "size": [
           63819,
           221139,
           330701,
           204524,
           782129,
           1309,
           232,
           22889,
           102784,
           332441,
           25496330,
           1748230,
           2779415,
           1146948,
           839167,
           694077,
           726432,
           418201,
           293574,
           100966,
           1687,
           536554,
           479421,
           50099,
           143131,
           472354,
           207109,
           886184,
           1154388,
           213855,
           435027,
           61651,
           133471,
           147720,
           13308,
           113555,
           4765,
           5139485,
           548681,
           97068,
           4512,
           6586
          ],
          "sizemode": "area",
          "sizeref": 82493.3275,
          "symbol": "circle"
         },
         "mode": "markers",
         "name": "Asia",
         "showlegend": true,
         "type": "scattergeo"
        },
        {
         "geo": "geo",
         "hovertemplate": "continent=Europe<br>total_cases=%{marker.size}<br>country=%{location}<extra></extra>",
         "legendgroup": "Europe",
         "locationmode": "country names",
         "locations": [
          "Albania",
          "Austria",
          "Belarus",
          "Belgium",
          "Bosnia and Herzegovina",
          "Bulgaria",
          "Croatia",
          "Cyprus",
          "Czechia",
          "Denmark",
          "Estonia",
          "Finland",
          "France",
          "Germany",
          "Greece",
          "Hungary",
          "Iceland",
          "Ireland",
          "Italy",
          "Latvia",
          "Lithuania",
          "Luxembourg",
          "Malta",
          "Moldova",
          "Montenegro",
          "Netherlands",
          "North Macedonia",
          "Norway",
          "Poland",
          "Portugal",
          "Romania",
          "Russia",
          "Slovakia",
          "Slovenia",
          "Spain",
          "Sweden",
          "Switzerland",
          "Ukraine",
          "United Kingdom"
         ],
         "marker": {
          "color": "#EF553B",
          "size": [
           132071,
           638155,
           378711,
           1034714,
           202675,
           415326,
           350997,
           71398,
           1654219,
           268956,
           127500,
           90398,
           5959593,
           3615896,
           381266,
           798955,
           6549,
           254870,
           4167025,
           128688,
           266795,
           69239,
           30486,
           254075,
           98971,
           1633356,
           154804,
           119814,
           2856924,
           842767,
           1072972,
           4900995,
           387892,
           249921,
           3619848,
           1047143,
           683400,
           2216856,
           4468582
          ],
          "sizemode": "area",
          "sizeref": 82493.3275,
          "symbol": "circle"
         },
         "mode": "markers",
         "name": "Europe",
         "showlegend": true,
         "type": "scattergeo"
        },
        {
         "geo": "geo",
         "hovertemplate": "continent=Africa<br>total_cases=%{marker.size}<br>country=%{location}<extra></extra>",
         "legendgroup": "Africa",
         "locationmode": "country names",
         "locations": [
          "Algeria",
          "Benin",
          "Botswana",
          "Burkina Faso",
          "Burundi",
          "Cameroon",
          "Cape Verde",
          "Central African Republic",
          "Comoros",
          "Djibouti",
          "Egypt",
          "Equatorial Guinea",
          "Eritrea",
          "Eswatini",
          "Ethiopia",
          "Gabon",
          "Gambia",
          "Ghana",
          "Guinea",
          "Kenya",
          "Liberia",
          "Libya",
          "Madagascar",
          "Malawi",
          "Mali",
          "Mauritius",
          "Morocco",
          "Mozambique",
          "Niger",
          "Sao Tome and Principe",
          "Seychelles",
          "South Africa",
          "Sudan",
          "Tanzania",
          "Togo",
          "Tunisia",
          "Uganda",
          "Zambia",
          "Zimbabwe"
         ],
         "marker": {
          "color": "#00cc96",
          "size": [
           125693,
           8025,
           50800,
           13404,
           4353,
           77429,
           28410,
           7010,
           3864,
           11455,
           248078,
           7694,
           3879,
           18525,
           267100,
           23909,
           5957,
           93390,
           22853,
           166006,
           2131,
           182012,
           40326,
           34231,
           14207,
           1288,
           515420,
           70485,
           5348,
           2332,
           9764,
           1617840,
           34889,
           509,
           13286,
           328528,
           42930,
           92520,
           38595
          ],
          "sizemode": "area",
          "sizeref": 82493.3275,
          "symbol": "circle"
         },
         "mode": "markers",
         "name": "Africa",
         "showlegend": true,
         "type": "scattergeo"
        },
        {
         "geo": "geo",
         "hovertemplate": "continent=North America<br>total_cases=%{marker.size}<br>country=%{location}<extra></extra>",
         "legendgroup": "North America",
         "locationmode": "country names",
         "locations": [
          "Antigua and Barbuda",
          "Bahamas",
          "Barbados",
          "Belize",
          "Canada",
          "Costa Rica",
          "Dominican Republic",
          "El Salvador",
          "Grenada",
          "Guatemala",
          "Haiti",
          "Honduras",
          "Jamaica",
          "Mexico",
          "Nicaragua",
          "Panama",
          "Saint Lucia",
          "Saint Vincent and the Grenadines",
          "Trinidad and Tobago",
          "United States"
         ],
         "marker": {
          "color": "#ab63fa",
          "size": [
           1251,
           11278,
           3972,
           12745,
           1346083,
           290920,
           278549,
           71479,
           161,
           242784,
           13520,
           228287,
           47479,
           2385512,
           7193,
           371684,
           4871,
           1940,
           17150,
           32997331
          ],
          "sizemode": "area",
          "sizeref": 82493.3275,
          "symbol": "circle"
         },
         "mode": "markers",
         "name": "North America",
         "showlegend": true,
         "type": "scattergeo"
        },
        {
         "geo": "geo",
         "hovertemplate": "continent=South America<br>total_cases=%{marker.size}<br>country=%{location}<extra></extra>",
         "legendgroup": "South America",
         "locationmode": "country names",
         "locations": [
          "Argentina",
          "Bolivia",
          "Brazil",
          "Chile",
          "Colombia",
          "Ecuador",
          "Guyana",
          "Paraguay",
          "Peru",
          "Suriname",
          "Uruguay",
          "Venezuela"
         ],
         "marker": {
          "color": "#FFA15A",
          "size": [
           3371508,
           334824,
           15732836,
           1295862,
           3144547,
           411466,
           15454,
           318251,
           1893334,
           12251,
           246026,
           217603
          ],
          "sizemode": "area",
          "sizeref": 82493.3275,
          "symbol": "circle"
         },
         "mode": "markers",
         "name": "South America",
         "showlegend": true,
         "type": "scattergeo"
        },
        {
         "geo": "geo",
         "hovertemplate": "continent=Oceania<br>total_cases=%{marker.size}<br>country=%{location}<extra></extra>",
         "legendgroup": "Oceania",
         "locationmode": "country names",
         "locations": [
          "Australia",
          "Fiji",
          "New Zealand"
         ],
         "marker": {
          "color": "#19d3f3",
          "size": [
           29992,
           178,
           2658
          ],
          "sizemode": "area",
          "sizeref": 82493.3275,
          "symbol": "circle"
         },
         "mode": "markers",
         "name": "Oceania",
         "showlegend": true,
         "type": "scattergeo"
        }
       ],
       "layout": {
        "geo": {
         "center": {},
         "domain": {
          "x": [
           0,
           1
          ],
          "y": [
           0,
           1
          ]
         }
        },
        "legend": {
         "itemsizing": "constant",
         "title": {
          "text": "continent"
         },
         "tracegroupgap": 0
        },
        "template": {
         "data": {
          "bar": [
           {
            "error_x": {
             "color": "#2a3f5f"
            },
            "error_y": {
             "color": "#2a3f5f"
            },
            "marker": {
             "line": {
              "color": "#E5ECF6",
              "width": 0.5
             }
            },
            "type": "bar"
           }
          ],
          "barpolar": [
           {
            "marker": {
             "line": {
              "color": "#E5ECF6",
              "width": 0.5
             }
            },
            "type": "barpolar"
           }
          ],
          "carpet": [
           {
            "aaxis": {
             "endlinecolor": "#2a3f5f",
             "gridcolor": "white",
             "linecolor": "white",
             "minorgridcolor": "white",
             "startlinecolor": "#2a3f5f"
            },
            "baxis": {
             "endlinecolor": "#2a3f5f",
             "gridcolor": "white",
             "linecolor": "white",
             "minorgridcolor": "white",
             "startlinecolor": "#2a3f5f"
            },
            "type": "carpet"
           }
          ],
          "choropleth": [
           {
            "colorbar": {
             "outlinewidth": 0,
             "ticks": ""
            },
            "type": "choropleth"
           }
          ],
          "contour": [
           {
            "colorbar": {
             "outlinewidth": 0,
             "ticks": ""
            },
            "colorscale": [
             [
              0,
              "#0d0887"
             ],
             [
              0.1111111111111111,
              "#46039f"
             ],
             [
              0.2222222222222222,
              "#7201a8"
             ],
             [
              0.3333333333333333,
              "#9c179e"
             ],
             [
              0.4444444444444444,
              "#bd3786"
             ],
             [
              0.5555555555555556,
              "#d8576b"
             ],
             [
              0.6666666666666666,
              "#ed7953"
             ],
             [
              0.7777777777777778,
              "#fb9f3a"
             ],
             [
              0.8888888888888888,
              "#fdca26"
             ],
             [
              1,
              "#f0f921"
             ]
            ],
            "type": "contour"
           }
          ],
          "contourcarpet": [
           {
            "colorbar": {
             "outlinewidth": 0,
             "ticks": ""
            },
            "type": "contourcarpet"
           }
          ],
          "heatmap": [
           {
            "colorbar": {
             "outlinewidth": 0,
             "ticks": ""
            },
            "colorscale": [
             [
              0,
              "#0d0887"
             ],
             [
              0.1111111111111111,
              "#46039f"
             ],
             [
              0.2222222222222222,
              "#7201a8"
             ],
             [
              0.3333333333333333,
              "#9c179e"
             ],
             [
              0.4444444444444444,
              "#bd3786"
             ],
             [
              0.5555555555555556,
              "#d8576b"
             ],
             [
              0.6666666666666666,
              "#ed7953"
             ],
             [
              0.7777777777777778,
              "#fb9f3a"
             ],
             [
              0.8888888888888888,
              "#fdca26"
             ],
             [
              1,
              "#f0f921"
             ]
            ],
            "type": "heatmap"
           }
          ],
          "heatmapgl": [
           {
            "colorbar": {
             "outlinewidth": 0,
             "ticks": ""
            },
            "colorscale": [
             [
              0,
              "#0d0887"
             ],
             [
              0.1111111111111111,
              "#46039f"
             ],
             [
              0.2222222222222222,
              "#7201a8"
             ],
             [
              0.3333333333333333,
              "#9c179e"
             ],
             [
              0.4444444444444444,
              "#bd3786"
             ],
             [
              0.5555555555555556,
              "#d8576b"
             ],
             [
              0.6666666666666666,
              "#ed7953"
             ],
             [
              0.7777777777777778,
              "#fb9f3a"
             ],
             [
              0.8888888888888888,
              "#fdca26"
             ],
             [
              1,
              "#f0f921"
             ]
            ],
            "type": "heatmapgl"
           }
          ],
          "histogram": [
           {
            "marker": {
             "colorbar": {
              "outlinewidth": 0,
              "ticks": ""
             }
            },
            "type": "histogram"
           }
          ],
          "histogram2d": [
           {
            "colorbar": {
             "outlinewidth": 0,
             "ticks": ""
            },
            "colorscale": [
             [
              0,
              "#0d0887"
             ],
             [
              0.1111111111111111,
              "#46039f"
             ],
             [
              0.2222222222222222,
              "#7201a8"
             ],
             [
              0.3333333333333333,
              "#9c179e"
             ],
             [
              0.4444444444444444,
              "#bd3786"
             ],
             [
              0.5555555555555556,
              "#d8576b"
             ],
             [
              0.6666666666666666,
              "#ed7953"
             ],
             [
              0.7777777777777778,
              "#fb9f3a"
             ],
             [
              0.8888888888888888,
              "#fdca26"
             ],
             [
              1,
              "#f0f921"
             ]
            ],
            "type": "histogram2d"
           }
          ],
          "histogram2dcontour": [
           {
            "colorbar": {
             "outlinewidth": 0,
             "ticks": ""
            },
            "colorscale": [
             [
              0,
              "#0d0887"
             ],
             [
              0.1111111111111111,
              "#46039f"
             ],
             [
              0.2222222222222222,
              "#7201a8"
             ],
             [
              0.3333333333333333,
              "#9c179e"
             ],
             [
              0.4444444444444444,
              "#bd3786"
             ],
             [
              0.5555555555555556,
              "#d8576b"
             ],
             [
              0.6666666666666666,
              "#ed7953"
             ],
             [
              0.7777777777777778,
              "#fb9f3a"
             ],
             [
              0.8888888888888888,
              "#fdca26"
             ],
             [
              1,
              "#f0f921"
             ]
            ],
            "type": "histogram2dcontour"
           }
          ],
          "mesh3d": [
           {
            "colorbar": {
             "outlinewidth": 0,
             "ticks": ""
            },
            "type": "mesh3d"
           }
          ],
          "parcoords": [
           {
            "line": {
             "colorbar": {
              "outlinewidth": 0,
              "ticks": ""
             }
            },
            "type": "parcoords"
           }
          ],
          "pie": [
           {
            "automargin": true,
            "type": "pie"
           }
          ],
          "scatter": [
           {
            "marker": {
             "colorbar": {
              "outlinewidth": 0,
              "ticks": ""
             }
            },
            "type": "scatter"
           }
          ],
          "scatter3d": [
           {
            "line": {
             "colorbar": {
              "outlinewidth": 0,
              "ticks": ""
             }
            },
            "marker": {
             "colorbar": {
              "outlinewidth": 0,
              "ticks": ""
             }
            },
            "type": "scatter3d"
           }
          ],
          "scattercarpet": [
           {
            "marker": {
             "colorbar": {
              "outlinewidth": 0,
              "ticks": ""
             }
            },
            "type": "scattercarpet"
           }
          ],
          "scattergeo": [
           {
            "marker": {
             "colorbar": {
              "outlinewidth": 0,
              "ticks": ""
             }
            },
            "type": "scattergeo"
           }
          ],
          "scattergl": [
           {
            "marker": {
             "colorbar": {
              "outlinewidth": 0,
              "ticks": ""
             }
            },
            "type": "scattergl"
           }
          ],
          "scattermapbox": [
           {
            "marker": {
             "colorbar": {
              "outlinewidth": 0,
              "ticks": ""
             }
            },
            "type": "scattermapbox"
           }
          ],
          "scatterpolar": [
           {
            "marker": {
             "colorbar": {
              "outlinewidth": 0,
              "ticks": ""
             }
            },
            "type": "scatterpolar"
           }
          ],
          "scatterpolargl": [
           {
            "marker": {
             "colorbar": {
              "outlinewidth": 0,
              "ticks": ""
             }
            },
            "type": "scatterpolargl"
           }
          ],
          "scatterternary": [
           {
            "marker": {
             "colorbar": {
              "outlinewidth": 0,
              "ticks": ""
             }
            },
            "type": "scatterternary"
           }
          ],
          "surface": [
           {
            "colorbar": {
             "outlinewidth": 0,
             "ticks": ""
            },
            "colorscale": [
             [
              0,
              "#0d0887"
             ],
             [
              0.1111111111111111,
              "#46039f"
             ],
             [
              0.2222222222222222,
              "#7201a8"
             ],
             [
              0.3333333333333333,
              "#9c179e"
             ],
             [
              0.4444444444444444,
              "#bd3786"
             ],
             [
              0.5555555555555556,
              "#d8576b"
             ],
             [
              0.6666666666666666,
              "#ed7953"
             ],
             [
              0.7777777777777778,
              "#fb9f3a"
             ],
             [
              0.8888888888888888,
              "#fdca26"
             ],
             [
              1,
              "#f0f921"
             ]
            ],
            "type": "surface"
           }
          ],
          "table": [
           {
            "cells": {
             "fill": {
              "color": "#EBF0F8"
             },
             "line": {
              "color": "white"
             }
            },
            "header": {
             "fill": {
              "color": "#C8D4E3"
             },
             "line": {
              "color": "white"
             }
            },
            "type": "table"
           }
          ]
         },
         "layout": {
          "annotationdefaults": {
           "arrowcolor": "#2a3f5f",
           "arrowhead": 0,
           "arrowwidth": 1
          },
          "autotypenumbers": "strict",
          "coloraxis": {
           "colorbar": {
            "outlinewidth": 0,
            "ticks": ""
           }
          },
          "colorscale": {
           "diverging": [
            [
             0,
             "#8e0152"
            ],
            [
             0.1,
             "#c51b7d"
            ],
            [
             0.2,
             "#de77ae"
            ],
            [
             0.3,
             "#f1b6da"
            ],
            [
             0.4,
             "#fde0ef"
            ],
            [
             0.5,
             "#f7f7f7"
            ],
            [
             0.6,
             "#e6f5d0"
            ],
            [
             0.7,
             "#b8e186"
            ],
            [
             0.8,
             "#7fbc41"
            ],
            [
             0.9,
             "#4d9221"
            ],
            [
             1,
             "#276419"
            ]
           ],
           "sequential": [
            [
             0,
             "#0d0887"
            ],
            [
             0.1111111111111111,
             "#46039f"
            ],
            [
             0.2222222222222222,
             "#7201a8"
            ],
            [
             0.3333333333333333,
             "#9c179e"
            ],
            [
             0.4444444444444444,
             "#bd3786"
            ],
            [
             0.5555555555555556,
             "#d8576b"
            ],
            [
             0.6666666666666666,
             "#ed7953"
            ],
            [
             0.7777777777777778,
             "#fb9f3a"
            ],
            [
             0.8888888888888888,
             "#fdca26"
            ],
            [
             1,
             "#f0f921"
            ]
           ],
           "sequentialminus": [
            [
             0,
             "#0d0887"
            ],
            [
             0.1111111111111111,
             "#46039f"
            ],
            [
             0.2222222222222222,
             "#7201a8"
            ],
            [
             0.3333333333333333,
             "#9c179e"
            ],
            [
             0.4444444444444444,
             "#bd3786"
            ],
            [
             0.5555555555555556,
             "#d8576b"
            ],
            [
             0.6666666666666666,
             "#ed7953"
            ],
            [
             0.7777777777777778,
             "#fb9f3a"
            ],
            [
             0.8888888888888888,
             "#fdca26"
            ],
            [
             1,
             "#f0f921"
            ]
           ]
          },
          "colorway": [
           "#636efa",
           "#EF553B",
           "#00cc96",
           "#ab63fa",
           "#FFA15A",
           "#19d3f3",
           "#FF6692",
           "#B6E880",
           "#FF97FF",
           "#FECB52"
          ],
          "font": {
           "color": "#2a3f5f"
          },
          "geo": {
           "bgcolor": "white",
           "lakecolor": "white",
           "landcolor": "#E5ECF6",
           "showlakes": true,
           "showland": true,
           "subunitcolor": "white"
          },
          "hoverlabel": {
           "align": "left"
          },
          "hovermode": "closest",
          "mapbox": {
           "style": "light"
          },
          "paper_bgcolor": "white",
          "plot_bgcolor": "#E5ECF6",
          "polar": {
           "angularaxis": {
            "gridcolor": "white",
            "linecolor": "white",
            "ticks": ""
           },
           "bgcolor": "#E5ECF6",
           "radialaxis": {
            "gridcolor": "white",
            "linecolor": "white",
            "ticks": ""
           }
          },
          "scene": {
           "xaxis": {
            "backgroundcolor": "#E5ECF6",
            "gridcolor": "white",
            "gridwidth": 2,
            "linecolor": "white",
            "showbackground": true,
            "ticks": "",
            "zerolinecolor": "white"
           },
           "yaxis": {
            "backgroundcolor": "#E5ECF6",
            "gridcolor": "white",
            "gridwidth": 2,
            "linecolor": "white",
            "showbackground": true,
            "ticks": "",
            "zerolinecolor": "white"
           },
           "zaxis": {
            "backgroundcolor": "#E5ECF6",
            "gridcolor": "white",
            "gridwidth": 2,
            "linecolor": "white",
            "showbackground": true,
            "ticks": "",
            "zerolinecolor": "white"
           }
          },
          "shapedefaults": {
           "line": {
            "color": "#2a3f5f"
           }
          },
          "ternary": {
           "aaxis": {
            "gridcolor": "white",
            "linecolor": "white",
            "ticks": ""
           },
           "baxis": {
            "gridcolor": "white",
            "linecolor": "white",
            "ticks": ""
           },
           "bgcolor": "#E5ECF6",
           "caxis": {
            "gridcolor": "white",
            "linecolor": "white",
            "ticks": ""
           }
          },
          "title": {
           "x": 0.05
          },
          "xaxis": {
           "automargin": true,
           "gridcolor": "white",
           "linecolor": "white",
           "ticks": "",
           "title": {
            "standoff": 15
           },
           "zerolinecolor": "white",
           "zerolinewidth": 2
          },
          "yaxis": {
           "automargin": true,
           "gridcolor": "white",
           "linecolor": "white",
           "ticks": "",
           "title": {
            "standoff": 15
           },
           "zerolinecolor": "white",
           "zerolinewidth": 2
          }
         }
        },
        "title": {
         "text": "Map of total cases"
        }
       }
      }
     },
     "metadata": {}
    }
   ],
   "source": [
    "fig = px.scatter_geo(covid_groupby, locations=\"country\", locationmode=\"country names\", color=\"continent\", \n",
    "size=\"total_cases\", # size of markers, \"pop\" is one of the columns of gapminder\n",
    "title=\"Map of total cases\")\n",
    "fig.show()"
   ]
  },
  {
   "cell_type": "code",
   "execution_count": 29,
   "metadata": {},
   "outputs": [
    {
     "output_type": "display_data",
     "data": {
      "application/vnd.plotly.v1+json": {
       "config": {
        "plotlyServerURL": "https://plot.ly"
       },
       "data": [
        {
         "geo": "geo",
         "hovertemplate": "Poverty %=%{marker.size}<br>country=%{location}<br>deaths_ratio=%{marker.color}<extra></extra>",
         "legendgroup": "",
         "locationmode": "country names",
         "locations": [
          "Afghanistan",
          "Albania",
          "Algeria",
          "Antigua and Barbuda",
          "Argentina",
          "Armenia",
          "Australia",
          "Austria",
          "Azerbaijan",
          "Bahamas",
          "Bahrain",
          "Bangladesh",
          "Barbados",
          "Belarus",
          "Belgium",
          "Belize",
          "Benin",
          "Bhutan",
          "Bolivia",
          "Bosnia and Herzegovina",
          "Botswana",
          "Brazil",
          "Brunei",
          "Bulgaria",
          "Burkina Faso",
          "Burundi",
          "Cambodia",
          "Cameroon",
          "Canada",
          "Cape Verde",
          "Central African Republic",
          "Chile",
          "China",
          "Colombia",
          "Comoros",
          "Costa Rica",
          "Croatia",
          "Cyprus",
          "Czechia",
          "Denmark",
          "Djibouti",
          "Dominican Republic",
          "Ecuador",
          "Egypt",
          "El Salvador",
          "Equatorial Guinea",
          "Eritrea",
          "Estonia",
          "Eswatini",
          "Ethiopia",
          "Fiji",
          "Finland",
          "France",
          "Gabon",
          "Gambia",
          "Georgia",
          "Germany",
          "Ghana",
          "Greece",
          "Grenada",
          "Guatemala",
          "Guinea",
          "Guyana",
          "Haiti",
          "Honduras",
          "Hungary",
          "Iceland",
          "India",
          "Indonesia",
          "Iran",
          "Iraq",
          "Ireland",
          "Israel",
          "Italy",
          "Jamaica",
          "Japan",
          "Jordan",
          "Kazakhstan",
          "Kenya",
          "Kuwait",
          "Kyrgyzstan",
          "Laos",
          "Latvia",
          "Lebanon",
          "Liberia",
          "Libya",
          "Lithuania",
          "Luxembourg",
          "Madagascar",
          "Malawi",
          "Malaysia",
          "Mali",
          "Malta",
          "Mauritius",
          "Mexico",
          "Moldova",
          "Mongolia",
          "Montenegro",
          "Morocco",
          "Mozambique",
          "Myanmar",
          "Nepal",
          "Netherlands",
          "New Zealand",
          "Nicaragua",
          "Niger",
          "North Macedonia",
          "Norway",
          "Oman",
          "Pakistan",
          "Panama",
          "Paraguay",
          "Peru",
          "Philippines",
          "Poland",
          "Portugal",
          "Qatar",
          "Romania",
          "Russia",
          "Saint Lucia",
          "Saint Vincent and the Grenadines",
          "Sao Tome and Principe",
          "Saudi Arabia",
          "Seychelles",
          "Singapore",
          "Slovakia",
          "Slovenia",
          "South Africa",
          "South Korea",
          "Spain",
          "Sri Lanka",
          "Sudan",
          "Suriname",
          "Sweden",
          "Switzerland",
          "Tajikistan",
          "Tanzania",
          "Thailand",
          "Timor",
          "Togo",
          "Trinidad and Tobago",
          "Tunisia",
          "Turkey",
          "Uganda",
          "Ukraine",
          "United Arab Emirates",
          "United Kingdom",
          "United States",
          "Uruguay",
          "Uzbekistan",
          "Venezuela",
          "Vietnam",
          "Yemen",
          "Zambia",
          "Zimbabwe"
         ],
         "marker": {
          "color": [
           4.310628496215861,
           1.8444624482286045,
           2.695456389775087,
           3.357314148681055,
           2.128750695534461,
           1.9652797561714577,
           3.034142437983462,
           1.6452115865267842,
           1.4520669728848719,
           1.959567299166519,
           0.374039232559504,
           1.5612514048194095,
           1.1832829808660623,
           0.7184898246948201,
           2.391868670956419,
           2.5343271871322086,
           1.2585669781931466,
           0.07639419404125286,
           4.0516808830908175,
           4.475144936474652,
           1.5236220472440947,
           2.7906602471417106,
           1.293103448275862,
           4.184423802025397,
           1.2309758281110117,
           0.13783597518952445,
           0.6815500895626719,
           1.5356003564555916,
           1.8571663114384476,
           0.8870116156283,
           1.369472182596291,
           2.1580229993625863,
           4.714741594022416,
           2.616942917374108,
           3.7784679089026914,
           1.262546404509831,
           2.212269620538067,
           0.487408610885459,
           1.8094943897996578,
           0.9310073023096714,
           1.3182016586643388,
           1.2913347382327705,
           4.830775811367161,
           5.821153024451987,
           3.0708319926132153,
           1.4556797504549,
           0.3609177623098737,
           0.9639215686274509,
           3.6275303643724692,
           1.5054286783976039,
           2.247191011235955,
           1.032102480143366,
           1.8155770033289185,
           0.6064661842820696,
           2.937720329024677,
           1.3533228452567523,
           2.3969439386531026,
           0.8384195309990363,
           3.025184516846506,
           0.6211180124223602,
           3.2592757348095427,
           0.6694963462127511,
           2.23243173288469,
           2.026627218934911,
           2.636593410925721,
           3.6644116377017477,
           0.4428156970529852,
           1.110936358291566,
           2.7729188951110553,
           2.78950786406492,
           1.3975350233837978,
           1.938635382744144,
           0.7617077411290005,
           2.987671060288815,
           1.849238610754228,
           1.7005317853782793,
           1.2795416501475705,
           0.8137235444200277,
           1.8198137416719877,
           0.5794109832614605,
           1.701562902363172,
           0.11855364552459988,
           1.7717269675494216,
           1.424087789858989,
           3.988737681839512,
           1.7015361624508274,
           1.546505744110647,
           1.1669723710625515,
           1.9193572385061746,
           3.3682918991557362,
           0.4159183681983059,
           3.5968184697684236,
           1.3678409761857901,
           1.3198757763975155,
           9.253610964857858,
           2.378431565482633,
           0.453102856344438,
           1.5802608845015207,
           1.766520507547243,
           1.1747180251117257,
           2.2447967246787908,
           1.1455391507217045,
           1.0862298237493846,
           0.9781790820165538,
           2.5719449464757407,
           3.590127150336574,
           3.3797576290018347,
           0.6460013020181281,
           1.0714165004900802,
           2.2406182011862095,
           1.694988215796214,
           2.451524111471763,
           3.510791017327106,
           1.6781186221616995,
           2.5173928322909536,
           2.0184701109559344,
           0.25063711393233734,
           2.7644710206790113,
           2.3386883683823387,
           1.5807842332169986,
           0.6185567010309279,
           1.5008576329331047,
           1.6523112358543264,
           0.35845964768537486,
           0.050283044881672644,
           3.1575799449331257,
           1.7337478643251267,
           3.420610196311131,
           1.4325209221478823,
           2.1962800647983007,
           0.6871107500676956,
           7.010805698071025,
           1.942698555219982,
           1.3657160483334176,
           1.5733099209833186,
           0.6762849413886384,
           4.12573673870334,
           0.5715292149178812,
           0.2098635886673662,
           0.9408399819358723,
           1.8483965014577262,
           3.6438294452832025,
           0.8791931487298824,
           0.8129513160959702,
           2.2746177469352995,
           0.29835186565600047,
           2.8633915635877334,
           1.7795954466741568,
           1.454317836326242,
           0.6922981827172704,
           1.1157934403477894,
           0.8200354609929078,
           19.69328879441239,
           1.3651102464332037,
           4.10156756056484
          ],
          "coloraxis": "coloraxis",
          "size": [
           0,
           1.1,
           0.8,
           0,
           1.3,
           2.4,
           0.5,
           0.3,
           0,
           0,
           0,
           14.11,
           0,
           0,
           0.1,
           0,
           49.8,
           1.8,
           0,
           0.4,
           16.4,
           4.7,
           0,
           1.6,
           43.1,
           71.11,
           0,
           23.11,
           0.8,
           0,
           66.6,
           0.3,
           0.5,
           4.4,
           17.9,
           1.7,
           0.5,
           0,
           0,
           0.4,
           17.4,
           0.7,
           3.3,
           3.2,
           1.8,
           0,
           0,
           0.6,
           0,
           30.11,
           1.7,
           0.1,
           0,
           3.7,
           10.4,
           4.8,
           0.3,
           13.6,
           0.12,
           0,
           8.1,
           35.6,
           0,
           24.5,
           16.8,
           0.6,
           0,
           21.5,
           4.9,
           0,
           2.8,
           0.1,
           0.2,
           1.7,
           0,
           0.7,
           0.1,
           0,
           36.11,
           0,
           0.9,
           0,
           0.8,
           0,
           40.12,
           0,
           1.3,
           0.6,
           77.9,
           70.6,
           0,
           49.1,
           0.5,
           0.5,
           1.1,
           0,
           0.5,
           1.7,
           1,
           62.12,
           2.3,
           15.3,
           0.5,
           0,
           3.5,
           44.8,
           4.7,
           0.5,
           0,
           3.12,
           1.7,
           1.9,
           2.9,
           6.4,
           0.3,
           0.4,
           0,
           3.8,
           0.3,
           4.1,
           0,
           34.8,
           0,
           1.4,
           0,
           1.7,
           0.3,
           18.12,
           0,
           0.7,
           0.8,
           12.1,
           0,
           0.2,
           0,
           4.11,
           49.4,
           0.3,
           30.1,
           49.11,
           0,
           0.2,
           0.1,
           41.1,
           0,
           0,
           0.2,
           1.5,
           0.4,
           0,
           0,
           1.12,
           18.11,
           57.8,
           33.12
          ],
          "sizemode": "area",
          "sizeref": 0.19475,
          "symbol": "circle"
         },
         "mode": "markers",
         "name": "",
         "showlegend": false,
         "type": "scattergeo"
        }
       ],
       "layout": {
        "coloraxis": {
         "colorbar": {
          "title": {
           "text": "deaths_ratio"
          }
         },
         "colorscale": [
          [
           0,
           "#0d0887"
          ],
          [
           0.1111111111111111,
           "#46039f"
          ],
          [
           0.2222222222222222,
           "#7201a8"
          ],
          [
           0.3333333333333333,
           "#9c179e"
          ],
          [
           0.4444444444444444,
           "#bd3786"
          ],
          [
           0.5555555555555556,
           "#d8576b"
          ],
          [
           0.6666666666666666,
           "#ed7953"
          ],
          [
           0.7777777777777778,
           "#fb9f3a"
          ],
          [
           0.8888888888888888,
           "#fdca26"
          ],
          [
           1,
           "#f0f921"
          ]
         ]
        },
        "geo": {
         "center": {},
         "domain": {
          "x": [
           0,
           1
          ],
          "y": [
           0,
           1
          ]
         }
        },
        "legend": {
         "itemsizing": "constant",
         "tracegroupgap": 0
        },
        "template": {
         "data": {
          "bar": [
           {
            "error_x": {
             "color": "#2a3f5f"
            },
            "error_y": {
             "color": "#2a3f5f"
            },
            "marker": {
             "line": {
              "color": "#E5ECF6",
              "width": 0.5
             }
            },
            "type": "bar"
           }
          ],
          "barpolar": [
           {
            "marker": {
             "line": {
              "color": "#E5ECF6",
              "width": 0.5
             }
            },
            "type": "barpolar"
           }
          ],
          "carpet": [
           {
            "aaxis": {
             "endlinecolor": "#2a3f5f",
             "gridcolor": "white",
             "linecolor": "white",
             "minorgridcolor": "white",
             "startlinecolor": "#2a3f5f"
            },
            "baxis": {
             "endlinecolor": "#2a3f5f",
             "gridcolor": "white",
             "linecolor": "white",
             "minorgridcolor": "white",
             "startlinecolor": "#2a3f5f"
            },
            "type": "carpet"
           }
          ],
          "choropleth": [
           {
            "colorbar": {
             "outlinewidth": 0,
             "ticks": ""
            },
            "type": "choropleth"
           }
          ],
          "contour": [
           {
            "colorbar": {
             "outlinewidth": 0,
             "ticks": ""
            },
            "colorscale": [
             [
              0,
              "#0d0887"
             ],
             [
              0.1111111111111111,
              "#46039f"
             ],
             [
              0.2222222222222222,
              "#7201a8"
             ],
             [
              0.3333333333333333,
              "#9c179e"
             ],
             [
              0.4444444444444444,
              "#bd3786"
             ],
             [
              0.5555555555555556,
              "#d8576b"
             ],
             [
              0.6666666666666666,
              "#ed7953"
             ],
             [
              0.7777777777777778,
              "#fb9f3a"
             ],
             [
              0.8888888888888888,
              "#fdca26"
             ],
             [
              1,
              "#f0f921"
             ]
            ],
            "type": "contour"
           }
          ],
          "contourcarpet": [
           {
            "colorbar": {
             "outlinewidth": 0,
             "ticks": ""
            },
            "type": "contourcarpet"
           }
          ],
          "heatmap": [
           {
            "colorbar": {
             "outlinewidth": 0,
             "ticks": ""
            },
            "colorscale": [
             [
              0,
              "#0d0887"
             ],
             [
              0.1111111111111111,
              "#46039f"
             ],
             [
              0.2222222222222222,
              "#7201a8"
             ],
             [
              0.3333333333333333,
              "#9c179e"
             ],
             [
              0.4444444444444444,
              "#bd3786"
             ],
             [
              0.5555555555555556,
              "#d8576b"
             ],
             [
              0.6666666666666666,
              "#ed7953"
             ],
             [
              0.7777777777777778,
              "#fb9f3a"
             ],
             [
              0.8888888888888888,
              "#fdca26"
             ],
             [
              1,
              "#f0f921"
             ]
            ],
            "type": "heatmap"
           }
          ],
          "heatmapgl": [
           {
            "colorbar": {
             "outlinewidth": 0,
             "ticks": ""
            },
            "colorscale": [
             [
              0,
              "#0d0887"
             ],
             [
              0.1111111111111111,
              "#46039f"
             ],
             [
              0.2222222222222222,
              "#7201a8"
             ],
             [
              0.3333333333333333,
              "#9c179e"
             ],
             [
              0.4444444444444444,
              "#bd3786"
             ],
             [
              0.5555555555555556,
              "#d8576b"
             ],
             [
              0.6666666666666666,
              "#ed7953"
             ],
             [
              0.7777777777777778,
              "#fb9f3a"
             ],
             [
              0.8888888888888888,
              "#fdca26"
             ],
             [
              1,
              "#f0f921"
             ]
            ],
            "type": "heatmapgl"
           }
          ],
          "histogram": [
           {
            "marker": {
             "colorbar": {
              "outlinewidth": 0,
              "ticks": ""
             }
            },
            "type": "histogram"
           }
          ],
          "histogram2d": [
           {
            "colorbar": {
             "outlinewidth": 0,
             "ticks": ""
            },
            "colorscale": [
             [
              0,
              "#0d0887"
             ],
             [
              0.1111111111111111,
              "#46039f"
             ],
             [
              0.2222222222222222,
              "#7201a8"
             ],
             [
              0.3333333333333333,
              "#9c179e"
             ],
             [
              0.4444444444444444,
              "#bd3786"
             ],
             [
              0.5555555555555556,
              "#d8576b"
             ],
             [
              0.6666666666666666,
              "#ed7953"
             ],
             [
              0.7777777777777778,
              "#fb9f3a"
             ],
             [
              0.8888888888888888,
              "#fdca26"
             ],
             [
              1,
              "#f0f921"
             ]
            ],
            "type": "histogram2d"
           }
          ],
          "histogram2dcontour": [
           {
            "colorbar": {
             "outlinewidth": 0,
             "ticks": ""
            },
            "colorscale": [
             [
              0,
              "#0d0887"
             ],
             [
              0.1111111111111111,
              "#46039f"
             ],
             [
              0.2222222222222222,
              "#7201a8"
             ],
             [
              0.3333333333333333,
              "#9c179e"
             ],
             [
              0.4444444444444444,
              "#bd3786"
             ],
             [
              0.5555555555555556,
              "#d8576b"
             ],
             [
              0.6666666666666666,
              "#ed7953"
             ],
             [
              0.7777777777777778,
              "#fb9f3a"
             ],
             [
              0.8888888888888888,
              "#fdca26"
             ],
             [
              1,
              "#f0f921"
             ]
            ],
            "type": "histogram2dcontour"
           }
          ],
          "mesh3d": [
           {
            "colorbar": {
             "outlinewidth": 0,
             "ticks": ""
            },
            "type": "mesh3d"
           }
          ],
          "parcoords": [
           {
            "line": {
             "colorbar": {
              "outlinewidth": 0,
              "ticks": ""
             }
            },
            "type": "parcoords"
           }
          ],
          "pie": [
           {
            "automargin": true,
            "type": "pie"
           }
          ],
          "scatter": [
           {
            "marker": {
             "colorbar": {
              "outlinewidth": 0,
              "ticks": ""
             }
            },
            "type": "scatter"
           }
          ],
          "scatter3d": [
           {
            "line": {
             "colorbar": {
              "outlinewidth": 0,
              "ticks": ""
             }
            },
            "marker": {
             "colorbar": {
              "outlinewidth": 0,
              "ticks": ""
             }
            },
            "type": "scatter3d"
           }
          ],
          "scattercarpet": [
           {
            "marker": {
             "colorbar": {
              "outlinewidth": 0,
              "ticks": ""
             }
            },
            "type": "scattercarpet"
           }
          ],
          "scattergeo": [
           {
            "marker": {
             "colorbar": {
              "outlinewidth": 0,
              "ticks": ""
             }
            },
            "type": "scattergeo"
           }
          ],
          "scattergl": [
           {
            "marker": {
             "colorbar": {
              "outlinewidth": 0,
              "ticks": ""
             }
            },
            "type": "scattergl"
           }
          ],
          "scattermapbox": [
           {
            "marker": {
             "colorbar": {
              "outlinewidth": 0,
              "ticks": ""
             }
            },
            "type": "scattermapbox"
           }
          ],
          "scatterpolar": [
           {
            "marker": {
             "colorbar": {
              "outlinewidth": 0,
              "ticks": ""
             }
            },
            "type": "scatterpolar"
           }
          ],
          "scatterpolargl": [
           {
            "marker": {
             "colorbar": {
              "outlinewidth": 0,
              "ticks": ""
             }
            },
            "type": "scatterpolargl"
           }
          ],
          "scatterternary": [
           {
            "marker": {
             "colorbar": {
              "outlinewidth": 0,
              "ticks": ""
             }
            },
            "type": "scatterternary"
           }
          ],
          "surface": [
           {
            "colorbar": {
             "outlinewidth": 0,
             "ticks": ""
            },
            "colorscale": [
             [
              0,
              "#0d0887"
             ],
             [
              0.1111111111111111,
              "#46039f"
             ],
             [
              0.2222222222222222,
              "#7201a8"
             ],
             [
              0.3333333333333333,
              "#9c179e"
             ],
             [
              0.4444444444444444,
              "#bd3786"
             ],
             [
              0.5555555555555556,
              "#d8576b"
             ],
             [
              0.6666666666666666,
              "#ed7953"
             ],
             [
              0.7777777777777778,
              "#fb9f3a"
             ],
             [
              0.8888888888888888,
              "#fdca26"
             ],
             [
              1,
              "#f0f921"
             ]
            ],
            "type": "surface"
           }
          ],
          "table": [
           {
            "cells": {
             "fill": {
              "color": "#EBF0F8"
             },
             "line": {
              "color": "white"
             }
            },
            "header": {
             "fill": {
              "color": "#C8D4E3"
             },
             "line": {
              "color": "white"
             }
            },
            "type": "table"
           }
          ]
         },
         "layout": {
          "annotationdefaults": {
           "arrowcolor": "#2a3f5f",
           "arrowhead": 0,
           "arrowwidth": 1
          },
          "autotypenumbers": "strict",
          "coloraxis": {
           "colorbar": {
            "outlinewidth": 0,
            "ticks": ""
           }
          },
          "colorscale": {
           "diverging": [
            [
             0,
             "#8e0152"
            ],
            [
             0.1,
             "#c51b7d"
            ],
            [
             0.2,
             "#de77ae"
            ],
            [
             0.3,
             "#f1b6da"
            ],
            [
             0.4,
             "#fde0ef"
            ],
            [
             0.5,
             "#f7f7f7"
            ],
            [
             0.6,
             "#e6f5d0"
            ],
            [
             0.7,
             "#b8e186"
            ],
            [
             0.8,
             "#7fbc41"
            ],
            [
             0.9,
             "#4d9221"
            ],
            [
             1,
             "#276419"
            ]
           ],
           "sequential": [
            [
             0,
             "#0d0887"
            ],
            [
             0.1111111111111111,
             "#46039f"
            ],
            [
             0.2222222222222222,
             "#7201a8"
            ],
            [
             0.3333333333333333,
             "#9c179e"
            ],
            [
             0.4444444444444444,
             "#bd3786"
            ],
            [
             0.5555555555555556,
             "#d8576b"
            ],
            [
             0.6666666666666666,
             "#ed7953"
            ],
            [
             0.7777777777777778,
             "#fb9f3a"
            ],
            [
             0.8888888888888888,
             "#fdca26"
            ],
            [
             1,
             "#f0f921"
            ]
           ],
           "sequentialminus": [
            [
             0,
             "#0d0887"
            ],
            [
             0.1111111111111111,
             "#46039f"
            ],
            [
             0.2222222222222222,
             "#7201a8"
            ],
            [
             0.3333333333333333,
             "#9c179e"
            ],
            [
             0.4444444444444444,
             "#bd3786"
            ],
            [
             0.5555555555555556,
             "#d8576b"
            ],
            [
             0.6666666666666666,
             "#ed7953"
            ],
            [
             0.7777777777777778,
             "#fb9f3a"
            ],
            [
             0.8888888888888888,
             "#fdca26"
            ],
            [
             1,
             "#f0f921"
            ]
           ]
          },
          "colorway": [
           "#636efa",
           "#EF553B",
           "#00cc96",
           "#ab63fa",
           "#FFA15A",
           "#19d3f3",
           "#FF6692",
           "#B6E880",
           "#FF97FF",
           "#FECB52"
          ],
          "font": {
           "color": "#2a3f5f"
          },
          "geo": {
           "bgcolor": "white",
           "lakecolor": "white",
           "landcolor": "#E5ECF6",
           "showlakes": true,
           "showland": true,
           "subunitcolor": "white"
          },
          "hoverlabel": {
           "align": "left"
          },
          "hovermode": "closest",
          "mapbox": {
           "style": "light"
          },
          "paper_bgcolor": "white",
          "plot_bgcolor": "#E5ECF6",
          "polar": {
           "angularaxis": {
            "gridcolor": "white",
            "linecolor": "white",
            "ticks": ""
           },
           "bgcolor": "#E5ECF6",
           "radialaxis": {
            "gridcolor": "white",
            "linecolor": "white",
            "ticks": ""
           }
          },
          "scene": {
           "xaxis": {
            "backgroundcolor": "#E5ECF6",
            "gridcolor": "white",
            "gridwidth": 2,
            "linecolor": "white",
            "showbackground": true,
            "ticks": "",
            "zerolinecolor": "white"
           },
           "yaxis": {
            "backgroundcolor": "#E5ECF6",
            "gridcolor": "white",
            "gridwidth": 2,
            "linecolor": "white",
            "showbackground": true,
            "ticks": "",
            "zerolinecolor": "white"
           },
           "zaxis": {
            "backgroundcolor": "#E5ECF6",
            "gridcolor": "white",
            "gridwidth": 2,
            "linecolor": "white",
            "showbackground": true,
            "ticks": "",
            "zerolinecolor": "white"
           }
          },
          "shapedefaults": {
           "line": {
            "color": "#2a3f5f"
           }
          },
          "ternary": {
           "aaxis": {
            "gridcolor": "white",
            "linecolor": "white",
            "ticks": ""
           },
           "baxis": {
            "gridcolor": "white",
            "linecolor": "white",
            "ticks": ""
           },
           "bgcolor": "#E5ECF6",
           "caxis": {
            "gridcolor": "white",
            "linecolor": "white",
            "ticks": ""
           }
          },
          "title": {
           "x": 0.05
          },
          "xaxis": {
           "automargin": true,
           "gridcolor": "white",
           "linecolor": "white",
           "ticks": "",
           "title": {
            "standoff": 15
           },
           "zerolinecolor": "white",
           "zerolinewidth": 2
          },
          "yaxis": {
           "automargin": true,
           "gridcolor": "white",
           "linecolor": "white",
           "ticks": "",
           "title": {
            "standoff": 15
           },
           "zerolinecolor": "white",
           "zerolinewidth": 2
          }
         }
        },
        "title": {
         "text": "Map of Poverty %"
        }
       }
      }
     },
     "metadata": {}
    }
   ],
   "source": [
    "import plotly.express as px\n",
    "fig = px.scatter_geo(covid_groupby, locations=\"country\", locationmode=\"country names\", color=\"deaths_ratio\", \n",
    "size=\"Poverty %\", # size of markers, \"pop\" is one of the columns of gapminder\n",
    "title=\"Map of Poverty %\")\n",
    "fig.show()"
   ]
  },
  {
   "cell_type": "code",
   "execution_count": 59,
   "metadata": {},
   "outputs": [
    {
     "output_type": "display_data",
     "data": {
      "application/vnd.plotly.v1+json": {
       "config": {
        "plotlyServerURL": "https://plot.ly"
       },
       "data": [
        {
         "hovertemplate": "<b>%{hovertext}</b><br><br>continent=Asia<br>gdp_per_capita=%{x}<br>risky_age=%{y}<br>deaths_ratio=%{marker.size}<extra></extra>",
         "hovertext": [
          "Afghanistan",
          "Armenia",
          "Azerbaijan",
          "Bahrain",
          "Bangladesh",
          "Bhutan",
          "Brunei",
          "Cambodia",
          "China",
          "Georgia",
          "India",
          "Indonesia",
          "Iran",
          "Iraq",
          "Israel",
          "Japan",
          "Jordan",
          "Kazakhstan",
          "Kuwait",
          "Kyrgyzstan",
          "Laos",
          "Lebanon",
          "Malaysia",
          "Mongolia",
          "Myanmar",
          "Nepal",
          "Oman",
          "Pakistan",
          "Philippines",
          "Qatar",
          "Saudi Arabia",
          "Singapore",
          "South Korea",
          "Sri Lanka",
          "Tajikistan",
          "Thailand",
          "Timor",
          "Turkey",
          "United Arab Emirates",
          "Uzbekistan",
          "Vietnam",
          "Yemen"
         ],
         "legendgroup": "Asia",
         "marker": {
          "color": "#636efa",
          "size": [
           4.310628496215861,
           1.9652797561714577,
           1.4520669728848719,
           0.374039232559504,
           1.5612514048194095,
           0.07639419404125286,
           1.293103448275862,
           0.6815500895626719,
           4.714741594022416,
           1.3533228452567523,
           1.110936358291566,
           2.7729188951110553,
           2.78950786406492,
           1.3975350233837978,
           0.7617077411290005,
           1.7005317853782793,
           1.2795416501475705,
           0.8137235444200277,
           0.5794109832614605,
           1.701562902363172,
           0.11855364552459988,
           1.424087789858989,
           0.4159183681983059,
           0.453102856344438,
           2.2447967246787908,
           1.1455391507217045,
           1.0714165004900802,
           2.2406182011862095,
           1.6781186221616995,
           0.25063711393233734,
           1.6523112358543264,
           0.050283044881672644,
           1.4325209221478823,
           0.6871107500676956,
           0.6762849413886384,
           0.5715292149178812,
           0.2098635886673662,
           0.8791931487298824,
           0.29835186565600047,
           0.6922981827172704,
           0.8200354609929078,
           19.69328879441239
          ],
          "sizemode": "area",
          "sizeref": 0.012308305496507743,
          "symbol": "circle"
         },
         "mode": "markers",
         "name": "Asia",
         "orientation": "v",
         "showlegend": true,
         "type": "scatter",
         "x": [
          1803.987,
          8787.58,
          15847.419,
          43290.705,
          3523.984,
          8708.597,
          71809.251,
          3645.07,
          15308.712,
          9745.079,
          6426.674,
          11188.744,
          19082.62,
          15663.986,
          33132.32,
          39002.223,
          8337.49,
          24055.588,
          65530.537,
          3393.474,
          6397.36,
          13367.565,
          26808.164,
          11840.846,
          5591.597,
          2442.804,
          37960.709,
          5034.708,
          7599.188,
          116935.6,
          49045.411,
          85535.383,
          35938.374,
          11669.077,
          2896.913,
          16277.671,
          6570.102,
          25129.341,
          67293.483,
          6253.104,
          6171.884,
          1479.147
         ],
         "xaxis": "x",
         "y": [
          3.9180000000000064,
          18.802999999999997,
          9.888999999999996,
          3.7590000000000003,
          8.36,
          7.862000000000009,
          6.972999999999999,
          6.797000000000011,
          16.570000000000007,
          25.108000000000004,
          9.403000000000006,
          8.372,
          8.622,
          5.143000000000001,
          19.092,
          45.542,
          6.1710000000000065,
          11.616,
          3.459000000000003,
          7.371000000000009,
          6.350999999999999,
          13.943999999999988,
          9.700000000000003,
          6.452000000000012,
          8.852000000000004,
          9.021,
          3.885000000000005,
          7.275000000000006,
          7.463999999999999,
          1.9240000000000066,
          5.140000000000001,
          19.971000000000004,
          22.536,
          15.400000000000006,
          5.620999999999995,
          18.263000000000005,
          5.453000000000003,
          13.213999999999999,
          1.6700000000000017,
          7.341999999999999,
          11.86800000000001,
          4.5049999999999955
         ],
         "yaxis": "y"
        },
        {
         "hovertemplate": "<b>%{hovertext}</b><br><br>continent=Europe<br>gdp_per_capita=%{x}<br>risky_age=%{y}<br>deaths_ratio=%{marker.size}<extra></extra>",
         "hovertext": [
          "Albania",
          "Austria",
          "Belarus",
          "Belgium",
          "Bosnia and Herzegovina",
          "Bulgaria",
          "Croatia",
          "Cyprus",
          "Czechia",
          "Denmark",
          "Estonia",
          "Finland",
          "France",
          "Germany",
          "Greece",
          "Hungary",
          "Iceland",
          "Ireland",
          "Italy",
          "Latvia",
          "Lithuania",
          "Luxembourg",
          "Malta",
          "Moldova",
          "Montenegro",
          "Netherlands",
          "North Macedonia",
          "Norway",
          "Poland",
          "Portugal",
          "Romania",
          "Russia",
          "Slovakia",
          "Slovenia",
          "Spain",
          "Sweden",
          "Switzerland",
          "Ukraine",
          "United Kingdom"
         ],
         "legendgroup": "Europe",
         "marker": {
          "color": "#EF553B",
          "size": [
           1.8444624482286045,
           1.6452115865267842,
           0.7184898246948201,
           2.391868670956419,
           4.475144936474652,
           4.184423802025397,
           2.212269620538067,
           0.487408610885459,
           1.8094943897996578,
           0.9310073023096714,
           0.9639215686274509,
           1.032102480143366,
           1.8155770033289185,
           2.3969439386531026,
           3.025184516846506,
           3.6644116377017477,
           0.4428156970529852,
           1.938635382744144,
           2.987671060288815,
           1.7717269675494216,
           1.546505744110647,
           1.1669723710625515,
           1.3678409761857901,
           2.378431565482633,
           1.5802608845015207,
           1.0862298237493846,
           3.3797576290018347,
           0.6460013020181281,
           2.5173928322909536,
           2.0184701109559344,
           2.7644710206790113,
           2.3386883683823387,
           3.1575799449331257,
           1.7337478643251267,
           2.1962800647983007,
           1.3657160483334176,
           1.5733099209833186,
           2.2746177469352995,
           2.8633915635877334
          ],
          "sizemode": "area",
          "sizeref": 0.012308305496507743,
          "symbol": "circle"
         },
         "mode": "markers",
         "name": "Europe",
         "orientation": "v",
         "showlegend": true,
         "type": "scatter",
         "x": [
          11803.431,
          45436.686,
          17167.967,
          42658.576,
          11713.895,
          18563.307,
          22669.797,
          32415.132,
          32605.906,
          46682.515,
          29481.252,
          40585.721,
          38605.671,
          45229.245,
          24574.382,
          26777.561,
          46482.958,
          67335.293,
          35220.084,
          25063.846,
          29524.265,
          94277.965,
          36513.323,
          5189.972,
          16409.288,
          48472.545,
          13111.214,
          64800.057,
          27216.445,
          27936.896,
          23313.199,
          24765.954,
          30155.152,
          31400.84,
          34272.36,
          46949.283,
          57410.166,
          7894.393,
          39753.244
         ],
         "xaxis": "x",
         "y": [
          21.831000000000003,
          32.95,
          24.587000000000003,
          31.42,
          27.28,
          34.07300000000001,
          32.777,
          21.979,
          30.607,
          32.001999999999995,
          32.943,
          34.492000000000004,
          32.797,
          37.410000000000004,
          34.92,
          30.552999999999997,
          23.638000000000005,
          22.605999999999995,
          39.260999999999996,
          33.89,
          32.78,
          24.153999999999996,
          30.75,
          17.819000000000003,
          24.156999999999996,
          30.659999999999997,
          21.42,
          27.634,
          26.965000000000003,
          36.425999999999995,
          29.539999999999992,
          23.570999999999998,
          24.236999999999995,
          31.99199999999999,
          33.235000000000014,
          33.418000000000006,
          31.080000000000013,
          27.595,
          31.043999999999997
         ],
         "yaxis": "y"
        },
        {
         "hovertemplate": "<b>%{hovertext}</b><br><br>continent=Africa<br>gdp_per_capita=%{x}<br>risky_age=%{y}<br>deaths_ratio=%{marker.size}<extra></extra>",
         "hovertext": [
          "Algeria",
          "Benin",
          "Botswana",
          "Burkina Faso",
          "Burundi",
          "Cameroon",
          "Cape Verde",
          "Central African Republic",
          "Comoros",
          "Djibouti",
          "Egypt",
          "Equatorial Guinea",
          "Eritrea",
          "Eswatini",
          "Ethiopia",
          "Gabon",
          "Gambia",
          "Ghana",
          "Guinea",
          "Kenya",
          "Liberia",
          "Libya",
          "Madagascar",
          "Malawi",
          "Mali",
          "Mauritius",
          "Morocco",
          "Mozambique",
          "Niger",
          "Sao Tome and Principe",
          "Seychelles",
          "South Africa",
          "Sudan",
          "Tanzania",
          "Togo",
          "Tunisia",
          "Uganda",
          "Zambia",
          "Zimbabwe"
         ],
         "legendgroup": "Africa",
         "marker": {
          "color": "#00cc96",
          "size": [
           2.695456389775087,
           1.2585669781931466,
           1.5236220472440947,
           1.2309758281110117,
           0.13783597518952445,
           1.5356003564555916,
           0.8870116156283,
           1.369472182596291,
           3.7784679089026914,
           1.3182016586643388,
           5.821153024451987,
           1.4556797504549,
           0.3609177623098737,
           3.6275303643724692,
           1.5054286783976039,
           0.6064661842820696,
           2.937720329024677,
           0.8384195309990363,
           0.6694963462127511,
           1.8198137416719877,
           3.988737681839512,
           1.7015361624508274,
           1.9193572385061746,
           3.3682918991557362,
           3.5968184697684236,
           1.3198757763975155,
           1.766520507547243,
           1.1747180251117257,
           3.590127150336574,
           1.5008576329331047,
           0.35845964768537486,
           3.420610196311131,
           7.010805698071025,
           4.12573673870334,
           0.9408399819358723,
           3.6438294452832025,
           0.8129513160959702,
           1.3651102464332037,
           4.10156756056484
          ],
          "sizemode": "area",
          "sizeref": 0.012308305496507743,
          "symbol": "circle"
         },
         "mode": "markers",
         "name": "Africa",
         "orientation": "v",
         "showlegend": true,
         "type": "scatter",
         "x": [
          13913.839,
          2064.236,
          15807.374,
          1703.102,
          702.225,
          3364.926,
          6222.554,
          661.24,
          1413.89,
          2705.406,
          10550.206,
          22604.873,
          1510.459,
          7738.975,
          1729.927,
          16562.413,
          1561.767,
          4227.63,
          1998.926,
          2993.028,
          752.788,
          17881.509,
          1416.44,
          1095.042,
          2014.306,
          20292.745,
          7485.013,
          1136.103,
          926,
          3052.714,
          26382.287,
          12294.876,
          4466.507,
          2683.304,
          1429.813,
          10849.297,
          1697.707,
          3689.251,
          1899.775
         ],
         "xaxis": "x",
         "y": [
          10.067999999999998,
          5.185999999999993,
          6.183000000000007,
          3.76700000000001,
          4.0660000000000025,
          5.084000000000003,
          7.896999999999991,
          5.906000000000006,
          4.688999999999993,
          6.592999999999989,
          8.050000000000011,
          4.597999999999999,
          5.778000000000006,
          5.007999999999996,
          5.588999999999999,
          7.426000000000002,
          3.7560000000000002,
          5.332999999999998,
          4.868000000000009,
          4.214000000000013,
          4.813000000000002,
          7.240000000000009,
          4.615000000000009,
          4.7620000000000005,
          4.00500000000001,
          16.828999999999994,
          10.978000000000009,
          5.028000000000006,
          3.9309999999999974,
          5.048000000000002,
          14.191999999999993,
          8.396999999999991,
          5.582000000000008,
          4.981999999999999,
          4.364000000000004,
          13.076000000000008,
          3.4760000000000133,
          4.022000000000006,
          4.704000000000008
         ],
         "yaxis": "y"
        },
        {
         "hovertemplate": "<b>%{hovertext}</b><br><br>continent=North America<br>gdp_per_capita=%{x}<br>risky_age=%{y}<br>deaths_ratio=%{marker.size}<extra></extra>",
         "hovertext": [
          "Antigua and Barbuda",
          "Bahamas",
          "Barbados",
          "Belize",
          "Canada",
          "Costa Rica",
          "Dominican Republic",
          "El Salvador",
          "Grenada",
          "Guatemala",
          "Haiti",
          "Honduras",
          "Jamaica",
          "Mexico",
          "Nicaragua",
          "Panama",
          "Saint Lucia",
          "Saint Vincent and the Grenadines",
          "Trinidad and Tobago",
          "United States"
         ],
         "legendgroup": "North America",
         "marker": {
          "color": "#ab63fa",
          "size": [
           3.357314148681055,
           1.959567299166519,
           1.1832829808660623,
           2.5343271871322086,
           1.8571663114384476,
           1.262546404509831,
           1.2913347382327705,
           3.0708319926132153,
           0.6211180124223602,
           3.2592757348095427,
           2.026627218934911,
           2.636593410925721,
           1.849238610754228,
           9.253610964857858,
           2.5719449464757407,
           1.694988215796214,
           1.5807842332169986,
           0.6185567010309279,
           1.8483965014577262,
           1.7795954466741568
          ],
          "sizemode": "area",
          "sizeref": 0.012308305496507743,
          "symbol": "circle"
         },
         "mode": "markers",
         "name": "North America",
         "orientation": "v",
         "showlegend": true,
         "type": "scatter",
         "x": [
          21490.943,
          27717.847,
          16978.068,
          7824.362,
          44017.591,
          15524.995,
          14600.861,
          7292.458,
          13593.877,
          7423.808,
          1653.173,
          4541.795,
          8193.571,
          17336.469,
          5321.444,
          22267.037,
          12951.839,
          10727.146,
          28763.071,
          54225.446
         ],
         "xaxis": "x",
         "y": [
          11.563999999999993,
          14.195999999999998,
          24.424999999999997,
          6.131999999999991,
          27.781000000000006,
          15.162000000000006,
          11.399999999999991,
          13.689999999999998,
          12.325000000000003,
          7.710000000000008,
          7.753999999999991,
          7.534999999999997,
          16.073999999999998,
          11.177999999999997,
          8.963999999999999,
          12.948000000000008,
          16.126000000000005,
          12.555999999999997,
          15.832999999999998,
          25.144999999999996
         ],
         "yaxis": "y"
        },
        {
         "hovertemplate": "<b>%{hovertext}</b><br><br>continent=South America<br>gdp_per_capita=%{x}<br>risky_age=%{y}<br>deaths_ratio=%{marker.size}<extra></extra>",
         "hovertext": [
          "Argentina",
          "Bolivia",
          "Brazil",
          "Chile",
          "Colombia",
          "Ecuador",
          "Guyana",
          "Paraguay",
          "Peru",
          "Suriname",
          "Uruguay",
          "Venezuela"
         ],
         "legendgroup": "South America",
         "marker": {
          "color": "#FFA15A",
          "size": [
           2.128750695534461,
           4.0516808830908175,
           2.7906602471417106,
           2.1580229993625863,
           2.616942917374108,
           4.830775811367161,
           2.23243173288469,
           2.451524111471763,
           3.510791017327106,
           1.942698555219982,
           1.454317836326242,
           1.1157934403477894
          ],
          "sizemode": "area",
          "sizeref": 0.012308305496507743,
          "symbol": "circle"
         },
         "mode": "markers",
         "name": "South America",
         "orientation": "v",
         "showlegend": true,
         "type": "scatter",
         "x": [
          18933.907,
          6885.829,
          14103.452,
          22767.037,
          13254.949,
          10581.936,
          7435.047,
          8827.01,
          12236.706,
          13767.119,
          20551.409,
          16745.022
         ],
         "xaxis": "x",
         "y": [
          18.63900000000001,
          11.096999999999994,
          13.611999999999995,
          18.025000000000006,
          11.957999999999998,
          11.561999999999998,
          8.14200000000001,
          10.210999999999999,
          11.605999999999995,
          11.161999999999992,
          25.016000000000005,
          10.52900000000001
         ],
         "yaxis": "y"
        },
        {
         "hovertemplate": "<b>%{hovertext}</b><br><br>continent=Oceania<br>gdp_per_capita=%{x}<br>risky_age=%{y}<br>deaths_ratio=%{marker.size}<extra></extra>",
         "hovertext": [
          "Australia",
          "Fiji",
          "New Zealand"
         ],
         "legendgroup": "Oceania",
         "marker": {
          "color": "#19d3f3",
          "size": [
           3.034142437983462,
           2.247191011235955,
           0.9781790820165538
          ],
          "sizemode": "area",
          "sizeref": 0.012308305496507743,
          "symbol": "circle"
         },
         "mode": "markers",
         "name": "Oceania",
         "orientation": "v",
         "showlegend": true,
         "type": "scatter",
         "x": [
          44648.71,
          8702.975,
          36085.843
         ],
         "xaxis": "x",
         "y": [
          25.63300000000001,
          9.50800000000001,
          25.042
         ],
         "yaxis": "y"
        }
       ],
       "layout": {
        "legend": {
         "itemsizing": "constant",
         "title": {
          "text": "continent"
         },
         "tracegroupgap": 0
        },
        "template": {
         "data": {
          "bar": [
           {
            "error_x": {
             "color": "#2a3f5f"
            },
            "error_y": {
             "color": "#2a3f5f"
            },
            "marker": {
             "line": {
              "color": "#E5ECF6",
              "width": 0.5
             }
            },
            "type": "bar"
           }
          ],
          "barpolar": [
           {
            "marker": {
             "line": {
              "color": "#E5ECF6",
              "width": 0.5
             }
            },
            "type": "barpolar"
           }
          ],
          "carpet": [
           {
            "aaxis": {
             "endlinecolor": "#2a3f5f",
             "gridcolor": "white",
             "linecolor": "white",
             "minorgridcolor": "white",
             "startlinecolor": "#2a3f5f"
            },
            "baxis": {
             "endlinecolor": "#2a3f5f",
             "gridcolor": "white",
             "linecolor": "white",
             "minorgridcolor": "white",
             "startlinecolor": "#2a3f5f"
            },
            "type": "carpet"
           }
          ],
          "choropleth": [
           {
            "colorbar": {
             "outlinewidth": 0,
             "ticks": ""
            },
            "type": "choropleth"
           }
          ],
          "contour": [
           {
            "colorbar": {
             "outlinewidth": 0,
             "ticks": ""
            },
            "colorscale": [
             [
              0,
              "#0d0887"
             ],
             [
              0.1111111111111111,
              "#46039f"
             ],
             [
              0.2222222222222222,
              "#7201a8"
             ],
             [
              0.3333333333333333,
              "#9c179e"
             ],
             [
              0.4444444444444444,
              "#bd3786"
             ],
             [
              0.5555555555555556,
              "#d8576b"
             ],
             [
              0.6666666666666666,
              "#ed7953"
             ],
             [
              0.7777777777777778,
              "#fb9f3a"
             ],
             [
              0.8888888888888888,
              "#fdca26"
             ],
             [
              1,
              "#f0f921"
             ]
            ],
            "type": "contour"
           }
          ],
          "contourcarpet": [
           {
            "colorbar": {
             "outlinewidth": 0,
             "ticks": ""
            },
            "type": "contourcarpet"
           }
          ],
          "heatmap": [
           {
            "colorbar": {
             "outlinewidth": 0,
             "ticks": ""
            },
            "colorscale": [
             [
              0,
              "#0d0887"
             ],
             [
              0.1111111111111111,
              "#46039f"
             ],
             [
              0.2222222222222222,
              "#7201a8"
             ],
             [
              0.3333333333333333,
              "#9c179e"
             ],
             [
              0.4444444444444444,
              "#bd3786"
             ],
             [
              0.5555555555555556,
              "#d8576b"
             ],
             [
              0.6666666666666666,
              "#ed7953"
             ],
             [
              0.7777777777777778,
              "#fb9f3a"
             ],
             [
              0.8888888888888888,
              "#fdca26"
             ],
             [
              1,
              "#f0f921"
             ]
            ],
            "type": "heatmap"
           }
          ],
          "heatmapgl": [
           {
            "colorbar": {
             "outlinewidth": 0,
             "ticks": ""
            },
            "colorscale": [
             [
              0,
              "#0d0887"
             ],
             [
              0.1111111111111111,
              "#46039f"
             ],
             [
              0.2222222222222222,
              "#7201a8"
             ],
             [
              0.3333333333333333,
              "#9c179e"
             ],
             [
              0.4444444444444444,
              "#bd3786"
             ],
             [
              0.5555555555555556,
              "#d8576b"
             ],
             [
              0.6666666666666666,
              "#ed7953"
             ],
             [
              0.7777777777777778,
              "#fb9f3a"
             ],
             [
              0.8888888888888888,
              "#fdca26"
             ],
             [
              1,
              "#f0f921"
             ]
            ],
            "type": "heatmapgl"
           }
          ],
          "histogram": [
           {
            "marker": {
             "colorbar": {
              "outlinewidth": 0,
              "ticks": ""
             }
            },
            "type": "histogram"
           }
          ],
          "histogram2d": [
           {
            "colorbar": {
             "outlinewidth": 0,
             "ticks": ""
            },
            "colorscale": [
             [
              0,
              "#0d0887"
             ],
             [
              0.1111111111111111,
              "#46039f"
             ],
             [
              0.2222222222222222,
              "#7201a8"
             ],
             [
              0.3333333333333333,
              "#9c179e"
             ],
             [
              0.4444444444444444,
              "#bd3786"
             ],
             [
              0.5555555555555556,
              "#d8576b"
             ],
             [
              0.6666666666666666,
              "#ed7953"
             ],
             [
              0.7777777777777778,
              "#fb9f3a"
             ],
             [
              0.8888888888888888,
              "#fdca26"
             ],
             [
              1,
              "#f0f921"
             ]
            ],
            "type": "histogram2d"
           }
          ],
          "histogram2dcontour": [
           {
            "colorbar": {
             "outlinewidth": 0,
             "ticks": ""
            },
            "colorscale": [
             [
              0,
              "#0d0887"
             ],
             [
              0.1111111111111111,
              "#46039f"
             ],
             [
              0.2222222222222222,
              "#7201a8"
             ],
             [
              0.3333333333333333,
              "#9c179e"
             ],
             [
              0.4444444444444444,
              "#bd3786"
             ],
             [
              0.5555555555555556,
              "#d8576b"
             ],
             [
              0.6666666666666666,
              "#ed7953"
             ],
             [
              0.7777777777777778,
              "#fb9f3a"
             ],
             [
              0.8888888888888888,
              "#fdca26"
             ],
             [
              1,
              "#f0f921"
             ]
            ],
            "type": "histogram2dcontour"
           }
          ],
          "mesh3d": [
           {
            "colorbar": {
             "outlinewidth": 0,
             "ticks": ""
            },
            "type": "mesh3d"
           }
          ],
          "parcoords": [
           {
            "line": {
             "colorbar": {
              "outlinewidth": 0,
              "ticks": ""
             }
            },
            "type": "parcoords"
           }
          ],
          "pie": [
           {
            "automargin": true,
            "type": "pie"
           }
          ],
          "scatter": [
           {
            "marker": {
             "colorbar": {
              "outlinewidth": 0,
              "ticks": ""
             }
            },
            "type": "scatter"
           }
          ],
          "scatter3d": [
           {
            "line": {
             "colorbar": {
              "outlinewidth": 0,
              "ticks": ""
             }
            },
            "marker": {
             "colorbar": {
              "outlinewidth": 0,
              "ticks": ""
             }
            },
            "type": "scatter3d"
           }
          ],
          "scattercarpet": [
           {
            "marker": {
             "colorbar": {
              "outlinewidth": 0,
              "ticks": ""
             }
            },
            "type": "scattercarpet"
           }
          ],
          "scattergeo": [
           {
            "marker": {
             "colorbar": {
              "outlinewidth": 0,
              "ticks": ""
             }
            },
            "type": "scattergeo"
           }
          ],
          "scattergl": [
           {
            "marker": {
             "colorbar": {
              "outlinewidth": 0,
              "ticks": ""
             }
            },
            "type": "scattergl"
           }
          ],
          "scattermapbox": [
           {
            "marker": {
             "colorbar": {
              "outlinewidth": 0,
              "ticks": ""
             }
            },
            "type": "scattermapbox"
           }
          ],
          "scatterpolar": [
           {
            "marker": {
             "colorbar": {
              "outlinewidth": 0,
              "ticks": ""
             }
            },
            "type": "scatterpolar"
           }
          ],
          "scatterpolargl": [
           {
            "marker": {
             "colorbar": {
              "outlinewidth": 0,
              "ticks": ""
             }
            },
            "type": "scatterpolargl"
           }
          ],
          "scatterternary": [
           {
            "marker": {
             "colorbar": {
              "outlinewidth": 0,
              "ticks": ""
             }
            },
            "type": "scatterternary"
           }
          ],
          "surface": [
           {
            "colorbar": {
             "outlinewidth": 0,
             "ticks": ""
            },
            "colorscale": [
             [
              0,
              "#0d0887"
             ],
             [
              0.1111111111111111,
              "#46039f"
             ],
             [
              0.2222222222222222,
              "#7201a8"
             ],
             [
              0.3333333333333333,
              "#9c179e"
             ],
             [
              0.4444444444444444,
              "#bd3786"
             ],
             [
              0.5555555555555556,
              "#d8576b"
             ],
             [
              0.6666666666666666,
              "#ed7953"
             ],
             [
              0.7777777777777778,
              "#fb9f3a"
             ],
             [
              0.8888888888888888,
              "#fdca26"
             ],
             [
              1,
              "#f0f921"
             ]
            ],
            "type": "surface"
           }
          ],
          "table": [
           {
            "cells": {
             "fill": {
              "color": "#EBF0F8"
             },
             "line": {
              "color": "white"
             }
            },
            "header": {
             "fill": {
              "color": "#C8D4E3"
             },
             "line": {
              "color": "white"
             }
            },
            "type": "table"
           }
          ]
         },
         "layout": {
          "annotationdefaults": {
           "arrowcolor": "#2a3f5f",
           "arrowhead": 0,
           "arrowwidth": 1
          },
          "autotypenumbers": "strict",
          "coloraxis": {
           "colorbar": {
            "outlinewidth": 0,
            "ticks": ""
           }
          },
          "colorscale": {
           "diverging": [
            [
             0,
             "#8e0152"
            ],
            [
             0.1,
             "#c51b7d"
            ],
            [
             0.2,
             "#de77ae"
            ],
            [
             0.3,
             "#f1b6da"
            ],
            [
             0.4,
             "#fde0ef"
            ],
            [
             0.5,
             "#f7f7f7"
            ],
            [
             0.6,
             "#e6f5d0"
            ],
            [
             0.7,
             "#b8e186"
            ],
            [
             0.8,
             "#7fbc41"
            ],
            [
             0.9,
             "#4d9221"
            ],
            [
             1,
             "#276419"
            ]
           ],
           "sequential": [
            [
             0,
             "#0d0887"
            ],
            [
             0.1111111111111111,
             "#46039f"
            ],
            [
             0.2222222222222222,
             "#7201a8"
            ],
            [
             0.3333333333333333,
             "#9c179e"
            ],
            [
             0.4444444444444444,
             "#bd3786"
            ],
            [
             0.5555555555555556,
             "#d8576b"
            ],
            [
             0.6666666666666666,
             "#ed7953"
            ],
            [
             0.7777777777777778,
             "#fb9f3a"
            ],
            [
             0.8888888888888888,
             "#fdca26"
            ],
            [
             1,
             "#f0f921"
            ]
           ],
           "sequentialminus": [
            [
             0,
             "#0d0887"
            ],
            [
             0.1111111111111111,
             "#46039f"
            ],
            [
             0.2222222222222222,
             "#7201a8"
            ],
            [
             0.3333333333333333,
             "#9c179e"
            ],
            [
             0.4444444444444444,
             "#bd3786"
            ],
            [
             0.5555555555555556,
             "#d8576b"
            ],
            [
             0.6666666666666666,
             "#ed7953"
            ],
            [
             0.7777777777777778,
             "#fb9f3a"
            ],
            [
             0.8888888888888888,
             "#fdca26"
            ],
            [
             1,
             "#f0f921"
            ]
           ]
          },
          "colorway": [
           "#636efa",
           "#EF553B",
           "#00cc96",
           "#ab63fa",
           "#FFA15A",
           "#19d3f3",
           "#FF6692",
           "#B6E880",
           "#FF97FF",
           "#FECB52"
          ],
          "font": {
           "color": "#2a3f5f"
          },
          "geo": {
           "bgcolor": "white",
           "lakecolor": "white",
           "landcolor": "#E5ECF6",
           "showlakes": true,
           "showland": true,
           "subunitcolor": "white"
          },
          "hoverlabel": {
           "align": "left"
          },
          "hovermode": "closest",
          "mapbox": {
           "style": "light"
          },
          "paper_bgcolor": "white",
          "plot_bgcolor": "#E5ECF6",
          "polar": {
           "angularaxis": {
            "gridcolor": "white",
            "linecolor": "white",
            "ticks": ""
           },
           "bgcolor": "#E5ECF6",
           "radialaxis": {
            "gridcolor": "white",
            "linecolor": "white",
            "ticks": ""
           }
          },
          "scene": {
           "xaxis": {
            "backgroundcolor": "#E5ECF6",
            "gridcolor": "white",
            "gridwidth": 2,
            "linecolor": "white",
            "showbackground": true,
            "ticks": "",
            "zerolinecolor": "white"
           },
           "yaxis": {
            "backgroundcolor": "#E5ECF6",
            "gridcolor": "white",
            "gridwidth": 2,
            "linecolor": "white",
            "showbackground": true,
            "ticks": "",
            "zerolinecolor": "white"
           },
           "zaxis": {
            "backgroundcolor": "#E5ECF6",
            "gridcolor": "white",
            "gridwidth": 2,
            "linecolor": "white",
            "showbackground": true,
            "ticks": "",
            "zerolinecolor": "white"
           }
          },
          "shapedefaults": {
           "line": {
            "color": "#2a3f5f"
           }
          },
          "ternary": {
           "aaxis": {
            "gridcolor": "white",
            "linecolor": "white",
            "ticks": ""
           },
           "baxis": {
            "gridcolor": "white",
            "linecolor": "white",
            "ticks": ""
           },
           "bgcolor": "#E5ECF6",
           "caxis": {
            "gridcolor": "white",
            "linecolor": "white",
            "ticks": ""
           }
          },
          "title": {
           "x": 0.05
          },
          "xaxis": {
           "automargin": true,
           "gridcolor": "white",
           "linecolor": "white",
           "ticks": "",
           "title": {
            "standoff": 15
           },
           "zerolinecolor": "white",
           "zerolinewidth": 2
          },
          "yaxis": {
           "automargin": true,
           "gridcolor": "white",
           "linecolor": "white",
           "ticks": "",
           "title": {
            "standoff": 15
           },
           "zerolinecolor": "white",
           "zerolinewidth": 2
          }
         }
        },
        "title": {
         "text": "deaths_ratio by gdp and risky age"
        },
        "xaxis": {
         "anchor": "y",
         "domain": [
          0,
          1
         ],
         "title": {
          "text": "gdp_per_capita"
         },
         "type": "log"
        },
        "yaxis": {
         "anchor": "x",
         "domain": [
          0,
          1
         ],
         "title": {
          "text": "risky_age"
         }
        }
       }
      }
     },
     "metadata": {}
    }
   ],
   "source": [
    "fig = px.scatter(covid_groupby, x=\"gdp_per_capita\", y=\"risky_age\", size=\"deaths_ratio\", color=\"continent\",\n",
    "           hover_name=\"country\",log_x=True, size_max=40, title=\"deaths_ratio by gdp and risky age\")\n",
    "fig.show()"
   ]
  },
  {
   "cell_type": "code",
   "execution_count": 65,
   "metadata": {},
   "outputs": [
    {
     "output_type": "display_data",
     "data": {
      "application/vnd.plotly.v1+json": {
       "config": {
        "plotlyServerURL": "https://plot.ly"
       },
       "data": [
        {
         "hovertemplate": "<b>%{hovertext}</b><br><br>continent=Asia<br>Poverty %=%{x}<br>risky_age=%{y}<br>deaths_ratio=%{marker.size}<extra></extra>",
         "hovertext": [
          "Afghanistan",
          "Armenia",
          "Azerbaijan",
          "Bahrain",
          "Bangladesh",
          "Bhutan",
          "Brunei",
          "Cambodia",
          "China",
          "Georgia",
          "India",
          "Indonesia",
          "Iran",
          "Iraq",
          "Israel",
          "Japan",
          "Jordan",
          "Kazakhstan",
          "Kuwait",
          "Kyrgyzstan",
          "Laos",
          "Lebanon",
          "Malaysia",
          "Mongolia",
          "Myanmar",
          "Nepal",
          "Oman",
          "Pakistan",
          "Philippines",
          "Qatar",
          "Saudi Arabia",
          "Singapore",
          "South Korea",
          "Sri Lanka",
          "Tajikistan",
          "Thailand",
          "Timor",
          "Turkey",
          "United Arab Emirates",
          "Uzbekistan",
          "Vietnam",
          "Yemen"
         ],
         "legendgroup": "Asia",
         "marker": {
          "color": "#636efa",
          "size": [
           4.310628496215861,
           1.9652797561714577,
           1.4520669728848719,
           0.374039232559504,
           1.5612514048194095,
           0.07639419404125286,
           1.293103448275862,
           0.6815500895626719,
           4.714741594022416,
           1.3533228452567523,
           1.110936358291566,
           2.7729188951110553,
           2.78950786406492,
           1.3975350233837978,
           0.7617077411290005,
           1.7005317853782793,
           1.2795416501475705,
           0.8137235444200277,
           0.5794109832614605,
           1.701562902363172,
           0.11855364552459988,
           1.424087789858989,
           0.4159183681983059,
           0.453102856344438,
           2.2447967246787908,
           1.1455391507217045,
           1.0714165004900802,
           2.2406182011862095,
           1.6781186221616995,
           0.25063711393233734,
           1.6523112358543264,
           0.050283044881672644,
           1.4325209221478823,
           0.6871107500676956,
           0.6762849413886384,
           0.5715292149178812,
           0.2098635886673662,
           0.8791931487298824,
           0.29835186565600047,
           0.6922981827172704,
           0.8200354609929078,
           19.69328879441239
          ],
          "sizemode": "area",
          "sizeref": 0.012308305496507743,
          "symbol": "circle"
         },
         "mode": "markers",
         "name": "Asia",
         "orientation": "v",
         "showlegend": true,
         "type": "scatter",
         "x": [
          0,
          2.4,
          0,
          0,
          14.11,
          1.8,
          0,
          0,
          0.5,
          4.8,
          21.5,
          4.9,
          0,
          2.8,
          0.2,
          0.7,
          0.1,
          0,
          0,
          0.9,
          0,
          0,
          0,
          0.5,
          2.3,
          15.3,
          0,
          3.12,
          6.4,
          0,
          0,
          0,
          0,
          0.8,
          4.11,
          0.3,
          30.1,
          0.1,
          0,
          0,
          1.12,
          18.11
         ],
         "xaxis": "x",
         "y": [
          3.9180000000000064,
          18.802999999999997,
          9.888999999999996,
          3.7590000000000003,
          8.36,
          7.862000000000009,
          6.972999999999999,
          6.797000000000011,
          16.570000000000007,
          25.108000000000004,
          9.403000000000006,
          8.372,
          8.622,
          5.143000000000001,
          19.092,
          45.542,
          6.1710000000000065,
          11.616,
          3.459000000000003,
          7.371000000000009,
          6.350999999999999,
          13.943999999999988,
          9.700000000000003,
          6.452000000000012,
          8.852000000000004,
          9.021,
          3.885000000000005,
          7.275000000000006,
          7.463999999999999,
          1.9240000000000066,
          5.140000000000001,
          19.971000000000004,
          22.536,
          15.400000000000006,
          5.620999999999995,
          18.263000000000005,
          5.453000000000003,
          13.213999999999999,
          1.6700000000000017,
          7.341999999999999,
          11.86800000000001,
          4.5049999999999955
         ],
         "yaxis": "y"
        },
        {
         "hovertemplate": "<b>%{hovertext}</b><br><br>continent=Europe<br>Poverty %=%{x}<br>risky_age=%{y}<br>deaths_ratio=%{marker.size}<extra></extra>",
         "hovertext": [
          "Albania",
          "Austria",
          "Belarus",
          "Belgium",
          "Bosnia and Herzegovina",
          "Bulgaria",
          "Croatia",
          "Cyprus",
          "Czechia",
          "Denmark",
          "Estonia",
          "Finland",
          "France",
          "Germany",
          "Greece",
          "Hungary",
          "Iceland",
          "Ireland",
          "Italy",
          "Latvia",
          "Lithuania",
          "Luxembourg",
          "Malta",
          "Moldova",
          "Montenegro",
          "Netherlands",
          "North Macedonia",
          "Norway",
          "Poland",
          "Portugal",
          "Romania",
          "Russia",
          "Slovakia",
          "Slovenia",
          "Spain",
          "Sweden",
          "Switzerland",
          "Ukraine",
          "United Kingdom"
         ],
         "legendgroup": "Europe",
         "marker": {
          "color": "#EF553B",
          "size": [
           1.8444624482286045,
           1.6452115865267842,
           0.7184898246948201,
           2.391868670956419,
           4.475144936474652,
           4.184423802025397,
           2.212269620538067,
           0.487408610885459,
           1.8094943897996578,
           0.9310073023096714,
           0.9639215686274509,
           1.032102480143366,
           1.8155770033289185,
           2.3969439386531026,
           3.025184516846506,
           3.6644116377017477,
           0.4428156970529852,
           1.938635382744144,
           2.987671060288815,
           1.7717269675494216,
           1.546505744110647,
           1.1669723710625515,
           1.3678409761857901,
           2.378431565482633,
           1.5802608845015207,
           1.0862298237493846,
           3.3797576290018347,
           0.6460013020181281,
           2.5173928322909536,
           2.0184701109559344,
           2.7644710206790113,
           2.3386883683823387,
           3.1575799449331257,
           1.7337478643251267,
           2.1962800647983007,
           1.3657160483334176,
           1.5733099209833186,
           2.2746177469352995,
           2.8633915635877334
          ],
          "sizemode": "area",
          "sizeref": 0.012308305496507743,
          "symbol": "circle"
         },
         "mode": "markers",
         "name": "Europe",
         "orientation": "v",
         "showlegend": true,
         "type": "scatter",
         "x": [
          1.1,
          0.3,
          0,
          0.1,
          0.4,
          1.6,
          0.5,
          0,
          0,
          0.4,
          0.6,
          0.1,
          0,
          0.3,
          0.12,
          0.6,
          0,
          0.1,
          1.7,
          0.8,
          1.3,
          0.6,
          0.5,
          0,
          1.7,
          0.5,
          4.7,
          0.5,
          0.3,
          0.4,
          3.8,
          0.3,
          1.7,
          0.3,
          0.7,
          0.2,
          0,
          0,
          0.2
         ],
         "xaxis": "x",
         "y": [
          21.831000000000003,
          32.95,
          24.587000000000003,
          31.42,
          27.28,
          34.07300000000001,
          32.777,
          21.979,
          30.607,
          32.001999999999995,
          32.943,
          34.492000000000004,
          32.797,
          37.410000000000004,
          34.92,
          30.552999999999997,
          23.638000000000005,
          22.605999999999995,
          39.260999999999996,
          33.89,
          32.78,
          24.153999999999996,
          30.75,
          17.819000000000003,
          24.156999999999996,
          30.659999999999997,
          21.42,
          27.634,
          26.965000000000003,
          36.425999999999995,
          29.539999999999992,
          23.570999999999998,
          24.236999999999995,
          31.99199999999999,
          33.235000000000014,
          33.418000000000006,
          31.080000000000013,
          27.595,
          31.043999999999997
         ],
         "yaxis": "y"
        },
        {
         "hovertemplate": "<b>%{hovertext}</b><br><br>continent=Africa<br>Poverty %=%{x}<br>risky_age=%{y}<br>deaths_ratio=%{marker.size}<extra></extra>",
         "hovertext": [
          "Algeria",
          "Benin",
          "Botswana",
          "Burkina Faso",
          "Burundi",
          "Cameroon",
          "Cape Verde",
          "Central African Republic",
          "Comoros",
          "Djibouti",
          "Egypt",
          "Equatorial Guinea",
          "Eritrea",
          "Eswatini",
          "Ethiopia",
          "Gabon",
          "Gambia",
          "Ghana",
          "Guinea",
          "Kenya",
          "Liberia",
          "Libya",
          "Madagascar",
          "Malawi",
          "Mali",
          "Mauritius",
          "Morocco",
          "Mozambique",
          "Niger",
          "Sao Tome and Principe",
          "Seychelles",
          "South Africa",
          "Sudan",
          "Tanzania",
          "Togo",
          "Tunisia",
          "Uganda",
          "Zambia",
          "Zimbabwe"
         ],
         "legendgroup": "Africa",
         "marker": {
          "color": "#00cc96",
          "size": [
           2.695456389775087,
           1.2585669781931466,
           1.5236220472440947,
           1.2309758281110117,
           0.13783597518952445,
           1.5356003564555916,
           0.8870116156283,
           1.369472182596291,
           3.7784679089026914,
           1.3182016586643388,
           5.821153024451987,
           1.4556797504549,
           0.3609177623098737,
           3.6275303643724692,
           1.5054286783976039,
           0.6064661842820696,
           2.937720329024677,
           0.8384195309990363,
           0.6694963462127511,
           1.8198137416719877,
           3.988737681839512,
           1.7015361624508274,
           1.9193572385061746,
           3.3682918991557362,
           3.5968184697684236,
           1.3198757763975155,
           1.766520507547243,
           1.1747180251117257,
           3.590127150336574,
           1.5008576329331047,
           0.35845964768537486,
           3.420610196311131,
           7.010805698071025,
           4.12573673870334,
           0.9408399819358723,
           3.6438294452832025,
           0.8129513160959702,
           1.3651102464332037,
           4.10156756056484
          ],
          "sizemode": "area",
          "sizeref": 0.012308305496507743,
          "symbol": "circle"
         },
         "mode": "markers",
         "name": "Africa",
         "orientation": "v",
         "showlegend": true,
         "type": "scatter",
         "x": [
          0.8,
          49.8,
          16.4,
          43.1,
          71.11,
          23.11,
          0,
          66.6,
          17.9,
          17.4,
          3.2,
          0,
          0,
          0,
          30.11,
          3.7,
          10.4,
          13.6,
          35.6,
          36.11,
          40.12,
          0,
          77.9,
          70.6,
          49.1,
          0.5,
          1,
          62.12,
          44.8,
          34.8,
          1.4,
          18.12,
          12.1,
          49.4,
          49.11,
          0.2,
          41.1,
          57.8,
          33.12
         ],
         "xaxis": "x",
         "y": [
          10.067999999999998,
          5.185999999999993,
          6.183000000000007,
          3.76700000000001,
          4.0660000000000025,
          5.084000000000003,
          7.896999999999991,
          5.906000000000006,
          4.688999999999993,
          6.592999999999989,
          8.050000000000011,
          4.597999999999999,
          5.778000000000006,
          5.007999999999996,
          5.588999999999999,
          7.426000000000002,
          3.7560000000000002,
          5.332999999999998,
          4.868000000000009,
          4.214000000000013,
          4.813000000000002,
          7.240000000000009,
          4.615000000000009,
          4.7620000000000005,
          4.00500000000001,
          16.828999999999994,
          10.978000000000009,
          5.028000000000006,
          3.9309999999999974,
          5.048000000000002,
          14.191999999999993,
          8.396999999999991,
          5.582000000000008,
          4.981999999999999,
          4.364000000000004,
          13.076000000000008,
          3.4760000000000133,
          4.022000000000006,
          4.704000000000008
         ],
         "yaxis": "y"
        },
        {
         "hovertemplate": "<b>%{hovertext}</b><br><br>continent=North America<br>Poverty %=%{x}<br>risky_age=%{y}<br>deaths_ratio=%{marker.size}<extra></extra>",
         "hovertext": [
          "Antigua and Barbuda",
          "Bahamas",
          "Barbados",
          "Belize",
          "Canada",
          "Costa Rica",
          "Dominican Republic",
          "El Salvador",
          "Grenada",
          "Guatemala",
          "Haiti",
          "Honduras",
          "Jamaica",
          "Mexico",
          "Nicaragua",
          "Panama",
          "Saint Lucia",
          "Saint Vincent and the Grenadines",
          "Trinidad and Tobago",
          "United States"
         ],
         "legendgroup": "North America",
         "marker": {
          "color": "#ab63fa",
          "size": [
           3.357314148681055,
           1.959567299166519,
           1.1832829808660623,
           2.5343271871322086,
           1.8571663114384476,
           1.262546404509831,
           1.2913347382327705,
           3.0708319926132153,
           0.6211180124223602,
           3.2592757348095427,
           2.026627218934911,
           2.636593410925721,
           1.849238610754228,
           9.253610964857858,
           2.5719449464757407,
           1.694988215796214,
           1.5807842332169986,
           0.6185567010309279,
           1.8483965014577262,
           1.7795954466741568
          ],
          "sizemode": "area",
          "sizeref": 0.012308305496507743,
          "symbol": "circle"
         },
         "mode": "markers",
         "name": "North America",
         "orientation": "v",
         "showlegend": true,
         "type": "scatter",
         "x": [
          0,
          0,
          0,
          0,
          0.8,
          1.7,
          0.7,
          1.8,
          0,
          8.1,
          24.5,
          16.8,
          0,
          1.1,
          3.5,
          1.7,
          4.1,
          0,
          0,
          1.5
         ],
         "xaxis": "x",
         "y": [
          11.563999999999993,
          14.195999999999998,
          24.424999999999997,
          6.131999999999991,
          27.781000000000006,
          15.162000000000006,
          11.399999999999991,
          13.689999999999998,
          12.325000000000003,
          7.710000000000008,
          7.753999999999991,
          7.534999999999997,
          16.073999999999998,
          11.177999999999997,
          8.963999999999999,
          12.948000000000008,
          16.126000000000005,
          12.555999999999997,
          15.832999999999998,
          25.144999999999996
         ],
         "yaxis": "y"
        },
        {
         "hovertemplate": "<b>%{hovertext}</b><br><br>continent=South America<br>Poverty %=%{x}<br>risky_age=%{y}<br>deaths_ratio=%{marker.size}<extra></extra>",
         "hovertext": [
          "Argentina",
          "Bolivia",
          "Brazil",
          "Chile",
          "Colombia",
          "Ecuador",
          "Guyana",
          "Paraguay",
          "Peru",
          "Suriname",
          "Uruguay",
          "Venezuela"
         ],
         "legendgroup": "South America",
         "marker": {
          "color": "#FFA15A",
          "size": [
           2.128750695534461,
           4.0516808830908175,
           2.7906602471417106,
           2.1580229993625863,
           2.616942917374108,
           4.830775811367161,
           2.23243173288469,
           2.451524111471763,
           3.510791017327106,
           1.942698555219982,
           1.454317836326242,
           1.1157934403477894
          ],
          "sizemode": "area",
          "sizeref": 0.012308305496507743,
          "symbol": "circle"
         },
         "mode": "markers",
         "name": "South America",
         "orientation": "v",
         "showlegend": true,
         "type": "scatter",
         "x": [
          1.3,
          0,
          4.7,
          0.3,
          4.4,
          3.3,
          0,
          1.9,
          2.9,
          0,
          0.4,
          0
         ],
         "xaxis": "x",
         "y": [
          18.63900000000001,
          11.096999999999994,
          13.611999999999995,
          18.025000000000006,
          11.957999999999998,
          11.561999999999998,
          8.14200000000001,
          10.210999999999999,
          11.605999999999995,
          11.161999999999992,
          25.016000000000005,
          10.52900000000001
         ],
         "yaxis": "y"
        },
        {
         "hovertemplate": "<b>%{hovertext}</b><br><br>continent=Oceania<br>Poverty %=%{x}<br>risky_age=%{y}<br>deaths_ratio=%{marker.size}<extra></extra>",
         "hovertext": [
          "Australia",
          "Fiji",
          "New Zealand"
         ],
         "legendgroup": "Oceania",
         "marker": {
          "color": "#19d3f3",
          "size": [
           3.034142437983462,
           2.247191011235955,
           0.9781790820165538
          ],
          "sizemode": "area",
          "sizeref": 0.012308305496507743,
          "symbol": "circle"
         },
         "mode": "markers",
         "name": "Oceania",
         "orientation": "v",
         "showlegend": true,
         "type": "scatter",
         "x": [
          0.5,
          1.7,
          0
         ],
         "xaxis": "x",
         "y": [
          25.63300000000001,
          9.50800000000001,
          25.042
         ],
         "yaxis": "y"
        }
       ],
       "layout": {
        "legend": {
         "itemsizing": "constant",
         "title": {
          "text": "continent"
         },
         "tracegroupgap": 0
        },
        "template": {
         "data": {
          "bar": [
           {
            "error_x": {
             "color": "#2a3f5f"
            },
            "error_y": {
             "color": "#2a3f5f"
            },
            "marker": {
             "line": {
              "color": "#E5ECF6",
              "width": 0.5
             }
            },
            "type": "bar"
           }
          ],
          "barpolar": [
           {
            "marker": {
             "line": {
              "color": "#E5ECF6",
              "width": 0.5
             }
            },
            "type": "barpolar"
           }
          ],
          "carpet": [
           {
            "aaxis": {
             "endlinecolor": "#2a3f5f",
             "gridcolor": "white",
             "linecolor": "white",
             "minorgridcolor": "white",
             "startlinecolor": "#2a3f5f"
            },
            "baxis": {
             "endlinecolor": "#2a3f5f",
             "gridcolor": "white",
             "linecolor": "white",
             "minorgridcolor": "white",
             "startlinecolor": "#2a3f5f"
            },
            "type": "carpet"
           }
          ],
          "choropleth": [
           {
            "colorbar": {
             "outlinewidth": 0,
             "ticks": ""
            },
            "type": "choropleth"
           }
          ],
          "contour": [
           {
            "colorbar": {
             "outlinewidth": 0,
             "ticks": ""
            },
            "colorscale": [
             [
              0,
              "#0d0887"
             ],
             [
              0.1111111111111111,
              "#46039f"
             ],
             [
              0.2222222222222222,
              "#7201a8"
             ],
             [
              0.3333333333333333,
              "#9c179e"
             ],
             [
              0.4444444444444444,
              "#bd3786"
             ],
             [
              0.5555555555555556,
              "#d8576b"
             ],
             [
              0.6666666666666666,
              "#ed7953"
             ],
             [
              0.7777777777777778,
              "#fb9f3a"
             ],
             [
              0.8888888888888888,
              "#fdca26"
             ],
             [
              1,
              "#f0f921"
             ]
            ],
            "type": "contour"
           }
          ],
          "contourcarpet": [
           {
            "colorbar": {
             "outlinewidth": 0,
             "ticks": ""
            },
            "type": "contourcarpet"
           }
          ],
          "heatmap": [
           {
            "colorbar": {
             "outlinewidth": 0,
             "ticks": ""
            },
            "colorscale": [
             [
              0,
              "#0d0887"
             ],
             [
              0.1111111111111111,
              "#46039f"
             ],
             [
              0.2222222222222222,
              "#7201a8"
             ],
             [
              0.3333333333333333,
              "#9c179e"
             ],
             [
              0.4444444444444444,
              "#bd3786"
             ],
             [
              0.5555555555555556,
              "#d8576b"
             ],
             [
              0.6666666666666666,
              "#ed7953"
             ],
             [
              0.7777777777777778,
              "#fb9f3a"
             ],
             [
              0.8888888888888888,
              "#fdca26"
             ],
             [
              1,
              "#f0f921"
             ]
            ],
            "type": "heatmap"
           }
          ],
          "heatmapgl": [
           {
            "colorbar": {
             "outlinewidth": 0,
             "ticks": ""
            },
            "colorscale": [
             [
              0,
              "#0d0887"
             ],
             [
              0.1111111111111111,
              "#46039f"
             ],
             [
              0.2222222222222222,
              "#7201a8"
             ],
             [
              0.3333333333333333,
              "#9c179e"
             ],
             [
              0.4444444444444444,
              "#bd3786"
             ],
             [
              0.5555555555555556,
              "#d8576b"
             ],
             [
              0.6666666666666666,
              "#ed7953"
             ],
             [
              0.7777777777777778,
              "#fb9f3a"
             ],
             [
              0.8888888888888888,
              "#fdca26"
             ],
             [
              1,
              "#f0f921"
             ]
            ],
            "type": "heatmapgl"
           }
          ],
          "histogram": [
           {
            "marker": {
             "colorbar": {
              "outlinewidth": 0,
              "ticks": ""
             }
            },
            "type": "histogram"
           }
          ],
          "histogram2d": [
           {
            "colorbar": {
             "outlinewidth": 0,
             "ticks": ""
            },
            "colorscale": [
             [
              0,
              "#0d0887"
             ],
             [
              0.1111111111111111,
              "#46039f"
             ],
             [
              0.2222222222222222,
              "#7201a8"
             ],
             [
              0.3333333333333333,
              "#9c179e"
             ],
             [
              0.4444444444444444,
              "#bd3786"
             ],
             [
              0.5555555555555556,
              "#d8576b"
             ],
             [
              0.6666666666666666,
              "#ed7953"
             ],
             [
              0.7777777777777778,
              "#fb9f3a"
             ],
             [
              0.8888888888888888,
              "#fdca26"
             ],
             [
              1,
              "#f0f921"
             ]
            ],
            "type": "histogram2d"
           }
          ],
          "histogram2dcontour": [
           {
            "colorbar": {
             "outlinewidth": 0,
             "ticks": ""
            },
            "colorscale": [
             [
              0,
              "#0d0887"
             ],
             [
              0.1111111111111111,
              "#46039f"
             ],
             [
              0.2222222222222222,
              "#7201a8"
             ],
             [
              0.3333333333333333,
              "#9c179e"
             ],
             [
              0.4444444444444444,
              "#bd3786"
             ],
             [
              0.5555555555555556,
              "#d8576b"
             ],
             [
              0.6666666666666666,
              "#ed7953"
             ],
             [
              0.7777777777777778,
              "#fb9f3a"
             ],
             [
              0.8888888888888888,
              "#fdca26"
             ],
             [
              1,
              "#f0f921"
             ]
            ],
            "type": "histogram2dcontour"
           }
          ],
          "mesh3d": [
           {
            "colorbar": {
             "outlinewidth": 0,
             "ticks": ""
            },
            "type": "mesh3d"
           }
          ],
          "parcoords": [
           {
            "line": {
             "colorbar": {
              "outlinewidth": 0,
              "ticks": ""
             }
            },
            "type": "parcoords"
           }
          ],
          "pie": [
           {
            "automargin": true,
            "type": "pie"
           }
          ],
          "scatter": [
           {
            "marker": {
             "colorbar": {
              "outlinewidth": 0,
              "ticks": ""
             }
            },
            "type": "scatter"
           }
          ],
          "scatter3d": [
           {
            "line": {
             "colorbar": {
              "outlinewidth": 0,
              "ticks": ""
             }
            },
            "marker": {
             "colorbar": {
              "outlinewidth": 0,
              "ticks": ""
             }
            },
            "type": "scatter3d"
           }
          ],
          "scattercarpet": [
           {
            "marker": {
             "colorbar": {
              "outlinewidth": 0,
              "ticks": ""
             }
            },
            "type": "scattercarpet"
           }
          ],
          "scattergeo": [
           {
            "marker": {
             "colorbar": {
              "outlinewidth": 0,
              "ticks": ""
             }
            },
            "type": "scattergeo"
           }
          ],
          "scattergl": [
           {
            "marker": {
             "colorbar": {
              "outlinewidth": 0,
              "ticks": ""
             }
            },
            "type": "scattergl"
           }
          ],
          "scattermapbox": [
           {
            "marker": {
             "colorbar": {
              "outlinewidth": 0,
              "ticks": ""
             }
            },
            "type": "scattermapbox"
           }
          ],
          "scatterpolar": [
           {
            "marker": {
             "colorbar": {
              "outlinewidth": 0,
              "ticks": ""
             }
            },
            "type": "scatterpolar"
           }
          ],
          "scatterpolargl": [
           {
            "marker": {
             "colorbar": {
              "outlinewidth": 0,
              "ticks": ""
             }
            },
            "type": "scatterpolargl"
           }
          ],
          "scatterternary": [
           {
            "marker": {
             "colorbar": {
              "outlinewidth": 0,
              "ticks": ""
             }
            },
            "type": "scatterternary"
           }
          ],
          "surface": [
           {
            "colorbar": {
             "outlinewidth": 0,
             "ticks": ""
            },
            "colorscale": [
             [
              0,
              "#0d0887"
             ],
             [
              0.1111111111111111,
              "#46039f"
             ],
             [
              0.2222222222222222,
              "#7201a8"
             ],
             [
              0.3333333333333333,
              "#9c179e"
             ],
             [
              0.4444444444444444,
              "#bd3786"
             ],
             [
              0.5555555555555556,
              "#d8576b"
             ],
             [
              0.6666666666666666,
              "#ed7953"
             ],
             [
              0.7777777777777778,
              "#fb9f3a"
             ],
             [
              0.8888888888888888,
              "#fdca26"
             ],
             [
              1,
              "#f0f921"
             ]
            ],
            "type": "surface"
           }
          ],
          "table": [
           {
            "cells": {
             "fill": {
              "color": "#EBF0F8"
             },
             "line": {
              "color": "white"
             }
            },
            "header": {
             "fill": {
              "color": "#C8D4E3"
             },
             "line": {
              "color": "white"
             }
            },
            "type": "table"
           }
          ]
         },
         "layout": {
          "annotationdefaults": {
           "arrowcolor": "#2a3f5f",
           "arrowhead": 0,
           "arrowwidth": 1
          },
          "autotypenumbers": "strict",
          "coloraxis": {
           "colorbar": {
            "outlinewidth": 0,
            "ticks": ""
           }
          },
          "colorscale": {
           "diverging": [
            [
             0,
             "#8e0152"
            ],
            [
             0.1,
             "#c51b7d"
            ],
            [
             0.2,
             "#de77ae"
            ],
            [
             0.3,
             "#f1b6da"
            ],
            [
             0.4,
             "#fde0ef"
            ],
            [
             0.5,
             "#f7f7f7"
            ],
            [
             0.6,
             "#e6f5d0"
            ],
            [
             0.7,
             "#b8e186"
            ],
            [
             0.8,
             "#7fbc41"
            ],
            [
             0.9,
             "#4d9221"
            ],
            [
             1,
             "#276419"
            ]
           ],
           "sequential": [
            [
             0,
             "#0d0887"
            ],
            [
             0.1111111111111111,
             "#46039f"
            ],
            [
             0.2222222222222222,
             "#7201a8"
            ],
            [
             0.3333333333333333,
             "#9c179e"
            ],
            [
             0.4444444444444444,
             "#bd3786"
            ],
            [
             0.5555555555555556,
             "#d8576b"
            ],
            [
             0.6666666666666666,
             "#ed7953"
            ],
            [
             0.7777777777777778,
             "#fb9f3a"
            ],
            [
             0.8888888888888888,
             "#fdca26"
            ],
            [
             1,
             "#f0f921"
            ]
           ],
           "sequentialminus": [
            [
             0,
             "#0d0887"
            ],
            [
             0.1111111111111111,
             "#46039f"
            ],
            [
             0.2222222222222222,
             "#7201a8"
            ],
            [
             0.3333333333333333,
             "#9c179e"
            ],
            [
             0.4444444444444444,
             "#bd3786"
            ],
            [
             0.5555555555555556,
             "#d8576b"
            ],
            [
             0.6666666666666666,
             "#ed7953"
            ],
            [
             0.7777777777777778,
             "#fb9f3a"
            ],
            [
             0.8888888888888888,
             "#fdca26"
            ],
            [
             1,
             "#f0f921"
            ]
           ]
          },
          "colorway": [
           "#636efa",
           "#EF553B",
           "#00cc96",
           "#ab63fa",
           "#FFA15A",
           "#19d3f3",
           "#FF6692",
           "#B6E880",
           "#FF97FF",
           "#FECB52"
          ],
          "font": {
           "color": "#2a3f5f"
          },
          "geo": {
           "bgcolor": "white",
           "lakecolor": "white",
           "landcolor": "#E5ECF6",
           "showlakes": true,
           "showland": true,
           "subunitcolor": "white"
          },
          "hoverlabel": {
           "align": "left"
          },
          "hovermode": "closest",
          "mapbox": {
           "style": "light"
          },
          "paper_bgcolor": "white",
          "plot_bgcolor": "#E5ECF6",
          "polar": {
           "angularaxis": {
            "gridcolor": "white",
            "linecolor": "white",
            "ticks": ""
           },
           "bgcolor": "#E5ECF6",
           "radialaxis": {
            "gridcolor": "white",
            "linecolor": "white",
            "ticks": ""
           }
          },
          "scene": {
           "xaxis": {
            "backgroundcolor": "#E5ECF6",
            "gridcolor": "white",
            "gridwidth": 2,
            "linecolor": "white",
            "showbackground": true,
            "ticks": "",
            "zerolinecolor": "white"
           },
           "yaxis": {
            "backgroundcolor": "#E5ECF6",
            "gridcolor": "white",
            "gridwidth": 2,
            "linecolor": "white",
            "showbackground": true,
            "ticks": "",
            "zerolinecolor": "white"
           },
           "zaxis": {
            "backgroundcolor": "#E5ECF6",
            "gridcolor": "white",
            "gridwidth": 2,
            "linecolor": "white",
            "showbackground": true,
            "ticks": "",
            "zerolinecolor": "white"
           }
          },
          "shapedefaults": {
           "line": {
            "color": "#2a3f5f"
           }
          },
          "ternary": {
           "aaxis": {
            "gridcolor": "white",
            "linecolor": "white",
            "ticks": ""
           },
           "baxis": {
            "gridcolor": "white",
            "linecolor": "white",
            "ticks": ""
           },
           "bgcolor": "#E5ECF6",
           "caxis": {
            "gridcolor": "white",
            "linecolor": "white",
            "ticks": ""
           }
          },
          "title": {
           "x": 0.05
          },
          "xaxis": {
           "automargin": true,
           "gridcolor": "white",
           "linecolor": "white",
           "ticks": "",
           "title": {
            "standoff": 15
           },
           "zerolinecolor": "white",
           "zerolinewidth": 2
          },
          "yaxis": {
           "automargin": true,
           "gridcolor": "white",
           "linecolor": "white",
           "ticks": "",
           "title": {
            "standoff": 15
           },
           "zerolinecolor": "white",
           "zerolinewidth": 2
          }
         }
        },
        "title": {
         "text": "deaths_ratio by gdp and risky age"
        },
        "xaxis": {
         "anchor": "y",
         "domain": [
          0,
          1
         ],
         "title": {
          "text": "Poverty %"
         },
         "type": "log"
        },
        "yaxis": {
         "anchor": "x",
         "domain": [
          0,
          1
         ],
         "title": {
          "text": "risky_age"
         }
        }
       }
      }
     },
     "metadata": {}
    }
   ],
   "source": [
    "fig = px.scatter(covid_groupby, x=\"Poverty %\", y=\"risky_age\", size=\"deaths_ratio\", color=\"continent\",\n",
    "           hover_name=\"country\",log_x=True, size_max=40, title=\"deaths_ratio by gdp and risky age\")\n",
    "fig.show()"
   ]
  },
  {
   "cell_type": "code",
   "execution_count": 50,
   "metadata": {},
   "outputs": [
    {
     "output_type": "display_data",
     "data": {
      "application/vnd.plotly.v1+json": {
       "config": {
        "plotlyServerURL": "https://plot.ly"
       },
       "data": [
        {
         "hovertemplate": "<b>%{hovertext}</b><br><br>continent=Asia<br>gdp_per_capita=%{x}<br>hospital_beds_per_thousand=%{y}<br>deaths_ratio=%{marker.size}<extra></extra>",
         "hovertext": [
          "Afghanistan",
          "Armenia",
          "Azerbaijan",
          "Bahrain",
          "Bangladesh",
          "Bhutan",
          "Brunei",
          "Cambodia",
          "China",
          "Georgia",
          "India",
          "Indonesia",
          "Iran",
          "Iraq",
          "Israel",
          "Japan",
          "Jordan",
          "Kazakhstan",
          "Kuwait",
          "Kyrgyzstan",
          "Laos",
          "Lebanon",
          "Malaysia",
          "Mongolia",
          "Myanmar",
          "Nepal",
          "Oman",
          "Pakistan",
          "Philippines",
          "Qatar",
          "Saudi Arabia",
          "Singapore",
          "South Korea",
          "Sri Lanka",
          "Tajikistan",
          "Thailand",
          "Timor",
          "Turkey",
          "United Arab Emirates",
          "Uzbekistan",
          "Vietnam",
          "Yemen"
         ],
         "legendgroup": "Asia",
         "marker": {
          "color": "#636efa",
          "size": [
           4.310628496215861,
           1.9652797561714577,
           1.4520669728848719,
           0.374039232559504,
           1.5612514048194095,
           0.07639419404125286,
           1.293103448275862,
           0.6815500895626719,
           4.714741594022416,
           1.3533228452567523,
           1.110936358291566,
           2.7729188951110553,
           2.78950786406492,
           1.3975350233837978,
           0.7617077411290005,
           1.7005317853782793,
           1.2795416501475705,
           0.8137235444200277,
           0.5794109832614605,
           1.701562902363172,
           0.11855364552459988,
           1.424087789858989,
           0.4159183681983059,
           0.453102856344438,
           2.2447967246787908,
           1.1455391507217045,
           1.0714165004900802,
           2.2406182011862095,
           1.6781186221616995,
           0.25063711393233734,
           1.6523112358543264,
           0.050283044881672644,
           1.4325209221478823,
           0.6871107500676956,
           0.6762849413886384,
           0.5715292149178812,
           0.2098635886673662,
           0.8791931487298824,
           0.29835186565600047,
           0.6922981827172704,
           0.8200354609929078,
           19.69328879441239
          ],
          "sizemode": "area",
          "sizeref": 0.012308305496507743,
          "symbol": "circle"
         },
         "mode": "markers",
         "name": "Asia",
         "orientation": "v",
         "showlegend": true,
         "type": "scatter",
         "x": [
          1803.987,
          8787.58,
          15847.419,
          43290.705,
          3523.984,
          8708.597,
          71809.251,
          3645.07,
          15308.712,
          9745.079,
          6426.674,
          11188.744,
          19082.62,
          15663.986,
          33132.32,
          39002.223,
          8337.49,
          24055.588,
          65530.537,
          3393.474,
          6397.36,
          13367.565,
          26808.164,
          11840.846,
          5591.597,
          2442.804,
          37960.709,
          5034.708,
          7599.188,
          116935.6,
          49045.411,
          85535.383,
          35938.374,
          11669.077,
          2896.913,
          16277.671,
          6570.102,
          25129.341,
          67293.483,
          6253.104,
          6171.884,
          1479.147
         ],
         "xaxis": "x",
         "y": [
          0.5,
          4.2,
          4.7,
          2,
          0.8,
          1.7,
          2.7,
          0.8,
          4.34,
          2.6,
          0.53,
          1.04,
          1.5,
          1.4,
          2.99,
          13.05,
          1.4,
          6.7,
          2,
          4.5,
          1.5,
          2.9,
          1.9,
          7,
          0.9,
          0.3,
          1.6,
          0.6,
          1,
          1.2,
          2.7,
          2.4,
          12.27,
          3.6,
          4.8,
          2.1,
          5.9,
          2.81,
          1.2,
          4,
          2.6,
          0.7
         ],
         "yaxis": "y"
        },
        {
         "hovertemplate": "<b>%{hovertext}</b><br><br>continent=Europe<br>gdp_per_capita=%{x}<br>hospital_beds_per_thousand=%{y}<br>deaths_ratio=%{marker.size}<extra></extra>",
         "hovertext": [
          "Albania",
          "Austria",
          "Belarus",
          "Belgium",
          "Bosnia and Herzegovina",
          "Bulgaria",
          "Croatia",
          "Cyprus",
          "Czechia",
          "Denmark",
          "Estonia",
          "Finland",
          "France",
          "Germany",
          "Greece",
          "Hungary",
          "Iceland",
          "Ireland",
          "Italy",
          "Latvia",
          "Lithuania",
          "Luxembourg",
          "Malta",
          "Moldova",
          "Montenegro",
          "Netherlands",
          "North Macedonia",
          "Norway",
          "Poland",
          "Portugal",
          "Romania",
          "Russia",
          "Slovakia",
          "Slovenia",
          "Spain",
          "Sweden",
          "Switzerland",
          "Ukraine",
          "United Kingdom"
         ],
         "legendgroup": "Europe",
         "marker": {
          "color": "#EF553B",
          "size": [
           1.8444624482286045,
           1.6452115865267842,
           0.7184898246948201,
           2.391868670956419,
           4.475144936474652,
           4.184423802025397,
           2.212269620538067,
           0.487408610885459,
           1.8094943897996578,
           0.9310073023096714,
           0.9639215686274509,
           1.032102480143366,
           1.8155770033289185,
           2.3969439386531026,
           3.025184516846506,
           3.6644116377017477,
           0.4428156970529852,
           1.938635382744144,
           2.987671060288815,
           1.7717269675494216,
           1.546505744110647,
           1.1669723710625515,
           1.3678409761857901,
           2.378431565482633,
           1.5802608845015207,
           1.0862298237493846,
           3.3797576290018347,
           0.6460013020181281,
           2.5173928322909536,
           2.0184701109559344,
           2.7644710206790113,
           2.3386883683823387,
           3.1575799449331257,
           1.7337478643251267,
           2.1962800647983007,
           1.3657160483334176,
           1.5733099209833186,
           2.2746177469352995,
           2.8633915635877334
          ],
          "sizemode": "area",
          "sizeref": 0.012308305496507743,
          "symbol": "circle"
         },
         "mode": "markers",
         "name": "Europe",
         "orientation": "v",
         "showlegend": true,
         "type": "scatter",
         "x": [
          11803.431,
          45436.686,
          17167.967,
          42658.576,
          11713.895,
          18563.307,
          22669.797,
          32415.132,
          32605.906,
          46682.515,
          29481.252,
          40585.721,
          38605.671,
          45229.245,
          24574.382,
          26777.561,
          46482.958,
          67335.293,
          35220.084,
          25063.846,
          29524.265,
          94277.965,
          36513.323,
          5189.972,
          16409.288,
          48472.545,
          13111.214,
          64800.057,
          27216.445,
          27936.896,
          23313.199,
          24765.954,
          30155.152,
          31400.84,
          34272.36,
          46949.283,
          57410.166,
          7894.393,
          39753.244
         ],
         "xaxis": "x",
         "y": [
          2.89,
          7.37,
          11,
          5.64,
          3.5,
          7.454,
          5.54,
          3.4,
          6.63,
          2.5,
          4.69,
          3.28,
          5.98,
          8,
          4.21,
          7.02,
          2.91,
          2.96,
          3.18,
          5.57,
          6.56,
          4.51,
          4.485,
          5.8,
          3.861,
          3.32,
          4.28,
          3.6,
          6.62,
          3.39,
          6.892,
          8.05,
          5.82,
          4.5,
          2.97,
          2.22,
          4.53,
          8.8,
          2.54
         ],
         "yaxis": "y"
        },
        {
         "hovertemplate": "<b>%{hovertext}</b><br><br>continent=Africa<br>gdp_per_capita=%{x}<br>hospital_beds_per_thousand=%{y}<br>deaths_ratio=%{marker.size}<extra></extra>",
         "hovertext": [
          "Algeria",
          "Benin",
          "Botswana",
          "Burkina Faso",
          "Burundi",
          "Cameroon",
          "Cape Verde",
          "Central African Republic",
          "Comoros",
          "Djibouti",
          "Egypt",
          "Equatorial Guinea",
          "Eritrea",
          "Eswatini",
          "Ethiopia",
          "Gabon",
          "Gambia",
          "Ghana",
          "Guinea",
          "Kenya",
          "Liberia",
          "Libya",
          "Madagascar",
          "Malawi",
          "Mali",
          "Mauritius",
          "Morocco",
          "Mozambique",
          "Niger",
          "Sao Tome and Principe",
          "Seychelles",
          "South Africa",
          "Sudan",
          "Tanzania",
          "Togo",
          "Tunisia",
          "Uganda",
          "Zambia",
          "Zimbabwe"
         ],
         "legendgroup": "Africa",
         "marker": {
          "color": "#00cc96",
          "size": [
           2.695456389775087,
           1.2585669781931466,
           1.5236220472440947,
           1.2309758281110117,
           0.13783597518952445,
           1.5356003564555916,
           0.8870116156283,
           1.369472182596291,
           3.7784679089026914,
           1.3182016586643388,
           5.821153024451987,
           1.4556797504549,
           0.3609177623098737,
           3.6275303643724692,
           1.5054286783976039,
           0.6064661842820696,
           2.937720329024677,
           0.8384195309990363,
           0.6694963462127511,
           1.8198137416719877,
           3.988737681839512,
           1.7015361624508274,
           1.9193572385061746,
           3.3682918991557362,
           3.5968184697684236,
           1.3198757763975155,
           1.766520507547243,
           1.1747180251117257,
           3.590127150336574,
           1.5008576329331047,
           0.35845964768537486,
           3.420610196311131,
           7.010805698071025,
           4.12573673870334,
           0.9408399819358723,
           3.6438294452832025,
           0.8129513160959702,
           1.3651102464332037,
           4.10156756056484
          ],
          "sizemode": "area",
          "sizeref": 0.012308305496507743,
          "symbol": "circle"
         },
         "mode": "markers",
         "name": "Africa",
         "orientation": "v",
         "showlegend": true,
         "type": "scatter",
         "x": [
          13913.839,
          2064.236,
          15807.374,
          1703.102,
          702.225,
          3364.926,
          6222.554,
          661.24,
          1413.89,
          2705.406,
          10550.206,
          22604.873,
          1510.459,
          7738.975,
          1729.927,
          16562.413,
          1561.767,
          4227.63,
          1998.926,
          2993.028,
          752.788,
          17881.509,
          1416.44,
          1095.042,
          2014.306,
          20292.745,
          7485.013,
          1136.103,
          926,
          3052.714,
          26382.287,
          12294.876,
          4466.507,
          2683.304,
          1429.813,
          10849.297,
          1697.707,
          3689.251,
          1899.775
         ],
         "xaxis": "x",
         "y": [
          1.9,
          0.5,
          1.8,
          0.4,
          0.8,
          1.3,
          2.1,
          1,
          2.2,
          1.4,
          1.6,
          2.1,
          0.7,
          2.1,
          0.3,
          6.3,
          1.1,
          0.9,
          0.3,
          1.4,
          0.8,
          3.7,
          0.2,
          1.3,
          0.1,
          3.4,
          1.1,
          0.7,
          0.3,
          2.9,
          3.6,
          2.32,
          0.8,
          0.7,
          0.7,
          2.3,
          0.5,
          2,
          1.7
         ],
         "yaxis": "y"
        },
        {
         "hovertemplate": "<b>%{hovertext}</b><br><br>continent=North America<br>gdp_per_capita=%{x}<br>hospital_beds_per_thousand=%{y}<br>deaths_ratio=%{marker.size}<extra></extra>",
         "hovertext": [
          "Antigua and Barbuda",
          "Bahamas",
          "Barbados",
          "Belize",
          "Canada",
          "Costa Rica",
          "Dominican Republic",
          "El Salvador",
          "Grenada",
          "Guatemala",
          "Haiti",
          "Honduras",
          "Jamaica",
          "Mexico",
          "Nicaragua",
          "Panama",
          "Saint Lucia",
          "Saint Vincent and the Grenadines",
          "Trinidad and Tobago",
          "United States"
         ],
         "legendgroup": "North America",
         "marker": {
          "color": "#ab63fa",
          "size": [
           3.357314148681055,
           1.959567299166519,
           1.1832829808660623,
           2.5343271871322086,
           1.8571663114384476,
           1.262546404509831,
           1.2913347382327705,
           3.0708319926132153,
           0.6211180124223602,
           3.2592757348095427,
           2.026627218934911,
           2.636593410925721,
           1.849238610754228,
           9.253610964857858,
           2.5719449464757407,
           1.694988215796214,
           1.5807842332169986,
           0.6185567010309279,
           1.8483965014577262,
           1.7795954466741568
          ],
          "sizemode": "area",
          "sizeref": 0.012308305496507743,
          "symbol": "circle"
         },
         "mode": "markers",
         "name": "North America",
         "orientation": "v",
         "showlegend": true,
         "type": "scatter",
         "x": [
          21490.943,
          27717.847,
          16978.068,
          7824.362,
          44017.591,
          15524.995,
          14600.861,
          7292.458,
          13593.877,
          7423.808,
          1653.173,
          4541.795,
          8193.571,
          17336.469,
          5321.444,
          22267.037,
          12951.839,
          10727.146,
          28763.071,
          54225.446
         ],
         "xaxis": "x",
         "y": [
          3.8,
          2.9,
          5.8,
          1.3,
          2.5,
          1.13,
          1.6,
          1.3,
          3.7,
          0.6,
          0.7,
          0.7,
          1.7,
          1.38,
          0.9,
          2.3,
          1.3,
          2.6,
          3,
          2.77
         ],
         "yaxis": "y"
        },
        {
         "hovertemplate": "<b>%{hovertext}</b><br><br>continent=South America<br>gdp_per_capita=%{x}<br>hospital_beds_per_thousand=%{y}<br>deaths_ratio=%{marker.size}<extra></extra>",
         "hovertext": [
          "Argentina",
          "Bolivia",
          "Brazil",
          "Chile",
          "Colombia",
          "Ecuador",
          "Guyana",
          "Paraguay",
          "Peru",
          "Suriname",
          "Uruguay",
          "Venezuela"
         ],
         "legendgroup": "South America",
         "marker": {
          "color": "#FFA15A",
          "size": [
           2.128750695534461,
           4.0516808830908175,
           2.7906602471417106,
           2.1580229993625863,
           2.616942917374108,
           4.830775811367161,
           2.23243173288469,
           2.451524111471763,
           3.510791017327106,
           1.942698555219982,
           1.454317836326242,
           1.1157934403477894
          ],
          "sizemode": "area",
          "sizeref": 0.012308305496507743,
          "symbol": "circle"
         },
         "mode": "markers",
         "name": "South America",
         "orientation": "v",
         "showlegend": true,
         "type": "scatter",
         "x": [
          18933.907,
          6885.829,
          14103.452,
          22767.037,
          13254.949,
          10581.936,
          7435.047,
          8827.01,
          12236.706,
          13767.119,
          20551.409,
          16745.022
         ],
         "xaxis": "x",
         "y": [
          5,
          1.1,
          2.2,
          2.11,
          1.71,
          1.5,
          1.6,
          1.3,
          1.6,
          3.1,
          2.8,
          0.8
         ],
         "yaxis": "y"
        },
        {
         "hovertemplate": "<b>%{hovertext}</b><br><br>continent=Oceania<br>gdp_per_capita=%{x}<br>hospital_beds_per_thousand=%{y}<br>deaths_ratio=%{marker.size}<extra></extra>",
         "hovertext": [
          "Australia",
          "Fiji",
          "New Zealand"
         ],
         "legendgroup": "Oceania",
         "marker": {
          "color": "#19d3f3",
          "size": [
           3.034142437983462,
           2.247191011235955,
           0.9781790820165538
          ],
          "sizemode": "area",
          "sizeref": 0.012308305496507743,
          "symbol": "circle"
         },
         "mode": "markers",
         "name": "Oceania",
         "orientation": "v",
         "showlegend": true,
         "type": "scatter",
         "x": [
          44648.71,
          8702.975,
          36085.843
         ],
         "xaxis": "x",
         "y": [
          3.84,
          2.3,
          2.61
         ],
         "yaxis": "y"
        }
       ],
       "layout": {
        "legend": {
         "itemsizing": "constant",
         "title": {
          "text": "continent"
         },
         "tracegroupgap": 0
        },
        "margin": {
         "t": 60
        },
        "template": {
         "data": {
          "bar": [
           {
            "error_x": {
             "color": "#2a3f5f"
            },
            "error_y": {
             "color": "#2a3f5f"
            },
            "marker": {
             "line": {
              "color": "#E5ECF6",
              "width": 0.5
             }
            },
            "type": "bar"
           }
          ],
          "barpolar": [
           {
            "marker": {
             "line": {
              "color": "#E5ECF6",
              "width": 0.5
             }
            },
            "type": "barpolar"
           }
          ],
          "carpet": [
           {
            "aaxis": {
             "endlinecolor": "#2a3f5f",
             "gridcolor": "white",
             "linecolor": "white",
             "minorgridcolor": "white",
             "startlinecolor": "#2a3f5f"
            },
            "baxis": {
             "endlinecolor": "#2a3f5f",
             "gridcolor": "white",
             "linecolor": "white",
             "minorgridcolor": "white",
             "startlinecolor": "#2a3f5f"
            },
            "type": "carpet"
           }
          ],
          "choropleth": [
           {
            "colorbar": {
             "outlinewidth": 0,
             "ticks": ""
            },
            "type": "choropleth"
           }
          ],
          "contour": [
           {
            "colorbar": {
             "outlinewidth": 0,
             "ticks": ""
            },
            "colorscale": [
             [
              0,
              "#0d0887"
             ],
             [
              0.1111111111111111,
              "#46039f"
             ],
             [
              0.2222222222222222,
              "#7201a8"
             ],
             [
              0.3333333333333333,
              "#9c179e"
             ],
             [
              0.4444444444444444,
              "#bd3786"
             ],
             [
              0.5555555555555556,
              "#d8576b"
             ],
             [
              0.6666666666666666,
              "#ed7953"
             ],
             [
              0.7777777777777778,
              "#fb9f3a"
             ],
             [
              0.8888888888888888,
              "#fdca26"
             ],
             [
              1,
              "#f0f921"
             ]
            ],
            "type": "contour"
           }
          ],
          "contourcarpet": [
           {
            "colorbar": {
             "outlinewidth": 0,
             "ticks": ""
            },
            "type": "contourcarpet"
           }
          ],
          "heatmap": [
           {
            "colorbar": {
             "outlinewidth": 0,
             "ticks": ""
            },
            "colorscale": [
             [
              0,
              "#0d0887"
             ],
             [
              0.1111111111111111,
              "#46039f"
             ],
             [
              0.2222222222222222,
              "#7201a8"
             ],
             [
              0.3333333333333333,
              "#9c179e"
             ],
             [
              0.4444444444444444,
              "#bd3786"
             ],
             [
              0.5555555555555556,
              "#d8576b"
             ],
             [
              0.6666666666666666,
              "#ed7953"
             ],
             [
              0.7777777777777778,
              "#fb9f3a"
             ],
             [
              0.8888888888888888,
              "#fdca26"
             ],
             [
              1,
              "#f0f921"
             ]
            ],
            "type": "heatmap"
           }
          ],
          "heatmapgl": [
           {
            "colorbar": {
             "outlinewidth": 0,
             "ticks": ""
            },
            "colorscale": [
             [
              0,
              "#0d0887"
             ],
             [
              0.1111111111111111,
              "#46039f"
             ],
             [
              0.2222222222222222,
              "#7201a8"
             ],
             [
              0.3333333333333333,
              "#9c179e"
             ],
             [
              0.4444444444444444,
              "#bd3786"
             ],
             [
              0.5555555555555556,
              "#d8576b"
             ],
             [
              0.6666666666666666,
              "#ed7953"
             ],
             [
              0.7777777777777778,
              "#fb9f3a"
             ],
             [
              0.8888888888888888,
              "#fdca26"
             ],
             [
              1,
              "#f0f921"
             ]
            ],
            "type": "heatmapgl"
           }
          ],
          "histogram": [
           {
            "marker": {
             "colorbar": {
              "outlinewidth": 0,
              "ticks": ""
             }
            },
            "type": "histogram"
           }
          ],
          "histogram2d": [
           {
            "colorbar": {
             "outlinewidth": 0,
             "ticks": ""
            },
            "colorscale": [
             [
              0,
              "#0d0887"
             ],
             [
              0.1111111111111111,
              "#46039f"
             ],
             [
              0.2222222222222222,
              "#7201a8"
             ],
             [
              0.3333333333333333,
              "#9c179e"
             ],
             [
              0.4444444444444444,
              "#bd3786"
             ],
             [
              0.5555555555555556,
              "#d8576b"
             ],
             [
              0.6666666666666666,
              "#ed7953"
             ],
             [
              0.7777777777777778,
              "#fb9f3a"
             ],
             [
              0.8888888888888888,
              "#fdca26"
             ],
             [
              1,
              "#f0f921"
             ]
            ],
            "type": "histogram2d"
           }
          ],
          "histogram2dcontour": [
           {
            "colorbar": {
             "outlinewidth": 0,
             "ticks": ""
            },
            "colorscale": [
             [
              0,
              "#0d0887"
             ],
             [
              0.1111111111111111,
              "#46039f"
             ],
             [
              0.2222222222222222,
              "#7201a8"
             ],
             [
              0.3333333333333333,
              "#9c179e"
             ],
             [
              0.4444444444444444,
              "#bd3786"
             ],
             [
              0.5555555555555556,
              "#d8576b"
             ],
             [
              0.6666666666666666,
              "#ed7953"
             ],
             [
              0.7777777777777778,
              "#fb9f3a"
             ],
             [
              0.8888888888888888,
              "#fdca26"
             ],
             [
              1,
              "#f0f921"
             ]
            ],
            "type": "histogram2dcontour"
           }
          ],
          "mesh3d": [
           {
            "colorbar": {
             "outlinewidth": 0,
             "ticks": ""
            },
            "type": "mesh3d"
           }
          ],
          "parcoords": [
           {
            "line": {
             "colorbar": {
              "outlinewidth": 0,
              "ticks": ""
             }
            },
            "type": "parcoords"
           }
          ],
          "pie": [
           {
            "automargin": true,
            "type": "pie"
           }
          ],
          "scatter": [
           {
            "marker": {
             "colorbar": {
              "outlinewidth": 0,
              "ticks": ""
             }
            },
            "type": "scatter"
           }
          ],
          "scatter3d": [
           {
            "line": {
             "colorbar": {
              "outlinewidth": 0,
              "ticks": ""
             }
            },
            "marker": {
             "colorbar": {
              "outlinewidth": 0,
              "ticks": ""
             }
            },
            "type": "scatter3d"
           }
          ],
          "scattercarpet": [
           {
            "marker": {
             "colorbar": {
              "outlinewidth": 0,
              "ticks": ""
             }
            },
            "type": "scattercarpet"
           }
          ],
          "scattergeo": [
           {
            "marker": {
             "colorbar": {
              "outlinewidth": 0,
              "ticks": ""
             }
            },
            "type": "scattergeo"
           }
          ],
          "scattergl": [
           {
            "marker": {
             "colorbar": {
              "outlinewidth": 0,
              "ticks": ""
             }
            },
            "type": "scattergl"
           }
          ],
          "scattermapbox": [
           {
            "marker": {
             "colorbar": {
              "outlinewidth": 0,
              "ticks": ""
             }
            },
            "type": "scattermapbox"
           }
          ],
          "scatterpolar": [
           {
            "marker": {
             "colorbar": {
              "outlinewidth": 0,
              "ticks": ""
             }
            },
            "type": "scatterpolar"
           }
          ],
          "scatterpolargl": [
           {
            "marker": {
             "colorbar": {
              "outlinewidth": 0,
              "ticks": ""
             }
            },
            "type": "scatterpolargl"
           }
          ],
          "scatterternary": [
           {
            "marker": {
             "colorbar": {
              "outlinewidth": 0,
              "ticks": ""
             }
            },
            "type": "scatterternary"
           }
          ],
          "surface": [
           {
            "colorbar": {
             "outlinewidth": 0,
             "ticks": ""
            },
            "colorscale": [
             [
              0,
              "#0d0887"
             ],
             [
              0.1111111111111111,
              "#46039f"
             ],
             [
              0.2222222222222222,
              "#7201a8"
             ],
             [
              0.3333333333333333,
              "#9c179e"
             ],
             [
              0.4444444444444444,
              "#bd3786"
             ],
             [
              0.5555555555555556,
              "#d8576b"
             ],
             [
              0.6666666666666666,
              "#ed7953"
             ],
             [
              0.7777777777777778,
              "#fb9f3a"
             ],
             [
              0.8888888888888888,
              "#fdca26"
             ],
             [
              1,
              "#f0f921"
             ]
            ],
            "type": "surface"
           }
          ],
          "table": [
           {
            "cells": {
             "fill": {
              "color": "#EBF0F8"
             },
             "line": {
              "color": "white"
             }
            },
            "header": {
             "fill": {
              "color": "#C8D4E3"
             },
             "line": {
              "color": "white"
             }
            },
            "type": "table"
           }
          ]
         },
         "layout": {
          "annotationdefaults": {
           "arrowcolor": "#2a3f5f",
           "arrowhead": 0,
           "arrowwidth": 1
          },
          "autotypenumbers": "strict",
          "coloraxis": {
           "colorbar": {
            "outlinewidth": 0,
            "ticks": ""
           }
          },
          "colorscale": {
           "diverging": [
            [
             0,
             "#8e0152"
            ],
            [
             0.1,
             "#c51b7d"
            ],
            [
             0.2,
             "#de77ae"
            ],
            [
             0.3,
             "#f1b6da"
            ],
            [
             0.4,
             "#fde0ef"
            ],
            [
             0.5,
             "#f7f7f7"
            ],
            [
             0.6,
             "#e6f5d0"
            ],
            [
             0.7,
             "#b8e186"
            ],
            [
             0.8,
             "#7fbc41"
            ],
            [
             0.9,
             "#4d9221"
            ],
            [
             1,
             "#276419"
            ]
           ],
           "sequential": [
            [
             0,
             "#0d0887"
            ],
            [
             0.1111111111111111,
             "#46039f"
            ],
            [
             0.2222222222222222,
             "#7201a8"
            ],
            [
             0.3333333333333333,
             "#9c179e"
            ],
            [
             0.4444444444444444,
             "#bd3786"
            ],
            [
             0.5555555555555556,
             "#d8576b"
            ],
            [
             0.6666666666666666,
             "#ed7953"
            ],
            [
             0.7777777777777778,
             "#fb9f3a"
            ],
            [
             0.8888888888888888,
             "#fdca26"
            ],
            [
             1,
             "#f0f921"
            ]
           ],
           "sequentialminus": [
            [
             0,
             "#0d0887"
            ],
            [
             0.1111111111111111,
             "#46039f"
            ],
            [
             0.2222222222222222,
             "#7201a8"
            ],
            [
             0.3333333333333333,
             "#9c179e"
            ],
            [
             0.4444444444444444,
             "#bd3786"
            ],
            [
             0.5555555555555556,
             "#d8576b"
            ],
            [
             0.6666666666666666,
             "#ed7953"
            ],
            [
             0.7777777777777778,
             "#fb9f3a"
            ],
            [
             0.8888888888888888,
             "#fdca26"
            ],
            [
             1,
             "#f0f921"
            ]
           ]
          },
          "colorway": [
           "#636efa",
           "#EF553B",
           "#00cc96",
           "#ab63fa",
           "#FFA15A",
           "#19d3f3",
           "#FF6692",
           "#B6E880",
           "#FF97FF",
           "#FECB52"
          ],
          "font": {
           "color": "#2a3f5f"
          },
          "geo": {
           "bgcolor": "white",
           "lakecolor": "white",
           "landcolor": "#E5ECF6",
           "showlakes": true,
           "showland": true,
           "subunitcolor": "white"
          },
          "hoverlabel": {
           "align": "left"
          },
          "hovermode": "closest",
          "mapbox": {
           "style": "light"
          },
          "paper_bgcolor": "white",
          "plot_bgcolor": "#E5ECF6",
          "polar": {
           "angularaxis": {
            "gridcolor": "white",
            "linecolor": "white",
            "ticks": ""
           },
           "bgcolor": "#E5ECF6",
           "radialaxis": {
            "gridcolor": "white",
            "linecolor": "white",
            "ticks": ""
           }
          },
          "scene": {
           "xaxis": {
            "backgroundcolor": "#E5ECF6",
            "gridcolor": "white",
            "gridwidth": 2,
            "linecolor": "white",
            "showbackground": true,
            "ticks": "",
            "zerolinecolor": "white"
           },
           "yaxis": {
            "backgroundcolor": "#E5ECF6",
            "gridcolor": "white",
            "gridwidth": 2,
            "linecolor": "white",
            "showbackground": true,
            "ticks": "",
            "zerolinecolor": "white"
           },
           "zaxis": {
            "backgroundcolor": "#E5ECF6",
            "gridcolor": "white",
            "gridwidth": 2,
            "linecolor": "white",
            "showbackground": true,
            "ticks": "",
            "zerolinecolor": "white"
           }
          },
          "shapedefaults": {
           "line": {
            "color": "#2a3f5f"
           }
          },
          "ternary": {
           "aaxis": {
            "gridcolor": "white",
            "linecolor": "white",
            "ticks": ""
           },
           "baxis": {
            "gridcolor": "white",
            "linecolor": "white",
            "ticks": ""
           },
           "bgcolor": "#E5ECF6",
           "caxis": {
            "gridcolor": "white",
            "linecolor": "white",
            "ticks": ""
           }
          },
          "title": {
           "x": 0.05
          },
          "xaxis": {
           "automargin": true,
           "gridcolor": "white",
           "linecolor": "white",
           "ticks": "",
           "title": {
            "standoff": 15
           },
           "zerolinecolor": "white",
           "zerolinewidth": 2
          },
          "yaxis": {
           "automargin": true,
           "gridcolor": "white",
           "linecolor": "white",
           "ticks": "",
           "title": {
            "standoff": 15
           },
           "zerolinecolor": "white",
           "zerolinewidth": 2
          }
         }
        },
        "xaxis": {
         "anchor": "y",
         "domain": [
          0,
          1
         ],
         "title": {
          "text": "gdp_per_capita"
         },
         "type": "log"
        },
        "yaxis": {
         "anchor": "x",
         "domain": [
          0,
          1
         ],
         "title": {
          "text": "hospital_beds_per_thousand"
         }
        }
       }
      }
     },
     "metadata": {}
    }
   ],
   "source": [
    "fig = px.scatter(covid_groupby, x=\"gdp_per_capita\", y=\"hospital_beds_per_thousand\", size=\"deaths_ratio\", color=\"continent\",\n",
    "           hover_name=\"country\",log_x=True, size_max=40)\n",
    "fig.show()"
   ]
  },
  {
   "cell_type": "code",
   "execution_count": 63,
   "metadata": {},
   "outputs": [
    {
     "output_type": "display_data",
     "data": {
      "application/vnd.plotly.v1+json": {
       "config": {
        "plotlyServerURL": "https://plot.ly"
       },
       "data": [
        {
         "hovertemplate": "<b>%{hovertext}</b><br><br>continent=Asia<br>Poverty %=%{x}<br>hospital_beds_per_thousand=%{y}<br>deaths_ratio=%{marker.size}<extra></extra>",
         "hovertext": [
          "Afghanistan",
          "Armenia",
          "Azerbaijan",
          "Bahrain",
          "Bangladesh",
          "Bhutan",
          "Brunei",
          "Cambodia",
          "China",
          "Georgia",
          "India",
          "Indonesia",
          "Iran",
          "Iraq",
          "Israel",
          "Japan",
          "Jordan",
          "Kazakhstan",
          "Kuwait",
          "Kyrgyzstan",
          "Laos",
          "Lebanon",
          "Malaysia",
          "Mongolia",
          "Myanmar",
          "Nepal",
          "Oman",
          "Pakistan",
          "Philippines",
          "Qatar",
          "Saudi Arabia",
          "Singapore",
          "South Korea",
          "Sri Lanka",
          "Tajikistan",
          "Thailand",
          "Timor",
          "Turkey",
          "United Arab Emirates",
          "Uzbekistan",
          "Vietnam",
          "Yemen"
         ],
         "legendgroup": "Asia",
         "marker": {
          "color": "#636efa",
          "size": [
           4.310628496215861,
           1.9652797561714577,
           1.4520669728848719,
           0.374039232559504,
           1.5612514048194095,
           0.07639419404125286,
           1.293103448275862,
           0.6815500895626719,
           4.714741594022416,
           1.3533228452567523,
           1.110936358291566,
           2.7729188951110553,
           2.78950786406492,
           1.3975350233837978,
           0.7617077411290005,
           1.7005317853782793,
           1.2795416501475705,
           0.8137235444200277,
           0.5794109832614605,
           1.701562902363172,
           0.11855364552459988,
           1.424087789858989,
           0.4159183681983059,
           0.453102856344438,
           2.2447967246787908,
           1.1455391507217045,
           1.0714165004900802,
           2.2406182011862095,
           1.6781186221616995,
           0.25063711393233734,
           1.6523112358543264,
           0.050283044881672644,
           1.4325209221478823,
           0.6871107500676956,
           0.6762849413886384,
           0.5715292149178812,
           0.2098635886673662,
           0.8791931487298824,
           0.29835186565600047,
           0.6922981827172704,
           0.8200354609929078,
           19.69328879441239
          ],
          "sizemode": "area",
          "sizeref": 0.012308305496507743,
          "symbol": "circle"
         },
         "mode": "markers",
         "name": "Asia",
         "orientation": "v",
         "showlegend": true,
         "type": "scatter",
         "x": [
          0,
          2.4,
          0,
          0,
          14.11,
          1.8,
          0,
          0,
          0.5,
          4.8,
          21.5,
          4.9,
          0,
          2.8,
          0.2,
          0.7,
          0.1,
          0,
          0,
          0.9,
          0,
          0,
          0,
          0.5,
          2.3,
          15.3,
          0,
          3.12,
          6.4,
          0,
          0,
          0,
          0,
          0.8,
          4.11,
          0.3,
          30.1,
          0.1,
          0,
          0,
          1.12,
          18.11
         ],
         "xaxis": "x",
         "y": [
          0.5,
          4.2,
          4.7,
          2,
          0.8,
          1.7,
          2.7,
          0.8,
          4.34,
          2.6,
          0.53,
          1.04,
          1.5,
          1.4,
          2.99,
          13.05,
          1.4,
          6.7,
          2,
          4.5,
          1.5,
          2.9,
          1.9,
          7,
          0.9,
          0.3,
          1.6,
          0.6,
          1,
          1.2,
          2.7,
          2.4,
          12.27,
          3.6,
          4.8,
          2.1,
          5.9,
          2.81,
          1.2,
          4,
          2.6,
          0.7
         ],
         "yaxis": "y"
        },
        {
         "hovertemplate": "<b>%{hovertext}</b><br><br>continent=Europe<br>Poverty %=%{x}<br>hospital_beds_per_thousand=%{y}<br>deaths_ratio=%{marker.size}<extra></extra>",
         "hovertext": [
          "Albania",
          "Austria",
          "Belarus",
          "Belgium",
          "Bosnia and Herzegovina",
          "Bulgaria",
          "Croatia",
          "Cyprus",
          "Czechia",
          "Denmark",
          "Estonia",
          "Finland",
          "France",
          "Germany",
          "Greece",
          "Hungary",
          "Iceland",
          "Ireland",
          "Italy",
          "Latvia",
          "Lithuania",
          "Luxembourg",
          "Malta",
          "Moldova",
          "Montenegro",
          "Netherlands",
          "North Macedonia",
          "Norway",
          "Poland",
          "Portugal",
          "Romania",
          "Russia",
          "Slovakia",
          "Slovenia",
          "Spain",
          "Sweden",
          "Switzerland",
          "Ukraine",
          "United Kingdom"
         ],
         "legendgroup": "Europe",
         "marker": {
          "color": "#EF553B",
          "size": [
           1.8444624482286045,
           1.6452115865267842,
           0.7184898246948201,
           2.391868670956419,
           4.475144936474652,
           4.184423802025397,
           2.212269620538067,
           0.487408610885459,
           1.8094943897996578,
           0.9310073023096714,
           0.9639215686274509,
           1.032102480143366,
           1.8155770033289185,
           2.3969439386531026,
           3.025184516846506,
           3.6644116377017477,
           0.4428156970529852,
           1.938635382744144,
           2.987671060288815,
           1.7717269675494216,
           1.546505744110647,
           1.1669723710625515,
           1.3678409761857901,
           2.378431565482633,
           1.5802608845015207,
           1.0862298237493846,
           3.3797576290018347,
           0.6460013020181281,
           2.5173928322909536,
           2.0184701109559344,
           2.7644710206790113,
           2.3386883683823387,
           3.1575799449331257,
           1.7337478643251267,
           2.1962800647983007,
           1.3657160483334176,
           1.5733099209833186,
           2.2746177469352995,
           2.8633915635877334
          ],
          "sizemode": "area",
          "sizeref": 0.012308305496507743,
          "symbol": "circle"
         },
         "mode": "markers",
         "name": "Europe",
         "orientation": "v",
         "showlegend": true,
         "type": "scatter",
         "x": [
          1.1,
          0.3,
          0,
          0.1,
          0.4,
          1.6,
          0.5,
          0,
          0,
          0.4,
          0.6,
          0.1,
          0,
          0.3,
          0.12,
          0.6,
          0,
          0.1,
          1.7,
          0.8,
          1.3,
          0.6,
          0.5,
          0,
          1.7,
          0.5,
          4.7,
          0.5,
          0.3,
          0.4,
          3.8,
          0.3,
          1.7,
          0.3,
          0.7,
          0.2,
          0,
          0,
          0.2
         ],
         "xaxis": "x",
         "y": [
          2.89,
          7.37,
          11,
          5.64,
          3.5,
          7.454,
          5.54,
          3.4,
          6.63,
          2.5,
          4.69,
          3.28,
          5.98,
          8,
          4.21,
          7.02,
          2.91,
          2.96,
          3.18,
          5.57,
          6.56,
          4.51,
          4.485,
          5.8,
          3.861,
          3.32,
          4.28,
          3.6,
          6.62,
          3.39,
          6.892,
          8.05,
          5.82,
          4.5,
          2.97,
          2.22,
          4.53,
          8.8,
          2.54
         ],
         "yaxis": "y"
        },
        {
         "hovertemplate": "<b>%{hovertext}</b><br><br>continent=Africa<br>Poverty %=%{x}<br>hospital_beds_per_thousand=%{y}<br>deaths_ratio=%{marker.size}<extra></extra>",
         "hovertext": [
          "Algeria",
          "Benin",
          "Botswana",
          "Burkina Faso",
          "Burundi",
          "Cameroon",
          "Cape Verde",
          "Central African Republic",
          "Comoros",
          "Djibouti",
          "Egypt",
          "Equatorial Guinea",
          "Eritrea",
          "Eswatini",
          "Ethiopia",
          "Gabon",
          "Gambia",
          "Ghana",
          "Guinea",
          "Kenya",
          "Liberia",
          "Libya",
          "Madagascar",
          "Malawi",
          "Mali",
          "Mauritius",
          "Morocco",
          "Mozambique",
          "Niger",
          "Sao Tome and Principe",
          "Seychelles",
          "South Africa",
          "Sudan",
          "Tanzania",
          "Togo",
          "Tunisia",
          "Uganda",
          "Zambia",
          "Zimbabwe"
         ],
         "legendgroup": "Africa",
         "marker": {
          "color": "#00cc96",
          "size": [
           2.695456389775087,
           1.2585669781931466,
           1.5236220472440947,
           1.2309758281110117,
           0.13783597518952445,
           1.5356003564555916,
           0.8870116156283,
           1.369472182596291,
           3.7784679089026914,
           1.3182016586643388,
           5.821153024451987,
           1.4556797504549,
           0.3609177623098737,
           3.6275303643724692,
           1.5054286783976039,
           0.6064661842820696,
           2.937720329024677,
           0.8384195309990363,
           0.6694963462127511,
           1.8198137416719877,
           3.988737681839512,
           1.7015361624508274,
           1.9193572385061746,
           3.3682918991557362,
           3.5968184697684236,
           1.3198757763975155,
           1.766520507547243,
           1.1747180251117257,
           3.590127150336574,
           1.5008576329331047,
           0.35845964768537486,
           3.420610196311131,
           7.010805698071025,
           4.12573673870334,
           0.9408399819358723,
           3.6438294452832025,
           0.8129513160959702,
           1.3651102464332037,
           4.10156756056484
          ],
          "sizemode": "area",
          "sizeref": 0.012308305496507743,
          "symbol": "circle"
         },
         "mode": "markers",
         "name": "Africa",
         "orientation": "v",
         "showlegend": true,
         "type": "scatter",
         "x": [
          0.8,
          49.8,
          16.4,
          43.1,
          71.11,
          23.11,
          0,
          66.6,
          17.9,
          17.4,
          3.2,
          0,
          0,
          0,
          30.11,
          3.7,
          10.4,
          13.6,
          35.6,
          36.11,
          40.12,
          0,
          77.9,
          70.6,
          49.1,
          0.5,
          1,
          62.12,
          44.8,
          34.8,
          1.4,
          18.12,
          12.1,
          49.4,
          49.11,
          0.2,
          41.1,
          57.8,
          33.12
         ],
         "xaxis": "x",
         "y": [
          1.9,
          0.5,
          1.8,
          0.4,
          0.8,
          1.3,
          2.1,
          1,
          2.2,
          1.4,
          1.6,
          2.1,
          0.7,
          2.1,
          0.3,
          6.3,
          1.1,
          0.9,
          0.3,
          1.4,
          0.8,
          3.7,
          0.2,
          1.3,
          0.1,
          3.4,
          1.1,
          0.7,
          0.3,
          2.9,
          3.6,
          2.32,
          0.8,
          0.7,
          0.7,
          2.3,
          0.5,
          2,
          1.7
         ],
         "yaxis": "y"
        },
        {
         "hovertemplate": "<b>%{hovertext}</b><br><br>continent=North America<br>Poverty %=%{x}<br>hospital_beds_per_thousand=%{y}<br>deaths_ratio=%{marker.size}<extra></extra>",
         "hovertext": [
          "Antigua and Barbuda",
          "Bahamas",
          "Barbados",
          "Belize",
          "Canada",
          "Costa Rica",
          "Dominican Republic",
          "El Salvador",
          "Grenada",
          "Guatemala",
          "Haiti",
          "Honduras",
          "Jamaica",
          "Mexico",
          "Nicaragua",
          "Panama",
          "Saint Lucia",
          "Saint Vincent and the Grenadines",
          "Trinidad and Tobago",
          "United States"
         ],
         "legendgroup": "North America",
         "marker": {
          "color": "#ab63fa",
          "size": [
           3.357314148681055,
           1.959567299166519,
           1.1832829808660623,
           2.5343271871322086,
           1.8571663114384476,
           1.262546404509831,
           1.2913347382327705,
           3.0708319926132153,
           0.6211180124223602,
           3.2592757348095427,
           2.026627218934911,
           2.636593410925721,
           1.849238610754228,
           9.253610964857858,
           2.5719449464757407,
           1.694988215796214,
           1.5807842332169986,
           0.6185567010309279,
           1.8483965014577262,
           1.7795954466741568
          ],
          "sizemode": "area",
          "sizeref": 0.012308305496507743,
          "symbol": "circle"
         },
         "mode": "markers",
         "name": "North America",
         "orientation": "v",
         "showlegend": true,
         "type": "scatter",
         "x": [
          0,
          0,
          0,
          0,
          0.8,
          1.7,
          0.7,
          1.8,
          0,
          8.1,
          24.5,
          16.8,
          0,
          1.1,
          3.5,
          1.7,
          4.1,
          0,
          0,
          1.5
         ],
         "xaxis": "x",
         "y": [
          3.8,
          2.9,
          5.8,
          1.3,
          2.5,
          1.13,
          1.6,
          1.3,
          3.7,
          0.6,
          0.7,
          0.7,
          1.7,
          1.38,
          0.9,
          2.3,
          1.3,
          2.6,
          3,
          2.77
         ],
         "yaxis": "y"
        },
        {
         "hovertemplate": "<b>%{hovertext}</b><br><br>continent=South America<br>Poverty %=%{x}<br>hospital_beds_per_thousand=%{y}<br>deaths_ratio=%{marker.size}<extra></extra>",
         "hovertext": [
          "Argentina",
          "Bolivia",
          "Brazil",
          "Chile",
          "Colombia",
          "Ecuador",
          "Guyana",
          "Paraguay",
          "Peru",
          "Suriname",
          "Uruguay",
          "Venezuela"
         ],
         "legendgroup": "South America",
         "marker": {
          "color": "#FFA15A",
          "size": [
           2.128750695534461,
           4.0516808830908175,
           2.7906602471417106,
           2.1580229993625863,
           2.616942917374108,
           4.830775811367161,
           2.23243173288469,
           2.451524111471763,
           3.510791017327106,
           1.942698555219982,
           1.454317836326242,
           1.1157934403477894
          ],
          "sizemode": "area",
          "sizeref": 0.012308305496507743,
          "symbol": "circle"
         },
         "mode": "markers",
         "name": "South America",
         "orientation": "v",
         "showlegend": true,
         "type": "scatter",
         "x": [
          1.3,
          0,
          4.7,
          0.3,
          4.4,
          3.3,
          0,
          1.9,
          2.9,
          0,
          0.4,
          0
         ],
         "xaxis": "x",
         "y": [
          5,
          1.1,
          2.2,
          2.11,
          1.71,
          1.5,
          1.6,
          1.3,
          1.6,
          3.1,
          2.8,
          0.8
         ],
         "yaxis": "y"
        },
        {
         "hovertemplate": "<b>%{hovertext}</b><br><br>continent=Oceania<br>Poverty %=%{x}<br>hospital_beds_per_thousand=%{y}<br>deaths_ratio=%{marker.size}<extra></extra>",
         "hovertext": [
          "Australia",
          "Fiji",
          "New Zealand"
         ],
         "legendgroup": "Oceania",
         "marker": {
          "color": "#19d3f3",
          "size": [
           3.034142437983462,
           2.247191011235955,
           0.9781790820165538
          ],
          "sizemode": "area",
          "sizeref": 0.012308305496507743,
          "symbol": "circle"
         },
         "mode": "markers",
         "name": "Oceania",
         "orientation": "v",
         "showlegend": true,
         "type": "scatter",
         "x": [
          0.5,
          1.7,
          0
         ],
         "xaxis": "x",
         "y": [
          3.84,
          2.3,
          2.61
         ],
         "yaxis": "y"
        }
       ],
       "layout": {
        "legend": {
         "itemsizing": "constant",
         "title": {
          "text": "continent"
         },
         "tracegroupgap": 0
        },
        "margin": {
         "t": 60
        },
        "template": {
         "data": {
          "bar": [
           {
            "error_x": {
             "color": "#2a3f5f"
            },
            "error_y": {
             "color": "#2a3f5f"
            },
            "marker": {
             "line": {
              "color": "#E5ECF6",
              "width": 0.5
             }
            },
            "type": "bar"
           }
          ],
          "barpolar": [
           {
            "marker": {
             "line": {
              "color": "#E5ECF6",
              "width": 0.5
             }
            },
            "type": "barpolar"
           }
          ],
          "carpet": [
           {
            "aaxis": {
             "endlinecolor": "#2a3f5f",
             "gridcolor": "white",
             "linecolor": "white",
             "minorgridcolor": "white",
             "startlinecolor": "#2a3f5f"
            },
            "baxis": {
             "endlinecolor": "#2a3f5f",
             "gridcolor": "white",
             "linecolor": "white",
             "minorgridcolor": "white",
             "startlinecolor": "#2a3f5f"
            },
            "type": "carpet"
           }
          ],
          "choropleth": [
           {
            "colorbar": {
             "outlinewidth": 0,
             "ticks": ""
            },
            "type": "choropleth"
           }
          ],
          "contour": [
           {
            "colorbar": {
             "outlinewidth": 0,
             "ticks": ""
            },
            "colorscale": [
             [
              0,
              "#0d0887"
             ],
             [
              0.1111111111111111,
              "#46039f"
             ],
             [
              0.2222222222222222,
              "#7201a8"
             ],
             [
              0.3333333333333333,
              "#9c179e"
             ],
             [
              0.4444444444444444,
              "#bd3786"
             ],
             [
              0.5555555555555556,
              "#d8576b"
             ],
             [
              0.6666666666666666,
              "#ed7953"
             ],
             [
              0.7777777777777778,
              "#fb9f3a"
             ],
             [
              0.8888888888888888,
              "#fdca26"
             ],
             [
              1,
              "#f0f921"
             ]
            ],
            "type": "contour"
           }
          ],
          "contourcarpet": [
           {
            "colorbar": {
             "outlinewidth": 0,
             "ticks": ""
            },
            "type": "contourcarpet"
           }
          ],
          "heatmap": [
           {
            "colorbar": {
             "outlinewidth": 0,
             "ticks": ""
            },
            "colorscale": [
             [
              0,
              "#0d0887"
             ],
             [
              0.1111111111111111,
              "#46039f"
             ],
             [
              0.2222222222222222,
              "#7201a8"
             ],
             [
              0.3333333333333333,
              "#9c179e"
             ],
             [
              0.4444444444444444,
              "#bd3786"
             ],
             [
              0.5555555555555556,
              "#d8576b"
             ],
             [
              0.6666666666666666,
              "#ed7953"
             ],
             [
              0.7777777777777778,
              "#fb9f3a"
             ],
             [
              0.8888888888888888,
              "#fdca26"
             ],
             [
              1,
              "#f0f921"
             ]
            ],
            "type": "heatmap"
           }
          ],
          "heatmapgl": [
           {
            "colorbar": {
             "outlinewidth": 0,
             "ticks": ""
            },
            "colorscale": [
             [
              0,
              "#0d0887"
             ],
             [
              0.1111111111111111,
              "#46039f"
             ],
             [
              0.2222222222222222,
              "#7201a8"
             ],
             [
              0.3333333333333333,
              "#9c179e"
             ],
             [
              0.4444444444444444,
              "#bd3786"
             ],
             [
              0.5555555555555556,
              "#d8576b"
             ],
             [
              0.6666666666666666,
              "#ed7953"
             ],
             [
              0.7777777777777778,
              "#fb9f3a"
             ],
             [
              0.8888888888888888,
              "#fdca26"
             ],
             [
              1,
              "#f0f921"
             ]
            ],
            "type": "heatmapgl"
           }
          ],
          "histogram": [
           {
            "marker": {
             "colorbar": {
              "outlinewidth": 0,
              "ticks": ""
             }
            },
            "type": "histogram"
           }
          ],
          "histogram2d": [
           {
            "colorbar": {
             "outlinewidth": 0,
             "ticks": ""
            },
            "colorscale": [
             [
              0,
              "#0d0887"
             ],
             [
              0.1111111111111111,
              "#46039f"
             ],
             [
              0.2222222222222222,
              "#7201a8"
             ],
             [
              0.3333333333333333,
              "#9c179e"
             ],
             [
              0.4444444444444444,
              "#bd3786"
             ],
             [
              0.5555555555555556,
              "#d8576b"
             ],
             [
              0.6666666666666666,
              "#ed7953"
             ],
             [
              0.7777777777777778,
              "#fb9f3a"
             ],
             [
              0.8888888888888888,
              "#fdca26"
             ],
             [
              1,
              "#f0f921"
             ]
            ],
            "type": "histogram2d"
           }
          ],
          "histogram2dcontour": [
           {
            "colorbar": {
             "outlinewidth": 0,
             "ticks": ""
            },
            "colorscale": [
             [
              0,
              "#0d0887"
             ],
             [
              0.1111111111111111,
              "#46039f"
             ],
             [
              0.2222222222222222,
              "#7201a8"
             ],
             [
              0.3333333333333333,
              "#9c179e"
             ],
             [
              0.4444444444444444,
              "#bd3786"
             ],
             [
              0.5555555555555556,
              "#d8576b"
             ],
             [
              0.6666666666666666,
              "#ed7953"
             ],
             [
              0.7777777777777778,
              "#fb9f3a"
             ],
             [
              0.8888888888888888,
              "#fdca26"
             ],
             [
              1,
              "#f0f921"
             ]
            ],
            "type": "histogram2dcontour"
           }
          ],
          "mesh3d": [
           {
            "colorbar": {
             "outlinewidth": 0,
             "ticks": ""
            },
            "type": "mesh3d"
           }
          ],
          "parcoords": [
           {
            "line": {
             "colorbar": {
              "outlinewidth": 0,
              "ticks": ""
             }
            },
            "type": "parcoords"
           }
          ],
          "pie": [
           {
            "automargin": true,
            "type": "pie"
           }
          ],
          "scatter": [
           {
            "marker": {
             "colorbar": {
              "outlinewidth": 0,
              "ticks": ""
             }
            },
            "type": "scatter"
           }
          ],
          "scatter3d": [
           {
            "line": {
             "colorbar": {
              "outlinewidth": 0,
              "ticks": ""
             }
            },
            "marker": {
             "colorbar": {
              "outlinewidth": 0,
              "ticks": ""
             }
            },
            "type": "scatter3d"
           }
          ],
          "scattercarpet": [
           {
            "marker": {
             "colorbar": {
              "outlinewidth": 0,
              "ticks": ""
             }
            },
            "type": "scattercarpet"
           }
          ],
          "scattergeo": [
           {
            "marker": {
             "colorbar": {
              "outlinewidth": 0,
              "ticks": ""
             }
            },
            "type": "scattergeo"
           }
          ],
          "scattergl": [
           {
            "marker": {
             "colorbar": {
              "outlinewidth": 0,
              "ticks": ""
             }
            },
            "type": "scattergl"
           }
          ],
          "scattermapbox": [
           {
            "marker": {
             "colorbar": {
              "outlinewidth": 0,
              "ticks": ""
             }
            },
            "type": "scattermapbox"
           }
          ],
          "scatterpolar": [
           {
            "marker": {
             "colorbar": {
              "outlinewidth": 0,
              "ticks": ""
             }
            },
            "type": "scatterpolar"
           }
          ],
          "scatterpolargl": [
           {
            "marker": {
             "colorbar": {
              "outlinewidth": 0,
              "ticks": ""
             }
            },
            "type": "scatterpolargl"
           }
          ],
          "scatterternary": [
           {
            "marker": {
             "colorbar": {
              "outlinewidth": 0,
              "ticks": ""
             }
            },
            "type": "scatterternary"
           }
          ],
          "surface": [
           {
            "colorbar": {
             "outlinewidth": 0,
             "ticks": ""
            },
            "colorscale": [
             [
              0,
              "#0d0887"
             ],
             [
              0.1111111111111111,
              "#46039f"
             ],
             [
              0.2222222222222222,
              "#7201a8"
             ],
             [
              0.3333333333333333,
              "#9c179e"
             ],
             [
              0.4444444444444444,
              "#bd3786"
             ],
             [
              0.5555555555555556,
              "#d8576b"
             ],
             [
              0.6666666666666666,
              "#ed7953"
             ],
             [
              0.7777777777777778,
              "#fb9f3a"
             ],
             [
              0.8888888888888888,
              "#fdca26"
             ],
             [
              1,
              "#f0f921"
             ]
            ],
            "type": "surface"
           }
          ],
          "table": [
           {
            "cells": {
             "fill": {
              "color": "#EBF0F8"
             },
             "line": {
              "color": "white"
             }
            },
            "header": {
             "fill": {
              "color": "#C8D4E3"
             },
             "line": {
              "color": "white"
             }
            },
            "type": "table"
           }
          ]
         },
         "layout": {
          "annotationdefaults": {
           "arrowcolor": "#2a3f5f",
           "arrowhead": 0,
           "arrowwidth": 1
          },
          "autotypenumbers": "strict",
          "coloraxis": {
           "colorbar": {
            "outlinewidth": 0,
            "ticks": ""
           }
          },
          "colorscale": {
           "diverging": [
            [
             0,
             "#8e0152"
            ],
            [
             0.1,
             "#c51b7d"
            ],
            [
             0.2,
             "#de77ae"
            ],
            [
             0.3,
             "#f1b6da"
            ],
            [
             0.4,
             "#fde0ef"
            ],
            [
             0.5,
             "#f7f7f7"
            ],
            [
             0.6,
             "#e6f5d0"
            ],
            [
             0.7,
             "#b8e186"
            ],
            [
             0.8,
             "#7fbc41"
            ],
            [
             0.9,
             "#4d9221"
            ],
            [
             1,
             "#276419"
            ]
           ],
           "sequential": [
            [
             0,
             "#0d0887"
            ],
            [
             0.1111111111111111,
             "#46039f"
            ],
            [
             0.2222222222222222,
             "#7201a8"
            ],
            [
             0.3333333333333333,
             "#9c179e"
            ],
            [
             0.4444444444444444,
             "#bd3786"
            ],
            [
             0.5555555555555556,
             "#d8576b"
            ],
            [
             0.6666666666666666,
             "#ed7953"
            ],
            [
             0.7777777777777778,
             "#fb9f3a"
            ],
            [
             0.8888888888888888,
             "#fdca26"
            ],
            [
             1,
             "#f0f921"
            ]
           ],
           "sequentialminus": [
            [
             0,
             "#0d0887"
            ],
            [
             0.1111111111111111,
             "#46039f"
            ],
            [
             0.2222222222222222,
             "#7201a8"
            ],
            [
             0.3333333333333333,
             "#9c179e"
            ],
            [
             0.4444444444444444,
             "#bd3786"
            ],
            [
             0.5555555555555556,
             "#d8576b"
            ],
            [
             0.6666666666666666,
             "#ed7953"
            ],
            [
             0.7777777777777778,
             "#fb9f3a"
            ],
            [
             0.8888888888888888,
             "#fdca26"
            ],
            [
             1,
             "#f0f921"
            ]
           ]
          },
          "colorway": [
           "#636efa",
           "#EF553B",
           "#00cc96",
           "#ab63fa",
           "#FFA15A",
           "#19d3f3",
           "#FF6692",
           "#B6E880",
           "#FF97FF",
           "#FECB52"
          ],
          "font": {
           "color": "#2a3f5f"
          },
          "geo": {
           "bgcolor": "white",
           "lakecolor": "white",
           "landcolor": "#E5ECF6",
           "showlakes": true,
           "showland": true,
           "subunitcolor": "white"
          },
          "hoverlabel": {
           "align": "left"
          },
          "hovermode": "closest",
          "mapbox": {
           "style": "light"
          },
          "paper_bgcolor": "white",
          "plot_bgcolor": "#E5ECF6",
          "polar": {
           "angularaxis": {
            "gridcolor": "white",
            "linecolor": "white",
            "ticks": ""
           },
           "bgcolor": "#E5ECF6",
           "radialaxis": {
            "gridcolor": "white",
            "linecolor": "white",
            "ticks": ""
           }
          },
          "scene": {
           "xaxis": {
            "backgroundcolor": "#E5ECF6",
            "gridcolor": "white",
            "gridwidth": 2,
            "linecolor": "white",
            "showbackground": true,
            "ticks": "",
            "zerolinecolor": "white"
           },
           "yaxis": {
            "backgroundcolor": "#E5ECF6",
            "gridcolor": "white",
            "gridwidth": 2,
            "linecolor": "white",
            "showbackground": true,
            "ticks": "",
            "zerolinecolor": "white"
           },
           "zaxis": {
            "backgroundcolor": "#E5ECF6",
            "gridcolor": "white",
            "gridwidth": 2,
            "linecolor": "white",
            "showbackground": true,
            "ticks": "",
            "zerolinecolor": "white"
           }
          },
          "shapedefaults": {
           "line": {
            "color": "#2a3f5f"
           }
          },
          "ternary": {
           "aaxis": {
            "gridcolor": "white",
            "linecolor": "white",
            "ticks": ""
           },
           "baxis": {
            "gridcolor": "white",
            "linecolor": "white",
            "ticks": ""
           },
           "bgcolor": "#E5ECF6",
           "caxis": {
            "gridcolor": "white",
            "linecolor": "white",
            "ticks": ""
           }
          },
          "title": {
           "x": 0.05
          },
          "xaxis": {
           "automargin": true,
           "gridcolor": "white",
           "linecolor": "white",
           "ticks": "",
           "title": {
            "standoff": 15
           },
           "zerolinecolor": "white",
           "zerolinewidth": 2
          },
          "yaxis": {
           "automargin": true,
           "gridcolor": "white",
           "linecolor": "white",
           "ticks": "",
           "title": {
            "standoff": 15
           },
           "zerolinecolor": "white",
           "zerolinewidth": 2
          }
         }
        },
        "xaxis": {
         "anchor": "y",
         "domain": [
          0,
          1
         ],
         "title": {
          "text": "Poverty %"
         },
         "type": "log"
        },
        "yaxis": {
         "anchor": "x",
         "domain": [
          0,
          1
         ],
         "title": {
          "text": "hospital_beds_per_thousand"
         }
        }
       }
      }
     },
     "metadata": {}
    }
   ],
   "source": [
    "fig = px.scatter(covid_groupby, x=\"Poverty %\", y=\"hospital_beds_per_thousand\", size=\"deaths_ratio\", color=\"continent\",\n",
    "           hover_name=\"country\",log_x=True, size_max=40)\n",
    "fig.show()"
   ]
  },
  {
   "cell_type": "code",
   "execution_count": 62,
   "metadata": {},
   "outputs": [
    {
     "output_type": "display_data",
     "data": {
      "application/vnd.plotly.v1+json": {
       "config": {
        "plotlyServerURL": "https://plot.ly"
       },
       "data": [
        {
         "hovertemplate": "<b>%{hovertext}</b><br><br>continent=Asia<br>Poverty %=%{x}<br>deaths_ratio=%{y}<br>hospital_beds_per_thousand=%{marker.size}<extra></extra>",
         "hovertext": [
          "Afghanistan",
          "Armenia",
          "Azerbaijan",
          "Bahrain",
          "Bangladesh",
          "Bhutan",
          "Brunei",
          "Cambodia",
          "China",
          "Georgia",
          "India",
          "Indonesia",
          "Iran",
          "Iraq",
          "Israel",
          "Japan",
          "Jordan",
          "Kazakhstan",
          "Kuwait",
          "Kyrgyzstan",
          "Laos",
          "Lebanon",
          "Malaysia",
          "Mongolia",
          "Myanmar",
          "Nepal",
          "Oman",
          "Pakistan",
          "Philippines",
          "Qatar",
          "Saudi Arabia",
          "Singapore",
          "South Korea",
          "Sri Lanka",
          "Tajikistan",
          "Thailand",
          "Timor",
          "Turkey",
          "United Arab Emirates",
          "Uzbekistan",
          "Vietnam",
          "Yemen"
         ],
         "legendgroup": "Asia",
         "marker": {
          "color": "#636efa",
          "size": [
           0.5,
           4.2,
           4.7,
           2,
           0.8,
           1.7,
           2.7,
           0.8,
           4.34,
           2.6,
           0.53,
           1.04,
           1.5,
           1.4,
           2.99,
           13.05,
           1.4,
           6.7,
           2,
           4.5,
           1.5,
           2.9,
           1.9,
           7,
           0.9,
           0.3,
           1.6,
           0.6,
           1,
           1.2,
           2.7,
           2.4,
           12.27,
           3.6,
           4.8,
           2.1,
           5.9,
           2.81,
           1.2,
           4,
           2.6,
           0.7
          ],
          "sizemode": "area",
          "sizeref": 0.00815625,
          "symbol": "circle"
         },
         "mode": "markers",
         "name": "Asia",
         "orientation": "v",
         "showlegend": true,
         "type": "scatter",
         "x": [
          0,
          2.4,
          0,
          0,
          14.11,
          1.8,
          0,
          0,
          0.5,
          4.8,
          21.5,
          4.9,
          0,
          2.8,
          0.2,
          0.7,
          0.1,
          0,
          0,
          0.9,
          0,
          0,
          0,
          0.5,
          2.3,
          15.3,
          0,
          3.12,
          6.4,
          0,
          0,
          0,
          0,
          0.8,
          4.11,
          0.3,
          30.1,
          0.1,
          0,
          0,
          1.12,
          18.11
         ],
         "xaxis": "x",
         "y": [
          4.310628496215861,
          1.9652797561714577,
          1.4520669728848719,
          0.374039232559504,
          1.5612514048194095,
          0.07639419404125286,
          1.293103448275862,
          0.6815500895626719,
          4.714741594022416,
          1.3533228452567523,
          1.110936358291566,
          2.7729188951110553,
          2.78950786406492,
          1.3975350233837978,
          0.7617077411290005,
          1.7005317853782793,
          1.2795416501475705,
          0.8137235444200277,
          0.5794109832614605,
          1.701562902363172,
          0.11855364552459988,
          1.424087789858989,
          0.4159183681983059,
          0.453102856344438,
          2.2447967246787908,
          1.1455391507217045,
          1.0714165004900802,
          2.2406182011862095,
          1.6781186221616995,
          0.25063711393233734,
          1.6523112358543264,
          0.050283044881672644,
          1.4325209221478823,
          0.6871107500676956,
          0.6762849413886384,
          0.5715292149178812,
          0.2098635886673662,
          0.8791931487298824,
          0.29835186565600047,
          0.6922981827172704,
          0.8200354609929078,
          19.69328879441239
         ],
         "yaxis": "y"
        },
        {
         "hovertemplate": "<b>%{hovertext}</b><br><br>continent=Europe<br>Poverty %=%{x}<br>deaths_ratio=%{y}<br>hospital_beds_per_thousand=%{marker.size}<extra></extra>",
         "hovertext": [
          "Albania",
          "Austria",
          "Belarus",
          "Belgium",
          "Bosnia and Herzegovina",
          "Bulgaria",
          "Croatia",
          "Cyprus",
          "Czechia",
          "Denmark",
          "Estonia",
          "Finland",
          "France",
          "Germany",
          "Greece",
          "Hungary",
          "Iceland",
          "Ireland",
          "Italy",
          "Latvia",
          "Lithuania",
          "Luxembourg",
          "Malta",
          "Moldova",
          "Montenegro",
          "Netherlands",
          "North Macedonia",
          "Norway",
          "Poland",
          "Portugal",
          "Romania",
          "Russia",
          "Slovakia",
          "Slovenia",
          "Spain",
          "Sweden",
          "Switzerland",
          "Ukraine",
          "United Kingdom"
         ],
         "legendgroup": "Europe",
         "marker": {
          "color": "#EF553B",
          "size": [
           2.89,
           7.37,
           11,
           5.64,
           3.5,
           7.454,
           5.54,
           3.4,
           6.63,
           2.5,
           4.69,
           3.28,
           5.98,
           8,
           4.21,
           7.02,
           2.91,
           2.96,
           3.18,
           5.57,
           6.56,
           4.51,
           4.485,
           5.8,
           3.861,
           3.32,
           4.28,
           3.6,
           6.62,
           3.39,
           6.892,
           8.05,
           5.82,
           4.5,
           2.97,
           2.22,
           4.53,
           8.8,
           2.54
          ],
          "sizemode": "area",
          "sizeref": 0.00815625,
          "symbol": "circle"
         },
         "mode": "markers",
         "name": "Europe",
         "orientation": "v",
         "showlegend": true,
         "type": "scatter",
         "x": [
          1.1,
          0.3,
          0,
          0.1,
          0.4,
          1.6,
          0.5,
          0,
          0,
          0.4,
          0.6,
          0.1,
          0,
          0.3,
          0.12,
          0.6,
          0,
          0.1,
          1.7,
          0.8,
          1.3,
          0.6,
          0.5,
          0,
          1.7,
          0.5,
          4.7,
          0.5,
          0.3,
          0.4,
          3.8,
          0.3,
          1.7,
          0.3,
          0.7,
          0.2,
          0,
          0,
          0.2
         ],
         "xaxis": "x",
         "y": [
          1.8444624482286045,
          1.6452115865267842,
          0.7184898246948201,
          2.391868670956419,
          4.475144936474652,
          4.184423802025397,
          2.212269620538067,
          0.487408610885459,
          1.8094943897996578,
          0.9310073023096714,
          0.9639215686274509,
          1.032102480143366,
          1.8155770033289185,
          2.3969439386531026,
          3.025184516846506,
          3.6644116377017477,
          0.4428156970529852,
          1.938635382744144,
          2.987671060288815,
          1.7717269675494216,
          1.546505744110647,
          1.1669723710625515,
          1.3678409761857901,
          2.378431565482633,
          1.5802608845015207,
          1.0862298237493846,
          3.3797576290018347,
          0.6460013020181281,
          2.5173928322909536,
          2.0184701109559344,
          2.7644710206790113,
          2.3386883683823387,
          3.1575799449331257,
          1.7337478643251267,
          2.1962800647983007,
          1.3657160483334176,
          1.5733099209833186,
          2.2746177469352995,
          2.8633915635877334
         ],
         "yaxis": "y"
        },
        {
         "hovertemplate": "<b>%{hovertext}</b><br><br>continent=Africa<br>Poverty %=%{x}<br>deaths_ratio=%{y}<br>hospital_beds_per_thousand=%{marker.size}<extra></extra>",
         "hovertext": [
          "Algeria",
          "Benin",
          "Botswana",
          "Burkina Faso",
          "Burundi",
          "Cameroon",
          "Cape Verde",
          "Central African Republic",
          "Comoros",
          "Djibouti",
          "Egypt",
          "Equatorial Guinea",
          "Eritrea",
          "Eswatini",
          "Ethiopia",
          "Gabon",
          "Gambia",
          "Ghana",
          "Guinea",
          "Kenya",
          "Liberia",
          "Libya",
          "Madagascar",
          "Malawi",
          "Mali",
          "Mauritius",
          "Morocco",
          "Mozambique",
          "Niger",
          "Sao Tome and Principe",
          "Seychelles",
          "South Africa",
          "Sudan",
          "Tanzania",
          "Togo",
          "Tunisia",
          "Uganda",
          "Zambia",
          "Zimbabwe"
         ],
         "legendgroup": "Africa",
         "marker": {
          "color": "#00cc96",
          "size": [
           1.9,
           0.5,
           1.8,
           0.4,
           0.8,
           1.3,
           2.1,
           1,
           2.2,
           1.4,
           1.6,
           2.1,
           0.7,
           2.1,
           0.3,
           6.3,
           1.1,
           0.9,
           0.3,
           1.4,
           0.8,
           3.7,
           0.2,
           1.3,
           0.1,
           3.4,
           1.1,
           0.7,
           0.3,
           2.9,
           3.6,
           2.32,
           0.8,
           0.7,
           0.7,
           2.3,
           0.5,
           2,
           1.7
          ],
          "sizemode": "area",
          "sizeref": 0.00815625,
          "symbol": "circle"
         },
         "mode": "markers",
         "name": "Africa",
         "orientation": "v",
         "showlegend": true,
         "type": "scatter",
         "x": [
          0.8,
          49.8,
          16.4,
          43.1,
          71.11,
          23.11,
          0,
          66.6,
          17.9,
          17.4,
          3.2,
          0,
          0,
          0,
          30.11,
          3.7,
          10.4,
          13.6,
          35.6,
          36.11,
          40.12,
          0,
          77.9,
          70.6,
          49.1,
          0.5,
          1,
          62.12,
          44.8,
          34.8,
          1.4,
          18.12,
          12.1,
          49.4,
          49.11,
          0.2,
          41.1,
          57.8,
          33.12
         ],
         "xaxis": "x",
         "y": [
          2.695456389775087,
          1.2585669781931466,
          1.5236220472440947,
          1.2309758281110117,
          0.13783597518952445,
          1.5356003564555916,
          0.8870116156283,
          1.369472182596291,
          3.7784679089026914,
          1.3182016586643388,
          5.821153024451987,
          1.4556797504549,
          0.3609177623098737,
          3.6275303643724692,
          1.5054286783976039,
          0.6064661842820696,
          2.937720329024677,
          0.8384195309990363,
          0.6694963462127511,
          1.8198137416719877,
          3.988737681839512,
          1.7015361624508274,
          1.9193572385061746,
          3.3682918991557362,
          3.5968184697684236,
          1.3198757763975155,
          1.766520507547243,
          1.1747180251117257,
          3.590127150336574,
          1.5008576329331047,
          0.35845964768537486,
          3.420610196311131,
          7.010805698071025,
          4.12573673870334,
          0.9408399819358723,
          3.6438294452832025,
          0.8129513160959702,
          1.3651102464332037,
          4.10156756056484
         ],
         "yaxis": "y"
        },
        {
         "hovertemplate": "<b>%{hovertext}</b><br><br>continent=North America<br>Poverty %=%{x}<br>deaths_ratio=%{y}<br>hospital_beds_per_thousand=%{marker.size}<extra></extra>",
         "hovertext": [
          "Antigua and Barbuda",
          "Bahamas",
          "Barbados",
          "Belize",
          "Canada",
          "Costa Rica",
          "Dominican Republic",
          "El Salvador",
          "Grenada",
          "Guatemala",
          "Haiti",
          "Honduras",
          "Jamaica",
          "Mexico",
          "Nicaragua",
          "Panama",
          "Saint Lucia",
          "Saint Vincent and the Grenadines",
          "Trinidad and Tobago",
          "United States"
         ],
         "legendgroup": "North America",
         "marker": {
          "color": "#ab63fa",
          "size": [
           3.8,
           2.9,
           5.8,
           1.3,
           2.5,
           1.13,
           1.6,
           1.3,
           3.7,
           0.6,
           0.7,
           0.7,
           1.7,
           1.38,
           0.9,
           2.3,
           1.3,
           2.6,
           3,
           2.77
          ],
          "sizemode": "area",
          "sizeref": 0.00815625,
          "symbol": "circle"
         },
         "mode": "markers",
         "name": "North America",
         "orientation": "v",
         "showlegend": true,
         "type": "scatter",
         "x": [
          0,
          0,
          0,
          0,
          0.8,
          1.7,
          0.7,
          1.8,
          0,
          8.1,
          24.5,
          16.8,
          0,
          1.1,
          3.5,
          1.7,
          4.1,
          0,
          0,
          1.5
         ],
         "xaxis": "x",
         "y": [
          3.357314148681055,
          1.959567299166519,
          1.1832829808660623,
          2.5343271871322086,
          1.8571663114384476,
          1.262546404509831,
          1.2913347382327705,
          3.0708319926132153,
          0.6211180124223602,
          3.2592757348095427,
          2.026627218934911,
          2.636593410925721,
          1.849238610754228,
          9.253610964857858,
          2.5719449464757407,
          1.694988215796214,
          1.5807842332169986,
          0.6185567010309279,
          1.8483965014577262,
          1.7795954466741568
         ],
         "yaxis": "y"
        },
        {
         "hovertemplate": "<b>%{hovertext}</b><br><br>continent=South America<br>Poverty %=%{x}<br>deaths_ratio=%{y}<br>hospital_beds_per_thousand=%{marker.size}<extra></extra>",
         "hovertext": [
          "Argentina",
          "Bolivia",
          "Brazil",
          "Chile",
          "Colombia",
          "Ecuador",
          "Guyana",
          "Paraguay",
          "Peru",
          "Suriname",
          "Uruguay",
          "Venezuela"
         ],
         "legendgroup": "South America",
         "marker": {
          "color": "#FFA15A",
          "size": [
           5,
           1.1,
           2.2,
           2.11,
           1.71,
           1.5,
           1.6,
           1.3,
           1.6,
           3.1,
           2.8,
           0.8
          ],
          "sizemode": "area",
          "sizeref": 0.00815625,
          "symbol": "circle"
         },
         "mode": "markers",
         "name": "South America",
         "orientation": "v",
         "showlegend": true,
         "type": "scatter",
         "x": [
          1.3,
          0,
          4.7,
          0.3,
          4.4,
          3.3,
          0,
          1.9,
          2.9,
          0,
          0.4,
          0
         ],
         "xaxis": "x",
         "y": [
          2.128750695534461,
          4.0516808830908175,
          2.7906602471417106,
          2.1580229993625863,
          2.616942917374108,
          4.830775811367161,
          2.23243173288469,
          2.451524111471763,
          3.510791017327106,
          1.942698555219982,
          1.454317836326242,
          1.1157934403477894
         ],
         "yaxis": "y"
        },
        {
         "hovertemplate": "<b>%{hovertext}</b><br><br>continent=Oceania<br>Poverty %=%{x}<br>deaths_ratio=%{y}<br>hospital_beds_per_thousand=%{marker.size}<extra></extra>",
         "hovertext": [
          "Australia",
          "Fiji",
          "New Zealand"
         ],
         "legendgroup": "Oceania",
         "marker": {
          "color": "#19d3f3",
          "size": [
           3.84,
           2.3,
           2.61
          ],
          "sizemode": "area",
          "sizeref": 0.00815625,
          "symbol": "circle"
         },
         "mode": "markers",
         "name": "Oceania",
         "orientation": "v",
         "showlegend": true,
         "type": "scatter",
         "x": [
          0.5,
          1.7,
          0
         ],
         "xaxis": "x",
         "y": [
          3.034142437983462,
          2.247191011235955,
          0.9781790820165538
         ],
         "yaxis": "y"
        }
       ],
       "layout": {
        "legend": {
         "itemsizing": "constant",
         "title": {
          "text": "continent"
         },
         "tracegroupgap": 0
        },
        "margin": {
         "t": 60
        },
        "template": {
         "data": {
          "bar": [
           {
            "error_x": {
             "color": "#2a3f5f"
            },
            "error_y": {
             "color": "#2a3f5f"
            },
            "marker": {
             "line": {
              "color": "#E5ECF6",
              "width": 0.5
             }
            },
            "type": "bar"
           }
          ],
          "barpolar": [
           {
            "marker": {
             "line": {
              "color": "#E5ECF6",
              "width": 0.5
             }
            },
            "type": "barpolar"
           }
          ],
          "carpet": [
           {
            "aaxis": {
             "endlinecolor": "#2a3f5f",
             "gridcolor": "white",
             "linecolor": "white",
             "minorgridcolor": "white",
             "startlinecolor": "#2a3f5f"
            },
            "baxis": {
             "endlinecolor": "#2a3f5f",
             "gridcolor": "white",
             "linecolor": "white",
             "minorgridcolor": "white",
             "startlinecolor": "#2a3f5f"
            },
            "type": "carpet"
           }
          ],
          "choropleth": [
           {
            "colorbar": {
             "outlinewidth": 0,
             "ticks": ""
            },
            "type": "choropleth"
           }
          ],
          "contour": [
           {
            "colorbar": {
             "outlinewidth": 0,
             "ticks": ""
            },
            "colorscale": [
             [
              0,
              "#0d0887"
             ],
             [
              0.1111111111111111,
              "#46039f"
             ],
             [
              0.2222222222222222,
              "#7201a8"
             ],
             [
              0.3333333333333333,
              "#9c179e"
             ],
             [
              0.4444444444444444,
              "#bd3786"
             ],
             [
              0.5555555555555556,
              "#d8576b"
             ],
             [
              0.6666666666666666,
              "#ed7953"
             ],
             [
              0.7777777777777778,
              "#fb9f3a"
             ],
             [
              0.8888888888888888,
              "#fdca26"
             ],
             [
              1,
              "#f0f921"
             ]
            ],
            "type": "contour"
           }
          ],
          "contourcarpet": [
           {
            "colorbar": {
             "outlinewidth": 0,
             "ticks": ""
            },
            "type": "contourcarpet"
           }
          ],
          "heatmap": [
           {
            "colorbar": {
             "outlinewidth": 0,
             "ticks": ""
            },
            "colorscale": [
             [
              0,
              "#0d0887"
             ],
             [
              0.1111111111111111,
              "#46039f"
             ],
             [
              0.2222222222222222,
              "#7201a8"
             ],
             [
              0.3333333333333333,
              "#9c179e"
             ],
             [
              0.4444444444444444,
              "#bd3786"
             ],
             [
              0.5555555555555556,
              "#d8576b"
             ],
             [
              0.6666666666666666,
              "#ed7953"
             ],
             [
              0.7777777777777778,
              "#fb9f3a"
             ],
             [
              0.8888888888888888,
              "#fdca26"
             ],
             [
              1,
              "#f0f921"
             ]
            ],
            "type": "heatmap"
           }
          ],
          "heatmapgl": [
           {
            "colorbar": {
             "outlinewidth": 0,
             "ticks": ""
            },
            "colorscale": [
             [
              0,
              "#0d0887"
             ],
             [
              0.1111111111111111,
              "#46039f"
             ],
             [
              0.2222222222222222,
              "#7201a8"
             ],
             [
              0.3333333333333333,
              "#9c179e"
             ],
             [
              0.4444444444444444,
              "#bd3786"
             ],
             [
              0.5555555555555556,
              "#d8576b"
             ],
             [
              0.6666666666666666,
              "#ed7953"
             ],
             [
              0.7777777777777778,
              "#fb9f3a"
             ],
             [
              0.8888888888888888,
              "#fdca26"
             ],
             [
              1,
              "#f0f921"
             ]
            ],
            "type": "heatmapgl"
           }
          ],
          "histogram": [
           {
            "marker": {
             "colorbar": {
              "outlinewidth": 0,
              "ticks": ""
             }
            },
            "type": "histogram"
           }
          ],
          "histogram2d": [
           {
            "colorbar": {
             "outlinewidth": 0,
             "ticks": ""
            },
            "colorscale": [
             [
              0,
              "#0d0887"
             ],
             [
              0.1111111111111111,
              "#46039f"
             ],
             [
              0.2222222222222222,
              "#7201a8"
             ],
             [
              0.3333333333333333,
              "#9c179e"
             ],
             [
              0.4444444444444444,
              "#bd3786"
             ],
             [
              0.5555555555555556,
              "#d8576b"
             ],
             [
              0.6666666666666666,
              "#ed7953"
             ],
             [
              0.7777777777777778,
              "#fb9f3a"
             ],
             [
              0.8888888888888888,
              "#fdca26"
             ],
             [
              1,
              "#f0f921"
             ]
            ],
            "type": "histogram2d"
           }
          ],
          "histogram2dcontour": [
           {
            "colorbar": {
             "outlinewidth": 0,
             "ticks": ""
            },
            "colorscale": [
             [
              0,
              "#0d0887"
             ],
             [
              0.1111111111111111,
              "#46039f"
             ],
             [
              0.2222222222222222,
              "#7201a8"
             ],
             [
              0.3333333333333333,
              "#9c179e"
             ],
             [
              0.4444444444444444,
              "#bd3786"
             ],
             [
              0.5555555555555556,
              "#d8576b"
             ],
             [
              0.6666666666666666,
              "#ed7953"
             ],
             [
              0.7777777777777778,
              "#fb9f3a"
             ],
             [
              0.8888888888888888,
              "#fdca26"
             ],
             [
              1,
              "#f0f921"
             ]
            ],
            "type": "histogram2dcontour"
           }
          ],
          "mesh3d": [
           {
            "colorbar": {
             "outlinewidth": 0,
             "ticks": ""
            },
            "type": "mesh3d"
           }
          ],
          "parcoords": [
           {
            "line": {
             "colorbar": {
              "outlinewidth": 0,
              "ticks": ""
             }
            },
            "type": "parcoords"
           }
          ],
          "pie": [
           {
            "automargin": true,
            "type": "pie"
           }
          ],
          "scatter": [
           {
            "marker": {
             "colorbar": {
              "outlinewidth": 0,
              "ticks": ""
             }
            },
            "type": "scatter"
           }
          ],
          "scatter3d": [
           {
            "line": {
             "colorbar": {
              "outlinewidth": 0,
              "ticks": ""
             }
            },
            "marker": {
             "colorbar": {
              "outlinewidth": 0,
              "ticks": ""
             }
            },
            "type": "scatter3d"
           }
          ],
          "scattercarpet": [
           {
            "marker": {
             "colorbar": {
              "outlinewidth": 0,
              "ticks": ""
             }
            },
            "type": "scattercarpet"
           }
          ],
          "scattergeo": [
           {
            "marker": {
             "colorbar": {
              "outlinewidth": 0,
              "ticks": ""
             }
            },
            "type": "scattergeo"
           }
          ],
          "scattergl": [
           {
            "marker": {
             "colorbar": {
              "outlinewidth": 0,
              "ticks": ""
             }
            },
            "type": "scattergl"
           }
          ],
          "scattermapbox": [
           {
            "marker": {
             "colorbar": {
              "outlinewidth": 0,
              "ticks": ""
             }
            },
            "type": "scattermapbox"
           }
          ],
          "scatterpolar": [
           {
            "marker": {
             "colorbar": {
              "outlinewidth": 0,
              "ticks": ""
             }
            },
            "type": "scatterpolar"
           }
          ],
          "scatterpolargl": [
           {
            "marker": {
             "colorbar": {
              "outlinewidth": 0,
              "ticks": ""
             }
            },
            "type": "scatterpolargl"
           }
          ],
          "scatterternary": [
           {
            "marker": {
             "colorbar": {
              "outlinewidth": 0,
              "ticks": ""
             }
            },
            "type": "scatterternary"
           }
          ],
          "surface": [
           {
            "colorbar": {
             "outlinewidth": 0,
             "ticks": ""
            },
            "colorscale": [
             [
              0,
              "#0d0887"
             ],
             [
              0.1111111111111111,
              "#46039f"
             ],
             [
              0.2222222222222222,
              "#7201a8"
             ],
             [
              0.3333333333333333,
              "#9c179e"
             ],
             [
              0.4444444444444444,
              "#bd3786"
             ],
             [
              0.5555555555555556,
              "#d8576b"
             ],
             [
              0.6666666666666666,
              "#ed7953"
             ],
             [
              0.7777777777777778,
              "#fb9f3a"
             ],
             [
              0.8888888888888888,
              "#fdca26"
             ],
             [
              1,
              "#f0f921"
             ]
            ],
            "type": "surface"
           }
          ],
          "table": [
           {
            "cells": {
             "fill": {
              "color": "#EBF0F8"
             },
             "line": {
              "color": "white"
             }
            },
            "header": {
             "fill": {
              "color": "#C8D4E3"
             },
             "line": {
              "color": "white"
             }
            },
            "type": "table"
           }
          ]
         },
         "layout": {
          "annotationdefaults": {
           "arrowcolor": "#2a3f5f",
           "arrowhead": 0,
           "arrowwidth": 1
          },
          "autotypenumbers": "strict",
          "coloraxis": {
           "colorbar": {
            "outlinewidth": 0,
            "ticks": ""
           }
          },
          "colorscale": {
           "diverging": [
            [
             0,
             "#8e0152"
            ],
            [
             0.1,
             "#c51b7d"
            ],
            [
             0.2,
             "#de77ae"
            ],
            [
             0.3,
             "#f1b6da"
            ],
            [
             0.4,
             "#fde0ef"
            ],
            [
             0.5,
             "#f7f7f7"
            ],
            [
             0.6,
             "#e6f5d0"
            ],
            [
             0.7,
             "#b8e186"
            ],
            [
             0.8,
             "#7fbc41"
            ],
            [
             0.9,
             "#4d9221"
            ],
            [
             1,
             "#276419"
            ]
           ],
           "sequential": [
            [
             0,
             "#0d0887"
            ],
            [
             0.1111111111111111,
             "#46039f"
            ],
            [
             0.2222222222222222,
             "#7201a8"
            ],
            [
             0.3333333333333333,
             "#9c179e"
            ],
            [
             0.4444444444444444,
             "#bd3786"
            ],
            [
             0.5555555555555556,
             "#d8576b"
            ],
            [
             0.6666666666666666,
             "#ed7953"
            ],
            [
             0.7777777777777778,
             "#fb9f3a"
            ],
            [
             0.8888888888888888,
             "#fdca26"
            ],
            [
             1,
             "#f0f921"
            ]
           ],
           "sequentialminus": [
            [
             0,
             "#0d0887"
            ],
            [
             0.1111111111111111,
             "#46039f"
            ],
            [
             0.2222222222222222,
             "#7201a8"
            ],
            [
             0.3333333333333333,
             "#9c179e"
            ],
            [
             0.4444444444444444,
             "#bd3786"
            ],
            [
             0.5555555555555556,
             "#d8576b"
            ],
            [
             0.6666666666666666,
             "#ed7953"
            ],
            [
             0.7777777777777778,
             "#fb9f3a"
            ],
            [
             0.8888888888888888,
             "#fdca26"
            ],
            [
             1,
             "#f0f921"
            ]
           ]
          },
          "colorway": [
           "#636efa",
           "#EF553B",
           "#00cc96",
           "#ab63fa",
           "#FFA15A",
           "#19d3f3",
           "#FF6692",
           "#B6E880",
           "#FF97FF",
           "#FECB52"
          ],
          "font": {
           "color": "#2a3f5f"
          },
          "geo": {
           "bgcolor": "white",
           "lakecolor": "white",
           "landcolor": "#E5ECF6",
           "showlakes": true,
           "showland": true,
           "subunitcolor": "white"
          },
          "hoverlabel": {
           "align": "left"
          },
          "hovermode": "closest",
          "mapbox": {
           "style": "light"
          },
          "paper_bgcolor": "white",
          "plot_bgcolor": "#E5ECF6",
          "polar": {
           "angularaxis": {
            "gridcolor": "white",
            "linecolor": "white",
            "ticks": ""
           },
           "bgcolor": "#E5ECF6",
           "radialaxis": {
            "gridcolor": "white",
            "linecolor": "white",
            "ticks": ""
           }
          },
          "scene": {
           "xaxis": {
            "backgroundcolor": "#E5ECF6",
            "gridcolor": "white",
            "gridwidth": 2,
            "linecolor": "white",
            "showbackground": true,
            "ticks": "",
            "zerolinecolor": "white"
           },
           "yaxis": {
            "backgroundcolor": "#E5ECF6",
            "gridcolor": "white",
            "gridwidth": 2,
            "linecolor": "white",
            "showbackground": true,
            "ticks": "",
            "zerolinecolor": "white"
           },
           "zaxis": {
            "backgroundcolor": "#E5ECF6",
            "gridcolor": "white",
            "gridwidth": 2,
            "linecolor": "white",
            "showbackground": true,
            "ticks": "",
            "zerolinecolor": "white"
           }
          },
          "shapedefaults": {
           "line": {
            "color": "#2a3f5f"
           }
          },
          "ternary": {
           "aaxis": {
            "gridcolor": "white",
            "linecolor": "white",
            "ticks": ""
           },
           "baxis": {
            "gridcolor": "white",
            "linecolor": "white",
            "ticks": ""
           },
           "bgcolor": "#E5ECF6",
           "caxis": {
            "gridcolor": "white",
            "linecolor": "white",
            "ticks": ""
           }
          },
          "title": {
           "x": 0.05
          },
          "xaxis": {
           "automargin": true,
           "gridcolor": "white",
           "linecolor": "white",
           "ticks": "",
           "title": {
            "standoff": 15
           },
           "zerolinecolor": "white",
           "zerolinewidth": 2
          },
          "yaxis": {
           "automargin": true,
           "gridcolor": "white",
           "linecolor": "white",
           "ticks": "",
           "title": {
            "standoff": 15
           },
           "zerolinecolor": "white",
           "zerolinewidth": 2
          }
         }
        },
        "xaxis": {
         "anchor": "y",
         "domain": [
          0,
          1
         ],
         "title": {
          "text": "Poverty %"
         },
         "type": "log"
        },
        "yaxis": {
         "anchor": "x",
         "domain": [
          0,
          1
         ],
         "title": {
          "text": "deaths_ratio"
         }
        }
       }
      }
     },
     "metadata": {}
    }
   ],
   "source": [
    "fig = px.scatter(covid_groupby, x=\"Poverty %\", y=\"deaths_ratio\", size=\"hospital_beds_per_thousand\", color=\"continent\",\n",
    "           hover_name=\"country\",log_x=True, size_max=40)\n",
    "fig.show()"
   ]
  },
  {
   "cell_type": "code",
   "execution_count": 53,
   "metadata": {},
   "outputs": [
    {
     "output_type": "display_data",
     "data": {
      "application/vnd.plotly.v1+json": {
       "config": {
        "plotlyServerURL": "https://plot.ly"
       },
       "data": [
        {
         "hovertemplate": "<b>%{hovertext}</b><br><br>continent=Asia<br>Poverty %=%{x}<br>gdp_per_capita=%{y}<br>deaths_ratio=%{marker.size}<extra></extra>",
         "hovertext": [
          "Afghanistan",
          "Armenia",
          "Azerbaijan",
          "Bahrain",
          "Bangladesh",
          "Bhutan",
          "Brunei",
          "Cambodia",
          "China",
          "Georgia",
          "India",
          "Indonesia",
          "Iran",
          "Iraq",
          "Israel",
          "Japan",
          "Jordan",
          "Kazakhstan",
          "Kuwait",
          "Kyrgyzstan",
          "Laos",
          "Lebanon",
          "Malaysia",
          "Mongolia",
          "Myanmar",
          "Nepal",
          "Oman",
          "Pakistan",
          "Philippines",
          "Qatar",
          "Saudi Arabia",
          "Singapore",
          "South Korea",
          "Sri Lanka",
          "Tajikistan",
          "Thailand",
          "Timor",
          "Turkey",
          "United Arab Emirates",
          "Uzbekistan",
          "Vietnam",
          "Yemen"
         ],
         "legendgroup": "Asia",
         "marker": {
          "color": "#636efa",
          "size": [
           4.310628496215861,
           1.9652797561714577,
           1.4520669728848719,
           0.374039232559504,
           1.5612514048194095,
           0.07639419404125286,
           1.293103448275862,
           0.6815500895626719,
           4.714741594022416,
           1.3533228452567523,
           1.110936358291566,
           2.7729188951110553,
           2.78950786406492,
           1.3975350233837978,
           0.7617077411290005,
           1.7005317853782793,
           1.2795416501475705,
           0.8137235444200277,
           0.5794109832614605,
           1.701562902363172,
           0.11855364552459988,
           1.424087789858989,
           0.4159183681983059,
           0.453102856344438,
           2.2447967246787908,
           1.1455391507217045,
           1.0714165004900802,
           2.2406182011862095,
           1.6781186221616995,
           0.25063711393233734,
           1.6523112358543264,
           0.050283044881672644,
           1.4325209221478823,
           0.6871107500676956,
           0.6762849413886384,
           0.5715292149178812,
           0.2098635886673662,
           0.8791931487298824,
           0.29835186565600047,
           0.6922981827172704,
           0.8200354609929078,
           19.69328879441239
          ],
          "sizemode": "area",
          "sizeref": 0.012308305496507743,
          "symbol": "circle"
         },
         "mode": "markers",
         "name": "Asia",
         "orientation": "v",
         "showlegend": true,
         "type": "scatter",
         "x": [
          0,
          2.4,
          0,
          0,
          14.11,
          1.8,
          0,
          0,
          0.5,
          4.8,
          21.5,
          4.9,
          0,
          2.8,
          0.2,
          0.7,
          0.1,
          0,
          0,
          0.9,
          0,
          0,
          0,
          0.5,
          2.3,
          15.3,
          0,
          3.12,
          6.4,
          0,
          0,
          0,
          0,
          0.8,
          4.11,
          0.3,
          30.1,
          0.1,
          0,
          0,
          1.12,
          18.11
         ],
         "xaxis": "x",
         "y": [
          1803.987,
          8787.58,
          15847.419,
          43290.705,
          3523.984,
          8708.597,
          71809.251,
          3645.07,
          15308.712,
          9745.079,
          6426.674,
          11188.744,
          19082.62,
          15663.986,
          33132.32,
          39002.223,
          8337.49,
          24055.588,
          65530.537,
          3393.474,
          6397.36,
          13367.565,
          26808.164,
          11840.846,
          5591.597,
          2442.804,
          37960.709,
          5034.708,
          7599.188,
          116935.6,
          49045.411,
          85535.383,
          35938.374,
          11669.077,
          2896.913,
          16277.671,
          6570.102,
          25129.341,
          67293.483,
          6253.104,
          6171.884,
          1479.147
         ],
         "yaxis": "y"
        },
        {
         "hovertemplate": "<b>%{hovertext}</b><br><br>continent=Europe<br>Poverty %=%{x}<br>gdp_per_capita=%{y}<br>deaths_ratio=%{marker.size}<extra></extra>",
         "hovertext": [
          "Albania",
          "Austria",
          "Belarus",
          "Belgium",
          "Bosnia and Herzegovina",
          "Bulgaria",
          "Croatia",
          "Cyprus",
          "Czechia",
          "Denmark",
          "Estonia",
          "Finland",
          "France",
          "Germany",
          "Greece",
          "Hungary",
          "Iceland",
          "Ireland",
          "Italy",
          "Latvia",
          "Lithuania",
          "Luxembourg",
          "Malta",
          "Moldova",
          "Montenegro",
          "Netherlands",
          "North Macedonia",
          "Norway",
          "Poland",
          "Portugal",
          "Romania",
          "Russia",
          "Slovakia",
          "Slovenia",
          "Spain",
          "Sweden",
          "Switzerland",
          "Ukraine",
          "United Kingdom"
         ],
         "legendgroup": "Europe",
         "marker": {
          "color": "#EF553B",
          "size": [
           1.8444624482286045,
           1.6452115865267842,
           0.7184898246948201,
           2.391868670956419,
           4.475144936474652,
           4.184423802025397,
           2.212269620538067,
           0.487408610885459,
           1.8094943897996578,
           0.9310073023096714,
           0.9639215686274509,
           1.032102480143366,
           1.8155770033289185,
           2.3969439386531026,
           3.025184516846506,
           3.6644116377017477,
           0.4428156970529852,
           1.938635382744144,
           2.987671060288815,
           1.7717269675494216,
           1.546505744110647,
           1.1669723710625515,
           1.3678409761857901,
           2.378431565482633,
           1.5802608845015207,
           1.0862298237493846,
           3.3797576290018347,
           0.6460013020181281,
           2.5173928322909536,
           2.0184701109559344,
           2.7644710206790113,
           2.3386883683823387,
           3.1575799449331257,
           1.7337478643251267,
           2.1962800647983007,
           1.3657160483334176,
           1.5733099209833186,
           2.2746177469352995,
           2.8633915635877334
          ],
          "sizemode": "area",
          "sizeref": 0.012308305496507743,
          "symbol": "circle"
         },
         "mode": "markers",
         "name": "Europe",
         "orientation": "v",
         "showlegend": true,
         "type": "scatter",
         "x": [
          1.1,
          0.3,
          0,
          0.1,
          0.4,
          1.6,
          0.5,
          0,
          0,
          0.4,
          0.6,
          0.1,
          0,
          0.3,
          0.12,
          0.6,
          0,
          0.1,
          1.7,
          0.8,
          1.3,
          0.6,
          0.5,
          0,
          1.7,
          0.5,
          4.7,
          0.5,
          0.3,
          0.4,
          3.8,
          0.3,
          1.7,
          0.3,
          0.7,
          0.2,
          0,
          0,
          0.2
         ],
         "xaxis": "x",
         "y": [
          11803.431,
          45436.686,
          17167.967,
          42658.576,
          11713.895,
          18563.307,
          22669.797,
          32415.132,
          32605.906,
          46682.515,
          29481.252,
          40585.721,
          38605.671,
          45229.245,
          24574.382,
          26777.561,
          46482.958,
          67335.293,
          35220.084,
          25063.846,
          29524.265,
          94277.965,
          36513.323,
          5189.972,
          16409.288,
          48472.545,
          13111.214,
          64800.057,
          27216.445,
          27936.896,
          23313.199,
          24765.954,
          30155.152,
          31400.84,
          34272.36,
          46949.283,
          57410.166,
          7894.393,
          39753.244
         ],
         "yaxis": "y"
        },
        {
         "hovertemplate": "<b>%{hovertext}</b><br><br>continent=Africa<br>Poverty %=%{x}<br>gdp_per_capita=%{y}<br>deaths_ratio=%{marker.size}<extra></extra>",
         "hovertext": [
          "Algeria",
          "Benin",
          "Botswana",
          "Burkina Faso",
          "Burundi",
          "Cameroon",
          "Cape Verde",
          "Central African Republic",
          "Comoros",
          "Djibouti",
          "Egypt",
          "Equatorial Guinea",
          "Eritrea",
          "Eswatini",
          "Ethiopia",
          "Gabon",
          "Gambia",
          "Ghana",
          "Guinea",
          "Kenya",
          "Liberia",
          "Libya",
          "Madagascar",
          "Malawi",
          "Mali",
          "Mauritius",
          "Morocco",
          "Mozambique",
          "Niger",
          "Sao Tome and Principe",
          "Seychelles",
          "South Africa",
          "Sudan",
          "Tanzania",
          "Togo",
          "Tunisia",
          "Uganda",
          "Zambia",
          "Zimbabwe"
         ],
         "legendgroup": "Africa",
         "marker": {
          "color": "#00cc96",
          "size": [
           2.695456389775087,
           1.2585669781931466,
           1.5236220472440947,
           1.2309758281110117,
           0.13783597518952445,
           1.5356003564555916,
           0.8870116156283,
           1.369472182596291,
           3.7784679089026914,
           1.3182016586643388,
           5.821153024451987,
           1.4556797504549,
           0.3609177623098737,
           3.6275303643724692,
           1.5054286783976039,
           0.6064661842820696,
           2.937720329024677,
           0.8384195309990363,
           0.6694963462127511,
           1.8198137416719877,
           3.988737681839512,
           1.7015361624508274,
           1.9193572385061746,
           3.3682918991557362,
           3.5968184697684236,
           1.3198757763975155,
           1.766520507547243,
           1.1747180251117257,
           3.590127150336574,
           1.5008576329331047,
           0.35845964768537486,
           3.420610196311131,
           7.010805698071025,
           4.12573673870334,
           0.9408399819358723,
           3.6438294452832025,
           0.8129513160959702,
           1.3651102464332037,
           4.10156756056484
          ],
          "sizemode": "area",
          "sizeref": 0.012308305496507743,
          "symbol": "circle"
         },
         "mode": "markers",
         "name": "Africa",
         "orientation": "v",
         "showlegend": true,
         "type": "scatter",
         "x": [
          0.8,
          49.8,
          16.4,
          43.1,
          71.11,
          23.11,
          0,
          66.6,
          17.9,
          17.4,
          3.2,
          0,
          0,
          0,
          30.11,
          3.7,
          10.4,
          13.6,
          35.6,
          36.11,
          40.12,
          0,
          77.9,
          70.6,
          49.1,
          0.5,
          1,
          62.12,
          44.8,
          34.8,
          1.4,
          18.12,
          12.1,
          49.4,
          49.11,
          0.2,
          41.1,
          57.8,
          33.12
         ],
         "xaxis": "x",
         "y": [
          13913.839,
          2064.236,
          15807.374,
          1703.102,
          702.225,
          3364.926,
          6222.554,
          661.24,
          1413.89,
          2705.406,
          10550.206,
          22604.873,
          1510.459,
          7738.975,
          1729.927,
          16562.413,
          1561.767,
          4227.63,
          1998.926,
          2993.028,
          752.788,
          17881.509,
          1416.44,
          1095.042,
          2014.306,
          20292.745,
          7485.013,
          1136.103,
          926,
          3052.714,
          26382.287,
          12294.876,
          4466.507,
          2683.304,
          1429.813,
          10849.297,
          1697.707,
          3689.251,
          1899.775
         ],
         "yaxis": "y"
        },
        {
         "hovertemplate": "<b>%{hovertext}</b><br><br>continent=North America<br>Poverty %=%{x}<br>gdp_per_capita=%{y}<br>deaths_ratio=%{marker.size}<extra></extra>",
         "hovertext": [
          "Antigua and Barbuda",
          "Bahamas",
          "Barbados",
          "Belize",
          "Canada",
          "Costa Rica",
          "Dominican Republic",
          "El Salvador",
          "Grenada",
          "Guatemala",
          "Haiti",
          "Honduras",
          "Jamaica",
          "Mexico",
          "Nicaragua",
          "Panama",
          "Saint Lucia",
          "Saint Vincent and the Grenadines",
          "Trinidad and Tobago",
          "United States"
         ],
         "legendgroup": "North America",
         "marker": {
          "color": "#ab63fa",
          "size": [
           3.357314148681055,
           1.959567299166519,
           1.1832829808660623,
           2.5343271871322086,
           1.8571663114384476,
           1.262546404509831,
           1.2913347382327705,
           3.0708319926132153,
           0.6211180124223602,
           3.2592757348095427,
           2.026627218934911,
           2.636593410925721,
           1.849238610754228,
           9.253610964857858,
           2.5719449464757407,
           1.694988215796214,
           1.5807842332169986,
           0.6185567010309279,
           1.8483965014577262,
           1.7795954466741568
          ],
          "sizemode": "area",
          "sizeref": 0.012308305496507743,
          "symbol": "circle"
         },
         "mode": "markers",
         "name": "North America",
         "orientation": "v",
         "showlegend": true,
         "type": "scatter",
         "x": [
          0,
          0,
          0,
          0,
          0.8,
          1.7,
          0.7,
          1.8,
          0,
          8.1,
          24.5,
          16.8,
          0,
          1.1,
          3.5,
          1.7,
          4.1,
          0,
          0,
          1.5
         ],
         "xaxis": "x",
         "y": [
          21490.943,
          27717.847,
          16978.068,
          7824.362,
          44017.591,
          15524.995,
          14600.861,
          7292.458,
          13593.877,
          7423.808,
          1653.173,
          4541.795,
          8193.571,
          17336.469,
          5321.444,
          22267.037,
          12951.839,
          10727.146,
          28763.071,
          54225.446
         ],
         "yaxis": "y"
        },
        {
         "hovertemplate": "<b>%{hovertext}</b><br><br>continent=South America<br>Poverty %=%{x}<br>gdp_per_capita=%{y}<br>deaths_ratio=%{marker.size}<extra></extra>",
         "hovertext": [
          "Argentina",
          "Bolivia",
          "Brazil",
          "Chile",
          "Colombia",
          "Ecuador",
          "Guyana",
          "Paraguay",
          "Peru",
          "Suriname",
          "Uruguay",
          "Venezuela"
         ],
         "legendgroup": "South America",
         "marker": {
          "color": "#FFA15A",
          "size": [
           2.128750695534461,
           4.0516808830908175,
           2.7906602471417106,
           2.1580229993625863,
           2.616942917374108,
           4.830775811367161,
           2.23243173288469,
           2.451524111471763,
           3.510791017327106,
           1.942698555219982,
           1.454317836326242,
           1.1157934403477894
          ],
          "sizemode": "area",
          "sizeref": 0.012308305496507743,
          "symbol": "circle"
         },
         "mode": "markers",
         "name": "South America",
         "orientation": "v",
         "showlegend": true,
         "type": "scatter",
         "x": [
          1.3,
          0,
          4.7,
          0.3,
          4.4,
          3.3,
          0,
          1.9,
          2.9,
          0,
          0.4,
          0
         ],
         "xaxis": "x",
         "y": [
          18933.907,
          6885.829,
          14103.452,
          22767.037,
          13254.949,
          10581.936,
          7435.047,
          8827.01,
          12236.706,
          13767.119,
          20551.409,
          16745.022
         ],
         "yaxis": "y"
        },
        {
         "hovertemplate": "<b>%{hovertext}</b><br><br>continent=Oceania<br>Poverty %=%{x}<br>gdp_per_capita=%{y}<br>deaths_ratio=%{marker.size}<extra></extra>",
         "hovertext": [
          "Australia",
          "Fiji",
          "New Zealand"
         ],
         "legendgroup": "Oceania",
         "marker": {
          "color": "#19d3f3",
          "size": [
           3.034142437983462,
           2.247191011235955,
           0.9781790820165538
          ],
          "sizemode": "area",
          "sizeref": 0.012308305496507743,
          "symbol": "circle"
         },
         "mode": "markers",
         "name": "Oceania",
         "orientation": "v",
         "showlegend": true,
         "type": "scatter",
         "x": [
          0.5,
          1.7,
          0
         ],
         "xaxis": "x",
         "y": [
          44648.71,
          8702.975,
          36085.843
         ],
         "yaxis": "y"
        }
       ],
       "layout": {
        "legend": {
         "itemsizing": "constant",
         "title": {
          "text": "continent"
         },
         "tracegroupgap": 0
        },
        "margin": {
         "t": 60
        },
        "template": {
         "data": {
          "bar": [
           {
            "error_x": {
             "color": "#2a3f5f"
            },
            "error_y": {
             "color": "#2a3f5f"
            },
            "marker": {
             "line": {
              "color": "#E5ECF6",
              "width": 0.5
             }
            },
            "type": "bar"
           }
          ],
          "barpolar": [
           {
            "marker": {
             "line": {
              "color": "#E5ECF6",
              "width": 0.5
             }
            },
            "type": "barpolar"
           }
          ],
          "carpet": [
           {
            "aaxis": {
             "endlinecolor": "#2a3f5f",
             "gridcolor": "white",
             "linecolor": "white",
             "minorgridcolor": "white",
             "startlinecolor": "#2a3f5f"
            },
            "baxis": {
             "endlinecolor": "#2a3f5f",
             "gridcolor": "white",
             "linecolor": "white",
             "minorgridcolor": "white",
             "startlinecolor": "#2a3f5f"
            },
            "type": "carpet"
           }
          ],
          "choropleth": [
           {
            "colorbar": {
             "outlinewidth": 0,
             "ticks": ""
            },
            "type": "choropleth"
           }
          ],
          "contour": [
           {
            "colorbar": {
             "outlinewidth": 0,
             "ticks": ""
            },
            "colorscale": [
             [
              0,
              "#0d0887"
             ],
             [
              0.1111111111111111,
              "#46039f"
             ],
             [
              0.2222222222222222,
              "#7201a8"
             ],
             [
              0.3333333333333333,
              "#9c179e"
             ],
             [
              0.4444444444444444,
              "#bd3786"
             ],
             [
              0.5555555555555556,
              "#d8576b"
             ],
             [
              0.6666666666666666,
              "#ed7953"
             ],
             [
              0.7777777777777778,
              "#fb9f3a"
             ],
             [
              0.8888888888888888,
              "#fdca26"
             ],
             [
              1,
              "#f0f921"
             ]
            ],
            "type": "contour"
           }
          ],
          "contourcarpet": [
           {
            "colorbar": {
             "outlinewidth": 0,
             "ticks": ""
            },
            "type": "contourcarpet"
           }
          ],
          "heatmap": [
           {
            "colorbar": {
             "outlinewidth": 0,
             "ticks": ""
            },
            "colorscale": [
             [
              0,
              "#0d0887"
             ],
             [
              0.1111111111111111,
              "#46039f"
             ],
             [
              0.2222222222222222,
              "#7201a8"
             ],
             [
              0.3333333333333333,
              "#9c179e"
             ],
             [
              0.4444444444444444,
              "#bd3786"
             ],
             [
              0.5555555555555556,
              "#d8576b"
             ],
             [
              0.6666666666666666,
              "#ed7953"
             ],
             [
              0.7777777777777778,
              "#fb9f3a"
             ],
             [
              0.8888888888888888,
              "#fdca26"
             ],
             [
              1,
              "#f0f921"
             ]
            ],
            "type": "heatmap"
           }
          ],
          "heatmapgl": [
           {
            "colorbar": {
             "outlinewidth": 0,
             "ticks": ""
            },
            "colorscale": [
             [
              0,
              "#0d0887"
             ],
             [
              0.1111111111111111,
              "#46039f"
             ],
             [
              0.2222222222222222,
              "#7201a8"
             ],
             [
              0.3333333333333333,
              "#9c179e"
             ],
             [
              0.4444444444444444,
              "#bd3786"
             ],
             [
              0.5555555555555556,
              "#d8576b"
             ],
             [
              0.6666666666666666,
              "#ed7953"
             ],
             [
              0.7777777777777778,
              "#fb9f3a"
             ],
             [
              0.8888888888888888,
              "#fdca26"
             ],
             [
              1,
              "#f0f921"
             ]
            ],
            "type": "heatmapgl"
           }
          ],
          "histogram": [
           {
            "marker": {
             "colorbar": {
              "outlinewidth": 0,
              "ticks": ""
             }
            },
            "type": "histogram"
           }
          ],
          "histogram2d": [
           {
            "colorbar": {
             "outlinewidth": 0,
             "ticks": ""
            },
            "colorscale": [
             [
              0,
              "#0d0887"
             ],
             [
              0.1111111111111111,
              "#46039f"
             ],
             [
              0.2222222222222222,
              "#7201a8"
             ],
             [
              0.3333333333333333,
              "#9c179e"
             ],
             [
              0.4444444444444444,
              "#bd3786"
             ],
             [
              0.5555555555555556,
              "#d8576b"
             ],
             [
              0.6666666666666666,
              "#ed7953"
             ],
             [
              0.7777777777777778,
              "#fb9f3a"
             ],
             [
              0.8888888888888888,
              "#fdca26"
             ],
             [
              1,
              "#f0f921"
             ]
            ],
            "type": "histogram2d"
           }
          ],
          "histogram2dcontour": [
           {
            "colorbar": {
             "outlinewidth": 0,
             "ticks": ""
            },
            "colorscale": [
             [
              0,
              "#0d0887"
             ],
             [
              0.1111111111111111,
              "#46039f"
             ],
             [
              0.2222222222222222,
              "#7201a8"
             ],
             [
              0.3333333333333333,
              "#9c179e"
             ],
             [
              0.4444444444444444,
              "#bd3786"
             ],
             [
              0.5555555555555556,
              "#d8576b"
             ],
             [
              0.6666666666666666,
              "#ed7953"
             ],
             [
              0.7777777777777778,
              "#fb9f3a"
             ],
             [
              0.8888888888888888,
              "#fdca26"
             ],
             [
              1,
              "#f0f921"
             ]
            ],
            "type": "histogram2dcontour"
           }
          ],
          "mesh3d": [
           {
            "colorbar": {
             "outlinewidth": 0,
             "ticks": ""
            },
            "type": "mesh3d"
           }
          ],
          "parcoords": [
           {
            "line": {
             "colorbar": {
              "outlinewidth": 0,
              "ticks": ""
             }
            },
            "type": "parcoords"
           }
          ],
          "pie": [
           {
            "automargin": true,
            "type": "pie"
           }
          ],
          "scatter": [
           {
            "marker": {
             "colorbar": {
              "outlinewidth": 0,
              "ticks": ""
             }
            },
            "type": "scatter"
           }
          ],
          "scatter3d": [
           {
            "line": {
             "colorbar": {
              "outlinewidth": 0,
              "ticks": ""
             }
            },
            "marker": {
             "colorbar": {
              "outlinewidth": 0,
              "ticks": ""
             }
            },
            "type": "scatter3d"
           }
          ],
          "scattercarpet": [
           {
            "marker": {
             "colorbar": {
              "outlinewidth": 0,
              "ticks": ""
             }
            },
            "type": "scattercarpet"
           }
          ],
          "scattergeo": [
           {
            "marker": {
             "colorbar": {
              "outlinewidth": 0,
              "ticks": ""
             }
            },
            "type": "scattergeo"
           }
          ],
          "scattergl": [
           {
            "marker": {
             "colorbar": {
              "outlinewidth": 0,
              "ticks": ""
             }
            },
            "type": "scattergl"
           }
          ],
          "scattermapbox": [
           {
            "marker": {
             "colorbar": {
              "outlinewidth": 0,
              "ticks": ""
             }
            },
            "type": "scattermapbox"
           }
          ],
          "scatterpolar": [
           {
            "marker": {
             "colorbar": {
              "outlinewidth": 0,
              "ticks": ""
             }
            },
            "type": "scatterpolar"
           }
          ],
          "scatterpolargl": [
           {
            "marker": {
             "colorbar": {
              "outlinewidth": 0,
              "ticks": ""
             }
            },
            "type": "scatterpolargl"
           }
          ],
          "scatterternary": [
           {
            "marker": {
             "colorbar": {
              "outlinewidth": 0,
              "ticks": ""
             }
            },
            "type": "scatterternary"
           }
          ],
          "surface": [
           {
            "colorbar": {
             "outlinewidth": 0,
             "ticks": ""
            },
            "colorscale": [
             [
              0,
              "#0d0887"
             ],
             [
              0.1111111111111111,
              "#46039f"
             ],
             [
              0.2222222222222222,
              "#7201a8"
             ],
             [
              0.3333333333333333,
              "#9c179e"
             ],
             [
              0.4444444444444444,
              "#bd3786"
             ],
             [
              0.5555555555555556,
              "#d8576b"
             ],
             [
              0.6666666666666666,
              "#ed7953"
             ],
             [
              0.7777777777777778,
              "#fb9f3a"
             ],
             [
              0.8888888888888888,
              "#fdca26"
             ],
             [
              1,
              "#f0f921"
             ]
            ],
            "type": "surface"
           }
          ],
          "table": [
           {
            "cells": {
             "fill": {
              "color": "#EBF0F8"
             },
             "line": {
              "color": "white"
             }
            },
            "header": {
             "fill": {
              "color": "#C8D4E3"
             },
             "line": {
              "color": "white"
             }
            },
            "type": "table"
           }
          ]
         },
         "layout": {
          "annotationdefaults": {
           "arrowcolor": "#2a3f5f",
           "arrowhead": 0,
           "arrowwidth": 1
          },
          "autotypenumbers": "strict",
          "coloraxis": {
           "colorbar": {
            "outlinewidth": 0,
            "ticks": ""
           }
          },
          "colorscale": {
           "diverging": [
            [
             0,
             "#8e0152"
            ],
            [
             0.1,
             "#c51b7d"
            ],
            [
             0.2,
             "#de77ae"
            ],
            [
             0.3,
             "#f1b6da"
            ],
            [
             0.4,
             "#fde0ef"
            ],
            [
             0.5,
             "#f7f7f7"
            ],
            [
             0.6,
             "#e6f5d0"
            ],
            [
             0.7,
             "#b8e186"
            ],
            [
             0.8,
             "#7fbc41"
            ],
            [
             0.9,
             "#4d9221"
            ],
            [
             1,
             "#276419"
            ]
           ],
           "sequential": [
            [
             0,
             "#0d0887"
            ],
            [
             0.1111111111111111,
             "#46039f"
            ],
            [
             0.2222222222222222,
             "#7201a8"
            ],
            [
             0.3333333333333333,
             "#9c179e"
            ],
            [
             0.4444444444444444,
             "#bd3786"
            ],
            [
             0.5555555555555556,
             "#d8576b"
            ],
            [
             0.6666666666666666,
             "#ed7953"
            ],
            [
             0.7777777777777778,
             "#fb9f3a"
            ],
            [
             0.8888888888888888,
             "#fdca26"
            ],
            [
             1,
             "#f0f921"
            ]
           ],
           "sequentialminus": [
            [
             0,
             "#0d0887"
            ],
            [
             0.1111111111111111,
             "#46039f"
            ],
            [
             0.2222222222222222,
             "#7201a8"
            ],
            [
             0.3333333333333333,
             "#9c179e"
            ],
            [
             0.4444444444444444,
             "#bd3786"
            ],
            [
             0.5555555555555556,
             "#d8576b"
            ],
            [
             0.6666666666666666,
             "#ed7953"
            ],
            [
             0.7777777777777778,
             "#fb9f3a"
            ],
            [
             0.8888888888888888,
             "#fdca26"
            ],
            [
             1,
             "#f0f921"
            ]
           ]
          },
          "colorway": [
           "#636efa",
           "#EF553B",
           "#00cc96",
           "#ab63fa",
           "#FFA15A",
           "#19d3f3",
           "#FF6692",
           "#B6E880",
           "#FF97FF",
           "#FECB52"
          ],
          "font": {
           "color": "#2a3f5f"
          },
          "geo": {
           "bgcolor": "white",
           "lakecolor": "white",
           "landcolor": "#E5ECF6",
           "showlakes": true,
           "showland": true,
           "subunitcolor": "white"
          },
          "hoverlabel": {
           "align": "left"
          },
          "hovermode": "closest",
          "mapbox": {
           "style": "light"
          },
          "paper_bgcolor": "white",
          "plot_bgcolor": "#E5ECF6",
          "polar": {
           "angularaxis": {
            "gridcolor": "white",
            "linecolor": "white",
            "ticks": ""
           },
           "bgcolor": "#E5ECF6",
           "radialaxis": {
            "gridcolor": "white",
            "linecolor": "white",
            "ticks": ""
           }
          },
          "scene": {
           "xaxis": {
            "backgroundcolor": "#E5ECF6",
            "gridcolor": "white",
            "gridwidth": 2,
            "linecolor": "white",
            "showbackground": true,
            "ticks": "",
            "zerolinecolor": "white"
           },
           "yaxis": {
            "backgroundcolor": "#E5ECF6",
            "gridcolor": "white",
            "gridwidth": 2,
            "linecolor": "white",
            "showbackground": true,
            "ticks": "",
            "zerolinecolor": "white"
           },
           "zaxis": {
            "backgroundcolor": "#E5ECF6",
            "gridcolor": "white",
            "gridwidth": 2,
            "linecolor": "white",
            "showbackground": true,
            "ticks": "",
            "zerolinecolor": "white"
           }
          },
          "shapedefaults": {
           "line": {
            "color": "#2a3f5f"
           }
          },
          "ternary": {
           "aaxis": {
            "gridcolor": "white",
            "linecolor": "white",
            "ticks": ""
           },
           "baxis": {
            "gridcolor": "white",
            "linecolor": "white",
            "ticks": ""
           },
           "bgcolor": "#E5ECF6",
           "caxis": {
            "gridcolor": "white",
            "linecolor": "white",
            "ticks": ""
           }
          },
          "title": {
           "x": 0.05
          },
          "xaxis": {
           "automargin": true,
           "gridcolor": "white",
           "linecolor": "white",
           "ticks": "",
           "title": {
            "standoff": 15
           },
           "zerolinecolor": "white",
           "zerolinewidth": 2
          },
          "yaxis": {
           "automargin": true,
           "gridcolor": "white",
           "linecolor": "white",
           "ticks": "",
           "title": {
            "standoff": 15
           },
           "zerolinecolor": "white",
           "zerolinewidth": 2
          }
         }
        },
        "xaxis": {
         "anchor": "y",
         "domain": [
          0,
          1
         ],
         "title": {
          "text": "Poverty %"
         },
         "type": "log"
        },
        "yaxis": {
         "anchor": "x",
         "domain": [
          0,
          1
         ],
         "title": {
          "text": "gdp_per_capita"
         }
        }
       }
      }
     },
     "metadata": {}
    }
   ],
   "source": [
    "fig = px.scatter(covid_groupby, x=\"Poverty %\", y=\"gdp_per_capita\", size=\"deaths_ratio\", color=\"continent\",\n",
    "           hover_name=\"country\",log_x=True, size_max=40)\n",
    "fig.show()"
   ]
  },
  {
   "cell_type": "code",
   "execution_count": 74,
   "metadata": {},
   "outputs": [],
   "source": [
    "def visualizacion_cuatro(data, suptitle, x1, x2, x3, y, t1, t2, t3, t4, t5, t6, n):\n",
    "\n",
    "    fig, axes = plt.subplots(2, 4, figsize=(20,20))\n",
    "    fig.suptitle(suptitle)\n",
    "\n",
    "    sns.barplot(ax=axes[0, 0], data=data.head(n), x=x1, y=y, color=\"b\", alpha=0.5).set(xlabel=None)\n",
    "\n",
    "    sns.barplot(ax=axes[0, 1], data=data.head(n), x=x2, y=y, color=\"m\", alpha=0.5).set(xlabel=None, ylabel=None, yticklabels=[])\n",
    "\n",
    "    sns.barplot(ax=axes[0, 2], data=data.head(n), x=x3, y=y, color=\"g\", alpha=0.5).set(xlabel=None, ylabel=None, yticklabels=[])\n",
    "\n",
    "    sns.barplot(ax=axes[1, 0], data=data.tail(n), x=x1, y=y, color=\"b\", alpha=0.5, label=x1)\n",
    "\n",
    "    sns.barplot(ax=axes[1, 1], data=data.tail(n), x=x2, y=y, color=\"m\", alpha=0.5, label=x2).set(ylabel=None, yticklabels=[])\n",
    "\n",
    "    sns.barplot(ax=axes[1, 2], data=data.head(n), x=x3, y=y, color=\"g\", alpha=0.5).set(xlabel=None, ylabel=None, yticklabels=[])\n",
    "    plt.legend()\n",
    "\n",
    "    axes[0, 0].set_title(t1)\n",
    "    axes[0, 1].set_title(t2)\n",
    "    axes[0, 2].set_title(t3)\n",
    "    axes[1, 0].set_title(t4)\n",
    "    axes[1, 1].set_title(t5)\n",
    "    axes[1, 2].set_title(t6)\n",
    "    plt.subplots_adjust(wspace=0.02, hspace=0.1)"
   ]
  },
  {
   "cell_type": "code",
   "execution_count": 72,
   "metadata": {},
   "outputs": [
    {
     "output_type": "stream",
     "name": "stderr",
     "text": [
      "2021-06-01 12:20:36,849 - WARNING  - No handles with labels found to put in legend.\n"
     ]
    },
    {
     "output_type": "display_data",
     "data": {
      "text/plain": "<Figure size 1440x1440 with 6 Axes>",
      "image/svg+xml": "<?xml version=\"1.0\" encoding=\"utf-8\" standalone=\"no\"?>\r\n<!DOCTYPE svg PUBLIC \"-//W3C//DTD SVG 1.1//EN\"\r\n  \"http://www.w3.org/Graphics/SVG/1.1/DTD/svg11.dtd\">\r\n<svg height=\"1276.234375pt\" version=\"1.1\" viewBox=\"0 0 1271.4375 1276.234375\" width=\"1271.4375pt\" xmlns=\"http://www.w3.org/2000/svg\" xmlns:xlink=\"http://www.w3.org/1999/xlink\">\r\n <metadata>\r\n  <rdf:RDF xmlns:cc=\"http://creativecommons.org/ns#\" xmlns:dc=\"http://purl.org/dc/elements/1.1/\" xmlns:rdf=\"http://www.w3.org/1999/02/22-rdf-syntax-ns#\">\r\n   <cc:Work>\r\n    <dc:type rdf:resource=\"http://purl.org/dc/dcmitype/StillImage\"/>\r\n    <dc:date>2021-06-01T12:20:37.683871</dc:date>\r\n    <dc:format>image/svg+xml</dc:format>\r\n    <dc:creator>\r\n     <cc:Agent>\r\n      <dc:title>Matplotlib v3.4.1, https://matplotlib.org/</dc:title>\r\n     </cc:Agent>\r\n    </dc:creator>\r\n   </cc:Work>\r\n  </rdf:RDF>\r\n </metadata>\r\n <defs>\r\n  <style type=\"text/css\">*{stroke-linecap:butt;stroke-linejoin:round;}</style>\r\n </defs>\r\n <g id=\"figure_1\">\r\n  <g id=\"patch_1\">\r\n   <path d=\"M 0 1276.234375 \r\nL 1271.4375 1276.234375 \r\nL 1271.4375 0 \r\nL 0 0 \r\nz\r\n\" style=\"fill:none;\"/>\r\n  </g>\r\n  <g id=\"axes_1\">\r\n   <g id=\"patch_2\">\r\n    <path d=\"M 148.2375 668.914286 \r\nL 515.342763 668.914286 \r\nL 515.342763 151.2 \r\nL 148.2375 151.2 \r\nz\r\n\" style=\"fill:#ffffff;\"/>\r\n   </g>\r\n   <g id=\"patch_3\">\r\n    <path clip-path=\"url(#p3dcf5b2004)\" d=\"M 148.2375 153.788571 \r\nL 497.86156 153.788571 \r\nL 497.86156 174.497143 \r\nL 148.2375 174.497143 \r\nz\r\n\" style=\"fill:#2020df;opacity:0.5;\"/>\r\n   </g>\r\n   <g id=\"patch_4\">\r\n    <path clip-path=\"url(#p3dcf5b2004)\" d=\"M 148.2375 179.674286 \r\nL 430.117825 179.674286 \r\nL 430.117825 200.382857 \r\nL 148.2375 200.382857 \r\nz\r\n\" style=\"fill:#2020df;opacity:0.5;\"/>\r\n   </g>\r\n   <g id=\"patch_5\">\r\n    <path clip-path=\"url(#p3dcf5b2004)\" d=\"M 148.2375 205.56 \r\nL 403.978505 205.56 \r\nL 403.978505 226.268571 \r\nL 148.2375 226.268571 \r\nz\r\n\" style=\"fill:#2020df;opacity:0.5;\"/>\r\n   </g>\r\n   <g id=\"patch_6\">\r\n    <path clip-path=\"url(#p3dcf5b2004)\" d=\"M 148.2375 231.445714 \r\nL 362.938942 231.445714 \r\nL 362.938942 252.154286 \r\nL 148.2375 252.154286 \r\nz\r\n\" style=\"fill:#2020df;opacity:0.5;\"/>\r\n   </g>\r\n   <g id=\"patch_7\">\r\n    <path clip-path=\"url(#p3dcf5b2004)\" d=\"M 148.2375 257.331429 \r\nL 349.562319 257.331429 \r\nL 349.562319 278.04 \r\nL 148.2375 278.04 \r\nz\r\n\" style=\"fill:#2020df;opacity:0.5;\"/>\r\n   </g>\r\n   <g id=\"patch_8\">\r\n    <path clip-path=\"url(#p3dcf5b2004)\" d=\"M 148.2375 283.217143 \r\nL 349.437312 283.217143 \r\nL 349.437312 303.925714 \r\nL 148.2375 303.925714 \r\nz\r\n\" style=\"fill:#2020df;opacity:0.5;\"/>\r\n   </g>\r\n   <g id=\"patch_9\">\r\n    <path clip-path=\"url(#p3dcf5b2004)\" d=\"M 148.2375 309.102857 \r\nL 344.166305 309.102857 \r\nL 344.166305 329.811429 \r\nL 148.2375 329.811429 \r\nz\r\n\" style=\"fill:#2020df;opacity:0.5;\"/>\r\n   </g>\r\n   <g id=\"patch_10\">\r\n    <path clip-path=\"url(#p3dcf5b2004)\" d=\"M 148.2375 334.988571 \r\nL 341.982254 334.988571 \r\nL 341.982254 355.697143 \r\nL 148.2375 355.697143 \r\nz\r\n\" style=\"fill:#2020df;opacity:0.5;\"/>\r\n   </g>\r\n   <g id=\"patch_11\">\r\n    <path clip-path=\"url(#p3dcf5b2004)\" d=\"M 148.2375 360.874286 \r\nL 319.887325 360.874286 \r\nL 319.887325 381.582857 \r\nL 148.2375 381.582857 \r\nz\r\n\" style=\"fill:#2020df;opacity:0.5;\"/>\r\n   </g>\r\n   <g id=\"patch_12\">\r\n    <path clip-path=\"url(#p3dcf5b2004)\" d=\"M 148.2375 386.76 \r\nL 310.365377 386.76 \r\nL 310.365377 407.468571 \r\nL 148.2375 407.468571 \r\nz\r\n\" style=\"fill:#2020df;opacity:0.5;\"/>\r\n   </g>\r\n   <g id=\"patch_13\">\r\n    <path clip-path=\"url(#p3dcf5b2004)\" d=\"M 148.2375 412.645714 \r\nL 293.164862 412.645714 \r\nL 293.164862 433.354286 \r\nL 148.2375 433.354286 \r\nz\r\n\" style=\"fill:#2020df;opacity:0.5;\"/>\r\n   </g>\r\n   <g id=\"patch_14\">\r\n    <path clip-path=\"url(#p3dcf5b2004)\" d=\"M 148.2375 438.531429 \r\nL 279.845059 438.531429 \r\nL 279.845059 459.24 \r\nL 148.2375 459.24 \r\nz\r\n\" style=\"fill:#2020df;opacity:0.5;\"/>\r\n   </g>\r\n   <g id=\"patch_15\">\r\n    <path clip-path=\"url(#p3dcf5b2004)\" d=\"M 148.2375 464.417143 \r\nL 234.23579 464.417143 \r\nL 234.23579 485.125714 \r\nL 148.2375 485.125714 \r\nz\r\n\" style=\"fill:#2020df;opacity:0.5;\"/>\r\n   </g>\r\n   <g id=\"patch_16\">\r\n    <path clip-path=\"url(#p3dcf5b2004)\" d=\"M 148.2375 490.302857 \r\nL 231.11069 490.302857 \r\nL 231.11069 511.011429 \r\nL 148.2375 511.011429 \r\nz\r\n\" style=\"fill:#2020df;opacity:0.5;\"/>\r\n   </g>\r\n   <g id=\"patch_17\">\r\n    <path clip-path=\"url(#p3dcf5b2004)\" d=\"M 148.2375 516.188571 \r\nL 227.117519 516.188571 \r\nL 227.117519 536.897143 \r\nL 148.2375 536.897143 \r\nz\r\n\" style=\"fill:#2020df;opacity:0.5;\"/>\r\n   </g>\r\n   <g id=\"patch_18\">\r\n    <path clip-path=\"url(#p3dcf5b2004)\" d=\"M 148.2375 542.074286 \r\nL 216.308335 542.074286 \r\nL 216.308335 562.782857 \r\nL 148.2375 562.782857 \r\nz\r\n\" style=\"fill:#2020df;opacity:0.5;\"/>\r\n   </g>\r\n   <g id=\"patch_19\">\r\n    <path clip-path=\"url(#p3dcf5b2004)\" d=\"M 148.2375 567.96 \r\nL 215.823483 567.96 \r\nL 215.823483 588.668571 \r\nL 148.2375 588.668571 \r\nz\r\n\" style=\"fill:#2020df;opacity:0.5;\"/>\r\n   </g>\r\n   <g id=\"patch_20\">\r\n    <path clip-path=\"url(#p3dcf5b2004)\" d=\"M 148.2375 593.845714 \r\nL 214.813392 593.845714 \r\nL 214.813392 614.554286 \r\nL 148.2375 614.554286 \r\nz\r\n\" style=\"fill:#2020df;opacity:0.5;\"/>\r\n   </g>\r\n   <g id=\"patch_21\">\r\n    <path clip-path=\"url(#p3dcf5b2004)\" d=\"M 148.2375 619.731429 \r\nL 209.683861 619.731429 \r\nL 209.683861 640.44 \r\nL 148.2375 640.44 \r\nz\r\n\" style=\"fill:#2020df;opacity:0.5;\"/>\r\n   </g>\r\n   <g id=\"patch_22\">\r\n    <path clip-path=\"url(#p3dcf5b2004)\" d=\"M 148.2375 645.617143 \r\nL 208.910485 645.617143 \r\nL 208.910485 666.325714 \r\nL 148.2375 666.325714 \r\nz\r\n\" style=\"fill:#2020df;opacity:0.5;\"/>\r\n   </g>\r\n   <g id=\"matplotlib.axis_1\">\r\n    <g id=\"xtick_1\">\r\n     <g id=\"line2d_1\">\r\n      <defs>\r\n       <path d=\"M 0 0 \r\nL 0 3.5 \r\n\" id=\"m8a04e302df\" style=\"stroke:#000000;stroke-width:0.8;\"/>\r\n      </defs>\r\n      <g>\r\n       <use style=\"stroke:#000000;stroke-width:0.8;\" x=\"148.2375\" xlink:href=\"#m8a04e302df\" y=\"668.914286\"/>\r\n      </g>\r\n     </g>\r\n     <g id=\"text_1\">\r\n      <!-- 0 -->\r\n      <g transform=\"translate(145.05625 683.512723)scale(0.1 -0.1)\">\r\n       <defs>\r\n        <path d=\"M 2034 4250 \r\nQ 1547 4250 1301 3770 \r\nQ 1056 3291 1056 2328 \r\nQ 1056 1369 1301 889 \r\nQ 1547 409 2034 409 \r\nQ 2525 409 2770 889 \r\nQ 3016 1369 3016 2328 \r\nQ 3016 3291 2770 3770 \r\nQ 2525 4250 2034 4250 \r\nz\r\nM 2034 4750 \r\nQ 2819 4750 3233 4129 \r\nQ 3647 3509 3647 2328 \r\nQ 3647 1150 3233 529 \r\nQ 2819 -91 2034 -91 \r\nQ 1250 -91 836 529 \r\nQ 422 1150 422 2328 \r\nQ 422 3509 836 4129 \r\nQ 1250 4750 2034 4750 \r\nz\r\n\" id=\"DejaVuSans-30\" transform=\"scale(0.015625)\"/>\r\n       </defs>\r\n       <use xlink:href=\"#DejaVuSans-30\"/>\r\n      </g>\r\n     </g>\r\n    </g>\r\n    <g id=\"xtick_2\">\r\n     <g id=\"line2d_2\">\r\n      <g>\r\n       <use style=\"stroke:#000000;stroke-width:0.8;\" x=\"208.035211\" xlink:href=\"#m8a04e302df\" y=\"668.914286\"/>\r\n      </g>\r\n     </g>\r\n     <g id=\"text_2\">\r\n      <!-- 20000 -->\r\n      <g transform=\"translate(192.128961 683.512723)scale(0.1 -0.1)\">\r\n       <defs>\r\n        <path d=\"M 1228 531 \r\nL 3431 531 \r\nL 3431 0 \r\nL 469 0 \r\nL 469 531 \r\nQ 828 903 1448 1529 \r\nQ 2069 2156 2228 2338 \r\nQ 2531 2678 2651 2914 \r\nQ 2772 3150 2772 3378 \r\nQ 2772 3750 2511 3984 \r\nQ 2250 4219 1831 4219 \r\nQ 1534 4219 1204 4116 \r\nQ 875 4013 500 3803 \r\nL 500 4441 \r\nQ 881 4594 1212 4672 \r\nQ 1544 4750 1819 4750 \r\nQ 2544 4750 2975 4387 \r\nQ 3406 4025 3406 3419 \r\nQ 3406 3131 3298 2873 \r\nQ 3191 2616 2906 2266 \r\nQ 2828 2175 2409 1742 \r\nQ 1991 1309 1228 531 \r\nz\r\n\" id=\"DejaVuSans-32\" transform=\"scale(0.015625)\"/>\r\n       </defs>\r\n       <use xlink:href=\"#DejaVuSans-32\"/>\r\n       <use x=\"63.623047\" xlink:href=\"#DejaVuSans-30\"/>\r\n       <use x=\"127.246094\" xlink:href=\"#DejaVuSans-30\"/>\r\n       <use x=\"190.869141\" xlink:href=\"#DejaVuSans-30\"/>\r\n       <use x=\"254.492188\" xlink:href=\"#DejaVuSans-30\"/>\r\n      </g>\r\n     </g>\r\n    </g>\r\n    <g id=\"xtick_3\">\r\n     <g id=\"line2d_3\">\r\n      <g>\r\n       <use style=\"stroke:#000000;stroke-width:0.8;\" x=\"267.832922\" xlink:href=\"#m8a04e302df\" y=\"668.914286\"/>\r\n      </g>\r\n     </g>\r\n     <g id=\"text_3\">\r\n      <!-- 40000 -->\r\n      <g transform=\"translate(251.926672 683.512723)scale(0.1 -0.1)\">\r\n       <defs>\r\n        <path d=\"M 2419 4116 \r\nL 825 1625 \r\nL 2419 1625 \r\nL 2419 4116 \r\nz\r\nM 2253 4666 \r\nL 3047 4666 \r\nL 3047 1625 \r\nL 3713 1625 \r\nL 3713 1100 \r\nL 3047 1100 \r\nL 3047 0 \r\nL 2419 0 \r\nL 2419 1100 \r\nL 313 1100 \r\nL 313 1709 \r\nL 2253 4666 \r\nz\r\n\" id=\"DejaVuSans-34\" transform=\"scale(0.015625)\"/>\r\n       </defs>\r\n       <use xlink:href=\"#DejaVuSans-34\"/>\r\n       <use x=\"63.623047\" xlink:href=\"#DejaVuSans-30\"/>\r\n       <use x=\"127.246094\" xlink:href=\"#DejaVuSans-30\"/>\r\n       <use x=\"190.869141\" xlink:href=\"#DejaVuSans-30\"/>\r\n       <use x=\"254.492188\" xlink:href=\"#DejaVuSans-30\"/>\r\n      </g>\r\n     </g>\r\n    </g>\r\n    <g id=\"xtick_4\">\r\n     <g id=\"line2d_4\">\r\n      <g>\r\n       <use style=\"stroke:#000000;stroke-width:0.8;\" x=\"327.630633\" xlink:href=\"#m8a04e302df\" y=\"668.914286\"/>\r\n      </g>\r\n     </g>\r\n     <g id=\"text_4\">\r\n      <!-- 60000 -->\r\n      <g transform=\"translate(311.724383 683.512723)scale(0.1 -0.1)\">\r\n       <defs>\r\n        <path d=\"M 2113 2584 \r\nQ 1688 2584 1439 2293 \r\nQ 1191 2003 1191 1497 \r\nQ 1191 994 1439 701 \r\nQ 1688 409 2113 409 \r\nQ 2538 409 2786 701 \r\nQ 3034 994 3034 1497 \r\nQ 3034 2003 2786 2293 \r\nQ 2538 2584 2113 2584 \r\nz\r\nM 3366 4563 \r\nL 3366 3988 \r\nQ 3128 4100 2886 4159 \r\nQ 2644 4219 2406 4219 \r\nQ 1781 4219 1451 3797 \r\nQ 1122 3375 1075 2522 \r\nQ 1259 2794 1537 2939 \r\nQ 1816 3084 2150 3084 \r\nQ 2853 3084 3261 2657 \r\nQ 3669 2231 3669 1497 \r\nQ 3669 778 3244 343 \r\nQ 2819 -91 2113 -91 \r\nQ 1303 -91 875 529 \r\nQ 447 1150 447 2328 \r\nQ 447 3434 972 4092 \r\nQ 1497 4750 2381 4750 \r\nQ 2619 4750 2861 4703 \r\nQ 3103 4656 3366 4563 \r\nz\r\n\" id=\"DejaVuSans-36\" transform=\"scale(0.015625)\"/>\r\n       </defs>\r\n       <use xlink:href=\"#DejaVuSans-36\"/>\r\n       <use x=\"63.623047\" xlink:href=\"#DejaVuSans-30\"/>\r\n       <use x=\"127.246094\" xlink:href=\"#DejaVuSans-30\"/>\r\n       <use x=\"190.869141\" xlink:href=\"#DejaVuSans-30\"/>\r\n       <use x=\"254.492188\" xlink:href=\"#DejaVuSans-30\"/>\r\n      </g>\r\n     </g>\r\n    </g>\r\n    <g id=\"xtick_5\">\r\n     <g id=\"line2d_5\">\r\n      <g>\r\n       <use style=\"stroke:#000000;stroke-width:0.8;\" x=\"387.428344\" xlink:href=\"#m8a04e302df\" y=\"668.914286\"/>\r\n      </g>\r\n     </g>\r\n     <g id=\"text_5\">\r\n      <!-- 80000 -->\r\n      <g transform=\"translate(371.522094 683.512723)scale(0.1 -0.1)\">\r\n       <defs>\r\n        <path d=\"M 2034 2216 \r\nQ 1584 2216 1326 1975 \r\nQ 1069 1734 1069 1313 \r\nQ 1069 891 1326 650 \r\nQ 1584 409 2034 409 \r\nQ 2484 409 2743 651 \r\nQ 3003 894 3003 1313 \r\nQ 3003 1734 2745 1975 \r\nQ 2488 2216 2034 2216 \r\nz\r\nM 1403 2484 \r\nQ 997 2584 770 2862 \r\nQ 544 3141 544 3541 \r\nQ 544 4100 942 4425 \r\nQ 1341 4750 2034 4750 \r\nQ 2731 4750 3128 4425 \r\nQ 3525 4100 3525 3541 \r\nQ 3525 3141 3298 2862 \r\nQ 3072 2584 2669 2484 \r\nQ 3125 2378 3379 2068 \r\nQ 3634 1759 3634 1313 \r\nQ 3634 634 3220 271 \r\nQ 2806 -91 2034 -91 \r\nQ 1263 -91 848 271 \r\nQ 434 634 434 1313 \r\nQ 434 1759 690 2068 \r\nQ 947 2378 1403 2484 \r\nz\r\nM 1172 3481 \r\nQ 1172 3119 1398 2916 \r\nQ 1625 2713 2034 2713 \r\nQ 2441 2713 2670 2916 \r\nQ 2900 3119 2900 3481 \r\nQ 2900 3844 2670 4047 \r\nQ 2441 4250 2034 4250 \r\nQ 1625 4250 1398 4047 \r\nQ 1172 3844 1172 3481 \r\nz\r\n\" id=\"DejaVuSans-38\" transform=\"scale(0.015625)\"/>\r\n       </defs>\r\n       <use xlink:href=\"#DejaVuSans-38\"/>\r\n       <use x=\"63.623047\" xlink:href=\"#DejaVuSans-30\"/>\r\n       <use x=\"127.246094\" xlink:href=\"#DejaVuSans-30\"/>\r\n       <use x=\"190.869141\" xlink:href=\"#DejaVuSans-30\"/>\r\n       <use x=\"254.492188\" xlink:href=\"#DejaVuSans-30\"/>\r\n      </g>\r\n     </g>\r\n    </g>\r\n    <g id=\"xtick_6\">\r\n     <g id=\"line2d_6\">\r\n      <g>\r\n       <use style=\"stroke:#000000;stroke-width:0.8;\" x=\"447.226055\" xlink:href=\"#m8a04e302df\" y=\"668.914286\"/>\r\n      </g>\r\n     </g>\r\n     <g id=\"text_6\">\r\n      <!-- 100000 -->\r\n      <g transform=\"translate(428.138555 683.512723)scale(0.1 -0.1)\">\r\n       <defs>\r\n        <path d=\"M 794 531 \r\nL 1825 531 \r\nL 1825 4091 \r\nL 703 3866 \r\nL 703 4441 \r\nL 1819 4666 \r\nL 2450 4666 \r\nL 2450 531 \r\nL 3481 531 \r\nL 3481 0 \r\nL 794 0 \r\nL 794 531 \r\nz\r\n\" id=\"DejaVuSans-31\" transform=\"scale(0.015625)\"/>\r\n       </defs>\r\n       <use xlink:href=\"#DejaVuSans-31\"/>\r\n       <use x=\"63.623047\" xlink:href=\"#DejaVuSans-30\"/>\r\n       <use x=\"127.246094\" xlink:href=\"#DejaVuSans-30\"/>\r\n       <use x=\"190.869141\" xlink:href=\"#DejaVuSans-30\"/>\r\n       <use x=\"254.492188\" xlink:href=\"#DejaVuSans-30\"/>\r\n       <use x=\"318.115234\" xlink:href=\"#DejaVuSans-30\"/>\r\n      </g>\r\n     </g>\r\n    </g>\r\n    <g id=\"xtick_7\">\r\n     <g id=\"line2d_7\">\r\n      <g>\r\n       <use style=\"stroke:#000000;stroke-width:0.8;\" x=\"507.023765\" xlink:href=\"#m8a04e302df\" y=\"668.914286\"/>\r\n      </g>\r\n     </g>\r\n     <g id=\"text_7\">\r\n      <!-- 120000 -->\r\n      <g transform=\"translate(487.936265 683.512723)scale(0.1 -0.1)\">\r\n       <use xlink:href=\"#DejaVuSans-31\"/>\r\n       <use x=\"63.623047\" xlink:href=\"#DejaVuSans-32\"/>\r\n       <use x=\"127.246094\" xlink:href=\"#DejaVuSans-30\"/>\r\n       <use x=\"190.869141\" xlink:href=\"#DejaVuSans-30\"/>\r\n       <use x=\"254.492188\" xlink:href=\"#DejaVuSans-30\"/>\r\n       <use x=\"318.115234\" xlink:href=\"#DejaVuSans-30\"/>\r\n      </g>\r\n     </g>\r\n    </g>\r\n   </g>\r\n   <g id=\"matplotlib.axis_2\">\r\n    <g id=\"ytick_1\">\r\n     <g id=\"line2d_8\">\r\n      <defs>\r\n       <path d=\"M 0 0 \r\nL -3.5 0 \r\n\" id=\"m751f102a23\" style=\"stroke:#000000;stroke-width:0.8;\"/>\r\n      </defs>\r\n      <g>\r\n       <use style=\"stroke:#000000;stroke-width:0.8;\" x=\"148.2375\" xlink:href=\"#m751f102a23\" y=\"164.142857\"/>\r\n      </g>\r\n     </g>\r\n     <g id=\"text_8\">\r\n      <!-- Qatar -->\r\n      <g transform=\"translate(113.078125 167.942076)scale(0.1 -0.1)\">\r\n       <defs>\r\n        <path d=\"M 2522 4238 \r\nQ 1834 4238 1429 3725 \r\nQ 1025 3213 1025 2328 \r\nQ 1025 1447 1429 934 \r\nQ 1834 422 2522 422 \r\nQ 3209 422 3611 934 \r\nQ 4013 1447 4013 2328 \r\nQ 4013 3213 3611 3725 \r\nQ 3209 4238 2522 4238 \r\nz\r\nM 3406 84 \r\nL 4238 -825 \r\nL 3475 -825 \r\nL 2784 -78 \r\nQ 2681 -84 2626 -87 \r\nQ 2572 -91 2522 -91 \r\nQ 1538 -91 948 567 \r\nQ 359 1225 359 2328 \r\nQ 359 3434 948 4092 \r\nQ 1538 4750 2522 4750 \r\nQ 3503 4750 4090 4092 \r\nQ 4678 3434 4678 2328 \r\nQ 4678 1516 4351 937 \r\nQ 4025 359 3406 84 \r\nz\r\n\" id=\"DejaVuSans-51\" transform=\"scale(0.015625)\"/>\r\n        <path d=\"M 2194 1759 \r\nQ 1497 1759 1228 1600 \r\nQ 959 1441 959 1056 \r\nQ 959 750 1161 570 \r\nQ 1363 391 1709 391 \r\nQ 2188 391 2477 730 \r\nQ 2766 1069 2766 1631 \r\nL 2766 1759 \r\nL 2194 1759 \r\nz\r\nM 3341 1997 \r\nL 3341 0 \r\nL 2766 0 \r\nL 2766 531 \r\nQ 2569 213 2275 61 \r\nQ 1981 -91 1556 -91 \r\nQ 1019 -91 701 211 \r\nQ 384 513 384 1019 \r\nQ 384 1609 779 1909 \r\nQ 1175 2209 1959 2209 \r\nL 2766 2209 \r\nL 2766 2266 \r\nQ 2766 2663 2505 2880 \r\nQ 2244 3097 1772 3097 \r\nQ 1472 3097 1187 3025 \r\nQ 903 2953 641 2809 \r\nL 641 3341 \r\nQ 956 3463 1253 3523 \r\nQ 1550 3584 1831 3584 \r\nQ 2591 3584 2966 3190 \r\nQ 3341 2797 3341 1997 \r\nz\r\n\" id=\"DejaVuSans-61\" transform=\"scale(0.015625)\"/>\r\n        <path d=\"M 1172 4494 \r\nL 1172 3500 \r\nL 2356 3500 \r\nL 2356 3053 \r\nL 1172 3053 \r\nL 1172 1153 \r\nQ 1172 725 1289 603 \r\nQ 1406 481 1766 481 \r\nL 2356 481 \r\nL 2356 0 \r\nL 1766 0 \r\nQ 1100 0 847 248 \r\nQ 594 497 594 1153 \r\nL 594 3053 \r\nL 172 3053 \r\nL 172 3500 \r\nL 594 3500 \r\nL 594 4494 \r\nL 1172 4494 \r\nz\r\n\" id=\"DejaVuSans-74\" transform=\"scale(0.015625)\"/>\r\n        <path d=\"M 2631 2963 \r\nQ 2534 3019 2420 3045 \r\nQ 2306 3072 2169 3072 \r\nQ 1681 3072 1420 2755 \r\nQ 1159 2438 1159 1844 \r\nL 1159 0 \r\nL 581 0 \r\nL 581 3500 \r\nL 1159 3500 \r\nL 1159 2956 \r\nQ 1341 3275 1631 3429 \r\nQ 1922 3584 2338 3584 \r\nQ 2397 3584 2469 3576 \r\nQ 2541 3569 2628 3553 \r\nL 2631 2963 \r\nz\r\n\" id=\"DejaVuSans-72\" transform=\"scale(0.015625)\"/>\r\n       </defs>\r\n       <use xlink:href=\"#DejaVuSans-51\"/>\r\n       <use x=\"78.710938\" xlink:href=\"#DejaVuSans-61\"/>\r\n       <use x=\"139.990234\" xlink:href=\"#DejaVuSans-74\"/>\r\n       <use x=\"179.199219\" xlink:href=\"#DejaVuSans-61\"/>\r\n       <use x=\"240.478516\" xlink:href=\"#DejaVuSans-72\"/>\r\n      </g>\r\n     </g>\r\n    </g>\r\n    <g id=\"ytick_2\">\r\n     <g id=\"line2d_9\">\r\n      <g>\r\n       <use style=\"stroke:#000000;stroke-width:0.8;\" x=\"148.2375\" xlink:href=\"#m751f102a23\" y=\"190.028571\"/>\r\n      </g>\r\n     </g>\r\n     <g id=\"text_9\">\r\n      <!-- Luxembourg -->\r\n      <g transform=\"translate(78.914062 193.82779)scale(0.1 -0.1)\">\r\n       <defs>\r\n        <path d=\"M 628 4666 \r\nL 1259 4666 \r\nL 1259 531 \r\nL 3531 531 \r\nL 3531 0 \r\nL 628 0 \r\nL 628 4666 \r\nz\r\n\" id=\"DejaVuSans-4c\" transform=\"scale(0.015625)\"/>\r\n        <path d=\"M 544 1381 \r\nL 544 3500 \r\nL 1119 3500 \r\nL 1119 1403 \r\nQ 1119 906 1312 657 \r\nQ 1506 409 1894 409 \r\nQ 2359 409 2629 706 \r\nQ 2900 1003 2900 1516 \r\nL 2900 3500 \r\nL 3475 3500 \r\nL 3475 0 \r\nL 2900 0 \r\nL 2900 538 \r\nQ 2691 219 2414 64 \r\nQ 2138 -91 1772 -91 \r\nQ 1169 -91 856 284 \r\nQ 544 659 544 1381 \r\nz\r\nM 1991 3584 \r\nL 1991 3584 \r\nz\r\n\" id=\"DejaVuSans-75\" transform=\"scale(0.015625)\"/>\r\n        <path d=\"M 3513 3500 \r\nL 2247 1797 \r\nL 3578 0 \r\nL 2900 0 \r\nL 1881 1375 \r\nL 863 0 \r\nL 184 0 \r\nL 1544 1831 \r\nL 300 3500 \r\nL 978 3500 \r\nL 1906 2253 \r\nL 2834 3500 \r\nL 3513 3500 \r\nz\r\n\" id=\"DejaVuSans-78\" transform=\"scale(0.015625)\"/>\r\n        <path d=\"M 3597 1894 \r\nL 3597 1613 \r\nL 953 1613 \r\nQ 991 1019 1311 708 \r\nQ 1631 397 2203 397 \r\nQ 2534 397 2845 478 \r\nQ 3156 559 3463 722 \r\nL 3463 178 \r\nQ 3153 47 2828 -22 \r\nQ 2503 -91 2169 -91 \r\nQ 1331 -91 842 396 \r\nQ 353 884 353 1716 \r\nQ 353 2575 817 3079 \r\nQ 1281 3584 2069 3584 \r\nQ 2775 3584 3186 3129 \r\nQ 3597 2675 3597 1894 \r\nz\r\nM 3022 2063 \r\nQ 3016 2534 2758 2815 \r\nQ 2500 3097 2075 3097 \r\nQ 1594 3097 1305 2825 \r\nQ 1016 2553 972 2059 \r\nL 3022 2063 \r\nz\r\n\" id=\"DejaVuSans-65\" transform=\"scale(0.015625)\"/>\r\n        <path d=\"M 3328 2828 \r\nQ 3544 3216 3844 3400 \r\nQ 4144 3584 4550 3584 \r\nQ 5097 3584 5394 3201 \r\nQ 5691 2819 5691 2113 \r\nL 5691 0 \r\nL 5113 0 \r\nL 5113 2094 \r\nQ 5113 2597 4934 2840 \r\nQ 4756 3084 4391 3084 \r\nQ 3944 3084 3684 2787 \r\nQ 3425 2491 3425 1978 \r\nL 3425 0 \r\nL 2847 0 \r\nL 2847 2094 \r\nQ 2847 2600 2669 2842 \r\nQ 2491 3084 2119 3084 \r\nQ 1678 3084 1418 2786 \r\nQ 1159 2488 1159 1978 \r\nL 1159 0 \r\nL 581 0 \r\nL 581 3500 \r\nL 1159 3500 \r\nL 1159 2956 \r\nQ 1356 3278 1631 3431 \r\nQ 1906 3584 2284 3584 \r\nQ 2666 3584 2933 3390 \r\nQ 3200 3197 3328 2828 \r\nz\r\n\" id=\"DejaVuSans-6d\" transform=\"scale(0.015625)\"/>\r\n        <path d=\"M 3116 1747 \r\nQ 3116 2381 2855 2742 \r\nQ 2594 3103 2138 3103 \r\nQ 1681 3103 1420 2742 \r\nQ 1159 2381 1159 1747 \r\nQ 1159 1113 1420 752 \r\nQ 1681 391 2138 391 \r\nQ 2594 391 2855 752 \r\nQ 3116 1113 3116 1747 \r\nz\r\nM 1159 2969 \r\nQ 1341 3281 1617 3432 \r\nQ 1894 3584 2278 3584 \r\nQ 2916 3584 3314 3078 \r\nQ 3713 2572 3713 1747 \r\nQ 3713 922 3314 415 \r\nQ 2916 -91 2278 -91 \r\nQ 1894 -91 1617 61 \r\nQ 1341 213 1159 525 \r\nL 1159 0 \r\nL 581 0 \r\nL 581 4863 \r\nL 1159 4863 \r\nL 1159 2969 \r\nz\r\n\" id=\"DejaVuSans-62\" transform=\"scale(0.015625)\"/>\r\n        <path d=\"M 1959 3097 \r\nQ 1497 3097 1228 2736 \r\nQ 959 2375 959 1747 \r\nQ 959 1119 1226 758 \r\nQ 1494 397 1959 397 \r\nQ 2419 397 2687 759 \r\nQ 2956 1122 2956 1747 \r\nQ 2956 2369 2687 2733 \r\nQ 2419 3097 1959 3097 \r\nz\r\nM 1959 3584 \r\nQ 2709 3584 3137 3096 \r\nQ 3566 2609 3566 1747 \r\nQ 3566 888 3137 398 \r\nQ 2709 -91 1959 -91 \r\nQ 1206 -91 779 398 \r\nQ 353 888 353 1747 \r\nQ 353 2609 779 3096 \r\nQ 1206 3584 1959 3584 \r\nz\r\n\" id=\"DejaVuSans-6f\" transform=\"scale(0.015625)\"/>\r\n        <path d=\"M 2906 1791 \r\nQ 2906 2416 2648 2759 \r\nQ 2391 3103 1925 3103 \r\nQ 1463 3103 1205 2759 \r\nQ 947 2416 947 1791 \r\nQ 947 1169 1205 825 \r\nQ 1463 481 1925 481 \r\nQ 2391 481 2648 825 \r\nQ 2906 1169 2906 1791 \r\nz\r\nM 3481 434 \r\nQ 3481 -459 3084 -895 \r\nQ 2688 -1331 1869 -1331 \r\nQ 1566 -1331 1297 -1286 \r\nQ 1028 -1241 775 -1147 \r\nL 775 -588 \r\nQ 1028 -725 1275 -790 \r\nQ 1522 -856 1778 -856 \r\nQ 2344 -856 2625 -561 \r\nQ 2906 -266 2906 331 \r\nL 2906 616 \r\nQ 2728 306 2450 153 \r\nQ 2172 0 1784 0 \r\nQ 1141 0 747 490 \r\nQ 353 981 353 1791 \r\nQ 353 2603 747 3093 \r\nQ 1141 3584 1784 3584 \r\nQ 2172 3584 2450 3431 \r\nQ 2728 3278 2906 2969 \r\nL 2906 3500 \r\nL 3481 3500 \r\nL 3481 434 \r\nz\r\n\" id=\"DejaVuSans-67\" transform=\"scale(0.015625)\"/>\r\n       </defs>\r\n       <use xlink:href=\"#DejaVuSans-4c\"/>\r\n       <use x=\"53.962891\" xlink:href=\"#DejaVuSans-75\"/>\r\n       <use x=\"117.341797\" xlink:href=\"#DejaVuSans-78\"/>\r\n       <use x=\"173.396484\" xlink:href=\"#DejaVuSans-65\"/>\r\n       <use x=\"234.919922\" xlink:href=\"#DejaVuSans-6d\"/>\r\n       <use x=\"332.332031\" xlink:href=\"#DejaVuSans-62\"/>\r\n       <use x=\"395.808594\" xlink:href=\"#DejaVuSans-6f\"/>\r\n       <use x=\"456.990234\" xlink:href=\"#DejaVuSans-75\"/>\r\n       <use x=\"520.369141\" xlink:href=\"#DejaVuSans-72\"/>\r\n       <use x=\"559.732422\" xlink:href=\"#DejaVuSans-67\"/>\r\n      </g>\r\n     </g>\r\n    </g>\r\n    <g id=\"ytick_3\">\r\n     <g id=\"line2d_10\">\r\n      <g>\r\n       <use style=\"stroke:#000000;stroke-width:0.8;\" x=\"148.2375\" xlink:href=\"#m751f102a23\" y=\"215.914286\"/>\r\n      </g>\r\n     </g>\r\n     <g id=\"text_10\">\r\n      <!-- Singapore -->\r\n      <g transform=\"translate(90.790625 219.713504)scale(0.1 -0.1)\">\r\n       <defs>\r\n        <path d=\"M 3425 4513 \r\nL 3425 3897 \r\nQ 3066 4069 2747 4153 \r\nQ 2428 4238 2131 4238 \r\nQ 1616 4238 1336 4038 \r\nQ 1056 3838 1056 3469 \r\nQ 1056 3159 1242 3001 \r\nQ 1428 2844 1947 2747 \r\nL 2328 2669 \r\nQ 3034 2534 3370 2195 \r\nQ 3706 1856 3706 1288 \r\nQ 3706 609 3251 259 \r\nQ 2797 -91 1919 -91 \r\nQ 1588 -91 1214 -16 \r\nQ 841 59 441 206 \r\nL 441 856 \r\nQ 825 641 1194 531 \r\nQ 1563 422 1919 422 \r\nQ 2459 422 2753 634 \r\nQ 3047 847 3047 1241 \r\nQ 3047 1584 2836 1778 \r\nQ 2625 1972 2144 2069 \r\nL 1759 2144 \r\nQ 1053 2284 737 2584 \r\nQ 422 2884 422 3419 \r\nQ 422 4038 858 4394 \r\nQ 1294 4750 2059 4750 \r\nQ 2388 4750 2728 4690 \r\nQ 3069 4631 3425 4513 \r\nz\r\n\" id=\"DejaVuSans-53\" transform=\"scale(0.015625)\"/>\r\n        <path d=\"M 603 3500 \r\nL 1178 3500 \r\nL 1178 0 \r\nL 603 0 \r\nL 603 3500 \r\nz\r\nM 603 4863 \r\nL 1178 4863 \r\nL 1178 4134 \r\nL 603 4134 \r\nL 603 4863 \r\nz\r\n\" id=\"DejaVuSans-69\" transform=\"scale(0.015625)\"/>\r\n        <path d=\"M 3513 2113 \r\nL 3513 0 \r\nL 2938 0 \r\nL 2938 2094 \r\nQ 2938 2591 2744 2837 \r\nQ 2550 3084 2163 3084 \r\nQ 1697 3084 1428 2787 \r\nQ 1159 2491 1159 1978 \r\nL 1159 0 \r\nL 581 0 \r\nL 581 3500 \r\nL 1159 3500 \r\nL 1159 2956 \r\nQ 1366 3272 1645 3428 \r\nQ 1925 3584 2291 3584 \r\nQ 2894 3584 3203 3211 \r\nQ 3513 2838 3513 2113 \r\nz\r\n\" id=\"DejaVuSans-6e\" transform=\"scale(0.015625)\"/>\r\n        <path d=\"M 1159 525 \r\nL 1159 -1331 \r\nL 581 -1331 \r\nL 581 3500 \r\nL 1159 3500 \r\nL 1159 2969 \r\nQ 1341 3281 1617 3432 \r\nQ 1894 3584 2278 3584 \r\nQ 2916 3584 3314 3078 \r\nQ 3713 2572 3713 1747 \r\nQ 3713 922 3314 415 \r\nQ 2916 -91 2278 -91 \r\nQ 1894 -91 1617 61 \r\nQ 1341 213 1159 525 \r\nz\r\nM 3116 1747 \r\nQ 3116 2381 2855 2742 \r\nQ 2594 3103 2138 3103 \r\nQ 1681 3103 1420 2742 \r\nQ 1159 2381 1159 1747 \r\nQ 1159 1113 1420 752 \r\nQ 1681 391 2138 391 \r\nQ 2594 391 2855 752 \r\nQ 3116 1113 3116 1747 \r\nz\r\n\" id=\"DejaVuSans-70\" transform=\"scale(0.015625)\"/>\r\n       </defs>\r\n       <use xlink:href=\"#DejaVuSans-53\"/>\r\n       <use x=\"63.476562\" xlink:href=\"#DejaVuSans-69\"/>\r\n       <use x=\"91.259766\" xlink:href=\"#DejaVuSans-6e\"/>\r\n       <use x=\"154.638672\" xlink:href=\"#DejaVuSans-67\"/>\r\n       <use x=\"218.115234\" xlink:href=\"#DejaVuSans-61\"/>\r\n       <use x=\"279.394531\" xlink:href=\"#DejaVuSans-70\"/>\r\n       <use x=\"342.871094\" xlink:href=\"#DejaVuSans-6f\"/>\r\n       <use x=\"404.052734\" xlink:href=\"#DejaVuSans-72\"/>\r\n       <use x=\"442.916016\" xlink:href=\"#DejaVuSans-65\"/>\r\n      </g>\r\n     </g>\r\n    </g>\r\n    <g id=\"ytick_4\">\r\n     <g id=\"line2d_11\">\r\n      <g>\r\n       <use style=\"stroke:#000000;stroke-width:0.8;\" x=\"148.2375\" xlink:href=\"#m751f102a23\" y=\"241.8\"/>\r\n      </g>\r\n     </g>\r\n     <g id=\"text_11\">\r\n      <!-- Brunei -->\r\n      <g transform=\"translate(108.659375 245.599219)scale(0.1 -0.1)\">\r\n       <defs>\r\n        <path d=\"M 1259 2228 \r\nL 1259 519 \r\nL 2272 519 \r\nQ 2781 519 3026 730 \r\nQ 3272 941 3272 1375 \r\nQ 3272 1813 3026 2020 \r\nQ 2781 2228 2272 2228 \r\nL 1259 2228 \r\nz\r\nM 1259 4147 \r\nL 1259 2741 \r\nL 2194 2741 \r\nQ 2656 2741 2882 2914 \r\nQ 3109 3088 3109 3444 \r\nQ 3109 3797 2882 3972 \r\nQ 2656 4147 2194 4147 \r\nL 1259 4147 \r\nz\r\nM 628 4666 \r\nL 2241 4666 \r\nQ 2963 4666 3353 4366 \r\nQ 3744 4066 3744 3513 \r\nQ 3744 3084 3544 2831 \r\nQ 3344 2578 2956 2516 \r\nQ 3422 2416 3680 2098 \r\nQ 3938 1781 3938 1306 \r\nQ 3938 681 3513 340 \r\nQ 3088 0 2303 0 \r\nL 628 0 \r\nL 628 4666 \r\nz\r\n\" id=\"DejaVuSans-42\" transform=\"scale(0.015625)\"/>\r\n       </defs>\r\n       <use xlink:href=\"#DejaVuSans-42\"/>\r\n       <use x=\"68.603516\" xlink:href=\"#DejaVuSans-72\"/>\r\n       <use x=\"109.716797\" xlink:href=\"#DejaVuSans-75\"/>\r\n       <use x=\"173.095703\" xlink:href=\"#DejaVuSans-6e\"/>\r\n       <use x=\"236.474609\" xlink:href=\"#DejaVuSans-65\"/>\r\n       <use x=\"297.998047\" xlink:href=\"#DejaVuSans-69\"/>\r\n      </g>\r\n     </g>\r\n    </g>\r\n    <g id=\"ytick_5\">\r\n     <g id=\"line2d_12\">\r\n      <g>\r\n       <use style=\"stroke:#000000;stroke-width:0.8;\" x=\"148.2375\" xlink:href=\"#m751f102a23\" y=\"267.685714\"/>\r\n      </g>\r\n     </g>\r\n     <g id=\"text_12\">\r\n      <!-- Ireland -->\r\n      <g transform=\"translate(106.65625 271.484933)scale(0.1 -0.1)\">\r\n       <defs>\r\n        <path d=\"M 628 4666 \r\nL 1259 4666 \r\nL 1259 0 \r\nL 628 0 \r\nL 628 4666 \r\nz\r\n\" id=\"DejaVuSans-49\" transform=\"scale(0.015625)\"/>\r\n        <path d=\"M 603 4863 \r\nL 1178 4863 \r\nL 1178 0 \r\nL 603 0 \r\nL 603 4863 \r\nz\r\n\" id=\"DejaVuSans-6c\" transform=\"scale(0.015625)\"/>\r\n        <path d=\"M 2906 2969 \r\nL 2906 4863 \r\nL 3481 4863 \r\nL 3481 0 \r\nL 2906 0 \r\nL 2906 525 \r\nQ 2725 213 2448 61 \r\nQ 2172 -91 1784 -91 \r\nQ 1150 -91 751 415 \r\nQ 353 922 353 1747 \r\nQ 353 2572 751 3078 \r\nQ 1150 3584 1784 3584 \r\nQ 2172 3584 2448 3432 \r\nQ 2725 3281 2906 2969 \r\nz\r\nM 947 1747 \r\nQ 947 1113 1208 752 \r\nQ 1469 391 1925 391 \r\nQ 2381 391 2643 752 \r\nQ 2906 1113 2906 1747 \r\nQ 2906 2381 2643 2742 \r\nQ 2381 3103 1925 3103 \r\nQ 1469 3103 1208 2742 \r\nQ 947 2381 947 1747 \r\nz\r\n\" id=\"DejaVuSans-64\" transform=\"scale(0.015625)\"/>\r\n       </defs>\r\n       <use xlink:href=\"#DejaVuSans-49\"/>\r\n       <use x=\"29.492188\" xlink:href=\"#DejaVuSans-72\"/>\r\n       <use x=\"68.355469\" xlink:href=\"#DejaVuSans-65\"/>\r\n       <use x=\"129.878906\" xlink:href=\"#DejaVuSans-6c\"/>\r\n       <use x=\"157.662109\" xlink:href=\"#DejaVuSans-61\"/>\r\n       <use x=\"218.941406\" xlink:href=\"#DejaVuSans-6e\"/>\r\n       <use x=\"282.320312\" xlink:href=\"#DejaVuSans-64\"/>\r\n      </g>\r\n     </g>\r\n    </g>\r\n    <g id=\"ytick_6\">\r\n     <g id=\"line2d_13\">\r\n      <g>\r\n       <use style=\"stroke:#000000;stroke-width:0.8;\" x=\"148.2375\" xlink:href=\"#m751f102a23\" y=\"293.571429\"/>\r\n      </g>\r\n     </g>\r\n     <g id=\"text_13\">\r\n      <!-- United Arab Emirates -->\r\n      <g transform=\"translate(34.2375 297.370647)scale(0.1 -0.1)\">\r\n       <defs>\r\n        <path d=\"M 556 4666 \r\nL 1191 4666 \r\nL 1191 1831 \r\nQ 1191 1081 1462 751 \r\nQ 1734 422 2344 422 \r\nQ 2950 422 3222 751 \r\nQ 3494 1081 3494 1831 \r\nL 3494 4666 \r\nL 4128 4666 \r\nL 4128 1753 \r\nQ 4128 841 3676 375 \r\nQ 3225 -91 2344 -91 \r\nQ 1459 -91 1007 375 \r\nQ 556 841 556 1753 \r\nL 556 4666 \r\nz\r\n\" id=\"DejaVuSans-55\" transform=\"scale(0.015625)\"/>\r\n        <path id=\"DejaVuSans-20\" transform=\"scale(0.015625)\"/>\r\n        <path d=\"M 2188 4044 \r\nL 1331 1722 \r\nL 3047 1722 \r\nL 2188 4044 \r\nz\r\nM 1831 4666 \r\nL 2547 4666 \r\nL 4325 0 \r\nL 3669 0 \r\nL 3244 1197 \r\nL 1141 1197 \r\nL 716 0 \r\nL 50 0 \r\nL 1831 4666 \r\nz\r\n\" id=\"DejaVuSans-41\" transform=\"scale(0.015625)\"/>\r\n        <path d=\"M 628 4666 \r\nL 3578 4666 \r\nL 3578 4134 \r\nL 1259 4134 \r\nL 1259 2753 \r\nL 3481 2753 \r\nL 3481 2222 \r\nL 1259 2222 \r\nL 1259 531 \r\nL 3634 531 \r\nL 3634 0 \r\nL 628 0 \r\nL 628 4666 \r\nz\r\n\" id=\"DejaVuSans-45\" transform=\"scale(0.015625)\"/>\r\n        <path d=\"M 2834 3397 \r\nL 2834 2853 \r\nQ 2591 2978 2328 3040 \r\nQ 2066 3103 1784 3103 \r\nQ 1356 3103 1142 2972 \r\nQ 928 2841 928 2578 \r\nQ 928 2378 1081 2264 \r\nQ 1234 2150 1697 2047 \r\nL 1894 2003 \r\nQ 2506 1872 2764 1633 \r\nQ 3022 1394 3022 966 \r\nQ 3022 478 2636 193 \r\nQ 2250 -91 1575 -91 \r\nQ 1294 -91 989 -36 \r\nQ 684 19 347 128 \r\nL 347 722 \r\nQ 666 556 975 473 \r\nQ 1284 391 1588 391 \r\nQ 1994 391 2212 530 \r\nQ 2431 669 2431 922 \r\nQ 2431 1156 2273 1281 \r\nQ 2116 1406 1581 1522 \r\nL 1381 1569 \r\nQ 847 1681 609 1914 \r\nQ 372 2147 372 2553 \r\nQ 372 3047 722 3315 \r\nQ 1072 3584 1716 3584 \r\nQ 2034 3584 2315 3537 \r\nQ 2597 3491 2834 3397 \r\nz\r\n\" id=\"DejaVuSans-73\" transform=\"scale(0.015625)\"/>\r\n       </defs>\r\n       <use xlink:href=\"#DejaVuSans-55\"/>\r\n       <use x=\"73.193359\" xlink:href=\"#DejaVuSans-6e\"/>\r\n       <use x=\"136.572266\" xlink:href=\"#DejaVuSans-69\"/>\r\n       <use x=\"164.355469\" xlink:href=\"#DejaVuSans-74\"/>\r\n       <use x=\"203.564453\" xlink:href=\"#DejaVuSans-65\"/>\r\n       <use x=\"265.087891\" xlink:href=\"#DejaVuSans-64\"/>\r\n       <use x=\"328.564453\" xlink:href=\"#DejaVuSans-20\"/>\r\n       <use x=\"360.351562\" xlink:href=\"#DejaVuSans-41\"/>\r\n       <use x=\"428.759766\" xlink:href=\"#DejaVuSans-72\"/>\r\n       <use x=\"469.873047\" xlink:href=\"#DejaVuSans-61\"/>\r\n       <use x=\"531.152344\" xlink:href=\"#DejaVuSans-62\"/>\r\n       <use x=\"594.628906\" xlink:href=\"#DejaVuSans-20\"/>\r\n       <use x=\"626.416016\" xlink:href=\"#DejaVuSans-45\"/>\r\n       <use x=\"689.599609\" xlink:href=\"#DejaVuSans-6d\"/>\r\n       <use x=\"787.011719\" xlink:href=\"#DejaVuSans-69\"/>\r\n       <use x=\"814.794922\" xlink:href=\"#DejaVuSans-72\"/>\r\n       <use x=\"855.908203\" xlink:href=\"#DejaVuSans-61\"/>\r\n       <use x=\"917.1875\" xlink:href=\"#DejaVuSans-74\"/>\r\n       <use x=\"956.396484\" xlink:href=\"#DejaVuSans-65\"/>\r\n       <use x=\"1017.919922\" xlink:href=\"#DejaVuSans-73\"/>\r\n      </g>\r\n     </g>\r\n    </g>\r\n    <g id=\"ytick_7\">\r\n     <g id=\"line2d_14\">\r\n      <g>\r\n       <use style=\"stroke:#000000;stroke-width:0.8;\" x=\"148.2375\" xlink:href=\"#m751f102a23\" y=\"319.457143\"/>\r\n      </g>\r\n     </g>\r\n     <g id=\"text_14\">\r\n      <!-- Kuwait -->\r\n      <g transform=\"translate(107.8375 323.256362)scale(0.1 -0.1)\">\r\n       <defs>\r\n        <path d=\"M 628 4666 \r\nL 1259 4666 \r\nL 1259 2694 \r\nL 3353 4666 \r\nL 4166 4666 \r\nL 1850 2491 \r\nL 4331 0 \r\nL 3500 0 \r\nL 1259 2247 \r\nL 1259 0 \r\nL 628 0 \r\nL 628 4666 \r\nz\r\n\" id=\"DejaVuSans-4b\" transform=\"scale(0.015625)\"/>\r\n        <path d=\"M 269 3500 \r\nL 844 3500 \r\nL 1563 769 \r\nL 2278 3500 \r\nL 2956 3500 \r\nL 3675 769 \r\nL 4391 3500 \r\nL 4966 3500 \r\nL 4050 0 \r\nL 3372 0 \r\nL 2619 2869 \r\nL 1863 0 \r\nL 1184 0 \r\nL 269 3500 \r\nz\r\n\" id=\"DejaVuSans-77\" transform=\"scale(0.015625)\"/>\r\n       </defs>\r\n       <use xlink:href=\"#DejaVuSans-4b\"/>\r\n       <use x=\"60.576172\" xlink:href=\"#DejaVuSans-75\"/>\r\n       <use x=\"123.955078\" xlink:href=\"#DejaVuSans-77\"/>\r\n       <use x=\"205.742188\" xlink:href=\"#DejaVuSans-61\"/>\r\n       <use x=\"267.021484\" xlink:href=\"#DejaVuSans-69\"/>\r\n       <use x=\"294.804688\" xlink:href=\"#DejaVuSans-74\"/>\r\n      </g>\r\n     </g>\r\n    </g>\r\n    <g id=\"ytick_8\">\r\n     <g id=\"line2d_15\">\r\n      <g>\r\n       <use style=\"stroke:#000000;stroke-width:0.8;\" x=\"148.2375\" xlink:href=\"#m751f102a23\" y=\"345.342857\"/>\r\n      </g>\r\n     </g>\r\n     <g id=\"text_15\">\r\n      <!-- Norway -->\r\n      <g transform=\"translate(103.301563 349.142076)scale(0.1 -0.1)\">\r\n       <defs>\r\n        <path d=\"M 628 4666 \r\nL 1478 4666 \r\nL 3547 763 \r\nL 3547 4666 \r\nL 4159 4666 \r\nL 4159 0 \r\nL 3309 0 \r\nL 1241 3903 \r\nL 1241 0 \r\nL 628 0 \r\nL 628 4666 \r\nz\r\n\" id=\"DejaVuSans-4e\" transform=\"scale(0.015625)\"/>\r\n        <path d=\"M 2059 -325 \r\nQ 1816 -950 1584 -1140 \r\nQ 1353 -1331 966 -1331 \r\nL 506 -1331 \r\nL 506 -850 \r\nL 844 -850 \r\nQ 1081 -850 1212 -737 \r\nQ 1344 -625 1503 -206 \r\nL 1606 56 \r\nL 191 3500 \r\nL 800 3500 \r\nL 1894 763 \r\nL 2988 3500 \r\nL 3597 3500 \r\nL 2059 -325 \r\nz\r\n\" id=\"DejaVuSans-79\" transform=\"scale(0.015625)\"/>\r\n       </defs>\r\n       <use xlink:href=\"#DejaVuSans-4e\"/>\r\n       <use x=\"74.804688\" xlink:href=\"#DejaVuSans-6f\"/>\r\n       <use x=\"135.986328\" xlink:href=\"#DejaVuSans-72\"/>\r\n       <use x=\"177.099609\" xlink:href=\"#DejaVuSans-77\"/>\r\n       <use x=\"258.886719\" xlink:href=\"#DejaVuSans-61\"/>\r\n       <use x=\"320.166016\" xlink:href=\"#DejaVuSans-79\"/>\r\n      </g>\r\n     </g>\r\n    </g>\r\n    <g id=\"ytick_9\">\r\n     <g id=\"line2d_16\">\r\n      <g>\r\n       <use style=\"stroke:#000000;stroke-width:0.8;\" x=\"148.2375\" xlink:href=\"#m751f102a23\" y=\"371.228571\"/>\r\n      </g>\r\n     </g>\r\n     <g id=\"text_16\">\r\n      <!-- Switzerland -->\r\n      <g transform=\"translate(82.907813 375.02779)scale(0.1 -0.1)\">\r\n       <defs>\r\n        <path d=\"M 353 3500 \r\nL 3084 3500 \r\nL 3084 2975 \r\nL 922 459 \r\nL 3084 459 \r\nL 3084 0 \r\nL 275 0 \r\nL 275 525 \r\nL 2438 3041 \r\nL 353 3041 \r\nL 353 3500 \r\nz\r\n\" id=\"DejaVuSans-7a\" transform=\"scale(0.015625)\"/>\r\n       </defs>\r\n       <use xlink:href=\"#DejaVuSans-53\"/>\r\n       <use x=\"63.476562\" xlink:href=\"#DejaVuSans-77\"/>\r\n       <use x=\"145.263672\" xlink:href=\"#DejaVuSans-69\"/>\r\n       <use x=\"173.046875\" xlink:href=\"#DejaVuSans-74\"/>\r\n       <use x=\"212.255859\" xlink:href=\"#DejaVuSans-7a\"/>\r\n       <use x=\"264.746094\" xlink:href=\"#DejaVuSans-65\"/>\r\n       <use x=\"326.269531\" xlink:href=\"#DejaVuSans-72\"/>\r\n       <use x=\"367.382812\" xlink:href=\"#DejaVuSans-6c\"/>\r\n       <use x=\"395.166016\" xlink:href=\"#DejaVuSans-61\"/>\r\n       <use x=\"456.445312\" xlink:href=\"#DejaVuSans-6e\"/>\r\n       <use x=\"519.824219\" xlink:href=\"#DejaVuSans-64\"/>\r\n      </g>\r\n     </g>\r\n    </g>\r\n    <g id=\"ytick_10\">\r\n     <g id=\"line2d_17\">\r\n      <g>\r\n       <use style=\"stroke:#000000;stroke-width:0.8;\" x=\"148.2375\" xlink:href=\"#m751f102a23\" y=\"397.114286\"/>\r\n      </g>\r\n     </g>\r\n     <g id=\"text_17\">\r\n      <!-- United States -->\r\n      <g transform=\"translate(73.523438 400.913504)scale(0.1 -0.1)\">\r\n       <use xlink:href=\"#DejaVuSans-55\"/>\r\n       <use x=\"73.193359\" xlink:href=\"#DejaVuSans-6e\"/>\r\n       <use x=\"136.572266\" xlink:href=\"#DejaVuSans-69\"/>\r\n       <use x=\"164.355469\" xlink:href=\"#DejaVuSans-74\"/>\r\n       <use x=\"203.564453\" xlink:href=\"#DejaVuSans-65\"/>\r\n       <use x=\"265.087891\" xlink:href=\"#DejaVuSans-64\"/>\r\n       <use x=\"328.564453\" xlink:href=\"#DejaVuSans-20\"/>\r\n       <use x=\"360.351562\" xlink:href=\"#DejaVuSans-53\"/>\r\n       <use x=\"423.828125\" xlink:href=\"#DejaVuSans-74\"/>\r\n       <use x=\"463.037109\" xlink:href=\"#DejaVuSans-61\"/>\r\n       <use x=\"524.316406\" xlink:href=\"#DejaVuSans-74\"/>\r\n       <use x=\"563.525391\" xlink:href=\"#DejaVuSans-65\"/>\r\n       <use x=\"625.048828\" xlink:href=\"#DejaVuSans-73\"/>\r\n      </g>\r\n     </g>\r\n    </g>\r\n    <g id=\"ytick_11\">\r\n     <g id=\"line2d_18\">\r\n      <g>\r\n       <use style=\"stroke:#000000;stroke-width:0.8;\" x=\"148.2375\" xlink:href=\"#m751f102a23\" y=\"423\"/>\r\n      </g>\r\n     </g>\r\n     <g id=\"text_18\">\r\n      <!-- Netherlands -->\r\n      <g transform=\"translate(80.279688 426.799219)scale(0.1 -0.1)\">\r\n       <defs>\r\n        <path d=\"M 3513 2113 \r\nL 3513 0 \r\nL 2938 0 \r\nL 2938 2094 \r\nQ 2938 2591 2744 2837 \r\nQ 2550 3084 2163 3084 \r\nQ 1697 3084 1428 2787 \r\nQ 1159 2491 1159 1978 \r\nL 1159 0 \r\nL 581 0 \r\nL 581 4863 \r\nL 1159 4863 \r\nL 1159 2956 \r\nQ 1366 3272 1645 3428 \r\nQ 1925 3584 2291 3584 \r\nQ 2894 3584 3203 3211 \r\nQ 3513 2838 3513 2113 \r\nz\r\n\" id=\"DejaVuSans-68\" transform=\"scale(0.015625)\"/>\r\n       </defs>\r\n       <use xlink:href=\"#DejaVuSans-4e\"/>\r\n       <use x=\"74.804688\" xlink:href=\"#DejaVuSans-65\"/>\r\n       <use x=\"136.328125\" xlink:href=\"#DejaVuSans-74\"/>\r\n       <use x=\"175.537109\" xlink:href=\"#DejaVuSans-68\"/>\r\n       <use x=\"238.916016\" xlink:href=\"#DejaVuSans-65\"/>\r\n       <use x=\"300.439453\" xlink:href=\"#DejaVuSans-72\"/>\r\n       <use x=\"341.552734\" xlink:href=\"#DejaVuSans-6c\"/>\r\n       <use x=\"369.335938\" xlink:href=\"#DejaVuSans-61\"/>\r\n       <use x=\"430.615234\" xlink:href=\"#DejaVuSans-6e\"/>\r\n       <use x=\"493.994141\" xlink:href=\"#DejaVuSans-64\"/>\r\n       <use x=\"557.470703\" xlink:href=\"#DejaVuSans-73\"/>\r\n      </g>\r\n     </g>\r\n    </g>\r\n    <g id=\"ytick_12\">\r\n     <g id=\"line2d_19\">\r\n      <g>\r\n       <use style=\"stroke:#000000;stroke-width:0.8;\" x=\"148.2375\" xlink:href=\"#m751f102a23\" y=\"448.885714\"/>\r\n      </g>\r\n     </g>\r\n     <g id=\"text_19\">\r\n      <!-- Canada -->\r\n      <g transform=\"translate(103.184375 452.684933)scale(0.1 -0.1)\">\r\n       <defs>\r\n        <path d=\"M 4122 4306 \r\nL 4122 3641 \r\nQ 3803 3938 3442 4084 \r\nQ 3081 4231 2675 4231 \r\nQ 1875 4231 1450 3742 \r\nQ 1025 3253 1025 2328 \r\nQ 1025 1406 1450 917 \r\nQ 1875 428 2675 428 \r\nQ 3081 428 3442 575 \r\nQ 3803 722 4122 1019 \r\nL 4122 359 \r\nQ 3791 134 3420 21 \r\nQ 3050 -91 2638 -91 \r\nQ 1578 -91 968 557 \r\nQ 359 1206 359 2328 \r\nQ 359 3453 968 4101 \r\nQ 1578 4750 2638 4750 \r\nQ 3056 4750 3426 4639 \r\nQ 3797 4528 4122 4306 \r\nz\r\n\" id=\"DejaVuSans-43\" transform=\"scale(0.015625)\"/>\r\n       </defs>\r\n       <use xlink:href=\"#DejaVuSans-43\"/>\r\n       <use x=\"69.824219\" xlink:href=\"#DejaVuSans-61\"/>\r\n       <use x=\"131.103516\" xlink:href=\"#DejaVuSans-6e\"/>\r\n       <use x=\"194.482422\" xlink:href=\"#DejaVuSans-61\"/>\r\n       <use x=\"255.761719\" xlink:href=\"#DejaVuSans-64\"/>\r\n       <use x=\"319.238281\" xlink:href=\"#DejaVuSans-61\"/>\r\n      </g>\r\n     </g>\r\n    </g>\r\n    <g id=\"ytick_13\">\r\n     <g id=\"line2d_20\">\r\n      <g>\r\n       <use style=\"stroke:#000000;stroke-width:0.8;\" x=\"148.2375\" xlink:href=\"#m751f102a23\" y=\"474.771429\"/>\r\n      </g>\r\n     </g>\r\n     <g id=\"text_20\">\r\n      <!-- Trinidad and Tobago -->\r\n      <g transform=\"translate(41.134375 478.570647)scale(0.1 -0.1)\">\r\n       <defs>\r\n        <path d=\"M -19 4666 \r\nL 3928 4666 \r\nL 3928 4134 \r\nL 2272 4134 \r\nL 2272 0 \r\nL 1638 0 \r\nL 1638 4134 \r\nL -19 4134 \r\nL -19 4666 \r\nz\r\n\" id=\"DejaVuSans-54\" transform=\"scale(0.015625)\"/>\r\n       </defs>\r\n       <use xlink:href=\"#DejaVuSans-54\"/>\r\n       <use x=\"46.333984\" xlink:href=\"#DejaVuSans-72\"/>\r\n       <use x=\"87.447266\" xlink:href=\"#DejaVuSans-69\"/>\r\n       <use x=\"115.230469\" xlink:href=\"#DejaVuSans-6e\"/>\r\n       <use x=\"178.609375\" xlink:href=\"#DejaVuSans-69\"/>\r\n       <use x=\"206.392578\" xlink:href=\"#DejaVuSans-64\"/>\r\n       <use x=\"269.869141\" xlink:href=\"#DejaVuSans-61\"/>\r\n       <use x=\"331.148438\" xlink:href=\"#DejaVuSans-64\"/>\r\n       <use x=\"394.625\" xlink:href=\"#DejaVuSans-20\"/>\r\n       <use x=\"426.412109\" xlink:href=\"#DejaVuSans-61\"/>\r\n       <use x=\"487.691406\" xlink:href=\"#DejaVuSans-6e\"/>\r\n       <use x=\"551.070312\" xlink:href=\"#DejaVuSans-64\"/>\r\n       <use x=\"614.546875\" xlink:href=\"#DejaVuSans-20\"/>\r\n       <use x=\"646.333984\" xlink:href=\"#DejaVuSans-54\"/>\r\n       <use x=\"690.417969\" xlink:href=\"#DejaVuSans-6f\"/>\r\n       <use x=\"751.599609\" xlink:href=\"#DejaVuSans-62\"/>\r\n       <use x=\"815.076172\" xlink:href=\"#DejaVuSans-61\"/>\r\n       <use x=\"876.355469\" xlink:href=\"#DejaVuSans-67\"/>\r\n       <use x=\"939.832031\" xlink:href=\"#DejaVuSans-6f\"/>\r\n      </g>\r\n     </g>\r\n    </g>\r\n    <g id=\"ytick_14\">\r\n     <g id=\"line2d_21\">\r\n      <g>\r\n       <use style=\"stroke:#000000;stroke-width:0.8;\" x=\"148.2375\" xlink:href=\"#m751f102a23\" y=\"500.657143\"/>\r\n      </g>\r\n     </g>\r\n     <g id=\"text_21\">\r\n      <!-- Bahamas -->\r\n      <g transform=\"translate(94.704688 504.456362)scale(0.1 -0.1)\">\r\n       <use xlink:href=\"#DejaVuSans-42\"/>\r\n       <use x=\"68.603516\" xlink:href=\"#DejaVuSans-61\"/>\r\n       <use x=\"129.882812\" xlink:href=\"#DejaVuSans-68\"/>\r\n       <use x=\"193.261719\" xlink:href=\"#DejaVuSans-61\"/>\r\n       <use x=\"254.541016\" xlink:href=\"#DejaVuSans-6d\"/>\r\n       <use x=\"351.953125\" xlink:href=\"#DejaVuSans-61\"/>\r\n       <use x=\"413.232422\" xlink:href=\"#DejaVuSans-73\"/>\r\n      </g>\r\n     </g>\r\n    </g>\r\n    <g id=\"ytick_15\">\r\n     <g id=\"line2d_22\">\r\n      <g>\r\n       <use style=\"stroke:#000000;stroke-width:0.8;\" x=\"148.2375\" xlink:href=\"#m751f102a23\" y=\"526.542857\"/>\r\n      </g>\r\n     </g>\r\n     <g id=\"text_22\">\r\n      <!-- Seychelles -->\r\n      <g transform=\"translate(87.909375 530.342076)scale(0.1 -0.1)\">\r\n       <defs>\r\n        <path d=\"M 3122 3366 \r\nL 3122 2828 \r\nQ 2878 2963 2633 3030 \r\nQ 2388 3097 2138 3097 \r\nQ 1578 3097 1268 2742 \r\nQ 959 2388 959 1747 \r\nQ 959 1106 1268 751 \r\nQ 1578 397 2138 397 \r\nQ 2388 397 2633 464 \r\nQ 2878 531 3122 666 \r\nL 3122 134 \r\nQ 2881 22 2623 -34 \r\nQ 2366 -91 2075 -91 \r\nQ 1284 -91 818 406 \r\nQ 353 903 353 1747 \r\nQ 353 2603 823 3093 \r\nQ 1294 3584 2113 3584 \r\nQ 2378 3584 2631 3529 \r\nQ 2884 3475 3122 3366 \r\nz\r\n\" id=\"DejaVuSans-63\" transform=\"scale(0.015625)\"/>\r\n       </defs>\r\n       <use xlink:href=\"#DejaVuSans-53\"/>\r\n       <use x=\"63.476562\" xlink:href=\"#DejaVuSans-65\"/>\r\n       <use x=\"125\" xlink:href=\"#DejaVuSans-79\"/>\r\n       <use x=\"184.179688\" xlink:href=\"#DejaVuSans-63\"/>\r\n       <use x=\"239.160156\" xlink:href=\"#DejaVuSans-68\"/>\r\n       <use x=\"302.539062\" xlink:href=\"#DejaVuSans-65\"/>\r\n       <use x=\"364.0625\" xlink:href=\"#DejaVuSans-6c\"/>\r\n       <use x=\"391.845703\" xlink:href=\"#DejaVuSans-6c\"/>\r\n       <use x=\"419.628906\" xlink:href=\"#DejaVuSans-65\"/>\r\n       <use x=\"481.152344\" xlink:href=\"#DejaVuSans-73\"/>\r\n      </g>\r\n     </g>\r\n    </g>\r\n    <g id=\"ytick_16\">\r\n     <g id=\"line2d_23\">\r\n      <g>\r\n       <use style=\"stroke:#000000;stroke-width:0.8;\" x=\"148.2375\" xlink:href=\"#m751f102a23\" y=\"552.428571\"/>\r\n      </g>\r\n     </g>\r\n     <g id=\"text_23\">\r\n      <!-- Chile -->\r\n      <g transform=\"translate(116.207813 556.22779)scale(0.1 -0.1)\">\r\n       <use xlink:href=\"#DejaVuSans-43\"/>\r\n       <use x=\"69.824219\" xlink:href=\"#DejaVuSans-68\"/>\r\n       <use x=\"133.203125\" xlink:href=\"#DejaVuSans-69\"/>\r\n       <use x=\"160.986328\" xlink:href=\"#DejaVuSans-6c\"/>\r\n       <use x=\"188.769531\" xlink:href=\"#DejaVuSans-65\"/>\r\n      </g>\r\n     </g>\r\n    </g>\r\n    <g id=\"ytick_17\">\r\n     <g id=\"line2d_24\">\r\n      <g>\r\n       <use style=\"stroke:#000000;stroke-width:0.8;\" x=\"148.2375\" xlink:href=\"#m751f102a23\" y=\"578.314286\"/>\r\n      </g>\r\n     </g>\r\n     <g id=\"text_24\">\r\n      <!-- Equatorial Guinea -->\r\n      <g transform=\"translate(51.609375 582.113504)scale(0.1 -0.1)\">\r\n       <defs>\r\n        <path d=\"M 947 1747 \r\nQ 947 1113 1208 752 \r\nQ 1469 391 1925 391 \r\nQ 2381 391 2643 752 \r\nQ 2906 1113 2906 1747 \r\nQ 2906 2381 2643 2742 \r\nQ 2381 3103 1925 3103 \r\nQ 1469 3103 1208 2742 \r\nQ 947 2381 947 1747 \r\nz\r\nM 2906 525 \r\nQ 2725 213 2448 61 \r\nQ 2172 -91 1784 -91 \r\nQ 1150 -91 751 415 \r\nQ 353 922 353 1747 \r\nQ 353 2572 751 3078 \r\nQ 1150 3584 1784 3584 \r\nQ 2172 3584 2448 3432 \r\nQ 2725 3281 2906 2969 \r\nL 2906 3500 \r\nL 3481 3500 \r\nL 3481 -1331 \r\nL 2906 -1331 \r\nL 2906 525 \r\nz\r\n\" id=\"DejaVuSans-71\" transform=\"scale(0.015625)\"/>\r\n        <path d=\"M 3809 666 \r\nL 3809 1919 \r\nL 2778 1919 \r\nL 2778 2438 \r\nL 4434 2438 \r\nL 4434 434 \r\nQ 4069 175 3628 42 \r\nQ 3188 -91 2688 -91 \r\nQ 1594 -91 976 548 \r\nQ 359 1188 359 2328 \r\nQ 359 3472 976 4111 \r\nQ 1594 4750 2688 4750 \r\nQ 3144 4750 3555 4637 \r\nQ 3966 4525 4313 4306 \r\nL 4313 3634 \r\nQ 3963 3931 3569 4081 \r\nQ 3175 4231 2741 4231 \r\nQ 1884 4231 1454 3753 \r\nQ 1025 3275 1025 2328 \r\nQ 1025 1384 1454 906 \r\nQ 1884 428 2741 428 \r\nQ 3075 428 3337 486 \r\nQ 3600 544 3809 666 \r\nz\r\n\" id=\"DejaVuSans-47\" transform=\"scale(0.015625)\"/>\r\n       </defs>\r\n       <use xlink:href=\"#DejaVuSans-45\"/>\r\n       <use x=\"63.183594\" xlink:href=\"#DejaVuSans-71\"/>\r\n       <use x=\"126.660156\" xlink:href=\"#DejaVuSans-75\"/>\r\n       <use x=\"190.039062\" xlink:href=\"#DejaVuSans-61\"/>\r\n       <use x=\"251.318359\" xlink:href=\"#DejaVuSans-74\"/>\r\n       <use x=\"290.527344\" xlink:href=\"#DejaVuSans-6f\"/>\r\n       <use x=\"351.708984\" xlink:href=\"#DejaVuSans-72\"/>\r\n       <use x=\"392.822266\" xlink:href=\"#DejaVuSans-69\"/>\r\n       <use x=\"420.605469\" xlink:href=\"#DejaVuSans-61\"/>\r\n       <use x=\"481.884766\" xlink:href=\"#DejaVuSans-6c\"/>\r\n       <use x=\"509.667969\" xlink:href=\"#DejaVuSans-20\"/>\r\n       <use x=\"541.455078\" xlink:href=\"#DejaVuSans-47\"/>\r\n       <use x=\"618.945312\" xlink:href=\"#DejaVuSans-75\"/>\r\n       <use x=\"682.324219\" xlink:href=\"#DejaVuSans-69\"/>\r\n       <use x=\"710.107422\" xlink:href=\"#DejaVuSans-6e\"/>\r\n       <use x=\"773.486328\" xlink:href=\"#DejaVuSans-65\"/>\r\n       <use x=\"835.009766\" xlink:href=\"#DejaVuSans-61\"/>\r\n      </g>\r\n     </g>\r\n    </g>\r\n    <g id=\"ytick_18\">\r\n     <g id=\"line2d_25\">\r\n      <g>\r\n       <use style=\"stroke:#000000;stroke-width:0.8;\" x=\"148.2375\" xlink:href=\"#m751f102a23\" y=\"604.2\"/>\r\n      </g>\r\n     </g>\r\n     <g id=\"text_25\">\r\n      <!-- Panama -->\r\n      <g transform=\"translate(101.195312 607.999219)scale(0.1 -0.1)\">\r\n       <defs>\r\n        <path d=\"M 1259 4147 \r\nL 1259 2394 \r\nL 2053 2394 \r\nQ 2494 2394 2734 2622 \r\nQ 2975 2850 2975 3272 \r\nQ 2975 3691 2734 3919 \r\nQ 2494 4147 2053 4147 \r\nL 1259 4147 \r\nz\r\nM 628 4666 \r\nL 2053 4666 \r\nQ 2838 4666 3239 4311 \r\nQ 3641 3956 3641 3272 \r\nQ 3641 2581 3239 2228 \r\nQ 2838 1875 2053 1875 \r\nL 1259 1875 \r\nL 1259 0 \r\nL 628 0 \r\nL 628 4666 \r\nz\r\n\" id=\"DejaVuSans-50\" transform=\"scale(0.015625)\"/>\r\n       </defs>\r\n       <use xlink:href=\"#DejaVuSans-50\"/>\r\n       <use x=\"55.802734\" xlink:href=\"#DejaVuSans-61\"/>\r\n       <use x=\"117.082031\" xlink:href=\"#DejaVuSans-6e\"/>\r\n       <use x=\"180.460938\" xlink:href=\"#DejaVuSans-61\"/>\r\n       <use x=\"241.740234\" xlink:href=\"#DejaVuSans-6d\"/>\r\n       <use x=\"339.152344\" xlink:href=\"#DejaVuSans-61\"/>\r\n      </g>\r\n     </g>\r\n    </g>\r\n    <g id=\"ytick_19\">\r\n     <g id=\"line2d_26\">\r\n      <g>\r\n       <use style=\"stroke:#000000;stroke-width:0.8;\" x=\"148.2375\" xlink:href=\"#m751f102a23\" y=\"630.085714\"/>\r\n      </g>\r\n     </g>\r\n     <g id=\"text_26\">\r\n      <!-- Uruguay -->\r\n      <g transform=\"translate(98.7375 633.884933)scale(0.1 -0.1)\">\r\n       <use xlink:href=\"#DejaVuSans-55\"/>\r\n       <use x=\"73.193359\" xlink:href=\"#DejaVuSans-72\"/>\r\n       <use x=\"114.306641\" xlink:href=\"#DejaVuSans-75\"/>\r\n       <use x=\"177.685547\" xlink:href=\"#DejaVuSans-67\"/>\r\n       <use x=\"241.162109\" xlink:href=\"#DejaVuSans-75\"/>\r\n       <use x=\"304.541016\" xlink:href=\"#DejaVuSans-61\"/>\r\n       <use x=\"365.820312\" xlink:href=\"#DejaVuSans-79\"/>\r\n      </g>\r\n     </g>\r\n    </g>\r\n    <g id=\"ytick_20\">\r\n     <g id=\"line2d_27\">\r\n      <g>\r\n       <use style=\"stroke:#000000;stroke-width:0.8;\" x=\"148.2375\" xlink:href=\"#m751f102a23\" y=\"655.971429\"/>\r\n      </g>\r\n     </g>\r\n     <g id=\"text_27\">\r\n      <!-- Mauritius -->\r\n      <g transform=\"translate(95.009375 659.770647)scale(0.1 -0.1)\">\r\n       <defs>\r\n        <path d=\"M 628 4666 \r\nL 1569 4666 \r\nL 2759 1491 \r\nL 3956 4666 \r\nL 4897 4666 \r\nL 4897 0 \r\nL 4281 0 \r\nL 4281 4097 \r\nL 3078 897 \r\nL 2444 897 \r\nL 1241 4097 \r\nL 1241 0 \r\nL 628 0 \r\nL 628 4666 \r\nz\r\n\" id=\"DejaVuSans-4d\" transform=\"scale(0.015625)\"/>\r\n       </defs>\r\n       <use xlink:href=\"#DejaVuSans-4d\"/>\r\n       <use x=\"86.279297\" xlink:href=\"#DejaVuSans-61\"/>\r\n       <use x=\"147.558594\" xlink:href=\"#DejaVuSans-75\"/>\r\n       <use x=\"210.9375\" xlink:href=\"#DejaVuSans-72\"/>\r\n       <use x=\"252.050781\" xlink:href=\"#DejaVuSans-69\"/>\r\n       <use x=\"279.833984\" xlink:href=\"#DejaVuSans-74\"/>\r\n       <use x=\"319.042969\" xlink:href=\"#DejaVuSans-69\"/>\r\n       <use x=\"346.826172\" xlink:href=\"#DejaVuSans-75\"/>\r\n       <use x=\"410.205078\" xlink:href=\"#DejaVuSans-73\"/>\r\n      </g>\r\n     </g>\r\n    </g>\r\n    <g id=\"text_28\">\r\n     <!-- country -->\r\n     <g transform=\"translate(28.157813 429.178237)rotate(-90)scale(0.1 -0.1)\">\r\n      <use xlink:href=\"#DejaVuSans-63\"/>\r\n      <use x=\"54.980469\" xlink:href=\"#DejaVuSans-6f\"/>\r\n      <use x=\"116.162109\" xlink:href=\"#DejaVuSans-75\"/>\r\n      <use x=\"179.541016\" xlink:href=\"#DejaVuSans-6e\"/>\r\n      <use x=\"242.919922\" xlink:href=\"#DejaVuSans-74\"/>\r\n      <use x=\"282.128906\" xlink:href=\"#DejaVuSans-72\"/>\r\n      <use x=\"323.242188\" xlink:href=\"#DejaVuSans-79\"/>\r\n     </g>\r\n    </g>\r\n   </g>\r\n   <g id=\"line2d_28\">\r\n    <path clip-path=\"url(#p3dcf5b2004)\" d=\"M 0 0 \r\n\" style=\"fill:none;stroke:#424242;stroke-linecap:square;stroke-width:2.7;\"/>\r\n   </g>\r\n   <g id=\"line2d_29\">\r\n    <path clip-path=\"url(#p3dcf5b2004)\" d=\"M 0 0 \r\n\" style=\"fill:none;stroke:#424242;stroke-linecap:square;stroke-width:2.7;\"/>\r\n   </g>\r\n   <g id=\"line2d_30\">\r\n    <path clip-path=\"url(#p3dcf5b2004)\" d=\"M 0 0 \r\n\" style=\"fill:none;stroke:#424242;stroke-linecap:square;stroke-width:2.7;\"/>\r\n   </g>\r\n   <g id=\"line2d_31\">\r\n    <path clip-path=\"url(#p3dcf5b2004)\" d=\"M 0 0 \r\n\" style=\"fill:none;stroke:#424242;stroke-linecap:square;stroke-width:2.7;\"/>\r\n   </g>\r\n   <g id=\"line2d_32\">\r\n    <path clip-path=\"url(#p3dcf5b2004)\" d=\"M 0 0 \r\n\" style=\"fill:none;stroke:#424242;stroke-linecap:square;stroke-width:2.7;\"/>\r\n   </g>\r\n   <g id=\"line2d_33\">\r\n    <path clip-path=\"url(#p3dcf5b2004)\" d=\"M 0 0 \r\n\" style=\"fill:none;stroke:#424242;stroke-linecap:square;stroke-width:2.7;\"/>\r\n   </g>\r\n   <g id=\"line2d_34\">\r\n    <path clip-path=\"url(#p3dcf5b2004)\" d=\"M 0 0 \r\n\" style=\"fill:none;stroke:#424242;stroke-linecap:square;stroke-width:2.7;\"/>\r\n   </g>\r\n   <g id=\"line2d_35\">\r\n    <path clip-path=\"url(#p3dcf5b2004)\" d=\"M 0 0 \r\n\" style=\"fill:none;stroke:#424242;stroke-linecap:square;stroke-width:2.7;\"/>\r\n   </g>\r\n   <g id=\"line2d_36\">\r\n    <path clip-path=\"url(#p3dcf5b2004)\" d=\"M 0 0 \r\n\" style=\"fill:none;stroke:#424242;stroke-linecap:square;stroke-width:2.7;\"/>\r\n   </g>\r\n   <g id=\"line2d_37\">\r\n    <path clip-path=\"url(#p3dcf5b2004)\" d=\"M 0 0 \r\n\" style=\"fill:none;stroke:#424242;stroke-linecap:square;stroke-width:2.7;\"/>\r\n   </g>\r\n   <g id=\"line2d_38\">\r\n    <path clip-path=\"url(#p3dcf5b2004)\" d=\"M 0 0 \r\n\" style=\"fill:none;stroke:#424242;stroke-linecap:square;stroke-width:2.7;\"/>\r\n   </g>\r\n   <g id=\"line2d_39\">\r\n    <path clip-path=\"url(#p3dcf5b2004)\" d=\"M 0 0 \r\n\" style=\"fill:none;stroke:#424242;stroke-linecap:square;stroke-width:2.7;\"/>\r\n   </g>\r\n   <g id=\"line2d_40\">\r\n    <path clip-path=\"url(#p3dcf5b2004)\" d=\"M 0 0 \r\n\" style=\"fill:none;stroke:#424242;stroke-linecap:square;stroke-width:2.7;\"/>\r\n   </g>\r\n   <g id=\"line2d_41\">\r\n    <path clip-path=\"url(#p3dcf5b2004)\" d=\"M 0 0 \r\n\" style=\"fill:none;stroke:#424242;stroke-linecap:square;stroke-width:2.7;\"/>\r\n   </g>\r\n   <g id=\"line2d_42\">\r\n    <path clip-path=\"url(#p3dcf5b2004)\" d=\"M 0 0 \r\n\" style=\"fill:none;stroke:#424242;stroke-linecap:square;stroke-width:2.7;\"/>\r\n   </g>\r\n   <g id=\"line2d_43\">\r\n    <path clip-path=\"url(#p3dcf5b2004)\" d=\"M 0 0 \r\n\" style=\"fill:none;stroke:#424242;stroke-linecap:square;stroke-width:2.7;\"/>\r\n   </g>\r\n   <g id=\"line2d_44\">\r\n    <path clip-path=\"url(#p3dcf5b2004)\" d=\"M 0 0 \r\n\" style=\"fill:none;stroke:#424242;stroke-linecap:square;stroke-width:2.7;\"/>\r\n   </g>\r\n   <g id=\"line2d_45\">\r\n    <path clip-path=\"url(#p3dcf5b2004)\" d=\"M 0 0 \r\n\" style=\"fill:none;stroke:#424242;stroke-linecap:square;stroke-width:2.7;\"/>\r\n   </g>\r\n   <g id=\"line2d_46\">\r\n    <path clip-path=\"url(#p3dcf5b2004)\" d=\"M 0 0 \r\n\" style=\"fill:none;stroke:#424242;stroke-linecap:square;stroke-width:2.7;\"/>\r\n   </g>\r\n   <g id=\"line2d_47\">\r\n    <path clip-path=\"url(#p3dcf5b2004)\" d=\"M 0 0 \r\n\" style=\"fill:none;stroke:#424242;stroke-linecap:square;stroke-width:2.7;\"/>\r\n   </g>\r\n   <g id=\"patch_23\">\r\n    <path d=\"M 148.2375 668.914286 \r\nL 148.2375 151.2 \r\n\" style=\"fill:none;stroke:#000000;stroke-linecap:square;stroke-linejoin:miter;stroke-width:0.8;\"/>\r\n   </g>\r\n   <g id=\"patch_24\">\r\n    <path d=\"M 515.342763 668.914286 \r\nL 515.342763 151.2 \r\n\" style=\"fill:none;stroke:#000000;stroke-linecap:square;stroke-linejoin:miter;stroke-width:0.8;\"/>\r\n   </g>\r\n   <g id=\"patch_25\">\r\n    <path d=\"M 148.2375 668.914286 \r\nL 515.342763 668.914286 \r\n\" style=\"fill:none;stroke:#000000;stroke-linecap:square;stroke-linejoin:miter;stroke-width:0.8;\"/>\r\n   </g>\r\n   <g id=\"patch_26\">\r\n    <path d=\"M 148.2375 151.2 \r\nL 515.342763 151.2 \r\n\" style=\"fill:none;stroke:#000000;stroke-linecap:square;stroke-linejoin:miter;stroke-width:0.8;\"/>\r\n   </g>\r\n   <g id=\"text_29\">\r\n    <!-- highest gdp -->\r\n    <g transform=\"translate(296.205444 145.2)scale(0.12 -0.12)\">\r\n     <use xlink:href=\"#DejaVuSans-68\"/>\r\n     <use x=\"63.378906\" xlink:href=\"#DejaVuSans-69\"/>\r\n     <use x=\"91.162109\" xlink:href=\"#DejaVuSans-67\"/>\r\n     <use x=\"154.638672\" xlink:href=\"#DejaVuSans-68\"/>\r\n     <use x=\"218.017578\" xlink:href=\"#DejaVuSans-65\"/>\r\n     <use x=\"279.541016\" xlink:href=\"#DejaVuSans-73\"/>\r\n     <use x=\"331.640625\" xlink:href=\"#DejaVuSans-74\"/>\r\n     <use x=\"370.849609\" xlink:href=\"#DejaVuSans-20\"/>\r\n     <use x=\"402.636719\" xlink:href=\"#DejaVuSans-67\"/>\r\n     <use x=\"466.113281\" xlink:href=\"#DejaVuSans-64\"/>\r\n     <use x=\"529.589844\" xlink:href=\"#DejaVuSans-70\"/>\r\n    </g>\r\n   </g>\r\n  </g>\r\n  <g id=\"axes_2\">\r\n   <g id=\"patch_27\">\r\n    <path d=\"M 522.684868 668.914286 \r\nL 889.790132 668.914286 \r\nL 889.790132 151.2 \r\nL 522.684868 151.2 \r\nz\r\n\" style=\"fill:#ffffff;\"/>\r\n   </g>\r\n   <g id=\"patch_28\">\r\n    <path clip-path=\"url(#pd93db3f8e8)\" d=\"M 522.684868 153.788571 \r\nL 563.290907 153.788571 \r\nL 563.290907 174.497143 \r\nL 522.684868 174.497143 \r\nz\r\n\" style=\"fill:#a718a7;opacity:0.5;\"/>\r\n   </g>\r\n   <g id=\"patch_29\">\r\n    <path clip-path=\"url(#pd93db3f8e8)\" d=\"M 522.684868 179.674286 \r\nL 711.747552 179.674286 \r\nL 711.747552 200.382857 \r\nL 522.684868 200.382857 \r\nz\r\n\" style=\"fill:#a718a7;opacity:0.5;\"/>\r\n   </g>\r\n   <g id=\"patch_30\">\r\n    <path clip-path=\"url(#pd93db3f8e8)\" d=\"M 522.684868 205.56 \r\nL 530.831289 205.56 \r\nL 530.831289 226.268571 \r\nL 522.684868 226.268571 \r\nz\r\n\" style=\"fill:#a718a7;opacity:0.5;\"/>\r\n   </g>\r\n   <g id=\"patch_31\">\r\n    <path clip-path=\"url(#pd93db3f8e8)\" d=\"M 522.684868 231.445714 \r\nL 732.182208 231.445714 \r\nL 732.182208 252.154286 \r\nL 522.684868 252.154286 \r\nz\r\n\" style=\"fill:#a718a7;opacity:0.5;\"/>\r\n   </g>\r\n   <g id=\"patch_32\">\r\n    <path clip-path=\"url(#pd93db3f8e8)\" d=\"M 522.684868 257.331429 \r\nL 836.765661 257.331429 \r\nL 836.765661 278.04 \r\nL 522.684868 278.04 \r\nz\r\n\" style=\"fill:#a718a7;opacity:0.5;\"/>\r\n   </g>\r\n   <g id=\"patch_33\">\r\n    <path clip-path=\"url(#pd93db3f8e8)\" d=\"M 522.684868 283.217143 \r\nL 571.021235 283.217143 \r\nL 571.021235 303.925714 \r\nL 522.684868 303.925714 \r\nz\r\n\" style=\"fill:#a718a7;opacity:0.5;\"/>\r\n   </g>\r\n   <g id=\"patch_34\">\r\n    <path clip-path=\"url(#pd93db3f8e8)\" d=\"M 522.684868 309.102857 \r\nL 616.555981 309.102857 \r\nL 616.555981 329.811429 \r\nL 522.684868 329.811429 \r\nz\r\n\" style=\"fill:#a718a7;opacity:0.5;\"/>\r\n   </g>\r\n   <g id=\"patch_35\">\r\n    <path clip-path=\"url(#pd93db3f8e8)\" d=\"M 522.684868 334.988571 \r\nL 627.344364 334.988571 \r\nL 627.344364 355.697143 \r\nL 522.684868 355.697143 \r\nz\r\n\" style=\"fill:#a718a7;opacity:0.5;\"/>\r\n   </g>\r\n   <g id=\"patch_36\">\r\n    <path clip-path=\"url(#pd93db3f8e8)\" d=\"M 522.684868 360.874286 \r\nL 777.578817 360.874286 \r\nL 777.578817 381.582857 \r\nL 522.684868 381.582857 \r\nz\r\n\" style=\"fill:#a718a7;opacity:0.5;\"/>\r\n   </g>\r\n   <g id=\"patch_37\">\r\n    <path clip-path=\"url(#pd93db3f8e8)\" d=\"M 522.684868 386.76 \r\nL 810.999398 386.76 \r\nL 810.999398 407.468571 \r\nL 522.684868 407.468571 \r\nz\r\n\" style=\"fill:#a718a7;opacity:0.5;\"/>\r\n   </g>\r\n   <g id=\"patch_38\">\r\n    <path clip-path=\"url(#pd93db3f8e8)\" d=\"M 522.684868 412.645714 \r\nL 698.666348 412.645714 \r\nL 698.666348 433.354286 \r\nL 522.684868 433.354286 \r\nz\r\n\" style=\"fill:#a718a7;opacity:0.5;\"/>\r\n   </g>\r\n   <g id=\"patch_39\">\r\n    <path clip-path=\"url(#pd93db3f8e8)\" d=\"M 522.684868 438.531429 \r\nL 823.566753 438.531429 \r\nL 823.566753 459.24 \r\nL 522.684868 459.24 \r\nz\r\n\" style=\"fill:#a718a7;opacity:0.5;\"/>\r\n   </g>\r\n   <g id=\"patch_40\">\r\n    <path clip-path=\"url(#pd93db3f8e8)\" d=\"M 522.684868 464.417143 \r\nL 822.145945 464.417143 \r\nL 822.145945 485.125714 \r\nL 522.684868 485.125714 \r\nz\r\n\" style=\"fill:#a718a7;opacity:0.5;\"/>\r\n   </g>\r\n   <g id=\"patch_41\">\r\n    <path clip-path=\"url(#pd93db3f8e8)\" d=\"M 522.684868 490.302857 \r\nL 840.156867 490.302857 \r\nL 840.156867 511.011429 \r\nL 522.684868 511.011429 \r\nz\r\n\" style=\"fill:#a718a7;opacity:0.5;\"/>\r\n   </g>\r\n   <g id=\"patch_42\">\r\n    <path clip-path=\"url(#pd93db3f8e8)\" d=\"M 522.684868 516.188571 \r\nL 580.759373 516.188571 \r\nL 580.759373 536.897143 \r\nL 522.684868 536.897143 \r\nz\r\n\" style=\"fill:#a718a7;opacity:0.5;\"/>\r\n   </g>\r\n   <g id=\"patch_43\">\r\n    <path clip-path=\"url(#pd93db3f8e8)\" d=\"M 522.684868 542.074286 \r\nL 872.308929 542.074286 \r\nL 872.308929 562.782857 \r\nL 522.684868 562.782857 \r\nz\r\n\" style=\"fill:#a718a7;opacity:0.5;\"/>\r\n   </g>\r\n   <g id=\"patch_44\">\r\n    <path clip-path=\"url(#pd93db3f8e8)\" d=\"M 522.684868 567.96 \r\nL 758.521403 567.96 \r\nL 758.521403 588.668571 \r\nL 522.684868 588.668571 \r\nz\r\n\" style=\"fill:#a718a7;opacity:0.5;\"/>\r\n   </g>\r\n   <g id=\"patch_45\">\r\n    <path clip-path=\"url(#pd93db3f8e8)\" d=\"M 522.684868 593.845714 \r\nL 797.292072 593.845714 \r\nL 797.292072 614.554286 \r\nL 522.684868 614.554286 \r\nz\r\n\" style=\"fill:#a718a7;opacity:0.5;\"/>\r\n   </g>\r\n   <g id=\"patch_46\">\r\n    <path clip-path=\"url(#pd93db3f8e8)\" d=\"M 522.684868 619.731429 \r\nL 758.300757 619.731429 \r\nL 758.300757 640.44 \r\nL 522.684868 640.44 \r\nz\r\n\" style=\"fill:#a718a7;opacity:0.5;\"/>\r\n   </g>\r\n   <g id=\"patch_47\">\r\n    <path clip-path=\"url(#pd93db3f8e8)\" d=\"M 522.684868 645.617143 \r\nL 736.519627 645.617143 \r\nL 736.519627 666.325714 \r\nL 522.684868 666.325714 \r\nz\r\n\" style=\"fill:#a718a7;opacity:0.5;\"/>\r\n   </g>\r\n   <g id=\"matplotlib.axis_3\">\r\n    <g id=\"xtick_8\">\r\n     <g id=\"line2d_48\">\r\n      <g>\r\n       <use style=\"stroke:#000000;stroke-width:0.8;\" x=\"522.684868\" xlink:href=\"#m8a04e302df\" y=\"668.914286\"/>\r\n      </g>\r\n     </g>\r\n     <g id=\"text_30\">\r\n      <!-- 0.0 -->\r\n      <g transform=\"translate(514.733306 683.512723)scale(0.1 -0.1)\">\r\n       <defs>\r\n        <path d=\"M 684 794 \r\nL 1344 794 \r\nL 1344 0 \r\nL 684 0 \r\nL 684 794 \r\nz\r\n\" id=\"DejaVuSans-2e\" transform=\"scale(0.015625)\"/>\r\n       </defs>\r\n       <use xlink:href=\"#DejaVuSans-30\"/>\r\n       <use x=\"63.623047\" xlink:href=\"#DejaVuSans-2e\"/>\r\n       <use x=\"95.410156\" xlink:href=\"#DejaVuSans-30\"/>\r\n      </g>\r\n     </g>\r\n    </g>\r\n    <g id=\"xtick_9\">\r\n     <g id=\"line2d_49\">\r\n      <g>\r\n       <use style=\"stroke:#000000;stroke-width:0.8;\" x=\"603.690507\" xlink:href=\"#m8a04e302df\" y=\"668.914286\"/>\r\n      </g>\r\n     </g>\r\n     <g id=\"text_31\">\r\n      <!-- 0.5 -->\r\n      <g transform=\"translate(595.738944 683.512723)scale(0.1 -0.1)\">\r\n       <defs>\r\n        <path d=\"M 691 4666 \r\nL 3169 4666 \r\nL 3169 4134 \r\nL 1269 4134 \r\nL 1269 2991 \r\nQ 1406 3038 1543 3061 \r\nQ 1681 3084 1819 3084 \r\nQ 2600 3084 3056 2656 \r\nQ 3513 2228 3513 1497 \r\nQ 3513 744 3044 326 \r\nQ 2575 -91 1722 -91 \r\nQ 1428 -91 1123 -41 \r\nQ 819 9 494 109 \r\nL 494 744 \r\nQ 775 591 1075 516 \r\nQ 1375 441 1709 441 \r\nQ 2250 441 2565 725 \r\nQ 2881 1009 2881 1497 \r\nQ 2881 1984 2565 2268 \r\nQ 2250 2553 1709 2553 \r\nQ 1456 2553 1204 2497 \r\nQ 953 2441 691 2322 \r\nL 691 4666 \r\nz\r\n\" id=\"DejaVuSans-35\" transform=\"scale(0.015625)\"/>\r\n       </defs>\r\n       <use xlink:href=\"#DejaVuSans-30\"/>\r\n       <use x=\"63.623047\" xlink:href=\"#DejaVuSans-2e\"/>\r\n       <use x=\"95.410156\" xlink:href=\"#DejaVuSans-35\"/>\r\n      </g>\r\n     </g>\r\n    </g>\r\n    <g id=\"xtick_10\">\r\n     <g id=\"line2d_50\">\r\n      <g>\r\n       <use style=\"stroke:#000000;stroke-width:0.8;\" x=\"684.696145\" xlink:href=\"#m8a04e302df\" y=\"668.914286\"/>\r\n      </g>\r\n     </g>\r\n     <g id=\"text_32\">\r\n      <!-- 1.0 -->\r\n      <g transform=\"translate(676.744582 683.512723)scale(0.1 -0.1)\">\r\n       <use xlink:href=\"#DejaVuSans-31\"/>\r\n       <use x=\"63.623047\" xlink:href=\"#DejaVuSans-2e\"/>\r\n       <use x=\"95.410156\" xlink:href=\"#DejaVuSans-30\"/>\r\n      </g>\r\n     </g>\r\n    </g>\r\n    <g id=\"xtick_11\">\r\n     <g id=\"line2d_51\">\r\n      <g>\r\n       <use style=\"stroke:#000000;stroke-width:0.8;\" x=\"765.701783\" xlink:href=\"#m8a04e302df\" y=\"668.914286\"/>\r\n      </g>\r\n     </g>\r\n     <g id=\"text_33\">\r\n      <!-- 1.5 -->\r\n      <g transform=\"translate(757.75022 683.512723)scale(0.1 -0.1)\">\r\n       <use xlink:href=\"#DejaVuSans-31\"/>\r\n       <use x=\"63.623047\" xlink:href=\"#DejaVuSans-2e\"/>\r\n       <use x=\"95.410156\" xlink:href=\"#DejaVuSans-35\"/>\r\n      </g>\r\n     </g>\r\n    </g>\r\n    <g id=\"xtick_12\">\r\n     <g id=\"line2d_52\">\r\n      <g>\r\n       <use style=\"stroke:#000000;stroke-width:0.8;\" x=\"846.707421\" xlink:href=\"#m8a04e302df\" y=\"668.914286\"/>\r\n      </g>\r\n     </g>\r\n     <g id=\"text_34\">\r\n      <!-- 2.0 -->\r\n      <g transform=\"translate(838.755858 683.512723)scale(0.1 -0.1)\">\r\n       <use xlink:href=\"#DejaVuSans-32\"/>\r\n       <use x=\"63.623047\" xlink:href=\"#DejaVuSans-2e\"/>\r\n       <use x=\"95.410156\" xlink:href=\"#DejaVuSans-30\"/>\r\n      </g>\r\n     </g>\r\n    </g>\r\n   </g>\r\n   <g id=\"matplotlib.axis_4\">\r\n    <g id=\"ytick_21\">\r\n     <g id=\"line2d_53\">\r\n      <g>\r\n       <use style=\"stroke:#000000;stroke-width:0.8;\" x=\"522.684868\" xlink:href=\"#m751f102a23\" y=\"164.142857\"/>\r\n      </g>\r\n     </g>\r\n    </g>\r\n    <g id=\"ytick_22\">\r\n     <g id=\"line2d_54\">\r\n      <g>\r\n       <use style=\"stroke:#000000;stroke-width:0.8;\" x=\"522.684868\" xlink:href=\"#m751f102a23\" y=\"190.028571\"/>\r\n      </g>\r\n     </g>\r\n    </g>\r\n    <g id=\"ytick_23\">\r\n     <g id=\"line2d_55\">\r\n      <g>\r\n       <use style=\"stroke:#000000;stroke-width:0.8;\" x=\"522.684868\" xlink:href=\"#m751f102a23\" y=\"215.914286\"/>\r\n      </g>\r\n     </g>\r\n    </g>\r\n    <g id=\"ytick_24\">\r\n     <g id=\"line2d_56\">\r\n      <g>\r\n       <use style=\"stroke:#000000;stroke-width:0.8;\" x=\"522.684868\" xlink:href=\"#m751f102a23\" y=\"241.8\"/>\r\n      </g>\r\n     </g>\r\n    </g>\r\n    <g id=\"ytick_25\">\r\n     <g id=\"line2d_57\">\r\n      <g>\r\n       <use style=\"stroke:#000000;stroke-width:0.8;\" x=\"522.684868\" xlink:href=\"#m751f102a23\" y=\"267.685714\"/>\r\n      </g>\r\n     </g>\r\n    </g>\r\n    <g id=\"ytick_26\">\r\n     <g id=\"line2d_58\">\r\n      <g>\r\n       <use style=\"stroke:#000000;stroke-width:0.8;\" x=\"522.684868\" xlink:href=\"#m751f102a23\" y=\"293.571429\"/>\r\n      </g>\r\n     </g>\r\n    </g>\r\n    <g id=\"ytick_27\">\r\n     <g id=\"line2d_59\">\r\n      <g>\r\n       <use style=\"stroke:#000000;stroke-width:0.8;\" x=\"522.684868\" xlink:href=\"#m751f102a23\" y=\"319.457143\"/>\r\n      </g>\r\n     </g>\r\n    </g>\r\n    <g id=\"ytick_28\">\r\n     <g id=\"line2d_60\">\r\n      <g>\r\n       <use style=\"stroke:#000000;stroke-width:0.8;\" x=\"522.684868\" xlink:href=\"#m751f102a23\" y=\"345.342857\"/>\r\n      </g>\r\n     </g>\r\n    </g>\r\n    <g id=\"ytick_29\">\r\n     <g id=\"line2d_61\">\r\n      <g>\r\n       <use style=\"stroke:#000000;stroke-width:0.8;\" x=\"522.684868\" xlink:href=\"#m751f102a23\" y=\"371.228571\"/>\r\n      </g>\r\n     </g>\r\n    </g>\r\n    <g id=\"ytick_30\">\r\n     <g id=\"line2d_62\">\r\n      <g>\r\n       <use style=\"stroke:#000000;stroke-width:0.8;\" x=\"522.684868\" xlink:href=\"#m751f102a23\" y=\"397.114286\"/>\r\n      </g>\r\n     </g>\r\n    </g>\r\n    <g id=\"ytick_31\">\r\n     <g id=\"line2d_63\">\r\n      <g>\r\n       <use style=\"stroke:#000000;stroke-width:0.8;\" x=\"522.684868\" xlink:href=\"#m751f102a23\" y=\"423\"/>\r\n      </g>\r\n     </g>\r\n    </g>\r\n    <g id=\"ytick_32\">\r\n     <g id=\"line2d_64\">\r\n      <g>\r\n       <use style=\"stroke:#000000;stroke-width:0.8;\" x=\"522.684868\" xlink:href=\"#m751f102a23\" y=\"448.885714\"/>\r\n      </g>\r\n     </g>\r\n    </g>\r\n    <g id=\"ytick_33\">\r\n     <g id=\"line2d_65\">\r\n      <g>\r\n       <use style=\"stroke:#000000;stroke-width:0.8;\" x=\"522.684868\" xlink:href=\"#m751f102a23\" y=\"474.771429\"/>\r\n      </g>\r\n     </g>\r\n    </g>\r\n    <g id=\"ytick_34\">\r\n     <g id=\"line2d_66\">\r\n      <g>\r\n       <use style=\"stroke:#000000;stroke-width:0.8;\" x=\"522.684868\" xlink:href=\"#m751f102a23\" y=\"500.657143\"/>\r\n      </g>\r\n     </g>\r\n    </g>\r\n    <g id=\"ytick_35\">\r\n     <g id=\"line2d_67\">\r\n      <g>\r\n       <use style=\"stroke:#000000;stroke-width:0.8;\" x=\"522.684868\" xlink:href=\"#m751f102a23\" y=\"526.542857\"/>\r\n      </g>\r\n     </g>\r\n    </g>\r\n    <g id=\"ytick_36\">\r\n     <g id=\"line2d_68\">\r\n      <g>\r\n       <use style=\"stroke:#000000;stroke-width:0.8;\" x=\"522.684868\" xlink:href=\"#m751f102a23\" y=\"552.428571\"/>\r\n      </g>\r\n     </g>\r\n    </g>\r\n    <g id=\"ytick_37\">\r\n     <g id=\"line2d_69\">\r\n      <g>\r\n       <use style=\"stroke:#000000;stroke-width:0.8;\" x=\"522.684868\" xlink:href=\"#m751f102a23\" y=\"578.314286\"/>\r\n      </g>\r\n     </g>\r\n    </g>\r\n    <g id=\"ytick_38\">\r\n     <g id=\"line2d_70\">\r\n      <g>\r\n       <use style=\"stroke:#000000;stroke-width:0.8;\" x=\"522.684868\" xlink:href=\"#m751f102a23\" y=\"604.2\"/>\r\n      </g>\r\n     </g>\r\n    </g>\r\n    <g id=\"ytick_39\">\r\n     <g id=\"line2d_71\">\r\n      <g>\r\n       <use style=\"stroke:#000000;stroke-width:0.8;\" x=\"522.684868\" xlink:href=\"#m751f102a23\" y=\"630.085714\"/>\r\n      </g>\r\n     </g>\r\n    </g>\r\n    <g id=\"ytick_40\">\r\n     <g id=\"line2d_72\">\r\n      <g>\r\n       <use style=\"stroke:#000000;stroke-width:0.8;\" x=\"522.684868\" xlink:href=\"#m751f102a23\" y=\"655.971429\"/>\r\n      </g>\r\n     </g>\r\n    </g>\r\n   </g>\r\n   <g id=\"line2d_73\">\r\n    <path clip-path=\"url(#pd93db3f8e8)\" d=\"M 0 0 \r\n\" style=\"fill:none;stroke:#424242;stroke-linecap:square;stroke-width:2.7;\"/>\r\n   </g>\r\n   <g id=\"line2d_74\">\r\n    <path clip-path=\"url(#pd93db3f8e8)\" d=\"M 0 0 \r\n\" style=\"fill:none;stroke:#424242;stroke-linecap:square;stroke-width:2.7;\"/>\r\n   </g>\r\n   <g id=\"line2d_75\">\r\n    <path clip-path=\"url(#pd93db3f8e8)\" d=\"M 0 0 \r\n\" style=\"fill:none;stroke:#424242;stroke-linecap:square;stroke-width:2.7;\"/>\r\n   </g>\r\n   <g id=\"line2d_76\">\r\n    <path clip-path=\"url(#pd93db3f8e8)\" d=\"M 0 0 \r\n\" style=\"fill:none;stroke:#424242;stroke-linecap:square;stroke-width:2.7;\"/>\r\n   </g>\r\n   <g id=\"line2d_77\">\r\n    <path clip-path=\"url(#pd93db3f8e8)\" d=\"M 0 0 \r\n\" style=\"fill:none;stroke:#424242;stroke-linecap:square;stroke-width:2.7;\"/>\r\n   </g>\r\n   <g id=\"line2d_78\">\r\n    <path clip-path=\"url(#pd93db3f8e8)\" d=\"M 0 0 \r\n\" style=\"fill:none;stroke:#424242;stroke-linecap:square;stroke-width:2.7;\"/>\r\n   </g>\r\n   <g id=\"line2d_79\">\r\n    <path clip-path=\"url(#pd93db3f8e8)\" d=\"M 0 0 \r\n\" style=\"fill:none;stroke:#424242;stroke-linecap:square;stroke-width:2.7;\"/>\r\n   </g>\r\n   <g id=\"line2d_80\">\r\n    <path clip-path=\"url(#pd93db3f8e8)\" d=\"M 0 0 \r\n\" style=\"fill:none;stroke:#424242;stroke-linecap:square;stroke-width:2.7;\"/>\r\n   </g>\r\n   <g id=\"line2d_81\">\r\n    <path clip-path=\"url(#pd93db3f8e8)\" d=\"M 0 0 \r\n\" style=\"fill:none;stroke:#424242;stroke-linecap:square;stroke-width:2.7;\"/>\r\n   </g>\r\n   <g id=\"line2d_82\">\r\n    <path clip-path=\"url(#pd93db3f8e8)\" d=\"M 0 0 \r\n\" style=\"fill:none;stroke:#424242;stroke-linecap:square;stroke-width:2.7;\"/>\r\n   </g>\r\n   <g id=\"line2d_83\">\r\n    <path clip-path=\"url(#pd93db3f8e8)\" d=\"M 0 0 \r\n\" style=\"fill:none;stroke:#424242;stroke-linecap:square;stroke-width:2.7;\"/>\r\n   </g>\r\n   <g id=\"line2d_84\">\r\n    <path clip-path=\"url(#pd93db3f8e8)\" d=\"M 0 0 \r\n\" style=\"fill:none;stroke:#424242;stroke-linecap:square;stroke-width:2.7;\"/>\r\n   </g>\r\n   <g id=\"line2d_85\">\r\n    <path clip-path=\"url(#pd93db3f8e8)\" d=\"M 0 0 \r\n\" style=\"fill:none;stroke:#424242;stroke-linecap:square;stroke-width:2.7;\"/>\r\n   </g>\r\n   <g id=\"line2d_86\">\r\n    <path clip-path=\"url(#pd93db3f8e8)\" d=\"M 0 0 \r\n\" style=\"fill:none;stroke:#424242;stroke-linecap:square;stroke-width:2.7;\"/>\r\n   </g>\r\n   <g id=\"line2d_87\">\r\n    <path clip-path=\"url(#pd93db3f8e8)\" d=\"M 0 0 \r\n\" style=\"fill:none;stroke:#424242;stroke-linecap:square;stroke-width:2.7;\"/>\r\n   </g>\r\n   <g id=\"line2d_88\">\r\n    <path clip-path=\"url(#pd93db3f8e8)\" d=\"M 0 0 \r\n\" style=\"fill:none;stroke:#424242;stroke-linecap:square;stroke-width:2.7;\"/>\r\n   </g>\r\n   <g id=\"line2d_89\">\r\n    <path clip-path=\"url(#pd93db3f8e8)\" d=\"M 0 0 \r\n\" style=\"fill:none;stroke:#424242;stroke-linecap:square;stroke-width:2.7;\"/>\r\n   </g>\r\n   <g id=\"line2d_90\">\r\n    <path clip-path=\"url(#pd93db3f8e8)\" d=\"M 0 0 \r\n\" style=\"fill:none;stroke:#424242;stroke-linecap:square;stroke-width:2.7;\"/>\r\n   </g>\r\n   <g id=\"line2d_91\">\r\n    <path clip-path=\"url(#pd93db3f8e8)\" d=\"M 0 0 \r\n\" style=\"fill:none;stroke:#424242;stroke-linecap:square;stroke-width:2.7;\"/>\r\n   </g>\r\n   <g id=\"line2d_92\">\r\n    <path clip-path=\"url(#pd93db3f8e8)\" d=\"M 0 0 \r\n\" style=\"fill:none;stroke:#424242;stroke-linecap:square;stroke-width:2.7;\"/>\r\n   </g>\r\n   <g id=\"patch_48\">\r\n    <path d=\"M 522.684868 668.914286 \r\nL 522.684868 151.2 \r\n\" style=\"fill:none;stroke:#000000;stroke-linecap:square;stroke-linejoin:miter;stroke-width:0.8;\"/>\r\n   </g>\r\n   <g id=\"patch_49\">\r\n    <path d=\"M 889.790132 668.914286 \r\nL 889.790132 151.2 \r\n\" style=\"fill:none;stroke:#000000;stroke-linecap:square;stroke-linejoin:miter;stroke-width:0.8;\"/>\r\n   </g>\r\n   <g id=\"patch_50\">\r\n    <path d=\"M 522.684868 668.914286 \r\nL 889.790132 668.914286 \r\n\" style=\"fill:none;stroke:#000000;stroke-linecap:square;stroke-linejoin:miter;stroke-width:0.8;\"/>\r\n   </g>\r\n   <g id=\"patch_51\">\r\n    <path d=\"M 522.684868 151.2 \r\nL 889.790132 151.2 \r\n\" style=\"fill:none;stroke:#000000;stroke-linecap:square;stroke-linejoin:miter;stroke-width:0.8;\"/>\r\n   </g>\r\n   <g id=\"text_35\">\r\n    <!-- deaths ratio for highest gdp -->\r\n    <g transform=\"translate(622.390312 145.2)scale(0.12 -0.12)\">\r\n     <defs>\r\n      <path d=\"M 2375 4863 \r\nL 2375 4384 \r\nL 1825 4384 \r\nQ 1516 4384 1395 4259 \r\nQ 1275 4134 1275 3809 \r\nL 1275 3500 \r\nL 2222 3500 \r\nL 2222 3053 \r\nL 1275 3053 \r\nL 1275 0 \r\nL 697 0 \r\nL 697 3053 \r\nL 147 3053 \r\nL 147 3500 \r\nL 697 3500 \r\nL 697 3744 \r\nQ 697 4328 969 4595 \r\nQ 1241 4863 1831 4863 \r\nL 2375 4863 \r\nz\r\n\" id=\"DejaVuSans-66\" transform=\"scale(0.015625)\"/>\r\n     </defs>\r\n     <use xlink:href=\"#DejaVuSans-64\"/>\r\n     <use x=\"63.476562\" xlink:href=\"#DejaVuSans-65\"/>\r\n     <use x=\"125\" xlink:href=\"#DejaVuSans-61\"/>\r\n     <use x=\"186.279297\" xlink:href=\"#DejaVuSans-74\"/>\r\n     <use x=\"225.488281\" xlink:href=\"#DejaVuSans-68\"/>\r\n     <use x=\"288.867188\" xlink:href=\"#DejaVuSans-73\"/>\r\n     <use x=\"340.966797\" xlink:href=\"#DejaVuSans-20\"/>\r\n     <use x=\"372.753906\" xlink:href=\"#DejaVuSans-72\"/>\r\n     <use x=\"413.867188\" xlink:href=\"#DejaVuSans-61\"/>\r\n     <use x=\"475.146484\" xlink:href=\"#DejaVuSans-74\"/>\r\n     <use x=\"514.355469\" xlink:href=\"#DejaVuSans-69\"/>\r\n     <use x=\"542.138672\" xlink:href=\"#DejaVuSans-6f\"/>\r\n     <use x=\"603.320312\" xlink:href=\"#DejaVuSans-20\"/>\r\n     <use x=\"635.107422\" xlink:href=\"#DejaVuSans-66\"/>\r\n     <use x=\"670.3125\" xlink:href=\"#DejaVuSans-6f\"/>\r\n     <use x=\"731.494141\" xlink:href=\"#DejaVuSans-72\"/>\r\n     <use x=\"772.607422\" xlink:href=\"#DejaVuSans-20\"/>\r\n     <use x=\"804.394531\" xlink:href=\"#DejaVuSans-68\"/>\r\n     <use x=\"867.773438\" xlink:href=\"#DejaVuSans-69\"/>\r\n     <use x=\"895.556641\" xlink:href=\"#DejaVuSans-67\"/>\r\n     <use x=\"959.033203\" xlink:href=\"#DejaVuSans-68\"/>\r\n     <use x=\"1022.412109\" xlink:href=\"#DejaVuSans-65\"/>\r\n     <use x=\"1083.935547\" xlink:href=\"#DejaVuSans-73\"/>\r\n     <use x=\"1136.035156\" xlink:href=\"#DejaVuSans-74\"/>\r\n     <use x=\"1175.244141\" xlink:href=\"#DejaVuSans-20\"/>\r\n     <use x=\"1207.03125\" xlink:href=\"#DejaVuSans-67\"/>\r\n     <use x=\"1270.507812\" xlink:href=\"#DejaVuSans-64\"/>\r\n     <use x=\"1333.984375\" xlink:href=\"#DejaVuSans-70\"/>\r\n    </g>\r\n   </g>\r\n  </g>\r\n  <g id=\"axes_3\">\r\n   <g id=\"patch_52\">\r\n    <path d=\"M 897.132237 668.914286 \r\nL 1264.2375 668.914286 \r\nL 1264.2375 151.2 \r\nL 897.132237 151.2 \r\nz\r\n\" style=\"fill:#ffffff;\"/>\r\n   </g>\r\n   <g id=\"patch_53\">\r\n    <path clip-path=\"url(#pd60212aeec)\" d=\"M 897.132237 153.788571 \r\nL 989.747882 153.788571 \r\nL 989.747882 174.497143 \r\nL 897.132237 174.497143 \r\nz\r\n\" style=\"fill:#107010;opacity:0.5;\"/>\r\n   </g>\r\n   <g id=\"patch_54\">\r\n    <path clip-path=\"url(#pd60212aeec)\" d=\"M 897.132237 179.674286 \r\nL 1245.212703 179.674286 \r\nL 1245.212703 200.382857 \r\nL 897.132237 200.382857 \r\nz\r\n\" style=\"fill:#107010;opacity:0.5;\"/>\r\n   </g>\r\n   <g id=\"patch_55\">\r\n    <path clip-path=\"url(#pd60212aeec)\" d=\"M 897.132237 205.56 \r\nL 1082.363527 205.56 \r\nL 1082.363527 226.268571 \r\nL 897.132237 226.268571 \r\nz\r\n\" style=\"fill:#107010;opacity:0.5;\"/>\r\n   </g>\r\n   <g id=\"patch_56\">\r\n    <path clip-path=\"url(#pd60212aeec)\" d=\"M 897.132237 231.445714 \r\nL 1105.517438 231.445714 \r\nL 1105.517438 252.154286 \r\nL 897.132237 252.154286 \r\nz\r\n\" style=\"fill:#107010;opacity:0.5;\"/>\r\n   </g>\r\n   <g id=\"patch_57\">\r\n    <path clip-path=\"url(#pd60212aeec)\" d=\"M 897.132237 257.331429 \r\nL 1125.584161 257.331429 \r\nL 1125.584161 278.04 \r\nL 897.132237 278.04 \r\nz\r\n\" style=\"fill:#107010;opacity:0.5;\"/>\r\n   </g>\r\n   <g id=\"patch_58\">\r\n    <path clip-path=\"url(#pd60212aeec)\" d=\"M 897.132237 283.217143 \r\nL 989.747882 283.217143 \r\nL 989.747882 303.925714 \r\nL 897.132237 303.925714 \r\nz\r\n\" style=\"fill:#107010;opacity:0.5;\"/>\r\n   </g>\r\n   <g id=\"patch_59\">\r\n    <path clip-path=\"url(#pd60212aeec)\" d=\"M 897.132237 309.102857 \r\nL 1051.491645 309.102857 \r\nL 1051.491645 329.811429 \r\nL 897.132237 329.811429 \r\nz\r\n\" style=\"fill:#107010;opacity:0.5;\"/>\r\n   </g>\r\n   <g id=\"patch_60\">\r\n    <path clip-path=\"url(#pd60212aeec)\" d=\"M 897.132237 334.988571 \r\nL 1174.979172 334.988571 \r\nL 1174.979172 355.697143 \r\nL 897.132237 355.697143 \r\nz\r\n\" style=\"fill:#107010;opacity:0.5;\"/>\r\n   </g>\r\n   <g id=\"patch_61\">\r\n    <path clip-path=\"url(#pd60212aeec)\" d=\"M 897.132237 360.874286 \r\nL 1246.756297 360.874286 \r\nL 1246.756297 381.582857 \r\nL 897.132237 381.582857 \r\nz\r\n\" style=\"fill:#107010;opacity:0.5;\"/>\r\n   </g>\r\n   <g id=\"patch_62\">\r\n    <path clip-path=\"url(#pd60212aeec)\" d=\"M 897.132237 386.76 \r\nL 1110.920018 386.76 \r\nL 1110.920018 407.468571 \r\nL 897.132237 407.468571 \r\nz\r\n\" style=\"fill:#107010;opacity:0.5;\"/>\r\n   </g>\r\n   <g id=\"patch_63\">\r\n    <path clip-path=\"url(#pd60212aeec)\" d=\"M 897.132237 412.645714 \r\nL 1153.368855 412.645714 \r\nL 1153.368855 433.354286 \r\nL 897.132237 433.354286 \r\nz\r\n\" style=\"fill:#107010;opacity:0.5;\"/>\r\n   </g>\r\n   <g id=\"patch_64\">\r\n    <path clip-path=\"url(#pd60212aeec)\" d=\"M 897.132237 438.531429 \r\nL 1090.081497 438.531429 \r\nL 1090.081497 459.24 \r\nL 897.132237 459.24 \r\nz\r\n\" style=\"fill:#107010;opacity:0.5;\"/>\r\n   </g>\r\n   <g id=\"patch_65\">\r\n    <path clip-path=\"url(#pd60212aeec)\" d=\"M 897.132237 464.417143 \r\nL 1128.67135 464.417143 \r\nL 1128.67135 485.125714 \r\nL 897.132237 485.125714 \r\nz\r\n\" style=\"fill:#107010;opacity:0.5;\"/>\r\n   </g>\r\n   <g id=\"patch_66\">\r\n    <path clip-path=\"url(#pd60212aeec)\" d=\"M 897.132237 490.302857 \r\nL 1120.953379 490.302857 \r\nL 1120.953379 511.011429 \r\nL 897.132237 511.011429 \r\nz\r\n\" style=\"fill:#107010;opacity:0.5;\"/>\r\n   </g>\r\n   <g id=\"patch_67\">\r\n    <path clip-path=\"url(#pd60212aeec)\" d=\"M 897.132237 516.188571 \r\nL 1174.979172 516.188571 \r\nL 1174.979172 536.897143 \r\nL 897.132237 536.897143 \r\nz\r\n\" style=\"fill:#107010;opacity:0.5;\"/>\r\n   </g>\r\n   <g id=\"patch_68\">\r\n    <path clip-path=\"url(#pd60212aeec)\" d=\"M 897.132237 542.074286 \r\nL 1059.981413 542.074286 \r\nL 1059.981413 562.782857 \r\nL 897.132237 562.782857 \r\nz\r\n\" style=\"fill:#107010;opacity:0.5;\"/>\r\n   </g>\r\n   <g id=\"patch_69\">\r\n    <path clip-path=\"url(#pd60212aeec)\" d=\"M 897.132237 567.96 \r\nL 1059.209616 567.96 \r\nL 1059.209616 588.668571 \r\nL 897.132237 588.668571 \r\nz\r\n\" style=\"fill:#107010;opacity:0.5;\"/>\r\n   </g>\r\n   <g id=\"patch_70\">\r\n    <path clip-path=\"url(#pd60212aeec)\" d=\"M 897.132237 593.845714 \r\nL 1074.645557 593.845714 \r\nL 1074.645557 614.554286 \r\nL 897.132237 614.554286 \r\nz\r\n\" style=\"fill:#107010;opacity:0.5;\"/>\r\n   </g>\r\n   <g id=\"patch_71\">\r\n    <path clip-path=\"url(#pd60212aeec)\" d=\"M 897.132237 619.731429 \r\nL 1113.235409 619.731429 \r\nL 1113.235409 640.44 \r\nL 897.132237 640.44 \r\nz\r\n\" style=\"fill:#107010;opacity:0.5;\"/>\r\n   </g>\r\n   <g id=\"patch_72\">\r\n    <path clip-path=\"url(#pd60212aeec)\" d=\"M 897.132237 645.617143 \r\nL 1159.543231 645.617143 \r\nL 1159.543231 666.325714 \r\nL 897.132237 666.325714 \r\nz\r\n\" style=\"fill:#107010;opacity:0.5;\"/>\r\n   </g>\r\n   <g id=\"matplotlib.axis_5\">\r\n    <g id=\"xtick_13\">\r\n     <g id=\"line2d_93\">\r\n      <g>\r\n       <use style=\"stroke:#000000;stroke-width:0.8;\" x=\"897.132237\" xlink:href=\"#m8a04e302df\" y=\"668.914286\"/>\r\n      </g>\r\n     </g>\r\n     <g id=\"text_36\">\r\n      <!-- 0 -->\r\n      <g transform=\"translate(893.950987 683.512723)scale(0.1 -0.1)\">\r\n       <use xlink:href=\"#DejaVuSans-30\"/>\r\n      </g>\r\n     </g>\r\n    </g>\r\n    <g id=\"xtick_14\">\r\n     <g id=\"line2d_94\">\r\n      <g>\r\n       <use style=\"stroke:#000000;stroke-width:0.8;\" x=\"974.311941\" xlink:href=\"#m8a04e302df\" y=\"668.914286\"/>\r\n      </g>\r\n     </g>\r\n     <g id=\"text_37\">\r\n      <!-- 1 -->\r\n      <g transform=\"translate(971.130691 683.512723)scale(0.1 -0.1)\">\r\n       <use xlink:href=\"#DejaVuSans-31\"/>\r\n      </g>\r\n     </g>\r\n    </g>\r\n    <g id=\"xtick_15\">\r\n     <g id=\"line2d_95\">\r\n      <g>\r\n       <use style=\"stroke:#000000;stroke-width:0.8;\" x=\"1051.491645\" xlink:href=\"#m8a04e302df\" y=\"668.914286\"/>\r\n      </g>\r\n     </g>\r\n     <g id=\"text_38\">\r\n      <!-- 2 -->\r\n      <g transform=\"translate(1048.310395 683.512723)scale(0.1 -0.1)\">\r\n       <use xlink:href=\"#DejaVuSans-32\"/>\r\n      </g>\r\n     </g>\r\n    </g>\r\n    <g id=\"xtick_16\">\r\n     <g id=\"line2d_96\">\r\n      <g>\r\n       <use style=\"stroke:#000000;stroke-width:0.8;\" x=\"1128.67135\" xlink:href=\"#m8a04e302df\" y=\"668.914286\"/>\r\n      </g>\r\n     </g>\r\n     <g id=\"text_39\">\r\n      <!-- 3 -->\r\n      <g transform=\"translate(1125.4901 683.512723)scale(0.1 -0.1)\">\r\n       <defs>\r\n        <path d=\"M 2597 2516 \r\nQ 3050 2419 3304 2112 \r\nQ 3559 1806 3559 1356 \r\nQ 3559 666 3084 287 \r\nQ 2609 -91 1734 -91 \r\nQ 1441 -91 1130 -33 \r\nQ 819 25 488 141 \r\nL 488 750 \r\nQ 750 597 1062 519 \r\nQ 1375 441 1716 441 \r\nQ 2309 441 2620 675 \r\nQ 2931 909 2931 1356 \r\nQ 2931 1769 2642 2001 \r\nQ 2353 2234 1838 2234 \r\nL 1294 2234 \r\nL 1294 2753 \r\nL 1863 2753 \r\nQ 2328 2753 2575 2939 \r\nQ 2822 3125 2822 3475 \r\nQ 2822 3834 2567 4026 \r\nQ 2313 4219 1838 4219 \r\nQ 1578 4219 1281 4162 \r\nQ 984 4106 628 3988 \r\nL 628 4550 \r\nQ 988 4650 1302 4700 \r\nQ 1616 4750 1894 4750 \r\nQ 2613 4750 3031 4423 \r\nQ 3450 4097 3450 3541 \r\nQ 3450 3153 3228 2886 \r\nQ 3006 2619 2597 2516 \r\nz\r\n\" id=\"DejaVuSans-33\" transform=\"scale(0.015625)\"/>\r\n       </defs>\r\n       <use xlink:href=\"#DejaVuSans-33\"/>\r\n      </g>\r\n     </g>\r\n    </g>\r\n    <g id=\"xtick_17\">\r\n     <g id=\"line2d_97\">\r\n      <g>\r\n       <use style=\"stroke:#000000;stroke-width:0.8;\" x=\"1205.851054\" xlink:href=\"#m8a04e302df\" y=\"668.914286\"/>\r\n      </g>\r\n     </g>\r\n     <g id=\"text_40\">\r\n      <!-- 4 -->\r\n      <g transform=\"translate(1202.669804 683.512723)scale(0.1 -0.1)\">\r\n       <use xlink:href=\"#DejaVuSans-34\"/>\r\n      </g>\r\n     </g>\r\n    </g>\r\n   </g>\r\n   <g id=\"matplotlib.axis_6\">\r\n    <g id=\"ytick_41\">\r\n     <g id=\"line2d_98\">\r\n      <g>\r\n       <use style=\"stroke:#000000;stroke-width:0.8;\" x=\"897.132237\" xlink:href=\"#m751f102a23\" y=\"164.142857\"/>\r\n      </g>\r\n     </g>\r\n    </g>\r\n    <g id=\"ytick_42\">\r\n     <g id=\"line2d_99\">\r\n      <g>\r\n       <use style=\"stroke:#000000;stroke-width:0.8;\" x=\"897.132237\" xlink:href=\"#m751f102a23\" y=\"190.028571\"/>\r\n      </g>\r\n     </g>\r\n    </g>\r\n    <g id=\"ytick_43\">\r\n     <g id=\"line2d_100\">\r\n      <g>\r\n       <use style=\"stroke:#000000;stroke-width:0.8;\" x=\"897.132237\" xlink:href=\"#m751f102a23\" y=\"215.914286\"/>\r\n      </g>\r\n     </g>\r\n    </g>\r\n    <g id=\"ytick_44\">\r\n     <g id=\"line2d_101\">\r\n      <g>\r\n       <use style=\"stroke:#000000;stroke-width:0.8;\" x=\"897.132237\" xlink:href=\"#m751f102a23\" y=\"241.8\"/>\r\n      </g>\r\n     </g>\r\n    </g>\r\n    <g id=\"ytick_45\">\r\n     <g id=\"line2d_102\">\r\n      <g>\r\n       <use style=\"stroke:#000000;stroke-width:0.8;\" x=\"897.132237\" xlink:href=\"#m751f102a23\" y=\"267.685714\"/>\r\n      </g>\r\n     </g>\r\n    </g>\r\n    <g id=\"ytick_46\">\r\n     <g id=\"line2d_103\">\r\n      <g>\r\n       <use style=\"stroke:#000000;stroke-width:0.8;\" x=\"897.132237\" xlink:href=\"#m751f102a23\" y=\"293.571429\"/>\r\n      </g>\r\n     </g>\r\n    </g>\r\n    <g id=\"ytick_47\">\r\n     <g id=\"line2d_104\">\r\n      <g>\r\n       <use style=\"stroke:#000000;stroke-width:0.8;\" x=\"897.132237\" xlink:href=\"#m751f102a23\" y=\"319.457143\"/>\r\n      </g>\r\n     </g>\r\n    </g>\r\n    <g id=\"ytick_48\">\r\n     <g id=\"line2d_105\">\r\n      <g>\r\n       <use style=\"stroke:#000000;stroke-width:0.8;\" x=\"897.132237\" xlink:href=\"#m751f102a23\" y=\"345.342857\"/>\r\n      </g>\r\n     </g>\r\n    </g>\r\n    <g id=\"ytick_49\">\r\n     <g id=\"line2d_106\">\r\n      <g>\r\n       <use style=\"stroke:#000000;stroke-width:0.8;\" x=\"897.132237\" xlink:href=\"#m751f102a23\" y=\"371.228571\"/>\r\n      </g>\r\n     </g>\r\n    </g>\r\n    <g id=\"ytick_50\">\r\n     <g id=\"line2d_107\">\r\n      <g>\r\n       <use style=\"stroke:#000000;stroke-width:0.8;\" x=\"897.132237\" xlink:href=\"#m751f102a23\" y=\"397.114286\"/>\r\n      </g>\r\n     </g>\r\n    </g>\r\n    <g id=\"ytick_51\">\r\n     <g id=\"line2d_108\">\r\n      <g>\r\n       <use style=\"stroke:#000000;stroke-width:0.8;\" x=\"897.132237\" xlink:href=\"#m751f102a23\" y=\"423\"/>\r\n      </g>\r\n     </g>\r\n    </g>\r\n    <g id=\"ytick_52\">\r\n     <g id=\"line2d_109\">\r\n      <g>\r\n       <use style=\"stroke:#000000;stroke-width:0.8;\" x=\"897.132237\" xlink:href=\"#m751f102a23\" y=\"448.885714\"/>\r\n      </g>\r\n     </g>\r\n    </g>\r\n    <g id=\"ytick_53\">\r\n     <g id=\"line2d_110\">\r\n      <g>\r\n       <use style=\"stroke:#000000;stroke-width:0.8;\" x=\"897.132237\" xlink:href=\"#m751f102a23\" y=\"474.771429\"/>\r\n      </g>\r\n     </g>\r\n    </g>\r\n    <g id=\"ytick_54\">\r\n     <g id=\"line2d_111\">\r\n      <g>\r\n       <use style=\"stroke:#000000;stroke-width:0.8;\" x=\"897.132237\" xlink:href=\"#m751f102a23\" y=\"500.657143\"/>\r\n      </g>\r\n     </g>\r\n    </g>\r\n    <g id=\"ytick_55\">\r\n     <g id=\"line2d_112\">\r\n      <g>\r\n       <use style=\"stroke:#000000;stroke-width:0.8;\" x=\"897.132237\" xlink:href=\"#m751f102a23\" y=\"526.542857\"/>\r\n      </g>\r\n     </g>\r\n    </g>\r\n    <g id=\"ytick_56\">\r\n     <g id=\"line2d_113\">\r\n      <g>\r\n       <use style=\"stroke:#000000;stroke-width:0.8;\" x=\"897.132237\" xlink:href=\"#m751f102a23\" y=\"552.428571\"/>\r\n      </g>\r\n     </g>\r\n    </g>\r\n    <g id=\"ytick_57\">\r\n     <g id=\"line2d_114\">\r\n      <g>\r\n       <use style=\"stroke:#000000;stroke-width:0.8;\" x=\"897.132237\" xlink:href=\"#m751f102a23\" y=\"578.314286\"/>\r\n      </g>\r\n     </g>\r\n    </g>\r\n    <g id=\"ytick_58\">\r\n     <g id=\"line2d_115\">\r\n      <g>\r\n       <use style=\"stroke:#000000;stroke-width:0.8;\" x=\"897.132237\" xlink:href=\"#m751f102a23\" y=\"604.2\"/>\r\n      </g>\r\n     </g>\r\n    </g>\r\n    <g id=\"ytick_59\">\r\n     <g id=\"line2d_116\">\r\n      <g>\r\n       <use style=\"stroke:#000000;stroke-width:0.8;\" x=\"897.132237\" xlink:href=\"#m751f102a23\" y=\"630.085714\"/>\r\n      </g>\r\n     </g>\r\n    </g>\r\n    <g id=\"ytick_60\">\r\n     <g id=\"line2d_117\">\r\n      <g>\r\n       <use style=\"stroke:#000000;stroke-width:0.8;\" x=\"897.132237\" xlink:href=\"#m751f102a23\" y=\"655.971429\"/>\r\n      </g>\r\n     </g>\r\n    </g>\r\n   </g>\r\n   <g id=\"line2d_118\">\r\n    <path clip-path=\"url(#pd60212aeec)\" d=\"M 0 0 \r\n\" style=\"fill:none;stroke:#424242;stroke-linecap:square;stroke-width:2.7;\"/>\r\n   </g>\r\n   <g id=\"line2d_119\">\r\n    <path clip-path=\"url(#pd60212aeec)\" d=\"M 0 0 \r\n\" style=\"fill:none;stroke:#424242;stroke-linecap:square;stroke-width:2.7;\"/>\r\n   </g>\r\n   <g id=\"line2d_120\">\r\n    <path clip-path=\"url(#pd60212aeec)\" d=\"M 0 0 \r\n\" style=\"fill:none;stroke:#424242;stroke-linecap:square;stroke-width:2.7;\"/>\r\n   </g>\r\n   <g id=\"line2d_121\">\r\n    <path clip-path=\"url(#pd60212aeec)\" d=\"M 0 0 \r\n\" style=\"fill:none;stroke:#424242;stroke-linecap:square;stroke-width:2.7;\"/>\r\n   </g>\r\n   <g id=\"line2d_122\">\r\n    <path clip-path=\"url(#pd60212aeec)\" d=\"M 0 0 \r\n\" style=\"fill:none;stroke:#424242;stroke-linecap:square;stroke-width:2.7;\"/>\r\n   </g>\r\n   <g id=\"line2d_123\">\r\n    <path clip-path=\"url(#pd60212aeec)\" d=\"M 0 0 \r\n\" style=\"fill:none;stroke:#424242;stroke-linecap:square;stroke-width:2.7;\"/>\r\n   </g>\r\n   <g id=\"line2d_124\">\r\n    <path clip-path=\"url(#pd60212aeec)\" d=\"M 0 0 \r\n\" style=\"fill:none;stroke:#424242;stroke-linecap:square;stroke-width:2.7;\"/>\r\n   </g>\r\n   <g id=\"line2d_125\">\r\n    <path clip-path=\"url(#pd60212aeec)\" d=\"M 0 0 \r\n\" style=\"fill:none;stroke:#424242;stroke-linecap:square;stroke-width:2.7;\"/>\r\n   </g>\r\n   <g id=\"line2d_126\">\r\n    <path clip-path=\"url(#pd60212aeec)\" d=\"M 0 0 \r\n\" style=\"fill:none;stroke:#424242;stroke-linecap:square;stroke-width:2.7;\"/>\r\n   </g>\r\n   <g id=\"line2d_127\">\r\n    <path clip-path=\"url(#pd60212aeec)\" d=\"M 0 0 \r\n\" style=\"fill:none;stroke:#424242;stroke-linecap:square;stroke-width:2.7;\"/>\r\n   </g>\r\n   <g id=\"line2d_128\">\r\n    <path clip-path=\"url(#pd60212aeec)\" d=\"M 0 0 \r\n\" style=\"fill:none;stroke:#424242;stroke-linecap:square;stroke-width:2.7;\"/>\r\n   </g>\r\n   <g id=\"line2d_129\">\r\n    <path clip-path=\"url(#pd60212aeec)\" d=\"M 0 0 \r\n\" style=\"fill:none;stroke:#424242;stroke-linecap:square;stroke-width:2.7;\"/>\r\n   </g>\r\n   <g id=\"line2d_130\">\r\n    <path clip-path=\"url(#pd60212aeec)\" d=\"M 0 0 \r\n\" style=\"fill:none;stroke:#424242;stroke-linecap:square;stroke-width:2.7;\"/>\r\n   </g>\r\n   <g id=\"line2d_131\">\r\n    <path clip-path=\"url(#pd60212aeec)\" d=\"M 0 0 \r\n\" style=\"fill:none;stroke:#424242;stroke-linecap:square;stroke-width:2.7;\"/>\r\n   </g>\r\n   <g id=\"line2d_132\">\r\n    <path clip-path=\"url(#pd60212aeec)\" d=\"M 0 0 \r\n\" style=\"fill:none;stroke:#424242;stroke-linecap:square;stroke-width:2.7;\"/>\r\n   </g>\r\n   <g id=\"line2d_133\">\r\n    <path clip-path=\"url(#pd60212aeec)\" d=\"M 0 0 \r\n\" style=\"fill:none;stroke:#424242;stroke-linecap:square;stroke-width:2.7;\"/>\r\n   </g>\r\n   <g id=\"line2d_134\">\r\n    <path clip-path=\"url(#pd60212aeec)\" d=\"M 0 0 \r\n\" style=\"fill:none;stroke:#424242;stroke-linecap:square;stroke-width:2.7;\"/>\r\n   </g>\r\n   <g id=\"line2d_135\">\r\n    <path clip-path=\"url(#pd60212aeec)\" d=\"M 0 0 \r\n\" style=\"fill:none;stroke:#424242;stroke-linecap:square;stroke-width:2.7;\"/>\r\n   </g>\r\n   <g id=\"line2d_136\">\r\n    <path clip-path=\"url(#pd60212aeec)\" d=\"M 0 0 \r\n\" style=\"fill:none;stroke:#424242;stroke-linecap:square;stroke-width:2.7;\"/>\r\n   </g>\r\n   <g id=\"line2d_137\">\r\n    <path clip-path=\"url(#pd60212aeec)\" d=\"M 0 0 \r\n\" style=\"fill:none;stroke:#424242;stroke-linecap:square;stroke-width:2.7;\"/>\r\n   </g>\r\n   <g id=\"patch_73\">\r\n    <path d=\"M 897.132237 668.914286 \r\nL 897.132237 151.2 \r\n\" style=\"fill:none;stroke:#000000;stroke-linecap:square;stroke-linejoin:miter;stroke-width:0.8;\"/>\r\n   </g>\r\n   <g id=\"patch_74\">\r\n    <path d=\"M 1264.2375 668.914286 \r\nL 1264.2375 151.2 \r\n\" style=\"fill:none;stroke:#000000;stroke-linecap:square;stroke-linejoin:miter;stroke-width:0.8;\"/>\r\n   </g>\r\n   <g id=\"patch_75\">\r\n    <path d=\"M 897.132237 668.914286 \r\nL 1264.2375 668.914286 \r\n\" style=\"fill:none;stroke:#000000;stroke-linecap:square;stroke-linejoin:miter;stroke-width:0.8;\"/>\r\n   </g>\r\n   <g id=\"patch_76\">\r\n    <path d=\"M 897.132237 151.2 \r\nL 1264.2375 151.2 \r\n\" style=\"fill:none;stroke:#000000;stroke-linecap:square;stroke-linejoin:miter;stroke-width:0.8;\"/>\r\n   </g>\r\n   <g id=\"text_41\">\r\n    <!-- hospital beds per thousand for highest gdp -->\r\n    <g transform=\"translate(951.098931 145.2)scale(0.12 -0.12)\">\r\n     <use xlink:href=\"#DejaVuSans-68\"/>\r\n     <use x=\"63.378906\" xlink:href=\"#DejaVuSans-6f\"/>\r\n     <use x=\"124.560547\" xlink:href=\"#DejaVuSans-73\"/>\r\n     <use x=\"176.660156\" xlink:href=\"#DejaVuSans-70\"/>\r\n     <use x=\"240.136719\" xlink:href=\"#DejaVuSans-69\"/>\r\n     <use x=\"267.919922\" xlink:href=\"#DejaVuSans-74\"/>\r\n     <use x=\"307.128906\" xlink:href=\"#DejaVuSans-61\"/>\r\n     <use x=\"368.408203\" xlink:href=\"#DejaVuSans-6c\"/>\r\n     <use x=\"396.191406\" xlink:href=\"#DejaVuSans-20\"/>\r\n     <use x=\"427.978516\" xlink:href=\"#DejaVuSans-62\"/>\r\n     <use x=\"491.455078\" xlink:href=\"#DejaVuSans-65\"/>\r\n     <use x=\"552.978516\" xlink:href=\"#DejaVuSans-64\"/>\r\n     <use x=\"616.455078\" xlink:href=\"#DejaVuSans-73\"/>\r\n     <use x=\"668.554688\" xlink:href=\"#DejaVuSans-20\"/>\r\n     <use x=\"700.341797\" xlink:href=\"#DejaVuSans-70\"/>\r\n     <use x=\"763.818359\" xlink:href=\"#DejaVuSans-65\"/>\r\n     <use x=\"825.341797\" xlink:href=\"#DejaVuSans-72\"/>\r\n     <use x=\"866.455078\" xlink:href=\"#DejaVuSans-20\"/>\r\n     <use x=\"898.242188\" xlink:href=\"#DejaVuSans-74\"/>\r\n     <use x=\"937.451172\" xlink:href=\"#DejaVuSans-68\"/>\r\n     <use x=\"1000.830078\" xlink:href=\"#DejaVuSans-6f\"/>\r\n     <use x=\"1062.011719\" xlink:href=\"#DejaVuSans-75\"/>\r\n     <use x=\"1125.390625\" xlink:href=\"#DejaVuSans-73\"/>\r\n     <use x=\"1177.490234\" xlink:href=\"#DejaVuSans-61\"/>\r\n     <use x=\"1238.769531\" xlink:href=\"#DejaVuSans-6e\"/>\r\n     <use x=\"1302.148438\" xlink:href=\"#DejaVuSans-64\"/>\r\n     <use x=\"1365.625\" xlink:href=\"#DejaVuSans-20\"/>\r\n     <use x=\"1397.412109\" xlink:href=\"#DejaVuSans-66\"/>\r\n     <use x=\"1432.617188\" xlink:href=\"#DejaVuSans-6f\"/>\r\n     <use x=\"1493.798828\" xlink:href=\"#DejaVuSans-72\"/>\r\n     <use x=\"1534.912109\" xlink:href=\"#DejaVuSans-20\"/>\r\n     <use x=\"1566.699219\" xlink:href=\"#DejaVuSans-68\"/>\r\n     <use x=\"1630.078125\" xlink:href=\"#DejaVuSans-69\"/>\r\n     <use x=\"1657.861328\" xlink:href=\"#DejaVuSans-67\"/>\r\n     <use x=\"1721.337891\" xlink:href=\"#DejaVuSans-68\"/>\r\n     <use x=\"1784.716797\" xlink:href=\"#DejaVuSans-65\"/>\r\n     <use x=\"1846.240234\" xlink:href=\"#DejaVuSans-73\"/>\r\n     <use x=\"1898.339844\" xlink:href=\"#DejaVuSans-74\"/>\r\n     <use x=\"1937.548828\" xlink:href=\"#DejaVuSans-20\"/>\r\n     <use x=\"1969.335938\" xlink:href=\"#DejaVuSans-67\"/>\r\n     <use x=\"2032.8125\" xlink:href=\"#DejaVuSans-64\"/>\r\n     <use x=\"2096.289062\" xlink:href=\"#DejaVuSans-70\"/>\r\n    </g>\r\n   </g>\r\n  </g>\r\n  <g id=\"axes_4\">\r\n   <g id=\"patch_77\">\r\n    <path d=\"M 148.2375 1238.4 \r\nL 515.342763 1238.4 \r\nL 515.342763 720.685714 \r\nL 148.2375 720.685714 \r\nz\r\n\" style=\"fill:#ffffff;\"/>\r\n   </g>\r\n   <g id=\"patch_78\">\r\n    <path clip-path=\"url(#p9332954357)\" d=\"M 148.2375 723.274286 \r\nL 497.86156 723.274286 \r\nL 497.86156 743.982857 \r\nL 148.2375 743.982857 \r\nz\r\n\" style=\"fill:#2020df;opacity:0.5;\"/>\r\n   </g>\r\n   <g id=\"patch_79\">\r\n    <path clip-path=\"url(#p9332954357)\" d=\"M 148.2375 749.16 \r\nL 460.922059 749.16 \r\nL 460.922059 769.868571 \r\nL 148.2375 769.868571 \r\nz\r\n\" style=\"fill:#2020df;opacity:0.5;\"/>\r\n   </g>\r\n   <g id=\"patch_80\">\r\n    <path clip-path=\"url(#p9332954357)\" d=\"M 148.2375 775.045714 \r\nL 442.728083 775.045714 \r\nL 442.728083 795.754286 \r\nL 148.2375 795.754286 \r\nz\r\n\" style=\"fill:#2020df;opacity:0.5;\"/>\r\n   </g>\r\n   <g id=\"patch_81\">\r\n    <path clip-path=\"url(#p9332954357)\" d=\"M 148.2375 800.931429 \r\nL 442.282924 800.931429 \r\nL 442.282924 821.64 \r\nL 148.2375 821.64 \r\nz\r\n\" style=\"fill:#2020df;opacity:0.5;\"/>\r\n   </g>\r\n   <g id=\"patch_82\">\r\n    <path clip-path=\"url(#p9332954357)\" d=\"M 148.2375 826.817143 \r\nL 437.080356 826.817143 \r\nL 437.080356 847.525714 \r\nL 148.2375 847.525714 \r\nz\r\n\" style=\"fill:#2020df;opacity:0.5;\"/>\r\n   </g>\r\n   <g id=\"patch_83\">\r\n    <path clip-path=\"url(#p9332954357)\" d=\"M 148.2375 852.702857 \r\nL 420.974417 852.702857 \r\nL 420.974417 873.411429 \r\nL 148.2375 873.411429 \r\nz\r\n\" style=\"fill:#2020df;opacity:0.5;\"/>\r\n   </g>\r\n   <g id=\"patch_84\">\r\n    <path clip-path=\"url(#p9332954357)\" d=\"M 148.2375 878.588571 \r\nL 359.011574 878.588571 \r\nL 359.011574 899.297143 \r\nL 148.2375 899.297143 \r\nz\r\n\" style=\"fill:#2020df;opacity:0.5;\"/>\r\n   </g>\r\n   <g id=\"patch_85\">\r\n    <path clip-path=\"url(#p9332954357)\" d=\"M 148.2375 904.474286 \r\nL 353.804174 904.474286 \r\nL 353.804174 925.182857 \r\nL 148.2375 925.182857 \r\nz\r\n\" style=\"fill:#2020df;opacity:0.5;\"/>\r\n   </g>\r\n   <g id=\"patch_86\">\r\n    <path clip-path=\"url(#p9332954357)\" d=\"M 148.2375 930.36 \r\nL 328.130896 930.36 \r\nL 328.130896 951.068571 \r\nL 148.2375 951.068571 \r\nz\r\n\" style=\"fill:#2020df;opacity:0.5;\"/>\r\n   </g>\r\n   <g id=\"patch_87\">\r\n    <path clip-path=\"url(#p9332954357)\" d=\"M 148.2375 956.245714 \r\nL 282.647698 956.245714 \r\nL 282.647698 976.954286 \r\nL 148.2375 976.954286 \r\nz\r\n\" style=\"fill:#2020df;opacity:0.5;\"/>\r\n   </g>\r\n   <g id=\"patch_88\">\r\n    <path clip-path=\"url(#p9332954357)\" d=\"M 148.2375 982.131429 \r\nL 262.979693 982.131429 \r\nL 262.979693 1002.84 \r\nL 148.2375 1002.84 \r\nz\r\n\" style=\"fill:#2020df;opacity:0.5;\"/>\r\n   </g>\r\n   <g id=\"patch_89\">\r\n    <path clip-path=\"url(#p9332954357)\" d=\"M 148.2375 1008.017143 \r\nL 244.993146 1008.017143 \r\nL 244.993146 1028.725714 \r\nL 148.2375 1028.725714 \r\nz\r\n\" style=\"fill:#2020df;opacity:0.5;\"/>\r\n   </g>\r\n   <g id=\"patch_90\">\r\n    <path clip-path=\"url(#p9332954357)\" d=\"M 148.2375 1033.902857 \r\nL 219.690604 1033.902857 \r\nL 219.690604 1054.611429 \r\nL 148.2375 1054.611429 \r\nz\r\n\" style=\"fill:#2020df;opacity:0.5;\"/>\r\n   </g>\r\n   <g id=\"patch_91\">\r\n    <path clip-path=\"url(#p9332954357)\" d=\"M 148.2375 1059.788571 \r\nL 213.717097 1059.788571 \r\nL 213.717097 1080.497143 \r\nL 148.2375 1080.497143 \r\nz\r\n\" style=\"fill:#2020df;opacity:0.5;\"/>\r\n   </g>\r\n   <g id=\"patch_92\">\r\n    <path clip-path=\"url(#p9332954357)\" d=\"M 148.2375 1085.674286 \r\nL 206.824199 1085.674286 \r\nL 206.824199 1106.382857 \r\nL 148.2375 1106.382857 \r\nz\r\n\" style=\"fill:#2020df;opacity:0.5;\"/>\r\n   </g>\r\n   <g id=\"patch_93\">\r\n    <path clip-path=\"url(#p9332954357)\" d=\"M 148.2375 1111.56 \r\nL 191.610401 1111.56 \r\nL 191.610401 1132.268571 \r\nL 148.2375 1132.268571 \r\nz\r\n\" style=\"fill:#2020df;opacity:0.5;\"/>\r\n   </g>\r\n   <g id=\"patch_94\">\r\n    <path clip-path=\"url(#p9332954357)\" d=\"M 148.2375 1137.445714 \r\nL 184.914912 1137.445714 \r\nL 184.914912 1158.154286 \r\nL 148.2375 1158.154286 \r\nz\r\n\" style=\"fill:#2020df;opacity:0.5;\"/>\r\n   </g>\r\n   <g id=\"patch_95\">\r\n    <path clip-path=\"url(#p9332954357)\" d=\"M 148.2375 1163.331429 \r\nL 178.054255 1163.331429 \r\nL 178.054255 1184.04 \r\nL 148.2375 1184.04 \r\nz\r\n\" style=\"fill:#2020df;opacity:0.5;\"/>\r\n   </g>\r\n   <g id=\"patch_96\">\r\n    <path clip-path=\"url(#p9332954357)\" d=\"M 148.2375 1189.217143 \r\nL 176.051534 1189.217143 \r\nL 176.051534 1209.925714 \r\nL 148.2375 1209.925714 \r\nz\r\n\" style=\"fill:#2020df;opacity:0.5;\"/>\r\n   </g>\r\n   <g id=\"patch_97\">\r\n    <path clip-path=\"url(#p9332954357)\" d=\"M 148.2375 1215.102857 \r\nL 174.428182 1215.102857 \r\nL 174.428182 1235.811429 \r\nL 148.2375 1235.811429 \r\nz\r\n\" style=\"fill:#2020df;opacity:0.5;\"/>\r\n   </g>\r\n   <g id=\"matplotlib.axis_7\">\r\n    <g id=\"xtick_18\">\r\n     <g id=\"line2d_138\">\r\n      <g>\r\n       <use style=\"stroke:#000000;stroke-width:0.8;\" x=\"148.2375\" xlink:href=\"#m8a04e302df\" y=\"1238.4\"/>\r\n      </g>\r\n     </g>\r\n     <g id=\"text_42\">\r\n      <!-- 0 -->\r\n      <g transform=\"translate(145.05625 1252.998437)scale(0.1 -0.1)\">\r\n       <use xlink:href=\"#DejaVuSans-30\"/>\r\n      </g>\r\n     </g>\r\n    </g>\r\n    <g id=\"xtick_19\">\r\n     <g id=\"line2d_139\">\r\n      <g>\r\n       <use style=\"stroke:#000000;stroke-width:0.8;\" x=\"227.454372\" xlink:href=\"#m8a04e302df\" y=\"1238.4\"/>\r\n      </g>\r\n     </g>\r\n     <g id=\"text_43\">\r\n      <!-- 2000 -->\r\n      <g transform=\"translate(214.729372 1252.998437)scale(0.1 -0.1)\">\r\n       <use xlink:href=\"#DejaVuSans-32\"/>\r\n       <use x=\"63.623047\" xlink:href=\"#DejaVuSans-30\"/>\r\n       <use x=\"127.246094\" xlink:href=\"#DejaVuSans-30\"/>\r\n       <use x=\"190.869141\" xlink:href=\"#DejaVuSans-30\"/>\r\n      </g>\r\n     </g>\r\n    </g>\r\n    <g id=\"xtick_20\">\r\n     <g id=\"line2d_140\">\r\n      <g>\r\n       <use style=\"stroke:#000000;stroke-width:0.8;\" x=\"306.671244\" xlink:href=\"#m8a04e302df\" y=\"1238.4\"/>\r\n      </g>\r\n     </g>\r\n     <g id=\"text_44\">\r\n      <!-- 4000 -->\r\n      <g transform=\"translate(293.946244 1252.998437)scale(0.1 -0.1)\">\r\n       <use xlink:href=\"#DejaVuSans-34\"/>\r\n       <use x=\"63.623047\" xlink:href=\"#DejaVuSans-30\"/>\r\n       <use x=\"127.246094\" xlink:href=\"#DejaVuSans-30\"/>\r\n       <use x=\"190.869141\" xlink:href=\"#DejaVuSans-30\"/>\r\n      </g>\r\n     </g>\r\n    </g>\r\n    <g id=\"xtick_21\">\r\n     <g id=\"line2d_141\">\r\n      <g>\r\n       <use style=\"stroke:#000000;stroke-width:0.8;\" x=\"385.888116\" xlink:href=\"#m8a04e302df\" y=\"1238.4\"/>\r\n      </g>\r\n     </g>\r\n     <g id=\"text_45\">\r\n      <!-- 6000 -->\r\n      <g transform=\"translate(373.163116 1252.998437)scale(0.1 -0.1)\">\r\n       <use xlink:href=\"#DejaVuSans-36\"/>\r\n       <use x=\"63.623047\" xlink:href=\"#DejaVuSans-30\"/>\r\n       <use x=\"127.246094\" xlink:href=\"#DejaVuSans-30\"/>\r\n       <use x=\"190.869141\" xlink:href=\"#DejaVuSans-30\"/>\r\n      </g>\r\n     </g>\r\n    </g>\r\n    <g id=\"xtick_22\">\r\n     <g id=\"line2d_142\">\r\n      <g>\r\n       <use style=\"stroke:#000000;stroke-width:0.8;\" x=\"465.104988\" xlink:href=\"#m8a04e302df\" y=\"1238.4\"/>\r\n      </g>\r\n     </g>\r\n     <g id=\"text_46\">\r\n      <!-- 8000 -->\r\n      <g transform=\"translate(452.379988 1252.998437)scale(0.1 -0.1)\">\r\n       <use xlink:href=\"#DejaVuSans-38\"/>\r\n       <use x=\"63.623047\" xlink:href=\"#DejaVuSans-30\"/>\r\n       <use x=\"127.246094\" xlink:href=\"#DejaVuSans-30\"/>\r\n       <use x=\"190.869141\" xlink:href=\"#DejaVuSans-30\"/>\r\n      </g>\r\n     </g>\r\n    </g>\r\n    <g id=\"text_47\">\r\n     <!-- gdp_per_capita -->\r\n     <g transform=\"translate(293.560444 1266.676562)scale(0.1 -0.1)\">\r\n      <defs>\r\n       <path d=\"M 3263 -1063 \r\nL 3263 -1509 \r\nL -63 -1509 \r\nL -63 -1063 \r\nL 3263 -1063 \r\nz\r\n\" id=\"DejaVuSans-5f\" transform=\"scale(0.015625)\"/>\r\n      </defs>\r\n      <use xlink:href=\"#DejaVuSans-67\"/>\r\n      <use x=\"63.476562\" xlink:href=\"#DejaVuSans-64\"/>\r\n      <use x=\"126.953125\" xlink:href=\"#DejaVuSans-70\"/>\r\n      <use x=\"190.429688\" xlink:href=\"#DejaVuSans-5f\"/>\r\n      <use x=\"240.429688\" xlink:href=\"#DejaVuSans-70\"/>\r\n      <use x=\"303.90625\" xlink:href=\"#DejaVuSans-65\"/>\r\n      <use x=\"365.429688\" xlink:href=\"#DejaVuSans-72\"/>\r\n      <use x=\"406.542969\" xlink:href=\"#DejaVuSans-5f\"/>\r\n      <use x=\"456.542969\" xlink:href=\"#DejaVuSans-63\"/>\r\n      <use x=\"511.523438\" xlink:href=\"#DejaVuSans-61\"/>\r\n      <use x=\"572.802734\" xlink:href=\"#DejaVuSans-70\"/>\r\n      <use x=\"636.279297\" xlink:href=\"#DejaVuSans-69\"/>\r\n      <use x=\"664.0625\" xlink:href=\"#DejaVuSans-74\"/>\r\n      <use x=\"703.271484\" xlink:href=\"#DejaVuSans-61\"/>\r\n     </g>\r\n    </g>\r\n   </g>\r\n   <g id=\"matplotlib.axis_8\">\r\n    <g id=\"ytick_61\">\r\n     <g id=\"line2d_143\">\r\n      <g>\r\n       <use style=\"stroke:#000000;stroke-width:0.8;\" x=\"148.2375\" xlink:href=\"#m751f102a23\" y=\"733.628571\"/>\r\n      </g>\r\n     </g>\r\n     <g id=\"text_48\">\r\n      <!-- Paraguay -->\r\n      <g transform=\"translate(94.557813 737.42779)scale(0.1 -0.1)\">\r\n       <use xlink:href=\"#DejaVuSans-50\"/>\r\n       <use x=\"55.802734\" xlink:href=\"#DejaVuSans-61\"/>\r\n       <use x=\"117.082031\" xlink:href=\"#DejaVuSans-72\"/>\r\n       <use x=\"158.195312\" xlink:href=\"#DejaVuSans-61\"/>\r\n       <use x=\"219.474609\" xlink:href=\"#DejaVuSans-67\"/>\r\n       <use x=\"282.951172\" xlink:href=\"#DejaVuSans-75\"/>\r\n       <use x=\"346.330078\" xlink:href=\"#DejaVuSans-61\"/>\r\n       <use x=\"407.609375\" xlink:href=\"#DejaVuSans-79\"/>\r\n      </g>\r\n     </g>\r\n    </g>\r\n    <g id=\"ytick_62\">\r\n     <g id=\"line2d_144\">\r\n      <g>\r\n       <use style=\"stroke:#000000;stroke-width:0.8;\" x=\"148.2375\" xlink:href=\"#m751f102a23\" y=\"759.514286\"/>\r\n      </g>\r\n     </g>\r\n     <g id=\"text_49\">\r\n      <!-- Ukraine -->\r\n      <g transform=\"translate(102.620313 763.313504)scale(0.1 -0.1)\">\r\n       <defs>\r\n        <path d=\"M 581 4863 \r\nL 1159 4863 \r\nL 1159 1991 \r\nL 2875 3500 \r\nL 3609 3500 \r\nL 1753 1863 \r\nL 3688 0 \r\nL 2938 0 \r\nL 1159 1709 \r\nL 1159 0 \r\nL 581 0 \r\nL 581 4863 \r\nz\r\n\" id=\"DejaVuSans-6b\" transform=\"scale(0.015625)\"/>\r\n       </defs>\r\n       <use xlink:href=\"#DejaVuSans-55\"/>\r\n       <use x=\"73.193359\" xlink:href=\"#DejaVuSans-6b\"/>\r\n       <use x=\"131.103516\" xlink:href=\"#DejaVuSans-72\"/>\r\n       <use x=\"172.216797\" xlink:href=\"#DejaVuSans-61\"/>\r\n       <use x=\"233.496094\" xlink:href=\"#DejaVuSans-69\"/>\r\n       <use x=\"261.279297\" xlink:href=\"#DejaVuSans-6e\"/>\r\n       <use x=\"324.658203\" xlink:href=\"#DejaVuSans-65\"/>\r\n      </g>\r\n     </g>\r\n    </g>\r\n    <g id=\"ytick_63\">\r\n     <g id=\"line2d_145\">\r\n      <g>\r\n       <use style=\"stroke:#000000;stroke-width:0.8;\" x=\"148.2375\" xlink:href=\"#m751f102a23\" y=\"785.4\"/>\r\n      </g>\r\n     </g>\r\n     <g id=\"text_50\">\r\n      <!-- Guyana -->\r\n      <g transform=\"translate(102.639063 789.199219)scale(0.1 -0.1)\">\r\n       <use xlink:href=\"#DejaVuSans-47\"/>\r\n       <use x=\"77.490234\" xlink:href=\"#DejaVuSans-75\"/>\r\n       <use x=\"140.869141\" xlink:href=\"#DejaVuSans-79\"/>\r\n       <use x=\"200.048828\" xlink:href=\"#DejaVuSans-61\"/>\r\n       <use x=\"261.328125\" xlink:href=\"#DejaVuSans-6e\"/>\r\n       <use x=\"324.707031\" xlink:href=\"#DejaVuSans-61\"/>\r\n      </g>\r\n     </g>\r\n    </g>\r\n    <g id=\"ytick_64\">\r\n     <g id=\"line2d_146\">\r\n      <g>\r\n       <use style=\"stroke:#000000;stroke-width:0.8;\" x=\"148.2375\" xlink:href=\"#m751f102a23\" y=\"811.285714\"/>\r\n      </g>\r\n     </g>\r\n     <g id=\"text_51\">\r\n      <!-- Guatemala -->\r\n      <g transform=\"translate(86.175 815.084933)scale(0.1 -0.1)\">\r\n       <use xlink:href=\"#DejaVuSans-47\"/>\r\n       <use x=\"77.490234\" xlink:href=\"#DejaVuSans-75\"/>\r\n       <use x=\"140.869141\" xlink:href=\"#DejaVuSans-61\"/>\r\n       <use x=\"202.148438\" xlink:href=\"#DejaVuSans-74\"/>\r\n       <use x=\"241.357422\" xlink:href=\"#DejaVuSans-65\"/>\r\n       <use x=\"302.880859\" xlink:href=\"#DejaVuSans-6d\"/>\r\n       <use x=\"400.292969\" xlink:href=\"#DejaVuSans-61\"/>\r\n       <use x=\"461.572266\" xlink:href=\"#DejaVuSans-6c\"/>\r\n       <use x=\"489.355469\" xlink:href=\"#DejaVuSans-61\"/>\r\n      </g>\r\n     </g>\r\n    </g>\r\n    <g id=\"ytick_65\">\r\n     <g id=\"line2d_147\">\r\n      <g>\r\n       <use style=\"stroke:#000000;stroke-width:0.8;\" x=\"148.2375\" xlink:href=\"#m751f102a23\" y=\"837.171429\"/>\r\n      </g>\r\n     </g>\r\n     <g id=\"text_52\">\r\n      <!-- El Salvador -->\r\n      <g transform=\"translate(85.082813 840.970647)scale(0.1 -0.1)\">\r\n       <defs>\r\n        <path d=\"M 191 3500 \r\nL 800 3500 \r\nL 1894 563 \r\nL 2988 3500 \r\nL 3597 3500 \r\nL 2284 0 \r\nL 1503 0 \r\nL 191 3500 \r\nz\r\n\" id=\"DejaVuSans-76\" transform=\"scale(0.015625)\"/>\r\n       </defs>\r\n       <use xlink:href=\"#DejaVuSans-45\"/>\r\n       <use x=\"63.183594\" xlink:href=\"#DejaVuSans-6c\"/>\r\n       <use x=\"90.966797\" xlink:href=\"#DejaVuSans-20\"/>\r\n       <use x=\"122.753906\" xlink:href=\"#DejaVuSans-53\"/>\r\n       <use x=\"186.230469\" xlink:href=\"#DejaVuSans-61\"/>\r\n       <use x=\"247.509766\" xlink:href=\"#DejaVuSans-6c\"/>\r\n       <use x=\"275.292969\" xlink:href=\"#DejaVuSans-76\"/>\r\n       <use x=\"334.472656\" xlink:href=\"#DejaVuSans-61\"/>\r\n       <use x=\"395.751953\" xlink:href=\"#DejaVuSans-64\"/>\r\n       <use x=\"459.228516\" xlink:href=\"#DejaVuSans-6f\"/>\r\n       <use x=\"520.410156\" xlink:href=\"#DejaVuSans-72\"/>\r\n      </g>\r\n     </g>\r\n    </g>\r\n    <g id=\"ytick_66\">\r\n     <g id=\"line2d_148\">\r\n      <g>\r\n       <use style=\"stroke:#000000;stroke-width:0.8;\" x=\"148.2375\" xlink:href=\"#m751f102a23\" y=\"863.057143\"/>\r\n      </g>\r\n     </g>\r\n     <g id=\"text_53\">\r\n      <!-- Bolivia -->\r\n      <g transform=\"translate(107.876563 866.856362)scale(0.1 -0.1)\">\r\n       <use xlink:href=\"#DejaVuSans-42\"/>\r\n       <use x=\"68.603516\" xlink:href=\"#DejaVuSans-6f\"/>\r\n       <use x=\"129.785156\" xlink:href=\"#DejaVuSans-6c\"/>\r\n       <use x=\"157.568359\" xlink:href=\"#DejaVuSans-69\"/>\r\n       <use x=\"185.351562\" xlink:href=\"#DejaVuSans-76\"/>\r\n       <use x=\"244.53125\" xlink:href=\"#DejaVuSans-69\"/>\r\n       <use x=\"272.314453\" xlink:href=\"#DejaVuSans-61\"/>\r\n      </g>\r\n     </g>\r\n    </g>\r\n    <g id=\"ytick_67\">\r\n     <g id=\"line2d_149\">\r\n      <g>\r\n       <use style=\"stroke:#000000;stroke-width:0.8;\" x=\"148.2375\" xlink:href=\"#m751f102a23\" y=\"888.942857\"/>\r\n      </g>\r\n     </g>\r\n     <g id=\"text_54\">\r\n      <!-- Nicaragua -->\r\n      <g transform=\"translate(90.298438 892.742076)scale(0.1 -0.1)\">\r\n       <use xlink:href=\"#DejaVuSans-4e\"/>\r\n       <use x=\"74.804688\" xlink:href=\"#DejaVuSans-69\"/>\r\n       <use x=\"102.587891\" xlink:href=\"#DejaVuSans-63\"/>\r\n       <use x=\"157.568359\" xlink:href=\"#DejaVuSans-61\"/>\r\n       <use x=\"218.847656\" xlink:href=\"#DejaVuSans-72\"/>\r\n       <use x=\"259.960938\" xlink:href=\"#DejaVuSans-61\"/>\r\n       <use x=\"321.240234\" xlink:href=\"#DejaVuSans-67\"/>\r\n       <use x=\"384.716797\" xlink:href=\"#DejaVuSans-75\"/>\r\n       <use x=\"448.095703\" xlink:href=\"#DejaVuSans-61\"/>\r\n      </g>\r\n     </g>\r\n    </g>\r\n    <g id=\"ytick_68\">\r\n     <g id=\"line2d_150\">\r\n      <g>\r\n       <use style=\"stroke:#000000;stroke-width:0.8;\" x=\"148.2375\" xlink:href=\"#m751f102a23\" y=\"914.828571\"/>\r\n      </g>\r\n     </g>\r\n     <g id=\"text_55\">\r\n      <!-- Moldova -->\r\n      <g transform=\"translate(99.198438 918.62779)scale(0.1 -0.1)\">\r\n       <use xlink:href=\"#DejaVuSans-4d\"/>\r\n       <use x=\"86.279297\" xlink:href=\"#DejaVuSans-6f\"/>\r\n       <use x=\"147.460938\" xlink:href=\"#DejaVuSans-6c\"/>\r\n       <use x=\"175.244141\" xlink:href=\"#DejaVuSans-64\"/>\r\n       <use x=\"238.720703\" xlink:href=\"#DejaVuSans-6f\"/>\r\n       <use x=\"299.902344\" xlink:href=\"#DejaVuSans-76\"/>\r\n       <use x=\"359.082031\" xlink:href=\"#DejaVuSans-61\"/>\r\n      </g>\r\n     </g>\r\n    </g>\r\n    <g id=\"ytick_69\">\r\n     <g id=\"line2d_151\">\r\n      <g>\r\n       <use style=\"stroke:#000000;stroke-width:0.8;\" x=\"148.2375\" xlink:href=\"#m751f102a23\" y=\"940.714286\"/>\r\n      </g>\r\n     </g>\r\n     <g id=\"text_56\">\r\n      <!-- Honduras -->\r\n      <g transform=\"translate(93.126563 944.513504)scale(0.1 -0.1)\">\r\n       <defs>\r\n        <path d=\"M 628 4666 \r\nL 1259 4666 \r\nL 1259 2753 \r\nL 3553 2753 \r\nL 3553 4666 \r\nL 4184 4666 \r\nL 4184 0 \r\nL 3553 0 \r\nL 3553 2222 \r\nL 1259 2222 \r\nL 1259 0 \r\nL 628 0 \r\nL 628 4666 \r\nz\r\n\" id=\"DejaVuSans-48\" transform=\"scale(0.015625)\"/>\r\n       </defs>\r\n       <use xlink:href=\"#DejaVuSans-48\"/>\r\n       <use x=\"75.195312\" xlink:href=\"#DejaVuSans-6f\"/>\r\n       <use x=\"136.376953\" xlink:href=\"#DejaVuSans-6e\"/>\r\n       <use x=\"199.755859\" xlink:href=\"#DejaVuSans-64\"/>\r\n       <use x=\"263.232422\" xlink:href=\"#DejaVuSans-75\"/>\r\n       <use x=\"326.611328\" xlink:href=\"#DejaVuSans-72\"/>\r\n       <use x=\"367.724609\" xlink:href=\"#DejaVuSans-61\"/>\r\n       <use x=\"429.003906\" xlink:href=\"#DejaVuSans-73\"/>\r\n      </g>\r\n     </g>\r\n    </g>\r\n    <g id=\"ytick_70\">\r\n     <g id=\"line2d_152\">\r\n      <g>\r\n       <use style=\"stroke:#000000;stroke-width:0.8;\" x=\"148.2375\" xlink:href=\"#m751f102a23\" y=\"966.6\"/>\r\n      </g>\r\n     </g>\r\n     <g id=\"text_57\">\r\n      <!-- Kyrgyzstan -->\r\n      <g transform=\"translate(86.439063 970.399219)scale(0.1 -0.1)\">\r\n       <use xlink:href=\"#DejaVuSans-4b\"/>\r\n       <use x=\"58.326172\" xlink:href=\"#DejaVuSans-79\"/>\r\n       <use x=\"117.505859\" xlink:href=\"#DejaVuSans-72\"/>\r\n       <use x=\"156.869141\" xlink:href=\"#DejaVuSans-67\"/>\r\n       <use x=\"220.345703\" xlink:href=\"#DejaVuSans-79\"/>\r\n       <use x=\"279.525391\" xlink:href=\"#DejaVuSans-7a\"/>\r\n       <use x=\"332.015625\" xlink:href=\"#DejaVuSans-73\"/>\r\n       <use x=\"384.115234\" xlink:href=\"#DejaVuSans-74\"/>\r\n       <use x=\"423.324219\" xlink:href=\"#DejaVuSans-61\"/>\r\n       <use x=\"484.603516\" xlink:href=\"#DejaVuSans-6e\"/>\r\n      </g>\r\n     </g>\r\n    </g>\r\n    <g id=\"ytick_71\">\r\n     <g id=\"line2d_153\">\r\n      <g>\r\n       <use style=\"stroke:#000000;stroke-width:0.8;\" x=\"148.2375\" xlink:href=\"#m751f102a23\" y=\"992.485714\"/>\r\n      </g>\r\n     </g>\r\n     <g id=\"text_58\">\r\n      <!-- Tajikistan -->\r\n      <g transform=\"translate(94.93125 996.284933)scale(0.1 -0.1)\">\r\n       <defs>\r\n        <path d=\"M 603 3500 \r\nL 1178 3500 \r\nL 1178 -63 \r\nQ 1178 -731 923 -1031 \r\nQ 669 -1331 103 -1331 \r\nL -116 -1331 \r\nL -116 -844 \r\nL 38 -844 \r\nQ 366 -844 484 -692 \r\nQ 603 -541 603 -63 \r\nL 603 3500 \r\nz\r\nM 603 4863 \r\nL 1178 4863 \r\nL 1178 4134 \r\nL 603 4134 \r\nL 603 4863 \r\nz\r\n\" id=\"DejaVuSans-6a\" transform=\"scale(0.015625)\"/>\r\n       </defs>\r\n       <use xlink:href=\"#DejaVuSans-54\"/>\r\n       <use x=\"44.583984\" xlink:href=\"#DejaVuSans-61\"/>\r\n       <use x=\"105.863281\" xlink:href=\"#DejaVuSans-6a\"/>\r\n       <use x=\"133.646484\" xlink:href=\"#DejaVuSans-69\"/>\r\n       <use x=\"161.429688\" xlink:href=\"#DejaVuSans-6b\"/>\r\n       <use x=\"219.339844\" xlink:href=\"#DejaVuSans-69\"/>\r\n       <use x=\"247.123047\" xlink:href=\"#DejaVuSans-73\"/>\r\n       <use x=\"299.222656\" xlink:href=\"#DejaVuSans-74\"/>\r\n       <use x=\"338.431641\" xlink:href=\"#DejaVuSans-61\"/>\r\n       <use x=\"399.710938\" xlink:href=\"#DejaVuSans-6e\"/>\r\n      </g>\r\n     </g>\r\n    </g>\r\n    <g id=\"ytick_72\">\r\n     <g id=\"line2d_154\">\r\n      <g>\r\n       <use style=\"stroke:#000000;stroke-width:0.8;\" x=\"148.2375\" xlink:href=\"#m751f102a23\" y=\"1018.371429\"/>\r\n      </g>\r\n     </g>\r\n     <g id=\"text_59\">\r\n      <!-- Nepal -->\r\n      <g transform=\"translate(112.348438 1022.170647)scale(0.1 -0.1)\">\r\n       <use xlink:href=\"#DejaVuSans-4e\"/>\r\n       <use x=\"74.804688\" xlink:href=\"#DejaVuSans-65\"/>\r\n       <use x=\"136.328125\" xlink:href=\"#DejaVuSans-70\"/>\r\n       <use x=\"199.804688\" xlink:href=\"#DejaVuSans-61\"/>\r\n       <use x=\"261.083984\" xlink:href=\"#DejaVuSans-6c\"/>\r\n      </g>\r\n     </g>\r\n    </g>\r\n    <g id=\"ytick_73\">\r\n     <g id=\"line2d_155\">\r\n      <g>\r\n       <use style=\"stroke:#000000;stroke-width:0.8;\" x=\"148.2375\" xlink:href=\"#m751f102a23\" y=\"1044.257143\"/>\r\n      </g>\r\n     </g>\r\n     <g id=\"text_60\">\r\n      <!-- Afghanistan -->\r\n      <g transform=\"translate(81.714063 1048.056362)scale(0.1 -0.1)\">\r\n       <use xlink:href=\"#DejaVuSans-41\"/>\r\n       <use x=\"64.783203\" xlink:href=\"#DejaVuSans-66\"/>\r\n       <use x=\"99.988281\" xlink:href=\"#DejaVuSans-67\"/>\r\n       <use x=\"163.464844\" xlink:href=\"#DejaVuSans-68\"/>\r\n       <use x=\"226.84375\" xlink:href=\"#DejaVuSans-61\"/>\r\n       <use x=\"288.123047\" xlink:href=\"#DejaVuSans-6e\"/>\r\n       <use x=\"351.501953\" xlink:href=\"#DejaVuSans-69\"/>\r\n       <use x=\"379.285156\" xlink:href=\"#DejaVuSans-73\"/>\r\n       <use x=\"431.384766\" xlink:href=\"#DejaVuSans-74\"/>\r\n       <use x=\"470.59375\" xlink:href=\"#DejaVuSans-61\"/>\r\n       <use x=\"531.873047\" xlink:href=\"#DejaVuSans-6e\"/>\r\n      </g>\r\n     </g>\r\n    </g>\r\n    <g id=\"ytick_74\">\r\n     <g id=\"line2d_156\">\r\n      <g>\r\n       <use style=\"stroke:#000000;stroke-width:0.8;\" x=\"148.2375\" xlink:href=\"#m751f102a23\" y=\"1070.142857\"/>\r\n      </g>\r\n     </g>\r\n     <g id=\"text_61\">\r\n      <!-- Haiti -->\r\n      <g transform=\"translate(118.1125 1073.942076)scale(0.1 -0.1)\">\r\n       <use xlink:href=\"#DejaVuSans-48\"/>\r\n       <use x=\"75.195312\" xlink:href=\"#DejaVuSans-61\"/>\r\n       <use x=\"136.474609\" xlink:href=\"#DejaVuSans-69\"/>\r\n       <use x=\"164.257812\" xlink:href=\"#DejaVuSans-74\"/>\r\n       <use x=\"203.466797\" xlink:href=\"#DejaVuSans-69\"/>\r\n      </g>\r\n     </g>\r\n    </g>\r\n    <g id=\"ytick_75\">\r\n     <g id=\"line2d_157\">\r\n      <g>\r\n       <use style=\"stroke:#000000;stroke-width:0.8;\" x=\"148.2375\" xlink:href=\"#m751f102a23\" y=\"1096.028571\"/>\r\n      </g>\r\n     </g>\r\n     <g id=\"text_62\">\r\n      <!-- Yemen -->\r\n      <g transform=\"translate(108.070312 1099.82779)scale(0.1 -0.1)\">\r\n       <defs>\r\n        <path d=\"M -13 4666 \r\nL 666 4666 \r\nL 1959 2747 \r\nL 3244 4666 \r\nL 3922 4666 \r\nL 2272 2222 \r\nL 2272 0 \r\nL 1638 0 \r\nL 1638 2222 \r\nL -13 4666 \r\nz\r\n\" id=\"DejaVuSans-59\" transform=\"scale(0.015625)\"/>\r\n       </defs>\r\n       <use xlink:href=\"#DejaVuSans-59\"/>\r\n       <use x=\"47.833984\" xlink:href=\"#DejaVuSans-65\"/>\r\n       <use x=\"109.357422\" xlink:href=\"#DejaVuSans-6d\"/>\r\n       <use x=\"206.769531\" xlink:href=\"#DejaVuSans-65\"/>\r\n       <use x=\"268.292969\" xlink:href=\"#DejaVuSans-6e\"/>\r\n      </g>\r\n     </g>\r\n    </g>\r\n    <g id=\"ytick_76\">\r\n     <g id=\"line2d_158\">\r\n      <g>\r\n       <use style=\"stroke:#000000;stroke-width:0.8;\" x=\"148.2375\" xlink:href=\"#m751f102a23\" y=\"1121.914286\"/>\r\n      </g>\r\n     </g>\r\n     <g id=\"text_63\">\r\n      <!-- Malawi -->\r\n      <g transform=\"translate(106.61875 1125.713504)scale(0.1 -0.1)\">\r\n       <use xlink:href=\"#DejaVuSans-4d\"/>\r\n       <use x=\"86.279297\" xlink:href=\"#DejaVuSans-61\"/>\r\n       <use x=\"147.558594\" xlink:href=\"#DejaVuSans-6c\"/>\r\n       <use x=\"175.341797\" xlink:href=\"#DejaVuSans-61\"/>\r\n       <use x=\"236.621094\" xlink:href=\"#DejaVuSans-77\"/>\r\n       <use x=\"318.408203\" xlink:href=\"#DejaVuSans-69\"/>\r\n      </g>\r\n     </g>\r\n    </g>\r\n    <g id=\"ytick_77\">\r\n     <g id=\"line2d_159\">\r\n      <g>\r\n       <use style=\"stroke:#000000;stroke-width:0.8;\" x=\"148.2375\" xlink:href=\"#m751f102a23\" y=\"1147.8\"/>\r\n      </g>\r\n     </g>\r\n     <g id=\"text_64\">\r\n      <!-- Niger -->\r\n      <g transform=\"translate(114.365625 1151.599219)scale(0.1 -0.1)\">\r\n       <use xlink:href=\"#DejaVuSans-4e\"/>\r\n       <use x=\"74.804688\" xlink:href=\"#DejaVuSans-69\"/>\r\n       <use x=\"102.587891\" xlink:href=\"#DejaVuSans-67\"/>\r\n       <use x=\"166.064453\" xlink:href=\"#DejaVuSans-65\"/>\r\n       <use x=\"227.587891\" xlink:href=\"#DejaVuSans-72\"/>\r\n      </g>\r\n     </g>\r\n    </g>\r\n    <g id=\"ytick_78\">\r\n     <g id=\"line2d_160\">\r\n      <g>\r\n       <use style=\"stroke:#000000;stroke-width:0.8;\" x=\"148.2375\" xlink:href=\"#m751f102a23\" y=\"1173.685714\"/>\r\n      </g>\r\n     </g>\r\n     <g id=\"text_65\">\r\n      <!-- Liberia -->\r\n      <g transform=\"translate(107.36875 1177.484933)scale(0.1 -0.1)\">\r\n       <use xlink:href=\"#DejaVuSans-4c\"/>\r\n       <use x=\"55.712891\" xlink:href=\"#DejaVuSans-69\"/>\r\n       <use x=\"83.496094\" xlink:href=\"#DejaVuSans-62\"/>\r\n       <use x=\"146.972656\" xlink:href=\"#DejaVuSans-65\"/>\r\n       <use x=\"208.496094\" xlink:href=\"#DejaVuSans-72\"/>\r\n       <use x=\"249.609375\" xlink:href=\"#DejaVuSans-69\"/>\r\n       <use x=\"277.392578\" xlink:href=\"#DejaVuSans-61\"/>\r\n      </g>\r\n     </g>\r\n    </g>\r\n    <g id=\"ytick_79\">\r\n     <g id=\"line2d_161\">\r\n      <g>\r\n       <use style=\"stroke:#000000;stroke-width:0.8;\" x=\"148.2375\" xlink:href=\"#m751f102a23\" y=\"1199.571429\"/>\r\n      </g>\r\n     </g>\r\n     <g id=\"text_66\">\r\n      <!-- Burundi -->\r\n      <g transform=\"translate(102.126563 1203.370647)scale(0.1 -0.1)\">\r\n       <use xlink:href=\"#DejaVuSans-42\"/>\r\n       <use x=\"68.603516\" xlink:href=\"#DejaVuSans-75\"/>\r\n       <use x=\"131.982422\" xlink:href=\"#DejaVuSans-72\"/>\r\n       <use x=\"173.095703\" xlink:href=\"#DejaVuSans-75\"/>\r\n       <use x=\"236.474609\" xlink:href=\"#DejaVuSans-6e\"/>\r\n       <use x=\"299.853516\" xlink:href=\"#DejaVuSans-64\"/>\r\n       <use x=\"363.330078\" xlink:href=\"#DejaVuSans-69\"/>\r\n      </g>\r\n     </g>\r\n    </g>\r\n    <g id=\"ytick_80\">\r\n     <g id=\"line2d_162\">\r\n      <g>\r\n       <use style=\"stroke:#000000;stroke-width:0.8;\" x=\"148.2375\" xlink:href=\"#m751f102a23\" y=\"1225.457143\"/>\r\n      </g>\r\n     </g>\r\n     <g id=\"text_67\">\r\n      <!-- Central African Republic -->\r\n      <g transform=\"translate(20.878125 1229.256362)scale(0.1 -0.1)\">\r\n       <defs>\r\n        <path d=\"M 2841 2188 \r\nQ 3044 2119 3236 1894 \r\nQ 3428 1669 3622 1275 \r\nL 4263 0 \r\nL 3584 0 \r\nL 2988 1197 \r\nQ 2756 1666 2539 1819 \r\nQ 2322 1972 1947 1972 \r\nL 1259 1972 \r\nL 1259 0 \r\nL 628 0 \r\nL 628 4666 \r\nL 2053 4666 \r\nQ 2853 4666 3247 4331 \r\nQ 3641 3997 3641 3322 \r\nQ 3641 2881 3436 2590 \r\nQ 3231 2300 2841 2188 \r\nz\r\nM 1259 4147 \r\nL 1259 2491 \r\nL 2053 2491 \r\nQ 2509 2491 2742 2702 \r\nQ 2975 2913 2975 3322 \r\nQ 2975 3731 2742 3939 \r\nQ 2509 4147 2053 4147 \r\nL 1259 4147 \r\nz\r\n\" id=\"DejaVuSans-52\" transform=\"scale(0.015625)\"/>\r\n       </defs>\r\n       <use xlink:href=\"#DejaVuSans-43\"/>\r\n       <use x=\"69.824219\" xlink:href=\"#DejaVuSans-65\"/>\r\n       <use x=\"131.347656\" xlink:href=\"#DejaVuSans-6e\"/>\r\n       <use x=\"194.726562\" xlink:href=\"#DejaVuSans-74\"/>\r\n       <use x=\"233.935547\" xlink:href=\"#DejaVuSans-72\"/>\r\n       <use x=\"275.048828\" xlink:href=\"#DejaVuSans-61\"/>\r\n       <use x=\"336.328125\" xlink:href=\"#DejaVuSans-6c\"/>\r\n       <use x=\"364.111328\" xlink:href=\"#DejaVuSans-20\"/>\r\n       <use x=\"395.898438\" xlink:href=\"#DejaVuSans-41\"/>\r\n       <use x=\"460.681641\" xlink:href=\"#DejaVuSans-66\"/>\r\n       <use x=\"495.886719\" xlink:href=\"#DejaVuSans-72\"/>\r\n       <use x=\"537\" xlink:href=\"#DejaVuSans-69\"/>\r\n       <use x=\"564.783203\" xlink:href=\"#DejaVuSans-63\"/>\r\n       <use x=\"619.763672\" xlink:href=\"#DejaVuSans-61\"/>\r\n       <use x=\"681.042969\" xlink:href=\"#DejaVuSans-6e\"/>\r\n       <use x=\"744.421875\" xlink:href=\"#DejaVuSans-20\"/>\r\n       <use x=\"776.208984\" xlink:href=\"#DejaVuSans-52\"/>\r\n       <use x=\"841.191406\" xlink:href=\"#DejaVuSans-65\"/>\r\n       <use x=\"902.714844\" xlink:href=\"#DejaVuSans-70\"/>\r\n       <use x=\"966.191406\" xlink:href=\"#DejaVuSans-75\"/>\r\n       <use x=\"1029.570312\" xlink:href=\"#DejaVuSans-62\"/>\r\n       <use x=\"1093.046875\" xlink:href=\"#DejaVuSans-6c\"/>\r\n       <use x=\"1120.830078\" xlink:href=\"#DejaVuSans-69\"/>\r\n       <use x=\"1148.613281\" xlink:href=\"#DejaVuSans-63\"/>\r\n      </g>\r\n     </g>\r\n    </g>\r\n    <g id=\"text_68\">\r\n     <!-- country -->\r\n     <g transform=\"translate(14.798438 998.663951)rotate(-90)scale(0.1 -0.1)\">\r\n      <use xlink:href=\"#DejaVuSans-63\"/>\r\n      <use x=\"54.980469\" xlink:href=\"#DejaVuSans-6f\"/>\r\n      <use x=\"116.162109\" xlink:href=\"#DejaVuSans-75\"/>\r\n      <use x=\"179.541016\" xlink:href=\"#DejaVuSans-6e\"/>\r\n      <use x=\"242.919922\" xlink:href=\"#DejaVuSans-74\"/>\r\n      <use x=\"282.128906\" xlink:href=\"#DejaVuSans-72\"/>\r\n      <use x=\"323.242188\" xlink:href=\"#DejaVuSans-79\"/>\r\n     </g>\r\n    </g>\r\n   </g>\r\n   <g id=\"line2d_163\">\r\n    <path clip-path=\"url(#p9332954357)\" d=\"M 0 0 \r\n\" style=\"fill:none;stroke:#424242;stroke-linecap:square;stroke-width:2.7;\"/>\r\n   </g>\r\n   <g id=\"line2d_164\">\r\n    <path clip-path=\"url(#p9332954357)\" d=\"M 0 0 \r\n\" style=\"fill:none;stroke:#424242;stroke-linecap:square;stroke-width:2.7;\"/>\r\n   </g>\r\n   <g id=\"line2d_165\">\r\n    <path clip-path=\"url(#p9332954357)\" d=\"M 0 0 \r\n\" style=\"fill:none;stroke:#424242;stroke-linecap:square;stroke-width:2.7;\"/>\r\n   </g>\r\n   <g id=\"line2d_166\">\r\n    <path clip-path=\"url(#p9332954357)\" d=\"M 0 0 \r\n\" style=\"fill:none;stroke:#424242;stroke-linecap:square;stroke-width:2.7;\"/>\r\n   </g>\r\n   <g id=\"line2d_167\">\r\n    <path clip-path=\"url(#p9332954357)\" d=\"M 0 0 \r\n\" style=\"fill:none;stroke:#424242;stroke-linecap:square;stroke-width:2.7;\"/>\r\n   </g>\r\n   <g id=\"line2d_168\">\r\n    <path clip-path=\"url(#p9332954357)\" d=\"M 0 0 \r\n\" style=\"fill:none;stroke:#424242;stroke-linecap:square;stroke-width:2.7;\"/>\r\n   </g>\r\n   <g id=\"line2d_169\">\r\n    <path clip-path=\"url(#p9332954357)\" d=\"M 0 0 \r\n\" style=\"fill:none;stroke:#424242;stroke-linecap:square;stroke-width:2.7;\"/>\r\n   </g>\r\n   <g id=\"line2d_170\">\r\n    <path clip-path=\"url(#p9332954357)\" d=\"M 0 0 \r\n\" style=\"fill:none;stroke:#424242;stroke-linecap:square;stroke-width:2.7;\"/>\r\n   </g>\r\n   <g id=\"line2d_171\">\r\n    <path clip-path=\"url(#p9332954357)\" d=\"M 0 0 \r\n\" style=\"fill:none;stroke:#424242;stroke-linecap:square;stroke-width:2.7;\"/>\r\n   </g>\r\n   <g id=\"line2d_172\">\r\n    <path clip-path=\"url(#p9332954357)\" d=\"M 0 0 \r\n\" style=\"fill:none;stroke:#424242;stroke-linecap:square;stroke-width:2.7;\"/>\r\n   </g>\r\n   <g id=\"line2d_173\">\r\n    <path clip-path=\"url(#p9332954357)\" d=\"M 0 0 \r\n\" style=\"fill:none;stroke:#424242;stroke-linecap:square;stroke-width:2.7;\"/>\r\n   </g>\r\n   <g id=\"line2d_174\">\r\n    <path clip-path=\"url(#p9332954357)\" d=\"M 0 0 \r\n\" style=\"fill:none;stroke:#424242;stroke-linecap:square;stroke-width:2.7;\"/>\r\n   </g>\r\n   <g id=\"line2d_175\">\r\n    <path clip-path=\"url(#p9332954357)\" d=\"M 0 0 \r\n\" style=\"fill:none;stroke:#424242;stroke-linecap:square;stroke-width:2.7;\"/>\r\n   </g>\r\n   <g id=\"line2d_176\">\r\n    <path clip-path=\"url(#p9332954357)\" d=\"M 0 0 \r\n\" style=\"fill:none;stroke:#424242;stroke-linecap:square;stroke-width:2.7;\"/>\r\n   </g>\r\n   <g id=\"line2d_177\">\r\n    <path clip-path=\"url(#p9332954357)\" d=\"M 0 0 \r\n\" style=\"fill:none;stroke:#424242;stroke-linecap:square;stroke-width:2.7;\"/>\r\n   </g>\r\n   <g id=\"line2d_178\">\r\n    <path clip-path=\"url(#p9332954357)\" d=\"M 0 0 \r\n\" style=\"fill:none;stroke:#424242;stroke-linecap:square;stroke-width:2.7;\"/>\r\n   </g>\r\n   <g id=\"line2d_179\">\r\n    <path clip-path=\"url(#p9332954357)\" d=\"M 0 0 \r\n\" style=\"fill:none;stroke:#424242;stroke-linecap:square;stroke-width:2.7;\"/>\r\n   </g>\r\n   <g id=\"line2d_180\">\r\n    <path clip-path=\"url(#p9332954357)\" d=\"M 0 0 \r\n\" style=\"fill:none;stroke:#424242;stroke-linecap:square;stroke-width:2.7;\"/>\r\n   </g>\r\n   <g id=\"line2d_181\">\r\n    <path clip-path=\"url(#p9332954357)\" d=\"M 0 0 \r\n\" style=\"fill:none;stroke:#424242;stroke-linecap:square;stroke-width:2.7;\"/>\r\n   </g>\r\n   <g id=\"line2d_182\">\r\n    <path clip-path=\"url(#p9332954357)\" d=\"M 0 0 \r\n\" style=\"fill:none;stroke:#424242;stroke-linecap:square;stroke-width:2.7;\"/>\r\n   </g>\r\n   <g id=\"patch_98\">\r\n    <path d=\"M 148.2375 1238.4 \r\nL 148.2375 720.685714 \r\n\" style=\"fill:none;stroke:#000000;stroke-linecap:square;stroke-linejoin:miter;stroke-width:0.8;\"/>\r\n   </g>\r\n   <g id=\"patch_99\">\r\n    <path d=\"M 515.342763 1238.4 \r\nL 515.342763 720.685714 \r\n\" style=\"fill:none;stroke:#000000;stroke-linecap:square;stroke-linejoin:miter;stroke-width:0.8;\"/>\r\n   </g>\r\n   <g id=\"patch_100\">\r\n    <path d=\"M 148.2375 1238.4 \r\nL 515.342763 1238.4 \r\n\" style=\"fill:none;stroke:#000000;stroke-linecap:square;stroke-linejoin:miter;stroke-width:0.8;\"/>\r\n   </g>\r\n   <g id=\"patch_101\">\r\n    <path d=\"M 148.2375 720.685714 \r\nL 515.342763 720.685714 \r\n\" style=\"fill:none;stroke:#000000;stroke-linecap:square;stroke-linejoin:miter;stroke-width:0.8;\"/>\r\n   </g>\r\n   <g id=\"text_69\">\r\n    <!-- lowest gdp -->\r\n    <g transform=\"translate(299.041382 714.685714)scale(0.12 -0.12)\">\r\n     <use xlink:href=\"#DejaVuSans-6c\"/>\r\n     <use x=\"27.783203\" xlink:href=\"#DejaVuSans-6f\"/>\r\n     <use x=\"88.964844\" xlink:href=\"#DejaVuSans-77\"/>\r\n     <use x=\"170.751953\" xlink:href=\"#DejaVuSans-65\"/>\r\n     <use x=\"232.275391\" xlink:href=\"#DejaVuSans-73\"/>\r\n     <use x=\"284.375\" xlink:href=\"#DejaVuSans-74\"/>\r\n     <use x=\"323.583984\" xlink:href=\"#DejaVuSans-20\"/>\r\n     <use x=\"355.371094\" xlink:href=\"#DejaVuSans-67\"/>\r\n     <use x=\"418.847656\" xlink:href=\"#DejaVuSans-64\"/>\r\n     <use x=\"482.324219\" xlink:href=\"#DejaVuSans-70\"/>\r\n    </g>\r\n   </g>\r\n  </g>\r\n  <g id=\"axes_5\">\r\n   <g id=\"patch_102\">\r\n    <path d=\"M 522.684868 1238.4 \r\nL 889.790132 1238.4 \r\nL 889.790132 720.685714 \r\nL 522.684868 720.685714 \r\nz\r\n\" style=\"fill:#ffffff;\"/>\r\n   </g>\r\n   <g id=\"patch_103\">\r\n    <path clip-path=\"url(#p8c61f03b66)\" d=\"M 522.684868 723.274286 \r\nL 566.207909 723.274286 \r\nL 566.207909 743.982857 \r\nL 522.684868 743.982857 \r\nz\r\n\" style=\"fill:#a718a7;opacity:0.5;\"/>\r\n   </g>\r\n   <g id=\"patch_104\">\r\n    <path clip-path=\"url(#p8c61f03b66)\" d=\"M 522.684868 749.16 \r\nL 563.067209 749.16 \r\nL 563.067209 769.868571 \r\nL 522.684868 769.868571 \r\nz\r\n\" style=\"fill:#a718a7;opacity:0.5;\"/>\r\n   </g>\r\n   <g id=\"patch_105\">\r\n    <path clip-path=\"url(#p8c61f03b66)\" d=\"M 522.684868 775.045714 \r\nL 562.318261 775.045714 \r\nL 562.318261 795.754286 \r\nL 522.684868 795.754286 \r\nz\r\n\" style=\"fill:#a718a7;opacity:0.5;\"/>\r\n   </g>\r\n   <g id=\"patch_106\">\r\n    <path clip-path=\"url(#p8c61f03b66)\" d=\"M 522.684868 800.931429 \r\nL 580.548297 800.931429 \r\nL 580.548297 821.64 \r\nL 522.684868 821.64 \r\nz\r\n\" style=\"fill:#a718a7;opacity:0.5;\"/>\r\n   </g>\r\n   <g id=\"patch_107\">\r\n    <path clip-path=\"url(#p8c61f03b66)\" d=\"M 522.684868 826.817143 \r\nL 577.202768 826.817143 \r\nL 577.202768 847.525714 \r\nL 522.684868 847.525714 \r\nz\r\n\" style=\"fill:#a718a7;opacity:0.5;\"/>\r\n   </g>\r\n   <g id=\"patch_108\">\r\n    <path clip-path=\"url(#p8c61f03b66)\" d=\"M 522.684868 852.702857 \r\nL 594.616232 852.702857 \r\nL 594.616232 873.411429 \r\nL 522.684868 873.411429 \r\nz\r\n\" style=\"fill:#a718a7;opacity:0.5;\"/>\r\n   </g>\r\n   <g id=\"patch_109\">\r\n    <path clip-path=\"url(#p8c61f03b66)\" d=\"M 522.684868 878.588571 \r\nL 568.345796 878.588571 \r\nL 568.345796 899.297143 \r\nL 522.684868 899.297143 \r\nz\r\n\" style=\"fill:#a718a7;opacity:0.5;\"/>\r\n   </g>\r\n   <g id=\"patch_110\">\r\n    <path clip-path=\"url(#p8c61f03b66)\" d=\"M 522.684868 904.474286 \r\nL 564.910264 904.474286 \r\nL 564.910264 925.182857 \r\nL 522.684868 925.182857 \r\nz\r\n\" style=\"fill:#a718a7;opacity:0.5;\"/>\r\n   </g>\r\n   <g id=\"patch_111\">\r\n    <path clip-path=\"url(#p8c61f03b66)\" d=\"M 522.684868 930.36 \r\nL 569.49353 930.36 \r\nL 569.49353 951.068571 \r\nL 522.684868 951.068571 \r\nz\r\n\" style=\"fill:#a718a7;opacity:0.5;\"/>\r\n   </g>\r\n   <g id=\"patch_112\">\r\n    <path clip-path=\"url(#p8c61f03b66)\" d=\"M 522.684868 956.245714 \r\nL 552.893501 956.245714 \r\nL 552.893501 976.954286 \r\nL 522.684868 976.954286 \r\nz\r\n\" style=\"fill:#a718a7;opacity:0.5;\"/>\r\n   </g>\r\n   <g id=\"patch_113\">\r\n    <path clip-path=\"url(#p8c61f03b66)\" d=\"M 522.684868 982.131429 \r\nL 534.691268 982.131429 \r\nL 534.691268 1002.84 \r\nL 522.684868 1002.84 \r\nz\r\n\" style=\"fill:#a718a7;opacity:0.5;\"/>\r\n   </g>\r\n   <g id=\"patch_114\">\r\n    <path clip-path=\"url(#p8c61f03b66)\" d=\"M 522.684868 1008.017143 \r\nL 543.022155 1008.017143 \r\nL 543.022155 1028.725714 \r\nL 522.684868 1028.725714 \r\nz\r\n\" style=\"fill:#a718a7;opacity:0.5;\"/>\r\n   </g>\r\n   <g id=\"patch_115\">\r\n    <path clip-path=\"url(#p8c61f03b66)\" d=\"M 522.684868 1033.902857 \r\nL 599.213449 1033.902857 \r\nL 599.213449 1054.611429 \r\nL 522.684868 1054.611429 \r\nz\r\n\" style=\"fill:#a718a7;opacity:0.5;\"/>\r\n   </g>\r\n   <g id=\"patch_116\">\r\n    <path clip-path=\"url(#p8c61f03b66)\" d=\"M 522.684868 1059.788571 \r\nL 558.664518 1059.788571 \r\nL 558.664518 1080.497143 \r\nL 522.684868 1080.497143 \r\nz\r\n\" style=\"fill:#a718a7;opacity:0.5;\"/>\r\n   </g>\r\n   <g id=\"patch_117\">\r\n    <path clip-path=\"url(#p8c61f03b66)\" d=\"M 522.684868 1085.674286 \r\nL 872.308929 1085.674286 \r\nL 872.308929 1106.382857 \r\nL 522.684868 1106.382857 \r\nz\r\n\" style=\"fill:#a718a7;opacity:0.5;\"/>\r\n   </g>\r\n   <g id=\"patch_118\">\r\n    <path clip-path=\"url(#p8c61f03b66)\" d=\"M 522.684868 1111.56 \r\nL 582.483712 1111.56 \r\nL 582.483712 1132.268571 \r\nL 522.684868 1132.268571 \r\nz\r\n\" style=\"fill:#a718a7;opacity:0.5;\"/>\r\n   </g>\r\n   <g id=\"patch_119\">\r\n    <path clip-path=\"url(#p8c61f03b66)\" d=\"M 522.684868 1137.445714 \r\nL 586.422055 1137.445714 \r\nL 586.422055 1158.154286 \r\nL 522.684868 1158.154286 \r\nz\r\n\" style=\"fill:#a718a7;opacity:0.5;\"/>\r\n   </g>\r\n   <g id=\"patch_120\">\r\n    <path clip-path=\"url(#p8c61f03b66)\" d=\"M 522.684868 1163.331429 \r\nL 593.498772 1163.331429 \r\nL 593.498772 1184.04 \r\nL 522.684868 1184.04 \r\nz\r\n\" style=\"fill:#a718a7;opacity:0.5;\"/>\r\n   </g>\r\n   <g id=\"patch_121\">\r\n    <path clip-path=\"url(#p8c61f03b66)\" d=\"M 522.684868 1189.217143 \r\nL 525.131934 1189.217143 \r\nL 525.131934 1209.925714 \r\nL 522.684868 1209.925714 \r\nz\r\n\" style=\"fill:#a718a7;opacity:0.5;\"/>\r\n   </g>\r\n   <g id=\"patch_122\">\r\n    <path clip-path=\"url(#p8c61f03b66)\" d=\"M 522.684868 1215.102857 \r\nL 546.997741 1215.102857 \r\nL 546.997741 1235.811429 \r\nL 522.684868 1235.811429 \r\nz\r\n\" style=\"fill:#a718a7;opacity:0.5;\"/>\r\n   </g>\r\n   <g id=\"matplotlib.axis_9\">\r\n    <g id=\"xtick_23\">\r\n     <g id=\"line2d_183\">\r\n      <g>\r\n       <use style=\"stroke:#000000;stroke-width:0.8;\" x=\"522.684868\" xlink:href=\"#m8a04e302df\" y=\"1238.4\"/>\r\n      </g>\r\n     </g>\r\n     <g id=\"text_70\">\r\n      <!-- 0.0 -->\r\n      <g transform=\"translate(514.733306 1252.998437)scale(0.1 -0.1)\">\r\n       <use xlink:href=\"#DejaVuSans-30\"/>\r\n       <use x=\"63.623047\" xlink:href=\"#DejaVuSans-2e\"/>\r\n       <use x=\"95.410156\" xlink:href=\"#DejaVuSans-30\"/>\r\n      </g>\r\n     </g>\r\n    </g>\r\n    <g id=\"xtick_24\">\r\n     <g id=\"line2d_184\">\r\n      <g>\r\n       <use style=\"stroke:#000000;stroke-width:0.8;\" x=\"567.068524\" xlink:href=\"#m8a04e302df\" y=\"1238.4\"/>\r\n      </g>\r\n     </g>\r\n     <g id=\"text_71\">\r\n      <!-- 2.5 -->\r\n      <g transform=\"translate(559.116962 1252.998437)scale(0.1 -0.1)\">\r\n       <use xlink:href=\"#DejaVuSans-32\"/>\r\n       <use x=\"63.623047\" xlink:href=\"#DejaVuSans-2e\"/>\r\n       <use x=\"95.410156\" xlink:href=\"#DejaVuSans-35\"/>\r\n      </g>\r\n     </g>\r\n    </g>\r\n    <g id=\"xtick_25\">\r\n     <g id=\"line2d_185\">\r\n      <g>\r\n       <use style=\"stroke:#000000;stroke-width:0.8;\" x=\"611.45218\" xlink:href=\"#m8a04e302df\" y=\"1238.4\"/>\r\n      </g>\r\n     </g>\r\n     <g id=\"text_72\">\r\n      <!-- 5.0 -->\r\n      <g transform=\"translate(603.500617 1252.998437)scale(0.1 -0.1)\">\r\n       <use xlink:href=\"#DejaVuSans-35\"/>\r\n       <use x=\"63.623047\" xlink:href=\"#DejaVuSans-2e\"/>\r\n       <use x=\"95.410156\" xlink:href=\"#DejaVuSans-30\"/>\r\n      </g>\r\n     </g>\r\n    </g>\r\n    <g id=\"xtick_26\">\r\n     <g id=\"line2d_186\">\r\n      <g>\r\n       <use style=\"stroke:#000000;stroke-width:0.8;\" x=\"655.835836\" xlink:href=\"#m8a04e302df\" y=\"1238.4\"/>\r\n      </g>\r\n     </g>\r\n     <g id=\"text_73\">\r\n      <!-- 7.5 -->\r\n      <g transform=\"translate(647.884273 1252.998437)scale(0.1 -0.1)\">\r\n       <defs>\r\n        <path d=\"M 525 4666 \r\nL 3525 4666 \r\nL 3525 4397 \r\nL 1831 0 \r\nL 1172 0 \r\nL 2766 4134 \r\nL 525 4134 \r\nL 525 4666 \r\nz\r\n\" id=\"DejaVuSans-37\" transform=\"scale(0.015625)\"/>\r\n       </defs>\r\n       <use xlink:href=\"#DejaVuSans-37\"/>\r\n       <use x=\"63.623047\" xlink:href=\"#DejaVuSans-2e\"/>\r\n       <use x=\"95.410156\" xlink:href=\"#DejaVuSans-35\"/>\r\n      </g>\r\n     </g>\r\n    </g>\r\n    <g id=\"xtick_27\">\r\n     <g id=\"line2d_187\">\r\n      <g>\r\n       <use style=\"stroke:#000000;stroke-width:0.8;\" x=\"700.219491\" xlink:href=\"#m8a04e302df\" y=\"1238.4\"/>\r\n      </g>\r\n     </g>\r\n     <g id=\"text_74\">\r\n      <!-- 10.0 -->\r\n      <g transform=\"translate(689.086679 1252.998437)scale(0.1 -0.1)\">\r\n       <use xlink:href=\"#DejaVuSans-31\"/>\r\n       <use x=\"63.623047\" xlink:href=\"#DejaVuSans-30\"/>\r\n       <use x=\"127.246094\" xlink:href=\"#DejaVuSans-2e\"/>\r\n       <use x=\"159.033203\" xlink:href=\"#DejaVuSans-30\"/>\r\n      </g>\r\n     </g>\r\n    </g>\r\n    <g id=\"xtick_28\">\r\n     <g id=\"line2d_188\">\r\n      <g>\r\n       <use style=\"stroke:#000000;stroke-width:0.8;\" x=\"744.603147\" xlink:href=\"#m8a04e302df\" y=\"1238.4\"/>\r\n      </g>\r\n     </g>\r\n     <g id=\"text_75\">\r\n      <!-- 12.5 -->\r\n      <g transform=\"translate(733.470335 1252.998437)scale(0.1 -0.1)\">\r\n       <use xlink:href=\"#DejaVuSans-31\"/>\r\n       <use x=\"63.623047\" xlink:href=\"#DejaVuSans-32\"/>\r\n       <use x=\"127.246094\" xlink:href=\"#DejaVuSans-2e\"/>\r\n       <use x=\"159.033203\" xlink:href=\"#DejaVuSans-35\"/>\r\n      </g>\r\n     </g>\r\n    </g>\r\n    <g id=\"xtick_29\">\r\n     <g id=\"line2d_189\">\r\n      <g>\r\n       <use style=\"stroke:#000000;stroke-width:0.8;\" x=\"788.986803\" xlink:href=\"#m8a04e302df\" y=\"1238.4\"/>\r\n      </g>\r\n     </g>\r\n     <g id=\"text_76\">\r\n      <!-- 15.0 -->\r\n      <g transform=\"translate(777.85399 1252.998437)scale(0.1 -0.1)\">\r\n       <use xlink:href=\"#DejaVuSans-31\"/>\r\n       <use x=\"63.623047\" xlink:href=\"#DejaVuSans-35\"/>\r\n       <use x=\"127.246094\" xlink:href=\"#DejaVuSans-2e\"/>\r\n       <use x=\"159.033203\" xlink:href=\"#DejaVuSans-30\"/>\r\n      </g>\r\n     </g>\r\n    </g>\r\n    <g id=\"xtick_30\">\r\n     <g id=\"line2d_190\">\r\n      <g>\r\n       <use style=\"stroke:#000000;stroke-width:0.8;\" x=\"833.370459\" xlink:href=\"#m8a04e302df\" y=\"1238.4\"/>\r\n      </g>\r\n     </g>\r\n     <g id=\"text_77\">\r\n      <!-- 17.5 -->\r\n      <g transform=\"translate(822.237646 1252.998437)scale(0.1 -0.1)\">\r\n       <use xlink:href=\"#DejaVuSans-31\"/>\r\n       <use x=\"63.623047\" xlink:href=\"#DejaVuSans-37\"/>\r\n       <use x=\"127.246094\" xlink:href=\"#DejaVuSans-2e\"/>\r\n       <use x=\"159.033203\" xlink:href=\"#DejaVuSans-35\"/>\r\n      </g>\r\n     </g>\r\n    </g>\r\n    <g id=\"xtick_31\">\r\n     <g id=\"line2d_191\">\r\n      <g>\r\n       <use style=\"stroke:#000000;stroke-width:0.8;\" x=\"877.754114\" xlink:href=\"#m8a04e302df\" y=\"1238.4\"/>\r\n      </g>\r\n     </g>\r\n     <g id=\"text_78\">\r\n      <!-- 20.0 -->\r\n      <g transform=\"translate(866.621302 1252.998437)scale(0.1 -0.1)\">\r\n       <use xlink:href=\"#DejaVuSans-32\"/>\r\n       <use x=\"63.623047\" xlink:href=\"#DejaVuSans-30\"/>\r\n       <use x=\"127.246094\" xlink:href=\"#DejaVuSans-2e\"/>\r\n       <use x=\"159.033203\" xlink:href=\"#DejaVuSans-30\"/>\r\n      </g>\r\n     </g>\r\n    </g>\r\n    <g id=\"text_79\">\r\n     <!-- deaths_ratio -->\r\n     <g transform=\"translate(675.160937 1266.676562)scale(0.1 -0.1)\">\r\n      <use xlink:href=\"#DejaVuSans-64\"/>\r\n      <use x=\"63.476562\" xlink:href=\"#DejaVuSans-65\"/>\r\n      <use x=\"125\" xlink:href=\"#DejaVuSans-61\"/>\r\n      <use x=\"186.279297\" xlink:href=\"#DejaVuSans-74\"/>\r\n      <use x=\"225.488281\" xlink:href=\"#DejaVuSans-68\"/>\r\n      <use x=\"288.867188\" xlink:href=\"#DejaVuSans-73\"/>\r\n      <use x=\"340.966797\" xlink:href=\"#DejaVuSans-5f\"/>\r\n      <use x=\"390.966797\" xlink:href=\"#DejaVuSans-72\"/>\r\n      <use x=\"432.080078\" xlink:href=\"#DejaVuSans-61\"/>\r\n      <use x=\"493.359375\" xlink:href=\"#DejaVuSans-74\"/>\r\n      <use x=\"532.568359\" xlink:href=\"#DejaVuSans-69\"/>\r\n      <use x=\"560.351562\" xlink:href=\"#DejaVuSans-6f\"/>\r\n     </g>\r\n    </g>\r\n   </g>\r\n   <g id=\"matplotlib.axis_10\">\r\n    <g id=\"ytick_81\">\r\n     <g id=\"line2d_192\">\r\n      <g>\r\n       <use style=\"stroke:#000000;stroke-width:0.8;\" x=\"522.684868\" xlink:href=\"#m751f102a23\" y=\"733.628571\"/>\r\n      </g>\r\n     </g>\r\n    </g>\r\n    <g id=\"ytick_82\">\r\n     <g id=\"line2d_193\">\r\n      <g>\r\n       <use style=\"stroke:#000000;stroke-width:0.8;\" x=\"522.684868\" xlink:href=\"#m751f102a23\" y=\"759.514286\"/>\r\n      </g>\r\n     </g>\r\n    </g>\r\n    <g id=\"ytick_83\">\r\n     <g id=\"line2d_194\">\r\n      <g>\r\n       <use style=\"stroke:#000000;stroke-width:0.8;\" x=\"522.684868\" xlink:href=\"#m751f102a23\" y=\"785.4\"/>\r\n      </g>\r\n     </g>\r\n    </g>\r\n    <g id=\"ytick_84\">\r\n     <g id=\"line2d_195\">\r\n      <g>\r\n       <use style=\"stroke:#000000;stroke-width:0.8;\" x=\"522.684868\" xlink:href=\"#m751f102a23\" y=\"811.285714\"/>\r\n      </g>\r\n     </g>\r\n    </g>\r\n    <g id=\"ytick_85\">\r\n     <g id=\"line2d_196\">\r\n      <g>\r\n       <use style=\"stroke:#000000;stroke-width:0.8;\" x=\"522.684868\" xlink:href=\"#m751f102a23\" y=\"837.171429\"/>\r\n      </g>\r\n     </g>\r\n    </g>\r\n    <g id=\"ytick_86\">\r\n     <g id=\"line2d_197\">\r\n      <g>\r\n       <use style=\"stroke:#000000;stroke-width:0.8;\" x=\"522.684868\" xlink:href=\"#m751f102a23\" y=\"863.057143\"/>\r\n      </g>\r\n     </g>\r\n    </g>\r\n    <g id=\"ytick_87\">\r\n     <g id=\"line2d_198\">\r\n      <g>\r\n       <use style=\"stroke:#000000;stroke-width:0.8;\" x=\"522.684868\" xlink:href=\"#m751f102a23\" y=\"888.942857\"/>\r\n      </g>\r\n     </g>\r\n    </g>\r\n    <g id=\"ytick_88\">\r\n     <g id=\"line2d_199\">\r\n      <g>\r\n       <use style=\"stroke:#000000;stroke-width:0.8;\" x=\"522.684868\" xlink:href=\"#m751f102a23\" y=\"914.828571\"/>\r\n      </g>\r\n     </g>\r\n    </g>\r\n    <g id=\"ytick_89\">\r\n     <g id=\"line2d_200\">\r\n      <g>\r\n       <use style=\"stroke:#000000;stroke-width:0.8;\" x=\"522.684868\" xlink:href=\"#m751f102a23\" y=\"940.714286\"/>\r\n      </g>\r\n     </g>\r\n    </g>\r\n    <g id=\"ytick_90\">\r\n     <g id=\"line2d_201\">\r\n      <g>\r\n       <use style=\"stroke:#000000;stroke-width:0.8;\" x=\"522.684868\" xlink:href=\"#m751f102a23\" y=\"966.6\"/>\r\n      </g>\r\n     </g>\r\n    </g>\r\n    <g id=\"ytick_91\">\r\n     <g id=\"line2d_202\">\r\n      <g>\r\n       <use style=\"stroke:#000000;stroke-width:0.8;\" x=\"522.684868\" xlink:href=\"#m751f102a23\" y=\"992.485714\"/>\r\n      </g>\r\n     </g>\r\n    </g>\r\n    <g id=\"ytick_92\">\r\n     <g id=\"line2d_203\">\r\n      <g>\r\n       <use style=\"stroke:#000000;stroke-width:0.8;\" x=\"522.684868\" xlink:href=\"#m751f102a23\" y=\"1018.371429\"/>\r\n      </g>\r\n     </g>\r\n    </g>\r\n    <g id=\"ytick_93\">\r\n     <g id=\"line2d_204\">\r\n      <g>\r\n       <use style=\"stroke:#000000;stroke-width:0.8;\" x=\"522.684868\" xlink:href=\"#m751f102a23\" y=\"1044.257143\"/>\r\n      </g>\r\n     </g>\r\n    </g>\r\n    <g id=\"ytick_94\">\r\n     <g id=\"line2d_205\">\r\n      <g>\r\n       <use style=\"stroke:#000000;stroke-width:0.8;\" x=\"522.684868\" xlink:href=\"#m751f102a23\" y=\"1070.142857\"/>\r\n      </g>\r\n     </g>\r\n    </g>\r\n    <g id=\"ytick_95\">\r\n     <g id=\"line2d_206\">\r\n      <g>\r\n       <use style=\"stroke:#000000;stroke-width:0.8;\" x=\"522.684868\" xlink:href=\"#m751f102a23\" y=\"1096.028571\"/>\r\n      </g>\r\n     </g>\r\n    </g>\r\n    <g id=\"ytick_96\">\r\n     <g id=\"line2d_207\">\r\n      <g>\r\n       <use style=\"stroke:#000000;stroke-width:0.8;\" x=\"522.684868\" xlink:href=\"#m751f102a23\" y=\"1121.914286\"/>\r\n      </g>\r\n     </g>\r\n    </g>\r\n    <g id=\"ytick_97\">\r\n     <g id=\"line2d_208\">\r\n      <g>\r\n       <use style=\"stroke:#000000;stroke-width:0.8;\" x=\"522.684868\" xlink:href=\"#m751f102a23\" y=\"1147.8\"/>\r\n      </g>\r\n     </g>\r\n    </g>\r\n    <g id=\"ytick_98\">\r\n     <g id=\"line2d_209\">\r\n      <g>\r\n       <use style=\"stroke:#000000;stroke-width:0.8;\" x=\"522.684868\" xlink:href=\"#m751f102a23\" y=\"1173.685714\"/>\r\n      </g>\r\n     </g>\r\n    </g>\r\n    <g id=\"ytick_99\">\r\n     <g id=\"line2d_210\">\r\n      <g>\r\n       <use style=\"stroke:#000000;stroke-width:0.8;\" x=\"522.684868\" xlink:href=\"#m751f102a23\" y=\"1199.571429\"/>\r\n      </g>\r\n     </g>\r\n    </g>\r\n    <g id=\"ytick_100\">\r\n     <g id=\"line2d_211\">\r\n      <g>\r\n       <use style=\"stroke:#000000;stroke-width:0.8;\" x=\"522.684868\" xlink:href=\"#m751f102a23\" y=\"1225.457143\"/>\r\n      </g>\r\n     </g>\r\n    </g>\r\n   </g>\r\n   <g id=\"line2d_212\">\r\n    <path clip-path=\"url(#p8c61f03b66)\" d=\"M 0 0 \r\n\" style=\"fill:none;stroke:#424242;stroke-linecap:square;stroke-width:2.7;\"/>\r\n   </g>\r\n   <g id=\"line2d_213\">\r\n    <path clip-path=\"url(#p8c61f03b66)\" d=\"M 0 0 \r\n\" style=\"fill:none;stroke:#424242;stroke-linecap:square;stroke-width:2.7;\"/>\r\n   </g>\r\n   <g id=\"line2d_214\">\r\n    <path clip-path=\"url(#p8c61f03b66)\" d=\"M 0 0 \r\n\" style=\"fill:none;stroke:#424242;stroke-linecap:square;stroke-width:2.7;\"/>\r\n   </g>\r\n   <g id=\"line2d_215\">\r\n    <path clip-path=\"url(#p8c61f03b66)\" d=\"M 0 0 \r\n\" style=\"fill:none;stroke:#424242;stroke-linecap:square;stroke-width:2.7;\"/>\r\n   </g>\r\n   <g id=\"line2d_216\">\r\n    <path clip-path=\"url(#p8c61f03b66)\" d=\"M 0 0 \r\n\" style=\"fill:none;stroke:#424242;stroke-linecap:square;stroke-width:2.7;\"/>\r\n   </g>\r\n   <g id=\"line2d_217\">\r\n    <path clip-path=\"url(#p8c61f03b66)\" d=\"M 0 0 \r\n\" style=\"fill:none;stroke:#424242;stroke-linecap:square;stroke-width:2.7;\"/>\r\n   </g>\r\n   <g id=\"line2d_218\">\r\n    <path clip-path=\"url(#p8c61f03b66)\" d=\"M 0 0 \r\n\" style=\"fill:none;stroke:#424242;stroke-linecap:square;stroke-width:2.7;\"/>\r\n   </g>\r\n   <g id=\"line2d_219\">\r\n    <path clip-path=\"url(#p8c61f03b66)\" d=\"M 0 0 \r\n\" style=\"fill:none;stroke:#424242;stroke-linecap:square;stroke-width:2.7;\"/>\r\n   </g>\r\n   <g id=\"line2d_220\">\r\n    <path clip-path=\"url(#p8c61f03b66)\" d=\"M 0 0 \r\n\" style=\"fill:none;stroke:#424242;stroke-linecap:square;stroke-width:2.7;\"/>\r\n   </g>\r\n   <g id=\"line2d_221\">\r\n    <path clip-path=\"url(#p8c61f03b66)\" d=\"M 0 0 \r\n\" style=\"fill:none;stroke:#424242;stroke-linecap:square;stroke-width:2.7;\"/>\r\n   </g>\r\n   <g id=\"line2d_222\">\r\n    <path clip-path=\"url(#p8c61f03b66)\" d=\"M 0 0 \r\n\" style=\"fill:none;stroke:#424242;stroke-linecap:square;stroke-width:2.7;\"/>\r\n   </g>\r\n   <g id=\"line2d_223\">\r\n    <path clip-path=\"url(#p8c61f03b66)\" d=\"M 0 0 \r\n\" style=\"fill:none;stroke:#424242;stroke-linecap:square;stroke-width:2.7;\"/>\r\n   </g>\r\n   <g id=\"line2d_224\">\r\n    <path clip-path=\"url(#p8c61f03b66)\" d=\"M 0 0 \r\n\" style=\"fill:none;stroke:#424242;stroke-linecap:square;stroke-width:2.7;\"/>\r\n   </g>\r\n   <g id=\"line2d_225\">\r\n    <path clip-path=\"url(#p8c61f03b66)\" d=\"M 0 0 \r\n\" style=\"fill:none;stroke:#424242;stroke-linecap:square;stroke-width:2.7;\"/>\r\n   </g>\r\n   <g id=\"line2d_226\">\r\n    <path clip-path=\"url(#p8c61f03b66)\" d=\"M 0 0 \r\n\" style=\"fill:none;stroke:#424242;stroke-linecap:square;stroke-width:2.7;\"/>\r\n   </g>\r\n   <g id=\"line2d_227\">\r\n    <path clip-path=\"url(#p8c61f03b66)\" d=\"M 0 0 \r\n\" style=\"fill:none;stroke:#424242;stroke-linecap:square;stroke-width:2.7;\"/>\r\n   </g>\r\n   <g id=\"line2d_228\">\r\n    <path clip-path=\"url(#p8c61f03b66)\" d=\"M 0 0 \r\n\" style=\"fill:none;stroke:#424242;stroke-linecap:square;stroke-width:2.7;\"/>\r\n   </g>\r\n   <g id=\"line2d_229\">\r\n    <path clip-path=\"url(#p8c61f03b66)\" d=\"M 0 0 \r\n\" style=\"fill:none;stroke:#424242;stroke-linecap:square;stroke-width:2.7;\"/>\r\n   </g>\r\n   <g id=\"line2d_230\">\r\n    <path clip-path=\"url(#p8c61f03b66)\" d=\"M 0 0 \r\n\" style=\"fill:none;stroke:#424242;stroke-linecap:square;stroke-width:2.7;\"/>\r\n   </g>\r\n   <g id=\"line2d_231\">\r\n    <path clip-path=\"url(#p8c61f03b66)\" d=\"M 0 0 \r\n\" style=\"fill:none;stroke:#424242;stroke-linecap:square;stroke-width:2.7;\"/>\r\n   </g>\r\n   <g id=\"patch_123\">\r\n    <path d=\"M 522.684868 1238.4 \r\nL 522.684868 720.685714 \r\n\" style=\"fill:none;stroke:#000000;stroke-linecap:square;stroke-linejoin:miter;stroke-width:0.8;\"/>\r\n   </g>\r\n   <g id=\"patch_124\">\r\n    <path d=\"M 889.790132 1238.4 \r\nL 889.790132 720.685714 \r\n\" style=\"fill:none;stroke:#000000;stroke-linecap:square;stroke-linejoin:miter;stroke-width:0.8;\"/>\r\n   </g>\r\n   <g id=\"patch_125\">\r\n    <path d=\"M 522.684868 1238.4 \r\nL 889.790132 1238.4 \r\n\" style=\"fill:none;stroke:#000000;stroke-linecap:square;stroke-linejoin:miter;stroke-width:0.8;\"/>\r\n   </g>\r\n   <g id=\"patch_126\">\r\n    <path d=\"M 522.684868 720.685714 \r\nL 889.790132 720.685714 \r\n\" style=\"fill:none;stroke:#000000;stroke-linecap:square;stroke-linejoin:miter;stroke-width:0.8;\"/>\r\n   </g>\r\n   <g id=\"text_80\">\r\n    <!-- deaths ratio for lowest gdp -->\r\n    <g transform=\"translate(625.22625 714.685714)scale(0.12 -0.12)\">\r\n     <use xlink:href=\"#DejaVuSans-64\"/>\r\n     <use x=\"63.476562\" xlink:href=\"#DejaVuSans-65\"/>\r\n     <use x=\"125\" xlink:href=\"#DejaVuSans-61\"/>\r\n     <use x=\"186.279297\" xlink:href=\"#DejaVuSans-74\"/>\r\n     <use x=\"225.488281\" xlink:href=\"#DejaVuSans-68\"/>\r\n     <use x=\"288.867188\" xlink:href=\"#DejaVuSans-73\"/>\r\n     <use x=\"340.966797\" xlink:href=\"#DejaVuSans-20\"/>\r\n     <use x=\"372.753906\" xlink:href=\"#DejaVuSans-72\"/>\r\n     <use x=\"413.867188\" xlink:href=\"#DejaVuSans-61\"/>\r\n     <use x=\"475.146484\" xlink:href=\"#DejaVuSans-74\"/>\r\n     <use x=\"514.355469\" xlink:href=\"#DejaVuSans-69\"/>\r\n     <use x=\"542.138672\" xlink:href=\"#DejaVuSans-6f\"/>\r\n     <use x=\"603.320312\" xlink:href=\"#DejaVuSans-20\"/>\r\n     <use x=\"635.107422\" xlink:href=\"#DejaVuSans-66\"/>\r\n     <use x=\"670.3125\" xlink:href=\"#DejaVuSans-6f\"/>\r\n     <use x=\"731.494141\" xlink:href=\"#DejaVuSans-72\"/>\r\n     <use x=\"772.607422\" xlink:href=\"#DejaVuSans-20\"/>\r\n     <use x=\"804.394531\" xlink:href=\"#DejaVuSans-6c\"/>\r\n     <use x=\"832.177734\" xlink:href=\"#DejaVuSans-6f\"/>\r\n     <use x=\"893.359375\" xlink:href=\"#DejaVuSans-77\"/>\r\n     <use x=\"975.146484\" xlink:href=\"#DejaVuSans-65\"/>\r\n     <use x=\"1036.669922\" xlink:href=\"#DejaVuSans-73\"/>\r\n     <use x=\"1088.769531\" xlink:href=\"#DejaVuSans-74\"/>\r\n     <use x=\"1127.978516\" xlink:href=\"#DejaVuSans-20\"/>\r\n     <use x=\"1159.765625\" xlink:href=\"#DejaVuSans-67\"/>\r\n     <use x=\"1223.242188\" xlink:href=\"#DejaVuSans-64\"/>\r\n     <use x=\"1286.71875\" xlink:href=\"#DejaVuSans-70\"/>\r\n    </g>\r\n   </g>\r\n  </g>\r\n  <g id=\"axes_6\">\r\n   <g id=\"patch_127\">\r\n    <path d=\"M 897.132237 1238.4 \r\nL 1264.2375 1238.4 \r\nL 1264.2375 720.685714 \r\nL 897.132237 720.685714 \r\nz\r\n\" style=\"fill:#ffffff;\"/>\r\n   </g>\r\n   <g id=\"patch_128\">\r\n    <path clip-path=\"url(#p41573a3c3e)\" d=\"M 897.132237 723.274286 \r\nL 989.747882 723.274286 \r\nL 989.747882 743.982857 \r\nL 897.132237 743.982857 \r\nz\r\n\" style=\"fill:#107010;opacity:0.5;\"/>\r\n   </g>\r\n   <g id=\"patch_129\">\r\n    <path clip-path=\"url(#p41573a3c3e)\" d=\"M 897.132237 749.16 \r\nL 1245.212703 749.16 \r\nL 1245.212703 769.868571 \r\nL 897.132237 769.868571 \r\nz\r\n\" style=\"fill:#107010;opacity:0.5;\"/>\r\n   </g>\r\n   <g id=\"patch_130\">\r\n    <path clip-path=\"url(#p41573a3c3e)\" d=\"M 897.132237 775.045714 \r\nL 1082.363527 775.045714 \r\nL 1082.363527 795.754286 \r\nL 897.132237 795.754286 \r\nz\r\n\" style=\"fill:#107010;opacity:0.5;\"/>\r\n   </g>\r\n   <g id=\"patch_131\">\r\n    <path clip-path=\"url(#p41573a3c3e)\" d=\"M 897.132237 800.931429 \r\nL 1105.517438 800.931429 \r\nL 1105.517438 821.64 \r\nL 897.132237 821.64 \r\nz\r\n\" style=\"fill:#107010;opacity:0.5;\"/>\r\n   </g>\r\n   <g id=\"patch_132\">\r\n    <path clip-path=\"url(#p41573a3c3e)\" d=\"M 897.132237 826.817143 \r\nL 1125.584161 826.817143 \r\nL 1125.584161 847.525714 \r\nL 897.132237 847.525714 \r\nz\r\n\" style=\"fill:#107010;opacity:0.5;\"/>\r\n   </g>\r\n   <g id=\"patch_133\">\r\n    <path clip-path=\"url(#p41573a3c3e)\" d=\"M 897.132237 852.702857 \r\nL 989.747882 852.702857 \r\nL 989.747882 873.411429 \r\nL 897.132237 873.411429 \r\nz\r\n\" style=\"fill:#107010;opacity:0.5;\"/>\r\n   </g>\r\n   <g id=\"patch_134\">\r\n    <path clip-path=\"url(#p41573a3c3e)\" d=\"M 897.132237 878.588571 \r\nL 1051.491645 878.588571 \r\nL 1051.491645 899.297143 \r\nL 897.132237 899.297143 \r\nz\r\n\" style=\"fill:#107010;opacity:0.5;\"/>\r\n   </g>\r\n   <g id=\"patch_135\">\r\n    <path clip-path=\"url(#p41573a3c3e)\" d=\"M 897.132237 904.474286 \r\nL 1174.979172 904.474286 \r\nL 1174.979172 925.182857 \r\nL 897.132237 925.182857 \r\nz\r\n\" style=\"fill:#107010;opacity:0.5;\"/>\r\n   </g>\r\n   <g id=\"patch_136\">\r\n    <path clip-path=\"url(#p41573a3c3e)\" d=\"M 897.132237 930.36 \r\nL 1246.756297 930.36 \r\nL 1246.756297 951.068571 \r\nL 897.132237 951.068571 \r\nz\r\n\" style=\"fill:#107010;opacity:0.5;\"/>\r\n   </g>\r\n   <g id=\"patch_137\">\r\n    <path clip-path=\"url(#p41573a3c3e)\" d=\"M 897.132237 956.245714 \r\nL 1110.920018 956.245714 \r\nL 1110.920018 976.954286 \r\nL 897.132237 976.954286 \r\nz\r\n\" style=\"fill:#107010;opacity:0.5;\"/>\r\n   </g>\r\n   <g id=\"patch_138\">\r\n    <path clip-path=\"url(#p41573a3c3e)\" d=\"M 897.132237 982.131429 \r\nL 1153.368855 982.131429 \r\nL 1153.368855 1002.84 \r\nL 897.132237 1002.84 \r\nz\r\n\" style=\"fill:#107010;opacity:0.5;\"/>\r\n   </g>\r\n   <g id=\"patch_139\">\r\n    <path clip-path=\"url(#p41573a3c3e)\" d=\"M 897.132237 1008.017143 \r\nL 1090.081497 1008.017143 \r\nL 1090.081497 1028.725714 \r\nL 897.132237 1028.725714 \r\nz\r\n\" style=\"fill:#107010;opacity:0.5;\"/>\r\n   </g>\r\n   <g id=\"patch_140\">\r\n    <path clip-path=\"url(#p41573a3c3e)\" d=\"M 897.132237 1033.902857 \r\nL 1128.67135 1033.902857 \r\nL 1128.67135 1054.611429 \r\nL 897.132237 1054.611429 \r\nz\r\n\" style=\"fill:#107010;opacity:0.5;\"/>\r\n   </g>\r\n   <g id=\"patch_141\">\r\n    <path clip-path=\"url(#p41573a3c3e)\" d=\"M 897.132237 1059.788571 \r\nL 1120.953379 1059.788571 \r\nL 1120.953379 1080.497143 \r\nL 897.132237 1080.497143 \r\nz\r\n\" style=\"fill:#107010;opacity:0.5;\"/>\r\n   </g>\r\n   <g id=\"patch_142\">\r\n    <path clip-path=\"url(#p41573a3c3e)\" d=\"M 897.132237 1085.674286 \r\nL 1174.979172 1085.674286 \r\nL 1174.979172 1106.382857 \r\nL 897.132237 1106.382857 \r\nz\r\n\" style=\"fill:#107010;opacity:0.5;\"/>\r\n   </g>\r\n   <g id=\"patch_143\">\r\n    <path clip-path=\"url(#p41573a3c3e)\" d=\"M 897.132237 1111.56 \r\nL 1059.981413 1111.56 \r\nL 1059.981413 1132.268571 \r\nL 897.132237 1132.268571 \r\nz\r\n\" style=\"fill:#107010;opacity:0.5;\"/>\r\n   </g>\r\n   <g id=\"patch_144\">\r\n    <path clip-path=\"url(#p41573a3c3e)\" d=\"M 897.132237 1137.445714 \r\nL 1059.209616 1137.445714 \r\nL 1059.209616 1158.154286 \r\nL 897.132237 1158.154286 \r\nz\r\n\" style=\"fill:#107010;opacity:0.5;\"/>\r\n   </g>\r\n   <g id=\"patch_145\">\r\n    <path clip-path=\"url(#p41573a3c3e)\" d=\"M 897.132237 1163.331429 \r\nL 1074.645557 1163.331429 \r\nL 1074.645557 1184.04 \r\nL 897.132237 1184.04 \r\nz\r\n\" style=\"fill:#107010;opacity:0.5;\"/>\r\n   </g>\r\n   <g id=\"patch_146\">\r\n    <path clip-path=\"url(#p41573a3c3e)\" d=\"M 897.132237 1189.217143 \r\nL 1113.235409 1189.217143 \r\nL 1113.235409 1209.925714 \r\nL 897.132237 1209.925714 \r\nz\r\n\" style=\"fill:#107010;opacity:0.5;\"/>\r\n   </g>\r\n   <g id=\"patch_147\">\r\n    <path clip-path=\"url(#p41573a3c3e)\" d=\"M 897.132237 1215.102857 \r\nL 1159.543231 1215.102857 \r\nL 1159.543231 1235.811429 \r\nL 897.132237 1235.811429 \r\nz\r\n\" style=\"fill:#107010;opacity:0.5;\"/>\r\n   </g>\r\n   <g id=\"matplotlib.axis_11\">\r\n    <g id=\"xtick_32\">\r\n     <g id=\"line2d_232\">\r\n      <g>\r\n       <use style=\"stroke:#000000;stroke-width:0.8;\" x=\"897.132237\" xlink:href=\"#m8a04e302df\" y=\"1238.4\"/>\r\n      </g>\r\n     </g>\r\n     <g id=\"text_81\">\r\n      <!-- 0 -->\r\n      <g transform=\"translate(893.950987 1252.998437)scale(0.1 -0.1)\">\r\n       <use xlink:href=\"#DejaVuSans-30\"/>\r\n      </g>\r\n     </g>\r\n    </g>\r\n    <g id=\"xtick_33\">\r\n     <g id=\"line2d_233\">\r\n      <g>\r\n       <use style=\"stroke:#000000;stroke-width:0.8;\" x=\"974.311941\" xlink:href=\"#m8a04e302df\" y=\"1238.4\"/>\r\n      </g>\r\n     </g>\r\n     <g id=\"text_82\">\r\n      <!-- 1 -->\r\n      <g transform=\"translate(971.130691 1252.998437)scale(0.1 -0.1)\">\r\n       <use xlink:href=\"#DejaVuSans-31\"/>\r\n      </g>\r\n     </g>\r\n    </g>\r\n    <g id=\"xtick_34\">\r\n     <g id=\"line2d_234\">\r\n      <g>\r\n       <use style=\"stroke:#000000;stroke-width:0.8;\" x=\"1051.491645\" xlink:href=\"#m8a04e302df\" y=\"1238.4\"/>\r\n      </g>\r\n     </g>\r\n     <g id=\"text_83\">\r\n      <!-- 2 -->\r\n      <g transform=\"translate(1048.310395 1252.998437)scale(0.1 -0.1)\">\r\n       <use xlink:href=\"#DejaVuSans-32\"/>\r\n      </g>\r\n     </g>\r\n    </g>\r\n    <g id=\"xtick_35\">\r\n     <g id=\"line2d_235\">\r\n      <g>\r\n       <use style=\"stroke:#000000;stroke-width:0.8;\" x=\"1128.67135\" xlink:href=\"#m8a04e302df\" y=\"1238.4\"/>\r\n      </g>\r\n     </g>\r\n     <g id=\"text_84\">\r\n      <!-- 3 -->\r\n      <g transform=\"translate(1125.4901 1252.998437)scale(0.1 -0.1)\">\r\n       <use xlink:href=\"#DejaVuSans-33\"/>\r\n      </g>\r\n     </g>\r\n    </g>\r\n    <g id=\"xtick_36\">\r\n     <g id=\"line2d_236\">\r\n      <g>\r\n       <use style=\"stroke:#000000;stroke-width:0.8;\" x=\"1205.851054\" xlink:href=\"#m8a04e302df\" y=\"1238.4\"/>\r\n      </g>\r\n     </g>\r\n     <g id=\"text_85\">\r\n      <!-- 4 -->\r\n      <g transform=\"translate(1202.669804 1252.998437)scale(0.1 -0.1)\">\r\n       <use xlink:href=\"#DejaVuSans-34\"/>\r\n      </g>\r\n     </g>\r\n    </g>\r\n   </g>\r\n   <g id=\"matplotlib.axis_12\">\r\n    <g id=\"ytick_101\">\r\n     <g id=\"line2d_237\">\r\n      <g>\r\n       <use style=\"stroke:#000000;stroke-width:0.8;\" x=\"897.132237\" xlink:href=\"#m751f102a23\" y=\"733.628571\"/>\r\n      </g>\r\n     </g>\r\n    </g>\r\n    <g id=\"ytick_102\">\r\n     <g id=\"line2d_238\">\r\n      <g>\r\n       <use style=\"stroke:#000000;stroke-width:0.8;\" x=\"897.132237\" xlink:href=\"#m751f102a23\" y=\"759.514286\"/>\r\n      </g>\r\n     </g>\r\n    </g>\r\n    <g id=\"ytick_103\">\r\n     <g id=\"line2d_239\">\r\n      <g>\r\n       <use style=\"stroke:#000000;stroke-width:0.8;\" x=\"897.132237\" xlink:href=\"#m751f102a23\" y=\"785.4\"/>\r\n      </g>\r\n     </g>\r\n    </g>\r\n    <g id=\"ytick_104\">\r\n     <g id=\"line2d_240\">\r\n      <g>\r\n       <use style=\"stroke:#000000;stroke-width:0.8;\" x=\"897.132237\" xlink:href=\"#m751f102a23\" y=\"811.285714\"/>\r\n      </g>\r\n     </g>\r\n    </g>\r\n    <g id=\"ytick_105\">\r\n     <g id=\"line2d_241\">\r\n      <g>\r\n       <use style=\"stroke:#000000;stroke-width:0.8;\" x=\"897.132237\" xlink:href=\"#m751f102a23\" y=\"837.171429\"/>\r\n      </g>\r\n     </g>\r\n    </g>\r\n    <g id=\"ytick_106\">\r\n     <g id=\"line2d_242\">\r\n      <g>\r\n       <use style=\"stroke:#000000;stroke-width:0.8;\" x=\"897.132237\" xlink:href=\"#m751f102a23\" y=\"863.057143\"/>\r\n      </g>\r\n     </g>\r\n    </g>\r\n    <g id=\"ytick_107\">\r\n     <g id=\"line2d_243\">\r\n      <g>\r\n       <use style=\"stroke:#000000;stroke-width:0.8;\" x=\"897.132237\" xlink:href=\"#m751f102a23\" y=\"888.942857\"/>\r\n      </g>\r\n     </g>\r\n    </g>\r\n    <g id=\"ytick_108\">\r\n     <g id=\"line2d_244\">\r\n      <g>\r\n       <use style=\"stroke:#000000;stroke-width:0.8;\" x=\"897.132237\" xlink:href=\"#m751f102a23\" y=\"914.828571\"/>\r\n      </g>\r\n     </g>\r\n    </g>\r\n    <g id=\"ytick_109\">\r\n     <g id=\"line2d_245\">\r\n      <g>\r\n       <use style=\"stroke:#000000;stroke-width:0.8;\" x=\"897.132237\" xlink:href=\"#m751f102a23\" y=\"940.714286\"/>\r\n      </g>\r\n     </g>\r\n    </g>\r\n    <g id=\"ytick_110\">\r\n     <g id=\"line2d_246\">\r\n      <g>\r\n       <use style=\"stroke:#000000;stroke-width:0.8;\" x=\"897.132237\" xlink:href=\"#m751f102a23\" y=\"966.6\"/>\r\n      </g>\r\n     </g>\r\n    </g>\r\n    <g id=\"ytick_111\">\r\n     <g id=\"line2d_247\">\r\n      <g>\r\n       <use style=\"stroke:#000000;stroke-width:0.8;\" x=\"897.132237\" xlink:href=\"#m751f102a23\" y=\"992.485714\"/>\r\n      </g>\r\n     </g>\r\n    </g>\r\n    <g id=\"ytick_112\">\r\n     <g id=\"line2d_248\">\r\n      <g>\r\n       <use style=\"stroke:#000000;stroke-width:0.8;\" x=\"897.132237\" xlink:href=\"#m751f102a23\" y=\"1018.371429\"/>\r\n      </g>\r\n     </g>\r\n    </g>\r\n    <g id=\"ytick_113\">\r\n     <g id=\"line2d_249\">\r\n      <g>\r\n       <use style=\"stroke:#000000;stroke-width:0.8;\" x=\"897.132237\" xlink:href=\"#m751f102a23\" y=\"1044.257143\"/>\r\n      </g>\r\n     </g>\r\n    </g>\r\n    <g id=\"ytick_114\">\r\n     <g id=\"line2d_250\">\r\n      <g>\r\n       <use style=\"stroke:#000000;stroke-width:0.8;\" x=\"897.132237\" xlink:href=\"#m751f102a23\" y=\"1070.142857\"/>\r\n      </g>\r\n     </g>\r\n    </g>\r\n    <g id=\"ytick_115\">\r\n     <g id=\"line2d_251\">\r\n      <g>\r\n       <use style=\"stroke:#000000;stroke-width:0.8;\" x=\"897.132237\" xlink:href=\"#m751f102a23\" y=\"1096.028571\"/>\r\n      </g>\r\n     </g>\r\n    </g>\r\n    <g id=\"ytick_116\">\r\n     <g id=\"line2d_252\">\r\n      <g>\r\n       <use style=\"stroke:#000000;stroke-width:0.8;\" x=\"897.132237\" xlink:href=\"#m751f102a23\" y=\"1121.914286\"/>\r\n      </g>\r\n     </g>\r\n    </g>\r\n    <g id=\"ytick_117\">\r\n     <g id=\"line2d_253\">\r\n      <g>\r\n       <use style=\"stroke:#000000;stroke-width:0.8;\" x=\"897.132237\" xlink:href=\"#m751f102a23\" y=\"1147.8\"/>\r\n      </g>\r\n     </g>\r\n    </g>\r\n    <g id=\"ytick_118\">\r\n     <g id=\"line2d_254\">\r\n      <g>\r\n       <use style=\"stroke:#000000;stroke-width:0.8;\" x=\"897.132237\" xlink:href=\"#m751f102a23\" y=\"1173.685714\"/>\r\n      </g>\r\n     </g>\r\n    </g>\r\n    <g id=\"ytick_119\">\r\n     <g id=\"line2d_255\">\r\n      <g>\r\n       <use style=\"stroke:#000000;stroke-width:0.8;\" x=\"897.132237\" xlink:href=\"#m751f102a23\" y=\"1199.571429\"/>\r\n      </g>\r\n     </g>\r\n    </g>\r\n    <g id=\"ytick_120\">\r\n     <g id=\"line2d_256\">\r\n      <g>\r\n       <use style=\"stroke:#000000;stroke-width:0.8;\" x=\"897.132237\" xlink:href=\"#m751f102a23\" y=\"1225.457143\"/>\r\n      </g>\r\n     </g>\r\n    </g>\r\n   </g>\r\n   <g id=\"line2d_257\">\r\n    <path clip-path=\"url(#p41573a3c3e)\" d=\"M 0 0 \r\n\" style=\"fill:none;stroke:#424242;stroke-linecap:square;stroke-width:2.7;\"/>\r\n   </g>\r\n   <g id=\"line2d_258\">\r\n    <path clip-path=\"url(#p41573a3c3e)\" d=\"M 0 0 \r\n\" style=\"fill:none;stroke:#424242;stroke-linecap:square;stroke-width:2.7;\"/>\r\n   </g>\r\n   <g id=\"line2d_259\">\r\n    <path clip-path=\"url(#p41573a3c3e)\" d=\"M 0 0 \r\n\" style=\"fill:none;stroke:#424242;stroke-linecap:square;stroke-width:2.7;\"/>\r\n   </g>\r\n   <g id=\"line2d_260\">\r\n    <path clip-path=\"url(#p41573a3c3e)\" d=\"M 0 0 \r\n\" style=\"fill:none;stroke:#424242;stroke-linecap:square;stroke-width:2.7;\"/>\r\n   </g>\r\n   <g id=\"line2d_261\">\r\n    <path clip-path=\"url(#p41573a3c3e)\" d=\"M 0 0 \r\n\" style=\"fill:none;stroke:#424242;stroke-linecap:square;stroke-width:2.7;\"/>\r\n   </g>\r\n   <g id=\"line2d_262\">\r\n    <path clip-path=\"url(#p41573a3c3e)\" d=\"M 0 0 \r\n\" style=\"fill:none;stroke:#424242;stroke-linecap:square;stroke-width:2.7;\"/>\r\n   </g>\r\n   <g id=\"line2d_263\">\r\n    <path clip-path=\"url(#p41573a3c3e)\" d=\"M 0 0 \r\n\" style=\"fill:none;stroke:#424242;stroke-linecap:square;stroke-width:2.7;\"/>\r\n   </g>\r\n   <g id=\"line2d_264\">\r\n    <path clip-path=\"url(#p41573a3c3e)\" d=\"M 0 0 \r\n\" style=\"fill:none;stroke:#424242;stroke-linecap:square;stroke-width:2.7;\"/>\r\n   </g>\r\n   <g id=\"line2d_265\">\r\n    <path clip-path=\"url(#p41573a3c3e)\" d=\"M 0 0 \r\n\" style=\"fill:none;stroke:#424242;stroke-linecap:square;stroke-width:2.7;\"/>\r\n   </g>\r\n   <g id=\"line2d_266\">\r\n    <path clip-path=\"url(#p41573a3c3e)\" d=\"M 0 0 \r\n\" style=\"fill:none;stroke:#424242;stroke-linecap:square;stroke-width:2.7;\"/>\r\n   </g>\r\n   <g id=\"line2d_267\">\r\n    <path clip-path=\"url(#p41573a3c3e)\" d=\"M 0 0 \r\n\" style=\"fill:none;stroke:#424242;stroke-linecap:square;stroke-width:2.7;\"/>\r\n   </g>\r\n   <g id=\"line2d_268\">\r\n    <path clip-path=\"url(#p41573a3c3e)\" d=\"M 0 0 \r\n\" style=\"fill:none;stroke:#424242;stroke-linecap:square;stroke-width:2.7;\"/>\r\n   </g>\r\n   <g id=\"line2d_269\">\r\n    <path clip-path=\"url(#p41573a3c3e)\" d=\"M 0 0 \r\n\" style=\"fill:none;stroke:#424242;stroke-linecap:square;stroke-width:2.7;\"/>\r\n   </g>\r\n   <g id=\"line2d_270\">\r\n    <path clip-path=\"url(#p41573a3c3e)\" d=\"M 0 0 \r\n\" style=\"fill:none;stroke:#424242;stroke-linecap:square;stroke-width:2.7;\"/>\r\n   </g>\r\n   <g id=\"line2d_271\">\r\n    <path clip-path=\"url(#p41573a3c3e)\" d=\"M 0 0 \r\n\" style=\"fill:none;stroke:#424242;stroke-linecap:square;stroke-width:2.7;\"/>\r\n   </g>\r\n   <g id=\"line2d_272\">\r\n    <path clip-path=\"url(#p41573a3c3e)\" d=\"M 0 0 \r\n\" style=\"fill:none;stroke:#424242;stroke-linecap:square;stroke-width:2.7;\"/>\r\n   </g>\r\n   <g id=\"line2d_273\">\r\n    <path clip-path=\"url(#p41573a3c3e)\" d=\"M 0 0 \r\n\" style=\"fill:none;stroke:#424242;stroke-linecap:square;stroke-width:2.7;\"/>\r\n   </g>\r\n   <g id=\"line2d_274\">\r\n    <path clip-path=\"url(#p41573a3c3e)\" d=\"M 0 0 \r\n\" style=\"fill:none;stroke:#424242;stroke-linecap:square;stroke-width:2.7;\"/>\r\n   </g>\r\n   <g id=\"line2d_275\">\r\n    <path clip-path=\"url(#p41573a3c3e)\" d=\"M 0 0 \r\n\" style=\"fill:none;stroke:#424242;stroke-linecap:square;stroke-width:2.7;\"/>\r\n   </g>\r\n   <g id=\"line2d_276\">\r\n    <path clip-path=\"url(#p41573a3c3e)\" d=\"M 0 0 \r\n\" style=\"fill:none;stroke:#424242;stroke-linecap:square;stroke-width:2.7;\"/>\r\n   </g>\r\n   <g id=\"patch_148\">\r\n    <path d=\"M 897.132237 1238.4 \r\nL 897.132237 720.685714 \r\n\" style=\"fill:none;stroke:#000000;stroke-linecap:square;stroke-linejoin:miter;stroke-width:0.8;\"/>\r\n   </g>\r\n   <g id=\"patch_149\">\r\n    <path d=\"M 1264.2375 1238.4 \r\nL 1264.2375 720.685714 \r\n\" style=\"fill:none;stroke:#000000;stroke-linecap:square;stroke-linejoin:miter;stroke-width:0.8;\"/>\r\n   </g>\r\n   <g id=\"patch_150\">\r\n    <path d=\"M 897.132237 1238.4 \r\nL 1264.2375 1238.4 \r\n\" style=\"fill:none;stroke:#000000;stroke-linecap:square;stroke-linejoin:miter;stroke-width:0.8;\"/>\r\n   </g>\r\n   <g id=\"patch_151\">\r\n    <path d=\"M 897.132237 720.685714 \r\nL 1264.2375 720.685714 \r\n\" style=\"fill:none;stroke:#000000;stroke-linecap:square;stroke-linejoin:miter;stroke-width:0.8;\"/>\r\n   </g>\r\n   <g id=\"text_86\">\r\n    <!-- hospital beds per thousand for lowest gdp -->\r\n    <g transform=\"translate(953.934868 714.685714)scale(0.12 -0.12)\">\r\n     <use xlink:href=\"#DejaVuSans-68\"/>\r\n     <use x=\"63.378906\" xlink:href=\"#DejaVuSans-6f\"/>\r\n     <use x=\"124.560547\" xlink:href=\"#DejaVuSans-73\"/>\r\n     <use x=\"176.660156\" xlink:href=\"#DejaVuSans-70\"/>\r\n     <use x=\"240.136719\" xlink:href=\"#DejaVuSans-69\"/>\r\n     <use x=\"267.919922\" xlink:href=\"#DejaVuSans-74\"/>\r\n     <use x=\"307.128906\" xlink:href=\"#DejaVuSans-61\"/>\r\n     <use x=\"368.408203\" xlink:href=\"#DejaVuSans-6c\"/>\r\n     <use x=\"396.191406\" xlink:href=\"#DejaVuSans-20\"/>\r\n     <use x=\"427.978516\" xlink:href=\"#DejaVuSans-62\"/>\r\n     <use x=\"491.455078\" xlink:href=\"#DejaVuSans-65\"/>\r\n     <use x=\"552.978516\" xlink:href=\"#DejaVuSans-64\"/>\r\n     <use x=\"616.455078\" xlink:href=\"#DejaVuSans-73\"/>\r\n     <use x=\"668.554688\" xlink:href=\"#DejaVuSans-20\"/>\r\n     <use x=\"700.341797\" xlink:href=\"#DejaVuSans-70\"/>\r\n     <use x=\"763.818359\" xlink:href=\"#DejaVuSans-65\"/>\r\n     <use x=\"825.341797\" xlink:href=\"#DejaVuSans-72\"/>\r\n     <use x=\"866.455078\" xlink:href=\"#DejaVuSans-20\"/>\r\n     <use x=\"898.242188\" xlink:href=\"#DejaVuSans-74\"/>\r\n     <use x=\"937.451172\" xlink:href=\"#DejaVuSans-68\"/>\r\n     <use x=\"1000.830078\" xlink:href=\"#DejaVuSans-6f\"/>\r\n     <use x=\"1062.011719\" xlink:href=\"#DejaVuSans-75\"/>\r\n     <use x=\"1125.390625\" xlink:href=\"#DejaVuSans-73\"/>\r\n     <use x=\"1177.490234\" xlink:href=\"#DejaVuSans-61\"/>\r\n     <use x=\"1238.769531\" xlink:href=\"#DejaVuSans-6e\"/>\r\n     <use x=\"1302.148438\" xlink:href=\"#DejaVuSans-64\"/>\r\n     <use x=\"1365.625\" xlink:href=\"#DejaVuSans-20\"/>\r\n     <use x=\"1397.412109\" xlink:href=\"#DejaVuSans-66\"/>\r\n     <use x=\"1432.617188\" xlink:href=\"#DejaVuSans-6f\"/>\r\n     <use x=\"1493.798828\" xlink:href=\"#DejaVuSans-72\"/>\r\n     <use x=\"1534.912109\" xlink:href=\"#DejaVuSans-20\"/>\r\n     <use x=\"1566.699219\" xlink:href=\"#DejaVuSans-6c\"/>\r\n     <use x=\"1594.482422\" xlink:href=\"#DejaVuSans-6f\"/>\r\n     <use x=\"1655.664062\" xlink:href=\"#DejaVuSans-77\"/>\r\n     <use x=\"1737.451172\" xlink:href=\"#DejaVuSans-65\"/>\r\n     <use x=\"1798.974609\" xlink:href=\"#DejaVuSans-73\"/>\r\n     <use x=\"1851.074219\" xlink:href=\"#DejaVuSans-74\"/>\r\n     <use x=\"1890.283203\" xlink:href=\"#DejaVuSans-20\"/>\r\n     <use x=\"1922.070312\" xlink:href=\"#DejaVuSans-67\"/>\r\n     <use x=\"1985.546875\" xlink:href=\"#DejaVuSans-64\"/>\r\n     <use x=\"2049.023438\" xlink:href=\"#DejaVuSans-70\"/>\r\n    </g>\r\n   </g>\r\n   <g id=\"legend_1\">\r\n    <g id=\"patch_152\">\r\n     <path d=\"M 1253.2375 733.685714 \r\nL 1257.2375 733.685714 \r\nQ 1259.2375 733.685714 1259.2375 731.685714 \r\nL 1259.2375 727.685714 \r\nQ 1259.2375 725.685714 1257.2375 725.685714 \r\nL 1253.2375 725.685714 \r\nQ 1251.2375 725.685714 1251.2375 727.685714 \r\nL 1251.2375 731.685714 \r\nQ 1251.2375 733.685714 1253.2375 733.685714 \r\nz\r\n\" style=\"fill:#ffffff;opacity:0.8;stroke:#cccccc;stroke-linejoin:miter;\"/>\r\n    </g>\r\n   </g>\r\n  </g>\r\n  <g id=\"text_87\">\r\n   <!-- WORLD GDP PER CAPITA -->\r\n   <g transform=\"translate(614.278125 16.318125)scale(0.12 -0.12)\">\r\n    <defs>\r\n     <path d=\"M 213 4666 \r\nL 850 4666 \r\nL 1831 722 \r\nL 2809 4666 \r\nL 3519 4666 \r\nL 4500 722 \r\nL 5478 4666 \r\nL 6119 4666 \r\nL 4947 0 \r\nL 4153 0 \r\nL 3169 4050 \r\nL 2175 0 \r\nL 1381 0 \r\nL 213 4666 \r\nz\r\n\" id=\"DejaVuSans-57\" transform=\"scale(0.015625)\"/>\r\n     <path d=\"M 2522 4238 \r\nQ 1834 4238 1429 3725 \r\nQ 1025 3213 1025 2328 \r\nQ 1025 1447 1429 934 \r\nQ 1834 422 2522 422 \r\nQ 3209 422 3611 934 \r\nQ 4013 1447 4013 2328 \r\nQ 4013 3213 3611 3725 \r\nQ 3209 4238 2522 4238 \r\nz\r\nM 2522 4750 \r\nQ 3503 4750 4090 4092 \r\nQ 4678 3434 4678 2328 \r\nQ 4678 1225 4090 567 \r\nQ 3503 -91 2522 -91 \r\nQ 1538 -91 948 565 \r\nQ 359 1222 359 2328 \r\nQ 359 3434 948 4092 \r\nQ 1538 4750 2522 4750 \r\nz\r\n\" id=\"DejaVuSans-4f\" transform=\"scale(0.015625)\"/>\r\n     <path d=\"M 1259 4147 \r\nL 1259 519 \r\nL 2022 519 \r\nQ 2988 519 3436 956 \r\nQ 3884 1394 3884 2338 \r\nQ 3884 3275 3436 3711 \r\nQ 2988 4147 2022 4147 \r\nL 1259 4147 \r\nz\r\nM 628 4666 \r\nL 1925 4666 \r\nQ 3281 4666 3915 4102 \r\nQ 4550 3538 4550 2338 \r\nQ 4550 1131 3912 565 \r\nQ 3275 0 1925 0 \r\nL 628 0 \r\nL 628 4666 \r\nz\r\n\" id=\"DejaVuSans-44\" transform=\"scale(0.015625)\"/>\r\n    </defs>\r\n    <use xlink:href=\"#DejaVuSans-57\"/>\r\n    <use x=\"98.876953\" xlink:href=\"#DejaVuSans-4f\"/>\r\n    <use x=\"177.587891\" xlink:href=\"#DejaVuSans-52\"/>\r\n    <use x=\"247.070312\" xlink:href=\"#DejaVuSans-4c\"/>\r\n    <use x=\"302.783203\" xlink:href=\"#DejaVuSans-44\"/>\r\n    <use x=\"379.785156\" xlink:href=\"#DejaVuSans-20\"/>\r\n    <use x=\"411.572266\" xlink:href=\"#DejaVuSans-47\"/>\r\n    <use x=\"489.0625\" xlink:href=\"#DejaVuSans-44\"/>\r\n    <use x=\"566.064453\" xlink:href=\"#DejaVuSans-50\"/>\r\n    <use x=\"626.367188\" xlink:href=\"#DejaVuSans-20\"/>\r\n    <use x=\"658.154297\" xlink:href=\"#DejaVuSans-50\"/>\r\n    <use x=\"718.457031\" xlink:href=\"#DejaVuSans-45\"/>\r\n    <use x=\"781.640625\" xlink:href=\"#DejaVuSans-52\"/>\r\n    <use x=\"851.123047\" xlink:href=\"#DejaVuSans-20\"/>\r\n    <use x=\"882.910156\" xlink:href=\"#DejaVuSans-43\"/>\r\n    <use x=\"952.734375\" xlink:href=\"#DejaVuSans-41\"/>\r\n    <use x=\"1021.142578\" xlink:href=\"#DejaVuSans-50\"/>\r\n    <use x=\"1081.445312\" xlink:href=\"#DejaVuSans-49\"/>\r\n    <use x=\"1110.9375\" xlink:href=\"#DejaVuSans-54\"/>\r\n    <use x=\"1164.271484\" xlink:href=\"#DejaVuSans-41\"/>\r\n   </g>\r\n  </g>\r\n </g>\r\n <defs>\r\n  <clipPath id=\"p3dcf5b2004\">\r\n   <rect height=\"517.714286\" width=\"367.105263\" x=\"148.2375\" y=\"151.2\"/>\r\n  </clipPath>\r\n  <clipPath id=\"pd93db3f8e8\">\r\n   <rect height=\"517.714286\" width=\"367.105263\" x=\"522.684868\" y=\"151.2\"/>\r\n  </clipPath>\r\n  <clipPath id=\"pd60212aeec\">\r\n   <rect height=\"517.714286\" width=\"367.105263\" x=\"897.132237\" y=\"151.2\"/>\r\n  </clipPath>\r\n  <clipPath id=\"p9332954357\">\r\n   <rect height=\"517.714286\" width=\"367.105263\" x=\"148.2375\" y=\"720.685714\"/>\r\n  </clipPath>\r\n  <clipPath id=\"p8c61f03b66\">\r\n   <rect height=\"517.714286\" width=\"367.105263\" x=\"522.684868\" y=\"720.685714\"/>\r\n  </clipPath>\r\n  <clipPath id=\"p41573a3c3e\">\r\n   <rect height=\"517.714286\" width=\"367.105263\" x=\"897.132237\" y=\"720.685714\"/>\r\n  </clipPath>\r\n </defs>\r\n</svg>\r\n",
      "image/png": "[encoded data removed]"
     },
     "metadata": {
      "needs_background": "light"
     }
    }
   ],
   "source": [
    "visualizacion_cuatro(s_gdp_world, 'WORLD GDP PER CAPITA', \"gdp_per_capita\", \"deaths_ratio\", \"hospital_beds_per_thousand\", \"country\", \"highest gdp\", \"deaths ratio for highest gdp\", \"hospital beds per thousand for highest gdp\", \"lowest gdp\", \"deaths ratio for lowest gdp\", \"hospital beds per thousand for lowest gdp\", 20)"
   ]
  },
  {
   "cell_type": "code",
   "execution_count": 90,
   "metadata": {},
   "outputs": [
    {
     "output_type": "display_data",
     "data": {
      "text/plain": "<Figure size 1440x720 with 1 Axes>",
      "image/svg+xml": "<?xml version=\"1.0\" encoding=\"utf-8\" standalone=\"no\"?>\r\n<!DOCTYPE svg PUBLIC \"-//W3C//DTD SVG 1.1//EN\"\r\n  \"http://www.w3.org/Graphics/SVG/1.1/DTD/svg11.dtd\">\r\n<svg height=\"609.553125pt\" version=\"1.1\" viewBox=\"0 0 1189.53125 609.553125\" width=\"1189.53125pt\" xmlns=\"http://www.w3.org/2000/svg\" xmlns:xlink=\"http://www.w3.org/1999/xlink\">\r\n <metadata>\r\n  <rdf:RDF xmlns:cc=\"http://creativecommons.org/ns#\" xmlns:dc=\"http://purl.org/dc/elements/1.1/\" xmlns:rdf=\"http://www.w3.org/1999/02/22-rdf-syntax-ns#\">\r\n   <cc:Work>\r\n    <dc:type rdf:resource=\"http://purl.org/dc/dcmitype/StillImage\"/>\r\n    <dc:date>2021-06-01T15:02:05.486183</dc:date>\r\n    <dc:format>image/svg+xml</dc:format>\r\n    <dc:creator>\r\n     <cc:Agent>\r\n      <dc:title>Matplotlib v3.4.1, https://matplotlib.org/</dc:title>\r\n     </cc:Agent>\r\n    </dc:creator>\r\n   </cc:Work>\r\n  </rdf:RDF>\r\n </metadata>\r\n <defs>\r\n  <style type=\"text/css\">*{stroke-linecap:butt;stroke-linejoin:round;}</style>\r\n </defs>\r\n <g id=\"figure_1\">\r\n  <g id=\"patch_1\">\r\n   <path d=\"M 0 609.553125 \r\nL 1189.53125 609.553125 \r\nL 1189.53125 0 \r\nL 0 0 \r\nz\r\n\" style=\"fill:none;\"/>\r\n  </g>\r\n  <g id=\"axes_1\">\r\n   <g id=\"patch_2\">\r\n    <path d=\"M 66.33125 571.996875 \r\nL 1182.33125 571.996875 \r\nL 1182.33125 28.396875 \r\nL 66.33125 28.396875 \r\nz\r\n\" style=\"fill:#ffffff;\"/>\r\n   </g>\r\n   <g id=\"patch_3\">\r\n    <path clip-path=\"url(#pba9aeaf74f)\" d=\"M 84.93125 523.368326 \r\nL 233.73125 523.368326 \r\nL 233.73125 416.000915 \r\nL 84.93125 416.000915 \r\nL 84.93125 523.368326 \r\nz\r\n\" style=\"fill:#3274a1;stroke:#3d3d3d;stroke-linejoin:miter;stroke-width:1.5;\"/>\r\n   </g>\r\n   <g id=\"patch_4\">\r\n    <path clip-path=\"url(#pba9aeaf74f)\" d=\"M 270.93125 448.333783 \r\nL 419.73125 448.333783 \r\nL 419.73125 363.330557 \r\nL 270.93125 363.330557 \r\nL 270.93125 448.333783 \r\nz\r\n\" style=\"fill:#e1812c;stroke:#3d3d3d;stroke-linejoin:miter;stroke-width:1.5;\"/>\r\n   </g>\r\n   <g id=\"patch_5\">\r\n    <path clip-path=\"url(#pba9aeaf74f)\" d=\"M 456.93125 543.569455 \r\nL 605.73125 543.569455 \r\nL 605.73125 511.232393 \r\nL 456.93125 511.232393 \r\nL 456.93125 543.569455 \r\nz\r\n\" style=\"fill:#3a923a;stroke:#3d3d3d;stroke-linejoin:miter;stroke-width:1.5;\"/>\r\n   </g>\r\n   <g id=\"patch_6\">\r\n    <path clip-path=\"url(#pba9aeaf74f)\" d=\"M 642.93125 517.269145 \r\nL 791.73125 517.269145 \r\nL 791.73125 457.934092 \r\nL 642.93125 457.934092 \r\nL 642.93125 517.269145 \r\nz\r\n\" style=\"fill:#c03d3e;stroke:#3d3d3d;stroke-linejoin:miter;stroke-width:1.5;\"/>\r\n   </g>\r\n   <g id=\"patch_7\">\r\n    <path clip-path=\"url(#pba9aeaf74f)\" d=\"M 828.93125 506.988147 \r\nL 977.73125 506.988147 \r\nL 977.73125 476.603762 \r\nL 828.93125 476.603762 \r\nL 828.93125 506.988147 \r\nz\r\n\" style=\"fill:#9372b2;stroke:#3d3d3d;stroke-linejoin:miter;stroke-width:1.5;\"/>\r\n   </g>\r\n   <g id=\"patch_8\">\r\n    <path clip-path=\"url(#pba9aeaf74f)\" d=\"M 1014.93125 454.918865 \r\nL 1163.73125 454.918865 \r\nL 1163.73125 378.531738 \r\nL 1014.93125 378.531738 \r\nL 1014.93125 454.918865 \r\nz\r\n\" style=\"fill:#845b53;stroke:#3d3d3d;stroke-linejoin:miter;stroke-width:1.5;\"/>\r\n   </g>\r\n   <g id=\"matplotlib.axis_1\">\r\n    <g id=\"xtick_1\">\r\n     <g id=\"line2d_1\">\r\n      <defs>\r\n       <path d=\"M 0 0 \r\nL 0 3.5 \r\n\" id=\"m49270b803d\" style=\"stroke:#000000;stroke-width:0.8;\"/>\r\n      </defs>\r\n      <g>\r\n       <use style=\"stroke:#000000;stroke-width:0.8;\" x=\"159.33125\" xlink:href=\"#m49270b803d\" y=\"571.996875\"/>\r\n      </g>\r\n     </g>\r\n     <g id=\"text_1\">\r\n      <!-- Asia -->\r\n      <g transform=\"translate(148.853125 586.595312)scale(0.1 -0.1)\">\r\n       <defs>\r\n        <path d=\"M 2188 4044 \r\nL 1331 1722 \r\nL 3047 1722 \r\nL 2188 4044 \r\nz\r\nM 1831 4666 \r\nL 2547 4666 \r\nL 4325 0 \r\nL 3669 0 \r\nL 3244 1197 \r\nL 1141 1197 \r\nL 716 0 \r\nL 50 0 \r\nL 1831 4666 \r\nz\r\n\" id=\"DejaVuSans-41\" transform=\"scale(0.015625)\"/>\r\n        <path d=\"M 2834 3397 \r\nL 2834 2853 \r\nQ 2591 2978 2328 3040 \r\nQ 2066 3103 1784 3103 \r\nQ 1356 3103 1142 2972 \r\nQ 928 2841 928 2578 \r\nQ 928 2378 1081 2264 \r\nQ 1234 2150 1697 2047 \r\nL 1894 2003 \r\nQ 2506 1872 2764 1633 \r\nQ 3022 1394 3022 966 \r\nQ 3022 478 2636 193 \r\nQ 2250 -91 1575 -91 \r\nQ 1294 -91 989 -36 \r\nQ 684 19 347 128 \r\nL 347 722 \r\nQ 666 556 975 473 \r\nQ 1284 391 1588 391 \r\nQ 1994 391 2212 530 \r\nQ 2431 669 2431 922 \r\nQ 2431 1156 2273 1281 \r\nQ 2116 1406 1581 1522 \r\nL 1381 1569 \r\nQ 847 1681 609 1914 \r\nQ 372 2147 372 2553 \r\nQ 372 3047 722 3315 \r\nQ 1072 3584 1716 3584 \r\nQ 2034 3584 2315 3537 \r\nQ 2597 3491 2834 3397 \r\nz\r\n\" id=\"DejaVuSans-73\" transform=\"scale(0.015625)\"/>\r\n        <path d=\"M 603 3500 \r\nL 1178 3500 \r\nL 1178 0 \r\nL 603 0 \r\nL 603 3500 \r\nz\r\nM 603 4863 \r\nL 1178 4863 \r\nL 1178 4134 \r\nL 603 4134 \r\nL 603 4863 \r\nz\r\n\" id=\"DejaVuSans-69\" transform=\"scale(0.015625)\"/>\r\n        <path d=\"M 2194 1759 \r\nQ 1497 1759 1228 1600 \r\nQ 959 1441 959 1056 \r\nQ 959 750 1161 570 \r\nQ 1363 391 1709 391 \r\nQ 2188 391 2477 730 \r\nQ 2766 1069 2766 1631 \r\nL 2766 1759 \r\nL 2194 1759 \r\nz\r\nM 3341 1997 \r\nL 3341 0 \r\nL 2766 0 \r\nL 2766 531 \r\nQ 2569 213 2275 61 \r\nQ 1981 -91 1556 -91 \r\nQ 1019 -91 701 211 \r\nQ 384 513 384 1019 \r\nQ 384 1609 779 1909 \r\nQ 1175 2209 1959 2209 \r\nL 2766 2209 \r\nL 2766 2266 \r\nQ 2766 2663 2505 2880 \r\nQ 2244 3097 1772 3097 \r\nQ 1472 3097 1187 3025 \r\nQ 903 2953 641 2809 \r\nL 641 3341 \r\nQ 956 3463 1253 3523 \r\nQ 1550 3584 1831 3584 \r\nQ 2591 3584 2966 3190 \r\nQ 3341 2797 3341 1997 \r\nz\r\n\" id=\"DejaVuSans-61\" transform=\"scale(0.015625)\"/>\r\n       </defs>\r\n       <use xlink:href=\"#DejaVuSans-41\"/>\r\n       <use x=\"68.408203\" xlink:href=\"#DejaVuSans-73\"/>\r\n       <use x=\"120.507812\" xlink:href=\"#DejaVuSans-69\"/>\r\n       <use x=\"148.291016\" xlink:href=\"#DejaVuSans-61\"/>\r\n      </g>\r\n     </g>\r\n    </g>\r\n    <g id=\"xtick_2\">\r\n     <g id=\"line2d_2\">\r\n      <g>\r\n       <use style=\"stroke:#000000;stroke-width:0.8;\" x=\"345.33125\" xlink:href=\"#m49270b803d\" y=\"571.996875\"/>\r\n      </g>\r\n     </g>\r\n     <g id=\"text_2\">\r\n      <!-- Europe -->\r\n      <g transform=\"translate(327.75 586.595312)scale(0.1 -0.1)\">\r\n       <defs>\r\n        <path d=\"M 628 4666 \r\nL 3578 4666 \r\nL 3578 4134 \r\nL 1259 4134 \r\nL 1259 2753 \r\nL 3481 2753 \r\nL 3481 2222 \r\nL 1259 2222 \r\nL 1259 531 \r\nL 3634 531 \r\nL 3634 0 \r\nL 628 0 \r\nL 628 4666 \r\nz\r\n\" id=\"DejaVuSans-45\" transform=\"scale(0.015625)\"/>\r\n        <path d=\"M 544 1381 \r\nL 544 3500 \r\nL 1119 3500 \r\nL 1119 1403 \r\nQ 1119 906 1312 657 \r\nQ 1506 409 1894 409 \r\nQ 2359 409 2629 706 \r\nQ 2900 1003 2900 1516 \r\nL 2900 3500 \r\nL 3475 3500 \r\nL 3475 0 \r\nL 2900 0 \r\nL 2900 538 \r\nQ 2691 219 2414 64 \r\nQ 2138 -91 1772 -91 \r\nQ 1169 -91 856 284 \r\nQ 544 659 544 1381 \r\nz\r\nM 1991 3584 \r\nL 1991 3584 \r\nz\r\n\" id=\"DejaVuSans-75\" transform=\"scale(0.015625)\"/>\r\n        <path d=\"M 2631 2963 \r\nQ 2534 3019 2420 3045 \r\nQ 2306 3072 2169 3072 \r\nQ 1681 3072 1420 2755 \r\nQ 1159 2438 1159 1844 \r\nL 1159 0 \r\nL 581 0 \r\nL 581 3500 \r\nL 1159 3500 \r\nL 1159 2956 \r\nQ 1341 3275 1631 3429 \r\nQ 1922 3584 2338 3584 \r\nQ 2397 3584 2469 3576 \r\nQ 2541 3569 2628 3553 \r\nL 2631 2963 \r\nz\r\n\" id=\"DejaVuSans-72\" transform=\"scale(0.015625)\"/>\r\n        <path d=\"M 1959 3097 \r\nQ 1497 3097 1228 2736 \r\nQ 959 2375 959 1747 \r\nQ 959 1119 1226 758 \r\nQ 1494 397 1959 397 \r\nQ 2419 397 2687 759 \r\nQ 2956 1122 2956 1747 \r\nQ 2956 2369 2687 2733 \r\nQ 2419 3097 1959 3097 \r\nz\r\nM 1959 3584 \r\nQ 2709 3584 3137 3096 \r\nQ 3566 2609 3566 1747 \r\nQ 3566 888 3137 398 \r\nQ 2709 -91 1959 -91 \r\nQ 1206 -91 779 398 \r\nQ 353 888 353 1747 \r\nQ 353 2609 779 3096 \r\nQ 1206 3584 1959 3584 \r\nz\r\n\" id=\"DejaVuSans-6f\" transform=\"scale(0.015625)\"/>\r\n        <path d=\"M 1159 525 \r\nL 1159 -1331 \r\nL 581 -1331 \r\nL 581 3500 \r\nL 1159 3500 \r\nL 1159 2969 \r\nQ 1341 3281 1617 3432 \r\nQ 1894 3584 2278 3584 \r\nQ 2916 3584 3314 3078 \r\nQ 3713 2572 3713 1747 \r\nQ 3713 922 3314 415 \r\nQ 2916 -91 2278 -91 \r\nQ 1894 -91 1617 61 \r\nQ 1341 213 1159 525 \r\nz\r\nM 3116 1747 \r\nQ 3116 2381 2855 2742 \r\nQ 2594 3103 2138 3103 \r\nQ 1681 3103 1420 2742 \r\nQ 1159 2381 1159 1747 \r\nQ 1159 1113 1420 752 \r\nQ 1681 391 2138 391 \r\nQ 2594 391 2855 752 \r\nQ 3116 1113 3116 1747 \r\nz\r\n\" id=\"DejaVuSans-70\" transform=\"scale(0.015625)\"/>\r\n        <path d=\"M 3597 1894 \r\nL 3597 1613 \r\nL 953 1613 \r\nQ 991 1019 1311 708 \r\nQ 1631 397 2203 397 \r\nQ 2534 397 2845 478 \r\nQ 3156 559 3463 722 \r\nL 3463 178 \r\nQ 3153 47 2828 -22 \r\nQ 2503 -91 2169 -91 \r\nQ 1331 -91 842 396 \r\nQ 353 884 353 1716 \r\nQ 353 2575 817 3079 \r\nQ 1281 3584 2069 3584 \r\nQ 2775 3584 3186 3129 \r\nQ 3597 2675 3597 1894 \r\nz\r\nM 3022 2063 \r\nQ 3016 2534 2758 2815 \r\nQ 2500 3097 2075 3097 \r\nQ 1594 3097 1305 2825 \r\nQ 1016 2553 972 2059 \r\nL 3022 2063 \r\nz\r\n\" id=\"DejaVuSans-65\" transform=\"scale(0.015625)\"/>\r\n       </defs>\r\n       <use xlink:href=\"#DejaVuSans-45\"/>\r\n       <use x=\"63.183594\" xlink:href=\"#DejaVuSans-75\"/>\r\n       <use x=\"126.5625\" xlink:href=\"#DejaVuSans-72\"/>\r\n       <use x=\"165.425781\" xlink:href=\"#DejaVuSans-6f\"/>\r\n       <use x=\"226.607422\" xlink:href=\"#DejaVuSans-70\"/>\r\n       <use x=\"290.083984\" xlink:href=\"#DejaVuSans-65\"/>\r\n      </g>\r\n     </g>\r\n    </g>\r\n    <g id=\"xtick_3\">\r\n     <g id=\"line2d_3\">\r\n      <g>\r\n       <use style=\"stroke:#000000;stroke-width:0.8;\" x=\"531.33125\" xlink:href=\"#m49270b803d\" y=\"571.996875\"/>\r\n      </g>\r\n     </g>\r\n     <g id=\"text_3\">\r\n      <!-- Africa -->\r\n      <g transform=\"translate(517.074219 586.595312)scale(0.1 -0.1)\">\r\n       <defs>\r\n        <path d=\"M 2375 4863 \r\nL 2375 4384 \r\nL 1825 4384 \r\nQ 1516 4384 1395 4259 \r\nQ 1275 4134 1275 3809 \r\nL 1275 3500 \r\nL 2222 3500 \r\nL 2222 3053 \r\nL 1275 3053 \r\nL 1275 0 \r\nL 697 0 \r\nL 697 3053 \r\nL 147 3053 \r\nL 147 3500 \r\nL 697 3500 \r\nL 697 3744 \r\nQ 697 4328 969 4595 \r\nQ 1241 4863 1831 4863 \r\nL 2375 4863 \r\nz\r\n\" id=\"DejaVuSans-66\" transform=\"scale(0.015625)\"/>\r\n        <path d=\"M 3122 3366 \r\nL 3122 2828 \r\nQ 2878 2963 2633 3030 \r\nQ 2388 3097 2138 3097 \r\nQ 1578 3097 1268 2742 \r\nQ 959 2388 959 1747 \r\nQ 959 1106 1268 751 \r\nQ 1578 397 2138 397 \r\nQ 2388 397 2633 464 \r\nQ 2878 531 3122 666 \r\nL 3122 134 \r\nQ 2881 22 2623 -34 \r\nQ 2366 -91 2075 -91 \r\nQ 1284 -91 818 406 \r\nQ 353 903 353 1747 \r\nQ 353 2603 823 3093 \r\nQ 1294 3584 2113 3584 \r\nQ 2378 3584 2631 3529 \r\nQ 2884 3475 3122 3366 \r\nz\r\n\" id=\"DejaVuSans-63\" transform=\"scale(0.015625)\"/>\r\n       </defs>\r\n       <use xlink:href=\"#DejaVuSans-41\"/>\r\n       <use x=\"64.783203\" xlink:href=\"#DejaVuSans-66\"/>\r\n       <use x=\"99.988281\" xlink:href=\"#DejaVuSans-72\"/>\r\n       <use x=\"141.101562\" xlink:href=\"#DejaVuSans-69\"/>\r\n       <use x=\"168.884766\" xlink:href=\"#DejaVuSans-63\"/>\r\n       <use x=\"223.865234\" xlink:href=\"#DejaVuSans-61\"/>\r\n      </g>\r\n     </g>\r\n    </g>\r\n    <g id=\"xtick_4\">\r\n     <g id=\"line2d_4\">\r\n      <g>\r\n       <use style=\"stroke:#000000;stroke-width:0.8;\" x=\"717.33125\" xlink:href=\"#m49270b803d\" y=\"571.996875\"/>\r\n      </g>\r\n     </g>\r\n     <g id=\"text_4\">\r\n      <!-- North America -->\r\n      <g transform=\"translate(681.132812 586.595312)scale(0.1 -0.1)\">\r\n       <defs>\r\n        <path d=\"M 628 4666 \r\nL 1478 4666 \r\nL 3547 763 \r\nL 3547 4666 \r\nL 4159 4666 \r\nL 4159 0 \r\nL 3309 0 \r\nL 1241 3903 \r\nL 1241 0 \r\nL 628 0 \r\nL 628 4666 \r\nz\r\n\" id=\"DejaVuSans-4e\" transform=\"scale(0.015625)\"/>\r\n        <path d=\"M 1172 4494 \r\nL 1172 3500 \r\nL 2356 3500 \r\nL 2356 3053 \r\nL 1172 3053 \r\nL 1172 1153 \r\nQ 1172 725 1289 603 \r\nQ 1406 481 1766 481 \r\nL 2356 481 \r\nL 2356 0 \r\nL 1766 0 \r\nQ 1100 0 847 248 \r\nQ 594 497 594 1153 \r\nL 594 3053 \r\nL 172 3053 \r\nL 172 3500 \r\nL 594 3500 \r\nL 594 4494 \r\nL 1172 4494 \r\nz\r\n\" id=\"DejaVuSans-74\" transform=\"scale(0.015625)\"/>\r\n        <path d=\"M 3513 2113 \r\nL 3513 0 \r\nL 2938 0 \r\nL 2938 2094 \r\nQ 2938 2591 2744 2837 \r\nQ 2550 3084 2163 3084 \r\nQ 1697 3084 1428 2787 \r\nQ 1159 2491 1159 1978 \r\nL 1159 0 \r\nL 581 0 \r\nL 581 4863 \r\nL 1159 4863 \r\nL 1159 2956 \r\nQ 1366 3272 1645 3428 \r\nQ 1925 3584 2291 3584 \r\nQ 2894 3584 3203 3211 \r\nQ 3513 2838 3513 2113 \r\nz\r\n\" id=\"DejaVuSans-68\" transform=\"scale(0.015625)\"/>\r\n        <path id=\"DejaVuSans-20\" transform=\"scale(0.015625)\"/>\r\n        <path d=\"M 3328 2828 \r\nQ 3544 3216 3844 3400 \r\nQ 4144 3584 4550 3584 \r\nQ 5097 3584 5394 3201 \r\nQ 5691 2819 5691 2113 \r\nL 5691 0 \r\nL 5113 0 \r\nL 5113 2094 \r\nQ 5113 2597 4934 2840 \r\nQ 4756 3084 4391 3084 \r\nQ 3944 3084 3684 2787 \r\nQ 3425 2491 3425 1978 \r\nL 3425 0 \r\nL 2847 0 \r\nL 2847 2094 \r\nQ 2847 2600 2669 2842 \r\nQ 2491 3084 2119 3084 \r\nQ 1678 3084 1418 2786 \r\nQ 1159 2488 1159 1978 \r\nL 1159 0 \r\nL 581 0 \r\nL 581 3500 \r\nL 1159 3500 \r\nL 1159 2956 \r\nQ 1356 3278 1631 3431 \r\nQ 1906 3584 2284 3584 \r\nQ 2666 3584 2933 3390 \r\nQ 3200 3197 3328 2828 \r\nz\r\n\" id=\"DejaVuSans-6d\" transform=\"scale(0.015625)\"/>\r\n       </defs>\r\n       <use xlink:href=\"#DejaVuSans-4e\"/>\r\n       <use x=\"74.804688\" xlink:href=\"#DejaVuSans-6f\"/>\r\n       <use x=\"135.986328\" xlink:href=\"#DejaVuSans-72\"/>\r\n       <use x=\"177.099609\" xlink:href=\"#DejaVuSans-74\"/>\r\n       <use x=\"216.308594\" xlink:href=\"#DejaVuSans-68\"/>\r\n       <use x=\"279.6875\" xlink:href=\"#DejaVuSans-20\"/>\r\n       <use x=\"311.474609\" xlink:href=\"#DejaVuSans-41\"/>\r\n       <use x=\"379.882812\" xlink:href=\"#DejaVuSans-6d\"/>\r\n       <use x=\"477.294922\" xlink:href=\"#DejaVuSans-65\"/>\r\n       <use x=\"538.818359\" xlink:href=\"#DejaVuSans-72\"/>\r\n       <use x=\"579.931641\" xlink:href=\"#DejaVuSans-69\"/>\r\n       <use x=\"607.714844\" xlink:href=\"#DejaVuSans-63\"/>\r\n       <use x=\"662.695312\" xlink:href=\"#DejaVuSans-61\"/>\r\n      </g>\r\n     </g>\r\n    </g>\r\n    <g id=\"xtick_5\">\r\n     <g id=\"line2d_5\">\r\n      <g>\r\n       <use style=\"stroke:#000000;stroke-width:0.8;\" x=\"903.33125\" xlink:href=\"#m49270b803d\" y=\"571.996875\"/>\r\n      </g>\r\n     </g>\r\n     <g id=\"text_5\">\r\n      <!-- South America -->\r\n      <g transform=\"translate(866.585938 586.595312)scale(0.1 -0.1)\">\r\n       <defs>\r\n        <path d=\"M 3425 4513 \r\nL 3425 3897 \r\nQ 3066 4069 2747 4153 \r\nQ 2428 4238 2131 4238 \r\nQ 1616 4238 1336 4038 \r\nQ 1056 3838 1056 3469 \r\nQ 1056 3159 1242 3001 \r\nQ 1428 2844 1947 2747 \r\nL 2328 2669 \r\nQ 3034 2534 3370 2195 \r\nQ 3706 1856 3706 1288 \r\nQ 3706 609 3251 259 \r\nQ 2797 -91 1919 -91 \r\nQ 1588 -91 1214 -16 \r\nQ 841 59 441 206 \r\nL 441 856 \r\nQ 825 641 1194 531 \r\nQ 1563 422 1919 422 \r\nQ 2459 422 2753 634 \r\nQ 3047 847 3047 1241 \r\nQ 3047 1584 2836 1778 \r\nQ 2625 1972 2144 2069 \r\nL 1759 2144 \r\nQ 1053 2284 737 2584 \r\nQ 422 2884 422 3419 \r\nQ 422 4038 858 4394 \r\nQ 1294 4750 2059 4750 \r\nQ 2388 4750 2728 4690 \r\nQ 3069 4631 3425 4513 \r\nz\r\n\" id=\"DejaVuSans-53\" transform=\"scale(0.015625)\"/>\r\n       </defs>\r\n       <use xlink:href=\"#DejaVuSans-53\"/>\r\n       <use x=\"63.476562\" xlink:href=\"#DejaVuSans-6f\"/>\r\n       <use x=\"124.658203\" xlink:href=\"#DejaVuSans-75\"/>\r\n       <use x=\"188.037109\" xlink:href=\"#DejaVuSans-74\"/>\r\n       <use x=\"227.246094\" xlink:href=\"#DejaVuSans-68\"/>\r\n       <use x=\"290.625\" xlink:href=\"#DejaVuSans-20\"/>\r\n       <use x=\"322.412109\" xlink:href=\"#DejaVuSans-41\"/>\r\n       <use x=\"390.820312\" xlink:href=\"#DejaVuSans-6d\"/>\r\n       <use x=\"488.232422\" xlink:href=\"#DejaVuSans-65\"/>\r\n       <use x=\"549.755859\" xlink:href=\"#DejaVuSans-72\"/>\r\n       <use x=\"590.869141\" xlink:href=\"#DejaVuSans-69\"/>\r\n       <use x=\"618.652344\" xlink:href=\"#DejaVuSans-63\"/>\r\n       <use x=\"673.632812\" xlink:href=\"#DejaVuSans-61\"/>\r\n      </g>\r\n     </g>\r\n    </g>\r\n    <g id=\"xtick_6\">\r\n     <g id=\"line2d_6\">\r\n      <g>\r\n       <use style=\"stroke:#000000;stroke-width:0.8;\" x=\"1089.33125\" xlink:href=\"#m49270b803d\" y=\"571.996875\"/>\r\n      </g>\r\n     </g>\r\n     <g id=\"text_6\">\r\n      <!-- Oceania -->\r\n      <g transform=\"translate(1068.883594 586.595312)scale(0.1 -0.1)\">\r\n       <defs>\r\n        <path d=\"M 2522 4238 \r\nQ 1834 4238 1429 3725 \r\nQ 1025 3213 1025 2328 \r\nQ 1025 1447 1429 934 \r\nQ 1834 422 2522 422 \r\nQ 3209 422 3611 934 \r\nQ 4013 1447 4013 2328 \r\nQ 4013 3213 3611 3725 \r\nQ 3209 4238 2522 4238 \r\nz\r\nM 2522 4750 \r\nQ 3503 4750 4090 4092 \r\nQ 4678 3434 4678 2328 \r\nQ 4678 1225 4090 567 \r\nQ 3503 -91 2522 -91 \r\nQ 1538 -91 948 565 \r\nQ 359 1222 359 2328 \r\nQ 359 3434 948 4092 \r\nQ 1538 4750 2522 4750 \r\nz\r\n\" id=\"DejaVuSans-4f\" transform=\"scale(0.015625)\"/>\r\n        <path d=\"M 3513 2113 \r\nL 3513 0 \r\nL 2938 0 \r\nL 2938 2094 \r\nQ 2938 2591 2744 2837 \r\nQ 2550 3084 2163 3084 \r\nQ 1697 3084 1428 2787 \r\nQ 1159 2491 1159 1978 \r\nL 1159 0 \r\nL 581 0 \r\nL 581 3500 \r\nL 1159 3500 \r\nL 1159 2956 \r\nQ 1366 3272 1645 3428 \r\nQ 1925 3584 2291 3584 \r\nQ 2894 3584 3203 3211 \r\nQ 3513 2838 3513 2113 \r\nz\r\n\" id=\"DejaVuSans-6e\" transform=\"scale(0.015625)\"/>\r\n       </defs>\r\n       <use xlink:href=\"#DejaVuSans-4f\"/>\r\n       <use x=\"78.710938\" xlink:href=\"#DejaVuSans-63\"/>\r\n       <use x=\"133.691406\" xlink:href=\"#DejaVuSans-65\"/>\r\n       <use x=\"195.214844\" xlink:href=\"#DejaVuSans-61\"/>\r\n       <use x=\"256.494141\" xlink:href=\"#DejaVuSans-6e\"/>\r\n       <use x=\"319.873047\" xlink:href=\"#DejaVuSans-69\"/>\r\n       <use x=\"347.65625\" xlink:href=\"#DejaVuSans-61\"/>\r\n      </g>\r\n     </g>\r\n    </g>\r\n    <g id=\"text_7\">\r\n     <!-- continent -->\r\n     <g transform=\"translate(600.630469 600.273437)scale(0.1 -0.1)\">\r\n      <use xlink:href=\"#DejaVuSans-63\"/>\r\n      <use x=\"54.980469\" xlink:href=\"#DejaVuSans-6f\"/>\r\n      <use x=\"116.162109\" xlink:href=\"#DejaVuSans-6e\"/>\r\n      <use x=\"179.541016\" xlink:href=\"#DejaVuSans-74\"/>\r\n      <use x=\"218.75\" xlink:href=\"#DejaVuSans-69\"/>\r\n      <use x=\"246.533203\" xlink:href=\"#DejaVuSans-6e\"/>\r\n      <use x=\"309.912109\" xlink:href=\"#DejaVuSans-65\"/>\r\n      <use x=\"371.435547\" xlink:href=\"#DejaVuSans-6e\"/>\r\n      <use x=\"434.814453\" xlink:href=\"#DejaVuSans-74\"/>\r\n     </g>\r\n    </g>\r\n   </g>\r\n   <g id=\"matplotlib.axis_2\">\r\n    <g id=\"ytick_1\">\r\n     <g id=\"line2d_7\">\r\n      <defs>\r\n       <path d=\"M 0 0 \r\nL -3.5 0 \r\n\" id=\"m84d6a3f117\" style=\"stroke:#000000;stroke-width:0.8;\"/>\r\n      </defs>\r\n      <g>\r\n       <use style=\"stroke:#000000;stroke-width:0.8;\" x=\"66.33125\" xlink:href=\"#m84d6a3f117\" y=\"550.098144\"/>\r\n      </g>\r\n     </g>\r\n     <g id=\"text_8\">\r\n      <!-- 0 -->\r\n      <g transform=\"translate(52.96875 553.897363)scale(0.1 -0.1)\">\r\n       <defs>\r\n        <path d=\"M 2034 4250 \r\nQ 1547 4250 1301 3770 \r\nQ 1056 3291 1056 2328 \r\nQ 1056 1369 1301 889 \r\nQ 1547 409 2034 409 \r\nQ 2525 409 2770 889 \r\nQ 3016 1369 3016 2328 \r\nQ 3016 3291 2770 3770 \r\nQ 2525 4250 2034 4250 \r\nz\r\nM 2034 4750 \r\nQ 2819 4750 3233 4129 \r\nQ 3647 3509 3647 2328 \r\nQ 3647 1150 3233 529 \r\nQ 2819 -91 2034 -91 \r\nQ 1250 -91 836 529 \r\nQ 422 1150 422 2328 \r\nQ 422 3509 836 4129 \r\nQ 1250 4750 2034 4750 \r\nz\r\n\" id=\"DejaVuSans-30\" transform=\"scale(0.015625)\"/>\r\n       </defs>\r\n       <use xlink:href=\"#DejaVuSans-30\"/>\r\n      </g>\r\n     </g>\r\n    </g>\r\n    <g id=\"ytick_2\">\r\n     <g id=\"line2d_8\">\r\n      <g>\r\n       <use style=\"stroke:#000000;stroke-width:0.8;\" x=\"66.33125\" xlink:href=\"#m84d6a3f117\" y=\"465.095428\"/>\r\n      </g>\r\n     </g>\r\n     <g id=\"text_9\">\r\n      <!-- 20000 -->\r\n      <g transform=\"translate(27.51875 468.894647)scale(0.1 -0.1)\">\r\n       <defs>\r\n        <path d=\"M 1228 531 \r\nL 3431 531 \r\nL 3431 0 \r\nL 469 0 \r\nL 469 531 \r\nQ 828 903 1448 1529 \r\nQ 2069 2156 2228 2338 \r\nQ 2531 2678 2651 2914 \r\nQ 2772 3150 2772 3378 \r\nQ 2772 3750 2511 3984 \r\nQ 2250 4219 1831 4219 \r\nQ 1534 4219 1204 4116 \r\nQ 875 4013 500 3803 \r\nL 500 4441 \r\nQ 881 4594 1212 4672 \r\nQ 1544 4750 1819 4750 \r\nQ 2544 4750 2975 4387 \r\nQ 3406 4025 3406 3419 \r\nQ 3406 3131 3298 2873 \r\nQ 3191 2616 2906 2266 \r\nQ 2828 2175 2409 1742 \r\nQ 1991 1309 1228 531 \r\nz\r\n\" id=\"DejaVuSans-32\" transform=\"scale(0.015625)\"/>\r\n       </defs>\r\n       <use xlink:href=\"#DejaVuSans-32\"/>\r\n       <use x=\"63.623047\" xlink:href=\"#DejaVuSans-30\"/>\r\n       <use x=\"127.246094\" xlink:href=\"#DejaVuSans-30\"/>\r\n       <use x=\"190.869141\" xlink:href=\"#DejaVuSans-30\"/>\r\n       <use x=\"254.492188\" xlink:href=\"#DejaVuSans-30\"/>\r\n      </g>\r\n     </g>\r\n    </g>\r\n    <g id=\"ytick_3\">\r\n     <g id=\"line2d_9\">\r\n      <g>\r\n       <use style=\"stroke:#000000;stroke-width:0.8;\" x=\"66.33125\" xlink:href=\"#m84d6a3f117\" y=\"380.092713\"/>\r\n      </g>\r\n     </g>\r\n     <g id=\"text_10\">\r\n      <!-- 40000 -->\r\n      <g transform=\"translate(27.51875 383.891931)scale(0.1 -0.1)\">\r\n       <defs>\r\n        <path d=\"M 2419 4116 \r\nL 825 1625 \r\nL 2419 1625 \r\nL 2419 4116 \r\nz\r\nM 2253 4666 \r\nL 3047 4666 \r\nL 3047 1625 \r\nL 3713 1625 \r\nL 3713 1100 \r\nL 3047 1100 \r\nL 3047 0 \r\nL 2419 0 \r\nL 2419 1100 \r\nL 313 1100 \r\nL 313 1709 \r\nL 2253 4666 \r\nz\r\n\" id=\"DejaVuSans-34\" transform=\"scale(0.015625)\"/>\r\n       </defs>\r\n       <use xlink:href=\"#DejaVuSans-34\"/>\r\n       <use x=\"63.623047\" xlink:href=\"#DejaVuSans-30\"/>\r\n       <use x=\"127.246094\" xlink:href=\"#DejaVuSans-30\"/>\r\n       <use x=\"190.869141\" xlink:href=\"#DejaVuSans-30\"/>\r\n       <use x=\"254.492188\" xlink:href=\"#DejaVuSans-30\"/>\r\n      </g>\r\n     </g>\r\n    </g>\r\n    <g id=\"ytick_4\">\r\n     <g id=\"line2d_10\">\r\n      <g>\r\n       <use style=\"stroke:#000000;stroke-width:0.8;\" x=\"66.33125\" xlink:href=\"#m84d6a3f117\" y=\"295.089997\"/>\r\n      </g>\r\n     </g>\r\n     <g id=\"text_11\">\r\n      <!-- 60000 -->\r\n      <g transform=\"translate(27.51875 298.889216)scale(0.1 -0.1)\">\r\n       <defs>\r\n        <path d=\"M 2113 2584 \r\nQ 1688 2584 1439 2293 \r\nQ 1191 2003 1191 1497 \r\nQ 1191 994 1439 701 \r\nQ 1688 409 2113 409 \r\nQ 2538 409 2786 701 \r\nQ 3034 994 3034 1497 \r\nQ 3034 2003 2786 2293 \r\nQ 2538 2584 2113 2584 \r\nz\r\nM 3366 4563 \r\nL 3366 3988 \r\nQ 3128 4100 2886 4159 \r\nQ 2644 4219 2406 4219 \r\nQ 1781 4219 1451 3797 \r\nQ 1122 3375 1075 2522 \r\nQ 1259 2794 1537 2939 \r\nQ 1816 3084 2150 3084 \r\nQ 2853 3084 3261 2657 \r\nQ 3669 2231 3669 1497 \r\nQ 3669 778 3244 343 \r\nQ 2819 -91 2113 -91 \r\nQ 1303 -91 875 529 \r\nQ 447 1150 447 2328 \r\nQ 447 3434 972 4092 \r\nQ 1497 4750 2381 4750 \r\nQ 2619 4750 2861 4703 \r\nQ 3103 4656 3366 4563 \r\nz\r\n\" id=\"DejaVuSans-36\" transform=\"scale(0.015625)\"/>\r\n       </defs>\r\n       <use xlink:href=\"#DejaVuSans-36\"/>\r\n       <use x=\"63.623047\" xlink:href=\"#DejaVuSans-30\"/>\r\n       <use x=\"127.246094\" xlink:href=\"#DejaVuSans-30\"/>\r\n       <use x=\"190.869141\" xlink:href=\"#DejaVuSans-30\"/>\r\n       <use x=\"254.492188\" xlink:href=\"#DejaVuSans-30\"/>\r\n      </g>\r\n     </g>\r\n    </g>\r\n    <g id=\"ytick_5\">\r\n     <g id=\"line2d_11\">\r\n      <g>\r\n       <use style=\"stroke:#000000;stroke-width:0.8;\" x=\"66.33125\" xlink:href=\"#m84d6a3f117\" y=\"210.087281\"/>\r\n      </g>\r\n     </g>\r\n     <g id=\"text_12\">\r\n      <!-- 80000 -->\r\n      <g transform=\"translate(27.51875 213.8865)scale(0.1 -0.1)\">\r\n       <defs>\r\n        <path d=\"M 2034 2216 \r\nQ 1584 2216 1326 1975 \r\nQ 1069 1734 1069 1313 \r\nQ 1069 891 1326 650 \r\nQ 1584 409 2034 409 \r\nQ 2484 409 2743 651 \r\nQ 3003 894 3003 1313 \r\nQ 3003 1734 2745 1975 \r\nQ 2488 2216 2034 2216 \r\nz\r\nM 1403 2484 \r\nQ 997 2584 770 2862 \r\nQ 544 3141 544 3541 \r\nQ 544 4100 942 4425 \r\nQ 1341 4750 2034 4750 \r\nQ 2731 4750 3128 4425 \r\nQ 3525 4100 3525 3541 \r\nQ 3525 3141 3298 2862 \r\nQ 3072 2584 2669 2484 \r\nQ 3125 2378 3379 2068 \r\nQ 3634 1759 3634 1313 \r\nQ 3634 634 3220 271 \r\nQ 2806 -91 2034 -91 \r\nQ 1263 -91 848 271 \r\nQ 434 634 434 1313 \r\nQ 434 1759 690 2068 \r\nQ 947 2378 1403 2484 \r\nz\r\nM 1172 3481 \r\nQ 1172 3119 1398 2916 \r\nQ 1625 2713 2034 2713 \r\nQ 2441 2713 2670 2916 \r\nQ 2900 3119 2900 3481 \r\nQ 2900 3844 2670 4047 \r\nQ 2441 4250 2034 4250 \r\nQ 1625 4250 1398 4047 \r\nQ 1172 3844 1172 3481 \r\nz\r\n\" id=\"DejaVuSans-38\" transform=\"scale(0.015625)\"/>\r\n       </defs>\r\n       <use xlink:href=\"#DejaVuSans-38\"/>\r\n       <use x=\"63.623047\" xlink:href=\"#DejaVuSans-30\"/>\r\n       <use x=\"127.246094\" xlink:href=\"#DejaVuSans-30\"/>\r\n       <use x=\"190.869141\" xlink:href=\"#DejaVuSans-30\"/>\r\n       <use x=\"254.492188\" xlink:href=\"#DejaVuSans-30\"/>\r\n      </g>\r\n     </g>\r\n    </g>\r\n    <g id=\"ytick_6\">\r\n     <g id=\"line2d_12\">\r\n      <g>\r\n       <use style=\"stroke:#000000;stroke-width:0.8;\" x=\"66.33125\" xlink:href=\"#m84d6a3f117\" y=\"125.084565\"/>\r\n      </g>\r\n     </g>\r\n     <g id=\"text_13\">\r\n      <!-- 100000 -->\r\n      <g transform=\"translate(21.15625 128.883784)scale(0.1 -0.1)\">\r\n       <defs>\r\n        <path d=\"M 794 531 \r\nL 1825 531 \r\nL 1825 4091 \r\nL 703 3866 \r\nL 703 4441 \r\nL 1819 4666 \r\nL 2450 4666 \r\nL 2450 531 \r\nL 3481 531 \r\nL 3481 0 \r\nL 794 0 \r\nL 794 531 \r\nz\r\n\" id=\"DejaVuSans-31\" transform=\"scale(0.015625)\"/>\r\n       </defs>\r\n       <use xlink:href=\"#DejaVuSans-31\"/>\r\n       <use x=\"63.623047\" xlink:href=\"#DejaVuSans-30\"/>\r\n       <use x=\"127.246094\" xlink:href=\"#DejaVuSans-30\"/>\r\n       <use x=\"190.869141\" xlink:href=\"#DejaVuSans-30\"/>\r\n       <use x=\"254.492188\" xlink:href=\"#DejaVuSans-30\"/>\r\n       <use x=\"318.115234\" xlink:href=\"#DejaVuSans-30\"/>\r\n      </g>\r\n     </g>\r\n    </g>\r\n    <g id=\"ytick_7\">\r\n     <g id=\"line2d_13\">\r\n      <g>\r\n       <use style=\"stroke:#000000;stroke-width:0.8;\" x=\"66.33125\" xlink:href=\"#m84d6a3f117\" y=\"40.08185\"/>\r\n      </g>\r\n     </g>\r\n     <g id=\"text_14\">\r\n      <!-- 120000 -->\r\n      <g transform=\"translate(21.15625 43.881069)scale(0.1 -0.1)\">\r\n       <use xlink:href=\"#DejaVuSans-31\"/>\r\n       <use x=\"63.623047\" xlink:href=\"#DejaVuSans-32\"/>\r\n       <use x=\"127.246094\" xlink:href=\"#DejaVuSans-30\"/>\r\n       <use x=\"190.869141\" xlink:href=\"#DejaVuSans-30\"/>\r\n       <use x=\"254.492188\" xlink:href=\"#DejaVuSans-30\"/>\r\n       <use x=\"318.115234\" xlink:href=\"#DejaVuSans-30\"/>\r\n      </g>\r\n     </g>\r\n    </g>\r\n    <g id=\"text_15\">\r\n     <!-- gdp_per_capita -->\r\n     <g transform=\"translate(14.798438 338.426562)rotate(-90)scale(0.1 -0.1)\">\r\n      <defs>\r\n       <path d=\"M 2906 1791 \r\nQ 2906 2416 2648 2759 \r\nQ 2391 3103 1925 3103 \r\nQ 1463 3103 1205 2759 \r\nQ 947 2416 947 1791 \r\nQ 947 1169 1205 825 \r\nQ 1463 481 1925 481 \r\nQ 2391 481 2648 825 \r\nQ 2906 1169 2906 1791 \r\nz\r\nM 3481 434 \r\nQ 3481 -459 3084 -895 \r\nQ 2688 -1331 1869 -1331 \r\nQ 1566 -1331 1297 -1286 \r\nQ 1028 -1241 775 -1147 \r\nL 775 -588 \r\nQ 1028 -725 1275 -790 \r\nQ 1522 -856 1778 -856 \r\nQ 2344 -856 2625 -561 \r\nQ 2906 -266 2906 331 \r\nL 2906 616 \r\nQ 2728 306 2450 153 \r\nQ 2172 0 1784 0 \r\nQ 1141 0 747 490 \r\nQ 353 981 353 1791 \r\nQ 353 2603 747 3093 \r\nQ 1141 3584 1784 3584 \r\nQ 2172 3584 2450 3431 \r\nQ 2728 3278 2906 2969 \r\nL 2906 3500 \r\nL 3481 3500 \r\nL 3481 434 \r\nz\r\n\" id=\"DejaVuSans-67\" transform=\"scale(0.015625)\"/>\r\n       <path d=\"M 2906 2969 \r\nL 2906 4863 \r\nL 3481 4863 \r\nL 3481 0 \r\nL 2906 0 \r\nL 2906 525 \r\nQ 2725 213 2448 61 \r\nQ 2172 -91 1784 -91 \r\nQ 1150 -91 751 415 \r\nQ 353 922 353 1747 \r\nQ 353 2572 751 3078 \r\nQ 1150 3584 1784 3584 \r\nQ 2172 3584 2448 3432 \r\nQ 2725 3281 2906 2969 \r\nz\r\nM 947 1747 \r\nQ 947 1113 1208 752 \r\nQ 1469 391 1925 391 \r\nQ 2381 391 2643 752 \r\nQ 2906 1113 2906 1747 \r\nQ 2906 2381 2643 2742 \r\nQ 2381 3103 1925 3103 \r\nQ 1469 3103 1208 2742 \r\nQ 947 2381 947 1747 \r\nz\r\n\" id=\"DejaVuSans-64\" transform=\"scale(0.015625)\"/>\r\n       <path d=\"M 3263 -1063 \r\nL 3263 -1509 \r\nL -63 -1509 \r\nL -63 -1063 \r\nL 3263 -1063 \r\nz\r\n\" id=\"DejaVuSans-5f\" transform=\"scale(0.015625)\"/>\r\n      </defs>\r\n      <use xlink:href=\"#DejaVuSans-67\"/>\r\n      <use x=\"63.476562\" xlink:href=\"#DejaVuSans-64\"/>\r\n      <use x=\"126.953125\" xlink:href=\"#DejaVuSans-70\"/>\r\n      <use x=\"190.429688\" xlink:href=\"#DejaVuSans-5f\"/>\r\n      <use x=\"240.429688\" xlink:href=\"#DejaVuSans-70\"/>\r\n      <use x=\"303.90625\" xlink:href=\"#DejaVuSans-65\"/>\r\n      <use x=\"365.429688\" xlink:href=\"#DejaVuSans-72\"/>\r\n      <use x=\"406.542969\" xlink:href=\"#DejaVuSans-5f\"/>\r\n      <use x=\"456.542969\" xlink:href=\"#DejaVuSans-63\"/>\r\n      <use x=\"511.523438\" xlink:href=\"#DejaVuSans-61\"/>\r\n      <use x=\"572.802734\" xlink:href=\"#DejaVuSans-70\"/>\r\n      <use x=\"636.279297\" xlink:href=\"#DejaVuSans-69\"/>\r\n      <use x=\"664.0625\" xlink:href=\"#DejaVuSans-74\"/>\r\n      <use x=\"703.271484\" xlink:href=\"#DejaVuSans-61\"/>\r\n     </g>\r\n    </g>\r\n   </g>\r\n   <g id=\"line2d_14\">\r\n    <path clip-path=\"url(#pba9aeaf74f)\" d=\"M 159.33125 523.368326 \r\nL 159.33125 543.811568 \r\n\" style=\"fill:none;stroke:#3d3d3d;stroke-linecap:square;stroke-width:1.5;\"/>\r\n   </g>\r\n   <g id=\"line2d_15\">\r\n    <path clip-path=\"url(#pba9aeaf74f)\" d=\"M 159.33125 416.000915 \r\nL 159.33125 264.091704 \r\n\" style=\"fill:none;stroke:#3d3d3d;stroke-linecap:square;stroke-width:1.5;\"/>\r\n   </g>\r\n   <g id=\"line2d_16\">\r\n    <path clip-path=\"url(#pba9aeaf74f)\" d=\"M 122.13125 543.811568 \r\nL 196.53125 543.811568 \r\n\" style=\"fill:none;stroke:#3d3d3d;stroke-linecap:square;stroke-width:1.5;\"/>\r\n   </g>\r\n   <g id=\"line2d_17\">\r\n    <path clip-path=\"url(#pba9aeaf74f)\" d=\"M 122.13125 264.091704 \r\nL 196.53125 264.091704 \r\n\" style=\"fill:none;stroke:#3d3d3d;stroke-linecap:square;stroke-width:1.5;\"/>\r\n   </g>\r\n   <g id=\"line2d_18\">\r\n    <defs>\r\n     <path d=\"M 0 3.535534 \r\nL 2.12132 0 \r\nL 0 -3.535534 \r\nL -2.12132 0 \r\nz\r\n\" id=\"m9dcf60d1c7\" style=\"stroke:#3d3d3d;stroke-linejoin:miter;\"/>\r\n    </defs>\r\n    <g clip-path=\"url(#pba9aeaf74f)\">\r\n     <use style=\"fill:#3d3d3d;stroke:#3d3d3d;stroke-linejoin:miter;\" x=\"159.33125\" xlink:href=\"#m9dcf60d1c7\" y=\"244.899077\"/>\r\n     <use style=\"fill:#3d3d3d;stroke:#3d3d3d;stroke-linejoin:miter;\" x=\"159.33125\" xlink:href=\"#m9dcf60d1c7\" y=\"53.105966\"/>\r\n     <use style=\"fill:#3d3d3d;stroke:#3d3d3d;stroke-linejoin:miter;\" x=\"159.33125\" xlink:href=\"#m9dcf60d1c7\" y=\"186.561152\"/>\r\n    </g>\r\n   </g>\r\n   <g id=\"line2d_19\">\r\n    <path clip-path=\"url(#pba9aeaf74f)\" d=\"M 345.33125 448.333783 \r\nL 345.33125 528.040058 \r\n\" style=\"fill:none;stroke:#3d3d3d;stroke-linecap:square;stroke-width:1.5;\"/>\r\n   </g>\r\n   <g id=\"line2d_20\">\r\n    <path clip-path=\"url(#pba9aeaf74f)\" d=\"M 345.33125 363.330557 \r\nL 345.33125 263.914006 \r\n\" style=\"fill:none;stroke:#3d3d3d;stroke-linecap:square;stroke-width:1.5;\"/>\r\n   </g>\r\n   <g id=\"line2d_21\">\r\n    <path clip-path=\"url(#pba9aeaf74f)\" d=\"M 308.13125 528.040058 \r\nL 382.53125 528.040058 \r\n\" style=\"fill:none;stroke:#3d3d3d;stroke-linecap:square;stroke-width:1.5;\"/>\r\n   </g>\r\n   <g id=\"line2d_22\">\r\n    <path clip-path=\"url(#pba9aeaf74f)\" d=\"M 308.13125 263.914006 \r\nL 382.53125 263.914006 \r\n\" style=\"fill:none;stroke:#3d3d3d;stroke-linecap:square;stroke-width:1.5;\"/>\r\n   </g>\r\n   <g id=\"line2d_23\">\r\n    <g clip-path=\"url(#pba9aeaf74f)\">\r\n     <use style=\"fill:#3d3d3d;stroke:#3d3d3d;stroke-linejoin:miter;\" x=\"345.33125\" xlink:href=\"#m9dcf60d1c7\" y=\"149.403991\"/>\r\n    </g>\r\n   </g>\r\n   <g id=\"line2d_24\">\r\n    <path clip-path=\"url(#pba9aeaf74f)\" d=\"M 531.33125 543.569455 \r\nL 531.33125 547.287784 \r\n\" style=\"fill:none;stroke:#3d3d3d;stroke-linecap:square;stroke-width:1.5;\"/>\r\n   </g>\r\n   <g id=\"line2d_25\">\r\n    <path clip-path=\"url(#pba9aeaf74f)\" d=\"M 531.33125 511.232393 \r\nL 531.33125 463.851222 \r\n\" style=\"fill:none;stroke:#3d3d3d;stroke-linecap:square;stroke-width:1.5;\"/>\r\n   </g>\r\n   <g id=\"line2d_26\">\r\n    <path clip-path=\"url(#pba9aeaf74f)\" d=\"M 494.13125 547.287784 \r\nL 568.53125 547.287784 \r\n\" style=\"fill:none;stroke:#3d3d3d;stroke-linecap:square;stroke-width:1.5;\"/>\r\n   </g>\r\n   <g id=\"line2d_27\">\r\n    <path clip-path=\"url(#pba9aeaf74f)\" d=\"M 494.13125 463.851222 \r\nL 568.53125 463.851222 \r\n\" style=\"fill:none;stroke:#3d3d3d;stroke-linecap:square;stroke-width:1.5;\"/>\r\n   </g>\r\n   <g id=\"line2d_28\">\r\n    <g clip-path=\"url(#pba9aeaf74f)\">\r\n     <use style=\"fill:#3d3d3d;stroke:#3d3d3d;stroke-linejoin:miter;\" x=\"531.33125\" xlink:href=\"#m9dcf60d1c7\" y=\"454.024364\"/>\r\n     <use style=\"fill:#3d3d3d;stroke:#3d3d3d;stroke-linejoin:miter;\" x=\"531.33125\" xlink:href=\"#m9dcf60d1c7\" y=\"437.969842\"/>\r\n    </g>\r\n   </g>\r\n   <g id=\"line2d_29\">\r\n    <path clip-path=\"url(#pba9aeaf74f)\" d=\"M 717.33125 517.269145 \r\nL 717.33125 543.071934 \r\n\" style=\"fill:none;stroke:#3d3d3d;stroke-linecap:square;stroke-width:1.5;\"/>\r\n   </g>\r\n   <g id=\"line2d_30\">\r\n    <path clip-path=\"url(#pba9aeaf74f)\" d=\"M 717.33125 457.934092 \r\nL 717.33125 427.851187 \r\n\" style=\"fill:none;stroke:#3d3d3d;stroke-linecap:square;stroke-width:1.5;\"/>\r\n   </g>\r\n   <g id=\"line2d_31\">\r\n    <path clip-path=\"url(#pba9aeaf74f)\" d=\"M 680.13125 543.071934 \r\nL 754.53125 543.071934 \r\n\" style=\"fill:none;stroke:#3d3d3d;stroke-linecap:square;stroke-width:1.5;\"/>\r\n   </g>\r\n   <g id=\"line2d_32\">\r\n    <path clip-path=\"url(#pba9aeaf74f)\" d=\"M 680.13125 427.851187 \r\nL 754.53125 427.851187 \r\n\" style=\"fill:none;stroke:#3d3d3d;stroke-linecap:square;stroke-width:1.5;\"/>\r\n   </g>\r\n   <g id=\"line2d_33\">\r\n    <g clip-path=\"url(#pba9aeaf74f)\">\r\n     <use style=\"fill:#3d3d3d;stroke:#3d3d3d;stroke-linejoin:miter;\" x=\"717.33125\" xlink:href=\"#m9dcf60d1c7\" y=\"363.017405\"/>\r\n     <use style=\"fill:#3d3d3d;stroke:#3d3d3d;stroke-linejoin:miter;\" x=\"717.33125\" xlink:href=\"#m9dcf60d1c7\" y=\"319.632635\"/>\r\n    </g>\r\n   </g>\r\n   <g id=\"line2d_34\">\r\n    <path clip-path=\"url(#pba9aeaf74f)\" d=\"M 903.33125 506.988147 \r\nL 903.33125 520.832436 \r\n\" style=\"fill:none;stroke:#3d3d3d;stroke-linecap:square;stroke-width:1.5;\"/>\r\n   </g>\r\n   <g id=\"line2d_35\">\r\n    <path clip-path=\"url(#pba9aeaf74f)\" d=\"M 903.33125 476.603762 \r\nL 903.33125 453.335145 \r\n\" style=\"fill:none;stroke:#3d3d3d;stroke-linecap:square;stroke-width:1.5;\"/>\r\n   </g>\r\n   <g id=\"line2d_36\">\r\n    <path clip-path=\"url(#pba9aeaf74f)\" d=\"M 866.13125 520.832436 \r\nL 940.53125 520.832436 \r\n\" style=\"fill:none;stroke:#3d3d3d;stroke-linecap:square;stroke-width:1.5;\"/>\r\n   </g>\r\n   <g id=\"line2d_37\">\r\n    <path clip-path=\"url(#pba9aeaf74f)\" d=\"M 866.13125 453.335145 \r\nL 940.53125 453.335145 \r\n\" style=\"fill:none;stroke:#3d3d3d;stroke-linecap:square;stroke-width:1.5;\"/>\r\n   </g>\r\n   <g id=\"line2d_38\"/>\r\n   <g id=\"line2d_39\">\r\n    <path clip-path=\"url(#pba9aeaf74f)\" d=\"M 1089.33125 454.918865 \r\nL 1089.33125 513.109318 \r\n\" style=\"fill:none;stroke:#3d3d3d;stroke-linecap:square;stroke-width:1.5;\"/>\r\n   </g>\r\n   <g id=\"line2d_40\">\r\n    <path clip-path=\"url(#pba9aeaf74f)\" d=\"M 1089.33125 378.531738 \r\nL 1089.33125 360.335064 \r\n\" style=\"fill:none;stroke:#3d3d3d;stroke-linecap:square;stroke-width:1.5;\"/>\r\n   </g>\r\n   <g id=\"line2d_41\">\r\n    <path clip-path=\"url(#pba9aeaf74f)\" d=\"M 1052.13125 513.109318 \r\nL 1126.53125 513.109318 \r\n\" style=\"fill:none;stroke:#3d3d3d;stroke-linecap:square;stroke-width:1.5;\"/>\r\n   </g>\r\n   <g id=\"line2d_42\">\r\n    <path clip-path=\"url(#pba9aeaf74f)\" d=\"M 1052.13125 360.335064 \r\nL 1126.53125 360.335064 \r\n\" style=\"fill:none;stroke:#3d3d3d;stroke-linecap:square;stroke-width:1.5;\"/>\r\n   </g>\r\n   <g id=\"line2d_43\"/>\r\n   <g id=\"line2d_44\">\r\n    <path clip-path=\"url(#pba9aeaf74f)\" d=\"M 84.93125 500.137961 \r\nL 233.73125 500.137961 \r\n\" style=\"fill:none;stroke:#3d3d3d;stroke-linecap:square;stroke-width:1.5;\"/>\r\n   </g>\r\n   <g id=\"line2d_45\">\r\n    <path clip-path=\"url(#pba9aeaf74f)\" d=\"M 270.93125 416.64031 \r\nL 419.73125 416.64031 \r\n\" style=\"fill:none;stroke:#3d3d3d;stroke-linecap:square;stroke-width:1.5;\"/>\r\n   </g>\r\n   <g id=\"line2d_46\">\r\n    <path clip-path=\"url(#pba9aeaf74f)\" d=\"M 456.93125 538.599801 \r\nL 605.73125 538.599801 \r\n\" style=\"fill:none;stroke:#3d3d3d;stroke-linecap:square;stroke-width:1.5;\"/>\r\n   </g>\r\n   <g id=\"line2d_47\">\r\n    <path clip-path=\"url(#pba9aeaf74f)\" d=\"M 642.93125 490.182411 \r\nL 791.73125 490.182411 \r\n\" style=\"fill:none;stroke:#3d3d3d;stroke-linecap:square;stroke-width:1.5;\"/>\r\n   </g>\r\n   <g id=\"line2d_48\">\r\n    <path clip-path=\"url(#pba9aeaf74f)\" d=\"M 828.93125 492.674415 \r\nL 977.73125 492.674415 \r\n\" style=\"fill:none;stroke:#3d3d3d;stroke-linecap:square;stroke-width:1.5;\"/>\r\n   </g>\r\n   <g id=\"line2d_49\">\r\n    <path clip-path=\"url(#pba9aeaf74f)\" d=\"M 1014.93125 396.728411 \r\nL 1163.73125 396.728411 \r\n\" style=\"fill:none;stroke:#3d3d3d;stroke-linecap:square;stroke-width:1.5;\"/>\r\n   </g>\r\n   <g id=\"patch_9\">\r\n    <path d=\"M 66.33125 571.996875 \r\nL 66.33125 28.396875 \r\n\" style=\"fill:none;stroke:#000000;stroke-linecap:square;stroke-linejoin:miter;stroke-width:0.8;\"/>\r\n   </g>\r\n   <g id=\"patch_10\">\r\n    <path d=\"M 1182.33125 571.996875 \r\nL 1182.33125 28.396875 \r\n\" style=\"fill:none;stroke:#000000;stroke-linecap:square;stroke-linejoin:miter;stroke-width:0.8;\"/>\r\n   </g>\r\n   <g id=\"patch_11\">\r\n    <path d=\"M 66.33125 571.996875 \r\nL 1182.33125 571.996875 \r\n\" style=\"fill:none;stroke:#000000;stroke-linecap:square;stroke-linejoin:miter;stroke-width:0.8;\"/>\r\n   </g>\r\n   <g id=\"patch_12\">\r\n    <path d=\"M 66.33125 28.396875 \r\nL 1182.33125 28.396875 \r\n\" style=\"fill:none;stroke:#000000;stroke-linecap:square;stroke-linejoin:miter;stroke-width:0.8;\"/>\r\n   </g>\r\n   <g id=\"text_16\">\r\n    <!-- gdp per capita by continent -->\r\n    <g transform=\"translate(485.490625 22.396875)scale(0.2 -0.2)\">\r\n     <defs>\r\n      <path d=\"M 3116 1747 \r\nQ 3116 2381 2855 2742 \r\nQ 2594 3103 2138 3103 \r\nQ 1681 3103 1420 2742 \r\nQ 1159 2381 1159 1747 \r\nQ 1159 1113 1420 752 \r\nQ 1681 391 2138 391 \r\nQ 2594 391 2855 752 \r\nQ 3116 1113 3116 1747 \r\nz\r\nM 1159 2969 \r\nQ 1341 3281 1617 3432 \r\nQ 1894 3584 2278 3584 \r\nQ 2916 3584 3314 3078 \r\nQ 3713 2572 3713 1747 \r\nQ 3713 922 3314 415 \r\nQ 2916 -91 2278 -91 \r\nQ 1894 -91 1617 61 \r\nQ 1341 213 1159 525 \r\nL 1159 0 \r\nL 581 0 \r\nL 581 4863 \r\nL 1159 4863 \r\nL 1159 2969 \r\nz\r\n\" id=\"DejaVuSans-62\" transform=\"scale(0.015625)\"/>\r\n      <path d=\"M 2059 -325 \r\nQ 1816 -950 1584 -1140 \r\nQ 1353 -1331 966 -1331 \r\nL 506 -1331 \r\nL 506 -850 \r\nL 844 -850 \r\nQ 1081 -850 1212 -737 \r\nQ 1344 -625 1503 -206 \r\nL 1606 56 \r\nL 191 3500 \r\nL 800 3500 \r\nL 1894 763 \r\nL 2988 3500 \r\nL 3597 3500 \r\nL 2059 -325 \r\nz\r\n\" id=\"DejaVuSans-79\" transform=\"scale(0.015625)\"/>\r\n     </defs>\r\n     <use xlink:href=\"#DejaVuSans-67\"/>\r\n     <use x=\"63.476562\" xlink:href=\"#DejaVuSans-64\"/>\r\n     <use x=\"126.953125\" xlink:href=\"#DejaVuSans-70\"/>\r\n     <use x=\"190.429688\" xlink:href=\"#DejaVuSans-20\"/>\r\n     <use x=\"222.216797\" xlink:href=\"#DejaVuSans-70\"/>\r\n     <use x=\"285.693359\" xlink:href=\"#DejaVuSans-65\"/>\r\n     <use x=\"347.216797\" xlink:href=\"#DejaVuSans-72\"/>\r\n     <use x=\"388.330078\" xlink:href=\"#DejaVuSans-20\"/>\r\n     <use x=\"420.117188\" xlink:href=\"#DejaVuSans-63\"/>\r\n     <use x=\"475.097656\" xlink:href=\"#DejaVuSans-61\"/>\r\n     <use x=\"536.376953\" xlink:href=\"#DejaVuSans-70\"/>\r\n     <use x=\"599.853516\" xlink:href=\"#DejaVuSans-69\"/>\r\n     <use x=\"627.636719\" xlink:href=\"#DejaVuSans-74\"/>\r\n     <use x=\"666.845703\" xlink:href=\"#DejaVuSans-61\"/>\r\n     <use x=\"728.125\" xlink:href=\"#DejaVuSans-20\"/>\r\n     <use x=\"759.912109\" xlink:href=\"#DejaVuSans-62\"/>\r\n     <use x=\"823.388672\" xlink:href=\"#DejaVuSans-79\"/>\r\n     <use x=\"882.568359\" xlink:href=\"#DejaVuSans-20\"/>\r\n     <use x=\"914.355469\" xlink:href=\"#DejaVuSans-63\"/>\r\n     <use x=\"969.335938\" xlink:href=\"#DejaVuSans-6f\"/>\r\n     <use x=\"1030.517578\" xlink:href=\"#DejaVuSans-6e\"/>\r\n     <use x=\"1093.896484\" xlink:href=\"#DejaVuSans-74\"/>\r\n     <use x=\"1133.105469\" xlink:href=\"#DejaVuSans-69\"/>\r\n     <use x=\"1160.888672\" xlink:href=\"#DejaVuSans-6e\"/>\r\n     <use x=\"1224.267578\" xlink:href=\"#DejaVuSans-65\"/>\r\n     <use x=\"1285.791016\" xlink:href=\"#DejaVuSans-6e\"/>\r\n     <use x=\"1349.169922\" xlink:href=\"#DejaVuSans-74\"/>\r\n    </g>\r\n   </g>\r\n  </g>\r\n </g>\r\n <defs>\r\n  <clipPath id=\"pba9aeaf74f\">\r\n   <rect height=\"543.6\" width=\"1116\" x=\"66.33125\" y=\"28.396875\"/>\r\n  </clipPath>\r\n </defs>\r\n</svg>\r\n",
      "image/png": "[encoded data removed]"
     },
     "metadata": {
      "needs_background": "light"
     }
    }
   ],
   "source": [
    "plt.figure(figsize=(20,10))\n",
    "ax = sns.boxplot(x=\"continent\", y=\"gdp_per_capita\", data=covid_groupby).set_title(\"gdp per capita by continent\", fontsize=20)\n",
    "\n"
   ]
  },
  {
   "cell_type": "code",
   "execution_count": null,
   "metadata": {},
   "outputs": [],
   "source": [
    "fig,ax=plt.subplots(1,figsize=(30,10),sharey=True)\n",
    "\n",
    "ax=sns.lineplot(x=s_gdp_africa['deaths_ratio'], y=s_gdp_africa[\"gdp_per_capita\"], data=s_gdp_africa,hue=\"country\",marker=\"s\", linestyle=\"-.\",linewidth=3.0)\n",
    "ax.legend(title=\"Países\",loc=\"upper left\")\n",
    "ax.set_xlabel(\"gdp_per_capita\",fontsize=14)\n",
    "ax.set_ylabel(\"deaths_ratio\",color=\"red\",fontsize=14)\n",
    "ax2=ax.twinx()\n",
    "ax2=sns.lineplot(x=s_gdp_africa['deaths_ratio'], y=s_gdp_africa[\"gdp_per_capita\"],data=s_gdp_africa,hue=\"cou\",marker=\"o\", linestyle=\"-\",linewidth=3.0,legend=False,)\n",
    "\n",
    "\n",
    "ax2.set_ylabel(\"Importaciones País - EU\",color=\"blue\",fontsize=14)\n",
    "plt.xlim(0)"
   ]
  }
 ]
}