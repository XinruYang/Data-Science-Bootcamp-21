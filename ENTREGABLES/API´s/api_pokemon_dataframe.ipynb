{
 "metadata": {
  "language_info": {
   "codemirror_mode": {
    "name": "ipython",
    "version": 3
   },
   "file_extension": ".py",
   "mimetype": "text/x-python",
   "name": "python",
   "nbconvert_exporter": "python",
   "pygments_lexer": "ipython3",
   "version": "3.7.4"
  },
  "orig_nbformat": 2,
  "kernelspec": {
   "name": "python374jvsc74a57bd0fc2c00f0e2c44cb4028bd693f18a1b5d93d1de4cd12db71fca36ff691a163044",
   "display_name": "Python 3.7.4 64-bit"
  },
  "metadata": {
   "interpreter": {
    "hash": "fc2c00f0e2c44cb4028bd693f18a1b5d93d1de4cd12db71fca36ff691a163044"
   }
  }
 },
 "nbformat": 4,
 "nbformat_minor": 2,
 "cells": [
  {
   "source": [
    "### Ejercicio 1\n",
    "\n",
    "A partir de la API de Pokemon, se pide generar un DataFrame como el de la imagen con las columnas: \n",
    "\n",
    "- **\"height\",\"id\",\"order\",\"weight\",\"types\"**\n",
    "\n",
    "### Ejercicio 2\n",
    "\n",
    "¿Has visto que dentro del DataFrame la columna \"types\" hay diccionarios? Se pide agregar, por cada pokemon, las columnas necesarias al DataFrame para albergar toda la información de \"types\" (solo las keys)\n",
    "\n",
    "![](df_pk.PNG)"
   ],
   "cell_type": "markdown",
   "metadata": {}
  },
  {
   "cell_type": "code",
   "execution_count": 29,
   "metadata": {},
   "outputs": [],
   "source": [
    "import json\n",
    "import requests\n",
    "\n",
    "import pandas as pd\n",
    "from pandas.io.json import json_normalize"
   ]
  },
  {
   "cell_type": "code",
   "execution_count": 41,
   "metadata": {},
   "outputs": [],
   "source": [
    "url= \"https://pokeapi.co/api/v2/pokemon\"\n",
    "pokemon = requests.get(url).json()\n"
   ]
  },
  {
   "cell_type": "code",
   "execution_count": 31,
   "metadata": {},
   "outputs": [
    {
     "output_type": "execute_result",
     "data": {
      "text/plain": [
       "{'count': 1118,\n",
       " 'next': 'https://pokeapi.co/api/v2/pokemon?offset=20&limit=20',\n",
       " 'previous': None,\n",
       " 'results': [{'name': 'bulbasaur',\n",
       "   'url': 'https://pokeapi.co/api/v2/pokemon/1/'},\n",
       "  {'name': 'ivysaur', 'url': 'https://pokeapi.co/api/v2/pokemon/2/'},\n",
       "  {'name': 'venusaur', 'url': 'https://pokeapi.co/api/v2/pokemon/3/'},\n",
       "  {'name': 'charmander', 'url': 'https://pokeapi.co/api/v2/pokemon/4/'},\n",
       "  {'name': 'charmeleon', 'url': 'https://pokeapi.co/api/v2/pokemon/5/'},\n",
       "  {'name': 'charizard', 'url': 'https://pokeapi.co/api/v2/pokemon/6/'},\n",
       "  {'name': 'squirtle', 'url': 'https://pokeapi.co/api/v2/pokemon/7/'},\n",
       "  {'name': 'wartortle', 'url': 'https://pokeapi.co/api/v2/pokemon/8/'},\n",
       "  {'name': 'blastoise', 'url': 'https://pokeapi.co/api/v2/pokemon/9/'},\n",
       "  {'name': 'caterpie', 'url': 'https://pokeapi.co/api/v2/pokemon/10/'},\n",
       "  {'name': 'metapod', 'url': 'https://pokeapi.co/api/v2/pokemon/11/'},\n",
       "  {'name': 'butterfree', 'url': 'https://pokeapi.co/api/v2/pokemon/12/'},\n",
       "  {'name': 'weedle', 'url': 'https://pokeapi.co/api/v2/pokemon/13/'},\n",
       "  {'name': 'kakuna', 'url': 'https://pokeapi.co/api/v2/pokemon/14/'},\n",
       "  {'name': 'beedrill', 'url': 'https://pokeapi.co/api/v2/pokemon/15/'},\n",
       "  {'name': 'pidgey', 'url': 'https://pokeapi.co/api/v2/pokemon/16/'},\n",
       "  {'name': 'pidgeotto', 'url': 'https://pokeapi.co/api/v2/pokemon/17/'},\n",
       "  {'name': 'pidgeot', 'url': 'https://pokeapi.co/api/v2/pokemon/18/'},\n",
       "  {'name': 'rattata', 'url': 'https://pokeapi.co/api/v2/pokemon/19/'},\n",
       "  {'name': 'raticate', 'url': 'https://pokeapi.co/api/v2/pokemon/20/'}]}"
      ]
     },
     "metadata": {},
     "execution_count": 31
    }
   ],
   "source": [
    "pokemon"
   ]
  },
  {
   "cell_type": "code",
   "execution_count": 16,
   "metadata": {},
   "outputs": [
    {
     "output_type": "stream",
     "name": "stdout",
     "text": [
      "18\n"
     ]
    }
   ],
   "source": [
    "print(len(pokemon))"
   ]
  },
  {
   "cell_type": "code",
   "execution_count": 42,
   "metadata": {},
   "outputs": [
    {
     "output_type": "execute_result",
     "data": {
      "text/plain": [
       "          name                                    url\n",
       "0    bulbasaur   https://pokeapi.co/api/v2/pokemon/1/\n",
       "1      ivysaur   https://pokeapi.co/api/v2/pokemon/2/\n",
       "2     venusaur   https://pokeapi.co/api/v2/pokemon/3/\n",
       "3   charmander   https://pokeapi.co/api/v2/pokemon/4/\n",
       "4   charmeleon   https://pokeapi.co/api/v2/pokemon/5/\n",
       "5    charizard   https://pokeapi.co/api/v2/pokemon/6/\n",
       "6     squirtle   https://pokeapi.co/api/v2/pokemon/7/\n",
       "7    wartortle   https://pokeapi.co/api/v2/pokemon/8/\n",
       "8    blastoise   https://pokeapi.co/api/v2/pokemon/9/\n",
       "9     caterpie  https://pokeapi.co/api/v2/pokemon/10/\n",
       "10     metapod  https://pokeapi.co/api/v2/pokemon/11/\n",
       "11  butterfree  https://pokeapi.co/api/v2/pokemon/12/\n",
       "12      weedle  https://pokeapi.co/api/v2/pokemon/13/\n",
       "13      kakuna  https://pokeapi.co/api/v2/pokemon/14/\n",
       "14    beedrill  https://pokeapi.co/api/v2/pokemon/15/\n",
       "15      pidgey  https://pokeapi.co/api/v2/pokemon/16/\n",
       "16   pidgeotto  https://pokeapi.co/api/v2/pokemon/17/\n",
       "17     pidgeot  https://pokeapi.co/api/v2/pokemon/18/\n",
       "18     rattata  https://pokeapi.co/api/v2/pokemon/19/\n",
       "19    raticate  https://pokeapi.co/api/v2/pokemon/20/"
      ],
      "text/html": "<div>\n<style scoped>\n    .dataframe tbody tr th:only-of-type {\n        vertical-align: middle;\n    }\n\n    .dataframe tbody tr th {\n        vertical-align: top;\n    }\n\n    .dataframe thead th {\n        text-align: right;\n    }\n</style>\n<table border=\"1\" class=\"dataframe\">\n  <thead>\n    <tr style=\"text-align: right;\">\n      <th></th>\n      <th>name</th>\n      <th>url</th>\n    </tr>\n  </thead>\n  <tbody>\n    <tr>\n      <th>0</th>\n      <td>bulbasaur</td>\n      <td>https://pokeapi.co/api/v2/pokemon/1/</td>\n    </tr>\n    <tr>\n      <th>1</th>\n      <td>ivysaur</td>\n      <td>https://pokeapi.co/api/v2/pokemon/2/</td>\n    </tr>\n    <tr>\n      <th>2</th>\n      <td>venusaur</td>\n      <td>https://pokeapi.co/api/v2/pokemon/3/</td>\n    </tr>\n    <tr>\n      <th>3</th>\n      <td>charmander</td>\n      <td>https://pokeapi.co/api/v2/pokemon/4/</td>\n    </tr>\n    <tr>\n      <th>4</th>\n      <td>charmeleon</td>\n      <td>https://pokeapi.co/api/v2/pokemon/5/</td>\n    </tr>\n    <tr>\n      <th>5</th>\n      <td>charizard</td>\n      <td>https://pokeapi.co/api/v2/pokemon/6/</td>\n    </tr>\n    <tr>\n      <th>6</th>\n      <td>squirtle</td>\n      <td>https://pokeapi.co/api/v2/pokemon/7/</td>\n    </tr>\n    <tr>\n      <th>7</th>\n      <td>wartortle</td>\n      <td>https://pokeapi.co/api/v2/pokemon/8/</td>\n    </tr>\n    <tr>\n      <th>8</th>\n      <td>blastoise</td>\n      <td>https://pokeapi.co/api/v2/pokemon/9/</td>\n    </tr>\n    <tr>\n      <th>9</th>\n      <td>caterpie</td>\n      <td>https://pokeapi.co/api/v2/pokemon/10/</td>\n    </tr>\n    <tr>\n      <th>10</th>\n      <td>metapod</td>\n      <td>https://pokeapi.co/api/v2/pokemon/11/</td>\n    </tr>\n    <tr>\n      <th>11</th>\n      <td>butterfree</td>\n      <td>https://pokeapi.co/api/v2/pokemon/12/</td>\n    </tr>\n    <tr>\n      <th>12</th>\n      <td>weedle</td>\n      <td>https://pokeapi.co/api/v2/pokemon/13/</td>\n    </tr>\n    <tr>\n      <th>13</th>\n      <td>kakuna</td>\n      <td>https://pokeapi.co/api/v2/pokemon/14/</td>\n    </tr>\n    <tr>\n      <th>14</th>\n      <td>beedrill</td>\n      <td>https://pokeapi.co/api/v2/pokemon/15/</td>\n    </tr>\n    <tr>\n      <th>15</th>\n      <td>pidgey</td>\n      <td>https://pokeapi.co/api/v2/pokemon/16/</td>\n    </tr>\n    <tr>\n      <th>16</th>\n      <td>pidgeotto</td>\n      <td>https://pokeapi.co/api/v2/pokemon/17/</td>\n    </tr>\n    <tr>\n      <th>17</th>\n      <td>pidgeot</td>\n      <td>https://pokeapi.co/api/v2/pokemon/18/</td>\n    </tr>\n    <tr>\n      <th>18</th>\n      <td>rattata</td>\n      <td>https://pokeapi.co/api/v2/pokemon/19/</td>\n    </tr>\n    <tr>\n      <th>19</th>\n      <td>raticate</td>\n      <td>https://pokeapi.co/api/v2/pokemon/20/</td>\n    </tr>\n  </tbody>\n</table>\n</div>"
     },
     "metadata": {},
     "execution_count": 42
    }
   ],
   "source": [
    "frame = pd.DataFrame(pokemon[\"results\"])\n",
    "frame"
   ]
  },
  {
   "cell_type": "code",
   "execution_count": 50,
   "metadata": {},
   "outputs": [
    {
     "output_type": "execute_result",
     "data": {
      "text/plain": [
       "          name                                    url  \\\n",
       "0    bulbasaur   https://pokeapi.co/api/v2/pokemon/1/   \n",
       "1      ivysaur   https://pokeapi.co/api/v2/pokemon/2/   \n",
       "2     venusaur   https://pokeapi.co/api/v2/pokemon/3/   \n",
       "3   charmander   https://pokeapi.co/api/v2/pokemon/4/   \n",
       "4   charmeleon   https://pokeapi.co/api/v2/pokemon/5/   \n",
       "5    charizard   https://pokeapi.co/api/v2/pokemon/6/   \n",
       "6     squirtle   https://pokeapi.co/api/v2/pokemon/7/   \n",
       "7    wartortle   https://pokeapi.co/api/v2/pokemon/8/   \n",
       "8    blastoise   https://pokeapi.co/api/v2/pokemon/9/   \n",
       "9     caterpie  https://pokeapi.co/api/v2/pokemon/10/   \n",
       "10     metapod  https://pokeapi.co/api/v2/pokemon/11/   \n",
       "11  butterfree  https://pokeapi.co/api/v2/pokemon/12/   \n",
       "12      weedle  https://pokeapi.co/api/v2/pokemon/13/   \n",
       "13      kakuna  https://pokeapi.co/api/v2/pokemon/14/   \n",
       "14    beedrill  https://pokeapi.co/api/v2/pokemon/15/   \n",
       "15      pidgey  https://pokeapi.co/api/v2/pokemon/16/   \n",
       "16   pidgeotto  https://pokeapi.co/api/v2/pokemon/17/   \n",
       "17     pidgeot  https://pokeapi.co/api/v2/pokemon/18/   \n",
       "18     rattata  https://pokeapi.co/api/v2/pokemon/19/   \n",
       "19    raticate  https://pokeapi.co/api/v2/pokemon/20/   \n",
       "\n",
       "                                            more_info  \n",
       "0   {'abilities': [{'ability': {'name': 'overgrow'...  \n",
       "1   {'abilities': [{'ability': {'name': 'overgrow'...  \n",
       "2   {'abilities': [{'ability': {'name': 'overgrow'...  \n",
       "3   {'abilities': [{'ability': {'name': 'blaze', '...  \n",
       "4   {'abilities': [{'ability': {'name': 'blaze', '...  \n",
       "5   {'abilities': [{'ability': {'name': 'blaze', '...  \n",
       "6   {'abilities': [{'ability': {'name': 'torrent',...  \n",
       "7   {'abilities': [{'ability': {'name': 'torrent',...  \n",
       "8   {'abilities': [{'ability': {'name': 'torrent',...  \n",
       "9   {'abilities': [{'ability': {'name': 'shield-du...  \n",
       "10  {'abilities': [{'ability': {'name': 'shed-skin...  \n",
       "11  {'abilities': [{'ability': {'name': 'compound-...  \n",
       "12  {'abilities': [{'ability': {'name': 'shield-du...  \n",
       "13  {'abilities': [{'ability': {'name': 'shed-skin...  \n",
       "14  {'abilities': [{'ability': {'name': 'swarm', '...  \n",
       "15  {'abilities': [{'ability': {'name': 'keen-eye'...  \n",
       "16  {'abilities': [{'ability': {'name': 'keen-eye'...  \n",
       "17  {'abilities': [{'ability': {'name': 'keen-eye'...  \n",
       "18  {'abilities': [{'ability': {'name': 'run-away'...  \n",
       "19  {'abilities': [{'ability': {'name': 'run-away'...  "
      ],
      "text/html": "<div>\n<style scoped>\n    .dataframe tbody tr th:only-of-type {\n        vertical-align: middle;\n    }\n\n    .dataframe tbody tr th {\n        vertical-align: top;\n    }\n\n    .dataframe thead th {\n        text-align: right;\n    }\n</style>\n<table border=\"1\" class=\"dataframe\">\n  <thead>\n    <tr style=\"text-align: right;\">\n      <th></th>\n      <th>name</th>\n      <th>url</th>\n      <th>more_info</th>\n    </tr>\n  </thead>\n  <tbody>\n    <tr>\n      <th>0</th>\n      <td>bulbasaur</td>\n      <td>https://pokeapi.co/api/v2/pokemon/1/</td>\n      <td>{'abilities': [{'ability': {'name': 'overgrow'...</td>\n    </tr>\n    <tr>\n      <th>1</th>\n      <td>ivysaur</td>\n      <td>https://pokeapi.co/api/v2/pokemon/2/</td>\n      <td>{'abilities': [{'ability': {'name': 'overgrow'...</td>\n    </tr>\n    <tr>\n      <th>2</th>\n      <td>venusaur</td>\n      <td>https://pokeapi.co/api/v2/pokemon/3/</td>\n      <td>{'abilities': [{'ability': {'name': 'overgrow'...</td>\n    </tr>\n    <tr>\n      <th>3</th>\n      <td>charmander</td>\n      <td>https://pokeapi.co/api/v2/pokemon/4/</td>\n      <td>{'abilities': [{'ability': {'name': 'blaze', '...</td>\n    </tr>\n    <tr>\n      <th>4</th>\n      <td>charmeleon</td>\n      <td>https://pokeapi.co/api/v2/pokemon/5/</td>\n      <td>{'abilities': [{'ability': {'name': 'blaze', '...</td>\n    </tr>\n    <tr>\n      <th>5</th>\n      <td>charizard</td>\n      <td>https://pokeapi.co/api/v2/pokemon/6/</td>\n      <td>{'abilities': [{'ability': {'name': 'blaze', '...</td>\n    </tr>\n    <tr>\n      <th>6</th>\n      <td>squirtle</td>\n      <td>https://pokeapi.co/api/v2/pokemon/7/</td>\n      <td>{'abilities': [{'ability': {'name': 'torrent',...</td>\n    </tr>\n    <tr>\n      <th>7</th>\n      <td>wartortle</td>\n      <td>https://pokeapi.co/api/v2/pokemon/8/</td>\n      <td>{'abilities': [{'ability': {'name': 'torrent',...</td>\n    </tr>\n    <tr>\n      <th>8</th>\n      <td>blastoise</td>\n      <td>https://pokeapi.co/api/v2/pokemon/9/</td>\n      <td>{'abilities': [{'ability': {'name': 'torrent',...</td>\n    </tr>\n    <tr>\n      <th>9</th>\n      <td>caterpie</td>\n      <td>https://pokeapi.co/api/v2/pokemon/10/</td>\n      <td>{'abilities': [{'ability': {'name': 'shield-du...</td>\n    </tr>\n    <tr>\n      <th>10</th>\n      <td>metapod</td>\n      <td>https://pokeapi.co/api/v2/pokemon/11/</td>\n      <td>{'abilities': [{'ability': {'name': 'shed-skin...</td>\n    </tr>\n    <tr>\n      <th>11</th>\n      <td>butterfree</td>\n      <td>https://pokeapi.co/api/v2/pokemon/12/</td>\n      <td>{'abilities': [{'ability': {'name': 'compound-...</td>\n    </tr>\n    <tr>\n      <th>12</th>\n      <td>weedle</td>\n      <td>https://pokeapi.co/api/v2/pokemon/13/</td>\n      <td>{'abilities': [{'ability': {'name': 'shield-du...</td>\n    </tr>\n    <tr>\n      <th>13</th>\n      <td>kakuna</td>\n      <td>https://pokeapi.co/api/v2/pokemon/14/</td>\n      <td>{'abilities': [{'ability': {'name': 'shed-skin...</td>\n    </tr>\n    <tr>\n      <th>14</th>\n      <td>beedrill</td>\n      <td>https://pokeapi.co/api/v2/pokemon/15/</td>\n      <td>{'abilities': [{'ability': {'name': 'swarm', '...</td>\n    </tr>\n    <tr>\n      <th>15</th>\n      <td>pidgey</td>\n      <td>https://pokeapi.co/api/v2/pokemon/16/</td>\n      <td>{'abilities': [{'ability': {'name': 'keen-eye'...</td>\n    </tr>\n    <tr>\n      <th>16</th>\n      <td>pidgeotto</td>\n      <td>https://pokeapi.co/api/v2/pokemon/17/</td>\n      <td>{'abilities': [{'ability': {'name': 'keen-eye'...</td>\n    </tr>\n    <tr>\n      <th>17</th>\n      <td>pidgeot</td>\n      <td>https://pokeapi.co/api/v2/pokemon/18/</td>\n      <td>{'abilities': [{'ability': {'name': 'keen-eye'...</td>\n    </tr>\n    <tr>\n      <th>18</th>\n      <td>rattata</td>\n      <td>https://pokeapi.co/api/v2/pokemon/19/</td>\n      <td>{'abilities': [{'ability': {'name': 'run-away'...</td>\n    </tr>\n    <tr>\n      <th>19</th>\n      <td>raticate</td>\n      <td>https://pokeapi.co/api/v2/pokemon/20/</td>\n      <td>{'abilities': [{'ability': {'name': 'run-away'...</td>\n    </tr>\n  </tbody>\n</table>\n</div>"
     },
     "metadata": {},
     "execution_count": 50
    }
   ],
   "source": [
    "frame[\"more_info\"] = frame[\"url\"].apply(lambda x: requests.get(x).json())\n",
    "frame"
   ]
  },
  {
   "cell_type": "code",
   "execution_count": 60,
   "metadata": {},
   "outputs": [
    {
     "output_type": "execute_result",
     "data": {
      "text/plain": [
       "20"
      ]
     },
     "metadata": {},
     "execution_count": 60
    }
   ],
   "source": [
    "len(frame[\"more_info\"])"
   ]
  },
  {
   "cell_type": "code",
   "execution_count": 72,
   "metadata": {},
   "outputs": [],
   "source": [
    "# Append con un for\n",
    "def dataframe():\n",
    "    height = []\n",
    "    id_ = []\n",
    "    weight = []\n",
    "    order = []\n",
    "\n",
    "    for i in range(len(frame[\"more_info\"])):\n",
    "        height.append(frame[\"more_info\"][i][\"height\"])\n",
    "        id_.append(frame[\"more_info\"][i][\"id\"])\n",
    "        order.append(frame[\"more_info\"][i][\"order\"])\n",
    "        weight.append(frame[\"more_info\"][i][\"weight\"])\n"
   ]
  },
  {
   "cell_type": "code",
   "execution_count": 73,
   "metadata": {},
   "outputs": [],
   "source": [
    "import time"
   ]
  },
  {
   "cell_type": "code",
   "execution_count": 75,
   "metadata": {},
   "outputs": [
    {
     "output_type": "stream",
     "name": "stdout",
     "text": [
      "14.2 ns ± 0.292 ns per loop (mean ± std. dev. of 7 runs, 100000000 loops each)\n"
     ]
    }
   ],
   "source": [
    "%%timeit\n",
    "dataframe"
   ]
  },
  {
   "cell_type": "code",
   "execution_count": 65,
   "metadata": {},
   "outputs": [],
   "source": [
    "frame[\"height\"] = height"
   ]
  },
  {
   "cell_type": "code",
   "execution_count": 68,
   "metadata": {},
   "outputs": [],
   "source": [
    "frame[\"id\"] = id_\n",
    "frame[\"order\"] = order\n",
    "frame[\"weight\"] = weight"
   ]
  },
  {
   "cell_type": "code",
   "execution_count": 70,
   "metadata": {},
   "outputs": [
    {
     "output_type": "execute_result",
     "data": {
      "text/plain": [
       "0     {'abilities': [{'ability': {'name': 'overgrow'...\n",
       "1     {'abilities': [{'ability': {'name': 'overgrow'...\n",
       "2     {'abilities': [{'ability': {'name': 'overgrow'...\n",
       "3     {'abilities': [{'ability': {'name': 'blaze', '...\n",
       "4     {'abilities': [{'ability': {'name': 'blaze', '...\n",
       "5     {'abilities': [{'ability': {'name': 'blaze', '...\n",
       "6     {'abilities': [{'ability': {'name': 'torrent',...\n",
       "7     {'abilities': [{'ability': {'name': 'torrent',...\n",
       "8     {'abilities': [{'ability': {'name': 'torrent',...\n",
       "9     {'abilities': [{'ability': {'name': 'shield-du...\n",
       "10    {'abilities': [{'ability': {'name': 'shed-skin...\n",
       "11    {'abilities': [{'ability': {'name': 'compound-...\n",
       "12    {'abilities': [{'ability': {'name': 'shield-du...\n",
       "13    {'abilities': [{'ability': {'name': 'shed-skin...\n",
       "14    {'abilities': [{'ability': {'name': 'swarm', '...\n",
       "15    {'abilities': [{'ability': {'name': 'keen-eye'...\n",
       "16    {'abilities': [{'ability': {'name': 'keen-eye'...\n",
       "17    {'abilities': [{'ability': {'name': 'keen-eye'...\n",
       "18    {'abilities': [{'ability': {'name': 'run-away'...\n",
       "19    {'abilities': [{'ability': {'name': 'run-away'...\n",
       "Name: more_info, dtype: object"
      ]
     },
     "metadata": {},
     "execution_count": 70
    }
   ],
   "source": [
    "frame.pop(\"more_info\")"
   ]
  },
  {
   "cell_type": "code",
   "execution_count": 71,
   "metadata": {},
   "outputs": [
    {
     "output_type": "execute_result",
     "data": {
      "text/plain": [
       "          name                                    url  height  id  order  \\\n",
       "0    bulbasaur   https://pokeapi.co/api/v2/pokemon/1/       7   1      1   \n",
       "1      ivysaur   https://pokeapi.co/api/v2/pokemon/2/      10   2      2   \n",
       "2     venusaur   https://pokeapi.co/api/v2/pokemon/3/      20   3      3   \n",
       "3   charmander   https://pokeapi.co/api/v2/pokemon/4/       6   4      5   \n",
       "4   charmeleon   https://pokeapi.co/api/v2/pokemon/5/      11   5      6   \n",
       "5    charizard   https://pokeapi.co/api/v2/pokemon/6/      17   6      7   \n",
       "6     squirtle   https://pokeapi.co/api/v2/pokemon/7/       5   7     10   \n",
       "7    wartortle   https://pokeapi.co/api/v2/pokemon/8/      10   8     11   \n",
       "8    blastoise   https://pokeapi.co/api/v2/pokemon/9/      16   9     12   \n",
       "9     caterpie  https://pokeapi.co/api/v2/pokemon/10/       3  10     14   \n",
       "10     metapod  https://pokeapi.co/api/v2/pokemon/11/       7  11     15   \n",
       "11  butterfree  https://pokeapi.co/api/v2/pokemon/12/      11  12     16   \n",
       "12      weedle  https://pokeapi.co/api/v2/pokemon/13/       3  13     17   \n",
       "13      kakuna  https://pokeapi.co/api/v2/pokemon/14/       6  14     18   \n",
       "14    beedrill  https://pokeapi.co/api/v2/pokemon/15/      10  15     19   \n",
       "15      pidgey  https://pokeapi.co/api/v2/pokemon/16/       3  16     21   \n",
       "16   pidgeotto  https://pokeapi.co/api/v2/pokemon/17/      11  17     22   \n",
       "17     pidgeot  https://pokeapi.co/api/v2/pokemon/18/      15  18     23   \n",
       "18     rattata  https://pokeapi.co/api/v2/pokemon/19/       3  19     25   \n",
       "19    raticate  https://pokeapi.co/api/v2/pokemon/20/       7  20     27   \n",
       "\n",
       "    weight  \n",
       "0       69  \n",
       "1      130  \n",
       "2     1000  \n",
       "3       85  \n",
       "4      190  \n",
       "5      905  \n",
       "6       90  \n",
       "7      225  \n",
       "8      855  \n",
       "9       29  \n",
       "10      99  \n",
       "11     320  \n",
       "12      32  \n",
       "13     100  \n",
       "14     295  \n",
       "15      18  \n",
       "16     300  \n",
       "17     395  \n",
       "18      35  \n",
       "19     185  "
      ],
      "text/html": "<div>\n<style scoped>\n    .dataframe tbody tr th:only-of-type {\n        vertical-align: middle;\n    }\n\n    .dataframe tbody tr th {\n        vertical-align: top;\n    }\n\n    .dataframe thead th {\n        text-align: right;\n    }\n</style>\n<table border=\"1\" class=\"dataframe\">\n  <thead>\n    <tr style=\"text-align: right;\">\n      <th></th>\n      <th>name</th>\n      <th>url</th>\n      <th>height</th>\n      <th>id</th>\n      <th>order</th>\n      <th>weight</th>\n    </tr>\n  </thead>\n  <tbody>\n    <tr>\n      <th>0</th>\n      <td>bulbasaur</td>\n      <td>https://pokeapi.co/api/v2/pokemon/1/</td>\n      <td>7</td>\n      <td>1</td>\n      <td>1</td>\n      <td>69</td>\n    </tr>\n    <tr>\n      <th>1</th>\n      <td>ivysaur</td>\n      <td>https://pokeapi.co/api/v2/pokemon/2/</td>\n      <td>10</td>\n      <td>2</td>\n      <td>2</td>\n      <td>130</td>\n    </tr>\n    <tr>\n      <th>2</th>\n      <td>venusaur</td>\n      <td>https://pokeapi.co/api/v2/pokemon/3/</td>\n      <td>20</td>\n      <td>3</td>\n      <td>3</td>\n      <td>1000</td>\n    </tr>\n    <tr>\n      <th>3</th>\n      <td>charmander</td>\n      <td>https://pokeapi.co/api/v2/pokemon/4/</td>\n      <td>6</td>\n      <td>4</td>\n      <td>5</td>\n      <td>85</td>\n    </tr>\n    <tr>\n      <th>4</th>\n      <td>charmeleon</td>\n      <td>https://pokeapi.co/api/v2/pokemon/5/</td>\n      <td>11</td>\n      <td>5</td>\n      <td>6</td>\n      <td>190</td>\n    </tr>\n    <tr>\n      <th>5</th>\n      <td>charizard</td>\n      <td>https://pokeapi.co/api/v2/pokemon/6/</td>\n      <td>17</td>\n      <td>6</td>\n      <td>7</td>\n      <td>905</td>\n    </tr>\n    <tr>\n      <th>6</th>\n      <td>squirtle</td>\n      <td>https://pokeapi.co/api/v2/pokemon/7/</td>\n      <td>5</td>\n      <td>7</td>\n      <td>10</td>\n      <td>90</td>\n    </tr>\n    <tr>\n      <th>7</th>\n      <td>wartortle</td>\n      <td>https://pokeapi.co/api/v2/pokemon/8/</td>\n      <td>10</td>\n      <td>8</td>\n      <td>11</td>\n      <td>225</td>\n    </tr>\n    <tr>\n      <th>8</th>\n      <td>blastoise</td>\n      <td>https://pokeapi.co/api/v2/pokemon/9/</td>\n      <td>16</td>\n      <td>9</td>\n      <td>12</td>\n      <td>855</td>\n    </tr>\n    <tr>\n      <th>9</th>\n      <td>caterpie</td>\n      <td>https://pokeapi.co/api/v2/pokemon/10/</td>\n      <td>3</td>\n      <td>10</td>\n      <td>14</td>\n      <td>29</td>\n    </tr>\n    <tr>\n      <th>10</th>\n      <td>metapod</td>\n      <td>https://pokeapi.co/api/v2/pokemon/11/</td>\n      <td>7</td>\n      <td>11</td>\n      <td>15</td>\n      <td>99</td>\n    </tr>\n    <tr>\n      <th>11</th>\n      <td>butterfree</td>\n      <td>https://pokeapi.co/api/v2/pokemon/12/</td>\n      <td>11</td>\n      <td>12</td>\n      <td>16</td>\n      <td>320</td>\n    </tr>\n    <tr>\n      <th>12</th>\n      <td>weedle</td>\n      <td>https://pokeapi.co/api/v2/pokemon/13/</td>\n      <td>3</td>\n      <td>13</td>\n      <td>17</td>\n      <td>32</td>\n    </tr>\n    <tr>\n      <th>13</th>\n      <td>kakuna</td>\n      <td>https://pokeapi.co/api/v2/pokemon/14/</td>\n      <td>6</td>\n      <td>14</td>\n      <td>18</td>\n      <td>100</td>\n    </tr>\n    <tr>\n      <th>14</th>\n      <td>beedrill</td>\n      <td>https://pokeapi.co/api/v2/pokemon/15/</td>\n      <td>10</td>\n      <td>15</td>\n      <td>19</td>\n      <td>295</td>\n    </tr>\n    <tr>\n      <th>15</th>\n      <td>pidgey</td>\n      <td>https://pokeapi.co/api/v2/pokemon/16/</td>\n      <td>3</td>\n      <td>16</td>\n      <td>21</td>\n      <td>18</td>\n    </tr>\n    <tr>\n      <th>16</th>\n      <td>pidgeotto</td>\n      <td>https://pokeapi.co/api/v2/pokemon/17/</td>\n      <td>11</td>\n      <td>17</td>\n      <td>22</td>\n      <td>300</td>\n    </tr>\n    <tr>\n      <th>17</th>\n      <td>pidgeot</td>\n      <td>https://pokeapi.co/api/v2/pokemon/18/</td>\n      <td>15</td>\n      <td>18</td>\n      <td>23</td>\n      <td>395</td>\n    </tr>\n    <tr>\n      <th>18</th>\n      <td>rattata</td>\n      <td>https://pokeapi.co/api/v2/pokemon/19/</td>\n      <td>3</td>\n      <td>19</td>\n      <td>25</td>\n      <td>35</td>\n    </tr>\n    <tr>\n      <th>19</th>\n      <td>raticate</td>\n      <td>https://pokeapi.co/api/v2/pokemon/20/</td>\n      <td>7</td>\n      <td>20</td>\n      <td>27</td>\n      <td>185</td>\n    </tr>\n  </tbody>\n</table>\n</div>"
     },
     "metadata": {},
     "execution_count": 71
    }
   ],
   "source": [
    "frame"
   ]
  },
  {
   "cell_type": "code",
   "execution_count": null,
   "metadata": {},
   "outputs": [],
   "source": [
    "# Hacer lo mismo que con el for pero con apply\n",
    "\n",
    "frame[\"height\"] = frame[\"more_info\"].apply(lambda x: x[\"height\"])\n",
    "frame[\"id\"] = frame[\"more_info\"].apply(lambda x: x[\"id\"])\n",
    "frame[\"order\"] = frame[\"more_info\"].apply(lambda x: x[\"order\"])\n",
    "frame[\"weight\"] = frame[\"more_info\"].apply(lambda x: x[\"weight\"])"
   ]
  }
 ]
}