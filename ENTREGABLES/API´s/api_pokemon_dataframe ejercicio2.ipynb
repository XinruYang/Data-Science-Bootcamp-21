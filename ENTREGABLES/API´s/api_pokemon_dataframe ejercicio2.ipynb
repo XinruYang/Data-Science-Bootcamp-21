{
 "metadata": {
  "language_info": {
   "codemirror_mode": {
    "name": "ipython",
    "version": 3
   },
   "file_extension": ".py",
   "mimetype": "text/x-python",
   "name": "python",
   "nbconvert_exporter": "python",
   "pygments_lexer": "ipython3",
   "version": "3.7.4"
  },
  "orig_nbformat": 2,
  "kernelspec": {
   "name": "python374jvsc74a57bd0fc2c00f0e2c44cb4028bd693f18a1b5d93d1de4cd12db71fca36ff691a163044",
   "display_name": "Python 3.7.4 64-bit"
  },
  "metadata": {
   "interpreter": {
    "hash": "fc2c00f0e2c44cb4028bd693f18a1b5d93d1de4cd12db71fca36ff691a163044"
   }
  }
 },
 "nbformat": 4,
 "nbformat_minor": 2,
 "cells": [
  {
   "source": [
    "### Ejercicio 1\n",
    "\n",
    "A partir de la API de Pokemon, se pide generar un DataFrame como el de la imagen con las columnas: \n",
    "\n",
    "- **\"height\",\"id\",\"order\",\"weight\",\"types\"**\n",
    "\n",
    "### Ejercicio 2\n",
    "\n",
    "¿Has visto que dentro del DataFrame la columna \"types\" hay diccionarios? Se pide agregar, por cada pokemon, las columnas necesarias al DataFrame para albergar toda la información de \"types\" (solo las keys)\n",
    "\n",
    "![](df_pk.PNG)"
   ],
   "cell_type": "markdown",
   "metadata": {}
  },
  {
   "cell_type": "code",
   "execution_count": 22,
   "metadata": {},
   "outputs": [],
   "source": [
    "import json\n",
    "import requests\n",
    "\n",
    "import pandas as pd\n",
    "from pandas.io.json import json_normalize"
   ]
  },
  {
   "cell_type": "code",
   "execution_count": 23,
   "metadata": {},
   "outputs": [],
   "source": [
    "url= \"https://pokeapi.co/api/v2/pokemon\"\n",
    "pokemon = requests.get(url).json()\n"
   ]
  },
  {
   "cell_type": "code",
   "execution_count": 26,
   "metadata": {},
   "outputs": [
    {
     "output_type": "execute_result",
     "data": {
      "text/plain": [
       "          name                                    url\n",
       "0    bulbasaur   https://pokeapi.co/api/v2/pokemon/1/\n",
       "1      ivysaur   https://pokeapi.co/api/v2/pokemon/2/\n",
       "2     venusaur   https://pokeapi.co/api/v2/pokemon/3/\n",
       "3   charmander   https://pokeapi.co/api/v2/pokemon/4/\n",
       "4   charmeleon   https://pokeapi.co/api/v2/pokemon/5/\n",
       "5    charizard   https://pokeapi.co/api/v2/pokemon/6/\n",
       "6     squirtle   https://pokeapi.co/api/v2/pokemon/7/\n",
       "7    wartortle   https://pokeapi.co/api/v2/pokemon/8/\n",
       "8    blastoise   https://pokeapi.co/api/v2/pokemon/9/\n",
       "9     caterpie  https://pokeapi.co/api/v2/pokemon/10/\n",
       "10     metapod  https://pokeapi.co/api/v2/pokemon/11/\n",
       "11  butterfree  https://pokeapi.co/api/v2/pokemon/12/\n",
       "12      weedle  https://pokeapi.co/api/v2/pokemon/13/\n",
       "13      kakuna  https://pokeapi.co/api/v2/pokemon/14/\n",
       "14    beedrill  https://pokeapi.co/api/v2/pokemon/15/\n",
       "15      pidgey  https://pokeapi.co/api/v2/pokemon/16/\n",
       "16   pidgeotto  https://pokeapi.co/api/v2/pokemon/17/\n",
       "17     pidgeot  https://pokeapi.co/api/v2/pokemon/18/\n",
       "18     rattata  https://pokeapi.co/api/v2/pokemon/19/\n",
       "19    raticate  https://pokeapi.co/api/v2/pokemon/20/"
      ],
      "text/html": "<div>\n<style scoped>\n    .dataframe tbody tr th:only-of-type {\n        vertical-align: middle;\n    }\n\n    .dataframe tbody tr th {\n        vertical-align: top;\n    }\n\n    .dataframe thead th {\n        text-align: right;\n    }\n</style>\n<table border=\"1\" class=\"dataframe\">\n  <thead>\n    <tr style=\"text-align: right;\">\n      <th></th>\n      <th>name</th>\n      <th>url</th>\n    </tr>\n  </thead>\n  <tbody>\n    <tr>\n      <th>0</th>\n      <td>bulbasaur</td>\n      <td>https://pokeapi.co/api/v2/pokemon/1/</td>\n    </tr>\n    <tr>\n      <th>1</th>\n      <td>ivysaur</td>\n      <td>https://pokeapi.co/api/v2/pokemon/2/</td>\n    </tr>\n    <tr>\n      <th>2</th>\n      <td>venusaur</td>\n      <td>https://pokeapi.co/api/v2/pokemon/3/</td>\n    </tr>\n    <tr>\n      <th>3</th>\n      <td>charmander</td>\n      <td>https://pokeapi.co/api/v2/pokemon/4/</td>\n    </tr>\n    <tr>\n      <th>4</th>\n      <td>charmeleon</td>\n      <td>https://pokeapi.co/api/v2/pokemon/5/</td>\n    </tr>\n    <tr>\n      <th>5</th>\n      <td>charizard</td>\n      <td>https://pokeapi.co/api/v2/pokemon/6/</td>\n    </tr>\n    <tr>\n      <th>6</th>\n      <td>squirtle</td>\n      <td>https://pokeapi.co/api/v2/pokemon/7/</td>\n    </tr>\n    <tr>\n      <th>7</th>\n      <td>wartortle</td>\n      <td>https://pokeapi.co/api/v2/pokemon/8/</td>\n    </tr>\n    <tr>\n      <th>8</th>\n      <td>blastoise</td>\n      <td>https://pokeapi.co/api/v2/pokemon/9/</td>\n    </tr>\n    <tr>\n      <th>9</th>\n      <td>caterpie</td>\n      <td>https://pokeapi.co/api/v2/pokemon/10/</td>\n    </tr>\n    <tr>\n      <th>10</th>\n      <td>metapod</td>\n      <td>https://pokeapi.co/api/v2/pokemon/11/</td>\n    </tr>\n    <tr>\n      <th>11</th>\n      <td>butterfree</td>\n      <td>https://pokeapi.co/api/v2/pokemon/12/</td>\n    </tr>\n    <tr>\n      <th>12</th>\n      <td>weedle</td>\n      <td>https://pokeapi.co/api/v2/pokemon/13/</td>\n    </tr>\n    <tr>\n      <th>13</th>\n      <td>kakuna</td>\n      <td>https://pokeapi.co/api/v2/pokemon/14/</td>\n    </tr>\n    <tr>\n      <th>14</th>\n      <td>beedrill</td>\n      <td>https://pokeapi.co/api/v2/pokemon/15/</td>\n    </tr>\n    <tr>\n      <th>15</th>\n      <td>pidgey</td>\n      <td>https://pokeapi.co/api/v2/pokemon/16/</td>\n    </tr>\n    <tr>\n      <th>16</th>\n      <td>pidgeotto</td>\n      <td>https://pokeapi.co/api/v2/pokemon/17/</td>\n    </tr>\n    <tr>\n      <th>17</th>\n      <td>pidgeot</td>\n      <td>https://pokeapi.co/api/v2/pokemon/18/</td>\n    </tr>\n    <tr>\n      <th>18</th>\n      <td>rattata</td>\n      <td>https://pokeapi.co/api/v2/pokemon/19/</td>\n    </tr>\n    <tr>\n      <th>19</th>\n      <td>raticate</td>\n      <td>https://pokeapi.co/api/v2/pokemon/20/</td>\n    </tr>\n  </tbody>\n</table>\n</div>"
     },
     "metadata": {},
     "execution_count": 26
    }
   ],
   "source": [
    "frame = pd.DataFrame(pokemon[\"results\"])\n",
    "frame"
   ]
  },
  {
   "cell_type": "code",
   "execution_count": 31,
   "metadata": {},
   "outputs": [
    {
     "output_type": "execute_result",
     "data": {
      "text/plain": [
       "          name                                    url  \\\n",
       "0    bulbasaur   https://pokeapi.co/api/v2/pokemon/1/   \n",
       "1      ivysaur   https://pokeapi.co/api/v2/pokemon/2/   \n",
       "2     venusaur   https://pokeapi.co/api/v2/pokemon/3/   \n",
       "3   charmander   https://pokeapi.co/api/v2/pokemon/4/   \n",
       "4   charmeleon   https://pokeapi.co/api/v2/pokemon/5/   \n",
       "5    charizard   https://pokeapi.co/api/v2/pokemon/6/   \n",
       "6     squirtle   https://pokeapi.co/api/v2/pokemon/7/   \n",
       "7    wartortle   https://pokeapi.co/api/v2/pokemon/8/   \n",
       "8    blastoise   https://pokeapi.co/api/v2/pokemon/9/   \n",
       "9     caterpie  https://pokeapi.co/api/v2/pokemon/10/   \n",
       "10     metapod  https://pokeapi.co/api/v2/pokemon/11/   \n",
       "11  butterfree  https://pokeapi.co/api/v2/pokemon/12/   \n",
       "12      weedle  https://pokeapi.co/api/v2/pokemon/13/   \n",
       "13      kakuna  https://pokeapi.co/api/v2/pokemon/14/   \n",
       "14    beedrill  https://pokeapi.co/api/v2/pokemon/15/   \n",
       "15      pidgey  https://pokeapi.co/api/v2/pokemon/16/   \n",
       "16   pidgeotto  https://pokeapi.co/api/v2/pokemon/17/   \n",
       "17     pidgeot  https://pokeapi.co/api/v2/pokemon/18/   \n",
       "18     rattata  https://pokeapi.co/api/v2/pokemon/19/   \n",
       "19    raticate  https://pokeapi.co/api/v2/pokemon/20/   \n",
       "\n",
       "                                            more_info  \n",
       "0   {'abilities': [{'ability': {'name': 'overgrow'...  \n",
       "1   {'abilities': [{'ability': {'name': 'overgrow'...  \n",
       "2   {'abilities': [{'ability': {'name': 'overgrow'...  \n",
       "3   {'abilities': [{'ability': {'name': 'blaze', '...  \n",
       "4   {'abilities': [{'ability': {'name': 'blaze', '...  \n",
       "5   {'abilities': [{'ability': {'name': 'blaze', '...  \n",
       "6   {'abilities': [{'ability': {'name': 'torrent',...  \n",
       "7   {'abilities': [{'ability': {'name': 'torrent',...  \n",
       "8   {'abilities': [{'ability': {'name': 'torrent',...  \n",
       "9   {'abilities': [{'ability': {'name': 'shield-du...  \n",
       "10  {'abilities': [{'ability': {'name': 'shed-skin...  \n",
       "11  {'abilities': [{'ability': {'name': 'compound-...  \n",
       "12  {'abilities': [{'ability': {'name': 'shield-du...  \n",
       "13  {'abilities': [{'ability': {'name': 'shed-skin...  \n",
       "14  {'abilities': [{'ability': {'name': 'swarm', '...  \n",
       "15  {'abilities': [{'ability': {'name': 'keen-eye'...  \n",
       "16  {'abilities': [{'ability': {'name': 'keen-eye'...  \n",
       "17  {'abilities': [{'ability': {'name': 'keen-eye'...  \n",
       "18  {'abilities': [{'ability': {'name': 'run-away'...  \n",
       "19  {'abilities': [{'ability': {'name': 'run-away'...  "
      ],
      "text/html": "<div>\n<style scoped>\n    .dataframe tbody tr th:only-of-type {\n        vertical-align: middle;\n    }\n\n    .dataframe tbody tr th {\n        vertical-align: top;\n    }\n\n    .dataframe thead th {\n        text-align: right;\n    }\n</style>\n<table border=\"1\" class=\"dataframe\">\n  <thead>\n    <tr style=\"text-align: right;\">\n      <th></th>\n      <th>name</th>\n      <th>url</th>\n      <th>more_info</th>\n    </tr>\n  </thead>\n  <tbody>\n    <tr>\n      <th>0</th>\n      <td>bulbasaur</td>\n      <td>https://pokeapi.co/api/v2/pokemon/1/</td>\n      <td>{'abilities': [{'ability': {'name': 'overgrow'...</td>\n    </tr>\n    <tr>\n      <th>1</th>\n      <td>ivysaur</td>\n      <td>https://pokeapi.co/api/v2/pokemon/2/</td>\n      <td>{'abilities': [{'ability': {'name': 'overgrow'...</td>\n    </tr>\n    <tr>\n      <th>2</th>\n      <td>venusaur</td>\n      <td>https://pokeapi.co/api/v2/pokemon/3/</td>\n      <td>{'abilities': [{'ability': {'name': 'overgrow'...</td>\n    </tr>\n    <tr>\n      <th>3</th>\n      <td>charmander</td>\n      <td>https://pokeapi.co/api/v2/pokemon/4/</td>\n      <td>{'abilities': [{'ability': {'name': 'blaze', '...</td>\n    </tr>\n    <tr>\n      <th>4</th>\n      <td>charmeleon</td>\n      <td>https://pokeapi.co/api/v2/pokemon/5/</td>\n      <td>{'abilities': [{'ability': {'name': 'blaze', '...</td>\n    </tr>\n    <tr>\n      <th>5</th>\n      <td>charizard</td>\n      <td>https://pokeapi.co/api/v2/pokemon/6/</td>\n      <td>{'abilities': [{'ability': {'name': 'blaze', '...</td>\n    </tr>\n    <tr>\n      <th>6</th>\n      <td>squirtle</td>\n      <td>https://pokeapi.co/api/v2/pokemon/7/</td>\n      <td>{'abilities': [{'ability': {'name': 'torrent',...</td>\n    </tr>\n    <tr>\n      <th>7</th>\n      <td>wartortle</td>\n      <td>https://pokeapi.co/api/v2/pokemon/8/</td>\n      <td>{'abilities': [{'ability': {'name': 'torrent',...</td>\n    </tr>\n    <tr>\n      <th>8</th>\n      <td>blastoise</td>\n      <td>https://pokeapi.co/api/v2/pokemon/9/</td>\n      <td>{'abilities': [{'ability': {'name': 'torrent',...</td>\n    </tr>\n    <tr>\n      <th>9</th>\n      <td>caterpie</td>\n      <td>https://pokeapi.co/api/v2/pokemon/10/</td>\n      <td>{'abilities': [{'ability': {'name': 'shield-du...</td>\n    </tr>\n    <tr>\n      <th>10</th>\n      <td>metapod</td>\n      <td>https://pokeapi.co/api/v2/pokemon/11/</td>\n      <td>{'abilities': [{'ability': {'name': 'shed-skin...</td>\n    </tr>\n    <tr>\n      <th>11</th>\n      <td>butterfree</td>\n      <td>https://pokeapi.co/api/v2/pokemon/12/</td>\n      <td>{'abilities': [{'ability': {'name': 'compound-...</td>\n    </tr>\n    <tr>\n      <th>12</th>\n      <td>weedle</td>\n      <td>https://pokeapi.co/api/v2/pokemon/13/</td>\n      <td>{'abilities': [{'ability': {'name': 'shield-du...</td>\n    </tr>\n    <tr>\n      <th>13</th>\n      <td>kakuna</td>\n      <td>https://pokeapi.co/api/v2/pokemon/14/</td>\n      <td>{'abilities': [{'ability': {'name': 'shed-skin...</td>\n    </tr>\n    <tr>\n      <th>14</th>\n      <td>beedrill</td>\n      <td>https://pokeapi.co/api/v2/pokemon/15/</td>\n      <td>{'abilities': [{'ability': {'name': 'swarm', '...</td>\n    </tr>\n    <tr>\n      <th>15</th>\n      <td>pidgey</td>\n      <td>https://pokeapi.co/api/v2/pokemon/16/</td>\n      <td>{'abilities': [{'ability': {'name': 'keen-eye'...</td>\n    </tr>\n    <tr>\n      <th>16</th>\n      <td>pidgeotto</td>\n      <td>https://pokeapi.co/api/v2/pokemon/17/</td>\n      <td>{'abilities': [{'ability': {'name': 'keen-eye'...</td>\n    </tr>\n    <tr>\n      <th>17</th>\n      <td>pidgeot</td>\n      <td>https://pokeapi.co/api/v2/pokemon/18/</td>\n      <td>{'abilities': [{'ability': {'name': 'keen-eye'...</td>\n    </tr>\n    <tr>\n      <th>18</th>\n      <td>rattata</td>\n      <td>https://pokeapi.co/api/v2/pokemon/19/</td>\n      <td>{'abilities': [{'ability': {'name': 'run-away'...</td>\n    </tr>\n    <tr>\n      <th>19</th>\n      <td>raticate</td>\n      <td>https://pokeapi.co/api/v2/pokemon/20/</td>\n      <td>{'abilities': [{'ability': {'name': 'run-away'...</td>\n    </tr>\n  </tbody>\n</table>\n</div>"
     },
     "metadata": {},
     "execution_count": 31
    }
   ],
   "source": [
    "# Con lambda estamos descargando los datos de la url que hay dentro del dataframe y añadiendolas a otra culumna more_info\n",
    "\n",
    "frame[\"more_info\"] = frame[\"url\"].apply(lambda x: requests.get(x).json()) \n",
    "frame"
   ]
  },
  {
   "cell_type": "code",
   "execution_count": 32,
   "metadata": {},
   "outputs": [
    {
     "output_type": "execute_result",
     "data": {
      "text/plain": [
       "20"
      ]
     },
     "metadata": {},
     "execution_count": 32
    }
   ],
   "source": [
    "len(frame[\"more_info\"])"
   ]
  },
  {
   "cell_type": "code",
   "execution_count": 33,
   "metadata": {},
   "outputs": [
    {
     "output_type": "execute_result",
     "data": {
      "text/plain": [
       "[{'slot': 1,\n",
       "  'type': {'name': 'grass', 'url': 'https://pokeapi.co/api/v2/type/12/'}},\n",
       " {'slot': 2,\n",
       "  'type': {'name': 'poison', 'url': 'https://pokeapi.co/api/v2/type/4/'}}]"
      ]
     },
     "metadata": {},
     "execution_count": 33
    }
   ],
   "source": [
    "frame[\"more_info\"][0][\"types\"]"
   ]
  },
  {
   "cell_type": "code",
   "execution_count": 34,
   "metadata": {},
   "outputs": [
    {
     "output_type": "execute_result",
     "data": {
      "text/plain": [
       "'grass'"
      ]
     },
     "metadata": {},
     "execution_count": 34
    }
   ],
   "source": [
    "frame[\"more_info\"][0][\"types\"][0][\"type\"][\"name\"]"
   ]
  },
  {
   "cell_type": "code",
   "execution_count": 35,
   "metadata": {},
   "outputs": [
    {
     "output_type": "execute_result",
     "data": {
      "text/plain": [
       "                                                types\n",
       "0   [{'slot': 1, 'type': {'name': 'grass', 'url': ...\n",
       "1   [{'slot': 1, 'type': {'name': 'grass', 'url': ...\n",
       "2   [{'slot': 1, 'type': {'name': 'grass', 'url': ...\n",
       "3   [{'slot': 1, 'type': {'name': 'fire', 'url': '...\n",
       "4   [{'slot': 1, 'type': {'name': 'fire', 'url': '...\n",
       "5   [{'slot': 1, 'type': {'name': 'fire', 'url': '...\n",
       "6   [{'slot': 1, 'type': {'name': 'water', 'url': ...\n",
       "7   [{'slot': 1, 'type': {'name': 'water', 'url': ...\n",
       "8   [{'slot': 1, 'type': {'name': 'water', 'url': ...\n",
       "9   [{'slot': 1, 'type': {'name': 'bug', 'url': 'h...\n",
       "10  [{'slot': 1, 'type': {'name': 'bug', 'url': 'h...\n",
       "11  [{'slot': 1, 'type': {'name': 'bug', 'url': 'h...\n",
       "12  [{'slot': 1, 'type': {'name': 'bug', 'url': 'h...\n",
       "13  [{'slot': 1, 'type': {'name': 'bug', 'url': 'h...\n",
       "14  [{'slot': 1, 'type': {'name': 'bug', 'url': 'h...\n",
       "15  [{'slot': 1, 'type': {'name': 'normal', 'url':...\n",
       "16  [{'slot': 1, 'type': {'name': 'normal', 'url':...\n",
       "17  [{'slot': 1, 'type': {'name': 'normal', 'url':...\n",
       "18  [{'slot': 1, 'type': {'name': 'normal', 'url':...\n",
       "19  [{'slot': 1, 'type': {'name': 'normal', 'url':..."
      ],
      "text/html": "<div>\n<style scoped>\n    .dataframe tbody tr th:only-of-type {\n        vertical-align: middle;\n    }\n\n    .dataframe tbody tr th {\n        vertical-align: top;\n    }\n\n    .dataframe thead th {\n        text-align: right;\n    }\n</style>\n<table border=\"1\" class=\"dataframe\">\n  <thead>\n    <tr style=\"text-align: right;\">\n      <th></th>\n      <th>types</th>\n    </tr>\n  </thead>\n  <tbody>\n    <tr>\n      <th>0</th>\n      <td>[{'slot': 1, 'type': {'name': 'grass', 'url': ...</td>\n    </tr>\n    <tr>\n      <th>1</th>\n      <td>[{'slot': 1, 'type': {'name': 'grass', 'url': ...</td>\n    </tr>\n    <tr>\n      <th>2</th>\n      <td>[{'slot': 1, 'type': {'name': 'grass', 'url': ...</td>\n    </tr>\n    <tr>\n      <th>3</th>\n      <td>[{'slot': 1, 'type': {'name': 'fire', 'url': '...</td>\n    </tr>\n    <tr>\n      <th>4</th>\n      <td>[{'slot': 1, 'type': {'name': 'fire', 'url': '...</td>\n    </tr>\n    <tr>\n      <th>5</th>\n      <td>[{'slot': 1, 'type': {'name': 'fire', 'url': '...</td>\n    </tr>\n    <tr>\n      <th>6</th>\n      <td>[{'slot': 1, 'type': {'name': 'water', 'url': ...</td>\n    </tr>\n    <tr>\n      <th>7</th>\n      <td>[{'slot': 1, 'type': {'name': 'water', 'url': ...</td>\n    </tr>\n    <tr>\n      <th>8</th>\n      <td>[{'slot': 1, 'type': {'name': 'water', 'url': ...</td>\n    </tr>\n    <tr>\n      <th>9</th>\n      <td>[{'slot': 1, 'type': {'name': 'bug', 'url': 'h...</td>\n    </tr>\n    <tr>\n      <th>10</th>\n      <td>[{'slot': 1, 'type': {'name': 'bug', 'url': 'h...</td>\n    </tr>\n    <tr>\n      <th>11</th>\n      <td>[{'slot': 1, 'type': {'name': 'bug', 'url': 'h...</td>\n    </tr>\n    <tr>\n      <th>12</th>\n      <td>[{'slot': 1, 'type': {'name': 'bug', 'url': 'h...</td>\n    </tr>\n    <tr>\n      <th>13</th>\n      <td>[{'slot': 1, 'type': {'name': 'bug', 'url': 'h...</td>\n    </tr>\n    <tr>\n      <th>14</th>\n      <td>[{'slot': 1, 'type': {'name': 'bug', 'url': 'h...</td>\n    </tr>\n    <tr>\n      <th>15</th>\n      <td>[{'slot': 1, 'type': {'name': 'normal', 'url':...</td>\n    </tr>\n    <tr>\n      <th>16</th>\n      <td>[{'slot': 1, 'type': {'name': 'normal', 'url':...</td>\n    </tr>\n    <tr>\n      <th>17</th>\n      <td>[{'slot': 1, 'type': {'name': 'normal', 'url':...</td>\n    </tr>\n    <tr>\n      <th>18</th>\n      <td>[{'slot': 1, 'type': {'name': 'normal', 'url':...</td>\n    </tr>\n    <tr>\n      <th>19</th>\n      <td>[{'slot': 1, 'type': {'name': 'normal', 'url':...</td>\n    </tr>\n  </tbody>\n</table>\n</div>"
     },
     "metadata": {},
     "execution_count": 35
    }
   ],
   "source": [
    "frame[\"types\"] = frame[\"more_info\"].apply(lambda x: x[\"types\"])\n",
    "pd.DataFrame(frame[\"types\"])"
   ]
  },
  {
   "cell_type": "code",
   "execution_count": 37,
   "metadata": {},
   "outputs": [
    {
     "output_type": "stream",
     "name": "stdout",
     "text": [
      "2\n2\n2\n1\n1\n2\n1\n1\n1\n1\n1\n2\n2\n2\n2\n2\n2\n2\n1\n1\n"
     ]
    }
   ],
   "source": [
    "for i in range(len(frame[\"types\"])):\n",
    "    print(len(frame[\"types\"][i]))"
   ]
  },
  {
   "cell_type": "code",
   "execution_count": 38,
   "metadata": {},
   "outputs": [],
   "source": [
    "names = []\n",
    "for i in range(len(frame[\"types\"])): \n",
    "    if len(frame[\"types\"][i]) < 2: \n",
    "        names.append(frame[\"types\"][i][0][\"type\"][\"name\"])\n",
    "    else:\n",
    "        names.append(frame[\"types\"][i][0][\"type\"][\"name\"] + \" \" + frame[\"types\"][i][1][\"type\"][\"name\"])\n",
    "    \n"
   ]
  },
  {
   "cell_type": "code",
   "execution_count": 39,
   "metadata": {},
   "outputs": [
    {
     "output_type": "execute_result",
     "data": {
      "text/plain": [
       "['grass poison',\n",
       " 'grass poison',\n",
       " 'grass poison',\n",
       " 'fire',\n",
       " 'fire',\n",
       " 'fire flying',\n",
       " 'water',\n",
       " 'water',\n",
       " 'water',\n",
       " 'bug',\n",
       " 'bug',\n",
       " 'bug flying',\n",
       " 'bug poison',\n",
       " 'bug poison',\n",
       " 'bug poison',\n",
       " 'normal flying',\n",
       " 'normal flying',\n",
       " 'normal flying',\n",
       " 'normal',\n",
       " 'normal']"
      ]
     },
     "metadata": {},
     "execution_count": 39
    }
   ],
   "source": [
    "names"
   ]
  },
  {
   "cell_type": "code",
   "execution_count": 40,
   "metadata": {},
   "outputs": [
    {
     "output_type": "execute_result",
     "data": {
      "text/plain": [
       "          name                                    url  \\\n",
       "0    bulbasaur   https://pokeapi.co/api/v2/pokemon/1/   \n",
       "1      ivysaur   https://pokeapi.co/api/v2/pokemon/2/   \n",
       "2     venusaur   https://pokeapi.co/api/v2/pokemon/3/   \n",
       "3   charmander   https://pokeapi.co/api/v2/pokemon/4/   \n",
       "4   charmeleon   https://pokeapi.co/api/v2/pokemon/5/   \n",
       "5    charizard   https://pokeapi.co/api/v2/pokemon/6/   \n",
       "6     squirtle   https://pokeapi.co/api/v2/pokemon/7/   \n",
       "7    wartortle   https://pokeapi.co/api/v2/pokemon/8/   \n",
       "8    blastoise   https://pokeapi.co/api/v2/pokemon/9/   \n",
       "9     caterpie  https://pokeapi.co/api/v2/pokemon/10/   \n",
       "10     metapod  https://pokeapi.co/api/v2/pokemon/11/   \n",
       "11  butterfree  https://pokeapi.co/api/v2/pokemon/12/   \n",
       "12      weedle  https://pokeapi.co/api/v2/pokemon/13/   \n",
       "13      kakuna  https://pokeapi.co/api/v2/pokemon/14/   \n",
       "14    beedrill  https://pokeapi.co/api/v2/pokemon/15/   \n",
       "15      pidgey  https://pokeapi.co/api/v2/pokemon/16/   \n",
       "16   pidgeotto  https://pokeapi.co/api/v2/pokemon/17/   \n",
       "17     pidgeot  https://pokeapi.co/api/v2/pokemon/18/   \n",
       "18     rattata  https://pokeapi.co/api/v2/pokemon/19/   \n",
       "19    raticate  https://pokeapi.co/api/v2/pokemon/20/   \n",
       "\n",
       "                                            more_info  \\\n",
       "0   {'abilities': [{'ability': {'name': 'overgrow'...   \n",
       "1   {'abilities': [{'ability': {'name': 'overgrow'...   \n",
       "2   {'abilities': [{'ability': {'name': 'overgrow'...   \n",
       "3   {'abilities': [{'ability': {'name': 'blaze', '...   \n",
       "4   {'abilities': [{'ability': {'name': 'blaze', '...   \n",
       "5   {'abilities': [{'ability': {'name': 'blaze', '...   \n",
       "6   {'abilities': [{'ability': {'name': 'torrent',...   \n",
       "7   {'abilities': [{'ability': {'name': 'torrent',...   \n",
       "8   {'abilities': [{'ability': {'name': 'torrent',...   \n",
       "9   {'abilities': [{'ability': {'name': 'shield-du...   \n",
       "10  {'abilities': [{'ability': {'name': 'shed-skin...   \n",
       "11  {'abilities': [{'ability': {'name': 'compound-...   \n",
       "12  {'abilities': [{'ability': {'name': 'shield-du...   \n",
       "13  {'abilities': [{'ability': {'name': 'shed-skin...   \n",
       "14  {'abilities': [{'ability': {'name': 'swarm', '...   \n",
       "15  {'abilities': [{'ability': {'name': 'keen-eye'...   \n",
       "16  {'abilities': [{'ability': {'name': 'keen-eye'...   \n",
       "17  {'abilities': [{'ability': {'name': 'keen-eye'...   \n",
       "18  {'abilities': [{'ability': {'name': 'run-away'...   \n",
       "19  {'abilities': [{'ability': {'name': 'run-away'...   \n",
       "\n",
       "                                                types          names  \n",
       "0   [{'slot': 1, 'type': {'name': 'grass', 'url': ...   grass poison  \n",
       "1   [{'slot': 1, 'type': {'name': 'grass', 'url': ...   grass poison  \n",
       "2   [{'slot': 1, 'type': {'name': 'grass', 'url': ...   grass poison  \n",
       "3   [{'slot': 1, 'type': {'name': 'fire', 'url': '...           fire  \n",
       "4   [{'slot': 1, 'type': {'name': 'fire', 'url': '...           fire  \n",
       "5   [{'slot': 1, 'type': {'name': 'fire', 'url': '...    fire flying  \n",
       "6   [{'slot': 1, 'type': {'name': 'water', 'url': ...          water  \n",
       "7   [{'slot': 1, 'type': {'name': 'water', 'url': ...          water  \n",
       "8   [{'slot': 1, 'type': {'name': 'water', 'url': ...          water  \n",
       "9   [{'slot': 1, 'type': {'name': 'bug', 'url': 'h...            bug  \n",
       "10  [{'slot': 1, 'type': {'name': 'bug', 'url': 'h...            bug  \n",
       "11  [{'slot': 1, 'type': {'name': 'bug', 'url': 'h...     bug flying  \n",
       "12  [{'slot': 1, 'type': {'name': 'bug', 'url': 'h...     bug poison  \n",
       "13  [{'slot': 1, 'type': {'name': 'bug', 'url': 'h...     bug poison  \n",
       "14  [{'slot': 1, 'type': {'name': 'bug', 'url': 'h...     bug poison  \n",
       "15  [{'slot': 1, 'type': {'name': 'normal', 'url':...  normal flying  \n",
       "16  [{'slot': 1, 'type': {'name': 'normal', 'url':...  normal flying  \n",
       "17  [{'slot': 1, 'type': {'name': 'normal', 'url':...  normal flying  \n",
       "18  [{'slot': 1, 'type': {'name': 'normal', 'url':...         normal  \n",
       "19  [{'slot': 1, 'type': {'name': 'normal', 'url':...         normal  "
      ],
      "text/html": "<div>\n<style scoped>\n    .dataframe tbody tr th:only-of-type {\n        vertical-align: middle;\n    }\n\n    .dataframe tbody tr th {\n        vertical-align: top;\n    }\n\n    .dataframe thead th {\n        text-align: right;\n    }\n</style>\n<table border=\"1\" class=\"dataframe\">\n  <thead>\n    <tr style=\"text-align: right;\">\n      <th></th>\n      <th>name</th>\n      <th>url</th>\n      <th>more_info</th>\n      <th>types</th>\n      <th>names</th>\n    </tr>\n  </thead>\n  <tbody>\n    <tr>\n      <th>0</th>\n      <td>bulbasaur</td>\n      <td>https://pokeapi.co/api/v2/pokemon/1/</td>\n      <td>{'abilities': [{'ability': {'name': 'overgrow'...</td>\n      <td>[{'slot': 1, 'type': {'name': 'grass', 'url': ...</td>\n      <td>grass poison</td>\n    </tr>\n    <tr>\n      <th>1</th>\n      <td>ivysaur</td>\n      <td>https://pokeapi.co/api/v2/pokemon/2/</td>\n      <td>{'abilities': [{'ability': {'name': 'overgrow'...</td>\n      <td>[{'slot': 1, 'type': {'name': 'grass', 'url': ...</td>\n      <td>grass poison</td>\n    </tr>\n    <tr>\n      <th>2</th>\n      <td>venusaur</td>\n      <td>https://pokeapi.co/api/v2/pokemon/3/</td>\n      <td>{'abilities': [{'ability': {'name': 'overgrow'...</td>\n      <td>[{'slot': 1, 'type': {'name': 'grass', 'url': ...</td>\n      <td>grass poison</td>\n    </tr>\n    <tr>\n      <th>3</th>\n      <td>charmander</td>\n      <td>https://pokeapi.co/api/v2/pokemon/4/</td>\n      <td>{'abilities': [{'ability': {'name': 'blaze', '...</td>\n      <td>[{'slot': 1, 'type': {'name': 'fire', 'url': '...</td>\n      <td>fire</td>\n    </tr>\n    <tr>\n      <th>4</th>\n      <td>charmeleon</td>\n      <td>https://pokeapi.co/api/v2/pokemon/5/</td>\n      <td>{'abilities': [{'ability': {'name': 'blaze', '...</td>\n      <td>[{'slot': 1, 'type': {'name': 'fire', 'url': '...</td>\n      <td>fire</td>\n    </tr>\n    <tr>\n      <th>5</th>\n      <td>charizard</td>\n      <td>https://pokeapi.co/api/v2/pokemon/6/</td>\n      <td>{'abilities': [{'ability': {'name': 'blaze', '...</td>\n      <td>[{'slot': 1, 'type': {'name': 'fire', 'url': '...</td>\n      <td>fire flying</td>\n    </tr>\n    <tr>\n      <th>6</th>\n      <td>squirtle</td>\n      <td>https://pokeapi.co/api/v2/pokemon/7/</td>\n      <td>{'abilities': [{'ability': {'name': 'torrent',...</td>\n      <td>[{'slot': 1, 'type': {'name': 'water', 'url': ...</td>\n      <td>water</td>\n    </tr>\n    <tr>\n      <th>7</th>\n      <td>wartortle</td>\n      <td>https://pokeapi.co/api/v2/pokemon/8/</td>\n      <td>{'abilities': [{'ability': {'name': 'torrent',...</td>\n      <td>[{'slot': 1, 'type': {'name': 'water', 'url': ...</td>\n      <td>water</td>\n    </tr>\n    <tr>\n      <th>8</th>\n      <td>blastoise</td>\n      <td>https://pokeapi.co/api/v2/pokemon/9/</td>\n      <td>{'abilities': [{'ability': {'name': 'torrent',...</td>\n      <td>[{'slot': 1, 'type': {'name': 'water', 'url': ...</td>\n      <td>water</td>\n    </tr>\n    <tr>\n      <th>9</th>\n      <td>caterpie</td>\n      <td>https://pokeapi.co/api/v2/pokemon/10/</td>\n      <td>{'abilities': [{'ability': {'name': 'shield-du...</td>\n      <td>[{'slot': 1, 'type': {'name': 'bug', 'url': 'h...</td>\n      <td>bug</td>\n    </tr>\n    <tr>\n      <th>10</th>\n      <td>metapod</td>\n      <td>https://pokeapi.co/api/v2/pokemon/11/</td>\n      <td>{'abilities': [{'ability': {'name': 'shed-skin...</td>\n      <td>[{'slot': 1, 'type': {'name': 'bug', 'url': 'h...</td>\n      <td>bug</td>\n    </tr>\n    <tr>\n      <th>11</th>\n      <td>butterfree</td>\n      <td>https://pokeapi.co/api/v2/pokemon/12/</td>\n      <td>{'abilities': [{'ability': {'name': 'compound-...</td>\n      <td>[{'slot': 1, 'type': {'name': 'bug', 'url': 'h...</td>\n      <td>bug flying</td>\n    </tr>\n    <tr>\n      <th>12</th>\n      <td>weedle</td>\n      <td>https://pokeapi.co/api/v2/pokemon/13/</td>\n      <td>{'abilities': [{'ability': {'name': 'shield-du...</td>\n      <td>[{'slot': 1, 'type': {'name': 'bug', 'url': 'h...</td>\n      <td>bug poison</td>\n    </tr>\n    <tr>\n      <th>13</th>\n      <td>kakuna</td>\n      <td>https://pokeapi.co/api/v2/pokemon/14/</td>\n      <td>{'abilities': [{'ability': {'name': 'shed-skin...</td>\n      <td>[{'slot': 1, 'type': {'name': 'bug', 'url': 'h...</td>\n      <td>bug poison</td>\n    </tr>\n    <tr>\n      <th>14</th>\n      <td>beedrill</td>\n      <td>https://pokeapi.co/api/v2/pokemon/15/</td>\n      <td>{'abilities': [{'ability': {'name': 'swarm', '...</td>\n      <td>[{'slot': 1, 'type': {'name': 'bug', 'url': 'h...</td>\n      <td>bug poison</td>\n    </tr>\n    <tr>\n      <th>15</th>\n      <td>pidgey</td>\n      <td>https://pokeapi.co/api/v2/pokemon/16/</td>\n      <td>{'abilities': [{'ability': {'name': 'keen-eye'...</td>\n      <td>[{'slot': 1, 'type': {'name': 'normal', 'url':...</td>\n      <td>normal flying</td>\n    </tr>\n    <tr>\n      <th>16</th>\n      <td>pidgeotto</td>\n      <td>https://pokeapi.co/api/v2/pokemon/17/</td>\n      <td>{'abilities': [{'ability': {'name': 'keen-eye'...</td>\n      <td>[{'slot': 1, 'type': {'name': 'normal', 'url':...</td>\n      <td>normal flying</td>\n    </tr>\n    <tr>\n      <th>17</th>\n      <td>pidgeot</td>\n      <td>https://pokeapi.co/api/v2/pokemon/18/</td>\n      <td>{'abilities': [{'ability': {'name': 'keen-eye'...</td>\n      <td>[{'slot': 1, 'type': {'name': 'normal', 'url':...</td>\n      <td>normal flying</td>\n    </tr>\n    <tr>\n      <th>18</th>\n      <td>rattata</td>\n      <td>https://pokeapi.co/api/v2/pokemon/19/</td>\n      <td>{'abilities': [{'ability': {'name': 'run-away'...</td>\n      <td>[{'slot': 1, 'type': {'name': 'normal', 'url':...</td>\n      <td>normal</td>\n    </tr>\n    <tr>\n      <th>19</th>\n      <td>raticate</td>\n      <td>https://pokeapi.co/api/v2/pokemon/20/</td>\n      <td>{'abilities': [{'ability': {'name': 'run-away'...</td>\n      <td>[{'slot': 1, 'type': {'name': 'normal', 'url':...</td>\n      <td>normal</td>\n    </tr>\n  </tbody>\n</table>\n</div>"
     },
     "metadata": {},
     "execution_count": 40
    }
   ],
   "source": [
    "frame[\"names\"] = names\n",
    "frame"
   ]
  },
  {
   "cell_type": "code",
   "execution_count": 41,
   "metadata": {},
   "outputs": [],
   "source": [
    "\n",
    "frame[\"height\"] = frame[\"more_info\"].apply(lambda x: x[\"height\"])\n",
    "frame[\"id\"] = frame[\"more_info\"].apply(lambda x: x[\"id\"])\n",
    "frame[\"order\"] = frame[\"more_info\"].apply(lambda x: x[\"order\"])\n",
    "frame[\"weight\"] = frame[\"more_info\"].apply(lambda x: x[\"weight\"])"
   ]
  },
  {
   "cell_type": "code",
   "execution_count": 43,
   "metadata": {},
   "outputs": [
    {
     "output_type": "execute_result",
     "data": {
      "text/plain": [
       "0     {'abilities': [{'ability': {'name': 'overgrow'...\n",
       "1     {'abilities': [{'ability': {'name': 'overgrow'...\n",
       "2     {'abilities': [{'ability': {'name': 'overgrow'...\n",
       "3     {'abilities': [{'ability': {'name': 'blaze', '...\n",
       "4     {'abilities': [{'ability': {'name': 'blaze', '...\n",
       "5     {'abilities': [{'ability': {'name': 'blaze', '...\n",
       "6     {'abilities': [{'ability': {'name': 'torrent',...\n",
       "7     {'abilities': [{'ability': {'name': 'torrent',...\n",
       "8     {'abilities': [{'ability': {'name': 'torrent',...\n",
       "9     {'abilities': [{'ability': {'name': 'shield-du...\n",
       "10    {'abilities': [{'ability': {'name': 'shed-skin...\n",
       "11    {'abilities': [{'ability': {'name': 'compound-...\n",
       "12    {'abilities': [{'ability': {'name': 'shield-du...\n",
       "13    {'abilities': [{'ability': {'name': 'shed-skin...\n",
       "14    {'abilities': [{'ability': {'name': 'swarm', '...\n",
       "15    {'abilities': [{'ability': {'name': 'keen-eye'...\n",
       "16    {'abilities': [{'ability': {'name': 'keen-eye'...\n",
       "17    {'abilities': [{'ability': {'name': 'keen-eye'...\n",
       "18    {'abilities': [{'ability': {'name': 'run-away'...\n",
       "19    {'abilities': [{'ability': {'name': 'run-away'...\n",
       "Name: more_info, dtype: object"
      ]
     },
     "metadata": {},
     "execution_count": 43
    }
   ],
   "source": [
    "frame.pop(\"types\")\n",
    "frame.pop(\"more_info\")"
   ]
  },
  {
   "cell_type": "code",
   "execution_count": 44,
   "metadata": {},
   "outputs": [
    {
     "output_type": "execute_result",
     "data": {
      "text/plain": [
       "          name                                    url          names  height  \\\n",
       "0    bulbasaur   https://pokeapi.co/api/v2/pokemon/1/   grass poison       7   \n",
       "1      ivysaur   https://pokeapi.co/api/v2/pokemon/2/   grass poison      10   \n",
       "2     venusaur   https://pokeapi.co/api/v2/pokemon/3/   grass poison      20   \n",
       "3   charmander   https://pokeapi.co/api/v2/pokemon/4/           fire       6   \n",
       "4   charmeleon   https://pokeapi.co/api/v2/pokemon/5/           fire      11   \n",
       "5    charizard   https://pokeapi.co/api/v2/pokemon/6/    fire flying      17   \n",
       "6     squirtle   https://pokeapi.co/api/v2/pokemon/7/          water       5   \n",
       "7    wartortle   https://pokeapi.co/api/v2/pokemon/8/          water      10   \n",
       "8    blastoise   https://pokeapi.co/api/v2/pokemon/9/          water      16   \n",
       "9     caterpie  https://pokeapi.co/api/v2/pokemon/10/            bug       3   \n",
       "10     metapod  https://pokeapi.co/api/v2/pokemon/11/            bug       7   \n",
       "11  butterfree  https://pokeapi.co/api/v2/pokemon/12/     bug flying      11   \n",
       "12      weedle  https://pokeapi.co/api/v2/pokemon/13/     bug poison       3   \n",
       "13      kakuna  https://pokeapi.co/api/v2/pokemon/14/     bug poison       6   \n",
       "14    beedrill  https://pokeapi.co/api/v2/pokemon/15/     bug poison      10   \n",
       "15      pidgey  https://pokeapi.co/api/v2/pokemon/16/  normal flying       3   \n",
       "16   pidgeotto  https://pokeapi.co/api/v2/pokemon/17/  normal flying      11   \n",
       "17     pidgeot  https://pokeapi.co/api/v2/pokemon/18/  normal flying      15   \n",
       "18     rattata  https://pokeapi.co/api/v2/pokemon/19/         normal       3   \n",
       "19    raticate  https://pokeapi.co/api/v2/pokemon/20/         normal       7   \n",
       "\n",
       "    id  order  weight  \n",
       "0    1      1      69  \n",
       "1    2      2     130  \n",
       "2    3      3    1000  \n",
       "3    4      5      85  \n",
       "4    5      6     190  \n",
       "5    6      7     905  \n",
       "6    7     10      90  \n",
       "7    8     11     225  \n",
       "8    9     12     855  \n",
       "9   10     14      29  \n",
       "10  11     15      99  \n",
       "11  12     16     320  \n",
       "12  13     17      32  \n",
       "13  14     18     100  \n",
       "14  15     19     295  \n",
       "15  16     21      18  \n",
       "16  17     22     300  \n",
       "17  18     23     395  \n",
       "18  19     25      35  \n",
       "19  20     27     185  "
      ],
      "text/html": "<div>\n<style scoped>\n    .dataframe tbody tr th:only-of-type {\n        vertical-align: middle;\n    }\n\n    .dataframe tbody tr th {\n        vertical-align: top;\n    }\n\n    .dataframe thead th {\n        text-align: right;\n    }\n</style>\n<table border=\"1\" class=\"dataframe\">\n  <thead>\n    <tr style=\"text-align: right;\">\n      <th></th>\n      <th>name</th>\n      <th>url</th>\n      <th>names</th>\n      <th>height</th>\n      <th>id</th>\n      <th>order</th>\n      <th>weight</th>\n    </tr>\n  </thead>\n  <tbody>\n    <tr>\n      <th>0</th>\n      <td>bulbasaur</td>\n      <td>https://pokeapi.co/api/v2/pokemon/1/</td>\n      <td>grass poison</td>\n      <td>7</td>\n      <td>1</td>\n      <td>1</td>\n      <td>69</td>\n    </tr>\n    <tr>\n      <th>1</th>\n      <td>ivysaur</td>\n      <td>https://pokeapi.co/api/v2/pokemon/2/</td>\n      <td>grass poison</td>\n      <td>10</td>\n      <td>2</td>\n      <td>2</td>\n      <td>130</td>\n    </tr>\n    <tr>\n      <th>2</th>\n      <td>venusaur</td>\n      <td>https://pokeapi.co/api/v2/pokemon/3/</td>\n      <td>grass poison</td>\n      <td>20</td>\n      <td>3</td>\n      <td>3</td>\n      <td>1000</td>\n    </tr>\n    <tr>\n      <th>3</th>\n      <td>charmander</td>\n      <td>https://pokeapi.co/api/v2/pokemon/4/</td>\n      <td>fire</td>\n      <td>6</td>\n      <td>4</td>\n      <td>5</td>\n      <td>85</td>\n    </tr>\n    <tr>\n      <th>4</th>\n      <td>charmeleon</td>\n      <td>https://pokeapi.co/api/v2/pokemon/5/</td>\n      <td>fire</td>\n      <td>11</td>\n      <td>5</td>\n      <td>6</td>\n      <td>190</td>\n    </tr>\n    <tr>\n      <th>5</th>\n      <td>charizard</td>\n      <td>https://pokeapi.co/api/v2/pokemon/6/</td>\n      <td>fire flying</td>\n      <td>17</td>\n      <td>6</td>\n      <td>7</td>\n      <td>905</td>\n    </tr>\n    <tr>\n      <th>6</th>\n      <td>squirtle</td>\n      <td>https://pokeapi.co/api/v2/pokemon/7/</td>\n      <td>water</td>\n      <td>5</td>\n      <td>7</td>\n      <td>10</td>\n      <td>90</td>\n    </tr>\n    <tr>\n      <th>7</th>\n      <td>wartortle</td>\n      <td>https://pokeapi.co/api/v2/pokemon/8/</td>\n      <td>water</td>\n      <td>10</td>\n      <td>8</td>\n      <td>11</td>\n      <td>225</td>\n    </tr>\n    <tr>\n      <th>8</th>\n      <td>blastoise</td>\n      <td>https://pokeapi.co/api/v2/pokemon/9/</td>\n      <td>water</td>\n      <td>16</td>\n      <td>9</td>\n      <td>12</td>\n      <td>855</td>\n    </tr>\n    <tr>\n      <th>9</th>\n      <td>caterpie</td>\n      <td>https://pokeapi.co/api/v2/pokemon/10/</td>\n      <td>bug</td>\n      <td>3</td>\n      <td>10</td>\n      <td>14</td>\n      <td>29</td>\n    </tr>\n    <tr>\n      <th>10</th>\n      <td>metapod</td>\n      <td>https://pokeapi.co/api/v2/pokemon/11/</td>\n      <td>bug</td>\n      <td>7</td>\n      <td>11</td>\n      <td>15</td>\n      <td>99</td>\n    </tr>\n    <tr>\n      <th>11</th>\n      <td>butterfree</td>\n      <td>https://pokeapi.co/api/v2/pokemon/12/</td>\n      <td>bug flying</td>\n      <td>11</td>\n      <td>12</td>\n      <td>16</td>\n      <td>320</td>\n    </tr>\n    <tr>\n      <th>12</th>\n      <td>weedle</td>\n      <td>https://pokeapi.co/api/v2/pokemon/13/</td>\n      <td>bug poison</td>\n      <td>3</td>\n      <td>13</td>\n      <td>17</td>\n      <td>32</td>\n    </tr>\n    <tr>\n      <th>13</th>\n      <td>kakuna</td>\n      <td>https://pokeapi.co/api/v2/pokemon/14/</td>\n      <td>bug poison</td>\n      <td>6</td>\n      <td>14</td>\n      <td>18</td>\n      <td>100</td>\n    </tr>\n    <tr>\n      <th>14</th>\n      <td>beedrill</td>\n      <td>https://pokeapi.co/api/v2/pokemon/15/</td>\n      <td>bug poison</td>\n      <td>10</td>\n      <td>15</td>\n      <td>19</td>\n      <td>295</td>\n    </tr>\n    <tr>\n      <th>15</th>\n      <td>pidgey</td>\n      <td>https://pokeapi.co/api/v2/pokemon/16/</td>\n      <td>normal flying</td>\n      <td>3</td>\n      <td>16</td>\n      <td>21</td>\n      <td>18</td>\n    </tr>\n    <tr>\n      <th>16</th>\n      <td>pidgeotto</td>\n      <td>https://pokeapi.co/api/v2/pokemon/17/</td>\n      <td>normal flying</td>\n      <td>11</td>\n      <td>17</td>\n      <td>22</td>\n      <td>300</td>\n    </tr>\n    <tr>\n      <th>17</th>\n      <td>pidgeot</td>\n      <td>https://pokeapi.co/api/v2/pokemon/18/</td>\n      <td>normal flying</td>\n      <td>15</td>\n      <td>18</td>\n      <td>23</td>\n      <td>395</td>\n    </tr>\n    <tr>\n      <th>18</th>\n      <td>rattata</td>\n      <td>https://pokeapi.co/api/v2/pokemon/19/</td>\n      <td>normal</td>\n      <td>3</td>\n      <td>19</td>\n      <td>25</td>\n      <td>35</td>\n    </tr>\n    <tr>\n      <th>19</th>\n      <td>raticate</td>\n      <td>https://pokeapi.co/api/v2/pokemon/20/</td>\n      <td>normal</td>\n      <td>7</td>\n      <td>20</td>\n      <td>27</td>\n      <td>185</td>\n    </tr>\n  </tbody>\n</table>\n</div>"
     },
     "metadata": {},
     "execution_count": 44
    }
   ],
   "source": [
    "frame"
   ]
  },
  {
   "cell_type": "code",
   "execution_count": 30,
   "metadata": {},
   "outputs": [],
   "source": [
    "import time"
   ]
  },
  {
   "cell_type": "code",
   "execution_count": 31,
   "metadata": {},
   "outputs": [
    {
     "output_type": "stream",
     "name": "stdout",
     "text": [
      "17.5 ns ± 0.169 ns per loop (mean ± std. dev. of 7 runs, 100000000 loops each)\n"
     ]
    }
   ],
   "source": [
    "%%timeit\n",
    "dataframe"
   ]
  },
  {
   "cell_type": "code",
   "execution_count": null,
   "metadata": {},
   "outputs": [],
   "source": []
  }
 ]
}