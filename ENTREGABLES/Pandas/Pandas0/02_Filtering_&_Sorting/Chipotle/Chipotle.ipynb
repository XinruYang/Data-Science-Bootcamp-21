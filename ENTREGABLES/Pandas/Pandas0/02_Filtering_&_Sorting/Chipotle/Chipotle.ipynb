{
 "cells": [
  {
   "cell_type": "markdown",
   "metadata": {},
   "source": [
    "# 02 - Filtering and Sorting Data"
   ]
  },
  {
   "cell_type": "markdown",
   "metadata": {},
   "source": [
    "\n",
    "\n",
    "### Step 1. Import the necessary libraries"
   ]
  },
  {
   "cell_type": "code",
   "execution_count": 2,
   "metadata": {},
   "outputs": [],
   "source": [
    "import pandas as pd \n",
    "import numpy as np\n",
    "import requests\n",
    "import json"
   ]
  },
  {
   "cell_type": "markdown",
   "metadata": {},
   "source": [
    "### Step 2. Import the dataset from this [address](https://raw.githubusercontent.com/justmarkham/DAT8/master/data/tle.tsv). Assign it to a variable called .\n",
    "\n",
    "This time we are going to pull data directly from the internet."
   ]
  },
  {
   "cell_type": "code",
   "execution_count": 29,
   "metadata": {},
   "outputs": [],
   "source": [
    "address = \"https://raw.githubusercontent.com/justmarkham/DAT8/master/data/tle.tsv\""
   ]
  },
  {
   "cell_type": "code",
   "execution_count": 20,
   "metadata": {},
   "outputs": [
    {
     "output_type": "execute_result",
     "data": {
      "text/plain": [
       "      order_id  quantity                              item_name  \\\n",
       "0            1         1           Chips and Fresh Tomato Salsa   \n",
       "1            1         1                                   Izze   \n",
       "2            1         1                       Nantucket Nectar   \n",
       "3            1         1  Chips and Tomatillo-Green Chili Salsa   \n",
       "4            2         2                           Chicken Bowl   \n",
       "...        ...       ...                                    ...   \n",
       "4617      1833         1                          Steak Burrito   \n",
       "4618      1833         1                          Steak Burrito   \n",
       "4619      1834         1                     Chicken Salad Bowl   \n",
       "4620      1834         1                     Chicken Salad Bowl   \n",
       "4621      1834         1                     Chicken Salad Bowl   \n",
       "\n",
       "                                     choice_description item_price  \n",
       "0                                                   NaN     $2.39   \n",
       "1                                          [Clementine]     $3.39   \n",
       "2                                               [Apple]     $3.39   \n",
       "3                                                   NaN     $2.39   \n",
       "4     [Tomatillo-Red Chili Salsa (Hot), [Black Beans...    $16.98   \n",
       "...                                                 ...        ...  \n",
       "4617  [Fresh Tomato Salsa, [Rice, Black Beans, Sour ...    $11.75   \n",
       "4618  [Fresh Tomato Salsa, [Rice, Sour Cream, Cheese...    $11.75   \n",
       "4619  [Fresh Tomato Salsa, [Fajita Vegetables, Pinto...    $11.25   \n",
       "4620  [Fresh Tomato Salsa, [Fajita Vegetables, Lettu...     $8.75   \n",
       "4621  [Fresh Tomato Salsa, [Fajita Vegetables, Pinto...     $8.75   \n",
       "\n",
       "[4622 rows x 5 columns]"
      ],
      "text/html": "<div>\n<style scoped>\n    .dataframe tbody tr th:only-of-type {\n        vertical-align: middle;\n    }\n\n    .dataframe tbody tr th {\n        vertical-align: top;\n    }\n\n    .dataframe thead th {\n        text-align: right;\n    }\n</style>\n<table border=\"1\" class=\"dataframe\">\n  <thead>\n    <tr style=\"text-align: right;\">\n      <th></th>\n      <th>order_id</th>\n      <th>quantity</th>\n      <th>item_name</th>\n      <th>choice_description</th>\n      <th>item_price</th>\n    </tr>\n  </thead>\n  <tbody>\n    <tr>\n      <th>0</th>\n      <td>1</td>\n      <td>1</td>\n      <td>Chips and Fresh Tomato Salsa</td>\n      <td>NaN</td>\n      <td>$2.39</td>\n    </tr>\n    <tr>\n      <th>1</th>\n      <td>1</td>\n      <td>1</td>\n      <td>Izze</td>\n      <td>[Clementine]</td>\n      <td>$3.39</td>\n    </tr>\n    <tr>\n      <th>2</th>\n      <td>1</td>\n      <td>1</td>\n      <td>Nantucket Nectar</td>\n      <td>[Apple]</td>\n      <td>$3.39</td>\n    </tr>\n    <tr>\n      <th>3</th>\n      <td>1</td>\n      <td>1</td>\n      <td>Chips and Tomatillo-Green Chili Salsa</td>\n      <td>NaN</td>\n      <td>$2.39</td>\n    </tr>\n    <tr>\n      <th>4</th>\n      <td>2</td>\n      <td>2</td>\n      <td>Chicken Bowl</td>\n      <td>[Tomatillo-Red Chili Salsa (Hot), [Black Beans...</td>\n      <td>$16.98</td>\n    </tr>\n    <tr>\n      <th>...</th>\n      <td>...</td>\n      <td>...</td>\n      <td>...</td>\n      <td>...</td>\n      <td>...</td>\n    </tr>\n    <tr>\n      <th>4617</th>\n      <td>1833</td>\n      <td>1</td>\n      <td>Steak Burrito</td>\n      <td>[Fresh Tomato Salsa, [Rice, Black Beans, Sour ...</td>\n      <td>$11.75</td>\n    </tr>\n    <tr>\n      <th>4618</th>\n      <td>1833</td>\n      <td>1</td>\n      <td>Steak Burrito</td>\n      <td>[Fresh Tomato Salsa, [Rice, Sour Cream, Cheese...</td>\n      <td>$11.75</td>\n    </tr>\n    <tr>\n      <th>4619</th>\n      <td>1834</td>\n      <td>1</td>\n      <td>Chicken Salad Bowl</td>\n      <td>[Fresh Tomato Salsa, [Fajita Vegetables, Pinto...</td>\n      <td>$11.25</td>\n    </tr>\n    <tr>\n      <th>4620</th>\n      <td>1834</td>\n      <td>1</td>\n      <td>Chicken Salad Bowl</td>\n      <td>[Fresh Tomato Salsa, [Fajita Vegetables, Lettu...</td>\n      <td>$8.75</td>\n    </tr>\n    <tr>\n      <th>4621</th>\n      <td>1834</td>\n      <td>1</td>\n      <td>Chicken Salad Bowl</td>\n      <td>[Fresh Tomato Salsa, [Fajita Vegetables, Pinto...</td>\n      <td>$8.75</td>\n    </tr>\n  </tbody>\n</table>\n<p>4622 rows × 5 columns</p>\n</div>"
     },
     "metadata": {},
     "execution_count": 20
    }
   ],
   "source": [
    " = pd.read_csv(address,sep=\"\\t\")\n",
    ""
   ]
  },
  {
   "cell_type": "code",
   "execution_count": null,
   "metadata": {},
   "outputs": [],
   "source": []
  },
  {
   "cell_type": "markdown",
   "metadata": {},
   "source": [
    "### Step 3. Name of the most expensive products (item_name)\n",
    "\n",
    "¿Recuerdas el `map`? En **pandas** tienes el método [`apply`](https://pandas.pydata.org/pandas-docs/stable/reference/api/pandas.DataFrame.apply.html) y en para resolver este ejercicio te puede ser muy útil. \n",
    "\n",
    "Pero no acaba ahí https://stackoverflow.com/questions/19798153/difference-between-map-applymap-and-apply-methods-in-pandas"
   ]
  },
  {
   "cell_type": "code",
   "execution_count": 39,
   "metadata": {},
   "outputs": [],
   "source": [
    "[\"price_w\"] = [\"item_price\"].apply(lambda x: float(x[1:]) )"
   ]
  },
  {
   "cell_type": "code",
   "execution_count": 40,
   "metadata": {},
   "outputs": [
    {
     "output_type": "stream",
     "name": "stdout",
     "text": [
      "<class 'pandas.core.frame.DataFrame'>\nRangeIndex: 4622 entries, 0 to 4621\nData columns (total 6 columns):\n #   Column              Non-Null Count  Dtype  \n---  ------              --------------  -----  \n 0   order_id            4622 non-null   int64  \n 1   quantity            4622 non-null   int64  \n 2   item_name           4622 non-null   object \n 3   choice_description  3376 non-null   object \n 4   item_price          4622 non-null   object \n 5   price_w             4622 non-null   float64\ndtypes: float64(1), int64(2), object(3)\nmemory usage: 216.8+ KB\n"
     ]
    }
   ],
   "source": [
    ".info()"
   ]
  },
  {
   "cell_type": "code",
   "execution_count": 48,
   "metadata": {},
   "outputs": [
    {
     "output_type": "execute_result",
     "data": {
      "text/plain": [
       "'Chips and Fresh Tomato Salsa'"
      ]
     },
     "metadata": {},
     "execution_count": 48
    }
   ],
   "source": [
    "# Máscara : Imprime \"item_name\" en la posición para cuando se cumpla la condición que tiene en los corchetes de la derecha. El .values sirve para crear un array y para poder acceder a las posiciones. si no ponemos la posicion se muestran todos los valores para los que se cumplen la condicion\n",
    "[\"item_name\"][[\"price_w\"] == [\"price_w\"].max()].values[0]"
   ]
  },
  {
   "cell_type": "code",
   "execution_count": 45,
   "metadata": {},
   "outputs": [
    {
     "output_type": "execute_result",
     "data": {
      "text/plain": [
       "array(['Chips and Fresh Tomato Salsa'], dtype=object)"
      ]
     },
     "metadata": {},
     "execution_count": 45
    }
   ],
   "source": [
    "\n",
    "# mask es la condición que tiene que cumplir. Muestra los valores de la columna \"item_name\" cuando cumple la condición de mask\n",
    "mask = [\"price_w\"] == [\"price_w\"].max()\n",
    "[\"item_name\"][mask].values"
   ]
  },
  {
   "cell_type": "markdown",
   "metadata": {},
   "source": [
    "### Step 4. How many products cost more than $10.00?"
   ]
  },
  {
   "cell_type": "code",
   "execution_count": 49,
   "metadata": {},
   "outputs": [],
   "source": [
    "mascara = mask = [\"price_w\"] > 10.00"
   ]
  },
  {
   "cell_type": "code",
   "execution_count": 51,
   "metadata": {},
   "outputs": [],
   "source": [
    "x = [\"item_name\"][mascara].values"
   ]
  },
  {
   "cell_type": "code",
   "execution_count": 52,
   "metadata": {},
   "outputs": [
    {
     "output_type": "stream",
     "name": "stdout",
     "text": [
      "['Chicken Bowl' 'Chicken Bowl' 'Steak Burrito' ... 'Steak Burrito'\n 'Steak Burrito' 'Chicken Salad Bowl']\n1130\n"
     ]
    }
   ],
   "source": [
    "print(x)\n",
    "print(len(x))"
   ]
  },
  {
   "cell_type": "markdown",
   "metadata": {},
   "source": [
    "### Step 5. What is the price of each item? \n",
    "###### print a data frame with only two columns item_name and item_price"
   ]
  },
  {
   "cell_type": "code",
   "execution_count": 57,
   "metadata": {},
   "outputs": [
    {
     "output_type": "execute_result",
     "data": {
      "text/plain": [
       "                                  item_name item_price\n",
       "0              Chips and Fresh Tomato Salsa     $2.39 \n",
       "1                                      Izze     $3.39 \n",
       "2                          Nantucket Nectar     $3.39 \n",
       "3     Chips and Tomatillo-Green Chili Salsa     $2.39 \n",
       "4                              Chicken Bowl    $16.98 \n",
       "...                                     ...        ...\n",
       "4617                          Steak Burrito    $11.75 \n",
       "4618                          Steak Burrito    $11.75 \n",
       "4619                     Chicken Salad Bowl    $11.25 \n",
       "4620                     Chicken Salad Bowl     $8.75 \n",
       "4621                     Chicken Salad Bowl     $8.75 \n",
       "\n",
       "[4622 rows x 2 columns]"
      ],
      "text/html": "<div>\n<style scoped>\n    .dataframe tbody tr th:only-of-type {\n        vertical-align: middle;\n    }\n\n    .dataframe tbody tr th {\n        vertical-align: top;\n    }\n\n    .dataframe thead th {\n        text-align: right;\n    }\n</style>\n<table border=\"1\" class=\"dataframe\">\n  <thead>\n    <tr style=\"text-align: right;\">\n      <th></th>\n      <th>item_name</th>\n      <th>item_price</th>\n    </tr>\n  </thead>\n  <tbody>\n    <tr>\n      <th>0</th>\n      <td>Chips and Fresh Tomato Salsa</td>\n      <td>$2.39</td>\n    </tr>\n    <tr>\n      <th>1</th>\n      <td>Izze</td>\n      <td>$3.39</td>\n    </tr>\n    <tr>\n      <th>2</th>\n      <td>Nantucket Nectar</td>\n      <td>$3.39</td>\n    </tr>\n    <tr>\n      <th>3</th>\n      <td>Chips and Tomatillo-Green Chili Salsa</td>\n      <td>$2.39</td>\n    </tr>\n    <tr>\n      <th>4</th>\n      <td>Chicken Bowl</td>\n      <td>$16.98</td>\n    </tr>\n    <tr>\n      <th>...</th>\n      <td>...</td>\n      <td>...</td>\n    </tr>\n    <tr>\n      <th>4617</th>\n      <td>Steak Burrito</td>\n      <td>$11.75</td>\n    </tr>\n    <tr>\n      <th>4618</th>\n      <td>Steak Burrito</td>\n      <td>$11.75</td>\n    </tr>\n    <tr>\n      <th>4619</th>\n      <td>Chicken Salad Bowl</td>\n      <td>$11.25</td>\n    </tr>\n    <tr>\n      <th>4620</th>\n      <td>Chicken Salad Bowl</td>\n      <td>$8.75</td>\n    </tr>\n    <tr>\n      <th>4621</th>\n      <td>Chicken Salad Bowl</td>\n      <td>$8.75</td>\n    </tr>\n  </tbody>\n</table>\n<p>4622 rows × 2 columns</p>\n</div>"
     },
     "metadata": {},
     "execution_count": 57
    }
   ],
   "source": [
    ".loc[:,[\"item_name\",\"item_price\"]]"
   ]
  },
  {
   "cell_type": "markdown",
   "metadata": {},
   "source": [
    "### Step 6. Sort by the name of the item"
   ]
  },
  {
   "cell_type": "code",
   "execution_count": 63,
   "metadata": {},
   "outputs": [
    {
     "output_type": "execute_result",
     "data": {
      "text/plain": [
       "      order_id  quantity          item_name  \\\n",
       "3389      1360         2  6 Pack Soft Drink   \n",
       "3132      1248         1  6 Pack Soft Drink   \n",
       "341        148         1  6 Pack Soft Drink   \n",
       "1849       749         1  6 Pack Soft Drink   \n",
       "1860       754         1  6 Pack Soft Drink   \n",
       "...        ...       ...                ...   \n",
       "738        304         1  Veggie Soft Tacos   \n",
       "3889      1559         2  Veggie Soft Tacos   \n",
       "2384       948         1  Veggie Soft Tacos   \n",
       "781        322         1  Veggie Soft Tacos   \n",
       "1395       567         1  Veggie Soft Tacos   \n",
       "\n",
       "                                     choice_description item_price  price_w  \n",
       "3389                                        [Diet Coke]    $12.98     12.98  \n",
       "3132                                        [Diet Coke]     $6.49      6.49  \n",
       "341                                         [Diet Coke]     $6.49      6.49  \n",
       "1849                                             [Coke]     $6.49      6.49  \n",
       "1860                                        [Diet Coke]     $6.49      6.49  \n",
       "...                                                 ...        ...      ...  \n",
       "738   [Tomatillo Red Chili Salsa, [Fajita Vegetables...    $11.25     11.25  \n",
       "3889  [Fresh Tomato Salsa (Mild), [Black Beans, Rice...    $16.98     16.98  \n",
       "2384  [Roasted Chili Corn Salsa, [Fajita Vegetables,...     $8.75      8.75  \n",
       "781   [Fresh Tomato Salsa, [Black Beans, Cheese, Sou...     $8.75      8.75  \n",
       "1395  [Fresh Tomato Salsa (Mild), [Pinto Beans, Rice...     $8.49      8.49  \n",
       "\n",
       "[4622 rows x 6 columns]"
      ],
      "text/html": "<div>\n<style scoped>\n    .dataframe tbody tr th:only-of-type {\n        vertical-align: middle;\n    }\n\n    .dataframe tbody tr th {\n        vertical-align: top;\n    }\n\n    .dataframe thead th {\n        text-align: right;\n    }\n</style>\n<table border=\"1\" class=\"dataframe\">\n  <thead>\n    <tr style=\"text-align: right;\">\n      <th></th>\n      <th>order_id</th>\n      <th>quantity</th>\n      <th>item_name</th>\n      <th>choice_description</th>\n      <th>item_price</th>\n      <th>price_w</th>\n    </tr>\n  </thead>\n  <tbody>\n    <tr>\n      <th>3389</th>\n      <td>1360</td>\n      <td>2</td>\n      <td>6 Pack Soft Drink</td>\n      <td>[Diet Coke]</td>\n      <td>$12.98</td>\n      <td>12.98</td>\n    </tr>\n    <tr>\n      <th>3132</th>\n      <td>1248</td>\n      <td>1</td>\n      <td>6 Pack Soft Drink</td>\n      <td>[Diet Coke]</td>\n      <td>$6.49</td>\n      <td>6.49</td>\n    </tr>\n    <tr>\n      <th>341</th>\n      <td>148</td>\n      <td>1</td>\n      <td>6 Pack Soft Drink</td>\n      <td>[Diet Coke]</td>\n      <td>$6.49</td>\n      <td>6.49</td>\n    </tr>\n    <tr>\n      <th>1849</th>\n      <td>749</td>\n      <td>1</td>\n      <td>6 Pack Soft Drink</td>\n      <td>[Coke]</td>\n      <td>$6.49</td>\n      <td>6.49</td>\n    </tr>\n    <tr>\n      <th>1860</th>\n      <td>754</td>\n      <td>1</td>\n      <td>6 Pack Soft Drink</td>\n      <td>[Diet Coke]</td>\n      <td>$6.49</td>\n      <td>6.49</td>\n    </tr>\n    <tr>\n      <th>...</th>\n      <td>...</td>\n      <td>...</td>\n      <td>...</td>\n      <td>...</td>\n      <td>...</td>\n      <td>...</td>\n    </tr>\n    <tr>\n      <th>738</th>\n      <td>304</td>\n      <td>1</td>\n      <td>Veggie Soft Tacos</td>\n      <td>[Tomatillo Red Chili Salsa, [Fajita Vegetables...</td>\n      <td>$11.25</td>\n      <td>11.25</td>\n    </tr>\n    <tr>\n      <th>3889</th>\n      <td>1559</td>\n      <td>2</td>\n      <td>Veggie Soft Tacos</td>\n      <td>[Fresh Tomato Salsa (Mild), [Black Beans, Rice...</td>\n      <td>$16.98</td>\n      <td>16.98</td>\n    </tr>\n    <tr>\n      <th>2384</th>\n      <td>948</td>\n      <td>1</td>\n      <td>Veggie Soft Tacos</td>\n      <td>[Roasted Chili Corn Salsa, [Fajita Vegetables,...</td>\n      <td>$8.75</td>\n      <td>8.75</td>\n    </tr>\n    <tr>\n      <th>781</th>\n      <td>322</td>\n      <td>1</td>\n      <td>Veggie Soft Tacos</td>\n      <td>[Fresh Tomato Salsa, [Black Beans, Cheese, Sou...</td>\n      <td>$8.75</td>\n      <td>8.75</td>\n    </tr>\n    <tr>\n      <th>1395</th>\n      <td>567</td>\n      <td>1</td>\n      <td>Veggie Soft Tacos</td>\n      <td>[Fresh Tomato Salsa (Mild), [Pinto Beans, Rice...</td>\n      <td>$8.49</td>\n      <td>8.49</td>\n    </tr>\n  </tbody>\n</table>\n<p>4622 rows × 6 columns</p>\n</div>"
     },
     "metadata": {},
     "execution_count": 63
    }
   ],
   "source": [
    ".sort_values(by=\"item_name\")"
   ]
  },
  {
   "cell_type": "markdown",
   "metadata": {},
   "source": [
    "### Step 7. What was the quantity of the most expensive item ordered? 2 ways"
   ]
  },
  {
   "cell_type": "markdown",
   "metadata": {},
   "source": [
    "V1"
   ]
  },
  {
   "cell_type": "code",
   "execution_count": 80,
   "metadata": {},
   "outputs": [
    {
     "output_type": "execute_result",
     "data": {
      "text/plain": [
       "      order_id  quantity                     item_name  \\\n",
       "3598      1443        15  Chips and Fresh Tomato Salsa   \n",
       "3480      1398         3                 Carnitas Bowl   \n",
       "3602      1443         4               Chicken Burrito   \n",
       "1254       511         4               Chicken Burrito   \n",
       "3601      1443         3                Veggie Burrito   \n",
       "...        ...       ...                           ...   \n",
       "3042      1210         1                 Bottled Water   \n",
       "414        180         1                   Canned Soda   \n",
       "1457       591         1                   Canned Soda   \n",
       "1945       787         1                   Canned Soda   \n",
       "200         89         1                   Canned Soda   \n",
       "\n",
       "                                     choice_description item_price  price_w  \n",
       "3598                                                NaN    $44.25     44.25  \n",
       "3480  [Roasted Chili Corn Salsa, [Fajita Vegetables,...    $35.25     35.25  \n",
       "3602  [Fresh Tomato Salsa, [Rice, Black Beans, Chees...    $35.00     35.00  \n",
       "1254  [Fresh Tomato Salsa, [Fajita Vegetables, Rice,...    $35.00     35.00  \n",
       "3601  [Fresh Tomato Salsa, [Fajita Vegetables, Rice,...    $33.75     33.75  \n",
       "...                                                 ...        ...      ...  \n",
       "3042                                                NaN     $1.09      1.09  \n",
       "414                                        [Dr. Pepper]     $1.09      1.09  \n",
       "1457                                           [Sprite]     $1.09      1.09  \n",
       "1945                                        [Coca Cola]     $1.09      1.09  \n",
       "200                                         [Diet Coke]     $1.09      1.09  \n",
       "\n",
       "[4622 rows x 6 columns]"
      ],
      "text/html": "<div>\n<style scoped>\n    .dataframe tbody tr th:only-of-type {\n        vertical-align: middle;\n    }\n\n    .dataframe tbody tr th {\n        vertical-align: top;\n    }\n\n    .dataframe thead th {\n        text-align: right;\n    }\n</style>\n<table border=\"1\" class=\"dataframe\">\n  <thead>\n    <tr style=\"text-align: right;\">\n      <th></th>\n      <th>order_id</th>\n      <th>quantity</th>\n      <th>item_name</th>\n      <th>choice_description</th>\n      <th>item_price</th>\n      <th>price_w</th>\n    </tr>\n  </thead>\n  <tbody>\n    <tr>\n      <th>3598</th>\n      <td>1443</td>\n      <td>15</td>\n      <td>Chips and Fresh Tomato Salsa</td>\n      <td>NaN</td>\n      <td>$44.25</td>\n      <td>44.25</td>\n    </tr>\n    <tr>\n      <th>3480</th>\n      <td>1398</td>\n      <td>3</td>\n      <td>Carnitas Bowl</td>\n      <td>[Roasted Chili Corn Salsa, [Fajita Vegetables,...</td>\n      <td>$35.25</td>\n      <td>35.25</td>\n    </tr>\n    <tr>\n      <th>3602</th>\n      <td>1443</td>\n      <td>4</td>\n      <td>Chicken Burrito</td>\n      <td>[Fresh Tomato Salsa, [Rice, Black Beans, Chees...</td>\n      <td>$35.00</td>\n      <td>35.00</td>\n    </tr>\n    <tr>\n      <th>1254</th>\n      <td>511</td>\n      <td>4</td>\n      <td>Chicken Burrito</td>\n      <td>[Fresh Tomato Salsa, [Fajita Vegetables, Rice,...</td>\n      <td>$35.00</td>\n      <td>35.00</td>\n    </tr>\n    <tr>\n      <th>3601</th>\n      <td>1443</td>\n      <td>3</td>\n      <td>Veggie Burrito</td>\n      <td>[Fresh Tomato Salsa, [Fajita Vegetables, Rice,...</td>\n      <td>$33.75</td>\n      <td>33.75</td>\n    </tr>\n    <tr>\n      <th>...</th>\n      <td>...</td>\n      <td>...</td>\n      <td>...</td>\n      <td>...</td>\n      <td>...</td>\n      <td>...</td>\n    </tr>\n    <tr>\n      <th>3042</th>\n      <td>1210</td>\n      <td>1</td>\n      <td>Bottled Water</td>\n      <td>NaN</td>\n      <td>$1.09</td>\n      <td>1.09</td>\n    </tr>\n    <tr>\n      <th>414</th>\n      <td>180</td>\n      <td>1</td>\n      <td>Canned Soda</td>\n      <td>[Dr. Pepper]</td>\n      <td>$1.09</td>\n      <td>1.09</td>\n    </tr>\n    <tr>\n      <th>1457</th>\n      <td>591</td>\n      <td>1</td>\n      <td>Canned Soda</td>\n      <td>[Sprite]</td>\n      <td>$1.09</td>\n      <td>1.09</td>\n    </tr>\n    <tr>\n      <th>1945</th>\n      <td>787</td>\n      <td>1</td>\n      <td>Canned Soda</td>\n      <td>[Coca Cola]</td>\n      <td>$1.09</td>\n      <td>1.09</td>\n    </tr>\n    <tr>\n      <th>200</th>\n      <td>89</td>\n      <td>1</td>\n      <td>Canned Soda</td>\n      <td>[Diet Coke]</td>\n      <td>$1.09</td>\n      <td>1.09</td>\n    </tr>\n  </tbody>\n</table>\n<p>4622 rows × 6 columns</p>\n</div>"
     },
     "metadata": {},
     "execution_count": 80
    }
   ],
   "source": [
    "# 1 : accediendo a la posición de quantity\n",
    "\n",
    ".sort_values(by=\"price_w\",ascending=False)"
   ]
  },
  {
   "cell_type": "code",
   "execution_count": 81,
   "metadata": {},
   "outputs": [
    {
     "output_type": "execute_result",
     "data": {
      "text/plain": [
       "15"
      ]
     },
     "metadata": {},
     "execution_count": 81
    }
   ],
   "source": [
    "[\"quantity\"].values[0]"
   ]
  },
  {
   "cell_type": "markdown",
   "metadata": {},
   "source": [
    "V2"
   ]
  },
  {
   "cell_type": "code",
   "execution_count": 84,
   "metadata": {},
   "outputs": [
    {
     "output_type": "execute_result",
     "data": {
      "text/plain": [
       "15"
      ]
     },
     "metadata": {},
     "execution_count": 84
    }
   ],
   "source": [
    "# 2 : with mask\n",
    "[\"quantity\"][[\"price_w\"] == [\"price_w\"].max()].values[0]"
   ]
  },
  {
   "cell_type": "markdown",
   "metadata": {},
   "source": [
    "### Step 8. How many times was a Veggie Salad Bowl ordered?"
   ]
  },
  {
   "cell_type": "code",
   "execution_count": 99,
   "metadata": {},
   "outputs": [
    {
     "output_type": "execute_result",
     "data": {
      "text/plain": [
       "Chicken Bowl                             726\n",
       "Chicken Burrito                          553\n",
       "Chips and Guacamole                      479\n",
       "Steak Burrito                            368\n",
       "Canned Soft Drink                        301\n",
       "Steak Bowl                               211\n",
       "Chips                                    211\n",
       "Bottled Water                            162\n",
       "Chicken Soft Tacos                       115\n",
       "Chicken Salad Bowl                       110\n",
       "Chips and Fresh Tomato Salsa             110\n",
       "Canned Soda                              104\n",
       "Side of Chips                            101\n",
       "Veggie Burrito                            95\n",
       "Barbacoa Burrito                          91\n",
       "Veggie Bowl                               85\n",
       "Carnitas Bowl                             68\n",
       "Barbacoa Bowl                             66\n",
       "Carnitas Burrito                          59\n",
       "Steak Soft Tacos                          55\n",
       "6 Pack Soft Drink                         54\n",
       "Chips and Tomatillo Red Chili Salsa       48\n",
       "Chicken Crispy Tacos                      47\n",
       "Chips and Tomatillo Green Chili Salsa     43\n",
       "Carnitas Soft Tacos                       40\n",
       "Steak Crispy Tacos                        35\n",
       "Chips and Tomatillo-Green Chili Salsa     31\n",
       "Steak Salad Bowl                          29\n",
       "Nantucket Nectar                          27\n",
       "Barbacoa Soft Tacos                       25\n",
       "Chips and Roasted Chili Corn Salsa        22\n",
       "Izze                                      20\n",
       "Chips and Tomatillo-Red Chili Salsa       20\n",
       "Veggie Salad Bowl                         18\n",
       "Chips and Roasted Chili-Corn Salsa        18\n",
       "Barbacoa Crispy Tacos                     11\n",
       "Barbacoa Salad Bowl                       10\n",
       "Chicken Salad                              9\n",
       "Carnitas Crispy Tacos                      7\n",
       "Veggie Soft Tacos                          7\n",
       "Burrito                                    6\n",
       "Veggie Salad                               6\n",
       "Carnitas Salad Bowl                        6\n",
       "Steak Salad                                4\n",
       "Salad                                      2\n",
       "Bowl                                       2\n",
       "Crispy Tacos                               2\n",
       "Veggie Crispy Tacos                        1\n",
       "Chips and Mild Fresh Tomato Salsa          1\n",
       "Carnitas Salad                             1\n",
       "Name: item_name, dtype: int64"
      ]
     },
     "metadata": {},
     "execution_count": 99
    }
   ],
   "source": [
    "[\"item_name\"].value_counts()"
   ]
  },
  {
   "cell_type": "code",
   "execution_count": 98,
   "metadata": {},
   "outputs": [
    {
     "output_type": "stream",
     "name": "stdout",
     "text": [
      "['Veggie Salad Bowl', 'Veggie Salad Bowl', 'Veggie Salad Bowl', 'Veggie Salad Bowl', 'Veggie Salad Bowl', 'Veggie Salad Bowl', 'Veggie Salad Bowl', 'Veggie Salad Bowl', 'Veggie Salad Bowl', 'Veggie Salad Bowl', 'Veggie Salad Bowl', 'Veggie Salad Bowl', 'Veggie Salad Bowl', 'Veggie Salad Bowl', 'Veggie Salad Bowl', 'Veggie Salad Bowl', 'Veggie Salad Bowl', 'Veggie Salad Bowl']\n"
     ]
    },
    {
     "output_type": "execute_result",
     "data": {
      "text/plain": [
       "18"
      ]
     },
     "metadata": {},
     "execution_count": 98
    }
   ],
   "source": [
    "# 1 : Con un for\n",
    "lista = []\n",
    "for value in [\"item_name\"]:\n",
    "    if value == \"Veggie Salad Bowl\": \n",
    "        lista.append(value)\n",
    "print(lista)\n",
    "len(lista)"
   ]
  },
  {
   "cell_type": "code",
   "execution_count": 104,
   "metadata": {},
   "outputs": [
    {
     "output_type": "execute_result",
     "data": {
      "text/plain": [
       "18"
      ]
     },
     "metadata": {},
     "execution_count": 104
    }
   ],
   "source": [
    "# Con mask, y sumamos la cantidad\n",
    "quantity = [\"quantity\"][[\"item_name\"].values == \"Veggie Salad Bowl\"].values\n",
    "sum(quantity)"
   ]
  },
  {
   "cell_type": "markdown",
   "metadata": {},
   "source": [
    "### Step 9. How many times did someone order more than one Canned Soda?"
   ]
  },
  {
   "cell_type": "code",
   "execution_count": 131,
   "metadata": {},
   "outputs": [
    {
     "output_type": "stream",
     "name": "stdout",
     "text": [
      "[4 2 2 2 2 2 2 2 2 2 2 2 2 2 2 2 2 2 2 2 1 1 1 1 1 1 1 1 1 1 1 1 1 1 1 1 1\n 1 1 1 1 1 1 1 1 1 1 1 1 1 1 1 1 1 1 1 1 1 1 1 1 1 1 1 1 1 1 1 1 1 1 1 1 1\n 1 1 1 1 1 1 1 1 1 1 1 1 1 1 1 1 1 1 1 1 1 1 1 1 1 1 1 1 1 1]\nint64\n"
     ]
    },
    {
     "output_type": "execute_result",
     "data": {
      "text/plain": [
       "126"
      ]
     },
     "metadata": {},
     "execution_count": 131
    }
   ],
   "source": [
    "quantity_canned_soda = [(\"quantity\")][[\"item_name\"].values == \"Canned Soda\"].values\n",
    "print(quantity_canned_Soda)\n",
    "print(quantity_canned_soda.dtype)\n",
    "sum(quantity_canned_Soda)"
   ]
  },
  {
   "cell_type": "code",
   "execution_count": 132,
   "metadata": {},
   "outputs": [
    {
     "output_type": "stream",
     "name": "stdout",
     "text": [
      "times: 20\n"
     ]
    },
    {
     "output_type": "execute_result",
     "data": {
      "text/plain": [
       "      quantity    item_name\n",
       "2235         4  Canned Soda\n",
       "171          2  Canned Soda\n",
       "352          2  Canned Soda\n",
       "698          2  Canned Soda\n",
       "2135         2  Canned Soda\n",
       "700          2  Canned Soda\n",
       "3866         2  Canned Soda\n",
       "909          2  Canned Soda\n",
       "1092         2  Canned Soda\n",
       "1091         2  Canned Soda\n",
       "350          2  Canned Soda\n",
       "2906         2  Canned Soda\n",
       "2905         2  Canned Soda\n",
       "3592         2  Canned Soda\n",
       "3152         2  Canned Soda\n",
       "51           2  Canned Soda\n",
       "1944         2  Canned Soda\n",
       "3364         2  Canned Soda\n",
       "162          2  Canned Soda\n",
       "18           2  Canned Soda"
      ],
      "text/html": "<div>\n<style scoped>\n    .dataframe tbody tr th:only-of-type {\n        vertical-align: middle;\n    }\n\n    .dataframe tbody tr th {\n        vertical-align: top;\n    }\n\n    .dataframe thead th {\n        text-align: right;\n    }\n</style>\n<table border=\"1\" class=\"dataframe\">\n  <thead>\n    <tr style=\"text-align: right;\">\n      <th></th>\n      <th>quantity</th>\n      <th>item_name</th>\n    </tr>\n  </thead>\n  <tbody>\n    <tr>\n      <th>2235</th>\n      <td>4</td>\n      <td>Canned Soda</td>\n    </tr>\n    <tr>\n      <th>171</th>\n      <td>2</td>\n      <td>Canned Soda</td>\n    </tr>\n    <tr>\n      <th>352</th>\n      <td>2</td>\n      <td>Canned Soda</td>\n    </tr>\n    <tr>\n      <th>698</th>\n      <td>2</td>\n      <td>Canned Soda</td>\n    </tr>\n    <tr>\n      <th>2135</th>\n      <td>2</td>\n      <td>Canned Soda</td>\n    </tr>\n    <tr>\n      <th>700</th>\n      <td>2</td>\n      <td>Canned Soda</td>\n    </tr>\n    <tr>\n      <th>3866</th>\n      <td>2</td>\n      <td>Canned Soda</td>\n    </tr>\n    <tr>\n      <th>909</th>\n      <td>2</td>\n      <td>Canned Soda</td>\n    </tr>\n    <tr>\n      <th>1092</th>\n      <td>2</td>\n      <td>Canned Soda</td>\n    </tr>\n    <tr>\n      <th>1091</th>\n      <td>2</td>\n      <td>Canned Soda</td>\n    </tr>\n    <tr>\n      <th>350</th>\n      <td>2</td>\n      <td>Canned Soda</td>\n    </tr>\n    <tr>\n      <th>2906</th>\n      <td>2</td>\n      <td>Canned Soda</td>\n    </tr>\n    <tr>\n      <th>2905</th>\n      <td>2</td>\n      <td>Canned Soda</td>\n    </tr>\n    <tr>\n      <th>3592</th>\n      <td>2</td>\n      <td>Canned Soda</td>\n    </tr>\n    <tr>\n      <th>3152</th>\n      <td>2</td>\n      <td>Canned Soda</td>\n    </tr>\n    <tr>\n      <th>51</th>\n      <td>2</td>\n      <td>Canned Soda</td>\n    </tr>\n    <tr>\n      <th>1944</th>\n      <td>2</td>\n      <td>Canned Soda</td>\n    </tr>\n    <tr>\n      <th>3364</th>\n      <td>2</td>\n      <td>Canned Soda</td>\n    </tr>\n    <tr>\n      <th>162</th>\n      <td>2</td>\n      <td>Canned Soda</td>\n    </tr>\n    <tr>\n      <th>18</th>\n      <td>2</td>\n      <td>Canned Soda</td>\n    </tr>\n  </tbody>\n</table>\n</div>"
     },
     "metadata": {},
     "execution_count": 132
    }
   ],
   "source": [
    "# Creo que no es la manera más eficiente, preguntar\n",
    "# Estamos utilizando loc para imprimir la tabla con dos condiciones: que el nombre sea \"Canned Soda\" y que su cantidad sea mayor a 1\n",
    "\n",
    "quantity_canned = .loc[(['item_name'] == \"Canned Soda\") & (['quantity'] > 1),['quantity','item_name']]\n",
    "print(\"times:\", len(quantity_canned))\n",
    "quantity_canned"
   ]
  },
  {
   "cell_type": "code",
   "execution_count": 130,
   "metadata": {},
   "outputs": [
    {
     "output_type": "execute_result",
     "data": {
      "text/plain": [
       "20"
      ]
     },
     "metadata": {},
     "execution_count": 130
    }
   ],
   "source": [
    "len(quantity_canned)"
   ]
  },
  {
   "cell_type": "code",
   "execution_count": null,
   "metadata": {},
   "outputs": [],
   "source": []
  }
 ],
 "metadata": {
  "anaconda-cloud": {},
  "kernelspec": {
   "name": "python374jvsc74a57bd0fc2c00f0e2c44cb4028bd693f18a1b5d93d1de4cd12db71fca36ff691a163044",
   "display_name": "Python 3.7.4 64-bit"
  },
  "language_info": {
   "codemirror_mode": {
    "name": "ipython",
    "version": 3
   },
   "file_extension": ".py",
   "mimetype": "text/x-python",
   "name": "python",
   "nbconvert_exporter": "python",
   "pygments_lexer": "ipython3",
   "version": "3.7.4"
  },
  "metadata": {
   "interpreter": {
    "hash": "fc2c00f0e2c44cb4028bd693f18a1b5d93d1de4cd12db71fca36ff691a163044"
   }
  }
 },
 "nbformat": 4,
 "nbformat_minor": 4
}