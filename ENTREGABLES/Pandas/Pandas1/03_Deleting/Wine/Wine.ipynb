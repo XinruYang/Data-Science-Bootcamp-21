{
 "cells": [
  {
   "cell_type": "markdown",
   "metadata": {},
   "source": [
    "# 03 - Deleting & handling missing values - Wine"
   ]
  },
  {
   "cell_type": "markdown",
   "metadata": {},
   "source": [
    "### Step 1. Import the necessary libraries"
   ]
  },
  {
   "cell_type": "code",
   "execution_count": 21,
   "metadata": {},
   "outputs": [],
   "source": [
    "import pandas as pd\n",
    "import numpy as np\n",
    "import random"
   ]
  },
  {
   "cell_type": "markdown",
   "metadata": {},
   "source": [
    "### Step 2. Import the dataset from this [address](https://archive.ics.uci.edu/ml/machine-learning-databases/wine/wine.data). "
   ]
  },
  {
   "cell_type": "markdown",
   "metadata": {},
   "source": [
    "### Step 3. Assign it to a variable called wine"
   ]
  },
  {
   "cell_type": "code",
   "execution_count": 22,
   "metadata": {},
   "outputs": [
    {
     "output_type": "execute_result",
     "data": {
      "text/plain": [
       "     1  14.23  1.71  2.43  15.6  127   2.8  3.06   .28  2.29   5.64  1.04  \\\n",
       "0    1  13.20  1.78  2.14  11.2  100  2.65  2.76  0.26  1.28   4.38  1.05   \n",
       "1    1  13.16  2.36  2.67  18.6  101  2.80  3.24  0.30  2.81   5.68  1.03   \n",
       "2    1  14.37  1.95  2.50  16.8  113  3.85  3.49  0.24  2.18   7.80  0.86   \n",
       "3    1  13.24  2.59  2.87  21.0  118  2.80  2.69  0.39  1.82   4.32  1.04   \n",
       "4    1  14.20  1.76  2.45  15.2  112  3.27  3.39  0.34  1.97   6.75  1.05   \n",
       "..  ..    ...   ...   ...   ...  ...   ...   ...   ...   ...    ...   ...   \n",
       "172  3  13.71  5.65  2.45  20.5   95  1.68  0.61  0.52  1.06   7.70  0.64   \n",
       "173  3  13.40  3.91  2.48  23.0  102  1.80  0.75  0.43  1.41   7.30  0.70   \n",
       "174  3  13.27  4.28  2.26  20.0  120  1.59  0.69  0.43  1.35  10.20  0.59   \n",
       "175  3  13.17  2.59  2.37  20.0  120  1.65  0.68  0.53  1.46   9.30  0.60   \n",
       "176  3  14.13  4.10  2.74  24.5   96  2.05  0.76  0.56  1.35   9.20  0.61   \n",
       "\n",
       "     3.92  1065  \n",
       "0    3.40  1050  \n",
       "1    3.17  1185  \n",
       "2    3.45  1480  \n",
       "3    2.93   735  \n",
       "4    2.85  1450  \n",
       "..    ...   ...  \n",
       "172  1.74   740  \n",
       "173  1.56   750  \n",
       "174  1.56   835  \n",
       "175  1.62   840  \n",
       "176  1.60   560  \n",
       "\n",
       "[177 rows x 14 columns]"
      ],
      "text/html": "<div>\n<style scoped>\n    .dataframe tbody tr th:only-of-type {\n        vertical-align: middle;\n    }\n\n    .dataframe tbody tr th {\n        vertical-align: top;\n    }\n\n    .dataframe thead th {\n        text-align: right;\n    }\n</style>\n<table border=\"1\" class=\"dataframe\">\n  <thead>\n    <tr style=\"text-align: right;\">\n      <th></th>\n      <th>1</th>\n      <th>14.23</th>\n      <th>1.71</th>\n      <th>2.43</th>\n      <th>15.6</th>\n      <th>127</th>\n      <th>2.8</th>\n      <th>3.06</th>\n      <th>.28</th>\n      <th>2.29</th>\n      <th>5.64</th>\n      <th>1.04</th>\n      <th>3.92</th>\n      <th>1065</th>\n    </tr>\n  </thead>\n  <tbody>\n    <tr>\n      <th>0</th>\n      <td>1</td>\n      <td>13.20</td>\n      <td>1.78</td>\n      <td>2.14</td>\n      <td>11.2</td>\n      <td>100</td>\n      <td>2.65</td>\n      <td>2.76</td>\n      <td>0.26</td>\n      <td>1.28</td>\n      <td>4.38</td>\n      <td>1.05</td>\n      <td>3.40</td>\n      <td>1050</td>\n    </tr>\n    <tr>\n      <th>1</th>\n      <td>1</td>\n      <td>13.16</td>\n      <td>2.36</td>\n      <td>2.67</td>\n      <td>18.6</td>\n      <td>101</td>\n      <td>2.80</td>\n      <td>3.24</td>\n      <td>0.30</td>\n      <td>2.81</td>\n      <td>5.68</td>\n      <td>1.03</td>\n      <td>3.17</td>\n      <td>1185</td>\n    </tr>\n    <tr>\n      <th>2</th>\n      <td>1</td>\n      <td>14.37</td>\n      <td>1.95</td>\n      <td>2.50</td>\n      <td>16.8</td>\n      <td>113</td>\n      <td>3.85</td>\n      <td>3.49</td>\n      <td>0.24</td>\n      <td>2.18</td>\n      <td>7.80</td>\n      <td>0.86</td>\n      <td>3.45</td>\n      <td>1480</td>\n    </tr>\n    <tr>\n      <th>3</th>\n      <td>1</td>\n      <td>13.24</td>\n      <td>2.59</td>\n      <td>2.87</td>\n      <td>21.0</td>\n      <td>118</td>\n      <td>2.80</td>\n      <td>2.69</td>\n      <td>0.39</td>\n      <td>1.82</td>\n      <td>4.32</td>\n      <td>1.04</td>\n      <td>2.93</td>\n      <td>735</td>\n    </tr>\n    <tr>\n      <th>4</th>\n      <td>1</td>\n      <td>14.20</td>\n      <td>1.76</td>\n      <td>2.45</td>\n      <td>15.2</td>\n      <td>112</td>\n      <td>3.27</td>\n      <td>3.39</td>\n      <td>0.34</td>\n      <td>1.97</td>\n      <td>6.75</td>\n      <td>1.05</td>\n      <td>2.85</td>\n      <td>1450</td>\n    </tr>\n    <tr>\n      <th>...</th>\n      <td>...</td>\n      <td>...</td>\n      <td>...</td>\n      <td>...</td>\n      <td>...</td>\n      <td>...</td>\n      <td>...</td>\n      <td>...</td>\n      <td>...</td>\n      <td>...</td>\n      <td>...</td>\n      <td>...</td>\n      <td>...</td>\n      <td>...</td>\n    </tr>\n    <tr>\n      <th>172</th>\n      <td>3</td>\n      <td>13.71</td>\n      <td>5.65</td>\n      <td>2.45</td>\n      <td>20.5</td>\n      <td>95</td>\n      <td>1.68</td>\n      <td>0.61</td>\n      <td>0.52</td>\n      <td>1.06</td>\n      <td>7.70</td>\n      <td>0.64</td>\n      <td>1.74</td>\n      <td>740</td>\n    </tr>\n    <tr>\n      <th>173</th>\n      <td>3</td>\n      <td>13.40</td>\n      <td>3.91</td>\n      <td>2.48</td>\n      <td>23.0</td>\n      <td>102</td>\n      <td>1.80</td>\n      <td>0.75</td>\n      <td>0.43</td>\n      <td>1.41</td>\n      <td>7.30</td>\n      <td>0.70</td>\n      <td>1.56</td>\n      <td>750</td>\n    </tr>\n    <tr>\n      <th>174</th>\n      <td>3</td>\n      <td>13.27</td>\n      <td>4.28</td>\n      <td>2.26</td>\n      <td>20.0</td>\n      <td>120</td>\n      <td>1.59</td>\n      <td>0.69</td>\n      <td>0.43</td>\n      <td>1.35</td>\n      <td>10.20</td>\n      <td>0.59</td>\n      <td>1.56</td>\n      <td>835</td>\n    </tr>\n    <tr>\n      <th>175</th>\n      <td>3</td>\n      <td>13.17</td>\n      <td>2.59</td>\n      <td>2.37</td>\n      <td>20.0</td>\n      <td>120</td>\n      <td>1.65</td>\n      <td>0.68</td>\n      <td>0.53</td>\n      <td>1.46</td>\n      <td>9.30</td>\n      <td>0.60</td>\n      <td>1.62</td>\n      <td>840</td>\n    </tr>\n    <tr>\n      <th>176</th>\n      <td>3</td>\n      <td>14.13</td>\n      <td>4.10</td>\n      <td>2.74</td>\n      <td>24.5</td>\n      <td>96</td>\n      <td>2.05</td>\n      <td>0.76</td>\n      <td>0.56</td>\n      <td>1.35</td>\n      <td>9.20</td>\n      <td>0.61</td>\n      <td>1.60</td>\n      <td>560</td>\n    </tr>\n  </tbody>\n</table>\n<p>177 rows × 14 columns</p>\n</div>"
     },
     "metadata": {},
     "execution_count": 22
    }
   ],
   "source": [
    "wine = pd.read_csv(\"wine (1).csv\")\n",
    "wine"
   ]
  },
  {
   "cell_type": "markdown",
   "metadata": {},
   "source": [
    "### Step 4. Delete the first, fourth, seventh, nineth, eleventh, thirteenth and fourteenth columns"
   ]
  },
  {
   "cell_type": "code",
   "execution_count": 23,
   "metadata": {},
   "outputs": [
    {
     "output_type": "execute_result",
     "data": {
      "text/plain": [
       "     14.23  1.71  15.6  127  3.06  2.29  1.04\n",
       "0    13.20  1.78  11.2  100  2.76  1.28  1.05\n",
       "1    13.16  2.36  18.6  101  3.24  2.81  1.03\n",
       "2    14.37  1.95  16.8  113  3.49  2.18  0.86\n",
       "3    13.24  2.59  21.0  118  2.69  1.82  1.04\n",
       "4    14.20  1.76  15.2  112  3.39  1.97  1.05\n",
       "..     ...   ...   ...  ...   ...   ...   ...\n",
       "172  13.71  5.65  20.5   95  0.61  1.06  0.64\n",
       "173  13.40  3.91  23.0  102  0.75  1.41  0.70\n",
       "174  13.27  4.28  20.0  120  0.69  1.35  0.59\n",
       "175  13.17  2.59  20.0  120  0.68  1.46  0.60\n",
       "176  14.13  4.10  24.5   96  0.76  1.35  0.61\n",
       "\n",
       "[177 rows x 7 columns]"
      ],
      "text/html": "<div>\n<style scoped>\n    .dataframe tbody tr th:only-of-type {\n        vertical-align: middle;\n    }\n\n    .dataframe tbody tr th {\n        vertical-align: top;\n    }\n\n    .dataframe thead th {\n        text-align: right;\n    }\n</style>\n<table border=\"1\" class=\"dataframe\">\n  <thead>\n    <tr style=\"text-align: right;\">\n      <th></th>\n      <th>14.23</th>\n      <th>1.71</th>\n      <th>15.6</th>\n      <th>127</th>\n      <th>3.06</th>\n      <th>2.29</th>\n      <th>1.04</th>\n    </tr>\n  </thead>\n  <tbody>\n    <tr>\n      <th>0</th>\n      <td>13.20</td>\n      <td>1.78</td>\n      <td>11.2</td>\n      <td>100</td>\n      <td>2.76</td>\n      <td>1.28</td>\n      <td>1.05</td>\n    </tr>\n    <tr>\n      <th>1</th>\n      <td>13.16</td>\n      <td>2.36</td>\n      <td>18.6</td>\n      <td>101</td>\n      <td>3.24</td>\n      <td>2.81</td>\n      <td>1.03</td>\n    </tr>\n    <tr>\n      <th>2</th>\n      <td>14.37</td>\n      <td>1.95</td>\n      <td>16.8</td>\n      <td>113</td>\n      <td>3.49</td>\n      <td>2.18</td>\n      <td>0.86</td>\n    </tr>\n    <tr>\n      <th>3</th>\n      <td>13.24</td>\n      <td>2.59</td>\n      <td>21.0</td>\n      <td>118</td>\n      <td>2.69</td>\n      <td>1.82</td>\n      <td>1.04</td>\n    </tr>\n    <tr>\n      <th>4</th>\n      <td>14.20</td>\n      <td>1.76</td>\n      <td>15.2</td>\n      <td>112</td>\n      <td>3.39</td>\n      <td>1.97</td>\n      <td>1.05</td>\n    </tr>\n    <tr>\n      <th>...</th>\n      <td>...</td>\n      <td>...</td>\n      <td>...</td>\n      <td>...</td>\n      <td>...</td>\n      <td>...</td>\n      <td>...</td>\n    </tr>\n    <tr>\n      <th>172</th>\n      <td>13.71</td>\n      <td>5.65</td>\n      <td>20.5</td>\n      <td>95</td>\n      <td>0.61</td>\n      <td>1.06</td>\n      <td>0.64</td>\n    </tr>\n    <tr>\n      <th>173</th>\n      <td>13.40</td>\n      <td>3.91</td>\n      <td>23.0</td>\n      <td>102</td>\n      <td>0.75</td>\n      <td>1.41</td>\n      <td>0.70</td>\n    </tr>\n    <tr>\n      <th>174</th>\n      <td>13.27</td>\n      <td>4.28</td>\n      <td>20.0</td>\n      <td>120</td>\n      <td>0.69</td>\n      <td>1.35</td>\n      <td>0.59</td>\n    </tr>\n    <tr>\n      <th>175</th>\n      <td>13.17</td>\n      <td>2.59</td>\n      <td>20.0</td>\n      <td>120</td>\n      <td>0.68</td>\n      <td>1.46</td>\n      <td>0.60</td>\n    </tr>\n    <tr>\n      <th>176</th>\n      <td>14.13</td>\n      <td>4.10</td>\n      <td>24.5</td>\n      <td>96</td>\n      <td>0.76</td>\n      <td>1.35</td>\n      <td>0.61</td>\n    </tr>\n  </tbody>\n</table>\n<p>177 rows × 7 columns</p>\n</div>"
     },
     "metadata": {},
     "execution_count": 23
    }
   ],
   "source": [
    "wine.drop([wine.columns[0],wine.columns[3],wine.columns[6],wine.columns[8], wine.columns[10], wine.columns[12], wine.columns[13]],axis=1, inplace=True)\n",
    "wine"
   ]
  },
  {
   "cell_type": "markdown",
   "metadata": {},
   "source": [
    "### Step 5. Assign the columns as below:\n",
    "\n",
    "The attributes are (donated by Riccardo Leardi, riclea '@' anchem.unige.it):  \n",
    "1) alcohol  \n",
    "2) malic_acid  \n",
    "3) alcalinity_of_ash  \n",
    "4) magnesium  \n",
    "5) flavanoids  \n",
    "6) proanthocyanins  \n",
    "7) hue "
   ]
  },
  {
   "cell_type": "code",
   "execution_count": 24,
   "metadata": {},
   "outputs": [
    {
     "output_type": "execute_result",
     "data": {
      "text/plain": [
       "     alcohol  malic_acid  alcalinity_of_ash  magnesium  flavanoids  \\\n",
       "0      13.20        1.78               11.2        100        2.76   \n",
       "1      13.16        2.36               18.6        101        3.24   \n",
       "2      14.37        1.95               16.8        113        3.49   \n",
       "3      13.24        2.59               21.0        118        2.69   \n",
       "4      14.20        1.76               15.2        112        3.39   \n",
       "..       ...         ...                ...        ...         ...   \n",
       "172    13.71        5.65               20.5         95        0.61   \n",
       "173    13.40        3.91               23.0        102        0.75   \n",
       "174    13.27        4.28               20.0        120        0.69   \n",
       "175    13.17        2.59               20.0        120        0.68   \n",
       "176    14.13        4.10               24.5         96        0.76   \n",
       "\n",
       "     proanthocyanins   hue  \n",
       "0               1.28  1.05  \n",
       "1               2.81  1.03  \n",
       "2               2.18  0.86  \n",
       "3               1.82  1.04  \n",
       "4               1.97  1.05  \n",
       "..               ...   ...  \n",
       "172             1.06  0.64  \n",
       "173             1.41  0.70  \n",
       "174             1.35  0.59  \n",
       "175             1.46  0.60  \n",
       "176             1.35  0.61  \n",
       "\n",
       "[177 rows x 7 columns]"
      ],
      "text/html": "<div>\n<style scoped>\n    .dataframe tbody tr th:only-of-type {\n        vertical-align: middle;\n    }\n\n    .dataframe tbody tr th {\n        vertical-align: top;\n    }\n\n    .dataframe thead th {\n        text-align: right;\n    }\n</style>\n<table border=\"1\" class=\"dataframe\">\n  <thead>\n    <tr style=\"text-align: right;\">\n      <th></th>\n      <th>alcohol</th>\n      <th>malic_acid</th>\n      <th>alcalinity_of_ash</th>\n      <th>magnesium</th>\n      <th>flavanoids</th>\n      <th>proanthocyanins</th>\n      <th>hue</th>\n    </tr>\n  </thead>\n  <tbody>\n    <tr>\n      <th>0</th>\n      <td>13.20</td>\n      <td>1.78</td>\n      <td>11.2</td>\n      <td>100</td>\n      <td>2.76</td>\n      <td>1.28</td>\n      <td>1.05</td>\n    </tr>\n    <tr>\n      <th>1</th>\n      <td>13.16</td>\n      <td>2.36</td>\n      <td>18.6</td>\n      <td>101</td>\n      <td>3.24</td>\n      <td>2.81</td>\n      <td>1.03</td>\n    </tr>\n    <tr>\n      <th>2</th>\n      <td>14.37</td>\n      <td>1.95</td>\n      <td>16.8</td>\n      <td>113</td>\n      <td>3.49</td>\n      <td>2.18</td>\n      <td>0.86</td>\n    </tr>\n    <tr>\n      <th>3</th>\n      <td>13.24</td>\n      <td>2.59</td>\n      <td>21.0</td>\n      <td>118</td>\n      <td>2.69</td>\n      <td>1.82</td>\n      <td>1.04</td>\n    </tr>\n    <tr>\n      <th>4</th>\n      <td>14.20</td>\n      <td>1.76</td>\n      <td>15.2</td>\n      <td>112</td>\n      <td>3.39</td>\n      <td>1.97</td>\n      <td>1.05</td>\n    </tr>\n    <tr>\n      <th>...</th>\n      <td>...</td>\n      <td>...</td>\n      <td>...</td>\n      <td>...</td>\n      <td>...</td>\n      <td>...</td>\n      <td>...</td>\n    </tr>\n    <tr>\n      <th>172</th>\n      <td>13.71</td>\n      <td>5.65</td>\n      <td>20.5</td>\n      <td>95</td>\n      <td>0.61</td>\n      <td>1.06</td>\n      <td>0.64</td>\n    </tr>\n    <tr>\n      <th>173</th>\n      <td>13.40</td>\n      <td>3.91</td>\n      <td>23.0</td>\n      <td>102</td>\n      <td>0.75</td>\n      <td>1.41</td>\n      <td>0.70</td>\n    </tr>\n    <tr>\n      <th>174</th>\n      <td>13.27</td>\n      <td>4.28</td>\n      <td>20.0</td>\n      <td>120</td>\n      <td>0.69</td>\n      <td>1.35</td>\n      <td>0.59</td>\n    </tr>\n    <tr>\n      <th>175</th>\n      <td>13.17</td>\n      <td>2.59</td>\n      <td>20.0</td>\n      <td>120</td>\n      <td>0.68</td>\n      <td>1.46</td>\n      <td>0.60</td>\n    </tr>\n    <tr>\n      <th>176</th>\n      <td>14.13</td>\n      <td>4.10</td>\n      <td>24.5</td>\n      <td>96</td>\n      <td>0.76</td>\n      <td>1.35</td>\n      <td>0.61</td>\n    </tr>\n  </tbody>\n</table>\n<p>177 rows × 7 columns</p>\n</div>"
     },
     "metadata": {},
     "execution_count": 24
    }
   ],
   "source": [
    "wine.columns = [ \"alcohol\", \"malic_acid\", \"alcalinity_of_ash\", \"magnesium\", \"flavanoids\", \"proanthocyanins\", \"hue\" ]\n",
    "wine"
   ]
  },
  {
   "cell_type": "markdown",
   "metadata": {},
   "source": [
    "### Step 6. Set the values of the first 3 rows from alcohol as NaN"
   ]
  },
  {
   "cell_type": "code",
   "execution_count": 25,
   "metadata": {},
   "outputs": [
    {
     "output_type": "execute_result",
     "data": {
      "text/plain": [
       "     alcohol  malic_acid  alcalinity_of_ash  magnesium  flavanoids  \\\n",
       "0        NaN        1.78               11.2        100        2.76   \n",
       "1        NaN        2.36               18.6        101        3.24   \n",
       "2        NaN        1.95               16.8        113        3.49   \n",
       "3      13.24        2.59               21.0        118        2.69   \n",
       "4      14.20        1.76               15.2        112        3.39   \n",
       "..       ...         ...                ...        ...         ...   \n",
       "172    13.71        5.65               20.5         95        0.61   \n",
       "173    13.40        3.91               23.0        102        0.75   \n",
       "174    13.27        4.28               20.0        120        0.69   \n",
       "175    13.17        2.59               20.0        120        0.68   \n",
       "176    14.13        4.10               24.5         96        0.76   \n",
       "\n",
       "     proanthocyanins   hue  \n",
       "0               1.28  1.05  \n",
       "1               2.81  1.03  \n",
       "2               2.18  0.86  \n",
       "3               1.82  1.04  \n",
       "4               1.97  1.05  \n",
       "..               ...   ...  \n",
       "172             1.06  0.64  \n",
       "173             1.41  0.70  \n",
       "174             1.35  0.59  \n",
       "175             1.46  0.60  \n",
       "176             1.35  0.61  \n",
       "\n",
       "[177 rows x 7 columns]"
      ],
      "text/html": "<div>\n<style scoped>\n    .dataframe tbody tr th:only-of-type {\n        vertical-align: middle;\n    }\n\n    .dataframe tbody tr th {\n        vertical-align: top;\n    }\n\n    .dataframe thead th {\n        text-align: right;\n    }\n</style>\n<table border=\"1\" class=\"dataframe\">\n  <thead>\n    <tr style=\"text-align: right;\">\n      <th></th>\n      <th>alcohol</th>\n      <th>malic_acid</th>\n      <th>alcalinity_of_ash</th>\n      <th>magnesium</th>\n      <th>flavanoids</th>\n      <th>proanthocyanins</th>\n      <th>hue</th>\n    </tr>\n  </thead>\n  <tbody>\n    <tr>\n      <th>0</th>\n      <td>NaN</td>\n      <td>1.78</td>\n      <td>11.2</td>\n      <td>100</td>\n      <td>2.76</td>\n      <td>1.28</td>\n      <td>1.05</td>\n    </tr>\n    <tr>\n      <th>1</th>\n      <td>NaN</td>\n      <td>2.36</td>\n      <td>18.6</td>\n      <td>101</td>\n      <td>3.24</td>\n      <td>2.81</td>\n      <td>1.03</td>\n    </tr>\n    <tr>\n      <th>2</th>\n      <td>NaN</td>\n      <td>1.95</td>\n      <td>16.8</td>\n      <td>113</td>\n      <td>3.49</td>\n      <td>2.18</td>\n      <td>0.86</td>\n    </tr>\n    <tr>\n      <th>3</th>\n      <td>13.24</td>\n      <td>2.59</td>\n      <td>21.0</td>\n      <td>118</td>\n      <td>2.69</td>\n      <td>1.82</td>\n      <td>1.04</td>\n    </tr>\n    <tr>\n      <th>4</th>\n      <td>14.20</td>\n      <td>1.76</td>\n      <td>15.2</td>\n      <td>112</td>\n      <td>3.39</td>\n      <td>1.97</td>\n      <td>1.05</td>\n    </tr>\n    <tr>\n      <th>...</th>\n      <td>...</td>\n      <td>...</td>\n      <td>...</td>\n      <td>...</td>\n      <td>...</td>\n      <td>...</td>\n      <td>...</td>\n    </tr>\n    <tr>\n      <th>172</th>\n      <td>13.71</td>\n      <td>5.65</td>\n      <td>20.5</td>\n      <td>95</td>\n      <td>0.61</td>\n      <td>1.06</td>\n      <td>0.64</td>\n    </tr>\n    <tr>\n      <th>173</th>\n      <td>13.40</td>\n      <td>3.91</td>\n      <td>23.0</td>\n      <td>102</td>\n      <td>0.75</td>\n      <td>1.41</td>\n      <td>0.70</td>\n    </tr>\n    <tr>\n      <th>174</th>\n      <td>13.27</td>\n      <td>4.28</td>\n      <td>20.0</td>\n      <td>120</td>\n      <td>0.69</td>\n      <td>1.35</td>\n      <td>0.59</td>\n    </tr>\n    <tr>\n      <th>175</th>\n      <td>13.17</td>\n      <td>2.59</td>\n      <td>20.0</td>\n      <td>120</td>\n      <td>0.68</td>\n      <td>1.46</td>\n      <td>0.60</td>\n    </tr>\n    <tr>\n      <th>176</th>\n      <td>14.13</td>\n      <td>4.10</td>\n      <td>24.5</td>\n      <td>96</td>\n      <td>0.76</td>\n      <td>1.35</td>\n      <td>0.61</td>\n    </tr>\n  </tbody>\n</table>\n<p>177 rows × 7 columns</p>\n</div>"
     },
     "metadata": {},
     "execution_count": 25
    }
   ],
   "source": [
    "wine.iloc[ :3, [0]] = None\n",
    "wine"
   ]
  },
  {
   "cell_type": "markdown",
   "metadata": {},
   "source": [
    "### Step 7. Now set the value of the rows 3 and 4 of magnesium as NaN"
   ]
  },
  {
   "cell_type": "code",
   "execution_count": 26,
   "metadata": {},
   "outputs": [
    {
     "output_type": "execute_result",
     "data": {
      "text/plain": [
       "     alcohol  malic_acid  alcalinity_of_ash  magnesium  flavanoids  \\\n",
       "0        NaN        1.78               11.2      100.0        2.76   \n",
       "1        NaN        2.36               18.6      101.0        3.24   \n",
       "2        NaN        1.95               16.8      113.0        3.49   \n",
       "3      13.24        2.59               21.0        NaN        2.69   \n",
       "4      14.20        1.76               15.2        NaN        3.39   \n",
       "..       ...         ...                ...        ...         ...   \n",
       "172    13.71        5.65               20.5       95.0        0.61   \n",
       "173    13.40        3.91               23.0      102.0        0.75   \n",
       "174    13.27        4.28               20.0      120.0        0.69   \n",
       "175    13.17        2.59               20.0      120.0        0.68   \n",
       "176    14.13        4.10               24.5       96.0        0.76   \n",
       "\n",
       "     proanthocyanins   hue  \n",
       "0               1.28  1.05  \n",
       "1               2.81  1.03  \n",
       "2               2.18  0.86  \n",
       "3               1.82  1.04  \n",
       "4               1.97  1.05  \n",
       "..               ...   ...  \n",
       "172             1.06  0.64  \n",
       "173             1.41  0.70  \n",
       "174             1.35  0.59  \n",
       "175             1.46  0.60  \n",
       "176             1.35  0.61  \n",
       "\n",
       "[177 rows x 7 columns]"
      ],
      "text/html": "<div>\n<style scoped>\n    .dataframe tbody tr th:only-of-type {\n        vertical-align: middle;\n    }\n\n    .dataframe tbody tr th {\n        vertical-align: top;\n    }\n\n    .dataframe thead th {\n        text-align: right;\n    }\n</style>\n<table border=\"1\" class=\"dataframe\">\n  <thead>\n    <tr style=\"text-align: right;\">\n      <th></th>\n      <th>alcohol</th>\n      <th>malic_acid</th>\n      <th>alcalinity_of_ash</th>\n      <th>magnesium</th>\n      <th>flavanoids</th>\n      <th>proanthocyanins</th>\n      <th>hue</th>\n    </tr>\n  </thead>\n  <tbody>\n    <tr>\n      <th>0</th>\n      <td>NaN</td>\n      <td>1.78</td>\n      <td>11.2</td>\n      <td>100.0</td>\n      <td>2.76</td>\n      <td>1.28</td>\n      <td>1.05</td>\n    </tr>\n    <tr>\n      <th>1</th>\n      <td>NaN</td>\n      <td>2.36</td>\n      <td>18.6</td>\n      <td>101.0</td>\n      <td>3.24</td>\n      <td>2.81</td>\n      <td>1.03</td>\n    </tr>\n    <tr>\n      <th>2</th>\n      <td>NaN</td>\n      <td>1.95</td>\n      <td>16.8</td>\n      <td>113.0</td>\n      <td>3.49</td>\n      <td>2.18</td>\n      <td>0.86</td>\n    </tr>\n    <tr>\n      <th>3</th>\n      <td>13.24</td>\n      <td>2.59</td>\n      <td>21.0</td>\n      <td>NaN</td>\n      <td>2.69</td>\n      <td>1.82</td>\n      <td>1.04</td>\n    </tr>\n    <tr>\n      <th>4</th>\n      <td>14.20</td>\n      <td>1.76</td>\n      <td>15.2</td>\n      <td>NaN</td>\n      <td>3.39</td>\n      <td>1.97</td>\n      <td>1.05</td>\n    </tr>\n    <tr>\n      <th>...</th>\n      <td>...</td>\n      <td>...</td>\n      <td>...</td>\n      <td>...</td>\n      <td>...</td>\n      <td>...</td>\n      <td>...</td>\n    </tr>\n    <tr>\n      <th>172</th>\n      <td>13.71</td>\n      <td>5.65</td>\n      <td>20.5</td>\n      <td>95.0</td>\n      <td>0.61</td>\n      <td>1.06</td>\n      <td>0.64</td>\n    </tr>\n    <tr>\n      <th>173</th>\n      <td>13.40</td>\n      <td>3.91</td>\n      <td>23.0</td>\n      <td>102.0</td>\n      <td>0.75</td>\n      <td>1.41</td>\n      <td>0.70</td>\n    </tr>\n    <tr>\n      <th>174</th>\n      <td>13.27</td>\n      <td>4.28</td>\n      <td>20.0</td>\n      <td>120.0</td>\n      <td>0.69</td>\n      <td>1.35</td>\n      <td>0.59</td>\n    </tr>\n    <tr>\n      <th>175</th>\n      <td>13.17</td>\n      <td>2.59</td>\n      <td>20.0</td>\n      <td>120.0</td>\n      <td>0.68</td>\n      <td>1.46</td>\n      <td>0.60</td>\n    </tr>\n    <tr>\n      <th>176</th>\n      <td>14.13</td>\n      <td>4.10</td>\n      <td>24.5</td>\n      <td>96.0</td>\n      <td>0.76</td>\n      <td>1.35</td>\n      <td>0.61</td>\n    </tr>\n  </tbody>\n</table>\n<p>177 rows × 7 columns</p>\n</div>"
     },
     "metadata": {},
     "execution_count": 26
    }
   ],
   "source": [
    "wine.loc[3:5,[\"magnesium\"]] = None\n",
    "wine"
   ]
  },
  {
   "cell_type": "code",
   "execution_count": 7,
   "metadata": {},
   "outputs": [
    {
     "output_type": "execute_result",
     "data": {
      "text/plain": [
       "     alcohol  malic_acid  alcalinity_of_ash  magnesium  flavanoids  \\\n",
       "0        NaN        1.78               11.2      100.0        2.76   \n",
       "1        NaN        2.36               18.6      101.0        3.24   \n",
       "2        NaN        1.95               16.8      113.0        3.49   \n",
       "3       4.00        4.00                4.0        4.0        4.00   \n",
       "4       4.00        4.00                4.0        4.0        4.00   \n",
       "..       ...         ...                ...        ...         ...   \n",
       "172    13.71        5.65               20.5       95.0        0.61   \n",
       "173    13.40        3.91               23.0      102.0        0.75   \n",
       "174    13.27        4.28               20.0      120.0        0.69   \n",
       "175    13.17        2.59               20.0      120.0        0.68   \n",
       "176    14.13        4.10               24.5       96.0        0.76   \n",
       "\n",
       "     proanthocyanins   hue  \n",
       "0               1.28  1.05  \n",
       "1               2.81  1.03  \n",
       "2               2.18  0.86  \n",
       "3               4.00  4.00  \n",
       "4               4.00  4.00  \n",
       "..               ...   ...  \n",
       "172             1.06  0.64  \n",
       "173             1.41  0.70  \n",
       "174             1.35  0.59  \n",
       "175             1.46  0.60  \n",
       "176             1.35  0.61  \n",
       "\n",
       "[177 rows x 7 columns]"
      ],
      "text/html": "<div>\n<style scoped>\n    .dataframe tbody tr th:only-of-type {\n        vertical-align: middle;\n    }\n\n    .dataframe tbody tr th {\n        vertical-align: top;\n    }\n\n    .dataframe thead th {\n        text-align: right;\n    }\n</style>\n<table border=\"1\" class=\"dataframe\">\n  <thead>\n    <tr style=\"text-align: right;\">\n      <th></th>\n      <th>alcohol</th>\n      <th>malic_acid</th>\n      <th>alcalinity_of_ash</th>\n      <th>magnesium</th>\n      <th>flavanoids</th>\n      <th>proanthocyanins</th>\n      <th>hue</th>\n    </tr>\n  </thead>\n  <tbody>\n    <tr>\n      <th>0</th>\n      <td>NaN</td>\n      <td>1.78</td>\n      <td>11.2</td>\n      <td>100.0</td>\n      <td>2.76</td>\n      <td>1.28</td>\n      <td>1.05</td>\n    </tr>\n    <tr>\n      <th>1</th>\n      <td>NaN</td>\n      <td>2.36</td>\n      <td>18.6</td>\n      <td>101.0</td>\n      <td>3.24</td>\n      <td>2.81</td>\n      <td>1.03</td>\n    </tr>\n    <tr>\n      <th>2</th>\n      <td>NaN</td>\n      <td>1.95</td>\n      <td>16.8</td>\n      <td>113.0</td>\n      <td>3.49</td>\n      <td>2.18</td>\n      <td>0.86</td>\n    </tr>\n    <tr>\n      <th>3</th>\n      <td>4.00</td>\n      <td>4.00</td>\n      <td>4.0</td>\n      <td>4.0</td>\n      <td>4.00</td>\n      <td>4.00</td>\n      <td>4.00</td>\n    </tr>\n    <tr>\n      <th>4</th>\n      <td>4.00</td>\n      <td>4.00</td>\n      <td>4.0</td>\n      <td>4.0</td>\n      <td>4.00</td>\n      <td>4.00</td>\n      <td>4.00</td>\n    </tr>\n    <tr>\n      <th>...</th>\n      <td>...</td>\n      <td>...</td>\n      <td>...</td>\n      <td>...</td>\n      <td>...</td>\n      <td>...</td>\n      <td>...</td>\n    </tr>\n    <tr>\n      <th>172</th>\n      <td>13.71</td>\n      <td>5.65</td>\n      <td>20.5</td>\n      <td>95.0</td>\n      <td>0.61</td>\n      <td>1.06</td>\n      <td>0.64</td>\n    </tr>\n    <tr>\n      <th>173</th>\n      <td>13.40</td>\n      <td>3.91</td>\n      <td>23.0</td>\n      <td>102.0</td>\n      <td>0.75</td>\n      <td>1.41</td>\n      <td>0.70</td>\n    </tr>\n    <tr>\n      <th>174</th>\n      <td>13.27</td>\n      <td>4.28</td>\n      <td>20.0</td>\n      <td>120.0</td>\n      <td>0.69</td>\n      <td>1.35</td>\n      <td>0.59</td>\n    </tr>\n    <tr>\n      <th>175</th>\n      <td>13.17</td>\n      <td>2.59</td>\n      <td>20.0</td>\n      <td>120.0</td>\n      <td>0.68</td>\n      <td>1.46</td>\n      <td>0.60</td>\n    </tr>\n    <tr>\n      <th>176</th>\n      <td>14.13</td>\n      <td>4.10</td>\n      <td>24.5</td>\n      <td>96.0</td>\n      <td>0.76</td>\n      <td>1.35</td>\n      <td>0.61</td>\n    </tr>\n  </tbody>\n</table>\n<p>177 rows × 7 columns</p>\n</div>"
     },
     "metadata": {},
     "execution_count": 7
    }
   ],
   "source": [
    "wine.iloc[3:5,:] = 4\n",
    "wine"
   ]
  },
  {
   "cell_type": "code",
   "execution_count": 8,
   "metadata": {},
   "outputs": [
    {
     "output_type": "execute_result",
     "data": {
      "text/plain": [
       "   magnesium\n",
       "3        4.0\n",
       "4        4.0"
      ],
      "text/html": "<div>\n<style scoped>\n    .dataframe tbody tr th:only-of-type {\n        vertical-align: middle;\n    }\n\n    .dataframe tbody tr th {\n        vertical-align: top;\n    }\n\n    .dataframe thead th {\n        text-align: right;\n    }\n</style>\n<table border=\"1\" class=\"dataframe\">\n  <thead>\n    <tr style=\"text-align: right;\">\n      <th></th>\n      <th>magnesium</th>\n    </tr>\n  </thead>\n  <tbody>\n    <tr>\n      <th>3</th>\n      <td>4.0</td>\n    </tr>\n    <tr>\n      <th>4</th>\n      <td>4.0</td>\n    </tr>\n  </tbody>\n</table>\n</div>"
     },
     "metadata": {},
     "execution_count": 8
    }
   ],
   "source": [
    "wine.loc[ : ,[\"magnesium\"]].iloc[3:5,:] = 3\n",
    "wine.loc[ : ,[\"magnesium\"]].iloc[3:5,:]"
   ]
  },
  {
   "cell_type": "markdown",
   "metadata": {},
   "source": [
    "### Step 8. Fill the value of NaN with the number 10 in alcohol and 100 in magnesium"
   ]
  },
  {
   "cell_type": "code",
   "execution_count": 27,
   "metadata": {},
   "outputs": [
    {
     "output_type": "execute_result",
     "data": {
      "text/plain": [
       "     alcohol  malic_acid  alcalinity_of_ash  magnesium  flavanoids  \\\n",
       "0      10.00        1.78               11.2      100.0        2.76   \n",
       "1      10.00        2.36               18.6      101.0        3.24   \n",
       "2      10.00        1.95               16.8      113.0        3.49   \n",
       "3      13.24        2.59               21.0      100.0        2.69   \n",
       "4      14.20        1.76               15.2      100.0        3.39   \n",
       "..       ...         ...                ...        ...         ...   \n",
       "172    13.71        5.65               20.5       95.0        0.61   \n",
       "173    13.40        3.91               23.0      102.0        0.75   \n",
       "174    13.27        4.28               20.0      120.0        0.69   \n",
       "175    13.17        2.59               20.0      120.0        0.68   \n",
       "176    14.13        4.10               24.5       96.0        0.76   \n",
       "\n",
       "     proanthocyanins   hue  \n",
       "0               1.28  1.05  \n",
       "1               2.81  1.03  \n",
       "2               2.18  0.86  \n",
       "3               1.82  1.04  \n",
       "4               1.97  1.05  \n",
       "..               ...   ...  \n",
       "172             1.06  0.64  \n",
       "173             1.41  0.70  \n",
       "174             1.35  0.59  \n",
       "175             1.46  0.60  \n",
       "176             1.35  0.61  \n",
       "\n",
       "[177 rows x 7 columns]"
      ],
      "text/html": "<div>\n<style scoped>\n    .dataframe tbody tr th:only-of-type {\n        vertical-align: middle;\n    }\n\n    .dataframe tbody tr th {\n        vertical-align: top;\n    }\n\n    .dataframe thead th {\n        text-align: right;\n    }\n</style>\n<table border=\"1\" class=\"dataframe\">\n  <thead>\n    <tr style=\"text-align: right;\">\n      <th></th>\n      <th>alcohol</th>\n      <th>malic_acid</th>\n      <th>alcalinity_of_ash</th>\n      <th>magnesium</th>\n      <th>flavanoids</th>\n      <th>proanthocyanins</th>\n      <th>hue</th>\n    </tr>\n  </thead>\n  <tbody>\n    <tr>\n      <th>0</th>\n      <td>10.00</td>\n      <td>1.78</td>\n      <td>11.2</td>\n      <td>100.0</td>\n      <td>2.76</td>\n      <td>1.28</td>\n      <td>1.05</td>\n    </tr>\n    <tr>\n      <th>1</th>\n      <td>10.00</td>\n      <td>2.36</td>\n      <td>18.6</td>\n      <td>101.0</td>\n      <td>3.24</td>\n      <td>2.81</td>\n      <td>1.03</td>\n    </tr>\n    <tr>\n      <th>2</th>\n      <td>10.00</td>\n      <td>1.95</td>\n      <td>16.8</td>\n      <td>113.0</td>\n      <td>3.49</td>\n      <td>2.18</td>\n      <td>0.86</td>\n    </tr>\n    <tr>\n      <th>3</th>\n      <td>13.24</td>\n      <td>2.59</td>\n      <td>21.0</td>\n      <td>100.0</td>\n      <td>2.69</td>\n      <td>1.82</td>\n      <td>1.04</td>\n    </tr>\n    <tr>\n      <th>4</th>\n      <td>14.20</td>\n      <td>1.76</td>\n      <td>15.2</td>\n      <td>100.0</td>\n      <td>3.39</td>\n      <td>1.97</td>\n      <td>1.05</td>\n    </tr>\n    <tr>\n      <th>...</th>\n      <td>...</td>\n      <td>...</td>\n      <td>...</td>\n      <td>...</td>\n      <td>...</td>\n      <td>...</td>\n      <td>...</td>\n    </tr>\n    <tr>\n      <th>172</th>\n      <td>13.71</td>\n      <td>5.65</td>\n      <td>20.5</td>\n      <td>95.0</td>\n      <td>0.61</td>\n      <td>1.06</td>\n      <td>0.64</td>\n    </tr>\n    <tr>\n      <th>173</th>\n      <td>13.40</td>\n      <td>3.91</td>\n      <td>23.0</td>\n      <td>102.0</td>\n      <td>0.75</td>\n      <td>1.41</td>\n      <td>0.70</td>\n    </tr>\n    <tr>\n      <th>174</th>\n      <td>13.27</td>\n      <td>4.28</td>\n      <td>20.0</td>\n      <td>120.0</td>\n      <td>0.69</td>\n      <td>1.35</td>\n      <td>0.59</td>\n    </tr>\n    <tr>\n      <th>175</th>\n      <td>13.17</td>\n      <td>2.59</td>\n      <td>20.0</td>\n      <td>120.0</td>\n      <td>0.68</td>\n      <td>1.46</td>\n      <td>0.60</td>\n    </tr>\n    <tr>\n      <th>176</th>\n      <td>14.13</td>\n      <td>4.10</td>\n      <td>24.5</td>\n      <td>96.0</td>\n      <td>0.76</td>\n      <td>1.35</td>\n      <td>0.61</td>\n    </tr>\n  </tbody>\n</table>\n<p>177 rows × 7 columns</p>\n</div>"
     },
     "metadata": {},
     "execution_count": 27
    }
   ],
   "source": [
    "wine.fillna({\"alcohol\" : 10, \"magnesium\" : 100})"
   ]
  },
  {
   "cell_type": "markdown",
   "metadata": {},
   "source": [
    "### Step 9. Count the number of missing values"
   ]
  },
  {
   "cell_type": "code",
   "execution_count": 28,
   "metadata": {},
   "outputs": [
    {
     "output_type": "stream",
     "name": "stdout",
     "text": [
      "<class 'pandas.core.frame.DataFrame'>\nRangeIndex: 177 entries, 0 to 176\nData columns (total 7 columns):\n #   Column             Non-Null Count  Dtype  \n---  ------             --------------  -----  \n 0   alcohol            174 non-null    float64\n 1   malic_acid         177 non-null    float64\n 2   alcalinity_of_ash  177 non-null    float64\n 3   magnesium          174 non-null    float64\n 4   flavanoids         177 non-null    float64\n 5   proanthocyanins    177 non-null    float64\n 6   hue                177 non-null    float64\ndtypes: float64(7)\nmemory usage: 9.8 KB\n"
     ]
    }
   ],
   "source": [
    "wine.info()"
   ]
  },
  {
   "cell_type": "code",
   "execution_count": 29,
   "metadata": {},
   "outputs": [
    {
     "output_type": "execute_result",
     "data": {
      "text/plain": [
       "alcohol              3\n",
       "malic_acid           0\n",
       "alcalinity_of_ash    0\n",
       "magnesium            3\n",
       "flavanoids           0\n",
       "proanthocyanins      0\n",
       "hue                  0\n",
       "dtype: int64"
      ]
     },
     "metadata": {},
     "execution_count": 29
    }
   ],
   "source": [
    "wine.isnull().sum()"
   ]
  },
  {
   "cell_type": "code",
   "execution_count": 30,
   "metadata": {},
   "outputs": [
    {
     "output_type": "execute_result",
     "data": {
      "text/plain": [
       "6"
      ]
     },
     "metadata": {},
     "execution_count": 30
    }
   ],
   "source": [
    "wine.isnull().sum().sum()"
   ]
  },
  {
   "cell_type": "markdown",
   "metadata": {},
   "source": [
    "### Step 10.  Create an array of 10 random numbers up until 10"
   ]
  },
  {
   "cell_type": "code",
   "execution_count": 31,
   "metadata": {},
   "outputs": [
    {
     "output_type": "execute_result",
     "data": {
      "text/plain": [
       "array([4, 8, 6, 9, 6, 9, 0, 8, 9, 0])"
      ]
     },
     "metadata": {},
     "execution_count": 31
    }
   ],
   "source": [
    "array = np.random.randint(10, size=10)\n",
    "array"
   ]
  },
  {
   "cell_type": "markdown",
   "metadata": {},
   "source": [
    "### Step 11.  Use random numbers you generated as an index and assign NaN value to each of cell."
   ]
  },
  {
   "cell_type": "code",
   "execution_count": 32,
   "metadata": {},
   "outputs": [
    {
     "output_type": "execute_result",
     "data": {
      "text/plain": [
       "RangeIndex(start=0, stop=177, step=1)"
      ]
     },
     "metadata": {},
     "execution_count": 32
    }
   ],
   "source": [
    "wine.index"
   ]
  },
  {
   "cell_type": "code",
   "execution_count": 33,
   "metadata": {},
   "outputs": [
    {
     "output_type": "execute_result",
     "data": {
      "text/plain": [
       "array([  0,   1,   2,   3,   4,   5,   6,   7,   8,   9,  10,  11,  12,\n",
       "        13,  14,  15,  16,  17,  18,  19,  20,  21,  22,  23,  24,  25,\n",
       "        26,  27,  28,  29,  30,  31,  32,  33,  34,  35,  36,  37,  38,\n",
       "        39,  40,  41,  42,  43,  44,  45,  46,  47,  48,  49,  50,  51,\n",
       "        52,  53,  54,  55,  56,  57,  58,  59,  60,  61,  62,  63,  64,\n",
       "        65,  66,  67,  68,  69,  70,  71,  72,  73,  74,  75,  76,  77,\n",
       "        78,  79,  80,  81,  82,  83,  84,  85,  86,  87,  88,  89,  90,\n",
       "        91,  92,  93,  94,  95,  96,  97,  98,  99, 100, 101, 102, 103,\n",
       "       104, 105, 106, 107, 108, 109, 110, 111, 112, 113, 114, 115, 116,\n",
       "       117, 118, 119, 120, 121, 122, 123, 124, 125, 126, 127, 128, 129,\n",
       "       130, 131, 132, 133, 134, 135, 136, 137, 138, 139, 140, 141, 142,\n",
       "       143, 144, 145, 146, 147, 148, 149, 150, 151, 152, 153, 154, 155,\n",
       "       156, 157, 158, 159, 160, 161, 162, 163, 164, 165, 166, 167, 168,\n",
       "       169, 170, 171, 172, 173, 174, 175, 176], dtype=int64)"
      ]
     },
     "metadata": {},
     "execution_count": 33
    }
   ],
   "source": [
    "new_array = wine.index.values\n",
    "new_array"
   ]
  },
  {
   "cell_type": "code",
   "execution_count": 34,
   "metadata": {},
   "outputs": [
    {
     "output_type": "execute_result",
     "data": {
      "text/plain": [
       "     alcohol  malic_acid  alcalinity_of_ash  magnesium  flavanoids  \\\n",
       "4        NaN        1.78               11.2      100.0        2.76   \n",
       "8        NaN        2.36               18.6      101.0        3.24   \n",
       "6        NaN        1.95               16.8      113.0        3.49   \n",
       "9      13.24        2.59               21.0        NaN        2.69   \n",
       "6      14.20        1.76               15.2        NaN        3.39   \n",
       "..       ...         ...                ...        ...         ...   \n",
       "172    13.71        5.65               20.5       95.0        0.61   \n",
       "173    13.40        3.91               23.0      102.0        0.75   \n",
       "174    13.27        4.28               20.0      120.0        0.69   \n",
       "175    13.17        2.59               20.0      120.0        0.68   \n",
       "176    14.13        4.10               24.5       96.0        0.76   \n",
       "\n",
       "     proanthocyanins   hue  \n",
       "4               1.28  1.05  \n",
       "8               2.81  1.03  \n",
       "6               2.18  0.86  \n",
       "9               1.82  1.04  \n",
       "6               1.97  1.05  \n",
       "..               ...   ...  \n",
       "172             1.06  0.64  \n",
       "173             1.41  0.70  \n",
       "174             1.35  0.59  \n",
       "175             1.46  0.60  \n",
       "176             1.35  0.61  \n",
       "\n",
       "[177 rows x 7 columns]"
      ],
      "text/html": "<div>\n<style scoped>\n    .dataframe tbody tr th:only-of-type {\n        vertical-align: middle;\n    }\n\n    .dataframe tbody tr th {\n        vertical-align: top;\n    }\n\n    .dataframe thead th {\n        text-align: right;\n    }\n</style>\n<table border=\"1\" class=\"dataframe\">\n  <thead>\n    <tr style=\"text-align: right;\">\n      <th></th>\n      <th>alcohol</th>\n      <th>malic_acid</th>\n      <th>alcalinity_of_ash</th>\n      <th>magnesium</th>\n      <th>flavanoids</th>\n      <th>proanthocyanins</th>\n      <th>hue</th>\n    </tr>\n  </thead>\n  <tbody>\n    <tr>\n      <th>4</th>\n      <td>NaN</td>\n      <td>1.78</td>\n      <td>11.2</td>\n      <td>100.0</td>\n      <td>2.76</td>\n      <td>1.28</td>\n      <td>1.05</td>\n    </tr>\n    <tr>\n      <th>8</th>\n      <td>NaN</td>\n      <td>2.36</td>\n      <td>18.6</td>\n      <td>101.0</td>\n      <td>3.24</td>\n      <td>2.81</td>\n      <td>1.03</td>\n    </tr>\n    <tr>\n      <th>6</th>\n      <td>NaN</td>\n      <td>1.95</td>\n      <td>16.8</td>\n      <td>113.0</td>\n      <td>3.49</td>\n      <td>2.18</td>\n      <td>0.86</td>\n    </tr>\n    <tr>\n      <th>9</th>\n      <td>13.24</td>\n      <td>2.59</td>\n      <td>21.0</td>\n      <td>NaN</td>\n      <td>2.69</td>\n      <td>1.82</td>\n      <td>1.04</td>\n    </tr>\n    <tr>\n      <th>6</th>\n      <td>14.20</td>\n      <td>1.76</td>\n      <td>15.2</td>\n      <td>NaN</td>\n      <td>3.39</td>\n      <td>1.97</td>\n      <td>1.05</td>\n    </tr>\n    <tr>\n      <th>...</th>\n      <td>...</td>\n      <td>...</td>\n      <td>...</td>\n      <td>...</td>\n      <td>...</td>\n      <td>...</td>\n      <td>...</td>\n    </tr>\n    <tr>\n      <th>172</th>\n      <td>13.71</td>\n      <td>5.65</td>\n      <td>20.5</td>\n      <td>95.0</td>\n      <td>0.61</td>\n      <td>1.06</td>\n      <td>0.64</td>\n    </tr>\n    <tr>\n      <th>173</th>\n      <td>13.40</td>\n      <td>3.91</td>\n      <td>23.0</td>\n      <td>102.0</td>\n      <td>0.75</td>\n      <td>1.41</td>\n      <td>0.70</td>\n    </tr>\n    <tr>\n      <th>174</th>\n      <td>13.27</td>\n      <td>4.28</td>\n      <td>20.0</td>\n      <td>120.0</td>\n      <td>0.69</td>\n      <td>1.35</td>\n      <td>0.59</td>\n    </tr>\n    <tr>\n      <th>175</th>\n      <td>13.17</td>\n      <td>2.59</td>\n      <td>20.0</td>\n      <td>120.0</td>\n      <td>0.68</td>\n      <td>1.46</td>\n      <td>0.60</td>\n    </tr>\n    <tr>\n      <th>176</th>\n      <td>14.13</td>\n      <td>4.10</td>\n      <td>24.5</td>\n      <td>96.0</td>\n      <td>0.76</td>\n      <td>1.35</td>\n      <td>0.61</td>\n    </tr>\n  </tbody>\n</table>\n<p>177 rows × 7 columns</p>\n</div>"
     },
     "metadata": {},
     "execution_count": 34
    }
   ],
   "source": [
    "new_array[:10] = array\n",
    "wine.set_index(new_array,inplace=True)\n",
    "wine"
   ]
  },
  {
   "cell_type": "code",
   "execution_count": 35,
   "metadata": {},
   "outputs": [
    {
     "output_type": "execute_result",
     "data": {
      "text/plain": [
       "   alcohol  malic_acid  alcalinity_of_ash  magnesium  flavanoids  \\\n",
       "4      NaN         NaN                NaN        NaN         NaN   \n",
       "8      NaN         NaN                NaN        NaN         NaN   \n",
       "6      NaN         NaN                NaN        NaN         NaN   \n",
       "9      NaN         NaN                NaN        NaN         NaN   \n",
       "6      NaN         NaN                NaN        NaN         NaN   \n",
       "9      NaN         NaN                NaN        NaN         NaN   \n",
       "0      NaN         NaN                NaN        NaN         NaN   \n",
       "8      NaN         NaN                NaN        NaN         NaN   \n",
       "9      NaN         NaN                NaN        NaN         NaN   \n",
       "0      NaN         NaN                NaN        NaN         NaN   \n",
       "\n",
       "   proanthocyanins  hue  \n",
       "4              NaN  NaN  \n",
       "8              NaN  NaN  \n",
       "6              NaN  NaN  \n",
       "9              NaN  NaN  \n",
       "6              NaN  NaN  \n",
       "9              NaN  NaN  \n",
       "0              NaN  NaN  \n",
       "8              NaN  NaN  \n",
       "9              NaN  NaN  \n",
       "0              NaN  NaN  "
      ],
      "text/html": "<div>\n<style scoped>\n    .dataframe tbody tr th:only-of-type {\n        vertical-align: middle;\n    }\n\n    .dataframe tbody tr th {\n        vertical-align: top;\n    }\n\n    .dataframe thead th {\n        text-align: right;\n    }\n</style>\n<table border=\"1\" class=\"dataframe\">\n  <thead>\n    <tr style=\"text-align: right;\">\n      <th></th>\n      <th>alcohol</th>\n      <th>malic_acid</th>\n      <th>alcalinity_of_ash</th>\n      <th>magnesium</th>\n      <th>flavanoids</th>\n      <th>proanthocyanins</th>\n      <th>hue</th>\n    </tr>\n  </thead>\n  <tbody>\n    <tr>\n      <th>4</th>\n      <td>NaN</td>\n      <td>NaN</td>\n      <td>NaN</td>\n      <td>NaN</td>\n      <td>NaN</td>\n      <td>NaN</td>\n      <td>NaN</td>\n    </tr>\n    <tr>\n      <th>8</th>\n      <td>NaN</td>\n      <td>NaN</td>\n      <td>NaN</td>\n      <td>NaN</td>\n      <td>NaN</td>\n      <td>NaN</td>\n      <td>NaN</td>\n    </tr>\n    <tr>\n      <th>6</th>\n      <td>NaN</td>\n      <td>NaN</td>\n      <td>NaN</td>\n      <td>NaN</td>\n      <td>NaN</td>\n      <td>NaN</td>\n      <td>NaN</td>\n    </tr>\n    <tr>\n      <th>9</th>\n      <td>NaN</td>\n      <td>NaN</td>\n      <td>NaN</td>\n      <td>NaN</td>\n      <td>NaN</td>\n      <td>NaN</td>\n      <td>NaN</td>\n    </tr>\n    <tr>\n      <th>6</th>\n      <td>NaN</td>\n      <td>NaN</td>\n      <td>NaN</td>\n      <td>NaN</td>\n      <td>NaN</td>\n      <td>NaN</td>\n      <td>NaN</td>\n    </tr>\n    <tr>\n      <th>9</th>\n      <td>NaN</td>\n      <td>NaN</td>\n      <td>NaN</td>\n      <td>NaN</td>\n      <td>NaN</td>\n      <td>NaN</td>\n      <td>NaN</td>\n    </tr>\n    <tr>\n      <th>0</th>\n      <td>NaN</td>\n      <td>NaN</td>\n      <td>NaN</td>\n      <td>NaN</td>\n      <td>NaN</td>\n      <td>NaN</td>\n      <td>NaN</td>\n    </tr>\n    <tr>\n      <th>8</th>\n      <td>NaN</td>\n      <td>NaN</td>\n      <td>NaN</td>\n      <td>NaN</td>\n      <td>NaN</td>\n      <td>NaN</td>\n      <td>NaN</td>\n    </tr>\n    <tr>\n      <th>9</th>\n      <td>NaN</td>\n      <td>NaN</td>\n      <td>NaN</td>\n      <td>NaN</td>\n      <td>NaN</td>\n      <td>NaN</td>\n      <td>NaN</td>\n    </tr>\n    <tr>\n      <th>0</th>\n      <td>NaN</td>\n      <td>NaN</td>\n      <td>NaN</td>\n      <td>NaN</td>\n      <td>NaN</td>\n      <td>NaN</td>\n      <td>NaN</td>\n    </tr>\n  </tbody>\n</table>\n</div>"
     },
     "metadata": {},
     "execution_count": 35
    }
   ],
   "source": [
    "wine[:10] = None\n",
    "wine[:10]"
   ]
  },
  {
   "cell_type": "markdown",
   "metadata": {},
   "source": [
    "### Step 12.  How many missing values do we have?"
   ]
  },
  {
   "cell_type": "code",
   "execution_count": 36,
   "metadata": {},
   "outputs": [
    {
     "output_type": "stream",
     "name": "stdout",
     "text": [
      "alcohol              10\nmalic_acid           10\nalcalinity_of_ash    10\nmagnesium            10\nflavanoids           10\nproanthocyanins      10\nhue                  10\ndtype: int64\n\nTotal: 70\n"
     ]
    }
   ],
   "source": [
    "print(wine.isnull().sum())\n",
    "print()\n",
    "print(\"Total:\",wine.isnull().sum().sum())"
   ]
  },
  {
   "cell_type": "markdown",
   "metadata": {},
   "source": [
    "### Step 13. Delete the rows that contain missing values"
   ]
  },
  {
   "cell_type": "code",
   "execution_count": 37,
   "metadata": {},
   "outputs": [
    {
     "output_type": "execute_result",
     "data": {
      "text/plain": [
       "     alcohol  malic_acid  alcalinity_of_ash  magnesium  flavanoids  \\\n",
       "10     14.12        1.48               16.8       95.0        2.43   \n",
       "11     13.75        1.73               16.0       89.0        2.76   \n",
       "12     14.75        1.73               11.4       91.0        3.69   \n",
       "13     14.38        1.87               12.0      102.0        3.64   \n",
       "14     13.63        1.81               17.2      112.0        2.91   \n",
       "..       ...         ...                ...        ...         ...   \n",
       "172    13.71        5.65               20.5       95.0        0.61   \n",
       "173    13.40        3.91               23.0      102.0        0.75   \n",
       "174    13.27        4.28               20.0      120.0        0.69   \n",
       "175    13.17        2.59               20.0      120.0        0.68   \n",
       "176    14.13        4.10               24.5       96.0        0.76   \n",
       "\n",
       "     proanthocyanins   hue  \n",
       "10              1.57  1.17  \n",
       "11              1.81  1.15  \n",
       "12              2.81  1.25  \n",
       "13              2.96  1.20  \n",
       "14              1.46  1.28  \n",
       "..               ...   ...  \n",
       "172             1.06  0.64  \n",
       "173             1.41  0.70  \n",
       "174             1.35  0.59  \n",
       "175             1.46  0.60  \n",
       "176             1.35  0.61  \n",
       "\n",
       "[167 rows x 7 columns]"
      ],
      "text/html": "<div>\n<style scoped>\n    .dataframe tbody tr th:only-of-type {\n        vertical-align: middle;\n    }\n\n    .dataframe tbody tr th {\n        vertical-align: top;\n    }\n\n    .dataframe thead th {\n        text-align: right;\n    }\n</style>\n<table border=\"1\" class=\"dataframe\">\n  <thead>\n    <tr style=\"text-align: right;\">\n      <th></th>\n      <th>alcohol</th>\n      <th>malic_acid</th>\n      <th>alcalinity_of_ash</th>\n      <th>magnesium</th>\n      <th>flavanoids</th>\n      <th>proanthocyanins</th>\n      <th>hue</th>\n    </tr>\n  </thead>\n  <tbody>\n    <tr>\n      <th>10</th>\n      <td>14.12</td>\n      <td>1.48</td>\n      <td>16.8</td>\n      <td>95.0</td>\n      <td>2.43</td>\n      <td>1.57</td>\n      <td>1.17</td>\n    </tr>\n    <tr>\n      <th>11</th>\n      <td>13.75</td>\n      <td>1.73</td>\n      <td>16.0</td>\n      <td>89.0</td>\n      <td>2.76</td>\n      <td>1.81</td>\n      <td>1.15</td>\n    </tr>\n    <tr>\n      <th>12</th>\n      <td>14.75</td>\n      <td>1.73</td>\n      <td>11.4</td>\n      <td>91.0</td>\n      <td>3.69</td>\n      <td>2.81</td>\n      <td>1.25</td>\n    </tr>\n    <tr>\n      <th>13</th>\n      <td>14.38</td>\n      <td>1.87</td>\n      <td>12.0</td>\n      <td>102.0</td>\n      <td>3.64</td>\n      <td>2.96</td>\n      <td>1.20</td>\n    </tr>\n    <tr>\n      <th>14</th>\n      <td>13.63</td>\n      <td>1.81</td>\n      <td>17.2</td>\n      <td>112.0</td>\n      <td>2.91</td>\n      <td>1.46</td>\n      <td>1.28</td>\n    </tr>\n    <tr>\n      <th>...</th>\n      <td>...</td>\n      <td>...</td>\n      <td>...</td>\n      <td>...</td>\n      <td>...</td>\n      <td>...</td>\n      <td>...</td>\n    </tr>\n    <tr>\n      <th>172</th>\n      <td>13.71</td>\n      <td>5.65</td>\n      <td>20.5</td>\n      <td>95.0</td>\n      <td>0.61</td>\n      <td>1.06</td>\n      <td>0.64</td>\n    </tr>\n    <tr>\n      <th>173</th>\n      <td>13.40</td>\n      <td>3.91</td>\n      <td>23.0</td>\n      <td>102.0</td>\n      <td>0.75</td>\n      <td>1.41</td>\n      <td>0.70</td>\n    </tr>\n    <tr>\n      <th>174</th>\n      <td>13.27</td>\n      <td>4.28</td>\n      <td>20.0</td>\n      <td>120.0</td>\n      <td>0.69</td>\n      <td>1.35</td>\n      <td>0.59</td>\n    </tr>\n    <tr>\n      <th>175</th>\n      <td>13.17</td>\n      <td>2.59</td>\n      <td>20.0</td>\n      <td>120.0</td>\n      <td>0.68</td>\n      <td>1.46</td>\n      <td>0.60</td>\n    </tr>\n    <tr>\n      <th>176</th>\n      <td>14.13</td>\n      <td>4.10</td>\n      <td>24.5</td>\n      <td>96.0</td>\n      <td>0.76</td>\n      <td>1.35</td>\n      <td>0.61</td>\n    </tr>\n  </tbody>\n</table>\n<p>167 rows × 7 columns</p>\n</div>"
     },
     "metadata": {},
     "execution_count": 37
    }
   ],
   "source": [
    "wine.dropna()"
   ]
  },
  {
   "cell_type": "markdown",
   "metadata": {},
   "source": [
    "### Step 14. Print only the non-null values in alcohol"
   ]
  },
  {
   "cell_type": "code",
   "execution_count": 38,
   "metadata": {},
   "outputs": [
    {
     "output_type": "execute_result",
     "data": {
      "text/plain": [
       "4   NaN\n",
       "8   NaN\n",
       "6   NaN\n",
       "9   NaN\n",
       "6   NaN\n",
       "9   NaN\n",
       "0   NaN\n",
       "8   NaN\n",
       "9   NaN\n",
       "0   NaN\n",
       "Name: alcohol, dtype: float64"
      ]
     },
     "metadata": {},
     "execution_count": 38
    }
   ],
   "source": [
    "wine[\"alcohol\"][wine[\"alcohol\"].isnull() == True]"
   ]
  },
  {
   "cell_type": "markdown",
   "metadata": {},
   "source": [
    "### Step 15.  Reset the index, so it starts with 0 again"
   ]
  },
  {
   "cell_type": "code",
   "execution_count": 39,
   "metadata": {},
   "outputs": [
    {
     "output_type": "execute_result",
     "data": {
      "text/plain": [
       "     alcohol  malic_acid  alcalinity_of_ash  magnesium  flavanoids  \\\n",
       "0        NaN         NaN                NaN        NaN         NaN   \n",
       "1        NaN         NaN                NaN        NaN         NaN   \n",
       "2        NaN         NaN                NaN        NaN         NaN   \n",
       "3        NaN         NaN                NaN        NaN         NaN   \n",
       "4        NaN         NaN                NaN        NaN         NaN   \n",
       "..       ...         ...                ...        ...         ...   \n",
       "172    13.71        5.65               20.5       95.0        0.61   \n",
       "173    13.40        3.91               23.0      102.0        0.75   \n",
       "174    13.27        4.28               20.0      120.0        0.69   \n",
       "175    13.17        2.59               20.0      120.0        0.68   \n",
       "176    14.13        4.10               24.5       96.0        0.76   \n",
       "\n",
       "     proanthocyanins   hue  \n",
       "0                NaN   NaN  \n",
       "1                NaN   NaN  \n",
       "2                NaN   NaN  \n",
       "3                NaN   NaN  \n",
       "4                NaN   NaN  \n",
       "..               ...   ...  \n",
       "172             1.06  0.64  \n",
       "173             1.41  0.70  \n",
       "174             1.35  0.59  \n",
       "175             1.46  0.60  \n",
       "176             1.35  0.61  \n",
       "\n",
       "[177 rows x 7 columns]"
      ],
      "text/html": "<div>\n<style scoped>\n    .dataframe tbody tr th:only-of-type {\n        vertical-align: middle;\n    }\n\n    .dataframe tbody tr th {\n        vertical-align: top;\n    }\n\n    .dataframe thead th {\n        text-align: right;\n    }\n</style>\n<table border=\"1\" class=\"dataframe\">\n  <thead>\n    <tr style=\"text-align: right;\">\n      <th></th>\n      <th>alcohol</th>\n      <th>malic_acid</th>\n      <th>alcalinity_of_ash</th>\n      <th>magnesium</th>\n      <th>flavanoids</th>\n      <th>proanthocyanins</th>\n      <th>hue</th>\n    </tr>\n  </thead>\n  <tbody>\n    <tr>\n      <th>0</th>\n      <td>NaN</td>\n      <td>NaN</td>\n      <td>NaN</td>\n      <td>NaN</td>\n      <td>NaN</td>\n      <td>NaN</td>\n      <td>NaN</td>\n    </tr>\n    <tr>\n      <th>1</th>\n      <td>NaN</td>\n      <td>NaN</td>\n      <td>NaN</td>\n      <td>NaN</td>\n      <td>NaN</td>\n      <td>NaN</td>\n      <td>NaN</td>\n    </tr>\n    <tr>\n      <th>2</th>\n      <td>NaN</td>\n      <td>NaN</td>\n      <td>NaN</td>\n      <td>NaN</td>\n      <td>NaN</td>\n      <td>NaN</td>\n      <td>NaN</td>\n    </tr>\n    <tr>\n      <th>3</th>\n      <td>NaN</td>\n      <td>NaN</td>\n      <td>NaN</td>\n      <td>NaN</td>\n      <td>NaN</td>\n      <td>NaN</td>\n      <td>NaN</td>\n    </tr>\n    <tr>\n      <th>4</th>\n      <td>NaN</td>\n      <td>NaN</td>\n      <td>NaN</td>\n      <td>NaN</td>\n      <td>NaN</td>\n      <td>NaN</td>\n      <td>NaN</td>\n    </tr>\n    <tr>\n      <th>...</th>\n      <td>...</td>\n      <td>...</td>\n      <td>...</td>\n      <td>...</td>\n      <td>...</td>\n      <td>...</td>\n      <td>...</td>\n    </tr>\n    <tr>\n      <th>172</th>\n      <td>13.71</td>\n      <td>5.65</td>\n      <td>20.5</td>\n      <td>95.0</td>\n      <td>0.61</td>\n      <td>1.06</td>\n      <td>0.64</td>\n    </tr>\n    <tr>\n      <th>173</th>\n      <td>13.40</td>\n      <td>3.91</td>\n      <td>23.0</td>\n      <td>102.0</td>\n      <td>0.75</td>\n      <td>1.41</td>\n      <td>0.70</td>\n    </tr>\n    <tr>\n      <th>174</th>\n      <td>13.27</td>\n      <td>4.28</td>\n      <td>20.0</td>\n      <td>120.0</td>\n      <td>0.69</td>\n      <td>1.35</td>\n      <td>0.59</td>\n    </tr>\n    <tr>\n      <th>175</th>\n      <td>13.17</td>\n      <td>2.59</td>\n      <td>20.0</td>\n      <td>120.0</td>\n      <td>0.68</td>\n      <td>1.46</td>\n      <td>0.60</td>\n    </tr>\n    <tr>\n      <th>176</th>\n      <td>14.13</td>\n      <td>4.10</td>\n      <td>24.5</td>\n      <td>96.0</td>\n      <td>0.76</td>\n      <td>1.35</td>\n      <td>0.61</td>\n    </tr>\n  </tbody>\n</table>\n<p>177 rows × 7 columns</p>\n</div>"
     },
     "metadata": {},
     "execution_count": 39
    }
   ],
   "source": [
    "wine = wine.reset_index(drop=True)\n",
    "wine"
   ]
  },
  {
   "cell_type": "code",
   "execution_count": null,
   "metadata": {},
   "outputs": [],
   "source": []
  }
 ],
 "metadata": {
  "anaconda-cloud": {},
  "kernelspec": {
   "name": "python374jvsc74a57bd0fc2c00f0e2c44cb4028bd693f18a1b5d93d1de4cd12db71fca36ff691a163044",
   "display_name": "Python 3.7.4 64-bit"
  },
  "language_info": {
   "codemirror_mode": {
    "name": "ipython",
    "version": 3
   },
   "file_extension": ".py",
   "mimetype": "text/x-python",
   "name": "python",
   "nbconvert_exporter": "python",
   "pygments_lexer": "ipython3",
   "version": "3.7.4"
  },
  "metadata": {
   "interpreter": {
    "hash": "fc2c00f0e2c44cb4028bd693f18a1b5d93d1de4cd12db71fca36ff691a163044"
   }
  }
 },
 "nbformat": 4,
 "nbformat_minor": 4
}