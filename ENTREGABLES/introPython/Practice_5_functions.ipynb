{
 "cells": [
  {
   "cell_type": "markdown",
   "metadata": {},
   "source": [
    "# Python | day 5 | functions"
   ]
  },
  {
   "cell_type": "markdown",
   "metadata": {},
   "source": [
    "In Python, a function is a group of related statements that performs a specific task."
   ]
  },
  {
   "cell_type": "markdown",
   "metadata": {},
   "source": [
    "https://www.programiz.com/python-programming/function"
   ]
  },
  {
   "cell_type": "markdown",
   "metadata": {},
   "source": [
    "#### Difference between `return` and `print`.\n",
    "\n",
    "Take some minutes to understand the difference between `return` and `print`, it seems to be the same, but they are not and it's important you understand the difference. "
   ]
  },
  {
   "cell_type": "code",
   "execution_count": 32,
   "metadata": {},
   "outputs": [
    {
     "output_type": "stream",
     "name": "stdout",
     "text": [
      "2\n4\n8\n"
     ]
    }
   ],
   "source": [
    "def suma(a,b):\n",
    "    print(a)\n",
    "    return(a + b)\n",
    "\n",
    "print(suma(suma(2,2),4))"
   ]
  },
  {
   "cell_type": "markdown",
   "metadata": {},
   "source": [
    "#### Comments in a function."
   ]
  },
  {
   "cell_type": "code",
   "execution_count": 34,
   "metadata": {},
   "outputs": [],
   "source": [
    "def say_hello(name):\n",
    "    \"\"\"\n",
    "    Given a name as an argument, \n",
    "    the function return a string greeting\n",
    "    the name given. \n",
    "    \"\"\"\n",
    "    return f\"hello {name}\""
   ]
  },
  {
   "cell_type": "code",
   "execution_count": 37,
   "metadata": {},
   "outputs": [
    {
     "output_type": "stream",
     "name": "stdout",
     "text": [
      "hello Clara\n"
     ]
    }
   ],
   "source": [
    "print(say_hello(\"Clara\"))"
   ]
  },
  {
   "cell_type": "code",
   "execution_count": 38,
   "metadata": {},
   "outputs": [
    {
     "output_type": "stream",
     "name": "stdout",
     "text": [
      "Help on function say_hello in module __main__:\n\nsay_hello(name)\n    Given a name as an argument, \n    the function return a string greeting\n    the name given.\n\n"
     ]
    }
   ],
   "source": [
    "help(say_hello)"
   ]
  },
  {
   "cell_type": "markdown",
   "metadata": {},
   "source": [
    "### Exercise 1. "
   ]
  },
  {
   "cell_type": "markdown",
   "metadata": {},
   "source": [
    "To solve the following exercises it will be necessary to define a function for each section. You choose the name of those functions unless specified, but make sure you define a single parameter `whichever_list`, when calling the function it will correspond to the variable `info_list`.\n",
    "```python\n",
    "def funtion_bla(whichever_list):\n",
    "    return whichever_list\n",
    "\n",
    "function_bla(info_list)\n",
    "```\n",
    "\n",
    "**In the case of not being able to solve a question containing the code in a function, try to do it without defining one.**"
   ]
  },
  {
   "cell_type": "code",
   "execution_count": null,
   "metadata": {},
   "outputs": [],
   "source": [
    "# you can use this list or take yours from Practice 3\n",
    "info_list = [15, 'Recoletos', True, ['Recoletos', 15],  None, '8'] "
   ]
  },
  {
   "cell_type": "markdown",
   "metadata": {},
   "source": [
    "1. Display on the screen `\"I like the tranquility\"` if you like the mountains more and `\"I'd love to live in Malaga\"` if you like the beach more.\n",
    "\n"
   ]
  },
  {
   "cell_type": "code",
   "execution_count": 45,
   "metadata": {},
   "outputs": [
    {
     "output_type": "stream",
     "name": "stdout",
     "text": [
      "I´d love to live in Malaga\nNone\n"
     ]
    }
   ],
   "source": [
    "#define a function which takes a single parameter `whichever_list`\n",
    "\n",
    "def like(beach_mountain): \n",
    "    if beach_mountain == \"beach\":\n",
    "        print(\"I´d love to live in Malaga\")\n",
    "    else: \n",
    "        print(\"I like tranquility\")\n",
    "\n",
    "bm = input(\"Write what you prefer\")\n",
    "\n",
    "print(like(beach_mountain=bm))\n"
   ]
  },
  {
   "cell_type": "code",
   "execution_count": 44,
   "metadata": {},
   "outputs": [],
   "source": [
    "#call the function with the variable `info_list`\n"
   ]
  },
  {
   "cell_type": "markdown",
   "metadata": {},
   "source": [
    "2. Print `\"Today I am tired\"` if you have slept less than 7 hours or `\"Today I conquer the world\"` if you have slept more than 7 hours."
   ]
  },
  {
   "cell_type": "code",
   "execution_count": 47,
   "metadata": {},
   "outputs": [
    {
     "output_type": "stream",
     "name": "stdout",
     "text": [
      "Today I conquer the world\nNone\n"
     ]
    }
   ],
   "source": [
    "#define a function which takes a single parameter `whichever_list`\n",
    "def sleep(hours):\n",
    "    if hours < 7: \n",
    "        print(\"Today I am tired\")\n",
    "    else: \n",
    "        print(\"Today I conquer the world\")\n",
    "\n",
    "sleep_hours = int(input(\"How many hours?\"))\n",
    "\n",
    "print(sleep(hours=sleep_hours))"
   ]
  },
  {
   "cell_type": "code",
   "execution_count": null,
   "metadata": {},
   "outputs": [],
   "source": [
    "#call the function with the variable `info_list`\n"
   ]
  },
  {
   "cell_type": "markdown",
   "metadata": {},
   "source": [
    "3. Loop through `whichever_list` to print all the elements it contains. This function should return the list turned into a tuple. "
   ]
  },
  {
   "cell_type": "code",
   "execution_count": 155,
   "metadata": {},
   "outputs": [],
   "source": [
    "info_list = [15, 'Recoletos', True, ['Recoletos', 15],  None, '8'] \n"
   ]
  },
  {
   "cell_type": "code",
   "execution_count": 76,
   "metadata": {},
   "outputs": [
    {
     "output_type": "stream",
     "name": "stdout",
     "text": [
      "15\nRecoletos\nTrue\n['Recoletos', 15]\nNone\n8\n(15, 'Recoletos', True, ['Recoletos', 15], None, '8')\n"
     ]
    }
   ],
   "source": [
    "#define a function which takes a single parameter `whichever_list`\n",
    "def function_lista(whichever_list): \n",
    "    for lista in whichever_list: \n",
    "        print(lista)\n",
    "    return tuple(whichever_list)\n",
    "\n",
    "lista_tupla = (function_lista(whichever_list=info_list))\n",
    "print((lista_tupla))\n"
   ]
  },
  {
   "cell_type": "markdown",
   "metadata": {},
   "source": [
    "4. Loop through `whichever_list` to print all the elements it contains concatenated with the string` \"--> OK\" `. This function should return a message saying, `\"everything will be ok\"`. \n"
   ]
  },
  {
   "cell_type": "code",
   "execution_count": 77,
   "metadata": {},
   "outputs": [
    {
     "output_type": "stream",
     "name": "stdout",
     "text": [
      "15--> OK\nRecoletos--> OK\nTrue--> OK\n['Recoletos', 15]--> OK\nNone--> OK\n8--> OK\neverything will be ok\n"
     ]
    }
   ],
   "source": [
    "#define a function which takes a single parameter `whichever_list`\n",
    "def function_lista(whichever_list): \n",
    "    for lista in whichever_list: \n",
    "        print(str(lista) + \"--> OK\")\n",
    "    return \"everything will be ok\"\n",
    "\n",
    "\n",
    "print((function_lista(whichever_list=info_list)))"
   ]
  },
  {
   "cell_type": "markdown",
   "metadata": {},
   "source": [
    "5. Loop through `whichever_list` to display all items it contains except the first one. This function should return the first element of the list. "
   ]
  },
  {
   "cell_type": "code",
   "execution_count": 81,
   "metadata": {},
   "outputs": [
    {
     "output_type": "stream",
     "name": "stdout",
     "text": [
      "Recoletos\nTrue\n['Recoletos', 15]\nNone\n8\n15\n"
     ]
    }
   ],
   "source": [
    "#define a function which takes a single parameter `whichever_list`\n",
    "def function_lista(whichever_list): \n",
    "    for lista in whichever_list[1:]: \n",
    "        print(lista)\n",
    "    return whichever_list[0]\n",
    "\n",
    "print((function_lista(whichever_list=info_list)))"
   ]
  },
  {
   "cell_type": "code",
   "execution_count": null,
   "metadata": {},
   "outputs": [],
   "source": [
    "#call the function with the variable `info_list`\n"
   ]
  },
  {
   "cell_type": "markdown",
   "metadata": {},
   "source": [
    "6. Loop through `whichever_list` to display all the items it contains except the last one. This function should return the last element of the list. "
   ]
  },
  {
   "cell_type": "code",
   "execution_count": 85,
   "metadata": {},
   "outputs": [
    {
     "output_type": "stream",
     "name": "stdout",
     "text": [
      "15\nRecoletos\nTrue\n['Recoletos', 15]\nNone\n8\n"
     ]
    }
   ],
   "source": [
    "#define a function which takes a single parameter `whichever_list`\n",
    "def function_lista(whichever_list): \n",
    "    for lista in whichever_list[:-1]: \n",
    "        print(lista)\n",
    "    return whichever_list[-1]\n",
    "\n",
    "\n",
    "print((function_lista(whichever_list=info_list)))"
   ]
  },
  {
   "cell_type": "code",
   "execution_count": null,
   "metadata": {},
   "outputs": [],
   "source": [
    "#call the function with the variable `info_list`\n"
   ]
  },
  {
   "cell_type": "markdown",
   "metadata": {},
   "source": [
    "7. Loop through `whichever_list` to show all the elements it contains except the street number and the hours you've slept."
   ]
  },
  {
   "cell_type": "code",
   "execution_count": 156,
   "metadata": {},
   "outputs": [
    {
     "output_type": "stream",
     "name": "stdout",
     "text": [
      "Recoletos\nTrue\n['Recoletos', 15]\nNone\n"
     ]
    }
   ],
   "source": [
    "#define a function which takes a single parameter `whichever_list`\n",
    "def function_lista(whichever_list): \n",
    "    for lista in whichever_list[1:-1]: \n",
    "        print(lista)\n",
    "    \n",
    "\n",
    "function_lista(whichever_list=info_list)"
   ]
  },
  {
   "cell_type": "code",
   "execution_count": null,
   "metadata": {},
   "outputs": [],
   "source": [
    "#call the function with the variable `info_list`\n"
   ]
  },
  {
   "cell_type": "markdown",
   "metadata": {},
   "source": [
    "8. Loop through `whichever_list` to print all the elements it contains except the first element of the list which is in fourth position (`'Recoletos'`). This function should return the lenght of that element. "
   ]
  },
  {
   "cell_type": "code",
   "execution_count": 149,
   "metadata": {},
   "outputs": [],
   "source": [
    "info_list = [15, 'Recoletos', True, ['Recoletos', 15],  None, '8'] "
   ]
  },
  {
   "cell_type": "code",
   "execution_count": 144,
   "metadata": {},
   "outputs": [
    {
     "output_type": "stream",
     "name": "stdout",
     "text": [
      "[15, 'Recoletos', True, [15], None, '8']\n1\n"
     ]
    }
   ],
   "source": [
    "#define a function which takes a single parameter `whichever_list`\n",
    "def function_lista(whichever_list): \n",
    "    \n",
    "    for i in whichever_list:\n",
    "        if type(i) == list: \n",
    "            for x in i:\n",
    "                if x == \"Recoletos\":\n",
    "                    i.remove(x)\n",
    "    print(whichever_list)\n",
    "    print(i)\n",
    "    return len(whichever_list[3])\n",
    "     \n",
    "\n",
    "print(function_lista(whichever_list=info_list))"
   ]
  },
  {
   "cell_type": "code",
   "execution_count": 113,
   "metadata": {},
   "outputs": [],
   "source": [
    "#call the function with the variable `info_list`\n"
   ]
  },
  {
   "cell_type": "markdown",
   "metadata": {},
   "source": [
    "9. Loop through `whichever_list` to show all the elements it contains except the one that contains the information about whether you like the mountains or the beach. The function should return a message saying `\"I love the beach\"` if you prefer the beach and a message saying `\"I love the mountain\"` otherwise. "
   ]
  },
  {
   "cell_type": "code",
   "execution_count": 148,
   "metadata": {},
   "outputs": [
    {
     "output_type": "stream",
     "name": "stdout",
     "text": [
      "[15, 'Recoletos', [15], None, '8']\nI love the mountain\n"
     ]
    }
   ],
   "source": [
    "#define a function which takes a single parameter `whichever_list`\n",
    "def function_lista(whichever_list): \n",
    "    \n",
    "    for i in whichever_list:\n",
    "            if i == True:\n",
    "                whichever_list.remove(i)\n",
    "    print(whichever_list)\n",
    "    if parametro == \"Beach\":\n",
    "        return \"I love the beach\"\n",
    "    else: \n",
    "        return \"I love the mountain\"\n",
    "\n",
    "parametro = input(\"Beach or mountain\")\n",
    "\n",
    "print(function_lista(whichever_list=info_list))"
   ]
  },
  {
   "cell_type": "code",
   "execution_count": null,
   "metadata": {},
   "outputs": [],
   "source": [
    "#call the function with the variable `info_list`\n",
    "#¿Por qué me sale la info_list con el recoletos cortado? "
   ]
  },
  {
   "cell_type": "code",
   "execution_count": null,
   "metadata": {},
   "outputs": [],
   "source": [
    "def shout(text): \n",
    "    return text.upper() \n",
    "\n",
    "def whisper(text): \n",
    "    return text.lower() \n",
    "\n",
    "def greet(func): \n",
    "    # storing the function in a variable \n",
    "    greeting = func(text=\"Hi, I am created by a function passed as an argument.\") \n",
    "    print(greeting)\n",
    "\n",
    "greet(fun=shout) \n",
    "greet(whisper)"
   ]
  },
  {
   "cell_type": "code",
   "execution_count": 1,
   "metadata": {},
   "outputs": [
    {
     "output_type": "stream",
     "name": "stdout",
     "text": [
      "HOLA\n"
     ]
    }
   ],
   "source": [
    "def up(text):\n",
    "    return text.upper()\n",
    "\n",
    "def f_recibe_funcion(func):\n",
    "    print(func(\"hola\"))\n",
    "\n",
    "f_recibe_funcion(func=up)"
   ]
  },
  {
   "cell_type": "code",
   "execution_count": null,
   "metadata": {},
   "outputs": [],
   "source": [
    "up(text=\"Hola\") #--> la llamada a la función up (lo que retorna)"
   ]
  },
  {
   "cell_type": "code",
   "execution_count": null,
   "metadata": {},
   "outputs": [],
   "source": [
    "# up -> La referencia a la función up\n",
    "\n",
    "x = up"
   ]
  },
  {
   "cell_type": "markdown",
   "metadata": {},
   "source": [
    "### Bonus Track\n",
    "\n",
    "In the case of not being able to solve a question containing the code in a function, try to do it without defining one. "
   ]
  },
  {
   "cell_type": "markdown",
   "metadata": {},
   "source": [
    "1. Create a variable called `zone` and give it the value of **None**. Loop through `whichever_list` and update `zone` to **True** if and only if, you have slept more than 7 hours, you like the beach and the sum of the hours you have slept plus the number of The Bridge is less than 24. In any other case, `zone` will be **False**. This function should return the value of `zone` and will be called `zone_function`.\n"
   ]
  },
  {
   "cell_type": "code",
   "execution_count": 27,
   "metadata": {},
   "outputs": [],
   "source": [
    "info_list = [15, 'Recoletos', True, ['Recoletos', 15],  None, '8']"
   ]
  },
  {
   "cell_type": "code",
   "execution_count": 28,
   "metadata": {},
   "outputs": [
    {
     "output_type": "stream",
     "name": "stdout",
     "text": [
      "Es mayor que 7\nEs verdadero\nEs menor que 24\nTrue\n"
     ]
    }
   ],
   "source": [
    "zone = None\n",
    "\n",
    "def zone_function(whichever_list): \n",
    "    if int(whichever_list[-1]) > 7:\n",
    "        print(\"Es mayor que 7\")\n",
    "        if whichever_list[2] == True:\n",
    "            print(\"Es verdadero\")\n",
    "            if whichever_list[0] + int(whichever_list[-1]) < 24:\n",
    "                print(\"Es menor que 24\")\n",
    "                zone = True\n",
    "    else: \n",
    "        zone = False\n",
    "    return zone\n",
    "\n",
    "\n",
    "print(zone_function(whichever_list=info_list))"
   ]
  },
  {
   "cell_type": "code",
   "execution_count": 29,
   "metadata": {},
   "outputs": [
    {
     "output_type": "stream",
     "name": "stdout",
     "text": [
      "True\n"
     ]
    }
   ],
   "source": [
    "zone = None\n",
    "\n",
    "def zone_function(whichever_list): \n",
    "    if (int(whichever_list[-1]) > 7) and (whichever_list[2] == True) and (whichever_list[0] + int(whichever_list[-1]) < 24):\n",
    "        zone = True\n",
    "        return zone\n",
    "        \n",
    "    else: \n",
    "        zone = False\n",
    "        return zone\n",
    "\n",
    "value_return = zone_function(info_list)\n",
    "\n",
    "print(zone_function(whichever_list=info_list))"
   ]
  },
  {
   "cell_type": "code",
   "execution_count": 30,
   "metadata": {},
   "outputs": [
    {
     "output_type": "stream",
     "name": "stdout",
     "text": [
      "<function zone_function at 0x000001FC3E979D38>\n"
     ]
    }
   ],
   "source": [
    "print(zone_function)"
   ]
  },
  {
   "cell_type": "markdown",
   "metadata": {},
   "source": [
    "2. Define a function called `test_function` that receives only one parameter called `zone_value` and that returns the value of `zone_value` if it is **True**. Once you've defined `test_function` you should call it with the value returned by the `zone_function` as an argument."
   ]
  },
  {
   "cell_type": "code",
   "execution_count": 31,
   "metadata": {},
   "outputs": [
    {
     "output_type": "stream",
     "name": "stdout",
     "text": [
      "Sí\n"
     ]
    },
    {
     "output_type": "execute_result",
     "data": {
      "text/plain": [
       "True"
      ]
     },
     "metadata": {},
     "execution_count": 31
    }
   ],
   "source": [
    "def test_function(zone_value):\n",
    "    if zone_value == True: \n",
    "        print(\"Sí\")\n",
    "        return zone_value\n",
    "test_function(zone_value=value_return)"
   ]
  },
  {
   "cell_type": "markdown",
   "metadata": {},
   "source": [
    "3. Define a function that asks the user if they like the mountain and, if not, call the `zone_function` function."
   ]
  },
  {
   "cell_type": "code",
   "execution_count": 37,
   "metadata": {},
   "outputs": [],
   "source": [
    "def te_gusta_funcion():\n",
    "    te_gusta = input(\"Te gusta la montaña? SI o NO\")\n",
    "    if te_gusta == \"SI\": \n",
    "        pass\n",
    "    else:\n",
    "        print(zone_function(whichever_list=info_list))\n",
    "        \n",
    "te_gusta_funcion()"
   ]
  },
  {
   "cell_type": "markdown",
   "metadata": {},
   "source": [
    "### Bonus Track of the Bonus Track.\n",
    "\n",
    "**This Bonus Track could take you some days, it is very ok, sometimes coding is all about time.**\n",
    "\n",
    "Sooner than later, you'll also learn about `.py` files and you will be able to implement this program into that kind of file. Not yet, tho. "
   ]
  },
  {
   "cell_type": "markdown",
   "metadata": {},
   "source": [
    "1. Program **a calculator** that asks for two numbers and two operators on the screen. One operation must be performed first and then another. Try to define as many functions as possible."
   ]
  },
  {
   "cell_type": "code",
   "execution_count": 8,
   "metadata": {},
   "outputs": [],
   "source": [
    "def suma(a,b):\n",
    "    print(\"Suma\")\n",
    "    return a + b\n",
    "\n",
    "def resta(a, b):\n",
    "    print(\"Resta\")\n",
    "    return a - b\n",
    "\n",
    "def multiplicacion(a, b):\n",
    "    print(\"Multiplicacion\")\n",
    "    return a * b\n",
    "\n",
    "def division(a, b):\n",
    "    print(\"División\")\n",
    "    return a / b"
   ]
  },
  {
   "source": [
    "## Manera de hacerlo con funciones"
   ],
   "cell_type": "markdown",
   "metadata": {}
  },
  {
   "cell_type": "code",
   "execution_count": null,
   "metadata": {},
   "outputs": [],
   "source": [
    "def recorre_operaciones(operaciones):\n",
    "    primer_numero = int(input(\"Escribe el primer número\"))\n",
    "    segundo_numero = int(input(\"Escribe el segundo número\"))\n",
    "    primer_operación = input(\"Escribe un operador(+, -, *, /)\")\n",
    "    segunda_operacion = input(\"Escribe otro operador(+, -, *, /)\")\n",
    "\n",
    "    resultado = \"No se ha efectuado la operación\"\n",
    "\n",
    "    operaciones = [primer_operación, segunda_operacion]\n",
    "\n",
    "    for operacion_elegida in operaciones:\n",
    "\n",
    "        if operacion_elegida == \"+\":\n",
    "            resultado = suma(a=primer_numero, b=segundo_numero)\n",
    "\n",
    "        elif operacion_elegida == \"-\":\n",
    "            resultado = resta(primer_numero, segundo_numero)\n",
    "\n",
    "        elif operacion_elegida == \"*\":\n",
    "            resultado = multiplicacion(primer_numero, segundo_numero)\n",
    "\n",
    "        elif operacion_elegida == \"/\":\n",
    "            resultado = division(primer_numero, segundo_numero)\n",
    "        else: \n",
    "            print(\"Escribe otro tipo de operación(+, -, *, /)\")\n",
    "            # También se puede poner resultado = \"No se ha efectuado la operación\" aquí \n",
    "\n",
    "        print(resultado)\n"
   ]
  },
  {
   "cell_type": "code",
   "execution_count": null,
   "metadata": {},
   "outputs": [],
   "source": [
    "def la_unica_f():\n",
    "    primer_numero = int(input(\"Escribe el primer número\"))\n",
    "    segundo_numero = int(input(\"Escribe el segundo número\"))\n",
    "    primer_operación = input(\"Escribe un operador(+, -, *, /)\")\n",
    "    segunda_operacion = input(\"Escribe otro operador(+, -, *, /)\")\n",
    "\n",
    "    resultado = \"No se ha efectuado la operación\"\n",
    "\n",
    "    operaciones = [primer_operación, segunda_operacion]\n",
    "\n",
    "\n"
   ]
  },
  {
   "source": [
    "## Manera de hacerlo normal"
   ],
   "cell_type": "markdown",
   "metadata": {}
  },
  {
   "cell_type": "code",
   "execution_count": 10,
   "metadata": {},
   "outputs": [
    {
     "output_type": "stream",
     "name": "stdout",
     "text": [
      "Escribe otro tipo de operación(+, -, *, /)\nNo se ha efectuado la operación\nMultiplicacion\n20\n"
     ]
    }
   ],
   "source": [
    "primer_numero = int(input(\"Escribe el primer número\"))\n",
    "segundo_numero = int(input(\"Escribe el segundo número\"))\n",
    "primer_operación = input(\"Escribe un operador(+, -, *, /)\")\n",
    "segunda_operacion = input(\"Escribe otro operador(+, -, *, /)\")\n",
    "\n",
    "resultado = \"No se ha efectuado la operación\"\n",
    "\n",
    "operaciones = [primer_operación, segunda_operacion]\n",
    "\n",
    "for operacion_elegida in operaciones:\n",
    "\n",
    "    if operacion_elegida == \"+\":\n",
    "        resultado = suma(a=primer_numero, b=segundo_numero)\n",
    "\n",
    "    elif operacion_elegida == \"-\":\n",
    "        resultado = resta(primer_numero, segundo_numero)\n",
    "\n",
    "    elif operacion_elegida == \"*\":\n",
    "        resultado = multiplicacion(primer_numero, segundo_numero)\n",
    "\n",
    "    elif operacion_elegida == \"/\":\n",
    "        resultado = division(primer_numero, segundo_numero)\n",
    "    else: \n",
    "        print(\"Escribe otro tipo de operación(+, -, *, /)\")\n",
    "        # También se puede poner resultado = \"No se ha efectuado la operación\" aquí \n",
    "\n",
    "    print(resultado)\n"
   ]
  },
  {
   "cell_type": "markdown",
   "metadata": {},
   "source": [
    "!['ha'](https://i.pinimg.com/originals/c6/4e/fc/c64efc9adaedbf446f328698e8b67388.jpg)"
   ]
  },
  {
   "cell_type": "code",
   "execution_count": null,
   "metadata": {},
   "outputs": [],
   "source": []
  },
  {
   "cell_type": "code",
   "execution_count": 20,
   "metadata": {},
   "outputs": [
    {
     "output_type": "stream",
     "name": "stdout",
     "text": [
      "6\n4\n2\n"
     ]
    }
   ],
   "source": [
    "def f1(lista, primero):\n",
    "    for x in lista:\n",
    "        print(x + primero)\n",
    "\n",
    "def g2():\n",
    "    primero = 2\n",
    "    lista1 = [4, 2]\n",
    "    f1(lista=lista1, primero=primero)\n",
    "    return primero\n",
    "\n",
    "print(g2())\n"
   ]
  },
  {
   "cell_type": "code",
   "execution_count": 25,
   "metadata": {},
   "outputs": [
    {
     "output_type": "stream",
     "name": "stdout",
     "text": [
      "6\n4\nNone\n"
     ]
    },
    {
     "output_type": "error",
     "ename": "NameError",
     "evalue": "name 'lista1' is not defined",
     "traceback": [
      "\u001b[1;31m---------------------------------------------------------------------------\u001b[0m",
      "\u001b[1;31mNameError\u001b[0m                                 Traceback (most recent call last)",
      "\u001b[1;32m<ipython-input-25-1ef895562ba0>\u001b[0m in \u001b[0;36m<module>\u001b[1;34m\u001b[0m\n\u001b[0;32m     10\u001b[0m \u001b[1;33m\u001b[0m\u001b[0m\n\u001b[0;32m     11\u001b[0m \u001b[0mprint\u001b[0m\u001b[1;33m(\u001b[0m\u001b[0mg2\u001b[0m\u001b[1;33m(\u001b[0m\u001b[1;33m)\u001b[0m\u001b[1;33m)\u001b[0m\u001b[1;33m\u001b[0m\u001b[1;33m\u001b[0m\u001b[0m\n\u001b[1;32m---> 12\u001b[1;33m \u001b[0mprint\u001b[0m\u001b[1;33m(\u001b[0m\u001b[0mf1\u001b[0m\u001b[1;33m(\u001b[0m\u001b[0mlista\u001b[0m\u001b[1;33m=\u001b[0m\u001b[0mlista1\u001b[0m\u001b[1;33m,\u001b[0m \u001b[0mprimero\u001b[0m\u001b[1;33m=\u001b[0m\u001b[0mprimero\u001b[0m\u001b[1;33m)\u001b[0m\u001b[1;33m)\u001b[0m\u001b[1;33m\u001b[0m\u001b[1;33m\u001b[0m\u001b[0m\n\u001b[0m",
      "\u001b[1;31mNameError\u001b[0m: name 'lista1' is not defined"
     ]
    }
   ],
   "source": [
    "def f1(lista, primero):\n",
    "    for x in lista:\n",
    "        print(x + primero)\n",
    "\n",
    "def g2():\n",
    "    primero = 2\n",
    "    lista1 = [4, 2]\n",
    "    f1(lista=lista1, primero=primero)\n",
    "    \n",
    "\n",
    "print(g2())\n",
    "print(f1(lista=lista1, primero=primero))"
   ]
  },
  {
   "cell_type": "code",
   "execution_count": null,
   "metadata": {},
   "outputs": [],
   "source": []
  }
 ],
 "metadata": {
  "kernelspec": {
   "name": "python374jvsc74a57bd0fc2c00f0e2c44cb4028bd693f18a1b5d93d1de4cd12db71fca36ff691a163044",
   "display_name": "Python 3.7.4 64-bit"
  },
  "language_info": {
   "codemirror_mode": {
    "name": "ipython",
    "version": 3
   },
   "file_extension": ".py",
   "mimetype": "text/x-python",
   "name": "python",
   "nbconvert_exporter": "python",
   "pygments_lexer": "ipython3",
   "version": "3.7.4"
  },
  "metadata": {
   "interpreter": {
    "hash": "fc2c00f0e2c44cb4028bd693f18a1b5d93d1de4cd12db71fca36ff691a163044"
   }
  }
 },
 "nbformat": 4,
 "nbformat_minor": 4
}