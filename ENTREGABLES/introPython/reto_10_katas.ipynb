{
 "cells": [
  {
   "cell_type": "markdown",
   "metadata": {},
   "source": [
    "# Reto ¡a por el 10!"
   ]
  },
  {
   "cell_type": "markdown",
   "metadata": {},
   "source": [
    "Quizás aún no conoces Codewars, pero es una plataforma de Katas. Las Katas son pequeños ejercicios que resolver con los diferentes lenguajes de programación existentes y por niveles, conocidos como Kyu.\n",
    "\n",
    "El nivel por el que empezarás es el nivel 8kyu y el objetivo será que durante el Bootcamp, al menos llegues al 5kyu empezando este mismo fin de semana con este reto. "
   ]
  },
  {
   "cell_type": "markdown",
   "metadata": {},
   "source": [
    "1. Hazte una cuenta en https://www.codewars.com/ (Súper recomendable vincularlo a tu cuenta de Github)\n",
    "2. Una vez tengas cuenta, envía tu usuario de **codewars** a `clara.piniella@thebridgeschool.es` (VERY IMPORTANT)\n",
    "3. Ve accediendo a las diferentes Katas propuestas más abajo.\n",
    "4. Pulsa `Train`\n",
    "5. En este punto deberás definir una función que de solución al problema planteado. \n",
    "6. Una vez tengas una buena propuesta, dale al `Test`, esto te indicará los errores, si los tuvieras.\n",
    "7. Si sin embargo, has pasado todos los test con éxito, pulsa `Attempt`\n",
    "8. Una vez pulses al `Attempt` y si no has tenido fallos, estate segura de haberlo hecho correctamente si puedes ver las soluciones de otros usuarios, entonces ¡has terminado la kata!\n",
    "\n",
    "No te preocupes por decirnos que la has acabado, si nos has dado tu usuario y la has completado con éxito, ya lo podemos ver ;) "
   ]
  },
  {
   "cell_type": "markdown",
   "metadata": {},
   "source": [
    "### Las Katas\n",
    "\n",
    "\"Easy peasy lemon squeezy\" --> https://www.youtube.com/watch?v=QEanm-gvQ94"
   ]
  },
  {
   "cell_type": "markdown",
   "metadata": {},
   "source": [
    "Las katas `Easy` serán obligatorias para algunos de vosotros, es por esto que dejo por aquí los enunciados. No hay excusa. Idealmente deberían estar resueltas en **codewars**, de hecho, para participar en el reto, deberán estar resueltas en la propia plataforma."
   ]
  },
  {
   "cell_type": "markdown",
   "metadata": {},
   "source": [
    "#### Easy\n",
    "Si realmente te es imposible hacerlo en Codewars, recuerda que es obligatorio resolver todos los ejercicios con una función. En este caso, envíanos tus soluciones en formato `.ipynb` a los cuatro profesores por email antes del lunes a las 9:15."
   ]
  },
  {
   "cell_type": "markdown",
   "metadata": {},
   "source": [
    "- https://www.codewars.com/kata/54d1c59aba326343c80000e7\n",
    "    \n",
    "This method, which is supposed to return the result of dividing its first argument by its second, isn't always returning correct values. Fix it.\n",
    "\n",
    "```python\n",
    "def divide_numbers(x,y):\n",
    "    return x // y\n",
    "```"
   ]
  },
  {
   "cell_type": "code",
   "execution_count": null,
   "metadata": {},
   "outputs": [],
   "source": []
  },
  {
   "cell_type": "markdown",
   "metadata": {},
   "source": [
    "- https://www.codewars.com/kata/53da3dbb4a5168369a0000fe\n",
    "\n",
    "Create a function that takes an integer as an argument and returns \"Even\" for even numbers or \"Odd\" for odd numbers."
   ]
  },
  {
   "cell_type": "code",
   "execution_count": 4,
   "metadata": {},
   "outputs": [
    {
     "output_type": "execute_result",
     "data": {
      "text/plain": [
       "7"
      ]
     },
     "metadata": {},
     "execution_count": 4
    }
   ],
   "source": [
    "int(7.84)"
   ]
  },
  {
   "cell_type": "markdown",
   "metadata": {},
   "source": [
    "- https://www.codewars.com/kata/582cb0224e56e068d800003c\n",
    "\n",
    "Nathan loves cycling. Because Nathan knows it is important to stay hydrated, he drinks 0.5 litres of water per hour of cycling.\n",
    "You get given the time in hours and you need to return the number of litres Nathan will drink, rounded to the smallest value.\n",
    "\n",
    "For example:\n",
    "```python\n",
    "time = 3 ----> litres = 1\n",
    "time = 6.7---> litres = 3\n",
    "time = 11.8--> litres = 5\n",
    "```"
   ]
  },
  {
   "cell_type": "code",
   "execution_count": null,
   "metadata": {},
   "outputs": [],
   "source": []
  },
  {
   "cell_type": "markdown",
   "metadata": {},
   "source": [
    "- https://www.codewars.com/kata/55a2d7ebe362935a210000b2\n",
    "\n",
    "It's pretty straightforward. Your goal is to create a function that removes the first and last characters of a string. You're given one parameter, the original string. You don't have to worry with strings with less than two characters."
   ]
  },
  {
   "cell_type": "code",
   "execution_count": 6,
   "metadata": {},
   "outputs": [
    {
     "output_type": "stream",
     "name": "stdout",
     "text": [
      "ello\nHell\n"
     ]
    }
   ],
   "source": [
    "x = \"Hello\"\n",
    "print(x[1:])\n",
    "print(x[:-1])"
   ]
  },
  {
   "cell_type": "code",
   "execution_count": 29,
   "metadata": {},
   "outputs": [
    {
     "output_type": "execute_result",
     "data": {
      "text/plain": [
       "'Ths wbst s fr lsrs LL'"
      ]
     },
     "metadata": {},
     "execution_count": 29
    }
   ],
   "source": [
    "def disemvowel(string_):\n",
    "    vowels = (\"a\", \"e\", \"i\", \"o\", \"u\")\n",
    "    for x in string_:\n",
    "        if x.lower() in vowels:\n",
    "            string_ = string_.replace(x, \"\")\n",
    "    return string_\n",
    "        \n",
    "disemvowel(\"This website is for losers LOL\")"
   ]
  },
  {
   "cell_type": "code",
   "execution_count": 13,
   "metadata": {},
   "outputs": [
    {
     "output_type": "execute_result",
     "data": {
      "text/plain": [
       "'this website is for losers lol'"
      ]
     },
     "metadata": {},
     "execution_count": 13
    }
   ],
   "source": [
    "string = \"This website is for losers LOL\"\n",
    "string.lower()"
   ]
  },
  {
   "cell_type": "code",
   "execution_count": 16,
   "metadata": {},
   "outputs": [
    {
     "output_type": "execute_result",
     "data": {
      "text/plain": [
       "29"
      ]
     },
     "metadata": {},
     "execution_count": 16
    }
   ],
   "source": [
    "def evaporator(content, evap_per_day, threshold):\n",
    "    n = 0\n",
    "    actualized_content = content\n",
    "    while curr >= content * (threshold/100):\n",
    "        actualized_content = actualized_content - (actualized_content * evap_per_day/100)\n",
    "        n += 1 \n",
    "    return n\n",
    "\n",
    "evaporator(10, 10 , 5)"
   ]
  },
  {
   "cell_type": "code",
   "execution_count": 10,
   "metadata": {},
   "outputs": [
    {
     "output_type": "execute_result",
     "data": {
      "text/plain": [
       "29"
      ]
     },
     "metadata": {},
     "execution_count": 10
    }
   ],
   "source": [
    "def evaporator(content, evap_per_day, threshold):\n",
    "    n = 0\n",
    "    arr = content\n",
    "    while arr >= content * (threshold/100):\n",
    "        arr = arr - (arr * evap_per_day/100)\n",
    "        n += 1 \n",
    "    return n\n",
    "\n",
    "evaporator(10, 10 , 5)"
   ]
  },
  {
   "cell_type": "markdown",
   "metadata": {},
   "source": [
    "#### Peasy\n",
    "\n",
    "Si vas a hacer las Katas de este nivel, es porque ya sabes hacer las de `Easy` y además en **codewars**, así que te recuerdo que en caso de hacerlas correctamente y nos has dado tu usuario, no hace falta que nos digas que la has terminado.\n",
    "\n",
    "- https://www.codewars.com/kata/5506b230a11c0aeab3000c1f\n",
    "- https://www.codewars.com/kata/59377c53e66267c8f6000027\n",
    "- https://www.codewars.com/kata/5ae7e3f068e6445bc8000046"
   ]
  },
  {
   "cell_type": "code",
   "execution_count": 1,
   "metadata": {},
   "outputs": [],
   "source": [
    "left_power = {\"w\" : 4 , \"p\" : 3, \"b\" : 2, \"s\" : 1}\n",
    "right_power={ \"m\" : 4, \"q\" : 3, \"d\" : 2, \"z\": 1}\n",
    "rest_letters = {\"a\" : 0, \"c\" : 0, \"e\" : 0, \"f\": 0, \"g\" : 0, \"h\" : 0, \"i\" : 0, \"j\" : 0, \"k\" : 0, \"l\" : 0, \"n\" : 0, \"o\" : 0, \"r\" : 0, \"t\": 0, \"u\" : 0, \"v\" : 0, \"x\" : 0, \"y\" : 0}\n"
   ]
  },
  {
   "cell_type": "code",
   "execution_count": 2,
   "metadata": {},
   "outputs": [
    {
     "output_type": "execute_result",
     "data": {
      "text/plain": [
       "dict_keys(['w', 'p', 'b', 's'])"
      ]
     },
     "metadata": {},
     "execution_count": 2
    }
   ],
   "source": [
    "left_power.keys()"
   ]
  },
  {
   "cell_type": "code",
   "execution_count": 3,
   "metadata": {},
   "outputs": [
    {
     "output_type": "execute_result",
     "data": {
      "text/plain": [
       "4"
      ]
     },
     "metadata": {},
     "execution_count": 3
    }
   ],
   "source": [
    "left_power[\"w\"]"
   ]
  },
  {
   "cell_type": "code",
   "execution_count": 9,
   "metadata": {},
   "outputs": [
    {
     "output_type": "execute_result",
     "data": {
      "text/plain": [
       "'Left side wins!'"
      ]
     },
     "metadata": {},
     "execution_count": 9
    }
   ],
   "source": [
    "def alphabet_war(fight):\n",
    "    left_power = {\"w\" : 4 , \"p\" : 3, \"b\" : 2, \"s\" : 1}\n",
    "    right_power={ \"m\" : 4, \"q\" : 3, \"d\" : 2, \"z\": 1}\n",
    "   \n",
    "    leftscore = 0\n",
    "    rightscore = 0  \n",
    "    for i in fight:\n",
    "        if i in left_power.keys(): \n",
    "            leftscore = left_power[i] + leftscore\n",
    "        elif i in right_power.keys(): \n",
    "            rightscore = right_power[i] + rightscore\n",
    "        \n",
    "    if leftscore > rightscore:\n",
    "        return \"Left side wins!\"\n",
    "        \n",
    "    elif leftscore < rightscore:\n",
    "        return \"Right side wins!\"\n",
    "        \n",
    "    elif leftscore == rightscore:\n",
    "        return \"Let´s fight again!\" \n",
    "\n",
    "alphabet_war(\"aawscq\")\n",
    "\n",
    "# Si no adjudicamos una clave a un valor, eso vale None? "
   ]
  },
  {
   "cell_type": "markdown",
   "metadata": {},
   "source": [
    "#### Lemon Squeezy\n",
    "\n",
    "- https://www.codewars.com/kata/55b95c76e08bd5eef100001e/solutions/python\n",
    "- https://www.codewars.com/kata/5e2596a9ad937f002e510435/\n",
    "- https://www.codewars.com/kata/5d4c6809089c6e5031f189ed"
   ]
  },
  {
   "cell_type": "code",
   "execution_count": 36,
   "metadata": {},
   "outputs": [
    {
     "output_type": "execute_result",
     "data": {
      "text/plain": [
       "7713"
      ]
     },
     "metadata": {},
     "execution_count": 36
    }
   ],
   "source": [
    "def next_happy_year(this_year):\n",
    "    next_year = this_year\n",
    "    \n",
    "    for i, x in enumerate(next_year):\n",
    "        while i!=3 and x == str(next_year)[i + 1]: \n",
    "            next_year = int(next_year) + 1\n",
    "        while i == 3:\n",
    "            if x == str(next_year)[0] or x == str(next_year)[1] or x == str(next_year)[2]:\n",
    "                next_year = int(next_year) + 1\n",
    "            if x != this_year[0] and x!= this_year[1] and x != this_year[2]:\n",
    "                return next_year\n",
    "\n",
    "print(next_happy_year(\"7790\"))"
   ]
  },
  {
   "cell_type": "code",
   "execution_count": 31,
   "metadata": {},
   "outputs": [
    {
     "output_type": "stream",
     "name": "stdout",
     "text": [
      "2030\n"
     ]
    }
   ],
   "source": [
    "\n",
    "def next_happy_year(this_year):\n",
    "    next_year = this_year\n",
    "    \n",
    "    for i, x in enumerate(next_year):\n",
    "        while i!=3 and x == str(next_year)[i + 1]: \n",
    "            next_year = int(next_year) + 1\n",
    "        while i == 3:\n",
    "            if x == str(next_year)[0] or x == str(next_year)[1] or x == str(next_year)[2]:\n",
    "                next_year = int(next_year) + 1\n",
    "            if x != this_year[0] and x!= this_year[1] and x != this_year[2]:\n",
    "                return next_year\n",
    "\n",
    "print(next_happy_year(\"2020\"))"
   ]
  },
  {
   "cell_type": "code",
   "execution_count": null,
   "metadata": {},
   "outputs": [],
   "source": []
  }
 ],
 "metadata": {
  "kernelspec": {
   "name": "python374jvsc74a57bd0fc2c00f0e2c44cb4028bd693f18a1b5d93d1de4cd12db71fca36ff691a163044",
   "display_name": "Python 3.7.4 64-bit"
  },
  "language_info": {
   "codemirror_mode": {
    "name": "ipython",
    "version": 3
   },
   "file_extension": ".py",
   "mimetype": "text/x-python",
   "name": "python",
   "nbconvert_exporter": "python",
   "pygments_lexer": "ipython3",
   "version": "3.7.4"
  },
  "metadata": {
   "interpreter": {
    "hash": "fc2c00f0e2c44cb4028bd693f18a1b5d93d1de4cd12db71fca36ff691a163044"
   }
  }
 },
 "nbformat": 4,
 "nbformat_minor": 4
}