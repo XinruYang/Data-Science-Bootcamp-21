{
 "metadata": {
  "language_info": {
   "codemirror_mode": {
    "name": "ipython",
    "version": 3
   },
   "file_extension": ".py",
   "mimetype": "text/x-python",
   "name": "python",
   "nbconvert_exporter": "python",
   "pygments_lexer": "ipython3",
   "version": "3.7.4"
  },
  "orig_nbformat": 4,
  "kernelspec": {
   "name": "python3",
   "display_name": "Python 3.7.4 64-bit"
  },
  "interpreter": {
   "hash": "fc2c00f0e2c44cb4028bd693f18a1b5d93d1de4cd12db71fca36ff691a163044"
  }
 },
 "nbformat": 4,
 "nbformat_minor": 2,
 "cells": [
  {
   "source": [
    "## TRAIN DATA"
   ],
   "cell_type": "markdown",
   "metadata": {}
  },
  {
   "cell_type": "code",
   "execution_count": 1,
   "metadata": {},
   "outputs": [],
   "source": [
    "import numpy as np\n",
    "from sklearn.pipeline import Pipeline\n",
    "from sklearn.impute import SimpleImputer\n",
    "from sklearn.preprocessing import StandardScaler\n",
    "from sklearn.model_selection import train_test_split\n",
    "\n",
    "from sklearn.svm import SVC\n",
    "from sklearn.linear_model import LogisticRegression\n",
    "from sklearn.ensemble import RandomForestClassifier\n",
    "from sklearn.feature_selection import SelectKBest\n",
    "from sklearn.neighbors import KNeighborsClassifier\n",
    "from sklearn import svm, datasets\n",
    "from sklearn.preprocessing import OrdinalEncoder\n",
    "from sklearn.model_selection import GridSearchCV"
   ]
  },
  {
   "cell_type": "code",
   "execution_count": 2,
   "metadata": {},
   "outputs": [],
   "source": [
    "import pandas as pd \n",
    "df = pd.read_csv(\"hospital_train.csv\")"
   ]
  },
  {
   "cell_type": "code",
   "execution_count": 3,
   "metadata": {},
   "outputs": [],
   "source": [
    "df.rename(columns={'17': 'days', \"15\": \"age\", \"14\": \"visitors\", \"13\":\"severity\", \"12\": \"admission type\", \"0\": \"id\"}, inplace=True)"
   ]
  },
  {
   "cell_type": "code",
   "execution_count": 4,
   "metadata": {},
   "outputs": [],
   "source": [
    "df.set_index(\"id\", inplace=True)"
   ]
  },
  {
   "cell_type": "code",
   "execution_count": 5,
   "metadata": {},
   "outputs": [
    {
     "output_type": "execute_result",
     "data": {
      "text/plain": [
       "         1  2   3  4  5           6  7  8    9      10    11 admission type  \\\n",
       "id                                                                            \n",
       "161528   6  a   6  X  2  gynecology  R  F  4.0   45810   2.0         Urgent   \n",
       "159472  23  a   6  X  4  gynecology  Q  F  2.0  128565  15.0         Trauma   \n",
       "309765   2  c   5  Z  2  anesthesia  S  F  3.0   46565   5.0         Urgent   \n",
       "279614  32  f   9  Y  3  gynecology  S  B  4.0  124546   6.0      Emergency   \n",
       "147791  14  a   1  X  3  gynecology  S  E  2.0   22729   8.0         Urgent   \n",
       "...     .. ..  .. .. ..         ... .. ..  ...     ...   ...            ...   \n",
       "237869  12  a   9  Y  3  gynecology  R  B  3.0   82914   3.0      Emergency   \n",
       "254763  28  b  11  X  2  gynecology  R  F  2.0   40026   5.0         Urgent   \n",
       "69788    6  a   6  X  3  gynecology  Q  F  3.0   92346   2.0         Trauma   \n",
       "204442  32  f   9  Y  2  gynecology  S  B  4.0  113798  15.0         Trauma   \n",
       "69647   25  e   1  X  3  gynecology  Q  E  2.0  109237   8.0      Emergency   \n",
       "\n",
       "        severity  visitors    age      16                days  \n",
       "id                                                             \n",
       "161528  Moderate         2  21-30  2817.0                0-10  \n",
       "159472  Moderate         4  51-60  4498.0               21-30  \n",
       "309765  Moderate         2  71-80  4573.0               11-20  \n",
       "279614  Moderate         4  11-20  7202.0               51-60  \n",
       "147791  Moderate         2  51-60  3398.0               51-60  \n",
       "...          ...       ...    ...     ...                 ...  \n",
       "237869  Moderate         6  51-60  3966.0  More than 100 Days  \n",
       "254763  Moderate         3  21-30  4005.0               51-60  \n",
       "69788      Minor         2  31-40  5215.0               31-40  \n",
       "204442  Moderate         3  41-50  5092.0               11-20  \n",
       "69647   Moderate         2  41-50  3390.0               41-50  \n",
       "\n",
       "[100000 rows x 17 columns]"
      ],
      "text/html": "<div>\n<style scoped>\n    .dataframe tbody tr th:only-of-type {\n        vertical-align: middle;\n    }\n\n    .dataframe tbody tr th {\n        vertical-align: top;\n    }\n\n    .dataframe thead th {\n        text-align: right;\n    }\n</style>\n<table border=\"1\" class=\"dataframe\">\n  <thead>\n    <tr style=\"text-align: right;\">\n      <th></th>\n      <th>1</th>\n      <th>2</th>\n      <th>3</th>\n      <th>4</th>\n      <th>5</th>\n      <th>6</th>\n      <th>7</th>\n      <th>8</th>\n      <th>9</th>\n      <th>10</th>\n      <th>11</th>\n      <th>admission type</th>\n      <th>severity</th>\n      <th>visitors</th>\n      <th>age</th>\n      <th>16</th>\n      <th>days</th>\n    </tr>\n    <tr>\n      <th>id</th>\n      <th></th>\n      <th></th>\n      <th></th>\n      <th></th>\n      <th></th>\n      <th></th>\n      <th></th>\n      <th></th>\n      <th></th>\n      <th></th>\n      <th></th>\n      <th></th>\n      <th></th>\n      <th></th>\n      <th></th>\n      <th></th>\n      <th></th>\n    </tr>\n  </thead>\n  <tbody>\n    <tr>\n      <th>161528</th>\n      <td>6</td>\n      <td>a</td>\n      <td>6</td>\n      <td>X</td>\n      <td>2</td>\n      <td>gynecology</td>\n      <td>R</td>\n      <td>F</td>\n      <td>4.0</td>\n      <td>45810</td>\n      <td>2.0</td>\n      <td>Urgent</td>\n      <td>Moderate</td>\n      <td>2</td>\n      <td>21-30</td>\n      <td>2817.0</td>\n      <td>0-10</td>\n    </tr>\n    <tr>\n      <th>159472</th>\n      <td>23</td>\n      <td>a</td>\n      <td>6</td>\n      <td>X</td>\n      <td>4</td>\n      <td>gynecology</td>\n      <td>Q</td>\n      <td>F</td>\n      <td>2.0</td>\n      <td>128565</td>\n      <td>15.0</td>\n      <td>Trauma</td>\n      <td>Moderate</td>\n      <td>4</td>\n      <td>51-60</td>\n      <td>4498.0</td>\n      <td>21-30</td>\n    </tr>\n    <tr>\n      <th>309765</th>\n      <td>2</td>\n      <td>c</td>\n      <td>5</td>\n      <td>Z</td>\n      <td>2</td>\n      <td>anesthesia</td>\n      <td>S</td>\n      <td>F</td>\n      <td>3.0</td>\n      <td>46565</td>\n      <td>5.0</td>\n      <td>Urgent</td>\n      <td>Moderate</td>\n      <td>2</td>\n      <td>71-80</td>\n      <td>4573.0</td>\n      <td>11-20</td>\n    </tr>\n    <tr>\n      <th>279614</th>\n      <td>32</td>\n      <td>f</td>\n      <td>9</td>\n      <td>Y</td>\n      <td>3</td>\n      <td>gynecology</td>\n      <td>S</td>\n      <td>B</td>\n      <td>4.0</td>\n      <td>124546</td>\n      <td>6.0</td>\n      <td>Emergency</td>\n      <td>Moderate</td>\n      <td>4</td>\n      <td>11-20</td>\n      <td>7202.0</td>\n      <td>51-60</td>\n    </tr>\n    <tr>\n      <th>147791</th>\n      <td>14</td>\n      <td>a</td>\n      <td>1</td>\n      <td>X</td>\n      <td>3</td>\n      <td>gynecology</td>\n      <td>S</td>\n      <td>E</td>\n      <td>2.0</td>\n      <td>22729</td>\n      <td>8.0</td>\n      <td>Urgent</td>\n      <td>Moderate</td>\n      <td>2</td>\n      <td>51-60</td>\n      <td>3398.0</td>\n      <td>51-60</td>\n    </tr>\n    <tr>\n      <th>...</th>\n      <td>...</td>\n      <td>...</td>\n      <td>...</td>\n      <td>...</td>\n      <td>...</td>\n      <td>...</td>\n      <td>...</td>\n      <td>...</td>\n      <td>...</td>\n      <td>...</td>\n      <td>...</td>\n      <td>...</td>\n      <td>...</td>\n      <td>...</td>\n      <td>...</td>\n      <td>...</td>\n      <td>...</td>\n    </tr>\n    <tr>\n      <th>237869</th>\n      <td>12</td>\n      <td>a</td>\n      <td>9</td>\n      <td>Y</td>\n      <td>3</td>\n      <td>gynecology</td>\n      <td>R</td>\n      <td>B</td>\n      <td>3.0</td>\n      <td>82914</td>\n      <td>3.0</td>\n      <td>Emergency</td>\n      <td>Moderate</td>\n      <td>6</td>\n      <td>51-60</td>\n      <td>3966.0</td>\n      <td>More than 100 Days</td>\n    </tr>\n    <tr>\n      <th>254763</th>\n      <td>28</td>\n      <td>b</td>\n      <td>11</td>\n      <td>X</td>\n      <td>2</td>\n      <td>gynecology</td>\n      <td>R</td>\n      <td>F</td>\n      <td>2.0</td>\n      <td>40026</td>\n      <td>5.0</td>\n      <td>Urgent</td>\n      <td>Moderate</td>\n      <td>3</td>\n      <td>21-30</td>\n      <td>4005.0</td>\n      <td>51-60</td>\n    </tr>\n    <tr>\n      <th>69788</th>\n      <td>6</td>\n      <td>a</td>\n      <td>6</td>\n      <td>X</td>\n      <td>3</td>\n      <td>gynecology</td>\n      <td>Q</td>\n      <td>F</td>\n      <td>3.0</td>\n      <td>92346</td>\n      <td>2.0</td>\n      <td>Trauma</td>\n      <td>Minor</td>\n      <td>2</td>\n      <td>31-40</td>\n      <td>5215.0</td>\n      <td>31-40</td>\n    </tr>\n    <tr>\n      <th>204442</th>\n      <td>32</td>\n      <td>f</td>\n      <td>9</td>\n      <td>Y</td>\n      <td>2</td>\n      <td>gynecology</td>\n      <td>S</td>\n      <td>B</td>\n      <td>4.0</td>\n      <td>113798</td>\n      <td>15.0</td>\n      <td>Trauma</td>\n      <td>Moderate</td>\n      <td>3</td>\n      <td>41-50</td>\n      <td>5092.0</td>\n      <td>11-20</td>\n    </tr>\n    <tr>\n      <th>69647</th>\n      <td>25</td>\n      <td>e</td>\n      <td>1</td>\n      <td>X</td>\n      <td>3</td>\n      <td>gynecology</td>\n      <td>Q</td>\n      <td>E</td>\n      <td>2.0</td>\n      <td>109237</td>\n      <td>8.0</td>\n      <td>Emergency</td>\n      <td>Moderate</td>\n      <td>2</td>\n      <td>41-50</td>\n      <td>3390.0</td>\n      <td>41-50</td>\n    </tr>\n  </tbody>\n</table>\n<p>100000 rows × 17 columns</p>\n</div>"
     },
     "metadata": {},
     "execution_count": 5
    }
   ],
   "source": [
    "df\n"
   ]
  },
  {
   "cell_type": "code",
   "execution_count": 6,
   "metadata": {},
   "outputs": [
    {
     "output_type": "stream",
     "name": "stdout",
     "text": [
      "<class 'pandas.core.frame.DataFrame'>\nInt64Index: 100000 entries, 161528 to 69647\nData columns (total 17 columns):\n #   Column          Non-Null Count   Dtype  \n---  ------          --------------   -----  \n 0   1               100000 non-null  int64  \n 1   2               100000 non-null  object \n 2   3               100000 non-null  int64  \n 3   4               100000 non-null  object \n 4   5               100000 non-null  int64  \n 5   6               100000 non-null  object \n 6   7               100000 non-null  object \n 7   8               100000 non-null  object \n 8   9               99967 non-null   float64\n 9   10              100000 non-null  int64  \n 10  11              98517 non-null   float64\n 11  admission type  100000 non-null  object \n 12  severity        100000 non-null  object \n 13  visitors        100000 non-null  int64  \n 14  age             100000 non-null  object \n 15  16              100000 non-null  float64\n 16  days            100000 non-null  object \ndtypes: float64(3), int64(5), object(9)\nmemory usage: 13.7+ MB\n"
     ]
    }
   ],
   "source": [
    "df.info()"
   ]
  },
  {
   "cell_type": "code",
   "execution_count": 7,
   "metadata": {},
   "outputs": [
    {
     "output_type": "stream",
     "name": "stdout",
     "text": [
      "{'Emergency', 'Trauma', 'Urgent'}\n{'Extreme', 'Moderate', 'Minor'}\n{0, 1, 2, 3, 4, 5, 6, 7, 8, 9, 10, 11, 12, 13, 14, 15, 16, 17, 18, 19, 20, 21, 22, 23, 24, 25, 30, 32}\n{'81-90', '31-40', '11-20', '41-50', '21-30', '91-100', '71-80', '0-10', '51-60', '61-70'}\n{'81-90', '31-40', '71-80', '11-20', '41-50', '21-30', '91-100', 'More than 100 Days', '51-60', '0-10', '61-70'}\n"
     ]
    }
   ],
   "source": [
    "print(set(df[\"admission type\"]))\n",
    "print(set(df[\"severity\"]))\n",
    "print(set(df[\"visitors\"]))\n",
    "print(set(df[\"age\"]))\n",
    "print(set(df[\"days\"]))"
   ]
  },
  {
   "cell_type": "code",
   "execution_count": null,
   "metadata": {},
   "outputs": [],
   "source": []
  },
  {
   "cell_type": "code",
   "execution_count": 6,
   "metadata": {},
   "outputs": [],
   "source": [
    "encoder = OrdinalEncoder(categories=[['Trauma', 'Emergency', 'Urgent']])\n",
    "encoder.fit(df[[\"admission type\"]])\n",
    "encoded_type = encoder.transform(df[[\"admission type\"]])\n",
    "df[\"admission type\"] = encoded_type\n",
    "\n",
    "encoder1 = OrdinalEncoder(categories=[['Minor', 'Moderate', 'Extreme']])\n",
    "encoder1.fit(df[[\"severity\"]])\n",
    "encoded_severity = encoder1.transform(df[[\"severity\"]])\n",
    "df[\"severity\"] = encoded_severity\n",
    "\n",
    "encoder2 = OrdinalEncoder(categories=[['0-10', '11-20', '21-30', '31-40', '41-50', '51-60', '61-70', '71-80', '81-90', '91-100' ]])\n",
    "encoder2.fit(df[[\"age\"]])\n",
    "encoded_age = encoder2.transform(df[[\"age\"]])\n",
    "df[\"age\"] = encoded_age\n",
    "\n",
    "encoder3 = OrdinalEncoder(categories=[['0-10', '11-20', '21-30', '31-40', '41-50', '51-60', '61-70', '71-80', '81-90', '91-100', 'More than 100 Days' ]])\n",
    "encoder3.fit(df[[\"days\"]])\n",
    "encoded_days = encoder3.transform(df[[\"days\"]])\n",
    "df[\"days\"] = encoded_days\n",
    "\n"
   ]
  },
  {
   "cell_type": "code",
   "execution_count": 7,
   "metadata": {},
   "outputs": [
    {
     "output_type": "execute_result",
     "data": {
      "text/plain": [
       "array([[0.],\n",
       "       [2.],\n",
       "       [1.],\n",
       "       ...,\n",
       "       [3.],\n",
       "       [1.],\n",
       "       [4.]])"
      ]
     },
     "metadata": {},
     "execution_count": 7
    }
   ],
   "source": [
    "encoded_days"
   ]
  },
  {
   "cell_type": "code",
   "execution_count": 8,
   "metadata": {},
   "outputs": [
    {
     "output_type": "execute_result",
     "data": {
      "text/plain": [
       "array([['0-10'],\n",
       "       ['21-30'],\n",
       "       ['11-20'],\n",
       "       ...,\n",
       "       ['31-40'],\n",
       "       ['11-20'],\n",
       "       ['41-50']], dtype=object)"
      ]
     },
     "metadata": {},
     "execution_count": 8
    }
   ],
   "source": [
    "encoder3.inverse_transform(encoded_days)"
   ]
  },
  {
   "cell_type": "code",
   "execution_count": 9,
   "metadata": {},
   "outputs": [
    {
     "output_type": "execute_result",
     "data": {
      "text/plain": [
       "        admission type  severity  visitors  age  days\n",
       "id                                                   \n",
       "161528             2.0       1.0         2  2.0   0.0\n",
       "159472             0.0       1.0         4  5.0   2.0\n",
       "309765             2.0       1.0         2  7.0   1.0\n",
       "279614             1.0       1.0         4  1.0   5.0\n",
       "147791             2.0       1.0         2  5.0   5.0\n",
       "...                ...       ...       ...  ...   ...\n",
       "237869             1.0       1.0         6  5.0  10.0\n",
       "254763             2.0       1.0         3  2.0   5.0\n",
       "69788              0.0       0.0         2  3.0   3.0\n",
       "204442             0.0       1.0         3  4.0   1.0\n",
       "69647              1.0       1.0         2  4.0   4.0\n",
       "\n",
       "[100000 rows x 5 columns]"
      ],
      "text/html": "<div>\n<style scoped>\n    .dataframe tbody tr th:only-of-type {\n        vertical-align: middle;\n    }\n\n    .dataframe tbody tr th {\n        vertical-align: top;\n    }\n\n    .dataframe thead th {\n        text-align: right;\n    }\n</style>\n<table border=\"1\" class=\"dataframe\">\n  <thead>\n    <tr style=\"text-align: right;\">\n      <th></th>\n      <th>admission type</th>\n      <th>severity</th>\n      <th>visitors</th>\n      <th>age</th>\n      <th>days</th>\n    </tr>\n    <tr>\n      <th>id</th>\n      <th></th>\n      <th></th>\n      <th></th>\n      <th></th>\n      <th></th>\n    </tr>\n  </thead>\n  <tbody>\n    <tr>\n      <th>161528</th>\n      <td>2.0</td>\n      <td>1.0</td>\n      <td>2</td>\n      <td>2.0</td>\n      <td>0.0</td>\n    </tr>\n    <tr>\n      <th>159472</th>\n      <td>0.0</td>\n      <td>1.0</td>\n      <td>4</td>\n      <td>5.0</td>\n      <td>2.0</td>\n    </tr>\n    <tr>\n      <th>309765</th>\n      <td>2.0</td>\n      <td>1.0</td>\n      <td>2</td>\n      <td>7.0</td>\n      <td>1.0</td>\n    </tr>\n    <tr>\n      <th>279614</th>\n      <td>1.0</td>\n      <td>1.0</td>\n      <td>4</td>\n      <td>1.0</td>\n      <td>5.0</td>\n    </tr>\n    <tr>\n      <th>147791</th>\n      <td>2.0</td>\n      <td>1.0</td>\n      <td>2</td>\n      <td>5.0</td>\n      <td>5.0</td>\n    </tr>\n    <tr>\n      <th>...</th>\n      <td>...</td>\n      <td>...</td>\n      <td>...</td>\n      <td>...</td>\n      <td>...</td>\n    </tr>\n    <tr>\n      <th>237869</th>\n      <td>1.0</td>\n      <td>1.0</td>\n      <td>6</td>\n      <td>5.0</td>\n      <td>10.0</td>\n    </tr>\n    <tr>\n      <th>254763</th>\n      <td>2.0</td>\n      <td>1.0</td>\n      <td>3</td>\n      <td>2.0</td>\n      <td>5.0</td>\n    </tr>\n    <tr>\n      <th>69788</th>\n      <td>0.0</td>\n      <td>0.0</td>\n      <td>2</td>\n      <td>3.0</td>\n      <td>3.0</td>\n    </tr>\n    <tr>\n      <th>204442</th>\n      <td>0.0</td>\n      <td>1.0</td>\n      <td>3</td>\n      <td>4.0</td>\n      <td>1.0</td>\n    </tr>\n    <tr>\n      <th>69647</th>\n      <td>1.0</td>\n      <td>1.0</td>\n      <td>2</td>\n      <td>4.0</td>\n      <td>4.0</td>\n    </tr>\n  </tbody>\n</table>\n<p>100000 rows × 5 columns</p>\n</div>"
     },
     "metadata": {},
     "execution_count": 9
    }
   ],
   "source": [
    "df = df[[\"admission type\", \"severity\", \"visitors\", \"age\", \"days\"]]\n",
    "df"
   ]
  },
  {
   "cell_type": "code",
   "execution_count": 11,
   "metadata": {},
   "outputs": [
    {
     "output_type": "execute_result",
     "data": {
      "text/plain": [
       "<AxesSubplot:>"
      ]
     },
     "metadata": {},
     "execution_count": 11
    },
    {
     "output_type": "display_data",
     "data": {
      "text/plain": "<Figure size 432x288 with 2 Axes>",
      "image/svg+xml": "<?xml version=\"1.0\" encoding=\"utf-8\" standalone=\"no\"?>\r\n<!DOCTYPE svg PUBLIC \"-//W3C//DTD SVG 1.1//EN\"\r\n  \"http://www.w3.org/Graphics/SVG/1.1/DTD/svg11.dtd\">\r\n<svg height=\"318.806406pt\" version=\"1.1\" viewBox=\"0 0 415.922313 318.806406\" width=\"415.922313pt\" xmlns=\"http://www.w3.org/2000/svg\" xmlns:xlink=\"http://www.w3.org/1999/xlink\">\r\n <metadata>\r\n  <rdf:RDF xmlns:cc=\"http://creativecommons.org/ns#\" xmlns:dc=\"http://purl.org/dc/elements/1.1/\" xmlns:rdf=\"http://www.w3.org/1999/02/22-rdf-syntax-ns#\">\r\n   <cc:Work>\r\n    <dc:type rdf:resource=\"http://purl.org/dc/dcmitype/StillImage\"/>\r\n    <dc:date>2021-06-27T16:42:55.341088</dc:date>\r\n    <dc:format>image/svg+xml</dc:format>\r\n    <dc:creator>\r\n     <cc:Agent>\r\n      <dc:title>Matplotlib v3.4.1, https://matplotlib.org/</dc:title>\r\n     </cc:Agent>\r\n    </dc:creator>\r\n   </cc:Work>\r\n  </rdf:RDF>\r\n </metadata>\r\n <defs>\r\n  <style type=\"text/css\">*{stroke-linecap:butt;stroke-linejoin:round;}</style>\r\n </defs>\r\n <g id=\"figure_1\">\r\n  <g id=\"patch_1\">\r\n   <path d=\"M 0 318.806406 \r\nL 415.922313 318.806406 \r\nL 415.922313 0 \r\nL 0 0 \r\nz\r\n\" style=\"fill:none;\"/>\r\n  </g>\r\n  <g id=\"axes_1\">\r\n   <g id=\"patch_2\">\r\n    <path d=\"M 90.367188 228.439219 \r\nL 358.207188 228.439219 \r\nL 358.207188 10.999219 \r\nL 90.367188 10.999219 \r\nz\r\n\" style=\"fill:#ffffff;\"/>\r\n   </g>\r\n   <g id=\"QuadMesh_1\">\r\n    <path clip-path=\"url(#p9259698b61)\" d=\"M 90.367188 10.999219 \r\nL 143.935188 10.999219 \r\nL 143.935188 54.487219 \r\nL 90.367188 54.487219 \r\nL 90.367188 10.999219 \r\n\" style=\"fill:#faebdd;\"/>\r\n    <path clip-path=\"url(#p9259698b61)\" d=\"M 143.935188 10.999219 \r\nL 197.503188 10.999219 \r\nL 197.503188 54.487219 \r\nL 143.935188 54.487219 \r\nL 143.935188 10.999219 \r\n\" style=\"fill:#130d25;\"/>\r\n    <path clip-path=\"url(#p9259698b61)\" d=\"M 197.503188 10.999219 \r\nL 251.071188 10.999219 \r\nL 251.071188 54.487219 \r\nL 197.503188 54.487219 \r\nL 197.503188 10.999219 \r\n\" style=\"fill:#1b112b;\"/>\r\n    <path clip-path=\"url(#p9259698b61)\" d=\"M 251.071188 10.999219 \r\nL 304.639188 10.999219 \r\nL 304.639188 54.487219 \r\nL 251.071188 54.487219 \r\nL 251.071188 10.999219 \r\n\" style=\"fill:#03051a;\"/>\r\n    <path clip-path=\"url(#p9259698b61)\" d=\"M 304.639188 10.999219 \r\nL 358.207188 10.999219 \r\nL 358.207188 54.487219 \r\nL 304.639188 54.487219 \r\nL 304.639188 10.999219 \r\n\" style=\"fill:#07071d;\"/>\r\n    <path clip-path=\"url(#p9259698b61)\" d=\"M 90.367188 54.487219 \r\nL 143.935188 54.487219 \r\nL 143.935188 97.975219 \r\nL 90.367188 97.975219 \r\nL 90.367188 54.487219 \r\n\" style=\"fill:#130d25;\"/>\r\n    <path clip-path=\"url(#p9259698b61)\" d=\"M 143.935188 54.487219 \r\nL 197.503188 54.487219 \r\nL 197.503188 97.975219 \r\nL 143.935188 97.975219 \r\nL 143.935188 54.487219 \r\n\" style=\"fill:#faebdd;\"/>\r\n    <path clip-path=\"url(#p9259698b61)\" d=\"M 197.503188 54.487219 \r\nL 251.071188 54.487219 \r\nL 251.071188 97.975219 \r\nL 197.503188 97.975219 \r\nL 197.503188 54.487219 \r\n\" style=\"fill:#33183c;\"/>\r\n    <path clip-path=\"url(#p9259698b61)\" d=\"M 251.071188 54.487219 \r\nL 304.639188 54.487219 \r\nL 304.639188 97.975219 \r\nL 251.071188 97.975219 \r\nL 251.071188 54.487219 \r\n\" style=\"fill:#4e1d4b;\"/>\r\n    <path clip-path=\"url(#p9259698b61)\" d=\"M 304.639188 54.487219 \r\nL 358.207188 54.487219 \r\nL 358.207188 97.975219 \r\nL 304.639188 97.975219 \r\nL 304.639188 54.487219 \r\n\" style=\"fill:#4e1d4b;\"/>\r\n    <path clip-path=\"url(#p9259698b61)\" d=\"M 90.367188 97.975219 \r\nL 143.935188 97.975219 \r\nL 143.935188 141.463219 \r\nL 90.367188 141.463219 \r\nL 90.367188 97.975219 \r\n\" style=\"fill:#1b112b;\"/>\r\n    <path clip-path=\"url(#p9259698b61)\" d=\"M 143.935188 97.975219 \r\nL 197.503188 97.975219 \r\nL 197.503188 141.463219 \r\nL 143.935188 141.463219 \r\nL 143.935188 97.975219 \r\n\" style=\"fill:#33183c;\"/>\r\n    <path clip-path=\"url(#p9259698b61)\" d=\"M 197.503188 97.975219 \r\nL 251.071188 97.975219 \r\nL 251.071188 141.463219 \r\nL 197.503188 141.463219 \r\nL 197.503188 97.975219 \r\n\" style=\"fill:#faebdd;\"/>\r\n    <path clip-path=\"url(#p9259698b61)\" d=\"M 251.071188 97.975219 \r\nL 304.639188 97.975219 \r\nL 304.639188 141.463219 \r\nL 251.071188 141.463219 \r\nL 251.071188 97.975219 \r\n\" style=\"fill:#3c1a42;\"/>\r\n    <path clip-path=\"url(#p9259698b61)\" d=\"M 304.639188 97.975219 \r\nL 358.207188 97.975219 \r\nL 358.207188 141.463219 \r\nL 304.639188 141.463219 \r\nL 304.639188 97.975219 \r\n\" style=\"fill:#e43841;\"/>\r\n    <path clip-path=\"url(#p9259698b61)\" d=\"M 90.367188 141.463219 \r\nL 143.935188 141.463219 \r\nL 143.935188 184.951219 \r\nL 90.367188 184.951219 \r\nL 90.367188 141.463219 \r\n\" style=\"fill:#03051a;\"/>\r\n    <path clip-path=\"url(#p9259698b61)\" d=\"M 143.935188 141.463219 \r\nL 197.503188 141.463219 \r\nL 197.503188 184.951219 \r\nL 143.935188 184.951219 \r\nL 143.935188 141.463219 \r\n\" style=\"fill:#4e1d4b;\"/>\r\n    <path clip-path=\"url(#p9259698b61)\" d=\"M 197.503188 141.463219 \r\nL 251.071188 141.463219 \r\nL 251.071188 184.951219 \r\nL 197.503188 184.951219 \r\nL 197.503188 141.463219 \r\n\" style=\"fill:#3c1a42;\"/>\r\n    <path clip-path=\"url(#p9259698b61)\" d=\"M 251.071188 141.463219 \r\nL 304.639188 141.463219 \r\nL 304.639188 184.951219 \r\nL 251.071188 184.951219 \r\nL 251.071188 141.463219 \r\n\" style=\"fill:#faebdd;\"/>\r\n    <path clip-path=\"url(#p9259698b61)\" d=\"M 304.639188 141.463219 \r\nL 358.207188 141.463219 \r\nL 358.207188 184.951219 \r\nL 304.639188 184.951219 \r\nL 304.639188 141.463219 \r\n\" style=\"fill:#421b45;\"/>\r\n    <path clip-path=\"url(#p9259698b61)\" d=\"M 90.367188 184.951219 \r\nL 143.935188 184.951219 \r\nL 143.935188 228.439219 \r\nL 90.367188 228.439219 \r\nL 90.367188 184.951219 \r\n\" style=\"fill:#07071d;\"/>\r\n    <path clip-path=\"url(#p9259698b61)\" d=\"M 143.935188 184.951219 \r\nL 197.503188 184.951219 \r\nL 197.503188 228.439219 \r\nL 143.935188 228.439219 \r\nL 143.935188 184.951219 \r\n\" style=\"fill:#4e1d4b;\"/>\r\n    <path clip-path=\"url(#p9259698b61)\" d=\"M 197.503188 184.951219 \r\nL 251.071188 184.951219 \r\nL 251.071188 228.439219 \r\nL 197.503188 228.439219 \r\nL 197.503188 184.951219 \r\n\" style=\"fill:#e43841;\"/>\r\n    <path clip-path=\"url(#p9259698b61)\" d=\"M 251.071188 184.951219 \r\nL 304.639188 184.951219 \r\nL 304.639188 228.439219 \r\nL 251.071188 228.439219 \r\nL 251.071188 184.951219 \r\n\" style=\"fill:#421b45;\"/>\r\n    <path clip-path=\"url(#p9259698b61)\" d=\"M 304.639188 184.951219 \r\nL 358.207188 184.951219 \r\nL 358.207188 228.439219 \r\nL 304.639188 228.439219 \r\nL 304.639188 184.951219 \r\n\" style=\"fill:#faebdd;\"/>\r\n   </g>\r\n   <g id=\"matplotlib.axis_1\">\r\n    <g id=\"xtick_1\">\r\n     <g id=\"line2d_1\">\r\n      <defs>\r\n       <path d=\"M 0 0 \r\nL 0 3.5 \r\n\" id=\"medee98ec9a\" style=\"stroke:#000000;stroke-width:0.8;\"/>\r\n      </defs>\r\n      <g>\r\n       <use style=\"stroke:#000000;stroke-width:0.8;\" x=\"117.151188\" xlink:href=\"#medee98ec9a\" y=\"228.439219\"/>\r\n      </g>\r\n     </g>\r\n     <g id=\"text_1\">\r\n      <!-- admission type -->\r\n      <g transform=\"translate(119.910562 311.606406)rotate(-90)scale(0.1 -0.1)\">\r\n       <defs>\r\n        <path d=\"M 2194 1759 \r\nQ 1497 1759 1228 1600 \r\nQ 959 1441 959 1056 \r\nQ 959 750 1161 570 \r\nQ 1363 391 1709 391 \r\nQ 2188 391 2477 730 \r\nQ 2766 1069 2766 1631 \r\nL 2766 1759 \r\nL 2194 1759 \r\nz\r\nM 3341 1997 \r\nL 3341 0 \r\nL 2766 0 \r\nL 2766 531 \r\nQ 2569 213 2275 61 \r\nQ 1981 -91 1556 -91 \r\nQ 1019 -91 701 211 \r\nQ 384 513 384 1019 \r\nQ 384 1609 779 1909 \r\nQ 1175 2209 1959 2209 \r\nL 2766 2209 \r\nL 2766 2266 \r\nQ 2766 2663 2505 2880 \r\nQ 2244 3097 1772 3097 \r\nQ 1472 3097 1187 3025 \r\nQ 903 2953 641 2809 \r\nL 641 3341 \r\nQ 956 3463 1253 3523 \r\nQ 1550 3584 1831 3584 \r\nQ 2591 3584 2966 3190 \r\nQ 3341 2797 3341 1997 \r\nz\r\n\" id=\"DejaVuSans-61\" transform=\"scale(0.015625)\"/>\r\n        <path d=\"M 2906 2969 \r\nL 2906 4863 \r\nL 3481 4863 \r\nL 3481 0 \r\nL 2906 0 \r\nL 2906 525 \r\nQ 2725 213 2448 61 \r\nQ 2172 -91 1784 -91 \r\nQ 1150 -91 751 415 \r\nQ 353 922 353 1747 \r\nQ 353 2572 751 3078 \r\nQ 1150 3584 1784 3584 \r\nQ 2172 3584 2448 3432 \r\nQ 2725 3281 2906 2969 \r\nz\r\nM 947 1747 \r\nQ 947 1113 1208 752 \r\nQ 1469 391 1925 391 \r\nQ 2381 391 2643 752 \r\nQ 2906 1113 2906 1747 \r\nQ 2906 2381 2643 2742 \r\nQ 2381 3103 1925 3103 \r\nQ 1469 3103 1208 2742 \r\nQ 947 2381 947 1747 \r\nz\r\n\" id=\"DejaVuSans-64\" transform=\"scale(0.015625)\"/>\r\n        <path d=\"M 3328 2828 \r\nQ 3544 3216 3844 3400 \r\nQ 4144 3584 4550 3584 \r\nQ 5097 3584 5394 3201 \r\nQ 5691 2819 5691 2113 \r\nL 5691 0 \r\nL 5113 0 \r\nL 5113 2094 \r\nQ 5113 2597 4934 2840 \r\nQ 4756 3084 4391 3084 \r\nQ 3944 3084 3684 2787 \r\nQ 3425 2491 3425 1978 \r\nL 3425 0 \r\nL 2847 0 \r\nL 2847 2094 \r\nQ 2847 2600 2669 2842 \r\nQ 2491 3084 2119 3084 \r\nQ 1678 3084 1418 2786 \r\nQ 1159 2488 1159 1978 \r\nL 1159 0 \r\nL 581 0 \r\nL 581 3500 \r\nL 1159 3500 \r\nL 1159 2956 \r\nQ 1356 3278 1631 3431 \r\nQ 1906 3584 2284 3584 \r\nQ 2666 3584 2933 3390 \r\nQ 3200 3197 3328 2828 \r\nz\r\n\" id=\"DejaVuSans-6d\" transform=\"scale(0.015625)\"/>\r\n        <path d=\"M 603 3500 \r\nL 1178 3500 \r\nL 1178 0 \r\nL 603 0 \r\nL 603 3500 \r\nz\r\nM 603 4863 \r\nL 1178 4863 \r\nL 1178 4134 \r\nL 603 4134 \r\nL 603 4863 \r\nz\r\n\" id=\"DejaVuSans-69\" transform=\"scale(0.015625)\"/>\r\n        <path d=\"M 2834 3397 \r\nL 2834 2853 \r\nQ 2591 2978 2328 3040 \r\nQ 2066 3103 1784 3103 \r\nQ 1356 3103 1142 2972 \r\nQ 928 2841 928 2578 \r\nQ 928 2378 1081 2264 \r\nQ 1234 2150 1697 2047 \r\nL 1894 2003 \r\nQ 2506 1872 2764 1633 \r\nQ 3022 1394 3022 966 \r\nQ 3022 478 2636 193 \r\nQ 2250 -91 1575 -91 \r\nQ 1294 -91 989 -36 \r\nQ 684 19 347 128 \r\nL 347 722 \r\nQ 666 556 975 473 \r\nQ 1284 391 1588 391 \r\nQ 1994 391 2212 530 \r\nQ 2431 669 2431 922 \r\nQ 2431 1156 2273 1281 \r\nQ 2116 1406 1581 1522 \r\nL 1381 1569 \r\nQ 847 1681 609 1914 \r\nQ 372 2147 372 2553 \r\nQ 372 3047 722 3315 \r\nQ 1072 3584 1716 3584 \r\nQ 2034 3584 2315 3537 \r\nQ 2597 3491 2834 3397 \r\nz\r\n\" id=\"DejaVuSans-73\" transform=\"scale(0.015625)\"/>\r\n        <path d=\"M 1959 3097 \r\nQ 1497 3097 1228 2736 \r\nQ 959 2375 959 1747 \r\nQ 959 1119 1226 758 \r\nQ 1494 397 1959 397 \r\nQ 2419 397 2687 759 \r\nQ 2956 1122 2956 1747 \r\nQ 2956 2369 2687 2733 \r\nQ 2419 3097 1959 3097 \r\nz\r\nM 1959 3584 \r\nQ 2709 3584 3137 3096 \r\nQ 3566 2609 3566 1747 \r\nQ 3566 888 3137 398 \r\nQ 2709 -91 1959 -91 \r\nQ 1206 -91 779 398 \r\nQ 353 888 353 1747 \r\nQ 353 2609 779 3096 \r\nQ 1206 3584 1959 3584 \r\nz\r\n\" id=\"DejaVuSans-6f\" transform=\"scale(0.015625)\"/>\r\n        <path d=\"M 3513 2113 \r\nL 3513 0 \r\nL 2938 0 \r\nL 2938 2094 \r\nQ 2938 2591 2744 2837 \r\nQ 2550 3084 2163 3084 \r\nQ 1697 3084 1428 2787 \r\nQ 1159 2491 1159 1978 \r\nL 1159 0 \r\nL 581 0 \r\nL 581 3500 \r\nL 1159 3500 \r\nL 1159 2956 \r\nQ 1366 3272 1645 3428 \r\nQ 1925 3584 2291 3584 \r\nQ 2894 3584 3203 3211 \r\nQ 3513 2838 3513 2113 \r\nz\r\n\" id=\"DejaVuSans-6e\" transform=\"scale(0.015625)\"/>\r\n        <path id=\"DejaVuSans-20\" transform=\"scale(0.015625)\"/>\r\n        <path d=\"M 1172 4494 \r\nL 1172 3500 \r\nL 2356 3500 \r\nL 2356 3053 \r\nL 1172 3053 \r\nL 1172 1153 \r\nQ 1172 725 1289 603 \r\nQ 1406 481 1766 481 \r\nL 2356 481 \r\nL 2356 0 \r\nL 1766 0 \r\nQ 1100 0 847 248 \r\nQ 594 497 594 1153 \r\nL 594 3053 \r\nL 172 3053 \r\nL 172 3500 \r\nL 594 3500 \r\nL 594 4494 \r\nL 1172 4494 \r\nz\r\n\" id=\"DejaVuSans-74\" transform=\"scale(0.015625)\"/>\r\n        <path d=\"M 2059 -325 \r\nQ 1816 -950 1584 -1140 \r\nQ 1353 -1331 966 -1331 \r\nL 506 -1331 \r\nL 506 -850 \r\nL 844 -850 \r\nQ 1081 -850 1212 -737 \r\nQ 1344 -625 1503 -206 \r\nL 1606 56 \r\nL 191 3500 \r\nL 800 3500 \r\nL 1894 763 \r\nL 2988 3500 \r\nL 3597 3500 \r\nL 2059 -325 \r\nz\r\n\" id=\"DejaVuSans-79\" transform=\"scale(0.015625)\"/>\r\n        <path d=\"M 1159 525 \r\nL 1159 -1331 \r\nL 581 -1331 \r\nL 581 3500 \r\nL 1159 3500 \r\nL 1159 2969 \r\nQ 1341 3281 1617 3432 \r\nQ 1894 3584 2278 3584 \r\nQ 2916 3584 3314 3078 \r\nQ 3713 2572 3713 1747 \r\nQ 3713 922 3314 415 \r\nQ 2916 -91 2278 -91 \r\nQ 1894 -91 1617 61 \r\nQ 1341 213 1159 525 \r\nz\r\nM 3116 1747 \r\nQ 3116 2381 2855 2742 \r\nQ 2594 3103 2138 3103 \r\nQ 1681 3103 1420 2742 \r\nQ 1159 2381 1159 1747 \r\nQ 1159 1113 1420 752 \r\nQ 1681 391 2138 391 \r\nQ 2594 391 2855 752 \r\nQ 3116 1113 3116 1747 \r\nz\r\n\" id=\"DejaVuSans-70\" transform=\"scale(0.015625)\"/>\r\n        <path d=\"M 3597 1894 \r\nL 3597 1613 \r\nL 953 1613 \r\nQ 991 1019 1311 708 \r\nQ 1631 397 2203 397 \r\nQ 2534 397 2845 478 \r\nQ 3156 559 3463 722 \r\nL 3463 178 \r\nQ 3153 47 2828 -22 \r\nQ 2503 -91 2169 -91 \r\nQ 1331 -91 842 396 \r\nQ 353 884 353 1716 \r\nQ 353 2575 817 3079 \r\nQ 1281 3584 2069 3584 \r\nQ 2775 3584 3186 3129 \r\nQ 3597 2675 3597 1894 \r\nz\r\nM 3022 2063 \r\nQ 3016 2534 2758 2815 \r\nQ 2500 3097 2075 3097 \r\nQ 1594 3097 1305 2825 \r\nQ 1016 2553 972 2059 \r\nL 3022 2063 \r\nz\r\n\" id=\"DejaVuSans-65\" transform=\"scale(0.015625)\"/>\r\n       </defs>\r\n       <use xlink:href=\"#DejaVuSans-61\"/>\r\n       <use x=\"61.279297\" xlink:href=\"#DejaVuSans-64\"/>\r\n       <use x=\"124.755859\" xlink:href=\"#DejaVuSans-6d\"/>\r\n       <use x=\"222.167969\" xlink:href=\"#DejaVuSans-69\"/>\r\n       <use x=\"249.951172\" xlink:href=\"#DejaVuSans-73\"/>\r\n       <use x=\"302.050781\" xlink:href=\"#DejaVuSans-73\"/>\r\n       <use x=\"354.150391\" xlink:href=\"#DejaVuSans-69\"/>\r\n       <use x=\"381.933594\" xlink:href=\"#DejaVuSans-6f\"/>\r\n       <use x=\"443.115234\" xlink:href=\"#DejaVuSans-6e\"/>\r\n       <use x=\"506.494141\" xlink:href=\"#DejaVuSans-20\"/>\r\n       <use x=\"538.28125\" xlink:href=\"#DejaVuSans-74\"/>\r\n       <use x=\"577.490234\" xlink:href=\"#DejaVuSans-79\"/>\r\n       <use x=\"636.669922\" xlink:href=\"#DejaVuSans-70\"/>\r\n       <use x=\"700.146484\" xlink:href=\"#DejaVuSans-65\"/>\r\n      </g>\r\n     </g>\r\n    </g>\r\n    <g id=\"xtick_2\">\r\n     <g id=\"line2d_2\">\r\n      <g>\r\n       <use style=\"stroke:#000000;stroke-width:0.8;\" x=\"170.719188\" xlink:href=\"#medee98ec9a\" y=\"228.439219\"/>\r\n      </g>\r\n     </g>\r\n     <g id=\"text_2\">\r\n      <!-- severity -->\r\n      <g transform=\"translate(173.478563 275.601719)rotate(-90)scale(0.1 -0.1)\">\r\n       <defs>\r\n        <path d=\"M 191 3500 \r\nL 800 3500 \r\nL 1894 563 \r\nL 2988 3500 \r\nL 3597 3500 \r\nL 2284 0 \r\nL 1503 0 \r\nL 191 3500 \r\nz\r\n\" id=\"DejaVuSans-76\" transform=\"scale(0.015625)\"/>\r\n        <path d=\"M 2631 2963 \r\nQ 2534 3019 2420 3045 \r\nQ 2306 3072 2169 3072 \r\nQ 1681 3072 1420 2755 \r\nQ 1159 2438 1159 1844 \r\nL 1159 0 \r\nL 581 0 \r\nL 581 3500 \r\nL 1159 3500 \r\nL 1159 2956 \r\nQ 1341 3275 1631 3429 \r\nQ 1922 3584 2338 3584 \r\nQ 2397 3584 2469 3576 \r\nQ 2541 3569 2628 3553 \r\nL 2631 2963 \r\nz\r\n\" id=\"DejaVuSans-72\" transform=\"scale(0.015625)\"/>\r\n       </defs>\r\n       <use xlink:href=\"#DejaVuSans-73\"/>\r\n       <use x=\"52.099609\" xlink:href=\"#DejaVuSans-65\"/>\r\n       <use x=\"113.623047\" xlink:href=\"#DejaVuSans-76\"/>\r\n       <use x=\"172.802734\" xlink:href=\"#DejaVuSans-65\"/>\r\n       <use x=\"234.326172\" xlink:href=\"#DejaVuSans-72\"/>\r\n       <use x=\"275.439453\" xlink:href=\"#DejaVuSans-69\"/>\r\n       <use x=\"303.222656\" xlink:href=\"#DejaVuSans-74\"/>\r\n       <use x=\"342.431641\" xlink:href=\"#DejaVuSans-79\"/>\r\n      </g>\r\n     </g>\r\n    </g>\r\n    <g id=\"xtick_3\">\r\n     <g id=\"line2d_3\">\r\n      <g>\r\n       <use style=\"stroke:#000000;stroke-width:0.8;\" x=\"224.287188\" xlink:href=\"#medee98ec9a\" y=\"228.439219\"/>\r\n      </g>\r\n     </g>\r\n     <g id=\"text_3\">\r\n      <!-- visitors -->\r\n      <g transform=\"translate(227.046563 271.482969)rotate(-90)scale(0.1 -0.1)\">\r\n       <use xlink:href=\"#DejaVuSans-76\"/>\r\n       <use x=\"59.179688\" xlink:href=\"#DejaVuSans-69\"/>\r\n       <use x=\"86.962891\" xlink:href=\"#DejaVuSans-73\"/>\r\n       <use x=\"139.0625\" xlink:href=\"#DejaVuSans-69\"/>\r\n       <use x=\"166.845703\" xlink:href=\"#DejaVuSans-74\"/>\r\n       <use x=\"206.054688\" xlink:href=\"#DejaVuSans-6f\"/>\r\n       <use x=\"267.236328\" xlink:href=\"#DejaVuSans-72\"/>\r\n       <use x=\"308.349609\" xlink:href=\"#DejaVuSans-73\"/>\r\n      </g>\r\n     </g>\r\n    </g>\r\n    <g id=\"xtick_4\">\r\n     <g id=\"line2d_4\">\r\n      <g>\r\n       <use style=\"stroke:#000000;stroke-width:0.8;\" x=\"277.855188\" xlink:href=\"#medee98ec9a\" y=\"228.439219\"/>\r\n      </g>\r\n     </g>\r\n     <g id=\"text_4\">\r\n      <!-- age -->\r\n      <g transform=\"translate(280.614563 254.068906)rotate(-90)scale(0.1 -0.1)\">\r\n       <defs>\r\n        <path d=\"M 2906 1791 \r\nQ 2906 2416 2648 2759 \r\nQ 2391 3103 1925 3103 \r\nQ 1463 3103 1205 2759 \r\nQ 947 2416 947 1791 \r\nQ 947 1169 1205 825 \r\nQ 1463 481 1925 481 \r\nQ 2391 481 2648 825 \r\nQ 2906 1169 2906 1791 \r\nz\r\nM 3481 434 \r\nQ 3481 -459 3084 -895 \r\nQ 2688 -1331 1869 -1331 \r\nQ 1566 -1331 1297 -1286 \r\nQ 1028 -1241 775 -1147 \r\nL 775 -588 \r\nQ 1028 -725 1275 -790 \r\nQ 1522 -856 1778 -856 \r\nQ 2344 -856 2625 -561 \r\nQ 2906 -266 2906 331 \r\nL 2906 616 \r\nQ 2728 306 2450 153 \r\nQ 2172 0 1784 0 \r\nQ 1141 0 747 490 \r\nQ 353 981 353 1791 \r\nQ 353 2603 747 3093 \r\nQ 1141 3584 1784 3584 \r\nQ 2172 3584 2450 3431 \r\nQ 2728 3278 2906 2969 \r\nL 2906 3500 \r\nL 3481 3500 \r\nL 3481 434 \r\nz\r\n\" id=\"DejaVuSans-67\" transform=\"scale(0.015625)\"/>\r\n       </defs>\r\n       <use xlink:href=\"#DejaVuSans-61\"/>\r\n       <use x=\"61.279297\" xlink:href=\"#DejaVuSans-67\"/>\r\n       <use x=\"124.755859\" xlink:href=\"#DejaVuSans-65\"/>\r\n      </g>\r\n     </g>\r\n    </g>\r\n    <g id=\"xtick_5\">\r\n     <g id=\"line2d_5\">\r\n      <g>\r\n       <use style=\"stroke:#000000;stroke-width:0.8;\" x=\"331.423188\" xlink:href=\"#medee98ec9a\" y=\"228.439219\"/>\r\n      </g>\r\n     </g>\r\n     <g id=\"text_5\">\r\n      <!-- days -->\r\n      <g transform=\"translate(334.182563 259.043906)rotate(-90)scale(0.1 -0.1)\">\r\n       <use xlink:href=\"#DejaVuSans-64\"/>\r\n       <use x=\"63.476562\" xlink:href=\"#DejaVuSans-61\"/>\r\n       <use x=\"124.755859\" xlink:href=\"#DejaVuSans-79\"/>\r\n       <use x=\"183.935547\" xlink:href=\"#DejaVuSans-73\"/>\r\n      </g>\r\n     </g>\r\n    </g>\r\n   </g>\r\n   <g id=\"matplotlib.axis_2\">\r\n    <g id=\"ytick_1\">\r\n     <g id=\"line2d_6\">\r\n      <defs>\r\n       <path d=\"M 0 0 \r\nL -3.5 0 \r\n\" id=\"mebb5440b43\" style=\"stroke:#000000;stroke-width:0.8;\"/>\r\n      </defs>\r\n      <g>\r\n       <use style=\"stroke:#000000;stroke-width:0.8;\" x=\"90.367188\" xlink:href=\"#mebb5440b43\" y=\"32.743219\"/>\r\n      </g>\r\n     </g>\r\n     <g id=\"text_6\">\r\n      <!-- admission type -->\r\n      <g transform=\"translate(7.2 36.542438)scale(0.1 -0.1)\">\r\n       <use xlink:href=\"#DejaVuSans-61\"/>\r\n       <use x=\"61.279297\" xlink:href=\"#DejaVuSans-64\"/>\r\n       <use x=\"124.755859\" xlink:href=\"#DejaVuSans-6d\"/>\r\n       <use x=\"222.167969\" xlink:href=\"#DejaVuSans-69\"/>\r\n       <use x=\"249.951172\" xlink:href=\"#DejaVuSans-73\"/>\r\n       <use x=\"302.050781\" xlink:href=\"#DejaVuSans-73\"/>\r\n       <use x=\"354.150391\" xlink:href=\"#DejaVuSans-69\"/>\r\n       <use x=\"381.933594\" xlink:href=\"#DejaVuSans-6f\"/>\r\n       <use x=\"443.115234\" xlink:href=\"#DejaVuSans-6e\"/>\r\n       <use x=\"506.494141\" xlink:href=\"#DejaVuSans-20\"/>\r\n       <use x=\"538.28125\" xlink:href=\"#DejaVuSans-74\"/>\r\n       <use x=\"577.490234\" xlink:href=\"#DejaVuSans-79\"/>\r\n       <use x=\"636.669922\" xlink:href=\"#DejaVuSans-70\"/>\r\n       <use x=\"700.146484\" xlink:href=\"#DejaVuSans-65\"/>\r\n      </g>\r\n     </g>\r\n    </g>\r\n    <g id=\"ytick_2\">\r\n     <g id=\"line2d_7\">\r\n      <g>\r\n       <use style=\"stroke:#000000;stroke-width:0.8;\" x=\"90.367188\" xlink:href=\"#mebb5440b43\" y=\"76.231219\"/>\r\n      </g>\r\n     </g>\r\n     <g id=\"text_7\">\r\n      <!-- severity -->\r\n      <g transform=\"translate(43.204687 80.030438)scale(0.1 -0.1)\">\r\n       <use xlink:href=\"#DejaVuSans-73\"/>\r\n       <use x=\"52.099609\" xlink:href=\"#DejaVuSans-65\"/>\r\n       <use x=\"113.623047\" xlink:href=\"#DejaVuSans-76\"/>\r\n       <use x=\"172.802734\" xlink:href=\"#DejaVuSans-65\"/>\r\n       <use x=\"234.326172\" xlink:href=\"#DejaVuSans-72\"/>\r\n       <use x=\"275.439453\" xlink:href=\"#DejaVuSans-69\"/>\r\n       <use x=\"303.222656\" xlink:href=\"#DejaVuSans-74\"/>\r\n       <use x=\"342.431641\" xlink:href=\"#DejaVuSans-79\"/>\r\n      </g>\r\n     </g>\r\n    </g>\r\n    <g id=\"ytick_3\">\r\n     <g id=\"line2d_8\">\r\n      <g>\r\n       <use style=\"stroke:#000000;stroke-width:0.8;\" x=\"90.367188\" xlink:href=\"#mebb5440b43\" y=\"119.719219\"/>\r\n      </g>\r\n     </g>\r\n     <g id=\"text_8\">\r\n      <!-- visitors -->\r\n      <g transform=\"translate(47.323437 123.518438)scale(0.1 -0.1)\">\r\n       <use xlink:href=\"#DejaVuSans-76\"/>\r\n       <use x=\"59.179688\" xlink:href=\"#DejaVuSans-69\"/>\r\n       <use x=\"86.962891\" xlink:href=\"#DejaVuSans-73\"/>\r\n       <use x=\"139.0625\" xlink:href=\"#DejaVuSans-69\"/>\r\n       <use x=\"166.845703\" xlink:href=\"#DejaVuSans-74\"/>\r\n       <use x=\"206.054688\" xlink:href=\"#DejaVuSans-6f\"/>\r\n       <use x=\"267.236328\" xlink:href=\"#DejaVuSans-72\"/>\r\n       <use x=\"308.349609\" xlink:href=\"#DejaVuSans-73\"/>\r\n      </g>\r\n     </g>\r\n    </g>\r\n    <g id=\"ytick_4\">\r\n     <g id=\"line2d_9\">\r\n      <g>\r\n       <use style=\"stroke:#000000;stroke-width:0.8;\" x=\"90.367188\" xlink:href=\"#mebb5440b43\" y=\"163.207219\"/>\r\n      </g>\r\n     </g>\r\n     <g id=\"text_9\">\r\n      <!-- age -->\r\n      <g transform=\"translate(64.7375 167.006438)scale(0.1 -0.1)\">\r\n       <use xlink:href=\"#DejaVuSans-61\"/>\r\n       <use x=\"61.279297\" xlink:href=\"#DejaVuSans-67\"/>\r\n       <use x=\"124.755859\" xlink:href=\"#DejaVuSans-65\"/>\r\n      </g>\r\n     </g>\r\n    </g>\r\n    <g id=\"ytick_5\">\r\n     <g id=\"line2d_10\">\r\n      <g>\r\n       <use style=\"stroke:#000000;stroke-width:0.8;\" x=\"90.367188\" xlink:href=\"#mebb5440b43\" y=\"206.695219\"/>\r\n      </g>\r\n     </g>\r\n     <g id=\"text_10\">\r\n      <!-- days -->\r\n      <g transform=\"translate(59.7625 210.494438)scale(0.1 -0.1)\">\r\n       <use xlink:href=\"#DejaVuSans-64\"/>\r\n       <use x=\"63.476562\" xlink:href=\"#DejaVuSans-61\"/>\r\n       <use x=\"124.755859\" xlink:href=\"#DejaVuSans-79\"/>\r\n       <use x=\"183.935547\" xlink:href=\"#DejaVuSans-73\"/>\r\n      </g>\r\n     </g>\r\n    </g>\r\n   </g>\r\n   <g id=\"text_11\">\r\n    <!-- 1 -->\r\n    <g style=\"fill:#262626;\" transform=\"translate(113.969938 35.502594)scale(0.1 -0.1)\">\r\n     <defs>\r\n      <path d=\"M 794 531 \r\nL 1825 531 \r\nL 1825 4091 \r\nL 703 3866 \r\nL 703 4441 \r\nL 1819 4666 \r\nL 2450 4666 \r\nL 2450 531 \r\nL 3481 531 \r\nL 3481 0 \r\nL 794 0 \r\nL 794 531 \r\nz\r\n\" id=\"DejaVuSans-31\" transform=\"scale(0.015625)\"/>\r\n     </defs>\r\n     <use xlink:href=\"#DejaVuSans-31\"/>\r\n    </g>\r\n   </g>\r\n   <g id=\"text_12\">\r\n    <!-- -0.048 -->\r\n    <g style=\"fill:#ffffff;\" transform=\"translate(154.601219 35.502594)scale(0.1 -0.1)\">\r\n     <defs>\r\n      <path d=\"M 313 2009 \r\nL 1997 2009 \r\nL 1997 1497 \r\nL 313 1497 \r\nL 313 2009 \r\nz\r\n\" id=\"DejaVuSans-2d\" transform=\"scale(0.015625)\"/>\r\n      <path d=\"M 2034 4250 \r\nQ 1547 4250 1301 3770 \r\nQ 1056 3291 1056 2328 \r\nQ 1056 1369 1301 889 \r\nQ 1547 409 2034 409 \r\nQ 2525 409 2770 889 \r\nQ 3016 1369 3016 2328 \r\nQ 3016 3291 2770 3770 \r\nQ 2525 4250 2034 4250 \r\nz\r\nM 2034 4750 \r\nQ 2819 4750 3233 4129 \r\nQ 3647 3509 3647 2328 \r\nQ 3647 1150 3233 529 \r\nQ 2819 -91 2034 -91 \r\nQ 1250 -91 836 529 \r\nQ 422 1150 422 2328 \r\nQ 422 3509 836 4129 \r\nQ 1250 4750 2034 4750 \r\nz\r\n\" id=\"DejaVuSans-30\" transform=\"scale(0.015625)\"/>\r\n      <path d=\"M 684 794 \r\nL 1344 794 \r\nL 1344 0 \r\nL 684 0 \r\nL 684 794 \r\nz\r\n\" id=\"DejaVuSans-2e\" transform=\"scale(0.015625)\"/>\r\n      <path d=\"M 2419 4116 \r\nL 825 1625 \r\nL 2419 1625 \r\nL 2419 4116 \r\nz\r\nM 2253 4666 \r\nL 3047 4666 \r\nL 3047 1625 \r\nL 3713 1625 \r\nL 3713 1100 \r\nL 3047 1100 \r\nL 3047 0 \r\nL 2419 0 \r\nL 2419 1100 \r\nL 313 1100 \r\nL 313 1709 \r\nL 2253 4666 \r\nz\r\n\" id=\"DejaVuSans-34\" transform=\"scale(0.015625)\"/>\r\n      <path d=\"M 2034 2216 \r\nQ 1584 2216 1326 1975 \r\nQ 1069 1734 1069 1313 \r\nQ 1069 891 1326 650 \r\nQ 1584 409 2034 409 \r\nQ 2484 409 2743 651 \r\nQ 3003 894 3003 1313 \r\nQ 3003 1734 2745 1975 \r\nQ 2488 2216 2034 2216 \r\nz\r\nM 1403 2484 \r\nQ 997 2584 770 2862 \r\nQ 544 3141 544 3541 \r\nQ 544 4100 942 4425 \r\nQ 1341 4750 2034 4750 \r\nQ 2731 4750 3128 4425 \r\nQ 3525 4100 3525 3541 \r\nQ 3525 3141 3298 2862 \r\nQ 3072 2584 2669 2484 \r\nQ 3125 2378 3379 2068 \r\nQ 3634 1759 3634 1313 \r\nQ 3634 634 3220 271 \r\nQ 2806 -91 2034 -91 \r\nQ 1263 -91 848 271 \r\nQ 434 634 434 1313 \r\nQ 434 1759 690 2068 \r\nQ 947 2378 1403 2484 \r\nz\r\nM 1172 3481 \r\nQ 1172 3119 1398 2916 \r\nQ 1625 2713 2034 2713 \r\nQ 2441 2713 2670 2916 \r\nQ 2900 3119 2900 3481 \r\nQ 2900 3844 2670 4047 \r\nQ 2441 4250 2034 4250 \r\nQ 1625 4250 1398 4047 \r\nQ 1172 3844 1172 3481 \r\nz\r\n\" id=\"DejaVuSans-38\" transform=\"scale(0.015625)\"/>\r\n     </defs>\r\n     <use xlink:href=\"#DejaVuSans-2d\"/>\r\n     <use x=\"36.083984\" xlink:href=\"#DejaVuSans-30\"/>\r\n     <use x=\"99.707031\" xlink:href=\"#DejaVuSans-2e\"/>\r\n     <use x=\"131.494141\" xlink:href=\"#DejaVuSans-30\"/>\r\n     <use x=\"195.117188\" xlink:href=\"#DejaVuSans-34\"/>\r\n     <use x=\"258.740234\" xlink:href=\"#DejaVuSans-38\"/>\r\n    </g>\r\n   </g>\r\n   <g id=\"text_13\">\r\n    <!-- -0.022 -->\r\n    <g style=\"fill:#ffffff;\" transform=\"translate(208.169219 35.502594)scale(0.1 -0.1)\">\r\n     <defs>\r\n      <path d=\"M 1228 531 \r\nL 3431 531 \r\nL 3431 0 \r\nL 469 0 \r\nL 469 531 \r\nQ 828 903 1448 1529 \r\nQ 2069 2156 2228 2338 \r\nQ 2531 2678 2651 2914 \r\nQ 2772 3150 2772 3378 \r\nQ 2772 3750 2511 3984 \r\nQ 2250 4219 1831 4219 \r\nQ 1534 4219 1204 4116 \r\nQ 875 4013 500 3803 \r\nL 500 4441 \r\nQ 881 4594 1212 4672 \r\nQ 1544 4750 1819 4750 \r\nQ 2544 4750 2975 4387 \r\nQ 3406 4025 3406 3419 \r\nQ 3406 3131 3298 2873 \r\nQ 3191 2616 2906 2266 \r\nQ 2828 2175 2409 1742 \r\nQ 1991 1309 1228 531 \r\nz\r\n\" id=\"DejaVuSans-32\" transform=\"scale(0.015625)\"/>\r\n     </defs>\r\n     <use xlink:href=\"#DejaVuSans-2d\"/>\r\n     <use x=\"36.083984\" xlink:href=\"#DejaVuSans-30\"/>\r\n     <use x=\"99.707031\" xlink:href=\"#DejaVuSans-2e\"/>\r\n     <use x=\"131.494141\" xlink:href=\"#DejaVuSans-30\"/>\r\n     <use x=\"195.117188\" xlink:href=\"#DejaVuSans-32\"/>\r\n     <use x=\"258.740234\" xlink:href=\"#DejaVuSans-32\"/>\r\n    </g>\r\n   </g>\r\n   <g id=\"text_14\">\r\n    <!-- -0.1 -->\r\n    <g style=\"fill:#ffffff;\" transform=\"translate(268.099719 35.502594)scale(0.1 -0.1)\">\r\n     <use xlink:href=\"#DejaVuSans-2d\"/>\r\n     <use x=\"36.083984\" xlink:href=\"#DejaVuSans-30\"/>\r\n     <use x=\"99.707031\" xlink:href=\"#DejaVuSans-2e\"/>\r\n     <use x=\"131.494141\" xlink:href=\"#DejaVuSans-31\"/>\r\n    </g>\r\n   </g>\r\n   <g id=\"text_15\">\r\n    <!-- -0.082 -->\r\n    <g style=\"fill:#ffffff;\" transform=\"translate(315.305219 35.502594)scale(0.1 -0.1)\">\r\n     <use xlink:href=\"#DejaVuSans-2d\"/>\r\n     <use x=\"36.083984\" xlink:href=\"#DejaVuSans-30\"/>\r\n     <use x=\"99.707031\" xlink:href=\"#DejaVuSans-2e\"/>\r\n     <use x=\"131.494141\" xlink:href=\"#DejaVuSans-30\"/>\r\n     <use x=\"195.117188\" xlink:href=\"#DejaVuSans-38\"/>\r\n     <use x=\"258.740234\" xlink:href=\"#DejaVuSans-32\"/>\r\n    </g>\r\n   </g>\r\n   <g id=\"text_16\">\r\n    <!-- -0.048 -->\r\n    <g style=\"fill:#ffffff;\" transform=\"translate(101.033219 78.990594)scale(0.1 -0.1)\">\r\n     <use xlink:href=\"#DejaVuSans-2d\"/>\r\n     <use x=\"36.083984\" xlink:href=\"#DejaVuSans-30\"/>\r\n     <use x=\"99.707031\" xlink:href=\"#DejaVuSans-2e\"/>\r\n     <use x=\"131.494141\" xlink:href=\"#DejaVuSans-30\"/>\r\n     <use x=\"195.117188\" xlink:href=\"#DejaVuSans-34\"/>\r\n     <use x=\"258.740234\" xlink:href=\"#DejaVuSans-38\"/>\r\n    </g>\r\n   </g>\r\n   <g id=\"text_17\">\r\n    <!-- 1 -->\r\n    <g style=\"fill:#262626;\" transform=\"translate(167.537938 78.990594)scale(0.1 -0.1)\">\r\n     <use xlink:href=\"#DejaVuSans-31\"/>\r\n    </g>\r\n   </g>\r\n   <g id=\"text_18\">\r\n    <!-- 0.045 -->\r\n    <g style=\"fill:#ffffff;\" transform=\"translate(209.973125 78.990594)scale(0.1 -0.1)\">\r\n     <defs>\r\n      <path d=\"M 691 4666 \r\nL 3169 4666 \r\nL 3169 4134 \r\nL 1269 4134 \r\nL 1269 2991 \r\nQ 1406 3038 1543 3061 \r\nQ 1681 3084 1819 3084 \r\nQ 2600 3084 3056 2656 \r\nQ 3513 2228 3513 1497 \r\nQ 3513 744 3044 326 \r\nQ 2575 -91 1722 -91 \r\nQ 1428 -91 1123 -41 \r\nQ 819 9 494 109 \r\nL 494 744 \r\nQ 775 591 1075 516 \r\nQ 1375 441 1709 441 \r\nQ 2250 441 2565 725 \r\nQ 2881 1009 2881 1497 \r\nQ 2881 1984 2565 2268 \r\nQ 2250 2553 1709 2553 \r\nQ 1456 2553 1204 2497 \r\nQ 953 2441 691 2322 \r\nL 691 4666 \r\nz\r\n\" id=\"DejaVuSans-35\" transform=\"scale(0.015625)\"/>\r\n     </defs>\r\n     <use xlink:href=\"#DejaVuSans-30\"/>\r\n     <use x=\"63.623047\" xlink:href=\"#DejaVuSans-2e\"/>\r\n     <use x=\"95.410156\" xlink:href=\"#DejaVuSans-30\"/>\r\n     <use x=\"159.033203\" xlink:href=\"#DejaVuSans-34\"/>\r\n     <use x=\"222.65625\" xlink:href=\"#DejaVuSans-35\"/>\r\n    </g>\r\n   </g>\r\n   <g id=\"text_19\">\r\n    <!-- 0.12 -->\r\n    <g style=\"fill:#ffffff;\" transform=\"translate(266.722375 78.990594)scale(0.1 -0.1)\">\r\n     <use xlink:href=\"#DejaVuSans-30\"/>\r\n     <use x=\"63.623047\" xlink:href=\"#DejaVuSans-2e\"/>\r\n     <use x=\"95.410156\" xlink:href=\"#DejaVuSans-31\"/>\r\n     <use x=\"159.033203\" xlink:href=\"#DejaVuSans-32\"/>\r\n    </g>\r\n   </g>\r\n   <g id=\"text_20\">\r\n    <!-- 0.13 -->\r\n    <g style=\"fill:#ffffff;\" transform=\"translate(320.290375 78.990594)scale(0.1 -0.1)\">\r\n     <defs>\r\n      <path d=\"M 2597 2516 \r\nQ 3050 2419 3304 2112 \r\nQ 3559 1806 3559 1356 \r\nQ 3559 666 3084 287 \r\nQ 2609 -91 1734 -91 \r\nQ 1441 -91 1130 -33 \r\nQ 819 25 488 141 \r\nL 488 750 \r\nQ 750 597 1062 519 \r\nQ 1375 441 1716 441 \r\nQ 2309 441 2620 675 \r\nQ 2931 909 2931 1356 \r\nQ 2931 1769 2642 2001 \r\nQ 2353 2234 1838 2234 \r\nL 1294 2234 \r\nL 1294 2753 \r\nL 1863 2753 \r\nQ 2328 2753 2575 2939 \r\nQ 2822 3125 2822 3475 \r\nQ 2822 3834 2567 4026 \r\nQ 2313 4219 1838 4219 \r\nQ 1578 4219 1281 4162 \r\nQ 984 4106 628 3988 \r\nL 628 4550 \r\nQ 988 4650 1302 4700 \r\nQ 1616 4750 1894 4750 \r\nQ 2613 4750 3031 4423 \r\nQ 3450 4097 3450 3541 \r\nQ 3450 3153 3228 2886 \r\nQ 3006 2619 2597 2516 \r\nz\r\n\" id=\"DejaVuSans-33\" transform=\"scale(0.015625)\"/>\r\n     </defs>\r\n     <use xlink:href=\"#DejaVuSans-30\"/>\r\n     <use x=\"63.623047\" xlink:href=\"#DejaVuSans-2e\"/>\r\n     <use x=\"95.410156\" xlink:href=\"#DejaVuSans-31\"/>\r\n     <use x=\"159.033203\" xlink:href=\"#DejaVuSans-33\"/>\r\n    </g>\r\n   </g>\r\n   <g id=\"text_21\">\r\n    <!-- -0.022 -->\r\n    <g style=\"fill:#ffffff;\" transform=\"translate(101.033219 122.478594)scale(0.1 -0.1)\">\r\n     <use xlink:href=\"#DejaVuSans-2d\"/>\r\n     <use x=\"36.083984\" xlink:href=\"#DejaVuSans-30\"/>\r\n     <use x=\"99.707031\" xlink:href=\"#DejaVuSans-2e\"/>\r\n     <use x=\"131.494141\" xlink:href=\"#DejaVuSans-30\"/>\r\n     <use x=\"195.117188\" xlink:href=\"#DejaVuSans-32\"/>\r\n     <use x=\"258.740234\" xlink:href=\"#DejaVuSans-32\"/>\r\n    </g>\r\n   </g>\r\n   <g id=\"text_22\">\r\n    <!-- 0.045 -->\r\n    <g style=\"fill:#ffffff;\" transform=\"translate(156.405125 122.478594)scale(0.1 -0.1)\">\r\n     <use xlink:href=\"#DejaVuSans-30\"/>\r\n     <use x=\"63.623047\" xlink:href=\"#DejaVuSans-2e\"/>\r\n     <use x=\"95.410156\" xlink:href=\"#DejaVuSans-30\"/>\r\n     <use x=\"159.033203\" xlink:href=\"#DejaVuSans-34\"/>\r\n     <use x=\"222.65625\" xlink:href=\"#DejaVuSans-35\"/>\r\n    </g>\r\n   </g>\r\n   <g id=\"text_23\">\r\n    <!-- 1 -->\r\n    <g style=\"fill:#262626;\" transform=\"translate(221.105938 122.478594)scale(0.1 -0.1)\">\r\n     <use xlink:href=\"#DejaVuSans-31\"/>\r\n    </g>\r\n   </g>\r\n   <g id=\"text_24\">\r\n    <!-- 0.072 -->\r\n    <g style=\"fill:#ffffff;\" transform=\"translate(263.541125 122.478594)scale(0.1 -0.1)\">\r\n     <defs>\r\n      <path d=\"M 525 4666 \r\nL 3525 4666 \r\nL 3525 4397 \r\nL 1831 0 \r\nL 1172 0 \r\nL 2766 4134 \r\nL 525 4134 \r\nL 525 4666 \r\nz\r\n\" id=\"DejaVuSans-37\" transform=\"scale(0.015625)\"/>\r\n     </defs>\r\n     <use xlink:href=\"#DejaVuSans-30\"/>\r\n     <use x=\"63.623047\" xlink:href=\"#DejaVuSans-2e\"/>\r\n     <use x=\"95.410156\" xlink:href=\"#DejaVuSans-30\"/>\r\n     <use x=\"159.033203\" xlink:href=\"#DejaVuSans-37\"/>\r\n     <use x=\"222.65625\" xlink:href=\"#DejaVuSans-32\"/>\r\n    </g>\r\n   </g>\r\n   <g id=\"text_25\">\r\n    <!-- 0.54 -->\r\n    <g style=\"fill:#ffffff;\" transform=\"translate(320.290375 122.478594)scale(0.1 -0.1)\">\r\n     <use xlink:href=\"#DejaVuSans-30\"/>\r\n     <use x=\"63.623047\" xlink:href=\"#DejaVuSans-2e\"/>\r\n     <use x=\"95.410156\" xlink:href=\"#DejaVuSans-35\"/>\r\n     <use x=\"159.033203\" xlink:href=\"#DejaVuSans-34\"/>\r\n    </g>\r\n   </g>\r\n   <g id=\"text_26\">\r\n    <!-- -0.1 -->\r\n    <g style=\"fill:#ffffff;\" transform=\"translate(107.395719 165.966594)scale(0.1 -0.1)\">\r\n     <use xlink:href=\"#DejaVuSans-2d\"/>\r\n     <use x=\"36.083984\" xlink:href=\"#DejaVuSans-30\"/>\r\n     <use x=\"99.707031\" xlink:href=\"#DejaVuSans-2e\"/>\r\n     <use x=\"131.494141\" xlink:href=\"#DejaVuSans-31\"/>\r\n    </g>\r\n   </g>\r\n   <g id=\"text_27\">\r\n    <!-- 0.12 -->\r\n    <g style=\"fill:#ffffff;\" transform=\"translate(159.586375 165.966594)scale(0.1 -0.1)\">\r\n     <use xlink:href=\"#DejaVuSans-30\"/>\r\n     <use x=\"63.623047\" xlink:href=\"#DejaVuSans-2e\"/>\r\n     <use x=\"95.410156\" xlink:href=\"#DejaVuSans-31\"/>\r\n     <use x=\"159.033203\" xlink:href=\"#DejaVuSans-32\"/>\r\n    </g>\r\n   </g>\r\n   <g id=\"text_28\">\r\n    <!-- 0.072 -->\r\n    <g style=\"fill:#ffffff;\" transform=\"translate(209.973125 165.966594)scale(0.1 -0.1)\">\r\n     <use xlink:href=\"#DejaVuSans-30\"/>\r\n     <use x=\"63.623047\" xlink:href=\"#DejaVuSans-2e\"/>\r\n     <use x=\"95.410156\" xlink:href=\"#DejaVuSans-30\"/>\r\n     <use x=\"159.033203\" xlink:href=\"#DejaVuSans-37\"/>\r\n     <use x=\"222.65625\" xlink:href=\"#DejaVuSans-32\"/>\r\n    </g>\r\n   </g>\r\n   <g id=\"text_29\">\r\n    <!-- 1 -->\r\n    <g style=\"fill:#262626;\" transform=\"translate(274.673938 165.966594)scale(0.1 -0.1)\">\r\n     <use xlink:href=\"#DejaVuSans-31\"/>\r\n    </g>\r\n   </g>\r\n   <g id=\"text_30\">\r\n    <!-- 0.091 -->\r\n    <g style=\"fill:#ffffff;\" transform=\"translate(317.109125 165.966594)scale(0.1 -0.1)\">\r\n     <defs>\r\n      <path d=\"M 703 97 \r\nL 703 672 \r\nQ 941 559 1184 500 \r\nQ 1428 441 1663 441 \r\nQ 2288 441 2617 861 \r\nQ 2947 1281 2994 2138 \r\nQ 2813 1869 2534 1725 \r\nQ 2256 1581 1919 1581 \r\nQ 1219 1581 811 2004 \r\nQ 403 2428 403 3163 \r\nQ 403 3881 828 4315 \r\nQ 1253 4750 1959 4750 \r\nQ 2769 4750 3195 4129 \r\nQ 3622 3509 3622 2328 \r\nQ 3622 1225 3098 567 \r\nQ 2575 -91 1691 -91 \r\nQ 1453 -91 1209 -44 \r\nQ 966 3 703 97 \r\nz\r\nM 1959 2075 \r\nQ 2384 2075 2632 2365 \r\nQ 2881 2656 2881 3163 \r\nQ 2881 3666 2632 3958 \r\nQ 2384 4250 1959 4250 \r\nQ 1534 4250 1286 3958 \r\nQ 1038 3666 1038 3163 \r\nQ 1038 2656 1286 2365 \r\nQ 1534 2075 1959 2075 \r\nz\r\n\" id=\"DejaVuSans-39\" transform=\"scale(0.015625)\"/>\r\n     </defs>\r\n     <use xlink:href=\"#DejaVuSans-30\"/>\r\n     <use x=\"63.623047\" xlink:href=\"#DejaVuSans-2e\"/>\r\n     <use x=\"95.410156\" xlink:href=\"#DejaVuSans-30\"/>\r\n     <use x=\"159.033203\" xlink:href=\"#DejaVuSans-39\"/>\r\n     <use x=\"222.65625\" xlink:href=\"#DejaVuSans-31\"/>\r\n    </g>\r\n   </g>\r\n   <g id=\"text_31\">\r\n    <!-- -0.082 -->\r\n    <g style=\"fill:#ffffff;\" transform=\"translate(101.033219 209.454594)scale(0.1 -0.1)\">\r\n     <use xlink:href=\"#DejaVuSans-2d\"/>\r\n     <use x=\"36.083984\" xlink:href=\"#DejaVuSans-30\"/>\r\n     <use x=\"99.707031\" xlink:href=\"#DejaVuSans-2e\"/>\r\n     <use x=\"131.494141\" xlink:href=\"#DejaVuSans-30\"/>\r\n     <use x=\"195.117188\" xlink:href=\"#DejaVuSans-38\"/>\r\n     <use x=\"258.740234\" xlink:href=\"#DejaVuSans-32\"/>\r\n    </g>\r\n   </g>\r\n   <g id=\"text_32\">\r\n    <!-- 0.13 -->\r\n    <g style=\"fill:#ffffff;\" transform=\"translate(159.586375 209.454594)scale(0.1 -0.1)\">\r\n     <use xlink:href=\"#DejaVuSans-30\"/>\r\n     <use x=\"63.623047\" xlink:href=\"#DejaVuSans-2e\"/>\r\n     <use x=\"95.410156\" xlink:href=\"#DejaVuSans-31\"/>\r\n     <use x=\"159.033203\" xlink:href=\"#DejaVuSans-33\"/>\r\n    </g>\r\n   </g>\r\n   <g id=\"text_33\">\r\n    <!-- 0.54 -->\r\n    <g style=\"fill:#ffffff;\" transform=\"translate(213.154375 209.454594)scale(0.1 -0.1)\">\r\n     <use xlink:href=\"#DejaVuSans-30\"/>\r\n     <use x=\"63.623047\" xlink:href=\"#DejaVuSans-2e\"/>\r\n     <use x=\"95.410156\" xlink:href=\"#DejaVuSans-35\"/>\r\n     <use x=\"159.033203\" xlink:href=\"#DejaVuSans-34\"/>\r\n    </g>\r\n   </g>\r\n   <g id=\"text_34\">\r\n    <!-- 0.091 -->\r\n    <g style=\"fill:#ffffff;\" transform=\"translate(263.541125 209.454594)scale(0.1 -0.1)\">\r\n     <use xlink:href=\"#DejaVuSans-30\"/>\r\n     <use x=\"63.623047\" xlink:href=\"#DejaVuSans-2e\"/>\r\n     <use x=\"95.410156\" xlink:href=\"#DejaVuSans-30\"/>\r\n     <use x=\"159.033203\" xlink:href=\"#DejaVuSans-39\"/>\r\n     <use x=\"222.65625\" xlink:href=\"#DejaVuSans-31\"/>\r\n    </g>\r\n   </g>\r\n   <g id=\"text_35\">\r\n    <!-- 1 -->\r\n    <g style=\"fill:#262626;\" transform=\"translate(328.241938 209.454594)scale(0.1 -0.1)\">\r\n     <use xlink:href=\"#DejaVuSans-31\"/>\r\n    </g>\r\n   </g>\r\n  </g>\r\n  <g id=\"axes_2\">\r\n   <g id=\"patch_3\">\r\n    <path d=\"M 374.947188 228.439219 \r\nL 385.819188 228.439219 \r\nL 385.819188 10.999219 \r\nL 374.947188 10.999219 \r\nz\r\n\" style=\"fill:#ffffff;\"/>\r\n   </g>\r\n   <g id=\"patch_4\">\r\n    <path clip-path=\"url(#pbb82fcce39)\" d=\"M 374.947188 228.439219 \r\nL 374.947188 227.589844 \r\nL 374.947188 11.848594 \r\nL 374.947188 10.999219 \r\nL 385.819188 10.999219 \r\nL 385.819188 11.848594 \r\nL 385.819188 227.589844 \r\nL 385.819188 228.439219 \r\nL 385.819188 228.439219 \r\nz\r\n\" style=\"fill:#ffffff;stroke:#ffffff;stroke-linejoin:miter;stroke-width:0.01;\"/>\r\n   </g>\r\n   <image height=\"218\" id=\"image1563962a77\" transform=\"scale(1 -1)translate(0 -218)\" width=\"11\" x=\"375\" xlink:href=\"data:image/png;base64,\r\niVBORw0KGgoAAAANSUhEUgAAAAsAAADaCAYAAABwzrisAAABWklEQVR4nNWayQ0DUQjF2KaJ9F9nJi3ggyWSM3oyhj+bkv183lj+JreVETGZ+3JYHKC4q6Tk0hosgoGSkQ0P44jnTs/Gia1DDYpDuZFsjluzcaTBdam7G5oNiLH/mVd+UjzaPjMb3ri1ZG/5PXXQBsAQ1WnMyMYRZoTBTjdJZg2u3yX+1gYpJjY8jLmBwcZNmAdhHLGhYcy7jxbPYGkYHSSZebaYoWeAwWygYjBvUV2Ca8E0KS5SjDBg8ro2pusrJYsNgkPImKuBDcgMMJA60cZou4GYNXUFHmUYRni74RWD554JDQMmgydzlgweTyYIhsfMMMBtEyaTTxYoGRaT73WajSCfDT0bSWxEt4SBhuJ5ztEaFMdNktEZBK+8qg0yQYTRqEHNM0u21MHTrWF4DaJkbzeO2EANegc2b2ydaIM0eGP5sx8p2Vx+4pmMG/3L4kqDbNzefVBq8AdeqionqZ5TqwAAAABJRU5ErkJggg==\" y=\"-10\"/>\r\n   <g id=\"matplotlib.axis_3\"/>\r\n   <g id=\"matplotlib.axis_4\">\r\n    <g id=\"ytick_6\">\r\n     <g id=\"line2d_11\">\r\n      <defs>\r\n       <path d=\"M 0 0 \r\nL 3.5 0 \r\n\" id=\"m26a17adb52\" style=\"stroke:#000000;stroke-width:0.8;\"/>\r\n      </defs>\r\n      <g>\r\n       <use style=\"stroke:#000000;stroke-width:0.8;\" x=\"385.819188\" xlink:href=\"#m26a17adb52\" y=\"208.32514\"/>\r\n      </g>\r\n     </g>\r\n     <g id=\"text_36\">\r\n      <!-- 0.0 -->\r\n      <g transform=\"translate(392.819188 212.124359)scale(0.1 -0.1)\">\r\n       <use xlink:href=\"#DejaVuSans-30\"/>\r\n       <use x=\"63.623047\" xlink:href=\"#DejaVuSans-2e\"/>\r\n       <use x=\"95.410156\" xlink:href=\"#DejaVuSans-30\"/>\r\n      </g>\r\n     </g>\r\n    </g>\r\n    <g id=\"ytick_7\">\r\n     <g id=\"line2d_12\">\r\n      <g>\r\n       <use style=\"stroke:#000000;stroke-width:0.8;\" x=\"385.819188\" xlink:href=\"#m26a17adb52\" y=\"168.859956\"/>\r\n      </g>\r\n     </g>\r\n     <g id=\"text_37\">\r\n      <!-- 0.2 -->\r\n      <g transform=\"translate(392.819188 172.659175)scale(0.1 -0.1)\">\r\n       <use xlink:href=\"#DejaVuSans-30\"/>\r\n       <use x=\"63.623047\" xlink:href=\"#DejaVuSans-2e\"/>\r\n       <use x=\"95.410156\" xlink:href=\"#DejaVuSans-32\"/>\r\n      </g>\r\n     </g>\r\n    </g>\r\n    <g id=\"ytick_8\">\r\n     <g id=\"line2d_13\">\r\n      <g>\r\n       <use style=\"stroke:#000000;stroke-width:0.8;\" x=\"385.819188\" xlink:href=\"#m26a17adb52\" y=\"129.394772\"/>\r\n      </g>\r\n     </g>\r\n     <g id=\"text_38\">\r\n      <!-- 0.4 -->\r\n      <g transform=\"translate(392.819188 133.19399)scale(0.1 -0.1)\">\r\n       <use xlink:href=\"#DejaVuSans-30\"/>\r\n       <use x=\"63.623047\" xlink:href=\"#DejaVuSans-2e\"/>\r\n       <use x=\"95.410156\" xlink:href=\"#DejaVuSans-34\"/>\r\n      </g>\r\n     </g>\r\n    </g>\r\n    <g id=\"ytick_9\">\r\n     <g id=\"line2d_14\">\r\n      <g>\r\n       <use style=\"stroke:#000000;stroke-width:0.8;\" x=\"385.819188\" xlink:href=\"#m26a17adb52\" y=\"89.929587\"/>\r\n      </g>\r\n     </g>\r\n     <g id=\"text_39\">\r\n      <!-- 0.6 -->\r\n      <g transform=\"translate(392.819188 93.728806)scale(0.1 -0.1)\">\r\n       <defs>\r\n        <path d=\"M 2113 2584 \r\nQ 1688 2584 1439 2293 \r\nQ 1191 2003 1191 1497 \r\nQ 1191 994 1439 701 \r\nQ 1688 409 2113 409 \r\nQ 2538 409 2786 701 \r\nQ 3034 994 3034 1497 \r\nQ 3034 2003 2786 2293 \r\nQ 2538 2584 2113 2584 \r\nz\r\nM 3366 4563 \r\nL 3366 3988 \r\nQ 3128 4100 2886 4159 \r\nQ 2644 4219 2406 4219 \r\nQ 1781 4219 1451 3797 \r\nQ 1122 3375 1075 2522 \r\nQ 1259 2794 1537 2939 \r\nQ 1816 3084 2150 3084 \r\nQ 2853 3084 3261 2657 \r\nQ 3669 2231 3669 1497 \r\nQ 3669 778 3244 343 \r\nQ 2819 -91 2113 -91 \r\nQ 1303 -91 875 529 \r\nQ 447 1150 447 2328 \r\nQ 447 3434 972 4092 \r\nQ 1497 4750 2381 4750 \r\nQ 2619 4750 2861 4703 \r\nQ 3103 4656 3366 4563 \r\nz\r\n\" id=\"DejaVuSans-36\" transform=\"scale(0.015625)\"/>\r\n       </defs>\r\n       <use xlink:href=\"#DejaVuSans-30\"/>\r\n       <use x=\"63.623047\" xlink:href=\"#DejaVuSans-2e\"/>\r\n       <use x=\"95.410156\" xlink:href=\"#DejaVuSans-36\"/>\r\n      </g>\r\n     </g>\r\n    </g>\r\n    <g id=\"ytick_10\">\r\n     <g id=\"line2d_15\">\r\n      <g>\r\n       <use style=\"stroke:#000000;stroke-width:0.8;\" x=\"385.819188\" xlink:href=\"#m26a17adb52\" y=\"50.464403\"/>\r\n      </g>\r\n     </g>\r\n     <g id=\"text_40\">\r\n      <!-- 0.8 -->\r\n      <g transform=\"translate(392.819188 54.263622)scale(0.1 -0.1)\">\r\n       <use xlink:href=\"#DejaVuSans-30\"/>\r\n       <use x=\"63.623047\" xlink:href=\"#DejaVuSans-2e\"/>\r\n       <use x=\"95.410156\" xlink:href=\"#DejaVuSans-38\"/>\r\n      </g>\r\n     </g>\r\n    </g>\r\n    <g id=\"ytick_11\">\r\n     <g id=\"line2d_16\">\r\n      <g>\r\n       <use style=\"stroke:#000000;stroke-width:0.8;\" x=\"385.819188\" xlink:href=\"#m26a17adb52\" y=\"10.999219\"/>\r\n      </g>\r\n     </g>\r\n     <g id=\"text_41\">\r\n      <!-- 1.0 -->\r\n      <g transform=\"translate(392.819188 14.798438)scale(0.1 -0.1)\">\r\n       <use xlink:href=\"#DejaVuSans-31\"/>\r\n       <use x=\"63.623047\" xlink:href=\"#DejaVuSans-2e\"/>\r\n       <use x=\"95.410156\" xlink:href=\"#DejaVuSans-30\"/>\r\n      </g>\r\n     </g>\r\n    </g>\r\n   </g>\r\n   <g id=\"LineCollection_1\"/>\r\n   <g id=\"patch_5\">\r\n    <path d=\"M 374.947188 228.439219 \r\nL 374.947188 227.589844 \r\nL 374.947188 11.848594 \r\nL 374.947188 10.999219 \r\nL 385.819188 10.999219 \r\nL 385.819188 11.848594 \r\nL 385.819188 227.589844 \r\nL 385.819188 228.439219 \r\nz\r\n\" style=\"fill:none;\"/>\r\n   </g>\r\n  </g>\r\n </g>\r\n <defs>\r\n  <clipPath id=\"p9259698b61\">\r\n   <rect height=\"217.44\" width=\"267.84\" x=\"90.367188\" y=\"10.999219\"/>\r\n  </clipPath>\r\n  <clipPath id=\"pbb82fcce39\">\r\n   <rect height=\"217.44\" width=\"10.872\" x=\"374.947188\" y=\"10.999219\"/>\r\n  </clipPath>\r\n </defs>\r\n</svg>\r\n",
      "image/png": "[encoded data removed]"
     },
     "metadata": {
      "needs_background": "light"
     }
    }
   ],
   "source": [
    "import seaborn as sns \n",
    "sns.heatmap(df.corr(), annot=True)"
   ]
  },
  {
   "cell_type": "code",
   "execution_count": 10,
   "metadata": {},
   "outputs": [],
   "source": [
    "X = df.drop(\"days\", axis=1)\n",
    "y = df[\"days\"]"
   ]
  },
  {
   "cell_type": "code",
   "execution_count": 21,
   "metadata": {},
   "outputs": [],
   "source": []
  },
  {
   "cell_type": "code",
   "execution_count": null,
   "metadata": {},
   "outputs": [],
   "source": []
  },
  {
   "source": [
    "### TRAIN, TEST SPLIT"
   ],
   "cell_type": "markdown",
   "metadata": {}
  },
  {
   "cell_type": "code",
   "execution_count": 11,
   "metadata": {},
   "outputs": [],
   "source": [
    "X_train, X_test, y_train, y_test = train_test_split(X, y, test_size = 0.20, random_state = 666)"
   ]
  },
  {
   "source": [
    "### ESTIMATORS\n"
   ],
   "cell_type": "markdown",
   "metadata": {}
  },
  {
   "cell_type": "code",
   "execution_count": 14,
   "metadata": {},
   "outputs": [],
   "source": [
    "from sklearn.ensemble import BaggingClassifier\n",
    "from sklearn.tree import DecisionTreeClassifier\n",
    "from sklearn import model_selection\n",
    "\n",
    "kfold = model_selection.KFold(n_splits=10)\n",
    "cart = DecisionTreeClassifier()\n",
    "num_trees = 100\n",
    "\n",
    "model = BaggingClassifier(base_estimator = cart,\n",
    "                         n_estimators = num_trees,\n",
    "                         random_state = 235)\n",
    "\n",
    "res_bg = model_selection.cross_val_score(model, X_train, y_train, cv=kfold).mean()"
   ]
  },
  {
   "cell_type": "code",
   "execution_count": 15,
   "metadata": {},
   "outputs": [],
   "source": [
    "from sklearn.ensemble import RandomForestClassifier\n",
    "\n",
    "num_trees = 100\n",
    "max_features = 3\n",
    "model = RandomForestClassifier(n_estimators = num_trees, max_features = max_features)\n",
    "res_rfc = model_selection.cross_val_score(model, X_train, y_train, cv=kfold).mean()"
   ]
  },
  {
   "cell_type": "code",
   "execution_count": 16,
   "metadata": {},
   "outputs": [],
   "source": [
    "from sklearn.ensemble import AdaBoostClassifier\n",
    "\n",
    "num_trees = 30\n",
    "\n",
    "model = AdaBoostClassifier(n_estimators = num_trees, random_state=235)\n",
    "res_abc = model_selection.cross_val_score(model, X_train, y_train, cv=kfold).mean()"
   ]
  },
  {
   "cell_type": "code",
   "execution_count": 18,
   "metadata": {},
   "outputs": [],
   "source": [
    "from sklearn.ensemble import GradientBoostingClassifier\n",
    "\n",
    "num_trees = 100\n",
    "\n",
    "model = GradientBoostingClassifier(n_estimators = num_trees, random_state=235)\n",
    "res_gbc = model_selection.cross_val_score(model, X_train, y_train, cv=kfold).mean()"
   ]
  },
  {
   "cell_type": "code",
   "execution_count": 19,
   "metadata": {},
   "outputs": [
    {
     "output_type": "execute_result",
     "data": {
      "text/plain": [
       "GradientBoosting    0.342225\n",
       "Bagging DT          0.336950\n",
       "Random Forest       0.336850\n",
       "Ada Boost           0.335425\n",
       "dtype: float64"
      ]
     },
     "metadata": {},
     "execution_count": 19
    }
   ],
   "source": [
    "resul = [ res_gbc, res_abc, res_rfc, res_bg]\n",
    "algori = [ \"GradientBoosting\", \"Ada Boost\", \"Random Forest\", \"Bagging DT\"]\n",
    "\n",
    "resultados = pd.Series(resul, algori).sort_values(ascending=False)\n",
    "resultados"
   ]
  },
  {
   "cell_type": "code",
   "execution_count": 13,
   "metadata": {},
   "outputs": [],
   "source": [
    "from sklearn.ensemble import GradientBoostingClassifier\n",
    "boosting = GradientBoostingClassifier(n_estimators=100, learning_rate=1.0,\n",
    "max_depth=1, random_state=240).fit(X_train, y_train)"
   ]
  },
  {
   "cell_type": "code",
   "execution_count": 18,
   "metadata": {},
   "outputs": [],
   "source": [
    "y_pred = boosting.predict(X_test)"
   ]
  },
  {
   "cell_type": "code",
   "execution_count": 20,
   "metadata": {},
   "outputs": [
    {
     "output_type": "execute_result",
     "data": {
      "text/plain": [
       "0.3191"
      ]
     },
     "metadata": {},
     "execution_count": 20
    }
   ],
   "source": [
    "boosting.score(X_train, y_train)"
   ]
  },
  {
   "cell_type": "code",
   "execution_count": 21,
   "metadata": {},
   "outputs": [
    {
     "output_type": "execute_result",
     "data": {
      "text/plain": [
       "0.3175"
      ]
     },
     "metadata": {},
     "execution_count": 21
    }
   ],
   "source": [
    "boosting.score(X_test, y_test)"
   ]
  },
  {
   "cell_type": "code",
   "execution_count": 26,
   "metadata": {},
   "outputs": [],
   "source": [
    "import pickle\n",
    "filename = 'finished_model.sav'\n",
    "pickle.dump(boosting, open(filename, 'wb'))"
   ]
  },
  {
   "source": [
    "## TEST"
   ],
   "cell_type": "markdown",
   "metadata": {}
  },
  {
   "cell_type": "code",
   "execution_count": 27,
   "metadata": {},
   "outputs": [
    {
     "output_type": "execute_result",
     "data": {
      "text/plain": [
       "             0   1  2   3  4  5                   6  7  8    9      10    11  \\\n",
       "0       314114  19  a   7  Y  4          gynecology  S  C  2.0   59278   8.0   \n",
       "1       208989  15  c   5  Z  3          gynecology  S  F  2.0  102253  15.0   \n",
       "2       305872  17  e   1  X  4          gynecology  R  E  4.0    5828   4.0   \n",
       "3       266099   3  c   3  Z  4  TB & Chest disease  R  A  2.0   56642   9.0   \n",
       "4        13228   6  a   6  X  4          gynecology  R  F  1.0  116266   8.0   \n",
       "...        ...  .. ..  .. .. ..                 ... .. ..  ...     ...   ...   \n",
       "133739  318155  18  d  13  Y  6          anesthesia  Q  B  3.0  123269  25.0   \n",
       "133740  144850  27  a   7  Y  2          gynecology  S  C  2.0    1293   8.0   \n",
       "133741  180676  16  c   3  Z  3          gynecology  R  A  3.0  112921   5.0   \n",
       "133742   39933  28  b  11  X  4          gynecology  R  F  2.0     585   2.0   \n",
       "133743  116673   6  a   6  X  4  TB & Chest disease  Q  F  2.0  119482  12.0   \n",
       "\n",
       "               12        13  14     15      16  \n",
       "0       Emergency     Minor   2  41-50  4778.0  \n",
       "1          Trauma  Moderate   3  31-40  5734.0  \n",
       "2       Emergency     Minor   3  71-80  5064.0  \n",
       "3          Urgent   Extreme   4  31-40  3254.0  \n",
       "4       Emergency     Minor   3  21-30  4639.0  \n",
       "...           ...       ...  ..    ...     ...  \n",
       "133739     Urgent     Minor   4  51-60  5089.0  \n",
       "133740  Emergency  Moderate   3  61-70  6713.0  \n",
       "133741     Trauma     Minor   3  31-40  5326.0  \n",
       "133742     Trauma   Extreme   2  31-40  7072.0  \n",
       "133743     Trauma  Moderate   4  51-60  5221.0  \n",
       "\n",
       "[133744 rows x 17 columns]"
      ],
      "text/html": "<div>\n<style scoped>\n    .dataframe tbody tr th:only-of-type {\n        vertical-align: middle;\n    }\n\n    .dataframe tbody tr th {\n        vertical-align: top;\n    }\n\n    .dataframe thead th {\n        text-align: right;\n    }\n</style>\n<table border=\"1\" class=\"dataframe\">\n  <thead>\n    <tr style=\"text-align: right;\">\n      <th></th>\n      <th>0</th>\n      <th>1</th>\n      <th>2</th>\n      <th>3</th>\n      <th>4</th>\n      <th>5</th>\n      <th>6</th>\n      <th>7</th>\n      <th>8</th>\n      <th>9</th>\n      <th>10</th>\n      <th>11</th>\n      <th>12</th>\n      <th>13</th>\n      <th>14</th>\n      <th>15</th>\n      <th>16</th>\n    </tr>\n  </thead>\n  <tbody>\n    <tr>\n      <th>0</th>\n      <td>314114</td>\n      <td>19</td>\n      <td>a</td>\n      <td>7</td>\n      <td>Y</td>\n      <td>4</td>\n      <td>gynecology</td>\n      <td>S</td>\n      <td>C</td>\n      <td>2.0</td>\n      <td>59278</td>\n      <td>8.0</td>\n      <td>Emergency</td>\n      <td>Minor</td>\n      <td>2</td>\n      <td>41-50</td>\n      <td>4778.0</td>\n    </tr>\n    <tr>\n      <th>1</th>\n      <td>208989</td>\n      <td>15</td>\n      <td>c</td>\n      <td>5</td>\n      <td>Z</td>\n      <td>3</td>\n      <td>gynecology</td>\n      <td>S</td>\n      <td>F</td>\n      <td>2.0</td>\n      <td>102253</td>\n      <td>15.0</td>\n      <td>Trauma</td>\n      <td>Moderate</td>\n      <td>3</td>\n      <td>31-40</td>\n      <td>5734.0</td>\n    </tr>\n    <tr>\n      <th>2</th>\n      <td>305872</td>\n      <td>17</td>\n      <td>e</td>\n      <td>1</td>\n      <td>X</td>\n      <td>4</td>\n      <td>gynecology</td>\n      <td>R</td>\n      <td>E</td>\n      <td>4.0</td>\n      <td>5828</td>\n      <td>4.0</td>\n      <td>Emergency</td>\n      <td>Minor</td>\n      <td>3</td>\n      <td>71-80</td>\n      <td>5064.0</td>\n    </tr>\n    <tr>\n      <th>3</th>\n      <td>266099</td>\n      <td>3</td>\n      <td>c</td>\n      <td>3</td>\n      <td>Z</td>\n      <td>4</td>\n      <td>TB &amp; Chest disease</td>\n      <td>R</td>\n      <td>A</td>\n      <td>2.0</td>\n      <td>56642</td>\n      <td>9.0</td>\n      <td>Urgent</td>\n      <td>Extreme</td>\n      <td>4</td>\n      <td>31-40</td>\n      <td>3254.0</td>\n    </tr>\n    <tr>\n      <th>4</th>\n      <td>13228</td>\n      <td>6</td>\n      <td>a</td>\n      <td>6</td>\n      <td>X</td>\n      <td>4</td>\n      <td>gynecology</td>\n      <td>R</td>\n      <td>F</td>\n      <td>1.0</td>\n      <td>116266</td>\n      <td>8.0</td>\n      <td>Emergency</td>\n      <td>Minor</td>\n      <td>3</td>\n      <td>21-30</td>\n      <td>4639.0</td>\n    </tr>\n    <tr>\n      <th>...</th>\n      <td>...</td>\n      <td>...</td>\n      <td>...</td>\n      <td>...</td>\n      <td>...</td>\n      <td>...</td>\n      <td>...</td>\n      <td>...</td>\n      <td>...</td>\n      <td>...</td>\n      <td>...</td>\n      <td>...</td>\n      <td>...</td>\n      <td>...</td>\n      <td>...</td>\n      <td>...</td>\n      <td>...</td>\n    </tr>\n    <tr>\n      <th>133739</th>\n      <td>318155</td>\n      <td>18</td>\n      <td>d</td>\n      <td>13</td>\n      <td>Y</td>\n      <td>6</td>\n      <td>anesthesia</td>\n      <td>Q</td>\n      <td>B</td>\n      <td>3.0</td>\n      <td>123269</td>\n      <td>25.0</td>\n      <td>Urgent</td>\n      <td>Minor</td>\n      <td>4</td>\n      <td>51-60</td>\n      <td>5089.0</td>\n    </tr>\n    <tr>\n      <th>133740</th>\n      <td>144850</td>\n      <td>27</td>\n      <td>a</td>\n      <td>7</td>\n      <td>Y</td>\n      <td>2</td>\n      <td>gynecology</td>\n      <td>S</td>\n      <td>C</td>\n      <td>2.0</td>\n      <td>1293</td>\n      <td>8.0</td>\n      <td>Emergency</td>\n      <td>Moderate</td>\n      <td>3</td>\n      <td>61-70</td>\n      <td>6713.0</td>\n    </tr>\n    <tr>\n      <th>133741</th>\n      <td>180676</td>\n      <td>16</td>\n      <td>c</td>\n      <td>3</td>\n      <td>Z</td>\n      <td>3</td>\n      <td>gynecology</td>\n      <td>R</td>\n      <td>A</td>\n      <td>3.0</td>\n      <td>112921</td>\n      <td>5.0</td>\n      <td>Trauma</td>\n      <td>Minor</td>\n      <td>3</td>\n      <td>31-40</td>\n      <td>5326.0</td>\n    </tr>\n    <tr>\n      <th>133742</th>\n      <td>39933</td>\n      <td>28</td>\n      <td>b</td>\n      <td>11</td>\n      <td>X</td>\n      <td>4</td>\n      <td>gynecology</td>\n      <td>R</td>\n      <td>F</td>\n      <td>2.0</td>\n      <td>585</td>\n      <td>2.0</td>\n      <td>Trauma</td>\n      <td>Extreme</td>\n      <td>2</td>\n      <td>31-40</td>\n      <td>7072.0</td>\n    </tr>\n    <tr>\n      <th>133743</th>\n      <td>116673</td>\n      <td>6</td>\n      <td>a</td>\n      <td>6</td>\n      <td>X</td>\n      <td>4</td>\n      <td>TB &amp; Chest disease</td>\n      <td>Q</td>\n      <td>F</td>\n      <td>2.0</td>\n      <td>119482</td>\n      <td>12.0</td>\n      <td>Trauma</td>\n      <td>Moderate</td>\n      <td>4</td>\n      <td>51-60</td>\n      <td>5221.0</td>\n    </tr>\n  </tbody>\n</table>\n<p>133744 rows × 17 columns</p>\n</div>"
     },
     "metadata": {},
     "execution_count": 27
    }
   ],
   "source": [
    "df = pd.read_csv(\"hospital_test.csv\")\n",
    "df"
   ]
  },
  {
   "cell_type": "code",
   "execution_count": 28,
   "metadata": {},
   "outputs": [
    {
     "output_type": "execute_result",
     "data": {
      "text/plain": [
       "         1  2   3  4  5                   6  7  8    9      10    11  \\\n",
       "id                                                                     \n",
       "314114  19  a   7  Y  4          gynecology  S  C  2.0   59278   8.0   \n",
       "208989  15  c   5  Z  3          gynecology  S  F  2.0  102253  15.0   \n",
       "305872  17  e   1  X  4          gynecology  R  E  4.0    5828   4.0   \n",
       "266099   3  c   3  Z  4  TB & Chest disease  R  A  2.0   56642   9.0   \n",
       "13228    6  a   6  X  4          gynecology  R  F  1.0  116266   8.0   \n",
       "...     .. ..  .. .. ..                 ... .. ..  ...     ...   ...   \n",
       "318155  18  d  13  Y  6          anesthesia  Q  B  3.0  123269  25.0   \n",
       "144850  27  a   7  Y  2          gynecology  S  C  2.0    1293   8.0   \n",
       "180676  16  c   3  Z  3          gynecology  R  A  3.0  112921   5.0   \n",
       "39933   28  b  11  X  4          gynecology  R  F  2.0     585   2.0   \n",
       "116673   6  a   6  X  4  TB & Chest disease  Q  F  2.0  119482  12.0   \n",
       "\n",
       "       admission type  severity  visitors    age      16  \n",
       "id                                                        \n",
       "314114      Emergency     Minor         2  41-50  4778.0  \n",
       "208989         Trauma  Moderate         3  31-40  5734.0  \n",
       "305872      Emergency     Minor         3  71-80  5064.0  \n",
       "266099         Urgent   Extreme         4  31-40  3254.0  \n",
       "13228       Emergency     Minor         3  21-30  4639.0  \n",
       "...               ...       ...       ...    ...     ...  \n",
       "318155         Urgent     Minor         4  51-60  5089.0  \n",
       "144850      Emergency  Moderate         3  61-70  6713.0  \n",
       "180676         Trauma     Minor         3  31-40  5326.0  \n",
       "39933          Trauma   Extreme         2  31-40  7072.0  \n",
       "116673         Trauma  Moderate         4  51-60  5221.0  \n",
       "\n",
       "[133744 rows x 16 columns]"
      ],
      "text/html": "<div>\n<style scoped>\n    .dataframe tbody tr th:only-of-type {\n        vertical-align: middle;\n    }\n\n    .dataframe tbody tr th {\n        vertical-align: top;\n    }\n\n    .dataframe thead th {\n        text-align: right;\n    }\n</style>\n<table border=\"1\" class=\"dataframe\">\n  <thead>\n    <tr style=\"text-align: right;\">\n      <th></th>\n      <th>1</th>\n      <th>2</th>\n      <th>3</th>\n      <th>4</th>\n      <th>5</th>\n      <th>6</th>\n      <th>7</th>\n      <th>8</th>\n      <th>9</th>\n      <th>10</th>\n      <th>11</th>\n      <th>admission type</th>\n      <th>severity</th>\n      <th>visitors</th>\n      <th>age</th>\n      <th>16</th>\n    </tr>\n    <tr>\n      <th>id</th>\n      <th></th>\n      <th></th>\n      <th></th>\n      <th></th>\n      <th></th>\n      <th></th>\n      <th></th>\n      <th></th>\n      <th></th>\n      <th></th>\n      <th></th>\n      <th></th>\n      <th></th>\n      <th></th>\n      <th></th>\n      <th></th>\n    </tr>\n  </thead>\n  <tbody>\n    <tr>\n      <th>314114</th>\n      <td>19</td>\n      <td>a</td>\n      <td>7</td>\n      <td>Y</td>\n      <td>4</td>\n      <td>gynecology</td>\n      <td>S</td>\n      <td>C</td>\n      <td>2.0</td>\n      <td>59278</td>\n      <td>8.0</td>\n      <td>Emergency</td>\n      <td>Minor</td>\n      <td>2</td>\n      <td>41-50</td>\n      <td>4778.0</td>\n    </tr>\n    <tr>\n      <th>208989</th>\n      <td>15</td>\n      <td>c</td>\n      <td>5</td>\n      <td>Z</td>\n      <td>3</td>\n      <td>gynecology</td>\n      <td>S</td>\n      <td>F</td>\n      <td>2.0</td>\n      <td>102253</td>\n      <td>15.0</td>\n      <td>Trauma</td>\n      <td>Moderate</td>\n      <td>3</td>\n      <td>31-40</td>\n      <td>5734.0</td>\n    </tr>\n    <tr>\n      <th>305872</th>\n      <td>17</td>\n      <td>e</td>\n      <td>1</td>\n      <td>X</td>\n      <td>4</td>\n      <td>gynecology</td>\n      <td>R</td>\n      <td>E</td>\n      <td>4.0</td>\n      <td>5828</td>\n      <td>4.0</td>\n      <td>Emergency</td>\n      <td>Minor</td>\n      <td>3</td>\n      <td>71-80</td>\n      <td>5064.0</td>\n    </tr>\n    <tr>\n      <th>266099</th>\n      <td>3</td>\n      <td>c</td>\n      <td>3</td>\n      <td>Z</td>\n      <td>4</td>\n      <td>TB &amp; Chest disease</td>\n      <td>R</td>\n      <td>A</td>\n      <td>2.0</td>\n      <td>56642</td>\n      <td>9.0</td>\n      <td>Urgent</td>\n      <td>Extreme</td>\n      <td>4</td>\n      <td>31-40</td>\n      <td>3254.0</td>\n    </tr>\n    <tr>\n      <th>13228</th>\n      <td>6</td>\n      <td>a</td>\n      <td>6</td>\n      <td>X</td>\n      <td>4</td>\n      <td>gynecology</td>\n      <td>R</td>\n      <td>F</td>\n      <td>1.0</td>\n      <td>116266</td>\n      <td>8.0</td>\n      <td>Emergency</td>\n      <td>Minor</td>\n      <td>3</td>\n      <td>21-30</td>\n      <td>4639.0</td>\n    </tr>\n    <tr>\n      <th>...</th>\n      <td>...</td>\n      <td>...</td>\n      <td>...</td>\n      <td>...</td>\n      <td>...</td>\n      <td>...</td>\n      <td>...</td>\n      <td>...</td>\n      <td>...</td>\n      <td>...</td>\n      <td>...</td>\n      <td>...</td>\n      <td>...</td>\n      <td>...</td>\n      <td>...</td>\n      <td>...</td>\n    </tr>\n    <tr>\n      <th>318155</th>\n      <td>18</td>\n      <td>d</td>\n      <td>13</td>\n      <td>Y</td>\n      <td>6</td>\n      <td>anesthesia</td>\n      <td>Q</td>\n      <td>B</td>\n      <td>3.0</td>\n      <td>123269</td>\n      <td>25.0</td>\n      <td>Urgent</td>\n      <td>Minor</td>\n      <td>4</td>\n      <td>51-60</td>\n      <td>5089.0</td>\n    </tr>\n    <tr>\n      <th>144850</th>\n      <td>27</td>\n      <td>a</td>\n      <td>7</td>\n      <td>Y</td>\n      <td>2</td>\n      <td>gynecology</td>\n      <td>S</td>\n      <td>C</td>\n      <td>2.0</td>\n      <td>1293</td>\n      <td>8.0</td>\n      <td>Emergency</td>\n      <td>Moderate</td>\n      <td>3</td>\n      <td>61-70</td>\n      <td>6713.0</td>\n    </tr>\n    <tr>\n      <th>180676</th>\n      <td>16</td>\n      <td>c</td>\n      <td>3</td>\n      <td>Z</td>\n      <td>3</td>\n      <td>gynecology</td>\n      <td>R</td>\n      <td>A</td>\n      <td>3.0</td>\n      <td>112921</td>\n      <td>5.0</td>\n      <td>Trauma</td>\n      <td>Minor</td>\n      <td>3</td>\n      <td>31-40</td>\n      <td>5326.0</td>\n    </tr>\n    <tr>\n      <th>39933</th>\n      <td>28</td>\n      <td>b</td>\n      <td>11</td>\n      <td>X</td>\n      <td>4</td>\n      <td>gynecology</td>\n      <td>R</td>\n      <td>F</td>\n      <td>2.0</td>\n      <td>585</td>\n      <td>2.0</td>\n      <td>Trauma</td>\n      <td>Extreme</td>\n      <td>2</td>\n      <td>31-40</td>\n      <td>7072.0</td>\n    </tr>\n    <tr>\n      <th>116673</th>\n      <td>6</td>\n      <td>a</td>\n      <td>6</td>\n      <td>X</td>\n      <td>4</td>\n      <td>TB &amp; Chest disease</td>\n      <td>Q</td>\n      <td>F</td>\n      <td>2.0</td>\n      <td>119482</td>\n      <td>12.0</td>\n      <td>Trauma</td>\n      <td>Moderate</td>\n      <td>4</td>\n      <td>51-60</td>\n      <td>5221.0</td>\n    </tr>\n  </tbody>\n</table>\n<p>133744 rows × 16 columns</p>\n</div>"
     },
     "metadata": {},
     "execution_count": 28
    }
   ],
   "source": [
    "df.rename(columns={'17': 'days', \"15\": \"age\", \"14\": \"visitors\", \"13\":\"severity\", \"12\": \"admission type\", \"0\": \"id\"}, inplace=True)\n",
    "df.set_index(\"id\", inplace=True)\n",
    "df"
   ]
  },
  {
   "cell_type": "code",
   "execution_count": 29,
   "metadata": {},
   "outputs": [],
   "source": [
    "encoder = OrdinalEncoder(categories=[['Trauma', 'Emergency', 'Urgent']])\n",
    "encoder.fit(df[[\"admission type\"]])\n",
    "encoded_type = encoder.transform(df[[\"admission type\"]])\n",
    "df[\"admission type\"] = encoded_type\n",
    "\n",
    "encoder1 = OrdinalEncoder(categories=[['Minor', 'Moderate', 'Extreme']])\n",
    "encoder1.fit(df[[\"severity\"]])\n",
    "encoded_severity = encoder1.transform(df[[\"severity\"]])\n",
    "df[\"severity\"] = encoded_severity\n",
    "\n",
    "encoder2 = OrdinalEncoder(categories=[['0-10', '11-20', '21-30', '31-40', '41-50', '51-60', '61-70', '71-80', '81-90', '91-100' ]])\n",
    "encoder2.fit(df[[\"age\"]])\n",
    "encoded_age = encoder2.transform(df[[\"age\"]])\n",
    "df[\"age\"] = encoded_age"
   ]
  },
  {
   "cell_type": "code",
   "execution_count": 30,
   "metadata": {},
   "outputs": [],
   "source": [
    "X_pred = df[[\"admission type\", \"severity\", \"visitors\", \"age\"]]"
   ]
  },
  {
   "cell_type": "code",
   "execution_count": 31,
   "metadata": {},
   "outputs": [
    {
     "output_type": "execute_result",
     "data": {
      "text/plain": [
       "array([1., 2., 1., ..., 2., 2., 2.])"
      ]
     },
     "metadata": {},
     "execution_count": 31
    }
   ],
   "source": [
    "predictions_submit = boosting.predict(X_pred)\n",
    "predictions_submit"
   ]
  },
  {
   "cell_type": "code",
   "execution_count": 32,
   "metadata": {},
   "outputs": [
    {
     "output_type": "execute_result",
     "data": {
      "text/plain": [
       "Int64Index([314114, 208989, 305872, 266099,  13228, 181868, 306919, 281736,\n",
       "            102076, 294069,\n",
       "            ...\n",
       "            296167, 190912, 225943, 225880, 173771, 318155, 144850, 180676,\n",
       "             39933, 116673],\n",
       "           dtype='int64', name='id', length=133744)"
      ]
     },
     "metadata": {},
     "execution_count": 32
    }
   ],
   "source": [
    "df.index"
   ]
  },
  {
   "cell_type": "code",
   "execution_count": 33,
   "metadata": {},
   "outputs": [],
   "source": [
    "predictions = pd.DataFrame({\"id\": df.index, \"days\": predictions_submit})\n",
    "predictions.set_index(\"id\", inplace=True)"
   ]
  },
  {
   "cell_type": "code",
   "execution_count": 56,
   "metadata": {},
   "outputs": [],
   "source": [
    "predictions[\"days\"] = predictions[\"days\"].astype(\"object\")"
   ]
  },
  {
   "cell_type": "code",
   "execution_count": 57,
   "metadata": {},
   "outputs": [
    {
     "output_type": "execute_result",
     "data": {
      "text/plain": [
       "dtype('O')"
      ]
     },
     "metadata": {},
     "execution_count": 57
    }
   ],
   "source": [
    "predictions[\"days\"].dtype"
   ]
  },
  {
   "cell_type": "code",
   "execution_count": 58,
   "metadata": {},
   "outputs": [
    {
     "output_type": "stream",
     "name": "stdout",
     "text": [
      "<class 'pandas.core.frame.DataFrame'>\nInt64Index: 133744 entries, 314114 to 116673\nData columns (total 1 columns):\n #   Column  Non-Null Count   Dtype \n---  ------  --------------   ----- \n 0   days    133744 non-null  object\ndtypes: object(1)\nmemory usage: 6.1+ MB\n"
     ]
    }
   ],
   "source": [
    "predictions.info()"
   ]
  },
  {
   "cell_type": "code",
   "execution_count": 59,
   "metadata": {},
   "outputs": [],
   "source": [
    "predictions[\"days\"].replace({\"0.0\" : '0-10', \"1.0\": '11-20', \"2.0\":'21-30', \"3.0\": '31-40', \"4.0\": '41-50', \"5.0\": '51-60', \"6.0\": '61-70', \"7.0\":'71-80', \"8.0\": '81-90', \"9.0\": '91-100', \"10.0\": 'More than 100 Days'}, inplace=True)"
   ]
  },
  {
   "cell_type": "code",
   "execution_count": 60,
   "metadata": {},
   "outputs": [
    {
     "output_type": "execute_result",
     "data": {
      "text/plain": [
       "        days\n",
       "id          \n",
       "314114   1.0\n",
       "208989   2.0\n",
       "305872   1.0\n",
       "266099   1.0\n",
       "13228    1.0\n",
       "...      ...\n",
       "318155   1.0\n",
       "144850   2.0\n",
       "180676   2.0\n",
       "39933    2.0\n",
       "116673   2.0\n",
       "\n",
       "[133744 rows x 1 columns]"
      ],
      "text/html": "<div>\n<style scoped>\n    .dataframe tbody tr th:only-of-type {\n        vertical-align: middle;\n    }\n\n    .dataframe tbody tr th {\n        vertical-align: top;\n    }\n\n    .dataframe thead th {\n        text-align: right;\n    }\n</style>\n<table border=\"1\" class=\"dataframe\">\n  <thead>\n    <tr style=\"text-align: right;\">\n      <th></th>\n      <th>days</th>\n    </tr>\n    <tr>\n      <th>id</th>\n      <th></th>\n    </tr>\n  </thead>\n  <tbody>\n    <tr>\n      <th>314114</th>\n      <td>1.0</td>\n    </tr>\n    <tr>\n      <th>208989</th>\n      <td>2.0</td>\n    </tr>\n    <tr>\n      <th>305872</th>\n      <td>1.0</td>\n    </tr>\n    <tr>\n      <th>266099</th>\n      <td>1.0</td>\n    </tr>\n    <tr>\n      <th>13228</th>\n      <td>1.0</td>\n    </tr>\n    <tr>\n      <th>...</th>\n      <td>...</td>\n    </tr>\n    <tr>\n      <th>318155</th>\n      <td>1.0</td>\n    </tr>\n    <tr>\n      <th>144850</th>\n      <td>2.0</td>\n    </tr>\n    <tr>\n      <th>180676</th>\n      <td>2.0</td>\n    </tr>\n    <tr>\n      <th>39933</th>\n      <td>2.0</td>\n    </tr>\n    <tr>\n      <th>116673</th>\n      <td>2.0</td>\n    </tr>\n  </tbody>\n</table>\n<p>133744 rows × 1 columns</p>\n</div>"
     },
     "metadata": {},
     "execution_count": 60
    }
   ],
   "source": [
    "predictions"
   ]
  },
  {
   "cell_type": "code",
   "execution_count": null,
   "metadata": {},
   "outputs": [],
   "source": []
  }
 ]
}