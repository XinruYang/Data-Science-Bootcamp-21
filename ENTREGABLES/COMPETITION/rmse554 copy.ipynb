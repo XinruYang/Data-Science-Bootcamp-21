{
 "metadata": {
  "language_info": {
   "codemirror_mode": {
    "name": "ipython",
    "version": 3
   },
   "file_extension": ".py",
   "mimetype": "text/x-python",
   "name": "python",
   "nbconvert_exporter": "python",
   "pygments_lexer": "ipython3",
   "version": "3.7.4"
  },
  "orig_nbformat": 4,
  "kernelspec": {
   "name": "python3",
   "display_name": "Python 3.7.4 64-bit"
  },
  "interpreter": {
   "hash": "fc2c00f0e2c44cb4028bd693f18a1b5d93d1de4cd12db71fca36ff691a163044"
  }
 },
 "nbformat": 4,
 "nbformat_minor": 2,
 "cells": [
  {
   "cell_type": "code",
   "execution_count": 1,
   "metadata": {},
   "outputs": [],
   "source": [
    "import numpy as np\n",
    "import pandas as pd\n",
    "\n",
    "import warnings\n",
    "warnings.filterwarnings(\"ignore\")\n",
    "\n",
    "from sklearn.metrics import mean_squared_error\n",
    "from sklearn.metrics import r2_score, mean_absolute_error\n",
    "\n",
    "from sklearn.model_selection import train_test_split\n",
    "from sklearn.svm import SVR\n",
    "from sklearn.linear_model import LinearRegression\n",
    "from sklearn.pipeline import make_pipeline\n",
    "from sklearn.pipeline import Pipeline\n",
    "from sklearn.impute import SimpleImputer\n",
    "from sklearn.preprocessing import StandardScaler\n",
    "from sklearn.preprocessing import PolynomialFeatures\n",
    "\n",
    "from sklearn.feature_selection import SelectKBest\n",
    "from sklearn import svm, datasets\n",
    "from sklearn.model_selection import GridSearchCV\n",
    "import numpy as np"
   ]
  },
  {
   "cell_type": "code",
   "execution_count": null,
   "metadata": {},
   "outputs": [],
   "source": []
  },
  {
   "cell_type": "code",
   "execution_count": 2,
   "metadata": {},
   "outputs": [],
   "source": [
    "df = pd.read_csv(\"diamonds_train.csv\", index_col=0)"
   ]
  },
  {
   "cell_type": "code",
   "execution_count": 3,
   "metadata": {},
   "outputs": [],
   "source": [
    "df[\"cut\"] = df[\"cut\"].apply(lambda x: x.replace(\"Fair\",\"0\"))\n",
    "df[\"cut\"] = df[\"cut\"].apply(lambda x: x.replace(\"Very Good\",\"2\"))\n",
    "df[\"cut\"] = df[\"cut\"].apply(lambda x: x.replace(\"Good\",\"1\"))\n",
    "df[\"cut\"] = df[\"cut\"].apply(lambda x: x.replace(\"Ideal\",\"3\"))\n",
    "df[\"cut\"] = df[\"cut\"].apply(lambda x: x.replace(\"Premium\",\"4\"))\n",
    "df[\"cut\"] = df[\"cut\"].astype(int)\n",
    "\n",
    "df[\"color\"] = df[\"color\"].apply(lambda x: x.replace(\"D\",\"0\"))\n",
    "df[\"color\"] = df[\"color\"].apply(lambda x: x.replace(\"E\",\"1\"))\n",
    "df[\"color\"] = df[\"color\"].apply(lambda x: x.replace(\"F\",\"2\"))\n",
    "df[\"color\"] = df[\"color\"].apply(lambda x: x.replace(\"G\",\"3\"))\n",
    "df[\"color\"] = df[\"color\"].apply(lambda x: x.replace(\"H\",\"4\"))\n",
    "df[\"color\"] = df[\"color\"].apply(lambda x: x.replace(\"I\",\"5\"))\n",
    "df[\"color\"] = df[\"color\"].apply(lambda x: x.replace(\"J\",\"6\"))\n",
    "df[\"color\"] = df[\"color\"].astype(int)\n",
    "\n",
    "df[\"clarity\"] = df[\"clarity\"].apply(lambda x: x.replace(\"SI1\",\"4\"))\n",
    "df[\"clarity\"] = df[\"clarity\"].apply(lambda x: x.replace(\"SI2\",\"5\"))\n",
    "df[\"clarity\"] = df[\"clarity\"].apply(lambda x: x.replace(\"I1\",\"0\"))\n",
    "df[\"clarity\"] = df[\"clarity\"].apply(lambda x: x.replace(\"IF\",\"1\"))\n",
    "df[\"clarity\"] = df[\"clarity\"].apply(lambda x: x.replace(\"VVS1\",\"2\"))\n",
    "df[\"clarity\"] = df[\"clarity\"].apply(lambda x: x.replace(\"VVS2\",\"3\"))\n",
    "df[\"clarity\"] = df[\"clarity\"].apply(lambda x: x.replace(\"VS1\",\"6\"))\n",
    "df[\"clarity\"] = df[\"clarity\"].apply(lambda x: x.replace(\"VS2\",\"7\"))\n",
    "df[\"clarity\"] = df[\"clarity\"].astype(int)"
   ]
  },
  {
   "cell_type": "code",
   "execution_count": null,
   "metadata": {},
   "outputs": [],
   "source": []
  },
  {
   "cell_type": "code",
   "execution_count": 4,
   "metadata": {},
   "outputs": [],
   "source": [
    "X = np.array(df[[\"carat\",\"cut\", \"color\", \"clarity\"]])\n",
    "y = np.array(df[\"price\"])"
   ]
  },
  {
   "cell_type": "code",
   "execution_count": 5,
   "metadata": {},
   "outputs": [],
   "source": [
    "X_train, X_test, y_train, y_test = train_test_split(X, y, test_size = 0.2, random_state = 235)"
   ]
  },
  {
   "cell_type": "code",
   "execution_count": 6,
   "metadata": {},
   "outputs": [
    {
     "output_type": "execute_result",
     "data": {
      "text/plain": [
       "RandomForestRegressor(ccp_alpha=1, random_state=235)"
      ]
     },
     "metadata": {},
     "execution_count": 6
    }
   ],
   "source": [
    "from sklearn.ensemble import RandomForestRegressor\n",
    "forest_reg = RandomForestRegressor(n_estimators = 100, random_state = 235, ccp_alpha=1)\n",
    "forest_reg.fit(X_train, y_train)"
   ]
  },
  {
   "cell_type": "code",
   "execution_count": 7,
   "metadata": {},
   "outputs": [
    {
     "output_type": "execute_result",
     "data": {
      "text/plain": [
       "586.2747608384778"
      ]
     },
     "metadata": {},
     "execution_count": 7
    }
   ],
   "source": [
    "y_pred = forest_reg.predict(X_test)\n",
    "np.sqrt(mean_squared_error(y_test, y_pred))\n",
    "# 586.2747608384778"
   ]
  },
  {
   "source": [
    "# TO TEST"
   ],
   "cell_type": "markdown",
   "metadata": {}
  },
  {
   "cell_type": "code",
   "execution_count": 8,
   "metadata": {},
   "outputs": [],
   "source": [
    "X_pred = pd.read_csv(\"diamonds_test.csv\", index_col = 0)"
   ]
  },
  {
   "cell_type": "code",
   "execution_count": 9,
   "metadata": {},
   "outputs": [],
   "source": [
    "\n",
    "\n",
    "X_pred[\"cut\"] = X_pred[\"cut\"].apply(lambda x: x.replace(\"Fair\",\"0\"))\n",
    "X_pred[\"cut\"] = X_pred[\"cut\"].apply(lambda x: x.replace(\"Very Good\",\"2\"))\n",
    "X_pred[\"cut\"] = X_pred[\"cut\"].apply(lambda x: x.replace(\"Good\",\"1\"))\n",
    "X_pred[\"cut\"] = X_pred[\"cut\"].apply(lambda x: x.replace(\"Ideal\",\"3\"))\n",
    "X_pred[\"cut\"] = X_pred[\"cut\"].apply(lambda x: x.replace(\"Premium\",\"4\"))\n",
    "X_pred[\"cut\"] = X_pred[\"cut\"].astype(int)\n",
    "\n",
    "X_pred[\"color\"] = X_pred[\"color\"].apply(lambda x: x.replace(\"D\",\"0\"))\n",
    "X_pred[\"color\"] = X_pred[\"color\"].apply(lambda x: x.replace(\"E\",\"1\"))\n",
    "X_pred[\"color\"] = X_pred[\"color\"].apply(lambda x: x.replace(\"F\",\"2\"))\n",
    "X_pred[\"color\"] = X_pred[\"color\"].apply(lambda x: x.replace(\"G\",\"3\"))\n",
    "X_pred[\"color\"] = X_pred[\"color\"].apply(lambda x: x.replace(\"H\",\"4\"))\n",
    "X_pred[\"color\"] = X_pred[\"color\"].apply(lambda x: x.replace(\"I\",\"5\"))\n",
    "X_pred[\"color\"] = X_pred[\"color\"].apply(lambda x: x.replace(\"J\",\"6\"))\n",
    "X_pred[\"color\"] = X_pred[\"color\"].astype(int)\n",
    "\n",
    "X_pred[\"clarity\"] = X_pred[\"clarity\"].apply(lambda x: x.replace(\"SI1\",\"4\"))\n",
    "X_pred[\"clarity\"] = X_pred[\"clarity\"].apply(lambda x: x.replace(\"SI2\",\"5\"))\n",
    "X_pred[\"clarity\"] = X_pred[\"clarity\"].apply(lambda x: x.replace(\"I1\",\"0\"))\n",
    "X_pred[\"clarity\"] = X_pred[\"clarity\"].apply(lambda x: x.replace(\"IF\",\"1\"))\n",
    "X_pred[\"clarity\"] = X_pred[\"clarity\"].apply(lambda x: x.replace(\"VVS1\",\"2\"))\n",
    "X_pred[\"clarity\"] = X_pred[\"clarity\"].apply(lambda x: x.replace(\"VVS2\",\"3\"))\n",
    "X_pred[\"clarity\"] = X_pred[\"clarity\"].apply(lambda x: x.replace(\"VS1\",\"6\"))\n",
    "X_pred[\"clarity\"] = X_pred[\"clarity\"].apply(lambda x: x.replace(\"VS2\",\"7\"))\n",
    "X_pred[\"clarity\"] = X_pred[\"clarity\"].astype(int)"
   ]
  },
  {
   "cell_type": "code",
   "execution_count": 10,
   "metadata": {},
   "outputs": [
    {
     "output_type": "execute_result",
     "data": {
      "text/plain": [
       "          0    1    2    3\n",
       "0      0.30  3.0  4.0  5.0\n",
       "1      0.34  3.0  0.0  1.0\n",
       "2      1.57  2.0  5.0  7.0\n",
       "3      0.31  3.0  4.0  7.0\n",
       "4      1.51  1.0  5.0  2.0\n",
       "...     ...  ...  ...  ...\n",
       "13444  1.05  3.0  2.0  5.0\n",
       "13445  0.27  2.0  3.0  6.0\n",
       "13446  1.50  4.0  0.0  7.0\n",
       "13447  1.70  4.0  2.0  5.0\n",
       "13448  0.30  3.0  0.0  7.0\n",
       "\n",
       "[13449 rows x 4 columns]"
      ],
      "text/html": "<div>\n<style scoped>\n    .dataframe tbody tr th:only-of-type {\n        vertical-align: middle;\n    }\n\n    .dataframe tbody tr th {\n        vertical-align: top;\n    }\n\n    .dataframe thead th {\n        text-align: right;\n    }\n</style>\n<table border=\"1\" class=\"dataframe\">\n  <thead>\n    <tr style=\"text-align: right;\">\n      <th></th>\n      <th>0</th>\n      <th>1</th>\n      <th>2</th>\n      <th>3</th>\n    </tr>\n  </thead>\n  <tbody>\n    <tr>\n      <th>0</th>\n      <td>0.30</td>\n      <td>3.0</td>\n      <td>4.0</td>\n      <td>5.0</td>\n    </tr>\n    <tr>\n      <th>1</th>\n      <td>0.34</td>\n      <td>3.0</td>\n      <td>0.0</td>\n      <td>1.0</td>\n    </tr>\n    <tr>\n      <th>2</th>\n      <td>1.57</td>\n      <td>2.0</td>\n      <td>5.0</td>\n      <td>7.0</td>\n    </tr>\n    <tr>\n      <th>3</th>\n      <td>0.31</td>\n      <td>3.0</td>\n      <td>4.0</td>\n      <td>7.0</td>\n    </tr>\n    <tr>\n      <th>4</th>\n      <td>1.51</td>\n      <td>1.0</td>\n      <td>5.0</td>\n      <td>2.0</td>\n    </tr>\n    <tr>\n      <th>...</th>\n      <td>...</td>\n      <td>...</td>\n      <td>...</td>\n      <td>...</td>\n    </tr>\n    <tr>\n      <th>13444</th>\n      <td>1.05</td>\n      <td>3.0</td>\n      <td>2.0</td>\n      <td>5.0</td>\n    </tr>\n    <tr>\n      <th>13445</th>\n      <td>0.27</td>\n      <td>2.0</td>\n      <td>3.0</td>\n      <td>6.0</td>\n    </tr>\n    <tr>\n      <th>13446</th>\n      <td>1.50</td>\n      <td>4.0</td>\n      <td>0.0</td>\n      <td>7.0</td>\n    </tr>\n    <tr>\n      <th>13447</th>\n      <td>1.70</td>\n      <td>4.0</td>\n      <td>2.0</td>\n      <td>5.0</td>\n    </tr>\n    <tr>\n      <th>13448</th>\n      <td>0.30</td>\n      <td>3.0</td>\n      <td>0.0</td>\n      <td>7.0</td>\n    </tr>\n  </tbody>\n</table>\n<p>13449 rows × 4 columns</p>\n</div>"
     },
     "metadata": {},
     "execution_count": 10
    }
   ],
   "source": [
    "X_pred = np.array(X_pred[[\"carat\",\"cut\", \"color\", \"clarity\"]])\n",
    "pd.DataFrame(X_pred)"
   ]
  },
  {
   "cell_type": "code",
   "execution_count": 11,
   "metadata": {},
   "outputs": [
    {
     "output_type": "execute_result",
     "data": {
      "text/plain": [
       "                  0\n",
       "0        445.436365\n",
       "1       2221.093524\n",
       "2       9703.803536\n",
       "3        552.231809\n",
       "4       9215.216976\n",
       "...             ...\n",
       "13444   4909.543970\n",
       "13445    457.801603\n",
       "13446  14983.732333\n",
       "13447  10969.941342\n",
       "13448    805.428000\n",
       "\n",
       "[13449 rows x 1 columns]"
      ],
      "text/html": "<div>\n<style scoped>\n    .dataframe tbody tr th:only-of-type {\n        vertical-align: middle;\n    }\n\n    .dataframe tbody tr th {\n        vertical-align: top;\n    }\n\n    .dataframe thead th {\n        text-align: right;\n    }\n</style>\n<table border=\"1\" class=\"dataframe\">\n  <thead>\n    <tr style=\"text-align: right;\">\n      <th></th>\n      <th>0</th>\n    </tr>\n  </thead>\n  <tbody>\n    <tr>\n      <th>0</th>\n      <td>445.436365</td>\n    </tr>\n    <tr>\n      <th>1</th>\n      <td>2221.093524</td>\n    </tr>\n    <tr>\n      <th>2</th>\n      <td>9703.803536</td>\n    </tr>\n    <tr>\n      <th>3</th>\n      <td>552.231809</td>\n    </tr>\n    <tr>\n      <th>4</th>\n      <td>9215.216976</td>\n    </tr>\n    <tr>\n      <th>...</th>\n      <td>...</td>\n    </tr>\n    <tr>\n      <th>13444</th>\n      <td>4909.543970</td>\n    </tr>\n    <tr>\n      <th>13445</th>\n      <td>457.801603</td>\n    </tr>\n    <tr>\n      <th>13446</th>\n      <td>14983.732333</td>\n    </tr>\n    <tr>\n      <th>13447</th>\n      <td>10969.941342</td>\n    </tr>\n    <tr>\n      <th>13448</th>\n      <td>805.428000</td>\n    </tr>\n  </tbody>\n</table>\n<p>13449 rows × 1 columns</p>\n</div>"
     },
     "metadata": {},
     "execution_count": 11
    }
   ],
   "source": [
    "predictions_submit = forest_reg.predict(X_pred)\n",
    "pd.DataFrame(predictions_submit)"
   ]
  },
  {
   "cell_type": "code",
   "execution_count": 12,
   "metadata": {},
   "outputs": [],
   "source": [
    "submission = pd.DataFrame({\"id\": range(len(predictions_submit)), \"price\": predictions_submit})"
   ]
  },
  {
   "cell_type": "code",
   "execution_count": 13,
   "metadata": {},
   "outputs": [],
   "source": [
    "submission.to_csv(\"submission12.csv\", index = False)"
   ]
  },
  {
   "cell_type": "code",
   "execution_count": null,
   "metadata": {},
   "outputs": [],
   "source": []
  }
 ]
}