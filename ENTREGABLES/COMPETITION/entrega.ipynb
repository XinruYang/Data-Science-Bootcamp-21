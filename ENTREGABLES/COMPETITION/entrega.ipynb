{
 "metadata": {
  "language_info": {
   "codemirror_mode": {
    "name": "ipython",
    "version": 3
   },
   "file_extension": ".py",
   "mimetype": "text/x-python",
   "name": "python",
   "nbconvert_exporter": "python",
   "pygments_lexer": "ipython3",
   "version": "3.7.4"
  },
  "orig_nbformat": 4,
  "kernelspec": {
   "name": "python3",
   "display_name": "Python 3.7.4 64-bit"
  },
  "interpreter": {
   "hash": "fc2c00f0e2c44cb4028bd693f18a1b5d93d1de4cd12db71fca36ff691a163044"
  }
 },
 "nbformat": 4,
 "nbformat_minor": 2,
 "cells": [
  {
   "cell_type": "code",
   "execution_count": 18,
   "metadata": {},
   "outputs": [],
   "source": [
    "import numpy as np\n",
    "import pandas as pd\n",
    "\n",
    "from sklearn.metrics import mean_squared_error\n",
    "from sklearn.metrics import r2_score, mean_absolute_error\n",
    "\n",
    "from sklearn.model_selection import train_test_split\n",
    "from sklearn.svm import SVR\n",
    "from sklearn.linear_model import LinearRegression\n"
   ]
  },
  {
   "cell_type": "code",
   "execution_count": 19,
   "metadata": {},
   "outputs": [],
   "source": [
    "df = pd.read_csv(\"diamonds_train.csv\", index_col=0)"
   ]
  },
  {
   "cell_type": "code",
   "execution_count": null,
   "metadata": {},
   "outputs": [],
   "source": []
  },
  {
   "cell_type": "code",
   "execution_count": 20,
   "metadata": {},
   "outputs": [],
   "source": [
    "df[\"carat\"] = 10*df[\"carat\"]\n",
    "\n",
    "df[\"cut\"] = df[\"cut\"].apply(lambda x: x.replace(\"Fair\",\"0\"))\n",
    "df[\"cut\"] = df[\"cut\"].apply(lambda x: x.replace(\"Very Good\",\"2\"))\n",
    "df[\"cut\"] = df[\"cut\"].apply(lambda x: x.replace(\"Good\",\"1\"))\n",
    "df[\"cut\"] = df[\"cut\"].apply(lambda x: x.replace(\"Ideal\",\"3\"))\n",
    "df[\"cut\"] = df[\"cut\"].apply(lambda x: x.replace(\"Premium\",\"4\"))\n",
    "df[\"cut\"] = df[\"cut\"].astype(int)\n",
    "\n",
    "df[\"color\"] = df[\"color\"].apply(lambda x: x.replace(\"D\",\"0\"))\n",
    "df[\"color\"] = df[\"color\"].apply(lambda x: x.replace(\"E\",\"1\"))\n",
    "df[\"color\"] = df[\"color\"].apply(lambda x: x.replace(\"F\",\"2\"))\n",
    "df[\"color\"] = df[\"color\"].apply(lambda x: x.replace(\"G\",\"3\"))\n",
    "df[\"color\"] = df[\"color\"].apply(lambda x: x.replace(\"H\",\"4\"))\n",
    "df[\"color\"] = df[\"color\"].apply(lambda x: x.replace(\"I\",\"5\"))\n",
    "df[\"color\"] = df[\"color\"].apply(lambda x: x.replace(\"J\",\"6\"))\n",
    "df[\"color\"] = df[\"color\"].astype(int)\n",
    "\n",
    "df[\"clarity\"] = df[\"clarity\"].apply(lambda x: x.replace(\"SI1\",\"4\"))\n",
    "df[\"clarity\"] = df[\"clarity\"].apply(lambda x: x.replace(\"SI2\",\"5\"))\n",
    "df[\"clarity\"] = df[\"clarity\"].apply(lambda x: x.replace(\"I1\",\"0\"))\n",
    "df[\"clarity\"] = df[\"clarity\"].apply(lambda x: x.replace(\"IF\",\"1\"))\n",
    "df[\"clarity\"] = df[\"clarity\"].apply(lambda x: x.replace(\"VVS1\",\"2\"))\n",
    "df[\"clarity\"] = df[\"clarity\"].apply(lambda x: x.replace(\"VVS2\",\"3\"))\n",
    "df[\"clarity\"] = df[\"clarity\"].apply(lambda x: x.replace(\"VS1\",\"6\"))\n",
    "df[\"clarity\"] = df[\"clarity\"].apply(lambda x: x.replace(\"VS2\",\"7\"))\n",
    "df[\"clarity\"] = df[\"clarity\"].astype(int)"
   ]
  },
  {
   "cell_type": "code",
   "execution_count": 21,
   "metadata": {},
   "outputs": [],
   "source": [
    "X = np.array(df[[\"carat\",\"cut\", \"color\", \"clarity\"]])\n",
    "y = np.array(df[\"price\"])"
   ]
  },
  {
   "cell_type": "code",
   "execution_count": 22,
   "metadata": {},
   "outputs": [],
   "source": [
    "X_train, X_test, y_train, y_test = train_test_split(X, y, test_size = 0.20, random_state = 235)"
   ]
  },
  {
   "cell_type": "code",
   "execution_count": 23,
   "metadata": {},
   "outputs": [
    {
     "output_type": "stream",
     "name": "stderr",
     "text": [
      "C:\\Users\\xyang\\AppData\\Local\\Programs\\Python\\Python37\\lib\\site-packages\\sklearn\\svm\\_base.py:258: ConvergenceWarning: Solver terminated early (max_iter=999999).  Consider pre-processing your data with StandardScaler or MinMaxScaler.\n  % self.max_iter, ConvergenceWarning)\n"
     ]
    },
    {
     "output_type": "execute_result",
     "data": {
      "text/plain": [
       "SVR(C=7000, gamma='auto', max_iter=999999)"
      ]
     },
     "metadata": {},
     "execution_count": 23
    }
   ],
   "source": [
    "svr_rbf = SVR(kernel='rbf', C=7000, gamma=\"auto\", epsilon=0.1, max_iter=999999)\n",
    "svr_rbf.fit(X_train, y_train)"
   ]
  },
  {
   "cell_type": "code",
   "execution_count": 24,
   "metadata": {},
   "outputs": [
    {
     "output_type": "stream",
     "name": "stdout",
     "text": [
      "0.9786311122812231\n"
     ]
    },
    {
     "output_type": "execute_result",
     "data": {
      "text/plain": [
       "567.6651216129791"
      ]
     },
     "metadata": {},
     "execution_count": 24
    }
   ],
   "source": [
    "y_test_pred = svr_rbf.predict(X_test)\n",
    "print(r2_score(y_test, y_test_pred))\n",
    "np.sqrt(mean_squared_error(y_test, y_test_pred))"
   ]
  },
  {
   "cell_type": "code",
   "execution_count": 25,
   "metadata": {},
   "outputs": [],
   "source": [
    "# 566.9595599195308"
   ]
  },
  {
   "cell_type": "code",
   "execution_count": 8,
   "metadata": {},
   "outputs": [
    {
     "output_type": "execute_result",
     "data": {
      "text/plain": [
       "      y_test        y_pred\n",
       "0       2041   1876.763029\n",
       "1        640    768.492907\n",
       "2       3583   3695.870351\n",
       "3        616    625.046052\n",
       "4       1243   1224.309205\n",
       "...      ...           ...\n",
       "8064   11262  10844.258688\n",
       "8065    1376   1582.109315\n",
       "8066    1346   1363.795422\n",
       "8067   11040  11807.523704\n",
       "8068    1429   1624.870683\n",
       "\n",
       "[8069 rows x 2 columns]"
      ],
      "text/html": "<div>\n<style scoped>\n    .dataframe tbody tr th:only-of-type {\n        vertical-align: middle;\n    }\n\n    .dataframe tbody tr th {\n        vertical-align: top;\n    }\n\n    .dataframe thead th {\n        text-align: right;\n    }\n</style>\n<table border=\"1\" class=\"dataframe\">\n  <thead>\n    <tr style=\"text-align: right;\">\n      <th></th>\n      <th>y_test</th>\n      <th>y_pred</th>\n    </tr>\n  </thead>\n  <tbody>\n    <tr>\n      <th>0</th>\n      <td>2041</td>\n      <td>1876.763029</td>\n    </tr>\n    <tr>\n      <th>1</th>\n      <td>640</td>\n      <td>768.492907</td>\n    </tr>\n    <tr>\n      <th>2</th>\n      <td>3583</td>\n      <td>3695.870351</td>\n    </tr>\n    <tr>\n      <th>3</th>\n      <td>616</td>\n      <td>625.046052</td>\n    </tr>\n    <tr>\n      <th>4</th>\n      <td>1243</td>\n      <td>1224.309205</td>\n    </tr>\n    <tr>\n      <th>...</th>\n      <td>...</td>\n      <td>...</td>\n    </tr>\n    <tr>\n      <th>8064</th>\n      <td>11262</td>\n      <td>10844.258688</td>\n    </tr>\n    <tr>\n      <th>8065</th>\n      <td>1376</td>\n      <td>1582.109315</td>\n    </tr>\n    <tr>\n      <th>8066</th>\n      <td>1346</td>\n      <td>1363.795422</td>\n    </tr>\n    <tr>\n      <th>8067</th>\n      <td>11040</td>\n      <td>11807.523704</td>\n    </tr>\n    <tr>\n      <th>8068</th>\n      <td>1429</td>\n      <td>1624.870683</td>\n    </tr>\n  </tbody>\n</table>\n<p>8069 rows × 2 columns</p>\n</div>"
     },
     "metadata": {},
     "execution_count": 8
    }
   ],
   "source": [
    "pd.DataFrame({\"y_test\":y_test,\"y_pred\": y_test_pred})"
   ]
  },
  {
   "source": [
    "### PREDECIR TEST"
   ],
   "cell_type": "markdown",
   "metadata": {}
  },
  {
   "cell_type": "code",
   "execution_count": 9,
   "metadata": {},
   "outputs": [],
   "source": [
    "X_pred = pd.read_csv(\"diamonds_test.csv\", index_col = 0)"
   ]
  },
  {
   "cell_type": "code",
   "execution_count": 10,
   "metadata": {},
   "outputs": [],
   "source": [
    "X_pred[\"carat\"] = 10*X_pred[\"carat\"]"
   ]
  },
  {
   "cell_type": "code",
   "execution_count": 11,
   "metadata": {},
   "outputs": [],
   "source": [
    "X_pred[\"cut\"] = X_pred[\"cut\"].apply(lambda x: x.replace(\"Fair\",\"0\"))\n",
    "X_pred[\"cut\"] = X_pred[\"cut\"].apply(lambda x: x.replace(\"Very Good\",\"2\"))\n",
    "X_pred[\"cut\"] = X_pred[\"cut\"].apply(lambda x: x.replace(\"Good\",\"1\"))\n",
    "X_pred[\"cut\"] = X_pred[\"cut\"].apply(lambda x: x.replace(\"Ideal\",\"3\"))\n",
    "X_pred[\"cut\"] = X_pred[\"cut\"].apply(lambda x: x.replace(\"Premium\",\"4\"))\n",
    "X_pred[\"cut\"] = X_pred[\"cut\"].astype(int)\n",
    "\n",
    "X_pred[\"color\"] = X_pred[\"color\"].apply(lambda x: x.replace(\"D\",\"0\"))\n",
    "X_pred[\"color\"] = X_pred[\"color\"].apply(lambda x: x.replace(\"E\",\"1\"))\n",
    "X_pred[\"color\"] = X_pred[\"color\"].apply(lambda x: x.replace(\"F\",\"2\"))\n",
    "X_pred[\"color\"] = X_pred[\"color\"].apply(lambda x: x.replace(\"G\",\"3\"))\n",
    "X_pred[\"color\"] = X_pred[\"color\"].apply(lambda x: x.replace(\"H\",\"4\"))\n",
    "X_pred[\"color\"] = X_pred[\"color\"].apply(lambda x: x.replace(\"I\",\"5\"))\n",
    "X_pred[\"color\"] = X_pred[\"color\"].apply(lambda x: x.replace(\"J\",\"6\"))\n",
    "X_pred[\"color\"] = X_pred[\"color\"].astype(int)\n",
    "\n",
    "X_pred[\"clarity\"] = X_pred[\"clarity\"].apply(lambda x: x.replace(\"SI1\",\"4\"))\n",
    "X_pred[\"clarity\"] = X_pred[\"clarity\"].apply(lambda x: x.replace(\"SI2\",\"5\"))\n",
    "X_pred[\"clarity\"] = X_pred[\"clarity\"].apply(lambda x: x.replace(\"I1\",\"0\"))\n",
    "X_pred[\"clarity\"] = X_pred[\"clarity\"].apply(lambda x: x.replace(\"IF\",\"1\"))\n",
    "X_pred[\"clarity\"] = X_pred[\"clarity\"].apply(lambda x: x.replace(\"VVS1\",\"2\"))\n",
    "X_pred[\"clarity\"] = X_pred[\"clarity\"].apply(lambda x: x.replace(\"VVS2\",\"3\"))\n",
    "X_pred[\"clarity\"] = X_pred[\"clarity\"].apply(lambda x: x.replace(\"VS1\",\"6\"))\n",
    "X_pred[\"clarity\"] = X_pred[\"clarity\"].apply(lambda x: x.replace(\"VS2\",\"7\"))\n",
    "X_pred[\"clarity\"] = X_pred[\"clarity\"].astype(int)"
   ]
  },
  {
   "cell_type": "code",
   "execution_count": 12,
   "metadata": {},
   "outputs": [],
   "source": [
    "X_pred = np.array(X_pred[[\"carat\",\"cut\", \"color\", \"clarity\"]])"
   ]
  },
  {
   "cell_type": "code",
   "execution_count": 13,
   "metadata": {},
   "outputs": [
    {
     "output_type": "execute_result",
     "data": {
      "text/plain": [
       "          0    1    2    3\n",
       "0       3.0  3.0  4.0  5.0\n",
       "1       3.4  3.0  0.0  1.0\n",
       "2      15.7  2.0  5.0  7.0\n",
       "3       3.1  3.0  4.0  7.0\n",
       "4      15.1  1.0  5.0  2.0\n",
       "...     ...  ...  ...  ...\n",
       "13444  10.5  3.0  2.0  5.0\n",
       "13445   2.7  2.0  3.0  6.0\n",
       "13446  15.0  4.0  0.0  7.0\n",
       "13447  17.0  4.0  2.0  5.0\n",
       "13448   3.0  3.0  0.0  7.0\n",
       "\n",
       "[13449 rows x 4 columns]"
      ],
      "text/html": "<div>\n<style scoped>\n    .dataframe tbody tr th:only-of-type {\n        vertical-align: middle;\n    }\n\n    .dataframe tbody tr th {\n        vertical-align: top;\n    }\n\n    .dataframe thead th {\n        text-align: right;\n    }\n</style>\n<table border=\"1\" class=\"dataframe\">\n  <thead>\n    <tr style=\"text-align: right;\">\n      <th></th>\n      <th>0</th>\n      <th>1</th>\n      <th>2</th>\n      <th>3</th>\n    </tr>\n  </thead>\n  <tbody>\n    <tr>\n      <th>0</th>\n      <td>3.0</td>\n      <td>3.0</td>\n      <td>4.0</td>\n      <td>5.0</td>\n    </tr>\n    <tr>\n      <th>1</th>\n      <td>3.4</td>\n      <td>3.0</td>\n      <td>0.0</td>\n      <td>1.0</td>\n    </tr>\n    <tr>\n      <th>2</th>\n      <td>15.7</td>\n      <td>2.0</td>\n      <td>5.0</td>\n      <td>7.0</td>\n    </tr>\n    <tr>\n      <th>3</th>\n      <td>3.1</td>\n      <td>3.0</td>\n      <td>4.0</td>\n      <td>7.0</td>\n    </tr>\n    <tr>\n      <th>4</th>\n      <td>15.1</td>\n      <td>1.0</td>\n      <td>5.0</td>\n      <td>2.0</td>\n    </tr>\n    <tr>\n      <th>...</th>\n      <td>...</td>\n      <td>...</td>\n      <td>...</td>\n      <td>...</td>\n    </tr>\n    <tr>\n      <th>13444</th>\n      <td>10.5</td>\n      <td>3.0</td>\n      <td>2.0</td>\n      <td>5.0</td>\n    </tr>\n    <tr>\n      <th>13445</th>\n      <td>2.7</td>\n      <td>2.0</td>\n      <td>3.0</td>\n      <td>6.0</td>\n    </tr>\n    <tr>\n      <th>13446</th>\n      <td>15.0</td>\n      <td>4.0</td>\n      <td>0.0</td>\n      <td>7.0</td>\n    </tr>\n    <tr>\n      <th>13447</th>\n      <td>17.0</td>\n      <td>4.0</td>\n      <td>2.0</td>\n      <td>5.0</td>\n    </tr>\n    <tr>\n      <th>13448</th>\n      <td>3.0</td>\n      <td>3.0</td>\n      <td>0.0</td>\n      <td>7.0</td>\n    </tr>\n  </tbody>\n</table>\n<p>13449 rows × 4 columns</p>\n</div>"
     },
     "metadata": {},
     "execution_count": 13
    }
   ],
   "source": [
    "pd.DataFrame(X_pred)"
   ]
  },
  {
   "cell_type": "code",
   "execution_count": 14,
   "metadata": {},
   "outputs": [
    {
     "output_type": "execute_result",
     "data": {
      "text/plain": [
       "array([  406.11641111,  1518.5060171 ,  9809.31056004, ...,\n",
       "       15306.84093306, 10139.66791841,   735.9006621 ])"
      ]
     },
     "metadata": {},
     "execution_count": 14
    }
   ],
   "source": [
    "predictions_submit = svr_rbf.predict(X_pred)\n",
    "predictions_submit"
   ]
  },
  {
   "cell_type": "code",
   "execution_count": 15,
   "metadata": {},
   "outputs": [
    {
     "output_type": "execute_result",
     "data": {
      "text/plain": [
       "                  0\n",
       "0        406.116411\n",
       "1       1518.506017\n",
       "2       9809.310560\n",
       "3        507.105117\n",
       "4       9301.107762\n",
       "...             ...\n",
       "13444   4678.042759\n",
       "13445    497.939913\n",
       "13446  15306.840933\n",
       "13447  10139.667918\n",
       "13448    735.900662\n",
       "\n",
       "[13449 rows x 1 columns]"
      ],
      "text/html": "<div>\n<style scoped>\n    .dataframe tbody tr th:only-of-type {\n        vertical-align: middle;\n    }\n\n    .dataframe tbody tr th {\n        vertical-align: top;\n    }\n\n    .dataframe thead th {\n        text-align: right;\n    }\n</style>\n<table border=\"1\" class=\"dataframe\">\n  <thead>\n    <tr style=\"text-align: right;\">\n      <th></th>\n      <th>0</th>\n    </tr>\n  </thead>\n  <tbody>\n    <tr>\n      <th>0</th>\n      <td>406.116411</td>\n    </tr>\n    <tr>\n      <th>1</th>\n      <td>1518.506017</td>\n    </tr>\n    <tr>\n      <th>2</th>\n      <td>9809.310560</td>\n    </tr>\n    <tr>\n      <th>3</th>\n      <td>507.105117</td>\n    </tr>\n    <tr>\n      <th>4</th>\n      <td>9301.107762</td>\n    </tr>\n    <tr>\n      <th>...</th>\n      <td>...</td>\n    </tr>\n    <tr>\n      <th>13444</th>\n      <td>4678.042759</td>\n    </tr>\n    <tr>\n      <th>13445</th>\n      <td>497.939913</td>\n    </tr>\n    <tr>\n      <th>13446</th>\n      <td>15306.840933</td>\n    </tr>\n    <tr>\n      <th>13447</th>\n      <td>10139.667918</td>\n    </tr>\n    <tr>\n      <th>13448</th>\n      <td>735.900662</td>\n    </tr>\n  </tbody>\n</table>\n<p>13449 rows × 1 columns</p>\n</div>"
     },
     "metadata": {},
     "execution_count": 15
    }
   ],
   "source": [
    "pd.DataFrame(predictions_submit)"
   ]
  },
  {
   "cell_type": "code",
   "execution_count": 16,
   "metadata": {},
   "outputs": [],
   "source": [
    "submission = pd.DataFrame({\"id\": range(len(predictions_submit)), \"price\": predictions_submit})"
   ]
  },
  {
   "cell_type": "code",
   "execution_count": 17,
   "metadata": {},
   "outputs": [],
   "source": [
    "submission.to_csv(\"submission.csv\", index = False)"
   ]
  },
  {
   "cell_type": "code",
   "execution_count": null,
   "metadata": {},
   "outputs": [],
   "source": []
  }
 ]
}