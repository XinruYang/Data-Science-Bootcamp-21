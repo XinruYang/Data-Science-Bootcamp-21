{
 "metadata": {
  "language_info": {
   "codemirror_mode": {
    "name": "ipython",
    "version": 3
   },
   "file_extension": ".py",
   "mimetype": "text/x-python",
   "name": "python",
   "nbconvert_exporter": "python",
   "pygments_lexer": "ipython3",
   "version": "3.7.4"
  },
  "orig_nbformat": 4,
  "kernelspec": {
   "name": "python3",
   "display_name": "Python 3.7.4 64-bit"
  },
  "interpreter": {
   "hash": "fc2c00f0e2c44cb4028bd693f18a1b5d93d1de4cd12db71fca36ff691a163044"
  }
 },
 "nbformat": 4,
 "nbformat_minor": 2,
 "cells": [
  {
   "cell_type": "code",
   "execution_count": 21,
   "metadata": {},
   "outputs": [],
   "source": [
    "import numpy as np\n",
    "import pandas as pd\n",
    "\n",
    "from sklearn.metrics import mean_squared_error\n",
    "from sklearn.metrics import r2_score, mean_absolute_error\n",
    "\n",
    "from sklearn.model_selection import train_test_split\n",
    "from sklearn.svm import SVR\n",
    "from sklearn.linear_model import LinearRegression\n",
    "import seaborn as sns \n"
   ]
  },
  {
   "cell_type": "code",
   "execution_count": 22,
   "metadata": {},
   "outputs": [],
   "source": [
    "df = pd.read_csv(\"diamonds_train.csv\", index_col=0)"
   ]
  },
  {
   "cell_type": "code",
   "execution_count": 23,
   "metadata": {},
   "outputs": [],
   "source": [
    "df[\"carat\"] = 10*df[\"carat\"]\n",
    "\n",
    "df[\"cut\"] = df[\"cut\"].apply(lambda x: x.replace(\"Fair\",\"0\"))\n",
    "df[\"cut\"] = df[\"cut\"].apply(lambda x: x.replace(\"Very Good\",\"2\"))\n",
    "df[\"cut\"] = df[\"cut\"].apply(lambda x: x.replace(\"Good\",\"1\"))\n",
    "df[\"cut\"] = df[\"cut\"].apply(lambda x: x.replace(\"Ideal\",\"3\"))\n",
    "df[\"cut\"] = df[\"cut\"].apply(lambda x: x.replace(\"Premium\",\"4\"))\n",
    "df[\"cut\"] = df[\"cut\"].astype(int)\n",
    "\n",
    "df[\"color\"] = df[\"color\"].apply(lambda x: x.replace(\"D\",\"10\"))\n",
    "df[\"color\"] = df[\"color\"].apply(lambda x: x.replace(\"E\",\"9\"))\n",
    "df[\"color\"] = df[\"color\"].apply(lambda x: x.replace(\"F\",\"8\"))\n",
    "df[\"color\"] = df[\"color\"].apply(lambda x: x.replace(\"G\",\"6\"))\n",
    "df[\"color\"] = df[\"color\"].apply(lambda x: x.replace(\"H\",\"5\"))\n",
    "df[\"color\"] = df[\"color\"].apply(lambda x: x.replace(\"I\",\"4\"))\n",
    "df[\"color\"] = df[\"color\"].apply(lambda x: x.replace(\"J\",\"0\"))\n",
    "df[\"color\"] = df[\"color\"].astype(int)\n",
    "\n",
    "df[\"clarity\"] = df[\"clarity\"].apply(lambda x: x.replace(\"SI1\",\"3\"))\n",
    "df[\"clarity\"] = df[\"clarity\"].apply(lambda x: x.replace(\"SI2\",\"2\"))\n",
    "df[\"clarity\"] = df[\"clarity\"].apply(lambda x: x.replace(\"I1\",\"0\"))\n",
    "df[\"clarity\"] = df[\"clarity\"].apply(lambda x: x.replace(\"IF\",\"10\"))\n",
    "df[\"clarity\"] = df[\"clarity\"].apply(lambda x: x.replace(\"VVS1\",\"9\"))\n",
    "df[\"clarity\"] = df[\"clarity\"].apply(lambda x: x.replace(\"VVS2\",\"8\"))\n",
    "df[\"clarity\"] = df[\"clarity\"].apply(lambda x: x.replace(\"VS1\",\"7\"))\n",
    "df[\"clarity\"] = df[\"clarity\"].apply(lambda x: x.replace(\"VS2\",\"6\"))\n",
    "df[\"clarity\"] = df[\"clarity\"].astype(int)\n"
   ]
  },
  {
   "cell_type": "code",
   "execution_count": null,
   "metadata": {},
   "outputs": [],
   "source": []
  },
  {
   "cell_type": "code",
   "execution_count": 24,
   "metadata": {},
   "outputs": [
    {
     "output_type": "execute_result",
     "data": {
      "text/plain": [
       "       carat  cut  color  clarity  depth  table     x     y     z  price\n",
       "9391     7.0    1      8        2   63.6   56.0  5.63  5.56  3.56   1806\n",
       "34382    5.0    2      9        7   60.0   60.0  5.13  5.20  3.10   1806\n",
       "34262   10.0    0      4        0   68.6   56.0  6.20  6.08  4.22   1805\n",
       "20036    6.1    2      8        6   62.6   60.0  5.34  5.39  3.36   1805\n",
       "20364    5.5    3      8        7   61.4   55.0  5.24  5.28  3.23   1805\n",
       "35783    5.4    3      6        7   61.8   55.3  5.22  5.24  3.23   1804\n",
       "29166    5.2    3      6        7   61.9   55.5  5.13  5.16  3.18   1803\n",
       "14227    5.3    3      8        6   61.6   57.0  5.21  5.15  3.19   1803\n",
       "6900     7.0    0      5        3   65.0   59.0  5.54  5.50  3.59   1803\n",
       "30575    5.2    3      6        7   61.2   56.0  5.19  5.23  3.19   1803\n",
       "1948     5.6    3     10        3   61.9   55.0  5.31  5.29  3.28   1803\n",
       "5215     5.9    3      6        7   64.1   54.0  5.37  5.30  3.42   1803\n",
       "2593     7.3    0      0        7   64.6   60.0  5.68  5.59  3.64   1802\n",
       "35320    6.6    4      8        3   60.6   58.0  5.69  5.63  3.43   1802\n",
       "1662     5.2    3     10        6   61.9   55.0  5.19  5.21  3.22   1802\n",
       "35995    7.0    2      4        2   63.5   56.0  5.63  5.59  3.56   1801\n",
       "32527    5.4    3      6        8   62.6   57.0  5.19  5.23  3.26   1801\n",
       "31502    5.0    4      9        7   60.4   60.0  5.16  5.10  3.10   1801\n",
       "40013    5.0    2      9        7   60.9   58.0  5.07  5.11  3.10   1801\n",
       "5044     5.3    3      9        6   61.5   56.0  5.23  5.18  3.20   1801"
      ],
      "text/html": "<div>\n<style scoped>\n    .dataframe tbody tr th:only-of-type {\n        vertical-align: middle;\n    }\n\n    .dataframe tbody tr th {\n        vertical-align: top;\n    }\n\n    .dataframe thead th {\n        text-align: right;\n    }\n</style>\n<table border=\"1\" class=\"dataframe\">\n  <thead>\n    <tr style=\"text-align: right;\">\n      <th></th>\n      <th>carat</th>\n      <th>cut</th>\n      <th>color</th>\n      <th>clarity</th>\n      <th>depth</th>\n      <th>table</th>\n      <th>x</th>\n      <th>y</th>\n      <th>z</th>\n      <th>price</th>\n    </tr>\n  </thead>\n  <tbody>\n    <tr>\n      <th>9391</th>\n      <td>7.0</td>\n      <td>1</td>\n      <td>8</td>\n      <td>2</td>\n      <td>63.6</td>\n      <td>56.0</td>\n      <td>5.63</td>\n      <td>5.56</td>\n      <td>3.56</td>\n      <td>1806</td>\n    </tr>\n    <tr>\n      <th>34382</th>\n      <td>5.0</td>\n      <td>2</td>\n      <td>9</td>\n      <td>7</td>\n      <td>60.0</td>\n      <td>60.0</td>\n      <td>5.13</td>\n      <td>5.20</td>\n      <td>3.10</td>\n      <td>1806</td>\n    </tr>\n    <tr>\n      <th>34262</th>\n      <td>10.0</td>\n      <td>0</td>\n      <td>4</td>\n      <td>0</td>\n      <td>68.6</td>\n      <td>56.0</td>\n      <td>6.20</td>\n      <td>6.08</td>\n      <td>4.22</td>\n      <td>1805</td>\n    </tr>\n    <tr>\n      <th>20036</th>\n      <td>6.1</td>\n      <td>2</td>\n      <td>8</td>\n      <td>6</td>\n      <td>62.6</td>\n      <td>60.0</td>\n      <td>5.34</td>\n      <td>5.39</td>\n      <td>3.36</td>\n      <td>1805</td>\n    </tr>\n    <tr>\n      <th>20364</th>\n      <td>5.5</td>\n      <td>3</td>\n      <td>8</td>\n      <td>7</td>\n      <td>61.4</td>\n      <td>55.0</td>\n      <td>5.24</td>\n      <td>5.28</td>\n      <td>3.23</td>\n      <td>1805</td>\n    </tr>\n    <tr>\n      <th>35783</th>\n      <td>5.4</td>\n      <td>3</td>\n      <td>6</td>\n      <td>7</td>\n      <td>61.8</td>\n      <td>55.3</td>\n      <td>5.22</td>\n      <td>5.24</td>\n      <td>3.23</td>\n      <td>1804</td>\n    </tr>\n    <tr>\n      <th>29166</th>\n      <td>5.2</td>\n      <td>3</td>\n      <td>6</td>\n      <td>7</td>\n      <td>61.9</td>\n      <td>55.5</td>\n      <td>5.13</td>\n      <td>5.16</td>\n      <td>3.18</td>\n      <td>1803</td>\n    </tr>\n    <tr>\n      <th>14227</th>\n      <td>5.3</td>\n      <td>3</td>\n      <td>8</td>\n      <td>6</td>\n      <td>61.6</td>\n      <td>57.0</td>\n      <td>5.21</td>\n      <td>5.15</td>\n      <td>3.19</td>\n      <td>1803</td>\n    </tr>\n    <tr>\n      <th>6900</th>\n      <td>7.0</td>\n      <td>0</td>\n      <td>5</td>\n      <td>3</td>\n      <td>65.0</td>\n      <td>59.0</td>\n      <td>5.54</td>\n      <td>5.50</td>\n      <td>3.59</td>\n      <td>1803</td>\n    </tr>\n    <tr>\n      <th>30575</th>\n      <td>5.2</td>\n      <td>3</td>\n      <td>6</td>\n      <td>7</td>\n      <td>61.2</td>\n      <td>56.0</td>\n      <td>5.19</td>\n      <td>5.23</td>\n      <td>3.19</td>\n      <td>1803</td>\n    </tr>\n    <tr>\n      <th>1948</th>\n      <td>5.6</td>\n      <td>3</td>\n      <td>10</td>\n      <td>3</td>\n      <td>61.9</td>\n      <td>55.0</td>\n      <td>5.31</td>\n      <td>5.29</td>\n      <td>3.28</td>\n      <td>1803</td>\n    </tr>\n    <tr>\n      <th>5215</th>\n      <td>5.9</td>\n      <td>3</td>\n      <td>6</td>\n      <td>7</td>\n      <td>64.1</td>\n      <td>54.0</td>\n      <td>5.37</td>\n      <td>5.30</td>\n      <td>3.42</td>\n      <td>1803</td>\n    </tr>\n    <tr>\n      <th>2593</th>\n      <td>7.3</td>\n      <td>0</td>\n      <td>0</td>\n      <td>7</td>\n      <td>64.6</td>\n      <td>60.0</td>\n      <td>5.68</td>\n      <td>5.59</td>\n      <td>3.64</td>\n      <td>1802</td>\n    </tr>\n    <tr>\n      <th>35320</th>\n      <td>6.6</td>\n      <td>4</td>\n      <td>8</td>\n      <td>3</td>\n      <td>60.6</td>\n      <td>58.0</td>\n      <td>5.69</td>\n      <td>5.63</td>\n      <td>3.43</td>\n      <td>1802</td>\n    </tr>\n    <tr>\n      <th>1662</th>\n      <td>5.2</td>\n      <td>3</td>\n      <td>10</td>\n      <td>6</td>\n      <td>61.9</td>\n      <td>55.0</td>\n      <td>5.19</td>\n      <td>5.21</td>\n      <td>3.22</td>\n      <td>1802</td>\n    </tr>\n    <tr>\n      <th>35995</th>\n      <td>7.0</td>\n      <td>2</td>\n      <td>4</td>\n      <td>2</td>\n      <td>63.5</td>\n      <td>56.0</td>\n      <td>5.63</td>\n      <td>5.59</td>\n      <td>3.56</td>\n      <td>1801</td>\n    </tr>\n    <tr>\n      <th>32527</th>\n      <td>5.4</td>\n      <td>3</td>\n      <td>6</td>\n      <td>8</td>\n      <td>62.6</td>\n      <td>57.0</td>\n      <td>5.19</td>\n      <td>5.23</td>\n      <td>3.26</td>\n      <td>1801</td>\n    </tr>\n    <tr>\n      <th>31502</th>\n      <td>5.0</td>\n      <td>4</td>\n      <td>9</td>\n      <td>7</td>\n      <td>60.4</td>\n      <td>60.0</td>\n      <td>5.16</td>\n      <td>5.10</td>\n      <td>3.10</td>\n      <td>1801</td>\n    </tr>\n    <tr>\n      <th>40013</th>\n      <td>5.0</td>\n      <td>2</td>\n      <td>9</td>\n      <td>7</td>\n      <td>60.9</td>\n      <td>58.0</td>\n      <td>5.07</td>\n      <td>5.11</td>\n      <td>3.10</td>\n      <td>1801</td>\n    </tr>\n    <tr>\n      <th>5044</th>\n      <td>5.3</td>\n      <td>3</td>\n      <td>9</td>\n      <td>6</td>\n      <td>61.5</td>\n      <td>56.0</td>\n      <td>5.23</td>\n      <td>5.18</td>\n      <td>3.20</td>\n      <td>1801</td>\n    </tr>\n  </tbody>\n</table>\n</div>"
     },
     "metadata": {},
     "execution_count": 24
    }
   ],
   "source": [
    "df[df[\"price\"] > 1800].sort_values(by=\"price\", ascending=False).tail(20)"
   ]
  },
  {
   "cell_type": "code",
   "execution_count": 25,
   "metadata": {},
   "outputs": [],
   "source": [
    "# df.drop(df[df[\"carat\"] > 28].index, inplace=True)"
   ]
  },
  {
   "cell_type": "code",
   "execution_count": 26,
   "metadata": {},
   "outputs": [
    {
     "output_type": "execute_result",
     "data": {
      "text/plain": [
       "       carat  cut  color  clarity  depth  table     x     y     z  price\n",
       "11382    2.3    2      6        8   60.4   58.0  3.97  4.01  2.41    354\n",
       "23211    3.1    2      0        3   59.4   62.0  4.39  4.43  2.62    353\n",
       "16123    2.3    2      5        7   61.0   57.0  3.94  3.96  2.41    353\n",
       "29449    2.3    2      9        6   63.8   55.0  3.85  3.92  2.48    352\n",
       "9318     3.0    1      4        2   63.3   56.0  4.26  4.30  2.71    351\n",
       "1162     3.0    1      0        3   63.8   56.0  4.23  4.26  2.71    351\n",
       "18471    3.0    1      0        3   63.4   54.0  4.23  4.29  2.70    351\n",
       "35842    3.0    3      4        2   62.0   54.0  4.31  4.34  2.68    348\n",
       "39266    2.0    4      9        2   60.2   62.0  3.79  3.75  2.27    345\n",
       "4504     3.2    4      9        0   60.9   58.0  4.38  4.42  2.68    345\n",
       "33254    3.1    3      0        2   62.2   54.0  4.35  4.37  2.71    344\n",
       "18590    2.2    4      8        3   60.4   61.0  3.88  3.84  2.33    342\n",
       "3965     2.3    3      0        7   62.8   56.0  3.93  3.90  2.46    340\n",
       "20790    3.0    1      0        3   64.0   55.0  4.25  4.28  2.73    339\n",
       "10624    2.6    2      5        3   61.9   55.0  4.07  4.11  2.53    337\n",
       "5759     2.2    0      9        6   65.1   61.0  3.87  3.78  2.49    337\n",
       "37476    2.4    2      4        9   62.3   57.0  3.95  3.98  2.47    336\n",
       "4163     3.1    1      0        2   63.3   58.0  4.34  4.35  2.75    335\n",
       "25887    2.1    4      9        3   59.8   61.0  3.89  3.84  2.31    326\n",
       "31702    2.3    3      9        2   61.5   55.0  3.95  3.98  2.43    326"
      ],
      "text/html": "<div>\n<style scoped>\n    .dataframe tbody tr th:only-of-type {\n        vertical-align: middle;\n    }\n\n    .dataframe tbody tr th {\n        vertical-align: top;\n    }\n\n    .dataframe thead th {\n        text-align: right;\n    }\n</style>\n<table border=\"1\" class=\"dataframe\">\n  <thead>\n    <tr style=\"text-align: right;\">\n      <th></th>\n      <th>carat</th>\n      <th>cut</th>\n      <th>color</th>\n      <th>clarity</th>\n      <th>depth</th>\n      <th>table</th>\n      <th>x</th>\n      <th>y</th>\n      <th>z</th>\n      <th>price</th>\n    </tr>\n  </thead>\n  <tbody>\n    <tr>\n      <th>11382</th>\n      <td>2.3</td>\n      <td>2</td>\n      <td>6</td>\n      <td>8</td>\n      <td>60.4</td>\n      <td>58.0</td>\n      <td>3.97</td>\n      <td>4.01</td>\n      <td>2.41</td>\n      <td>354</td>\n    </tr>\n    <tr>\n      <th>23211</th>\n      <td>3.1</td>\n      <td>2</td>\n      <td>0</td>\n      <td>3</td>\n      <td>59.4</td>\n      <td>62.0</td>\n      <td>4.39</td>\n      <td>4.43</td>\n      <td>2.62</td>\n      <td>353</td>\n    </tr>\n    <tr>\n      <th>16123</th>\n      <td>2.3</td>\n      <td>2</td>\n      <td>5</td>\n      <td>7</td>\n      <td>61.0</td>\n      <td>57.0</td>\n      <td>3.94</td>\n      <td>3.96</td>\n      <td>2.41</td>\n      <td>353</td>\n    </tr>\n    <tr>\n      <th>29449</th>\n      <td>2.3</td>\n      <td>2</td>\n      <td>9</td>\n      <td>6</td>\n      <td>63.8</td>\n      <td>55.0</td>\n      <td>3.85</td>\n      <td>3.92</td>\n      <td>2.48</td>\n      <td>352</td>\n    </tr>\n    <tr>\n      <th>9318</th>\n      <td>3.0</td>\n      <td>1</td>\n      <td>4</td>\n      <td>2</td>\n      <td>63.3</td>\n      <td>56.0</td>\n      <td>4.26</td>\n      <td>4.30</td>\n      <td>2.71</td>\n      <td>351</td>\n    </tr>\n    <tr>\n      <th>1162</th>\n      <td>3.0</td>\n      <td>1</td>\n      <td>0</td>\n      <td>3</td>\n      <td>63.8</td>\n      <td>56.0</td>\n      <td>4.23</td>\n      <td>4.26</td>\n      <td>2.71</td>\n      <td>351</td>\n    </tr>\n    <tr>\n      <th>18471</th>\n      <td>3.0</td>\n      <td>1</td>\n      <td>0</td>\n      <td>3</td>\n      <td>63.4</td>\n      <td>54.0</td>\n      <td>4.23</td>\n      <td>4.29</td>\n      <td>2.70</td>\n      <td>351</td>\n    </tr>\n    <tr>\n      <th>35842</th>\n      <td>3.0</td>\n      <td>3</td>\n      <td>4</td>\n      <td>2</td>\n      <td>62.0</td>\n      <td>54.0</td>\n      <td>4.31</td>\n      <td>4.34</td>\n      <td>2.68</td>\n      <td>348</td>\n    </tr>\n    <tr>\n      <th>39266</th>\n      <td>2.0</td>\n      <td>4</td>\n      <td>9</td>\n      <td>2</td>\n      <td>60.2</td>\n      <td>62.0</td>\n      <td>3.79</td>\n      <td>3.75</td>\n      <td>2.27</td>\n      <td>345</td>\n    </tr>\n    <tr>\n      <th>4504</th>\n      <td>3.2</td>\n      <td>4</td>\n      <td>9</td>\n      <td>0</td>\n      <td>60.9</td>\n      <td>58.0</td>\n      <td>4.38</td>\n      <td>4.42</td>\n      <td>2.68</td>\n      <td>345</td>\n    </tr>\n    <tr>\n      <th>33254</th>\n      <td>3.1</td>\n      <td>3</td>\n      <td>0</td>\n      <td>2</td>\n      <td>62.2</td>\n      <td>54.0</td>\n      <td>4.35</td>\n      <td>4.37</td>\n      <td>2.71</td>\n      <td>344</td>\n    </tr>\n    <tr>\n      <th>18590</th>\n      <td>2.2</td>\n      <td>4</td>\n      <td>8</td>\n      <td>3</td>\n      <td>60.4</td>\n      <td>61.0</td>\n      <td>3.88</td>\n      <td>3.84</td>\n      <td>2.33</td>\n      <td>342</td>\n    </tr>\n    <tr>\n      <th>3965</th>\n      <td>2.3</td>\n      <td>3</td>\n      <td>0</td>\n      <td>7</td>\n      <td>62.8</td>\n      <td>56.0</td>\n      <td>3.93</td>\n      <td>3.90</td>\n      <td>2.46</td>\n      <td>340</td>\n    </tr>\n    <tr>\n      <th>20790</th>\n      <td>3.0</td>\n      <td>1</td>\n      <td>0</td>\n      <td>3</td>\n      <td>64.0</td>\n      <td>55.0</td>\n      <td>4.25</td>\n      <td>4.28</td>\n      <td>2.73</td>\n      <td>339</td>\n    </tr>\n    <tr>\n      <th>10624</th>\n      <td>2.6</td>\n      <td>2</td>\n      <td>5</td>\n      <td>3</td>\n      <td>61.9</td>\n      <td>55.0</td>\n      <td>4.07</td>\n      <td>4.11</td>\n      <td>2.53</td>\n      <td>337</td>\n    </tr>\n    <tr>\n      <th>5759</th>\n      <td>2.2</td>\n      <td>0</td>\n      <td>9</td>\n      <td>6</td>\n      <td>65.1</td>\n      <td>61.0</td>\n      <td>3.87</td>\n      <td>3.78</td>\n      <td>2.49</td>\n      <td>337</td>\n    </tr>\n    <tr>\n      <th>37476</th>\n      <td>2.4</td>\n      <td>2</td>\n      <td>4</td>\n      <td>9</td>\n      <td>62.3</td>\n      <td>57.0</td>\n      <td>3.95</td>\n      <td>3.98</td>\n      <td>2.47</td>\n      <td>336</td>\n    </tr>\n    <tr>\n      <th>4163</th>\n      <td>3.1</td>\n      <td>1</td>\n      <td>0</td>\n      <td>2</td>\n      <td>63.3</td>\n      <td>58.0</td>\n      <td>4.34</td>\n      <td>4.35</td>\n      <td>2.75</td>\n      <td>335</td>\n    </tr>\n    <tr>\n      <th>25887</th>\n      <td>2.1</td>\n      <td>4</td>\n      <td>9</td>\n      <td>3</td>\n      <td>59.8</td>\n      <td>61.0</td>\n      <td>3.89</td>\n      <td>3.84</td>\n      <td>2.31</td>\n      <td>326</td>\n    </tr>\n    <tr>\n      <th>31702</th>\n      <td>2.3</td>\n      <td>3</td>\n      <td>9</td>\n      <td>2</td>\n      <td>61.5</td>\n      <td>55.0</td>\n      <td>3.95</td>\n      <td>3.98</td>\n      <td>2.43</td>\n      <td>326</td>\n    </tr>\n  </tbody>\n</table>\n</div>"
     },
     "metadata": {},
     "execution_count": 26
    }
   ],
   "source": [
    "df[df[\"price\"] < 800].sort_values(by=\"price\", ascending=False).tail(20)"
   ]
  },
  {
   "cell_type": "code",
   "execution_count": 27,
   "metadata": {},
   "outputs": [],
   "source": [
    "X = np.array(df[[\"carat\",\"color\",\"cut\",\"clarity\" ,\"y\"]])\n",
    "y = np.array(df[\"price\"])"
   ]
  },
  {
   "cell_type": "code",
   "execution_count": 28,
   "metadata": {},
   "outputs": [],
   "source": [
    "X_train, X_test, y_train, y_test = train_test_split(X, y, test_size = 0.0001, random_state = 235)"
   ]
  },
  {
   "cell_type": "code",
   "execution_count": 29,
   "metadata": {},
   "outputs": [
    {
     "output_type": "stream",
     "name": "stderr",
     "text": [
      "C:\\Users\\xyang\\AppData\\Local\\Programs\\Python\\Python37\\lib\\site-packages\\sklearn\\svm\\_base.py:258: ConvergenceWarning: Solver terminated early (max_iter=999999).  Consider pre-processing your data with StandardScaler or MinMaxScaler.\n  % self.max_iter, ConvergenceWarning)\n"
     ]
    },
    {
     "output_type": "execute_result",
     "data": {
      "text/plain": [
       "SVR(C=10000, gamma='auto', max_iter=999999)"
      ]
     },
     "metadata": {},
     "execution_count": 29
    }
   ],
   "source": [
    "svr_rbf = SVR(kernel='rbf', C=10000, gamma=\"auto\", epsilon=0.1, max_iter=999999)\n",
    "svr_rbf.fit(X_train, y_train)"
   ]
  },
  {
   "cell_type": "code",
   "execution_count": 30,
   "metadata": {},
   "outputs": [
    {
     "output_type": "stream",
     "name": "stdout",
     "text": [
      "0.9943447946667261\n"
     ]
    },
    {
     "output_type": "execute_result",
     "data": {
      "text/plain": [
       "83.34133930737806"
      ]
     },
     "metadata": {},
     "execution_count": 30
    }
   ],
   "source": [
    "y_test_pred = svr_rbf.predict(X_test)\n",
    "print(r2_score(y_test, y_test_pred))\n",
    "np.sqrt(mean_squared_error(y_test, y_test_pred))"
   ]
  },
  {
   "cell_type": "code",
   "execution_count": 31,
   "metadata": {},
   "outputs": [],
   "source": [
    "# C = 10000/ 555.1367153891555\n",
    "\n",
    "# x --> 550.8611897991423\n",
    "# y --> 541.3904810385991\n",
    "# z --> 546.4043006671172"
   ]
  },
  {
   "cell_type": "code",
   "execution_count": 32,
   "metadata": {},
   "outputs": [
    {
     "output_type": "execute_result",
     "data": {
      "text/plain": [
       "   y_test       y_pred\n",
       "0    2041  1892.885690\n",
       "1     640   742.255395\n",
       "2    3583  3538.344228\n",
       "3     616   603.497763\n",
       "4    1243  1229.419286"
      ],
      "text/html": "<div>\n<style scoped>\n    .dataframe tbody tr th:only-of-type {\n        vertical-align: middle;\n    }\n\n    .dataframe tbody tr th {\n        vertical-align: top;\n    }\n\n    .dataframe thead th {\n        text-align: right;\n    }\n</style>\n<table border=\"1\" class=\"dataframe\">\n  <thead>\n    <tr style=\"text-align: right;\">\n      <th></th>\n      <th>y_test</th>\n      <th>y_pred</th>\n    </tr>\n  </thead>\n  <tbody>\n    <tr>\n      <th>0</th>\n      <td>2041</td>\n      <td>1892.885690</td>\n    </tr>\n    <tr>\n      <th>1</th>\n      <td>640</td>\n      <td>742.255395</td>\n    </tr>\n    <tr>\n      <th>2</th>\n      <td>3583</td>\n      <td>3538.344228</td>\n    </tr>\n    <tr>\n      <th>3</th>\n      <td>616</td>\n      <td>603.497763</td>\n    </tr>\n    <tr>\n      <th>4</th>\n      <td>1243</td>\n      <td>1229.419286</td>\n    </tr>\n  </tbody>\n</table>\n</div>"
     },
     "metadata": {},
     "execution_count": 32
    }
   ],
   "source": [
    "pd.DataFrame({\"y_test\":y_test,\"y_pred\": y_test_pred})"
   ]
  },
  {
   "source": [
    "### PREDECIR TEST"
   ],
   "cell_type": "markdown",
   "metadata": {}
  },
  {
   "cell_type": "code",
   "execution_count": 33,
   "metadata": {},
   "outputs": [],
   "source": [
    "X_pred = pd.read_csv(\"diamonds_test.csv\", index_col = 0)"
   ]
  },
  {
   "cell_type": "code",
   "execution_count": 34,
   "metadata": {},
   "outputs": [],
   "source": [
    "X_pred[\"carat\"] = 10*X_pred[\"carat\"]"
   ]
  },
  {
   "cell_type": "code",
   "execution_count": 35,
   "metadata": {},
   "outputs": [],
   "source": [
    "X_pred[\"cut\"] = X_pred[\"cut\"].apply(lambda x: x.replace(\"Fair\",\"0\"))\n",
    "X_pred[\"cut\"] = X_pred[\"cut\"].apply(lambda x: x.replace(\"Very Good\",\"2\"))\n",
    "X_pred[\"cut\"] = X_pred[\"cut\"].apply(lambda x: x.replace(\"Good\",\"1\"))\n",
    "X_pred[\"cut\"] = X_pred[\"cut\"].apply(lambda x: x.replace(\"Ideal\",\"3\"))\n",
    "X_pred[\"cut\"] = X_pred[\"cut\"].apply(lambda x: x.replace(\"Premium\",\"4\"))\n",
    "X_pred[\"cut\"] = X_pred[\"cut\"].astype(int)"
   ]
  },
  {
   "cell_type": "code",
   "execution_count": 36,
   "metadata": {},
   "outputs": [],
   "source": [
    "\n",
    "\n",
    "X_pred[\"color\"] = X_pred[\"color\"].apply(lambda x: x.replace(\"D\",\"10\"))\n",
    "X_pred[\"color\"] = X_pred[\"color\"].apply(lambda x: x.replace(\"E\",\"9\"))\n",
    "X_pred[\"color\"] = X_pred[\"color\"].apply(lambda x: x.replace(\"F\",\"8\"))\n",
    "X_pred[\"color\"] = X_pred[\"color\"].apply(lambda x: x.replace(\"G\",\"6\"))\n",
    "X_pred[\"color\"] = X_pred[\"color\"].apply(lambda x: x.replace(\"H\",\"5\"))\n",
    "X_pred[\"color\"] = X_pred[\"color\"].apply(lambda x: x.replace(\"I\",\"4\"))\n",
    "X_pred[\"color\"] = X_pred[\"color\"].apply(lambda x: x.replace(\"J\",\"0\"))\n",
    "X_pred[\"color\"] = X_pred[\"color\"].astype(int)\n",
    "\n",
    "X_pred[\"clarity\"] = X_pred[\"clarity\"].apply(lambda x: x.replace(\"SI1\",\"3\"))\n",
    "X_pred[\"clarity\"] = X_pred[\"clarity\"].apply(lambda x: x.replace(\"SI2\",\"2\"))\n",
    "X_pred[\"clarity\"] = X_pred[\"clarity\"].apply(lambda x: x.replace(\"I1\",\"0\"))\n",
    "X_pred[\"clarity\"] = X_pred[\"clarity\"].apply(lambda x: x.replace(\"IF\",\"10\"))\n",
    "X_pred[\"clarity\"] = X_pred[\"clarity\"].apply(lambda x: x.replace(\"VVS1\",\"9\"))\n",
    "X_pred[\"clarity\"] = X_pred[\"clarity\"].apply(lambda x: x.replace(\"VVS2\",\"8\"))\n",
    "X_pred[\"clarity\"] = X_pred[\"clarity\"].apply(lambda x: x.replace(\"VS1\",\"7\"))\n",
    "X_pred[\"clarity\"] = X_pred[\"clarity\"].apply(lambda x: x.replace(\"VS2\",\"6\"))\n",
    "X_pred[\"clarity\"] = X_pred[\"clarity\"].astype(int)\n"
   ]
  },
  {
   "cell_type": "code",
   "execution_count": 37,
   "metadata": {},
   "outputs": [],
   "source": [
    "X_pred = np.array(X_pred[[\"carat\",\"cut\", \"color\", \"clarity\", \"y\"]])"
   ]
  },
  {
   "cell_type": "code",
   "execution_count": 38,
   "metadata": {},
   "outputs": [
    {
     "output_type": "execute_result",
     "data": {
      "text/plain": [
       "          0    1     2     3     4\n",
       "0       3.0  3.0   5.0   2.0  4.43\n",
       "1       3.4  3.0  10.0  10.0  4.46\n",
       "2      15.7  2.0   4.0   6.0  7.55\n",
       "3       3.1  3.0   5.0   6.0  4.36\n",
       "4      15.1  1.0   4.0   9.0  7.21\n",
       "...     ...  ...   ...   ...   ...\n",
       "13444  10.5  3.0   8.0   2.0  6.68\n",
       "13445   2.7  2.0   6.0   7.0  4.16\n",
       "13446  15.0  4.0  10.0   6.0  7.37\n",
       "13447  17.0  4.0   8.0   2.0  7.68\n",
       "13448   3.0  3.0  10.0   6.0  4.34\n",
       "\n",
       "[13449 rows x 5 columns]"
      ],
      "text/html": "<div>\n<style scoped>\n    .dataframe tbody tr th:only-of-type {\n        vertical-align: middle;\n    }\n\n    .dataframe tbody tr th {\n        vertical-align: top;\n    }\n\n    .dataframe thead th {\n        text-align: right;\n    }\n</style>\n<table border=\"1\" class=\"dataframe\">\n  <thead>\n    <tr style=\"text-align: right;\">\n      <th></th>\n      <th>0</th>\n      <th>1</th>\n      <th>2</th>\n      <th>3</th>\n      <th>4</th>\n    </tr>\n  </thead>\n  <tbody>\n    <tr>\n      <th>0</th>\n      <td>3.0</td>\n      <td>3.0</td>\n      <td>5.0</td>\n      <td>2.0</td>\n      <td>4.43</td>\n    </tr>\n    <tr>\n      <th>1</th>\n      <td>3.4</td>\n      <td>3.0</td>\n      <td>10.0</td>\n      <td>10.0</td>\n      <td>4.46</td>\n    </tr>\n    <tr>\n      <th>2</th>\n      <td>15.7</td>\n      <td>2.0</td>\n      <td>4.0</td>\n      <td>6.0</td>\n      <td>7.55</td>\n    </tr>\n    <tr>\n      <th>3</th>\n      <td>3.1</td>\n      <td>3.0</td>\n      <td>5.0</td>\n      <td>6.0</td>\n      <td>4.36</td>\n    </tr>\n    <tr>\n      <th>4</th>\n      <td>15.1</td>\n      <td>1.0</td>\n      <td>4.0</td>\n      <td>9.0</td>\n      <td>7.21</td>\n    </tr>\n    <tr>\n      <th>...</th>\n      <td>...</td>\n      <td>...</td>\n      <td>...</td>\n      <td>...</td>\n      <td>...</td>\n    </tr>\n    <tr>\n      <th>13444</th>\n      <td>10.5</td>\n      <td>3.0</td>\n      <td>8.0</td>\n      <td>2.0</td>\n      <td>6.68</td>\n    </tr>\n    <tr>\n      <th>13445</th>\n      <td>2.7</td>\n      <td>2.0</td>\n      <td>6.0</td>\n      <td>7.0</td>\n      <td>4.16</td>\n    </tr>\n    <tr>\n      <th>13446</th>\n      <td>15.0</td>\n      <td>4.0</td>\n      <td>10.0</td>\n      <td>6.0</td>\n      <td>7.37</td>\n    </tr>\n    <tr>\n      <th>13447</th>\n      <td>17.0</td>\n      <td>4.0</td>\n      <td>8.0</td>\n      <td>2.0</td>\n      <td>7.68</td>\n    </tr>\n    <tr>\n      <th>13448</th>\n      <td>3.0</td>\n      <td>3.0</td>\n      <td>10.0</td>\n      <td>6.0</td>\n      <td>4.34</td>\n    </tr>\n  </tbody>\n</table>\n<p>13449 rows × 5 columns</p>\n</div>"
     },
     "metadata": {},
     "execution_count": 38
    }
   ],
   "source": [
    "pd.DataFrame(X_pred)"
   ]
  },
  {
   "cell_type": "code",
   "execution_count": 39,
   "metadata": {},
   "outputs": [
    {
     "output_type": "execute_result",
     "data": {
      "text/plain": [
       "array([2368.24043098, 7158.19104086, 8001.8036501 , ..., 7160.5117069 ,\n",
       "       7207.61825522, 7155.62797437])"
      ]
     },
     "metadata": {},
     "execution_count": 39
    }
   ],
   "source": [
    "predictions_submit = svr_rbf.predict(X_pred)\n",
    "predictions_submit"
   ]
  },
  {
   "cell_type": "code",
   "execution_count": 40,
   "metadata": {},
   "outputs": [
    {
     "output_type": "execute_result",
     "data": {
      "text/plain": [
       "                 0\n",
       "0      2368.240431\n",
       "1      7158.191041\n",
       "2      8001.803650\n",
       "3      1956.053119\n",
       "4      9756.320893\n",
       "...            ...\n",
       "13444  6944.069742\n",
       "13445  4399.481956\n",
       "13446  7160.511707\n",
       "13447  7207.618255\n",
       "13448  7155.627974\n",
       "\n",
       "[13449 rows x 1 columns]"
      ],
      "text/html": "<div>\n<style scoped>\n    .dataframe tbody tr th:only-of-type {\n        vertical-align: middle;\n    }\n\n    .dataframe tbody tr th {\n        vertical-align: top;\n    }\n\n    .dataframe thead th {\n        text-align: right;\n    }\n</style>\n<table border=\"1\" class=\"dataframe\">\n  <thead>\n    <tr style=\"text-align: right;\">\n      <th></th>\n      <th>0</th>\n    </tr>\n  </thead>\n  <tbody>\n    <tr>\n      <th>0</th>\n      <td>2368.240431</td>\n    </tr>\n    <tr>\n      <th>1</th>\n      <td>7158.191041</td>\n    </tr>\n    <tr>\n      <th>2</th>\n      <td>8001.803650</td>\n    </tr>\n    <tr>\n      <th>3</th>\n      <td>1956.053119</td>\n    </tr>\n    <tr>\n      <th>4</th>\n      <td>9756.320893</td>\n    </tr>\n    <tr>\n      <th>...</th>\n      <td>...</td>\n    </tr>\n    <tr>\n      <th>13444</th>\n      <td>6944.069742</td>\n    </tr>\n    <tr>\n      <th>13445</th>\n      <td>4399.481956</td>\n    </tr>\n    <tr>\n      <th>13446</th>\n      <td>7160.511707</td>\n    </tr>\n    <tr>\n      <th>13447</th>\n      <td>7207.618255</td>\n    </tr>\n    <tr>\n      <th>13448</th>\n      <td>7155.627974</td>\n    </tr>\n  </tbody>\n</table>\n<p>13449 rows × 1 columns</p>\n</div>"
     },
     "metadata": {},
     "execution_count": 40
    }
   ],
   "source": [
    "pd.DataFrame(predictions_submit)"
   ]
  },
  {
   "cell_type": "code",
   "execution_count": 41,
   "metadata": {},
   "outputs": [],
   "source": [
    "submission = pd.DataFrame({\"id\": range(len(predictions_submit)), \"price\": predictions_submit})"
   ]
  },
  {
   "cell_type": "code",
   "execution_count": 42,
   "metadata": {},
   "outputs": [],
   "source": [
    "submission.to_csv(\"submission6.csv\", index = False)"
   ]
  },
  {
   "cell_type": "code",
   "execution_count": null,
   "metadata": {},
   "outputs": [],
   "source": []
  }
 ]
}