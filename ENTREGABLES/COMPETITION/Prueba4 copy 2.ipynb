{
 "metadata": {
  "language_info": {
   "codemirror_mode": {
    "name": "ipython",
    "version": 3
   },
   "file_extension": ".py",
   "mimetype": "text/x-python",
   "name": "python",
   "nbconvert_exporter": "python",
   "pygments_lexer": "ipython3",
   "version": "3.7.4"
  },
  "orig_nbformat": 4,
  "kernelspec": {
   "name": "python3",
   "display_name": "Python 3.7.4 64-bit"
  },
  "interpreter": {
   "hash": "fc2c00f0e2c44cb4028bd693f18a1b5d93d1de4cd12db71fca36ff691a163044"
  }
 },
 "nbformat": 4,
 "nbformat_minor": 2,
 "cells": [
  {
   "cell_type": "code",
   "execution_count": 1,
   "metadata": {},
   "outputs": [],
   "source": [
    "import numpy as np\n",
    "import pandas as pd\n",
    "\n",
    "from sklearn.metrics import mean_squared_error\n",
    "from sklearn.metrics import r2_score, mean_absolute_error\n",
    "\n",
    "from sklearn.model_selection import train_test_split\n",
    "from sklearn.svm import SVR\n",
    "from sklearn.linear_model import LinearRegression\n"
   ]
  },
  {
   "cell_type": "code",
   "execution_count": 2,
   "metadata": {},
   "outputs": [],
   "source": [
    "df = pd.read_csv(\"diamonds_train.csv\", index_col=0)"
   ]
  },
  {
   "cell_type": "code",
   "execution_count": 3,
   "metadata": {},
   "outputs": [],
   "source": [
    "df[\"cut\"] = df[\"cut\"].apply(lambda x: x.replace(\"Fair\",\"0\"))\n",
    "df[\"cut\"] = df[\"cut\"].apply(lambda x: x.replace(\"Very Good\",\"2\"))\n",
    "df[\"cut\"] = df[\"cut\"].apply(lambda x: x.replace(\"Good\",\"1\"))\n",
    "df[\"cut\"] = df[\"cut\"].apply(lambda x: x.replace(\"Ideal\",\"3\"))\n",
    "df[\"cut\"] = df[\"cut\"].apply(lambda x: x.replace(\"Premium\",\"4\"))\n",
    "df[\"cut\"] = df[\"cut\"].astype(int)\n",
    "\n",
    "df[\"color\"] = df[\"color\"].apply(lambda x: x.replace(\"D\",\"10\"))\n",
    "df[\"color\"] = df[\"color\"].apply(lambda x: x.replace(\"E\",\"9\"))\n",
    "df[\"color\"] = df[\"color\"].apply(lambda x: x.replace(\"F\",\"8\"))\n",
    "df[\"color\"] = df[\"color\"].apply(lambda x: x.replace(\"G\",\"6\"))\n",
    "df[\"color\"] = df[\"color\"].apply(lambda x: x.replace(\"H\",\"5\"))\n",
    "df[\"color\"] = df[\"color\"].apply(lambda x: x.replace(\"I\",\"4\"))\n",
    "df[\"color\"] = df[\"color\"].apply(lambda x: x.replace(\"J\",\"0\"))\n",
    "df[\"color\"] = df[\"color\"].astype(int)\n",
    "\n",
    "df[\"clarity\"] = df[\"clarity\"].apply(lambda x: x.replace(\"SI1\",\"3\"))\n",
    "df[\"clarity\"] = df[\"clarity\"].apply(lambda x: x.replace(\"SI2\",\"2\"))\n",
    "df[\"clarity\"] = df[\"clarity\"].apply(lambda x: x.replace(\"I1\",\"0\"))\n",
    "df[\"clarity\"] = df[\"clarity\"].apply(lambda x: x.replace(\"IF\",\"10\"))\n",
    "df[\"clarity\"] = df[\"clarity\"].apply(lambda x: x.replace(\"VVS1\",\"9\"))\n",
    "df[\"clarity\"] = df[\"clarity\"].apply(lambda x: x.replace(\"VVS2\",\"8\"))\n",
    "df[\"clarity\"] = df[\"clarity\"].apply(lambda x: x.replace(\"VS1\",\"7\"))\n",
    "df[\"clarity\"] = df[\"clarity\"].apply(lambda x: x.replace(\"VS2\",\"6\"))\n",
    "df[\"clarity\"] = df[\"clarity\"].astype(int)\n"
   ]
  },
  {
   "cell_type": "code",
   "execution_count": 4,
   "metadata": {},
   "outputs": [],
   "source": [
    "X = np.array(df[[\"carat\",\"cut\", \"color\", \"clarity\"]])\n",
    "y = np.array(df[\"price\"])"
   ]
  },
  {
   "cell_type": "code",
   "execution_count": 5,
   "metadata": {},
   "outputs": [],
   "source": [
    "X_train, X_test, y_train, y_test = train_test_split(X, y, test_size = 0.20, random_state = 13)"
   ]
  },
  {
   "cell_type": "code",
   "execution_count": 6,
   "metadata": {},
   "outputs": [
    {
     "output_type": "execute_result",
     "data": {
      "text/plain": [
       "SVR(C=2000, degree=5, epsilon=1, gamma='auto', max_iter=999999)"
      ]
     },
     "metadata": {},
     "execution_count": 6
    }
   ],
   "source": [
    "svr_rbf = SVR(kernel='rbf', degree=5, C=2000, gamma=\"auto\", epsilon=1, max_iter=999999)\n",
    "svr_rbf.fit(X_train, y_train)"
   ]
  },
  {
   "cell_type": "code",
   "execution_count": 7,
   "metadata": {},
   "outputs": [],
   "source": [
    "y_train_pred = svr_rbf.predict(X_train)"
   ]
  },
  {
   "cell_type": "code",
   "execution_count": 8,
   "metadata": {},
   "outputs": [],
   "source": [
    "from sklearn.metrics import r2_score, mean_absolute_error, accuracy_score"
   ]
  },
  {
   "cell_type": "code",
   "execution_count": 9,
   "metadata": {},
   "outputs": [
    {
     "output_type": "execute_result",
     "data": {
      "text/plain": [
       "0.9766879706700891"
      ]
     },
     "metadata": {},
     "execution_count": 9
    }
   ],
   "source": [
    "r2_score(y_train, y_train_pred)"
   ]
  },
  {
   "cell_type": "code",
   "execution_count": 10,
   "metadata": {},
   "outputs": [],
   "source": [
    "y_test_pred = svr_rbf.predict(X_test)"
   ]
  },
  {
   "cell_type": "code",
   "execution_count": 11,
   "metadata": {},
   "outputs": [
    {
     "output_type": "execute_result",
     "data": {
      "text/plain": [
       "0.9757696109866039"
      ]
     },
     "metadata": {},
     "execution_count": 11
    }
   ],
   "source": [
    "r2_score(y_test, y_test_pred)"
   ]
  },
  {
   "cell_type": "code",
   "execution_count": 12,
   "metadata": {},
   "outputs": [
    {
     "output_type": "execute_result",
     "data": {
      "text/plain": [
       "625.9565216711618"
      ]
     },
     "metadata": {},
     "execution_count": 12
    }
   ],
   "source": [
    "np.sqrt(mean_squared_error(y_test, y_test_pred))"
   ]
  },
  {
   "cell_type": "code",
   "execution_count": null,
   "metadata": {},
   "outputs": [],
   "source": []
  }
 ]
}