{
 "metadata": {
  "language_info": {
   "codemirror_mode": {
    "name": "ipython",
    "version": 3
   },
   "file_extension": ".py",
   "mimetype": "text/x-python",
   "name": "python",
   "nbconvert_exporter": "python",
   "pygments_lexer": "ipython3",
   "version": "3.7.4"
  },
  "orig_nbformat": 4,
  "kernelspec": {
   "name": "python3",
   "display_name": "Python 3.7.4 64-bit"
  },
  "interpreter": {
   "hash": "fc2c00f0e2c44cb4028bd693f18a1b5d93d1de4cd12db71fca36ff691a163044"
  }
 },
 "nbformat": 4,
 "nbformat_minor": 2,
 "cells": [
  {
   "cell_type": "code",
   "execution_count": 1,
   "metadata": {},
   "outputs": [],
   "source": [
    "import numpy as np\n",
    "import pandas as pd\n",
    "\n",
    "from sklearn.metrics import mean_squared_error\n",
    "from sklearn.metrics import r2_score, mean_absolute_error\n",
    "\n",
    "from sklearn.model_selection import train_test_split\n",
    "from sklearn.svm import SVR\n",
    "from sklearn.linear_model import LinearRegression\n",
    "import seaborn as sns \n"
   ]
  },
  {
   "cell_type": "code",
   "execution_count": 2,
   "metadata": {},
   "outputs": [],
   "source": [
    "df = pd.read_csv(\"diamonds_train.csv\", index_col=0)"
   ]
  },
  {
   "cell_type": "code",
   "execution_count": 3,
   "metadata": {},
   "outputs": [],
   "source": [
    "df[\"carat\"] = 10*df[\"carat\"]\n",
    "\n",
    "df[\"cut\"] = df[\"cut\"].apply(lambda x: x.replace(\"Fair\",\"0\"))\n",
    "df[\"cut\"] = df[\"cut\"].apply(lambda x: x.replace(\"Very Good\",\"2\"))\n",
    "df[\"cut\"] = df[\"cut\"].apply(lambda x: x.replace(\"Good\",\"1\"))\n",
    "df[\"cut\"] = df[\"cut\"].apply(lambda x: x.replace(\"Ideal\",\"3\"))\n",
    "df[\"cut\"] = df[\"cut\"].apply(lambda x: x.replace(\"Premium\",\"4\"))\n",
    "df[\"cut\"] = df[\"cut\"].astype(int)\n",
    "\n",
    "df[\"color\"] = df[\"color\"].apply(lambda x: x.replace(\"D\",\"10\"))\n",
    "df[\"color\"] = df[\"color\"].apply(lambda x: x.replace(\"E\",\"9\"))\n",
    "df[\"color\"] = df[\"color\"].apply(lambda x: x.replace(\"F\",\"8\"))\n",
    "df[\"color\"] = df[\"color\"].apply(lambda x: x.replace(\"G\",\"6\"))\n",
    "df[\"color\"] = df[\"color\"].apply(lambda x: x.replace(\"H\",\"5\"))\n",
    "df[\"color\"] = df[\"color\"].apply(lambda x: x.replace(\"I\",\"4\"))\n",
    "df[\"color\"] = df[\"color\"].apply(lambda x: x.replace(\"J\",\"0\"))\n",
    "df[\"color\"] = df[\"color\"].astype(int)\n",
    "\n",
    "df[\"clarity\"] = df[\"clarity\"].apply(lambda x: x.replace(\"SI1\",\"3\"))\n",
    "df[\"clarity\"] = df[\"clarity\"].apply(lambda x: x.replace(\"SI2\",\"2\"))\n",
    "df[\"clarity\"] = df[\"clarity\"].apply(lambda x: x.replace(\"I1\",\"0\"))\n",
    "df[\"clarity\"] = df[\"clarity\"].apply(lambda x: x.replace(\"IF\",\"10\"))\n",
    "df[\"clarity\"] = df[\"clarity\"].apply(lambda x: x.replace(\"VVS1\",\"9\"))\n",
    "df[\"clarity\"] = df[\"clarity\"].apply(lambda x: x.replace(\"VVS2\",\"8\"))\n",
    "df[\"clarity\"] = df[\"clarity\"].apply(lambda x: x.replace(\"VS1\",\"7\"))\n",
    "df[\"clarity\"] = df[\"clarity\"].apply(lambda x: x.replace(\"VS2\",\"6\"))\n",
    "df[\"clarity\"] = df[\"clarity\"].astype(int)\n"
   ]
  },
  {
   "cell_type": "code",
   "execution_count": 4,
   "metadata": {},
   "outputs": [],
   "source": []
  },
  {
   "cell_type": "code",
   "execution_count": 4,
   "metadata": {},
   "outputs": [],
   "source": [
    "# df.drop(df[df[\"carat\"] > 28].index, inplace=True)"
   ]
  },
  {
   "cell_type": "code",
   "execution_count": 5,
   "metadata": {},
   "outputs": [
    {
     "output_type": "execute_result",
     "data": {
      "text/plain": [
       "       carat  cut  color  clarity  depth  table     x     y     z  price\n",
       "11382    2.3    2      6        8   60.4   58.0  3.97  4.01  2.41    354\n",
       "23211    3.1    2      0        3   59.4   62.0  4.39  4.43  2.62    353\n",
       "16123    2.3    2      5        7   61.0   57.0  3.94  3.96  2.41    353\n",
       "29449    2.3    2      9        6   63.8   55.0  3.85  3.92  2.48    352\n",
       "9318     3.0    1      4        2   63.3   56.0  4.26  4.30  2.71    351\n",
       "1162     3.0    1      0        3   63.8   56.0  4.23  4.26  2.71    351\n",
       "18471    3.0    1      0        3   63.4   54.0  4.23  4.29  2.70    351\n",
       "35842    3.0    3      4        2   62.0   54.0  4.31  4.34  2.68    348\n",
       "39266    2.0    4      9        2   60.2   62.0  3.79  3.75  2.27    345\n",
       "4504     3.2    4      9        0   60.9   58.0  4.38  4.42  2.68    345\n",
       "33254    3.1    3      0        2   62.2   54.0  4.35  4.37  2.71    344\n",
       "18590    2.2    4      8        3   60.4   61.0  3.88  3.84  2.33    342\n",
       "3965     2.3    3      0        7   62.8   56.0  3.93  3.90  2.46    340\n",
       "20790    3.0    1      0        3   64.0   55.0  4.25  4.28  2.73    339\n",
       "10624    2.6    2      5        3   61.9   55.0  4.07  4.11  2.53    337\n",
       "5759     2.2    0      9        6   65.1   61.0  3.87  3.78  2.49    337\n",
       "37476    2.4    2      4        9   62.3   57.0  3.95  3.98  2.47    336\n",
       "4163     3.1    1      0        2   63.3   58.0  4.34  4.35  2.75    335\n",
       "25887    2.1    4      9        3   59.8   61.0  3.89  3.84  2.31    326\n",
       "31702    2.3    3      9        2   61.5   55.0  3.95  3.98  2.43    326"
      ],
      "text/html": "<div>\n<style scoped>\n    .dataframe tbody tr th:only-of-type {\n        vertical-align: middle;\n    }\n\n    .dataframe tbody tr th {\n        vertical-align: top;\n    }\n\n    .dataframe thead th {\n        text-align: right;\n    }\n</style>\n<table border=\"1\" class=\"dataframe\">\n  <thead>\n    <tr style=\"text-align: right;\">\n      <th></th>\n      <th>carat</th>\n      <th>cut</th>\n      <th>color</th>\n      <th>clarity</th>\n      <th>depth</th>\n      <th>table</th>\n      <th>x</th>\n      <th>y</th>\n      <th>z</th>\n      <th>price</th>\n    </tr>\n  </thead>\n  <tbody>\n    <tr>\n      <th>11382</th>\n      <td>2.3</td>\n      <td>2</td>\n      <td>6</td>\n      <td>8</td>\n      <td>60.4</td>\n      <td>58.0</td>\n      <td>3.97</td>\n      <td>4.01</td>\n      <td>2.41</td>\n      <td>354</td>\n    </tr>\n    <tr>\n      <th>23211</th>\n      <td>3.1</td>\n      <td>2</td>\n      <td>0</td>\n      <td>3</td>\n      <td>59.4</td>\n      <td>62.0</td>\n      <td>4.39</td>\n      <td>4.43</td>\n      <td>2.62</td>\n      <td>353</td>\n    </tr>\n    <tr>\n      <th>16123</th>\n      <td>2.3</td>\n      <td>2</td>\n      <td>5</td>\n      <td>7</td>\n      <td>61.0</td>\n      <td>57.0</td>\n      <td>3.94</td>\n      <td>3.96</td>\n      <td>2.41</td>\n      <td>353</td>\n    </tr>\n    <tr>\n      <th>29449</th>\n      <td>2.3</td>\n      <td>2</td>\n      <td>9</td>\n      <td>6</td>\n      <td>63.8</td>\n      <td>55.0</td>\n      <td>3.85</td>\n      <td>3.92</td>\n      <td>2.48</td>\n      <td>352</td>\n    </tr>\n    <tr>\n      <th>9318</th>\n      <td>3.0</td>\n      <td>1</td>\n      <td>4</td>\n      <td>2</td>\n      <td>63.3</td>\n      <td>56.0</td>\n      <td>4.26</td>\n      <td>4.30</td>\n      <td>2.71</td>\n      <td>351</td>\n    </tr>\n    <tr>\n      <th>1162</th>\n      <td>3.0</td>\n      <td>1</td>\n      <td>0</td>\n      <td>3</td>\n      <td>63.8</td>\n      <td>56.0</td>\n      <td>4.23</td>\n      <td>4.26</td>\n      <td>2.71</td>\n      <td>351</td>\n    </tr>\n    <tr>\n      <th>18471</th>\n      <td>3.0</td>\n      <td>1</td>\n      <td>0</td>\n      <td>3</td>\n      <td>63.4</td>\n      <td>54.0</td>\n      <td>4.23</td>\n      <td>4.29</td>\n      <td>2.70</td>\n      <td>351</td>\n    </tr>\n    <tr>\n      <th>35842</th>\n      <td>3.0</td>\n      <td>3</td>\n      <td>4</td>\n      <td>2</td>\n      <td>62.0</td>\n      <td>54.0</td>\n      <td>4.31</td>\n      <td>4.34</td>\n      <td>2.68</td>\n      <td>348</td>\n    </tr>\n    <tr>\n      <th>39266</th>\n      <td>2.0</td>\n      <td>4</td>\n      <td>9</td>\n      <td>2</td>\n      <td>60.2</td>\n      <td>62.0</td>\n      <td>3.79</td>\n      <td>3.75</td>\n      <td>2.27</td>\n      <td>345</td>\n    </tr>\n    <tr>\n      <th>4504</th>\n      <td>3.2</td>\n      <td>4</td>\n      <td>9</td>\n      <td>0</td>\n      <td>60.9</td>\n      <td>58.0</td>\n      <td>4.38</td>\n      <td>4.42</td>\n      <td>2.68</td>\n      <td>345</td>\n    </tr>\n    <tr>\n      <th>33254</th>\n      <td>3.1</td>\n      <td>3</td>\n      <td>0</td>\n      <td>2</td>\n      <td>62.2</td>\n      <td>54.0</td>\n      <td>4.35</td>\n      <td>4.37</td>\n      <td>2.71</td>\n      <td>344</td>\n    </tr>\n    <tr>\n      <th>18590</th>\n      <td>2.2</td>\n      <td>4</td>\n      <td>8</td>\n      <td>3</td>\n      <td>60.4</td>\n      <td>61.0</td>\n      <td>3.88</td>\n      <td>3.84</td>\n      <td>2.33</td>\n      <td>342</td>\n    </tr>\n    <tr>\n      <th>3965</th>\n      <td>2.3</td>\n      <td>3</td>\n      <td>0</td>\n      <td>7</td>\n      <td>62.8</td>\n      <td>56.0</td>\n      <td>3.93</td>\n      <td>3.90</td>\n      <td>2.46</td>\n      <td>340</td>\n    </tr>\n    <tr>\n      <th>20790</th>\n      <td>3.0</td>\n      <td>1</td>\n      <td>0</td>\n      <td>3</td>\n      <td>64.0</td>\n      <td>55.0</td>\n      <td>4.25</td>\n      <td>4.28</td>\n      <td>2.73</td>\n      <td>339</td>\n    </tr>\n    <tr>\n      <th>10624</th>\n      <td>2.6</td>\n      <td>2</td>\n      <td>5</td>\n      <td>3</td>\n      <td>61.9</td>\n      <td>55.0</td>\n      <td>4.07</td>\n      <td>4.11</td>\n      <td>2.53</td>\n      <td>337</td>\n    </tr>\n    <tr>\n      <th>5759</th>\n      <td>2.2</td>\n      <td>0</td>\n      <td>9</td>\n      <td>6</td>\n      <td>65.1</td>\n      <td>61.0</td>\n      <td>3.87</td>\n      <td>3.78</td>\n      <td>2.49</td>\n      <td>337</td>\n    </tr>\n    <tr>\n      <th>37476</th>\n      <td>2.4</td>\n      <td>2</td>\n      <td>4</td>\n      <td>9</td>\n      <td>62.3</td>\n      <td>57.0</td>\n      <td>3.95</td>\n      <td>3.98</td>\n      <td>2.47</td>\n      <td>336</td>\n    </tr>\n    <tr>\n      <th>4163</th>\n      <td>3.1</td>\n      <td>1</td>\n      <td>0</td>\n      <td>2</td>\n      <td>63.3</td>\n      <td>58.0</td>\n      <td>4.34</td>\n      <td>4.35</td>\n      <td>2.75</td>\n      <td>335</td>\n    </tr>\n    <tr>\n      <th>25887</th>\n      <td>2.1</td>\n      <td>4</td>\n      <td>9</td>\n      <td>3</td>\n      <td>59.8</td>\n      <td>61.0</td>\n      <td>3.89</td>\n      <td>3.84</td>\n      <td>2.31</td>\n      <td>326</td>\n    </tr>\n    <tr>\n      <th>31702</th>\n      <td>2.3</td>\n      <td>3</td>\n      <td>9</td>\n      <td>2</td>\n      <td>61.5</td>\n      <td>55.0</td>\n      <td>3.95</td>\n      <td>3.98</td>\n      <td>2.43</td>\n      <td>326</td>\n    </tr>\n  </tbody>\n</table>\n</div>"
     },
     "metadata": {},
     "execution_count": 5
    }
   ],
   "source": [
    "df[df[\"price\"] < 800].sort_values(by=\"price\", ascending=False).tail(20)"
   ]
  },
  {
   "cell_type": "code",
   "execution_count": 6,
   "metadata": {},
   "outputs": [],
   "source": [
    "X = np.array(df[[\"carat\",\"cut\", \"color\", \"clarity\"]])\n",
    "y = np.array(df[\"price\"])"
   ]
  },
  {
   "cell_type": "code",
   "execution_count": 7,
   "metadata": {},
   "outputs": [],
   "source": [
    "X_train, X_test, y_train, y_test = train_test_split(X, y, test_size = 0.20, random_state = 235)"
   ]
  },
  {
   "cell_type": "code",
   "execution_count": 8,
   "metadata": {},
   "outputs": [
    {
     "output_type": "execute_result",
     "data": {
      "text/plain": [
       "SVR(C=10000, gamma='auto', max_iter=999999, tol=30)"
      ]
     },
     "metadata": {},
     "execution_count": 8
    }
   ],
   "source": [
    "svr_rbf = SVR(kernel='rbf', C=10000, gamma=\"auto\", tol=30, epsilon=0.1, max_iter=999999)\n",
    "svr_rbf.fit(X_train, y_train)"
   ]
  },
  {
   "cell_type": "code",
   "execution_count": 9,
   "metadata": {},
   "outputs": [
    {
     "output_type": "stream",
     "name": "stdout",
     "text": [
      "0.9795742506375306\n"
     ]
    },
    {
     "output_type": "execute_result",
     "data": {
      "text/plain": [
       "554.9965096930122"
      ]
     },
     "metadata": {},
     "execution_count": 9
    }
   ],
   "source": [
    "y_test_pred = svr_rbf.predict(X_test)\n",
    "print(r2_score(y_test, y_test_pred))\n",
    "np.sqrt(mean_squared_error(y_test, y_test_pred))"
   ]
  },
  {
   "cell_type": "code",
   "execution_count": 10,
   "metadata": {},
   "outputs": [],
   "source": [
    "# C = 10000/ 555.1367153891555 test_size= 0.2\n",
    "# tol = 0.1 / 555.0697293943762"
   ]
  },
  {
   "cell_type": "code",
   "execution_count": 11,
   "metadata": {},
   "outputs": [
    {
     "output_type": "execute_result",
     "data": {
      "text/plain": [
       "      y_test        y_pred\n",
       "0       2041   1906.570259\n",
       "1        640    791.811501\n",
       "2       3583   3701.291179\n",
       "3        616    623.128872\n",
       "4       1243   1227.514686\n",
       "...      ...           ...\n",
       "8064   11262  10922.561195\n",
       "8065    1376   1585.091483\n",
       "8066    1346   1347.834552\n",
       "8067   11040  11809.505475\n",
       "8068    1429   1614.354497\n",
       "\n",
       "[8069 rows x 2 columns]"
      ],
      "text/html": "<div>\n<style scoped>\n    .dataframe tbody tr th:only-of-type {\n        vertical-align: middle;\n    }\n\n    .dataframe tbody tr th {\n        vertical-align: top;\n    }\n\n    .dataframe thead th {\n        text-align: right;\n    }\n</style>\n<table border=\"1\" class=\"dataframe\">\n  <thead>\n    <tr style=\"text-align: right;\">\n      <th></th>\n      <th>y_test</th>\n      <th>y_pred</th>\n    </tr>\n  </thead>\n  <tbody>\n    <tr>\n      <th>0</th>\n      <td>2041</td>\n      <td>1906.570259</td>\n    </tr>\n    <tr>\n      <th>1</th>\n      <td>640</td>\n      <td>791.811501</td>\n    </tr>\n    <tr>\n      <th>2</th>\n      <td>3583</td>\n      <td>3701.291179</td>\n    </tr>\n    <tr>\n      <th>3</th>\n      <td>616</td>\n      <td>623.128872</td>\n    </tr>\n    <tr>\n      <th>4</th>\n      <td>1243</td>\n      <td>1227.514686</td>\n    </tr>\n    <tr>\n      <th>...</th>\n      <td>...</td>\n      <td>...</td>\n    </tr>\n    <tr>\n      <th>8064</th>\n      <td>11262</td>\n      <td>10922.561195</td>\n    </tr>\n    <tr>\n      <th>8065</th>\n      <td>1376</td>\n      <td>1585.091483</td>\n    </tr>\n    <tr>\n      <th>8066</th>\n      <td>1346</td>\n      <td>1347.834552</td>\n    </tr>\n    <tr>\n      <th>8067</th>\n      <td>11040</td>\n      <td>11809.505475</td>\n    </tr>\n    <tr>\n      <th>8068</th>\n      <td>1429</td>\n      <td>1614.354497</td>\n    </tr>\n  </tbody>\n</table>\n<p>8069 rows × 2 columns</p>\n</div>"
     },
     "metadata": {},
     "execution_count": 11
    }
   ],
   "source": [
    "pd.DataFrame({\"y_test\":y_test,\"y_pred\": y_test_pred})"
   ]
  },
  {
   "source": [
    "### PREDECIR TEST"
   ],
   "cell_type": "markdown",
   "metadata": {}
  },
  {
   "cell_type": "code",
   "execution_count": 12,
   "metadata": {},
   "outputs": [],
   "source": [
    "X_pred = pd.read_csv(\"diamonds_test.csv\", index_col = 0)"
   ]
  },
  {
   "cell_type": "code",
   "execution_count": 13,
   "metadata": {},
   "outputs": [],
   "source": [
    "X_pred[\"carat\"] = 10*X_pred[\"carat\"]"
   ]
  },
  {
   "cell_type": "code",
   "execution_count": 14,
   "metadata": {},
   "outputs": [],
   "source": [
    "X_pred[\"cut\"] = X_pred[\"cut\"].apply(lambda x: x.replace(\"Fair\",\"0\"))\n",
    "X_pred[\"cut\"] = X_pred[\"cut\"].apply(lambda x: x.replace(\"Very Good\",\"2\"))\n",
    "X_pred[\"cut\"] = X_pred[\"cut\"].apply(lambda x: x.replace(\"Good\",\"1\"))\n",
    "X_pred[\"cut\"] = X_pred[\"cut\"].apply(lambda x: x.replace(\"Ideal\",\"3\"))\n",
    "X_pred[\"cut\"] = X_pred[\"cut\"].apply(lambda x: x.replace(\"Premium\",\"4\"))\n",
    "X_pred[\"cut\"] = X_pred[\"cut\"].astype(int)"
   ]
  },
  {
   "cell_type": "code",
   "execution_count": 15,
   "metadata": {},
   "outputs": [],
   "source": [
    "\n",
    "\n",
    "X_pred[\"color\"] = X_pred[\"color\"].apply(lambda x: x.replace(\"D\",\"10\"))\n",
    "X_pred[\"color\"] = X_pred[\"color\"].apply(lambda x: x.replace(\"E\",\"9\"))\n",
    "X_pred[\"color\"] = X_pred[\"color\"].apply(lambda x: x.replace(\"F\",\"8\"))\n",
    "X_pred[\"color\"] = X_pred[\"color\"].apply(lambda x: x.replace(\"G\",\"6\"))\n",
    "X_pred[\"color\"] = X_pred[\"color\"].apply(lambda x: x.replace(\"H\",\"5\"))\n",
    "X_pred[\"color\"] = X_pred[\"color\"].apply(lambda x: x.replace(\"I\",\"4\"))\n",
    "X_pred[\"color\"] = X_pred[\"color\"].apply(lambda x: x.replace(\"J\",\"0\"))\n",
    "X_pred[\"color\"] = X_pred[\"color\"].astype(int)\n",
    "\n",
    "X_pred[\"clarity\"] = X_pred[\"clarity\"].apply(lambda x: x.replace(\"SI1\",\"3\"))\n",
    "X_pred[\"clarity\"] = X_pred[\"clarity\"].apply(lambda x: x.replace(\"SI2\",\"2\"))\n",
    "X_pred[\"clarity\"] = X_pred[\"clarity\"].apply(lambda x: x.replace(\"I1\",\"0\"))\n",
    "X_pred[\"clarity\"] = X_pred[\"clarity\"].apply(lambda x: x.replace(\"IF\",\"10\"))\n",
    "X_pred[\"clarity\"] = X_pred[\"clarity\"].apply(lambda x: x.replace(\"VVS1\",\"9\"))\n",
    "X_pred[\"clarity\"] = X_pred[\"clarity\"].apply(lambda x: x.replace(\"VVS2\",\"8\"))\n",
    "X_pred[\"clarity\"] = X_pred[\"clarity\"].apply(lambda x: x.replace(\"VS1\",\"7\"))\n",
    "X_pred[\"clarity\"] = X_pred[\"clarity\"].apply(lambda x: x.replace(\"VS2\",\"6\"))\n",
    "X_pred[\"clarity\"] = X_pred[\"clarity\"].astype(int)\n"
   ]
  },
  {
   "cell_type": "code",
   "execution_count": 16,
   "metadata": {},
   "outputs": [],
   "source": [
    "X_pred = np.array(X_pred[[\"carat\",\"cut\", \"color\", \"clarity\"]])"
   ]
  },
  {
   "cell_type": "code",
   "execution_count": 17,
   "metadata": {},
   "outputs": [
    {
     "output_type": "execute_result",
     "data": {
      "text/plain": [
       "          0    1     2     3\n",
       "0       3.0  3.0   5.0   2.0\n",
       "1       3.4  3.0  10.0  10.0\n",
       "2      15.7  2.0   4.0   6.0\n",
       "3       3.1  3.0   5.0   6.0\n",
       "4      15.1  1.0   4.0   9.0\n",
       "...     ...  ...   ...   ...\n",
       "13444  10.5  3.0   8.0   2.0\n",
       "13445   2.7  2.0   6.0   7.0\n",
       "13446  15.0  4.0  10.0   6.0\n",
       "13447  17.0  4.0   8.0   2.0\n",
       "13448   3.0  3.0  10.0   6.0\n",
       "\n",
       "[13449 rows x 4 columns]"
      ],
      "text/html": "<div>\n<style scoped>\n    .dataframe tbody tr th:only-of-type {\n        vertical-align: middle;\n    }\n\n    .dataframe tbody tr th {\n        vertical-align: top;\n    }\n\n    .dataframe thead th {\n        text-align: right;\n    }\n</style>\n<table border=\"1\" class=\"dataframe\">\n  <thead>\n    <tr style=\"text-align: right;\">\n      <th></th>\n      <th>0</th>\n      <th>1</th>\n      <th>2</th>\n      <th>3</th>\n    </tr>\n  </thead>\n  <tbody>\n    <tr>\n      <th>0</th>\n      <td>3.0</td>\n      <td>3.0</td>\n      <td>5.0</td>\n      <td>2.0</td>\n    </tr>\n    <tr>\n      <th>1</th>\n      <td>3.4</td>\n      <td>3.0</td>\n      <td>10.0</td>\n      <td>10.0</td>\n    </tr>\n    <tr>\n      <th>2</th>\n      <td>15.7</td>\n      <td>2.0</td>\n      <td>4.0</td>\n      <td>6.0</td>\n    </tr>\n    <tr>\n      <th>3</th>\n      <td>3.1</td>\n      <td>3.0</td>\n      <td>5.0</td>\n      <td>6.0</td>\n    </tr>\n    <tr>\n      <th>4</th>\n      <td>15.1</td>\n      <td>1.0</td>\n      <td>4.0</td>\n      <td>9.0</td>\n    </tr>\n    <tr>\n      <th>...</th>\n      <td>...</td>\n      <td>...</td>\n      <td>...</td>\n      <td>...</td>\n    </tr>\n    <tr>\n      <th>13444</th>\n      <td>10.5</td>\n      <td>3.0</td>\n      <td>8.0</td>\n      <td>2.0</td>\n    </tr>\n    <tr>\n      <th>13445</th>\n      <td>2.7</td>\n      <td>2.0</td>\n      <td>6.0</td>\n      <td>7.0</td>\n    </tr>\n    <tr>\n      <th>13446</th>\n      <td>15.0</td>\n      <td>4.0</td>\n      <td>10.0</td>\n      <td>6.0</td>\n    </tr>\n    <tr>\n      <th>13447</th>\n      <td>17.0</td>\n      <td>4.0</td>\n      <td>8.0</td>\n      <td>2.0</td>\n    </tr>\n    <tr>\n      <th>13448</th>\n      <td>3.0</td>\n      <td>3.0</td>\n      <td>10.0</td>\n      <td>6.0</td>\n    </tr>\n  </tbody>\n</table>\n<p>13449 rows × 4 columns</p>\n</div>"
     },
     "metadata": {},
     "execution_count": 17
    }
   ],
   "source": [
    "pd.DataFrame(X_pred)"
   ]
  },
  {
   "cell_type": "code",
   "execution_count": 18,
   "metadata": {},
   "outputs": [
    {
     "output_type": "execute_result",
     "data": {
      "text/plain": [
       "array([  397.22079957,  1897.00610352,  9692.0839319 , ...,\n",
       "       15287.16971566,  9427.70376394,   739.85683381])"
      ]
     },
     "metadata": {},
     "execution_count": 18
    }
   ],
   "source": [
    "predictions_submit = svr_rbf.predict(X_pred)\n",
    "predictions_submit"
   ]
  },
  {
   "cell_type": "code",
   "execution_count": 19,
   "metadata": {},
   "outputs": [
    {
     "output_type": "execute_result",
     "data": {
      "text/plain": [
       "                  0\n",
       "0        397.220800\n",
       "1       1897.006104\n",
       "2       9692.083932\n",
       "3        501.469378\n",
       "4       9298.257069\n",
       "...             ...\n",
       "13444   4682.583394\n",
       "13445    493.260206\n",
       "13446  15287.169716\n",
       "13447   9427.703764\n",
       "13448    739.856834\n",
       "\n",
       "[13449 rows x 1 columns]"
      ],
      "text/html": "<div>\n<style scoped>\n    .dataframe tbody tr th:only-of-type {\n        vertical-align: middle;\n    }\n\n    .dataframe tbody tr th {\n        vertical-align: top;\n    }\n\n    .dataframe thead th {\n        text-align: right;\n    }\n</style>\n<table border=\"1\" class=\"dataframe\">\n  <thead>\n    <tr style=\"text-align: right;\">\n      <th></th>\n      <th>0</th>\n    </tr>\n  </thead>\n  <tbody>\n    <tr>\n      <th>0</th>\n      <td>397.220800</td>\n    </tr>\n    <tr>\n      <th>1</th>\n      <td>1897.006104</td>\n    </tr>\n    <tr>\n      <th>2</th>\n      <td>9692.083932</td>\n    </tr>\n    <tr>\n      <th>3</th>\n      <td>501.469378</td>\n    </tr>\n    <tr>\n      <th>4</th>\n      <td>9298.257069</td>\n    </tr>\n    <tr>\n      <th>...</th>\n      <td>...</td>\n    </tr>\n    <tr>\n      <th>13444</th>\n      <td>4682.583394</td>\n    </tr>\n    <tr>\n      <th>13445</th>\n      <td>493.260206</td>\n    </tr>\n    <tr>\n      <th>13446</th>\n      <td>15287.169716</td>\n    </tr>\n    <tr>\n      <th>13447</th>\n      <td>9427.703764</td>\n    </tr>\n    <tr>\n      <th>13448</th>\n      <td>739.856834</td>\n    </tr>\n  </tbody>\n</table>\n<p>13449 rows × 1 columns</p>\n</div>"
     },
     "metadata": {},
     "execution_count": 19
    }
   ],
   "source": [
    "pd.DataFrame(predictions_submit)"
   ]
  },
  {
   "cell_type": "code",
   "execution_count": 20,
   "metadata": {},
   "outputs": [],
   "source": [
    "submission = pd.DataFrame({\"id\": range(len(predictions_submit)), \"price\": predictions_submit})"
   ]
  },
  {
   "cell_type": "code",
   "execution_count": 22,
   "metadata": {},
   "outputs": [],
   "source": [
    "submission.to_csv(\"submission7.csv\", index = False)"
   ]
  },
  {
   "cell_type": "code",
   "execution_count": null,
   "metadata": {},
   "outputs": [],
   "source": []
  }
 ]
}