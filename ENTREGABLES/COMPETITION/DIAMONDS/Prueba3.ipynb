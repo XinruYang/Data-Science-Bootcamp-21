{
 "metadata": {
  "language_info": {
   "codemirror_mode": {
    "name": "ipython",
    "version": 3
   },
   "file_extension": ".py",
   "mimetype": "text/x-python",
   "name": "python",
   "nbconvert_exporter": "python",
   "pygments_lexer": "ipython3",
   "version": "3.7.4"
  },
  "orig_nbformat": 4,
  "kernelspec": {
   "name": "python3",
   "display_name": "Python 3.7.4 64-bit"
  },
  "interpreter": {
   "hash": "fc2c00f0e2c44cb4028bd693f18a1b5d93d1de4cd12db71fca36ff691a163044"
  }
 },
 "nbformat": 4,
 "nbformat_minor": 2,
 "cells": [
  {
   "cell_type": "code",
   "execution_count": 8,
   "metadata": {},
   "outputs": [],
   "source": [
    "import numpy as np\n",
    "import pandas as pd\n",
    "\n",
    "from sklearn.metrics import mean_squared_error\n",
    "from sklearn.metrics import r2_score, mean_absolute_error\n",
    "\n",
    "from sklearn.model_selection import train_test_split\n",
    "from sklearn.svm import SVR\n",
    "from sklearn.linear_model import LinearRegression\n"
   ]
  },
  {
   "cell_type": "code",
   "execution_count": 2,
   "metadata": {},
   "outputs": [],
   "source": [
    "df = pd.read_csv(\"diamonds_train.csv\", index_col=0)"
   ]
  },
  {
   "cell_type": "code",
   "execution_count": 3,
   "metadata": {},
   "outputs": [],
   "source": [
    "df[\"cut\"] = df[\"cut\"].apply(lambda x: x.replace(\"Fair\",\"0\"))\n",
    "df[\"cut\"] = df[\"cut\"].apply(lambda x: x.replace(\"Very Good\",\"2\"))\n",
    "df[\"cut\"] = df[\"cut\"].apply(lambda x: x.replace(\"Good\",\"1\"))\n",
    "df[\"cut\"] = df[\"cut\"].apply(lambda x: x.replace(\"Ideal\",\"3\"))\n",
    "df[\"cut\"] = df[\"cut\"].apply(lambda x: x.replace(\"Premium\",\"4\"))\n",
    "df[\"cut\"] = df[\"cut\"].astype(int)\n",
    "\n",
    "df[\"color\"] = df[\"color\"].apply(lambda x: x.replace(\"D\",\"0\"))\n",
    "df[\"color\"] = df[\"color\"].apply(lambda x: x.replace(\"E\",\"1\"))\n",
    "df[\"color\"] = df[\"color\"].apply(lambda x: x.replace(\"F\",\"2\"))\n",
    "df[\"color\"] = df[\"color\"].apply(lambda x: x.replace(\"G\",\"3\"))\n",
    "df[\"color\"] = df[\"color\"].apply(lambda x: x.replace(\"H\",\"4\"))\n",
    "df[\"color\"] = df[\"color\"].apply(lambda x: x.replace(\"I\",\"5\"))\n",
    "df[\"color\"] = df[\"color\"].apply(lambda x: x.replace(\"J\",\"6\"))\n",
    "df[\"color\"] = df[\"color\"].astype(int)\n",
    "\n",
    "df[\"clarity\"] = df[\"clarity\"].apply(lambda x: x.replace(\"SI1\",\"4\"))\n",
    "df[\"clarity\"] = df[\"clarity\"].apply(lambda x: x.replace(\"SI2\",\"5\"))\n",
    "df[\"clarity\"] = df[\"clarity\"].apply(lambda x: x.replace(\"I1\",\"0\"))\n",
    "df[\"clarity\"] = df[\"clarity\"].apply(lambda x: x.replace(\"IF\",\"1\"))\n",
    "df[\"clarity\"] = df[\"clarity\"].apply(lambda x: x.replace(\"VVS1\",\"2\"))\n",
    "df[\"clarity\"] = df[\"clarity\"].apply(lambda x: x.replace(\"VVS2\",\"3\"))\n",
    "df[\"clarity\"] = df[\"clarity\"].apply(lambda x: x.replace(\"VS1\",\"6\"))\n",
    "df[\"clarity\"] = df[\"clarity\"].apply(lambda x: x.replace(\"VS2\",\"7\"))\n",
    "df[\"clarity\"] = df[\"clarity\"].astype(int)\n"
   ]
  },
  {
   "cell_type": "code",
   "execution_count": 4,
   "metadata": {},
   "outputs": [],
   "source": [
    "X = np.array(df[[\"carat\",\"cut\", \"color\", \"clarity\", \"depth\", \"table\", \"x\", \"y\", \"z\"]])\n",
    "y = np.array(df[\"price\"])"
   ]
  },
  {
   "cell_type": "code",
   "execution_count": 5,
   "metadata": {},
   "outputs": [],
   "source": [
    "X_train, X_test, y_train, y_test = train_test_split(X, y, test_size = 0.20, random_state = 13)"
   ]
  },
  {
   "cell_type": "code",
   "execution_count": 10,
   "metadata": {},
   "outputs": [
    {
     "output_type": "execute_result",
     "data": {
      "text/plain": [
       "array([5627.66788436,  103.58989505, 5691.27322145, ..., 4695.05499382,\n",
       "       1823.39862912, 7187.89252308])"
      ]
     },
     "metadata": {},
     "execution_count": 10
    }
   ],
   "source": [
    "model = LinearRegression()\n",
    "model.fit(X_train, y_train)\n",
    "predictions = model.predict(X_test)\n",
    "predictions"
   ]
  },
  {
   "cell_type": "code",
   "execution_count": 11,
   "metadata": {},
   "outputs": [
    {
     "output_type": "execute_result",
     "data": {
      "text/plain": [
       "1415.9588852050872"
      ]
     },
     "metadata": {},
     "execution_count": 11
    }
   ],
   "source": [
    "np.sqrt(mean_squared_error(y_test, predictions))"
   ]
  },
  {
   "cell_type": "code",
   "execution_count": null,
   "metadata": {},
   "outputs": [],
   "source": []
  }
 ]
}