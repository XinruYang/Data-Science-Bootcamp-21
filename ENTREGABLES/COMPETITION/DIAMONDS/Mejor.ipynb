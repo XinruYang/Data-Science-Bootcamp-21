{
 "metadata": {
  "language_info": {
   "codemirror_mode": {
    "name": "ipython",
    "version": 3
   },
   "file_extension": ".py",
   "mimetype": "text/x-python",
   "name": "python",
   "nbconvert_exporter": "python",
   "pygments_lexer": "ipython3",
   "version": "3.7.4"
  },
  "orig_nbformat": 4,
  "kernelspec": {
   "name": "python3",
   "display_name": "Python 3.7.4 64-bit"
  },
  "interpreter": {
   "hash": "fc2c00f0e2c44cb4028bd693f18a1b5d93d1de4cd12db71fca36ff691a163044"
  }
 },
 "nbformat": 4,
 "nbformat_minor": 2,
 "cells": [
  {
   "cell_type": "code",
   "execution_count": 1,
   "metadata": {},
   "outputs": [],
   "source": [
    "import numpy as np\n",
    "import pandas as pd\n",
    "\n",
    "from sklearn.metrics import mean_squared_error\n",
    "from sklearn.metrics import r2_score, mean_absolute_error\n",
    "\n",
    "from sklearn.model_selection import train_test_split\n",
    "from sklearn.svm import SVR\n",
    "from sklearn.linear_model import LinearRegression\n",
    "import seaborn as sns \n"
   ]
  },
  {
   "cell_type": "code",
   "execution_count": 2,
   "metadata": {},
   "outputs": [],
   "source": [
    "df = pd.read_csv(\"diamonds_train.csv\", index_col=0)"
   ]
  },
  {
   "cell_type": "code",
   "execution_count": 3,
   "metadata": {},
   "outputs": [],
   "source": [
    "df[\"carat\"] = 10*df[\"carat\"]\n",
    "\n",
    "df[\"cut\"] = df[\"cut\"].apply(lambda x: x.replace(\"Fair\",\"0\"))\n",
    "df[\"cut\"] = df[\"cut\"].apply(lambda x: x.replace(\"Very Good\",\"2\"))\n",
    "df[\"cut\"] = df[\"cut\"].apply(lambda x: x.replace(\"Good\",\"1\"))\n",
    "df[\"cut\"] = df[\"cut\"].apply(lambda x: x.replace(\"Ideal\",\"3\"))\n",
    "df[\"cut\"] = df[\"cut\"].apply(lambda x: x.replace(\"Premium\",\"4\"))\n",
    "df[\"cut\"] = df[\"cut\"].astype(int)\n",
    "\n",
    "df[\"color\"] = df[\"color\"].apply(lambda x: x.replace(\"D\",\"10\"))\n",
    "df[\"color\"] = df[\"color\"].apply(lambda x: x.replace(\"E\",\"9\"))\n",
    "df[\"color\"] = df[\"color\"].apply(lambda x: x.replace(\"F\",\"8\"))\n",
    "df[\"color\"] = df[\"color\"].apply(lambda x: x.replace(\"G\",\"6\"))\n",
    "df[\"color\"] = df[\"color\"].apply(lambda x: x.replace(\"H\",\"5\"))\n",
    "df[\"color\"] = df[\"color\"].apply(lambda x: x.replace(\"I\",\"4\"))\n",
    "df[\"color\"] = df[\"color\"].apply(lambda x: x.replace(\"J\",\"0\"))\n",
    "df[\"color\"] = df[\"color\"].astype(int)\n",
    "\n",
    "df[\"clarity\"] = df[\"clarity\"].apply(lambda x: x.replace(\"SI1\",\"3\"))\n",
    "df[\"clarity\"] = df[\"clarity\"].apply(lambda x: x.replace(\"SI2\",\"2\"))\n",
    "df[\"clarity\"] = df[\"clarity\"].apply(lambda x: x.replace(\"I1\",\"0\"))\n",
    "df[\"clarity\"] = df[\"clarity\"].apply(lambda x: x.replace(\"IF\",\"10\"))\n",
    "df[\"clarity\"] = df[\"clarity\"].apply(lambda x: x.replace(\"VVS1\",\"9\"))\n",
    "df[\"clarity\"] = df[\"clarity\"].apply(lambda x: x.replace(\"VVS2\",\"8\"))\n",
    "df[\"clarity\"] = df[\"clarity\"].apply(lambda x: x.replace(\"VS1\",\"7\"))\n",
    "df[\"clarity\"] = df[\"clarity\"].apply(lambda x: x.replace(\"VS2\",\"6\"))\n",
    "df[\"clarity\"] = df[\"clarity\"].astype(int)\n"
   ]
  },
  {
   "cell_type": "code",
   "execution_count": 4,
   "metadata": {},
   "outputs": [
    {
     "output_type": "execute_result",
     "data": {
      "text/plain": [
       "       carat  cut  color  clarity  depth  table     x     y     z  price\n",
       "31594   35.1    4      0        6   62.5   59.0  9.66  9.63  6.03  18701\n",
       "23737   30.1    1      5        2   57.6   64.0  9.44  9.38  5.42  18593\n",
       "12708   30.1    0      4        2   65.8   56.0  8.99  8.94  5.90  18242\n",
       "23056   30.1    4      0        2   59.7   58.0  9.41  9.32  5.59  18710\n",
       "4960    28.0    1      6        2   63.8   58.0  8.90  8.85  0.00  18788\n",
       "30849   26.7    1      8        2   63.8   58.0  8.69  8.64  5.54  18686\n",
       "2087    26.1    3      4        2   62.1   56.0  8.85  8.73  5.46  18756\n",
       "25432   26.0    3      0        2   62.5   56.0  8.81  8.76  5.49  18369\n",
       "16989   25.7    4      0        3   63.0   58.0  8.77  8.65  5.49  18485\n",
       "29274   25.5    4      4        7   61.8   62.0  8.70  8.65  5.36  18766\n",
       "7540    25.3    4      5        3   62.1   59.0  8.83  8.73  5.45  18254\n",
       "15145   25.2    4      8        2   60.6   60.0  8.78  8.70  5.30  18179\n",
       "28823   25.2    4      4        3   58.5   59.0  8.90  8.87  5.20  18252\n",
       "1732    25.1    2      4        2   62.3   57.0  8.69  8.76  5.44  18090\n",
       "25349   25.1    4      0        6   62.2   58.0  8.73  8.67  5.41  18020\n",
       "12792   25.1    2      5        2   63.6   58.0  8.51  8.59  5.44  18029\n",
       "19997   25.1    0      5        2   64.7   57.0  8.44  8.50  5.48  18308\n",
       "27675   25.0    1      0        6   62.0   58.0  8.63  8.60  5.34  18325\n",
       "16975   25.0    4      4        2   59.0   60.0  8.76  8.89  5.21  18447\n",
       "15813   24.9    4      4        2   61.2   56.0  8.76  8.70  5.34  18325"
      ],
      "text/html": "<div>\n<style scoped>\n    .dataframe tbody tr th:only-of-type {\n        vertical-align: middle;\n    }\n\n    .dataframe tbody tr th {\n        vertical-align: top;\n    }\n\n    .dataframe thead th {\n        text-align: right;\n    }\n</style>\n<table border=\"1\" class=\"dataframe\">\n  <thead>\n    <tr style=\"text-align: right;\">\n      <th></th>\n      <th>carat</th>\n      <th>cut</th>\n      <th>color</th>\n      <th>clarity</th>\n      <th>depth</th>\n      <th>table</th>\n      <th>x</th>\n      <th>y</th>\n      <th>z</th>\n      <th>price</th>\n    </tr>\n  </thead>\n  <tbody>\n    <tr>\n      <th>31594</th>\n      <td>35.1</td>\n      <td>4</td>\n      <td>0</td>\n      <td>6</td>\n      <td>62.5</td>\n      <td>59.0</td>\n      <td>9.66</td>\n      <td>9.63</td>\n      <td>6.03</td>\n      <td>18701</td>\n    </tr>\n    <tr>\n      <th>23737</th>\n      <td>30.1</td>\n      <td>1</td>\n      <td>5</td>\n      <td>2</td>\n      <td>57.6</td>\n      <td>64.0</td>\n      <td>9.44</td>\n      <td>9.38</td>\n      <td>5.42</td>\n      <td>18593</td>\n    </tr>\n    <tr>\n      <th>12708</th>\n      <td>30.1</td>\n      <td>0</td>\n      <td>4</td>\n      <td>2</td>\n      <td>65.8</td>\n      <td>56.0</td>\n      <td>8.99</td>\n      <td>8.94</td>\n      <td>5.90</td>\n      <td>18242</td>\n    </tr>\n    <tr>\n      <th>23056</th>\n      <td>30.1</td>\n      <td>4</td>\n      <td>0</td>\n      <td>2</td>\n      <td>59.7</td>\n      <td>58.0</td>\n      <td>9.41</td>\n      <td>9.32</td>\n      <td>5.59</td>\n      <td>18710</td>\n    </tr>\n    <tr>\n      <th>4960</th>\n      <td>28.0</td>\n      <td>1</td>\n      <td>6</td>\n      <td>2</td>\n      <td>63.8</td>\n      <td>58.0</td>\n      <td>8.90</td>\n      <td>8.85</td>\n      <td>0.00</td>\n      <td>18788</td>\n    </tr>\n    <tr>\n      <th>30849</th>\n      <td>26.7</td>\n      <td>1</td>\n      <td>8</td>\n      <td>2</td>\n      <td>63.8</td>\n      <td>58.0</td>\n      <td>8.69</td>\n      <td>8.64</td>\n      <td>5.54</td>\n      <td>18686</td>\n    </tr>\n    <tr>\n      <th>2087</th>\n      <td>26.1</td>\n      <td>3</td>\n      <td>4</td>\n      <td>2</td>\n      <td>62.1</td>\n      <td>56.0</td>\n      <td>8.85</td>\n      <td>8.73</td>\n      <td>5.46</td>\n      <td>18756</td>\n    </tr>\n    <tr>\n      <th>25432</th>\n      <td>26.0</td>\n      <td>3</td>\n      <td>0</td>\n      <td>2</td>\n      <td>62.5</td>\n      <td>56.0</td>\n      <td>8.81</td>\n      <td>8.76</td>\n      <td>5.49</td>\n      <td>18369</td>\n    </tr>\n    <tr>\n      <th>16989</th>\n      <td>25.7</td>\n      <td>4</td>\n      <td>0</td>\n      <td>3</td>\n      <td>63.0</td>\n      <td>58.0</td>\n      <td>8.77</td>\n      <td>8.65</td>\n      <td>5.49</td>\n      <td>18485</td>\n    </tr>\n    <tr>\n      <th>29274</th>\n      <td>25.5</td>\n      <td>4</td>\n      <td>4</td>\n      <td>7</td>\n      <td>61.8</td>\n      <td>62.0</td>\n      <td>8.70</td>\n      <td>8.65</td>\n      <td>5.36</td>\n      <td>18766</td>\n    </tr>\n    <tr>\n      <th>7540</th>\n      <td>25.3</td>\n      <td>4</td>\n      <td>5</td>\n      <td>3</td>\n      <td>62.1</td>\n      <td>59.0</td>\n      <td>8.83</td>\n      <td>8.73</td>\n      <td>5.45</td>\n      <td>18254</td>\n    </tr>\n    <tr>\n      <th>15145</th>\n      <td>25.2</td>\n      <td>4</td>\n      <td>8</td>\n      <td>2</td>\n      <td>60.6</td>\n      <td>60.0</td>\n      <td>8.78</td>\n      <td>8.70</td>\n      <td>5.30</td>\n      <td>18179</td>\n    </tr>\n    <tr>\n      <th>28823</th>\n      <td>25.2</td>\n      <td>4</td>\n      <td>4</td>\n      <td>3</td>\n      <td>58.5</td>\n      <td>59.0</td>\n      <td>8.90</td>\n      <td>8.87</td>\n      <td>5.20</td>\n      <td>18252</td>\n    </tr>\n    <tr>\n      <th>1732</th>\n      <td>25.1</td>\n      <td>2</td>\n      <td>4</td>\n      <td>2</td>\n      <td>62.3</td>\n      <td>57.0</td>\n      <td>8.69</td>\n      <td>8.76</td>\n      <td>5.44</td>\n      <td>18090</td>\n    </tr>\n    <tr>\n      <th>25349</th>\n      <td>25.1</td>\n      <td>4</td>\n      <td>0</td>\n      <td>6</td>\n      <td>62.2</td>\n      <td>58.0</td>\n      <td>8.73</td>\n      <td>8.67</td>\n      <td>5.41</td>\n      <td>18020</td>\n    </tr>\n    <tr>\n      <th>12792</th>\n      <td>25.1</td>\n      <td>2</td>\n      <td>5</td>\n      <td>2</td>\n      <td>63.6</td>\n      <td>58.0</td>\n      <td>8.51</td>\n      <td>8.59</td>\n      <td>5.44</td>\n      <td>18029</td>\n    </tr>\n    <tr>\n      <th>19997</th>\n      <td>25.1</td>\n      <td>0</td>\n      <td>5</td>\n      <td>2</td>\n      <td>64.7</td>\n      <td>57.0</td>\n      <td>8.44</td>\n      <td>8.50</td>\n      <td>5.48</td>\n      <td>18308</td>\n    </tr>\n    <tr>\n      <th>27675</th>\n      <td>25.0</td>\n      <td>1</td>\n      <td>0</td>\n      <td>6</td>\n      <td>62.0</td>\n      <td>58.0</td>\n      <td>8.63</td>\n      <td>8.60</td>\n      <td>5.34</td>\n      <td>18325</td>\n    </tr>\n    <tr>\n      <th>16975</th>\n      <td>25.0</td>\n      <td>4</td>\n      <td>4</td>\n      <td>2</td>\n      <td>59.0</td>\n      <td>60.0</td>\n      <td>8.76</td>\n      <td>8.89</td>\n      <td>5.21</td>\n      <td>18447</td>\n    </tr>\n    <tr>\n      <th>15813</th>\n      <td>24.9</td>\n      <td>4</td>\n      <td>4</td>\n      <td>2</td>\n      <td>61.2</td>\n      <td>56.0</td>\n      <td>8.76</td>\n      <td>8.70</td>\n      <td>5.34</td>\n      <td>18325</td>\n    </tr>\n  </tbody>\n</table>\n</div>"
     },
     "metadata": {},
     "execution_count": 4
    }
   ],
   "source": [
    "df[df[\"price\"] > 18000].sort_values(by=\"carat\", ascending=False).head(20)"
   ]
  },
  {
   "cell_type": "code",
   "execution_count": 5,
   "metadata": {},
   "outputs": [
    {
     "output_type": "execute_result",
     "data": {
      "text/plain": [
       "       carat  cut  color  clarity  depth  table     x     y     z  price\n",
       "20122    2.2    4     10        6   59.3   62.0  3.91  3.88  2.31    404\n",
       "5759     2.2    0      9        6   65.1   61.0  3.87  3.78  2.49    337\n",
       "5207     2.2    4      9        6   61.6   58.0  3.93  3.89  2.41    404\n",
       "18590    2.2    4      8        3   60.4   61.0  3.88  3.84  2.33    342\n",
       "4715     2.1    4     10        6   61.6   59.0  3.82  3.78  2.34    386\n",
       "14686    2.1    4     10        6   59.1   62.0  3.89  3.86  2.29    386\n",
       "27591    2.1    4     10        6   60.6   60.0  3.85  3.81  2.32    386\n",
       "29393    2.1    4      9        6   60.5   59.0  3.87  3.83  2.33    386\n",
       "25887    2.1    4      9        3   59.8   61.0  3.89  3.84  2.31    326\n",
       "4225     2.1    4      9        6   59.6   56.0  3.93  3.89  2.33    386\n",
       "36521    2.1    2      9        6   63.2   54.0  3.82  3.78  2.40    386\n",
       "3680     2.0    3      9        6   62.2   57.0  3.76  3.73  2.33    367\n",
       "23117    2.0    4      9        6   61.1   59.0  3.81  3.78  2.32    367\n",
       "291      2.0    4      9        6   59.0   60.0  3.81  3.78  2.24    367\n",
       "19910    2.0    4     10        6   61.7   60.0  3.77  3.72  2.31    367\n",
       "7191     2.0    3      9        6   59.7   55.0  3.86  3.84  2.30    367\n",
       "13731    2.0    4      9        6   59.7   62.0  3.84  3.80  2.28    367\n",
       "16333    2.0    4      8        6   62.6   59.0  3.73  3.71  2.33    367\n",
       "29116    2.0    4      9        6   59.8   62.0  3.79  3.77  2.26    367\n",
       "39266    2.0    4      9        2   60.2   62.0  3.79  3.75  2.27    345"
      ],
      "text/html": "<div>\n<style scoped>\n    .dataframe tbody tr th:only-of-type {\n        vertical-align: middle;\n    }\n\n    .dataframe tbody tr th {\n        vertical-align: top;\n    }\n\n    .dataframe thead th {\n        text-align: right;\n    }\n</style>\n<table border=\"1\" class=\"dataframe\">\n  <thead>\n    <tr style=\"text-align: right;\">\n      <th></th>\n      <th>carat</th>\n      <th>cut</th>\n      <th>color</th>\n      <th>clarity</th>\n      <th>depth</th>\n      <th>table</th>\n      <th>x</th>\n      <th>y</th>\n      <th>z</th>\n      <th>price</th>\n    </tr>\n  </thead>\n  <tbody>\n    <tr>\n      <th>20122</th>\n      <td>2.2</td>\n      <td>4</td>\n      <td>10</td>\n      <td>6</td>\n      <td>59.3</td>\n      <td>62.0</td>\n      <td>3.91</td>\n      <td>3.88</td>\n      <td>2.31</td>\n      <td>404</td>\n    </tr>\n    <tr>\n      <th>5759</th>\n      <td>2.2</td>\n      <td>0</td>\n      <td>9</td>\n      <td>6</td>\n      <td>65.1</td>\n      <td>61.0</td>\n      <td>3.87</td>\n      <td>3.78</td>\n      <td>2.49</td>\n      <td>337</td>\n    </tr>\n    <tr>\n      <th>5207</th>\n      <td>2.2</td>\n      <td>4</td>\n      <td>9</td>\n      <td>6</td>\n      <td>61.6</td>\n      <td>58.0</td>\n      <td>3.93</td>\n      <td>3.89</td>\n      <td>2.41</td>\n      <td>404</td>\n    </tr>\n    <tr>\n      <th>18590</th>\n      <td>2.2</td>\n      <td>4</td>\n      <td>8</td>\n      <td>3</td>\n      <td>60.4</td>\n      <td>61.0</td>\n      <td>3.88</td>\n      <td>3.84</td>\n      <td>2.33</td>\n      <td>342</td>\n    </tr>\n    <tr>\n      <th>4715</th>\n      <td>2.1</td>\n      <td>4</td>\n      <td>10</td>\n      <td>6</td>\n      <td>61.6</td>\n      <td>59.0</td>\n      <td>3.82</td>\n      <td>3.78</td>\n      <td>2.34</td>\n      <td>386</td>\n    </tr>\n    <tr>\n      <th>14686</th>\n      <td>2.1</td>\n      <td>4</td>\n      <td>10</td>\n      <td>6</td>\n      <td>59.1</td>\n      <td>62.0</td>\n      <td>3.89</td>\n      <td>3.86</td>\n      <td>2.29</td>\n      <td>386</td>\n    </tr>\n    <tr>\n      <th>27591</th>\n      <td>2.1</td>\n      <td>4</td>\n      <td>10</td>\n      <td>6</td>\n      <td>60.6</td>\n      <td>60.0</td>\n      <td>3.85</td>\n      <td>3.81</td>\n      <td>2.32</td>\n      <td>386</td>\n    </tr>\n    <tr>\n      <th>29393</th>\n      <td>2.1</td>\n      <td>4</td>\n      <td>9</td>\n      <td>6</td>\n      <td>60.5</td>\n      <td>59.0</td>\n      <td>3.87</td>\n      <td>3.83</td>\n      <td>2.33</td>\n      <td>386</td>\n    </tr>\n    <tr>\n      <th>25887</th>\n      <td>2.1</td>\n      <td>4</td>\n      <td>9</td>\n      <td>3</td>\n      <td>59.8</td>\n      <td>61.0</td>\n      <td>3.89</td>\n      <td>3.84</td>\n      <td>2.31</td>\n      <td>326</td>\n    </tr>\n    <tr>\n      <th>4225</th>\n      <td>2.1</td>\n      <td>4</td>\n      <td>9</td>\n      <td>6</td>\n      <td>59.6</td>\n      <td>56.0</td>\n      <td>3.93</td>\n      <td>3.89</td>\n      <td>2.33</td>\n      <td>386</td>\n    </tr>\n    <tr>\n      <th>36521</th>\n      <td>2.1</td>\n      <td>2</td>\n      <td>9</td>\n      <td>6</td>\n      <td>63.2</td>\n      <td>54.0</td>\n      <td>3.82</td>\n      <td>3.78</td>\n      <td>2.40</td>\n      <td>386</td>\n    </tr>\n    <tr>\n      <th>3680</th>\n      <td>2.0</td>\n      <td>3</td>\n      <td>9</td>\n      <td>6</td>\n      <td>62.2</td>\n      <td>57.0</td>\n      <td>3.76</td>\n      <td>3.73</td>\n      <td>2.33</td>\n      <td>367</td>\n    </tr>\n    <tr>\n      <th>23117</th>\n      <td>2.0</td>\n      <td>4</td>\n      <td>9</td>\n      <td>6</td>\n      <td>61.1</td>\n      <td>59.0</td>\n      <td>3.81</td>\n      <td>3.78</td>\n      <td>2.32</td>\n      <td>367</td>\n    </tr>\n    <tr>\n      <th>291</th>\n      <td>2.0</td>\n      <td>4</td>\n      <td>9</td>\n      <td>6</td>\n      <td>59.0</td>\n      <td>60.0</td>\n      <td>3.81</td>\n      <td>3.78</td>\n      <td>2.24</td>\n      <td>367</td>\n    </tr>\n    <tr>\n      <th>19910</th>\n      <td>2.0</td>\n      <td>4</td>\n      <td>10</td>\n      <td>6</td>\n      <td>61.7</td>\n      <td>60.0</td>\n      <td>3.77</td>\n      <td>3.72</td>\n      <td>2.31</td>\n      <td>367</td>\n    </tr>\n    <tr>\n      <th>7191</th>\n      <td>2.0</td>\n      <td>3</td>\n      <td>9</td>\n      <td>6</td>\n      <td>59.7</td>\n      <td>55.0</td>\n      <td>3.86</td>\n      <td>3.84</td>\n      <td>2.30</td>\n      <td>367</td>\n    </tr>\n    <tr>\n      <th>13731</th>\n      <td>2.0</td>\n      <td>4</td>\n      <td>9</td>\n      <td>6</td>\n      <td>59.7</td>\n      <td>62.0</td>\n      <td>3.84</td>\n      <td>3.80</td>\n      <td>2.28</td>\n      <td>367</td>\n    </tr>\n    <tr>\n      <th>16333</th>\n      <td>2.0</td>\n      <td>4</td>\n      <td>8</td>\n      <td>6</td>\n      <td>62.6</td>\n      <td>59.0</td>\n      <td>3.73</td>\n      <td>3.71</td>\n      <td>2.33</td>\n      <td>367</td>\n    </tr>\n    <tr>\n      <th>29116</th>\n      <td>2.0</td>\n      <td>4</td>\n      <td>9</td>\n      <td>6</td>\n      <td>59.8</td>\n      <td>62.0</td>\n      <td>3.79</td>\n      <td>3.77</td>\n      <td>2.26</td>\n      <td>367</td>\n    </tr>\n    <tr>\n      <th>39266</th>\n      <td>2.0</td>\n      <td>4</td>\n      <td>9</td>\n      <td>2</td>\n      <td>60.2</td>\n      <td>62.0</td>\n      <td>3.79</td>\n      <td>3.75</td>\n      <td>2.27</td>\n      <td>345</td>\n    </tr>\n  </tbody>\n</table>\n</div>"
     },
     "metadata": {},
     "execution_count": 5
    }
   ],
   "source": [
    "df[df[\"price\"] < 800].sort_values(by=\"carat\", ascending=False).tail(20)"
   ]
  },
  {
   "cell_type": "code",
   "execution_count": 6,
   "metadata": {},
   "outputs": [],
   "source": [
    "X = np.array(df[[\"carat\",\"cut\", \"color\", \"clarity\"]])\n",
    "y = np.array(df[\"price\"])"
   ]
  },
  {
   "cell_type": "code",
   "execution_count": 7,
   "metadata": {},
   "outputs": [],
   "source": [
    "X_train, X_test, y_train, y_test = train_test_split(X, y, test_size = 0.20, random_state = 235)"
   ]
  },
  {
   "cell_type": "code",
   "execution_count": 8,
   "metadata": {},
   "outputs": [
    {
     "output_type": "stream",
     "name": "stderr",
     "text": [
      "C:\\Users\\xyang\\AppData\\Local\\Programs\\Python\\Python37\\lib\\site-packages\\sklearn\\svm\\_base.py:258: ConvergenceWarning: Solver terminated early (max_iter=999999).  Consider pre-processing your data with StandardScaler or MinMaxScaler.\n  % self.max_iter, ConvergenceWarning)\n"
     ]
    },
    {
     "output_type": "execute_result",
     "data": {
      "text/plain": [
       "SVR(C=10000, gamma='auto', max_iter=999999)"
      ]
     },
     "metadata": {},
     "execution_count": 8
    }
   ],
   "source": [
    "svr_rbf = SVR(kernel='rbf', C=10000, gamma=\"auto\", epsilon=0.1, max_iter=999999)\n",
    "svr_rbf.fit(X_train, y_train)"
   ]
  },
  {
   "cell_type": "code",
   "execution_count": 9,
   "metadata": {},
   "outputs": [
    {
     "output_type": "stream",
     "name": "stdout",
     "text": [
      "0.9795639292459817\n"
     ]
    },
    {
     "output_type": "execute_result",
     "data": {
      "text/plain": [
       "555.1367153891555"
      ]
     },
     "metadata": {},
     "execution_count": 9
    }
   ],
   "source": [
    "y_test_pred = svr_rbf.predict(X_test)\n",
    "print(r2_score(y_test, y_test_pred))\n",
    "np.sqrt(mean_squared_error(y_test, y_test_pred))"
   ]
  },
  {
   "cell_type": "code",
   "execution_count": 10,
   "metadata": {},
   "outputs": [],
   "source": [
    "# C = 10000/ 555.1367153891555"
   ]
  },
  {
   "cell_type": "code",
   "execution_count": 11,
   "metadata": {},
   "outputs": [
    {
     "output_type": "execute_result",
     "data": {
      "text/plain": [
       "      y_test        y_pred\n",
       "0       2041   1903.567653\n",
       "1        640    795.939931\n",
       "2       3583   3701.451628\n",
       "3        616    623.812214\n",
       "4       1243   1221.798919\n",
       "...      ...           ...\n",
       "8064   11262  10915.804793\n",
       "8065    1376   1582.086768\n",
       "8066    1346   1349.774243\n",
       "8067   11040  11811.403466\n",
       "8068    1429   1623.563271\n",
       "\n",
       "[8069 rows x 2 columns]"
      ],
      "text/html": "<div>\n<style scoped>\n    .dataframe tbody tr th:only-of-type {\n        vertical-align: middle;\n    }\n\n    .dataframe tbody tr th {\n        vertical-align: top;\n    }\n\n    .dataframe thead th {\n        text-align: right;\n    }\n</style>\n<table border=\"1\" class=\"dataframe\">\n  <thead>\n    <tr style=\"text-align: right;\">\n      <th></th>\n      <th>y_test</th>\n      <th>y_pred</th>\n    </tr>\n  </thead>\n  <tbody>\n    <tr>\n      <th>0</th>\n      <td>2041</td>\n      <td>1903.567653</td>\n    </tr>\n    <tr>\n      <th>1</th>\n      <td>640</td>\n      <td>795.939931</td>\n    </tr>\n    <tr>\n      <th>2</th>\n      <td>3583</td>\n      <td>3701.451628</td>\n    </tr>\n    <tr>\n      <th>3</th>\n      <td>616</td>\n      <td>623.812214</td>\n    </tr>\n    <tr>\n      <th>4</th>\n      <td>1243</td>\n      <td>1221.798919</td>\n    </tr>\n    <tr>\n      <th>...</th>\n      <td>...</td>\n      <td>...</td>\n    </tr>\n    <tr>\n      <th>8064</th>\n      <td>11262</td>\n      <td>10915.804793</td>\n    </tr>\n    <tr>\n      <th>8065</th>\n      <td>1376</td>\n      <td>1582.086768</td>\n    </tr>\n    <tr>\n      <th>8066</th>\n      <td>1346</td>\n      <td>1349.774243</td>\n    </tr>\n    <tr>\n      <th>8067</th>\n      <td>11040</td>\n      <td>11811.403466</td>\n    </tr>\n    <tr>\n      <th>8068</th>\n      <td>1429</td>\n      <td>1623.563271</td>\n    </tr>\n  </tbody>\n</table>\n<p>8069 rows × 2 columns</p>\n</div>"
     },
     "metadata": {},
     "execution_count": 11
    }
   ],
   "source": [
    "pd.DataFrame({\"y_test\":y_test,\"y_pred\": y_test_pred})"
   ]
  },
  {
   "source": [
    "### PREDECIR TEST"
   ],
   "cell_type": "markdown",
   "metadata": {}
  },
  {
   "cell_type": "code",
   "execution_count": 12,
   "metadata": {},
   "outputs": [],
   "source": [
    "X_pred = pd.read_csv(\"diamonds_test.csv\", index_col = 0)"
   ]
  },
  {
   "cell_type": "code",
   "execution_count": 13,
   "metadata": {},
   "outputs": [],
   "source": [
    "X_pred[\"carat\"] = 10*X_pred[\"carat\"]"
   ]
  },
  {
   "cell_type": "code",
   "execution_count": null,
   "metadata": {},
   "outputs": [],
   "source": [
    "X_pred[\"cut\"] = X_pred[\"cut\"].apply(lambda x: x.replace(\"Fair\",\"0\"))\n",
    "X_pred[\"cut\"] = X_pred[\"cut\"].apply(lambda x: x.replace(\"Very Good\",\"2\"))\n",
    "X_pred[\"cut\"] = X_pred[\"cut\"].apply(lambda x: x.replace(\"Good\",\"1\"))\n",
    "X_pred[\"cut\"] = X_pred[\"cut\"].apply(lambda x: x.replace(\"Ideal\",\"3\"))\n",
    "X_pred[\"cut\"] = X_pred[\"cut\"].apply(lambda x: x.replace(\"Premium\",\"4\"))\n",
    "X_pred[\"cut\"] = X_pred[\"cut\"].astype(int)"
   ]
  },
  {
   "cell_type": "code",
   "execution_count": 17,
   "metadata": {},
   "outputs": [],
   "source": [
    "\n",
    "\n",
    "X_pred[\"color\"] = X_pred[\"color\"].apply(lambda x: x.replace(\"D\",\"10\"))\n",
    "X_pred[\"color\"] = X_pred[\"color\"].apply(lambda x: x.replace(\"E\",\"9\"))\n",
    "X_pred[\"color\"] = X_pred[\"color\"].apply(lambda x: x.replace(\"F\",\"8\"))\n",
    "X_pred[\"color\"] = X_pred[\"color\"].apply(lambda x: x.replace(\"G\",\"6\"))\n",
    "X_pred[\"color\"] = X_pred[\"color\"].apply(lambda x: x.replace(\"H\",\"5\"))\n",
    "X_pred[\"color\"] = X_pred[\"color\"].apply(lambda x: x.replace(\"I\",\"4\"))\n",
    "X_pred[\"color\"] = X_pred[\"color\"].apply(lambda x: x.replace(\"J\",\"0\"))\n",
    "X_pred[\"color\"] = X_pred[\"color\"].astype(int)\n",
    "\n",
    "X_pred[\"clarity\"] = X_pred[\"clarity\"].apply(lambda x: x.replace(\"SI1\",\"3\"))\n",
    "X_pred[\"clarity\"] = X_pred[\"clarity\"].apply(lambda x: x.replace(\"SI2\",\"2\"))\n",
    "X_pred[\"clarity\"] = X_pred[\"clarity\"].apply(lambda x: x.replace(\"I1\",\"0\"))\n",
    "X_pred[\"clarity\"] = X_pred[\"clarity\"].apply(lambda x: x.replace(\"IF\",\"10\"))\n",
    "X_pred[\"clarity\"] = X_pred[\"clarity\"].apply(lambda x: x.replace(\"VVS1\",\"9\"))\n",
    "X_pred[\"clarity\"] = X_pred[\"clarity\"].apply(lambda x: x.replace(\"VVS2\",\"8\"))\n",
    "X_pred[\"clarity\"] = X_pred[\"clarity\"].apply(lambda x: x.replace(\"VS1\",\"7\"))\n",
    "X_pred[\"clarity\"] = X_pred[\"clarity\"].apply(lambda x: x.replace(\"VS2\",\"6\"))\n",
    "X_pred[\"clarity\"] = X_pred[\"clarity\"].astype(int)\n"
   ]
  },
  {
   "cell_type": "code",
   "execution_count": 18,
   "metadata": {},
   "outputs": [],
   "source": [
    "X_pred = np.array(X_pred[[\"carat\",\"cut\", \"color\", \"clarity\"]])"
   ]
  },
  {
   "cell_type": "code",
   "execution_count": 19,
   "metadata": {},
   "outputs": [
    {
     "output_type": "execute_result",
     "data": {
      "text/plain": [
       "          0    1     2     3\n",
       "0       3.0  3.0   5.0   2.0\n",
       "1       3.4  3.0  10.0  10.0\n",
       "2      15.7  2.0   4.0   6.0\n",
       "3       3.1  3.0   5.0   6.0\n",
       "4      15.1  1.0   4.0   9.0\n",
       "...     ...  ...   ...   ...\n",
       "13444  10.5  3.0   8.0   2.0\n",
       "13445   2.7  2.0   6.0   7.0\n",
       "13446  15.0  4.0  10.0   6.0\n",
       "13447  17.0  4.0   8.0   2.0\n",
       "13448   3.0  3.0  10.0   6.0\n",
       "\n",
       "[13449 rows x 4 columns]"
      ],
      "text/html": "<div>\n<style scoped>\n    .dataframe tbody tr th:only-of-type {\n        vertical-align: middle;\n    }\n\n    .dataframe tbody tr th {\n        vertical-align: top;\n    }\n\n    .dataframe thead th {\n        text-align: right;\n    }\n</style>\n<table border=\"1\" class=\"dataframe\">\n  <thead>\n    <tr style=\"text-align: right;\">\n      <th></th>\n      <th>0</th>\n      <th>1</th>\n      <th>2</th>\n      <th>3</th>\n    </tr>\n  </thead>\n  <tbody>\n    <tr>\n      <th>0</th>\n      <td>3.0</td>\n      <td>3.0</td>\n      <td>5.0</td>\n      <td>2.0</td>\n    </tr>\n    <tr>\n      <th>1</th>\n      <td>3.4</td>\n      <td>3.0</td>\n      <td>10.0</td>\n      <td>10.0</td>\n    </tr>\n    <tr>\n      <th>2</th>\n      <td>15.7</td>\n      <td>2.0</td>\n      <td>4.0</td>\n      <td>6.0</td>\n    </tr>\n    <tr>\n      <th>3</th>\n      <td>3.1</td>\n      <td>3.0</td>\n      <td>5.0</td>\n      <td>6.0</td>\n    </tr>\n    <tr>\n      <th>4</th>\n      <td>15.1</td>\n      <td>1.0</td>\n      <td>4.0</td>\n      <td>9.0</td>\n    </tr>\n    <tr>\n      <th>...</th>\n      <td>...</td>\n      <td>...</td>\n      <td>...</td>\n      <td>...</td>\n    </tr>\n    <tr>\n      <th>13444</th>\n      <td>10.5</td>\n      <td>3.0</td>\n      <td>8.0</td>\n      <td>2.0</td>\n    </tr>\n    <tr>\n      <th>13445</th>\n      <td>2.7</td>\n      <td>2.0</td>\n      <td>6.0</td>\n      <td>7.0</td>\n    </tr>\n    <tr>\n      <th>13446</th>\n      <td>15.0</td>\n      <td>4.0</td>\n      <td>10.0</td>\n      <td>6.0</td>\n    </tr>\n    <tr>\n      <th>13447</th>\n      <td>17.0</td>\n      <td>4.0</td>\n      <td>8.0</td>\n      <td>2.0</td>\n    </tr>\n    <tr>\n      <th>13448</th>\n      <td>3.0</td>\n      <td>3.0</td>\n      <td>10.0</td>\n      <td>6.0</td>\n    </tr>\n  </tbody>\n</table>\n<p>13449 rows × 4 columns</p>\n</div>"
     },
     "metadata": {},
     "execution_count": 19
    }
   ],
   "source": [
    "pd.DataFrame(X_pred)"
   ]
  },
  {
   "cell_type": "code",
   "execution_count": 20,
   "metadata": {},
   "outputs": [
    {
     "output_type": "execute_result",
     "data": {
      "text/plain": [
       "array([  408.14397298,  1881.3222375 ,  9701.81516169, ...,\n",
       "       15287.02390032,  9423.70264847,   736.10746658])"
      ]
     },
     "metadata": {},
     "execution_count": 20
    }
   ],
   "source": [
    "predictions_submit = svr_rbf.predict(X_pred)\n",
    "predictions_submit"
   ]
  },
  {
   "cell_type": "code",
   "execution_count": 15,
   "metadata": {},
   "outputs": [
    {
     "output_type": "execute_result",
     "data": {
      "text/plain": [
       "                  0\n",
       "0        406.116411\n",
       "1       1518.506017\n",
       "2       9809.310560\n",
       "3        507.105117\n",
       "4       9301.107762\n",
       "...             ...\n",
       "13444   4678.042759\n",
       "13445    497.939913\n",
       "13446  15306.840933\n",
       "13447  10139.667918\n",
       "13448    735.900662\n",
       "\n",
       "[13449 rows x 1 columns]"
      ],
      "text/html": "<div>\n<style scoped>\n    .dataframe tbody tr th:only-of-type {\n        vertical-align: middle;\n    }\n\n    .dataframe tbody tr th {\n        vertical-align: top;\n    }\n\n    .dataframe thead th {\n        text-align: right;\n    }\n</style>\n<table border=\"1\" class=\"dataframe\">\n  <thead>\n    <tr style=\"text-align: right;\">\n      <th></th>\n      <th>0</th>\n    </tr>\n  </thead>\n  <tbody>\n    <tr>\n      <th>0</th>\n      <td>406.116411</td>\n    </tr>\n    <tr>\n      <th>1</th>\n      <td>1518.506017</td>\n    </tr>\n    <tr>\n      <th>2</th>\n      <td>9809.310560</td>\n    </tr>\n    <tr>\n      <th>3</th>\n      <td>507.105117</td>\n    </tr>\n    <tr>\n      <th>4</th>\n      <td>9301.107762</td>\n    </tr>\n    <tr>\n      <th>...</th>\n      <td>...</td>\n    </tr>\n    <tr>\n      <th>13444</th>\n      <td>4678.042759</td>\n    </tr>\n    <tr>\n      <th>13445</th>\n      <td>497.939913</td>\n    </tr>\n    <tr>\n      <th>13446</th>\n      <td>15306.840933</td>\n    </tr>\n    <tr>\n      <th>13447</th>\n      <td>10139.667918</td>\n    </tr>\n    <tr>\n      <th>13448</th>\n      <td>735.900662</td>\n    </tr>\n  </tbody>\n</table>\n<p>13449 rows × 1 columns</p>\n</div>"
     },
     "metadata": {},
     "execution_count": 15
    }
   ],
   "source": [
    "pd.DataFrame(predictions_submit)"
   ]
  },
  {
   "cell_type": "code",
   "execution_count": 21,
   "metadata": {},
   "outputs": [],
   "source": [
    "submission = pd.DataFrame({\"id\": range(len(predictions_submit)), \"price\": predictions_submit})"
   ]
  },
  {
   "cell_type": "code",
   "execution_count": 23,
   "metadata": {},
   "outputs": [],
   "source": [
    "submission.to_csv(\"submission1.csv\", index = False)"
   ]
  },
  {
   "cell_type": "code",
   "execution_count": null,
   "metadata": {},
   "outputs": [],
   "source": []
  }
 ]
}