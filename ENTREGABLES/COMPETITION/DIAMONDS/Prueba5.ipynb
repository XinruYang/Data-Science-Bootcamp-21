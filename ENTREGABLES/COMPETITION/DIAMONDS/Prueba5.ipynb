{
 "metadata": {
  "language_info": {
   "codemirror_mode": {
    "name": "ipython",
    "version": 3
   },
   "file_extension": ".py",
   "mimetype": "text/x-python",
   "name": "python",
   "nbconvert_exporter": "python",
   "pygments_lexer": "ipython3",
   "version": "3.7.4"
  },
  "orig_nbformat": 4,
  "kernelspec": {
   "name": "python3",
   "display_name": "Python 3.7.4 64-bit"
  },
  "interpreter": {
   "hash": "fc2c00f0e2c44cb4028bd693f18a1b5d93d1de4cd12db71fca36ff691a163044"
  }
 },
 "nbformat": 4,
 "nbformat_minor": 2,
 "cells": [
  {
   "cell_type": "code",
   "execution_count": 1,
   "metadata": {},
   "outputs": [],
   "source": [
    "import numpy as np\n",
    "import pandas as pd\n",
    "\n",
    "from sklearn.metrics import mean_squared_error\n",
    "from sklearn.metrics import r2_score, mean_absolute_error\n",
    "\n",
    "from sklearn.model_selection import train_test_split\n",
    "from sklearn.svm import SVR\n",
    "from sklearn.linear_model import LinearRegression\n",
    "from sklearn.pipeline import make_pipeline\n",
    "from sklearn.pipeline import Pipeline\n",
    "from sklearn.impute import SimpleImputer\n",
    "from sklearn.preprocessing import StandardScaler\n",
    "from sklearn.preprocessing import PolynomialFeatures\n",
    "\n",
    "from sklearn.feature_selection import SelectKBest\n",
    "from sklearn import svm, datasets\n",
    "from sklearn.model_selection import GridSearchCV\n",
    "import numpy as np\n"
   ]
  },
  {
   "cell_type": "code",
   "execution_count": 2,
   "metadata": {},
   "outputs": [],
   "source": [
    "df = pd.read_csv(\"diamonds_train.csv\", index_col=0)"
   ]
  },
  {
   "cell_type": "code",
   "execution_count": 3,
   "metadata": {},
   "outputs": [],
   "source": [
    "df[\"cut\"] = df[\"cut\"].apply(lambda x: x.replace(\"Fair\",\"0\"))\n",
    "df[\"cut\"] = df[\"cut\"].apply(lambda x: x.replace(\"Very Good\",\"2\"))\n",
    "df[\"cut\"] = df[\"cut\"].apply(lambda x: x.replace(\"Good\",\"1\"))\n",
    "df[\"cut\"] = df[\"cut\"].apply(lambda x: x.replace(\"Ideal\",\"3\"))\n",
    "df[\"cut\"] = df[\"cut\"].apply(lambda x: x.replace(\"Premium\",\"4\"))\n",
    "df[\"cut\"] = df[\"cut\"].astype(int)\n",
    "\n",
    "df[\"color\"] = df[\"color\"].apply(lambda x: x.replace(\"D\",\"0\"))\n",
    "df[\"color\"] = df[\"color\"].apply(lambda x: x.replace(\"E\",\"1\"))\n",
    "df[\"color\"] = df[\"color\"].apply(lambda x: x.replace(\"F\",\"2\"))\n",
    "df[\"color\"] = df[\"color\"].apply(lambda x: x.replace(\"G\",\"3\"))\n",
    "df[\"color\"] = df[\"color\"].apply(lambda x: x.replace(\"H\",\"4\"))\n",
    "df[\"color\"] = df[\"color\"].apply(lambda x: x.replace(\"I\",\"5\"))\n",
    "df[\"color\"] = df[\"color\"].apply(lambda x: x.replace(\"J\",\"6\"))\n",
    "df[\"color\"] = df[\"color\"].astype(int)\n",
    "\n",
    "df[\"clarity\"] = df[\"clarity\"].apply(lambda x: x.replace(\"SI1\",\"4\"))\n",
    "df[\"clarity\"] = df[\"clarity\"].apply(lambda x: x.replace(\"SI2\",\"5\"))\n",
    "df[\"clarity\"] = df[\"clarity\"].apply(lambda x: x.replace(\"I1\",\"0\"))\n",
    "df[\"clarity\"] = df[\"clarity\"].apply(lambda x: x.replace(\"IF\",\"1\"))\n",
    "df[\"clarity\"] = df[\"clarity\"].apply(lambda x: x.replace(\"VVS1\",\"2\"))\n",
    "df[\"clarity\"] = df[\"clarity\"].apply(lambda x: x.replace(\"VVS2\",\"3\"))\n",
    "df[\"clarity\"] = df[\"clarity\"].apply(lambda x: x.replace(\"VS1\",\"6\"))\n",
    "df[\"clarity\"] = df[\"clarity\"].apply(lambda x: x.replace(\"VS2\",\"7\"))\n",
    "df[\"clarity\"] = df[\"clarity\"].astype(int)\n"
   ]
  },
  {
   "cell_type": "code",
   "execution_count": 4,
   "metadata": {},
   "outputs": [],
   "source": [
    "X = np.array(df[\"carat\"]).reshape(-1, 1)\n",
    "y = np.array(df[\"price\"])"
   ]
  },
  {
   "cell_type": "code",
   "execution_count": 5,
   "metadata": {},
   "outputs": [],
   "source": [
    "X_train, X_test, y_train, y_test = train_test_split(X, y, test_size = 0.20, random_state = 13)"
   ]
  },
  {
   "cell_type": "code",
   "execution_count": 6,
   "metadata": {},
   "outputs": [],
   "source": []
  },
  {
   "cell_type": "code",
   "execution_count": 7,
   "metadata": {},
   "outputs": [],
   "source": [
    "svm = Pipeline(steps=[\n",
    "    (\"scaler\", StandardScaler()),\n",
    "    #(\"selectkbest\", SelectKBest()),\n",
    "    (\"svm\", SVR())])\n",
    "\n",
    "svm_param = {\"svm__kernel\": (\"linear\", \"rbf\", \"sigmoid\", \"precomputed\")\n",
    ",'svm__kernel': ('linear', 'rbf', 'sigmoid'),\n",
    "    'svm__C': [700, 1000, 2000, 2200, 3000, 5000, 10000]\n",
    "    'svm__gamma': ('scale', 'auto')\n",
    "    'svm__epsilon': [0.1, 0.2, 0.3, 0.4, 0.5, 0.6, 0.7, 0.8, 1, 1.5, 1.6]\n",
    "    'svm__max_iter': [99999, 999999]}\n",
    "\n",
    "gs_svm = GridSearchCV(svm, svm_param,\n",
    "                         cv=10\n",
    "                         scoring = 'neg_mean_squared_error',\n",
    "                         verbose=1)"
   ]
  },
  {
   "cell_type": "code",
   "execution_count": 8,
   "metadata": {},
   "outputs": [],
   "source": [
    "grids = {\n",
    "    \"gs_svm\": gs_svm\n",
    "}"
   ]
  },
  {
   "cell_type": "code",
   "execution_count": 9,
   "metadata": {
    "tags": []
   },
   "outputs": [
    {
     "output_type": "stream",
     "name": "stdout",
     "text": [
      "Fitting 5 folds for each of 40 candidates, totalling 200 fits\n",
      "Fitting 5 folds for each of 36 candidates, totalling 180 fits\n"
     ]
    }
   ],
   "source": [
    "for nombre, grid in grids.items():\n",
    "    grid.fit(X_train, y_train)"
   ]
  },
  {
   "cell_type": "code",
   "execution_count": null,
   "metadata": {},
   "outputs": [],
   "source": [
    "import pandas as pd\n",
    "best_grids = [(i, j.best_score_) for i, j in grids.items()]\n",
    "\n",
    "best_grids = pd.DataFrame(best_grids,\n",
    "                         columns = ['Grid', 'Best score']).sort_values(by = 'Best score', ascending=False)\n",
    "best_grids"
   ]
  }
 ]
}