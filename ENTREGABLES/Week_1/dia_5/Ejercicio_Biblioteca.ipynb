{
 "cells": [
  {
   "cell_type": "markdown",
   "metadata": {},
   "source": [
    "# Ejercicio La Biblioteca | Repaso Week 1\n",
    "## Precurso DSApr21 - The Bridge\n",
    "\n",
    "La versión original de esta Práctica es en español por lo que respetaremos sus orígenes y a su autora, Clara Piniella, y lo dejaremos en este idioma. Disculpen las molestias que esto pudiera ocasionarle como estudiante. "
   ]
  },
  {
   "cell_type": "markdown",
   "metadata": {},
   "source": [
    "![biblioteca](https://static2.abc.es/media/familia/2018/11/02/AdobeStock_210538561-kJTF--620x349@abc.jpg)"
   ]
  },
  {
   "cell_type": "markdown",
   "metadata": {},
   "source": [
    "Es tu primer día de trabajo en la Biblioteca de tu barrio y ya tienes tu primera tarea. Te acaban de pasar una lista con libros y la lista de unidades disponibles."
   ]
  },
  {
   "cell_type": "code",
   "execution_count": 106,
   "metadata": {},
   "outputs": [],
   "source": [
    "libros = [\"El mal de Corcira\", \"Un mundo feliz\", \"Lolita\", \"Crimen y castigo\", \"Python from for to pro\",\\\n",
    "          \"El señor de los anillos\", \"Cien años de soledad\", \"Harry Potter\", \"Lectura Fácil\", \"Seda\",\\\n",
    "          \"La chica de nieve\", \"El día que se perdió la cordura\", \"Data Science\"]\n"
   ]
  },
  {
   "cell_type": "code",
   "execution_count": 2,
   "metadata": {},
   "outputs": [],
   "source": [
    "biblioteca = [(\"El mal de Corcira\",4),(\"Un mundo feliz\", 2),(\"Lolita\", 5),\\\n",
    "              (\"Crimen y castigo\",2),(\"Python from for to pro\", 0),(\"El señor de los anillos\", 6),\\\n",
    "              (\"Cien años de soledad\", 5),(\"Harry Potter\", 9),(\"Lectura Fácil\", 4),(\"Seda\", 2),\\\n",
    "              (\"La chica de nieve\", 6),(\"El día que se perdió la cordura\", 3), (\"Data Science\", 0)]"
   ]
  },
  {
   "cell_type": "markdown",
   "metadata": {},
   "source": [
    "1. ¿Cuántos títulos diferentes tienen en esta biblioteca?"
   ]
  },
  {
   "cell_type": "code",
   "execution_count": 108,
   "metadata": {},
   "outputs": [
    {
     "output_type": "execute_result",
     "data": {
      "text/plain": [
       "13"
      ]
     },
     "metadata": {},
     "execution_count": 108
    }
   ],
   "source": [
    "#your code here\n",
    "len(biblioteca)"
   ]
  },
  {
   "cell_type": "markdown",
   "metadata": {},
   "source": [
    "2. ¿Cuántas letras componen la palabra *Seda*? "
   ]
  },
  {
   "cell_type": "code",
   "execution_count": 109,
   "metadata": {},
   "outputs": [
    {
     "output_type": "execute_result",
     "data": {
      "text/plain": [
       "4"
      ]
     },
     "metadata": {},
     "execution_count": 109
    }
   ],
   "source": [
    "#your code here\n",
    "len(libros[9])"
   ]
  },
  {
   "cell_type": "markdown",
   "metadata": {},
   "source": [
    "3. ¿Cuántas unidades hay del libro *Seda*?"
   ]
  },
  {
   "cell_type": "code",
   "execution_count": 110,
   "metadata": {},
   "outputs": [
    {
     "output_type": "stream",
     "name": "stdout",
     "text": [
      "2\n"
     ]
    }
   ],
   "source": [
    "#your code here\n",
    "print(biblioteca[9][1])"
   ]
  },
  {
   "cell_type": "markdown",
   "metadata": {},
   "source": [
    "4. Quien registraba los libros antes de ti dejo pendiente de añadir a la lista **libros** la variable **pendiente**, además debió confundir el famoso libro de George Orwell *1984*, con un número, asignándolo como un integer.\n",
    "¿Puedes cambiarlo y pasar a string este elemento y añadirlo a **libros**?"
   ]
  },
  {
   "cell_type": "code",
   "execution_count": 111,
   "metadata": {},
   "outputs": [],
   "source": [
    "pendiente = 1984"
   ]
  },
  {
   "cell_type": "code",
   "execution_count": 112,
   "metadata": {},
   "outputs": [
    {
     "output_type": "stream",
     "name": "stdout",
     "text": [
      "['El mal de Corcira', 'Un mundo feliz', 'Lolita', 'Crimen y castigo', 'Python from for to pro', 'El señor de los anillos', 'Cien años de soledad', 'Harry Potter', 'Lectura Fácil', 'Seda', 'La chica de nieve', 'El día que se perdió la cordura', 'Data Science']\n"
     ]
    }
   ],
   "source": [
    "#your code here\n",
    "print(libros)"
   ]
  },
  {
   "cell_type": "code",
   "execution_count": 113,
   "metadata": {},
   "outputs": [
    {
     "output_type": "stream",
     "name": "stdout",
     "text": [
      "['El mal de Corcira', 'Un mundo feliz', 'Lolita', 'Crimen y castigo', 'Python from for to pro', 'El señor de los anillos', 'Cien años de soledad', 'Harry Potter', 'Lectura Fácil', 'Seda', 'La chica de nieve', 'El día que se perdió la cordura', 'Data Science', '1984']\n"
     ]
    }
   ],
   "source": [
    "libros.append(str(pendiente))\n",
    "print(libros)"
   ]
  },
  {
   "cell_type": "code",
   "execution_count": 114,
   "metadata": {},
   "outputs": [
    {
     "output_type": "execute_result",
     "data": {
      "text/plain": [
       "['El mal de Corcira',\n",
       " 'Un mundo feliz',\n",
       " 'Lolita',\n",
       " 'Crimen y castigo',\n",
       " 'Python from for to pro',\n",
       " 'El señor de los anillos',\n",
       " 'Cien años de soledad',\n",
       " 'Harry Potter',\n",
       " 'Lectura Fácil',\n",
       " 'Seda',\n",
       " 'La chica de nieve',\n",
       " 'El día que se perdió la cordura',\n",
       " 'Data Science',\n",
       " '1984']"
      ]
     },
     "metadata": {},
     "execution_count": 114
    }
   ],
   "source": [
    "libros"
   ]
  },
  {
   "cell_type": "markdown",
   "metadata": {},
   "source": [
    "5. Te piden que añadas a esta lista el nuevo libro de Los Juegos del hambre que se titula *Balada de pájaros cantores y serpientes*. Has contado las unidades y han llegado 10. \n",
    "\n",
    "    a. Crea una variable con el título del libro, que se llame **libro_1**. Añade este elemento a la lista **libros**.\n",
    "\n",
    "    b. Crea una variable con el número de unidades, que se llame **uds_1**.\n",
    "\n",
    "    c. Crea una variable que sea una lista llamada **nuevo_libro** en el que su primer elemento sea **libro_1** y el segundo **uds_1**. \n",
    "\n",
    "    d. Convierte a **nuevo_libro** a tupla.\n",
    "    (muestra qué tipo es ahora esta variable)\n",
    "\n",
    "    e. Añade **nuevo_libro** a la lista **biblioteca** "
   ]
  },
  {
   "cell_type": "code",
   "execution_count": 115,
   "metadata": {},
   "outputs": [
    {
     "output_type": "stream",
     "name": "stdout",
     "text": [
      "['balada de pájaros cantores y serpientes', 10]\n"
     ]
    }
   ],
   "source": [
    "#your code here\n",
    "libro_1 = \"balada de pájaros cantores y serpientes\"\n",
    "uds_1 = 10\n",
    "nuevo_libro = [libro_1, uds_1]\n",
    "print(nuevo_libro)"
   ]
  },
  {
   "cell_type": "code",
   "execution_count": 116,
   "metadata": {},
   "outputs": [
    {
     "output_type": "stream",
     "name": "stdout",
     "text": [
      "<class 'tuple'>\n"
     ]
    }
   ],
   "source": [
    "nuevo_libro = tuple(nuevo_libro)\n",
    "print(type(nuevo_libro))"
   ]
  },
  {
   "cell_type": "code",
   "execution_count": 117,
   "metadata": {},
   "outputs": [
    {
     "output_type": "stream",
     "name": "stdout",
     "text": [
      "[('El mal de Corcira', 4), ('Un mundo feliz', 2), ('Lolita', 5), ('Crimen y castigo', 2), ('Python from for to pro', 0), ('El señor de los anillos', 6), ('Cien años de soledad', 5), ('Harry Potter', 9), ('Lectura Fácil', 4), ('Seda', 2), ('La chica de nieve', 6), ('El día que se perdió la cordura', 3), ('Data Science', 0), ('balada de pájaros cantores y serpientes', 10)]\n"
     ]
    }
   ],
   "source": [
    "biblioteca.append(nuevo_libro)\n",
    "print(biblioteca)"
   ]
  },
  {
   "cell_type": "markdown",
   "metadata": {},
   "source": [
    "6. Acaban de traer una unidad más de *El mal de Corcira*, añade una unidad más al segundo elemento del primer elemento de la lista **biblioteca**."
   ]
  },
  {
   "cell_type": "code",
   "execution_count": null,
   "metadata": {},
   "outputs": [],
   "source": [
    "biblioteca[0]"
   ]
  },
  {
   "cell_type": "code",
   "execution_count": null,
   "metadata": {},
   "outputs": [],
   "source": [
    "biblioteca[0][1]"
   ]
  },
  {
   "cell_type": "code",
   "execution_count": null,
   "metadata": {},
   "outputs": [],
   "source": [
    "biblioteca[0][1] = biblioteca[0][1] - 1"
   ]
  },
  {
   "cell_type": "markdown",
   "metadata": {},
   "source": [
    "¿Cómo se te ocurre que podrías alterar este dato?"
   ]
  },
  {
   "cell_type": "code",
   "execution_count": 118,
   "metadata": {},
   "outputs": [
    {
     "output_type": "stream",
     "name": "stdout",
     "text": [
      "['El mal de Corcira', 4]\n"
     ]
    }
   ],
   "source": [
    "#your comment here\n",
    "\n",
    "#Habría que cambiar la tupla a lista. \n",
    "\n",
    "x = biblioteca[0]\n",
    "tup_to_list = list(x)\n",
    "print(tup_to_list)\n"
   ]
  },
  {
   "cell_type": "markdown",
   "metadata": {},
   "source": [
    "Convierte la tupla en una lista para poder modificar el segundo elemento y añadir esta unidad. Asigna la tupla convertida a lista a la variable **tup_to_list** haz los cambios, agrega la unidad y vuelve a añadir la lista ya convertida en tupla a la lista **biblioteca**."
   ]
  },
  {
   "cell_type": "code",
   "execution_count": 119,
   "metadata": {},
   "outputs": [
    {
     "output_type": "stream",
     "name": "stdout",
     "text": [
      "['El mal de Corcira', 5]\n"
     ]
    }
   ],
   "source": [
    "#your code here\n",
    "tup_to_list[1] = tup_to_list[1] + 1\n",
    "print(tup_to_list)"
   ]
  },
  {
   "cell_type": "code",
   "execution_count": 120,
   "metadata": {},
   "outputs": [],
   "source": [
    "tupla = tuple(tup_to_list)"
   ]
  },
  {
   "cell_type": "code",
   "execution_count": 121,
   "metadata": {},
   "outputs": [
    {
     "output_type": "stream",
     "name": "stdout",
     "text": [
      "[('El mal de Corcira', 5), ('El mal de Corcira', 4), ('Un mundo feliz', 2), ('Lolita', 5), ('Crimen y castigo', 2), ('Python from for to pro', 0), ('El señor de los anillos', 6), ('Cien años de soledad', 5), ('Harry Potter', 9), ('Lectura Fácil', 4), ('Seda', 2), ('La chica de nieve', 6), ('El día que se perdió la cordura', 3), ('Data Science', 0), ('balada de pájaros cantores y serpientes', 10)]\n"
     ]
    }
   ],
   "source": [
    "biblioteca.insert(0,tupla)\n",
    "print(biblioteca)"
   ]
  },
  {
   "cell_type": "code",
   "execution_count": 122,
   "metadata": {},
   "outputs": [
    {
     "output_type": "stream",
     "name": "stdout",
     "text": [
      "[('El mal de Corcira', 5), ('Un mundo feliz', 2), ('Lolita', 5), ('Crimen y castigo', 2), ('Python from for to pro', 0), ('El señor de los anillos', 6), ('Cien años de soledad', 5), ('Harry Potter', 9), ('Lectura Fácil', 4), ('Seda', 2), ('La chica de nieve', 6), ('El día que se perdió la cordura', 3), ('Data Science', 0), ('balada de pájaros cantores y serpientes', 10)]\n"
     ]
    }
   ],
   "source": [
    "biblioteca.pop(1)\n",
    "print(biblioteca)"
   ]
  },
  {
   "cell_type": "markdown",
   "metadata": {},
   "source": [
    "Ahora, tenemos dos tuplas con el libro *El mal de Corcira*, pero esto no es lo que queremos. Elimina el primer elemento de la lista **biblioteca**.\n",
    "\n",
    "Hint: https://www.programiz.com/python-programming/methods/list/remove"
   ]
  },
  {
   "cell_type": "code",
   "execution_count": null,
   "metadata": {},
   "outputs": [],
   "source": [
    "#your code here\n"
   ]
  },
  {
   "cell_type": "markdown",
   "metadata": {},
   "source": [
    "7. Te han pedido que localices los títulos de los libros de los que no disponen de unidades. Es decir, su segundo elemento, es igual a 0. "
   ]
  },
  {
   "cell_type": "code",
   "execution_count": null,
   "metadata": {},
   "outputs": [],
   "source": [
    "biblioteca"
   ]
  },
  {
   "cell_type": "code",
   "execution_count": 123,
   "metadata": {},
   "outputs": [
    {
     "output_type": "stream",
     "name": "stdout",
     "text": [
      "Python from for to pro\nData Science\n"
     ]
    }
   ],
   "source": [
    "#your code here\n",
    "for v_elem in biblioteca: \n",
    "    if v_elem[1] == 0:\n",
    "        print(v_elem[0])"
   ]
  },
  {
   "cell_type": "markdown",
   "metadata": {},
   "source": [
    "8. ¿Cómo meterías estos dos elementos en una lista llamada **missing**?"
   ]
  },
  {
   "cell_type": "code",
   "execution_count": 124,
   "metadata": {},
   "outputs": [
    {
     "output_type": "stream",
     "name": "stdout",
     "text": [
      "['Python from for to pro', 'Data Science']\n"
     ]
    }
   ],
   "source": [
    "#your code here\n",
    "missing = []\n",
    "\n",
    "for v_elem in biblioteca: \n",
    "    if v_elem[1] == 0:\n",
    "        missing.append(v_elem[0])\n",
    "        \n",
    "print(missing)\n"
   ]
  },
  {
   "cell_type": "markdown",
   "metadata": {},
   "source": [
    "9. Como en cualquier jornada de trabajo, recibes miles de email, hay uno que no habías visto pero en el que tu jefa te pide hacer un pequeño programita (función) que recoja el título de un libro y la cantidad de libros, este último parámetro por defecto será 1, chequée si tenemos ese título en la lista `libros` y si lo tenemos, sume esa cantidad a su cantidad en la lista `biblioteca` y si no, añada el título a `libros` y en una tupla nueva con la cantidad correspondiente a la lista `biblioteca`. "
   ]
  },
  {
   "cell_type": "code",
   "execution_count": null,
   "metadata": {},
   "outputs": [],
   "source": [
    "biblioteca"
   ]
  },
  {
   "cell_type": "code",
   "execution_count": 125,
   "metadata": {},
   "outputs": [
    {
     "output_type": "stream",
     "name": "stdout",
     "text": [
      "[['El mal de Corcira', 5], ['Un mundo feliz', 2], ['Lolita', 5], ['Crimen y castigo', 2], ['Python from for to pro', 0], ['El señor de los anillos', 6], ['Cien años de soledad', 5], ['Harry Potter', 9], ['Lectura Fácil', 4], ['Seda', 2], ['La chica de nieve', 6], ['El día que se perdió la cordura', 3], ['Data Science', 0], ['balada de pájaros cantores y serpientes', 10]]\n"
     ]
    }
   ],
   "source": [
    "#your code here\n",
    "lista_listas = []\n",
    "for i in range(len(biblioteca)): \n",
    "    lista_listas.append(list(biblioteca[i]))\n",
    "\n",
    "print(lista_listas)\n"
   ]
  },
  {
   "cell_type": "code",
   "execution_count": 135,
   "metadata": {},
   "outputs": [],
   "source": [
    "#Como en cualquier jornada de trabajo, recibes miles de email, hay uno que no habías visto pero en el que tu jefa te pide hacer un pequeño programita (función) que recoja el título de un libro y la cantidad de libros, este último parámetro por defecto será 1, chequée si tenemos ese título en la lista libros y si lo tenemos, sume esa cantidad a su cantidad en la lista biblioteca y si no, añada el título a libros y en una tupla nueva con la cantidad correspondiente a la lista biblioteca.\n",
    "\n",
    "def funcion(libro, cantidad=1):\n",
    "    for i in lista_listas: \n",
    "        if i[0] == libro:\n",
    "            i[1] += cantidad\n",
    "            print(lista_listas)\n",
    "            break\n",
    "        else: \n",
    "            nuevo_libro = [libro, cantidad]\n",
    "            lista_listas.append(nuevo_libro)\n",
    "            print(lista_listas)\n",
    "            break\n",
    "        \n",
    "        \n",
    "        \n",
    "\n",
    "\n"
   ]
  },
  {
   "cell_type": "code",
   "execution_count": 136,
   "metadata": {},
   "outputs": [
    {
     "output_type": "stream",
     "name": "stdout",
     "text": [
      "[['El mal de Corcira', 13], ['Un mundo feliz', 2], ['Lolita', 5], ['Crimen y castigo', 2], ['Python from for to pro', 0], ['El señor de los anillos', 6], ['Cien años de soledad', 5], ['Harry Potter', 9], ['Lectura Fácil', 4], ['Seda', 2], ['La chica de nieve', 6], ['El día que se perdió la cordura', 3], ['Data Science', 0], ['balada de pájaros cantores y serpientes', 10], ['Guía del Autopista Galáctico', 42]]\nNone\n"
     ]
    }
   ],
   "source": [
    "\n",
    "libro_d = input()\n",
    "cantidad_d = int(input())\n",
    "print(funcion(libro=libro_d, cantidad=cantidad_d))"
   ]
  },
  {
   "cell_type": "markdown",
   "metadata": {},
   "source": [
    "Pruébalo añadiendo el título de \"Guía del Autopista Galáctico\", cantidad 42."
   ]
  },
  {
   "cell_type": "code",
   "execution_count": 133,
   "metadata": {},
   "outputs": [
    {
     "output_type": "stream",
     "name": "stdout",
     "text": [
      "[['El mal de Corcira', 9], ['Un mundo feliz', 2], ['Lolita', 5], ['Crimen y castigo', 2], ['Python from for to pro', 0], ['El señor de los anillos', 6], ['Cien años de soledad', 5], ['Harry Potter', 9], ['Lectura Fácil', 4], ['Seda', 2], ['La chica de nieve', 6], ['El día que se perdió la cordura', 3], ['Data Science', 0], ['balada de pájaros cantores y serpientes', 10], ['Guía del Autopista Galáctico', 42]]\nNone\n"
     ]
    }
   ],
   "source": [
    "#your code here\n",
    "libro_d = input()\n",
    "cantidad_d = int(input())\n",
    "print(funcion(libro=libro_d, cantidad=cantidad_d))"
   ]
  },
  {
   "cell_type": "markdown",
   "metadata": {},
   "source": [
    "### Bonus Track\n",
    "\n",
    "10. ¿Cuál es el libro con más unidades? ¿Cuál es la media de libros por título?"
   ]
  },
  {
   "cell_type": "code",
   "execution_count": 134,
   "metadata": {},
   "outputs": [
    {
     "output_type": "stream",
     "name": "stdout",
     "text": [
      "('Guía del Autopista Galáctico', 42)\n"
     ]
    }
   ],
   "source": [
    "#your code here\n",
    "\n",
    "libro_mas_cantidad = [\"0\", 0]\n",
    "for i in biblioteca:\n",
    "    if libro_mas_cantidad[1] < i[1] :\n",
    "        libro_mas_cantidad = i\n",
    "print(libro_mas_cantidad)\n",
    "\n",
    "\n"
   ]
  },
  {
   "cell_type": "code",
   "execution_count": 7,
   "metadata": {},
   "outputs": [
    {
     "output_type": "stream",
     "name": "stdout",
     "text": [
      "3.6923\n"
     ]
    }
   ],
   "source": [
    "media_libros = []\n",
    "for i in biblioteca:\n",
    "    media_libros.append(i[1])\n",
    "\n",
    "suma = sum(media_libros)\n",
    "media = suma / len(media_libros)\n",
    "print(round(media,4))"
   ]
  },
  {
   "cell_type": "markdown",
   "metadata": {},
   "source": [
    "11. ¿Cuál tiene el título más largo y cuál el más corto?"
   ]
  },
  {
   "cell_type": "code",
   "execution_count": 144,
   "metadata": {},
   "outputs": [
    {
     "output_type": "stream",
     "name": "stdout",
     "text": [
      "('balada de pájaros cantores y serpientes', 10)\n"
     ]
    }
   ],
   "source": [
    "#your code here\n",
    "libro_mas_largo = [\"0\",0]\n",
    "for i in biblioteca:\n",
    "    if len(libro_mas_largo[0]) < len(i[0]):\n",
    "        libro_mas_largo = i\n",
    "print(libro_mas_largo)"
   ]
  },
  {
   "cell_type": "code",
   "execution_count": 145,
   "metadata": {},
   "outputs": [
    {
     "output_type": "execute_result",
     "data": {
      "text/plain": [
       "('balada de pájaros cantores y serpientes', 10)"
      ]
     },
     "metadata": {},
     "execution_count": 145
    }
   ],
   "source": [
    "libro_mas_largo"
   ]
  },
  {
   "cell_type": "code",
   "execution_count": 148,
   "metadata": {},
   "outputs": [
    {
     "output_type": "stream",
     "name": "stdout",
     "text": [
      "('Seda', 2)\n"
     ]
    }
   ],
   "source": [
    "libro_mas_corto = [\"...........................................................\", 0]\n",
    "for i in biblioteca: \n",
    "    if len(libro_mas_corto[0]) > len(i[0]):\n",
    "        libro_mas_corto = i \n",
    "print(libro_mas_corto)"
   ]
  },
  {
   "cell_type": "code",
   "execution_count": null,
   "metadata": {},
   "outputs": [],
   "source": []
  }
 ],
 "metadata": {
  "kernelspec": {
   "name": "python374jvsc74a57bd0fc2c00f0e2c44cb4028bd693f18a1b5d93d1de4cd12db71fca36ff691a163044",
   "display_name": "Python 3.7.4 64-bit"
  },
  "language_info": {
   "codemirror_mode": {
    "name": "ipython",
    "version": 3
   },
   "file_extension": ".py",
   "mimetype": "text/x-python",
   "name": "python",
   "nbconvert_exporter": "python",
   "pygments_lexer": "ipython3",
   "version": "3.7.4"
  },
  "metadata": {
   "interpreter": {
    "hash": "fc2c00f0e2c44cb4028bd693f18a1b5d93d1de4cd12db71fca36ff691a163044"
   }
  }
 },
 "nbformat": 4,
 "nbformat_minor": 4
}