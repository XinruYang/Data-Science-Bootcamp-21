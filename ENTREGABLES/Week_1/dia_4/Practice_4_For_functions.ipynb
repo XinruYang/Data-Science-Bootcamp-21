{
 "cells": [
  {
   "cell_type": "markdown",
   "metadata": {},
   "source": [
    "# Python | day 4 | for loop, functions (feat. basics & if/else) "
   ]
  },
  {
   "cell_type": "markdown",
   "metadata": {},
   "source": [
    "### Exercise 0.1 - Python Basics\n",
    "\n",
    "1. What do we use to make a line break in a print? And for a tab stop?\n",
    "\n",
    "have a look ---> http://elclubdelautodidacta.es/wp/2012/04/python-capitulo-31-exprimiendo-la-funcion-print/"
   ]
  },
  {
   "cell_type": "code",
   "execution_count": 148,
   "metadata": {},
   "outputs": [
    {
     "output_type": "stream",
     "name": "stdout",
     "text": [
      "hola \nhola \n\nhola\thola\n"
     ]
    }
   ],
   "source": [
    "print(\"hola\", \"\\nhola\", \"\\n\")\n",
    "print(\"hola\", \"hola\", sep=\"\\t\")"
   ]
  },
  {
   "cell_type": "markdown",
   "metadata": {},
   "source": [
    "2. Make a converter from dollars to euros. You'll have to use input."
   ]
  },
  {
   "cell_type": "code",
   "execution_count": 150,
   "metadata": {},
   "outputs": [
    {
     "output_type": "stream",
     "name": "stdout",
     "text": [
      "2.52\n"
     ]
    }
   ],
   "source": [
    "# 1 $ = 0.84 €\n",
    "dollars = input(\"amount of dollars\")\n",
    "x = int(dollars) * 0.84\n",
    "print(x)"
   ]
  },
  {
   "cell_type": "markdown",
   "metadata": {},
   "source": [
    "3. Declare two strings, one will be your first name and the other your last name. Declare your age in another variable. Print a sentence which include those variables, using ```f{}```. Wtf is that? check this out **-->** https://realpython.com/python-string-formatting/"
   ]
  },
  {
   "cell_type": "code",
   "execution_count": 1,
   "metadata": {},
   "outputs": [
    {
     "output_type": "execute_result",
     "data": {
      "text/plain": [
       "'Hello, I`m Xinru Yang and I`m 24 years old'"
      ]
     },
     "metadata": {},
     "execution_count": 1
    }
   ],
   "source": [
    "first_name = \"Xinru\" \n",
    "last_name = \"Yang\"\n",
    "age = 24\n",
    "f'Hello, I`m {first_name} {last_name} and I`m {age} years old'"
   ]
  },
  {
   "cell_type": "markdown",
   "metadata": {},
   "source": [
    "4. Given the list `[4,7, -3]`, calculate its maximum, minimum and sum."
   ]
  },
  {
   "cell_type": "code",
   "execution_count": null,
   "metadata": {},
   "outputs": [],
   "source": [
    "lista = [4, 7, -3]\n",
    "print(max(lista))\n",
    "print(min(lista))\n",
    "print(sum(lista))"
   ]
  },
  {
   "cell_type": "markdown",
   "metadata": {},
   "source": [
    "5. Save the number `38.38276252728` to a variable called `number_dec` and round it to 5 decimal places.\n"
   ]
  },
  {
   "cell_type": "code",
   "execution_count": null,
   "metadata": {},
   "outputs": [],
   "source": [
    "number_dec = 38.38276252728\n",
    "print(round(number_dec, 5))"
   ]
  },
  {
   "cell_type": "markdown",
   "metadata": {},
   "source": [
    "6. Declare a variable `phrase` with the value `\"Born to be wild\"` and make it uppercase, then lowercase, divide it by spaces, and finally, replace `\"wild\"` with `\"Geek.\"`"
   ]
  },
  {
   "cell_type": "code",
   "execution_count": 1,
   "metadata": {},
   "outputs": [
    {
     "output_type": "stream",
     "name": "stdout",
     "text": [
      "BORN TO BE WILD\n------------------------------------\nborn to be wild\n------------------------------------\n['Born', 'to', 'be', 'wild']\n------------------------------------\nBorn to be Geek\n"
     ]
    }
   ],
   "source": [
    "phrase = \"Born to be wild\"\n",
    "print(phrase.upper())\n",
    "print(\"------------------------------------\")\n",
    "\n",
    "print(phrase.lower())\n",
    "print(\"------------------------------------\")\n",
    "\n",
    "lista = phrase.split()\n",
    "print(lista)\n",
    "\n",
    "print(\"------------------------------------\")\n",
    "lista[-1] = \"Geek\"\n",
    "nueva_phrase = \" \".join(lista)\n",
    "print(nueva_phrase)"
   ]
  },
  {
   "cell_type": "markdown",
   "metadata": {},
   "source": [
    "7. Create a program where two inputs are collected, and the output of the program is a boolean which tell the user whether those inputs are the same or not.\n"
   ]
  },
  {
   "cell_type": "code",
   "execution_count": 2,
   "metadata": {},
   "outputs": [
    {
     "output_type": "execute_result",
     "data": {
      "text/plain": [
       "True"
      ]
     },
     "metadata": {},
     "execution_count": 2
    }
   ],
   "source": [
    "x = input(\"primer elemento\")\n",
    "y = input(\"segundo elemento\")\n",
    "x == y"
   ]
  },
  {
   "cell_type": "markdown",
   "metadata": {},
   "source": [
    "### Exercise 0.2 - If/else\n",
    "\n",
    "1. Create a decission tree using if/else sentences, to determine the price of the movies ticket. If the client's age is between 5 and 15 years, both included, the price will be 5, if she/he is retired and the movie is one of the `peliculas_discount`, the price is 4. In any other case, it will be 7 euros.\n",
    "\n",
    "You should create the list of `peliculas_discount` with your favourites movies. "
   ]
  },
  {
   "cell_type": "code",
   "execution_count": null,
   "metadata": {},
   "outputs": [],
   "source": [
    "# age = 18\n",
    "# pelicula = origen\n",
    "\n",
    "age = int(input(\"your age or retired\"))\n",
    "retired = input(\"Yes or No\")\n",
    "película = input(\"Movie\")\n",
    "peliculas_discount = [\"Origen\", \"Shutter island\", \"Atrápame si puedes\"]\n",
    "price = 0\n",
    "\n",
    "if age >= 5 and age <= 15: \n",
    "    price += 5 \n",
    "    print(price)\n",
    "elif retired == \"Yes\" and (película in peliculas_discount):\n",
    "    price += 4\n",
    "    print(price)\n",
    "else: \n",
    "    price += 7\n",
    "    print(price)"
   ]
  },
  {
   "cell_type": "markdown",
   "metadata": {},
   "source": [
    "### Exercise 1 - For"
   ]
  },
  {
   "cell_type": "markdown",
   "metadata": {},
   "source": [
    "1. You are witnessing an epic battle between two powerful sorcerers: Gandalf and Saruman. Each sorcerer has 10 spells of variable power in their mind and they are going to throw them one after the other. The winner of the duel will be the one who wins more of those clashes between spells. Spells are represented as a list of 10 integers whose value equals the power of the spell.\n",
    "\n",
    "```python\n",
    "gandalf = [10, 11, 13, 30, 22, 11, 10, 33, 22, 22]\n",
    "saruman = [23, 66, 12, 43, 12, 10, 44, 23, 12, 17]\n",
    "```\n",
    "\n",
    "For example:\n",
    "\n",
    "The first clash is won by Saruman: 10 against 23, wins 23\n",
    "The second clash wins Saruman: 11 against 66, wins 66\n",
    "etc.\n",
    "You will create two variables, one for each sorcerer, where the sum of clashes won will be stored. Depending on which variable is greater at the end of the duel, you will show one of the following three results on the screen:\n",
    "```\n",
    "Gandalf wins\n",
    "Saruman wins\n",
    "Tie\n",
    "```"
   ]
  },
  {
   "cell_type": "code",
   "execution_count": 19,
   "metadata": {},
   "outputs": [
    {
     "output_type": "stream",
     "name": "stdout",
     "text": [
      "Es mayor: False , Power: 23\nEs mayor: False , Power: 66\nEs mayor: True , Power: 13\nEs mayor: False , Power: 43\nEs mayor: True , Power: 22\nEs mayor: True , Power: 11\nEs mayor: False , Power: 44\nEs mayor: True , Power: 33\nEs mayor: True , Power: 22\nEs mayor: True , Power: 22\n------------------------------------------------------\nSuma gandalf: 123\n------------------------------------------------------\nSuma Saruman: 176\n-------------------------------------------------------\nSaruman wins\n"
     ]
    }
   ],
   "source": [
    "gandalf = [10, 11, 13, 30, 22, 11, 10, 33, 22, 22]\n",
    "saruman = [23, 66, 12, 43, 12, 10, 44, 23, 12, 17] \n",
    "\n",
    "sum_gandalf = []\n",
    "\n",
    "sum_saruman = []\n",
    "\n",
    "for i,power in enumerate(gandalf):\n",
    "    if power > saruman[i]:\n",
    "        print(\"Es mayor:\", power > saruman[i], end = \" , \")\n",
    "        sum_gandalf.append(power)\n",
    "        suma_gandalf = sum(sum_gandalf)\n",
    "        print(\"Power:\", power)\n",
    "\n",
    "    \n",
    "    elif power < saruman[i]:\n",
    "        print(\"Es mayor:\", power > saruman[i], end = \" , \")\n",
    "        sum_saruman.append(saruman[i])\n",
    "        suma_saruman = sum(sum_saruman)\n",
    "        print(\"Power:\", saruman[i])\n",
    "\n",
    "print(\"------------------------------------------------------\")\n",
    "print(\"Suma gandalf:\", suma_gandalf)\n",
    "print(\"------------------------------------------------------\")\n",
    "print(\"Suma Saruman:\", suma_saruman)\n",
    "\n",
    "print(\"-------------------------------------------------------\")\n",
    "if suma_gandalf > suma_saruman: \n",
    "    print(\"Gandalf wins\")\n",
    "elif suma_gandalf < suma_saruman:\n",
    "    print(\"Saruman wins\")\n",
    "else: \n",
    "    print(\"Tie\")"
   ]
  },
  {
   "cell_type": "code",
   "execution_count": 4,
   "metadata": {},
   "outputs": [
    {
     "output_type": "stream",
     "name": "stdout",
     "text": [
      "Es mayor: False , Power: 23\nEs mayor: False , Power: 66\nEs mayor: True , Power: 13\nEs mayor: False , Power: 43\nEs mayor: True , Power: 22\nEs mayor: True , Power: 11\nEs mayor: False , Power: 44\nEs mayor: True , Power: 33\nEs mayor: True , Power: 22\nEs mayor: True , Power: 22\n------------------------------------------------------\nSuma gandalf: [13, 22, 11, 33, 22, 22]\n------------------------------------------------------\nSuma Saruman: [23, 66, 43, 44]\n-------------------------------------------------------\nSaruman wins Gandalf: 123 Saruman: 176\n"
     ]
    }
   ],
   "source": [
    "gandalf = [10, 11, 13, 30, 22, 11, 10, 33, 22, 22]\n",
    "saruman = [23, 66, 12, 43, 12, 10, 44, 23, 12, 17] \n",
    "\n",
    "sum_gandalf = []\n",
    "\n",
    "sum_saruman = []\n",
    "\n",
    "for i,power in enumerate(gandalf):\n",
    "    if power > saruman[i]:\n",
    "        print(\"Es mayor:\", power > saruman[i], end = \" , \")\n",
    "        sum_gandalf.append(power)\n",
    "        print(\"Power:\", power)\n",
    "\n",
    "    \n",
    "    elif power < saruman[i]:\n",
    "        print(\"Es mayor:\", power > saruman[i], end = \" , \")\n",
    "        sum_saruman.append(saruman[i])\n",
    "        print(\"Power:\", saruman[i])\n",
    "\n",
    "print(\"------------------------------------------------------\")\n",
    "print(\"Suma gandalf:\", sum_gandalf)\n",
    "print(\"------------------------------------------------------\")\n",
    "print(\"Suma Saruman:\", sum_saruman)\n",
    "\n",
    "print(\"-------------------------------------------------------\")\n",
    "if sum(sum_gandalf) > sum(sum_saruman): \n",
    "    print(\"Gandalf wins\", \"Gandalf:\", sum(sum_gandalf), \"Saruman:\", sum(sum_saruman))\n",
    "elif sum(sum_gandalf) < sum(sum_saruman):\n",
    "    print(\"Saruman wins\", \"Gandalf:\", sum(sum_gandalf), \"Saruman:\", sum(sum_saruman))\n",
    "else: \n",
    "    print(\"Tie\")"
   ]
  },
  {
   "cell_type": "markdown",
   "metadata": {},
   "source": [
    "### Exercise 2 - Functions"
   ]
  },
  {
   "cell_type": "markdown",
   "metadata": {},
   "source": [
    "1. Write a function program to sum up two given different numbers. "
   ]
  },
  {
   "cell_type": "code",
   "execution_count": null,
   "metadata": {},
   "outputs": [],
   "source": [
    "def suma():   \n",
    "    x = 1\n",
    "    y = 2\n",
    "    print(x + y)\n"
   ]
  },
  {
   "cell_type": "code",
   "execution_count": null,
   "metadata": {},
   "outputs": [],
   "source": [
    "suma()"
   ]
  },
  {
   "cell_type": "markdown",
   "metadata": {},
   "source": [
    "Call the function you've just defined to sum up: \n",
    "    - 5 and 6\n",
    "    - -3 and 10\n",
    "    - 99 and 789"
   ]
  },
  {
   "cell_type": "code",
   "execution_count": null,
   "metadata": {},
   "outputs": [],
   "source": [
    "def suma_parametros(parametro1, parametro2):\n",
    "    print(parametro1 + parametro2)"
   ]
  },
  {
   "cell_type": "code",
   "execution_count": null,
   "metadata": {},
   "outputs": [],
   "source": [
    "suma_parametros(parametro1=-5, parametro2=6)"
   ]
  },
  {
   "cell_type": "code",
   "execution_count": null,
   "metadata": {},
   "outputs": [],
   "source": [
    "suma_parametros(parametro1=-3, parametro2=10)"
   ]
  },
  {
   "cell_type": "code",
   "execution_count": null,
   "metadata": {},
   "outputs": [],
   "source": [
    "suma_parametros(parametro1=-99, parametro2=789)"
   ]
  },
  {
   "cell_type": "markdown",
   "metadata": {},
   "source": [
    "### Bonus Track"
   ]
  },
  {
   "cell_type": "markdown",
   "metadata": {},
   "source": [
    "2. Write a Python program to convert a tuple of characters into a string.\n",
    "\n",
    "    - Sample tuple: `(\"T\", \"H\", \"E\", \" \", \"B\", \"R\", \"I\", \"D\", \"G\", \"E\")`\n",
    "    - Expected output : `\"THE BRIDGE\"`\n",
    "    \n",
    "Hint: Turn it into a list. "
   ]
  },
  {
   "cell_type": "code",
   "execution_count": 147,
   "metadata": {},
   "outputs": [
    {
     "output_type": "stream",
     "name": "stdout",
     "text": [
      "THE BRIDGE\n"
     ]
    }
   ],
   "source": [
    "tupla = (\"T\", \"H\", \"E\", \" \", \"B\", \"R\", \"I\", \"D\", \"G\", \"E\")\n",
    "lista = list(tupla)\n",
    "output = \"\".join(lista)\n",
    "print(output)"
   ]
  },
  {
   "cell_type": "markdown",
   "metadata": {},
   "source": [
    "3. Write a Python program to generate a list where the values are square of numbers between 1 and 30 (both included), and return a list of first and last 5 elements of the list."
   ]
  },
  {
   "cell_type": "code",
   "execution_count": 146,
   "metadata": {},
   "outputs": [
    {
     "output_type": "stream",
     "name": "stdout",
     "text": [
      "[1, 4, 9, 16]\n[676, 729, 784, 841, 900]\n"
     ]
    }
   ],
   "source": [
    "valores_cuadrado = []\n",
    "for i in range(0,31):\n",
    "    valores_cuadrado.append(i ** 2)\n",
    "\n",
    "print(valores_cuadrado[1:5])\n",
    "print(valores_cuadrado[-5:])\n"
   ]
  },
  {
   "cell_type": "markdown",
   "metadata": {},
   "source": [
    "4. Create a program that calculates the average.\n",
    "\n",
    "The program will ask the user to specify how many numbers you want to enter, and will show a prompt to include number by number to a list, and then calculate the average of each number in that list."
   ]
  },
  {
   "cell_type": "code",
   "execution_count": 145,
   "metadata": {},
   "outputs": [
    {
     "output_type": "stream",
     "name": "stdout",
     "text": [
      "Lista: [3, 4, 5, 3]\nPromedio: 3.75\n"
     ]
    }
   ],
   "source": [
    "how_many_numbers = int(input(\"specify how many numbers you want to enter\"))\n",
    "lista_numbers = []\n",
    "\n",
    "for i in range(how_many_numbers):\n",
    "    numbers = int(input(\"Your number\"))\n",
    "    lista_numbers.append(numbers)\n",
    "\n",
    "print(\"Lista:\", lista_numbers)\n",
    "promedio_numeros = sum(lista_numbers) / how_many_numbers\n",
    "print(\"Promedio:\", promedio_numeros)"
   ]
  },
  {
   "cell_type": "markdown",
   "metadata": {},
   "source": [
    "# If you made it till here you did a fantastic work!"
   ]
  },
  {
   "cell_type": "markdown",
   "metadata": {},
   "source": [
    "![\"holo\"](https://img-9gag-fun.9cache.com/photo/aNg9wMK_460s.jpg)"
   ]
  },
  {
   "cell_type": "code",
   "execution_count": null,
   "metadata": {},
   "outputs": [],
   "source": []
  }
 ],
 "metadata": {
  "kernelspec": {
   "name": "python374jvsc74a57bd0fc2c00f0e2c44cb4028bd693f18a1b5d93d1de4cd12db71fca36ff691a163044",
   "display_name": "Python 3.7.4 64-bit"
  },
  "language_info": {
   "codemirror_mode": {
    "name": "ipython",
    "version": 3
   },
   "file_extension": ".py",
   "mimetype": "text/x-python",
   "name": "python",
   "nbconvert_exporter": "python",
   "pygments_lexer": "ipython3",
   "version": "3.7.4"
  },
  "metadata": {
   "interpreter": {
    "hash": "fc2c00f0e2c44cb4028bd693f18a1b5d93d1de4cd12db71fca36ff691a163044"
   }
  }
 },
 "nbformat": 4,
 "nbformat_minor": 4
}