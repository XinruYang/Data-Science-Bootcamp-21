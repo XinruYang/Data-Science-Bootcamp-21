{
 "metadata": {
  "language_info": {
   "codemirror_mode": {
    "name": "ipython",
    "version": 3
   },
   "file_extension": ".py",
   "mimetype": "text/x-python",
   "name": "python",
   "nbconvert_exporter": "python",
   "pygments_lexer": "ipython3",
   "version": "3.7.4"
  },
  "orig_nbformat": 2,
  "kernelspec": {
   "name": "python374jvsc74a57bd0fc2c00f0e2c44cb4028bd693f18a1b5d93d1de4cd12db71fca36ff691a163044",
   "display_name": "Python 3.7.4 64-bit"
  },
  "metadata": {
   "interpreter": {
    "hash": "fc2c00f0e2c44cb4028bd693f18a1b5d93d1de4cd12db71fca36ff691a163044"
   }
  }
 },
 "nbformat": 4,
 "nbformat_minor": 2,
 "cells": [
  {
   "cell_type": "code",
   "execution_count": 3,
   "metadata": {},
   "outputs": [],
   "source": [
    "import pandas as pd"
   ]
  },
  {
   "cell_type": "code",
   "execution_count": 4,
   "metadata": {},
   "outputs": [],
   "source": [
    "data = pd.read_csv(\"nutition.csv\")"
   ]
  },
  {
   "cell_type": "code",
   "execution_count": 5,
   "metadata": {},
   "outputs": [
    {
     "output_type": "execute_result",
     "data": {
      "text/plain": [
       "       YearStart  YearEnd LocationAbbr    LocationDesc  \\\n",
       "0           2011     2011           AL         Alabama   \n",
       "1           2011     2011           AL         Alabama   \n",
       "2           2011     2011           AL         Alabama   \n",
       "3           2011     2011           AL         Alabama   \n",
       "4           2011     2011           AL         Alabama   \n",
       "...          ...      ...          ...             ...   \n",
       "53387       2016     2016           VI  Virgin Islands   \n",
       "53388       2016     2016           VI  Virgin Islands   \n",
       "53389       2016     2016           VI  Virgin Islands   \n",
       "53390       2016     2016           VI  Virgin Islands   \n",
       "53391       2016     2016           VI  Virgin Islands   \n",
       "\n",
       "                                       Datasource                    Class  \\\n",
       "0      Behavioral Risk Factor Surveillance System  Obesity / Weight Status   \n",
       "1      Behavioral Risk Factor Surveillance System  Obesity / Weight Status   \n",
       "2      Behavioral Risk Factor Surveillance System  Obesity / Weight Status   \n",
       "3      Behavioral Risk Factor Surveillance System  Obesity / Weight Status   \n",
       "4      Behavioral Risk Factor Surveillance System  Obesity / Weight Status   \n",
       "...                                           ...                      ...   \n",
       "53387  Behavioral Risk Factor Surveillance System        Physical Activity   \n",
       "53388  Behavioral Risk Factor Surveillance System        Physical Activity   \n",
       "53389  Behavioral Risk Factor Surveillance System        Physical Activity   \n",
       "53390  Behavioral Risk Factor Surveillance System        Physical Activity   \n",
       "53391  Behavioral Risk Factor Surveillance System        Physical Activity   \n",
       "\n",
       "                              Topic  \\\n",
       "0           Obesity / Weight Status   \n",
       "1           Obesity / Weight Status   \n",
       "2           Obesity / Weight Status   \n",
       "3           Obesity / Weight Status   \n",
       "4           Obesity / Weight Status   \n",
       "...                             ...   \n",
       "53387  Physical Activity - Behavior   \n",
       "53388  Physical Activity - Behavior   \n",
       "53389  Physical Activity - Behavior   \n",
       "53390  Physical Activity - Behavior   \n",
       "53391  Physical Activity - Behavior   \n",
       "\n",
       "                                                Question  Data_Value_Unit  \\\n",
       "0      Percent of adults aged 18 years and older who ...              NaN   \n",
       "1      Percent of adults aged 18 years and older who ...              NaN   \n",
       "2      Percent of adults aged 18 years and older who ...              NaN   \n",
       "3      Percent of adults aged 18 years and older who ...              NaN   \n",
       "4      Percent of adults aged 18 years and older who ...              NaN   \n",
       "...                                                  ...              ...   \n",
       "53387  Percent of adults who engage in no leisure-tim...              NaN   \n",
       "53388  Percent of adults who engage in no leisure-tim...              NaN   \n",
       "53389  Percent of adults who engage in no leisure-tim...              NaN   \n",
       "53390  Percent of adults who engage in no leisure-tim...              NaN   \n",
       "53391  Percent of adults who engage in no leisure-tim...              NaN   \n",
       "\n",
       "      Data_Value_Type  \n",
       "0               Value  \n",
       "1               Value  \n",
       "2               Value  \n",
       "3               Value  \n",
       "4               Value  \n",
       "...               ...  \n",
       "53387           Value  \n",
       "53388           Value  \n",
       "53389           Value  \n",
       "53390           Value  \n",
       "53391           Value  \n",
       "\n",
       "[53392 rows x 10 columns]"
      ],
      "text/html": "<div>\n<style scoped>\n    .dataframe tbody tr th:only-of-type {\n        vertical-align: middle;\n    }\n\n    .dataframe tbody tr th {\n        vertical-align: top;\n    }\n\n    .dataframe thead th {\n        text-align: right;\n    }\n</style>\n<table border=\"1\" class=\"dataframe\">\n  <thead>\n    <tr style=\"text-align: right;\">\n      <th></th>\n      <th>YearStart</th>\n      <th>YearEnd</th>\n      <th>LocationAbbr</th>\n      <th>LocationDesc</th>\n      <th>Datasource</th>\n      <th>Class</th>\n      <th>Topic</th>\n      <th>Question</th>\n      <th>Data_Value_Unit</th>\n      <th>Data_Value_Type</th>\n    </tr>\n  </thead>\n  <tbody>\n    <tr>\n      <th>0</th>\n      <td>2011</td>\n      <td>2011</td>\n      <td>AL</td>\n      <td>Alabama</td>\n      <td>Behavioral Risk Factor Surveillance System</td>\n      <td>Obesity / Weight Status</td>\n      <td>Obesity / Weight Status</td>\n      <td>Percent of adults aged 18 years and older who ...</td>\n      <td>NaN</td>\n      <td>Value</td>\n    </tr>\n    <tr>\n      <th>1</th>\n      <td>2011</td>\n      <td>2011</td>\n      <td>AL</td>\n      <td>Alabama</td>\n      <td>Behavioral Risk Factor Surveillance System</td>\n      <td>Obesity / Weight Status</td>\n      <td>Obesity / Weight Status</td>\n      <td>Percent of adults aged 18 years and older who ...</td>\n      <td>NaN</td>\n      <td>Value</td>\n    </tr>\n    <tr>\n      <th>2</th>\n      <td>2011</td>\n      <td>2011</td>\n      <td>AL</td>\n      <td>Alabama</td>\n      <td>Behavioral Risk Factor Surveillance System</td>\n      <td>Obesity / Weight Status</td>\n      <td>Obesity / Weight Status</td>\n      <td>Percent of adults aged 18 years and older who ...</td>\n      <td>NaN</td>\n      <td>Value</td>\n    </tr>\n    <tr>\n      <th>3</th>\n      <td>2011</td>\n      <td>2011</td>\n      <td>AL</td>\n      <td>Alabama</td>\n      <td>Behavioral Risk Factor Surveillance System</td>\n      <td>Obesity / Weight Status</td>\n      <td>Obesity / Weight Status</td>\n      <td>Percent of adults aged 18 years and older who ...</td>\n      <td>NaN</td>\n      <td>Value</td>\n    </tr>\n    <tr>\n      <th>4</th>\n      <td>2011</td>\n      <td>2011</td>\n      <td>AL</td>\n      <td>Alabama</td>\n      <td>Behavioral Risk Factor Surveillance System</td>\n      <td>Obesity / Weight Status</td>\n      <td>Obesity / Weight Status</td>\n      <td>Percent of adults aged 18 years and older who ...</td>\n      <td>NaN</td>\n      <td>Value</td>\n    </tr>\n    <tr>\n      <th>...</th>\n      <td>...</td>\n      <td>...</td>\n      <td>...</td>\n      <td>...</td>\n      <td>...</td>\n      <td>...</td>\n      <td>...</td>\n      <td>...</td>\n      <td>...</td>\n      <td>...</td>\n    </tr>\n    <tr>\n      <th>53387</th>\n      <td>2016</td>\n      <td>2016</td>\n      <td>VI</td>\n      <td>Virgin Islands</td>\n      <td>Behavioral Risk Factor Surveillance System</td>\n      <td>Physical Activity</td>\n      <td>Physical Activity - Behavior</td>\n      <td>Percent of adults who engage in no leisure-tim...</td>\n      <td>NaN</td>\n      <td>Value</td>\n    </tr>\n    <tr>\n      <th>53388</th>\n      <td>2016</td>\n      <td>2016</td>\n      <td>VI</td>\n      <td>Virgin Islands</td>\n      <td>Behavioral Risk Factor Surveillance System</td>\n      <td>Physical Activity</td>\n      <td>Physical Activity - Behavior</td>\n      <td>Percent of adults who engage in no leisure-tim...</td>\n      <td>NaN</td>\n      <td>Value</td>\n    </tr>\n    <tr>\n      <th>53389</th>\n      <td>2016</td>\n      <td>2016</td>\n      <td>VI</td>\n      <td>Virgin Islands</td>\n      <td>Behavioral Risk Factor Surveillance System</td>\n      <td>Physical Activity</td>\n      <td>Physical Activity - Behavior</td>\n      <td>Percent of adults who engage in no leisure-tim...</td>\n      <td>NaN</td>\n      <td>Value</td>\n    </tr>\n    <tr>\n      <th>53390</th>\n      <td>2016</td>\n      <td>2016</td>\n      <td>VI</td>\n      <td>Virgin Islands</td>\n      <td>Behavioral Risk Factor Surveillance System</td>\n      <td>Physical Activity</td>\n      <td>Physical Activity - Behavior</td>\n      <td>Percent of adults who engage in no leisure-tim...</td>\n      <td>NaN</td>\n      <td>Value</td>\n    </tr>\n    <tr>\n      <th>53391</th>\n      <td>2016</td>\n      <td>2016</td>\n      <td>VI</td>\n      <td>Virgin Islands</td>\n      <td>Behavioral Risk Factor Surveillance System</td>\n      <td>Physical Activity</td>\n      <td>Physical Activity - Behavior</td>\n      <td>Percent of adults who engage in no leisure-tim...</td>\n      <td>NaN</td>\n      <td>Value</td>\n    </tr>\n  </tbody>\n</table>\n<p>53392 rows × 10 columns</p>\n</div>"
     },
     "metadata": {},
     "execution_count": 5
    }
   ],
   "source": [
    "data.iloc[:,:10]"
   ]
  },
  {
   "cell_type": "code",
   "execution_count": 6,
   "metadata": {},
   "outputs": [
    {
     "output_type": "execute_result",
     "data": {
      "text/plain": [
       "       Data_Value  Data_Value_Alt Data_Value_Footnote_Symbol  \\\n",
       "0            32.0            32.0                        NaN   \n",
       "1            32.3            32.3                        NaN   \n",
       "2            31.8            31.8                        NaN   \n",
       "3            33.6            33.6                        NaN   \n",
       "4            32.8            32.8                        NaN   \n",
       "...           ...             ...                        ...   \n",
       "53387         NaN             NaN                          ~   \n",
       "53388         NaN             NaN                          ~   \n",
       "53389         NaN             NaN                          ~   \n",
       "53390         NaN             NaN                          ~   \n",
       "53391         NaN             NaN                          ~   \n",
       "\n",
       "                                     Data_Value_Footnote  \\\n",
       "0                                                    NaN   \n",
       "1                                                    NaN   \n",
       "2                                                    NaN   \n",
       "3                                                    NaN   \n",
       "4                                                    NaN   \n",
       "...                                                  ...   \n",
       "53387  Data not available because sample size is insu...   \n",
       "53388  Data not available because sample size is insu...   \n",
       "53389  Data not available because sample size is insu...   \n",
       "53390  Data not available because sample size is insu...   \n",
       "53391  Data not available because sample size is insu...   \n",
       "\n",
       "       Low_Confidence_Limit  High_Confidence_Limit   Sample_Size  Total  \\\n",
       "0                      30.5                    33.5       7304.0  Total   \n",
       "1                      29.9                    34.7       2581.0    NaN   \n",
       "2                      30.0                    33.6       4723.0    NaN   \n",
       "3                      29.9                    37.6       1153.0    NaN   \n",
       "4                      30.2                    35.6       2402.0    NaN   \n",
       "...                     ...                     ...          ...    ...   \n",
       "53387                   NaN                     NaN          NaN    NaN   \n",
       "53388                   NaN                     NaN          NaN    NaN   \n",
       "53389                   NaN                     NaN          NaN    NaN   \n",
       "53390                   NaN                     NaN          NaN    NaN   \n",
       "53391                   NaN                     NaN          NaN    NaN   \n",
       "\n",
       "      Age(years)              Education  \n",
       "0            NaN                    NaN  \n",
       "1            NaN                    NaN  \n",
       "2            NaN                    NaN  \n",
       "3            NaN  Less than high school  \n",
       "4            NaN   High school graduate  \n",
       "...          ...                    ...  \n",
       "53387        NaN                    NaN  \n",
       "53388        NaN                    NaN  \n",
       "53389        NaN                    NaN  \n",
       "53390        NaN                    NaN  \n",
       "53391        NaN                    NaN  \n",
       "\n",
       "[53392 rows x 10 columns]"
      ],
      "text/html": "<div>\n<style scoped>\n    .dataframe tbody tr th:only-of-type {\n        vertical-align: middle;\n    }\n\n    .dataframe tbody tr th {\n        vertical-align: top;\n    }\n\n    .dataframe thead th {\n        text-align: right;\n    }\n</style>\n<table border=\"1\" class=\"dataframe\">\n  <thead>\n    <tr style=\"text-align: right;\">\n      <th></th>\n      <th>Data_Value</th>\n      <th>Data_Value_Alt</th>\n      <th>Data_Value_Footnote_Symbol</th>\n      <th>Data_Value_Footnote</th>\n      <th>Low_Confidence_Limit</th>\n      <th>High_Confidence_Limit</th>\n      <th>Sample_Size</th>\n      <th>Total</th>\n      <th>Age(years)</th>\n      <th>Education</th>\n    </tr>\n  </thead>\n  <tbody>\n    <tr>\n      <th>0</th>\n      <td>32.0</td>\n      <td>32.0</td>\n      <td>NaN</td>\n      <td>NaN</td>\n      <td>30.5</td>\n      <td>33.5</td>\n      <td>7304.0</td>\n      <td>Total</td>\n      <td>NaN</td>\n      <td>NaN</td>\n    </tr>\n    <tr>\n      <th>1</th>\n      <td>32.3</td>\n      <td>32.3</td>\n      <td>NaN</td>\n      <td>NaN</td>\n      <td>29.9</td>\n      <td>34.7</td>\n      <td>2581.0</td>\n      <td>NaN</td>\n      <td>NaN</td>\n      <td>NaN</td>\n    </tr>\n    <tr>\n      <th>2</th>\n      <td>31.8</td>\n      <td>31.8</td>\n      <td>NaN</td>\n      <td>NaN</td>\n      <td>30.0</td>\n      <td>33.6</td>\n      <td>4723.0</td>\n      <td>NaN</td>\n      <td>NaN</td>\n      <td>NaN</td>\n    </tr>\n    <tr>\n      <th>3</th>\n      <td>33.6</td>\n      <td>33.6</td>\n      <td>NaN</td>\n      <td>NaN</td>\n      <td>29.9</td>\n      <td>37.6</td>\n      <td>1153.0</td>\n      <td>NaN</td>\n      <td>NaN</td>\n      <td>Less than high school</td>\n    </tr>\n    <tr>\n      <th>4</th>\n      <td>32.8</td>\n      <td>32.8</td>\n      <td>NaN</td>\n      <td>NaN</td>\n      <td>30.2</td>\n      <td>35.6</td>\n      <td>2402.0</td>\n      <td>NaN</td>\n      <td>NaN</td>\n      <td>High school graduate</td>\n    </tr>\n    <tr>\n      <th>...</th>\n      <td>...</td>\n      <td>...</td>\n      <td>...</td>\n      <td>...</td>\n      <td>...</td>\n      <td>...</td>\n      <td>...</td>\n      <td>...</td>\n      <td>...</td>\n      <td>...</td>\n    </tr>\n    <tr>\n      <th>53387</th>\n      <td>NaN</td>\n      <td>NaN</td>\n      <td>~</td>\n      <td>Data not available because sample size is insu...</td>\n      <td>NaN</td>\n      <td>NaN</td>\n      <td>NaN</td>\n      <td>NaN</td>\n      <td>NaN</td>\n      <td>NaN</td>\n    </tr>\n    <tr>\n      <th>53388</th>\n      <td>NaN</td>\n      <td>NaN</td>\n      <td>~</td>\n      <td>Data not available because sample size is insu...</td>\n      <td>NaN</td>\n      <td>NaN</td>\n      <td>NaN</td>\n      <td>NaN</td>\n      <td>NaN</td>\n      <td>NaN</td>\n    </tr>\n    <tr>\n      <th>53389</th>\n      <td>NaN</td>\n      <td>NaN</td>\n      <td>~</td>\n      <td>Data not available because sample size is insu...</td>\n      <td>NaN</td>\n      <td>NaN</td>\n      <td>NaN</td>\n      <td>NaN</td>\n      <td>NaN</td>\n      <td>NaN</td>\n    </tr>\n    <tr>\n      <th>53390</th>\n      <td>NaN</td>\n      <td>NaN</td>\n      <td>~</td>\n      <td>Data not available because sample size is insu...</td>\n      <td>NaN</td>\n      <td>NaN</td>\n      <td>NaN</td>\n      <td>NaN</td>\n      <td>NaN</td>\n      <td>NaN</td>\n    </tr>\n    <tr>\n      <th>53391</th>\n      <td>NaN</td>\n      <td>NaN</td>\n      <td>~</td>\n      <td>Data not available because sample size is insu...</td>\n      <td>NaN</td>\n      <td>NaN</td>\n      <td>NaN</td>\n      <td>NaN</td>\n      <td>NaN</td>\n      <td>NaN</td>\n    </tr>\n  </tbody>\n</table>\n<p>53392 rows × 10 columns</p>\n</div>"
     },
     "metadata": {},
     "execution_count": 6
    }
   ],
   "source": [
    "data.iloc[:,10:20]"
   ]
  },
  {
   "cell_type": "code",
   "execution_count": 8,
   "metadata": {},
   "outputs": [
    {
     "output_type": "execute_result",
     "data": {
      "text/plain": [
       "Index(['YearStart', 'YearEnd', 'LocationAbbr', 'LocationDesc', 'Datasource',\n",
       "       'Class', 'Topic', 'Question', 'Data_Value_Unit', 'Data_Value_Type',\n",
       "       'Data_Value', 'Data_Value_Alt', 'Data_Value_Footnote_Symbol',\n",
       "       'Data_Value_Footnote', 'Low_Confidence_Limit', 'High_Confidence_Limit ',\n",
       "       'Sample_Size', 'Total', 'Age(years)', 'Education', 'Gender', 'Income',\n",
       "       'Race/Ethnicity', 'GeoLocation', 'ClassID', 'TopicID', 'QuestionID',\n",
       "       'DataValueTypeID', 'LocationID', 'StratificationCategory1',\n",
       "       'Stratification1', 'StratificationCategoryId1', 'StratificationID1'],\n",
       "      dtype='object')"
      ]
     },
     "metadata": {},
     "execution_count": 8
    }
   ],
   "source": [
    "data.columns"
   ]
  },
  {
   "cell_type": "code",
   "execution_count": null,
   "metadata": {},
   "outputs": [],
   "source": []
  }
 ]
}