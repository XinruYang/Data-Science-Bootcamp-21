{
 "cells": [
  {
   "cell_type": "markdown",
   "metadata": {},
   "source": [
    "## 🐍 Ramp-up\n",
    "\n",
    "Note: The bold words are instructions for you to know how to solve the exercises below that word. For example, if it says **for loop** you should use at least a for loop in order to solve the exercise. "
   ]
  },
  {
   "cell_type": "markdown",
   "metadata": {},
   "source": [
    "#### Collections\n",
    "1. Create a tuple as follows (10,2,27,8)\n",
    "2. Get the lenght of the tuple\n",
    "3. Which type is it? And which type are the elements the tuple contains?\n",
    "4. Create a new tuple with any other 4 strings and concatenate all of them with the tuple you created before by position, creating a list called `words`.\n",
    "5. Make a list with the same elements in question 1. Find the element 27 and make it 37.\n",
    "6. Remove the number 8 from the list.\n",
    "7. Turn the list you made before into a set.\n",
    "8. Check if the element \"3\" is in that set.\n",
    "9. Sort the list you made in exercise 4 in descending order.\n",
    "10. Turn the list `words` into a dictionary. Split every string taking the number in the tuple (10,2,27,8) as the values and the rest as the keys.\n",
    "11. Sum up the values of the new dictionary.\n",
    "12. Sort the values of the dictionary in descending order and the keys in ascending order, then make a list of tuples with every couple of keys and values by position."
   ]
  },
  {
   "cell_type": "code",
   "execution_count": 2,
   "metadata": {},
   "outputs": [],
   "source": [
    "tupla = (10, 2, 27, 8)"
   ]
  },
  {
   "cell_type": "code",
   "execution_count": 3,
   "metadata": {},
   "outputs": [
    {
     "output_type": "execute_result",
     "data": {
      "text/plain": [
       "4"
      ]
     },
     "metadata": {},
     "execution_count": 3
    }
   ],
   "source": [
    "len(tupla)"
   ]
  },
  {
   "cell_type": "code",
   "execution_count": 4,
   "metadata": {},
   "outputs": [
    {
     "output_type": "execute_result",
     "data": {
      "text/plain": [
       "tuple"
      ]
     },
     "metadata": {},
     "execution_count": 4
    }
   ],
   "source": [
    "type(tupla)"
   ]
  },
  {
   "cell_type": "code",
   "execution_count": 5,
   "metadata": {},
   "outputs": [
    {
     "output_type": "stream",
     "name": "stdout",
     "text": [
      "<class 'int'>\n<class 'int'>\n<class 'int'>\n<class 'int'>\n"
     ]
    }
   ],
   "source": [
    "for elem in tupla:\n",
    "    print(type(elem))"
   ]
  },
  {
   "cell_type": "code",
   "execution_count": 3,
   "metadata": {},
   "outputs": [],
   "source": [
    "tupla2 = (\"x\", \"y\", \"z\", \"a\")"
   ]
  },
  {
   "cell_type": "code",
   "execution_count": 4,
   "metadata": {},
   "outputs": [
    {
     "output_type": "stream",
     "name": "stdout",
     "text": [
      "['10x', '2y', '27z', '8a']\n"
     ]
    }
   ],
   "source": [
    "words = []\n",
    "\n",
    "for i, x in enumerate(tupla): \n",
    "    concatenado = str(x) + tupla2[i]\n",
    "    words.append(concatenado)\n",
    "\n",
    "print(words)\n"
   ]
  },
  {
   "cell_type": "code",
   "execution_count": 5,
   "metadata": {},
   "outputs": [
    {
     "output_type": "stream",
     "name": "stdout",
     "text": [
      "[10, 2, 37, 8]\n"
     ]
    }
   ],
   "source": [
    "lista = list(tupla)\n",
    "lista[2] = 37\n",
    "print(lista)"
   ]
  },
  {
   "cell_type": "code",
   "execution_count": 6,
   "metadata": {},
   "outputs": [
    {
     "output_type": "stream",
     "name": "stdout",
     "text": [
      "[10, 2, 37]\n"
     ]
    }
   ],
   "source": [
    "lista.remove(8)\n",
    "print(lista)"
   ]
  },
  {
   "cell_type": "code",
   "execution_count": 7,
   "metadata": {},
   "outputs": [
    {
     "output_type": "stream",
     "name": "stdout",
     "text": [
      "{10, 2, 37}\n"
     ]
    }
   ],
   "source": [
    "conjunto = set(lista)\n",
    "print(conjunto)"
   ]
  },
  {
   "cell_type": "code",
   "execution_count": 17,
   "metadata": {},
   "outputs": [
    {
     "output_type": "execute_result",
     "data": {
      "text/plain": [
       "False"
      ]
     },
     "metadata": {},
     "execution_count": 17
    }
   ],
   "source": [
    "3 in conjunto"
   ]
  },
  {
   "cell_type": "code",
   "execution_count": 8,
   "metadata": {},
   "outputs": [
    {
     "output_type": "execute_result",
     "data": {
      "text/plain": [
       "['8a', '2y', '27z', '10x']"
      ]
     },
     "metadata": {},
     "execution_count": 8
    }
   ],
   "source": [
    "words.sort(reverse=True)\n",
    "words"
   ]
  },
  {
   "cell_type": "code",
   "execution_count": 9,
   "metadata": {},
   "outputs": [
    {
     "output_type": "execute_result",
     "data": {
      "text/plain": [
       "['8a', '2y', '27z', '10x']"
      ]
     },
     "metadata": {},
     "execution_count": 9
    }
   ],
   "source": [
    "sorted(words, reverse=True)"
   ]
  },
  {
   "cell_type": "code",
   "execution_count": 39,
   "metadata": {},
   "outputs": [
    {
     "output_type": "execute_result",
     "data": {
      "text/plain": [
       "['8a', '2y', '27z', '10x']"
      ]
     },
     "metadata": {},
     "execution_count": 39
    }
   ],
   "source": [
    "words"
   ]
  },
  {
   "cell_type": "code",
   "execution_count": 10,
   "metadata": {},
   "outputs": [
    {
     "output_type": "stream",
     "name": "stdout",
     "text": [
      "{'a': 8, 'y': 2, 'z': 27, 'x': 10}\n"
     ]
    }
   ],
   "source": [
    "dictionary = {}\n",
    "\n",
    "for v_elem in words:\n",
    "    for pos, elem in enumerate(v_elem):\n",
    "        if not elem.isdigit():\n",
    "            key = v_elem[pos:]\n",
    "            value = int(v_elem[:pos])\n",
    "            dictionary[key] = value\n",
    "\n",
    "print(dictionary)\n",
    "        \n",
    "        \n",
    "        "
   ]
  },
  {
   "cell_type": "code",
   "execution_count": 11,
   "metadata": {},
   "outputs": [
    {
     "output_type": "stream",
     "name": "stdout",
     "text": [
      "a\ny\nz\nx\n"
     ]
    }
   ],
   "source": [
    "for i in dictionary: \n",
    "    print(i)"
   ]
  },
  {
   "cell_type": "code",
   "execution_count": 71,
   "metadata": {},
   "outputs": [
    {
     "output_type": "stream",
     "name": "stdout",
     "text": [
      "[8, 2, 27, 10]\n"
     ]
    },
    {
     "output_type": "execute_result",
     "data": {
      "text/plain": [
       "47"
      ]
     },
     "metadata": {},
     "execution_count": 71
    }
   ],
   "source": [
    "lista_valores = list(dictionary.values())\n",
    "print(lista_valores)\n",
    "sum(list_valores)\n"
   ]
  },
  {
   "cell_type": "code",
   "execution_count": 85,
   "metadata": {},
   "outputs": [
    {
     "output_type": "stream",
     "name": "stdout",
     "text": [
      "[27, 10, 8, 2]\n['a', 'x', 'y', 'z']\n"
     ]
    }
   ],
   "source": [
    "lista_valores.sort(reverse=True)\n",
    "print(lista_valores)\n",
    "lista_claves = list(dictionary.keys())\n",
    "lista_claves.sort()\n",
    "print(lista_claves)"
   ]
  },
  {
   "cell_type": "code",
   "execution_count": 90,
   "metadata": {},
   "outputs": [
    {
     "output_type": "stream",
     "name": "stdout",
     "text": [
      "[('a', 27), ('x', 10), ('y', 8), ('z', 2)]\n"
     ]
    }
   ],
   "source": [
    "diccionario = {}\n",
    "\n",
    "for posicion, elemento in enumerate(lista_claves):\n",
    "\n",
    "    diccionario[elemento] = lista_valores[posicion]\n",
    "\n",
    "lista_tuplas = list(diccionario.items())\n",
    "print(lista_tuplas)\n"
   ]
  },
  {
   "cell_type": "markdown",
   "metadata": {},
   "source": [
    "#### Dictionaries\n",
    "\n",
    "1. Make a dictionary containing three major rivers and the country each river runs through. One key-value pair might be 'nile': 'egypt'.\n",
    "\n",
    "    - Use a loop to print a sentence about each river, such as The Nile runs through Egypt.\n",
    "    - Use a loop to print the name of each river included in the dictionary.\n",
    "    - Use a loop to print the name of each country included in the dictionary."
   ]
  },
  {
   "cell_type": "code",
   "execution_count": 91,
   "metadata": {},
   "outputs": [],
   "source": [
    "dic_rios_pais = {\"nile\": \"egypt\", \"tajo\": \"portugal\", \"sena\": \"francia\"}\n"
   ]
  },
  {
   "cell_type": "code",
   "execution_count": 93,
   "metadata": {},
   "outputs": [
    {
     "output_type": "stream",
     "name": "stdout",
     "text": [
      "The nile runs thourgh egypt\nThe tajo runs thourgh portugal\nThe sena runs thourgh francia\n"
     ]
    }
   ],
   "source": [
    "for k, v in dic_rios_pais.items():\n",
    "    print(\"The \" + k + \" runs thourgh \" + v)"
   ]
  },
  {
   "cell_type": "code",
   "execution_count": 95,
   "metadata": {},
   "outputs": [
    {
     "output_type": "stream",
     "name": "stdout",
     "text": [
      "nile\ntajo\nsena\n"
     ]
    }
   ],
   "source": [
    "for k in dic_rios_pais.keys():\n",
    "    print(k)"
   ]
  },
  {
   "cell_type": "code",
   "execution_count": 96,
   "metadata": {},
   "outputs": [
    {
     "output_type": "stream",
     "name": "stdout",
     "text": [
      "egypt\nportugal\nfrancia\n"
     ]
    }
   ],
   "source": [
    "for v in dic_rios_pais.values():\n",
    "    print(v)"
   ]
  },
  {
   "cell_type": "markdown",
   "metadata": {},
   "source": [
    "2. Use the provided dictionary that shows some coders and their favoites languages.\n",
    "```Python\n",
    "favorite_languages = {\n",
    "    'jen': 'python',\n",
    "    'sarah': 'c',\n",
    "    'edward': 'ruby',\n",
    "    'phil': 'python',\n",
    "    }\n",
    "```\n",
    "\n",
    "    - Make a list of people who should take the favorite languages poll. Include some names that are already in the dictionary and some that are not.\n",
    "    - Loop through the list of people who should take the poll. If they have already taken the poll, print a message thanking them for responding. If they have not yet taken the poll, print a message inviting them to take the poll."
   ]
  },
  {
   "cell_type": "code",
   "execution_count": 98,
   "metadata": {},
   "outputs": [
    {
     "output_type": "stream",
     "name": "stdout",
     "text": [
      "['jen', 'sarah', 'edward', 'phil']\n"
     ]
    }
   ],
   "source": [
    "favorite_languages = {'jen': 'python','sarah': 'c', 'edward': 'ruby','phil': 'python', }\n",
    "l_nombres = [\"sarah\", \"pablo\", \"gabriel\", \"edward\"]\n",
    "nombres_poll = list(favorite_languages.keys())\n",
    "print(nombres_poll)"
   ]
  },
  {
   "cell_type": "code",
   "execution_count": 99,
   "metadata": {},
   "outputs": [
    {
     "output_type": "stream",
     "name": "stdout",
     "text": [
      "thanks\ntake the poll\ntake the poll\nthanks\n"
     ]
    }
   ],
   "source": [
    "for name in l_nombres:\n",
    "    if name in nombres_poll:\n",
    "        print(\"thanks\")\n",
    "    else:\n",
    "        print(\"take the poll\")"
   ]
  },
  {
   "cell_type": "markdown",
   "metadata": {},
   "source": [
    "3. Make a dictionary called cities. Use the names of three cities as keys in your dictionary. Create a dictionary of information about each city and include the country that the city is in, its approximate population, and one fact about that city. The keys for each city’s dictionary should be something like country, population, and fact. Print the name of each city and all of the information you have stored about it.\n",
    "\n",
    "```python\n",
    "cities = {\"city1\":{\"country\": \"bla\"}}\n",
    "```\n",
    "\n",
    "\n"
   ]
  },
  {
   "cell_type": "code",
   "execution_count": 100,
   "metadata": {},
   "outputs": [],
   "source": [
    "cities = {\"Madrid\" : {\"country\": \"spain\", \"poppulation\": 47, \"fact\": \"bocadillo calamares\" }, \"Paris\" : {\"country\": \"france\", \"poppulation\": 67, \"fact\": \"Rio Sena\" }, \"Roma\" : {\"country\": \"italy\", \"poppulation\": 63, \"fact\": \"coliseo\" }}\n"
   ]
  },
  {
   "cell_type": "code",
   "execution_count": 105,
   "metadata": {},
   "outputs": [
    {
     "output_type": "stream",
     "name": "stdout",
     "text": [
      "['Madrid', 'Paris', 'Roma']\n"
     ]
    }
   ],
   "source": [
    "city_keys = list(cities.keys())\n",
    "print(city_keys)"
   ]
  },
  {
   "cell_type": "code",
   "execution_count": 106,
   "metadata": {},
   "outputs": [
    {
     "output_type": "stream",
     "name": "stdout",
     "text": [
      "[{'country': 'spain', 'poppulation': 47, 'fact': 'bocadillo calamares'}, {'country': 'france', 'poppulation': 67, 'fact': 'Rio Sena'}, {'country': 'italy', 'poppulation': 63, 'fact': 'coliseo'}]\n"
     ]
    }
   ],
   "source": [
    "city_values = list(cities.values())\n",
    "print(city_values)"
   ]
  },
  {
   "cell_type": "code",
   "execution_count": 113,
   "metadata": {},
   "outputs": [
    {
     "output_type": "stream",
     "name": "stdout",
     "text": [
      "Madrid {'country': 'spain', 'poppulation': 47, 'fact': 'bocadillo calamares'}\n-----------------------------------------------------------------------------\nParis {'country': 'france', 'poppulation': 67, 'fact': 'Rio Sena'}\n-----------------------------------------------------------------------------\nRoma {'country': 'italy', 'poppulation': 63, 'fact': 'coliseo'}\n-----------------------------------------------------------------------------\n"
     ]
    }
   ],
   "source": [
    "for i in range(len(city_keys)): \n",
    "\n",
    "    print(city_keys[i], city_values[i])\n",
    "\n",
    "    print(\"-----------------------------------------------------------------------------\")"
   ]
  },
  {
   "cell_type": "code",
   "execution_count": 102,
   "metadata": {},
   "outputs": [
    {
     "output_type": "execute_result",
     "data": {
      "text/plain": [
       "[('Madrid',\n",
       "  {'country': 'spain', 'poppulation': 47, 'fact': 'bocadillo calamares'}),\n",
       " ('Paris', {'country': 'france', 'poppulation': 67, 'fact': 'Rio Sena'}),\n",
       " ('Roma', {'country': 'italy', 'poppulation': 63, 'fact': 'coliseo'})]"
      ]
     },
     "metadata": {},
     "execution_count": 102
    }
   ],
   "source": [
    "list(cities.items())"
   ]
  },
  {
   "cell_type": "markdown",
   "metadata": {},
   "source": [
    "**for loop**\n",
    "1. This is a fruit list, ['banana', 'orange', 'mango', 'lemon'] reverse the order using a for loop.\n"
   ]
  },
  {
   "cell_type": "code",
   "execution_count": 117,
   "metadata": {},
   "outputs": [
    {
     "output_type": "stream",
     "name": "stdout",
     "text": [
      "['lemon', 'mango', 'orange', 'banana']\n"
     ]
    }
   ],
   "source": [
    "fruit_list = [\"banana\", \"orange\", \"mango\", \"lemon\"]\n",
    "\n",
    "reversed_fuit = []\n",
    "\n",
    "for i in range(len(fruit_list)):\n",
    "    reversed_fuit.insert(i, fruit_list[-1])\n",
    "    fruit_list.pop()\n",
    "\n",
    "print(reversed_fuit)"
   ]
  },
  {
   "cell_type": "markdown",
   "metadata": {},
   "source": [
    "2. Write a Python program to create the multiplication table (from 1 to 10) of a number.\n",
    "```python\n",
    "Input a number: 5                                                                                             \n",
    "5 x 1 = 5                                                                                                     \n",
    "5 x 2 = 10                                                                                                    \n",
    "5 x 3 = 15                                                                                                    \n",
    "5 x 4 = 20                                                                                                    \n",
    "5 x 5 = 25                                                                                                    \n",
    "5 x 6 = 30                                                                                                    \n",
    "5 x 7 = 35                                                                                                    \n",
    "5 x 8 = 40                                                                                                    \n",
    "5 x 9 = 45                                                                                                    \n",
    "5 x 10 = 50\n",
    "```"
   ]
  },
  {
   "cell_type": "code",
   "execution_count": 140,
   "metadata": {},
   "outputs": [
    {
     "output_type": "stream",
     "name": "stdout",
     "text": [
      "[1, 2, 3, 4, 5, 6, 7, 8, 9, 10] \n\n2 x 1 = 2\n2 x 2 = 4\n2 x 3 = 6\n2 x 4 = 8\n2 x 5 = 10\n2 x 6 = 12\n2 x 7 = 14\n2 x 8 = 16\n2 x 9 = 18\n2 x 10 = 20\n"
     ]
    }
   ],
   "source": [
    "\n",
    "number = int(input(\"Introduce un número\"))\n",
    "lista_rango = list(range(1,11))\n",
    "print(lista_rango, \"\\n\")\n",
    "for i,x in enumerate(lista_rango):\n",
    "    y = x * number\n",
    "    print(number, \"x\", x, end=\" = \")\n",
    "    print(y)\n",
    "\n"
   ]
  },
  {
   "cell_type": "markdown",
   "metadata": {},
   "source": [
    "3. Write a Python program which iterates the integers from 1 to 50. For multiples of three print \"Fizz\" instead of the number and for the multiples of five print \"Buzz\". For numbers which are multiples of both three and five print \"FizzBuzz\".\n",
    "```python\n",
    "Sample Output :\n",
    "fizzbuzz\n",
    "1\n",
    "2\n",
    "fizz\n",
    "4\n",
    "buzz\n",
    "```"
   ]
  },
  {
   "cell_type": "code",
   "execution_count": 146,
   "metadata": {},
   "outputs": [
    {
     "output_type": "stream",
     "name": "stdout",
     "text": [
      "1\n2\nFizz\n4\nBuzz\nFizz\n7\n8\nFizz\nBuzz\n11\nFizz\n13\n14\nFizzBuzz\n16\n17\nFizz\n19\nBuzz\nFizz\n22\n23\nFizz\nBuzz\n26\nFizz\n28\n29\nFizzBuzz\n31\n32\nFizz\n34\nBuzz\nFizz\n37\n38\nFizz\nBuzz\n41\nFizz\n43\n44\nFizzBuzz\n46\n47\nFizz\n49\nBuzz\n"
     ]
    }
   ],
   "source": [
    "for num in list(range(1,51)):\n",
    "    if (num % 3 == 0) and (num % 5 == 0): \n",
    "        print(\"FizzBuzz\")\n",
    "    elif num % 3 == 0:\n",
    "        print(\"Fizz\")\n",
    "    elif num % 5 == 0:\n",
    "        print(\"Buzz\")\n",
    "    else:\n",
    "        print(num)"
   ]
  },
  {
   "cell_type": "markdown",
   "metadata": {},
   "source": [
    "**functions**\n",
    "\n",
    "1. Write a Python function to check whether a string is a pangram or not. \n",
    "\n",
    "Note : Pangrams are words or sentences containing every letter of the alphabet at least once.\n",
    "    \n",
    "For example : `\"The quick brown fox jumps over the lazy dog\"`"
   ]
  },
  {
   "cell_type": "code",
   "execution_count": 156,
   "metadata": {},
   "outputs": [
    {
     "output_type": "stream",
     "name": "stdout",
     "text": [
      "True\n"
     ]
    }
   ],
   "source": [
    "def pangram(string):\n",
    "    alphabet = \"abcdefghijklmnopqrstuvwxyz\"\n",
    "    for letter in alphabet: \n",
    "        if letter in string.lower(): \n",
    "            return True\n",
    "        else: \n",
    "            return False\n",
    "\n",
    "x = pangram(\"The quick brown fox jumps over the lazy dog\")\n",
    "print(x)"
   ]
  },
  {
   "cell_type": "markdown",
   "metadata": {},
   "source": [
    "2. Write a Python program to count the number of even and odd numbers from a series of numbers. \n",
    "\n",
    "```python\n",
    "Sample numbers: numbers = (1, 2, 3, 4, 5, 6, 7, 8, 9) \n",
    "    \n",
    "Expected Output:\n",
    "Number of even numbers: 5\n",
    "Number of odd numbers: 4\n",
    "```"
   ]
  },
  {
   "cell_type": "code",
   "execution_count": 166,
   "metadata": {},
   "outputs": [
    {
     "output_type": "stream",
     "name": "stdout",
     "text": [
      "list even numbers: [2, 4, 6, 8]\nlist odd numbers: [1, 3, 5, 7, 9]\n\n\nNumber of even numbers: 4\nNumber of odd numbers: 5\n"
     ]
    }
   ],
   "source": [
    "even_numbers = []\n",
    "odd_numbers = []\n",
    "\n",
    "def even_odd_numbers(numbers):\n",
    "    for num in numbers:\n",
    "        if num % 2 == 0: \n",
    "            even_numbers.append(num)\n",
    "            \n",
    "        if num % 2 == 1:\n",
    "            odd_numbers.append(num)\n",
    "            \n",
    "            \n",
    "list_numbers = (1, 2, 3, 4, 5, 6, 7, 8, 9)\n",
    "even_odd_numbers(numbers=list_numbers)\n",
    "\n",
    "print(\"list even numbers:\", even_numbers)\n",
    "print(\"list odd numbers:\", odd_numbers)\n",
    "print(\"\\n\")\n",
    "print(\"Number of even numbers:\", len(even_numbers))\n",
    "print(\"Number of odd numbers:\", len(odd_numbers))"
   ]
  },
  {
   "cell_type": "markdown",
   "metadata": {},
   "source": [
    "#### functions & while loop\n",
    "1. Write a program which keeps asking for numbers till the user writes 9999. In that case, the program returns the concatenation of every number as a string.\n"
   ]
  },
  {
   "cell_type": "code",
   "execution_count": 5,
   "metadata": {},
   "outputs": [
    {
     "output_type": "execute_result",
     "data": {
      "text/plain": [
       "'2345'"
      ]
     },
     "metadata": {},
     "execution_count": 5
    }
   ],
   "source": [
    "l = [\"2\", \"3\", \"4\", \"5\"]\n",
    "\"\".join(l)"
   ]
  },
  {
   "cell_type": "code",
   "execution_count": 6,
   "metadata": {},
   "outputs": [
    {
     "output_type": "stream",
     "name": "stdout",
     "text": [
      "4  : Vuelve a introducir otro número\n",
      "5  : Vuelve a introducir otro número\n",
      "6  : Vuelve a introducir otro número\n",
      "7  : Vuelve a introducir otro número\n",
      "8  : Vuelve a introducir otro número\n",
      "45678\n"
     ]
    }
   ],
   "source": [
    "def program(argumento):\n",
    "    lista_numeros = []\n",
    "    while argumento != \"9999\": \n",
    "        x = argumento\n",
    "        lista_numeros.append(x)\n",
    "\n",
    "        print(argumento, \" : Vuelve a introducir otro número\")\n",
    "        argumento = input()\n",
    "\n",
    "    if argumento == \"9999\":\n",
    "        x = \"\".join(lista_numeros)\n",
    "        return x\n",
    "\n",
    "numeros = input(\"Introduce un numero\")     \n",
    "\n",
    "\n",
    "print(program(argumento=numeros))"
   ]
  },
  {
   "cell_type": "code",
   "execution_count": 1,
   "metadata": {},
   "outputs": [
    {
     "output_type": "stream",
     "name": "stdout",
     "text": [
      "4 : Vuelve a introducir otro número\n",
      "6 : Vuelve a introducir otro número\n",
      "7 : Vuelve a introducir otro número\n",
      "88 : Vuelve a introducir otro número\n",
      "44 : Vuelve a introducir otro número\n",
      "33 : Vuelve a introducir otro número\n",
      "25 : Vuelve a introducir otro número\n",
      "['4', '6', '7', '88', '44', '33', '25']\n",
      "46788443325\n"
     ]
    }
   ],
   "source": [
    "numero = input(\"Introduce un numero\")\n",
    "lista_numeros = []\n",
    "while numero != \"9999\": \n",
    "    lista_numeros.append(numero)\n",
    "    print(numero, \": Vuelve a introducir otro número\")\n",
    "    numero = input()\n",
    "\n",
    "if numero == \"9999\":\n",
    "    x = \"\".join(lista_numeros)\n",
    "\n",
    "print(lista_numeros)\n",
    "print(x)"
   ]
  },
  {
   "cell_type": "markdown",
   "metadata": {},
   "source": [
    "2. Writes a function that asks a user for a pin code till they get it right... If they give a wrong answer three times the function returns \"Your bank account has been blocked\", otherwise, returns: \"You got it right! You get full access to your money\".\n"
   ]
  },
  {
   "cell_type": "code",
   "execution_count": 26,
   "metadata": {},
   "outputs": [
    {
     "output_type": "stream",
     "name": "stdout",
     "text": [
      "code : 8960 it´s wrong, try again\n",
      "code : 6970 it´s wrong, try again\n",
      "code: 6970 it´s wrong\n",
      "\n",
      "\n",
      "You´re account has been blocked\n"
     ]
    }
   ],
   "source": [
    "def function(code, rightcode):\n",
    "    contador = 0\n",
    "    while contador < 3:\n",
    "        if code == rightcode:\n",
    "            return \"You got it right! You get full access to you money\"\n",
    "        if code != rightcode: \n",
    "            contador += 1\n",
    "            print(\"code :\", code, \"it´s wrong, try again\")\n",
    "            code = input()\n",
    "            \n",
    "        if contador == 2:\n",
    "            print(\"code:\", code, \"it´s wrong\")\n",
    "            print(\"\\n\")\n",
    "            return \"You´re account has been blocked\"\n",
    "\n",
    "pin = int(input(\"Enter 4 numbers\"))\n",
    "\n",
    "print(function(code=pin, rightcode=2030))\n"
   ]
  },
  {
   "cell_type": "markdown",
   "metadata": {},
   "source": [
    "#### functions & for loop\n",
    "\n",
    "1. Write a function that takes in a person's name, and prints out a greeting.\n",
    "    - The greeting must be at least three lines, and the person's name must be in each line.\n",
    "    - Use your function to greet at least three different people.\n",
    "    - Store your three people in a list, and call your function from a for loop."
   ]
  },
  {
   "cell_type": "code",
   "execution_count": null,
   "metadata": {},
   "outputs": [],
   "source": [
    "# Poner como argumentos nombres, greetings y diciendo un evento de una lista y un nombre."
   ]
  },
  {
   "cell_type": "code",
   "execution_count": 30,
   "metadata": {},
   "outputs": [
    {
     "output_type": "stream",
     "name": "stdout",
     "text": [
      "Hi pepe\n",
      " How are your pepe?\n",
      " pepe Bye\n",
      "Hi sal\n",
      " How are your sal?\n",
      " sal Bye\n"
     ]
    }
   ],
   "source": [
    "lista = []\n",
    "def callfunction(personsname):\n",
    "    print(f\"Hi {personsname}\\n How are your {personsname}?\\n {personsname} Bye\")\n",
    "    lista.append(personsname)\n",
    "\n",
    "for i in range(2): \n",
    "    callfunction(input())"
   ]
  },
  {
   "cell_type": "code",
   "execution_count": null,
   "metadata": {},
   "outputs": [],
   "source": [
    "def function(persons_name, greeting):\n",
    "\n",
    "    lista_greeting = []\n",
    "    for i in range(3):\n",
    "        x = persons_name\n",
    "        lista_greeting_nombres.append(x)\n",
    "        print(f' {greeting} {persons_name} \\n + {greeting}\"!')\n",
    "        persons_name = input()\n",
    "        print(lista_greetings_nombres)\n",
    "        \n",
    "person = input(\"Write name\")\n",
    "\n",
    "function(person, \"hola\\n\")"
   ]
  },
  {
   "cell_type": "code",
   "execution_count": 29,
   "metadata": {},
   "outputs": [
    {
     "output_type": "stream",
     "name": "stdout",
     "text": [
      "0\n",
      " Hi manu\n",
      " How are you manu?\n",
      " Nice to meet you !\n",
      "\n",
      "1\n",
      " Hi lola\n",
      " How are you lola?\n",
      " Nice to meet you !\n",
      "\n",
      "2\n",
      " Hi mari\n",
      " How are you mari?\n",
      " Nice to meet you !\n",
      "\n",
      "['manu', 'lola', 'mari']\n"
     ]
    }
   ],
   "source": [
    "def function():\n",
    "\n",
    "    lista_g_nombres = []\n",
    "    for i in range(3):\n",
    "        print(i)\n",
    "        persons_name = input()\n",
    "        lista_g_nombres.append(persons_name)\n",
    "        print(f' Hi {persons_name}\\n How are you {persons_name}?\\n Nice to meet you !')\n",
    "        print()\n",
    "        \n",
    "\n",
    "    print(lista_g_nombres)\n",
    "\n",
    "\n",
    "\n",
    "# person = input(\"Write name\")\n",
    "\n",
    "function()\n",
    "\n",
    "# ¿ Por qué no me añade el último nombre que pongo? \n"
   ]
  },
  {
   "cell_type": "code",
   "execution_count": null,
   "metadata": {},
   "outputs": [],
   "source": [
    "def function(nombre_greeting):\n",
    "\n",
    "    lista_g_nombres = []\n",
    "    for i in range(3):\n",
    "        print(i)\n",
    "        lista_g_nombres.append(persons_name)\n",
    "        print(f' Hi {persons_name}\\n How are you {persons_name}?\\n Nice to meet you !')\n",
    "        print()\n",
    "        \n",
    "\n",
    "    print(lista_g_nombres)\n",
    "\n",
    "\n",
    "nombre_greeting = input()\n",
    "# person = input(\"Write name\")\n",
    "\n",
    "function()"
   ]
  },
  {
   "cell_type": "markdown",
   "metadata": {},
   "source": [
    "2. Make a list that includes 3 or 4 games that you like to play and print a statement that tells the user what games you like.\n",
    "    - Write a function that asks the user to tell you a game they like, and store the game in a variable such as `new_game`. \n",
    "    - If the user mentions one game you like to play, send a message asking to play together.\n",
    "    - Otherwise ask for another game name. If the user tries your program 3 times and doesn't give a game name you like, then ask them to find another friend."
   ]
  },
  {
   "cell_type": "code",
   "execution_count": 6,
   "metadata": {},
   "outputs": [
    {
     "output_type": "stream",
     "name": "stdout",
     "text": [
      "['Mario Bros', 'FIFA', 'Call of duty', 'Trivial']\n"
     ]
    }
   ],
   "source": [
    "lista_juegos = [\"Mario Bros\", \"FIFA\", \"Call of duty\", \"Trivial\"]\n",
    "print(lista_juegos)"
   ]
  },
  {
   "cell_type": "code",
   "execution_count": 10,
   "metadata": {},
   "outputs": [
    {
     "output_type": "stream",
     "name": "stdout",
     "text": [
      "Do you want to play FIFA together?\n"
     ]
    }
   ],
   "source": [
    "def question_games(listgames):\n",
    "\n",
    "    for i in range(3):\n",
    "        newgame = input(\"game?\")\n",
    "        if newgame in listgames:\n",
    "            print(f\"Do you want to play {newgame} together?\")\n",
    "            break\n",
    "    \n",
    "    if newgame not in listgames:\n",
    "        print(\"Find another friend\")\n",
    "\n",
    "\n",
    "\n",
    "question_games(lista_juegos)"
   ]
  },
  {
   "cell_type": "code",
   "execution_count": 11,
   "metadata": {},
   "outputs": [
    {
     "output_type": "stream",
     "name": "stdout",
     "text": [
      "Do you want to play together?\n"
     ]
    }
   ],
   "source": [
    "def question(game):\n",
    "\n",
    "    for i in range(3): \n",
    "        if game in lista_juegos:\n",
    "            print(\"Do you want to play together?\")\n",
    "            break\n",
    "        else: \n",
    "            game = input(\"Insert a game\")\n",
    "            print(new_game)\n",
    "        \n",
    "        if i == 2: \n",
    "            print(\"Find another friend\")\n",
    "    \n",
    "games = input(\"Insert a game\")\n",
    "\n",
    "question(games)"
   ]
  },
  {
   "cell_type": "markdown",
   "metadata": {},
   "source": [
    "#### write a mini-program\n",
    "**Three is a Crowd**\n",
    "- Make a list of names that includes at least four people.\n",
    "- Write an if test that prints a message about the room being crowded, if there are more than three people in your list.\n",
    "- Modify your list so that there are only two people in it. Use one of the methods for removing people from the list, don't just redefine the list.\n",
    "- Run your if test again. There should be no output this time, because there are less than three people in the list.\n",
    "- Store your if test in a function called something like `crowd_test`.\n",
    "\n"
   ]
  },
  {
   "cell_type": "code",
   "execution_count": 48,
   "metadata": {},
   "outputs": [
    {
     "output_type": "stream",
     "name": "stdout",
     "text": [
      "Room is crowded\n"
     ]
    }
   ],
   "source": [
    "def crowd_test(names): \n",
    "    if len(names) > 3:\n",
    "        print(\"Room is crowded\")\n",
    "    \n",
    "\n",
    "list_names = [\"Marcos\", \"Manu\", \"Pablo\", \"Marta\", \"Mateo\" ]\n",
    "three_is_a_crowd(list_names)"
   ]
  },
  {
   "cell_type": "code",
   "execution_count": 52,
   "metadata": {},
   "outputs": [
    {
     "output_type": "stream",
     "name": "stdout",
     "text": [
      "['Marcos', 'Manu']\n"
     ]
    }
   ],
   "source": [
    "list_names.pop()\n",
    "print(list_names)"
   ]
  },
  {
   "cell_type": "code",
   "execution_count": 53,
   "metadata": {},
   "outputs": [],
   "source": [
    "crowd_test(list_names)"
   ]
  },
  {
   "cell_type": "code",
   "execution_count": null,
   "metadata": {},
   "outputs": [],
   "source": []
  },
  {
   "cell_type": "markdown",
   "metadata": {},
   "source": [
    "**Three is a Crowd - Part 2**\n",
    "- Save your program from *Three is a Crowd* under a new name.\n",
    "- Add an `else` statement to your if tests. If the `else` statement is run, have it print a message that the room is not very crowded.\n"
   ]
  },
  {
   "cell_type": "code",
   "execution_count": 54,
   "metadata": {},
   "outputs": [],
   "source": [
    "new_name = crowd_test(list_names)\n",
    "\n"
   ]
  },
  {
   "cell_type": "code",
   "execution_count": 57,
   "metadata": {},
   "outputs": [
    {
     "output_type": "stream",
     "name": "stdout",
     "text": [
      "The room is not very crowded\n"
     ]
    }
   ],
   "source": [
    "def new_name(name):\n",
    "    \n",
    "    if len(name) > 3:\n",
    "        print(\"Room is crowded\")\n",
    "    else: \n",
    "        print(\"The room is not very crowded\")\n",
    "\n",
    "new_name(list_names)"
   ]
  },
  {
   "cell_type": "markdown",
   "metadata": {},
   "source": [
    "\n",
    "**Six is a Mob**\n",
    "- Save your program from *Three is a Crowd - Part 2* under a new name.\n",
    "- Add some names to your list, so that there are at least six people in the list.\n",
    "- Modify your tests so that\n",
    "    - If there are more than 5 people, a message is printed about there being a mob in the room.\n",
    "    - If there are 3-5 people, a message is printed about the room being crowded.\n",
    "    - If there are 1 or 2 people, a message is printed about the room not being crowded.\n",
    "    - If there are no people in the room, a message is printed abou the room being empty."
   ]
  },
  {
   "cell_type": "code",
   "execution_count": 59,
   "metadata": {},
   "outputs": [
    {
     "output_type": "stream",
     "name": "stdout",
     "text": [
      "The room is not very crowded\n"
     ]
    }
   ],
   "source": [
    "six_is_a_mob = new_name(list_names)"
   ]
  },
  {
   "cell_type": "code",
   "execution_count": 63,
   "metadata": {},
   "outputs": [
    {
     "output_type": "execute_result",
     "data": {
      "text/plain": [
       "['Marcos', 'Manu', 'Sara', 'Sara', 'Adri', 'Moni', 'Loki']"
      ]
     },
     "metadata": {},
     "execution_count": 63
    }
   ],
   "source": [
    "list_names.extend([\"Sara\", \"Adri\", \"Moni\", \"Loki\"])\n",
    "list_names"
   ]
  },
  {
   "cell_type": "code",
   "execution_count": 65,
   "metadata": {},
   "outputs": [
    {
     "output_type": "stream",
     "name": "stdout",
     "text": [
      "There is a mob in the room\n"
     ]
    }
   ],
   "source": [
    "def six_is_a_mob(sixnames):\n",
    "    if len(sixnames) == 0:\n",
    "        print(\"The room is empty\")\n",
    "    elif (len(sixnames) > 0) and (len(sixnames) <= 2):\n",
    "        print(\"The room is not crowded\")\n",
    "    elif (len(sixnames) >= 3) and (len(sixnames) <= 5):\n",
    "        print(\"The room is being clowded\")\n",
    "    else: \n",
    "        print(\"There is a mob in the room\")\n",
    "\n",
    "six_is_a_mob(list_names)"
   ]
  },
  {
   "cell_type": "code",
   "execution_count": null,
   "metadata": {},
   "outputs": [],
   "source": []
  }
 ],
 "metadata": {
  "kernelspec": {
   "name": "python374jvsc74a57bd0fc2c00f0e2c44cb4028bd693f18a1b5d93d1de4cd12db71fca36ff691a163044",
   "display_name": "Python 3.7.4 64-bit"
  },
  "language_info": {
   "codemirror_mode": {
    "name": "ipython",
    "version": 3
   },
   "file_extension": ".py",
   "mimetype": "text/x-python",
   "name": "python",
   "nbconvert_exporter": "python",
   "pygments_lexer": "ipython3",
   "version": "3.7.4"
  },
  "metadata": {
   "interpreter": {
    "hash": "fc2c00f0e2c44cb4028bd693f18a1b5d93d1de4cd12db71fca36ff691a163044"
   }
  }
 },
 "nbformat": 4,
 "nbformat_minor": 4
}