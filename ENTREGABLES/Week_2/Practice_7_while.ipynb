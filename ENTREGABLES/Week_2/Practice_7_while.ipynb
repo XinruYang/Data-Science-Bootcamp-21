{
 "cells": [
  {
   "cell_type": "markdown",
   "metadata": {},
   "source": [
    "# Python | day 6 | while"
   ]
  },
  {
   "cell_type": "markdown",
   "metadata": {},
   "source": [
    "With the **while** loop we can execute a set of statements as long as a condition is true."
   ]
  },
  {
   "cell_type": "markdown",
   "metadata": {},
   "source": [
    "```python\n",
    "i = 1\n",
    "while i < 6:\n",
    "  print(i)\n",
    "  i += 1\n",
    "```"
   ]
  },
  {
   "cell_type": "markdown",
   "metadata": {},
   "source": [
    "https://www.w3schools.com/python/python_while_loops.asp"
   ]
  },
  {
   "cell_type": "markdown",
   "metadata": {},
   "source": [
    "### Exercise 1. "
   ]
  },
  {
   "cell_type": "markdown",
   "metadata": {},
   "source": [
    "Do as described below:\n",
    "\n",
    "- Make a variable called strength, and set its initial value to 5.\n",
    "\n",
    "- Print a message reporting the player's strength.\n",
    "\n",
    "- Set up a while loop that runs until the player's strength increases to a value such as 10.\n",
    "\n",
    "- Inside the while loop, print a message that reports the player's current strength.\n",
    "\n",
    "- Inside the while loop, write a statement that increases the player's strength.\n",
    "\n",
    "- Outside the while loop, print a message reporting that the player has grown too strong, and that they have moved up to a new level of the game.\n",
    "\n",
    "Play around with different cutoff levels for the value of strength, and play around with different ways to increase the strength value within the while loop.\n"
   ]
  },
  {
   "cell_type": "code",
   "execution_count": 48,
   "metadata": {},
   "outputs": [
    {
     "output_type": "stream",
     "name": "stdout",
     "text": [
      "player´s strength: 5\n-----------------------------\nincreases to: 6\n---------------\nincreases to: 7\n---------------\nincreases to: 8\n---------------\nincreases to: 9\n---------------\nincreases to: 10\n---------------\n\nThe player has grown too strong, you have to move up to a new level\n"
     ]
    }
   ],
   "source": [
    "strength = 5\n",
    "print(\"player´s strength:\", strength)\n",
    "print(\"-----------------------------\")\n",
    "while strength < 10: \n",
    "    strength += 1\n",
    "    print(\"increases to:\", strength)\n",
    "    print(\"---------------\")\n",
    "\n",
    "print(\"\\nThe player has grown too strong, you have to move up to a new level\")"
   ]
  },
  {
   "cell_type": "markdown",
   "metadata": {},
   "source": [
    "### Exercise 2. "
   ]
  },
  {
   "cell_type": "markdown",
   "metadata": {},
   "source": [
    "To solve the following exercises it will be necessary to define a function for each section. You choose the name of those functions unless specified, but make sure you define a single parameter `whichever_list`, when calling the function it will correspond to the variable `info_list`."
   ]
  },
  {
   "cell_type": "code",
   "execution_count": 1,
   "metadata": {},
   "outputs": [],
   "source": [
    "# you can use this list or take yours from Practice 3\n",
    "info_list = [15, 'Recoletos', True, ['Recoletos', 15],  None, '8'] "
   ]
  },
  {
   "cell_type": "markdown",
   "metadata": {},
   "source": [
    "You have already read these questions below, but this time you are asked to solve it using `while` loop instead of `for`. \n",
    "\n",
    "   - Loop through `whichever_list` to print all the elements it contains. This function should return the list turned into a tuple. \n",
    "   - Loop through `whichever_list` to print all the elements it contains concatenated with the string` \"--> OK\" `. This function should return a message saying, `\"everything will be ok\"`. \n",
    "   - Loop through `whichever_list` to display all items it contains except the first one. This function should return the first element of the list. \n",
    "   - Loop through `whichever_list` to display all the items it contains except the last one. This function should return the last element of the list. "
   ]
  },
  {
   "cell_type": "code",
   "execution_count": 3,
   "metadata": {},
   "outputs": [
    {
     "output_type": "stream",
     "name": "stdout",
     "text": [
      "15\n---------------------------\nRecoletos\n---------------------------\nTrue\n---------------------------\n['Recoletos', 15]\n---------------------------\nNone\n---------------------------\n8\n---------------------------\n(15, 'Recoletos', True, ['Recoletos', 15], None, '8')\n"
     ]
    }
   ],
   "source": [
    "def funcion(whichever_list):\n",
    "    contador = 0\n",
    "    while contador < len(whichever_list):\n",
    "        print(whichever_list[contador])\n",
    "        contador += 1\n",
    "        print(\"---------------------------\")\n",
    "    return(tuple(whichever_list))\n",
    "\n",
    "print(funcion(whichever_list=info_list))"
   ]
  },
  {
   "cell_type": "code",
   "execution_count": 52,
   "metadata": {},
   "outputs": [
    {
     "output_type": "stream",
     "name": "stdout",
     "text": [
      "15--> OK\n------------------------------------------\nRecoletos--> OK\n------------------------------------------\nTrue--> OK\n------------------------------------------\n['Recoletos', 15]--> OK\n------------------------------------------\nNone--> OK\n------------------------------------------\n8--> OK\n------------------------------------------\neverything will be ok\n"
     ]
    }
   ],
   "source": [
    "def funcion(whichever_list):\n",
    "    contador = 0\n",
    "    while contador < len(whichever_list):\n",
    "        print(str(whichever_list[contador]) + \"--> OK\")\n",
    "        contador += 1\n",
    "        print(\"------------------------------------------\")\n",
    "    return \"everything will be ok\"\n",
    "\n",
    "print(funcion(whichever_list=info_list))"
   ]
  },
  {
   "cell_type": "code",
   "execution_count": 53,
   "metadata": {},
   "outputs": [
    {
     "output_type": "stream",
     "name": "stdout",
     "text": [
      "['Recoletos', True, ['Recoletos', 15], None, '8']\n15\n"
     ]
    }
   ],
   "source": [
    "def funcion(whichever_list):\n",
    "    contador = 0\n",
    "    while contador < len(whichever_list):\n",
    "        print(whichever_list[1:])\n",
    "        contador += 1\n",
    "        break\n",
    "    return(whichever_list[0])\n",
    "\n",
    "print(funcion(whichever_list=info_list))"
   ]
  },
  {
   "cell_type": "code",
   "execution_count": 18,
   "metadata": {},
   "outputs": [
    {
     "output_type": "stream",
     "name": "stdout",
     "text": [
      "Recoletos\nTrue\n['Recoletos', 15]\nNone\n8\n15\n"
     ]
    }
   ],
   "source": [
    "def funcion(whichever_list):\n",
    "    contador = 1\n",
    "    while contador < len(whichever_list):\n",
    "        print(whichever_list[contador])\n",
    "        contador += 1\n",
    "        \n",
    "    return(whichever_list[0])\n",
    "\n",
    "print(funcion(whichever_list=info_list))"
   ]
  },
  {
   "cell_type": "code",
   "execution_count": 15,
   "metadata": {},
   "outputs": [
    {
     "output_type": "stream",
     "name": "stdout",
     "text": [
      "15\nRecoletos\nTrue\n['Recoletos', 15]\nNone\n8\n"
     ]
    }
   ],
   "source": [
    "def funcion(whichever_list):\n",
    "    contador = 0\n",
    "    while contador < len(whichever_list) -1 :\n",
    "        print(whichever_list[contador])\n",
    "        contador += 1\n",
    "        \n",
    "    return(whichever_list[-1])\n",
    "\n",
    "print(funcion(whichever_list=info_list))"
   ]
  },
  {
   "cell_type": "code",
   "execution_count": null,
   "metadata": {},
   "outputs": [],
   "source": []
  },
  {
   "cell_type": "markdown",
   "metadata": {},
   "source": [
    "### Exercise 3. "
   ]
  },
  {
   "cell_type": "markdown",
   "metadata": {},
   "source": [
    "1. Define a function that performs the [Fibonacci series](https://quantdare.com/numeros-de-fibonacci/#:~:text=En%20matem%C3%A1ticas%2C%20la%20sucesi%C3%B3n%20o,nombre%20de%20n%C3%BAmero%20de%20Fibonacci.) with a `while`."
   ]
  },
  {
   "cell_type": "code",
   "execution_count": 1,
   "metadata": {},
   "outputs": [
    {
     "output_type": "stream",
     "name": "stdout",
     "text": [
      "[1, 1, 2, 3, 5, 8, 13, 21, 34, 55, 89, 144, 233, 377, 610, 987, 1597, 2584, 4181, 6765]\n"
     ]
    }
   ],
   "source": [
    "def fibonacci_series(x, y, limite):\n",
    "    lista = []\n",
    "    while len(lista) < limite:\n",
    "        z = x + y\n",
    "        x = y\n",
    "        y = z\n",
    "        lista.append(x)\n",
    "    return lista\n",
    "fibonacci = fibonacci_series(x=0, y=1, limite=20)\n",
    "print(fibonacci)"
   ]
  },
  {
   "cell_type": "markdown",
   "metadata": {},
   "source": [
    "### Bonus Track."
   ]
  },
  {
   "cell_type": "markdown",
   "metadata": {},
   "source": [
    "To solve the following exercises it will be necessary to define a function for each section. You choose the name of those functions unless specified, but make sure you define a single parameter `whichever_list`, when calling the function it will correspond to the variable `info_list`."
   ]
  },
  {
   "cell_type": "code",
   "execution_count": 3,
   "metadata": {},
   "outputs": [],
   "source": [
    "# you can use this list or take yours from Practice 3\n",
    "info_list = [15, 'Recoletos', True, ['Recoletos', 15],  None, '8'] "
   ]
  },
  {
   "cell_type": "markdown",
   "metadata": {},
   "source": [
    "1. Define a function `f_s` that saves the value of a word (for example: \"nothing\") in a variable and print it. Also, concatenate its value with the street number of The Bridge and display it on the screen. \n",
    "\n",
    "   Also, display a boolean **True** if the length of the concatenated word is 6. If not, it will be **False**. The function must return the value **True** or **False**."
   ]
  },
  {
   "cell_type": "code",
   "execution_count": 4,
   "metadata": {},
   "outputs": [
    {
     "output_type": "stream",
     "name": "stdout",
     "text": [
      "hola\n--------------------------\n15hola\n--------------------------\nTrue\nTrue\n"
     ]
    }
   ],
   "source": [
    "def f_s(word):\n",
    "    print(word)\n",
    "    print(\"--------------------------\")\n",
    "    palabra_concatenada = str(info_list[0]) + word\n",
    "    print(palabra_concatenada)\n",
    "    print(\"--------------------------\")\n",
    "    if len(palabra_concatenada) == 6:\n",
    "        print(True)\n",
    "        return True\n",
    "    else:\n",
    "        print(False)\n",
    "        return False\n",
    "   \n",
    "palabra = input()\n",
    "\n",
    "print(f_s(word=palabra))\n",
    "    \n"
   ]
  },
  {
   "cell_type": "code",
   "execution_count": 83,
   "metadata": {},
   "outputs": [
    {
     "output_type": "execute_result",
     "data": {
      "text/plain": [
       "<function __main__.f_s(word)>"
      ]
     },
     "metadata": {},
     "execution_count": 83
    }
   ],
   "source": []
  },
  {
   "cell_type": "markdown",
   "metadata": {},
   "source": [
    "2. Create a list `list_aux` with 7 elements, whichever you want. Next, create a function `function_use_f_s` which receives as parameters a function `some_function`, a word which is the argument of `some_funtion` and whichever list `whichever_list`. If the value of `some_function` is **True**, then delete an item from `whichever_list`. Repeat the process until `whichever_list` has no elements. The argument for `whichever_list` must be `list_aux` and for `some_function` it will be the function `f_s` from the previous point."
   ]
  },
  {
   "cell_type": "code",
   "execution_count": 5,
   "metadata": {},
   "outputs": [],
   "source": [
    "list_aux = [\"hola\", 7, 6, 5, \"jeje\", True, False]"
   ]
  },
  {
   "cell_type": "code",
   "execution_count": 6,
   "metadata": {},
   "outputs": [
    {
     "output_type": "stream",
     "name": "stdout",
     "text": [
      "hola\n--------------------------\n15hola\n--------------------------\nTrue\n[]\n"
     ]
    }
   ],
   "source": [
    "def function_use_f_s(some_function, whicheverlist): \n",
    "    while some_function == True:\n",
    "        whicheverlist.pop()\n",
    "        if whicheverlist == []:\n",
    "            break\n",
    "            \n",
    "function_use_f_s(some_function=f_s(word=palabra),whicheverlist=list_aux)\n",
    "print(list_aux)"
   ]
  },
  {
   "cell_type": "markdown",
   "metadata": {},
   "source": [
    "3. Define a function `even_numbers` that has an input parameter `arg1`, type integer. The function must return a list of numbers of size `arg1`, all of them being even numbers. \n",
    "\n",
    "   Don't use the function `print()` inside the function, but print what `even_numbers` returns when calling it with the argument `10`, just to check your function works.\n",
    "   \n",
    "```python\n",
    "print(even_numbers(10))\n",
    "```"
   ]
  },
  {
   "cell_type": "code",
   "execution_count": 9,
   "metadata": {},
   "outputs": [
    {
     "output_type": "stream",
     "name": "stdout",
     "text": [
      "[0, 2, 4, 6, 8, 10, 12, 14, 16, 18]\n"
     ]
    }
   ],
   "source": [
    "def even_numbers(arg1): \n",
    "    evennumbers = []\n",
    "    for i in range(arg1 * 2):\n",
    "        if i % 2 == 0:\n",
    "            evennumbers.append(i)\n",
    "    return evennumbers\n",
    "\n",
    "argument = int(input())\n",
    "even_number_list = list(even_numbers(argument))\n",
    "print(even_number_list)"
   ]
  },
  {
   "cell_type": "markdown",
   "metadata": {},
   "source": [
    "4. Create a function that has an input variable `arg1`, which will be the list of even numbers from the previous section, and that removes elements from the list, one by one, if `arg1` has a size divisible by 2 and, if not, it adds just once, the value of the function `f_s` that should be a boolean (`True` or `False`).\n"
   ]
  },
  {
   "cell_type": "code",
   "execution_count": 12,
   "metadata": {},
   "outputs": [
    {
     "output_type": "stream",
     "name": "stdout",
     "text": [
      "hola\n--------------------------\n15hola\n--------------------------\nTrue\n______________________\nhola\n--------------------------\n15hola\n--------------------------\nTrue\n______________________\nhola\n--------------------------\n15hola\n--------------------------\nTrue\n______________________\nhola\n--------------------------\n15hola\n--------------------------\nTrue\n______________________\nhola\n--------------------------\n15hola\n--------------------------\nTrue\n______________________\n......................\n......................\n......................\n......................\n......................\nEsta es la nueva lista: [0, 2, 4, 6, 8, True, True, True, True, True]\n"
     ]
    }
   ],
   "source": [
    "def function(arg1): \n",
    "    for v_elem in arg1:\n",
    "        \n",
    "        if len(str(v_elem)) % 2 == 0:\n",
    "            arg1.remove(v_elem)\n",
    "            print(\"......................\")\n",
    "        else: \n",
    "            arg1.append(f_s(word=palabra))\n",
    "            print(\"______________________\")\n",
    "            \n",
    "    return arg1\n",
    "\n",
    "print(\"Esta es la nueva lista:\", function(arg1=even_number_list))\n"
   ]
  },
  {
   "cell_type": "markdown",
   "metadata": {},
   "source": [
    "!['nicetry'](https://i.pinimg.com/originals/36/ab/81/36ab81cd8d63cf7c4a08f39403698c77.jpg)"
   ]
  }
 ],
 "metadata": {
  "kernelspec": {
   "name": "python374jvsc74a57bd0fc2c00f0e2c44cb4028bd693f18a1b5d93d1de4cd12db71fca36ff691a163044",
   "display_name": "Python 3.7.4 64-bit"
  },
  "language_info": {
   "codemirror_mode": {
    "name": "ipython",
    "version": 3
   },
   "file_extension": ".py",
   "mimetype": "text/x-python",
   "name": "python",
   "nbconvert_exporter": "python",
   "pygments_lexer": "ipython3",
   "version": "3.7.4"
  },
  "metadata": {
   "interpreter": {
    "hash": "fc2c00f0e2c44cb4028bd693f18a1b5d93d1de4cd12db71fca36ff691a163044"
   }
  }
 },
 "nbformat": 4,
 "nbformat_minor": 4
}