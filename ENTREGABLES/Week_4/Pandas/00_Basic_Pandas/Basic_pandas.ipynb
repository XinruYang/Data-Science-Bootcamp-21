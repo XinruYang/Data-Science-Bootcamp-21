{
 "cells": [
  {
   "cell_type": "code",
   "execution_count": 2,
   "metadata": {},
   "outputs": [
    {
     "output_type": "stream",
     "name": "stdout",
     "text": [
      "   hola   adios\n0     3  Pepito\n1     4    Jose\n<class 'pandas.core.frame.DataFrame'>\n"
     ]
    }
   ],
   "source": [
    "# Ejemplo clase\n",
    "\n",
    "x = { \"hola\" : [3,4], \"adios\": [\"Pepito\", \"Jose\"]}\n",
    "df = pd.DataFrame(data=x)\n",
    "print(df)\n",
    "print(type(df))"
   ]
  },
  {
   "cell_type": "code",
   "execution_count": 8,
   "metadata": {},
   "outputs": [
    {
     "output_type": "execute_result",
     "data": {
      "text/plain": [
       "0    Pepito\n",
       "1      Jose\n",
       "Name: adios, dtype: object"
      ]
     },
     "metadata": {},
     "execution_count": 8
    }
   ],
   "source": [
    "df[\"adios\"]"
   ]
  },
  {
   "cell_type": "code",
   "execution_count": 6,
   "metadata": {},
   "outputs": [
    {
     "output_type": "execute_result",
     "data": {
      "text/plain": [
       "array([3, 4], dtype=int64)"
      ]
     },
     "metadata": {},
     "execution_count": 6
    }
   ],
   "source": [
    "df[\"hola\"].values"
   ]
  },
  {
   "cell_type": "markdown",
   "metadata": {},
   "source": [
    "## Ejercicio 1\n",
    "Importa la libreria de `pandas` y `numpy`. ¿Qué versión de la librería `pandas` tienes?"
   ]
  },
  {
   "cell_type": "code",
   "execution_count": 1,
   "metadata": {},
   "outputs": [],
   "source": [
    "import pandas as pd \n",
    "import numpy as np"
   ]
  },
  {
   "cell_type": "code",
   "execution_count": 3,
   "metadata": {},
   "outputs": [
    {
     "output_type": "execute_result",
     "data": {
      "text/plain": [
       "'1.2.4'"
      ]
     },
     "metadata": {},
     "execution_count": 3
    }
   ],
   "source": [
    "pd.__version__"
   ]
  },
  {
   "cell_type": "markdown",
   "metadata": {},
   "source": [
    "## Ejercicio 2\n",
    "Lee el archivo CSV de la liga. Guarda el DataFrame en una variable llamada `df`. [Usa el método `read_csv` de `pandas`](https://pandas.pydata.org/pandas-docs/stable/reference/api/pandas.read_csv.html)."
   ]
  },
  {
   "cell_type": "code",
   "execution_count": 12,
   "metadata": {},
   "outputs": [
    {
     "output_type": "execute_result",
     "data": {
      "text/plain": [
       "      Unnamed: 0   season  division  round           localTeam    visitorTeam  \\\n",
       "0          26201  2005-06         1      1  Atletico de Bilbao  Real Sociedad   \n",
       "1          26202  2005-06         1      1              Alaves      Barcelona   \n",
       "2          26203  2005-06         1      1            Valencia          Betis   \n",
       "3          26204  2005-06         1      1  Atletico de Madrid       Zaragoza   \n",
       "4          26205  2005-06         1      1               Cadiz    Real Madrid   \n",
       "...          ...      ...       ...    ...                 ...            ...   \n",
       "4935       36680  2017-18         1     38          Villarreal    Real Madrid   \n",
       "4936       36681  2017-18         1     38  Atletico de Bilbao        Espanol   \n",
       "4937       36682  2017-18         1     38           Barcelona  Real Sociedad   \n",
       "4938       36683  2017-18         1     38            Valencia      Deportivo   \n",
       "4939       36684  2017-18         1     38  Atletico de Madrid          Eibar   \n",
       "\n",
       "      localGoals  visitorGoals        date   timestamp  \n",
       "0              3             0  27/08/2005  1125093600  \n",
       "1              0             0  27/08/2005  1125093600  \n",
       "2              1             0  27/08/2005  1125093600  \n",
       "3              0             0  28/08/2005  1125180000  \n",
       "4              1             2  28/08/2005  1125180000  \n",
       "...          ...           ...         ...         ...  \n",
       "4935           2             2  19/05/2018  1526680800  \n",
       "4936           0             1  20/05/2018  1526767200  \n",
       "4937           1             0  20/05/2018  1526767200  \n",
       "4938           2             1  20/05/2018  1526767200  \n",
       "4939           2             2  20/05/2018  1526767200  \n",
       "\n",
       "[4940 rows x 10 columns]"
      ],
      "text/html": "<div>\n<style scoped>\n    .dataframe tbody tr th:only-of-type {\n        vertical-align: middle;\n    }\n\n    .dataframe tbody tr th {\n        vertical-align: top;\n    }\n\n    .dataframe thead th {\n        text-align: right;\n    }\n</style>\n<table border=\"1\" class=\"dataframe\">\n  <thead>\n    <tr style=\"text-align: right;\">\n      <th></th>\n      <th>Unnamed: 0</th>\n      <th>season</th>\n      <th>division</th>\n      <th>round</th>\n      <th>localTeam</th>\n      <th>visitorTeam</th>\n      <th>localGoals</th>\n      <th>visitorGoals</th>\n      <th>date</th>\n      <th>timestamp</th>\n    </tr>\n  </thead>\n  <tbody>\n    <tr>\n      <th>0</th>\n      <td>26201</td>\n      <td>2005-06</td>\n      <td>1</td>\n      <td>1</td>\n      <td>Atletico de Bilbao</td>\n      <td>Real Sociedad</td>\n      <td>3</td>\n      <td>0</td>\n      <td>27/08/2005</td>\n      <td>1125093600</td>\n    </tr>\n    <tr>\n      <th>1</th>\n      <td>26202</td>\n      <td>2005-06</td>\n      <td>1</td>\n      <td>1</td>\n      <td>Alaves</td>\n      <td>Barcelona</td>\n      <td>0</td>\n      <td>0</td>\n      <td>27/08/2005</td>\n      <td>1125093600</td>\n    </tr>\n    <tr>\n      <th>2</th>\n      <td>26203</td>\n      <td>2005-06</td>\n      <td>1</td>\n      <td>1</td>\n      <td>Valencia</td>\n      <td>Betis</td>\n      <td>1</td>\n      <td>0</td>\n      <td>27/08/2005</td>\n      <td>1125093600</td>\n    </tr>\n    <tr>\n      <th>3</th>\n      <td>26204</td>\n      <td>2005-06</td>\n      <td>1</td>\n      <td>1</td>\n      <td>Atletico de Madrid</td>\n      <td>Zaragoza</td>\n      <td>0</td>\n      <td>0</td>\n      <td>28/08/2005</td>\n      <td>1125180000</td>\n    </tr>\n    <tr>\n      <th>4</th>\n      <td>26205</td>\n      <td>2005-06</td>\n      <td>1</td>\n      <td>1</td>\n      <td>Cadiz</td>\n      <td>Real Madrid</td>\n      <td>1</td>\n      <td>2</td>\n      <td>28/08/2005</td>\n      <td>1125180000</td>\n    </tr>\n    <tr>\n      <th>...</th>\n      <td>...</td>\n      <td>...</td>\n      <td>...</td>\n      <td>...</td>\n      <td>...</td>\n      <td>...</td>\n      <td>...</td>\n      <td>...</td>\n      <td>...</td>\n      <td>...</td>\n    </tr>\n    <tr>\n      <th>4935</th>\n      <td>36680</td>\n      <td>2017-18</td>\n      <td>1</td>\n      <td>38</td>\n      <td>Villarreal</td>\n      <td>Real Madrid</td>\n      <td>2</td>\n      <td>2</td>\n      <td>19/05/2018</td>\n      <td>1526680800</td>\n    </tr>\n    <tr>\n      <th>4936</th>\n      <td>36681</td>\n      <td>2017-18</td>\n      <td>1</td>\n      <td>38</td>\n      <td>Atletico de Bilbao</td>\n      <td>Espanol</td>\n      <td>0</td>\n      <td>1</td>\n      <td>20/05/2018</td>\n      <td>1526767200</td>\n    </tr>\n    <tr>\n      <th>4937</th>\n      <td>36682</td>\n      <td>2017-18</td>\n      <td>1</td>\n      <td>38</td>\n      <td>Barcelona</td>\n      <td>Real Sociedad</td>\n      <td>1</td>\n      <td>0</td>\n      <td>20/05/2018</td>\n      <td>1526767200</td>\n    </tr>\n    <tr>\n      <th>4938</th>\n      <td>36683</td>\n      <td>2017-18</td>\n      <td>1</td>\n      <td>38</td>\n      <td>Valencia</td>\n      <td>Deportivo</td>\n      <td>2</td>\n      <td>1</td>\n      <td>20/05/2018</td>\n      <td>1526767200</td>\n    </tr>\n    <tr>\n      <th>4939</th>\n      <td>36684</td>\n      <td>2017-18</td>\n      <td>1</td>\n      <td>38</td>\n      <td>Atletico de Madrid</td>\n      <td>Eibar</td>\n      <td>2</td>\n      <td>2</td>\n      <td>20/05/2018</td>\n      <td>1526767200</td>\n    </tr>\n  </tbody>\n</table>\n<p>4940 rows × 10 columns</p>\n</div>"
     },
     "metadata": {},
     "execution_count": 12
    }
   ],
   "source": [
    "# Diferencia entre pd.DataFrame y read_csv: Tenemos que leer primero el read_csv para leerlo, esto devuelve como data frame\n",
    "\n",
    "df = pd.read_csv(\"laliga.csv\")\n",
    "df"
   ]
  },
  {
   "cell_type": "markdown",
   "metadata": {},
   "source": [
    "## Ejercicio 3\n",
    "Obtén por pantalla los 4 primero registros"
   ]
  },
  {
   "cell_type": "code",
   "execution_count": 13,
   "metadata": {},
   "outputs": [
    {
     "output_type": "execute_result",
     "data": {
      "text/plain": [
       "   Unnamed: 0   season  division  round           localTeam    visitorTeam  \\\n",
       "0       26201  2005-06         1      1  Atletico de Bilbao  Real Sociedad   \n",
       "1       26202  2005-06         1      1              Alaves      Barcelona   \n",
       "2       26203  2005-06         1      1            Valencia          Betis   \n",
       "3       26204  2005-06         1      1  Atletico de Madrid       Zaragoza   \n",
       "\n",
       "   localGoals  visitorGoals        date   timestamp  \n",
       "0           3             0  27/08/2005  1125093600  \n",
       "1           0             0  27/08/2005  1125093600  \n",
       "2           1             0  27/08/2005  1125093600  \n",
       "3           0             0  28/08/2005  1125180000  "
      ],
      "text/html": "<div>\n<style scoped>\n    .dataframe tbody tr th:only-of-type {\n        vertical-align: middle;\n    }\n\n    .dataframe tbody tr th {\n        vertical-align: top;\n    }\n\n    .dataframe thead th {\n        text-align: right;\n    }\n</style>\n<table border=\"1\" class=\"dataframe\">\n  <thead>\n    <tr style=\"text-align: right;\">\n      <th></th>\n      <th>Unnamed: 0</th>\n      <th>season</th>\n      <th>division</th>\n      <th>round</th>\n      <th>localTeam</th>\n      <th>visitorTeam</th>\n      <th>localGoals</th>\n      <th>visitorGoals</th>\n      <th>date</th>\n      <th>timestamp</th>\n    </tr>\n  </thead>\n  <tbody>\n    <tr>\n      <th>0</th>\n      <td>26201</td>\n      <td>2005-06</td>\n      <td>1</td>\n      <td>1</td>\n      <td>Atletico de Bilbao</td>\n      <td>Real Sociedad</td>\n      <td>3</td>\n      <td>0</td>\n      <td>27/08/2005</td>\n      <td>1125093600</td>\n    </tr>\n    <tr>\n      <th>1</th>\n      <td>26202</td>\n      <td>2005-06</td>\n      <td>1</td>\n      <td>1</td>\n      <td>Alaves</td>\n      <td>Barcelona</td>\n      <td>0</td>\n      <td>0</td>\n      <td>27/08/2005</td>\n      <td>1125093600</td>\n    </tr>\n    <tr>\n      <th>2</th>\n      <td>26203</td>\n      <td>2005-06</td>\n      <td>1</td>\n      <td>1</td>\n      <td>Valencia</td>\n      <td>Betis</td>\n      <td>1</td>\n      <td>0</td>\n      <td>27/08/2005</td>\n      <td>1125093600</td>\n    </tr>\n    <tr>\n      <th>3</th>\n      <td>26204</td>\n      <td>2005-06</td>\n      <td>1</td>\n      <td>1</td>\n      <td>Atletico de Madrid</td>\n      <td>Zaragoza</td>\n      <td>0</td>\n      <td>0</td>\n      <td>28/08/2005</td>\n      <td>1125180000</td>\n    </tr>\n  </tbody>\n</table>\n</div>"
     },
     "metadata": {},
     "execution_count": 13
    }
   ],
   "source": [
    "df[:4]"
   ]
  },
  {
   "cell_type": "markdown",
   "metadata": {},
   "source": [
    "## Ejercicio 4\n",
    "Obtén en un array de `numpy` todos los valores del DataFrame"
   ]
  },
  {
   "cell_type": "code",
   "execution_count": 14,
   "metadata": {},
   "outputs": [
    {
     "output_type": "execute_result",
     "data": {
      "text/plain": [
       "array([[[26201, '2005-06', 1, ..., 0, '27/08/2005', 1125093600],\n",
       "        [26202, '2005-06', 1, ..., 0, '27/08/2005', 1125093600],\n",
       "        [26203, '2005-06', 1, ..., 0, '27/08/2005', 1125093600],\n",
       "        ...,\n",
       "        [36682, '2017-18', 1, ..., 0, '20/05/2018', 1526767200],\n",
       "        [36683, '2017-18', 1, ..., 1, '20/05/2018', 1526767200],\n",
       "        [36684, '2017-18', 1, ..., 2, '20/05/2018', 1526767200]]],\n",
       "      dtype=object)"
      ]
     },
     "metadata": {},
     "execution_count": 14
    }
   ],
   "source": [
    "array = np.array([pd.DataFrame(df)])\n",
    "array"
   ]
  },
  {
   "cell_type": "code",
   "execution_count": 16,
   "metadata": {},
   "outputs": [
    {
     "output_type": "execute_result",
     "data": {
      "text/plain": [
       "array([[26201, '2005-06', 1, ..., 0, '27/08/2005', 1125093600],\n",
       "       [26202, '2005-06', 1, ..., 0, '27/08/2005', 1125093600],\n",
       "       [26203, '2005-06', 1, ..., 0, '27/08/2005', 1125093600],\n",
       "       ...,\n",
       "       [36682, '2017-18', 1, ..., 0, '20/05/2018', 1526767200],\n",
       "       [36683, '2017-18', 1, ..., 1, '20/05/2018', 1526767200],\n",
       "       [36684, '2017-18', 1, ..., 2, '20/05/2018', 1526767200]],\n",
       "      dtype=object)"
      ]
     },
     "metadata": {},
     "execution_count": 16
    }
   ],
   "source": [
    "df.values"
   ]
  },
  {
   "cell_type": "markdown",
   "metadata": {},
   "source": [
    "## Ejercicio 5\n",
    "¿Cuáles son las columnas de `df`?"
   ]
  },
  {
   "cell_type": "code",
   "execution_count": 18,
   "metadata": {},
   "outputs": [
    {
     "output_type": "execute_result",
     "data": {
      "text/plain": [
       "Unnamed: 0       int64\n",
       "season          object\n",
       "division         int64\n",
       "round            int64\n",
       "localTeam       object\n",
       "visitorTeam     object\n",
       "localGoals       int64\n",
       "visitorGoals     int64\n",
       "date            object\n",
       "timestamp        int64\n",
       "dtype: object"
      ]
     },
     "metadata": {},
     "execution_count": 18
    }
   ],
   "source": [
    "df.dtypes"
   ]
  },
  {
   "cell_type": "markdown",
   "metadata": {},
   "source": [
    "## Ejercicio 6\n",
    "Crea un `Series` con la [población de Madrid, Galicia, Murcia y Andalucía](https://es.wikipedia.org/wiki/Anexo:Comunidades_y_ciudades_aut%C3%B3nomas_de_Espa%C3%B1a). Llamalo `poblacion`.\n",
    "\n",
    "- Madrid: 6685471\n",
    "- Galicia: 2698764\n",
    "- Murcia: 1494442\n",
    "- Andalucía: 8446561\n"
   ]
  },
  {
   "cell_type": "code",
   "execution_count": 21,
   "metadata": {},
   "outputs": [
    {
     "output_type": "stream",
     "name": "stdout",
     "text": [
      "Madrid       6685471\nGalicia      2698764\nMurcia       1494442\nAndalucia    8446561\ndtype: int64\n"
     ]
    }
   ],
   "source": [
    "poblacion = pd.Series([6685471, 2698764, 1494442, 8446561],\n",
    "                 index=['Madrid', 'Galicia', 'Murcia', 'Andalucia'])\n",
    "print(poblacion)"
   ]
  },
  {
   "cell_type": "markdown",
   "metadata": {},
   "source": [
    "## Ejercicio 7\n",
    "Obtén un array de `numpy` con los valores del `Series`.\n",
    "\n",
    "Saca también sus índices, y los valores de sus índices."
   ]
  },
  {
   "cell_type": "code",
   "execution_count": 22,
   "metadata": {},
   "outputs": [
    {
     "output_type": "execute_result",
     "data": {
      "text/plain": [
       "array([6685471, 2698764, 1494442, 8446561], dtype=int64)"
      ]
     },
     "metadata": {},
     "execution_count": 22
    }
   ],
   "source": [
    "poblacion.values "
   ]
  },
  {
   "cell_type": "code",
   "execution_count": 23,
   "metadata": {},
   "outputs": [
    {
     "output_type": "execute_result",
     "data": {
      "text/plain": [
       "Index(['Madrid', 'Galicia', 'Murcia', 'Andalucia'], dtype='object')"
      ]
     },
     "metadata": {},
     "execution_count": 23
    }
   ],
   "source": [
    "poblacion.index"
   ]
  },
  {
   "cell_type": "markdown",
   "metadata": {},
   "source": [
    "## Ejercicio 8\n",
    "1. ¿Qué población hay en el primer elemento del `Series`?\n",
    "2. ¿Qué población hay en Galicia?\n",
    "3. Imprime por pantalla las poblaciones de Galicia, Andalucía y las comunidades autónomas que se encuentren entre ambas, dentro del `Series`.\n",
    "4. Comprueba con un output booleano que `Galicia` se encuentra entre los índices del `Index`.\n",
    "5. Realiza los apartados 1,2,3 pero esta vez de una manera diferente."
   ]
  },
  {
   "cell_type": "code",
   "execution_count": 25,
   "metadata": {},
   "outputs": [
    {
     "output_type": "execute_result",
     "data": {
      "text/plain": [
       "6685471"
      ]
     },
     "metadata": {},
     "execution_count": 25
    }
   ],
   "source": [
    "#1\n",
    "poblacion[0]"
   ]
  },
  {
   "cell_type": "code",
   "execution_count": 26,
   "metadata": {},
   "outputs": [
    {
     "output_type": "execute_result",
     "data": {
      "text/plain": [
       "2698764"
      ]
     },
     "metadata": {},
     "execution_count": 26
    }
   ],
   "source": [
    "#2\n",
    "poblacion[\"Galicia\"]"
   ]
  },
  {
   "cell_type": "code",
   "execution_count": 30,
   "metadata": {},
   "outputs": [
    {
     "output_type": "stream",
     "name": "stdout",
     "text": [
      "[2698764 1494442 8446561]\n"
     ]
    }
   ],
   "source": [
    "#3\n",
    "print(poblacion.values[1:])"
   ]
  },
  {
   "cell_type": "code",
   "execution_count": 31,
   "metadata": {},
   "outputs": [
    {
     "output_type": "execute_result",
     "data": {
      "text/plain": [
       "True"
      ]
     },
     "metadata": {},
     "execution_count": 31
    }
   ],
   "source": [
    "\"Galicia\" in poblacion.index"
   ]
  },
  {
   "cell_type": "code",
   "execution_count": 41,
   "metadata": {},
   "outputs": [
    {
     "output_type": "stream",
     "name": "stdout",
     "text": [
      "Poblacion madrid: 6685471\nPoblacion galicia: 2698764\n[2698764 1494442 8446561]\n"
     ]
    }
   ],
   "source": [
    "print(\"Poblacion madrid:\", poblacion[\"Madrid\"])\n",
    "print(\"Poblacion galicia:\", poblacion[1])\n",
    "print(poblacion['Galicia':'Andalucia'].values)"
   ]
  },
  {
   "cell_type": "markdown",
   "metadata": {},
   "source": [
    "## Ejercicio 9\n",
    "A partir de las comunidades autónomas anteriores, crea un `Series` con [la tasa de paro](https://es.statista.com/estadisticas/941646/prevision-de-la-tasa-de-paro-por-comunidad-autonoma-espana/) en dichas comunidades autónomas.\n",
    "\n",
    "Con la tasa de paro y las poblaciones, crea un DataFrame de pandas. Llámalo `data`.\n",
    "\n",
    "- Madrid: 9.99\n",
    "- Galicia: 11.74\n",
    "- Murcia: 16.08\n",
    "- Andalucía: 20.8"
   ]
  },
  {
   "cell_type": "code",
   "execution_count": 44,
   "metadata": {},
   "outputs": [
    {
     "output_type": "stream",
     "name": "stdout",
     "text": [
      "Madrid        9.99\nGalicia      11.74\nMurcia       16.08\nAndalucia    20.80\ndtype: float64\n"
     ]
    }
   ],
   "source": [
    "paro = pd.Series([9.99, 11.74, 16.08, 20.8],\n",
    "                 index=['Madrid', 'Galicia', 'Murcia', 'Andalucia'])\n",
    "print(paro)"
   ]
  },
  {
   "cell_type": "code",
   "execution_count": 54,
   "metadata": {},
   "outputs": [
    {
     "output_type": "execute_result",
     "data": {
      "text/plain": [
       "           Poblacion   Paro\n",
       "Madrid       6685471   9.99\n",
       "Galicia      2698764  11.74\n",
       "Murcia       1494442  16.08\n",
       "Andalucia    8446561  20.80"
      ],
      "text/html": "<div>\n<style scoped>\n    .dataframe tbody tr th:only-of-type {\n        vertical-align: middle;\n    }\n\n    .dataframe tbody tr th {\n        vertical-align: top;\n    }\n\n    .dataframe thead th {\n        text-align: right;\n    }\n</style>\n<table border=\"1\" class=\"dataframe\">\n  <thead>\n    <tr style=\"text-align: right;\">\n      <th></th>\n      <th>Poblacion</th>\n      <th>Paro</th>\n    </tr>\n  </thead>\n  <tbody>\n    <tr>\n      <th>Madrid</th>\n      <td>6685471</td>\n      <td>9.99</td>\n    </tr>\n    <tr>\n      <th>Galicia</th>\n      <td>2698764</td>\n      <td>11.74</td>\n    </tr>\n    <tr>\n      <th>Murcia</th>\n      <td>1494442</td>\n      <td>16.08</td>\n    </tr>\n    <tr>\n      <th>Andalucia</th>\n      <td>8446561</td>\n      <td>20.80</td>\n    </tr>\n  </tbody>\n</table>\n</div>"
     },
     "metadata": {},
     "execution_count": 54
    }
   ],
   "source": [
    "data = pd.DataFrame({'Poblacion': poblacion, 'Paro': paro})\n",
    "data"
   ]
  },
  {
   "cell_type": "markdown",
   "metadata": {},
   "source": [
    "## Ejercicio 10\n",
    "Imprime por pantalla la población, y la tasa de paro. Por separado"
   ]
  },
  {
   "cell_type": "code",
   "execution_count": 47,
   "metadata": {},
   "outputs": [
    {
     "output_type": "execute_result",
     "data": {
      "text/plain": [
       "Madrid       6685471\n",
       "Galicia      2698764\n",
       "Murcia       1494442\n",
       "Andalucia    8446561\n",
       "Name: Poblacion, dtype: int64"
      ]
     },
     "metadata": {},
     "execution_count": 47
    }
   ],
   "source": [
    "data['Poblacion']"
   ]
  },
  {
   "cell_type": "code",
   "execution_count": 48,
   "metadata": {},
   "outputs": [
    {
     "output_type": "execute_result",
     "data": {
      "text/plain": [
       "Madrid        9.99\n",
       "Galicia      11.74\n",
       "Murcia       16.08\n",
       "Andalucia    20.80\n",
       "Name: Paro, dtype: float64"
      ]
     },
     "metadata": {},
     "execution_count": 48
    }
   ],
   "source": [
    "data['Paro']"
   ]
  },
  {
   "cell_type": "markdown",
   "metadata": {},
   "source": [
    "## Ejercicio 11\n",
    "Crea un nuevo Data Frame (`data2`), que sea igual que `data`, pero con una nueva columna, que lleve [la superficie de las Comunidades Autónomas](https://es.wikipedia.org/wiki/Anexo:Comunidades_y_ciudades_aut%C3%B3nomas_de_Espa%C3%B1a).\n",
    "\n",
    "- Madrid: 8028\n",
    "- Galicia: 29575\n",
    "- Murcia: 11314\n",
    "- Andalucía: 87599"
   ]
  },
  {
   "cell_type": "code",
   "execution_count": 53,
   "metadata": {},
   "outputs": [],
   "source": [
    "#Añadiendo la columna al mismo DataFrame\n",
    "superficie = [8028, 29575, 11314, 87599]\n",
    "data[\"Superficie\"] = superficie"
   ]
  },
  {
   "cell_type": "code",
   "execution_count": 50,
   "metadata": {},
   "outputs": [
    {
     "output_type": "execute_result",
     "data": {
      "text/plain": [
       "           Poblacion   Paro  Superficie\n",
       "Madrid       6685471   9.99        8028\n",
       "Galicia      2698764  11.74       29575\n",
       "Murcia       1494442  16.08       11314\n",
       "Andalucia    8446561  20.80       87599"
      ],
      "text/html": "<div>\n<style scoped>\n    .dataframe tbody tr th:only-of-type {\n        vertical-align: middle;\n    }\n\n    .dataframe tbody tr th {\n        vertical-align: top;\n    }\n\n    .dataframe thead th {\n        text-align: right;\n    }\n</style>\n<table border=\"1\" class=\"dataframe\">\n  <thead>\n    <tr style=\"text-align: right;\">\n      <th></th>\n      <th>Poblacion</th>\n      <th>Paro</th>\n      <th>Superficie</th>\n    </tr>\n  </thead>\n  <tbody>\n    <tr>\n      <th>Madrid</th>\n      <td>6685471</td>\n      <td>9.99</td>\n      <td>8028</td>\n    </tr>\n    <tr>\n      <th>Galicia</th>\n      <td>2698764</td>\n      <td>11.74</td>\n      <td>29575</td>\n    </tr>\n    <tr>\n      <th>Murcia</th>\n      <td>1494442</td>\n      <td>16.08</td>\n      <td>11314</td>\n    </tr>\n    <tr>\n      <th>Andalucia</th>\n      <td>8446561</td>\n      <td>20.80</td>\n      <td>87599</td>\n    </tr>\n  </tbody>\n</table>\n</div>"
     },
     "metadata": {},
     "execution_count": 50
    }
   ],
   "source": [
    "data"
   ]
  },
  {
   "cell_type": "code",
   "execution_count": 55,
   "metadata": {},
   "outputs": [],
   "source": [
    "#Haciendo un nuevo DataFrame\n",
    "superficie = pd.Series([8028, 29575, 11314, 87599],\n",
    "                 index=['Madrid', 'Galicia', 'Murcia', 'Andalucia'])"
   ]
  },
  {
   "cell_type": "code",
   "execution_count": 73,
   "metadata": {},
   "outputs": [
    {
     "output_type": "execute_result",
     "data": {
      "text/plain": [
       "           Poblacion   Paro    Superficie\n",
       "Madrid       6685471   9.99    832.769183\n",
       "Galicia      2698764  11.74     91.251530\n",
       "Murcia       1494442  16.08  11314.000000\n",
       "Andalucia    8446561  20.80     96.423030"
      ],
      "text/html": "<div>\n<style scoped>\n    .dataframe tbody tr th:only-of-type {\n        vertical-align: middle;\n    }\n\n    .dataframe tbody tr th {\n        vertical-align: top;\n    }\n\n    .dataframe thead th {\n        text-align: right;\n    }\n</style>\n<table border=\"1\" class=\"dataframe\">\n  <thead>\n    <tr style=\"text-align: right;\">\n      <th></th>\n      <th>Poblacion</th>\n      <th>Paro</th>\n      <th>Superficie</th>\n    </tr>\n  </thead>\n  <tbody>\n    <tr>\n      <th>Madrid</th>\n      <td>6685471</td>\n      <td>9.99</td>\n      <td>832.769183</td>\n    </tr>\n    <tr>\n      <th>Galicia</th>\n      <td>2698764</td>\n      <td>11.74</td>\n      <td>91.251530</td>\n    </tr>\n    <tr>\n      <th>Murcia</th>\n      <td>1494442</td>\n      <td>16.08</td>\n      <td>11314.000000</td>\n    </tr>\n    <tr>\n      <th>Andalucia</th>\n      <td>8446561</td>\n      <td>20.80</td>\n      <td>96.423030</td>\n    </tr>\n  </tbody>\n</table>\n</div>"
     },
     "metadata": {},
     "execution_count": 73
    }
   ],
   "source": [
    "data2 = pd.DataFrame({'Poblacion': poblacion, 'Paro': paro, 'Superficie': superficie})\n",
    "data2"
   ]
  },
  {
   "cell_type": "markdown",
   "metadata": {},
   "source": [
    "## Ejercicio 12\n",
    "Calcula la densidad de población (hab/km^2) en una nueva columna del dataframe `data2` que se llame `Densidad`."
   ]
  },
  {
   "cell_type": "code",
   "execution_count": 75,
   "metadata": {},
   "outputs": [
    {
     "output_type": "execute_result",
     "data": {
      "text/plain": [
       "           Poblacion   Paro    Superficie      Densidad\n",
       "Madrid       6685471   9.99    832.769183   8028.000000\n",
       "Galicia      2698764  11.74     91.251530  29575.000000\n",
       "Murcia       1494442  16.08  11314.000000    132.087856\n",
       "Andalucia    8446561  20.80     96.423030  87599.000000"
      ],
      "text/html": "<div>\n<style scoped>\n    .dataframe tbody tr th:only-of-type {\n        vertical-align: middle;\n    }\n\n    .dataframe tbody tr th {\n        vertical-align: top;\n    }\n\n    .dataframe thead th {\n        text-align: right;\n    }\n</style>\n<table border=\"1\" class=\"dataframe\">\n  <thead>\n    <tr style=\"text-align: right;\">\n      <th></th>\n      <th>Poblacion</th>\n      <th>Paro</th>\n      <th>Superficie</th>\n      <th>Densidad</th>\n    </tr>\n  </thead>\n  <tbody>\n    <tr>\n      <th>Madrid</th>\n      <td>6685471</td>\n      <td>9.99</td>\n      <td>832.769183</td>\n      <td>8028.000000</td>\n    </tr>\n    <tr>\n      <th>Galicia</th>\n      <td>2698764</td>\n      <td>11.74</td>\n      <td>91.251530</td>\n      <td>29575.000000</td>\n    </tr>\n    <tr>\n      <th>Murcia</th>\n      <td>1494442</td>\n      <td>16.08</td>\n      <td>11314.000000</td>\n      <td>132.087856</td>\n    </tr>\n    <tr>\n      <th>Andalucia</th>\n      <td>8446561</td>\n      <td>20.80</td>\n      <td>96.423030</td>\n      <td>87599.000000</td>\n    </tr>\n  </tbody>\n</table>\n</div>"
     },
     "metadata": {},
     "execution_count": 75
    }
   ],
   "source": [
    "# Resultado: \n",
    "data2[\"Densidad\"] = data2[\"Poblacion\"]/data2[\"Superficie\"]\n",
    "data2"
   ]
  },
  {
   "cell_type": "code",
   "execution_count": 76,
   "metadata": {},
   "outputs": [
    {
     "output_type": "execute_result",
     "data": {
      "text/plain": [
       "Madrid        8028.000000\n",
       "Galicia      29575.000000\n",
       "Murcia         132.087856\n",
       "Andalucia    87599.000000\n",
       "dtype: float64"
      ]
     },
     "metadata": {},
     "execution_count": 76
    }
   ],
   "source": [
    "# Creando una nueva serie\n",
    "densidad= pd.Series([poblacion[0]/superficie[0], poblacion[1]/superficie[1], poblacion[2]/superficie[2], poblacion[-1]/superficie[-1]],\n",
    "                 index=['Madrid', 'Galicia', 'Murcia', 'Andalucia'])\n",
    "densidad"
   ]
  },
  {
   "cell_type": "code",
   "execution_count": null,
   "metadata": {},
   "outputs": [],
   "source": [
    "\n"
   ]
  },
  {
   "cell_type": "code",
   "execution_count": 77,
   "metadata": {},
   "outputs": [
    {
     "output_type": "execute_result",
     "data": {
      "text/plain": [
       "           Poblacion   Paro    Superficie      Densidad\n",
       "Madrid       6685471   9.99    832.769183   8028.000000\n",
       "Galicia      2698764  11.74     91.251530  29575.000000\n",
       "Murcia       1494442  16.08  11314.000000    132.087856\n",
       "Andalucia    8446561  20.80     96.423030  87599.000000"
      ],
      "text/html": "<div>\n<style scoped>\n    .dataframe tbody tr th:only-of-type {\n        vertical-align: middle;\n    }\n\n    .dataframe tbody tr th {\n        vertical-align: top;\n    }\n\n    .dataframe thead th {\n        text-align: right;\n    }\n</style>\n<table border=\"1\" class=\"dataframe\">\n  <thead>\n    <tr style=\"text-align: right;\">\n      <th></th>\n      <th>Poblacion</th>\n      <th>Paro</th>\n      <th>Superficie</th>\n      <th>Densidad</th>\n    </tr>\n  </thead>\n  <tbody>\n    <tr>\n      <th>Madrid</th>\n      <td>6685471</td>\n      <td>9.99</td>\n      <td>832.769183</td>\n      <td>8028.000000</td>\n    </tr>\n    <tr>\n      <th>Galicia</th>\n      <td>2698764</td>\n      <td>11.74</td>\n      <td>91.251530</td>\n      <td>29575.000000</td>\n    </tr>\n    <tr>\n      <th>Murcia</th>\n      <td>1494442</td>\n      <td>16.08</td>\n      <td>11314.000000</td>\n      <td>132.087856</td>\n    </tr>\n    <tr>\n      <th>Andalucia</th>\n      <td>8446561</td>\n      <td>20.80</td>\n      <td>96.423030</td>\n      <td>87599.000000</td>\n    </tr>\n  </tbody>\n</table>\n</div>"
     },
     "metadata": {},
     "execution_count": 77
    }
   ],
   "source": [
    "data2['Densidad'] = densidad\n",
    "data2"
   ]
  },
  {
   "cell_type": "code",
   "execution_count": null,
   "metadata": {},
   "outputs": [],
   "source": []
  }
 ],
 "metadata": {
  "kernelspec": {
   "name": "python374jvsc74a57bd0fc2c00f0e2c44cb4028bd693f18a1b5d93d1de4cd12db71fca36ff691a163044",
   "display_name": "Python 3.7.4 64-bit"
  },
  "language_info": {
   "codemirror_mode": {
    "name": "ipython",
    "version": 3
   },
   "file_extension": ".py",
   "mimetype": "text/x-python",
   "name": "python",
   "nbconvert_exporter": "python",
   "pygments_lexer": "ipython3",
   "version": "3.7.4"
  },
  "metadata": {
   "interpreter": {
    "hash": "fc2c00f0e2c44cb4028bd693f18a1b5d93d1de4cd12db71fca36ff691a163044"
   }
  }
 },
 "nbformat": 4,
 "nbformat_minor": 4
}