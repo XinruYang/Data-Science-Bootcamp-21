{
 "metadata": {
  "language_info": {
   "codemirror_mode": {
    "name": "ipython",
    "version": 3
   },
   "file_extension": ".py",
   "mimetype": "text/x-python",
   "name": "python",
   "nbconvert_exporter": "python",
   "pygments_lexer": "ipython3",
   "version": "3.7.4"
  },
  "orig_nbformat": 2,
  "kernelspec": {
   "name": "python374jvsc74a57bd0fc2c00f0e2c44cb4028bd693f18a1b5d93d1de4cd12db71fca36ff691a163044",
   "display_name": "Python 3.7.4 64-bit"
  },
  "metadata": {
   "interpreter": {
    "hash": "fc2c00f0e2c44cb4028bd693f18a1b5d93d1de4cd12db71fca36ff691a163044"
   }
  }
 },
 "nbformat": 4,
 "nbformat_minor": 2,
 "cells": [
  {
   "source": [
    "# EDA PROJECT\n"
   ],
   "cell_type": "markdown",
   "metadata": {}
  },
  {
   "source": [
    "TODO documentation"
   ],
   "cell_type": "markdown",
   "metadata": {}
  },
  {
   "cell_type": "code",
   "execution_count": 1,
   "metadata": {},
   "outputs": [],
   "source": [
    "# Import necessary libraries\n",
    "import os, sys"
   ]
  },
  {
   "cell_type": "code",
   "execution_count": 2,
   "metadata": {},
   "outputs": [],
   "source": [
    "# Access to the path of the folder\n",
    "path = os.path.dirname(os.getcwd())\n",
    "sys.path.append(path)"
   ]
  },
  {
   "source": [
    "## Data Mining and Data Wrangling"
   ],
   "cell_type": "markdown",
   "metadata": {}
  },
  {
   "cell_type": "code",
   "execution_count": 3,
   "metadata": {},
   "outputs": [],
   "source": [
    "# Import .py file with the cleaned df\n",
    "from utils_.mining_data_tb import *"
   ]
  },
  {
   "cell_type": "code",
   "execution_count": 4,
   "metadata": {},
   "outputs": [
    {
     "output_type": "stream",
     "name": "stdout",
     "text": [
      "<class 'pandas.core.frame.DataFrame'>\nRangeIndex: 61950 entries, 0 to 61949\nData columns (total 15 columns):\n #   Column                      Non-Null Count  Dtype         \n---  ------                      --------------  -----         \n 0   date                        61950 non-null  datetime64[ns]\n 1   continent                   61950 non-null  object        \n 2   country                     61950 non-null  object        \n 3   median_age                  61950 non-null  float64       \n 4   aged_65_older               61950 non-null  float64       \n 5   aged_70_older               61950 non-null  float64       \n 6   total_cases                 61950 non-null  float64       \n 7   total_deaths                61950 non-null  float64       \n 8   hospital_beds_per_thousand  61950 non-null  float64       \n 9   gdp_per_capita              61950 non-null  float64       \n 10  HDI                         61950 non-null  float64       \n 11  deaths_ratio                61950 non-null  float64       \n 12  non_risky_age               61950 non-null  float64       \n 13  risky_age                   61950 non-null  float64       \n 14  Poverty %                   61950 non-null  float64       \ndtypes: datetime64[ns](1), float64(12), object(2)\nmemory usage: 7.1+ MB\n"
     ]
    }
   ],
   "source": [
    "# Show the information of each column (Non-Null, dtype, shape)\n",
    "covid_data.info()"
   ]
  },
  {
   "cell_type": "code",
   "execution_count": 5,
   "metadata": {},
   "outputs": [
    {
     "output_type": "display_data",
     "data": {
      "text/plain": "<IPython.lib.display.IFrame at 0x1ff3eea3688>",
      "text/html": "\n        <iframe\n            width=\"100%\"\n            height=\"475\"\n            src=\"http://DESKTOP-UJPC5BH:40000/dtale/iframe/1\"\n            frameborder=\"0\"\n            allowfullscreen\n        ></iframe>\n        "
     },
     "metadata": {}
    },
    {
     "output_type": "execute_result",
     "data": {
      "text/plain": []
     },
     "metadata": {},
     "execution_count": 5
    }
   ],
   "source": [
    "# Show the cleaned data\n",
    "dtale.show(covid_data)"
   ]
  },
  {
   "cell_type": "code",
   "execution_count": 6,
   "metadata": {},
   "outputs": [],
   "source": [
    "# Import functions of read, create and write\n",
    "from utils_.folders_tb import *"
   ]
  },
  {
   "cell_type": "code",
   "execution_count": 7,
   "metadata": {},
   "outputs": [],
   "source": [
    "# Store csv with the cleaned data\n",
    "create_csv(covid_data,'../data/cleaned.csv')\n",
    "create_csv(covid_data, '../src/api/static/cleaned.csv')"
   ]
  },
  {
   "cell_type": "code",
   "execution_count": 8,
   "metadata": {},
   "outputs": [],
   "source": [
    "# Import functions to create subdf\n",
    "from utils_.create_df import *"
   ]
  },
  {
   "cell_type": "code",
   "execution_count": 9,
   "metadata": {},
   "outputs": [],
   "source": [
    "# Gruop df by \"country\" --> Assign it to \"covid_groupby\"\n",
    "covid_groupby = groupby_country(covid_data, \"country\")"
   ]
  },
  {
   "cell_type": "code",
   "execution_count": 10,
   "metadata": {},
   "outputs": [
    {
     "output_type": "display_data",
     "data": {
      "text/plain": "<IPython.lib.display.IFrame at 0x1ff402f6748>",
      "text/html": "\n        <iframe\n            width=\"100%\"\n            height=\"475\"\n            src=\"http://DESKTOP-UJPC5BH:40000/dtale/iframe/2\"\n            frameborder=\"0\"\n            allowfullscreen\n        ></iframe>\n        "
     },
     "metadata": {}
    },
    {
     "output_type": "execute_result",
     "data": {
      "text/plain": []
     },
     "metadata": {},
     "execution_count": 10
    }
   ],
   "source": [
    "# Show df grouped\n",
    "dtale.show(covid_groupby)"
   ]
  },
  {
   "source": [
    "### DATAFRAME SORTED BY GDP\n",
    "\n"
   ],
   "cell_type": "markdown",
   "metadata": {}
  },
  {
   "cell_type": "code",
   "execution_count": 12,
   "metadata": {},
   "outputs": [],
   "source": [
    "# Creating df for each continent\n",
    "africa = cases_continent(covid_groupby, \"continent\", \"Africa\")\n",
    "asia = cases_continent(covid_groupby, \"continent\", \"Asia\")\n",
    "europe = cases_continent(covid_groupby, \"continent\", \"Europe\")\n",
    "north_america = cases_continent(covid_groupby, \"continent\", \"North America\")\n",
    "oceania = cases_continent(covid_groupby, \"continent\", \"Oceania\")\n",
    "south_america = cases_continent(covid_groupby, \"continent\", \"South America\")"
   ]
  },
  {
   "cell_type": "code",
   "execution_count": 13,
   "metadata": {},
   "outputs": [],
   "source": [
    "# Take first and  last 5 values of each country\n",
    "s_gdp_africa = sort_value(africa, \"gdp_per_capita\")\n",
    "s_gdp_asia = sort_value(asia, \"gdp_per_capita\")\n",
    "s_gdp_europe = sort_value(europe, \"gdp_per_capita\")\n",
    "s_gdp_north_america = sort_value(north_america, \"gdp_per_capita\")\n",
    "s_gdp_south_america = sort_value(south_america, \"gdp_per_capita\")\n",
    "s_gdp_oceania = sort_value(oceania, \"gdp_per_capita\")"
   ]
  },
  {
   "cell_type": "code",
   "execution_count": 15,
   "metadata": {},
   "outputs": [],
   "source": [
    "# Join DataFrame of each country in a df of world\n",
    "s_gdp_world = concatenate_df(s_gdp_africa, s_gdp_asia, s_gdp_europe, s_gdp_north_america, s_gdp_south_america, s_gdp_oceania, \"gdp_per_capita\")"
   ]
  },
  {
   "cell_type": "code",
   "execution_count": 17,
   "metadata": {},
   "outputs": [
    {
     "output_type": "display_data",
     "data": {
      "text/plain": "<IPython.lib.display.IFrame at 0x1ff3f1e4fc8>",
      "text/html": "\n        <iframe\n            width=\"100%\"\n            height=\"475\"\n            src=\"http://DESKTOP-UJPC5BH:40000/dtale/iframe/3\"\n            frameborder=\"0\"\n            allowfullscreen\n        ></iframe>\n        "
     },
     "metadata": {}
    },
    {
     "output_type": "execute_result",
     "data": {
      "text/plain": []
     },
     "metadata": {},
     "execution_count": 17
    }
   ],
   "source": [
    "dtale.show(s_gdp_world)"
   ]
  },
  {
   "source": [
    "### DATAFRAME SORTED BY HDI RANK"
   ],
   "cell_type": "markdown",
   "metadata": {}
  },
  {
   "cell_type": "code",
   "execution_count": 18,
   "metadata": {},
   "outputs": [],
   "source": [
    "s_hdi_africa = sort_value(africa, \"HDI\")\n",
    "s_hdi_asia = sort_value(asia, \"HDI\")\n",
    "s_hdi_europe = sort_value(europe, \"HDI\")\n",
    "s_hdi_north_america = sort_value(north_america, \"HDI\")\n",
    "s_hdi_south_america = sort_value(south_america, \"HDI\")\n",
    "s_hdi_oceania = sort_value(oceania, \"HDI\")"
   ]
  },
  {
   "cell_type": "code",
   "execution_count": null,
   "metadata": {},
   "outputs": [],
   "source": [
    "s_gdp_world = concatenate_df(s_hdi_africa, s_hdi_asia, s_hdi_europe, s_hdi_north_america, s_hdi_south_america, s_hdi_oceania, \"HDI\")"
   ]
  }
 ]
}