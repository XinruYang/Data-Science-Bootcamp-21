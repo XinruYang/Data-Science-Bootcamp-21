{
 "cells": [
  {
   "cell_type": "markdown",
   "metadata": {},
   "source": [
    "## DATA AUGMENTATION"
   ]
  },
  {
   "cell_type": "code",
   "execution_count": 1,
   "metadata": {},
   "outputs": [],
   "source": [
    "import numpy as np\r\n",
    "import pandas as pd\r\n",
    "import cv2 as cv\r\n",
    "\r\n",
    "from matplotlib.image import imread\r\n",
    "import matplotlib.pyplot as plt\r\n",
    "\r\n",
    "import os\r\n",
    "from os import listdir\r\n",
    "from os.path import isfile, join"
   ]
  },
  {
   "cell_type": "markdown",
   "metadata": {},
   "source": [
    "## Image to Array"
   ]
  },
  {
   "cell_type": "code",
   "execution_count": 8,
   "metadata": {},
   "outputs": [],
   "source": [
    "def image_to_array(folder, df, dictionary):\r\n",
    "\r\n",
    "    data_path = (os.path.dirname(os.getcwd()) + os.sep + \"data\" + os.sep + \"train\" + os.sep + folder + os.sep )\r\n",
    "\r\n",
    "    only_image_names = [f for f in listdir(data_path) if isfile(join(data_path, f))]\r\n",
    "\r\n",
    "    for image_name in only_image_names:\r\n",
    "\r\n",
    "        image_fullpath = data_path + image_name\r\n",
    "        image_cv = cv.imread(image_fullpath) # Si ponemos 0 lo lee en blanco y negro, si no ponemos nada lo lee a color \r\n",
    "        image_cv = cv.resize(image_cv, (180, 180)) # Tengo que tener siempre la misma resolución para las imágenes\r\n",
    "        #print(image_cv.shape)\r\n",
    "        if \"jpg\" in image_name:\r\n",
    "            df.append({\"Image\":image_cv, \"Label\": folder, \"Fullpath\":image_fullpath })\r\n",
    "            dictionary[image_fullpath] = folder"
   ]
  },
  {
   "cell_type": "code",
   "execution_count": 2,
   "metadata": {},
   "outputs": [],
   "source": [
    "def img_array():\r\n",
    "\r\n",
    "    data_path = (os.path.dirname(os.getcwd()) + os.sep + \"data\" + os.sep + \"train\" + os.sep + \"ModerateDemented\" + os.sep )\r\n",
    "\r\n",
    "    only_image_names = [f for f in listdir(data_path) if isfile(join(data_path, f))]\r\n",
    "\r\n",
    "    moderate_demented = {}\r\n",
    "\r\n",
    "    df_dict = []\r\n",
    "\r\n",
    "    for image_name in only_image_names:\r\n",
    "\r\n",
    "            image_fullpath = data_path + image_name\r\n",
    "            image_cv = cv.imread(image_fullpath, 0) # Si ponemos 0 lo lee en blanco y negro, si no ponemos nada lo lee a color \r\n",
    "            image_cv = cv.resize(image_cv, (180, 180)) # Tengo que tener siempre la misma resolución para las imágenes\r\n",
    "            #print(image_cv.shape)\r\n",
    "            if \"jpg\" in image_name:\r\n",
    "                df_dict.append({\"Image\":image_cv, \"Label\":3, \"Fullpath\":image_fullpath })\r\n",
    "                moderate_demented[image_fullpath] = 3\r\n",
    "    return df_dict "
   ]
  },
  {
   "cell_type": "code",
   "execution_count": 9,
   "metadata": {},
   "outputs": [],
   "source": [
    "def img_array(n, folder):\r\n",
    "\r\n",
    "    data_path = (os.path.dirname(os.getcwd()) + os.sep + \"data\" + os.sep + \"train\" + os.sep + folder + os.sep )\r\n",
    "\r\n",
    "    only_image_names = [f for f in listdir(data_path) if isfile(join(data_path, f))]\r\n",
    "\r\n",
    "    dictionary = {}\r\n",
    "\r\n",
    "    df_dict = []\r\n",
    "\r\n",
    "    for image_name in only_image_names:\r\n",
    "\r\n",
    "            image_fullpath = data_path + image_name\r\n",
    "            image_cv = cv.imread(image_fullpath) # Si ponemos 0 lo lee en blanco y negro, si no ponemos nada lo lee a color \r\n",
    "            image_cv = cv.resize(image_cv, (180, 180)) # Tengo que tener siempre la misma resolución para las imágenes\r\n",
    "            #print(image_cv.shape)\r\n",
    "            if \"jpg\" in image_name:\r\n",
    "                df_dict.append({\"Image\":image_cv, \"Label\":n, \"Fullpath\":image_fullpath, \"Folder\": folder, \"Size\": \"180x180\" })\r\n",
    "                dictionary[image_fullpath] = n\r\n",
    "    return pd.DataFrame(df_dict) "
   ]
  },
  {
   "cell_type": "code",
   "execution_count": 11,
   "metadata": {},
   "outputs": [],
   "source": [
    "mild = img_array(2, \"MildDemented\").head()\r\n",
    "moderate = img_array(3, \"ModerateDemented\").head()"
   ]
  },
  {
   "cell_type": "code",
   "execution_count": 14,
   "metadata": {},
   "outputs": [],
   "source": [
    "def concat(df1, df2): \r\n",
    "    df = pd.concat([df1, df2])\r\n",
    "    return df"
   ]
  },
  {
   "cell_type": "code",
   "execution_count": 20,
   "metadata": {},
   "outputs": [
    {
     "data": {
      "text/html": [
       "<div>\n",
       "<style scoped>\n",
       "    .dataframe tbody tr th:only-of-type {\n",
       "        vertical-align: middle;\n",
       "    }\n",
       "\n",
       "    .dataframe tbody tr th {\n",
       "        vertical-align: top;\n",
       "    }\n",
       "\n",
       "    .dataframe thead th {\n",
       "        text-align: right;\n",
       "    }\n",
       "</style>\n",
       "<table border=\"1\" class=\"dataframe\">\n",
       "  <thead>\n",
       "    <tr style=\"text-align: right;\">\n",
       "      <th></th>\n",
       "      <th>Image</th>\n",
       "      <th>Label</th>\n",
       "      <th>Fullpath</th>\n",
       "      <th>Folder</th>\n",
       "      <th>Size</th>\n",
       "    </tr>\n",
       "  </thead>\n",
       "  <tbody>\n",
       "    <tr>\n",
       "      <th>0</th>\n",
       "      <td>[[[0, 0, 0], [0, 0, 0], [0, 0, 0], [0, 0, 0], ...</td>\n",
       "      <td>2</td>\n",
       "      <td>c:\\Users\\xyang\\OneDrive\\Escritorio\\ARCHIVOS\\TH...</td>\n",
       "      <td>MildDemented</td>\n",
       "      <td>180x180</td>\n",
       "    </tr>\n",
       "    <tr>\n",
       "      <th>1</th>\n",
       "      <td>[[[0, 0, 0], [0, 0, 0], [0, 0, 0], [0, 0, 0], ...</td>\n",
       "      <td>2</td>\n",
       "      <td>c:\\Users\\xyang\\OneDrive\\Escritorio\\ARCHIVOS\\TH...</td>\n",
       "      <td>MildDemented</td>\n",
       "      <td>180x180</td>\n",
       "    </tr>\n",
       "    <tr>\n",
       "      <th>2</th>\n",
       "      <td>[[[0, 0, 0], [0, 0, 0], [0, 0, 0], [0, 0, 0], ...</td>\n",
       "      <td>2</td>\n",
       "      <td>c:\\Users\\xyang\\OneDrive\\Escritorio\\ARCHIVOS\\TH...</td>\n",
       "      <td>MildDemented</td>\n",
       "      <td>180x180</td>\n",
       "    </tr>\n",
       "    <tr>\n",
       "      <th>3</th>\n",
       "      <td>[[[0, 0, 0], [0, 0, 0], [0, 0, 0], [0, 0, 0], ...</td>\n",
       "      <td>2</td>\n",
       "      <td>c:\\Users\\xyang\\OneDrive\\Escritorio\\ARCHIVOS\\TH...</td>\n",
       "      <td>MildDemented</td>\n",
       "      <td>180x180</td>\n",
       "    </tr>\n",
       "    <tr>\n",
       "      <th>4</th>\n",
       "      <td>[[[0, 0, 0], [0, 0, 0], [0, 0, 0], [0, 0, 0], ...</td>\n",
       "      <td>2</td>\n",
       "      <td>c:\\Users\\xyang\\OneDrive\\Escritorio\\ARCHIVOS\\TH...</td>\n",
       "      <td>MildDemented</td>\n",
       "      <td>180x180</td>\n",
       "    </tr>\n",
       "  </tbody>\n",
       "</table>\n",
       "</div>"
      ],
      "text/plain": [
       "                                               Image  Label  \\\n",
       "0  [[[0, 0, 0], [0, 0, 0], [0, 0, 0], [0, 0, 0], ...      2   \n",
       "1  [[[0, 0, 0], [0, 0, 0], [0, 0, 0], [0, 0, 0], ...      2   \n",
       "2  [[[0, 0, 0], [0, 0, 0], [0, 0, 0], [0, 0, 0], ...      2   \n",
       "3  [[[0, 0, 0], [0, 0, 0], [0, 0, 0], [0, 0, 0], ...      2   \n",
       "4  [[[0, 0, 0], [0, 0, 0], [0, 0, 0], [0, 0, 0], ...      2   \n",
       "\n",
       "                                            Fullpath        Folder     Size  \n",
       "0  c:\\Users\\xyang\\OneDrive\\Escritorio\\ARCHIVOS\\TH...  MildDemented  180x180  \n",
       "1  c:\\Users\\xyang\\OneDrive\\Escritorio\\ARCHIVOS\\TH...  MildDemented  180x180  \n",
       "2  c:\\Users\\xyang\\OneDrive\\Escritorio\\ARCHIVOS\\TH...  MildDemented  180x180  \n",
       "3  c:\\Users\\xyang\\OneDrive\\Escritorio\\ARCHIVOS\\TH...  MildDemented  180x180  \n",
       "4  c:\\Users\\xyang\\OneDrive\\Escritorio\\ARCHIVOS\\TH...  MildDemented  180x180  "
      ]
     },
     "execution_count": 20,
     "metadata": {},
     "output_type": "execute_result"
    }
   ],
   "source": [
    "concat(mild, moderate). head()"
   ]
  },
  {
   "cell_type": "code",
   "execution_count": 21,
   "metadata": {},
   "outputs": [
    {
     "data": {
      "text/html": [
       "<div>\n",
       "<style scoped>\n",
       "    .dataframe tbody tr th:only-of-type {\n",
       "        vertical-align: middle;\n",
       "    }\n",
       "\n",
       "    .dataframe tbody tr th {\n",
       "        vertical-align: top;\n",
       "    }\n",
       "\n",
       "    .dataframe thead th {\n",
       "        text-align: right;\n",
       "    }\n",
       "</style>\n",
       "<table border=\"1\" class=\"dataframe\">\n",
       "  <thead>\n",
       "    <tr style=\"text-align: right;\">\n",
       "      <th></th>\n",
       "      <th>Image</th>\n",
       "      <th>Label</th>\n",
       "      <th>Fullpath</th>\n",
       "      <th>Folder</th>\n",
       "      <th>Size</th>\n",
       "    </tr>\n",
       "  </thead>\n",
       "  <tbody>\n",
       "    <tr>\n",
       "      <th>0</th>\n",
       "      <td>[[[0, 0, 0], [0, 0, 0], [0, 0, 0], [0, 0, 0], ...</td>\n",
       "      <td>3</td>\n",
       "      <td>c:\\Users\\xyang\\OneDrive\\Escritorio\\ARCHIVOS\\TH...</td>\n",
       "      <td>ModerateDemented</td>\n",
       "      <td>180x180</td>\n",
       "    </tr>\n",
       "    <tr>\n",
       "      <th>1</th>\n",
       "      <td>[[[0, 0, 0], [0, 0, 0], [0, 0, 0], [0, 0, 0], ...</td>\n",
       "      <td>3</td>\n",
       "      <td>c:\\Users\\xyang\\OneDrive\\Escritorio\\ARCHIVOS\\TH...</td>\n",
       "      <td>ModerateDemented</td>\n",
       "      <td>180x180</td>\n",
       "    </tr>\n",
       "    <tr>\n",
       "      <th>2</th>\n",
       "      <td>[[[0, 0, 0], [0, 0, 0], [0, 0, 0], [0, 0, 0], ...</td>\n",
       "      <td>3</td>\n",
       "      <td>c:\\Users\\xyang\\OneDrive\\Escritorio\\ARCHIVOS\\TH...</td>\n",
       "      <td>ModerateDemented</td>\n",
       "      <td>180x180</td>\n",
       "    </tr>\n",
       "    <tr>\n",
       "      <th>3</th>\n",
       "      <td>[[[0, 0, 0], [0, 0, 0], [0, 0, 0], [0, 0, 0], ...</td>\n",
       "      <td>3</td>\n",
       "      <td>c:\\Users\\xyang\\OneDrive\\Escritorio\\ARCHIVOS\\TH...</td>\n",
       "      <td>ModerateDemented</td>\n",
       "      <td>180x180</td>\n",
       "    </tr>\n",
       "    <tr>\n",
       "      <th>4</th>\n",
       "      <td>[[[0, 0, 0], [0, 0, 0], [0, 0, 0], [0, 0, 0], ...</td>\n",
       "      <td>3</td>\n",
       "      <td>c:\\Users\\xyang\\OneDrive\\Escritorio\\ARCHIVOS\\TH...</td>\n",
       "      <td>ModerateDemented</td>\n",
       "      <td>180x180</td>\n",
       "    </tr>\n",
       "  </tbody>\n",
       "</table>\n",
       "</div>"
      ],
      "text/plain": [
       "                                               Image  Label  \\\n",
       "0  [[[0, 0, 0], [0, 0, 0], [0, 0, 0], [0, 0, 0], ...      3   \n",
       "1  [[[0, 0, 0], [0, 0, 0], [0, 0, 0], [0, 0, 0], ...      3   \n",
       "2  [[[0, 0, 0], [0, 0, 0], [0, 0, 0], [0, 0, 0], ...      3   \n",
       "3  [[[0, 0, 0], [0, 0, 0], [0, 0, 0], [0, 0, 0], ...      3   \n",
       "4  [[[0, 0, 0], [0, 0, 0], [0, 0, 0], [0, 0, 0], ...      3   \n",
       "\n",
       "                                            Fullpath            Folder  \\\n",
       "0  c:\\Users\\xyang\\OneDrive\\Escritorio\\ARCHIVOS\\TH...  ModerateDemented   \n",
       "1  c:\\Users\\xyang\\OneDrive\\Escritorio\\ARCHIVOS\\TH...  ModerateDemented   \n",
       "2  c:\\Users\\xyang\\OneDrive\\Escritorio\\ARCHIVOS\\TH...  ModerateDemented   \n",
       "3  c:\\Users\\xyang\\OneDrive\\Escritorio\\ARCHIVOS\\TH...  ModerateDemented   \n",
       "4  c:\\Users\\xyang\\OneDrive\\Escritorio\\ARCHIVOS\\TH...  ModerateDemented   \n",
       "\n",
       "      Size  \n",
       "0  180x180  \n",
       "1  180x180  \n",
       "2  180x180  \n",
       "3  180x180  \n",
       "4  180x180  "
      ]
     },
     "execution_count": 21,
     "metadata": {},
     "output_type": "execute_result"
    }
   ],
   "source": [
    "concat(mild, moderate).tail()"
   ]
  },
  {
   "cell_type": "code",
   "execution_count": null,
   "metadata": {},
   "outputs": [],
   "source": [
    "def read_folder(): \r\n",
    "\r\n",
    "    batch_size = 32 # Entrena de 32 en 32\r\n",
    "    img_height = 180\r\n",
    "    img_width = 180\r\n",
    "\r\n",
    "    data_dir = os.path.dirname(os.getcwd()) + os.sep + \"data\" + os.sep + \"train\"\r\n",
    "    train_ds = tf.keras.preprocessing.image_dataset_from_directory(\r\n",
    "    data_dir,\r\n",
    "    validation_split=0.2,\r\n",
    "    subset=\"training\", \r\n",
    "    seed=235,\r\n",
    "    image_size=(img_height, img_width),\r\n",
    "    batch_size=batch_size)\r\n",
    "\r\n",
    "    val_ds = tf.keras.preprocessing.image_dataset_from_directory(\r\n",
    "    data_dir,\r\n",
    "    validation_split=0.2,\r\n",
    "    subset=\"validation\", \r\n",
    "    seed=235,\r\n",
    "    image_size=(img_height, img_width),\r\n",
    "    batch_size=batch_size)"
   ]
  },
  {
   "cell_type": "code",
   "execution_count": 24,
   "metadata": {},
   "outputs": [],
   "source": [
    "# Import the necessary libraries\r\n",
    "import tensorflow as tf\r\n",
    "from tensorflow.keras.preprocessing import image\r\n",
    "from tensorflow.keras import datasets, layers, models\r\n",
    "import matplotlib.pyplot as plt\r\n",
    "import numpy as np\r\n",
    "from skimage.io import imread\r\n",
    "import cv2\r\n",
    "from tensorflow import keras\r\n",
    "from tensorflow.keras.applications.resnet_v2 import ResNet50V2, decode_predictions, preprocess_input\r\n",
    "\r\n",
    "import numpy as np\r\n",
    "import os, sys\r\n",
    "import PIL\r\n",
    "import PIL.Image"
   ]
  },
  {
   "cell_type": "code",
   "execution_count": 22,
   "metadata": {},
   "outputs": [],
   "source": [
    "def read_folder(subset):  # subset: \"training\" / \"validation\"\r\n",
    "    \r\n",
    "    batch_size = 32 \r\n",
    "    img_height = 180\r\n",
    "    img_width = 180\r\n",
    "\r\n",
    "    data_dir = os.path.dirname(os.getcwd()) + os.sep + \"data\" + os.sep + \"train\"\r\n",
    "    ds = tf.keras.preprocessing.image_dataset_from_directory(\r\n",
    "    data_dir,\r\n",
    "    validation_split=0.2,\r\n",
    "    subset=subset, \r\n",
    "    seed=235,\r\n",
    "    image_size=(img_height, img_width),\r\n",
    "    batch_size=batch_size)\r\n",
    "\r\n",
    "    return ds"
   ]
  },
  {
   "cell_type": "code",
   "execution_count": 25,
   "metadata": {},
   "outputs": [
    {
     "name": "stdout",
     "output_type": "stream",
     "text": [
      "Found 5120 files belonging to 4 classes.\n",
      "Using 4096 files for training.\n"
     ]
    },
    {
     "data": {
      "text/plain": [
       "<BatchDataset shapes: ((None, 180, 180, 3), (None,)), types: (tf.float32, tf.int32)>"
      ]
     },
     "execution_count": 25,
     "metadata": {},
     "output_type": "execute_result"
    }
   ],
   "source": [
    "read_folder(\"training\")"
   ]
  },
  {
   "cell_type": "code",
   "execution_count": 26,
   "metadata": {},
   "outputs": [
    {
     "name": "stdout",
     "output_type": "stream",
     "text": [
      "Found 5120 files belonging to 4 classes.\n",
      "Using 1024 files for validation.\n"
     ]
    },
    {
     "data": {
      "text/plain": [
       "<BatchDataset shapes: ((None, 180, 180, 3), (None,)), types: (tf.float32, tf.int32)>"
      ]
     },
     "execution_count": 26,
     "metadata": {},
     "output_type": "execute_result"
    }
   ],
   "source": [
    "read_folder(\"validation\")"
   ]
  },
  {
   "cell_type": "code",
   "execution_count": 28,
   "metadata": {},
   "outputs": [],
   "source": [
    "from keras.preprocessing.image import ImageDataGenerator\r\n",
    "\r\n",
    "def data_generator():\r\n",
    "    datagen  = ImageDataGenerator(\r\n",
    "            rotation_range=180,\r\n",
    "            width_shift_range=0.5,\r\n",
    "            height_shift_range=0.5,\r\n",
    "            shear_range=0.8,\r\n",
    "            zoom_range=0.8,\r\n",
    "            horizontal_flip=True,\r\n",
    "            fill_mode='nearest',\r\n",
    "            brightness_range=[0.2,2.0])\r\n",
    "\r\n",
    "    i = 0\r\n",
    "    for batch in datagen.flow(X_train, batch_size=1,\r\n",
    "                                    save_to_dir= os.path.dirname(os.getcwd()) + os.sep + \"data\" + os.sep + \"train\"  , save_format='jpg'):\r\n",
    "        i += 1\r\n",
    "        if i > 5:\r\n",
    "            break"
   ]
  },
  {
   "cell_type": "code",
   "execution_count": null,
   "metadata": {},
   "outputs": [],
   "source": []
  }
 ],
 "metadata": {
  "interpreter": {
   "hash": "fc2c00f0e2c44cb4028bd693f18a1b5d93d1de4cd12db71fca36ff691a163044"
  },
  "kernelspec": {
   "display_name": "Python 3.7.4 64-bit",
   "name": "python3"
  },
  "language_info": {
   "name": "python",
   "version": ""
  },
  "orig_nbformat": 4
 },
 "nbformat": 4,
 "nbformat_minor": 2
}