{
 "cells": [
  {
   "cell_type": "markdown",
   "metadata": {},
   "source": [
    "# 04 - Grouping"
   ]
  },
  {
   "cell_type": "markdown",
   "metadata": {},
   "source": [
    "### Step 1. Import the necessary libraries"
   ]
  },
  {
   "cell_type": "code",
   "execution_count": 2,
   "metadata": {},
   "outputs": [],
   "source": [
    "import pandas as pd\n",
    "import requests"
   ]
  },
  {
   "cell_type": "markdown",
   "metadata": {},
   "source": [
    "### Step 2. Import the dataset from this [address](https://raw.githubusercontent.com/justmarkham/DAT8/master/data/u.user). "
   ]
  },
  {
   "cell_type": "code",
   "execution_count": 3,
   "metadata": {},
   "outputs": [
    {
     "output_type": "execute_result",
     "data": {
      "text/plain": [
       "<Response [200]>"
      ]
     },
     "metadata": {},
     "execution_count": 3
    }
   ],
   "source": [
    "requests.get(\"https://raw.githubusercontent.com/justmarkham/DAT8/master/data/u.user\")"
   ]
  },
  {
   "cell_type": "markdown",
   "metadata": {},
   "source": [
    "### Step 3. Assign it to a variable called users."
   ]
  },
  {
   "cell_type": "code",
   "execution_count": 4,
   "metadata": {},
   "outputs": [
    {
     "output_type": "execute_result",
     "data": {
      "text/plain": [
       "         age gender     occupation zip_code\n",
       "user_id                                    \n",
       "1         24      M     technician    85711\n",
       "2         53      F          other    94043\n",
       "3         23      M         writer    32067\n",
       "4         24      M     technician    43537\n",
       "5         33      F          other    15213\n",
       "...      ...    ...            ...      ...\n",
       "939       26      F        student    33319\n",
       "940       32      M  administrator    02215\n",
       "941       20      M        student    97229\n",
       "942       48      F      librarian    78209\n",
       "943       22      M        student    77841\n",
       "\n",
       "[943 rows x 4 columns]"
      ],
      "text/html": "<div>\n<style scoped>\n    .dataframe tbody tr th:only-of-type {\n        vertical-align: middle;\n    }\n\n    .dataframe tbody tr th {\n        vertical-align: top;\n    }\n\n    .dataframe thead th {\n        text-align: right;\n    }\n</style>\n<table border=\"1\" class=\"dataframe\">\n  <thead>\n    <tr style=\"text-align: right;\">\n      <th></th>\n      <th>age</th>\n      <th>gender</th>\n      <th>occupation</th>\n      <th>zip_code</th>\n    </tr>\n    <tr>\n      <th>user_id</th>\n      <th></th>\n      <th></th>\n      <th></th>\n      <th></th>\n    </tr>\n  </thead>\n  <tbody>\n    <tr>\n      <th>1</th>\n      <td>24</td>\n      <td>M</td>\n      <td>technician</td>\n      <td>85711</td>\n    </tr>\n    <tr>\n      <th>2</th>\n      <td>53</td>\n      <td>F</td>\n      <td>other</td>\n      <td>94043</td>\n    </tr>\n    <tr>\n      <th>3</th>\n      <td>23</td>\n      <td>M</td>\n      <td>writer</td>\n      <td>32067</td>\n    </tr>\n    <tr>\n      <th>4</th>\n      <td>24</td>\n      <td>M</td>\n      <td>technician</td>\n      <td>43537</td>\n    </tr>\n    <tr>\n      <th>5</th>\n      <td>33</td>\n      <td>F</td>\n      <td>other</td>\n      <td>15213</td>\n    </tr>\n    <tr>\n      <th>...</th>\n      <td>...</td>\n      <td>...</td>\n      <td>...</td>\n      <td>...</td>\n    </tr>\n    <tr>\n      <th>939</th>\n      <td>26</td>\n      <td>F</td>\n      <td>student</td>\n      <td>33319</td>\n    </tr>\n    <tr>\n      <th>940</th>\n      <td>32</td>\n      <td>M</td>\n      <td>administrator</td>\n      <td>02215</td>\n    </tr>\n    <tr>\n      <th>941</th>\n      <td>20</td>\n      <td>M</td>\n      <td>student</td>\n      <td>97229</td>\n    </tr>\n    <tr>\n      <th>942</th>\n      <td>48</td>\n      <td>F</td>\n      <td>librarian</td>\n      <td>78209</td>\n    </tr>\n    <tr>\n      <th>943</th>\n      <td>22</td>\n      <td>M</td>\n      <td>student</td>\n      <td>77841</td>\n    </tr>\n  </tbody>\n</table>\n<p>943 rows × 4 columns</p>\n</div>"
     },
     "metadata": {},
     "execution_count": 4
    }
   ],
   "source": [
    "users = pd.read_table('https://raw.githubusercontent.com/justmarkham/DAT8/master/data/u.user', \n",
    "                      sep='|', index_col='user_id')\n",
    "users"
   ]
  },
  {
   "cell_type": "markdown",
   "metadata": {},
   "source": [
    "### Step 4. Discover what is the mean age per occupation"
   ]
  },
  {
   "cell_type": "code",
   "execution_count": 5,
   "metadata": {},
   "outputs": [
    {
     "output_type": "execute_result",
     "data": {
      "text/plain": [
       "occupation\n",
       "administrator    38.746835\n",
       "artist           31.392857\n",
       "doctor           43.571429\n",
       "educator         42.010526\n",
       "engineer         36.388060\n",
       "entertainment    29.222222\n",
       "executive        38.718750\n",
       "healthcare       41.562500\n",
       "homemaker        32.571429\n",
       "lawyer           36.750000\n",
       "librarian        40.000000\n",
       "marketing        37.615385\n",
       "none             26.555556\n",
       "other            34.523810\n",
       "programmer       33.121212\n",
       "retired          63.071429\n",
       "salesman         35.666667\n",
       "scientist        35.548387\n",
       "student          22.081633\n",
       "technician       33.148148\n",
       "writer           36.311111\n",
       "Name: age, dtype: float64"
      ]
     },
     "metadata": {},
     "execution_count": 5
    }
   ],
   "source": [
    "users.groupby(\"occupation\")[\"age\"].mean()"
   ]
  },
  {
   "cell_type": "markdown",
   "metadata": {},
   "source": [
    "### Step 5. Discover the Male ratio per occupation and sort it from the most to the least"
   ]
  },
  {
   "cell_type": "code",
   "execution_count": 8,
   "metadata": {},
   "outputs": [
    {
     "output_type": "execute_result",
     "data": {
      "text/plain": [
       "occupation     gender\n",
       "administrator  F          36\n",
       "               M          43\n",
       "artist         F          13\n",
       "               M          15\n",
       "doctor         M           7\n",
       "educator       F          26\n",
       "               M          69\n",
       "engineer       F           2\n",
       "               M          65\n",
       "entertainment  F           2\n",
       "               M          16\n",
       "executive      F           3\n",
       "               M          29\n",
       "healthcare     F          11\n",
       "               M           5\n",
       "homemaker      F           6\n",
       "               M           1\n",
       "lawyer         F           2\n",
       "               M          10\n",
       "librarian      F          29\n",
       "               M          22\n",
       "marketing      F          10\n",
       "               M          16\n",
       "none           F           4\n",
       "               M           5\n",
       "other          F          36\n",
       "               M          69\n",
       "programmer     F           6\n",
       "               M          60\n",
       "retired        F           1\n",
       "               M          13\n",
       "salesman       F           3\n",
       "               M           9\n",
       "scientist      F           3\n",
       "               M          28\n",
       "student        F          60\n",
       "               M         136\n",
       "technician     F           1\n",
       "               M          26\n",
       "writer         F          19\n",
       "               M          26\n",
       "Name: gender, dtype: int64"
      ]
     },
     "metadata": {},
     "execution_count": 8
    }
   ],
   "source": [
    "x = users.groupby(['occupation','gender'])['gender'].count()\n",
    "x"
   ]
  },
  {
   "cell_type": "code",
   "execution_count": 9,
   "metadata": {},
   "outputs": [
    {
     "output_type": "stream",
     "name": "stdout",
     "text": [
      "occupation     gender\nadministrator  F          45.57\n               M          54.43\nartist         F          46.43\n               M          53.57\ndoctor         M         100.00\neducator       F          27.37\n               M          72.63\nengineer       F           2.99\n               M          97.01\nentertainment  F          11.11\n               M          88.89\nexecutive      F           9.38\n               M          90.62\nhealthcare     F          68.75\n               M          31.25\nhomemaker      F          85.71\n               M          14.29\nlawyer         F          16.67\n               M          83.33\nlibrarian      F          56.86\n               M          43.14\nmarketing      F          38.46\n               M          61.54\nnone           F          44.44\n               M          55.56\nother          F          34.29\n               M          65.71\nprogrammer     F           9.09\n               M          90.91\nretired        F           7.14\n               M          92.86\nsalesman       F          25.00\n               M          75.00\nscientist      F           9.68\n               M          90.32\nstudent        F          30.61\n               M          69.39\ntechnician     F           3.70\n               M          96.30\nwriter         F          42.22\n               M          57.78\nName: gender, dtype: float64\n"
     ]
    }
   ],
   "source": [
    "y = users.groupby(['occupation'])['gender'].count()\n",
    "r = ((x/y)*100).round(2)\n",
    "print(r)"
   ]
  },
  {
   "cell_type": "code",
   "execution_count": 12,
   "metadata": {},
   "outputs": [
    {
     "output_type": "execute_result",
     "data": {
      "text/plain": [
       "occupation\n",
       "doctor           100.0\n",
       "engineer          97.0\n",
       "technician        96.3\n",
       "retired           92.9\n",
       "programmer        90.9\n",
       "executive         90.6\n",
       "scientist         90.3\n",
       "entertainment     88.9\n",
       "lawyer            83.3\n",
       "salesman          75.0\n",
       "educator          72.6\n",
       "student           69.4\n",
       "other             65.7\n",
       "marketing         61.5\n",
       "writer            57.8\n",
       "none              55.6\n",
       "administrator     54.4\n",
       "artist            53.6\n",
       "librarian         43.1\n",
       "healthcare        31.2\n",
       "homemaker         14.3\n",
       "Name: MaleRatio, dtype: float64"
      ]
     },
     "metadata": {},
     "execution_count": 12
    }
   ],
   "source": [
    "# create pivot\n",
    "male_ratio = users.pivot_table(index='occupation', columns='gender', aggfunc='size', fill_value=0)\n",
    "\n",
    "# calculate male ratio\n",
    "sums = male_ratio[['F', 'M']].sum(axis=1)\n",
    "male_ratio['MaleRatio'] = round(100 * male_ratio['M'] / sums , 1)\n",
    "male_ratio[\"MaleRatio\"].sort_values(ascending=False)"
   ]
  },
  {
   "cell_type": "code",
   "execution_count": 13,
   "metadata": {},
   "outputs": [
    {
     "output_type": "execute_result",
     "data": {
      "text/plain": [
       "gender          F    M\n",
       "occupation            \n",
       "administrator  36   43\n",
       "artist         13   15\n",
       "doctor          0    7\n",
       "educator       26   69\n",
       "engineer        2   65\n",
       "entertainment   2   16\n",
       "executive       3   29\n",
       "healthcare     11    5\n",
       "homemaker       6    1\n",
       "lawyer          2   10\n",
       "librarian      29   22\n",
       "marketing      10   16\n",
       "none            4    5\n",
       "other          36   69\n",
       "programmer      6   60\n",
       "retired         1   13\n",
       "salesman        3    9\n",
       "scientist       3   28\n",
       "student        60  136\n",
       "technician      1   26\n",
       "writer         19   26"
      ],
      "text/html": "<div>\n<style scoped>\n    .dataframe tbody tr th:only-of-type {\n        vertical-align: middle;\n    }\n\n    .dataframe tbody tr th {\n        vertical-align: top;\n    }\n\n    .dataframe thead th {\n        text-align: right;\n    }\n</style>\n<table border=\"1\" class=\"dataframe\">\n  <thead>\n    <tr style=\"text-align: right;\">\n      <th>gender</th>\n      <th>F</th>\n      <th>M</th>\n    </tr>\n    <tr>\n      <th>occupation</th>\n      <th></th>\n      <th></th>\n    </tr>\n  </thead>\n  <tbody>\n    <tr>\n      <th>administrator</th>\n      <td>36</td>\n      <td>43</td>\n    </tr>\n    <tr>\n      <th>artist</th>\n      <td>13</td>\n      <td>15</td>\n    </tr>\n    <tr>\n      <th>doctor</th>\n      <td>0</td>\n      <td>7</td>\n    </tr>\n    <tr>\n      <th>educator</th>\n      <td>26</td>\n      <td>69</td>\n    </tr>\n    <tr>\n      <th>engineer</th>\n      <td>2</td>\n      <td>65</td>\n    </tr>\n    <tr>\n      <th>entertainment</th>\n      <td>2</td>\n      <td>16</td>\n    </tr>\n    <tr>\n      <th>executive</th>\n      <td>3</td>\n      <td>29</td>\n    </tr>\n    <tr>\n      <th>healthcare</th>\n      <td>11</td>\n      <td>5</td>\n    </tr>\n    <tr>\n      <th>homemaker</th>\n      <td>6</td>\n      <td>1</td>\n    </tr>\n    <tr>\n      <th>lawyer</th>\n      <td>2</td>\n      <td>10</td>\n    </tr>\n    <tr>\n      <th>librarian</th>\n      <td>29</td>\n      <td>22</td>\n    </tr>\n    <tr>\n      <th>marketing</th>\n      <td>10</td>\n      <td>16</td>\n    </tr>\n    <tr>\n      <th>none</th>\n      <td>4</td>\n      <td>5</td>\n    </tr>\n    <tr>\n      <th>other</th>\n      <td>36</td>\n      <td>69</td>\n    </tr>\n    <tr>\n      <th>programmer</th>\n      <td>6</td>\n      <td>60</td>\n    </tr>\n    <tr>\n      <th>retired</th>\n      <td>1</td>\n      <td>13</td>\n    </tr>\n    <tr>\n      <th>salesman</th>\n      <td>3</td>\n      <td>9</td>\n    </tr>\n    <tr>\n      <th>scientist</th>\n      <td>3</td>\n      <td>28</td>\n    </tr>\n    <tr>\n      <th>student</th>\n      <td>60</td>\n      <td>136</td>\n    </tr>\n    <tr>\n      <th>technician</th>\n      <td>1</td>\n      <td>26</td>\n    </tr>\n    <tr>\n      <th>writer</th>\n      <td>19</td>\n      <td>26</td>\n    </tr>\n  </tbody>\n</table>\n</div>"
     },
     "metadata": {},
     "execution_count": 13
    }
   ],
   "source": [
    "male_ratio = users.pivot_table(index='occupation', columns='gender', aggfunc='size', fill_value=0)\n",
    "male_ratio"
   ]
  },
  {
   "cell_type": "code",
   "execution_count": 15,
   "metadata": {},
   "outputs": [
    {
     "output_type": "execute_result",
     "data": {
      "text/plain": [
       "occupation\n",
       "administrator     79\n",
       "artist            28\n",
       "doctor             7\n",
       "educator          95\n",
       "engineer          67\n",
       "entertainment     18\n",
       "executive         32\n",
       "healthcare        16\n",
       "homemaker          7\n",
       "lawyer            12\n",
       "librarian         51\n",
       "marketing         26\n",
       "none               9\n",
       "other            105\n",
       "programmer        66\n",
       "retired           14\n",
       "salesman          12\n",
       "scientist         31\n",
       "student          196\n",
       "technician        27\n",
       "writer            45\n",
       "dtype: int64"
      ]
     },
     "metadata": {},
     "execution_count": 15
    }
   ],
   "source": [
    "sums = male_ratio[['F', 'M']].sum(axis=1)\n",
    "sums"
   ]
  },
  {
   "cell_type": "code",
   "execution_count": null,
   "metadata": {},
   "outputs": [],
   "source": [
    "male_ratio['MaleRatio'] = round(100 * male_ratio['M'] / sums , 1)\n"
   ]
  },
  {
   "cell_type": "markdown",
   "metadata": {},
   "source": [
    "### Step 6. For each occupation, calculate the minimum and maximum ages"
   ]
  },
  {
   "cell_type": "code",
   "execution_count": 17,
   "metadata": {
    "jupyter": {
     "outputs_hidden": false
    }
   },
   "outputs": [
    {
     "output_type": "execute_result",
     "data": {
      "text/plain": [
       "               min  max\n",
       "occupation             \n",
       "administrator   21   70\n",
       "artist          19   48\n",
       "doctor          28   64\n",
       "educator        23   63\n",
       "engineer        22   70\n",
       "entertainment   15   50\n",
       "executive       22   69\n",
       "healthcare      22   62\n",
       "homemaker       20   50\n",
       "lawyer          21   53\n",
       "librarian       23   69\n",
       "marketing       24   55\n",
       "none            11   55\n",
       "other           13   64\n",
       "programmer      20   63\n",
       "retired         51   73\n",
       "salesman        18   66\n",
       "scientist       23   55\n",
       "student          7   42\n",
       "technician      21   55\n",
       "writer          18   60"
      ],
      "text/html": "<div>\n<style scoped>\n    .dataframe tbody tr th:only-of-type {\n        vertical-align: middle;\n    }\n\n    .dataframe tbody tr th {\n        vertical-align: top;\n    }\n\n    .dataframe thead th {\n        text-align: right;\n    }\n</style>\n<table border=\"1\" class=\"dataframe\">\n  <thead>\n    <tr style=\"text-align: right;\">\n      <th></th>\n      <th>min</th>\n      <th>max</th>\n    </tr>\n    <tr>\n      <th>occupation</th>\n      <th></th>\n      <th></th>\n    </tr>\n  </thead>\n  <tbody>\n    <tr>\n      <th>administrator</th>\n      <td>21</td>\n      <td>70</td>\n    </tr>\n    <tr>\n      <th>artist</th>\n      <td>19</td>\n      <td>48</td>\n    </tr>\n    <tr>\n      <th>doctor</th>\n      <td>28</td>\n      <td>64</td>\n    </tr>\n    <tr>\n      <th>educator</th>\n      <td>23</td>\n      <td>63</td>\n    </tr>\n    <tr>\n      <th>engineer</th>\n      <td>22</td>\n      <td>70</td>\n    </tr>\n    <tr>\n      <th>entertainment</th>\n      <td>15</td>\n      <td>50</td>\n    </tr>\n    <tr>\n      <th>executive</th>\n      <td>22</td>\n      <td>69</td>\n    </tr>\n    <tr>\n      <th>healthcare</th>\n      <td>22</td>\n      <td>62</td>\n    </tr>\n    <tr>\n      <th>homemaker</th>\n      <td>20</td>\n      <td>50</td>\n    </tr>\n    <tr>\n      <th>lawyer</th>\n      <td>21</td>\n      <td>53</td>\n    </tr>\n    <tr>\n      <th>librarian</th>\n      <td>23</td>\n      <td>69</td>\n    </tr>\n    <tr>\n      <th>marketing</th>\n      <td>24</td>\n      <td>55</td>\n    </tr>\n    <tr>\n      <th>none</th>\n      <td>11</td>\n      <td>55</td>\n    </tr>\n    <tr>\n      <th>other</th>\n      <td>13</td>\n      <td>64</td>\n    </tr>\n    <tr>\n      <th>programmer</th>\n      <td>20</td>\n      <td>63</td>\n    </tr>\n    <tr>\n      <th>retired</th>\n      <td>51</td>\n      <td>73</td>\n    </tr>\n    <tr>\n      <th>salesman</th>\n      <td>18</td>\n      <td>66</td>\n    </tr>\n    <tr>\n      <th>scientist</th>\n      <td>23</td>\n      <td>55</td>\n    </tr>\n    <tr>\n      <th>student</th>\n      <td>7</td>\n      <td>42</td>\n    </tr>\n    <tr>\n      <th>technician</th>\n      <td>21</td>\n      <td>55</td>\n    </tr>\n    <tr>\n      <th>writer</th>\n      <td>18</td>\n      <td>60</td>\n    </tr>\n  </tbody>\n</table>\n</div>"
     },
     "metadata": {},
     "execution_count": 17
    }
   ],
   "source": [
    "users.groupby(\"occupation\")[\"age\"].agg([\"min\",\"max\"])"
   ]
  },
  {
   "cell_type": "markdown",
   "metadata": {},
   "source": [
    "### Step 7. For each combination of occupation and gender, calculate the mean age"
   ]
  },
  {
   "cell_type": "code",
   "execution_count": 18,
   "metadata": {},
   "outputs": [
    {
     "output_type": "execute_result",
     "data": {
      "text/plain": [
       "                      min  max\n",
       "occupation    gender          \n",
       "administrator F        22   62\n",
       "              M        21   70\n",
       "artist        F        19   48\n",
       "              M        20   45\n",
       "doctor        M        28   64\n",
       "educator      F        23   51\n",
       "              M        25   63\n",
       "engineer      F        23   36\n",
       "              M        22   70\n",
       "entertainment F        24   38\n",
       "              M        15   50\n",
       "executive     F        39   49\n",
       "              M        22   69\n",
       "healthcare    F        22   53\n",
       "              M        28   62\n",
       "homemaker     F        20   50\n",
       "              M        23   23\n",
       "lawyer        F        28   51\n",
       "              M        21   53\n",
       "librarian     F        26   59\n",
       "              M        23   69\n",
       "marketing     F        24   50\n",
       "              M        24   55\n",
       "none          F        26   55\n",
       "              M        11   33\n",
       "other         F        18   55\n",
       "              M        13   64\n",
       "programmer    F        26   38\n",
       "              M        20   63\n",
       "retired       F        70   70\n",
       "              M        51   73\n",
       "salesman      F        18   33\n",
       "              M        21   66\n",
       "scientist     F        26   31\n",
       "              M        23   55\n",
       "student       F        13   38\n",
       "              M         7   42\n",
       "technician    F        38   38\n",
       "              M        21   55\n",
       "writer        F        18   56\n",
       "              M        21   60"
      ],
      "text/html": "<div>\n<style scoped>\n    .dataframe tbody tr th:only-of-type {\n        vertical-align: middle;\n    }\n\n    .dataframe tbody tr th {\n        vertical-align: top;\n    }\n\n    .dataframe thead th {\n        text-align: right;\n    }\n</style>\n<table border=\"1\" class=\"dataframe\">\n  <thead>\n    <tr style=\"text-align: right;\">\n      <th></th>\n      <th></th>\n      <th>min</th>\n      <th>max</th>\n    </tr>\n    <tr>\n      <th>occupation</th>\n      <th>gender</th>\n      <th></th>\n      <th></th>\n    </tr>\n  </thead>\n  <tbody>\n    <tr>\n      <th rowspan=\"2\" valign=\"top\">administrator</th>\n      <th>F</th>\n      <td>22</td>\n      <td>62</td>\n    </tr>\n    <tr>\n      <th>M</th>\n      <td>21</td>\n      <td>70</td>\n    </tr>\n    <tr>\n      <th rowspan=\"2\" valign=\"top\">artist</th>\n      <th>F</th>\n      <td>19</td>\n      <td>48</td>\n    </tr>\n    <tr>\n      <th>M</th>\n      <td>20</td>\n      <td>45</td>\n    </tr>\n    <tr>\n      <th>doctor</th>\n      <th>M</th>\n      <td>28</td>\n      <td>64</td>\n    </tr>\n    <tr>\n      <th rowspan=\"2\" valign=\"top\">educator</th>\n      <th>F</th>\n      <td>23</td>\n      <td>51</td>\n    </tr>\n    <tr>\n      <th>M</th>\n      <td>25</td>\n      <td>63</td>\n    </tr>\n    <tr>\n      <th rowspan=\"2\" valign=\"top\">engineer</th>\n      <th>F</th>\n      <td>23</td>\n      <td>36</td>\n    </tr>\n    <tr>\n      <th>M</th>\n      <td>22</td>\n      <td>70</td>\n    </tr>\n    <tr>\n      <th rowspan=\"2\" valign=\"top\">entertainment</th>\n      <th>F</th>\n      <td>24</td>\n      <td>38</td>\n    </tr>\n    <tr>\n      <th>M</th>\n      <td>15</td>\n      <td>50</td>\n    </tr>\n    <tr>\n      <th rowspan=\"2\" valign=\"top\">executive</th>\n      <th>F</th>\n      <td>39</td>\n      <td>49</td>\n    </tr>\n    <tr>\n      <th>M</th>\n      <td>22</td>\n      <td>69</td>\n    </tr>\n    <tr>\n      <th rowspan=\"2\" valign=\"top\">healthcare</th>\n      <th>F</th>\n      <td>22</td>\n      <td>53</td>\n    </tr>\n    <tr>\n      <th>M</th>\n      <td>28</td>\n      <td>62</td>\n    </tr>\n    <tr>\n      <th rowspan=\"2\" valign=\"top\">homemaker</th>\n      <th>F</th>\n      <td>20</td>\n      <td>50</td>\n    </tr>\n    <tr>\n      <th>M</th>\n      <td>23</td>\n      <td>23</td>\n    </tr>\n    <tr>\n      <th rowspan=\"2\" valign=\"top\">lawyer</th>\n      <th>F</th>\n      <td>28</td>\n      <td>51</td>\n    </tr>\n    <tr>\n      <th>M</th>\n      <td>21</td>\n      <td>53</td>\n    </tr>\n    <tr>\n      <th rowspan=\"2\" valign=\"top\">librarian</th>\n      <th>F</th>\n      <td>26</td>\n      <td>59</td>\n    </tr>\n    <tr>\n      <th>M</th>\n      <td>23</td>\n      <td>69</td>\n    </tr>\n    <tr>\n      <th rowspan=\"2\" valign=\"top\">marketing</th>\n      <th>F</th>\n      <td>24</td>\n      <td>50</td>\n    </tr>\n    <tr>\n      <th>M</th>\n      <td>24</td>\n      <td>55</td>\n    </tr>\n    <tr>\n      <th rowspan=\"2\" valign=\"top\">none</th>\n      <th>F</th>\n      <td>26</td>\n      <td>55</td>\n    </tr>\n    <tr>\n      <th>M</th>\n      <td>11</td>\n      <td>33</td>\n    </tr>\n    <tr>\n      <th rowspan=\"2\" valign=\"top\">other</th>\n      <th>F</th>\n      <td>18</td>\n      <td>55</td>\n    </tr>\n    <tr>\n      <th>M</th>\n      <td>13</td>\n      <td>64</td>\n    </tr>\n    <tr>\n      <th rowspan=\"2\" valign=\"top\">programmer</th>\n      <th>F</th>\n      <td>26</td>\n      <td>38</td>\n    </tr>\n    <tr>\n      <th>M</th>\n      <td>20</td>\n      <td>63</td>\n    </tr>\n    <tr>\n      <th rowspan=\"2\" valign=\"top\">retired</th>\n      <th>F</th>\n      <td>70</td>\n      <td>70</td>\n    </tr>\n    <tr>\n      <th>M</th>\n      <td>51</td>\n      <td>73</td>\n    </tr>\n    <tr>\n      <th rowspan=\"2\" valign=\"top\">salesman</th>\n      <th>F</th>\n      <td>18</td>\n      <td>33</td>\n    </tr>\n    <tr>\n      <th>M</th>\n      <td>21</td>\n      <td>66</td>\n    </tr>\n    <tr>\n      <th rowspan=\"2\" valign=\"top\">scientist</th>\n      <th>F</th>\n      <td>26</td>\n      <td>31</td>\n    </tr>\n    <tr>\n      <th>M</th>\n      <td>23</td>\n      <td>55</td>\n    </tr>\n    <tr>\n      <th rowspan=\"2\" valign=\"top\">student</th>\n      <th>F</th>\n      <td>13</td>\n      <td>38</td>\n    </tr>\n    <tr>\n      <th>M</th>\n      <td>7</td>\n      <td>42</td>\n    </tr>\n    <tr>\n      <th rowspan=\"2\" valign=\"top\">technician</th>\n      <th>F</th>\n      <td>38</td>\n      <td>38</td>\n    </tr>\n    <tr>\n      <th>M</th>\n      <td>21</td>\n      <td>55</td>\n    </tr>\n    <tr>\n      <th rowspan=\"2\" valign=\"top\">writer</th>\n      <th>F</th>\n      <td>18</td>\n      <td>56</td>\n    </tr>\n    <tr>\n      <th>M</th>\n      <td>21</td>\n      <td>60</td>\n    </tr>\n  </tbody>\n</table>\n</div>"
     },
     "metadata": {},
     "execution_count": 18
    }
   ],
   "source": [
    "users.groupby([\"occupation\",\"gender\"])[\"age\"].agg([\"min\",\"max\"])"
   ]
  },
  {
   "cell_type": "markdown",
   "metadata": {},
   "source": [
    "### Step 8.  For each occupation present the percentage of women and men"
   ]
  },
  {
   "cell_type": "code",
   "execution_count": 22,
   "metadata": {},
   "outputs": [
    {
     "output_type": "execute_result",
     "data": {
      "text/plain": [
       "occupation     gender\n",
       "administrator  F          36\n",
       "               M          43\n",
       "artist         F          13\n",
       "               M          15\n",
       "doctor         M           7\n",
       "educator       F          26\n",
       "               M          69\n",
       "engineer       F           2\n",
       "               M          65\n",
       "entertainment  F           2\n",
       "               M          16\n",
       "executive      F           3\n",
       "               M          29\n",
       "healthcare     F          11\n",
       "               M           5\n",
       "homemaker      F           6\n",
       "               M           1\n",
       "lawyer         F           2\n",
       "               M          10\n",
       "librarian      F          29\n",
       "               M          22\n",
       "marketing      F          10\n",
       "               M          16\n",
       "none           F           4\n",
       "               M           5\n",
       "other          F          36\n",
       "               M          69\n",
       "programmer     F           6\n",
       "               M          60\n",
       "retired        F           1\n",
       "               M          13\n",
       "salesman       F           3\n",
       "               M           9\n",
       "scientist      F           3\n",
       "               M          28\n",
       "student        F          60\n",
       "               M         136\n",
       "technician     F           1\n",
       "               M          26\n",
       "writer         F          19\n",
       "               M          26\n",
       "Name: gender, dtype: int64"
      ]
     },
     "metadata": {},
     "execution_count": 22
    }
   ],
   "source": [
    "x = users.groupby(['occupation','gender'])['gender'].count()\n",
    "x"
   ]
  },
  {
   "cell_type": "code",
   "execution_count": 21,
   "metadata": {},
   "outputs": [
    {
     "output_type": "execute_result",
     "data": {
      "text/plain": [
       "occupation\n",
       "administrator     79\n",
       "artist            28\n",
       "doctor             7\n",
       "educator          95\n",
       "engineer          67\n",
       "entertainment     18\n",
       "executive         32\n",
       "healthcare        16\n",
       "homemaker          7\n",
       "lawyer            12\n",
       "librarian         51\n",
       "marketing         26\n",
       "none               9\n",
       "other            105\n",
       "programmer        66\n",
       "retired           14\n",
       "salesman          12\n",
       "scientist         31\n",
       "student          196\n",
       "technician        27\n",
       "writer            45\n",
       "Name: gender, dtype: int64"
      ]
     },
     "metadata": {},
     "execution_count": 21
    }
   ],
   "source": [
    "y = users.groupby(['occupation'])['gender'].count()\n",
    "y"
   ]
  },
  {
   "cell_type": "code",
   "execution_count": 20,
   "metadata": {},
   "outputs": [
    {
     "output_type": "stream",
     "name": "stdout",
     "text": [
      "occupation     gender\nadministrator  F          45.57\n               M          54.43\nartist         F          46.43\n               M          53.57\ndoctor         M         100.00\neducator       F          27.37\n               M          72.63\nengineer       F           2.99\n               M          97.01\nentertainment  F          11.11\n               M          88.89\nexecutive      F           9.38\n               M          90.62\nhealthcare     F          68.75\n               M          31.25\nhomemaker      F          85.71\n               M          14.29\nlawyer         F          16.67\n               M          83.33\nlibrarian      F          56.86\n               M          43.14\nmarketing      F          38.46\n               M          61.54\nnone           F          44.44\n               M          55.56\nother          F          34.29\n               M          65.71\nprogrammer     F           9.09\n               M          90.91\nretired        F           7.14\n               M          92.86\nsalesman       F          25.00\n               M          75.00\nscientist      F           9.68\n               M          90.32\nstudent        F          30.61\n               M          69.39\ntechnician     F           3.70\n               M          96.30\nwriter         F          42.22\n               M          57.78\nName: gender, dtype: float64\n"
     ]
    }
   ],
   "source": [
    "x = users.groupby(['occupation','gender'])['gender'].count()\n",
    "y = users.groupby(['occupation'])['gender'].count()\n",
    "r = ((x/y)*100).round(2)\n",
    "print(r)"
   ]
  },
  {
   "cell_type": "code",
   "execution_count": null,
   "metadata": {},
   "outputs": [],
   "source": []
  }
 ],
 "metadata": {
  "kernelspec": {
   "name": "python374jvsc74a57bd0fc2c00f0e2c44cb4028bd693f18a1b5d93d1de4cd12db71fca36ff691a163044",
   "display_name": "Python 3.7.4 64-bit"
  },
  "language_info": {
   "codemirror_mode": {
    "name": "ipython",
    "version": 3
   },
   "file_extension": ".py",
   "mimetype": "text/x-python",
   "name": "python",
   "nbconvert_exporter": "python",
   "pygments_lexer": "ipython3",
   "version": "3.7.4"
  },
  "metadata": {
   "interpreter": {
    "hash": "fc2c00f0e2c44cb4028bd693f18a1b5d93d1de4cd12db71fca36ff691a163044"
   }
  }
 },
 "nbformat": 4,
 "nbformat_minor": 4
}