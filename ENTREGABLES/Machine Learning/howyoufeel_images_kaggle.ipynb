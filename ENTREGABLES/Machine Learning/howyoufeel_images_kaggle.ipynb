{
 "cells": [
  {
   "cell_type": "code",
   "execution_count": 13,
   "metadata": {},
   "outputs": [],
   "source": [
    "import pandas as pd\n",
    "import matplotlib.pyplot as plt\n",
    "import numpy as np\n",
    "\n",
    "import cv2 # opencv-python, librería de referencia para tratamiento de imagen"
   ]
  },
  {
   "cell_type": "markdown",
   "metadata": {},
   "source": [
    "![](https://img.devrant.com/devrant/rant/r_1688469_xaXLS.jpg)"
   ]
  },
  {
   "cell_type": "code",
   "execution_count": 12,
   "metadata": {},
   "outputs": [
    {
     "data": {
      "text/html": [
       "<div>\n",
       "<style scoped>\n",
       "    .dataframe tbody tr th:only-of-type {\n",
       "        vertical-align: middle;\n",
       "    }\n",
       "\n",
       "    .dataframe tbody tr th {\n",
       "        vertical-align: top;\n",
       "    }\n",
       "\n",
       "    .dataframe thead th {\n",
       "        text-align: right;\n",
       "    }\n",
       "</style>\n",
       "<table border=\"1\" class=\"dataframe\">\n",
       "  <thead>\n",
       "    <tr style=\"text-align: right;\">\n",
       "      <th></th>\n",
       "      <th>label</th>\n",
       "      <th>id_img</th>\n",
       "      <th>path</th>\n",
       "    </tr>\n",
       "  </thead>\n",
       "  <tbody>\n",
       "    <tr>\n",
       "      <th>0</th>\n",
       "      <td>happy</td>\n",
       "      <td>22373</td>\n",
       "      <td>happy/22373.jpg</td>\n",
       "    </tr>\n",
       "    <tr>\n",
       "      <th>1</th>\n",
       "      <td>happy</td>\n",
       "      <td>21433</td>\n",
       "      <td>happy/21433.jpg</td>\n",
       "    </tr>\n",
       "    <tr>\n",
       "      <th>2</th>\n",
       "      <td>happy</td>\n",
       "      <td>12418</td>\n",
       "      <td>happy/12418.jpg</td>\n",
       "    </tr>\n",
       "    <tr>\n",
       "      <th>3</th>\n",
       "      <td>happy</td>\n",
       "      <td>21278</td>\n",
       "      <td>happy/21278.jpg</td>\n",
       "    </tr>\n",
       "    <tr>\n",
       "      <th>4</th>\n",
       "      <td>happy</td>\n",
       "      <td>8081</td>\n",
       "      <td>happy/08081.jpg</td>\n",
       "    </tr>\n",
       "    <tr>\n",
       "      <th>...</th>\n",
       "      <td>...</td>\n",
       "      <td>...</td>\n",
       "      <td>...</td>\n",
       "    </tr>\n",
       "    <tr>\n",
       "      <th>6171</th>\n",
       "      <td>sadness</td>\n",
       "      <td>11346</td>\n",
       "      <td>sadness/11346.jpg</td>\n",
       "    </tr>\n",
       "    <tr>\n",
       "      <th>6172</th>\n",
       "      <td>sadness</td>\n",
       "      <td>4441</td>\n",
       "      <td>sadness/04441.jpg</td>\n",
       "    </tr>\n",
       "    <tr>\n",
       "      <th>6173</th>\n",
       "      <td>sadness</td>\n",
       "      <td>15236</td>\n",
       "      <td>sadness/15236.jpg</td>\n",
       "    </tr>\n",
       "    <tr>\n",
       "      <th>6174</th>\n",
       "      <td>sadness</td>\n",
       "      <td>27361</td>\n",
       "      <td>sadness/27361.jpg</td>\n",
       "    </tr>\n",
       "    <tr>\n",
       "      <th>6175</th>\n",
       "      <td>sadness</td>\n",
       "      <td>25239</td>\n",
       "      <td>sadness/25239.jpg</td>\n",
       "    </tr>\n",
       "  </tbody>\n",
       "</table>\n",
       "<p>6176 rows × 3 columns</p>\n",
       "</div>"
      ],
      "text/plain": [
       "        label  id_img               path\n",
       "0       happy   22373    happy/22373.jpg\n",
       "1       happy   21433    happy/21433.jpg\n",
       "2       happy   12418    happy/12418.jpg\n",
       "3       happy   21278    happy/21278.jpg\n",
       "4       happy    8081    happy/08081.jpg\n",
       "...       ...     ...                ...\n",
       "6171  sadness   11346  sadness/11346.jpg\n",
       "6172  sadness    4441  sadness/04441.jpg\n",
       "6173  sadness   15236  sadness/15236.jpg\n",
       "6174  sadness   27361  sadness/27361.jpg\n",
       "6175  sadness   25239  sadness/25239.jpg\n",
       "\n",
       "[6176 rows x 3 columns]"
      ]
     },
     "execution_count": 12,
     "metadata": {},
     "output_type": "execute_result"
    }
   ],
   "source": [
    "train_set = pd.read_csv(\"train_set.csv\")\n",
    "train_set"
   ]
  },
  {
   "cell_type": "code",
   "execution_count": 25,
   "metadata": {},
   "outputs": [],
   "source": [
    "train_set['array'] = train_set['path'].apply(lambda x: cv2.imread(\"train/\" + x))"
   ]
  },
  {
   "cell_type": "code",
   "execution_count": 26,
   "metadata": {},
   "outputs": [
    {
     "data": {
      "text/html": [
       "<div>\n",
       "<style scoped>\n",
       "    .dataframe tbody tr th:only-of-type {\n",
       "        vertical-align: middle;\n",
       "    }\n",
       "\n",
       "    .dataframe tbody tr th {\n",
       "        vertical-align: top;\n",
       "    }\n",
       "\n",
       "    .dataframe thead th {\n",
       "        text-align: right;\n",
       "    }\n",
       "</style>\n",
       "<table border=\"1\" class=\"dataframe\">\n",
       "  <thead>\n",
       "    <tr style=\"text-align: right;\">\n",
       "      <th></th>\n",
       "      <th>label</th>\n",
       "      <th>id_img</th>\n",
       "      <th>path</th>\n",
       "      <th>array</th>\n",
       "    </tr>\n",
       "  </thead>\n",
       "  <tbody>\n",
       "    <tr>\n",
       "      <th>0</th>\n",
       "      <td>happy</td>\n",
       "      <td>22373</td>\n",
       "      <td>happy/22373.jpg</td>\n",
       "      <td>[[[25, 25, 25], [44, 44, 44], [56, 56, 56], [6...</td>\n",
       "    </tr>\n",
       "    <tr>\n",
       "      <th>1</th>\n",
       "      <td>happy</td>\n",
       "      <td>21433</td>\n",
       "      <td>happy/21433.jpg</td>\n",
       "      <td>[[[33, 33, 33], [29, 29, 29], [22, 22, 22], [1...</td>\n",
       "    </tr>\n",
       "    <tr>\n",
       "      <th>2</th>\n",
       "      <td>happy</td>\n",
       "      <td>12418</td>\n",
       "      <td>happy/12418.jpg</td>\n",
       "      <td>[[[35, 35, 35], [43, 43, 43], [66, 66, 66], [8...</td>\n",
       "    </tr>\n",
       "    <tr>\n",
       "      <th>3</th>\n",
       "      <td>happy</td>\n",
       "      <td>21278</td>\n",
       "      <td>happy/21278.jpg</td>\n",
       "      <td>[[[118, 118, 118], [124, 124, 124], [132, 132,...</td>\n",
       "    </tr>\n",
       "    <tr>\n",
       "      <th>4</th>\n",
       "      <td>happy</td>\n",
       "      <td>8081</td>\n",
       "      <td>happy/08081.jpg</td>\n",
       "      <td>[[[201, 201, 201], [209, 209, 209], [193, 193,...</td>\n",
       "    </tr>\n",
       "    <tr>\n",
       "      <th>...</th>\n",
       "      <td>...</td>\n",
       "      <td>...</td>\n",
       "      <td>...</td>\n",
       "      <td>...</td>\n",
       "    </tr>\n",
       "    <tr>\n",
       "      <th>6171</th>\n",
       "      <td>sadness</td>\n",
       "      <td>11346</td>\n",
       "      <td>sadness/11346.jpg</td>\n",
       "      <td>[[[167, 167, 167], [180, 180, 180], [196, 196,...</td>\n",
       "    </tr>\n",
       "    <tr>\n",
       "      <th>6172</th>\n",
       "      <td>sadness</td>\n",
       "      <td>4441</td>\n",
       "      <td>sadness/04441.jpg</td>\n",
       "      <td>[[[163, 163, 163], [154, 154, 154], [128, 128,...</td>\n",
       "    </tr>\n",
       "    <tr>\n",
       "      <th>6173</th>\n",
       "      <td>sadness</td>\n",
       "      <td>15236</td>\n",
       "      <td>sadness/15236.jpg</td>\n",
       "      <td>[[[109, 109, 109], [25, 25, 25], [29, 29, 29],...</td>\n",
       "    </tr>\n",
       "    <tr>\n",
       "      <th>6174</th>\n",
       "      <td>sadness</td>\n",
       "      <td>27361</td>\n",
       "      <td>sadness/27361.jpg</td>\n",
       "      <td>[[[62, 62, 62], [64, 64, 64], [67, 67, 67], [5...</td>\n",
       "    </tr>\n",
       "    <tr>\n",
       "      <th>6175</th>\n",
       "      <td>sadness</td>\n",
       "      <td>25239</td>\n",
       "      <td>sadness/25239.jpg</td>\n",
       "      <td>[[[163, 163, 163], [167, 167, 167], [123, 123,...</td>\n",
       "    </tr>\n",
       "  </tbody>\n",
       "</table>\n",
       "<p>6176 rows × 4 columns</p>\n",
       "</div>"
      ],
      "text/plain": [
       "        label  id_img               path  \\\n",
       "0       happy   22373    happy/22373.jpg   \n",
       "1       happy   21433    happy/21433.jpg   \n",
       "2       happy   12418    happy/12418.jpg   \n",
       "3       happy   21278    happy/21278.jpg   \n",
       "4       happy    8081    happy/08081.jpg   \n",
       "...       ...     ...                ...   \n",
       "6171  sadness   11346  sadness/11346.jpg   \n",
       "6172  sadness    4441  sadness/04441.jpg   \n",
       "6173  sadness   15236  sadness/15236.jpg   \n",
       "6174  sadness   27361  sadness/27361.jpg   \n",
       "6175  sadness   25239  sadness/25239.jpg   \n",
       "\n",
       "                                                  array  \n",
       "0     [[[25, 25, 25], [44, 44, 44], [56, 56, 56], [6...  \n",
       "1     [[[33, 33, 33], [29, 29, 29], [22, 22, 22], [1...  \n",
       "2     [[[35, 35, 35], [43, 43, 43], [66, 66, 66], [8...  \n",
       "3     [[[118, 118, 118], [124, 124, 124], [132, 132,...  \n",
       "4     [[[201, 201, 201], [209, 209, 209], [193, 193,...  \n",
       "...                                                 ...  \n",
       "6171  [[[167, 167, 167], [180, 180, 180], [196, 196,...  \n",
       "6172  [[[163, 163, 163], [154, 154, 154], [128, 128,...  \n",
       "6173  [[[109, 109, 109], [25, 25, 25], [29, 29, 29],...  \n",
       "6174  [[[62, 62, 62], [64, 64, 64], [67, 67, 67], [5...  \n",
       "6175  [[[163, 163, 163], [167, 167, 167], [123, 123,...  \n",
       "\n",
       "[6176 rows x 4 columns]"
      ]
     },
     "execution_count": 26,
     "metadata": {},
     "output_type": "execute_result"
    }
   ],
   "source": [
    "train_set"
   ]
  },
  {
   "cell_type": "markdown",
   "metadata": {},
   "source": [
    "Las imágenes están en blanco y negro, pero el método `cv2.imread` necesita que se le especifique el segundo argumento como 0 ya que por defecto leerá en color. \n",
    "\n",
    "`flag: It specifies the way in which image should be read. It’s default value is cv2.IMREAD_COLOR`\n",
    "[para más info...](https://www.geeksforgeeks.org/python-opencv-cv2-imread-method/)\n"
   ]
  },
  {
   "cell_type": "code",
   "execution_count": 22,
   "metadata": {},
   "outputs": [
    {
     "data": {
      "text/plain": [
       "(48, 48)"
      ]
     },
     "execution_count": 22,
     "metadata": {},
     "output_type": "execute_result"
    }
   ],
   "source": [
    "drama = cv2.imread(\"train/\" + train_set.path[0], 0) \n",
    "drama.shape"
   ]
  },
  {
   "cell_type": "code",
   "execution_count": 18,
   "metadata": {},
   "outputs": [
    {
     "data": {
      "text/plain": [
       "<matplotlib.image.AxesImage at 0x1e42c200070>"
      ]
     },
     "execution_count": 18,
     "metadata": {},
     "output_type": "execute_result"
    },
    {
     "data": {
      "image/png": "[encoded data removed]",
      "text/plain": [
       "<Figure size 432x288 with 1 Axes>"
      ]
     },
     "metadata": {
      "needs_background": "light"
     },
     "output_type": "display_data"
    }
   ],
   "source": [
    "plt.imshow(drama, cmap = 'gray')"
   ]
  },
  {
   "cell_type": "code",
   "execution_count": 11,
   "metadata": {},
   "outputs": [
    {
     "data": {
      "text/plain": [
       "(48, 48)"
      ]
     },
     "execution_count": 11,
     "metadata": {},
     "output_type": "execute_result"
    }
   ],
   "source": [
    "drama.shape"
   ]
  },
  {
   "cell_type": "markdown",
   "metadata": {},
   "source": [
    "##### Ten en cuenta que las imágenes no están mezcladas, están primero las fotos felices y luego todas las fotos tristes."
   ]
  },
  {
   "cell_type": "code",
   "execution_count": 6,
   "metadata": {},
   "outputs": [
    {
     "data": {
      "text/plain": [
       "Int64Index([   0,    1,    2,    3,    4,    5,    6,    7,    8,    9,\n",
       "            ...\n",
       "            3275, 3276, 3277, 3278, 3279, 3280, 3281, 3282, 3283, 3284],\n",
       "           dtype='int64', length=3285)"
      ]
     },
     "execution_count": 6,
     "metadata": {},
     "output_type": "execute_result"
    }
   ],
   "source": [
    "train_set[train_set.label == \"happy\"].index"
   ]
  },
  {
   "cell_type": "code",
   "execution_count": 8,
   "metadata": {},
   "outputs": [
    {
     "data": {
      "text/plain": [
       "Int64Index([3285, 3286, 3287, 3288, 3289, 3290, 3291, 3292, 3293, 3294,\n",
       "            ...\n",
       "            6166, 6167, 6168, 6169, 6170, 6171, 6172, 6173, 6174, 6175],\n",
       "           dtype='int64', length=2891)"
      ]
     },
     "execution_count": 8,
     "metadata": {},
     "output_type": "execute_result"
    }
   ],
   "source": [
    "train_set[train_set.label == \"sadness\"].index"
   ]
  },
  {
   "cell_type": "markdown",
   "metadata": {},
   "source": [
    "Accedemos a las imágenes directamente en sus carpetas, puedes usar librerías como `glob` o nuestro ya viejo conocido, `os`.\n",
    "Para cargar y mostrar las imágenes `imageio` o como ya hemos visto `cv2`."
   ]
  },
  {
   "cell_type": "markdown",
   "metadata": {},
   "source": [
    "**Disclaimer** Para gestionar imágenes no es necesario cargar los arrays en nuestro jupyter. \n",
    "\n",
    "https://machinelearningmastery.com/how-to-load-large-datasets-from-directories-for-deep-learning-with-keras/"
   ]
  }
 ],
 "metadata": {
  "kernelspec": {
   "display_name": "Python 3",
   "language": "python",
   "name": "python3"
  },
  "language_info": {
   "codemirror_mode": {
    "name": "ipython",
    "version": 3
   },
   "file_extension": ".py",
   "mimetype": "text/x-python",
   "name": "python",
   "nbconvert_exporter": "python",
   "pygments_lexer": "ipython3",
   "version": "3.8.3"
  }
 },
 "nbformat": 4,
 "nbformat_minor": 4
}
