{
 "cells": [
  {
   "cell_type": "markdown",
   "metadata": {},
   "source": [
    "# Python | try&"
   ]
  },
  {
   "cell_type": "markdown",
   "metadata": {},
   "source": [
    "Python uses try and  to handle errors gracefully. A graceful exit (or graceful handling) of errors is a simple programming idiom - a program detects a serious error condition and \"exits gracefully\", in a controlled manner as a result. Often the program prints a descriptive error message to a terminal or log as part of the graceful exit, this makes our application more robust. The cause of an  is often external to the program itself. An example of s could be an incorrect input, wrong file name, unable to find a file, a malfunctioning IO device. Graceful handling of errors prevents our applications from crashing."
   ]
  },
  {
   "cell_type": "markdown",
   "metadata": {},
   "source": [
    "```python\n",
    "try:\n",
    "    code in this block if things go well\n",
    ":\n",
    "    code in this block run if things go wrong\n",
    "```"
   ]
  },
  {
   "cell_type": "markdown",
   "metadata": {},
   "source": [
    "### Exercise 1. \n"
   ]
  },
  {
   "cell_type": "markdown",
   "metadata": {},
   "source": [
    "1. In the 4 cells below, modify the code to catch the error and print a meaningful message that will alert the user what went wrong. You may catch the error using a general  or a specific  for the error caused by the code."
   ]
  },
  {
   "cell_type": "code",
   "execution_count": 1,
   "metadata": {},
   "outputs": [
    {
     "output_type": "stream",
     "name": "stdout",
     "text": [
      "El parámetro no está definido\n"
     ]
    }
   ],
   "source": [
    "# Modify the code below:\n",
    "try: \n",
    "    print(some_string)\n",
    " :\n",
    "    print(\"El parámetro no está definido\")"
   ]
  },
  {
   "cell_type": "code",
   "execution_count": 2,
   "metadata": {},
   "outputs": [
    {
     "output_type": "stream",
     "name": "stdout",
     "text": [
      "The numbers must be int\n"
     ]
    }
   ],
   "source": [
    "# Modify the code below:\n",
    "try: \n",
    "    for i in ['a','b','c']:\n",
    "        print (i**2)\n",
    " :\n",
    "    print(\"The numbers must be int\")"
   ]
  },
  {
   "cell_type": "code",
   "execution_count": 3,
   "metadata": {},
   "outputs": [
    {
     "output_type": "stream",
     "name": "stdout",
     "text": [
      "You can't divide by zero\n"
     ]
    }
   ],
   "source": [
    "# Modify the code below:\n",
    "\n",
    "x = 5\n",
    "y = 0\n",
    "try:\n",
    "    z = x/y\n",
    " :\n",
    "    print(\"You can't divide by zero\")"
   ]
  },
  {
   "cell_type": "code",
   "execution_count": 5,
   "metadata": {},
   "outputs": [
    {
     "output_type": "stream",
     "name": "stdout",
     "text": [
      "The last position of abc is 2\n"
     ]
    }
   ],
   "source": [
    "# Modify the code below:\n",
    "\n",
    "abc=[10,20,20]\n",
    "try:\n",
    "    print(abc[3])\n",
    " :\n",
    "    print(\"The last position of abc is 2\")"
   ]
  },
  {
   "cell_type": "markdown",
   "metadata": {},
   "source": [
    "### Exercise 2. "
   ]
  },
  {
   "cell_type": "markdown",
   "metadata": {},
   "source": [
    "In the 3 cells below, add an if statment that will handle both types of input allowed in the functions."
   ]
  },
  {
   "cell_type": "code",
   "execution_count": 6,
   "metadata": {},
   "outputs": [
    {
     "output_type": "execute_result",
     "data": {
      "text/plain": [
       "1.0"
      ]
     },
     "metadata": {},
     "execution_count": 6
    }
   ],
   "source": [
    "import math # import a library called math with functions, like sqrt() \n",
    "# Modify the code below to handle positive and negative numbers by adding an if statement and performing a transformation:\n",
    "\n",
    "def sqrt_for_all(x):\n",
    "    if x < 0:\n",
    "        x = x * (-1)\n",
    "    # This function will take any real number and return the square root of its magnitude\n",
    "    # Input: real number\n",
    "    # Output: real number\n",
    "    \n",
    "    # Sample Input: -4\n",
    "    # Sample Output: 2.0\n",
    "    return math.sqrt(x)\n",
    "\n",
    "sqrt_for_all(-1)"
   ]
  },
  {
   "cell_type": "code",
   "execution_count": 7,
   "metadata": {},
   "outputs": [
    {
     "output_type": "execute_result",
     "data": {
      "text/plain": [
       "0"
      ]
     },
     "metadata": {},
     "execution_count": 7
    }
   ],
   "source": [
    "# Modify the code below to handle zero as well. In the case of zero, return zero\n",
    "\n",
    "def divide(x, y):\n",
    "    if y == 0:\n",
    "        return 0\n",
    "    # This function will take any two real numbers and return their quotient. If the denominator is zero, we return zero\n",
    "    # Input: real number\n",
    "    # Output: real number\n",
    "    \n",
    "    # Sample Input: 5, 1\n",
    "    # Sample Output: 5.0\n",
    "    else: \n",
    "        return x / y\n",
    "\n",
    "divide(5, 0)"
   ]
  },
  {
   "cell_type": "code",
   "execution_count": null,
   "metadata": {},
   "outputs": [],
   "source": []
  },
  {
   "cell_type": "code",
   "execution_count": 30,
   "metadata": {},
   "outputs": [
    {
     "output_type": "execute_result",
     "data": {
      "text/plain": [
       "[5]"
      ]
     },
     "metadata": {},
     "execution_count": 30
    }
   ],
   "source": [
    "# Modify the function below that it will take either an number and a list or two numbers. \n",
    "# If we take two numbers, add them together and return a list of length 1. \n",
    "# Otherwise, add the number to every element of the list and return the resulting list\n",
    "    # This function takes either two numbers or a list and a number and adds the number to all elements of the list\n",
    "    # If the function only takes two numbers, it returns a list of length one that is the sum of the numbers\n",
    "    \n",
    "    # Input: number and list or two numbers\n",
    "    # Output: list\n",
    "    \n",
    "    # Sample Input: 5, 6\n",
    "    # Sample Output: [11]\n",
    "\n",
    "def add_elements(a, l):\n",
    "    if isinstance(a, int) and isinstance(l,int):\n",
    "        lista = [a + l]\n",
    "        return len(lista)\n",
    "    else:\n",
    "        return [a + element for element in l]\n",
    "        \n",
    "add_elements(2, [3])"
   ]
  },
  {
   "cell_type": "markdown",
   "metadata": {},
   "source": [
    "### Exercise 3. \n",
    "\n",
    "Write a function that asks for an integer and prints the square of it. Keep checking while the function gets an integer.\n",
    "\n",
    "Use a `while` loop with a `try/` block to account for incorrect inputs."
   ]
  },
  {
   "cell_type": "code",
   "execution_count": 8,
   "metadata": {},
   "outputs": [
    {
     "output_type": "stream",
     "name": "stdout",
     "text": [
      "1\n"
     ]
    }
   ],
   "source": [
    "while True:\n",
    "    try:\n",
    "\n",
    "        x = int(input(\"Please enter a number: \"))\n",
    "\n",
    "        if isinstance(x,int):\n",
    "            print(x ** 2)\n",
    "        break\n",
    "    except ValueError:\n",
    "        print(\"That was no valid number.  Try again...\")\n",
    "    \n",
    "  \n",
    "    "
   ]
  },
  {
   "cell_type": "markdown",
   "metadata": {},
   "source": [
    "### Bonus track.\n",
    "\n",
    "1. Solve this kata in **codewars**.\n",
    "\n",
    "https://www.codewars.com/kata/560fbc2d636966b21e00009e"
   ]
  },
  {
   "cell_type": "code",
   "execution_count": null,
   "metadata": {},
   "outputs": [],
   "source": []
  },
  {
   "cell_type": "markdown",
   "metadata": {},
   "source": [
    "2. Make a program using `while` that generates a **deck of cards** of 4 different suits. The deck must have 40 cards.\n",
    "\n",
    "   Develop the program in a `.py` file that will be run through the terminal. \n",
    "   \n",
    "   Then, import the module to this notebook and show the deck you've generated below."
   ]
  },
  {
   "cell_type": "code",
   "execution_count": null,
   "metadata": {},
   "outputs": [],
   "source": []
  },
  {
   "cell_type": "code",
   "execution_count": 48,
   "metadata": {},
   "outputs": [
    {
     "output_type": "stream",
     "name": "stdout",
     "text": [
      "Año: 2021\nLen: 3\nConjunto: {'2', '0', '1'}\nlista: ['2', '0', '2', '1']\n----------------------------\nAño: 2022\nLen: 2\nConjunto: {'2', '0'}\nlista: ['2', '0', '2', '2']\n----------------------------\nAño: 2023\nLen: 3\nConjunto: {'2', '0', '3'}\nlista: ['2', '0', '2', '3']\n----------------------------\nAño: 2024\nLen: 3\nConjunto: {'2', '0', '4'}\nlista: ['2', '0', '2', '4']\n----------------------------\nAño: 2025\nLen: 3\nConjunto: {'5', '2', '0'}\nlista: ['2', '0', '2', '5']\n----------------------------\nAño: 2026\nLen: 3\nConjunto: {'6', '2', '0'}\nlista: ['2', '0', '2', '6']\n----------------------------\nAño: 2027\nLen: 3\nConjunto: {'2', '7', '0'}\nlista: ['2', '0', '2', '7']\n----------------------------\nAño: 2028\nLen: 3\nConjunto: {'2', '0', '8'}\nlista: ['2', '0', '2', '8']\n----------------------------\nAño: 2029\nLen: 3\nConjunto: {'2', '9', '0'}\nlista: ['2', '0', '2', '9']\n----------------------------\nAño: 2030\nLen: 3\nConjunto: {'2', '0', '3'}\nlista: ['2', '0', '3', '0']\n----------------------------\nAño: 2031\nLen: 4\nConjunto: {'2', '0', '1', '3'}\nlista: ['2', '0', '3', '1']\n----------------------------\nOUTPUT\n4\n{'2', '0', '1', '3'}\n['2', '0', '3', '1']\n"
     ]
    },
    {
     "output_type": "execute_result",
     "data": {
      "text/plain": [
       "2031"
      ]
     },
     "metadata": {},
     "execution_count": 48
    }
   ],
   "source": [
    "def next_happy_year(year):\n",
    "    happy_year = True\n",
    "    while happy_year == True:\n",
    "        year += 1\n",
    "        print(\"Año:\",year)\n",
    "        print(\"Len:\", len(set(list(str(year)))))\n",
    "        print(\"Conjunto:\",set(list(str(year))))\n",
    "        print(\"lista:\",list(str(year)))\n",
    "        print(\"----------------------------\")\n",
    "        if len(set(list(str(year)))) == 4:\n",
    "            happy_year = False\n",
    "            print(\"OUTPUT\")\n",
    "            print(len(set(list(str(year)))))\n",
    "            print(set(list(str(year))))\n",
    "            print(list(str(year)))\n",
    "    return year\n",
    "\n",
    "next_happy_year(2020)\n",
    "\n"
   ]
  },
  {
   "cell_type": "code",
   "execution_count": 56,
   "metadata": {},
   "outputs": [
    {
     "output_type": "stream",
     "name": "stdout",
     "text": [
      "2021\n\n2022\n2023\n2024\n2025\n2026\n2027\n2028\n2029\n2030\n2031\n"
     ]
    },
    {
     "output_type": "execute_result",
     "data": {
      "text/plain": [
       "('next happy year:', 2031)"
      ]
     },
     "metadata": {},
     "execution_count": 56
    }
   ],
   "source": [
    "def next_happy_year(year):\n",
    "    year += 1\n",
    "    print(year)\n",
    "    print()\n",
    "    while len(set(str(year))) != 4:\n",
    "        year += 1\n",
    "        print(year)\n",
    "    \n",
    "    return \"next happy year:\",year\n",
    "\n",
    "next_happy_year(2020)"
   ]
  },
  {
   "cell_type": "markdown",
   "metadata": {},
   "source": [
    "![\"lol\"](https://i.pinimg.com/originals/34/b2/ad/34b2ad1c370539fba5ed9422711cad7b.png)"
   ]
  }
 ],
 "metadata": {
  "kernelspec": {
   "name": "python374jvsc74a57bd0fc2c00f0e2c44cb4028bd693f18a1b5d93d1de4cd12db71fca36ff691a163044",
   "display_name": "Python 3.7.4 64-bit"
  },
  "language_info": {
   "codemirror_mode": {
    "name": "ipython",
    "version": 3
   },
   "file_extension": ".py",
   "mimetype": "text/x-python",
   "name": "python",
   "nbconvert_exporter": "python",
   "pygments_lexer": "ipython3",
   "version": "3.7.4"
  },
  "metadata": {
   "interpreter": {
    "hash": "fc2c00f0e2c44cb4028bd693f18a1b5d93d1de4cd12db71fca36ff691a163044"
   }
  }
 },
 "nbformat": 4,
 "nbformat_minor": 4
}