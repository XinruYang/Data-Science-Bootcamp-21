{
 "metadata": {
  "language_info": {
   "codemirror_mode": {
    "name": "ipython",
    "version": 3
   },
   "file_extension": ".py",
   "mimetype": "text/x-python",
   "name": "python",
   "nbconvert_exporter": "python",
   "pygments_lexer": "ipython3",
   "version": "3.7.4"
  },
  "orig_nbformat": 2,
  "kernelspec": {
   "name": "python374jvsc74a57bd0fc2c00f0e2c44cb4028bd693f18a1b5d93d1de4cd12db71fca36ff691a163044",
   "display_name": "Python 3.7.4 64-bit"
  },
  "metadata": {
   "interpreter": {
    "hash": "fc2c00f0e2c44cb4028bd693f18a1b5d93d1de4cd12db71fca36ff691a163044"
   }
  }
 },
 "nbformat": 4,
 "nbformat_minor": 2,
 "cells": [
  {
   "cell_type": "code",
   "execution_count": 8,
   "metadata": {},
   "outputs": [],
   "source": [
    "import pandas as pd "
   ]
  },
  {
   "cell_type": "code",
   "execution_count": 88,
   "metadata": {},
   "outputs": [],
   "source": [
    "class Tablero:\n",
    "    def __init__(self, dataframe):\n",
    "        self.dataframe = dataframe\n",
    "        print(dataframe)"
   ]
  },
  {
   "cell_type": "code",
   "execution_count": 2,
   "metadata": {},
   "outputs": [
    {
     "output_type": "error",
     "ename": "NameError",
     "evalue": "name 'Tablero' is not defined",
     "traceback": [
      "\u001b[1;31m---------------------------------------------------------------------------\u001b[0m",
      "\u001b[1;31mNameError\u001b[0m                                 Traceback (most recent call last)",
      "\u001b[1;32m<ipython-input-2-8634a5b56b2f>\u001b[0m in \u001b[0;36m<module>\u001b[1;34m\u001b[0m\n\u001b[0;32m      1\u001b[0m \u001b[0mdf\u001b[0m \u001b[1;33m=\u001b[0m \u001b[0mpd\u001b[0m\u001b[1;33m.\u001b[0m\u001b[0mDataFrame\u001b[0m\u001b[1;33m(\u001b[0m\u001b[1;33m{\u001b[0m\u001b[1;36m1\u001b[0m\u001b[1;33m:\u001b[0m \u001b[1;34m\"~\"\u001b[0m\u001b[1;33m,\u001b[0m \u001b[1;36m2\u001b[0m\u001b[1;33m:\u001b[0m \u001b[1;34m\"~\"\u001b[0m\u001b[1;33m,\u001b[0m\u001b[1;36m3\u001b[0m\u001b[1;33m:\u001b[0m \u001b[1;34m\"~\"\u001b[0m\u001b[1;33m,\u001b[0m\u001b[1;36m4\u001b[0m\u001b[1;33m:\u001b[0m \u001b[1;34m\"~\"\u001b[0m\u001b[1;33m,\u001b[0m\u001b[1;36m5\u001b[0m\u001b[1;33m:\u001b[0m \u001b[1;34m\"~\"\u001b[0m\u001b[1;33m,\u001b[0m\u001b[1;36m6\u001b[0m\u001b[1;33m:\u001b[0m \u001b[1;34m\"~\"\u001b[0m\u001b[1;33m,\u001b[0m\u001b[1;36m7\u001b[0m\u001b[1;33m:\u001b[0m \u001b[1;34m\"~\"\u001b[0m\u001b[1;33m,\u001b[0m\u001b[1;36m8\u001b[0m\u001b[1;33m:\u001b[0m \u001b[1;34m\"~\"\u001b[0m\u001b[1;33m,\u001b[0m\u001b[1;36m9\u001b[0m\u001b[1;33m:\u001b[0m \u001b[1;34m\"~\"\u001b[0m\u001b[1;33m,\u001b[0m\u001b[1;36m10\u001b[0m\u001b[1;33m:\u001b[0m \u001b[1;34m\"~\"\u001b[0m\u001b[1;33m}\u001b[0m\u001b[1;33m,\u001b[0m\u001b[0mindex\u001b[0m\u001b[1;33m=\u001b[0m\u001b[1;33m[\u001b[0m\u001b[1;36m1\u001b[0m\u001b[1;33m,\u001b[0m \u001b[1;36m2\u001b[0m\u001b[1;33m,\u001b[0m\u001b[1;36m3\u001b[0m\u001b[1;33m,\u001b[0m\u001b[1;36m4\u001b[0m\u001b[1;33m,\u001b[0m\u001b[1;36m5\u001b[0m\u001b[1;33m,\u001b[0m\u001b[1;36m6\u001b[0m\u001b[1;33m,\u001b[0m\u001b[1;36m7\u001b[0m\u001b[1;33m,\u001b[0m\u001b[1;36m8\u001b[0m\u001b[1;33m,\u001b[0m\u001b[1;36m9\u001b[0m\u001b[1;33m,\u001b[0m\u001b[1;36m10\u001b[0m\u001b[1;33m]\u001b[0m\u001b[1;33m)\u001b[0m\u001b[1;33m\u001b[0m\u001b[1;33m\u001b[0m\u001b[0m\n\u001b[0;32m      2\u001b[0m \u001b[1;33m\u001b[0m\u001b[0m\n\u001b[1;32m----> 3\u001b[1;33m \u001b[0mtablero1\u001b[0m \u001b[1;33m=\u001b[0m \u001b[0mTablero\u001b[0m\u001b[1;33m(\u001b[0m\u001b[0mdf\u001b[0m\u001b[1;33m)\u001b[0m\u001b[1;33m\u001b[0m\u001b[1;33m\u001b[0m\u001b[0m\n\u001b[0m\u001b[0;32m      4\u001b[0m \u001b[0mprint\u001b[0m\u001b[1;33m(\u001b[0m\u001b[0mtablero1\u001b[0m\u001b[1;33m)\u001b[0m\u001b[1;33m\u001b[0m\u001b[1;33m\u001b[0m\u001b[0m\n",
      "\u001b[1;31mNameError\u001b[0m: name 'Tablero' is not defined"
     ]
    }
   ],
   "source": [
    " df = pd.DataFrame({1: \"~\", 2: \"~\",3: \"~\",4: \"~\",5: \"~\",6: \"~\",7: \"~\",8: \"~\",9: \"~\",10: \"~\"},index=[1, 2,3,4,5,6,7,8,9,10])\n",
    "        \n",
    "tablero1 = Tablero(df)\n",
    "print(tablero1)"
   ]
  },
  {
   "cell_type": "code",
   "execution_count": 82,
   "metadata": {},
   "outputs": [
    {
     "output_type": "stream",
     "name": "stdout",
     "text": [
      "   1  2  3  4  5  6  7  8  9  10\n1   ~  ~  ~  ~  ~  ~  ~  ~  ~  ~\n2   ~  ~  ~  ~  ~  ~  ~  ~  ~  ~\n3   ~  ~  ~  ~  ~  ~  ~  ~  ~  ~\n4   ~  ~  ~  ~  ~  ~  ~  ~  ~  ~\n5   ~  ~  ~  ~  ~  ~  ~  ~  ~  ~\n6   ~  ~  ~  ~  ~  ~  ~  ~  ~  ~\n7   ~  ~  ~  ~  ~  ~  ~  ~  ~  ~\n8   ~  ~  ~  ~  ~  ~  ~  ~  ~  ~\n9   ~  ~  ~  ~  ~  ~  ~  ~  ~  ~\n10  ~  ~  ~  ~  ~  ~  ~  ~  ~  ~\n"
     ]
    },
    {
     "output_type": "execute_result",
     "data": {
      "text/plain": [
       "<__main__.Tablero at 0x1e93995c908>"
      ]
     },
     "metadata": {},
     "execution_count": 82
    }
   ],
   "source": [
    "tablero2 = Tablero(df)\n",
    "tablero2"
   ]
  },
  {
   "source": [
    "FALLOS A CORREGIR :\n",
    "- PROCURAR QUE NO SE SOBREPONGAN LOS BARCOS\n",
    "- DEJAR QUE HAYA UN ESPACIO AL MENOS ENTRE BARCOS, O HACER QUE EL COMIENZO Y EL FINAL DEL BARCO TENGAN UNA FORMA DISTINTA\n",
    "- NO DEJAR QUE SE SALGAN LAS CASILLAS DEL TABLERO #DONE \n",
    "- HAY QUE HACER CLASE CON EL TABLERO?\n",
    "- HACER QUE SI PONEMOS COORDENADAS DONDE YA HAY BARCO O SI NOS SALIMOS DEL TABLERO NO AUMENTAR EL CONTADOR"
   ],
   "cell_type": "markdown",
   "metadata": {}
  },
  {
   "cell_type": "code",
   "execution_count": 23,
   "metadata": {},
   "outputs": [
    {
     "output_type": "execute_result",
     "data": {
      "text/plain": [
       "   1  2  3  4  5  6  7  8  9  10\n",
       "1   ~  ~  ~  ~  ~  ~  ~  ~  ~  ~\n",
       "2   ~  ~  ~  ~  ~  ~  ~  ~  ~  ~\n",
       "3   ~  ~  ~  ~  ~  ~  ~  ~  ~  ~\n",
       "4   ~  ~  ~  ~  ~  ~  ~  ~  ~  ~\n",
       "5   ~  ~  ~  ~  ~  ~  ~  ~  ~  ~\n",
       "6   ~  ~  ~  ~  ~  ~  ~  ~  ~  ~\n",
       "7   ~  ~  ~  ~  ~  ~  ~  ~  ~  ~\n",
       "8   ~  ~  ~  ~  ~  ~  ~  ~  ~  ~\n",
       "9   ~  ~  ~  ~  ~  ~  ~  ~  ~  ~\n",
       "10  ~  ~  ~  ~  ~  ~  ~  ~  ~  ~"
      ],
      "text/html": "<div>\n<style scoped>\n    .dataframe tbody tr th:only-of-type {\n        vertical-align: middle;\n    }\n\n    .dataframe tbody tr th {\n        vertical-align: top;\n    }\n\n    .dataframe thead th {\n        text-align: right;\n    }\n</style>\n<table border=\"1\" class=\"dataframe\">\n  <thead>\n    <tr style=\"text-align: right;\">\n      <th></th>\n      <th>1</th>\n      <th>2</th>\n      <th>3</th>\n      <th>4</th>\n      <th>5</th>\n      <th>6</th>\n      <th>7</th>\n      <th>8</th>\n      <th>9</th>\n      <th>10</th>\n    </tr>\n  </thead>\n  <tbody>\n    <tr>\n      <th>1</th>\n      <td>~</td>\n      <td>~</td>\n      <td>~</td>\n      <td>~</td>\n      <td>~</td>\n      <td>~</td>\n      <td>~</td>\n      <td>~</td>\n      <td>~</td>\n      <td>~</td>\n    </tr>\n    <tr>\n      <th>2</th>\n      <td>~</td>\n      <td>~</td>\n      <td>~</td>\n      <td>~</td>\n      <td>~</td>\n      <td>~</td>\n      <td>~</td>\n      <td>~</td>\n      <td>~</td>\n      <td>~</td>\n    </tr>\n    <tr>\n      <th>3</th>\n      <td>~</td>\n      <td>~</td>\n      <td>~</td>\n      <td>~</td>\n      <td>~</td>\n      <td>~</td>\n      <td>~</td>\n      <td>~</td>\n      <td>~</td>\n      <td>~</td>\n    </tr>\n    <tr>\n      <th>4</th>\n      <td>~</td>\n      <td>~</td>\n      <td>~</td>\n      <td>~</td>\n      <td>~</td>\n      <td>~</td>\n      <td>~</td>\n      <td>~</td>\n      <td>~</td>\n      <td>~</td>\n    </tr>\n    <tr>\n      <th>5</th>\n      <td>~</td>\n      <td>~</td>\n      <td>~</td>\n      <td>~</td>\n      <td>~</td>\n      <td>~</td>\n      <td>~</td>\n      <td>~</td>\n      <td>~</td>\n      <td>~</td>\n    </tr>\n    <tr>\n      <th>6</th>\n      <td>~</td>\n      <td>~</td>\n      <td>~</td>\n      <td>~</td>\n      <td>~</td>\n      <td>~</td>\n      <td>~</td>\n      <td>~</td>\n      <td>~</td>\n      <td>~</td>\n    </tr>\n    <tr>\n      <th>7</th>\n      <td>~</td>\n      <td>~</td>\n      <td>~</td>\n      <td>~</td>\n      <td>~</td>\n      <td>~</td>\n      <td>~</td>\n      <td>~</td>\n      <td>~</td>\n      <td>~</td>\n    </tr>\n    <tr>\n      <th>8</th>\n      <td>~</td>\n      <td>~</td>\n      <td>~</td>\n      <td>~</td>\n      <td>~</td>\n      <td>~</td>\n      <td>~</td>\n      <td>~</td>\n      <td>~</td>\n      <td>~</td>\n    </tr>\n    <tr>\n      <th>9</th>\n      <td>~</td>\n      <td>~</td>\n      <td>~</td>\n      <td>~</td>\n      <td>~</td>\n      <td>~</td>\n      <td>~</td>\n      <td>~</td>\n      <td>~</td>\n      <td>~</td>\n    </tr>\n    <tr>\n      <th>10</th>\n      <td>~</td>\n      <td>~</td>\n      <td>~</td>\n      <td>~</td>\n      <td>~</td>\n      <td>~</td>\n      <td>~</td>\n      <td>~</td>\n      <td>~</td>\n      <td>~</td>\n    </tr>\n  </tbody>\n</table>\n</div>"
     },
     "metadata": {},
     "execution_count": 23
    }
   ],
   "source": [
    "tablero1 = pd.DataFrame({1: \"~\", 2: \"~\",3: \"~\",4: \"~\",5: \"~\",6: \"~\",7: \"~\",8: \"~\",9: \"~\",10: \"~\"},index=[1, 2,3,4,5,6,7,8,9,10])\n",
    "tablero1"
   ]
  },
  {
   "cell_type": "code",
   "execution_count": 24,
   "metadata": {},
   "outputs": [],
   "source": [
    "class Barco:\n",
    "    def __init__(self, df): \n",
    "        self.df = df\n",
    "\n",
    "    def colocar_barco(self, size, df):\n",
    "        self.size = size\n",
    "\n",
    "        fil = int(input(\"Introduce la coordenada fila\"))\n",
    "        col = int(input(\"Introduce la coordenada columna\"))\n",
    "\n",
    "        if df.loc[fil,col] == \"#\" :\n",
    "            print(\"Ops! There´s already a boat,try again!\")\n",
    "\n",
    "\n",
    "        else:\n",
    "            h_v = input(\"escribe 'h' si quieres horizontal o 'v' si quieres vertical\")\n",
    "\n",
    "            if h_v == \"h\":\n",
    "                if col == 10:\n",
    "                    print(\"You´re out of range, try again!\")\n",
    "                else:\n",
    "                    fil = fil \n",
    "                    col_f = col + size -1\n",
    "            # Creo que aquí habría que meter un if\n",
    "                    df.loc[fil,col:col_f] = \"#\"\n",
    "                    print(tablero1)\n",
    "            #df.loc[4,5:5+2]\n",
    "\n",
    "            if h_v == \"v\":\n",
    "                if fil == 10:\n",
    "                    print(\"You´re boat is out of range, try again!\")\n",
    "                else: \n",
    "                    fil_f = fil + size -1\n",
    "                    col = col\n",
    "                    df.loc[fil:fil_f,col] = \"#\"\n",
    "                    print(tablero1)\n",
    "            return df"
   ]
  },
  {
   "cell_type": "code",
   "execution_count": 25,
   "metadata": {},
   "outputs": [
    {
     "output_type": "execute_result",
     "data": {
      "text/plain": [
       "   1  2  3  4  5  6  7  8  9  10\n",
       "1   ~  ~  ~  ~  ~  ~  ~  ~  ~  ~\n",
       "2   ~  ~  ~  ~  ~  ~  ~  ~  ~  ~\n",
       "3   ~  ~  ~  ~  ~  ~  ~  ~  ~  ~\n",
       "4   ~  ~  ~  ~  ~  ~  ~  ~  ~  ~\n",
       "5   ~  ~  ~  ~  ~  ~  ~  ~  ~  ~\n",
       "6   ~  ~  ~  ~  ~  ~  ~  ~  ~  ~\n",
       "7   ~  ~  ~  ~  ~  ~  ~  ~  ~  ~\n",
       "8   ~  ~  ~  ~  ~  ~  ~  ~  ~  ~\n",
       "9   ~  ~  ~  ~  ~  ~  ~  ~  ~  ~\n",
       "10  ~  ~  ~  ~  ~  ~  ~  ~  ~  ~"
      ],
      "text/html": "<div>\n<style scoped>\n    .dataframe tbody tr th:only-of-type {\n        vertical-align: middle;\n    }\n\n    .dataframe tbody tr th {\n        vertical-align: top;\n    }\n\n    .dataframe thead th {\n        text-align: right;\n    }\n</style>\n<table border=\"1\" class=\"dataframe\">\n  <thead>\n    <tr style=\"text-align: right;\">\n      <th></th>\n      <th>1</th>\n      <th>2</th>\n      <th>3</th>\n      <th>4</th>\n      <th>5</th>\n      <th>6</th>\n      <th>7</th>\n      <th>8</th>\n      <th>9</th>\n      <th>10</th>\n    </tr>\n  </thead>\n  <tbody>\n    <tr>\n      <th>1</th>\n      <td>~</td>\n      <td>~</td>\n      <td>~</td>\n      <td>~</td>\n      <td>~</td>\n      <td>~</td>\n      <td>~</td>\n      <td>~</td>\n      <td>~</td>\n      <td>~</td>\n    </tr>\n    <tr>\n      <th>2</th>\n      <td>~</td>\n      <td>~</td>\n      <td>~</td>\n      <td>~</td>\n      <td>~</td>\n      <td>~</td>\n      <td>~</td>\n      <td>~</td>\n      <td>~</td>\n      <td>~</td>\n    </tr>\n    <tr>\n      <th>3</th>\n      <td>~</td>\n      <td>~</td>\n      <td>~</td>\n      <td>~</td>\n      <td>~</td>\n      <td>~</td>\n      <td>~</td>\n      <td>~</td>\n      <td>~</td>\n      <td>~</td>\n    </tr>\n    <tr>\n      <th>4</th>\n      <td>~</td>\n      <td>~</td>\n      <td>~</td>\n      <td>~</td>\n      <td>~</td>\n      <td>~</td>\n      <td>~</td>\n      <td>~</td>\n      <td>~</td>\n      <td>~</td>\n    </tr>\n    <tr>\n      <th>5</th>\n      <td>~</td>\n      <td>~</td>\n      <td>~</td>\n      <td>~</td>\n      <td>~</td>\n      <td>~</td>\n      <td>~</td>\n      <td>~</td>\n      <td>~</td>\n      <td>~</td>\n    </tr>\n    <tr>\n      <th>6</th>\n      <td>~</td>\n      <td>~</td>\n      <td>~</td>\n      <td>~</td>\n      <td>~</td>\n      <td>~</td>\n      <td>~</td>\n      <td>~</td>\n      <td>~</td>\n      <td>~</td>\n    </tr>\n    <tr>\n      <th>7</th>\n      <td>~</td>\n      <td>~</td>\n      <td>~</td>\n      <td>~</td>\n      <td>~</td>\n      <td>~</td>\n      <td>~</td>\n      <td>~</td>\n      <td>~</td>\n      <td>~</td>\n    </tr>\n    <tr>\n      <th>8</th>\n      <td>~</td>\n      <td>~</td>\n      <td>~</td>\n      <td>~</td>\n      <td>~</td>\n      <td>~</td>\n      <td>~</td>\n      <td>~</td>\n      <td>~</td>\n      <td>~</td>\n    </tr>\n    <tr>\n      <th>9</th>\n      <td>~</td>\n      <td>~</td>\n      <td>~</td>\n      <td>~</td>\n      <td>~</td>\n      <td>~</td>\n      <td>~</td>\n      <td>~</td>\n      <td>~</td>\n      <td>~</td>\n    </tr>\n    <tr>\n      <th>10</th>\n      <td>~</td>\n      <td>~</td>\n      <td>~</td>\n      <td>~</td>\n      <td>~</td>\n      <td>~</td>\n      <td>~</td>\n      <td>~</td>\n      <td>~</td>\n      <td>~</td>\n    </tr>\n  </tbody>\n</table>\n</div>"
     },
     "metadata": {},
     "execution_count": 25
    }
   ],
   "source": [
    "barco_pequeño = Barco(tablero1)\n",
    "tablero1\n"
   ]
  },
  {
   "cell_type": "code",
   "execution_count": 14,
   "metadata": {},
   "outputs": [
    {
     "output_type": "stream",
     "name": "stdout",
     "text": [
      "You´re boat is out of range, try again!\n"
     ]
    },
    {
     "output_type": "execute_result",
     "data": {
      "text/plain": [
       "   1  2  3  4  5  6  7  8  9  10\n",
       "1   ~  ~  ~  ~  ~  ~  ~  ~  ~  ~\n",
       "2   ~  ~  ~  ~  ~  ~  ~  ~  ~  ~\n",
       "3   ~  ~  ~  #  #  ~  ~  ~  ~  ~\n",
       "4   ~  ~  ~  ~  ~  ~  ~  ~  ~  ~\n",
       "5   ~  ~  ~  ~  ~  ~  ~  ~  ~  ~\n",
       "6   ~  ~  ~  ~  ~  ~  ~  ~  ~  ~\n",
       "7   ~  ~  ~  ~  ~  ~  ~  ~  ~  ~\n",
       "8   ~  ~  ~  ~  ~  ~  ~  ~  ~  ~\n",
       "9   ~  ~  ~  ~  ~  ~  ~  ~  ~  ~\n",
       "10  ~  ~  ~  ~  ~  ~  ~  ~  ~  ~"
      ],
      "text/html": "<div>\n<style scoped>\n    .dataframe tbody tr th:only-of-type {\n        vertical-align: middle;\n    }\n\n    .dataframe tbody tr th {\n        vertical-align: top;\n    }\n\n    .dataframe thead th {\n        text-align: right;\n    }\n</style>\n<table border=\"1\" class=\"dataframe\">\n  <thead>\n    <tr style=\"text-align: right;\">\n      <th></th>\n      <th>1</th>\n      <th>2</th>\n      <th>3</th>\n      <th>4</th>\n      <th>5</th>\n      <th>6</th>\n      <th>7</th>\n      <th>8</th>\n      <th>9</th>\n      <th>10</th>\n    </tr>\n  </thead>\n  <tbody>\n    <tr>\n      <th>1</th>\n      <td>~</td>\n      <td>~</td>\n      <td>~</td>\n      <td>~</td>\n      <td>~</td>\n      <td>~</td>\n      <td>~</td>\n      <td>~</td>\n      <td>~</td>\n      <td>~</td>\n    </tr>\n    <tr>\n      <th>2</th>\n      <td>~</td>\n      <td>~</td>\n      <td>~</td>\n      <td>~</td>\n      <td>~</td>\n      <td>~</td>\n      <td>~</td>\n      <td>~</td>\n      <td>~</td>\n      <td>~</td>\n    </tr>\n    <tr>\n      <th>3</th>\n      <td>~</td>\n      <td>~</td>\n      <td>~</td>\n      <td>#</td>\n      <td>#</td>\n      <td>~</td>\n      <td>~</td>\n      <td>~</td>\n      <td>~</td>\n      <td>~</td>\n    </tr>\n    <tr>\n      <th>4</th>\n      <td>~</td>\n      <td>~</td>\n      <td>~</td>\n      <td>~</td>\n      <td>~</td>\n      <td>~</td>\n      <td>~</td>\n      <td>~</td>\n      <td>~</td>\n      <td>~</td>\n    </tr>\n    <tr>\n      <th>5</th>\n      <td>~</td>\n      <td>~</td>\n      <td>~</td>\n      <td>~</td>\n      <td>~</td>\n      <td>~</td>\n      <td>~</td>\n      <td>~</td>\n      <td>~</td>\n      <td>~</td>\n    </tr>\n    <tr>\n      <th>6</th>\n      <td>~</td>\n      <td>~</td>\n      <td>~</td>\n      <td>~</td>\n      <td>~</td>\n      <td>~</td>\n      <td>~</td>\n      <td>~</td>\n      <td>~</td>\n      <td>~</td>\n    </tr>\n    <tr>\n      <th>7</th>\n      <td>~</td>\n      <td>~</td>\n      <td>~</td>\n      <td>~</td>\n      <td>~</td>\n      <td>~</td>\n      <td>~</td>\n      <td>~</td>\n      <td>~</td>\n      <td>~</td>\n    </tr>\n    <tr>\n      <th>8</th>\n      <td>~</td>\n      <td>~</td>\n      <td>~</td>\n      <td>~</td>\n      <td>~</td>\n      <td>~</td>\n      <td>~</td>\n      <td>~</td>\n      <td>~</td>\n      <td>~</td>\n    </tr>\n    <tr>\n      <th>9</th>\n      <td>~</td>\n      <td>~</td>\n      <td>~</td>\n      <td>~</td>\n      <td>~</td>\n      <td>~</td>\n      <td>~</td>\n      <td>~</td>\n      <td>~</td>\n      <td>~</td>\n    </tr>\n    <tr>\n      <th>10</th>\n      <td>~</td>\n      <td>~</td>\n      <td>~</td>\n      <td>~</td>\n      <td>~</td>\n      <td>~</td>\n      <td>~</td>\n      <td>~</td>\n      <td>~</td>\n      <td>~</td>\n    </tr>\n  </tbody>\n</table>\n</div>"
     },
     "metadata": {},
     "execution_count": 14
    }
   ],
   "source": [
    "barco_pequeño.colocar_barco(2,tablero1)"
   ]
  },
  {
   "cell_type": "code",
   "execution_count": 26,
   "metadata": {},
   "outputs": [],
   "source": [
    "barco_medio = Barco(tablero1)"
   ]
  },
  {
   "cell_type": "code",
   "execution_count": null,
   "metadata": {},
   "outputs": [],
   "source": [
    "barco_grande = Barco(tablero1)\n",
    "barco_grande.colocar_barco(4,tablero1)"
   ]
  },
  {
   "cell_type": "code",
   "execution_count": null,
   "metadata": {},
   "outputs": [],
   "source": [
    "barco_gigante = Barco(tablero1)\n",
    "barco_gigante.colocar_barco(4,tablero1)"
   ]
  },
  {
   "cell_type": "code",
   "execution_count": 27,
   "metadata": {},
   "outputs": [
    {
     "output_type": "stream",
     "name": "stdout",
     "text": [
      "   1  2  3  4  5  6  7  8  9  10\n1   ~  ~  ~  ~  ~  ~  ~  ~  ~  ~\n2   ~  ~  ~  ~  ~  ~  ~  ~  ~  ~\n3   ~  ~  ~  ~  ~  ~  ~  ~  ~  ~\n4   ~  ~  ~  ~  ~  ~  ~  ~  ~  ~\n5   ~  ~  ~  ~  ~  ~  ~  ~  ~  ~\n6   ~  ~  ~  ~  ~  ~  ~  ~  ~  ~\n7   ~  ~  ~  ~  ~  ~  ~  ~  ~  ~\n8   ~  ~  ~  ~  ~  ~  ~  ~  ~  ~\n9   ~  ~  ~  ~  ~  ~  ~  ~  ~  ~\n10  ~  ~  ~  ~  ~  ~  ~  ~  #  #\n"
     ]
    },
    {
     "output_type": "error",
     "ename": "ValueError",
     "evalue": "The truth value of a DataFrame is ambiguous. Use a.empty, a.bool(), a.item(), a.any() or a.all().",
     "traceback": [
      "\u001b[1;31m---------------------------------------------------------------------------\u001b[0m",
      "\u001b[1;31mValueError\u001b[0m                                Traceback (most recent call last)",
      "\u001b[1;32m<ipython-input-27-068ff29714ee>\u001b[0m in \u001b[0;36m<module>\u001b[1;34m\u001b[0m\n\u001b[1;32m----> 1\u001b[1;33m \u001b[1;32mif\u001b[0m \u001b[0mbarco_pequeño\u001b[0m\u001b[1;33m.\u001b[0m\u001b[0mcolocar_barco\u001b[0m\u001b[1;33m(\u001b[0m\u001b[1;36m2\u001b[0m\u001b[1;33m,\u001b[0m\u001b[0mtablero1\u001b[0m\u001b[1;33m)\u001b[0m \u001b[1;33m==\u001b[0m \u001b[1;32mFalse\u001b[0m\u001b[1;33m:\u001b[0m\u001b[1;33m\u001b[0m\u001b[1;33m\u001b[0m\u001b[0m\n\u001b[0m\u001b[0;32m      2\u001b[0m     \u001b[0mprint\u001b[0m\u001b[1;33m(\u001b[0m\u001b[1;34m\"False\"\u001b[0m\u001b[1;33m)\u001b[0m\u001b[1;33m\u001b[0m\u001b[1;33m\u001b[0m\u001b[0m\n",
      "\u001b[1;32m~\\AppData\\Local\\Programs\\Python\\Python37\\lib\\site-packages\\pandas\\core\\generic.py\u001b[0m in \u001b[0;36m__nonzero__\u001b[1;34m(self)\u001b[0m\n\u001b[0;32m   1441\u001b[0m     \u001b[1;32mdef\u001b[0m \u001b[0m__nonzero__\u001b[0m\u001b[1;33m(\u001b[0m\u001b[0mself\u001b[0m\u001b[1;33m)\u001b[0m\u001b[1;33m:\u001b[0m\u001b[1;33m\u001b[0m\u001b[1;33m\u001b[0m\u001b[0m\n\u001b[0;32m   1442\u001b[0m         raise ValueError(\n\u001b[1;32m-> 1443\u001b[1;33m             \u001b[1;34mf\"The truth value of a {type(self).__name__} is ambiguous. \"\u001b[0m\u001b[1;33m\u001b[0m\u001b[1;33m\u001b[0m\u001b[0m\n\u001b[0m\u001b[0;32m   1444\u001b[0m             \u001b[1;34m\"Use a.empty, a.bool(), a.item(), a.any() or a.all().\"\u001b[0m\u001b[1;33m\u001b[0m\u001b[1;33m\u001b[0m\u001b[0m\n\u001b[0;32m   1445\u001b[0m         )\n",
      "\u001b[1;31mValueError\u001b[0m: The truth value of a DataFrame is ambiguous. Use a.empty, a.bool(), a.item(), a.any() or a.all()."
     ]
    }
   ],
   "source": [
    "if barco_pequeño.colocar_barco(2,tablero1) == False:\n",
    "    print(\"False\")"
   ]
  },
  {
   "cell_type": "code",
   "execution_count": 29,
   "metadata": {},
   "outputs": [
    {
     "output_type": "stream",
     "name": "stdout",
     "text": [
      "Coloca el barco1 de tamaño pequeño\n",
      "contador: 1\n",
      "Ops! There´s already a boat,try again!\n",
      "Coloca el barco2 de tamaño pequeño\n",
      "contador: 2\n",
      "   1  2  3  4  5  6  7  8  9  10\n",
      "1   ~  ~  ~  ~  ~  ~  ~  ~  ~  ~\n",
      "2   ~  ~  #  #  ~  ~  ~  ~  ~  ~\n",
      "3   ~  ~  ~  ~  ~  ~  ~  ~  ~  ~\n",
      "4   ~  ~  ~  ~  #  #  ~  ~  ~  ~\n",
      "5   ~  ~  ~  ~  ~  ~  ~  ~  ~  ~\n",
      "6   ~  ~  ~  ~  ~  ~  ~  ~  ~  ~\n",
      "7   ~  ~  ~  ~  ~  ~  ~  ~  ~  ~\n",
      "8   ~  ~  ~  ~  ~  ~  ~  ~  ~  ~\n",
      "9   ~  ~  ~  ~  ~  ~  ~  ~  ~  ~\n",
      "10  ~  ~  ~  ~  ~  ~  ~  ~  #  #\n",
      "Coloca el barco3 de tamaño pequeño\n",
      "contador: 3\n",
      "You´re out of range, try again!\n",
      "Coloca el barco4 de tamaño pequeño\n",
      "contador: 4\n"
     ]
    },
    {
     "output_type": "error",
     "ename": "ValueError",
     "evalue": "invalid literal for int() with base 10: ''",
     "traceback": [
      "\u001b[1;31m---------------------------------------------------------------------------\u001b[0m",
      "\u001b[1;31mValueError\u001b[0m                                Traceback (most recent call last)",
      "\u001b[1;32m<ipython-input-29-284df75509c9>\u001b[0m in \u001b[0;36m<module>\u001b[1;34m\u001b[0m\n\u001b[0;32m      9\u001b[0m     \u001b[1;32mreturn\u001b[0m \u001b[0mtablero1\u001b[0m\u001b[1;33m\u001b[0m\u001b[1;33m\u001b[0m\u001b[0m\n\u001b[0;32m     10\u001b[0m \u001b[1;33m\u001b[0m\u001b[0m\n\u001b[1;32m---> 11\u001b[1;33m \u001b[0mcoloca_tus_barcos\u001b[0m\u001b[1;33m(\u001b[0m\u001b[1;36m5\u001b[0m\u001b[1;33m,\u001b[0m \u001b[0mbarco_pequeño\u001b[0m\u001b[1;33m,\u001b[0m \u001b[1;34m\"pequeño\"\u001b[0m\u001b[1;33m)\u001b[0m\u001b[1;33m\u001b[0m\u001b[1;33m\u001b[0m\u001b[0m\n\u001b[0m",
      "\u001b[1;32m<ipython-input-29-284df75509c9>\u001b[0m in \u001b[0;36mcoloca_tus_barcos\u001b[1;34m(n, barco, tamaño)\u001b[0m\n\u001b[0;32m      4\u001b[0m         \u001b[0mprint\u001b[0m\u001b[1;33m(\u001b[0m\u001b[1;34mf'Coloca el barco{contador} de tamaño {tamaño}'\u001b[0m\u001b[1;33m)\u001b[0m\u001b[1;33m\u001b[0m\u001b[1;33m\u001b[0m\u001b[0m\n\u001b[0;32m      5\u001b[0m         \u001b[0mprint\u001b[0m\u001b[1;33m(\u001b[0m\u001b[1;34m\"contador:\"\u001b[0m\u001b[1;33m,\u001b[0m\u001b[0mcontador\u001b[0m\u001b[1;33m)\u001b[0m\u001b[1;33m\u001b[0m\u001b[1;33m\u001b[0m\u001b[0m\n\u001b[1;32m----> 6\u001b[1;33m         \u001b[0mbarco\u001b[0m\u001b[1;33m.\u001b[0m\u001b[0mcolocar_barco\u001b[0m\u001b[1;33m(\u001b[0m\u001b[1;36m2\u001b[0m\u001b[1;33m,\u001b[0m\u001b[0mtablero1\u001b[0m\u001b[1;33m)\u001b[0m\u001b[1;33m\u001b[0m\u001b[1;33m\u001b[0m\u001b[0m\n\u001b[0m\u001b[0;32m      7\u001b[0m         \u001b[0mcontador\u001b[0m \u001b[1;33m+=\u001b[0m\u001b[1;36m1\u001b[0m\u001b[1;33m\u001b[0m\u001b[1;33m\u001b[0m\u001b[0m\n\u001b[0;32m      8\u001b[0m \u001b[1;33m\u001b[0m\u001b[0m\n",
      "\u001b[1;32m<ipython-input-24-0aae5f2a09d7>\u001b[0m in \u001b[0;36mcolocar_barco\u001b[1;34m(self, size, df)\u001b[0m\n\u001b[0;32m      6\u001b[0m         \u001b[0mself\u001b[0m\u001b[1;33m.\u001b[0m\u001b[0msize\u001b[0m \u001b[1;33m=\u001b[0m \u001b[0msize\u001b[0m\u001b[1;33m\u001b[0m\u001b[1;33m\u001b[0m\u001b[0m\n\u001b[0;32m      7\u001b[0m \u001b[1;33m\u001b[0m\u001b[0m\n\u001b[1;32m----> 8\u001b[1;33m         \u001b[0mfil\u001b[0m \u001b[1;33m=\u001b[0m \u001b[0mint\u001b[0m\u001b[1;33m(\u001b[0m\u001b[0minput\u001b[0m\u001b[1;33m(\u001b[0m\u001b[1;34m\"Introduce la coordenada fila\"\u001b[0m\u001b[1;33m)\u001b[0m\u001b[1;33m)\u001b[0m\u001b[1;33m\u001b[0m\u001b[1;33m\u001b[0m\u001b[0m\n\u001b[0m\u001b[0;32m      9\u001b[0m         \u001b[0mcol\u001b[0m \u001b[1;33m=\u001b[0m \u001b[0mint\u001b[0m\u001b[1;33m(\u001b[0m\u001b[0minput\u001b[0m\u001b[1;33m(\u001b[0m\u001b[1;34m\"Introduce la coordenada columna\"\u001b[0m\u001b[1;33m)\u001b[0m\u001b[1;33m)\u001b[0m\u001b[1;33m\u001b[0m\u001b[1;33m\u001b[0m\u001b[0m\n\u001b[0;32m     10\u001b[0m \u001b[1;33m\u001b[0m\u001b[0m\n",
      "\u001b[1;31mValueError\u001b[0m: invalid literal for int() with base 10: ''"
     ]
    }
   ],
   "source": [
    "def coloca_tus_barcos(n,barco,tamaño):\n",
    "    contador = 1\n",
    "    while contador < n: \n",
    "        print(f'Coloca el barco{contador} de tamaño {tamaño}')\n",
    "        print(\"contador:\",contador)\n",
    "        barco.colocar_barco(2,tablero1)\n",
    "        contador +=1 \n",
    "\n",
    "    return tablero1\n",
    "\n",
    "coloca_tus_barcos(5, barco_pequeño, \"pequeño\")"
   ]
  },
  {
   "cell_type": "code",
   "execution_count": null,
   "metadata": {},
   "outputs": [],
   "source": [
    "# Aquí empezaríamos a jugar colocando los barcos: \n",
    "# Hacer un random para saber quién empieza a jugar, dado del 1 al 6, guardar los valores en una variable, y así decidir quien empieza a jugar\n",
    "coloca_tus_barcos(5, barco_pequeño, \"pequeño\")\n",
    "coloca_tus_barcos(4, barco_mediano, \"mediano\")\n",
    "coloca_tus_barcos(3, barco_grande, \"grande\")\n",
    "coloca_tus_barcos(2, barco_pequeño, \"gigante\")"
   ]
  }
 ]
}