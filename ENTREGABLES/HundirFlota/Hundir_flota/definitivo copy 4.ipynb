{
 "metadata": {
  "language_info": {
   "codemirror_mode": {
    "name": "ipython",
    "version": 3
   },
   "file_extension": ".py",
   "mimetype": "text/x-python",
   "name": "python",
   "nbconvert_exporter": "python",
   "pygments_lexer": "ipython3",
   "version": "3.7.4"
  },
  "orig_nbformat": 2,
  "kernelspec": {
   "name": "python374jvsc74a57bd0fc2c00f0e2c44cb4028bd693f18a1b5d93d1de4cd12db71fca36ff691a163044",
   "display_name": "Python 3.7.4 64-bit"
  },
  "metadata": {
   "interpreter": {
    "hash": "fc2c00f0e2c44cb4028bd693f18a1b5d93d1de4cd12db71fca36ff691a163044"
   }
  }
 },
 "nbformat": 4,
 "nbformat_minor": 2,
 "cells": [
  {
   "cell_type": "code",
   "execution_count": 11,
   "metadata": {},
   "outputs": [],
   "source": [
    "import pandas as pd \n",
    "import random"
   ]
  },
  {
   "cell_type": "code",
   "execution_count": 12,
   "metadata": {},
   "outputs": [
    {
     "output_type": "stream",
     "name": "stdout",
     "text": [
      "1º número: 2\n2º número 4\n"
     ]
    },
    {
     "output_type": "execute_result",
     "data": {
      "text/plain": [
       "('el jugador 1 es:', 'pablo', 'y el jugador 2 es:', 'marina')"
      ]
     },
     "metadata": {},
     "execution_count": 12
    }
   ],
   "source": [
    "\n",
    "def func_random(jugador1,jugador2):\n",
    "    x = random.randint(0,6)\n",
    "    y = random.randint(0,6)\n",
    "    print(\"1º número:\", x)\n",
    "    print(\"2º número\", y)\n",
    "    if x > y:\n",
    "        return \"el jugador 1 es:\",jugador1, \"y el jugador 2 es:\", jugador2\n",
    "    else:\n",
    "        return \"el jugador 1 es:\",jugador2, \"y el jugador 2 es:\", jugador1\n",
    "\n",
    "func_random(input(\"Nombre 1\"),input(\"Nombre 2\"))"
   ]
  },
  {
   "cell_type": "code",
   "execution_count": 2,
   "metadata": {},
   "outputs": [
    {
     "output_type": "execute_result",
     "data": {
      "text/plain": [
       "   1  2  3  4  5  6  7  8  9  10\n",
       "1   ~  ~  ~  ~  ~  ~  ~  ~  ~  ~\n",
       "2   ~  ~  ~  ~  ~  ~  ~  ~  ~  ~\n",
       "3   ~  ~  ~  ~  ~  ~  ~  ~  ~  ~\n",
       "4   ~  ~  ~  ~  ~  ~  ~  ~  ~  ~\n",
       "5   ~  ~  ~  ~  ~  ~  ~  ~  ~  ~\n",
       "6   ~  ~  ~  ~  ~  ~  ~  ~  ~  ~\n",
       "7   ~  ~  ~  ~  ~  ~  ~  ~  ~  ~\n",
       "8   ~  ~  ~  ~  ~  ~  ~  ~  ~  ~\n",
       "9   ~  ~  ~  ~  ~  ~  ~  ~  ~  ~\n",
       "10  ~  ~  ~  ~  ~  ~  ~  ~  ~  ~"
      ],
      "text/html": "<div>\n<style scoped>\n    .dataframe tbody tr th:only-of-type {\n        vertical-align: middle;\n    }\n\n    .dataframe tbody tr th {\n        vertical-align: top;\n    }\n\n    .dataframe thead th {\n        text-align: right;\n    }\n</style>\n<table border=\"1\" class=\"dataframe\">\n  <thead>\n    <tr style=\"text-align: right;\">\n      <th></th>\n      <th>1</th>\n      <th>2</th>\n      <th>3</th>\n      <th>4</th>\n      <th>5</th>\n      <th>6</th>\n      <th>7</th>\n      <th>8</th>\n      <th>9</th>\n      <th>10</th>\n    </tr>\n  </thead>\n  <tbody>\n    <tr>\n      <th>1</th>\n      <td>~</td>\n      <td>~</td>\n      <td>~</td>\n      <td>~</td>\n      <td>~</td>\n      <td>~</td>\n      <td>~</td>\n      <td>~</td>\n      <td>~</td>\n      <td>~</td>\n    </tr>\n    <tr>\n      <th>2</th>\n      <td>~</td>\n      <td>~</td>\n      <td>~</td>\n      <td>~</td>\n      <td>~</td>\n      <td>~</td>\n      <td>~</td>\n      <td>~</td>\n      <td>~</td>\n      <td>~</td>\n    </tr>\n    <tr>\n      <th>3</th>\n      <td>~</td>\n      <td>~</td>\n      <td>~</td>\n      <td>~</td>\n      <td>~</td>\n      <td>~</td>\n      <td>~</td>\n      <td>~</td>\n      <td>~</td>\n      <td>~</td>\n    </tr>\n    <tr>\n      <th>4</th>\n      <td>~</td>\n      <td>~</td>\n      <td>~</td>\n      <td>~</td>\n      <td>~</td>\n      <td>~</td>\n      <td>~</td>\n      <td>~</td>\n      <td>~</td>\n      <td>~</td>\n    </tr>\n    <tr>\n      <th>5</th>\n      <td>~</td>\n      <td>~</td>\n      <td>~</td>\n      <td>~</td>\n      <td>~</td>\n      <td>~</td>\n      <td>~</td>\n      <td>~</td>\n      <td>~</td>\n      <td>~</td>\n    </tr>\n    <tr>\n      <th>6</th>\n      <td>~</td>\n      <td>~</td>\n      <td>~</td>\n      <td>~</td>\n      <td>~</td>\n      <td>~</td>\n      <td>~</td>\n      <td>~</td>\n      <td>~</td>\n      <td>~</td>\n    </tr>\n    <tr>\n      <th>7</th>\n      <td>~</td>\n      <td>~</td>\n      <td>~</td>\n      <td>~</td>\n      <td>~</td>\n      <td>~</td>\n      <td>~</td>\n      <td>~</td>\n      <td>~</td>\n      <td>~</td>\n    </tr>\n    <tr>\n      <th>8</th>\n      <td>~</td>\n      <td>~</td>\n      <td>~</td>\n      <td>~</td>\n      <td>~</td>\n      <td>~</td>\n      <td>~</td>\n      <td>~</td>\n      <td>~</td>\n      <td>~</td>\n    </tr>\n    <tr>\n      <th>9</th>\n      <td>~</td>\n      <td>~</td>\n      <td>~</td>\n      <td>~</td>\n      <td>~</td>\n      <td>~</td>\n      <td>~</td>\n      <td>~</td>\n      <td>~</td>\n      <td>~</td>\n    </tr>\n    <tr>\n      <th>10</th>\n      <td>~</td>\n      <td>~</td>\n      <td>~</td>\n      <td>~</td>\n      <td>~</td>\n      <td>~</td>\n      <td>~</td>\n      <td>~</td>\n      <td>~</td>\n      <td>~</td>\n    </tr>\n  </tbody>\n</table>\n</div>"
     },
     "metadata": {},
     "execution_count": 2
    }
   ],
   "source": [
    "tablero1 = pd.DataFrame({1: \"~\", 2: \"~\",3: \"~\",4: \"~\",5: \"~\",6: \"~\",7: \"~\",8: \"~\",9: \"~\",10: \"~\"},index=[1, 2,3,4,5,6,7,8,9,10])\n",
    "tablero1"
   ]
  },
  {
   "cell_type": "code",
   "execution_count": 3,
   "metadata": {},
   "outputs": [
    {
     "output_type": "execute_result",
     "data": {
      "text/plain": [
       "   1  2  3  4  5  6  7  8  9  10\n",
       "1   ~  ~  ~  ~  ~  ~  ~  ~  ~  ~\n",
       "2   ~  ~  ~  ~  ~  ~  ~  ~  ~  ~\n",
       "3   ~  ~  ~  ~  ~  ~  ~  ~  ~  ~\n",
       "4   ~  ~  ~  ~  ~  ~  ~  ~  ~  ~\n",
       "5   ~  ~  ~  ~  ~  ~  ~  ~  ~  ~\n",
       "6   ~  ~  ~  ~  ~  ~  ~  ~  ~  ~\n",
       "7   ~  ~  ~  ~  ~  ~  ~  ~  ~  ~\n",
       "8   ~  ~  ~  ~  ~  ~  ~  ~  ~  ~\n",
       "9   ~  ~  ~  ~  ~  ~  ~  ~  ~  ~\n",
       "10  ~  ~  ~  ~  ~  ~  ~  ~  ~  ~"
      ],
      "text/html": "<div>\n<style scoped>\n    .dataframe tbody tr th:only-of-type {\n        vertical-align: middle;\n    }\n\n    .dataframe tbody tr th {\n        vertical-align: top;\n    }\n\n    .dataframe thead th {\n        text-align: right;\n    }\n</style>\n<table border=\"1\" class=\"dataframe\">\n  <thead>\n    <tr style=\"text-align: right;\">\n      <th></th>\n      <th>1</th>\n      <th>2</th>\n      <th>3</th>\n      <th>4</th>\n      <th>5</th>\n      <th>6</th>\n      <th>7</th>\n      <th>8</th>\n      <th>9</th>\n      <th>10</th>\n    </tr>\n  </thead>\n  <tbody>\n    <tr>\n      <th>1</th>\n      <td>~</td>\n      <td>~</td>\n      <td>~</td>\n      <td>~</td>\n      <td>~</td>\n      <td>~</td>\n      <td>~</td>\n      <td>~</td>\n      <td>~</td>\n      <td>~</td>\n    </tr>\n    <tr>\n      <th>2</th>\n      <td>~</td>\n      <td>~</td>\n      <td>~</td>\n      <td>~</td>\n      <td>~</td>\n      <td>~</td>\n      <td>~</td>\n      <td>~</td>\n      <td>~</td>\n      <td>~</td>\n    </tr>\n    <tr>\n      <th>3</th>\n      <td>~</td>\n      <td>~</td>\n      <td>~</td>\n      <td>~</td>\n      <td>~</td>\n      <td>~</td>\n      <td>~</td>\n      <td>~</td>\n      <td>~</td>\n      <td>~</td>\n    </tr>\n    <tr>\n      <th>4</th>\n      <td>~</td>\n      <td>~</td>\n      <td>~</td>\n      <td>~</td>\n      <td>~</td>\n      <td>~</td>\n      <td>~</td>\n      <td>~</td>\n      <td>~</td>\n      <td>~</td>\n    </tr>\n    <tr>\n      <th>5</th>\n      <td>~</td>\n      <td>~</td>\n      <td>~</td>\n      <td>~</td>\n      <td>~</td>\n      <td>~</td>\n      <td>~</td>\n      <td>~</td>\n      <td>~</td>\n      <td>~</td>\n    </tr>\n    <tr>\n      <th>6</th>\n      <td>~</td>\n      <td>~</td>\n      <td>~</td>\n      <td>~</td>\n      <td>~</td>\n      <td>~</td>\n      <td>~</td>\n      <td>~</td>\n      <td>~</td>\n      <td>~</td>\n    </tr>\n    <tr>\n      <th>7</th>\n      <td>~</td>\n      <td>~</td>\n      <td>~</td>\n      <td>~</td>\n      <td>~</td>\n      <td>~</td>\n      <td>~</td>\n      <td>~</td>\n      <td>~</td>\n      <td>~</td>\n    </tr>\n    <tr>\n      <th>8</th>\n      <td>~</td>\n      <td>~</td>\n      <td>~</td>\n      <td>~</td>\n      <td>~</td>\n      <td>~</td>\n      <td>~</td>\n      <td>~</td>\n      <td>~</td>\n      <td>~</td>\n    </tr>\n    <tr>\n      <th>9</th>\n      <td>~</td>\n      <td>~</td>\n      <td>~</td>\n      <td>~</td>\n      <td>~</td>\n      <td>~</td>\n      <td>~</td>\n      <td>~</td>\n      <td>~</td>\n      <td>~</td>\n    </tr>\n    <tr>\n      <th>10</th>\n      <td>~</td>\n      <td>~</td>\n      <td>~</td>\n      <td>~</td>\n      <td>~</td>\n      <td>~</td>\n      <td>~</td>\n      <td>~</td>\n      <td>~</td>\n      <td>~</td>\n    </tr>\n  </tbody>\n</table>\n</div>"
     },
     "metadata": {},
     "execution_count": 3
    }
   ],
   "source": [
    "tablero2 = pd.DataFrame({1: \"~\", 2: \"~\",3: \"~\",4: \"~\",5: \"~\",6: \"~\",7: \"~\",8: \"~\",9: \"~\",10: \"~\"},index=[1, 2,3,4,5,6,7,8,9,10])\n",
    "tablero2"
   ]
  },
  {
   "cell_type": "code",
   "execution_count": 5,
   "metadata": {},
   "outputs": [],
   "source": [
    "\"\"\" Definimos la Clase Barco con la función colocar barco, la cual coloca los barcos en el tablero:\n",
    "\n",
    "df = tablero1\n",
    "size = dimensiones del barco ( pequeño: 2, mediano: 3, grande: 4, gigante: 5)\n",
    "fil = fila\n",
    "col = columna\"\"\"\n",
    "\n",
    "class Barco: \n",
    "    def __init__(self, df): \n",
    "        self.df = df\n",
    "\n",
    "    def colocar_barco(self, size, df): # Introducimos el DataFrame (tablero que escogemos) y el size\n",
    "        self.size = size\n",
    "\n",
    "        fil = int(input(\"Introduce la coordenada fila\")) \n",
    "        col = int(input(\"Introduce la coordenada columna\"))\n",
    "\n",
    "# Si tenemos ya barco en la coordenada introducida:\n",
    "        if df.loc[fil,col] == \"#\" : \n",
    "            print(\"Ops! There´s already a boat,try again!\")\n",
    "\n",
    "\n",
    "        else:\n",
    "\n",
    "# Pedimos cómo queremos colocar el barco a partir de la coordenada inicial:\n",
    "            h_v = input(\"escribe 'h' si quieres horizontal o 'v' si quieres vertical\")\n",
    "\n",
    "# Ponemos las condiciones para que el barco no se sobreponga o no se sobresalga del tablero para el caso horizontal: \n",
    "            if h_v == \"h\":\n",
    "\n",
    "                if col == 10:\n",
    "                    print(\"You´re out of range\")\n",
    "\n",
    "                elif size == 5 and (col == 7 or col == 8 or col == 9):\n",
    "                    print(\"You´re out of range\")\n",
    "                \n",
    "                elif size == 4 and (col == 9 or col == 8):\n",
    "                    print(\"You´re out of range\")\n",
    "                \n",
    "                elif size == 3 and (col == 9):\n",
    "                    print(\"You´re out of range\")\n",
    "\n",
    "                elif size == 2 and df.loc[fil,col + 1 ] == \"#\": \n",
    "                    print(\"You´re crushing with another boat. Try again!\")\n",
    "                \n",
    "                elif size == 3 and (df.loc[fil,col + 1 ] == \"#\" or df.loc[fil,col + 2] == \"#\"):\n",
    "                    print(\"You´re crushing with another boat. Try again!\")\n",
    "                \n",
    "                elif size == 4 and (df.loc[fil,col + 1 ] == \"#\" or df.loc[fil,col + 2] == \"#\" or df.loc[fil,col + 3] == \"#\"):\n",
    "                    print(\"You´re crushing with another boat. Try again!\")\n",
    "\n",
    "                elif size == 5 and (df.loc[fil,col + 1 ] == \"#\" or df.loc[fil,col + 2] == \"#\" or df.loc[fil,col + 3] == \"#\" or df.loc[fil,col + 4] == \"#\"):\n",
    "                    print(\"You´re crushing with another boat. Try again!\")\n",
    "\n",
    "# Si todo está bien, entonces rellena el tablero con el barco indicado:\n",
    "                else:\n",
    "                    fil = fil \n",
    "                    col_f = col + size - 1\n",
    "            \n",
    "                    df.loc[fil,col:col_f] = \"#\"\n",
    "                    print(tablero1)\n",
    "                    return df\n",
    "        \n",
    "\n",
    "# Ponemos las condiciones para que el barco no se sobreponga o no se sobresalga del tablero para el caso horizontal: \n",
    "            if h_v == \"v\":\n",
    "\n",
    "                if fil == 10:\n",
    "                    print(\"You´re out of range\")\n",
    "                \n",
    "                elif size == 5 and (fil == 7 or fil == 8 or fil == 9):\n",
    "                    print(\"You´re out of range\")\n",
    "                \n",
    "                elif size == 4 and (fil == 9 or fil == 8):\n",
    "                    print(\"You´re out of range\")\n",
    "                \n",
    "                elif size == 3 and (fil == 9):\n",
    "                    print(\"You´re out of range\")\n",
    "\n",
    "                elif size == 2 and (df.loc[fil + 1, col] == \"#\"): \n",
    "                    print(\"You´re crushing with another boat. Try again!\")\n",
    "                \n",
    "                elif size == 3 and (df.loc[fil + 1, col] == \"#\" or df.loc[fil + 2, col] == \"#\"):\n",
    "                    print(\"You´re crushing with another boat. Try again!\")\n",
    "                \n",
    "                elif size == 4 and (df.loc[fil + 1, col] == \"#\" or df.loc[fil + 2, col] == \"#\" or df.loc[fil + 3, col] == \"#\"):\n",
    "                        print(\"You´re crushing with another boat. Try again!\")\n",
    "\n",
    "                elif size == 5 and (df.loc[fil + 1, col] == \"#\" or df.loc[fil + 2, col] == \"#\" or df.loc[fil + 3, col] == \"#\" or df.loc[fil + 4 , col] == \"#\"):\n",
    "                        print(\"You´re crushing with another boat. Try again!\")\n",
    "\n",
    "# Si todo está bien, entonces rellena el tablero con el barco indicado:\n",
    "                else: \n",
    "                    fil_f = fil + size -1\n",
    "                    col = col\n",
    "                    df.loc[fil:fil_f,col] = \"#\"\n",
    "                    print(tablero1)\n",
    "                    return df\n",
    "                    \n",
    "# Definimos una función para que te vaya pidiendo los barcos que hay que colocar:\n",
    "# n_barcos = número de barcos que hay que introducir\n",
    "# tamaño: pequeño, mediano, grande o gigante\n",
    "# n: la dimensión del barco (2, 3, 4, 5)\n",
    "# tablero: el tablero sobre el que colocamos los barcos\n",
    "\n",
    "    def coloca_tus_barcos(n_barcos,barco,tamaño,n, tablero):\n",
    "        contador = 1\n",
    "        print(\"contador1:\", contador)\n",
    "        while contador < n_barcos: \n",
    "            print(f'Coloca el barco{contador} de tamaño {tamaño} en el tablero')\n",
    "            \n",
    "            if type(barco.colocar_barco(n,tablero1)) != pd.core.frame.DataFrame:\n",
    "                print(\"Try Again!\") \n",
    "                contador -= 1\n",
    "            contador += 1\n",
    "\n",
    "        return tablero"
   ]
  },
  {
   "cell_type": "code",
   "execution_count": 6,
   "metadata": {},
   "outputs": [],
   "source": [
    "barco_pequeño = Barco(tablero1)\n",
    "barco_mediano = Barco(tablero1)\n",
    "barco_grande = Barco(tablero1)\n",
    "barco_gigante = Barco(tablero1)"
   ]
  },
  {
   "cell_type": "code",
   "execution_count": 7,
   "metadata": {},
   "outputs": [],
   "source": []
  },
  {
   "cell_type": "code",
   "execution_count": 7,
   "metadata": {},
   "outputs": [],
   "source": [
    "def coloca_jugador1():\n",
    "    Barco.coloca_tus_barcos(2, barco_gigante, \"gigante\", 5, tablero1)\n",
    "    Barco.coloca_tus_barcos(3, barco_grande, \"grande\", 4, tablero1)\n",
    "    Barco.coloca_tus_barcos(4, barco_mediano, \"mediano\", 3, tablero1)\n",
    "    Barco.coloca_tus_barcos(5, barco_pequeño, \"pequeño\", 2, tablero1)"
   ]
  },
  {
   "cell_type": "code",
   "execution_count": 9,
   "metadata": {},
   "outputs": [],
   "source": [
    "def coloca_jugador2():\n",
    "    Barco.coloca_tus_barcos(2, barco_gigante, \"gigante\", 5, tablero2)\n",
    "    Barco.coloca_tus_barcos(3, barco_grande, \"grande\", 4, tablero2)\n",
    "    Barco.coloca_tus_barcos(4, barco_mediano, \"mediano\", 3, tablero2)\n",
    "    Barco.coloca_tus_barcos(5, barco_pequeño, \"pequeño\", 2, tablero2)"
   ]
  },
  {
   "cell_type": "code",
   "execution_count": null,
   "metadata": {},
   "outputs": [],
   "source": []
  }
 ]
}