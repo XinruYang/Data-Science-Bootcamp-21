{
 "metadata": {
  "language_info": {
   "codemirror_mode": {
    "name": "ipython",
    "version": 3
   },
   "file_extension": ".py",
   "mimetype": "text/x-python",
   "name": "python",
   "nbconvert_exporter": "python",
   "pygments_lexer": "ipython3",
   "version": "3.7.4"
  },
  "orig_nbformat": 2,
  "kernelspec": {
   "name": "python374jvsc74a57bd0fc2c00f0e2c44cb4028bd693f18a1b5d93d1de4cd12db71fca36ff691a163044",
   "display_name": "Python 3.7.4 64-bit"
  },
  "metadata": {
   "interpreter": {
    "hash": "fc2c00f0e2c44cb4028bd693f18a1b5d93d1de4cd12db71fca36ff691a163044"
   }
  }
 },
 "nbformat": 4,
 "nbformat_minor": 2,
 "cells": [
  {
   "cell_type": "code",
   "execution_count": 1,
   "metadata": {},
   "outputs": [],
   "source": [
    "import pandas as pd "
   ]
  },
  {
   "cell_type": "code",
   "execution_count": 2,
   "metadata": {},
   "outputs": [],
   "source": [
    "from sklearn.datasets import load_iris, load_boston\n",
    "import seaborn as sns\n",
    "import pandas as pd\n",
    "import numpy as np\n",
    "import matplotlib.pyplot as plt "
   ]
  },
  {
   "cell_type": "code",
   "execution_count": 3,
   "metadata": {},
   "outputs": [
    {
     "output_type": "stream",
     "name": "stdout",
     "text": [
      "<class 'pandas.core.frame.DataFrame'>\nRangeIndex: 89679 entries, 0 to 89678\nData columns (total 59 columns):\n #   Column                                 Non-Null Count  Dtype         \n---  ------                                 --------------  -----         \n 0   iso_code                               89679 non-null  object        \n 1   continent                              85406 non-null  object        \n 2   country                                89679 non-null  object        \n 3   date                                   89679 non-null  datetime64[ns]\n 4   total_cases                            86654 non-null  float64       \n 5   new_cases                              86652 non-null  float64       \n 6   new_cases_smoothed                     85651 non-null  float64       \n 7   total_deaths                           76856 non-null  float64       \n 8   new_deaths                             77014 non-null  float64       \n 9   new_deaths_smoothed                    85651 non-null  float64       \n 10  total_cases_per_million                86187 non-null  float64       \n 11  new_cases_per_million                  86185 non-null  float64       \n 12  new_cases_smoothed_per_million         85189 non-null  float64       \n 13  total_deaths_per_million               76402 non-null  float64       \n 14  new_deaths_per_million                 76560 non-null  float64       \n 15  new_deaths_smoothed_per_million        85189 non-null  float64       \n 16  reproduction_rate                      72079 non-null  float64       \n 17  icu_patients                           9026 non-null   float64       \n 18  icu_patients_per_million               9026 non-null   float64       \n 19  hosp_patients                          11238 non-null  float64       \n 20  hosp_patients_per_million              11238 non-null  float64       \n 21  weekly_icu_admissions                  817 non-null    float64       \n 22  weekly_icu_admissions_per_million      817 non-null    float64       \n 23  weekly_hosp_admissions                 1418 non-null   float64       \n 24  weekly_hosp_admissions_per_million     1418 non-null   float64       \n 25  new_tests                              40537 non-null  float64       \n 26  total_tests                            40232 non-null  float64       \n 27  total_tests_per_thousand               40232 non-null  float64       \n 28  new_tests_per_thousand                 40537 non-null  float64       \n 29  new_tests_smoothed                     46891 non-null  float64       \n 30  new_tests_smoothed_per_thousand        46891 non-null  float64       \n 31  positive_rate                          43659 non-null  float64       \n 32  tests_per_case                         43065 non-null  float64       \n 33  tests_units                            48390 non-null  object        \n 34  total_vaccinations                     11432 non-null  float64       \n 35  people_vaccinated                      10675 non-null  float64       \n 36  people_fully_vaccinated                8175 non-null   float64       \n 37  new_vaccinations                       9629 non-null   float64       \n 38  new_vaccinations_smoothed              19179 non-null  float64       \n 39  total_vaccinations_per_hundred         11432 non-null  float64       \n 40  people_vaccinated_per_hundred          10675 non-null  float64       \n 41  people_fully_vaccinated_per_hundred    8175 non-null   float64       \n 42  new_vaccinations_smoothed_per_million  19179 non-null  float64       \n 43  stringency_index                       76201 non-null  float64       \n 44  population                             89088 non-null  float64       \n 45  population_density                     83437 non-null  float64       \n 46  median_age                             80628 non-null  float64       \n 47  aged_65_older                          79716 non-null  float64       \n 48  aged_70_older                          80180 non-null  float64       \n 49  gdp_per_capita                         80833 non-null  float64       \n 50  extreme_poverty                        54728 non-null  float64       \n 51  cardiovasc_death_rate                  81049 non-null  float64       \n 52  diabetes_prevalence                    82860 non-null  float64       \n 53  female_smokers                         63479 non-null  float64       \n 54  male_smokers                           62546 non-null  float64       \n 55  handwashing_facilities                 40718 non-null  float64       \n 56  hospital_beds_per_thousand             73931 non-null  float64       \n 57  life_expectancy                        85159 non-null  float64       \n 58  HDI                                    81226 non-null  float64       \ndtypes: datetime64[ns](1), float64(54), object(4)\nmemory usage: 40.4+ MB\n"
     ]
    }
   ],
   "source": [
    "# Leemos el DataFrame sobre el que vamos a trabajar\n",
    "covid = pd.read_csv(\"owid-covid-data.csv\")\n",
    "\n",
    "# Cambiamos el formato de la columna data a datetime\n",
    "covid['date'] = pd.to_datetime(covid['date'], format='%Y-%m-%d')\n",
    "\n",
    "# Renombramos la columna \"location\" y la llamamos \"country\" y \"human_development_index\": \"HDI\"\n",
    "covid.rename(columns={\"location\": \"country\", \"human_development_index\": \"HDI\"}, inplace=True)\n",
    "covid.info()"
   ]
  },
  {
   "cell_type": "code",
   "execution_count": 4,
   "metadata": {},
   "outputs": [
    {
     "output_type": "execute_result",
     "data": {
      "text/plain": [
       "      continent      country  median_age  aged_65_older  aged_70_older  \\\n",
       "0          Asia  Afghanistan        18.6          2.581          1.337   \n",
       "1          Asia  Afghanistan        18.6          2.581          1.337   \n",
       "2          Asia  Afghanistan        18.6          2.581          1.337   \n",
       "3          Asia  Afghanistan        18.6          2.581          1.337   \n",
       "4          Asia  Afghanistan        18.6          2.581          1.337   \n",
       "...         ...          ...         ...            ...            ...   \n",
       "61945    Africa     Zimbabwe        19.6          2.822          1.882   \n",
       "61946    Africa     Zimbabwe        19.6          2.822          1.882   \n",
       "61947    Africa     Zimbabwe        19.6          2.822          1.882   \n",
       "61948    Africa     Zimbabwe        19.6          2.822          1.882   \n",
       "61949    Africa     Zimbabwe        19.6          2.822          1.882   \n",
       "\n",
       "       non_risky_age  risky_age  total_cases  total_deaths  deaths_ratio  \\\n",
       "0             96.082      3.918         34.0           1.0      2.941176   \n",
       "1             96.082      3.918         41.0           1.0      2.439024   \n",
       "2             96.082      3.918         43.0           1.0      2.325581   \n",
       "3             96.082      3.918         76.0           2.0      2.631579   \n",
       "4             96.082      3.918         80.0           3.0      3.750000   \n",
       "...              ...        ...          ...           ...           ...   \n",
       "61945         95.296      4.704      38535.0        1582.0      4.105359   \n",
       "61946         95.296      4.704      38554.0        1582.0      4.103336   \n",
       "61947         95.296      4.704      38560.0        1582.0      4.102697   \n",
       "61948         95.296      4.704      38572.0        1582.0      4.101421   \n",
       "61949         95.296      4.704      38595.0        1583.0      4.101568   \n",
       "\n",
       "       hospital_beds_per_thousand  gdp_per_capita    HDI  \n",
       "0                             0.5        1803.987  0.511  \n",
       "1                             0.5        1803.987  0.511  \n",
       "2                             0.5        1803.987  0.511  \n",
       "3                             0.5        1803.987  0.511  \n",
       "4                             0.5        1803.987  0.511  \n",
       "...                           ...             ...    ...  \n",
       "61945                         1.7        1899.775  0.571  \n",
       "61946                         1.7        1899.775  0.571  \n",
       "61947                         1.7        1899.775  0.571  \n",
       "61948                         1.7        1899.775  0.571  \n",
       "61949                         1.7        1899.775  0.571  \n",
       "\n",
       "[61950 rows x 13 columns]"
      ],
      "text/html": "<div>\n<style scoped>\n    .dataframe tbody tr th:only-of-type {\n        vertical-align: middle;\n    }\n\n    .dataframe tbody tr th {\n        vertical-align: top;\n    }\n\n    .dataframe thead th {\n        text-align: right;\n    }\n</style>\n<table border=\"1\" class=\"dataframe\">\n  <thead>\n    <tr style=\"text-align: right;\">\n      <th></th>\n      <th>continent</th>\n      <th>country</th>\n      <th>median_age</th>\n      <th>aged_65_older</th>\n      <th>aged_70_older</th>\n      <th>non_risky_age</th>\n      <th>risky_age</th>\n      <th>total_cases</th>\n      <th>total_deaths</th>\n      <th>deaths_ratio</th>\n      <th>hospital_beds_per_thousand</th>\n      <th>gdp_per_capita</th>\n      <th>HDI</th>\n    </tr>\n  </thead>\n  <tbody>\n    <tr>\n      <th>0</th>\n      <td>Asia</td>\n      <td>Afghanistan</td>\n      <td>18.6</td>\n      <td>2.581</td>\n      <td>1.337</td>\n      <td>96.082</td>\n      <td>3.918</td>\n      <td>34.0</td>\n      <td>1.0</td>\n      <td>2.941176</td>\n      <td>0.5</td>\n      <td>1803.987</td>\n      <td>0.511</td>\n    </tr>\n    <tr>\n      <th>1</th>\n      <td>Asia</td>\n      <td>Afghanistan</td>\n      <td>18.6</td>\n      <td>2.581</td>\n      <td>1.337</td>\n      <td>96.082</td>\n      <td>3.918</td>\n      <td>41.0</td>\n      <td>1.0</td>\n      <td>2.439024</td>\n      <td>0.5</td>\n      <td>1803.987</td>\n      <td>0.511</td>\n    </tr>\n    <tr>\n      <th>2</th>\n      <td>Asia</td>\n      <td>Afghanistan</td>\n      <td>18.6</td>\n      <td>2.581</td>\n      <td>1.337</td>\n      <td>96.082</td>\n      <td>3.918</td>\n      <td>43.0</td>\n      <td>1.0</td>\n      <td>2.325581</td>\n      <td>0.5</td>\n      <td>1803.987</td>\n      <td>0.511</td>\n    </tr>\n    <tr>\n      <th>3</th>\n      <td>Asia</td>\n      <td>Afghanistan</td>\n      <td>18.6</td>\n      <td>2.581</td>\n      <td>1.337</td>\n      <td>96.082</td>\n      <td>3.918</td>\n      <td>76.0</td>\n      <td>2.0</td>\n      <td>2.631579</td>\n      <td>0.5</td>\n      <td>1803.987</td>\n      <td>0.511</td>\n    </tr>\n    <tr>\n      <th>4</th>\n      <td>Asia</td>\n      <td>Afghanistan</td>\n      <td>18.6</td>\n      <td>2.581</td>\n      <td>1.337</td>\n      <td>96.082</td>\n      <td>3.918</td>\n      <td>80.0</td>\n      <td>3.0</td>\n      <td>3.750000</td>\n      <td>0.5</td>\n      <td>1803.987</td>\n      <td>0.511</td>\n    </tr>\n    <tr>\n      <th>...</th>\n      <td>...</td>\n      <td>...</td>\n      <td>...</td>\n      <td>...</td>\n      <td>...</td>\n      <td>...</td>\n      <td>...</td>\n      <td>...</td>\n      <td>...</td>\n      <td>...</td>\n      <td>...</td>\n      <td>...</td>\n      <td>...</td>\n    </tr>\n    <tr>\n      <th>61945</th>\n      <td>Africa</td>\n      <td>Zimbabwe</td>\n      <td>19.6</td>\n      <td>2.822</td>\n      <td>1.882</td>\n      <td>95.296</td>\n      <td>4.704</td>\n      <td>38535.0</td>\n      <td>1582.0</td>\n      <td>4.105359</td>\n      <td>1.7</td>\n      <td>1899.775</td>\n      <td>0.571</td>\n    </tr>\n    <tr>\n      <th>61946</th>\n      <td>Africa</td>\n      <td>Zimbabwe</td>\n      <td>19.6</td>\n      <td>2.822</td>\n      <td>1.882</td>\n      <td>95.296</td>\n      <td>4.704</td>\n      <td>38554.0</td>\n      <td>1582.0</td>\n      <td>4.103336</td>\n      <td>1.7</td>\n      <td>1899.775</td>\n      <td>0.571</td>\n    </tr>\n    <tr>\n      <th>61947</th>\n      <td>Africa</td>\n      <td>Zimbabwe</td>\n      <td>19.6</td>\n      <td>2.822</td>\n      <td>1.882</td>\n      <td>95.296</td>\n      <td>4.704</td>\n      <td>38560.0</td>\n      <td>1582.0</td>\n      <td>4.102697</td>\n      <td>1.7</td>\n      <td>1899.775</td>\n      <td>0.571</td>\n    </tr>\n    <tr>\n      <th>61948</th>\n      <td>Africa</td>\n      <td>Zimbabwe</td>\n      <td>19.6</td>\n      <td>2.822</td>\n      <td>1.882</td>\n      <td>95.296</td>\n      <td>4.704</td>\n      <td>38572.0</td>\n      <td>1582.0</td>\n      <td>4.101421</td>\n      <td>1.7</td>\n      <td>1899.775</td>\n      <td>0.571</td>\n    </tr>\n    <tr>\n      <th>61949</th>\n      <td>Africa</td>\n      <td>Zimbabwe</td>\n      <td>19.6</td>\n      <td>2.822</td>\n      <td>1.882</td>\n      <td>95.296</td>\n      <td>4.704</td>\n      <td>38595.0</td>\n      <td>1583.0</td>\n      <td>4.101568</td>\n      <td>1.7</td>\n      <td>1899.775</td>\n      <td>0.571</td>\n    </tr>\n  </tbody>\n</table>\n<p>61950 rows × 13 columns</p>\n</div>"
     },
     "metadata": {},
     "execution_count": 4
    }
   ],
   "source": [
    "# Creamos un DataFrame con las columnas que queremos\n",
    "covid_data = covid.filter([\"continent\", \"country\", \"median_age\", \"aged_65_older\", \"aged_70_older\", \"total_cases\", \"total_deaths\", \"hospital_beds_per_thousand\", \"gdp_per_capita\", \"HDI\"], axis=1)\n",
    "\n",
    "# Añadimos nuevas columnas: el ratio de muertes y el porcentaje de personas con menos y más riesgo de muerte\n",
    "covid_data[\"deaths_ratio\"] = covid_data[\"total_deaths\"]/covid_data[\"total_cases\"] * 100\n",
    "covid_data[\"non_risky_age\"] = 100 - covid_data[\"aged_65_older\"] - covid_data[\"aged_70_older\"]\n",
    "covid_data[\"risky_age\"] = 100 - covid_data[\"non_risky_age\"]\n",
    "\n",
    "# Reordeno las columnas\n",
    "covid_data = covid_data[[\"continent\", \"country\", \"median_age\", \"aged_65_older\", \"aged_70_older\", \"non_risky_age\", \"risky_age\", \"total_cases\", \"total_deaths\", \"deaths_ratio\", \"hospital_beds_per_thousand\", \"gdp_per_capita\", \"HDI\"]]\n",
    "\n",
    "# Eliminamos los valores Nan y reseteamos el índice\n",
    "covid_data.dropna(inplace=True)\n",
    "covid_data.reset_index(drop=True, inplace=True)\n",
    "covid_data"
   ]
  },
  {
   "cell_type": "code",
   "execution_count": 5,
   "metadata": {},
   "outputs": [
    {
     "output_type": "execute_result",
     "data": {
      "text/plain": [
       "                 country      continent  median_age  aged_65_older  \\\n",
       "0            Afghanistan           Asia        18.6          2.581   \n",
       "1                Albania         Europe        38.0         13.188   \n",
       "2                Algeria         Africa        29.1          6.211   \n",
       "3    Antigua and Barbuda  North America        32.1          6.933   \n",
       "4              Argentina  South America        31.9         11.198   \n",
       "..                   ...            ...         ...            ...   \n",
       "150            Venezuela  South America        29.0          6.614   \n",
       "151              Vietnam           Asia        32.6          7.150   \n",
       "152                Yemen           Asia        20.3          2.922   \n",
       "153               Zambia         Africa        17.7          2.480   \n",
       "154             Zimbabwe         Africa        19.6          2.822   \n",
       "\n",
       "     aged_70_older  non_risky_age  risky_age  total_cases  total_deaths  \\\n",
       "0            1.337         96.082      3.918      63819.0        2751.0   \n",
       "1            8.643         78.169     21.831     132071.0        2436.0   \n",
       "2            3.857         89.932     10.068     125693.0        3388.0   \n",
       "3            4.631         88.436     11.564       1251.0          42.0   \n",
       "4            7.441         81.361     18.639    3371508.0       71771.0   \n",
       "..             ...            ...        ...          ...           ...   \n",
       "150          3.915         89.471     10.529     217603.0        2428.0   \n",
       "151          4.718         88.132     11.868       4512.0          37.0   \n",
       "152          1.583         95.495      4.505       6586.0        1297.0   \n",
       "153          1.542         95.978      4.022      92520.0        1263.0   \n",
       "154          1.882         95.296      4.704      38595.0        1583.0   \n",
       "\n",
       "     deaths_ratio  hospital_beds_per_thousand  gdp_per_capita    HDI  \n",
       "0        4.424171                        0.50        1803.987  0.511  \n",
       "1        8.333333                        2.89       11803.431  0.795  \n",
       "2       15.784165                        1.90       13913.839  0.748  \n",
       "3       13.043478                        3.80       21490.943  0.778  \n",
       "4        8.333333                        5.00       18933.907  0.845  \n",
       "..            ...                         ...             ...    ...  \n",
       "150      5.389222                        0.80       16745.022  0.711  \n",
       "151      3.346080                        2.60        6171.884  0.704  \n",
       "152     33.333333                        0.70        1479.147  0.470  \n",
       "153      5.000000                        2.00        3689.251  0.584  \n",
       "154     33.333333                        1.70        1899.775  0.571  \n",
       "\n",
       "[155 rows x 13 columns]"
      ],
      "text/html": "<div>\n<style scoped>\n    .dataframe tbody tr th:only-of-type {\n        vertical-align: middle;\n    }\n\n    .dataframe tbody tr th {\n        vertical-align: top;\n    }\n\n    .dataframe thead th {\n        text-align: right;\n    }\n</style>\n<table border=\"1\" class=\"dataframe\">\n  <thead>\n    <tr style=\"text-align: right;\">\n      <th></th>\n      <th>country</th>\n      <th>continent</th>\n      <th>median_age</th>\n      <th>aged_65_older</th>\n      <th>aged_70_older</th>\n      <th>non_risky_age</th>\n      <th>risky_age</th>\n      <th>total_cases</th>\n      <th>total_deaths</th>\n      <th>deaths_ratio</th>\n      <th>hospital_beds_per_thousand</th>\n      <th>gdp_per_capita</th>\n      <th>HDI</th>\n    </tr>\n  </thead>\n  <tbody>\n    <tr>\n      <th>0</th>\n      <td>Afghanistan</td>\n      <td>Asia</td>\n      <td>18.6</td>\n      <td>2.581</td>\n      <td>1.337</td>\n      <td>96.082</td>\n      <td>3.918</td>\n      <td>63819.0</td>\n      <td>2751.0</td>\n      <td>4.424171</td>\n      <td>0.50</td>\n      <td>1803.987</td>\n      <td>0.511</td>\n    </tr>\n    <tr>\n      <th>1</th>\n      <td>Albania</td>\n      <td>Europe</td>\n      <td>38.0</td>\n      <td>13.188</td>\n      <td>8.643</td>\n      <td>78.169</td>\n      <td>21.831</td>\n      <td>132071.0</td>\n      <td>2436.0</td>\n      <td>8.333333</td>\n      <td>2.89</td>\n      <td>11803.431</td>\n      <td>0.795</td>\n    </tr>\n    <tr>\n      <th>2</th>\n      <td>Algeria</td>\n      <td>Africa</td>\n      <td>29.1</td>\n      <td>6.211</td>\n      <td>3.857</td>\n      <td>89.932</td>\n      <td>10.068</td>\n      <td>125693.0</td>\n      <td>3388.0</td>\n      <td>15.784165</td>\n      <td>1.90</td>\n      <td>13913.839</td>\n      <td>0.748</td>\n    </tr>\n    <tr>\n      <th>3</th>\n      <td>Antigua and Barbuda</td>\n      <td>North America</td>\n      <td>32.1</td>\n      <td>6.933</td>\n      <td>4.631</td>\n      <td>88.436</td>\n      <td>11.564</td>\n      <td>1251.0</td>\n      <td>42.0</td>\n      <td>13.043478</td>\n      <td>3.80</td>\n      <td>21490.943</td>\n      <td>0.778</td>\n    </tr>\n    <tr>\n      <th>4</th>\n      <td>Argentina</td>\n      <td>South America</td>\n      <td>31.9</td>\n      <td>11.198</td>\n      <td>7.441</td>\n      <td>81.361</td>\n      <td>18.639</td>\n      <td>3371508.0</td>\n      <td>71771.0</td>\n      <td>8.333333</td>\n      <td>5.00</td>\n      <td>18933.907</td>\n      <td>0.845</td>\n    </tr>\n    <tr>\n      <th>...</th>\n      <td>...</td>\n      <td>...</td>\n      <td>...</td>\n      <td>...</td>\n      <td>...</td>\n      <td>...</td>\n      <td>...</td>\n      <td>...</td>\n      <td>...</td>\n      <td>...</td>\n      <td>...</td>\n      <td>...</td>\n      <td>...</td>\n    </tr>\n    <tr>\n      <th>150</th>\n      <td>Venezuela</td>\n      <td>South America</td>\n      <td>29.0</td>\n      <td>6.614</td>\n      <td>3.915</td>\n      <td>89.471</td>\n      <td>10.529</td>\n      <td>217603.0</td>\n      <td>2428.0</td>\n      <td>5.389222</td>\n      <td>0.80</td>\n      <td>16745.022</td>\n      <td>0.711</td>\n    </tr>\n    <tr>\n      <th>151</th>\n      <td>Vietnam</td>\n      <td>Asia</td>\n      <td>32.6</td>\n      <td>7.150</td>\n      <td>4.718</td>\n      <td>88.132</td>\n      <td>11.868</td>\n      <td>4512.0</td>\n      <td>37.0</td>\n      <td>3.346080</td>\n      <td>2.60</td>\n      <td>6171.884</td>\n      <td>0.704</td>\n    </tr>\n    <tr>\n      <th>152</th>\n      <td>Yemen</td>\n      <td>Asia</td>\n      <td>20.3</td>\n      <td>2.922</td>\n      <td>1.583</td>\n      <td>95.495</td>\n      <td>4.505</td>\n      <td>6586.0</td>\n      <td>1297.0</td>\n      <td>33.333333</td>\n      <td>0.70</td>\n      <td>1479.147</td>\n      <td>0.470</td>\n    </tr>\n    <tr>\n      <th>153</th>\n      <td>Zambia</td>\n      <td>Africa</td>\n      <td>17.7</td>\n      <td>2.480</td>\n      <td>1.542</td>\n      <td>95.978</td>\n      <td>4.022</td>\n      <td>92520.0</td>\n      <td>1263.0</td>\n      <td>5.000000</td>\n      <td>2.00</td>\n      <td>3689.251</td>\n      <td>0.584</td>\n    </tr>\n    <tr>\n      <th>154</th>\n      <td>Zimbabwe</td>\n      <td>Africa</td>\n      <td>19.6</td>\n      <td>2.822</td>\n      <td>1.882</td>\n      <td>95.296</td>\n      <td>4.704</td>\n      <td>38595.0</td>\n      <td>1583.0</td>\n      <td>33.333333</td>\n      <td>1.70</td>\n      <td>1899.775</td>\n      <td>0.571</td>\n    </tr>\n  </tbody>\n</table>\n<p>155 rows × 13 columns</p>\n</div>"
     },
     "metadata": {},
     "execution_count": 5
    }
   ],
   "source": [
    "covid_groupby = covid_data.groupby(\"country\").max()\n",
    "covid_groupby.reset_index(inplace=True)\n",
    "covid_groupby"
   ]
  },
  {
   "cell_type": "code",
   "execution_count": null,
   "metadata": {},
   "outputs": [],
   "source": [
    "# Leemos el csv de pobreza\n",
    "pobreza = pd.read_csv(\"pobreza_ratio.csv\")\n",
    "pobreza.rename(columns={\"Country\": \"country\"}, inplace=True)\n",
    "\n",
    "# Unimos el DataFrame \"covid_data_groupby\" con este de pobreza\n",
    "covid_data_pobreza = pd.merge(covid_groupby, pobreza, on=\"country\")\n",
    "covid_data_pobreza.drop(\"Unnamed: 0\", axis=1, inplace=True)\n",
    "covid_data_pobreza\n"
   ]
  },
  {
   "cell_type": "code",
   "execution_count": null,
   "metadata": {},
   "outputs": [],
   "source": [
    "covid_data.to_csv(\"0-covid_data.csv\")\n",
    "covid_groupby.to_csv(\"0-covid_groupby.csv\")\n",
    "covid_data_pobreza.to_csv(\"0_covid_pobreza.csv\")"
   ]
  },
  {
   "cell_type": "code",
   "execution_count": null,
   "metadata": {},
   "outputs": [],
   "source": [
    "# Hacemos un heatmap para ver la correlacion entre las diferentes columnas del DataFrame\n",
    "plt.figure(figsize=(10,10))\n",
    "sns.heatmap(covid_data_pobreza.corr(), annot=True)"
   ]
  },
  {
   "cell_type": "code",
   "execution_count": null,
   "metadata": {},
   "outputs": [],
   "source": [
    "covid_data_pobreza.corr()\n",
    "\n",
    "\"\"\"Interpretación de las correlaciones: \n",
    "\n",
    "median_age : \n",
    "- Mucha correlación positiva: cuanto mayor "
   ]
  },
  {
   "cell_type": "code",
   "execution_count": null,
   "metadata": {},
   "outputs": [],
   "source": []
  }
 ]
}