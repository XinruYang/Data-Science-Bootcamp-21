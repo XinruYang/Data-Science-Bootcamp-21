{
 "cells": [
  {
   "cell_type": "markdown",
   "metadata": {},
   "source": [
    "![EDA.png](img/proyecto_eda.png)"
   ]
  },
  {
   "cell_type": "markdown",
   "metadata": {},
   "source": [
    "# Primera entrega EDA: Definición del proyecto"
   ]
  },
  {
   "cell_type": "markdown",
   "metadata": {},
   "source": [
    "En este primer entregable se espera  hagas la búsqueda de datos e investigación suficiente como para definir lo que serán los primeros pasos de tu proyecto EDA y los datos que usarás incluyendo al menos un dataset principal (aunque también podrás incluir fuentes de datos alternativas).\n",
    "\n",
    "Tienes hasta el día _20/05/2021 a las 09:00_ para entregar este archivo completado. Posteriormente se os introducirá el proyecto y darán los detalles pertinentes."
   ]
  },
  {
   "source": [
    "### Tema"
   ],
   "cell_type": "markdown",
   "metadata": {}
  },
  {
   "cell_type": "code",
   "execution_count": 1,
   "metadata": {},
   "outputs": [],
   "source": [
    "SALUD "
   ]
  },
  {
   "source": [
    "### Título de proyecto"
   ],
   "cell_type": "markdown",
   "metadata": {}
  },
  {
   "source": [
    "POBREZA Y MORTALIDAD FRENTE AL COVID POR PAISES"
   ],
   "cell_type": "markdown",
   "metadata": {}
  },
  {
   "cell_type": "markdown",
   "metadata": {},
   "source": [
    "### Hipótesis\n",
    "Define aquí la que será la hipótesis de tu proyecto.\n",
    "Puede que tengas más de una, pero tu proyecto lo harás teniendo una principal hipótesis."
   ]
  },
  {
   "source": [
    "Hipótesis: La pobreza o riqueza de los países ha influido en la tasa de mortalidad frente al covid, siendo mayor la de los países más pobres. \n",
    "\n"
   ],
   "cell_type": "markdown",
   "metadata": {}
  },
  {
   "cell_type": "markdown",
   "metadata": {},
   "source": [
    "### Datasets\n",
    "Incluye aquí una breve descripción del dataset o datasets de los que partirás para poder evaluar tu hipótesis. También incluye el origen de estos datos y el formato en el que están."
   ]
  },
  {
   "source": [
    "# definición y enlaces de datasets en Markdown\n",
    "https://ourworldindata.org/covid-vaccinations\n",
    "\n",
    "columnas_dataset: 'iso_code', 'continent', 'location', 'date', 'total_cases', 'new_cases',\n",
    "       'new_cases_smoothed', 'total_deaths', 'new_deaths',\n",
    "       'new_deaths_smoothed', 'total_cases_per_million',\n",
    "       'new_cases_per_million', 'new_cases_smoothed_per_million',\n",
    "       'total_deaths_per_million', 'new_deaths_per_million',\n",
    "       'new_deaths_smoothed_per_million', 'reproduction_rate', 'icu_patients',\n",
    "       'icu_patients_per_million', 'hosp_patients',\n",
    "       'hosp_patients_per_million', 'weekly_icu_admissions',\n",
    "       'weekly_icu_admissions_per_million', 'weekly_hosp_admissions',\n",
    "       'weekly_hosp_admissions_per_million', 'new_tests', 'total_tests',\n",
    "       'total_tests_per_thousand', 'new_tests_per_thousand',\n",
    "       'new_tests_smoothed', 'new_tests_smoothed_per_thousand',\n",
    "       'positive_rate', 'tests_per_case', 'tests_units', 'total_vaccinations',\n",
    "       'people_vaccinated', 'people_fully_vaccinated', 'new_vaccinations',\n",
    "       'new_vaccinations_smoothed', 'total_vaccinations_per_hundred',\n",
    "       'people_vaccinated_per_hundred', 'people_fully_vaccinated_per_hundred',\n",
    "       'new_vaccinations_smoothed_per_million', 'stringency_index',\n",
    "       'population', 'population_density', 'median_age', 'aged_65_older',\n",
    "       'aged_70_older', 'gdp_per_capita', 'extreme_poverty',\n",
    "       'cardiovasc_death_rate', 'diabetes_prevalence', 'female_smokers',\n",
    "       'male_smokers', 'handwashing_facilities', 'hospital_beds_per_thousand',\n",
    "       'life_expectancy', 'human_development_index'"
   ],
   "cell_type": "markdown",
   "metadata": {}
  },
  {
   "source": [
    "Trabajar con otro dataset de pobreza, envejecimiento, "
   ],
   "cell_type": "markdown",
   "metadata": {}
  },
  {
   "cell_type": "markdown",
   "metadata": {},
   "source": [
    "### Fuentes alternativas de datos\n",
    "Como podrán ser webs a las que hacer web scraping o APIs de donde obtener información."
   ]
  },
  {
   "cell_type": "code",
   "execution_count": null,
   "metadata": {},
   "outputs": [],
   "source": [
    "# fuentes alternativas de datos en Markdown"
   ]
  },
  {
   "cell_type": "markdown",
   "metadata": {},
   "source": [
    "**¿De dónde saco los datos?** Posibles fuentes:\n",
    "\n",
    "- De los enlaces que están en el canal *links_of_interests* de Discord\n",
    "- https://www.kaggle.com/datasets\n",
    "- [API de Idealista](https://www.idealista.com/labs/)\n",
    "- [API de Booking](https://developers.booking.com/api/index.html)\n",
    "- [API de Tripadvisor](http://developer-tripadvisor.com/content-api/)\n",
    "- [API de Facebook](https://developers.facebook.com/docs/apis-and-sdks?locale=es_ES)\n",
    "- [API de Twitter](https://developer.twitter.com/en/docs)\n",
    "- [API de Instagram](https://www.instagram.com/developer/)\n",
    "- [APIs de Google Maps](https://cloud.google.com/maps-platform?hl=es)\n",
    "- [Google Timeline](https://www.google.es/maps/timeline?pb). Todo tu registro de actividad de Google, como los lugares que has visitado\n",
    "- [Alexa. Tráfico de webs](https://www.alexa.com/siteinfo)\n",
    "- [Catastro](https://ovc.catastro.meh.es/ovcservweb/OVCSWLocalizacionRC/OVCCoordenadas.asmx)\n",
    "- [Airbnb](http://insideairbnb.com/index.html)\n",
    "- Web scrapping. Acceso automatizado a cualquier web.\n",
    "- Kaggle: página con competiciones de data scientists. Muchísimos datasets.\n",
    "- QPython 3L: APP para ejecutar código Python en el movil. Podrás sacar datos de tu actividad con el teléfono (horarios, geoposicionamiento)\n",
    "- Coronavirus. Se están empezando a librerar muchísimos datasets con datos del coronavirus en todo el mundo. En Kaggle hay varios.\n",
    "- [Web de datos abiertos del gobierno](https://datos.gob.es/)\n",
    "- [OpenStreetMap](https://wiki.openstreetmap.org/wiki/API). Datos de ubicaciones (como Google Maps) abiertos\n",
    "- [Obtención de datos bursátiles](https://financetrain.com/best-python-librariespackages-finance-financial-data-scientists/)\n",
    "- [ESRI Datos abiertos España](https://opendata.esri.es/)\n",
    "- [INE](https://www.ine.es/nomen2/ficheros.do)\n",
    "- [Red.es](https://www.red.es/redes/es/que-hacemos/datos-abiertos)\n",
    "- [Datos abiertos gobierno](https://www.hacienda.gob.es/es-ES/GobiernoAbierto/Datos%20Abiertos/Paginas/Catalogodedatosabiertos.aspx)\n",
    "- [Ayuntamiento de Madrid](https://datos.madrid.es/portal/site/egob/)\n",
    "- [Ayuntamiento de Barcelona](https://opendata-ajuntament.barcelona.cat/es)\n",
    "- [Metro de Madrid](https://data-crtm.opendata.arcgis.com/)\n",
    "- [Portal datos europeo I](https://data.europa.eu/euodp/es/home)\n",
    "- [Portal datos europeo II](https://www.europeandataportal.eu/data/datasets?locale=en&minScoring=0)\n",
    "- [Google Dataset Search](https://datasetsearch.research.google.com/)\n",
    "- [Indicadores macro mundiales](https://databank.worldbank.org/home)\n",
    "- [Indicadores macro mundiales 2](https://ilostat.ilo.org/data/country-profiles/)"
   ]
  },
  {
   "cell_type": "code",
   "execution_count": 4,
   "metadata": {},
   "outputs": [],
   "source": [
    "import requests\n",
    "import pandas as pd"
   ]
  },
  {
   "cell_type": "code",
   "execution_count": 10,
   "metadata": {},
   "outputs": [
    {
     "output_type": "execute_result",
     "data": {
      "text/plain": [
       "             date continent      country  median_age  aged_65_older  \\\n",
       "0      2020-03-22      Asia  Afghanistan        18.6          2.581   \n",
       "1      2020-03-23      Asia  Afghanistan        18.6          2.581   \n",
       "2      2020-03-24      Asia  Afghanistan        18.6          2.581   \n",
       "3      2020-03-25      Asia  Afghanistan        18.6          2.581   \n",
       "4      2020-03-26      Asia  Afghanistan        18.6          2.581   \n",
       "...           ...       ...          ...         ...            ...   \n",
       "61945  2021-05-14    Africa     Zimbabwe        19.6          2.822   \n",
       "61946  2021-05-15    Africa     Zimbabwe        19.6          2.822   \n",
       "61947  2021-05-16    Africa     Zimbabwe        19.6          2.822   \n",
       "61948  2021-05-17    Africa     Zimbabwe        19.6          2.822   \n",
       "61949  2021-05-18    Africa     Zimbabwe        19.6          2.822   \n",
       "\n",
       "       aged_70_older  total_cases  total_deaths  hospital_beds_per_thousand  \\\n",
       "0              1.337         34.0           1.0                         0.5   \n",
       "1              1.337         41.0           1.0                         0.5   \n",
       "2              1.337         43.0           1.0                         0.5   \n",
       "3              1.337         76.0           2.0                         0.5   \n",
       "4              1.337         80.0           3.0                         0.5   \n",
       "...              ...          ...           ...                         ...   \n",
       "61945          1.882      38535.0        1582.0                         1.7   \n",
       "61946          1.882      38554.0        1582.0                         1.7   \n",
       "61947          1.882      38560.0        1582.0                         1.7   \n",
       "61948          1.882      38572.0        1582.0                         1.7   \n",
       "61949          1.882      38595.0        1583.0                         1.7   \n",
       "\n",
       "       gdp_per_capita    HDI  deaths_ratio  non_risky_age  risky_age  \\\n",
       "0            1803.987  0.511      2.941176         96.082      3.918   \n",
       "1            1803.987  0.511      2.439024         96.082      3.918   \n",
       "2            1803.987  0.511      2.325581         96.082      3.918   \n",
       "3            1803.987  0.511      2.631579         96.082      3.918   \n",
       "4            1803.987  0.511      3.750000         96.082      3.918   \n",
       "...               ...    ...           ...            ...        ...   \n",
       "61945        1899.775  0.571      4.105359         95.296      4.704   \n",
       "61946        1899.775  0.571      4.103336         95.296      4.704   \n",
       "61947        1899.775  0.571      4.102697         95.296      4.704   \n",
       "61948        1899.775  0.571      4.101421         95.296      4.704   \n",
       "61949        1899.775  0.571      4.101568         95.296      4.704   \n",
       "\n",
       "       Poverty %  \n",
       "0           0.00  \n",
       "1           0.00  \n",
       "2           0.00  \n",
       "3           0.00  \n",
       "4           0.00  \n",
       "...          ...  \n",
       "61945      33.12  \n",
       "61946      33.12  \n",
       "61947      33.12  \n",
       "61948      33.12  \n",
       "61949      33.12  \n",
       "\n",
       "[61950 rows x 15 columns]"
      ],
      "text/html": "<div>\n<style scoped>\n    .dataframe tbody tr th:only-of-type {\n        vertical-align: middle;\n    }\n\n    .dataframe tbody tr th {\n        vertical-align: top;\n    }\n\n    .dataframe thead th {\n        text-align: right;\n    }\n</style>\n<table border=\"1\" class=\"dataframe\">\n  <thead>\n    <tr style=\"text-align: right;\">\n      <th></th>\n      <th>date</th>\n      <th>continent</th>\n      <th>country</th>\n      <th>median_age</th>\n      <th>aged_65_older</th>\n      <th>aged_70_older</th>\n      <th>total_cases</th>\n      <th>total_deaths</th>\n      <th>hospital_beds_per_thousand</th>\n      <th>gdp_per_capita</th>\n      <th>HDI</th>\n      <th>deaths_ratio</th>\n      <th>non_risky_age</th>\n      <th>risky_age</th>\n      <th>Poverty %</th>\n    </tr>\n  </thead>\n  <tbody>\n    <tr>\n      <th>0</th>\n      <td>2020-03-22</td>\n      <td>Asia</td>\n      <td>Afghanistan</td>\n      <td>18.6</td>\n      <td>2.581</td>\n      <td>1.337</td>\n      <td>34.0</td>\n      <td>1.0</td>\n      <td>0.5</td>\n      <td>1803.987</td>\n      <td>0.511</td>\n      <td>2.941176</td>\n      <td>96.082</td>\n      <td>3.918</td>\n      <td>0.00</td>\n    </tr>\n    <tr>\n      <th>1</th>\n      <td>2020-03-23</td>\n      <td>Asia</td>\n      <td>Afghanistan</td>\n      <td>18.6</td>\n      <td>2.581</td>\n      <td>1.337</td>\n      <td>41.0</td>\n      <td>1.0</td>\n      <td>0.5</td>\n      <td>1803.987</td>\n      <td>0.511</td>\n      <td>2.439024</td>\n      <td>96.082</td>\n      <td>3.918</td>\n      <td>0.00</td>\n    </tr>\n    <tr>\n      <th>2</th>\n      <td>2020-03-24</td>\n      <td>Asia</td>\n      <td>Afghanistan</td>\n      <td>18.6</td>\n      <td>2.581</td>\n      <td>1.337</td>\n      <td>43.0</td>\n      <td>1.0</td>\n      <td>0.5</td>\n      <td>1803.987</td>\n      <td>0.511</td>\n      <td>2.325581</td>\n      <td>96.082</td>\n      <td>3.918</td>\n      <td>0.00</td>\n    </tr>\n    <tr>\n      <th>3</th>\n      <td>2020-03-25</td>\n      <td>Asia</td>\n      <td>Afghanistan</td>\n      <td>18.6</td>\n      <td>2.581</td>\n      <td>1.337</td>\n      <td>76.0</td>\n      <td>2.0</td>\n      <td>0.5</td>\n      <td>1803.987</td>\n      <td>0.511</td>\n      <td>2.631579</td>\n      <td>96.082</td>\n      <td>3.918</td>\n      <td>0.00</td>\n    </tr>\n    <tr>\n      <th>4</th>\n      <td>2020-03-26</td>\n      <td>Asia</td>\n      <td>Afghanistan</td>\n      <td>18.6</td>\n      <td>2.581</td>\n      <td>1.337</td>\n      <td>80.0</td>\n      <td>3.0</td>\n      <td>0.5</td>\n      <td>1803.987</td>\n      <td>0.511</td>\n      <td>3.750000</td>\n      <td>96.082</td>\n      <td>3.918</td>\n      <td>0.00</td>\n    </tr>\n    <tr>\n      <th>...</th>\n      <td>...</td>\n      <td>...</td>\n      <td>...</td>\n      <td>...</td>\n      <td>...</td>\n      <td>...</td>\n      <td>...</td>\n      <td>...</td>\n      <td>...</td>\n      <td>...</td>\n      <td>...</td>\n      <td>...</td>\n      <td>...</td>\n      <td>...</td>\n      <td>...</td>\n    </tr>\n    <tr>\n      <th>61945</th>\n      <td>2021-05-14</td>\n      <td>Africa</td>\n      <td>Zimbabwe</td>\n      <td>19.6</td>\n      <td>2.822</td>\n      <td>1.882</td>\n      <td>38535.0</td>\n      <td>1582.0</td>\n      <td>1.7</td>\n      <td>1899.775</td>\n      <td>0.571</td>\n      <td>4.105359</td>\n      <td>95.296</td>\n      <td>4.704</td>\n      <td>33.12</td>\n    </tr>\n    <tr>\n      <th>61946</th>\n      <td>2021-05-15</td>\n      <td>Africa</td>\n      <td>Zimbabwe</td>\n      <td>19.6</td>\n      <td>2.822</td>\n      <td>1.882</td>\n      <td>38554.0</td>\n      <td>1582.0</td>\n      <td>1.7</td>\n      <td>1899.775</td>\n      <td>0.571</td>\n      <td>4.103336</td>\n      <td>95.296</td>\n      <td>4.704</td>\n      <td>33.12</td>\n    </tr>\n    <tr>\n      <th>61947</th>\n      <td>2021-05-16</td>\n      <td>Africa</td>\n      <td>Zimbabwe</td>\n      <td>19.6</td>\n      <td>2.822</td>\n      <td>1.882</td>\n      <td>38560.0</td>\n      <td>1582.0</td>\n      <td>1.7</td>\n      <td>1899.775</td>\n      <td>0.571</td>\n      <td>4.102697</td>\n      <td>95.296</td>\n      <td>4.704</td>\n      <td>33.12</td>\n    </tr>\n    <tr>\n      <th>61948</th>\n      <td>2021-05-17</td>\n      <td>Africa</td>\n      <td>Zimbabwe</td>\n      <td>19.6</td>\n      <td>2.822</td>\n      <td>1.882</td>\n      <td>38572.0</td>\n      <td>1582.0</td>\n      <td>1.7</td>\n      <td>1899.775</td>\n      <td>0.571</td>\n      <td>4.101421</td>\n      <td>95.296</td>\n      <td>4.704</td>\n      <td>33.12</td>\n    </tr>\n    <tr>\n      <th>61949</th>\n      <td>2021-05-18</td>\n      <td>Africa</td>\n      <td>Zimbabwe</td>\n      <td>19.6</td>\n      <td>2.822</td>\n      <td>1.882</td>\n      <td>38595.0</td>\n      <td>1583.0</td>\n      <td>1.7</td>\n      <td>1899.775</td>\n      <td>0.571</td>\n      <td>4.101568</td>\n      <td>95.296</td>\n      <td>4.704</td>\n      <td>33.12</td>\n    </tr>\n  </tbody>\n</table>\n<p>61950 rows × 15 columns</p>\n</div>"
     },
     "metadata": {},
     "execution_count": 10
    }
   ],
   "source": [
    "r = requests.get(\"http://localhost:8080/give_me_id?token_id=T79045618\").json()\n",
    "\n",
    "pd.DataFrame(r)"
   ]
  },
  {
   "cell_type": "code",
   "execution_count": null,
   "metadata": {},
   "outputs": [],
   "source": []
  }
 ],
 "metadata": {
  "kernelspec": {
   "name": "python374jvsc74a57bd0fc2c00f0e2c44cb4028bd693f18a1b5d93d1de4cd12db71fca36ff691a163044",
   "display_name": "Python 3.7.4 64-bit"
  },
  "language_info": {
   "codemirror_mode": {
    "name": "ipython",
    "version": 3
   },
   "file_extension": ".py",
   "mimetype": "text/x-python",
   "name": "python",
   "nbconvert_exporter": "python",
   "pygments_lexer": "ipython3",
   "version": "3.7.4"
  },
  "metadata": {
   "interpreter": {
    "hash": "fc2c00f0e2c44cb4028bd693f18a1b5d93d1de4cd12db71fca36ff691a163044"
   }
  }
 },
 "nbformat": 4,
 "nbformat_minor": 5
}