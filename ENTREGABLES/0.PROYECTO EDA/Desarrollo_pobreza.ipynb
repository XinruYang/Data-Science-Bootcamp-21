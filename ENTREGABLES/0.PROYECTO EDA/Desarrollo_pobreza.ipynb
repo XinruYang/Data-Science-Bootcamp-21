{
 "metadata": {
  "language_info": {
   "codemirror_mode": {
    "name": "ipython",
    "version": 3
   },
   "file_extension": ".py",
   "mimetype": "text/x-python",
   "name": "python",
   "nbconvert_exporter": "python",
   "pygments_lexer": "ipython3",
   "version": "3.7.4"
  },
  "orig_nbformat": 2,
  "kernelspec": {
   "name": "python374jvsc74a57bd0fc2c00f0e2c44cb4028bd693f18a1b5d93d1de4cd12db71fca36ff691a163044",
   "display_name": "Python 3.7.4 64-bit"
  },
  "metadata": {
   "interpreter": {
    "hash": "fc2c00f0e2c44cb4028bd693f18a1b5d93d1de4cd12db71fca36ff691a163044"
   }
  }
 },
 "nbformat": 4,
 "nbformat_minor": 2,
 "cells": [
  {
   "cell_type": "code",
   "execution_count": 1,
   "metadata": {},
   "outputs": [],
   "source": [
    "import pandas as pd "
   ]
  },
  {
   "cell_type": "code",
   "execution_count": 6,
   "metadata": {},
   "outputs": [
    {
     "output_type": "execute_result",
     "data": {
      "text/plain": [
       "{0: 'El mundo árabe',\n",
       " 1: 'Estados pequeos del Caribe',\n",
       " 2: 'Europa Central y del Báltico',\n",
       " 3: 'inicial del dividendo demográfico',\n",
       " 4: 'Asia oriental y el Pacífico',\n",
       " 5: 'Asia oriental y el Pacífico (excluido altos ingresos)',\n",
       " 6: 'Asia oriental y el Pacífico (BIRF y la AIF)',\n",
       " 7: 'Zona del Euro',\n",
       " 8: 'Europa y Asia central',\n",
       " 9: 'Europa y Asia central (excluido altos ingresos)',\n",
       " 10: 'Europa y Asia central (BIRF y la AIF)',\n",
       " 11: 'Unión Europea',\n",
       " 12: 'Frágiles y situaciones de conflicto afectados',\n",
       " 13: 'Países pobres muy endeudados (PPME)',\n",
       " 14: 'Ingreso alto',\n",
       " 15: 'Sólo BIRF',\n",
       " 16: 'BIRF y la AIF',\n",
       " 17: 'mezcla de la AIF',\n",
       " 18: 'Sólo AIF',\n",
       " 19: 'total de la AIF',\n",
       " 20: 'avanzada del dividendo demográfico',\n",
       " 21: 'América Latina y el Caribe',\n",
       " 22: 'América Latina y el Caribe (excluido altos ingresos)',\n",
       " 23: 'América Latina y el Caribe (BIRF y la AIF)',\n",
       " 24: 'Países menos desarrollados: clasificación de las Naciones Unidas',\n",
       " 25: 'Ingreso mediano y bajo',\n",
       " 26: 'Países de ingreso bajo',\n",
       " 27: 'Países de ingreso mediano bajo',\n",
       " 28: 'Oriente Medio y Norte de África',\n",
       " 29: 'Oriente Medio y Norte de África (excluido altos ingresos)',\n",
       " 30: 'Oriente Medio y Norte de África (BIRF y la AIF)',\n",
       " 31: ' Ingreso mediano',\n",
       " 32: 'América del Norte',\n",
       " 33: 'No clasificado',\n",
       " 34: 'Miembros OCDE',\n",
       " 35: 'Otros Estados pequeos',\n",
       " 36: 'Estados pequeos de las Islas del Pacfico',\n",
       " 37: 'posterior al dividendo demográfico',\n",
       " 38: 'previa al dividendo demográfico',\n",
       " 39: 'Pequeños Estados',\n",
       " 40: 'Asia meridional',\n",
       " 41: 'Asia meridional (BIRF y la AIF)',\n",
       " 42: 'África al sur del Sahara',\n",
       " 43: 'África al sur del Sahara (excluido altos ingresos)',\n",
       " 44: 'África al sur del Sahara (BIRF y la AIF)',\n",
       " 45: 'Ingreso mediano alto',\n",
       " 46: 'Mundo',\n",
       " 47: 'Afganistán',\n",
       " 48: 'Albania',\n",
       " 49: 'Argelia',\n",
       " 50: 'Samoa Americana',\n",
       " 51: 'Andorra',\n",
       " 52: 'Angola',\n",
       " 53: 'Antigua y Barbuda',\n",
       " 54: 'Argentina',\n",
       " 55: 'Armenia',\n",
       " 56: 'Aruba',\n",
       " 57: 'Australia',\n",
       " 58: 'Austria',\n",
       " 59: 'Azerbaiyán',\n",
       " 60: 'Bahamas',\n",
       " 61: 'Bahrein',\n",
       " 62: 'Bangladesh',\n",
       " 63: 'Barbados',\n",
       " 64: 'Belarús',\n",
       " 65: 'Bélgica',\n",
       " 66: 'Belice',\n",
       " 67: 'Benin',\n",
       " 68: 'Bermudas',\n",
       " 69: 'Bhután',\n",
       " 70: 'Bolivia',\n",
       " 71: 'Bosnia y Herzegovina',\n",
       " 72: 'Botswana',\n",
       " 73: 'Brasil',\n",
       " 74: 'Islas Vírgenes Británicas',\n",
       " 75: 'Brunei Darussalam',\n",
       " 76: 'Bulgaria',\n",
       " 77: 'Burkina Faso',\n",
       " 78: 'Burundi',\n",
       " 79: 'Cabo Verde',\n",
       " 80: 'Camboya',\n",
       " 81: 'Camerún',\n",
       " 82: 'Canadá',\n",
       " 83: 'Islas Caimán',\n",
       " 84: 'República Centroafricana',\n",
       " 85: 'Chad',\n",
       " 86: 'Islas del Canal',\n",
       " 87: 'Chile',\n",
       " 88: 'China',\n",
       " 89: 'Colombia',\n",
       " 90: 'Comoras',\n",
       " 91: 'Congo, República Democrática del',\n",
       " 92: 'Congo, República del',\n",
       " 93: 'Costa Rica',\n",
       " 94: \"Côte d'Ivoire\",\n",
       " 95: 'Croacia',\n",
       " 96: 'Cuba',\n",
       " 97: 'Curacao',\n",
       " 98: 'Chipre',\n",
       " 99: 'República Checa',\n",
       " 100: 'Dinamarca',\n",
       " 101: 'Djibouti',\n",
       " 102: 'Dominica',\n",
       " 103: 'República Dominicana',\n",
       " 104: 'Ecuador',\n",
       " 105: 'Egipto, República Árabe de',\n",
       " 106: 'El Salvador',\n",
       " 107: 'Guinea Ecuatorial',\n",
       " 108: 'Eritrea',\n",
       " 109: 'Estonia',\n",
       " 110: 'Eswatini',\n",
       " 111: 'Etiopía',\n",
       " 112: 'Islas Feroe',\n",
       " 113: 'Fiji',\n",
       " 114: 'Finlandia',\n",
       " 115: 'Francia',\n",
       " 116: 'Polinesia Francesa',\n",
       " 117: 'Gabón',\n",
       " 118: 'Gambia',\n",
       " 119: 'Georgia',\n",
       " 120: 'Alemania',\n",
       " 121: 'Ghana',\n",
       " 122: 'Gibraltar',\n",
       " 123: 'Grecia',\n",
       " 124: 'Groenlandia',\n",
       " 125: 'Granada',\n",
       " 126: 'Guam',\n",
       " 127: 'Guatemala',\n",
       " 128: 'Guinea',\n",
       " 129: 'Guinea-Bissau',\n",
       " 130: 'Guyana',\n",
       " 131: 'Haití',\n",
       " 132: 'Honduras',\n",
       " 133: 'Hong Kong, Región Administrativa Especial',\n",
       " 134: 'Hungría',\n",
       " 135: 'Islandia',\n",
       " 136: 'India',\n",
       " 137: 'Indonesia',\n",
       " 138: 'Irán, República Islámica del',\n",
       " 139: 'Iraq',\n",
       " 140: 'Irlanda',\n",
       " 141: 'Isla de Man',\n",
       " 142: 'Israel',\n",
       " 143: 'Italia',\n",
       " 144: 'Jamaica',\n",
       " 145: 'Japón',\n",
       " 146: 'Jordania',\n",
       " 147: 'Kazajstán',\n",
       " 148: 'Kenya',\n",
       " 149: 'Kiribati',\n",
       " 150: 'Corea, República Popular Democrática de',\n",
       " 151: 'Corea, República de',\n",
       " 152: 'Kosovo',\n",
       " 153: 'Kuwait',\n",
       " 154: 'Kirguistán',\n",
       " 155: 'República Democrática Popular Lao',\n",
       " 156: 'Letonia',\n",
       " 157: 'Líbano',\n",
       " 158: 'Lesotho',\n",
       " 159: 'Liberia',\n",
       " 160: 'Libia',\n",
       " 161: 'Liechtenstein',\n",
       " 162: 'Lituania',\n",
       " 163: 'Luxemburgo',\n",
       " 164: 'Región Administrativa Especial de Macao, China',\n",
       " 165: 'Madagascar',\n",
       " 166: 'Malawi',\n",
       " 167: 'Malasia',\n",
       " 168: 'Maldivas',\n",
       " 169: 'Malí',\n",
       " 170: 'Malta',\n",
       " 171: 'Islas Marshall',\n",
       " 172: 'Mauritania',\n",
       " 173: 'Mauricio',\n",
       " 174: 'México',\n",
       " 175: 'Micronesia (Estados Federados de)',\n",
       " 176: 'República de Moldova',\n",
       " 177: 'Mónaco',\n",
       " 178: 'Mongolia',\n",
       " 179: 'Montenegro',\n",
       " 180: 'Marruecos',\n",
       " 181: 'Mozambique',\n",
       " 182: 'Myanmar',\n",
       " 183: 'Namibia',\n",
       " 184: 'Nauru',\n",
       " 185: 'Nepal',\n",
       " 186: 'Países Bajos',\n",
       " 187: 'Nueva Caledonia',\n",
       " 188: 'Nueva Zelandia',\n",
       " 189: 'Nicaragua',\n",
       " 190: 'Níger',\n",
       " 191: 'Nigeria',\n",
       " 192: 'Macedonia del Norte',\n",
       " 193: 'Mariana',\n",
       " 194: 'Noruega',\n",
       " 195: 'Omán',\n",
       " 196: 'Pakistán',\n",
       " 197: 'Palau',\n",
       " 198: 'Panamá',\n",
       " 199: 'Papua Nueva Guinea',\n",
       " 200: 'Paraguay',\n",
       " 201: 'Perú',\n",
       " 202: 'Filipinas',\n",
       " 203: 'Polonia',\n",
       " 204: 'Portugal',\n",
       " 205: 'Puerto Rico',\n",
       " 206: 'Qatar',\n",
       " 207: 'Rumania',\n",
       " 208: 'Federación de Rusia',\n",
       " 209: 'Rwanda',\n",
       " 210: 'Samoa',\n",
       " 211: 'San Marino',\n",
       " 212: 'Santo Tomé y Príncipe',\n",
       " 213: 'Arabia Saudita',\n",
       " 214: 'Senegal',\n",
       " 215: 'Serbia',\n",
       " 216: 'Seychelles',\n",
       " 217: 'Sierra Leona',\n",
       " 218: 'Singapur',\n",
       " 219: 'Sint Maarten (Dutch part)',\n",
       " 220: 'República Eslovaca',\n",
       " 221: 'Eslovenia',\n",
       " 222: 'Islas Salomón',\n",
       " 223: 'Somalia',\n",
       " 224: 'Sudáfrica',\n",
       " 225: 'Sudán del Sur',\n",
       " 226: 'España',\n",
       " 227: 'Sri Lanka',\n",
       " 228: 'Saint Kitts y Nevis',\n",
       " 229: 'Santa Lucía',\n",
       " 230: 'Isla de San Martín (parte francesa)',\n",
       " 231: 'San Vicente y las Granadinas',\n",
       " 232: 'Sudán',\n",
       " 233: 'Suriname',\n",
       " 234: 'Suecia',\n",
       " 235: 'Suiza',\n",
       " 236: 'República Árabe Siria',\n",
       " 237: 'Tayikistán',\n",
       " 238: 'Tanzanía',\n",
       " 239: 'Tailandia',\n",
       " 240: 'Timor-Leste',\n",
       " 241: 'Togo',\n",
       " 242: 'Tonga',\n",
       " 243: 'Trinidad y Tobago',\n",
       " 244: 'Túnez',\n",
       " 245: 'Turquía',\n",
       " 246: 'Turkmenistán',\n",
       " 247: 'Islas Turcas y Caicos',\n",
       " 248: 'Tuvalu',\n",
       " 249: 'Uganda',\n",
       " 250: 'Ucrania',\n",
       " 251: 'Emiratos Árabes Unidos',\n",
       " 252: 'Reino Unido',\n",
       " 253: 'Estados Unidos',\n",
       " 254: 'Uruguay',\n",
       " 255: 'Uzbekistán',\n",
       " 256: 'Vanuatu',\n",
       " 257: 'Venezuela',\n",
       " 258: 'Viet Nam',\n",
       " 259: 'Islas Vírgenes (EE.UU.)',\n",
       " 260: 'Ribera Occidental y Gaza',\n",
       " 261: 'Yemen, Rep. del',\n",
       " 262: 'Zambia',\n",
       " 263: 'Zimbabwe'}"
      ]
     },
     "metadata": {},
     "execution_count": 6
    }
   ],
   "source": [
    "dictionary = {}\n",
    "for pos, elem in enumerate(list(data[\"Country Name\"].values)):\n",
    "    key = pos\n",
    "    value = elem\n",
    "    dictionary[key] = value\n",
    "dictionary"
   ]
  },
  {
   "cell_type": "code",
   "execution_count": 7,
   "metadata": {},
   "outputs": [
    {
     "output_type": "execute_result",
     "data": {
      "text/plain": [
       "                 Country Name Country Code 2018 [YR2018] 2019 [YR2019]\n",
       "47                 Afganistán          AFG   18353881130   19291104008\n",
       "48                    Albania          ALB   15147020535   15279183290\n",
       "49                    Argelia          DZA   1,75406E+11   1,71091E+11\n",
       "50            Samoa Americana          ASM     636000000            ..\n",
       "51                    Andorra          AND    3218316013    3154057987\n",
       "..                        ...          ...           ...           ...\n",
       "259   Islas Vírgenes (EE.UU.)          VIR            ..            ..\n",
       "260  Ribera Occidental y Gaza          PSE   16276600000            ..\n",
       "261           Yemen, Rep. del          YEM   23486270352   22581081994\n",
       "262                    Zambia          ZMB   26312140829   23309773923\n",
       "263                  Zimbabwe          ZWE   24311560500   21440758800\n",
       "\n",
       "[217 rows x 4 columns]"
      ],
      "text/html": "<div>\n<style scoped>\n    .dataframe tbody tr th:only-of-type {\n        vertical-align: middle;\n    }\n\n    .dataframe tbody tr th {\n        vertical-align: top;\n    }\n\n    .dataframe thead th {\n        text-align: right;\n    }\n</style>\n<table border=\"1\" class=\"dataframe\">\n  <thead>\n    <tr style=\"text-align: right;\">\n      <th></th>\n      <th>Country Name</th>\n      <th>Country Code</th>\n      <th>2018 [YR2018]</th>\n      <th>2019 [YR2019]</th>\n    </tr>\n  </thead>\n  <tbody>\n    <tr>\n      <th>47</th>\n      <td>Afganistán</td>\n      <td>AFG</td>\n      <td>18353881130</td>\n      <td>19291104008</td>\n    </tr>\n    <tr>\n      <th>48</th>\n      <td>Albania</td>\n      <td>ALB</td>\n      <td>15147020535</td>\n      <td>15279183290</td>\n    </tr>\n    <tr>\n      <th>49</th>\n      <td>Argelia</td>\n      <td>DZA</td>\n      <td>1,75406E+11</td>\n      <td>1,71091E+11</td>\n    </tr>\n    <tr>\n      <th>50</th>\n      <td>Samoa Americana</td>\n      <td>ASM</td>\n      <td>636000000</td>\n      <td>..</td>\n    </tr>\n    <tr>\n      <th>51</th>\n      <td>Andorra</td>\n      <td>AND</td>\n      <td>3218316013</td>\n      <td>3154057987</td>\n    </tr>\n    <tr>\n      <th>...</th>\n      <td>...</td>\n      <td>...</td>\n      <td>...</td>\n      <td>...</td>\n    </tr>\n    <tr>\n      <th>259</th>\n      <td>Islas Vírgenes (EE.UU.)</td>\n      <td>VIR</td>\n      <td>..</td>\n      <td>..</td>\n    </tr>\n    <tr>\n      <th>260</th>\n      <td>Ribera Occidental y Gaza</td>\n      <td>PSE</td>\n      <td>16276600000</td>\n      <td>..</td>\n    </tr>\n    <tr>\n      <th>261</th>\n      <td>Yemen, Rep. del</td>\n      <td>YEM</td>\n      <td>23486270352</td>\n      <td>22581081994</td>\n    </tr>\n    <tr>\n      <th>262</th>\n      <td>Zambia</td>\n      <td>ZMB</td>\n      <td>26312140829</td>\n      <td>23309773923</td>\n    </tr>\n    <tr>\n      <th>263</th>\n      <td>Zimbabwe</td>\n      <td>ZWE</td>\n      <td>24311560500</td>\n      <td>21440758800</td>\n    </tr>\n  </tbody>\n</table>\n<p>217 rows × 4 columns</p>\n</div>"
     },
     "metadata": {},
     "execution_count": 7
    }
   ],
   "source": [
    "data = data[47:]\n",
    "data"
   ]
  },
  {
   "cell_type": "code",
   "execution_count": 8,
   "metadata": {},
   "outputs": [
    {
     "output_type": "execute_result",
     "data": {
      "text/plain": [
       "                 Country Name Country Code 2018 [YR2018] 2019 [YR2019]\n",
       "0                  Afganistán          AFG   18353881130   19291104008\n",
       "1                     Albania          ALB   15147020535   15279183290\n",
       "2                     Argelia          DZA   1,75406E+11   1,71091E+11\n",
       "3             Samoa Americana          ASM     636000000            ..\n",
       "4                     Andorra          AND    3218316013    3154057987\n",
       "..                        ...          ...           ...           ...\n",
       "212   Islas Vírgenes (EE.UU.)          VIR            ..            ..\n",
       "213  Ribera Occidental y Gaza          PSE   16276600000            ..\n",
       "214           Yemen, Rep. del          YEM   23486270352   22581081994\n",
       "215                    Zambia          ZMB   26312140829   23309773923\n",
       "216                  Zimbabwe          ZWE   24311560500   21440758800\n",
       "\n",
       "[217 rows x 4 columns]"
      ],
      "text/html": "<div>\n<style scoped>\n    .dataframe tbody tr th:only-of-type {\n        vertical-align: middle;\n    }\n\n    .dataframe tbody tr th {\n        vertical-align: top;\n    }\n\n    .dataframe thead th {\n        text-align: right;\n    }\n</style>\n<table border=\"1\" class=\"dataframe\">\n  <thead>\n    <tr style=\"text-align: right;\">\n      <th></th>\n      <th>Country Name</th>\n      <th>Country Code</th>\n      <th>2018 [YR2018]</th>\n      <th>2019 [YR2019]</th>\n    </tr>\n  </thead>\n  <tbody>\n    <tr>\n      <th>0</th>\n      <td>Afganistán</td>\n      <td>AFG</td>\n      <td>18353881130</td>\n      <td>19291104008</td>\n    </tr>\n    <tr>\n      <th>1</th>\n      <td>Albania</td>\n      <td>ALB</td>\n      <td>15147020535</td>\n      <td>15279183290</td>\n    </tr>\n    <tr>\n      <th>2</th>\n      <td>Argelia</td>\n      <td>DZA</td>\n      <td>1,75406E+11</td>\n      <td>1,71091E+11</td>\n    </tr>\n    <tr>\n      <th>3</th>\n      <td>Samoa Americana</td>\n      <td>ASM</td>\n      <td>636000000</td>\n      <td>..</td>\n    </tr>\n    <tr>\n      <th>4</th>\n      <td>Andorra</td>\n      <td>AND</td>\n      <td>3218316013</td>\n      <td>3154057987</td>\n    </tr>\n    <tr>\n      <th>...</th>\n      <td>...</td>\n      <td>...</td>\n      <td>...</td>\n      <td>...</td>\n    </tr>\n    <tr>\n      <th>212</th>\n      <td>Islas Vírgenes (EE.UU.)</td>\n      <td>VIR</td>\n      <td>..</td>\n      <td>..</td>\n    </tr>\n    <tr>\n      <th>213</th>\n      <td>Ribera Occidental y Gaza</td>\n      <td>PSE</td>\n      <td>16276600000</td>\n      <td>..</td>\n    </tr>\n    <tr>\n      <th>214</th>\n      <td>Yemen, Rep. del</td>\n      <td>YEM</td>\n      <td>23486270352</td>\n      <td>22581081994</td>\n    </tr>\n    <tr>\n      <th>215</th>\n      <td>Zambia</td>\n      <td>ZMB</td>\n      <td>26312140829</td>\n      <td>23309773923</td>\n    </tr>\n    <tr>\n      <th>216</th>\n      <td>Zimbabwe</td>\n      <td>ZWE</td>\n      <td>24311560500</td>\n      <td>21440758800</td>\n    </tr>\n  </tbody>\n</table>\n<p>217 rows × 4 columns</p>\n</div>"
     },
     "metadata": {},
     "execution_count": 8
    }
   ],
   "source": [
    "data.reset_index(drop=True)"
   ]
  },
  {
   "cell_type": "code",
   "execution_count": 9,
   "metadata": {},
   "outputs": [
    {
     "output_type": "execute_result",
     "data": {
      "text/plain": [
       "    HDI Rank     Country  2008-2021\n",
       "0         69    �Albania       1.10\n",
       "1         91    �Algeria       0.80\n",
       "2        148     �Angola      47.90\n",
       "3         46  �Argentina       1.30\n",
       "4         81    �Armenia       2.40\n",
       "..       ...         ...        ...\n",
       "148      140    �Vanuatu      13.50\n",
       "149      117   �Viet Nam       1.12\n",
       "150      179      �Yemen      18.11\n",
       "151      146     �Zambia      57.80\n",
       "152      150   �Zimbabwe      33.12\n",
       "\n",
       "[153 rows x 3 columns]"
      ],
      "text/html": "<div>\n<style scoped>\n    .dataframe tbody tr th:only-of-type {\n        vertical-align: middle;\n    }\n\n    .dataframe tbody tr th {\n        vertical-align: top;\n    }\n\n    .dataframe thead th {\n        text-align: right;\n    }\n</style>\n<table border=\"1\" class=\"dataframe\">\n  <thead>\n    <tr style=\"text-align: right;\">\n      <th></th>\n      <th>HDI Rank</th>\n      <th>Country</th>\n      <th>2008-2021</th>\n    </tr>\n  </thead>\n  <tbody>\n    <tr>\n      <th>0</th>\n      <td>69</td>\n      <td>�Albania</td>\n      <td>1.10</td>\n    </tr>\n    <tr>\n      <th>1</th>\n      <td>91</td>\n      <td>�Algeria</td>\n      <td>0.80</td>\n    </tr>\n    <tr>\n      <th>2</th>\n      <td>148</td>\n      <td>�Angola</td>\n      <td>47.90</td>\n    </tr>\n    <tr>\n      <th>3</th>\n      <td>46</td>\n      <td>�Argentina</td>\n      <td>1.30</td>\n    </tr>\n    <tr>\n      <th>4</th>\n      <td>81</td>\n      <td>�Armenia</td>\n      <td>2.40</td>\n    </tr>\n    <tr>\n      <th>...</th>\n      <td>...</td>\n      <td>...</td>\n      <td>...</td>\n    </tr>\n    <tr>\n      <th>148</th>\n      <td>140</td>\n      <td>�Vanuatu</td>\n      <td>13.50</td>\n    </tr>\n    <tr>\n      <th>149</th>\n      <td>117</td>\n      <td>�Viet Nam</td>\n      <td>1.12</td>\n    </tr>\n    <tr>\n      <th>150</th>\n      <td>179</td>\n      <td>�Yemen</td>\n      <td>18.11</td>\n    </tr>\n    <tr>\n      <th>151</th>\n      <td>146</td>\n      <td>�Zambia</td>\n      <td>57.80</td>\n    </tr>\n    <tr>\n      <th>152</th>\n      <td>150</td>\n      <td>�Zimbabwe</td>\n      <td>33.12</td>\n    </tr>\n  </tbody>\n</table>\n<p>153 rows × 3 columns</p>\n</div>"
     },
     "metadata": {},
     "execution_count": 9
    }
   ],
   "source": [
    "pobreza = pd.read_csv(\"pobreza.csv\", sep=\";\")\n",
    "pobreza"
   ]
  },
  {
   "cell_type": "code",
   "execution_count": 10,
   "metadata": {},
   "outputs": [
    {
     "output_type": "execute_result",
     "data": {
      "text/plain": [
       "'Algeria'"
      ]
     },
     "metadata": {},
     "execution_count": 10
    }
   ],
   "source": [
    "pobreza[\"Country\"][1][1:]"
   ]
  },
  {
   "cell_type": "code",
   "execution_count": 11,
   "metadata": {},
   "outputs": [
    {
     "output_type": "execute_result",
     "data": {
      "text/plain": [
       "    HDI Rank    Country  2008-2021\n",
       "0         69    Albania       1.10\n",
       "1         91    Algeria       0.80\n",
       "2        148     Angola      47.90\n",
       "3         46  Argentina       1.30\n",
       "4         81    Armenia       2.40\n",
       "..       ...        ...        ...\n",
       "148      140    Vanuatu      13.50\n",
       "149      117   Viet Nam       1.12\n",
       "150      179      Yemen      18.11\n",
       "151      146     Zambia      57.80\n",
       "152      150   Zimbabwe      33.12\n",
       "\n",
       "[153 rows x 3 columns]"
      ],
      "text/html": "<div>\n<style scoped>\n    .dataframe tbody tr th:only-of-type {\n        vertical-align: middle;\n    }\n\n    .dataframe tbody tr th {\n        vertical-align: top;\n    }\n\n    .dataframe thead th {\n        text-align: right;\n    }\n</style>\n<table border=\"1\" class=\"dataframe\">\n  <thead>\n    <tr style=\"text-align: right;\">\n      <th></th>\n      <th>HDI Rank</th>\n      <th>Country</th>\n      <th>2008-2021</th>\n    </tr>\n  </thead>\n  <tbody>\n    <tr>\n      <th>0</th>\n      <td>69</td>\n      <td>Albania</td>\n      <td>1.10</td>\n    </tr>\n    <tr>\n      <th>1</th>\n      <td>91</td>\n      <td>Algeria</td>\n      <td>0.80</td>\n    </tr>\n    <tr>\n      <th>2</th>\n      <td>148</td>\n      <td>Angola</td>\n      <td>47.90</td>\n    </tr>\n    <tr>\n      <th>3</th>\n      <td>46</td>\n      <td>Argentina</td>\n      <td>1.30</td>\n    </tr>\n    <tr>\n      <th>4</th>\n      <td>81</td>\n      <td>Armenia</td>\n      <td>2.40</td>\n    </tr>\n    <tr>\n      <th>...</th>\n      <td>...</td>\n      <td>...</td>\n      <td>...</td>\n    </tr>\n    <tr>\n      <th>148</th>\n      <td>140</td>\n      <td>Vanuatu</td>\n      <td>13.50</td>\n    </tr>\n    <tr>\n      <th>149</th>\n      <td>117</td>\n      <td>Viet Nam</td>\n      <td>1.12</td>\n    </tr>\n    <tr>\n      <th>150</th>\n      <td>179</td>\n      <td>Yemen</td>\n      <td>18.11</td>\n    </tr>\n    <tr>\n      <th>151</th>\n      <td>146</td>\n      <td>Zambia</td>\n      <td>57.80</td>\n    </tr>\n    <tr>\n      <th>152</th>\n      <td>150</td>\n      <td>Zimbabwe</td>\n      <td>33.12</td>\n    </tr>\n  </tbody>\n</table>\n<p>153 rows × 3 columns</p>\n</div>"
     },
     "metadata": {},
     "execution_count": 11
    }
   ],
   "source": [
    "pobreza[\"Country\"] = pobreza[\"Country\"].apply(lambda x: x[1:])\n",
    "pobreza"
   ]
  },
  {
   "cell_type": "code",
   "execution_count": 12,
   "metadata": {},
   "outputs": [
    {
     "output_type": "execute_result",
     "data": {
      "text/plain": [
       "       Country HDI Rank  2008-2021\n",
       "0      Albania       69       1.10\n",
       "1      Algeria       91       0.80\n",
       "2       Angola      148      47.90\n",
       "3    Argentina       46       1.30\n",
       "4      Armenia       81       2.40\n",
       "..         ...      ...        ...\n",
       "148    Vanuatu      140      13.50\n",
       "149   Viet Nam      117       1.12\n",
       "150      Yemen      179      18.11\n",
       "151     Zambia      146      57.80\n",
       "152   Zimbabwe      150      33.12\n",
       "\n",
       "[153 rows x 3 columns]"
      ],
      "text/html": "<div>\n<style scoped>\n    .dataframe tbody tr th:only-of-type {\n        vertical-align: middle;\n    }\n\n    .dataframe tbody tr th {\n        vertical-align: top;\n    }\n\n    .dataframe thead th {\n        text-align: right;\n    }\n</style>\n<table border=\"1\" class=\"dataframe\">\n  <thead>\n    <tr style=\"text-align: right;\">\n      <th></th>\n      <th>Country</th>\n      <th>HDI Rank</th>\n      <th>2008-2021</th>\n    </tr>\n  </thead>\n  <tbody>\n    <tr>\n      <th>0</th>\n      <td>Albania</td>\n      <td>69</td>\n      <td>1.10</td>\n    </tr>\n    <tr>\n      <th>1</th>\n      <td>Algeria</td>\n      <td>91</td>\n      <td>0.80</td>\n    </tr>\n    <tr>\n      <th>2</th>\n      <td>Angola</td>\n      <td>148</td>\n      <td>47.90</td>\n    </tr>\n    <tr>\n      <th>3</th>\n      <td>Argentina</td>\n      <td>46</td>\n      <td>1.30</td>\n    </tr>\n    <tr>\n      <th>4</th>\n      <td>Armenia</td>\n      <td>81</td>\n      <td>2.40</td>\n    </tr>\n    <tr>\n      <th>...</th>\n      <td>...</td>\n      <td>...</td>\n      <td>...</td>\n    </tr>\n    <tr>\n      <th>148</th>\n      <td>Vanuatu</td>\n      <td>140</td>\n      <td>13.50</td>\n    </tr>\n    <tr>\n      <th>149</th>\n      <td>Viet Nam</td>\n      <td>117</td>\n      <td>1.12</td>\n    </tr>\n    <tr>\n      <th>150</th>\n      <td>Yemen</td>\n      <td>179</td>\n      <td>18.11</td>\n    </tr>\n    <tr>\n      <th>151</th>\n      <td>Zambia</td>\n      <td>146</td>\n      <td>57.80</td>\n    </tr>\n    <tr>\n      <th>152</th>\n      <td>Zimbabwe</td>\n      <td>150</td>\n      <td>33.12</td>\n    </tr>\n  </tbody>\n</table>\n<p>153 rows × 3 columns</p>\n</div>"
     },
     "metadata": {},
     "execution_count": 12
    }
   ],
   "source": [
    "pobreza = pobreza[[\"Country\", \"HDI Rank\", \"2008-2021\"]]\n",
    "pobreza"
   ]
  },
  {
   "cell_type": "code",
   "execution_count": 13,
   "metadata": {},
   "outputs": [
    {
     "output_type": "execute_result",
     "data": {
      "text/plain": [
       "                                Country HDI Rank  2008-2021\n",
       "80                           Madagascar      164      77.90\n",
       "29   Congo (Democratic Republic of the)      175      76.90\n",
       "18                              Burundi      185      71.11\n",
       "81                               Malawi      174      70.60\n",
       "55                        Guinea-Bissau      175      67.40\n",
       "..                                  ...      ...        ...\n",
       "143                             Ukraine       74       0.00\n",
       "59                              Iceland        4       0.00\n",
       "69                           Kazakhstan       51       0.00\n",
       "8                               Belarus       53       0.00\n",
       "33                              Czechia       27       0.00\n",
       "\n",
       "[153 rows x 3 columns]"
      ],
      "text/html": "<div>\n<style scoped>\n    .dataframe tbody tr th:only-of-type {\n        vertical-align: middle;\n    }\n\n    .dataframe tbody tr th {\n        vertical-align: top;\n    }\n\n    .dataframe thead th {\n        text-align: right;\n    }\n</style>\n<table border=\"1\" class=\"dataframe\">\n  <thead>\n    <tr style=\"text-align: right;\">\n      <th></th>\n      <th>Country</th>\n      <th>HDI Rank</th>\n      <th>2008-2021</th>\n    </tr>\n  </thead>\n  <tbody>\n    <tr>\n      <th>80</th>\n      <td>Madagascar</td>\n      <td>164</td>\n      <td>77.90</td>\n    </tr>\n    <tr>\n      <th>29</th>\n      <td>Congo (Democratic Republic of the)</td>\n      <td>175</td>\n      <td>76.90</td>\n    </tr>\n    <tr>\n      <th>18</th>\n      <td>Burundi</td>\n      <td>185</td>\n      <td>71.11</td>\n    </tr>\n    <tr>\n      <th>81</th>\n      <td>Malawi</td>\n      <td>174</td>\n      <td>70.60</td>\n    </tr>\n    <tr>\n      <th>55</th>\n      <td>Guinea-Bissau</td>\n      <td>175</td>\n      <td>67.40</td>\n    </tr>\n    <tr>\n      <th>...</th>\n      <td>...</td>\n      <td>...</td>\n      <td>...</td>\n    </tr>\n    <tr>\n      <th>143</th>\n      <td>Ukraine</td>\n      <td>74</td>\n      <td>0.00</td>\n    </tr>\n    <tr>\n      <th>59</th>\n      <td>Iceland</td>\n      <td>4</td>\n      <td>0.00</td>\n    </tr>\n    <tr>\n      <th>69</th>\n      <td>Kazakhstan</td>\n      <td>51</td>\n      <td>0.00</td>\n    </tr>\n    <tr>\n      <th>8</th>\n      <td>Belarus</td>\n      <td>53</td>\n      <td>0.00</td>\n    </tr>\n    <tr>\n      <th>33</th>\n      <td>Czechia</td>\n      <td>27</td>\n      <td>0.00</td>\n    </tr>\n  </tbody>\n</table>\n<p>153 rows × 3 columns</p>\n</div>"
     },
     "metadata": {},
     "execution_count": 13
    }
   ],
   "source": [
    "pobreza_sort_poverty = pobreza.sort_values(by=\"2008-2021\", ascending=False)\n",
    "pobreza_sort_poverty"
   ]
  },
  {
   "cell_type": "code",
   "execution_count": 14,
   "metadata": {},
   "outputs": [
    {
     "output_type": "execute_result",
     "data": {
      "text/plain": [
       "array(['69', '91', '148', '46', '81', '8', '18', '133', '53', '14', '158',\n",
       "       '129', '107', '73', '100', '84', '56', '182', '185', '126', '153',\n",
       "       '16', '188', '187', '43', '85', '83', '156', '149', '175', '62',\n",
       "       '43', '33', '27', '162', '10', '166', '88', '86', '116', '124',\n",
       "       '29', '138', '173', '93', '11', '26', '119', '172', '61', '6',\n",
       "       '138', '32', '127', '178', '175', '170', '132', '40', '4', '131',\n",
       "       '107', '70', '123', '2', '19', '29', '19', '102', '51', '143',\n",
       "       '23', '120', '137', '37', '92', '165', '175', '34', '23', '164',\n",
       "       '174', '62', '95', '184', '28', '157', '66', '74', '136', '90',\n",
       "       '99', '48', '121', '181', '147', '130', '142', '8', '128', '189',\n",
       "       '161', '82', '1', '154', '115', '57', '155', '103', '79', '107',\n",
       "       '35', '38', '49', '52', '160', '86', '111', '135', '168', '64',\n",
       "       '67', '182', '39', '22', '151', '114', '185', '25', '72', '170',\n",
       "       '7', '2', '125', '163', '79', '141', '167', '104', '95', '54', '0',\n",
       "       '159', '74', '31', '13', '17', '55', '140', '117', '179', '146',\n",
       "       '150'], dtype=object)"
      ]
     },
     "metadata": {},
     "execution_count": 14
    }
   ],
   "source": [
    "pobreza[\"HDI Rank\"] = pobreza[\"HDI Rank\"].replace(\"..\", \"0\")\n",
    "pobreza[\"HDI Rank\"].values"
   ]
  },
  {
   "cell_type": "code",
   "execution_count": 15,
   "metadata": {},
   "outputs": [
    {
     "output_type": "stream",
     "name": "stdout",
     "text": [
      "<class 'pandas.core.frame.DataFrame'>\nRangeIndex: 153 entries, 0 to 152\nData columns (total 3 columns):\n #   Column     Non-Null Count  Dtype  \n---  ------     --------------  -----  \n 0   Country    153 non-null    object \n 1   HDI Rank   153 non-null    object \n 2   2008-2021  153 non-null    float64\ndtypes: float64(1), object(2)\nmemory usage: 3.7+ KB\n"
     ]
    }
   ],
   "source": [
    "pobreza.info()"
   ]
  },
  {
   "cell_type": "code",
   "execution_count": 16,
   "metadata": {},
   "outputs": [],
   "source": [
    "pobreza[\"HDI Rank\"] = pobreza[\"HDI Rank\"].astype(float)"
   ]
  },
  {
   "cell_type": "code",
   "execution_count": 17,
   "metadata": {},
   "outputs": [
    {
     "output_type": "execute_result",
     "data": {
      "text/plain": [
       "                      Country  HDI Rank  2008-2021\n",
       "100                     Niger     189.0      44.80\n",
       "22   Central African Republic     188.0      66.60\n",
       "23                       Chad     187.0      38.70\n",
       "18                    Burundi     185.0      71.11\n",
       "127               South Sudan     185.0      42.10\n",
       "..                        ...       ...        ...\n",
       "59                    Iceland       4.0       0.00\n",
       "132               Switzerland       2.0       0.00\n",
       "64                    Ireland       2.0       0.10\n",
       "103                    Norway       1.0       0.50\n",
       "141                    Tuvalu       0.0       3.60\n",
       "\n",
       "[153 rows x 3 columns]"
      ],
      "text/html": "<div>\n<style scoped>\n    .dataframe tbody tr th:only-of-type {\n        vertical-align: middle;\n    }\n\n    .dataframe tbody tr th {\n        vertical-align: top;\n    }\n\n    .dataframe thead th {\n        text-align: right;\n    }\n</style>\n<table border=\"1\" class=\"dataframe\">\n  <thead>\n    <tr style=\"text-align: right;\">\n      <th></th>\n      <th>Country</th>\n      <th>HDI Rank</th>\n      <th>2008-2021</th>\n    </tr>\n  </thead>\n  <tbody>\n    <tr>\n      <th>100</th>\n      <td>Niger</td>\n      <td>189.0</td>\n      <td>44.80</td>\n    </tr>\n    <tr>\n      <th>22</th>\n      <td>Central African Republic</td>\n      <td>188.0</td>\n      <td>66.60</td>\n    </tr>\n    <tr>\n      <th>23</th>\n      <td>Chad</td>\n      <td>187.0</td>\n      <td>38.70</td>\n    </tr>\n    <tr>\n      <th>18</th>\n      <td>Burundi</td>\n      <td>185.0</td>\n      <td>71.11</td>\n    </tr>\n    <tr>\n      <th>127</th>\n      <td>South Sudan</td>\n      <td>185.0</td>\n      <td>42.10</td>\n    </tr>\n    <tr>\n      <th>...</th>\n      <td>...</td>\n      <td>...</td>\n      <td>...</td>\n    </tr>\n    <tr>\n      <th>59</th>\n      <td>Iceland</td>\n      <td>4.0</td>\n      <td>0.00</td>\n    </tr>\n    <tr>\n      <th>132</th>\n      <td>Switzerland</td>\n      <td>2.0</td>\n      <td>0.00</td>\n    </tr>\n    <tr>\n      <th>64</th>\n      <td>Ireland</td>\n      <td>2.0</td>\n      <td>0.10</td>\n    </tr>\n    <tr>\n      <th>103</th>\n      <td>Norway</td>\n      <td>1.0</td>\n      <td>0.50</td>\n    </tr>\n    <tr>\n      <th>141</th>\n      <td>Tuvalu</td>\n      <td>0.0</td>\n      <td>3.60</td>\n    </tr>\n  </tbody>\n</table>\n<p>153 rows × 3 columns</p>\n</div>"
     },
     "metadata": {},
     "execution_count": 17
    }
   ],
   "source": [
    "pobreza_sort_HDI = pobreza.sort_values(by=\"HDI Rank\", ascending=False)\n",
    "pobreza_sort_HDI"
   ]
  },
  {
   "cell_type": "code",
   "execution_count": 22,
   "metadata": {},
   "outputs": [
    {
     "output_type": "execute_result",
     "data": {
      "text/plain": [
       "       Country  Poverty %\n",
       "0      Albania       1.10\n",
       "1      Algeria       0.80\n",
       "2       Angola      47.90\n",
       "3    Argentina       1.30\n",
       "4      Armenia       2.40\n",
       "..         ...        ...\n",
       "148    Vanuatu      13.50\n",
       "149   Viet Nam       1.12\n",
       "150      Yemen      18.11\n",
       "151     Zambia      57.80\n",
       "152   Zimbabwe      33.12\n",
       "\n",
       "[153 rows x 2 columns]"
      ],
      "text/html": "<div>\n<style scoped>\n    .dataframe tbody tr th:only-of-type {\n        vertical-align: middle;\n    }\n\n    .dataframe tbody tr th {\n        vertical-align: top;\n    }\n\n    .dataframe thead th {\n        text-align: right;\n    }\n</style>\n<table border=\"1\" class=\"dataframe\">\n  <thead>\n    <tr style=\"text-align: right;\">\n      <th></th>\n      <th>Country</th>\n      <th>Poverty %</th>\n    </tr>\n  </thead>\n  <tbody>\n    <tr>\n      <th>0</th>\n      <td>Albania</td>\n      <td>1.10</td>\n    </tr>\n    <tr>\n      <th>1</th>\n      <td>Algeria</td>\n      <td>0.80</td>\n    </tr>\n    <tr>\n      <th>2</th>\n      <td>Angola</td>\n      <td>47.90</td>\n    </tr>\n    <tr>\n      <th>3</th>\n      <td>Argentina</td>\n      <td>1.30</td>\n    </tr>\n    <tr>\n      <th>4</th>\n      <td>Armenia</td>\n      <td>2.40</td>\n    </tr>\n    <tr>\n      <th>...</th>\n      <td>...</td>\n      <td>...</td>\n    </tr>\n    <tr>\n      <th>148</th>\n      <td>Vanuatu</td>\n      <td>13.50</td>\n    </tr>\n    <tr>\n      <th>149</th>\n      <td>Viet Nam</td>\n      <td>1.12</td>\n    </tr>\n    <tr>\n      <th>150</th>\n      <td>Yemen</td>\n      <td>18.11</td>\n    </tr>\n    <tr>\n      <th>151</th>\n      <td>Zambia</td>\n      <td>57.80</td>\n    </tr>\n    <tr>\n      <th>152</th>\n      <td>Zimbabwe</td>\n      <td>33.12</td>\n    </tr>\n  </tbody>\n</table>\n<p>153 rows × 2 columns</p>\n</div>"
     },
     "metadata": {},
     "execution_count": 22
    }
   ],
   "source": [
    "#for country in pobreza.values:\n",
    "    #print(country[1],\"-->\", end=\" \")\n",
    "    #print(country[1][1:])\n",
    "    #print()\n",
    "    #country[1] = country[1][1:]\n",
    "pobreza.rename(columns={\"2008-2021\":\"Poverty %\"}, inplace=True)\n",
    "pobreza.drop(\"HDI Rank\", axis=1, inplace=True)\n",
    "pobreza"
   ]
  },
  {
   "cell_type": "code",
   "execution_count": 23,
   "metadata": {},
   "outputs": [],
   "source": [
    "pobreza.to_csv(\"pobreza_ratio.csv\")"
   ]
  },
  {
   "cell_type": "code",
   "execution_count": null,
   "metadata": {},
   "outputs": [],
   "source": []
  }
 ]
}