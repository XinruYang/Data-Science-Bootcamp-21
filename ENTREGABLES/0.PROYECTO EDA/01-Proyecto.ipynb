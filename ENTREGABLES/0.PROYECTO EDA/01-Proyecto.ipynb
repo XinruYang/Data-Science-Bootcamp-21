{
 "metadata": {
  "language_info": {
   "codemirror_mode": {
    "name": "ipython",
    "version": 3
   },
   "file_extension": ".py",
   "mimetype": "text/x-python",
   "name": "python",
   "nbconvert_exporter": "python",
   "pygments_lexer": "ipython3",
   "version": "3.7.4"
  },
  "orig_nbformat": 2,
  "kernelspec": {
   "name": "python374jvsc74a57bd0fc2c00f0e2c44cb4028bd693f18a1b5d93d1de4cd12db71fca36ff691a163044",
   "display_name": "Python 3.7.4 64-bit"
  },
  "metadata": {
   "interpreter": {
    "hash": "fc2c00f0e2c44cb4028bd693f18a1b5d93d1de4cd12db71fca36ff691a163044"
   }
  }
 },
 "nbformat": 4,
 "nbformat_minor": 2,
 "cells": [
  {
   "cell_type": "code",
   "execution_count": 1,
   "metadata": {},
   "outputs": [],
   "source": [
    "import pandas as pd \n",
    "from sklearn.datasets import load_iris, load_boston\n",
    "import seaborn as sns\n",
    "import pandas as pd\n",
    "import numpy as np\n",
    "import matplotlib.pyplot as plt \n",
    "import dtale"
   ]
  },
  {
   "cell_type": "code",
   "execution_count": 2,
   "metadata": {},
   "outputs": [],
   "source": [
    "def lectura_data_inicial():\n",
    "    # Leemos el DataFrame sobre el que vamos a trabajar\n",
    "    covid = pd.read_csv(\"owid-covid-data.csv\")\n",
    "\n",
    "    # Cambiamos el formato de la columna data a datetime\n",
    "    covid['date'] = pd.to_datetime(covid['date'], format='%Y-%m-%d')\n",
    "\n",
    "    # Renombramos la columna \"location\" y la llamamos \"country\" y \"human_development_index\": \"HDI\"\n",
    "    covid.rename(columns={\"location\": \"country\", \"human_development_index\": \"HDI\"}, inplace=True)\n",
    "    \n",
    "    return covid"
   ]
  },
  {
   "cell_type": "code",
   "execution_count": 3,
   "metadata": {},
   "outputs": [],
   "source": [
    "covid = lectura_data_inicial()"
   ]
  },
  {
   "cell_type": "code",
   "execution_count": 4,
   "metadata": {},
   "outputs": [
    {
     "output_type": "display_data",
     "data": {
      "text/plain": "<IPython.lib.display.IFrame at 0x1b865c72e48>",
      "text/html": "\n        <iframe\n            width=\"100%\"\n            height=\"475\"\n            src=\"http://DESKTOP-UJPC5BH:40000/dtale/iframe/1\"\n            frameborder=\"0\"\n            allowfullscreen\n        ></iframe>\n        "
     },
     "metadata": {}
    },
    {
     "output_type": "execute_result",
     "data": {
      "text/plain": []
     },
     "metadata": {},
     "execution_count": 4
    }
   ],
   "source": [
    "dtale.show(covid)"
   ]
  },
  {
   "cell_type": "code",
   "execution_count": 5,
   "metadata": {},
   "outputs": [
    {
     "output_type": "execute_result",
     "data": {
      "text/plain": [
       "' def filtrar_tabla_fecha():\\n    # Creamos un DataFrame con las columnas que queremos\\n    covid_date = covid.filter([\"continent\", \"country\", \"date\", \"median_age\", \"aged_65_older\", \"aged_70_older\", \"total_cases\", \"total_deaths\", \"hospital_beds_per_thousand\", \"gdp_per_capita\", \"HDI\"], axis=1)\\n    crimes = crime.resample(\\'10AS\\').sum()\\n\\n    # Eliminamos los valores Nan y reseteamos el índice\\n    covid_date.dropna(inplace=True)\\n    covid_date.reset_index(drop=True, inplace=True)\\n    return covid_date '"
      ]
     },
     "metadata": {},
     "execution_count": 5
    }
   ],
   "source": [
    "\"\"\" def filtrar_tabla_fecha():\n",
    "    # Creamos un DataFrame con las columnas que queremos\n",
    "    covid_date = covid.filter([\"continent\", \"country\", \"date\", \"median_age\", \"aged_65_older\", \"aged_70_older\", \"total_cases\", \"total_deaths\", \"hospital_beds_per_thousand\", \"gdp_per_capita\", \"HDI\"], axis=1)\n",
    "    crimes = crime.resample('10AS').sum()\n",
    "\n",
    "    # Eliminamos los valores Nan y reseteamos el índice\n",
    "    covid_date.dropna(inplace=True)\n",
    "    covid_date.reset_index(drop=True, inplace=True)\n",
    "    return covid_date \"\"\""
   ]
  },
  {
   "cell_type": "code",
   "execution_count": 6,
   "metadata": {},
   "outputs": [],
   "source": [
    "def filtrar_tabla():\n",
    "    # Creamos un DataFrame con las columnas que queremos\n",
    "    covid_data = covid.filter([\"date\", \"continent\", \"country\", \"median_age\", \"aged_65_older\", \"aged_70_older\", \"total_cases\", \"total_deaths\", \"hospital_beds_per_thousand\", \"gdp_per_capita\", \"HDI\"], axis=1)\n",
    "\n",
    "    covid_data[\"deaths_ratio\"] = covid_data[\"total_deaths\"]/covid_data[\"total_cases\"] * 100\n",
    "    covid_data[\"non_risky_age\"] = 100 - covid_data[\"aged_65_older\"] - covid_data[\"aged_70_older\"]\n",
    "    covid_data[\"risky_age\"] = 100 - covid_data[\"non_risky_age\"]\n",
    "\n",
    "    # Eliminamos los valores Nan y reseteamos el índice\n",
    "    covid_data.dropna(inplace=True)\n",
    "    covid_data.reset_index(drop=True, inplace=True)\n",
    "    return covid_data"
   ]
  },
  {
   "cell_type": "code",
   "execution_count": 7,
   "metadata": {},
   "outputs": [
    {
     "output_type": "display_data",
     "data": {
      "text/plain": "<IPython.lib.display.IFrame at 0x1b867532d08>",
      "text/html": "\n        <iframe\n            width=\"100%\"\n            height=\"475\"\n            src=\"http://DESKTOP-UJPC5BH:40000/dtale/iframe/2\"\n            frameborder=\"0\"\n            allowfullscreen\n        ></iframe>\n        "
     },
     "metadata": {}
    },
    {
     "output_type": "execute_result",
     "data": {
      "text/plain": []
     },
     "metadata": {},
     "execution_count": 7
    }
   ],
   "source": [
    "# Asignamos el valor covid data a la función filtrar tabla\n",
    "\n",
    "covid_data = filtrar_tabla()\n",
    "dtale.show(covid_data)"
   ]
  },
  {
   "cell_type": "code",
   "execution_count": 8,
   "metadata": {},
   "outputs": [],
   "source": [
    "# Make a list with the values in \"country\"\n",
    "countries = list(covid_data[\"country\"])\n",
    "None"
   ]
  },
  {
   "cell_type": "code",
   "execution_count": 9,
   "metadata": {},
   "outputs": [],
   "source": [
    "# Function to read and change the df\n",
    "def lectura_data_pobreza(): \n",
    "\n",
    "    # Read csv --> df\n",
    "    pobreza = pd.read_csv(\"Pobreza.csv\", sep=\";\")\n",
    "\n",
    "    # Split the icon from the values in column \"country\"\n",
    "    pobreza[\"Country\"] = pobreza[\"Country\"].apply(lambda x: x[1:])\n",
    "    pobreza.rename(columns={\"2008-2021\":\"Poverty %\"}, inplace=True)\n",
    "    pobreza.drop(\"HDI Rank\", axis=1, inplace=True)\n",
    "\n",
    "    return pobreza"
   ]
  },
  {
   "cell_type": "code",
   "execution_count": 10,
   "metadata": {},
   "outputs": [],
   "source": [
    "pobreza = lectura_data_pobreza()"
   ]
  },
  {
   "cell_type": "code",
   "execution_count": 11,
   "metadata": {},
   "outputs": [],
   "source": [
    "def change_name(row_in,new_name):\n",
    "    pobreza.loc[[row_in], [\"Country\"]] = new_name\n",
    "    return pobreza"
   ]
  },
  {
   "cell_type": "code",
   "execution_count": 12,
   "metadata": {},
   "outputs": [
    {
     "output_type": "execute_result",
     "data": {
      "text/plain": [
       "       Country  Poverty %\n",
       "0      Albania       1.10\n",
       "1      Algeria       0.80\n",
       "2       Angola      47.90\n",
       "3    Argentina       1.30\n",
       "4      Armenia       2.40\n",
       "..         ...        ...\n",
       "148    Vanuatu      13.50\n",
       "149    Vietnam       1.12\n",
       "150      Yemen      18.11\n",
       "151     Zambia      57.80\n",
       "152   Zimbabwe      33.12\n",
       "\n",
       "[153 rows x 2 columns]"
      ],
      "text/html": "<div>\n<style scoped>\n    .dataframe tbody tr th:only-of-type {\n        vertical-align: middle;\n    }\n\n    .dataframe tbody tr th {\n        vertical-align: top;\n    }\n\n    .dataframe thead th {\n        text-align: right;\n    }\n</style>\n<table border=\"1\" class=\"dataframe\">\n  <thead>\n    <tr style=\"text-align: right;\">\n      <th></th>\n      <th>Country</th>\n      <th>Poverty %</th>\n    </tr>\n  </thead>\n  <tbody>\n    <tr>\n      <th>0</th>\n      <td>Albania</td>\n      <td>1.10</td>\n    </tr>\n    <tr>\n      <th>1</th>\n      <td>Algeria</td>\n      <td>0.80</td>\n    </tr>\n    <tr>\n      <th>2</th>\n      <td>Angola</td>\n      <td>47.90</td>\n    </tr>\n    <tr>\n      <th>3</th>\n      <td>Argentina</td>\n      <td>1.30</td>\n    </tr>\n    <tr>\n      <th>4</th>\n      <td>Armenia</td>\n      <td>2.40</td>\n    </tr>\n    <tr>\n      <th>...</th>\n      <td>...</td>\n      <td>...</td>\n    </tr>\n    <tr>\n      <th>148</th>\n      <td>Vanuatu</td>\n      <td>13.50</td>\n    </tr>\n    <tr>\n      <th>149</th>\n      <td>Vietnam</td>\n      <td>1.12</td>\n    </tr>\n    <tr>\n      <th>150</th>\n      <td>Yemen</td>\n      <td>18.11</td>\n    </tr>\n    <tr>\n      <th>151</th>\n      <td>Zambia</td>\n      <td>57.80</td>\n    </tr>\n    <tr>\n      <th>152</th>\n      <td>Zimbabwe</td>\n      <td>33.12</td>\n    </tr>\n  </tbody>\n</table>\n<p>153 rows × 2 columns</p>\n</div>"
     },
     "metadata": {},
     "execution_count": 12
    }
   ],
   "source": [
    "change_name(149, \"Vietnam\")\n",
    "change_name(136, \"Timor\")\n",
    "change_name(134, \"Tanzania\")\n",
    "change_name(114, \"Russia\")\n",
    "change_name(90, \"Moldova\")\n",
    "pobreza"
   ]
  },
  {
   "cell_type": "code",
   "execution_count": 13,
   "metadata": {},
   "outputs": [
    {
     "output_type": "display_data",
     "data": {
      "text/plain": "<IPython.lib.display.IFrame at 0x1b865e4ec48>",
      "text/html": "\n        <iframe\n            width=\"100%\"\n            height=\"475\"\n            src=\"http://DESKTOP-UJPC5BH:40000/dtale/iframe/3\"\n            frameborder=\"0\"\n            allowfullscreen\n        ></iframe>\n        "
     },
     "metadata": {}
    },
    {
     "output_type": "execute_result",
     "data": {
      "text/plain": []
     },
     "metadata": {},
     "execution_count": 13
    }
   ],
   "source": [
    "dtale.show(pobreza)"
   ]
  },
  {
   "cell_type": "code",
   "execution_count": 14,
   "metadata": {},
   "outputs": [],
   "source": [
    "dict_pobreza = dict(pobreza.values)"
   ]
  },
  {
   "cell_type": "code",
   "execution_count": 15,
   "metadata": {},
   "outputs": [],
   "source": [
    "countries_pobreza = list(pobreza[\"Country\"])"
   ]
  },
  {
   "cell_type": "code",
   "execution_count": 16,
   "metadata": {
    "tags": []
   },
   "outputs": [],
   "source": [
    "lista = []\n",
    "for elem in countries: \n",
    "    if elem in countries_pobreza:\n",
    "        lista.append(elem)\n",
    "    else:\n",
    "        lista.append(0)"
   ]
  },
  {
   "cell_type": "code",
   "execution_count": 19,
   "metadata": {},
   "outputs": [],
   "source": [
    "def list_poverty():\n",
    "    lista_poverty = [dict_pobreza.get(item,item)  for item in lista]\n",
    "    return lista_poverty\n",
    "\n",
    "lista_poverty = list_poverty()"
   ]
  },
  {
   "cell_type": "code",
   "execution_count": 20,
   "metadata": {},
   "outputs": [
    {
     "output_type": "execute_result",
     "data": {
      "text/plain": [
       "61950"
      ]
     },
     "metadata": {},
     "execution_count": 20
    }
   ],
   "source": [
    "len(lista_poverty)"
   ]
  },
  {
   "cell_type": "code",
   "execution_count": 21,
   "metadata": {},
   "outputs": [],
   "source": [
    "# Add column \"Poverty %\" to covid_data\n",
    "covid_data[\"Poverty %\"] = lista_poverty"
   ]
  },
  {
   "cell_type": "code",
   "execution_count": 22,
   "metadata": {},
   "outputs": [
    {
     "output_type": "display_data",
     "data": {
      "text/plain": "<IPython.lib.display.IFrame at 0x1b86846ae48>",
      "text/html": "\n        <iframe\n            width=\"100%\"\n            height=\"475\"\n            src=\"http://DESKTOP-UJPC5BH:40000/dtale/iframe/4\"\n            frameborder=\"0\"\n            allowfullscreen\n        ></iframe>\n        "
     },
     "metadata": {}
    },
    {
     "output_type": "execute_result",
     "data": {
      "text/plain": []
     },
     "metadata": {},
     "execution_count": 22
    }
   ],
   "source": [
    "dtale.show(covid_data)"
   ]
  },
  {
   "cell_type": "code",
   "execution_count": null,
   "metadata": {},
   "outputs": [],
   "source": [
    "def groupby_country(data):\n",
    "    covid_groupby = data.groupby(\"country\").max()\n",
    "    covid_groupby.reset_index(inplace=True)\n",
    "\n",
    "    # Añadimos nuevas columnas: el ratio de muertes y el porcentaje de personas con menos y más riesgo de muerte\n",
    "\n",
    "    covid_groupby[\"deaths_ratio\"] = covid_groupby[\"total_deaths\"]/covid_groupby[\"total_cases\"] * 100\n",
    "    covid_groupby[\"non_risky_age\"] = 100 - covid_groupby[\"aged_65_older\"] - covid_groupby[\"aged_70_older\"]\n",
    "    covid_groupby[\"risky_age\"] = 100 - covid_groupby[\"non_risky_age\"]\n",
    "\n",
    "    # Reordeno las columnas\n",
    "    covid_groupby = covid_groupby[[\"continent\", \"country\", \"median_age\", \"aged_65_older\", \"aged_70_older\", \"non_risky_age\", \"risky_age\", \"total_cases\", \"total_deaths\", \"deaths_ratio\", \"hospital_beds_per_thousand\", \"gdp_per_capita\", \"HDI\"]]\n",
    "\n",
    "    return covid_groupby"
   ]
  },
  {
   "cell_type": "code",
   "execution_count": null,
   "metadata": {},
   "outputs": [],
   "source": [
    "covid_groupby = groupby_country()\n",
    "dtale.show(covid_groupby)"
   ]
  },
  {
   "cell_type": "code",
   "execution_count": null,
   "metadata": {},
   "outputs": [],
   "source": [
    "covid_groupby = groupby_country()\n",
    "dtale.show(covid_groupby)"
   ]
  },
  {
   "cell_type": "code",
   "execution_count": null,
   "metadata": {},
   "outputs": [],
   "source": []
  }
 ]
}