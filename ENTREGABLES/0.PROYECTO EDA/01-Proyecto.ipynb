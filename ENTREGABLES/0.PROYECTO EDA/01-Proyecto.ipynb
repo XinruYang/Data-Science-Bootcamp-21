{
 "metadata": {
  "language_info": {
   "codemirror_mode": {
    "name": "ipython",
    "version": 3
   },
   "file_extension": ".py",
   "mimetype": "text/x-python",
   "name": "python",
   "nbconvert_exporter": "python",
   "pygments_lexer": "ipython3",
   "version": "3.7.4"
  },
  "orig_nbformat": 2,
  "kernelspec": {
   "name": "python374jvsc74a57bd0fc2c00f0e2c44cb4028bd693f18a1b5d93d1de4cd12db71fca36ff691a163044",
   "display_name": "Python 3.7.4 64-bit"
  },
  "metadata": {
   "interpreter": {
    "hash": "fc2c00f0e2c44cb4028bd693f18a1b5d93d1de4cd12db71fca36ff691a163044"
   }
  }
 },
 "nbformat": 4,
 "nbformat_minor": 2,
 "cells": [
  {
   "cell_type": "code",
   "execution_count": 1,
   "metadata": {},
   "outputs": [],
   "source": [
    "import pandas as pd \n",
    "from sklearn.datasets import load_iris, load_boston\n",
    "import seaborn as sns\n",
    "import pandas as pd\n",
    "import numpy as np\n",
    "import matplotlib.pyplot as plt \n",
    "import dtale"
   ]
  },
  {
   "cell_type": "code",
   "execution_count": 5,
   "metadata": {},
   "outputs": [],
   "source": [
    "def lectura_data_inicial():\n",
    "    # Leemos el DataFrame sobre el que vamos a trabajar\n",
    "    covid = pd.read_csv(\"owid-covid-data.csv\")\n",
    "\n",
    "    # Cambiamos el formato de la columna data a datetime\n",
    "    covid['date'] = pd.to_datetime(covid['date'], format='%Y-%m-%d')\n",
    "\n",
    "    # Renombramos la columna \"location\" y la llamamos \"country\" y \"human_development_index\": \"HDI\"\n",
    "    covid.rename(columns={\"location\": \"country\", \"human_development_index\": \"HDI\"}, inplace=True)\n",
    "\n",
    "    return covid"
   ]
  },
  {
   "cell_type": "code",
   "execution_count": 7,
   "metadata": {},
   "outputs": [],
   "source": [
    "covid = lectura_data_inicial()"
   ]
  },
  {
   "cell_type": "code",
   "execution_count": 10,
   "metadata": {},
   "outputs": [],
   "source": [
    "def filtrar_tabla():\n",
    "    # Creamos un DataFrame con las columnas que queremos\n",
    "    covid_data = covid.filter([\"continent\", \"country\", \"median_age\", \"aged_65_older\", \"aged_70_older\", \"total_cases\", \"total_deaths\", \"hospital_beds_per_thousand\", \"gdp_per_capita\", \"HDI\"], axis=1)\n",
    "\n",
    "    # Eliminamos los valores Nan y reseteamos el índice\n",
    "    covid_data.dropna(inplace=True)\n",
    "    covid_data.reset_index(drop=True, inplace=True)\n",
    "    return covid_data"
   ]
  },
  {
   "cell_type": "code",
   "execution_count": 11,
   "metadata": {},
   "outputs": [],
   "source": [
    "covid_data = filtrar_tabla()"
   ]
  },
  {
   "cell_type": "code",
   "execution_count": null,
   "metadata": {},
   "outputs": [],
   "source": [
    "def groupby_country():\n",
    "    covid_groupby = covid_data.groupby(\"country\").max()\n",
    "    covid_groupby.reset_index(inplace=True)\n",
    "\n",
    "    # Añadimos nuevas columnas: el ratio de muertes y el porcentaje de personas con menos y más riesgo de muerte\n",
    "\n",
    "    covid_groupby[\"deaths_ratio\"] = covid_groupby[\"total_deaths\"]/covid_groupby[\"total_cases\"] * 100\n",
    "    covid_groupby[\"non_risky_age\"] = 100 - covid_groupby[\"aged_65_older\"] - covid_groupby[\"aged_70_older\"]\n",
    "    covid_groupby[\"risky_age\"] = 100 - covid_groupby[\"non_risky_age\"]\n",
    "\n",
    "    # Reordeno las columnas\n",
    "    covid_groupby = covid_groupby[[\"continent\", \"country\", \"median_age\", \"aged_65_older\", \"aged_70_older\", \"non_risky_age\", \"risky_age\", \"total_cases\", \"total_deaths\", \"deaths_ratio\", \"hospital_beds_per_thousand\", \"gdp_per_capita\", \"HDI\"]]\n",
    "\n",
    "    return covid_groupby"
   ]
  }
 ]
}