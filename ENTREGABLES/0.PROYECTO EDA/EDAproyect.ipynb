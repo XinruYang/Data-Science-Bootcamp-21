{
 "metadata": {
  "language_info": {
   "codemirror_mode": {
    "name": "ipython",
    "version": 3
   },
   "file_extension": ".py",
   "mimetype": "text/x-python",
   "name": "python",
   "nbconvert_exporter": "python",
   "pygments_lexer": "ipython3",
   "version": "3.7.4"
  },
  "orig_nbformat": 2,
  "kernelspec": {
   "name": "python374jvsc74a57bd0fc2c00f0e2c44cb4028bd693f18a1b5d93d1de4cd12db71fca36ff691a163044",
   "display_name": "Python 3.7.4 64-bit"
  },
  "metadata": {
   "interpreter": {
    "hash": "fc2c00f0e2c44cb4028bd693f18a1b5d93d1de4cd12db71fca36ff691a163044"
   }
  }
 },
 "nbformat": 4,
 "nbformat_minor": 2,
 "cells": [
  {
   "cell_type": "code",
   "execution_count": 1,
   "metadata": {},
   "outputs": [],
   "source": [
    "import pandas as pd"
   ]
  },
  {
   "cell_type": "code",
   "execution_count": 4,
   "metadata": {},
   "outputs": [],
   "source": [
    "data = pd.read_csv(\"nutition.csv\")"
   ]
  },
  {
   "cell_type": "code",
   "execution_count": 5,
   "metadata": {},
   "outputs": [
    {
     "output_type": "execute_result",
     "data": {
      "text/plain": [
       "       YearStart  YearEnd LocationAbbr    LocationDesc  \\\n",
       "0           2011     2011           AL         Alabama   \n",
       "1           2011     2011           AL         Alabama   \n",
       "2           2011     2011           AL         Alabama   \n",
       "3           2011     2011           AL         Alabama   \n",
       "4           2011     2011           AL         Alabama   \n",
       "...          ...      ...          ...             ...   \n",
       "53387       2016     2016           VI  Virgin Islands   \n",
       "53388       2016     2016           VI  Virgin Islands   \n",
       "53389       2016     2016           VI  Virgin Islands   \n",
       "53390       2016     2016           VI  Virgin Islands   \n",
       "53391       2016     2016           VI  Virgin Islands   \n",
       "\n",
       "                                       Datasource                    Class  \\\n",
       "0      Behavioral Risk Factor Surveillance System  Obesity / Weight Status   \n",
       "1      Behavioral Risk Factor Surveillance System  Obesity / Weight Status   \n",
       "2      Behavioral Risk Factor Surveillance System  Obesity / Weight Status   \n",
       "3      Behavioral Risk Factor Surveillance System  Obesity / Weight Status   \n",
       "4      Behavioral Risk Factor Surveillance System  Obesity / Weight Status   \n",
       "...                                           ...                      ...   \n",
       "53387  Behavioral Risk Factor Surveillance System        Physical Activity   \n",
       "53388  Behavioral Risk Factor Surveillance System        Physical Activity   \n",
       "53389  Behavioral Risk Factor Surveillance System        Physical Activity   \n",
       "53390  Behavioral Risk Factor Surveillance System        Physical Activity   \n",
       "53391  Behavioral Risk Factor Surveillance System        Physical Activity   \n",
       "\n",
       "                              Topic  \\\n",
       "0           Obesity / Weight Status   \n",
       "1           Obesity / Weight Status   \n",
       "2           Obesity / Weight Status   \n",
       "3           Obesity / Weight Status   \n",
       "4           Obesity / Weight Status   \n",
       "...                             ...   \n",
       "53387  Physical Activity - Behavior   \n",
       "53388  Physical Activity - Behavior   \n",
       "53389  Physical Activity - Behavior   \n",
       "53390  Physical Activity - Behavior   \n",
       "53391  Physical Activity - Behavior   \n",
       "\n",
       "                                                Question  Data_Value_Unit  \\\n",
       "0      Percent of adults aged 18 years and older who ...              NaN   \n",
       "1      Percent of adults aged 18 years and older who ...              NaN   \n",
       "2      Percent of adults aged 18 years and older who ...              NaN   \n",
       "3      Percent of adults aged 18 years and older who ...              NaN   \n",
       "4      Percent of adults aged 18 years and older who ...              NaN   \n",
       "...                                                  ...              ...   \n",
       "53387  Percent of adults who engage in no leisure-tim...              NaN   \n",
       "53388  Percent of adults who engage in no leisure-tim...              NaN   \n",
       "53389  Percent of adults who engage in no leisure-tim...              NaN   \n",
       "53390  Percent of adults who engage in no leisure-tim...              NaN   \n",
       "53391  Percent of adults who engage in no leisure-tim...              NaN   \n",
       "\n",
       "      Data_Value_Type  \n",
       "0               Value  \n",
       "1               Value  \n",
       "2               Value  \n",
       "3               Value  \n",
       "4               Value  \n",
       "...               ...  \n",
       "53387           Value  \n",
       "53388           Value  \n",
       "53389           Value  \n",
       "53390           Value  \n",
       "53391           Value  \n",
       "\n",
       "[53392 rows x 10 columns]"
      ],
      "text/html": "<div>\n<style scoped>\n    .dataframe tbody tr th:only-of-type {\n        vertical-align: middle;\n    }\n\n    .dataframe tbody tr th {\n        vertical-align: top;\n    }\n\n    .dataframe thead th {\n        text-align: right;\n    }\n</style>\n<table border=\"1\" class=\"dataframe\">\n  <thead>\n    <tr style=\"text-align: right;\">\n      <th></th>\n      <th>YearStart</th>\n      <th>YearEnd</th>\n      <th>LocationAbbr</th>\n      <th>LocationDesc</th>\n      <th>Datasource</th>\n      <th>Class</th>\n      <th>Topic</th>\n      <th>Question</th>\n      <th>Data_Value_Unit</th>\n      <th>Data_Value_Type</th>\n    </tr>\n  </thead>\n  <tbody>\n    <tr>\n      <th>0</th>\n      <td>2011</td>\n      <td>2011</td>\n      <td>AL</td>\n      <td>Alabama</td>\n      <td>Behavioral Risk Factor Surveillance System</td>\n      <td>Obesity / Weight Status</td>\n      <td>Obesity / Weight Status</td>\n      <td>Percent of adults aged 18 years and older who ...</td>\n      <td>NaN</td>\n      <td>Value</td>\n    </tr>\n    <tr>\n      <th>1</th>\n      <td>2011</td>\n      <td>2011</td>\n      <td>AL</td>\n      <td>Alabama</td>\n      <td>Behavioral Risk Factor Surveillance System</td>\n      <td>Obesity / Weight Status</td>\n      <td>Obesity / Weight Status</td>\n      <td>Percent of adults aged 18 years and older who ...</td>\n      <td>NaN</td>\n      <td>Value</td>\n    </tr>\n    <tr>\n      <th>2</th>\n      <td>2011</td>\n      <td>2011</td>\n      <td>AL</td>\n      <td>Alabama</td>\n      <td>Behavioral Risk Factor Surveillance System</td>\n      <td>Obesity / Weight Status</td>\n      <td>Obesity / Weight Status</td>\n      <td>Percent of adults aged 18 years and older who ...</td>\n      <td>NaN</td>\n      <td>Value</td>\n    </tr>\n    <tr>\n      <th>3</th>\n      <td>2011</td>\n      <td>2011</td>\n      <td>AL</td>\n      <td>Alabama</td>\n      <td>Behavioral Risk Factor Surveillance System</td>\n      <td>Obesity / Weight Status</td>\n      <td>Obesity / Weight Status</td>\n      <td>Percent of adults aged 18 years and older who ...</td>\n      <td>NaN</td>\n      <td>Value</td>\n    </tr>\n    <tr>\n      <th>4</th>\n      <td>2011</td>\n      <td>2011</td>\n      <td>AL</td>\n      <td>Alabama</td>\n      <td>Behavioral Risk Factor Surveillance System</td>\n      <td>Obesity / Weight Status</td>\n      <td>Obesity / Weight Status</td>\n      <td>Percent of adults aged 18 years and older who ...</td>\n      <td>NaN</td>\n      <td>Value</td>\n    </tr>\n    <tr>\n      <th>...</th>\n      <td>...</td>\n      <td>...</td>\n      <td>...</td>\n      <td>...</td>\n      <td>...</td>\n      <td>...</td>\n      <td>...</td>\n      <td>...</td>\n      <td>...</td>\n      <td>...</td>\n    </tr>\n    <tr>\n      <th>53387</th>\n      <td>2016</td>\n      <td>2016</td>\n      <td>VI</td>\n      <td>Virgin Islands</td>\n      <td>Behavioral Risk Factor Surveillance System</td>\n      <td>Physical Activity</td>\n      <td>Physical Activity - Behavior</td>\n      <td>Percent of adults who engage in no leisure-tim...</td>\n      <td>NaN</td>\n      <td>Value</td>\n    </tr>\n    <tr>\n      <th>53388</th>\n      <td>2016</td>\n      <td>2016</td>\n      <td>VI</td>\n      <td>Virgin Islands</td>\n      <td>Behavioral Risk Factor Surveillance System</td>\n      <td>Physical Activity</td>\n      <td>Physical Activity - Behavior</td>\n      <td>Percent of adults who engage in no leisure-tim...</td>\n      <td>NaN</td>\n      <td>Value</td>\n    </tr>\n    <tr>\n      <th>53389</th>\n      <td>2016</td>\n      <td>2016</td>\n      <td>VI</td>\n      <td>Virgin Islands</td>\n      <td>Behavioral Risk Factor Surveillance System</td>\n      <td>Physical Activity</td>\n      <td>Physical Activity - Behavior</td>\n      <td>Percent of adults who engage in no leisure-tim...</td>\n      <td>NaN</td>\n      <td>Value</td>\n    </tr>\n    <tr>\n      <th>53390</th>\n      <td>2016</td>\n      <td>2016</td>\n      <td>VI</td>\n      <td>Virgin Islands</td>\n      <td>Behavioral Risk Factor Surveillance System</td>\n      <td>Physical Activity</td>\n      <td>Physical Activity - Behavior</td>\n      <td>Percent of adults who engage in no leisure-tim...</td>\n      <td>NaN</td>\n      <td>Value</td>\n    </tr>\n    <tr>\n      <th>53391</th>\n      <td>2016</td>\n      <td>2016</td>\n      <td>VI</td>\n      <td>Virgin Islands</td>\n      <td>Behavioral Risk Factor Surveillance System</td>\n      <td>Physical Activity</td>\n      <td>Physical Activity - Behavior</td>\n      <td>Percent of adults who engage in no leisure-tim...</td>\n      <td>NaN</td>\n      <td>Value</td>\n    </tr>\n  </tbody>\n</table>\n<p>53392 rows × 10 columns</p>\n</div>"
     },
     "metadata": {},
     "execution_count": 5
    }
   ],
   "source": [
    "data.iloc[:,:10]"
   ]
  },
  {
   "cell_type": "code",
   "execution_count": 6,
   "metadata": {},
   "outputs": [
    {
     "output_type": "execute_result",
     "data": {
      "text/plain": [
       "       Data_Value  Data_Value_Alt Data_Value_Footnote_Symbol  \\\n",
       "0            32.0            32.0                        NaN   \n",
       "1            32.3            32.3                        NaN   \n",
       "2            31.8            31.8                        NaN   \n",
       "3            33.6            33.6                        NaN   \n",
       "4            32.8            32.8                        NaN   \n",
       "...           ...             ...                        ...   \n",
       "53387         NaN             NaN                          ~   \n",
       "53388         NaN             NaN                          ~   \n",
       "53389         NaN             NaN                          ~   \n",
       "53390         NaN             NaN                          ~   \n",
       "53391         NaN             NaN                          ~   \n",
       "\n",
       "                                     Data_Value_Footnote  \\\n",
       "0                                                    NaN   \n",
       "1                                                    NaN   \n",
       "2                                                    NaN   \n",
       "3                                                    NaN   \n",
       "4                                                    NaN   \n",
       "...                                                  ...   \n",
       "53387  Data not available because sample size is insu...   \n",
       "53388  Data not available because sample size is insu...   \n",
       "53389  Data not available because sample size is insu...   \n",
       "53390  Data not available because sample size is insu...   \n",
       "53391  Data not available because sample size is insu...   \n",
       "\n",
       "       Low_Confidence_Limit  High_Confidence_Limit   Sample_Size  Total  \\\n",
       "0                      30.5                    33.5       7304.0  Total   \n",
       "1                      29.9                    34.7       2581.0    NaN   \n",
       "2                      30.0                    33.6       4723.0    NaN   \n",
       "3                      29.9                    37.6       1153.0    NaN   \n",
       "4                      30.2                    35.6       2402.0    NaN   \n",
       "...                     ...                     ...          ...    ...   \n",
       "53387                   NaN                     NaN          NaN    NaN   \n",
       "53388                   NaN                     NaN          NaN    NaN   \n",
       "53389                   NaN                     NaN          NaN    NaN   \n",
       "53390                   NaN                     NaN          NaN    NaN   \n",
       "53391                   NaN                     NaN          NaN    NaN   \n",
       "\n",
       "      Age(years)              Education  \n",
       "0            NaN                    NaN  \n",
       "1            NaN                    NaN  \n",
       "2            NaN                    NaN  \n",
       "3            NaN  Less than high school  \n",
       "4            NaN   High school graduate  \n",
       "...          ...                    ...  \n",
       "53387        NaN                    NaN  \n",
       "53388        NaN                    NaN  \n",
       "53389        NaN                    NaN  \n",
       "53390        NaN                    NaN  \n",
       "53391        NaN                    NaN  \n",
       "\n",
       "[53392 rows x 10 columns]"
      ],
      "text/html": "<div>\n<style scoped>\n    .dataframe tbody tr th:only-of-type {\n        vertical-align: middle;\n    }\n\n    .dataframe tbody tr th {\n        vertical-align: top;\n    }\n\n    .dataframe thead th {\n        text-align: right;\n    }\n</style>\n<table border=\"1\" class=\"dataframe\">\n  <thead>\n    <tr style=\"text-align: right;\">\n      <th></th>\n      <th>Data_Value</th>\n      <th>Data_Value_Alt</th>\n      <th>Data_Value_Footnote_Symbol</th>\n      <th>Data_Value_Footnote</th>\n      <th>Low_Confidence_Limit</th>\n      <th>High_Confidence_Limit</th>\n      <th>Sample_Size</th>\n      <th>Total</th>\n      <th>Age(years)</th>\n      <th>Education</th>\n    </tr>\n  </thead>\n  <tbody>\n    <tr>\n      <th>0</th>\n      <td>32.0</td>\n      <td>32.0</td>\n      <td>NaN</td>\n      <td>NaN</td>\n      <td>30.5</td>\n      <td>33.5</td>\n      <td>7304.0</td>\n      <td>Total</td>\n      <td>NaN</td>\n      <td>NaN</td>\n    </tr>\n    <tr>\n      <th>1</th>\n      <td>32.3</td>\n      <td>32.3</td>\n      <td>NaN</td>\n      <td>NaN</td>\n      <td>29.9</td>\n      <td>34.7</td>\n      <td>2581.0</td>\n      <td>NaN</td>\n      <td>NaN</td>\n      <td>NaN</td>\n    </tr>\n    <tr>\n      <th>2</th>\n      <td>31.8</td>\n      <td>31.8</td>\n      <td>NaN</td>\n      <td>NaN</td>\n      <td>30.0</td>\n      <td>33.6</td>\n      <td>4723.0</td>\n      <td>NaN</td>\n      <td>NaN</td>\n      <td>NaN</td>\n    </tr>\n    <tr>\n      <th>3</th>\n      <td>33.6</td>\n      <td>33.6</td>\n      <td>NaN</td>\n      <td>NaN</td>\n      <td>29.9</td>\n      <td>37.6</td>\n      <td>1153.0</td>\n      <td>NaN</td>\n      <td>NaN</td>\n      <td>Less than high school</td>\n    </tr>\n    <tr>\n      <th>4</th>\n      <td>32.8</td>\n      <td>32.8</td>\n      <td>NaN</td>\n      <td>NaN</td>\n      <td>30.2</td>\n      <td>35.6</td>\n      <td>2402.0</td>\n      <td>NaN</td>\n      <td>NaN</td>\n      <td>High school graduate</td>\n    </tr>\n    <tr>\n      <th>...</th>\n      <td>...</td>\n      <td>...</td>\n      <td>...</td>\n      <td>...</td>\n      <td>...</td>\n      <td>...</td>\n      <td>...</td>\n      <td>...</td>\n      <td>...</td>\n      <td>...</td>\n    </tr>\n    <tr>\n      <th>53387</th>\n      <td>NaN</td>\n      <td>NaN</td>\n      <td>~</td>\n      <td>Data not available because sample size is insu...</td>\n      <td>NaN</td>\n      <td>NaN</td>\n      <td>NaN</td>\n      <td>NaN</td>\n      <td>NaN</td>\n      <td>NaN</td>\n    </tr>\n    <tr>\n      <th>53388</th>\n      <td>NaN</td>\n      <td>NaN</td>\n      <td>~</td>\n      <td>Data not available because sample size is insu...</td>\n      <td>NaN</td>\n      <td>NaN</td>\n      <td>NaN</td>\n      <td>NaN</td>\n      <td>NaN</td>\n      <td>NaN</td>\n    </tr>\n    <tr>\n      <th>53389</th>\n      <td>NaN</td>\n      <td>NaN</td>\n      <td>~</td>\n      <td>Data not available because sample size is insu...</td>\n      <td>NaN</td>\n      <td>NaN</td>\n      <td>NaN</td>\n      <td>NaN</td>\n      <td>NaN</td>\n      <td>NaN</td>\n    </tr>\n    <tr>\n      <th>53390</th>\n      <td>NaN</td>\n      <td>NaN</td>\n      <td>~</td>\n      <td>Data not available because sample size is insu...</td>\n      <td>NaN</td>\n      <td>NaN</td>\n      <td>NaN</td>\n      <td>NaN</td>\n      <td>NaN</td>\n      <td>NaN</td>\n    </tr>\n    <tr>\n      <th>53391</th>\n      <td>NaN</td>\n      <td>NaN</td>\n      <td>~</td>\n      <td>Data not available because sample size is insu...</td>\n      <td>NaN</td>\n      <td>NaN</td>\n      <td>NaN</td>\n      <td>NaN</td>\n      <td>NaN</td>\n      <td>NaN</td>\n    </tr>\n  </tbody>\n</table>\n<p>53392 rows × 10 columns</p>\n</div>"
     },
     "metadata": {},
     "execution_count": 6
    }
   ],
   "source": [
    "data.iloc[:,10:20]"
   ]
  },
  {
   "cell_type": "code",
   "execution_count": 8,
   "metadata": {},
   "outputs": [
    {
     "output_type": "execute_result",
     "data": {
      "text/plain": [
       "Index(['YearStart', 'YearEnd', 'LocationAbbr', 'LocationDesc', 'Datasource',\n",
       "       'Class', 'Topic', 'Question', 'Data_Value_Unit', 'Data_Value_Type',\n",
       "       'Data_Value', 'Data_Value_Alt', 'Data_Value_Footnote_Symbol',\n",
       "       'Data_Value_Footnote', 'Low_Confidence_Limit', 'High_Confidence_Limit ',\n",
       "       'Sample_Size', 'Total', 'Age(years)', 'Education', 'Gender', 'Income',\n",
       "       'Race/Ethnicity', 'GeoLocation', 'ClassID', 'TopicID', 'QuestionID',\n",
       "       'DataValueTypeID', 'LocationID', 'StratificationCategory1',\n",
       "       'Stratification1', 'StratificationCategoryId1', 'StratificationID1'],\n",
       "      dtype='object')"
      ]
     },
     "metadata": {},
     "execution_count": 8
    }
   ],
   "source": [
    "data.columns"
   ]
  },
  {
   "cell_type": "code",
   "execution_count": 9,
   "metadata": {},
   "outputs": [],
   "source": [
    "data = pd.read_csv(\"owid-covid-data.csv\")"
   ]
  },
  {
   "cell_type": "code",
   "execution_count": 10,
   "metadata": {},
   "outputs": [
    {
     "output_type": "execute_result",
     "data": {
      "text/plain": [
       "      iso_code continent     location        date  total_cases  new_cases  \\\n",
       "0          AFG      Asia  Afghanistan  2020-02-24          1.0        1.0   \n",
       "1          AFG      Asia  Afghanistan  2020-02-25          1.0        0.0   \n",
       "2          AFG      Asia  Afghanistan  2020-02-26          1.0        0.0   \n",
       "3          AFG      Asia  Afghanistan  2020-02-27          1.0        0.0   \n",
       "4          AFG      Asia  Afghanistan  2020-02-28          1.0        0.0   \n",
       "...        ...       ...          ...         ...          ...        ...   \n",
       "89674      ZWE    Africa     Zimbabwe  2021-05-14      38535.0       44.0   \n",
       "89675      ZWE    Africa     Zimbabwe  2021-05-15      38554.0       19.0   \n",
       "89676      ZWE    Africa     Zimbabwe  2021-05-16      38560.0        6.0   \n",
       "89677      ZWE    Africa     Zimbabwe  2021-05-17      38572.0       12.0   \n",
       "89678      ZWE    Africa     Zimbabwe  2021-05-18      38595.0       23.0   \n",
       "\n",
       "       new_cases_smoothed  total_deaths  new_deaths  new_deaths_smoothed  ...  \\\n",
       "0                     NaN           NaN         NaN                  NaN  ...   \n",
       "1                     NaN           NaN         NaN                  NaN  ...   \n",
       "2                     NaN           NaN         NaN                  NaN  ...   \n",
       "3                     NaN           NaN         NaN                  NaN  ...   \n",
       "4                     NaN           NaN         NaN                  NaN  ...   \n",
       "...                   ...           ...         ...                  ...  ...   \n",
       "89674              18.857        1582.0         0.0                0.857  ...   \n",
       "89675              20.000        1582.0         0.0                0.857  ...   \n",
       "89676              20.143        1582.0         0.0                0.857  ...   \n",
       "89677              19.857        1582.0         0.0                0.857  ...   \n",
       "89678              21.000        1583.0         1.0                0.571  ...   \n",
       "\n",
       "       gdp_per_capita  extreme_poverty  cardiovasc_death_rate  \\\n",
       "0            1803.987              NaN                597.029   \n",
       "1            1803.987              NaN                597.029   \n",
       "2            1803.987              NaN                597.029   \n",
       "3            1803.987              NaN                597.029   \n",
       "4            1803.987              NaN                597.029   \n",
       "...               ...              ...                    ...   \n",
       "89674        1899.775             21.4                307.846   \n",
       "89675        1899.775             21.4                307.846   \n",
       "89676        1899.775             21.4                307.846   \n",
       "89677        1899.775             21.4                307.846   \n",
       "89678        1899.775             21.4                307.846   \n",
       "\n",
       "       diabetes_prevalence  female_smokers  male_smokers  \\\n",
       "0                     9.59             NaN           NaN   \n",
       "1                     9.59             NaN           NaN   \n",
       "2                     9.59             NaN           NaN   \n",
       "3                     9.59             NaN           NaN   \n",
       "4                     9.59             NaN           NaN   \n",
       "...                    ...             ...           ...   \n",
       "89674                 1.82             1.6          30.7   \n",
       "89675                 1.82             1.6          30.7   \n",
       "89676                 1.82             1.6          30.7   \n",
       "89677                 1.82             1.6          30.7   \n",
       "89678                 1.82             1.6          30.7   \n",
       "\n",
       "       handwashing_facilities  hospital_beds_per_thousand  life_expectancy  \\\n",
       "0                      37.746                         0.5            64.83   \n",
       "1                      37.746                         0.5            64.83   \n",
       "2                      37.746                         0.5            64.83   \n",
       "3                      37.746                         0.5            64.83   \n",
       "4                      37.746                         0.5            64.83   \n",
       "...                       ...                         ...              ...   \n",
       "89674                  36.791                         1.7            61.49   \n",
       "89675                  36.791                         1.7            61.49   \n",
       "89676                  36.791                         1.7            61.49   \n",
       "89677                  36.791                         1.7            61.49   \n",
       "89678                  36.791                         1.7            61.49   \n",
       "\n",
       "       human_development_index  \n",
       "0                        0.511  \n",
       "1                        0.511  \n",
       "2                        0.511  \n",
       "3                        0.511  \n",
       "4                        0.511  \n",
       "...                        ...  \n",
       "89674                    0.571  \n",
       "89675                    0.571  \n",
       "89676                    0.571  \n",
       "89677                    0.571  \n",
       "89678                    0.571  \n",
       "\n",
       "[89679 rows x 59 columns]"
      ],
      "text/html": "<div>\n<style scoped>\n    .dataframe tbody tr th:only-of-type {\n        vertical-align: middle;\n    }\n\n    .dataframe tbody tr th {\n        vertical-align: top;\n    }\n\n    .dataframe thead th {\n        text-align: right;\n    }\n</style>\n<table border=\"1\" class=\"dataframe\">\n  <thead>\n    <tr style=\"text-align: right;\">\n      <th></th>\n      <th>iso_code</th>\n      <th>continent</th>\n      <th>location</th>\n      <th>date</th>\n      <th>total_cases</th>\n      <th>new_cases</th>\n      <th>new_cases_smoothed</th>\n      <th>total_deaths</th>\n      <th>new_deaths</th>\n      <th>new_deaths_smoothed</th>\n      <th>...</th>\n      <th>gdp_per_capita</th>\n      <th>extreme_poverty</th>\n      <th>cardiovasc_death_rate</th>\n      <th>diabetes_prevalence</th>\n      <th>female_smokers</th>\n      <th>male_smokers</th>\n      <th>handwashing_facilities</th>\n      <th>hospital_beds_per_thousand</th>\n      <th>life_expectancy</th>\n      <th>human_development_index</th>\n    </tr>\n  </thead>\n  <tbody>\n    <tr>\n      <th>0</th>\n      <td>AFG</td>\n      <td>Asia</td>\n      <td>Afghanistan</td>\n      <td>2020-02-24</td>\n      <td>1.0</td>\n      <td>1.0</td>\n      <td>NaN</td>\n      <td>NaN</td>\n      <td>NaN</td>\n      <td>NaN</td>\n      <td>...</td>\n      <td>1803.987</td>\n      <td>NaN</td>\n      <td>597.029</td>\n      <td>9.59</td>\n      <td>NaN</td>\n      <td>NaN</td>\n      <td>37.746</td>\n      <td>0.5</td>\n      <td>64.83</td>\n      <td>0.511</td>\n    </tr>\n    <tr>\n      <th>1</th>\n      <td>AFG</td>\n      <td>Asia</td>\n      <td>Afghanistan</td>\n      <td>2020-02-25</td>\n      <td>1.0</td>\n      <td>0.0</td>\n      <td>NaN</td>\n      <td>NaN</td>\n      <td>NaN</td>\n      <td>NaN</td>\n      <td>...</td>\n      <td>1803.987</td>\n      <td>NaN</td>\n      <td>597.029</td>\n      <td>9.59</td>\n      <td>NaN</td>\n      <td>NaN</td>\n      <td>37.746</td>\n      <td>0.5</td>\n      <td>64.83</td>\n      <td>0.511</td>\n    </tr>\n    <tr>\n      <th>2</th>\n      <td>AFG</td>\n      <td>Asia</td>\n      <td>Afghanistan</td>\n      <td>2020-02-26</td>\n      <td>1.0</td>\n      <td>0.0</td>\n      <td>NaN</td>\n      <td>NaN</td>\n      <td>NaN</td>\n      <td>NaN</td>\n      <td>...</td>\n      <td>1803.987</td>\n      <td>NaN</td>\n      <td>597.029</td>\n      <td>9.59</td>\n      <td>NaN</td>\n      <td>NaN</td>\n      <td>37.746</td>\n      <td>0.5</td>\n      <td>64.83</td>\n      <td>0.511</td>\n    </tr>\n    <tr>\n      <th>3</th>\n      <td>AFG</td>\n      <td>Asia</td>\n      <td>Afghanistan</td>\n      <td>2020-02-27</td>\n      <td>1.0</td>\n      <td>0.0</td>\n      <td>NaN</td>\n      <td>NaN</td>\n      <td>NaN</td>\n      <td>NaN</td>\n      <td>...</td>\n      <td>1803.987</td>\n      <td>NaN</td>\n      <td>597.029</td>\n      <td>9.59</td>\n      <td>NaN</td>\n      <td>NaN</td>\n      <td>37.746</td>\n      <td>0.5</td>\n      <td>64.83</td>\n      <td>0.511</td>\n    </tr>\n    <tr>\n      <th>4</th>\n      <td>AFG</td>\n      <td>Asia</td>\n      <td>Afghanistan</td>\n      <td>2020-02-28</td>\n      <td>1.0</td>\n      <td>0.0</td>\n      <td>NaN</td>\n      <td>NaN</td>\n      <td>NaN</td>\n      <td>NaN</td>\n      <td>...</td>\n      <td>1803.987</td>\n      <td>NaN</td>\n      <td>597.029</td>\n      <td>9.59</td>\n      <td>NaN</td>\n      <td>NaN</td>\n      <td>37.746</td>\n      <td>0.5</td>\n      <td>64.83</td>\n      <td>0.511</td>\n    </tr>\n    <tr>\n      <th>...</th>\n      <td>...</td>\n      <td>...</td>\n      <td>...</td>\n      <td>...</td>\n      <td>...</td>\n      <td>...</td>\n      <td>...</td>\n      <td>...</td>\n      <td>...</td>\n      <td>...</td>\n      <td>...</td>\n      <td>...</td>\n      <td>...</td>\n      <td>...</td>\n      <td>...</td>\n      <td>...</td>\n      <td>...</td>\n      <td>...</td>\n      <td>...</td>\n      <td>...</td>\n      <td>...</td>\n    </tr>\n    <tr>\n      <th>89674</th>\n      <td>ZWE</td>\n      <td>Africa</td>\n      <td>Zimbabwe</td>\n      <td>2021-05-14</td>\n      <td>38535.0</td>\n      <td>44.0</td>\n      <td>18.857</td>\n      <td>1582.0</td>\n      <td>0.0</td>\n      <td>0.857</td>\n      <td>...</td>\n      <td>1899.775</td>\n      <td>21.4</td>\n      <td>307.846</td>\n      <td>1.82</td>\n      <td>1.6</td>\n      <td>30.7</td>\n      <td>36.791</td>\n      <td>1.7</td>\n      <td>61.49</td>\n      <td>0.571</td>\n    </tr>\n    <tr>\n      <th>89675</th>\n      <td>ZWE</td>\n      <td>Africa</td>\n      <td>Zimbabwe</td>\n      <td>2021-05-15</td>\n      <td>38554.0</td>\n      <td>19.0</td>\n      <td>20.000</td>\n      <td>1582.0</td>\n      <td>0.0</td>\n      <td>0.857</td>\n      <td>...</td>\n      <td>1899.775</td>\n      <td>21.4</td>\n      <td>307.846</td>\n      <td>1.82</td>\n      <td>1.6</td>\n      <td>30.7</td>\n      <td>36.791</td>\n      <td>1.7</td>\n      <td>61.49</td>\n      <td>0.571</td>\n    </tr>\n    <tr>\n      <th>89676</th>\n      <td>ZWE</td>\n      <td>Africa</td>\n      <td>Zimbabwe</td>\n      <td>2021-05-16</td>\n      <td>38560.0</td>\n      <td>6.0</td>\n      <td>20.143</td>\n      <td>1582.0</td>\n      <td>0.0</td>\n      <td>0.857</td>\n      <td>...</td>\n      <td>1899.775</td>\n      <td>21.4</td>\n      <td>307.846</td>\n      <td>1.82</td>\n      <td>1.6</td>\n      <td>30.7</td>\n      <td>36.791</td>\n      <td>1.7</td>\n      <td>61.49</td>\n      <td>0.571</td>\n    </tr>\n    <tr>\n      <th>89677</th>\n      <td>ZWE</td>\n      <td>Africa</td>\n      <td>Zimbabwe</td>\n      <td>2021-05-17</td>\n      <td>38572.0</td>\n      <td>12.0</td>\n      <td>19.857</td>\n      <td>1582.0</td>\n      <td>0.0</td>\n      <td>0.857</td>\n      <td>...</td>\n      <td>1899.775</td>\n      <td>21.4</td>\n      <td>307.846</td>\n      <td>1.82</td>\n      <td>1.6</td>\n      <td>30.7</td>\n      <td>36.791</td>\n      <td>1.7</td>\n      <td>61.49</td>\n      <td>0.571</td>\n    </tr>\n    <tr>\n      <th>89678</th>\n      <td>ZWE</td>\n      <td>Africa</td>\n      <td>Zimbabwe</td>\n      <td>2021-05-18</td>\n      <td>38595.0</td>\n      <td>23.0</td>\n      <td>21.000</td>\n      <td>1583.0</td>\n      <td>1.0</td>\n      <td>0.571</td>\n      <td>...</td>\n      <td>1899.775</td>\n      <td>21.4</td>\n      <td>307.846</td>\n      <td>1.82</td>\n      <td>1.6</td>\n      <td>30.7</td>\n      <td>36.791</td>\n      <td>1.7</td>\n      <td>61.49</td>\n      <td>0.571</td>\n    </tr>\n  </tbody>\n</table>\n<p>89679 rows × 59 columns</p>\n</div>"
     },
     "metadata": {},
     "execution_count": 10
    }
   ],
   "source": [
    "data"
   ]
  },
  {
   "cell_type": "code",
   "execution_count": 24,
   "metadata": {},
   "outputs": [
    {
     "output_type": "stream",
     "name": "stdout",
     "text": [
      "<class 'pandas.core.frame.DataFrame'>\nRangeIndex: 89679 entries, 0 to 89678\nData columns (total 59 columns):\n #   Column                                 Non-Null Count  Dtype  \n---  ------                                 --------------  -----  \n 0   iso_code                               89679 non-null  object \n 1   continent                              85406 non-null  object \n 2   location                               89679 non-null  object \n 3   date                                   89679 non-null  object \n 4   total_cases                            86654 non-null  float64\n 5   new_cases                              86652 non-null  float64\n 6   new_cases_smoothed                     85651 non-null  float64\n 7   total_deaths                           76856 non-null  float64\n 8   new_deaths                             77014 non-null  float64\n 9   new_deaths_smoothed                    85651 non-null  float64\n 10  total_cases_per_million                86187 non-null  float64\n 11  new_cases_per_million                  86185 non-null  float64\n 12  new_cases_smoothed_per_million         85189 non-null  float64\n 13  total_deaths_per_million               76402 non-null  float64\n 14  new_deaths_per_million                 76560 non-null  float64\n 15  new_deaths_smoothed_per_million        85189 non-null  float64\n 16  reproduction_rate                      72079 non-null  float64\n 17  icu_patients                           9026 non-null   float64\n 18  icu_patients_per_million               9026 non-null   float64\n 19  hosp_patients                          11238 non-null  float64\n 20  hosp_patients_per_million              11238 non-null  float64\n 21  weekly_icu_admissions                  817 non-null    float64\n 22  weekly_icu_admissions_per_million      817 non-null    float64\n 23  weekly_hosp_admissions                 1418 non-null   float64\n 24  weekly_hosp_admissions_per_million     1418 non-null   float64\n 25  new_tests                              40537 non-null  float64\n 26  total_tests                            40232 non-null  float64\n 27  total_tests_per_thousand               40232 non-null  float64\n 28  new_tests_per_thousand                 40537 non-null  float64\n 29  new_tests_smoothed                     46891 non-null  float64\n 30  new_tests_smoothed_per_thousand        46891 non-null  float64\n 31  positive_rate                          43659 non-null  float64\n 32  tests_per_case                         43065 non-null  float64\n 33  tests_units                            48390 non-null  object \n 34  total_vaccinations                     11432 non-null  float64\n 35  people_vaccinated                      10675 non-null  float64\n 36  people_fully_vaccinated                8175 non-null   float64\n 37  new_vaccinations                       9629 non-null   float64\n 38  new_vaccinations_smoothed              19179 non-null  float64\n 39  total_vaccinations_per_hundred         11432 non-null  float64\n 40  people_vaccinated_per_hundred          10675 non-null  float64\n 41  people_fully_vaccinated_per_hundred    8175 non-null   float64\n 42  new_vaccinations_smoothed_per_million  19179 non-null  float64\n 43  stringency_index                       76201 non-null  float64\n 44  population                             89088 non-null  float64\n 45  population_density                     83437 non-null  float64\n 46  median_age                             80628 non-null  float64\n 47  aged_65_older                          79716 non-null  float64\n 48  aged_70_older                          80180 non-null  float64\n 49  gdp_per_capita                         80833 non-null  float64\n 50  extreme_poverty                        54728 non-null  float64\n 51  cardiovasc_death_rate                  81049 non-null  float64\n 52  diabetes_prevalence                    82860 non-null  float64\n 53  female_smokers                         63479 non-null  float64\n 54  male_smokers                           62546 non-null  float64\n 55  handwashing_facilities                 40718 non-null  float64\n 56  hospital_beds_per_thousand             73931 non-null  float64\n 57  life_expectancy                        85159 non-null  float64\n 58  human_development_index                81226 non-null  float64\ndtypes: float64(54), object(5)\nmemory usage: 40.4+ MB\n"
     ]
    }
   ],
   "source": [
    "data.info()"
   ]
  },
  {
   "cell_type": "code",
   "execution_count": 27,
   "metadata": {},
   "outputs": [
    {
     "output_type": "stream",
     "name": "stdout",
     "text": [
      "<class 'pandas.core.frame.DataFrame'>\nRangeIndex: 89679 entries, 0 to 89678\nData columns (total 59 columns):\n #   Column                                 Non-Null Count  Dtype  \n---  ------                                 --------------  -----  \n 0   iso_code                               89679 non-null  object \n 1   continent                              85406 non-null  object \n 2   location                               89679 non-null  object \n 3   date                                   89679 non-null  object \n 4   total_cases                            86654 non-null  float64\n 5   new_cases                              86652 non-null  float64\n 6   new_cases_smoothed                     85651 non-null  float64\n 7   total_deaths                           76856 non-null  float64\n 8   new_deaths                             77014 non-null  float64\n 9   new_deaths_smoothed                    85651 non-null  float64\n 10  total_cases_per_million                86187 non-null  float64\n 11  new_cases_per_million                  86185 non-null  float64\n 12  new_cases_smoothed_per_million         85189 non-null  float64\n 13  total_deaths_per_million               76402 non-null  float64\n 14  new_deaths_per_million                 76560 non-null  float64\n 15  new_deaths_smoothed_per_million        85189 non-null  float64\n 16  reproduction_rate                      72079 non-null  float64\n 17  icu_patients                           9026 non-null   float64\n 18  icu_patients_per_million               9026 non-null   float64\n 19  hosp_patients                          11238 non-null  float64\n 20  hosp_patients_per_million              11238 non-null  float64\n 21  weekly_icu_admissions                  817 non-null    float64\n 22  weekly_icu_admissions_per_million      817 non-null    float64\n 23  weekly_hosp_admissions                 1418 non-null   float64\n 24  weekly_hosp_admissions_per_million     1418 non-null   float64\n 25  new_tests                              40537 non-null  float64\n 26  total_tests                            40232 non-null  float64\n 27  total_tests_per_thousand               40232 non-null  float64\n 28  new_tests_per_thousand                 40537 non-null  float64\n 29  new_tests_smoothed                     46891 non-null  float64\n 30  new_tests_smoothed_per_thousand        46891 non-null  float64\n 31  positive_rate                          43659 non-null  float64\n 32  tests_per_case                         43065 non-null  float64\n 33  tests_units                            48390 non-null  object \n 34  total_vaccinations                     11432 non-null  float64\n 35  people_vaccinated                      10675 non-null  float64\n 36  people_fully_vaccinated                8175 non-null   float64\n 37  new_vaccinations                       9629 non-null   float64\n 38  new_vaccinations_smoothed              19179 non-null  float64\n 39  total_vaccinations_per_hundred         11432 non-null  float64\n 40  people_vaccinated_per_hundred          10675 non-null  float64\n 41  people_fully_vaccinated_per_hundred    8175 non-null   float64\n 42  new_vaccinations_smoothed_per_million  19179 non-null  float64\n 43  stringency_index                       76201 non-null  float64\n 44  population                             89088 non-null  float64\n 45  population_density                     83437 non-null  float64\n 46  median_age                             80628 non-null  float64\n 47  aged_65_older                          79716 non-null  float64\n 48  aged_70_older                          80180 non-null  float64\n 49  gdp_per_capita                         80833 non-null  float64\n 50  extreme_poverty                        54728 non-null  float64\n 51  cardiovasc_death_rate                  81049 non-null  float64\n 52  diabetes_prevalence                    82860 non-null  float64\n 53  female_smokers                         63479 non-null  float64\n 54  male_smokers                           62546 non-null  float64\n 55  handwashing_facilities                 40718 non-null  float64\n 56  hospital_beds_per_thousand             73931 non-null  float64\n 57  life_expectancy                        85159 non-null  float64\n 58  human_development_index                81226 non-null  float64\ndtypes: float64(54), object(5)\nmemory usage: 40.4+ MB\n"
     ]
    }
   ],
   "source": [
    "data[\"continent\"].dropna()"
   ]
  },
  {
   "cell_type": "code",
   "execution_count": 11,
   "metadata": {},
   "outputs": [
    {
     "output_type": "execute_result",
     "data": {
      "text/plain": [
       "Index(['iso_code', 'continent', 'location', 'date', 'total_cases', 'new_cases',\n",
       "       'new_cases_smoothed', 'total_deaths', 'new_deaths',\n",
       "       'new_deaths_smoothed', 'total_cases_per_million',\n",
       "       'new_cases_per_million', 'new_cases_smoothed_per_million',\n",
       "       'total_deaths_per_million', 'new_deaths_per_million',\n",
       "       'new_deaths_smoothed_per_million', 'reproduction_rate', 'icu_patients',\n",
       "       'icu_patients_per_million', 'hosp_patients',\n",
       "       'hosp_patients_per_million', 'weekly_icu_admissions',\n",
       "       'weekly_icu_admissions_per_million', 'weekly_hosp_admissions',\n",
       "       'weekly_hosp_admissions_per_million', 'new_tests', 'total_tests',\n",
       "       'total_tests_per_thousand', 'new_tests_per_thousand',\n",
       "       'new_tests_smoothed', 'new_tests_smoothed_per_thousand',\n",
       "       'positive_rate', 'tests_per_case', 'tests_units', 'total_vaccinations',\n",
       "       'people_vaccinated', 'people_fully_vaccinated', 'new_vaccinations',\n",
       "       'new_vaccinations_smoothed', 'total_vaccinations_per_hundred',\n",
       "       'people_vaccinated_per_hundred', 'people_fully_vaccinated_per_hundred',\n",
       "       'new_vaccinations_smoothed_per_million', 'stringency_index',\n",
       "       'population', 'population_density', 'median_age', 'aged_65_older',\n",
       "       'aged_70_older', 'gdp_per_capita', 'extreme_poverty',\n",
       "       'cardiovasc_death_rate', 'diabetes_prevalence', 'female_smokers',\n",
       "       'male_smokers', 'handwashing_facilities', 'hospital_beds_per_thousand',\n",
       "       'life_expectancy', 'human_development_index'],\n",
       "      dtype='object')"
      ]
     },
     "metadata": {},
     "execution_count": 11
    }
   ],
   "source": [
    "data.keys()"
   ]
  },
  {
   "cell_type": "code",
   "execution_count": 23,
   "metadata": {},
   "outputs": [
    {
     "output_type": "execute_result",
     "data": {
      "text/plain": [
       "                total_cases   new_cases  new_cases_smoothed  total_deaths  \\\n",
       "continent                                                                   \n",
       "Africa         8.390513e+08   4706525.0        4.681292e+06    21306489.0   \n",
       "Asia           6.037361e+09  46709722.0        4.561589e+07    97405998.0   \n",
       "Europe         6.744073e+09  46488860.0        4.628165e+07   179502575.0   \n",
       "North America  6.584901e+09  38461172.0        3.833374e+07   169049750.0   \n",
       "Oceania        1.066704e+07     47066.0        4.642018e+04      275690.0   \n",
       "South America  4.193466e+09  26993962.0        2.663726e+07   118299970.0   \n",
       "\n",
       "               new_deaths  new_deaths_smoothed  total_cases_per_million  \\\n",
       "continent                                                                 \n",
       "Africa           126889.0           126093.742             5.476708e+07   \n",
       "Asia             619422.0           602094.806             1.884538e+08   \n",
       "Europe          1055672.0          1050291.012             4.922508e+08   \n",
       "North America    865864.0           863161.957             8.666995e+07   \n",
       "Oceania            1077.0             1075.615             6.477980e+05   \n",
       "South America    735382.0           725277.128             7.792982e+07   \n",
       "\n",
       "               new_cases_per_million  new_cases_smoothed_per_million  \\\n",
       "continent                                                              \n",
       "Africa                    414669.738                      406341.258   \n",
       "Asia                     1242326.656                     1223188.271   \n",
       "Europe                   3471901.474                     3456861.905   \n",
       "North America             548330.073                      542430.508   \n",
       "Oceania                     3647.241                        3527.319   \n",
       "South America             551258.392                      541212.082   \n",
       "\n",
       "               total_deaths_per_million  ...  gdp_per_capita  extreme_poverty  \\\n",
       "continent                                ...                                    \n",
       "Africa                     9.771977e+05  ...    1.251493e+08         593867.4   \n",
       "Asia                       1.888940e+06  ...    4.821630e+08          70663.3   \n",
       "Europe                     1.016802e+07  ...    6.385004e+08          12203.1   \n",
       "North America              1.957136e+06  ...    1.841559e+08          27527.2   \n",
       "Oceania                    1.364082e+04  ...    4.722825e+07          10800.7   \n",
       "South America              2.261203e+06  ...    7.485538e+07          11601.5   \n",
       "\n",
       "               cardiovasc_death_rate  diabetes_prevalence  female_smokers  \\\n",
       "continent                                                                   \n",
       "Africa                   6655808.137            130777.18         39825.7   \n",
       "Asia                     5944093.216            189990.09         82308.2   \n",
       "Europe                   4248263.767            130403.86        424438.4   \n",
       "North America            1962534.643            113092.67         41094.0   \n",
       "Oceania                   985244.098             42419.34         33336.9   \n",
       "South America             999934.733             41751.20         44887.7   \n",
       "\n",
       "               male_smokers  handwashing_facilities  \\\n",
       "continent                                             \n",
       "Africa             424251.5              480645.365   \n",
       "Asia               681345.3              792301.697   \n",
       "Europe             643727.4              124540.095   \n",
       "North America      119329.4              443213.758   \n",
       "Oceania             69134.4               29397.526   \n",
       "South America       88631.7              173010.888   \n",
       "\n",
       "               hospital_beds_per_thousand  life_expectancy  \\\n",
       "continent                                                    \n",
       "Africa                          25938.640       1494130.26   \n",
       "Asia                            56530.220       1593874.05   \n",
       "Europe                         100414.581       1653693.50   \n",
       "North America                   23271.400        821709.67   \n",
       "Oceania                          5231.020        227398.24   \n",
       "South America                   11302.400        410106.52   \n",
       "\n",
       "               human_development_index  \n",
       "continent                               \n",
       "Africa                       12776.224  \n",
       "Asia                         15389.523  \n",
       "Europe                       16771.963  \n",
       "North America                 7646.501  \n",
       "Oceania                       2063.312  \n",
       "South America                 4117.078  \n",
       "\n",
       "[6 rows x 54 columns]"
      ],
      "text/html": "<div>\n<style scoped>\n    .dataframe tbody tr th:only-of-type {\n        vertical-align: middle;\n    }\n\n    .dataframe tbody tr th {\n        vertical-align: top;\n    }\n\n    .dataframe thead th {\n        text-align: right;\n    }\n</style>\n<table border=\"1\" class=\"dataframe\">\n  <thead>\n    <tr style=\"text-align: right;\">\n      <th></th>\n      <th>total_cases</th>\n      <th>new_cases</th>\n      <th>new_cases_smoothed</th>\n      <th>total_deaths</th>\n      <th>new_deaths</th>\n      <th>new_deaths_smoothed</th>\n      <th>total_cases_per_million</th>\n      <th>new_cases_per_million</th>\n      <th>new_cases_smoothed_per_million</th>\n      <th>total_deaths_per_million</th>\n      <th>...</th>\n      <th>gdp_per_capita</th>\n      <th>extreme_poverty</th>\n      <th>cardiovasc_death_rate</th>\n      <th>diabetes_prevalence</th>\n      <th>female_smokers</th>\n      <th>male_smokers</th>\n      <th>handwashing_facilities</th>\n      <th>hospital_beds_per_thousand</th>\n      <th>life_expectancy</th>\n      <th>human_development_index</th>\n    </tr>\n    <tr>\n      <th>continent</th>\n      <th></th>\n      <th></th>\n      <th></th>\n      <th></th>\n      <th></th>\n      <th></th>\n      <th></th>\n      <th></th>\n      <th></th>\n      <th></th>\n      <th></th>\n      <th></th>\n      <th></th>\n      <th></th>\n      <th></th>\n      <th></th>\n      <th></th>\n      <th></th>\n      <th></th>\n      <th></th>\n      <th></th>\n    </tr>\n  </thead>\n  <tbody>\n    <tr>\n      <th>Africa</th>\n      <td>8.390513e+08</td>\n      <td>4706525.0</td>\n      <td>4.681292e+06</td>\n      <td>21306489.0</td>\n      <td>126889.0</td>\n      <td>126093.742</td>\n      <td>5.476708e+07</td>\n      <td>414669.738</td>\n      <td>406341.258</td>\n      <td>9.771977e+05</td>\n      <td>...</td>\n      <td>1.251493e+08</td>\n      <td>593867.4</td>\n      <td>6655808.137</td>\n      <td>130777.18</td>\n      <td>39825.7</td>\n      <td>424251.5</td>\n      <td>480645.365</td>\n      <td>25938.640</td>\n      <td>1494130.26</td>\n      <td>12776.224</td>\n    </tr>\n    <tr>\n      <th>Asia</th>\n      <td>6.037361e+09</td>\n      <td>46709722.0</td>\n      <td>4.561589e+07</td>\n      <td>97405998.0</td>\n      <td>619422.0</td>\n      <td>602094.806</td>\n      <td>1.884538e+08</td>\n      <td>1242326.656</td>\n      <td>1223188.271</td>\n      <td>1.888940e+06</td>\n      <td>...</td>\n      <td>4.821630e+08</td>\n      <td>70663.3</td>\n      <td>5944093.216</td>\n      <td>189990.09</td>\n      <td>82308.2</td>\n      <td>681345.3</td>\n      <td>792301.697</td>\n      <td>56530.220</td>\n      <td>1593874.05</td>\n      <td>15389.523</td>\n    </tr>\n    <tr>\n      <th>Europe</th>\n      <td>6.744073e+09</td>\n      <td>46488860.0</td>\n      <td>4.628165e+07</td>\n      <td>179502575.0</td>\n      <td>1055672.0</td>\n      <td>1050291.012</td>\n      <td>4.922508e+08</td>\n      <td>3471901.474</td>\n      <td>3456861.905</td>\n      <td>1.016802e+07</td>\n      <td>...</td>\n      <td>6.385004e+08</td>\n      <td>12203.1</td>\n      <td>4248263.767</td>\n      <td>130403.86</td>\n      <td>424438.4</td>\n      <td>643727.4</td>\n      <td>124540.095</td>\n      <td>100414.581</td>\n      <td>1653693.50</td>\n      <td>16771.963</td>\n    </tr>\n    <tr>\n      <th>North America</th>\n      <td>6.584901e+09</td>\n      <td>38461172.0</td>\n      <td>3.833374e+07</td>\n      <td>169049750.0</td>\n      <td>865864.0</td>\n      <td>863161.957</td>\n      <td>8.666995e+07</td>\n      <td>548330.073</td>\n      <td>542430.508</td>\n      <td>1.957136e+06</td>\n      <td>...</td>\n      <td>1.841559e+08</td>\n      <td>27527.2</td>\n      <td>1962534.643</td>\n      <td>113092.67</td>\n      <td>41094.0</td>\n      <td>119329.4</td>\n      <td>443213.758</td>\n      <td>23271.400</td>\n      <td>821709.67</td>\n      <td>7646.501</td>\n    </tr>\n    <tr>\n      <th>Oceania</th>\n      <td>1.066704e+07</td>\n      <td>47066.0</td>\n      <td>4.642018e+04</td>\n      <td>275690.0</td>\n      <td>1077.0</td>\n      <td>1075.615</td>\n      <td>6.477980e+05</td>\n      <td>3647.241</td>\n      <td>3527.319</td>\n      <td>1.364082e+04</td>\n      <td>...</td>\n      <td>4.722825e+07</td>\n      <td>10800.7</td>\n      <td>985244.098</td>\n      <td>42419.34</td>\n      <td>33336.9</td>\n      <td>69134.4</td>\n      <td>29397.526</td>\n      <td>5231.020</td>\n      <td>227398.24</td>\n      <td>2063.312</td>\n    </tr>\n    <tr>\n      <th>South America</th>\n      <td>4.193466e+09</td>\n      <td>26993962.0</td>\n      <td>2.663726e+07</td>\n      <td>118299970.0</td>\n      <td>735382.0</td>\n      <td>725277.128</td>\n      <td>7.792982e+07</td>\n      <td>551258.392</td>\n      <td>541212.082</td>\n      <td>2.261203e+06</td>\n      <td>...</td>\n      <td>7.485538e+07</td>\n      <td>11601.5</td>\n      <td>999934.733</td>\n      <td>41751.20</td>\n      <td>44887.7</td>\n      <td>88631.7</td>\n      <td>173010.888</td>\n      <td>11302.400</td>\n      <td>410106.52</td>\n      <td>4117.078</td>\n    </tr>\n  </tbody>\n</table>\n<p>6 rows × 54 columns</p>\n</div>"
     },
     "metadata": {},
     "execution_count": 23
    }
   ],
   "source": [
    "data.groupby(by=\"continent\").sum()"
   ]
  },
  {
   "cell_type": "code",
   "execution_count": 28,
   "metadata": {},
   "outputs": [
    {
     "output_type": "execute_result",
     "data": {
      "text/plain": [
       "                    total_cases    new_cases  new_cases_smoothed  \\\n",
       "location                                                           \n",
       "Afghanistan        1.629292e+07      63819.0        6.334656e+04   \n",
       "Africa             8.390513e+08    4706525.0        4.681389e+06   \n",
       "Albania            1.831458e+07     132071.0        1.319557e+05   \n",
       "Algeria            2.628567e+07     125693.0        1.251869e+05   \n",
       "Andorra            2.229985e+06      13569.0        1.351273e+04   \n",
       "...                         ...          ...                 ...   \n",
       "Wallis and Futuna  0.000000e+00          0.0        0.000000e+00   \n",
       "World              2.440985e+10  163408028.0        1.615975e+08   \n",
       "Yemen              8.887510e+05       6586.0        6.536846e+03   \n",
       "Zambia             1.246588e+07      92520.0        9.237757e+04   \n",
       "Zimbabwe           6.058383e+06      38595.0        3.853714e+04   \n",
       "\n",
       "                   total_deaths  new_deaths  new_deaths_smoothed  \\\n",
       "location                                                           \n",
       "Afghanistan            638013.0      2751.0             2733.566   \n",
       "Africa               21306489.0    126889.0           126095.428   \n",
       "Albania                349067.0      2436.0             2429.306   \n",
       "Algeria                796772.0      3388.0             3367.714   \n",
       "Andorra                 30703.0       127.0              127.026   \n",
       "...                         ...         ...                  ...   \n",
       "Wallis and Futuna           0.0         0.0                0.000   \n",
       "World               585846907.0   3404321.0          3368016.713   \n",
       "Yemen                  223217.0      1297.0             1286.453   \n",
       "Zambia                 192020.0      1263.0             1260.435   \n",
       "Zimbabwe               219768.0      1583.0             1581.446   \n",
       "\n",
       "                   total_cases_per_million  new_cases_per_million  \\\n",
       "location                                                            \n",
       "Afghanistan                   4.185363e+05               1639.407   \n",
       "Africa                        6.258783e+05               3510.779   \n",
       "Albania                       6.364092e+06              45893.038   \n",
       "Algeria                       5.994308e+05               2866.363   \n",
       "Andorra                       2.886152e+07             175616.376   \n",
       "...                                    ...                    ...   \n",
       "Wallis and Futuna             0.000000e+00                  0.000   \n",
       "World                         3.131556e+06              20963.727   \n",
       "Yemen                         2.979791e+04                220.846   \n",
       "Zambia                        6.780847e+05               5032.653   \n",
       "Zimbabwe                      4.076171e+05               2596.726   \n",
       "\n",
       "                   new_cases_smoothed_per_million  total_deaths_per_million  \\\n",
       "location                                                                      \n",
       "Afghanistan                              1627.269                 16389.430   \n",
       "Africa                                   3492.001                 15893.271   \n",
       "Albania                                 45852.984                121296.473   \n",
       "Algeria                                  2854.823                 18169.964   \n",
       "Andorra                                174887.900                397372.661   \n",
       "...                                           ...                       ...   \n",
       "Wallis and Futuna                           0.000                     0.000   \n",
       "World                                   20731.451                 75158.682   \n",
       "Yemen                                     219.167                  7483.994   \n",
       "Zambia                                   5024.909                 10444.976   \n",
       "Zimbabwe                                 2592.832                 14786.309   \n",
       "\n",
       "                   ...  gdp_per_capita  extreme_poverty  \\\n",
       "location           ...                                    \n",
       "Afghanistan        ...      811794.150              0.0   \n",
       "Africa             ...           0.000              0.0   \n",
       "Albania            ...     5299740.519            493.9   \n",
       "Algeria            ...     6247313.711            224.5   \n",
       "Andorra            ...           0.000              0.0   \n",
       "...                ...             ...              ...   \n",
       "Wallis and Futuna  ...           0.000              0.0   \n",
       "World              ...     7471626.981           4830.0   \n",
       "Yemen              ...      597575.388           7595.2   \n",
       "Zambia             ...     1575310.177          24552.5   \n",
       "Zimbabwe           ...      807404.375           9095.0   \n",
       "\n",
       "                   cardiovasc_death_rate  diabetes_prevalence  female_smokers  \\\n",
       "location                                                                        \n",
       "Afghanistan                   268663.050              4315.50           0.000   \n",
       "Africa                             0.000                 0.00           0.000   \n",
       "Albania                       136583.555              4525.92        3187.900   \n",
       "Algeria                       124985.436              3021.77         314.300   \n",
       "Andorra                        48346.805              3530.71       12847.000   \n",
       "...                                  ...                  ...             ...   \n",
       "Wallis and Futuna                  0.000                 0.00           0.000   \n",
       "World                         112572.810              4110.33        3107.622   \n",
       "Yemen                         199981.212              2161.40        3070.400   \n",
       "Zambia                        100131.073              1682.38        1323.700   \n",
       "Zimbabwe                      130834.550               773.50         680.000   \n",
       "\n",
       "                   male_smokers  handwashing_facilities  \\\n",
       "location                                                  \n",
       "Afghanistan               0.000               16985.700   \n",
       "Africa                    0.000                   0.000   \n",
       "Albania               22988.800                   0.000   \n",
       "Algeria               13649.600               37599.709   \n",
       "Andorra               16745.400                   0.000   \n",
       "...                         ...                     ...   \n",
       "Wallis and Futuna         0.000                   0.000   \n",
       "World                 16728.705               29042.790   \n",
       "Yemen                 11796.800               20014.968   \n",
       "Zambia                10546.900                5951.526   \n",
       "Zimbabwe              13047.500               15636.175   \n",
       "\n",
       "                   hospital_beds_per_thousand  life_expectancy  \\\n",
       "location                                                         \n",
       "Afghanistan                           225.000         29173.50   \n",
       "Africa                                  0.000             0.00   \n",
       "Albania                              1297.610         35277.93   \n",
       "Algeria                               853.100         34519.12   \n",
       "Andorra                                 0.000         37092.39   \n",
       "...                                       ...              ...   \n",
       "Wallis and Futuna                       0.000          4556.58   \n",
       "World                                1306.515         35056.14   \n",
       "Yemen                                 282.800         26712.48   \n",
       "Zambia                                854.000         27281.03   \n",
       "Zimbabwe                              722.500         26133.25   \n",
       "\n",
       "                   human_development_index  \n",
       "location                                    \n",
       "Afghanistan                        229.950  \n",
       "Africa                               0.000  \n",
       "Albania                            356.955  \n",
       "Algeria                            335.852  \n",
       "Andorra                            384.524  \n",
       "...                                    ...  \n",
       "Wallis and Futuna                    0.000  \n",
       "World                              355.971  \n",
       "Yemen                              189.880  \n",
       "Zambia                             249.368  \n",
       "Zimbabwe                           242.675  \n",
       "\n",
       "[226 rows x 54 columns]"
      ],
      "text/html": "<div>\n<style scoped>\n    .dataframe tbody tr th:only-of-type {\n        vertical-align: middle;\n    }\n\n    .dataframe tbody tr th {\n        vertical-align: top;\n    }\n\n    .dataframe thead th {\n        text-align: right;\n    }\n</style>\n<table border=\"1\" class=\"dataframe\">\n  <thead>\n    <tr style=\"text-align: right;\">\n      <th></th>\n      <th>total_cases</th>\n      <th>new_cases</th>\n      <th>new_cases_smoothed</th>\n      <th>total_deaths</th>\n      <th>new_deaths</th>\n      <th>new_deaths_smoothed</th>\n      <th>total_cases_per_million</th>\n      <th>new_cases_per_million</th>\n      <th>new_cases_smoothed_per_million</th>\n      <th>total_deaths_per_million</th>\n      <th>...</th>\n      <th>gdp_per_capita</th>\n      <th>extreme_poverty</th>\n      <th>cardiovasc_death_rate</th>\n      <th>diabetes_prevalence</th>\n      <th>female_smokers</th>\n      <th>male_smokers</th>\n      <th>handwashing_facilities</th>\n      <th>hospital_beds_per_thousand</th>\n      <th>life_expectancy</th>\n      <th>human_development_index</th>\n    </tr>\n    <tr>\n      <th>location</th>\n      <th></th>\n      <th></th>\n      <th></th>\n      <th></th>\n      <th></th>\n      <th></th>\n      <th></th>\n      <th></th>\n      <th></th>\n      <th></th>\n      <th></th>\n      <th></th>\n      <th></th>\n      <th></th>\n      <th></th>\n      <th></th>\n      <th></th>\n      <th></th>\n      <th></th>\n      <th></th>\n      <th></th>\n    </tr>\n  </thead>\n  <tbody>\n    <tr>\n      <th>Afghanistan</th>\n      <td>1.629292e+07</td>\n      <td>63819.0</td>\n      <td>6.334656e+04</td>\n      <td>638013.0</td>\n      <td>2751.0</td>\n      <td>2733.566</td>\n      <td>4.185363e+05</td>\n      <td>1639.407</td>\n      <td>1627.269</td>\n      <td>16389.430</td>\n      <td>...</td>\n      <td>811794.150</td>\n      <td>0.0</td>\n      <td>268663.050</td>\n      <td>4315.50</td>\n      <td>0.000</td>\n      <td>0.000</td>\n      <td>16985.700</td>\n      <td>225.000</td>\n      <td>29173.50</td>\n      <td>229.950</td>\n    </tr>\n    <tr>\n      <th>Africa</th>\n      <td>8.390513e+08</td>\n      <td>4706525.0</td>\n      <td>4.681389e+06</td>\n      <td>21306489.0</td>\n      <td>126889.0</td>\n      <td>126095.428</td>\n      <td>6.258783e+05</td>\n      <td>3510.779</td>\n      <td>3492.001</td>\n      <td>15893.271</td>\n      <td>...</td>\n      <td>0.000</td>\n      <td>0.0</td>\n      <td>0.000</td>\n      <td>0.00</td>\n      <td>0.000</td>\n      <td>0.000</td>\n      <td>0.000</td>\n      <td>0.000</td>\n      <td>0.00</td>\n      <td>0.000</td>\n    </tr>\n    <tr>\n      <th>Albania</th>\n      <td>1.831458e+07</td>\n      <td>132071.0</td>\n      <td>1.319557e+05</td>\n      <td>349067.0</td>\n      <td>2436.0</td>\n      <td>2429.306</td>\n      <td>6.364092e+06</td>\n      <td>45893.038</td>\n      <td>45852.984</td>\n      <td>121296.473</td>\n      <td>...</td>\n      <td>5299740.519</td>\n      <td>493.9</td>\n      <td>136583.555</td>\n      <td>4525.92</td>\n      <td>3187.900</td>\n      <td>22988.800</td>\n      <td>0.000</td>\n      <td>1297.610</td>\n      <td>35277.93</td>\n      <td>356.955</td>\n    </tr>\n    <tr>\n      <th>Algeria</th>\n      <td>2.628567e+07</td>\n      <td>125693.0</td>\n      <td>1.251869e+05</td>\n      <td>796772.0</td>\n      <td>3388.0</td>\n      <td>3367.714</td>\n      <td>5.994308e+05</td>\n      <td>2866.363</td>\n      <td>2854.823</td>\n      <td>18169.964</td>\n      <td>...</td>\n      <td>6247313.711</td>\n      <td>224.5</td>\n      <td>124985.436</td>\n      <td>3021.77</td>\n      <td>314.300</td>\n      <td>13649.600</td>\n      <td>37599.709</td>\n      <td>853.100</td>\n      <td>34519.12</td>\n      <td>335.852</td>\n    </tr>\n    <tr>\n      <th>Andorra</th>\n      <td>2.229985e+06</td>\n      <td>13569.0</td>\n      <td>1.351273e+04</td>\n      <td>30703.0</td>\n      <td>127.0</td>\n      <td>127.026</td>\n      <td>2.886152e+07</td>\n      <td>175616.376</td>\n      <td>174887.900</td>\n      <td>397372.661</td>\n      <td>...</td>\n      <td>0.000</td>\n      <td>0.0</td>\n      <td>48346.805</td>\n      <td>3530.71</td>\n      <td>12847.000</td>\n      <td>16745.400</td>\n      <td>0.000</td>\n      <td>0.000</td>\n      <td>37092.39</td>\n      <td>384.524</td>\n    </tr>\n    <tr>\n      <th>...</th>\n      <td>...</td>\n      <td>...</td>\n      <td>...</td>\n      <td>...</td>\n      <td>...</td>\n      <td>...</td>\n      <td>...</td>\n      <td>...</td>\n      <td>...</td>\n      <td>...</td>\n      <td>...</td>\n      <td>...</td>\n      <td>...</td>\n      <td>...</td>\n      <td>...</td>\n      <td>...</td>\n      <td>...</td>\n      <td>...</td>\n      <td>...</td>\n      <td>...</td>\n      <td>...</td>\n    </tr>\n    <tr>\n      <th>Wallis and Futuna</th>\n      <td>0.000000e+00</td>\n      <td>0.0</td>\n      <td>0.000000e+00</td>\n      <td>0.0</td>\n      <td>0.0</td>\n      <td>0.000</td>\n      <td>0.000000e+00</td>\n      <td>0.000</td>\n      <td>0.000</td>\n      <td>0.000</td>\n      <td>...</td>\n      <td>0.000</td>\n      <td>0.0</td>\n      <td>0.000</td>\n      <td>0.00</td>\n      <td>0.000</td>\n      <td>0.000</td>\n      <td>0.000</td>\n      <td>0.000</td>\n      <td>4556.58</td>\n      <td>0.000</td>\n    </tr>\n    <tr>\n      <th>World</th>\n      <td>2.440985e+10</td>\n      <td>163408028.0</td>\n      <td>1.615975e+08</td>\n      <td>585846907.0</td>\n      <td>3404321.0</td>\n      <td>3368016.713</td>\n      <td>3.131556e+06</td>\n      <td>20963.727</td>\n      <td>20731.451</td>\n      <td>75158.682</td>\n      <td>...</td>\n      <td>7471626.981</td>\n      <td>4830.0</td>\n      <td>112572.810</td>\n      <td>4110.33</td>\n      <td>3107.622</td>\n      <td>16728.705</td>\n      <td>29042.790</td>\n      <td>1306.515</td>\n      <td>35056.14</td>\n      <td>355.971</td>\n    </tr>\n    <tr>\n      <th>Yemen</th>\n      <td>8.887510e+05</td>\n      <td>6586.0</td>\n      <td>6.536846e+03</td>\n      <td>223217.0</td>\n      <td>1297.0</td>\n      <td>1286.453</td>\n      <td>2.979791e+04</td>\n      <td>220.846</td>\n      <td>219.167</td>\n      <td>7483.994</td>\n      <td>...</td>\n      <td>597575.388</td>\n      <td>7595.2</td>\n      <td>199981.212</td>\n      <td>2161.40</td>\n      <td>3070.400</td>\n      <td>11796.800</td>\n      <td>20014.968</td>\n      <td>282.800</td>\n      <td>26712.48</td>\n      <td>189.880</td>\n    </tr>\n    <tr>\n      <th>Zambia</th>\n      <td>1.246588e+07</td>\n      <td>92520.0</td>\n      <td>9.237757e+04</td>\n      <td>192020.0</td>\n      <td>1263.0</td>\n      <td>1260.435</td>\n      <td>6.780847e+05</td>\n      <td>5032.653</td>\n      <td>5024.909</td>\n      <td>10444.976</td>\n      <td>...</td>\n      <td>1575310.177</td>\n      <td>24552.5</td>\n      <td>100131.073</td>\n      <td>1682.38</td>\n      <td>1323.700</td>\n      <td>10546.900</td>\n      <td>5951.526</td>\n      <td>854.000</td>\n      <td>27281.03</td>\n      <td>249.368</td>\n    </tr>\n    <tr>\n      <th>Zimbabwe</th>\n      <td>6.058383e+06</td>\n      <td>38595.0</td>\n      <td>3.853714e+04</td>\n      <td>219768.0</td>\n      <td>1583.0</td>\n      <td>1581.446</td>\n      <td>4.076171e+05</td>\n      <td>2596.726</td>\n      <td>2592.832</td>\n      <td>14786.309</td>\n      <td>...</td>\n      <td>807404.375</td>\n      <td>9095.0</td>\n      <td>130834.550</td>\n      <td>773.50</td>\n      <td>680.000</td>\n      <td>13047.500</td>\n      <td>15636.175</td>\n      <td>722.500</td>\n      <td>26133.25</td>\n      <td>242.675</td>\n    </tr>\n  </tbody>\n</table>\n<p>226 rows × 54 columns</p>\n</div>"
     },
     "metadata": {},
     "execution_count": 28
    }
   ],
   "source": [
    "data.groupby(by=\"location\").sum()"
   ]
  },
  {
   "cell_type": "code",
   "execution_count": null,
   "metadata": {},
   "outputs": [],
   "source": []
  }
 ]
}