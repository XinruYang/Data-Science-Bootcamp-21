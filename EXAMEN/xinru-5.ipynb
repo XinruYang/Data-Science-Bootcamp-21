{
 "cells": [
  {
   "cell_type": "code",
   "execution_count": 1,
   "metadata": {},
   "outputs": [],
   "source": [
    "lista_nombres_alturas = [(\"Gabriel Vázquez\", 1.75),(\"Jonathan Abbondanza\",  1.70),(\"Nacho Fontal\", 1.82),(\"Javier Araiz\", 1.80),('Jonathan Suarez', 1.86),('Sonia Cobo', 1.73), ('Jorge García', 1.79), (\"Mary Meza\", 1.52), ('Leonardo Frazzetto', 1.75), (\"Nacho Astorga\",1.78),(\"José Carlos Batista\",1.70), (\"Isabel Palomares\", 1.78),(\"Marina Serrano\", 1.54), (\"Daniel Walker\", 1.87), (\"Clara Piniella\", 1.66), (\"Gina Garrido\", 1.63), (\"Adrià Gallardo\", 1.70), (\"María García-Maroto\", 1.64), (\"Susana Vázquez\",1.80), (\"Mauro Garcia-Oliva\", 1.77), (\"Juan Bayon\", 1.64), (\"Miguel Barquero\", 1.85), (\"Borja Puig\", 1.82), (\"Pablo Martínez\", 1.81), (\"Xinru Yang\", 1.60),(\"Pablo Díez\", 1.84),(\"Karina Inche\",1.61)]"
   ]
  },
  {
   "cell_type": "code",
   "execution_count": 1,
   "metadata": {},
   "outputs": [
    {
     "output_type": "error",
     "ename": "NameError",
     "evalue": "name 'lista_nombres_alturas' is not defined",
     "traceback": [
      "\u001b[1;31m---------------------------------------------------------------------------\u001b[0m",
      "\u001b[1;31mNameError\u001b[0m                                 Traceback (most recent call last)",
      "\u001b[1;32m<ipython-input-1-76acedf0c6da>\u001b[0m in \u001b[0;36m<module>\u001b[1;34m\u001b[0m\n\u001b[0;32m     13\u001b[0m         \u001b[0marg2\u001b[0m \u001b[1;33m=\u001b[0m \u001b[0minput\u001b[0m\u001b[1;33m(\u001b[0m\u001b[1;33m)\u001b[0m\u001b[1;33m\u001b[0m\u001b[1;33m\u001b[0m\u001b[0m\n\u001b[0;32m     14\u001b[0m \u001b[1;33m\u001b[0m\u001b[0m\n\u001b[1;32m---> 15\u001b[1;33m \u001b[0mejercicio_5\u001b[0m\u001b[1;33m(\u001b[0m\u001b[0mlista_nombres_alturas\u001b[0m\u001b[1;33m,\u001b[0m \u001b[0minput\u001b[0m\u001b[1;33m(\u001b[0m\u001b[1;33m)\u001b[0m\u001b[1;33m)\u001b[0m\u001b[1;33m\u001b[0m\u001b[1;33m\u001b[0m\u001b[0m\n\u001b[0m",
      "\u001b[1;31mNameError\u001b[0m: name 'lista_nombres_alturas' is not defined"
     ]
    }
   ],
   "source": [
    "def ejercicio_5(arg1, arg2):\n",
    "    flag = True\n",
    "    while len(arg1) > 0: \n",
    "        if arg2 == \"STOP\":\n",
    "            break\n",
    "        for tupla in arg1: \n",
    "            if arg2 == tupla[0]: \n",
    "                arg1.remove(tupla)\n",
    "                flag = False\n",
    "                print(arg1)\n",
    "        if flag:\n",
    "            print(\"Ese nombre no está dentro de la lista\")\n",
    "        arg2 = input()\n",
    "        \n",
    "ejercicio_5(lista_nombres_alturas, input())"
   ]
  },
  {
   "cell_type": "code",
   "execution_count": null,
   "metadata": {},
   "outputs": [],
   "source": []
  },
  {
   "cell_type": "code",
   "execution_count": null,
   "metadata": {},
   "outputs": [],
   "source": []
  }
 ],
 "metadata": {
  "kernelspec": {
   "name": "python374jvsc74a57bd0fc2c00f0e2c44cb4028bd693f18a1b5d93d1de4cd12db71fca36ff691a163044",
   "display_name": "Python 3.7.4 64-bit"
  },
  "language_info": {
   "codemirror_mode": {
    "name": "ipython",
    "version": 3
   },
   "file_extension": ".py",
   "mimetype": "text/x-python",
   "name": "python",
   "nbconvert_exporter": "python",
   "pygments_lexer": "ipython3",
   "version": "3.7.4"
  },
  "metadata": {
   "interpreter": {
    "hash": "fc2c00f0e2c44cb4028bd693f18a1b5d93d1de4cd12db71fca36ff691a163044"
   }
  }
 },
 "nbformat": 4,
 "nbformat_minor": 4
}