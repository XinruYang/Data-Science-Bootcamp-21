{
 "metadata": {
  "language_info": {
   "codemirror_mode": {
    "name": "ipython",
    "version": 3
   },
   "file_extension": ".py",
   "mimetype": "text/x-python",
   "name": "python",
   "nbconvert_exporter": "python",
   "pygments_lexer": "ipython3",
   "version": "3.7.4"
  },
  "orig_nbformat": 2,
  "kernelspec": {
   "name": "python374jvsc74a57bd0fc2c00f0e2c44cb4028bd693f18a1b5d93d1de4cd12db71fca36ff691a163044",
   "display_name": "Python 3.7.4 64-bit"
  },
  "metadata": {
   "interpreter": {
    "hash": "fc2c00f0e2c44cb4028bd693f18a1b5d93d1de4cd12db71fca36ff691a163044"
   }
  }
 },
 "nbformat": 4,
 "nbformat_minor": 2,
 "cells": [
  {
   "source": [
    "# Test DS-FT April 2021\n",
    "\n"
   ],
   "cell_type": "markdown",
   "metadata": {}
  },
  {
   "source": [
    "## Primera parte (tipo test):\n",
    "\n",
    "https://forms.gle/24Eu5xuFGn6jNKpx9"
   ],
   "cell_type": "markdown",
   "metadata": {}
  },
  {
   "source": [
    "-----------------"
   ],
   "cell_type": "markdown",
   "metadata": {}
  },
  {
   "source": [
    "## Segunda parte, ejercicios prácticos:\n",
    "\n",
    "* El test práctico consta de 5 ejercicios puntuables. \n",
    "* Cada uno se puntúa sobre 2,5. \n",
    "* La máxima nota es 10.\n"
   ],
   "cell_type": "markdown",
   "metadata": {}
  },
  {
   "source": [
    "Antes de comenzar, cambia el nombre del archivo notebook poniéndole delante tu nombre y primer apellido:\n",
    "\n",
    "* nombre_apellido_test_pract_apr_2021.ipynb"
   ],
   "cell_type": "markdown",
   "metadata": {}
  },
  {
   "cell_type": "code",
   "execution_count": 1,
   "metadata": {},
   "outputs": [],
   "source": [
    "# Escribe tu nombre en la variable:\n",
    "nombre_y_apellidos = \"\" "
   ]
  },
  {
   "source": [
    "#### Notas y pruebas de apoyo para contestar las preguntas tipo test\n",
    "Esto no es necesario usarlo aunque verlo aquí te puede dar la respuesta a alguna de las preguntas tipo test.\n",
    "\n",
    "Cualquier código aunque no esté correcto nos dirá más de ti que no escribir nada. "
   ],
   "cell_type": "markdown",
   "metadata": {}
  },
  {
   "cell_type": "code",
   "execution_count": null,
   "metadata": {},
   "outputs": [],
   "source": [
    "# Ejemplo de como queremos ver el código para más de un intento:\n",
    "\n",
    "# intento 1\n",
    "your code\n",
    "# intento 2\n",
    "your code"
   ]
  },
  {
   "cell_type": "code",
   "execution_count": 10,
   "metadata": {},
   "outputs": [],
   "source": [
    "# crea todas las celdas que necesites"
   ]
  },
  {
   "cell_type": "code",
   "execution_count": null,
   "metadata": {},
   "outputs": [],
   "source": []
  },
  {
   "source": [
    "## Ejercicios prácticos"
   ],
   "cell_type": "markdown",
   "metadata": {}
  },
  {
   "source": [
    "#### Ejercicio 1.\n",
    "En este ejercicio se va a crear una lista con los siguientes elementos. Primero, crearemos las variables que luego añadiremos a la lista. Las variables son las siguientes:\n",
    "\n",
    "1. Crea una variable llamada `num_dni` de tipo Integer que represente el primer número de tu DNI. \n",
    "2. Crea una variable llamada `let_dni` de tipo String y que represente la letra de vuestro DNI.\n",
    "3. Crea una variable llamada `tip_ord` de tipo Boolean True si usas Windows y False si usas Mac.\n",
    "4. Crea una variable llamada `nada` de tipo None cuyo valor sea None.\n",
    "5. Crea una variable llamada `lista_deseo` de tipo List que contenga los cuatro objetos que te llevarías a una isla desierta. Cada elemento ha de ser de tipo String y el tamaño de la lista ha de ser 4.\n",
    "6. Crea una variable llamada `tupla_ropa` de tipo Tuple con la marca de la prenda superior, inferior y calzado que llevas puesto.\n",
    "7. Crea una variable llamada `dict_info` con dos keys y dos values. Una key es 'nombre', teniendo como value vuestro nombre. Otra key es 'edad', teniendo como value vuestra edad.\n",
    "8. Crea una variable llamada `flo_hor` con la hora actual separada por punto en vez de dos puntos. Ejemplo: si son las 10:06, el valor de la variable sería 10.06.\n",
    "\n",
    "Añade todos estos elementos en una lista llamada `lista_examen` en el orden de aparición."
   ],
   "cell_type": "markdown",
   "metadata": {}
  },
  {
   "cell_type": "code",
   "execution_count": 1,
   "metadata": {},
   "outputs": [],
   "source": [
    " # tu respuesta aquí\n",
    " num_dni = 7\n",
    " let_dni = \" T \"\n",
    " tip_ord = True\n",
    " nada = None\n",
    " lista_deseo = [\"libro\", \"cazuela\", \"tienda\", \"colchon\"]\n",
    " tupla_ropa = (\"zara\", \"pull&bear\", \"buffalo\")\n",
    " dict_info = {\"nombre\" : \"Xinru\", \"edad\": 24}\n",
    " flo_hor = 10.07\n",
    " "
   ]
  },
  {
   "cell_type": "code",
   "execution_count": 2,
   "metadata": {},
   "outputs": [
    {
     "output_type": "stream",
     "name": "stdout",
     "text": [
      "[7, ' T ', True, None, ['libro', 'cazuela', 'tienda', 'colchon'], ('zara', 'pull&bear', 'buffalo'), {'nombre': 'Xinru', 'edad': 24}, 10.07]\n"
     ]
    }
   ],
   "source": [
    "lista_examen = [num_dni, let_dni, tip_ord, nada, lista_deseo, tupla_ropa, dict_info, flo_hor]\n",
    "print(lista_examen)"
   ]
  },
  {
   "source": [
    "#### Ejercicio 2. \n",
    "\n",
    "Para resolver este ejercicio necesitarás la lista del ejercicio anterior (`lista_examen`). Se recomeinda leer cada punto hasta el final antes de resolver el ejercicio.\n",
    "\n",
    "Se repite para que quede aún más claro: **SOLO USAR LA VARIABLE** `lista_examen`. Usar las demás variables se calificará como error.  \n",
    "\n",
    "1. Mostrar por pantalla, sin uso de funciones ni bucles: \n",
    "    - El segundo elemento de `lista_deseo` desde `lista_examen`.\n",
    "    - El calzado que llevas puesto.\n",
    "    - Vuestro nombre.\n",
    "    - La hora almacenada concatenada con vuestra edad y el número de vuestro de DNI. No debe haber espacios entre la concatenación.\n",
    "    - Si tenéis más de 20 años, el primer número de vuestro DNI es mayor a 7 y usas Mac, mostrar la posición 5 de `lista_examen`.\n",
    "    "
   ],
   "cell_type": "markdown",
   "metadata": {}
  },
  {
   "cell_type": "code",
   "execution_count": 11,
   "metadata": {},
   "outputs": [
    {
     "output_type": "stream",
     "name": "stdout",
     "text": [
      "cazuela\n"
     ]
    }
   ],
   "source": [
    "# tu respuesta aquí\n",
    "print(lista_examen[4][1])"
   ]
  },
  {
   "cell_type": "code",
   "execution_count": 12,
   "metadata": {},
   "outputs": [
    {
     "output_type": "stream",
     "name": "stdout",
     "text": [
      "buffalo\n"
     ]
    }
   ],
   "source": [
    "print(lista_examen[5][-1])"
   ]
  },
  {
   "cell_type": "code",
   "execution_count": 29,
   "metadata": {},
   "outputs": [
    {
     "output_type": "execute_result",
     "data": {
      "text/plain": [
       "'Xinru'"
      ]
     },
     "metadata": {},
     "execution_count": 29
    }
   ],
   "source": [
    "lista_examen[-2][\"nombre\"]"
   ]
  },
  {
   "cell_type": "code",
   "execution_count": 25,
   "metadata": {},
   "outputs": [
    {
     "output_type": "stream",
     "name": "stdout",
     "text": [
      "[7, ' T ', True, None, ['libro', 'cazuela', ' tienda ', 'colchon'], ('zara', 'pull&bear', 'buffalo'), {'nombre': 'Xinru', 'edad': 24}, 10.07]\n"
     ]
    }
   ],
   "source": [
    "lista_examen = [num_dni, let_dni, tip_ord, nada, lista_deseo, tupla_ropa, dict_info, flo_hor]\n",
    "print(lista_examen)"
   ]
  },
  {
   "cell_type": "code",
   "execution_count": 28,
   "metadata": {},
   "outputs": [
    {
     "output_type": "execute_result",
     "data": {
      "text/plain": [
       "24"
      ]
     },
     "metadata": {},
     "execution_count": 28
    }
   ],
   "source": [
    "lista_examen[-2][\"edad\"]"
   ]
  },
  {
   "cell_type": "code",
   "execution_count": 36,
   "metadata": {},
   "outputs": [
    {
     "output_type": "stream",
     "name": "stdout",
     "text": [
      "10.07247\n"
     ]
    }
   ],
   "source": [
    "print(lista_examen[-1],lista_examen[-2][\"edad\"],lista_examen[0],sep=\"\")"
   ]
  },
  {
   "cell_type": "code",
   "execution_count": 37,
   "metadata": {},
   "outputs": [],
   "source": [
    "if (lista_examen[-2][\"edad\"] > 20) and (lista_examen[0] > 7) and (lista_examen[2] == False):\n",
    "    print(lista_examen[5])"
   ]
  },
  {
   "source": [
    "2. Mostrar por pantalla, con uso de un bucle `for`:\n",
    "    - Todos los elementos de `lista_examen`.\n",
    "    - Todos los elementos de `lista_deseo` desde `lista_examen`.\n",
    "    - Todos los elementos que ocupen una posición menor a 4 en `lista_examen`.\n"
   ],
   "cell_type": "markdown",
   "metadata": {}
  },
  {
   "cell_type": "code",
   "execution_count": 38,
   "metadata": {},
   "outputs": [
    {
     "output_type": "stream",
     "name": "stdout",
     "text": [
      "7\n T \nTrue\nNone\n['libro', 'cazuela', ' tienda ', 'colchon']\n('zara', 'pull&bear', 'buffalo')\n{'nombre': 'Xinru', 'edad': 24}\n10.07\n"
     ]
    }
   ],
   "source": [
    "# tu respuesta aquí\n",
    "for elem in lista_examen:\n",
    "    print(elem)"
   ]
  },
  {
   "cell_type": "code",
   "execution_count": 42,
   "metadata": {},
   "outputs": [
    {
     "output_type": "stream",
     "name": "stdout",
     "text": [
      "libro\ncazuela\ntienda\ncolchon\n"
     ]
    }
   ],
   "source": [
    "for elem_d in lista_examen[4]:\n",
    "    print(elem_d)"
   ]
  },
  {
   "cell_type": "code",
   "execution_count": 43,
   "metadata": {},
   "outputs": [
    {
     "output_type": "stream",
     "name": "stdout",
     "text": [
      "7\n T \nTrue\nNone\n"
     ]
    }
   ],
   "source": [
    "for pos, elem in enumerate(lista_examen):\n",
    "    if pos < 4:\n",
    "        print(elem)\n"
   ]
  },
  {
   "source": [
    "3. Mostrar por pantalla, con uso de un bucle while: \n",
    "    - Todos los elementos de `tupla_ropa` seguido de la cadena `\"-->\"` y la `posición` (int) que ocupa en la tupla accediendo desde `lista_examen`. Se aconseja utilizar *`enumerate`*.\n",
    "    - Cada key de `dict_info` seguido de la cadena \":\" seguido de su value desde `lista_examen`."
   ],
   "cell_type": "markdown",
   "metadata": {}
  },
  {
   "cell_type": "code",
   "execution_count": 44,
   "metadata": {},
   "outputs": [
    {
     "output_type": "stream",
     "name": "stdout",
     "text": [
      "[7, ' T ', True, None, ['libro', 'cazuela', 'tienda', 'colchon'], ('zara', 'pull&bear', 'buffalo'), {'nombre': 'Xinru', 'edad': 24}, 10.07]\n"
     ]
    }
   ],
   "source": [
    "lista_examen = [num_dni, let_dni, tip_ord, nada, lista_deseo, tupla_ropa, dict_info, flo_hor]\n",
    "print(lista_examen)"
   ]
  },
  {
   "cell_type": "code",
   "execution_count": 45,
   "metadata": {},
   "outputs": [
    {
     "output_type": "execute_result",
     "data": {
      "text/plain": [
       "3"
      ]
     },
     "metadata": {},
     "execution_count": 45
    }
   ],
   "source": [
    "len(lista_examen[5])"
   ]
  },
  {
   "cell_type": "code",
   "execution_count": 48,
   "metadata": {},
   "outputs": [
    {
     "output_type": "stream",
     "name": "stdout",
     "text": [
      "zara  -->  0\n--------------------------------------------\npull&bear  -->  1\n--------------------------------------------\nbuffalo  -->  2\n--------------------------------------------\n"
     ]
    }
   ],
   "source": [
    "# tu respuesta aquí\n",
    "contador = 0\n",
    "while contador < len(lista_examen[5]):\n",
    "    print(lista_examen[5][contador] + \"  -->  \" + str(contador))\n",
    "    contador += 1 \n",
    "    print(\"--------------------------------------------\")"
   ]
  },
  {
   "cell_type": "code",
   "execution_count": 49,
   "metadata": {},
   "outputs": [
    {
     "output_type": "execute_result",
     "data": {
      "text/plain": [
       "2"
      ]
     },
     "metadata": {},
     "execution_count": 49
    }
   ],
   "source": [
    "len(lista_examen[-2])"
   ]
  },
  {
   "cell_type": "code",
   "execution_count": 54,
   "metadata": {},
   "outputs": [
    {
     "output_type": "execute_result",
     "data": {
      "text/plain": [
       "dict_items([('nombre', 'Xinru'), ('edad', 24)])"
      ]
     },
     "metadata": {},
     "execution_count": 54
    }
   ],
   "source": [
    "lista_examen[-2].items()"
   ]
  },
  {
   "cell_type": "code",
   "execution_count": 3,
   "metadata": {},
   "outputs": [
    {
     "output_type": "stream",
     "name": "stdout",
     "text": [
      "nombre : Xinru\nedad : 24\n"
     ]
    }
   ],
   "source": [
    "contador = 0\n",
    "while contador < len(lista_examen[-2]):\n",
    "    for key, value in lista_examen[-2].items() :\n",
    "        print( key + \" : \" + str(value))\n",
    "    break"
   ]
  },
  {
   "source": [
    "#### Ejercicio 3. \n",
    "\n",
    "Crea una función `ejercicio_3` que reciba un parámetro `arg1`. Este argumento se utilizará como la lista de tuplas con nombres de los alumnos y alturas de clase. La función ha de retornar la misma lista de tuplas pero sin la tupla que contiene tu nombre. La tupla que contiene tu nombre ha de encontrarse a través del **valor del String** con tu nombre. Es decir, la función borrará la tupla con tu nombre tanto si está en la primera posición, como en la posición N o la última. La función mostrará por pantalla la tupla modificada.\n",
    "\n",
    "**Notas:** \n",
    "\n",
    "*- La lista de nombres y alturas está al final del notebook*\n",
    "\n",
    "*- Añade la tupla con tu nombre y altura si no apareces en la lista* \n",
    "\n",
    "Ejemplos de llamada a la función y lo que devuelve la función en el caso en el que me llamo 'Manuel Alfonso' y con esta 'lista_nombres_alturas':"
   ],
   "cell_type": "markdown",
   "metadata": {}
  },
  {
   "cell_type": "code",
   "execution_count": 7,
   "metadata": {},
   "outputs": [
    {
     "output_type": "stream",
     "name": "stdout",
     "text": [
      "[('Jonathan Abbondanza', 1.7), ('Nacho Fontal', 1.82)]\n"
     ]
    }
   ],
   "source": [
    "# NO EJECUTAR ESTA CELDA\n",
    "lista_nombres_alturas = [(\"Manuel Alfonso\", 1.75),(\"Jonathan Abbondanza\",  1.70),(\"Nacho Fontal\", 1.82)]\n",
    "ejercicio_3(arg1=lista_nombres_alturas)"
   ]
  },
  {
   "cell_type": "code",
   "execution_count": 9,
   "metadata": {},
   "outputs": [
    {
     "output_type": "stream",
     "name": "stdout",
     "text": [
      "[('Jonathan Abbondanza', 1.7), ('Nacho Fontal', 1.82)]\n"
     ]
    }
   ],
   "source": [
    "# NO EJECUTAR ESTA CELDA\n",
    "lista_nombres_alturas = [(\"Jonathan Abbondanza\",  1.70),(\"Manuel Alfonso\", 1.75),(\"Nacho Fontal\", 1.82)]\n",
    "ejercicio_3(arg1=lista_nombres_alturas)"
   ]
  },
  {
   "cell_type": "code",
   "execution_count": 15,
   "metadata": {},
   "outputs": [
    {
     "output_type": "execute_result",
     "data": {
      "text/plain": [
       "[('Gabriel Vázquez', 1.75),\n",
       " ('Jonathan Abbondanza', 1.7),\n",
       " ('Nacho Fontal', 1.82),\n",
       " ('Javier Araiz', 1.8),\n",
       " ('Jonathan Suarez', 1.86),\n",
       " ('Sonia Cobo', 1.73),\n",
       " ('Jorge García', 1.79),\n",
       " ('Mary Meza', 1.52),\n",
       " ('Leonardo Frazzetto', 1.75),\n",
       " ('Nacho Astorga', 1.78),\n",
       " ('José Carlos Batista', 1.7),\n",
       " ('Isabel Palomares', 1.78),\n",
       " ('Marina Serrano', 1.54),\n",
       " ('Daniel Walker', 1.87),\n",
       " ('Clara Piniella', 1.66),\n",
       " ('Gina Garrido', 1.63),\n",
       " ('Adrià Gallardo', 1.7),\n",
       " ('María García-Maroto', 1.64),\n",
       " ('Susana Vázquez', 1.8),\n",
       " ('Mauro Garcia-Oliva', 1.77),\n",
       " ('Juan Bayon', 1.64),\n",
       " ('Miguel Barquero', 1.85),\n",
       " ('Borja Puig', 1.82),\n",
       " ('Pablo Martínez', 1.81),\n",
       " ('Xinru Yang', 1.6),\n",
       " ('Pablo Díez', 1.84),\n",
       " ('Karina Inche', 1.61)]"
      ]
     },
     "metadata": {},
     "execution_count": 15
    }
   ],
   "source": [
    "lista_nombres_alturas = [(\"Gabriel Vázquez\", 1.75),(\"Jonathan Abbondanza\",  1.70),(\"Nacho Fontal\", 1.82),(\"Javier Araiz\", 1.80),('Jonathan Suarez', 1.86),('Sonia Cobo', 1.73), ('Jorge García', 1.79), (\"Mary Meza\", 1.52), ('Leonardo Frazzetto', 1.75), (\"Nacho Astorga\",1.78),(\"José Carlos Batista\",1.70), (\"Isabel Palomares\", 1.78),(\"Marina Serrano\", 1.54), (\"Daniel Walker\", 1.87), (\"Clara Piniella\", 1.66), (\"Gina Garrido\", 1.63), (\"Adrià Gallardo\", 1.70), (\"María García-Maroto\", 1.64), (\"Susana Vázquez\",1.80), (\"Mauro Garcia-Oliva\", 1.77), (\"Juan Bayon\", 1.64), (\"Miguel Barquero\", 1.85), (\"Borja Puig\", 1.82), (\"Pablo Martínez\", 1.81), (\"Xinru Yang\", 1.60),(\"Pablo Díez\", 1.84),(\"Karina Inche\",1.61)]\n",
    "\n",
    "lista_nombres_alturas"
   ]
  },
  {
   "cell_type": "code",
   "execution_count": 12,
   "metadata": {},
   "outputs": [
    {
     "output_type": "stream",
     "name": "stdout",
     "text": [
      "Removed: ('Xinru Yang', 1.6)\n"
     ]
    },
    {
     "output_type": "execute_result",
     "data": {
      "text/plain": [
       "[('Gabriel Vázquez', 1.75),\n",
       " ('Jonathan Abbondanza', 1.7),\n",
       " ('Nacho Fontal', 1.82),\n",
       " ('Javier Araiz', 1.8),\n",
       " ('Jonathan Suarez', 1.86),\n",
       " ('Sonia Cobo', 1.73),\n",
       " ('Jorge García', 1.79),\n",
       " ('Mary Meza', 1.52),\n",
       " ('Leonardo Frazzetto', 1.75),\n",
       " ('Nacho Astorga', 1.78),\n",
       " ('José Carlos Batista', 1.7),\n",
       " ('Isabel Palomares', 1.78),\n",
       " ('Marina Serrano', 1.54),\n",
       " ('Daniel Walker', 1.87),\n",
       " ('Clara Piniella', 1.66),\n",
       " ('Gina Garrido', 1.63),\n",
       " ('Adrià Gallardo', 1.7),\n",
       " ('María García-Maroto', 1.64),\n",
       " ('Susana Vázquez', 1.8),\n",
       " ('Mauro Garcia-Oliva', 1.77),\n",
       " ('Juan Bayon', 1.64),\n",
       " ('Miguel Barquero', 1.85),\n",
       " ('Borja Puig', 1.82),\n",
       " ('Pablo Martínez', 1.81),\n",
       " ('Pablo Díez', 1.84),\n",
       " ('Karina Inche', 1.61)]"
      ]
     },
     "metadata": {},
     "execution_count": 12
    }
   ],
   "source": [
    "# tu respuesta aquí\n",
    "def ejercicio_3(arg1):\n",
    "    for tupla in arg1: \n",
    "        for nombre in tupla:\n",
    "            if nombre == \"Xinru Yang\":\n",
    "                arg1.remove(tupla)\n",
    "                print(\"Removed:\", tupla)\n",
    "    return arg1\n",
    "\n",
    "ejercicio_3(lista_nombres_alturas)\n"
   ]
  },
  {
   "source": [
    "-------------------------------------"
   ],
   "cell_type": "markdown",
   "metadata": {}
  },
  {
   "source": [
    "#### Ejercicio 4. \n",
    "\n",
    "Escribe una función `reverse_number` que reciba dos parámetros. Los parámetros son `cadena` y `n`. `cadena` será un string y `n` un entero. La función debe retornar un string que sea el string `cadena` al revés y que tenga concatenado el número `n` por cada caracter de `cadena`.  \n",
    "\n",
    "\n",
    "**No se permite:**\n",
    "- Usar la función built-in `reverse`\n",
    "- Pasar el string `cadena` a otro tipo de variable (como list)* \n",
    "- Usar el `string slicing` [[::-1]]\n",
    "\n",
    "Ejemplos de llamada a la función y lo que devuelve la función:\n",
    "\n",
    "--------\n",
    "\n",
    ">> print(reverse_number(cadena=\"aloh\", n=3))\n",
    "\n",
    ">>> h3o3l3a3\n",
    "\n",
    "--------\n",
    "\n",
    ">> print(reverse_number(cadena=\"otipep\", n=85))\n",
    "\n",
    ">>> p85e85p85i85t85o85\n",
    "\n",
    "\n",
    "\n"
   ],
   "cell_type": "markdown",
   "metadata": {}
  },
  {
   "cell_type": "code",
   "execution_count": 13,
   "metadata": {},
   "outputs": [
    {
     "output_type": "execute_result",
     "data": {
      "text/plain": [
       "'a3l3o3h3'"
      ]
     },
     "metadata": {},
     "execution_count": 13
    }
   ],
   "source": [
    "def reverse_number(cadena, n):\n",
    "    reversed_word = \"\"\n",
    "    for letra in cadena:\n",
    "        letra = letra + str(n)\n",
    "        reversed_word = letra + reversed_word\n",
    "    \n",
    "    return reversed_word\n",
    "        \n",
    "reverse_number(\"hola\", 3)\n"
   ]
  },
  {
   "cell_type": "code",
   "execution_count": 14,
   "metadata": {},
   "outputs": [
    {
     "output_type": "execute_result",
     "data": {
      "text/plain": [
       "'a2l2a2o2k2'"
      ]
     },
     "metadata": {},
     "execution_count": 14
    }
   ],
   "source": [
    "reverse_number(\"koala\",2)"
   ]
  },
  {
   "source": [
    "#### Ejercicio 5:\n",
    " Crea una función `ejercicio_5` que reciba dos parámetros `arg1` y `arg2`. `arg1` es la misma lista de tuplas con los nombres y alturas que la del ejercicio 3 y `arg2` representa un nombre. \n",
    "Crea un programa que pida al usuario *indefinidamente* un nombre y, cada vez que lo introduzca, intente borrar de `arg1` la tupla con el nombre introducido usando la función `ejercicio_5`:\n",
    "\n",
    "1. Si existe el nombre `arg2` dentro de la `arg1` la función mostrará por pantalla la tupla modificada\n",
    "\n",
    "2. Si el nombre `arg2` no está en la lista `arg1` la función mostrará por pantalla el string \"Ese \n",
    "nombre no está dentro de la lista\"\n",
    "\n",
    "3. Solo en el caso en el que el usuario escriba la palabra *'STOP'* se parará el programa.\n",
    "\n",
    "**Notas:** \n",
    "\n",
    "*- La lista de nombres y alturas está al final del notebook*\n",
    "\n",
    "*- Añade la tupla con tu nombre y altura si no apareces en la lista*  "
   ],
   "cell_type": "markdown",
   "metadata": {}
  },
  {
   "cell_type": "code",
   "execution_count": null,
   "metadata": {},
   "outputs": [],
   "source": []
  },
  {
   "cell_type": "code",
   "execution_count": null,
   "metadata": {},
   "outputs": [],
   "source": []
  },
  {
   "cell_type": "code",
   "execution_count": 3,
   "metadata": {},
   "outputs": [
    {
     "output_type": "stream",
     "name": "stdout",
     "text": [
      "Xinru Yang Ese nombre no está dentro de la lista\n\nXinru Yang Ese nombre no está dentro de la lista\n\nXinru Yang Ese nombre no está dentro de la lista\n\nXinru Yang Ese nombre no está dentro de la lista\n\nXinru Yang Ese nombre no está dentro de la lista\n\nXinru Yang Ese nombre no está dentro de la lista\n\nXinru Yang Ese nombre no está dentro de la lista\n\nXinru Yang Ese nombre no está dentro de la lista\n\nXinru Yang Ese nombre no está dentro de la lista\n\nXinru Yang Ese nombre no está dentro de la lista\n\nXinru Yang Ese nombre no está dentro de la lista\n\nXinru Yang Ese nombre no está dentro de la lista\n\nXinru Yang Ese nombre no está dentro de la lista\n\nXinru Yang Ese nombre no está dentro de la lista\n\nXinru Yang Ese nombre no está dentro de la lista\n\nXinru Yang Ese nombre no está dentro de la lista\n\nXinru Yang Ese nombre no está dentro de la lista\n\nXinru Yang Ese nombre no está dentro de la lista\n\nXinru Yang Ese nombre no está dentro de la lista\n\nXinru Yang Ese nombre no está dentro de la lista\n\nXinru Yang Ese nombre no está dentro de la lista\n\nXinru Yang Ese nombre no está dentro de la lista\n\nXinru Yang Ese nombre no está dentro de la lista\n\nXinru Yang Ese nombre no está dentro de la lista\n\n[('Gabriel Vázquez', 1.75), ('Jonathan Abbondanza', 1.7), ('Nacho Fontal', 1.82), ('Javier Araiz', 1.8), ('Jonathan Suarez', 1.86), ('Sonia Cobo', 1.73), ('Jorge García', 1.79), ('Mary Meza', 1.52), ('Leonardo Frazzetto', 1.75), ('Nacho Astorga', 1.78), ('José Carlos Batista', 1.7), ('Isabel Palomares', 1.78), ('Marina Serrano', 1.54), ('Daniel Walker', 1.87), ('Clara Piniella', 1.66), ('Gina Garrido', 1.63), ('Adrià Gallardo', 1.7), ('María García-Maroto', 1.64), ('Susana Vázquez', 1.8), ('Mauro Garcia-Oliva', 1.77), ('Juan Bayon', 1.64), ('Miguel Barquero', 1.85), ('Borja Puig', 1.82), ('Pablo Martínez', 1.81), ('Pablo Díez', 1.84), ('Karina Inche', 1.61)]\nXinru Yang Ese nombre no está dentro de la lista\n\n"
     ]
    },
    {
     "output_type": "error",
     "ename": "KeyboardInterrupt",
     "evalue": "Interrupted by user",
     "traceback": [
      "\u001b[1;31m---------------------------------------------------------------------------\u001b[0m",
      "\u001b[1;31mKeyboardInterrupt\u001b[0m                         Traceback (most recent call last)",
      "\u001b[1;32m<ipython-input-3-bd38975b8db1>\u001b[0m in \u001b[0;36m<module>\u001b[1;34m\u001b[0m\n\u001b[0;32m     15\u001b[0m         \u001b[0marg2\u001b[0m \u001b[1;33m=\u001b[0m \u001b[0minput\u001b[0m\u001b[1;33m(\u001b[0m\u001b[1;33m)\u001b[0m\u001b[1;33m\u001b[0m\u001b[1;33m\u001b[0m\u001b[0m\n\u001b[0;32m     16\u001b[0m \u001b[1;33m\u001b[0m\u001b[0m\n\u001b[1;32m---> 17\u001b[1;33m \u001b[0mejercicio_5\u001b[0m\u001b[1;33m(\u001b[0m\u001b[0mlista_nombres_alturas\u001b[0m\u001b[1;33m,\u001b[0m \u001b[0minput\u001b[0m\u001b[1;33m(\u001b[0m\u001b[1;33m)\u001b[0m\u001b[1;33m)\u001b[0m\u001b[1;33m\u001b[0m\u001b[1;33m\u001b[0m\u001b[0m\n\u001b[0m",
      "\u001b[1;32m<ipython-input-3-bd38975b8db1>\u001b[0m in \u001b[0;36mejercicio_5\u001b[1;34m(arg1, arg2)\u001b[0m\n\u001b[0;32m     13\u001b[0m                 \u001b[1;32mbreak\u001b[0m\u001b[1;33m\u001b[0m\u001b[1;33m\u001b[0m\u001b[0m\n\u001b[0;32m     14\u001b[0m \u001b[1;33m\u001b[0m\u001b[0m\n\u001b[1;32m---> 15\u001b[1;33m         \u001b[0marg2\u001b[0m \u001b[1;33m=\u001b[0m \u001b[0minput\u001b[0m\u001b[1;33m(\u001b[0m\u001b[1;33m)\u001b[0m\u001b[1;33m\u001b[0m\u001b[1;33m\u001b[0m\u001b[0m\n\u001b[0m\u001b[0;32m     16\u001b[0m \u001b[1;33m\u001b[0m\u001b[0m\n\u001b[0;32m     17\u001b[0m \u001b[0mejercicio_5\u001b[0m\u001b[1;33m(\u001b[0m\u001b[0mlista_nombres_alturas\u001b[0m\u001b[1;33m,\u001b[0m \u001b[0minput\u001b[0m\u001b[1;33m(\u001b[0m\u001b[1;33m)\u001b[0m\u001b[1;33m)\u001b[0m\u001b[1;33m\u001b[0m\u001b[1;33m\u001b[0m\u001b[0m\n",
      "\u001b[1;32m~\\AppData\\Roaming\\Python\\Python37\\site-packages\\ipykernel\\kernelbase.py\u001b[0m in \u001b[0;36mraw_input\u001b[1;34m(self, prompt)\u001b[0m\n\u001b[0;32m    849\u001b[0m             \u001b[0mself\u001b[0m\u001b[1;33m.\u001b[0m\u001b[0m_parent_ident\u001b[0m\u001b[1;33m,\u001b[0m\u001b[1;33m\u001b[0m\u001b[1;33m\u001b[0m\u001b[0m\n\u001b[0;32m    850\u001b[0m             \u001b[0mself\u001b[0m\u001b[1;33m.\u001b[0m\u001b[0m_parent_header\u001b[0m\u001b[1;33m,\u001b[0m\u001b[1;33m\u001b[0m\u001b[1;33m\u001b[0m\u001b[0m\n\u001b[1;32m--> 851\u001b[1;33m             \u001b[0mpassword\u001b[0m\u001b[1;33m=\u001b[0m\u001b[1;32mFalse\u001b[0m\u001b[1;33m,\u001b[0m\u001b[1;33m\u001b[0m\u001b[1;33m\u001b[0m\u001b[0m\n\u001b[0m\u001b[0;32m    852\u001b[0m         )\n\u001b[0;32m    853\u001b[0m \u001b[1;33m\u001b[0m\u001b[0m\n",
      "\u001b[1;32m~\\AppData\\Roaming\\Python\\Python37\\site-packages\\ipykernel\\kernelbase.py\u001b[0m in \u001b[0;36m_input_request\u001b[1;34m(self, prompt, ident, parent, password)\u001b[0m\n\u001b[0;32m    890\u001b[0m             \u001b[1;32mexcept\u001b[0m \u001b[0mKeyboardInterrupt\u001b[0m\u001b[1;33m:\u001b[0m\u001b[1;33m\u001b[0m\u001b[1;33m\u001b[0m\u001b[0m\n\u001b[0;32m    891\u001b[0m                 \u001b[1;31m# re-raise KeyboardInterrupt, to truncate traceback\u001b[0m\u001b[1;33m\u001b[0m\u001b[1;33m\u001b[0m\u001b[1;33m\u001b[0m\u001b[0m\n\u001b[1;32m--> 892\u001b[1;33m                 \u001b[1;32mraise\u001b[0m \u001b[0mKeyboardInterrupt\u001b[0m\u001b[1;33m(\u001b[0m\u001b[1;34m\"Interrupted by user\"\u001b[0m\u001b[1;33m)\u001b[0m \u001b[1;32mfrom\u001b[0m \u001b[1;32mNone\u001b[0m\u001b[1;33m\u001b[0m\u001b[1;33m\u001b[0m\u001b[0m\n\u001b[0m\u001b[0;32m    893\u001b[0m             \u001b[1;32mexcept\u001b[0m \u001b[0mException\u001b[0m \u001b[1;32mas\u001b[0m \u001b[0me\u001b[0m\u001b[1;33m:\u001b[0m\u001b[1;33m\u001b[0m\u001b[1;33m\u001b[0m\u001b[0m\n\u001b[0;32m    894\u001b[0m                 \u001b[0mself\u001b[0m\u001b[1;33m.\u001b[0m\u001b[0mlog\u001b[0m\u001b[1;33m.\u001b[0m\u001b[0mwarning\u001b[0m\u001b[1;33m(\u001b[0m\u001b[1;34m\"Invalid Message:\"\u001b[0m\u001b[1;33m,\u001b[0m \u001b[0mexc_info\u001b[0m\u001b[1;33m=\u001b[0m\u001b[1;32mTrue\u001b[0m\u001b[1;33m)\u001b[0m\u001b[1;33m\u001b[0m\u001b[1;33m\u001b[0m\u001b[0m\n",
      "\u001b[1;31mKeyboardInterrupt\u001b[0m: Interrupted by user"
     ]
    }
   ],
   "source": [
    "def ejercicio_5(arg1, arg2):\n",
    "\n",
    "    while len(arg1) > 0: \n",
    "        \n",
    "        for tupla in arg1: \n",
    "            if tupla[0] == arg2: \n",
    "                arg1.remove(tupla)\n",
    "                print(arg1)\n",
    "            elif tupla[0] != arg2:\n",
    "                    print(arg2,\"Ese nombre no está dentro de la lista\")\n",
    "                    print()\n",
    "            elif arg2 == \"STOP\":\n",
    "                break\n",
    "\n",
    "        arg2 = input()\n",
    "        \n",
    "ejercicio_5(lista_nombres_alturas, input())"
   ]
  },
  {
   "cell_type": "code",
   "execution_count": 3,
   "metadata": {},
   "outputs": [
    {
     "output_type": "stream",
     "name": "stdout",
     "text": [
      "Gabriel Vázquez Ese nombre no está dentro de la lista\n\n1.75 Ese nombre no está dentro de la lista\n\nJonathan Abbondanza Ese nombre no está dentro de la lista\n\n1.7 Ese nombre no está dentro de la lista\n\nNacho Fontal Ese nombre no está dentro de la lista\n\n1.82 Ese nombre no está dentro de la lista\n\nJavier Araiz Ese nombre no está dentro de la lista\n\n1.8 Ese nombre no está dentro de la lista\n\nJonathan Suarez Ese nombre no está dentro de la lista\n\n1.86 Ese nombre no está dentro de la lista\n\nSonia Cobo Ese nombre no está dentro de la lista\n\n1.73 Ese nombre no está dentro de la lista\n\nJorge García Ese nombre no está dentro de la lista\n\n1.79 Ese nombre no está dentro de la lista\n\nMary Meza Ese nombre no está dentro de la lista\n\n1.52 Ese nombre no está dentro de la lista\n\nLeonardo Frazzetto Ese nombre no está dentro de la lista\n\n1.75 Ese nombre no está dentro de la lista\n\nNacho Astorga Ese nombre no está dentro de la lista\n\n1.78 Ese nombre no está dentro de la lista\n\nJosé Carlos Batista Ese nombre no está dentro de la lista\n\n1.7 Ese nombre no está dentro de la lista\n\nIsabel Palomares Ese nombre no está dentro de la lista\n\n1.78 Ese nombre no está dentro de la lista\n\nMarina Serrano Ese nombre no está dentro de la lista\n\n1.54 Ese nombre no está dentro de la lista\n\nDaniel Walker Ese nombre no está dentro de la lista\n\n1.87 Ese nombre no está dentro de la lista\n\nClara Piniella Ese nombre no está dentro de la lista\n\n1.66 Ese nombre no está dentro de la lista\n\nGina Garrido Ese nombre no está dentro de la lista\n\n1.63 Ese nombre no está dentro de la lista\n\nAdrià Gallardo Ese nombre no está dentro de la lista\n\n1.7 Ese nombre no está dentro de la lista\n\nMaría García-Maroto Ese nombre no está dentro de la lista\n\n1.64 Ese nombre no está dentro de la lista\n\nSusana Vázquez Ese nombre no está dentro de la lista\n\n1.8 Ese nombre no está dentro de la lista\n\nMauro Garcia-Oliva Ese nombre no está dentro de la lista\n\n1.77 Ese nombre no está dentro de la lista\n\nJuan Bayon Ese nombre no está dentro de la lista\n\n1.64 Ese nombre no está dentro de la lista\n\nMiguel Barquero Ese nombre no está dentro de la lista\n\n1.85 Ese nombre no está dentro de la lista\n\nBorja Puig Ese nombre no está dentro de la lista\n\n1.82 Ese nombre no está dentro de la lista\n\nPablo Martínez Ese nombre no está dentro de la lista\n\n1.81 Ese nombre no está dentro de la lista\n\n[('Gabriel Vázquez', 1.75), ('Jonathan Abbondanza', 1.7), ('Nacho Fontal', 1.82), ('Javier Araiz', 1.8), ('Jonathan Suarez', 1.86), ('Sonia Cobo', 1.73), ('Jorge García', 1.79), ('Mary Meza', 1.52), ('Leonardo Frazzetto', 1.75), ('Nacho Astorga', 1.78), ('José Carlos Batista', 1.7), ('Isabel Palomares', 1.78), ('Marina Serrano', 1.54), ('Daniel Walker', 1.87), ('Clara Piniella', 1.66), ('Gina Garrido', 1.63), ('Adrià Gallardo', 1.7), ('María García-Maroto', 1.64), ('Susana Vázquez', 1.8), ('Mauro Garcia-Oliva', 1.77), ('Juan Bayon', 1.64), ('Miguel Barquero', 1.85), ('Borja Puig', 1.82), ('Pablo Martínez', 1.81), ('Pablo Díez', 1.84), ('Karina Inche', 1.61)]\n1.6 Ese nombre no está dentro de la lista\n\nKarina Inche Ese nombre no está dentro de la lista\n\n1.61 Ese nombre no está dentro de la lista\n\n"
     ]
    }
   ],
   "source": [
    "def ejercicio_5(arg1, arg2):\n",
    "\n",
    "    while len(arg1) > 0: \n",
    "        \n",
    "        for tupla in arg1: \n",
    "            for elem in tupla:\n",
    "                if arg2 == elem: \n",
    "                    arg1.remove(tupla)\n",
    "                    print(arg1)\n",
    "                elif elem != arg2:\n",
    "                    print(elem,\"Ese nombre no está dentro de la lista\")\n",
    "                    print()\n",
    "                elif arg2 == \"STOP\":\n",
    "                    break\n",
    "\n",
    "        arg2 = input()\n",
    "        \n",
    "ejercicio_5(lista_nombres_alturas, input())\n",
    "\n",
    "# No he conseguido sacarlo del bucle :( )"
   ]
  },
  {
   "cell_type": "code",
   "execution_count": 1,
   "metadata": {
    "tags": []
   },
   "outputs": [
    {
     "output_type": "error",
     "ename": "NameError",
     "evalue": "name 'lista_nombres_alturas' is not defined",
     "traceback": [
      "\u001b[1;31m---------------------------------------------------------------------------\u001b[0m",
      "\u001b[1;31mNameError\u001b[0m                                 Traceback (most recent call last)",
      "\u001b[1;32m<ipython-input-1-9fe6667bd449>\u001b[0m in \u001b[0;36m<module>\u001b[1;34m\u001b[0m\n\u001b[0;32m     17\u001b[0m         \u001b[0marg2\u001b[0m \u001b[1;33m=\u001b[0m \u001b[0minput\u001b[0m\u001b[1;33m(\u001b[0m\u001b[1;33m)\u001b[0m\u001b[1;33m\u001b[0m\u001b[1;33m\u001b[0m\u001b[0m\n\u001b[0;32m     18\u001b[0m \u001b[1;33m\u001b[0m\u001b[0m\n\u001b[1;32m---> 19\u001b[1;33m \u001b[0mejercicio_5\u001b[0m\u001b[1;33m(\u001b[0m\u001b[0mlista_nombres_alturas\u001b[0m\u001b[1;33m,\u001b[0m \u001b[1;34m\"Xinru Yang\"\u001b[0m\u001b[1;33m)\u001b[0m\u001b[1;33m\u001b[0m\u001b[1;33m\u001b[0m\u001b[0m\n\u001b[0m",
      "\u001b[1;31mNameError\u001b[0m: name 'lista_nombres_alturas' is not defined"
     ]
    }
   ],
   "source": [
    "def ejercicio_5(arg1, arg2):\n",
    "\n",
    "    while len(arg1) > 0: \n",
    "        \n",
    "        for tupla in arg1: \n",
    "            for elem in tupla:\n",
    "                if arg2 == elem: \n",
    "                    arg1.remove(tupla)\n",
    "                    print(arg1)\n",
    "            if tupla[0] != arg2:\n",
    "                print(elem,\"Ese nombre no está dentro de la lista\")\n",
    "                print()\n",
    "                \n",
    "        if arg2 == \"STOP\":\n",
    "            break\n",
    "\n",
    "        arg2 = input()\n",
    "        \n",
    "ejercicio_5(lista_nombres_alturas, \"Xinru Yang\")"
   ]
  },
  {
   "cell_type": "code",
   "execution_count": 3,
   "metadata": {},
   "outputs": [
    {
     "output_type": "stream",
     "name": "stdout",
     "text": [
      "Ese nombre no está dentro de la lista\n",
      "('Xinru Yang', 1.6)\n",
      "('Nacho Astorga', 1.78)\n",
      "Ese nombre no está dentro de la lista\n",
      "Ese nombre no está dentro de la lista\n",
      "Ese nombre no está dentro de la lista\n"
     ]
    }
   ],
   "source": [
    "def ejercicio_5(arg1, arg2):\n",
    "    while len(arg1) > 0 and arg2 != \"STOP\": \n",
    "        flag = True\n",
    "        for tupla in arg1: \n",
    "            if arg2 == tupla[0]: \n",
    "                arg1.remove(tupla)\n",
    "                flag = False\n",
    "                print(tupla)\n",
    "        if flag:\n",
    "            print(\"Ese nombre no está dentro de la lista\")\n",
    "        arg2 = input()\n",
    "        \n",
    "ejercicio_5(lista_nombres_alturas, input())"
   ]
  },
  {
   "cell_type": "code",
   "execution_count": 3,
   "metadata": {},
   "outputs": [
    {
     "output_type": "stream",
     "name": "stdout",
     "text": [
      "Se ha eliminado: ('Xinru Yang', 1.6)\n",
      "\n",
      "[('Gabriel Vázquez', 1.75), ('Jonathan Abbondanza', 1.7), ('Nacho Fontal', 1.82), ('Javier Araiz', 1.8), ('Jonathan Suarez', 1.86), ('Sonia Cobo', 1.73), ('Jorge García', 1.79), ('Mary Meza', 1.52), ('Leonardo Frazzetto', 1.75), ('Nacho Astorga', 1.78), ('José Carlos Batista', 1.7), ('Isabel Palomares', 1.78), ('Marina Serrano', 1.54), ('Daniel Walker', 1.87), ('Clara Piniella', 1.66), ('Gina Garrido', 1.63), ('Adrià Gallardo', 1.7), ('María García-Maroto', 1.64), ('Susana Vázquez', 1.8), ('Mauro Garcia-Oliva', 1.77), ('Juan Bayon', 1.64), ('Miguel Barquero', 1.85), ('Borja Puig', 1.82), ('Pablo Martínez', 1.81), ('Pablo Díez', 1.84), ('Karina Inche', 1.61)]\n",
      "Ese nombre no está dentro de la lista\n",
      "Se ha eliminado: ('Gabriel Vázquez', 1.75)\n",
      "\n",
      "[('Jonathan Abbondanza', 1.7), ('Nacho Fontal', 1.82), ('Javier Araiz', 1.8), ('Jonathan Suarez', 1.86), ('Sonia Cobo', 1.73), ('Jorge García', 1.79), ('Mary Meza', 1.52), ('Leonardo Frazzetto', 1.75), ('Nacho Astorga', 1.78), ('José Carlos Batista', 1.7), ('Isabel Palomares', 1.78), ('Marina Serrano', 1.54), ('Daniel Walker', 1.87), ('Clara Piniella', 1.66), ('Gina Garrido', 1.63), ('Adrià Gallardo', 1.7), ('María García-Maroto', 1.64), ('Susana Vázquez', 1.8), ('Mauro Garcia-Oliva', 1.77), ('Juan Bayon', 1.64), ('Miguel Barquero', 1.85), ('Borja Puig', 1.82), ('Pablo Martínez', 1.81), ('Pablo Díez', 1.84), ('Karina Inche', 1.61)]\n",
      "Se ha eliminado: ('Jonathan Abbondanza', 1.7)\n",
      "\n",
      "[('Nacho Fontal', 1.82), ('Javier Araiz', 1.8), ('Jonathan Suarez', 1.86), ('Sonia Cobo', 1.73), ('Jorge García', 1.79), ('Mary Meza', 1.52), ('Leonardo Frazzetto', 1.75), ('Nacho Astorga', 1.78), ('José Carlos Batista', 1.7), ('Isabel Palomares', 1.78), ('Marina Serrano', 1.54), ('Daniel Walker', 1.87), ('Clara Piniella', 1.66), ('Gina Garrido', 1.63), ('Adrià Gallardo', 1.7), ('María García-Maroto', 1.64), ('Susana Vázquez', 1.8), ('Mauro Garcia-Oliva', 1.77), ('Juan Bayon', 1.64), ('Miguel Barquero', 1.85), ('Borja Puig', 1.82), ('Pablo Martínez', 1.81), ('Pablo Díez', 1.84), ('Karina Inche', 1.61)]\n",
      "Se ha eliminado: ('Borja Puig', 1.82)\n",
      "\n",
      "[('Nacho Fontal', 1.82), ('Javier Araiz', 1.8), ('Jonathan Suarez', 1.86), ('Sonia Cobo', 1.73), ('Jorge García', 1.79), ('Mary Meza', 1.52), ('Leonardo Frazzetto', 1.75), ('Nacho Astorga', 1.78), ('José Carlos Batista', 1.7), ('Isabel Palomares', 1.78), ('Marina Serrano', 1.54), ('Daniel Walker', 1.87), ('Clara Piniella', 1.66), ('Gina Garrido', 1.63), ('Adrià Gallardo', 1.7), ('María García-Maroto', 1.64), ('Susana Vázquez', 1.8), ('Mauro Garcia-Oliva', 1.77), ('Juan Bayon', 1.64), ('Miguel Barquero', 1.85), ('Pablo Martínez', 1.81), ('Pablo Díez', 1.84), ('Karina Inche', 1.61)]\n"
     ]
    }
   ],
   "source": [
    "# Resultado Bueno:\n",
    "\n",
    "def ejercicio_5(arg1, arg2):\n",
    "    se_ha_borrado = False\n",
    "    for tupla in arg1:\n",
    "        if tupla[0] == arg2:\n",
    "            arg1.remove(tupla)\n",
    "            se_ha_borrado = True\n",
    "            print()\n",
    "            print(\"Se ha eliminado:\", tupla)\n",
    "            print()\n",
    "            print(arg1)\n",
    "            break\n",
    "    if se_ha_borrado == False:\n",
    "        print(\"Ese nombre no está dentro de la lista\")\n",
    "\n",
    "\n",
    "while True:\n",
    "    nombre = input(\"introduce un nombre\")\n",
    "    if nombre == \"STOP\":\n",
    "        break\n",
    "    ejercicio_5(lista_nombres_alturas, nombre)\n"
   ]
  },
  {
   "cell_type": "code",
   "execution_count": 1,
   "metadata": {},
   "outputs": [
    {
     "output_type": "execute_result",
     "data": {
      "text/plain": [
       "[('Gabriel Vázquez', 1.75),\n",
       " ('Jonathan Abbondanza', 1.7),\n",
       " ('Nacho Fontal', 1.82),\n",
       " ('Javier Araiz', 1.8),\n",
       " ('Jonathan Suarez', 1.86),\n",
       " ('Sonia Cobo', 1.73),\n",
       " ('Jorge García', 1.79),\n",
       " ('Mary Meza', 1.52),\n",
       " ('Leonardo Frazzetto', 1.75),\n",
       " ('Nacho Astorga', 1.78),\n",
       " ('José Carlos Batista', 1.7),\n",
       " ('Isabel Palomares', 1.78),\n",
       " ('Marina Serrano', 1.54),\n",
       " ('Daniel Walker', 1.87),\n",
       " ('Clara Piniella', 1.66),\n",
       " ('Gina Garrido', 1.63),\n",
       " ('Adrià Gallardo', 1.7),\n",
       " ('María García-Maroto', 1.64),\n",
       " ('Susana Vázquez', 1.8),\n",
       " ('Mauro Garcia-Oliva', 1.77),\n",
       " ('Juan Bayon', 1.64),\n",
       " ('Miguel Barquero', 1.85),\n",
       " ('Borja Puig', 1.82),\n",
       " ('Pablo Martínez', 1.81),\n",
       " ('Xinru Yang', 1.6),\n",
       " ('Pablo Díez', 1.84),\n",
       " ('Karina Inche', 1.61)]"
      ]
     },
     "metadata": {},
     "execution_count": 1
    }
   ],
   "source": [
    "# La lista a usar del ejercicio 3 y 5. Recuerda añadir la tupla con tu información si no está. \n",
    "\n",
    "lista_nombres_alturas = [(\"Gabriel Vázquez\", 1.75),(\"Jonathan Abbondanza\",  1.70),(\"Nacho Fontal\", 1.82),(\"Javier Araiz\", 1.80),('Jonathan Suarez', 1.86),('Sonia Cobo', 1.73), ('Jorge García', 1.79), (\"Mary Meza\", 1.52), ('Leonardo Frazzetto', 1.75), (\"Nacho Astorga\",1.78),(\"José Carlos Batista\",1.70), (\"Isabel Palomares\", 1.78),(\"Marina Serrano\", 1.54), (\"Daniel Walker\", 1.87), (\"Clara Piniella\", 1.66), (\"Gina Garrido\", 1.63), (\"Adrià Gallardo\", 1.70), (\"María García-Maroto\", 1.64), (\"Susana Vázquez\",1.80), (\"Mauro Garcia-Oliva\", 1.77), (\"Juan Bayon\", 1.64), (\"Miguel Barquero\", 1.85), (\"Borja Puig\", 1.82), (\"Pablo Martínez\", 1.81), (\"Xinru Yang\", 1.60),(\"Pablo Díez\", 1.84),(\"Karina Inche\",1.61)]\n",
    "\n",
    "lista_nombres_alturas"
   ]
  },
  {
   "cell_type": "code",
   "execution_count": null,
   "metadata": {},
   "outputs": [],
   "source": []
  }
 ]
}