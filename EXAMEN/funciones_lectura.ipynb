{
 "metadata": {
  "language_info": {
   "codemirror_mode": {
    "name": "ipython",
    "version": 3
   },
   "file_extension": ".py",
   "mimetype": "text/x-python",
   "name": "python",
   "nbconvert_exporter": "python",
   "pygments_lexer": "ipython3",
   "version": "3.7.4"
  },
  "orig_nbformat": 2,
  "kernelspec": {
   "name": "python374jvsc74a57bd0fc2c00f0e2c44cb4028bd693f18a1b5d93d1de4cd12db71fca36ff691a163044",
   "display_name": "Python 3.7.4 64-bit"
  },
  "metadata": {
   "interpreter": {
    "hash": "fc2c00f0e2c44cb4028bd693f18a1b5d93d1de4cd12db71fca36ff691a163044"
   }
  }
 },
 "nbformat": 4,
 "nbformat_minor": 2,
 "cells": [
  {
   "cell_type": "code",
   "execution_count": 1,
   "metadata": {},
   "outputs": [
    {
     "output_type": "stream",
     "name": "stdout",
     "text": [
      "{'foo': 'one', 'bar': 'two', 'baz': 'three'}\n"
     ]
    }
   ],
   "source": [
    "seq1 = ['foo', 'bar', 'baz']\n",
    "\n",
    "seq2 = ['one', 'two', 'three']\n",
    "\n",
    "\n",
    "zipped=dict(zip(seq1,seq2))\n",
    "\n",
    "print(zipped)"
   ]
  },
  {
   "cell_type": "code",
   "execution_count": 2,
   "metadata": {},
   "outputs": [
    {
     "output_type": "stream",
     "name": "stdout",
     "text": [
      "[('foo', 'one', True), ('bar', 'two', False), ('baz', 'three', False)]\n('foo', 'bar', 'baz')\n('one', 'two', 'three')\n(True, False, False)\n"
     ]
    }
   ],
   "source": [
    "seq1 = ['foo', 'bar', 'baz']\n",
    "\n",
    "seq2 = ['one', 'two', 'three']\n",
    "\n",
    "seq3 = [True, False, False]\n",
    "\n",
    "zipped=list(zip(seq1,seq2,seq3))\n",
    "\n",
    "print(zipped)\n",
    "\n",
    "unzip, inzip,enzip = zip(*zipped)\n",
    "print(unzip)\n",
    "print(inzip)\n",
    "print(enzip)"
   ]
  },
  {
   "cell_type": "code",
   "execution_count": 3,
   "metadata": {},
   "outputs": [
    {
     "output_type": "stream",
     "name": "stdout",
     "text": [
      "one\nNone\nNone\n"
     ]
    }
   ],
   "source": [
    "# Mira a ver si está la clave y si está devuelve el valor, si no está, devuelve None por defeto\n",
    "\n",
    "some_dict = {'foo': 'one', 'bar': 'two', 'baz': 'three'}\n",
    "print(some_dict.get(\"foo\"))\n",
    "print(some_dict.get(\"hey\"))\n",
    "print(some_dict.get(\"hey\")) "
   ]
  },
  {
   "source": [
    "## setdefault"
   ],
   "cell_type": "markdown",
   "metadata": {}
  },
  {
   "cell_type": "code",
   "execution_count": 4,
   "metadata": {},
   "outputs": [
    {
     "output_type": "stream",
     "name": "stdout",
     "text": [
      "{'a': ['apple']}\n{'a': ['apple'], 'b': ['bat']}\n"
     ]
    },
    {
     "output_type": "execute_result",
     "data": {
      "text/plain": [
       "{'a': ['apple', 'atom'], 'b': ['bat', 'bar', 'book']}"
      ]
     },
     "metadata": {},
     "execution_count": 4
    }
   ],
   "source": [
    "words = ['apple', 'bat', 'bar', 'atom', 'book']\n",
    "by_letter = {}\n",
    "\n",
    "for word in words:\n",
    "    letter = word[0]\n",
    "    if letter not in by_letter:\n",
    "        by_letter[letter] = [word]\n",
    "        print(by_letter)\n",
    "    else:\n",
    "        by_letter[letter].append(word)\n",
    "\n",
    "by_letter\n",
    "   \n",
    "   "
   ]
  },
  {
   "cell_type": "code",
   "execution_count": 5,
   "metadata": {},
   "outputs": [
    {
     "output_type": "execute_result",
     "data": {
      "text/plain": [
       "{'a': ['apple', 'atom'], 'b': ['bat', 'bar', 'book']}"
      ]
     },
     "metadata": {},
     "execution_count": 5
    }
   ],
   "source": [
    "words = ['apple', 'bat', 'bar', 'atom', 'book']\n",
    "by_letter = {}\n",
    "for word in words:\n",
    "    letter = word[0]\n",
    "    by_letter.setdefault(letter, []).append(word)\n",
    "\n",
    "by_letter"
   ]
  },
  {
   "cell_type": "code",
   "execution_count": 16,
   "metadata": {},
   "outputs": [
    {
     "output_type": "stream",
     "name": "stdout",
     "text": [
      "a\n[]\n-----------------------------------------------------\ndefaultdict(<class 'list'>, {'a': []})\nb\n[]\n-----------------------------------------------------\ndefaultdict(<class 'list'>, {'a': ['apple'], 'b': []})\nb\n['bat']\n-----------------------------------------------------\ndefaultdict(<class 'list'>, {'a': ['apple'], 'b': ['bat']})\na\n['apple']\n-----------------------------------------------------\ndefaultdict(<class 'list'>, {'a': ['apple'], 'b': ['bat', 'bar']})\nb\n['bat', 'bar']\n-----------------------------------------------------\ndefaultdict(<class 'list'>, {'a': ['apple', 'atom'], 'b': ['bat', 'bar']})\n"
     ]
    },
    {
     "output_type": "execute_result",
     "data": {
      "text/plain": [
       "defaultdict(list, {'a': ['apple', 'atom'], 'b': ['bat', 'bar', 'book']})"
      ]
     },
     "metadata": {},
     "execution_count": 16
    }
   ],
   "source": [
    "from collections import defaultdict\n",
    "words = ['apple', 'bat', 'bar', 'atom', 'book']\n",
    "by_letter = {}\n",
    "by_letter = defaultdict(list)\n",
    "for word in words:\n",
    "    print(word[0])\n",
    "    print(by_letter[word[0]])\n",
    "    print(\"-----------------------------------------------------\")\n",
    "    print(by_letter)\n",
    "    by_letter[word[0]].append(word)\n",
    "\n",
    "by_letter"
   ]
  },
  {
   "source": [
    "## Function\tAlternative syntax\tDescription\n",
    "a.add(x)\tN/A\tAdd element x to the set a\n",
    "a.clear()\tN/A\tReset the set a to an empty state, discarding all of its elements\n",
    "a.remove(x)\tN/A\tRemove element x from the set a\n",
    "a.pop()\tN/A\tRemove an arbitrary element from the set a, raising KeyError if the set is empty\n",
    "a.union(b)\ta | b\tAll of the unique elements in a and b\n",
    "a.update(b)\ta |= b\tSet the contents of a to be the union of the elements in a and b\n",
    "a.intersection(b)\ta & b\tAll of the elements in both a and b\n",
    "a.intersection_update(b)\ta &= b\tSet the contents of a to be the intersection of the elements in a and b\n",
    "a.difference(b)\ta - b\tThe elements in a that are not in b\n",
    "a.difference_update(b)\ta -= b\tSet a to the elements in a that are not in b\n",
    "a.symmetric_difference(b)\ta ^ b\tAll of the elements in either a or b but not both\n",
    "a.symmetric_difference_update(b)\ta ^= b\tSet a to contain the elements in either a or b but not both\n",
    "a.issubset(b)\t<=\tTrue if the elements of a are all contained in b\n",
    "a.issuperset(b)\t>=\tTrue if the elements of b are all contained in a\n",
    "a.isdisjoint(b)\tN/A\tTrue if a and b have no elements in common"
   ],
   "cell_type": "markdown",
   "metadata": {}
  },
  {
   "cell_type": "code",
   "execution_count": 17,
   "metadata": {},
   "outputs": [],
   "source": [
    "all_data = [['John', 'Emily', 'Michael', 'Mary', 'Steven'], ['Maria', 'Juan', 'Javier', 'Natalia', 'Pilar']]"
   ]
  },
  {
   "cell_type": "code",
   "execution_count": 18,
   "metadata": {},
   "outputs": [
    {
     "output_type": "execute_result",
     "data": {
      "text/plain": [
       "['Steven']"
      ]
     },
     "metadata": {},
     "execution_count": 18
    }
   ],
   "source": [
    "names_of_interest = []\n",
    "for names in all_data:\n",
    "    enough_es = [name for name in names if name.count('e') >= 2]\n",
    "    names_of_interest.extend(enough_es)\n",
    "\n",
    "names_of_interest"
   ]
  },
  {
   "cell_type": "code",
   "execution_count": 19,
   "metadata": {},
   "outputs": [
    {
     "output_type": "execute_result",
     "data": {
      "text/plain": [
       "['Steven']"
      ]
     },
     "metadata": {},
     "execution_count": 19
    }
   ],
   "source": [
    "result = [name for names in all_data for name in names if name.count('e') >= 2]\n",
    "result"
   ]
  },
  {
   "cell_type": "code",
   "execution_count": 21,
   "metadata": {},
   "outputs": [
    {
     "output_type": "execute_result",
     "data": {
      "text/plain": [
       "(['John', 'Emily', 'Michael', 'Mary', 'Steven'],\n",
       " ['Maria', 'Juan', 'Javier', 'Natalia', 'Pilar'])"
      ]
     },
     "metadata": {},
     "execution_count": 21
    }
   ],
   "source": [
    "tup = tuple([['John', 'Emily', 'Michael', 'Mary', 'Steven'], ['Maria', 'Juan', 'Javier', 'Natalia', 'Pilar']])\n",
    "tup"
   ]
  },
  {
   "cell_type": "code",
   "execution_count": 28,
   "metadata": {},
   "outputs": [
    {
     "output_type": "execute_result",
     "data": {
      "text/plain": [
       "[('John', 'Emily', 'Michael', 'Mary', 'Steven'),\n",
       " ('Maria', 'Juan', 'Javier', 'Natalia', 'Pilar')]"
      ]
     },
     "metadata": {},
     "execution_count": 28
    }
   ],
   "source": [
    "tupl = []\n",
    "for x in tup:\n",
    "    tupl.append(tuple(x))\n",
    "\n",
    "tupl\n"
   ]
  },
  {
   "cell_type": "code",
   "execution_count": 29,
   "metadata": {},
   "outputs": [
    {
     "output_type": "execute_result",
     "data": {
      "text/plain": [
       "['Steven']"
      ]
     },
     "metadata": {},
     "execution_count": 29
    }
   ],
   "source": [
    "result = [name for names in tupl for name in names if name.count('e') >= 2]\n",
    "result"
   ]
  },
  {
   "cell_type": "code",
   "execution_count": null,
   "metadata": {},
   "outputs": [],
   "source": []
  }
 ]
}