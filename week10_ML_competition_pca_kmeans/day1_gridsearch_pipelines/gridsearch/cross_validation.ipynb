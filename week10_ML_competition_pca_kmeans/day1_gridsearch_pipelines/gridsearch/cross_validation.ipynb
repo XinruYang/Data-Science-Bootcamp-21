{
 "metadata": {
  "language_info": {
   "codemirror_mode": {
    "name": "ipython",
    "version": 3
   },
   "file_extension": ".py",
   "mimetype": "text/x-python",
   "name": "python",
   "nbconvert_exporter": "python",
   "pygments_lexer": "ipython3",
   "version": "3.7.4"
  },
  "orig_nbformat": 4,
  "kernelspec": {
   "name": "python3",
   "display_name": "Python 3.7.4 64-bit"
  },
  "interpreter": {
   "hash": "fc2c00f0e2c44cb4028bd693f18a1b5d93d1de4cd12db71fca36ff691a163044"
  }
 },
 "nbformat": 4,
 "nbformat_minor": 2,
 "cells": [
  {
   "source": [
    "## FUNCIONAMIENTO DE CROSS VALIDATION POR DENTRO"
   ],
   "cell_type": "markdown",
   "metadata": {}
  },
  {
   "cell_type": "code",
   "execution_count": 5,
   "metadata": {},
   "outputs": [],
   "source": [
    "from sklearn.model_selection import RepeatedStratifiedKFold\n",
    "import numpy as np\n",
    "from sklearn.ensemble import RandomForestClassifier"
   ]
  },
  {
   "cell_type": "code",
   "execution_count": 6,
   "metadata": {},
   "outputs": [],
   "source": [
    "X = np.array([1, 2, 3, 4, 5, 6])\n",
    "\n",
    "y = np.array([\"a\", \"b\", \"b\", \"a\", \"a\", \"b\"])\n",
    "\n",
    "cv = RepeatedStratifiedKFold(n_splits=3, n_repeats=2 # Las épocas, el nº de veces que hace algo \n",
    ", random_state=1) # Lo que va a hacer es coger datos de dos en dos, y que cada epoca tiene que acabarse en 3 iteraciones # Nunca puede ocurrir que escoja muestras con clases que se repitan, a diferencia de ReapeatedKFold. Si se puede es mejor el ReapitedStratifiedKFold. \n",
    "\n",
    "########## Epoch1 ############\n",
    "x_train = [2, 3, 4, 5]\n",
    "y_train = y = [\"b\", \"b\", \"a\", \"a\"]\n",
    "x_val1 = [1, 6]\n",
    "y_val1 = [\"a\", \"b\"]\n",
    "##############################################################\n",
    "x_train = [1, 3, 4, 6]\n",
    "y_train = y = [\"a\", \"b\", \"a\", \"b\"]\n",
    "x_val2 = [5, 2]\n",
    "y_val2 = [\"a\", \"b\"]\n",
    "##############################################################\n",
    "x_train = [1, 2, 5, 6]\n",
    "y_train = y = [\"a\", \"b\", \"a\", \"b\"]\n",
    "x_val3 = [3, 4]\n",
    "y_val3 = [\"b\", \"a\"]\n",
    "\n",
    "# la validación se hace durante el entrenamiento"
   ]
  },
  {
   "cell_type": "code",
   "execution_count": 7,
   "metadata": {},
   "outputs": [
    {
     "output_type": "stream",
     "name": "stdout",
     "text": [
      "TRAIN: [1 2 3 4] VAL [0 5]\n",
      "score_val 0.0\n",
      "TRAIN: [0 2 3 5] VAL [1 4]\n",
      "score_val 0.5\n",
      "TRAIN: [0 1 4 5] VAL [2 3]\n",
      "score_val 1.0\n",
      "TRAIN: [2 3 4 5] VAL [0 1]\n",
      "score_val 0.5\n",
      "TRAIN: [0 1 2 3] VAL [4 5]\n",
      "score_val 0.5\n",
      "TRAIN: [0 1 4 5] VAL [2 3]\n",
      "score_val 1.0\n",
      "X[train_index]: [[2]\n",
      " [3]\n",
      " [4]\n",
      " [5]]\n"
     ]
    }
   ],
   "source": [
    "# Este es el funcionamiento interno de la validación cruzada, no lo usamos\n",
    "\n",
    "# La validación es una buena práctica\n",
    "from sklearn.model_selection import RepeatedStratifiedKFold\n",
    "import numpy as np\n",
    "\n",
    "X = np.array([1, 2, 3, 4, 5, 6]).reshape(-1, 1)\n",
    "\n",
    "y = np.array([\"a\", \"b\", \"b\", \"a\", \"a\", \"b\"])\n",
    "\n",
    "rand_forest = RandomForestClassifier()\n",
    "rskf = RepeatedStratifiedKFold(n_splits=3, n_repeats=2, random_state=1)\n",
    "for train_index, val_index in rskf.split(X,y):\n",
    "    print(\"TRAIN:\", train_index, \"VAL\", val_index)\n",
    "    X_train, X_val = X[train_index], X[val_index]\n",
    "    y_train, y_val = y[train_index], y[val_index]\n",
    "    rand_forest.fit(X_train, y_train)\n",
    "    score_val = rand_forest.score(X_val, y_val)\n",
    "    print(\"score_val\", score_val)\n",
    "\n",
    "\n",
    "# Iteracion 1 \n",
    "train_index = [1, 2, 3, 4]\n",
    "val_index = [0, 5]\n",
    "\n",
    "print(\"X[train_index]:\", X[train_index])"
   ]
  },
  {
   "cell_type": "code",
   "execution_count": null,
   "metadata": {},
   "outputs": [],
   "source": []
  }
 ]
}